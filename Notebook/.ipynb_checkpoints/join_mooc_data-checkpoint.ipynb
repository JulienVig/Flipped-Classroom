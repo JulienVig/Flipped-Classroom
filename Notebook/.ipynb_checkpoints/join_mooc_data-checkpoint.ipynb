{
 "cells": [
  {
   "cell_type": "code",
   "execution_count": 25,
   "metadata": {
    "ExecuteTime": {
     "end_time": "2020-09-28T15:52:16.811570Z",
     "start_time": "2020-09-28T15:52:16.805923Z"
    }
   },
   "outputs": [],
   "source": [
    "import pandas as pd\n",
    "import datetime"
   ]
  },
  {
   "cell_type": "code",
   "execution_count": 26,
   "metadata": {
    "ExecuteTime": {
     "end_time": "2020-09-28T15:52:17.682289Z",
     "start_time": "2020-09-28T15:52:17.677696Z"
    }
   },
   "outputs": [],
   "source": [
    "year = \"2017\""
   ]
  },
  {
   "cell_type": "code",
   "execution_count": 29,
   "metadata": {
    "ExecuteTime": {
     "end_time": "2020-09-28T15:53:02.135560Z",
     "start_time": "2020-09-28T15:53:02.103078Z"
    }
   },
   "outputs": [],
   "source": [
    "PATH ='../MOOC/'+year+\"/Data/\"\n",
    "publication_url = PATH + 'publication_'+year+\".xlsx\"\n",
    "problems_url = PATH + 'problems_'+year+\".csv\"\n",
    "videos_url = PATH +'videos_'+year+\".csv\"\n",
    "\n",
    "publication_df = pd.read_excel(publication_url,dtype={'Subchapter': str, 'Publication': \"datetime64\"})\n",
    "problems_df = pd.read_csv(problems_url)\n",
    "videos_df = pd.read_csv(videos_url)\n"
   ]
  },
  {
   "cell_type": "code",
   "execution_count": 35,
   "metadata": {
    "ExecuteTime": {
     "end_time": "2020-09-28T15:54:02.387914Z",
     "start_time": "2020-09-28T15:54:02.373067Z"
    },
    "scrolled": true
   },
   "outputs": [
    {
     "data": {
      "text/plain": [
       "Chapter        int64\n",
       "Subchapter    object\n",
       "VideoID       object\n",
       "Source        object\n",
       "dtype: object"
      ]
     },
     "execution_count": 35,
     "metadata": {},
     "output_type": "execute_result"
    }
   ],
   "source": [
    "videos_df.dtypes"
   ]
  },
  {
   "cell_type": "code",
   "execution_count": 41,
   "metadata": {
    "ExecuteTime": {
     "end_time": "2020-09-28T15:59:14.155329Z",
     "start_time": "2020-09-28T15:59:14.148127Z"
    }
   },
   "outputs": [],
   "source": [
    "def merge_and_write(df, suffix):\n",
    "    dated_df = df.merge(publication_df, left_on=\"Subchapter\", right_on=\"Subchapter\")\\\n",
    "                .sort_values(by=\"Subchapter\")\n",
    "    dated_df.to_csv(PATH+suffix)"
   ]
  },
  {
   "cell_type": "code",
   "execution_count": 43,
   "metadata": {
    "ExecuteTime": {
     "end_time": "2020-09-28T15:59:39.972821Z",
     "start_time": "2020-09-28T15:59:39.944192Z"
    }
   },
   "outputs": [],
   "source": [
    "merge_and_write(videos_df,\"dated_videos.csv\")\n",
    "merge_and_write(problems_df,\"dated_problems.csv\")"
   ]
  },
  {
   "cell_type": "code",
   "execution_count": null,
   "metadata": {},
   "outputs": [],
   "source": []
  }
 ],
 "metadata": {
  "kernelspec": {
   "display_name": "Python 3",
   "language": "python",
   "name": "python3"
  },
  "language_info": {
   "codemirror_mode": {
    "name": "ipython",
    "version": 3
   },
   "file_extension": ".py",
   "mimetype": "text/x-python",
   "name": "python",
   "nbconvert_exporter": "python",
   "pygments_lexer": "ipython3",
   "version": "3.7.1"
  },
  "toc": {
   "base_numbering": 1,
   "nav_menu": {},
   "number_sections": true,
   "sideBar": true,
   "skip_h1_title": false,
   "title_cell": "Table of Contents",
   "title_sidebar": "Contents",
   "toc_cell": false,
   "toc_position": {},
   "toc_section_display": true,
   "toc_window_display": false
  }
 },
 "nbformat": 4,
 "nbformat_minor": 2
}
