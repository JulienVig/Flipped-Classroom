{
 "cells": [
  {
   "cell_type": "code",
   "execution_count": 10,
   "metadata": {
    "ExecuteTime": {
     "end_time": "2020-09-28T09:46:36.546456Z",
     "start_time": "2020-09-28T09:46:36.541298Z"
    }
   },
   "outputs": [],
   "source": [
    "import xml.etree.ElementTree as ET\n",
    "from xml.dom import minidom\n",
    "import re\n",
    "import csv"
   ]
  },
  {
   "cell_type": "code",
   "execution_count": 95,
   "metadata": {
    "ExecuteTime": {
     "end_time": "2020-09-28T11:55:32.922127Z",
     "start_time": "2020-09-28T11:55:32.914348Z"
    }
   },
   "outputs": [],
   "source": [
    "#Constants\n",
    "PATH = '../MOOC/courseware_xml/'\n",
    "ORIGIN = 'course.xml'\n",
    "\n",
    "#XML commom attributes\n",
    "URL = 'url_name'\n",
    "NAME = 'display_name'\n",
    "YT_URL = 'youtube_id_1_0'\n",
    "\n",
    "ELEM_TO_PARSE = ['course','chapter','sequential','vertical','problem','video']\n",
    "END_RECUR = ['problem','video']\n",
    "\n",
    "YT_PREFIX = \"https://www.youtube.com/watch?v=\""
   ]
  },
  {
   "cell_type": "code",
   "execution_count": 96,
   "metadata": {
    "ExecuteTime": {
     "end_time": "2020-09-28T11:55:33.413383Z",
     "start_time": "2020-09-28T11:55:33.406413Z"
    }
   },
   "outputs": [],
   "source": [
    "tree = ET.parse(PATH + ORIGIN)\n",
    "root = tree.getroot()\n"
   ]
  },
  {
   "cell_type": "code",
   "execution_count": 65,
   "metadata": {
    "ExecuteTime": {
     "end_time": "2020-09-28T11:37:46.534124Z",
     "start_time": "2020-09-28T11:37:46.526987Z"
    }
   },
   "outputs": [],
   "source": [
    "#videos = [[subchapter, url_name, youtube_url], ...]\n",
    "videos = []\n",
    "\n",
    "#problems = [[subchapter, url_name], ...]\n",
    "problems = []"
   ]
  },
  {
   "cell_type": "code",
   "execution_count": 72,
   "metadata": {
    "ExecuteTime": {
     "end_time": "2020-09-28T11:44:54.153253Z",
     "start_time": "2020-09-28T11:44:54.147398Z"
    }
   },
   "outputs": [],
   "source": [
    "\n",
    "def extract_subchapter(seq):\n",
    "    title =  seq.attrib[NAME]\n",
    "    first_word = title.split(' ')[0]\n",
    "    if re.search(\"^([0-9]*[.]?)+$\",first_word):\n",
    "        return first_word #return subchapter as a string\n",
    "    else:\n",
    "        return 0 #not a subchapter number"
   ]
  },
  {
   "cell_type": "code",
   "execution_count": 80,
   "metadata": {
    "ExecuteTime": {
     "end_time": "2020-09-28T11:46:45.341280Z",
     "start_time": "2020-09-28T11:46:45.331701Z"
    }
   },
   "outputs": [],
   "source": [
    "def read_node(tag, url, subchapter=0):\n",
    "#     print(\"{}: {}\".format(child.tag, subchapter))\n",
    "    curr_tree = ET.parse(\"{path}/{tag}/{url}.xml\".format(path=PATH, tag=tag, url=url))\n",
    "    curr_root = curr_tree.getroot()\n",
    "\n",
    "    if curr_root.tag == \"sequential\":\n",
    "        subchapter = extract_subchapter(curr_root)\n",
    "        \n",
    "    if curr_root.tag == 'video':\n",
    "        videos.append([subchapter, url,  YT_PREFIX + curr_root.attrib[YT_URL]])\n",
    "        \n",
    "    if curr_root.tag == 'problem':\n",
    "        problems.append([subchapter, url])\n",
    "        \n",
    "    if curr_root.tag not in END_RECUR: #Stop recursion on Problems and Videos\n",
    "        for child in curr_root:\n",
    "            if child.tag in ELEM_TO_PARSE: #Parse only tags of interest\n",
    "                read_node(child.tag, child.attrib[URL], subchapter)"
   ]
  },
  {
   "cell_type": "code",
   "execution_count": 101,
   "metadata": {
    "ExecuteTime": {
     "end_time": "2020-09-28T11:58:14.585316Z",
     "start_time": "2020-09-28T11:58:14.578445Z"
    }
   },
   "outputs": [],
   "source": [
    "def write_csv(videos, problems, suffix=root.attrib[URL]):\n",
    "    with open(\"videos_\"+suffix+\".csv\", \"w\", newline=\"\") as f:\n",
    "        writer = csv.writer(f)\n",
    "        writer.writerows([[\"Chapter\",\"VideoID\", \"Source\"]])\n",
    "        writer.writerows(videos)\n",
    "    with open(\"problems_\"+suffix+\".csv\", \"w\", newline=\"\") as f:\n",
    "        writer = csv.writer(f)\n",
    "        writer.writerows([[\"Chapter\",\"ProblemID\"]])\n",
    "        writer.writerows(problems)"
   ]
  },
  {
   "cell_type": "code",
   "execution_count": 102,
   "metadata": {
    "ExecuteTime": {
     "end_time": "2020-09-28T11:58:16.482415Z",
     "start_time": "2020-09-28T11:58:16.303962Z"
    }
   },
   "outputs": [],
   "source": [
    "videos = []\n",
    "problems = []\n",
    "read_node(root.tag, root.attrib[URL])\n",
    "write_csv(videos,problems)"
   ]
  },
  {
   "cell_type": "code",
   "execution_count": null,
   "metadata": {},
   "outputs": [],
   "source": []
  }
 ],
 "metadata": {
  "kernelspec": {
   "display_name": "Python 3",
   "language": "python",
   "name": "python3"
  },
  "language_info": {
   "codemirror_mode": {
    "name": "ipython",
    "version": 3
   },
   "file_extension": ".py",
   "mimetype": "text/x-python",
   "name": "python",
   "nbconvert_exporter": "python",
   "pygments_lexer": "ipython3",
   "version": "3.7.1"
  },
  "toc": {
   "base_numbering": 1,
   "nav_menu": {},
   "number_sections": true,
   "sideBar": true,
   "skip_h1_title": false,
   "title_cell": "Table of Contents",
   "title_sidebar": "Contents",
   "toc_cell": false,
   "toc_position": {},
   "toc_section_display": true,
   "toc_window_display": false
  }
 },
 "nbformat": 4,
 "nbformat_minor": 2
}
