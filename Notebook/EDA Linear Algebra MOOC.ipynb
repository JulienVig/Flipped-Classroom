{
 "cells": [
  {
   "cell_type": "code",
   "execution_count": 1,
   "metadata": {
    "ExecuteTime": {
     "end_time": "2020-09-10T12:11:25.586812Z",
     "start_time": "2020-09-10T12:11:15.935072Z"
    }
   },
   "outputs": [],
   "source": [
    "#Library imports\n",
    "\n",
    "import numpy as np\n",
    "import pandas as pd\n",
    "import matplotlib.pyplot as plt\n",
    "import seaborn as sns\n",
    "sns.set_style(\"darkgrid\")\n",
    "from datetime import datetime, timedelta"
   ]
  },
  {
   "cell_type": "code",
   "execution_count": 2,
   "metadata": {
    "ExecuteTime": {
     "end_time": "2020-09-10T12:11:25.752958Z",
     "start_time": "2020-09-10T12:11:25.589709Z"
    }
   },
   "outputs": [],
   "source": [
    "#Import local database interface \n",
    "\n",
    "import os\n",
    "import sys\n",
    "module_path = os.path.abspath(os.path.join('..'))\n",
    "if module_path not in sys.path:\n",
    "    sys.path.append(module_path)\n",
    "from Database.ca_mysqldb import MySQLConnector\n"
   ]
  },
  {
   "cell_type": "code",
   "execution_count": 3,
   "metadata": {
    "ExecuteTime": {
     "end_time": "2020-09-10T12:11:25.765404Z",
     "start_time": "2020-09-10T12:11:25.756456Z"
    }
   },
   "outputs": [],
   "source": [
    "#Wrapper function for the database interface\n",
    "\n",
    "def queryDB(query, labels):\n",
    "    db = MySQLConnector()\n",
    "    out = db.execute(query)\n",
    "    db.close()\n",
    "    return pd.DataFrame.from_records(out, columns=labels)\n",
    "\n",
    "COURSES_ID = \"('EPFL-AlgebreLineaire-2017_T3', 'EPFL-AlgebreLineaire-2018')\""
   ]
  },
  {
   "cell_type": "code",
   "execution_count": 5,
   "metadata": {
    "ExecuteTime": {
     "end_time": "2020-09-10T09:36:35.125453Z",
     "start_time": "2020-09-10T09:36:35.116859Z"
    }
   },
   "outputs": [],
   "source": [
    "# Helper function used to select columns from a table\n",
    "# Without it, it is needed to duplicate the column names for the MySQL query\n",
    "# and the from_records columns argument\n",
    "\n",
    "def selectColumns(columns, table, *args):\n",
    "    query = \"SELECT \"\n",
    "    for col in columns:\n",
    "        query += col + \", \"\n",
    "    query = query[:-2] # remove last comma\n",
    "    query += \" FROM ca_courseware.\" + table +\" \"\n",
    "    if(args):\n",
    "        query += \"LIMIT \" + str(args[0])\n",
    "\n",
    "    db = MySQLConnector()\n",
    "    out = db.execute(query)\n",
    "    db.close()\n",
    "    if \"*\" in columns:\n",
    "        return pd.DataFrame.from_records(out)\n",
    "    else:\n",
    "        return pd.DataFrame.from_records(out, columns=columns)"
   ]
  },
  {
   "cell_type": "markdown",
   "metadata": {},
   "source": [
    "## User Location\n",
    "\n",
    "Let's start by analyzing the different countries from which the MOOC has been watched over 2018 and 2019."
   ]
  },
  {
   "cell_type": "code",
   "execution_count": 6,
   "metadata": {
    "ExecuteTime": {
     "end_time": "2020-09-10T09:36:35.181278Z",
     "start_time": "2020-09-10T09:36:35.132036Z"
    },
    "scrolled": true
   },
   "outputs": [
    {
     "name": "stdout",
     "output_type": "stream",
     "text": [
      "Number of distinct countries: 72\n"
     ]
    }
   ],
   "source": [
    "query = \"\"\"\n",
    "SELECT Country, count(AccountUserID) as NumberOfUser\n",
    "FROM ca_courseware.User_Location Location\n",
    "WHERE DataPackageID in {}\n",
    "GROUP BY Country\n",
    "ORDER BY NumberOfUser DESC;\n",
    "\"\"\".format(COURSES_ID)\n",
    "\n",
    "df = queryDB(query,[\"Country\", \"Number of User\"])\n",
    "print(\"Number of distinct countries: \"+str(df.size))\n"
   ]
  },
  {
   "cell_type": "code",
   "execution_count": 7,
   "metadata": {
    "ExecuteTime": {
     "end_time": "2020-09-10T09:36:35.227469Z",
     "start_time": "2020-09-10T09:36:35.186208Z"
    },
    "scrolled": false
   },
   "outputs": [
    {
     "data": {
      "text/html": [
       "<div>\n",
       "<style scoped>\n",
       "    .dataframe tbody tr th:only-of-type {\n",
       "        vertical-align: middle;\n",
       "    }\n",
       "\n",
       "    .dataframe tbody tr th {\n",
       "        vertical-align: top;\n",
       "    }\n",
       "\n",
       "    .dataframe thead th {\n",
       "        text-align: right;\n",
       "    }\n",
       "</style>\n",
       "<table border=\"1\" class=\"dataframe\">\n",
       "  <thead>\n",
       "    <tr style=\"text-align: right;\">\n",
       "      <th></th>\n",
       "      <th>Country</th>\n",
       "      <th>Number of User</th>\n",
       "    </tr>\n",
       "  </thead>\n",
       "  <tbody>\n",
       "    <tr>\n",
       "      <th>0</th>\n",
       "      <td>Switzerland</td>\n",
       "      <td>808</td>\n",
       "    </tr>\n",
       "    <tr>\n",
       "      <th>1</th>\n",
       "      <td>France</td>\n",
       "      <td>128</td>\n",
       "    </tr>\n",
       "    <tr>\n",
       "      <th>2</th>\n",
       "      <td>Netherlands</td>\n",
       "      <td>60</td>\n",
       "    </tr>\n",
       "    <tr>\n",
       "      <th>3</th>\n",
       "      <td>United States</td>\n",
       "      <td>24</td>\n",
       "    </tr>\n",
       "    <tr>\n",
       "      <th>4</th>\n",
       "      <td>Mauritius</td>\n",
       "      <td>21</td>\n",
       "    </tr>\n",
       "    <tr>\n",
       "      <th>5</th>\n",
       "      <td>Morocco</td>\n",
       "      <td>12</td>\n",
       "    </tr>\n",
       "    <tr>\n",
       "      <th>6</th>\n",
       "      <td>United Kingdom</td>\n",
       "      <td>8</td>\n",
       "    </tr>\n",
       "    <tr>\n",
       "      <th>7</th>\n",
       "      <td>Algeria</td>\n",
       "      <td>8</td>\n",
       "    </tr>\n",
       "    <tr>\n",
       "      <th>8</th>\n",
       "      <td>Spain</td>\n",
       "      <td>5</td>\n",
       "    </tr>\n",
       "    <tr>\n",
       "      <th>9</th>\n",
       "      <td>Tunisia</td>\n",
       "      <td>5</td>\n",
       "    </tr>\n",
       "  </tbody>\n",
       "</table>\n",
       "</div>"
      ],
      "text/plain": [
       "          Country  Number of User\n",
       "0     Switzerland             808\n",
       "1          France             128\n",
       "2     Netherlands              60\n",
       "3   United States              24\n",
       "4       Mauritius              21\n",
       "5         Morocco              12\n",
       "6  United Kingdom               8\n",
       "7         Algeria               8\n",
       "8           Spain               5\n",
       "9         Tunisia               5"
      ]
     },
     "execution_count": 7,
     "metadata": {},
     "output_type": "execute_result"
    }
   ],
   "source": [
    "df.head(10)"
   ]
  },
  {
   "cell_type": "code",
   "execution_count": 8,
   "metadata": {
    "ExecuteTime": {
     "end_time": "2020-09-10T09:36:35.503416Z",
     "start_time": "2020-09-10T09:36:35.232833Z"
    }
   },
   "outputs": [
    {
     "data": {
      "text/plain": [
       "<matplotlib.axes._subplots.AxesSubplot at 0x1a19eb6898>"
      ]
     },
     "execution_count": 8,
     "metadata": {},
     "output_type": "execute_result"
    },
    {
     "data": {
      "image/png": "[encoded data removed]",
      "text/plain": [
       "<Figure size 432x288 with 1 Axes>"
      ]
     },
     "metadata": {
      "needs_background": "light"
     },
     "output_type": "display_data"
    }
   ],
   "source": [
    "df.head().plot(x = \"Country\", kind = \"bar\")"
   ]
  },
  {
   "cell_type": "markdown",
   "metadata": {},
   "source": [
    "As expected, most of the users are located in Switzerland, where EPFL is located, and in French speaking countries.\n",
    "Note that a single user can have multiple locations if he watches the MOOC from different countries.\n",
    "\n",
    "Let's now zoom out to the continent scale."
   ]
  },
  {
   "cell_type": "code",
   "execution_count": 9,
   "metadata": {
    "ExecuteTime": {
     "end_time": "2020-09-10T09:36:35.548366Z",
     "start_time": "2020-09-10T09:36:35.508816Z"
    }
   },
   "outputs": [
    {
     "data": {
      "text/html": [
       "<div>\n",
       "<style scoped>\n",
       "    .dataframe tbody tr th:only-of-type {\n",
       "        vertical-align: middle;\n",
       "    }\n",
       "\n",
       "    .dataframe tbody tr th {\n",
       "        vertical-align: top;\n",
       "    }\n",
       "\n",
       "    .dataframe thead th {\n",
       "        text-align: right;\n",
       "    }\n",
       "</style>\n",
       "<table border=\"1\" class=\"dataframe\">\n",
       "  <thead>\n",
       "    <tr style=\"text-align: right;\">\n",
       "      <th></th>\n",
       "      <th>Continent</th>\n",
       "      <th>Number of user</th>\n",
       "    </tr>\n",
       "  </thead>\n",
       "  <tbody>\n",
       "    <tr>\n",
       "      <th>0</th>\n",
       "      <td>Europe</td>\n",
       "      <td>1028</td>\n",
       "    </tr>\n",
       "    <tr>\n",
       "      <th>1</th>\n",
       "      <td>Africa</td>\n",
       "      <td>61</td>\n",
       "    </tr>\n",
       "    <tr>\n",
       "      <th>2</th>\n",
       "      <td>Americas</td>\n",
       "      <td>28</td>\n",
       "    </tr>\n",
       "    <tr>\n",
       "      <th>3</th>\n",
       "      <td>Asia</td>\n",
       "      <td>8</td>\n",
       "    </tr>\n",
       "  </tbody>\n",
       "</table>\n",
       "</div>"
      ],
      "text/plain": [
       "  Continent  Number of user\n",
       "0    Europe            1028\n",
       "1    Africa              61\n",
       "2  Americas              28\n",
       "3      Asia               8"
      ]
     },
     "execution_count": 9,
     "metadata": {},
     "output_type": "execute_result"
    }
   ],
   "source": [
    "query = \"\"\"\n",
    "SELECT Continent, count(AccountUserID) as NumberOfUser\n",
    "FROM ca_courseware.User_Location Location\n",
    "WHERE DataPackageID in {}\n",
    "GROUP BY Continent\n",
    "ORDER BY NumberOfUser DESC;\n",
    "\"\"\".format(COURSES_ID)\n",
    "\n",
    "df = queryDB(query, [\"Continent\", \"Number of user\"])\n",
    "df"
   ]
  },
  {
   "cell_type": "code",
   "execution_count": 10,
   "metadata": {
    "ExecuteTime": {
     "end_time": "2020-09-10T09:36:35.777811Z",
     "start_time": "2020-09-10T09:36:35.551497Z"
    },
    "scrolled": true
   },
   "outputs": [
    {
     "data": {
      "text/plain": [
       "<matplotlib.axes._subplots.AxesSubplot at 0x1a1a1f0fd0>"
      ]
     },
     "execution_count": 10,
     "metadata": {},
     "output_type": "execute_result"
    },
    {
     "data": {
      "image/png": "[encoded data removed]",
      "text/plain": [
       "<Figure size 432x288 with 1 Axes>"
      ]
     },
     "metadata": {
      "needs_background": "light"
     },
     "output_type": "display_data"
    }
   ],
   "source": [
    "df.plot(x=\"Continent\", kind=\"bar\")"
   ]
  },
  {
   "cell_type": "markdown",
   "metadata": {},
   "source": [
    "Not surprisingly Europe is still first. Let's notice that the African continent comes second even if the first non-european country is the United States. \n",
    "Some possible explanations:\n",
    "* Africa contains more countries\n",
    "* Africa contains more french speaking countries\n",
    "* Even if the United States is the first non-european country, it is followed closely by Morocco."
   ]
  },
  {
   "cell_type": "markdown",
   "metadata": {
    "ExecuteTime": {
     "end_time": "2020-09-04T09:58:32.211303Z",
     "start_time": "2020-09-04T09:58:32.201657Z"
    }
   },
   "source": [
    "## Video Events\n",
    "\n",
    "Let's now check the different events recorded during the videos."
   ]
  },
  {
   "cell_type": "code",
   "execution_count": 11,
   "metadata": {
    "ExecuteTime": {
     "end_time": "2020-09-10T09:36:44.684089Z",
     "start_time": "2020-09-10T09:36:35.787350Z"
    }
   },
   "outputs": [
    {
     "data": {
      "text/html": [
       "<div>\n",
       "<style scoped>\n",
       "    .dataframe tbody tr th:only-of-type {\n",
       "        vertical-align: middle;\n",
       "    }\n",
       "\n",
       "    .dataframe tbody tr th {\n",
       "        vertical-align: top;\n",
       "    }\n",
       "\n",
       "    .dataframe thead th {\n",
       "        text-align: right;\n",
       "    }\n",
       "</style>\n",
       "<table border=\"1\" class=\"dataframe\">\n",
       "  <thead>\n",
       "    <tr style=\"text-align: right;\">\n",
       "      <th></th>\n",
       "      <th>Events</th>\n",
       "      <th>Occurences</th>\n",
       "    </tr>\n",
       "  </thead>\n",
       "  <tbody>\n",
       "    <tr>\n",
       "      <th>0</th>\n",
       "      <td>Video.Play</td>\n",
       "      <td>183821</td>\n",
       "    </tr>\n",
       "    <tr>\n",
       "      <th>1</th>\n",
       "      <td>Video.Pause</td>\n",
       "      <td>134412</td>\n",
       "    </tr>\n",
       "    <tr>\n",
       "      <th>2</th>\n",
       "      <td>Video.Seek</td>\n",
       "      <td>64068</td>\n",
       "    </tr>\n",
       "    <tr>\n",
       "      <th>3</th>\n",
       "      <td>Video.Transcript.Translate.EN</td>\n",
       "      <td>33554</td>\n",
       "    </tr>\n",
       "    <tr>\n",
       "      <th>4</th>\n",
       "      <td>Video.Load</td>\n",
       "      <td>32105</td>\n",
       "    </tr>\n",
       "    <tr>\n",
       "      <th>5</th>\n",
       "      <td>Video.Stop</td>\n",
       "      <td>12990</td>\n",
       "    </tr>\n",
       "    <tr>\n",
       "      <th>6</th>\n",
       "      <td>Video.SpeedChange</td>\n",
       "      <td>4974</td>\n",
       "    </tr>\n",
       "    <tr>\n",
       "      <th>7</th>\n",
       "      <td>Video.Transcript.Hide</td>\n",
       "      <td>667</td>\n",
       "    </tr>\n",
       "    <tr>\n",
       "      <th>8</th>\n",
       "      <td>Video.Transcript.Show</td>\n",
       "      <td>379</td>\n",
       "    </tr>\n",
       "    <tr>\n",
       "      <th>9</th>\n",
       "      <td>Video.Transcript.Download</td>\n",
       "      <td>185</td>\n",
       "    </tr>\n",
       "  </tbody>\n",
       "</table>\n",
       "</div>"
      ],
      "text/plain": [
       "                          Events  Occurences\n",
       "0                     Video.Play      183821\n",
       "1                    Video.Pause      134412\n",
       "2                     Video.Seek       64068\n",
       "3  Video.Transcript.Translate.EN       33554\n",
       "4                     Video.Load       32105\n",
       "5                     Video.Stop       12990\n",
       "6              Video.SpeedChange        4974\n",
       "7          Video.Transcript.Hide         667\n",
       "8          Video.Transcript.Show         379\n",
       "9      Video.Transcript.Download         185"
      ]
     },
     "execution_count": 11,
     "metadata": {},
     "output_type": "execute_result"
    }
   ],
   "source": [
    "query =\"\"\"\n",
    "SELECT DISTINCT EventType, count(*) AS Occurences FROM ca_courseware.Video_Events\n",
    "WHERE DataPackageID in {}\n",
    "GROUP BY EventType\n",
    "ORDER BY OCCURENCES DESC\n",
    "\"\"\".format(COURSES_ID)\n",
    "df = queryDB(query, [\"Events\", \"Occurences\"])\n",
    "df"
   ]
  },
  {
   "cell_type": "markdown",
   "metadata": {},
   "source": [
    "\n",
    "Some interesting facts to look into:\n",
    "* The most usual speed change amount, do people with high grades usually slow down or speed up the video?\n",
    "* Does using the transcript helps getting better performance? Or is it the opposite?\n",
    "* Correlation between the number of times a student watched the videos and performance?\n",
    "* Does \"Pause to ponder\" help?\n",
    "\n",
    "For now let's just plot the available facts: the speed change amount, the replay amount and the process the \"pause to ponder\" event."
   ]
  },
  {
   "cell_type": "markdown",
   "metadata": {},
   "source": [
    "### Speed Change "
   ]
  },
  {
   "cell_type": "code",
   "execution_count": 12,
   "metadata": {
    "ExecuteTime": {
     "end_time": "2020-09-10T09:36:53.293025Z",
     "start_time": "2020-09-10T09:36:44.688367Z"
    }
   },
   "outputs": [
    {
     "data": {
      "text/html": [
       "<div>\n",
       "<style scoped>\n",
       "    .dataframe tbody tr th:only-of-type {\n",
       "        vertical-align: middle;\n",
       "    }\n",
       "\n",
       "    .dataframe tbody tr th {\n",
       "        vertical-align: top;\n",
       "    }\n",
       "\n",
       "    .dataframe thead th {\n",
       "        text-align: right;\n",
       "    }\n",
       "</style>\n",
       "<table border=\"1\" class=\"dataframe\">\n",
       "  <thead>\n",
       "    <tr style=\"text-align: right;\">\n",
       "      <th></th>\n",
       "      <th>SpeedChange</th>\n",
       "      <th>Occurences</th>\n",
       "      <th>OldSpeed</th>\n",
       "      <th>NewSpeed</th>\n",
       "    </tr>\n",
       "  </thead>\n",
       "  <tbody>\n",
       "    <tr>\n",
       "      <th>0</th>\n",
       "      <td>1.50</td>\n",
       "      <td>22</td>\n",
       "      <td>0.50</td>\n",
       "      <td>2.00</td>\n",
       "    </tr>\n",
       "    <tr>\n",
       "      <th>1</th>\n",
       "      <td>1.25</td>\n",
       "      <td>7</td>\n",
       "      <td>0.75</td>\n",
       "      <td>2.00</td>\n",
       "    </tr>\n",
       "    <tr>\n",
       "      <th>2</th>\n",
       "      <td>1.00</td>\n",
       "      <td>226</td>\n",
       "      <td>1.00</td>\n",
       "      <td>2.00</td>\n",
       "    </tr>\n",
       "    <tr>\n",
       "      <th>3</th>\n",
       "      <td>0.75</td>\n",
       "      <td>184</td>\n",
       "      <td>1.25</td>\n",
       "      <td>2.00</td>\n",
       "    </tr>\n",
       "    <tr>\n",
       "      <th>4</th>\n",
       "      <td>0.50</td>\n",
       "      <td>1024</td>\n",
       "      <td>0.50</td>\n",
       "      <td>1.00</td>\n",
       "    </tr>\n",
       "    <tr>\n",
       "      <th>5</th>\n",
       "      <td>0.25</td>\n",
       "      <td>1254</td>\n",
       "      <td>1.25</td>\n",
       "      <td>1.50</td>\n",
       "    </tr>\n",
       "    <tr>\n",
       "      <th>6</th>\n",
       "      <td>-0.25</td>\n",
       "      <td>924</td>\n",
       "      <td>1.25</td>\n",
       "      <td>1.00</td>\n",
       "    </tr>\n",
       "    <tr>\n",
       "      <th>7</th>\n",
       "      <td>-0.50</td>\n",
       "      <td>843</td>\n",
       "      <td>2.00</td>\n",
       "      <td>1.50</td>\n",
       "    </tr>\n",
       "    <tr>\n",
       "      <th>8</th>\n",
       "      <td>-0.75</td>\n",
       "      <td>206</td>\n",
       "      <td>2.00</td>\n",
       "      <td>1.25</td>\n",
       "    </tr>\n",
       "    <tr>\n",
       "      <th>9</th>\n",
       "      <td>-1.00</td>\n",
       "      <td>250</td>\n",
       "      <td>2.00</td>\n",
       "      <td>1.00</td>\n",
       "    </tr>\n",
       "    <tr>\n",
       "      <th>10</th>\n",
       "      <td>-1.25</td>\n",
       "      <td>8</td>\n",
       "      <td>2.00</td>\n",
       "      <td>0.75</td>\n",
       "    </tr>\n",
       "    <tr>\n",
       "      <th>11</th>\n",
       "      <td>-1.50</td>\n",
       "      <td>26</td>\n",
       "      <td>2.00</td>\n",
       "      <td>0.50</td>\n",
       "    </tr>\n",
       "  </tbody>\n",
       "</table>\n",
       "</div>"
      ],
      "text/plain": [
       "    SpeedChange  Occurences  OldSpeed  NewSpeed\n",
       "0          1.50          22      0.50      2.00\n",
       "1          1.25           7      0.75      2.00\n",
       "2          1.00         226      1.00      2.00\n",
       "3          0.75         184      1.25      2.00\n",
       "4          0.50        1024      0.50      1.00\n",
       "5          0.25        1254      1.25      1.50\n",
       "6         -0.25         924      1.25      1.00\n",
       "7         -0.50         843      2.00      1.50\n",
       "8         -0.75         206      2.00      1.25\n",
       "9         -1.00         250      2.00      1.00\n",
       "10        -1.25           8      2.00      0.75\n",
       "11        -1.50          26      2.00      0.50"
      ]
     },
     "execution_count": 12,
     "metadata": {},
     "output_type": "execute_result"
    }
   ],
   "source": [
    "query =\"\"\"\n",
    "SELECT (NewSpeed - OldSpeed) AS SpeedChange, count(*) AS Occurences, OldSpeed, NewSpeed FROM ca_courseware.Video_Events\n",
    "WHERE DataPackageID in {}\n",
    "AND OldSpeed is not null AND NewSpeed is not null\n",
    "AND OldSpeed != NewSpeed\n",
    "GROUP BY SpeedChange\n",
    "ORDER BY SpeedChange DESC\n",
    "\"\"\".format(COURSES_ID)\n",
    "df = queryDB(query, [\"SpeedChange\", \"Occurences\",\"OldSpeed\", \"NewSpeed\"])\n",
    "df"
   ]
  },
  {
   "cell_type": "code",
   "execution_count": 13,
   "metadata": {
    "ExecuteTime": {
     "end_time": "2020-09-10T09:36:53.611670Z",
     "start_time": "2020-09-10T09:36:53.296620Z"
    }
   },
   "outputs": [
    {
     "data": {
      "text/plain": [
       "<matplotlib.axes._subplots.AxesSubplot at 0x1a1a3a8390>"
      ]
     },
     "execution_count": 13,
     "metadata": {},
     "output_type": "execute_result"
    },
    {
     "data": {
      "image/png": "[encoded data removed]",
      "text/plain": [
       "<Figure size 432x288 with 1 Axes>"
      ]
     },
     "metadata": {
      "needs_background": "light"
     },
     "output_type": "display_data"
    }
   ],
   "source": [
    "df.plot(x=\"SpeedChange\", kind=\"bar\")"
   ]
  },
  {
   "cell_type": "markdown",
   "metadata": {},
   "source": [
    "### Number of videos watched and replay average\n",
    "Let's see the how many videos a student usually watch during the MOOC."
   ]
  },
  {
   "cell_type": "code",
   "execution_count": 14,
   "metadata": {
    "ExecuteTime": {
     "end_time": "2020-09-10T09:37:03.766155Z",
     "start_time": "2020-09-10T09:36:53.615141Z"
    }
   },
   "outputs": [],
   "source": [
    "query =\"\"\"\n",
    "SELECT AccountUserID, VideoID, DataPackageID, from_unixtime(TimeStamp, '%Y-%m-%d') FROM ca_courseware.Video_Events\n",
    "WHERE DataPackageID in {}\n",
    "\"\"\".format(COURSES_ID)\n",
    "df = queryDB(query, [\"AccountUserID\", \"VideoID\", \"DataPackageID\", \"TimeStamp\"])\n"
   ]
  },
  {
   "cell_type": "markdown",
   "metadata": {},
   "source": [
    "#### How many videos did each student watch?"
   ]
  },
  {
   "cell_type": "code",
   "execution_count": 15,
   "metadata": {
    "ExecuteTime": {
     "end_time": "2020-09-10T09:37:04.595390Z",
     "start_time": "2020-09-10T09:37:03.770212Z"
    },
    "scrolled": true
   },
   "outputs": [
    {
     "data": {
      "image/png": "[encoded data removed]",
      "text/plain": [
       "<Figure size 1080x360 with 2 Axes>"
      ]
     },
     "metadata": {
      "needs_background": "light"
     },
     "output_type": "display_data"
    }
   ],
   "source": [
    "fig, axes = plt.subplots(nrows=1, ncols=2, figsize=(15,5))\n",
    "\n",
    "for i in range(0,2):\n",
    "    year = '2017_T3' if i == 0 else '2018'\n",
    "    video_df = df[df[\"DataPackageID\"] == 'EPFL-AlgebreLineaire-{}'.format(year)][['AccountUserID', 'VideoID']].drop_duplicates()\n",
    "    hist = video_df.groupby('AccountUserID').count().plot(ax=axes[i], kind='hist', bins=[0, 20, 40, 60, 80, 100, 120, 140], rwidth=0.8, title=\"How many videos did each student watch in {}?\".format(year))\n",
    "    hist.axhline(video_df.VideoID.nunique(),color='r', label=\"Number of videos\",linestyle='dashed')\n",
    "    hist.set_xlabel(\"Nb of students\")\n",
    "    hist.set_ylabel(\"Videos watched\")\n",
    "    hist.legend()\n"
   ]
  },
  {
   "cell_type": "markdown",
   "metadata": {},
   "source": [
    "We can see here the repartition of students who watched a certain amount of videos in 2018 and 2019. We are counting only distinct videos, thus watching multiple times the same video doesn't increase the count.\n",
    "\n",
    "**Q:** How is possible that no student watched every video?\n",
    "\n",
    "A possible answer could be a mistake in the data interpretation"
   ]
  },
  {
   "cell_type": "markdown",
   "metadata": {},
   "source": [
    "#### How many times a video is usually replayed?"
   ]
  },
  {
   "cell_type": "code",
   "execution_count": 16,
   "metadata": {
    "ExecuteTime": {
     "end_time": "2020-09-10T09:37:04.783165Z",
     "start_time": "2020-09-10T09:37:04.599509Z"
    },
    "scrolled": true
   },
   "outputs": [
    {
     "name": "stdout",
     "output_type": "stream",
     "text": [
      "In average, a video is watched 1.35 times by students.\n"
     ]
    }
   ],
   "source": [
    "\n",
    "rewatch_count = df.drop_duplicates().pivot_table(index=['AccountUserID','VideoID'], aggfunc='size')\n",
    "print(\"In average, a video is watched {:.2f} times by students.\".format(rewatch_count.mean()))\n"
   ]
  },
  {
   "cell_type": "markdown",
   "metadata": {},
   "source": [
    "### Pause to ponder\n",
    "\n",
    "Let's call \"pause to ponder\" when a student pauses the video for a relatively small amount of time to think and ponder about the material. Let's try to find a rational time range.\n"
   ]
  },
  {
   "cell_type": "code",
   "execution_count": 17,
   "metadata": {
    "ExecuteTime": {
     "end_time": "2020-09-10T09:37:14.751017Z",
     "start_time": "2020-09-10T09:37:04.786081Z"
    }
   },
   "outputs": [],
   "source": [
    "query =\"\"\"\n",
    "SELECT AccountUserID, VideoID, from_unixtime(TimeStamp, '%Y-%m-%d %H:%i:%S'),EventType, CurrentTime FROM ca_courseware.Video_Events\n",
    "WHERE DataPackageID in {}\n",
    "AND EventType in ('Video.Play', 'Video.Pause')\n",
    "\"\"\".format(COURSES_ID)\n",
    "df = queryDB(query, [\"AccountUserID\", \"VideoID\", \"TimeStamp\", \"EventType\",\"CurrentTime\"])\n"
   ]
  },
  {
   "cell_type": "code",
   "execution_count": 18,
   "metadata": {
    "ExecuteTime": {
     "end_time": "2020-09-10T09:37:14.777430Z",
     "start_time": "2020-09-10T09:37:14.753419Z"
    },
    "scrolled": true
   },
   "outputs": [
    {
     "data": {
      "text/html": [
       "<div>\n",
       "<style scoped>\n",
       "    .dataframe tbody tr th:only-of-type {\n",
       "        vertical-align: middle;\n",
       "    }\n",
       "\n",
       "    .dataframe tbody tr th {\n",
       "        vertical-align: top;\n",
       "    }\n",
       "\n",
       "    .dataframe thead th {\n",
       "        text-align: right;\n",
       "    }\n",
       "</style>\n",
       "<table border=\"1\" class=\"dataframe\">\n",
       "  <thead>\n",
       "    <tr style=\"text-align: right;\">\n",
       "      <th></th>\n",
       "      <th>AccountUserID</th>\n",
       "      <th>VideoID</th>\n",
       "      <th>TimeStamp</th>\n",
       "      <th>EventType</th>\n",
       "      <th>CurrentTime</th>\n",
       "    </tr>\n",
       "  </thead>\n",
       "  <tbody>\n",
       "    <tr>\n",
       "      <th>0</th>\n",
       "      <td>9893</td>\n",
       "      <td>4d31551afe0e437e9efb0de334c8267c</td>\n",
       "      <td>2017-11-01 17:52:03</td>\n",
       "      <td>Video.Play</td>\n",
       "      <td>184.694</td>\n",
       "    </tr>\n",
       "    <tr>\n",
       "      <th>1</th>\n",
       "      <td>9914</td>\n",
       "      <td>a48d8f0bbac04689a88f8b06cf53154e</td>\n",
       "      <td>2017-10-23 16:44:50</td>\n",
       "      <td>Video.Play</td>\n",
       "      <td>603.000</td>\n",
       "    </tr>\n",
       "    <tr>\n",
       "      <th>2</th>\n",
       "      <td>12494</td>\n",
       "      <td>7ad7b082ef9149f280e3d7b9be2aa348</td>\n",
       "      <td>2017-11-10 16:51:42</td>\n",
       "      <td>Video.Play</td>\n",
       "      <td>202.526</td>\n",
       "    </tr>\n",
       "    <tr>\n",
       "      <th>3</th>\n",
       "      <td>9923</td>\n",
       "      <td>cea9957b2f57401bbb75e15230dfaadc</td>\n",
       "      <td>2017-11-14 18:59:06</td>\n",
       "      <td>Video.Play</td>\n",
       "      <td>613.206</td>\n",
       "    </tr>\n",
       "    <tr>\n",
       "      <th>4</th>\n",
       "      <td>9950</td>\n",
       "      <td>eea23d4f240749cab1f65b449e21df1e</td>\n",
       "      <td>2017-11-30 18:38:24</td>\n",
       "      <td>Video.Play</td>\n",
       "      <td>331.000</td>\n",
       "    </tr>\n",
       "  </tbody>\n",
       "</table>\n",
       "</div>"
      ],
      "text/plain": [
       "  AccountUserID                           VideoID            TimeStamp  \\\n",
       "0          9893  4d31551afe0e437e9efb0de334c8267c  2017-11-01 17:52:03   \n",
       "1          9914  a48d8f0bbac04689a88f8b06cf53154e  2017-10-23 16:44:50   \n",
       "2         12494  7ad7b082ef9149f280e3d7b9be2aa348  2017-11-10 16:51:42   \n",
       "3          9923  cea9957b2f57401bbb75e15230dfaadc  2017-11-14 18:59:06   \n",
       "4          9950  eea23d4f240749cab1f65b449e21df1e  2017-11-30 18:38:24   \n",
       "\n",
       "    EventType  CurrentTime  \n",
       "0  Video.Play      184.694  \n",
       "1  Video.Play      603.000  \n",
       "2  Video.Play      202.526  \n",
       "3  Video.Play      613.206  \n",
       "4  Video.Play      331.000  "
      ]
     },
     "execution_count": 18,
     "metadata": {},
     "output_type": "execute_result"
    }
   ],
   "source": [
    "df.head()"
   ]
  },
  {
   "cell_type": "markdown",
   "metadata": {},
   "source": [
    "Let's convert string dates to datetime objects to make date comparison easier:"
   ]
  },
  {
   "cell_type": "code",
   "execution_count": 19,
   "metadata": {
    "ExecuteTime": {
     "end_time": "2020-09-10T09:37:18.601254Z",
     "start_time": "2020-09-10T09:37:14.790464Z"
    }
   },
   "outputs": [],
   "source": [
    "\n",
    "pause_df = df.copy()\n",
    "pause_df['TimeStamp'] = pause_df['TimeStamp'].apply(lambda date: datetime.strptime(date, \"%Y-%m-%d %H:%M:%S\")) \n",
    "pause_df = pause_df.sort_values(by=\"TimeStamp\", ascending=False)\n"
   ]
  },
  {
   "cell_type": "code",
   "execution_count": 20,
   "metadata": {
    "ExecuteTime": {
     "end_time": "2020-09-10T09:37:18.645638Z",
     "start_time": "2020-09-10T09:37:18.604991Z"
    }
   },
   "outputs": [
    {
     "data": {
      "text/html": [
       "<div>\n",
       "<style scoped>\n",
       "    .dataframe tbody tr th:only-of-type {\n",
       "        vertical-align: middle;\n",
       "    }\n",
       "\n",
       "    .dataframe tbody tr th {\n",
       "        vertical-align: top;\n",
       "    }\n",
       "\n",
       "    .dataframe thead th {\n",
       "        text-align: right;\n",
       "    }\n",
       "</style>\n",
       "<table border=\"1\" class=\"dataframe\">\n",
       "  <thead>\n",
       "    <tr style=\"text-align: right;\">\n",
       "      <th></th>\n",
       "      <th>AccountUserID</th>\n",
       "      <th>VideoID</th>\n",
       "      <th>TimeStamp</th>\n",
       "      <th>EventType</th>\n",
       "      <th>CurrentTime</th>\n",
       "    </tr>\n",
       "  </thead>\n",
       "  <tbody>\n",
       "    <tr>\n",
       "      <th>284798</th>\n",
       "      <td>46440</td>\n",
       "      <td>8a949761e19248f7b4fcd08d136b0a53</td>\n",
       "      <td>2020-02-15 12:37:01</td>\n",
       "      <td>Video.Play</td>\n",
       "      <td>755.535</td>\n",
       "    </tr>\n",
       "    <tr>\n",
       "      <th>152559</th>\n",
       "      <td>46440</td>\n",
       "      <td>8a949761e19248f7b4fcd08d136b0a53</td>\n",
       "      <td>2020-02-15 12:34:13</td>\n",
       "      <td>Video.Pause</td>\n",
       "      <td>755.471</td>\n",
       "    </tr>\n",
       "    <tr>\n",
       "      <th>300766</th>\n",
       "      <td>46440</td>\n",
       "      <td>8a949761e19248f7b4fcd08d136b0a53</td>\n",
       "      <td>2020-02-15 12:34:09</td>\n",
       "      <td>Video.Play</td>\n",
       "      <td>751.018</td>\n",
       "    </tr>\n",
       "    <tr>\n",
       "      <th>201398</th>\n",
       "      <td>46440</td>\n",
       "      <td>8a949761e19248f7b4fcd08d136b0a53</td>\n",
       "      <td>2020-02-14 16:58:55</td>\n",
       "      <td>Video.Pause</td>\n",
       "      <td>750.990</td>\n",
       "    </tr>\n",
       "    <tr>\n",
       "      <th>173737</th>\n",
       "      <td>46440</td>\n",
       "      <td>8a949761e19248f7b4fcd08d136b0a53</td>\n",
       "      <td>2020-02-14 16:58:14</td>\n",
       "      <td>Video.Play</td>\n",
       "      <td>710.556</td>\n",
       "    </tr>\n",
       "    <tr>\n",
       "      <th>123525</th>\n",
       "      <td>46440</td>\n",
       "      <td>8a949761e19248f7b4fcd08d136b0a53</td>\n",
       "      <td>2020-02-14 16:57:27</td>\n",
       "      <td>Video.Pause</td>\n",
       "      <td>710.529</td>\n",
       "    </tr>\n",
       "    <tr>\n",
       "      <th>288413</th>\n",
       "      <td>46440</td>\n",
       "      <td>8a949761e19248f7b4fcd08d136b0a53</td>\n",
       "      <td>2020-02-14 16:55:07</td>\n",
       "      <td>Video.Play</td>\n",
       "      <td>571.720</td>\n",
       "    </tr>\n",
       "    <tr>\n",
       "      <th>138827</th>\n",
       "      <td>46440</td>\n",
       "      <td>8a949761e19248f7b4fcd08d136b0a53</td>\n",
       "      <td>2020-02-14 16:55:01</td>\n",
       "      <td>Video.Pause</td>\n",
       "      <td>571.817</td>\n",
       "    </tr>\n",
       "    <tr>\n",
       "      <th>268193</th>\n",
       "      <td>46440</td>\n",
       "      <td>8a949761e19248f7b4fcd08d136b0a53</td>\n",
       "      <td>2020-02-14 16:54:30</td>\n",
       "      <td>Video.Play</td>\n",
       "      <td>540.907</td>\n",
       "    </tr>\n",
       "    <tr>\n",
       "      <th>140445</th>\n",
       "      <td>46440</td>\n",
       "      <td>8a949761e19248f7b4fcd08d136b0a53</td>\n",
       "      <td>2020-02-14 16:54:15</td>\n",
       "      <td>Video.Pause</td>\n",
       "      <td>540.868</td>\n",
       "    </tr>\n",
       "  </tbody>\n",
       "</table>\n",
       "</div>"
      ],
      "text/plain": [
       "       AccountUserID                           VideoID           TimeStamp  \\\n",
       "284798         46440  8a949761e19248f7b4fcd08d136b0a53 2020-02-15 12:37:01   \n",
       "152559         46440  8a949761e19248f7b4fcd08d136b0a53 2020-02-15 12:34:13   \n",
       "300766         46440  8a949761e19248f7b4fcd08d136b0a53 2020-02-15 12:34:09   \n",
       "201398         46440  8a949761e19248f7b4fcd08d136b0a53 2020-02-14 16:58:55   \n",
       "173737         46440  8a949761e19248f7b4fcd08d136b0a53 2020-02-14 16:58:14   \n",
       "123525         46440  8a949761e19248f7b4fcd08d136b0a53 2020-02-14 16:57:27   \n",
       "288413         46440  8a949761e19248f7b4fcd08d136b0a53 2020-02-14 16:55:07   \n",
       "138827         46440  8a949761e19248f7b4fcd08d136b0a53 2020-02-14 16:55:01   \n",
       "268193         46440  8a949761e19248f7b4fcd08d136b0a53 2020-02-14 16:54:30   \n",
       "140445         46440  8a949761e19248f7b4fcd08d136b0a53 2020-02-14 16:54:15   \n",
       "\n",
       "          EventType  CurrentTime  \n",
       "284798   Video.Play      755.535  \n",
       "152559  Video.Pause      755.471  \n",
       "300766   Video.Play      751.018  \n",
       "201398  Video.Pause      750.990  \n",
       "173737   Video.Play      710.556  \n",
       "123525  Video.Pause      710.529  \n",
       "288413   Video.Play      571.720  \n",
       "138827  Video.Pause      571.817  \n",
       "268193   Video.Play      540.907  \n",
       "140445  Video.Pause      540.868  "
      ]
     },
     "execution_count": 20,
     "metadata": {},
     "output_type": "execute_result"
    }
   ],
   "source": [
    "pause_df.head(10)"
   ]
  },
  {
   "cell_type": "markdown",
   "metadata": {},
   "source": [
    "We now have to create a new column with the time duration of the pause for each Pause event. We know that a pause event is followed by a play event. By sorting the events in a descending order (opposite of chronological), we know that a play is always followed by a pause. Thus, we can compute the pause duration: previous play timestamp - current pause timestamp."
   ]
  },
  {
   "cell_type": "code",
   "execution_count": 21,
   "metadata": {
    "ExecuteTime": {
     "end_time": "2020-09-10T09:37:18.673072Z",
     "start_time": "2020-09-10T09:37:18.648472Z"
    }
   },
   "outputs": [
    {
     "name": "stdout",
     "output_type": "stream",
     "text": [
      "The initial value of prev_ts is 2020-02-15 12:37:01\n"
     ]
    }
   ],
   "source": [
    "# The previous play timestamp is saved in the global variable prev_ts\n",
    "# The function computes the time difference between the current pause event \n",
    "# and the previously saved play timestamp\n",
    "# If the event is a play, we save its timestamp and return NaN\n",
    "# otherwise it is a pause and we compute the pause duration\n",
    "def compute_duration(event, ts):\n",
    "    global prev_ts\n",
    "    temp = prev_ts\n",
    "\n",
    "    if event  == 'Video.Play':\n",
    "        prev_ts = ts\n",
    "        return np.nan\n",
    "    else : \n",
    "        return temp - ts\n",
    "#The initial value of prev_ts is the first value of the sorted table \n",
    "# so that in case the table it starts with a Pause event (i.e. the user left the video during a pause)\n",
    "# the pause duration is 0\n",
    "prev_ts = pause_df.iloc[0,2]\n",
    "print(\"The initial value of prev_ts is {}\".format(prev_ts))"
   ]
  },
  {
   "cell_type": "code",
   "execution_count": 22,
   "metadata": {
    "ExecuteTime": {
     "end_time": "2020-09-10T09:37:30.350841Z",
     "start_time": "2020-09-10T09:37:18.675968Z"
    },
    "scrolled": false
   },
   "outputs": [],
   "source": [
    "\n",
    "#Create the column PauseDuration by applying the compute_duration function on each row\n",
    "pause_df['PauseDuration'] = pause_df.apply(lambda x:compute_duration(x['EventType'],x['TimeStamp']), axis=1)\n",
    "#Filter out NaT values, i.e Play events\n",
    "pause_df.dropna(subset=['PauseDuration'], inplace=True) \n",
    "#Only keep pause duration time ranging from 0 to 20 minutes to exclude the actual breaks or when the user leave the video on pause\n",
    "pause_df = pause_df[(pause_df['PauseDuration'] > timedelta(seconds=0)) &(pause_df['PauseDuration'] < timedelta(minutes=20))]\n"
   ]
  },
  {
   "cell_type": "code",
   "execution_count": 23,
   "metadata": {
    "ExecuteTime": {
     "end_time": "2020-09-10T09:37:30.370738Z",
     "start_time": "2020-09-10T09:37:30.353333Z"
    },
    "scrolled": true
   },
   "outputs": [
    {
     "data": {
      "text/html": [
       "<div>\n",
       "<style scoped>\n",
       "    .dataframe tbody tr th:only-of-type {\n",
       "        vertical-align: middle;\n",
       "    }\n",
       "\n",
       "    .dataframe tbody tr th {\n",
       "        vertical-align: top;\n",
       "    }\n",
       "\n",
       "    .dataframe thead th {\n",
       "        text-align: right;\n",
       "    }\n",
       "</style>\n",
       "<table border=\"1\" class=\"dataframe\">\n",
       "  <thead>\n",
       "    <tr style=\"text-align: right;\">\n",
       "      <th></th>\n",
       "      <th>AccountUserID</th>\n",
       "      <th>VideoID</th>\n",
       "      <th>TimeStamp</th>\n",
       "      <th>EventType</th>\n",
       "      <th>CurrentTime</th>\n",
       "      <th>PauseDuration</th>\n",
       "    </tr>\n",
       "  </thead>\n",
       "  <tbody>\n",
       "    <tr>\n",
       "      <th>152559</th>\n",
       "      <td>46440</td>\n",
       "      <td>8a949761e19248f7b4fcd08d136b0a53</td>\n",
       "      <td>2020-02-15 12:34:13</td>\n",
       "      <td>Video.Pause</td>\n",
       "      <td>755.471</td>\n",
       "      <td>00:02:48</td>\n",
       "    </tr>\n",
       "    <tr>\n",
       "      <th>123525</th>\n",
       "      <td>46440</td>\n",
       "      <td>8a949761e19248f7b4fcd08d136b0a53</td>\n",
       "      <td>2020-02-14 16:57:27</td>\n",
       "      <td>Video.Pause</td>\n",
       "      <td>710.529</td>\n",
       "      <td>00:00:47</td>\n",
       "    </tr>\n",
       "    <tr>\n",
       "      <th>138827</th>\n",
       "      <td>46440</td>\n",
       "      <td>8a949761e19248f7b4fcd08d136b0a53</td>\n",
       "      <td>2020-02-14 16:55:01</td>\n",
       "      <td>Video.Pause</td>\n",
       "      <td>571.817</td>\n",
       "      <td>00:00:06</td>\n",
       "    </tr>\n",
       "    <tr>\n",
       "      <th>140445</th>\n",
       "      <td>46440</td>\n",
       "      <td>8a949761e19248f7b4fcd08d136b0a53</td>\n",
       "      <td>2020-02-14 16:54:15</td>\n",
       "      <td>Video.Pause</td>\n",
       "      <td>540.868</td>\n",
       "      <td>00:00:15</td>\n",
       "    </tr>\n",
       "    <tr>\n",
       "      <th>112046</th>\n",
       "      <td>46440</td>\n",
       "      <td>8a949761e19248f7b4fcd08d136b0a53</td>\n",
       "      <td>2020-02-14 16:53:20</td>\n",
       "      <td>Video.Pause</td>\n",
       "      <td>522.781</td>\n",
       "      <td>00:00:36</td>\n",
       "    </tr>\n",
       "  </tbody>\n",
       "</table>\n",
       "</div>"
      ],
      "text/plain": [
       "       AccountUserID                           VideoID           TimeStamp  \\\n",
       "152559         46440  8a949761e19248f7b4fcd08d136b0a53 2020-02-15 12:34:13   \n",
       "123525         46440  8a949761e19248f7b4fcd08d136b0a53 2020-02-14 16:57:27   \n",
       "138827         46440  8a949761e19248f7b4fcd08d136b0a53 2020-02-14 16:55:01   \n",
       "140445         46440  8a949761e19248f7b4fcd08d136b0a53 2020-02-14 16:54:15   \n",
       "112046         46440  8a949761e19248f7b4fcd08d136b0a53 2020-02-14 16:53:20   \n",
       "\n",
       "          EventType  CurrentTime PauseDuration  \n",
       "152559  Video.Pause      755.471      00:02:48  \n",
       "123525  Video.Pause      710.529      00:00:47  \n",
       "138827  Video.Pause      571.817      00:00:06  \n",
       "140445  Video.Pause      540.868      00:00:15  \n",
       "112046  Video.Pause      522.781      00:00:36  "
      ]
     },
     "execution_count": 23,
     "metadata": {},
     "output_type": "execute_result"
    }
   ],
   "source": [
    "pause_df.head()"
   ]
  },
  {
   "cell_type": "code",
   "execution_count": 24,
   "metadata": {
    "ExecuteTime": {
     "end_time": "2020-09-10T09:37:32.193466Z",
     "start_time": "2020-09-10T09:37:30.376857Z"
    },
    "scrolled": false
   },
   "outputs": [
    {
     "data": {
      "text/plain": [
       "count    125595.000000\n",
       "mean          0.590362\n",
       "std           1.405603\n",
       "min           0.016667\n",
       "25%           0.083333\n",
       "50%           0.216667\n",
       "75%           0.533333\n",
       "max          19.966667\n",
       "Name: PauseDuration, dtype: float64"
      ]
     },
     "execution_count": 24,
     "metadata": {},
     "output_type": "execute_result"
    },
    {
     "data": {
      "image/png": "[encoded data removed]",
      "text/plain": [
       "<Figure size 432x288 with 1 Axes>"
      ]
     },
     "metadata": {
      "needs_background": "light"
     },
     "output_type": "display_data"
    }
   ],
   "source": [
    "#Convert timedelta to int\n",
    "hist_df = pause_df['PauseDuration'].apply(lambda x: x.seconds/60)\n",
    "hist = hist_df.groupby(pause_df['PauseDuration']).count().plot( kind='hist', bins=[0, 2.5, 5,7.5,10,12.5,15,17.5,20], rwidth=0.8, title=\"Repartition of pause durations\")\n",
    "hist.set_xlabel(\"Duration in minutes\")\n",
    "hist.set_ylabel(\"Number of pause\");\n",
    "hist_df.describe()"
   ]
  },
  {
   "cell_type": "markdown",
   "metadata": {},
   "source": [
    "### Pause counts\n",
    "\n",
    "Counting the number of pauses made by a student while watching a video is a feature of their behavior. A large amount of pauses may be associated with attention or difficulties to understand the material while little pauses may illustrate ease or poor attention."
   ]
  },
  {
   "cell_type": "markdown",
   "metadata": {},
   "source": [
    "## Regularity\n",
    "\n",
    "Let's focus on the regularity with which the students watch the MOOC. From a week, day and hour perspectives, when do the students usually watch the videos? Are there any pattern linked to performance?\n",
    "\n",
    "Reference: <a href=\"https://rdcu.be/b6VLF\">How to Quantify Student's Regularity?</a>\n"
   ]
  },
  {
   "cell_type": "code",
   "execution_count": 102,
   "metadata": {
    "ExecuteTime": {
     "end_time": "2020-09-10T13:48:40.297587Z",
     "start_time": "2020-09-10T13:48:31.157831Z"
    }
   },
   "outputs": [],
   "source": [
    "\n",
    "query =\"\"\"\n",
    "SELECT AccountUserID, VideoID, from_unixtime(TimeStamp, '%Y-%m-%d') as Day, from_unixtime(TimeStamp, '%H') as Hour \n",
    "FROM ca_courseware.Video_Events\n",
    "WHERE DataPackageID in {}\n",
    "AND EventType='Video.Play'\n",
    "AND CurrentTime < 1\n",
    "GROUP BY AccountUserID, VideoID, Day\n",
    "\"\"\".format(COURSES_ID)\n",
    "df = queryDB(query, [\"AccountUserID\", \"VideoID\", \"Day\", \"Hour\"])\n",
    "\n"
   ]
  },
  {
   "cell_type": "code",
   "execution_count": 217,
   "metadata": {
    "ExecuteTime": {
     "end_time": "2020-09-10T14:58:05.455365Z",
     "start_time": "2020-09-10T14:58:05.225017Z"
    }
   },
   "outputs": [],
   "source": [
    "def string_to_datetime(ts):\n",
    "    return datetime.strptime(ts, '%Y-%m-%d')\n",
    "\n",
    "def datetime_to_week(dt):\n",
    "    return dt.strftime('%W')\n",
    "\n",
    "def drop_date_outsiders(series, start_date, end_date):\n",
    "    start_dt = string_to_datetime(start_date)\n",
    "    end_dt = string_to_datetime(end_date)\n",
    "    return series[(series >= start_dt) & (series <= end_dt)]\n",
    "\n",
    "def order_week(series, start_date):\n",
    "    start_week = int(datetime_to_week(string_to_datetime(start_date)))\n",
    "    last_week = int(series.max())\n",
    "    return series.apply(lambda w: str((int(w) - start_week) %last_week))\n",
    "\n",
    "\n",
    "def processYear(series, start_date, end_date):\n",
    "    series = series.apply(string_to_datetime)\n",
    "    series = drop_date_outsiders(series, start_date, end_date)\n",
    "    series = series.apply(datetime_to_week)\n",
    "    return order_week(series,start_date).sort_values()\n",
    "    "
   ]
  },
  {
   "cell_type": "code",
   "execution_count": 233,
   "metadata": {
    "ExecuteTime": {
     "end_time": "2020-09-10T15:11:28.247110Z",
     "start_time": "2020-09-10T15:11:26.899042Z"
    }
   },
   "outputs": [
    {
     "data": {
      "image/png": "[encoded data removed]",
      "text/plain": [
       "<Figure size 1080x720 with 2 Axes>"
      ]
     },
     "metadata": {},
     "output_type": "display_data"
    }
   ],
   "source": [
    "fig, axes = plt.subplots(nrows=2, ncols=1, figsize=(15,10))\n",
    "\n",
    "for i in range(0,2):\n",
    "    start_date = '2017-10-12' if(i == 0) else '2018-09-17'\n",
    "    end_date = '2018-01-28' if(i==0) else '2019-01-28'\n",
    "    course_df = df[['Day','AccountUserID']].copy()\n",
    "    course_df['Week'] = processYear(course_df['Day'], start_date, end_date)\n",
    "    course_df = course_df.dropna().sort_values(by=\"Day\");\n",
    "#     plt.figure(figsize=(15,5))\n",
    "    chart = sns.histplot(ax=axes[i], data=course_df,x=\"Week\", kde=True, palette=\"crest\");\n",
    "    chart.set_title(\"Number of video viewings per week during \"+('2017' if(i==0) else '2018'))"
   ]
  },
  {
   "cell_type": "markdown",
   "metadata": {},
   "source": [
    "### Weekdays repartition\n",
    "Before diving into the features recommended by Boroujeni et al. let's explore the time repartition of the viewings over the week and the day. Let's define a video viewing as the event Video.Play occurring before the first second of the video. Only one viewing per day is taken into account."
   ]
  },
  {
   "cell_type": "code",
   "execution_count": 6,
   "metadata": {
    "ExecuteTime": {
     "end_time": "2020-09-10T12:11:40.856037Z",
     "start_time": "2020-09-10T12:11:40.578291Z"
    }
   },
   "outputs": [],
   "source": [
    "#Converts a string date to the corresponding day of the week\n",
    "def string_to_day(ts):\n",
    "    return datetime.strptime(ts, '%Y-%m-%d').strftime('%A')\n",
    "\n",
    "week_df = df[['Day','AccountUserID']].copy()\n",
    "week_df[\"Day\"] = week_df['Day'].apply(string_to_day)\n"
   ]
  },
  {
   "cell_type": "code",
   "execution_count": 50,
   "metadata": {
    "ExecuteTime": {
     "end_time": "2020-09-10T13:05:11.774382Z",
     "start_time": "2020-09-10T13:05:11.531401Z"
    },
    "scrolled": false
   },
   "outputs": [
    {
     "data": {
      "image/png": "[encoded data removed]",
      "text/plain": [
       "<Figure size 432x288 with 1 Axes>"
      ]
     },
     "metadata": {},
     "output_type": "display_data"
    }
   ],
   "source": [
    "days = ['Monday', 'Tuesday', 'Wednesday', 'Thursday', 'Friday', 'Saturday', 'Sunday']\n",
    "\n",
    "chart = sns.countplot(data=week_df, x=\"Day\", order=days, palette=\"crest\");\n",
    "chart.set_xticklabels(chart.get_xticklabels(), rotation=45, horizontalalignment='right', fontweight='light', fontsize='x-large');"
   ]
  },
  {
   "cell_type": "markdown",
   "metadata": {},
   "source": [
    "**Comment:** The peak days are Monday and the weekend. The latter is not surprising since it is when the students have the most time to dedicate. An hypothesis for the large amount of viewings on Monday is that the videos are released on Monday or that come quiz takes place around that day."
   ]
  },
  {
   "cell_type": "markdown",
   "metadata": {},
   "source": [
    "### Hours repartition"
   ]
  },
  {
   "cell_type": "code",
   "execution_count": 42,
   "metadata": {
    "ExecuteTime": {
     "end_time": "2020-09-10T12:34:29.647391Z",
     "start_time": "2020-09-10T12:34:29.183380Z"
    },
    "scrolled": false
   },
   "outputs": [
    {
     "data": {
      "image/png": "[encoded data removed]",
      "text/plain": [
       "<Figure size 432x288 with 1 Axes>"
      ]
     },
     "metadata": {},
     "output_type": "display_data"
    }
   ],
   "source": [
    "\n",
    "sns.histplot(data=df[['Hour', 'AccountUserID']].sort_values(by=\"Hour\"),x=\"Hour\", kde=True);"
   ]
  },
  {
   "cell_type": "code",
   "execution_count": null,
   "metadata": {},
   "outputs": [],
   "source": []
  }
 ],
 "metadata": {
  "kernelspec": {
   "display_name": "Python 3",
   "language": "python",
   "name": "python3"
  },
  "language_info": {
   "codemirror_mode": {
    "name": "ipython",
    "version": 3
   },
   "file_extension": ".py",
   "mimetype": "text/x-python",
   "name": "python",
   "nbconvert_exporter": "python",
   "pygments_lexer": "ipython3",
   "version": "3.7.1"
  },
  "toc": {
   "base_numbering": 1,
   "nav_menu": {},
   "number_sections": true,
   "sideBar": true,
   "skip_h1_title": false,
   "title_cell": "Table of Contents",
   "title_sidebar": "Contents",
   "toc_cell": false,
   "toc_position": {},
   "toc_section_display": true,
   "toc_window_display": false
  }
 },
 "nbformat": 4,
 "nbformat_minor": 2
}
