{
 "cells": [
  {
   "cell_type": "code",
   "execution_count": 1,
   "metadata": {
    "ExecuteTime": {
     "end_time": "2020-09-22T11:03:54.609953Z",
     "start_time": "2020-09-22T11:03:44.048735Z"
    }
   },
   "outputs": [],
   "source": [
    "#Library imports\n",
    "\n",
    "import numpy as np\n",
    "import pandas as pd\n",
    "import matplotlib.pyplot as plt\n",
    "import seaborn as sns\n",
    "sns.set_style(\"darkgrid\")\n",
    "from datetime import datetime, timedelta, date\n",
    "import time"
   ]
  },
  {
   "cell_type": "code",
   "execution_count": 2,
   "metadata": {
    "ExecuteTime": {
     "end_time": "2020-09-22T11:03:54.791417Z",
     "start_time": "2020-09-22T11:03:54.615425Z"
    }
   },
   "outputs": [],
   "source": [
    "#Import local database interface \n",
    "\n",
    "import os\n",
    "import sys\n",
    "module_path = os.path.abspath(os.path.join('..'))\n",
    "if module_path not in sys.path:\n",
    "    sys.path.append(module_path)\n",
    "from Database.ca_mysqldb import MySQLConnector\n",
    "\n"
   ]
  },
  {
   "cell_type": "code",
   "execution_count": 3,
   "metadata": {
    "ExecuteTime": {
     "end_time": "2020-09-22T11:03:54.799995Z",
     "start_time": "2020-09-22T11:03:54.793794Z"
    }
   },
   "outputs": [],
   "source": [
    "#Wrapper function for the database interface\n",
    "\n",
    "def queryDB(query, labels):\n",
    "    db = MySQLConnector()\n",
    "    out = db.execute(query)\n",
    "    db.close()\n",
    "    return pd.DataFrame.from_records(out, columns=labels)\n",
    "\n"
   ]
  },
  {
   "cell_type": "markdown",
   "metadata": {},
   "source": [
    "## Preprocessing"
   ]
  },
  {
   "cell_type": "code",
   "execution_count": 4,
   "metadata": {
    "ExecuteTime": {
     "end_time": "2020-09-22T11:04:27.969149Z",
     "start_time": "2020-09-22T11:03:54.808762Z"
    }
   },
   "outputs": [],
   "source": [
    "#Constants\n",
    "COURSES_ID = \"('EPFL-AlgebreLineaire-2017_T3', 'EPFL-AlgebreLineaire-2018')\"\n",
    "StudentID = 'AccountUserID'\n",
    "Year = 'Year'\n",
    "year1 = '2017'\n",
    "year2= '2018'\n",
    "Source = 'VideoID'\n",
    "\n",
    "columns = [\"AccountUserID\", \"DataPackageID\",\"VideoID\", \"TimeStamp\", \"EventType\", \"SeekType\", \n",
    "             \"OldTime\", \"CurrentTime\", \"NewTime\", \"OldSpeed\", \"NewSpeed\"]\n",
    "query =\"\"\"\n",
    "SELECT {}\n",
    "FROM ca_courseware.Video_Events\n",
    "WHERE DataPackageID in {}\n",
    "\"\"\".format(\", \".join(columns), COURSES_ID)\n",
    "df = queryDB(query, columns)\n"
   ]
  },
  {
   "cell_type": "markdown",
   "metadata": {},
   "source": [
    "### Create year column"
   ]
  },
  {
   "cell_type": "code",
   "execution_count": 5,
   "metadata": {
    "ExecuteTime": {
     "end_time": "2020-09-22T11:04:28.259621Z",
     "start_time": "2020-09-22T11:04:27.973778Z"
    }
   },
   "outputs": [
    {
     "data": {
      "text/html": [
       "<div>\n",
       "<style scoped>\n",
       "    .dataframe tbody tr th:only-of-type {\n",
       "        vertical-align: middle;\n",
       "    }\n",
       "\n",
       "    .dataframe tbody tr th {\n",
       "        vertical-align: top;\n",
       "    }\n",
       "\n",
       "    .dataframe thead th {\n",
       "        text-align: right;\n",
       "    }\n",
       "</style>\n",
       "<table border=\"1\" class=\"dataframe\">\n",
       "  <thead>\n",
       "    <tr style=\"text-align: right;\">\n",
       "      <th></th>\n",
       "      <th>AccountUserID</th>\n",
       "      <th>DataPackageID</th>\n",
       "      <th>VideoID</th>\n",
       "      <th>TimeStamp</th>\n",
       "      <th>EventType</th>\n",
       "      <th>SeekType</th>\n",
       "      <th>OldTime</th>\n",
       "      <th>CurrentTime</th>\n",
       "      <th>NewTime</th>\n",
       "      <th>OldSpeed</th>\n",
       "      <th>NewSpeed</th>\n",
       "      <th>Year</th>\n",
       "    </tr>\n",
       "  </thead>\n",
       "  <tbody>\n",
       "    <tr>\n",
       "      <th>0</th>\n",
       "      <td>9893</td>\n",
       "      <td>EPFL-AlgebreLineaire-2017_T3</td>\n",
       "      <td>4d31551afe0e437e9efb0de334c8267c</td>\n",
       "      <td>1509555123</td>\n",
       "      <td>Video.Play</td>\n",
       "      <td>None</td>\n",
       "      <td>NaN</td>\n",
       "      <td>184.694</td>\n",
       "      <td>NaN</td>\n",
       "      <td>NaN</td>\n",
       "      <td>NaN</td>\n",
       "      <td>2017</td>\n",
       "    </tr>\n",
       "    <tr>\n",
       "      <th>1</th>\n",
       "      <td>9914</td>\n",
       "      <td>EPFL-AlgebreLineaire-2017_T3</td>\n",
       "      <td>a48d8f0bbac04689a88f8b06cf53154e</td>\n",
       "      <td>1508769890</td>\n",
       "      <td>Video.Play</td>\n",
       "      <td>None</td>\n",
       "      <td>NaN</td>\n",
       "      <td>603.000</td>\n",
       "      <td>NaN</td>\n",
       "      <td>NaN</td>\n",
       "      <td>NaN</td>\n",
       "      <td>2017</td>\n",
       "    </tr>\n",
       "    <tr>\n",
       "      <th>2</th>\n",
       "      <td>12494</td>\n",
       "      <td>EPFL-AlgebreLineaire-2017_T3</td>\n",
       "      <td>7ad7b082ef9149f280e3d7b9be2aa348</td>\n",
       "      <td>1510329102</td>\n",
       "      <td>Video.Play</td>\n",
       "      <td>None</td>\n",
       "      <td>NaN</td>\n",
       "      <td>202.526</td>\n",
       "      <td>NaN</td>\n",
       "      <td>NaN</td>\n",
       "      <td>NaN</td>\n",
       "      <td>2017</td>\n",
       "    </tr>\n",
       "    <tr>\n",
       "      <th>3</th>\n",
       "      <td>9923</td>\n",
       "      <td>EPFL-AlgebreLineaire-2017_T3</td>\n",
       "      <td>cea9957b2f57401bbb75e15230dfaadc</td>\n",
       "      <td>1510682346</td>\n",
       "      <td>Video.Play</td>\n",
       "      <td>None</td>\n",
       "      <td>NaN</td>\n",
       "      <td>613.206</td>\n",
       "      <td>NaN</td>\n",
       "      <td>NaN</td>\n",
       "      <td>NaN</td>\n",
       "      <td>2017</td>\n",
       "    </tr>\n",
       "    <tr>\n",
       "      <th>4</th>\n",
       "      <td>10787</td>\n",
       "      <td>EPFL-AlgebreLineaire-2017_T3</td>\n",
       "      <td>8298affd57ae43d6a46c3c2a60777fba</td>\n",
       "      <td>1510647821</td>\n",
       "      <td>Video.Stop</td>\n",
       "      <td>None</td>\n",
       "      <td>NaN</td>\n",
       "      <td>706.342</td>\n",
       "      <td>NaN</td>\n",
       "      <td>NaN</td>\n",
       "      <td>NaN</td>\n",
       "      <td>2017</td>\n",
       "    </tr>\n",
       "  </tbody>\n",
       "</table>\n",
       "</div>"
      ],
      "text/plain": [
       "  AccountUserID                 DataPackageID  \\\n",
       "0          9893  EPFL-AlgebreLineaire-2017_T3   \n",
       "1          9914  EPFL-AlgebreLineaire-2017_T3   \n",
       "2         12494  EPFL-AlgebreLineaire-2017_T3   \n",
       "3          9923  EPFL-AlgebreLineaire-2017_T3   \n",
       "4         10787  EPFL-AlgebreLineaire-2017_T3   \n",
       "\n",
       "                            VideoID   TimeStamp   EventType SeekType  OldTime  \\\n",
       "0  4d31551afe0e437e9efb0de334c8267c  1509555123  Video.Play     None      NaN   \n",
       "1  a48d8f0bbac04689a88f8b06cf53154e  1508769890  Video.Play     None      NaN   \n",
       "2  7ad7b082ef9149f280e3d7b9be2aa348  1510329102  Video.Play     None      NaN   \n",
       "3  cea9957b2f57401bbb75e15230dfaadc  1510682346  Video.Play     None      NaN   \n",
       "4  8298affd57ae43d6a46c3c2a60777fba  1510647821  Video.Stop     None      NaN   \n",
       "\n",
       "   CurrentTime  NewTime  OldSpeed  NewSpeed  Year  \n",
       "0      184.694      NaN       NaN       NaN  2017  \n",
       "1      603.000      NaN       NaN       NaN  2017  \n",
       "2      202.526      NaN       NaN       NaN  2017  \n",
       "3      613.206      NaN       NaN       NaN  2017  \n",
       "4      706.342      NaN       NaN       NaN  2017  "
      ]
     },
     "execution_count": 5,
     "metadata": {},
     "output_type": "execute_result"
    }
   ],
   "source": [
    "df[Year] = df['DataPackageID'].apply(lambda x: '2017' if('2017' in x) else '2018')\n",
    "df.head()\n"
   ]
  },
  {
   "cell_type": "markdown",
   "metadata": {
    "ExecuteTime": {
     "end_time": "2020-09-18T14:28:14.257163Z",
     "start_time": "2020-09-18T14:28:14.252285Z"
    }
   },
   "source": [
    "### Events\n",
    "\n",
    "Create more events (speed down vs speed up , seek back vs seek forward etc.) and drop events which we dont really need (transcript translation etc.)"
   ]
  },
  {
   "cell_type": "code",
   "execution_count": 6,
   "metadata": {
    "ExecuteTime": {
     "end_time": "2020-09-22T11:04:28.287542Z",
     "start_time": "2020-09-22T11:04:28.265498Z"
    }
   },
   "outputs": [],
   "source": [
    "def drop_and_relabel(df): \n",
    "    X = df.copy()\n",
    "    \n",
    "    # lets relabel seek events into either seek back or seek forward    \n",
    "    X.loc[X[\"OldTime\"] > X[\"NewTime\"], \"EventType\"]  = \"Video.SeekBack\"\n",
    "    X.loc[X[\"OldTime\"] < X[\"NewTime\"], \"EventType\"]  = \"Video.SeekForward\"\n",
    "    X = X.loc[X[\"EventType\"] != \"Video.Seek\"]\n",
    "    \n",
    "    # lets relabel speed change into speedup or speed down\n",
    "    X.loc[X[\"OldSpeed\"] < X[\"NewSpeed\"], \"EventType\"]  = \"Video.SpeedUp\"\n",
    "    X.loc[X[\"OldSpeed\"] > X[\"NewSpeed\"], \"EventType\"]  = \"Video.SpeedDown\"\n",
    "    X = X.loc[X[\"EventType\"] != \"Video.SpeedChange\"]\n",
    "    \n",
    "    # drop unnecessary events\n",
    "    X = X[X['EventType'] != 'Video.Transcript.Translate.EN']\n",
    "    X = X[X['EventType'] != 'Video.Transcript.Download']\n",
    "    X = X[X['EventType'] != 'Video.Transcript.Hide']\n",
    "    X = X[X['EventType'] != 'Video.Transcript.Show']\n",
    "    \n",
    "    return X"
   ]
  },
  {
   "cell_type": "markdown",
   "metadata": {},
   "source": [
    "### Drop outliers\n",
    "\n",
    "Drop students who have repeated the course - we consider them outliers as they have engaged with the content once already and watched videos at irregular periods."
   ]
  },
  {
   "cell_type": "code",
   "execution_count": 7,
   "metadata": {
    "ExecuteTime": {
     "end_time": "2020-09-22T11:04:28.322280Z",
     "start_time": "2020-09-22T11:04:28.293552Z"
    }
   },
   "outputs": [],
   "source": [
    "# remove repeating students\n",
    "def remove_repeat(df):\n",
    "    retook_students = []\n",
    "    for s in set(df[StudentID]):\n",
    "        x = df[df[StudentID] == s]\n",
    "        y1 = len(x[x[Year] == year1]) > 0\n",
    "        y2 = len(x[x[Year] == year2]) > 0\n",
    "        if y1 and y2:\n",
    "            retook_students.append(s)\n",
    "\n",
    "    X = df.copy() \n",
    "    for s in retook_students:\n",
    "        mask = (X[StudentID] == s) & (X[Year] == year2)\n",
    "        X = X[~mask]\n",
    "    \n",
    "    return X"
   ]
  },
  {
   "cell_type": "markdown",
   "metadata": {},
   "source": [
    "### Minimum activity\n",
    "\n",
    "Filter students out who have lesser than 60 videos to their names. The student who watched the most videos in our dataset has 139 videos, we try to get the other students to have at least half of this. This means they have engaged with the MOOC platforms and we have something to analyse."
   ]
  },
  {
   "cell_type": "code",
   "execution_count": 8,
   "metadata": {
    "ExecuteTime": {
     "end_time": "2020-09-22T11:04:28.343721Z",
     "start_time": "2020-09-22T11:04:28.325179Z"
    }
   },
   "outputs": [],
   "source": [
    "# filter out students with less than 60 videos\n",
    "def students_with_activity(df):\n",
    "    vid_df = df[[StudentID, Source]].drop_duplicates()\n",
    "    vid_cnt = vid_df.groupby(StudentID).count().reset_index().rename(columns={Source: 'Count'})\n",
    "    vid_cnt = vid_cnt[vid_cnt['Count'] > 60]\n",
    "    return pd.merge(left=vid_cnt, right=df, on=StudentID).drop_duplicates()"
   ]
  },
  {
   "cell_type": "markdown",
   "metadata": {},
   "source": [
    "### Pipeline"
   ]
  },
  {
   "cell_type": "code",
   "execution_count": 9,
   "metadata": {
    "ExecuteTime": {
     "end_time": "2020-09-22T11:04:28.372125Z",
     "start_time": "2020-09-22T11:04:28.353948Z"
    }
   },
   "outputs": [],
   "source": [
    "def preprocess(df):\n",
    "    X = drop_and_relabel(df)\n",
    "    X = remove_repeat(X)\n",
    "    X = students_with_activity(X)\n",
    "    return X"
   ]
  },
  {
   "cell_type": "code",
   "execution_count": 10,
   "metadata": {
    "ExecuteTime": {
     "end_time": "2020-09-22T11:04:44.054568Z",
     "start_time": "2020-09-22T11:04:28.376488Z"
    }
   },
   "outputs": [],
   "source": [
    "df_clean = preprocess(df)"
   ]
  },
  {
   "cell_type": "markdown",
   "metadata": {},
   "source": [
    "## Regularity\n",
    "**Q**: How does a student's regularity with the MOOC course affect his final grade?"
   ]
  },
  {
   "cell_type": "markdown",
   "metadata": {},
   "source": [
    "\n",
    "### How can we measure regularity?\n",
    "<p>In order to measure regularity, we turn to existing research, namely the paper <a href=\"https://link.springer.com/chapter/10.1007/978-3-319-45153-4_21\">\"How to quantify regularity\" by Sharma et al in EPFL CHILI lab</a>. The paper derives different measures for regularities and explains their properties. We will be looking at the same properties (albeit with slight modifications).</p>\n",
    "<p>The measures include:</p>\n",
    "<table>\n",
    "<thead><tr>\n",
    "<th style=\"text-align:center\">Measure</th>\n",
    "<th style=\"text-align:center\">Description</th>\n",
    "<th style=\"text-align:center\">Justification</th>\n",
    "</tr>\n",
    "</thead>\n",
    "<tbody>\n",
    "<tr>\n",
    "<td style=\"text-align:center\">PDH</td>\n",
    "<td style=\"text-align:center\">Peak on day hour</td>\n",
    "<td style=\"text-align:center\">Identifies if a student's activities are centred around a particular hour of the day</td>\n",
    "</tr>\n",
    "<tr>\n",
    "<td style=\"text-align:center\">PWD</td>\n",
    "<td style=\"text-align:center\">Peak on week day</td>\n",
    "<td style=\"text-align:center\">Identifies if a student's activities are centred around a particular day of the week</td>\n",
    "</tr>\n",
    "<tr>\n",
    "<td style=\"text-align:center\">WS1</td>\n",
    "<td style=\"text-align:center\">Weekly Similarities in daily activity</td>\n",
    "<td style=\"text-align:center\">Identifies if student works on same weekdays</td>\n",
    "</tr>\n",
    "    <tr>\n",
    "<td style=\"text-align:center\">WS2</td>\n",
    "<td style=\"text-align:center\">Weekly Similarities in daily activity</td>\n",
    "<td style=\"text-align:center\">Identifies if there is a similar distribution of workload among weekdays</td>\n",
    "</tr>\n",
    "<tr>\n",
    "<td style=\"text-align:center\">WS3</td>\n",
    "<td style=\"text-align:center\">Weekly Similarities in daily activity</td>\n",
    "<td style=\"text-align:center\">Identifies if there is a similar time repartition of workload among weekdays</td>\n",
    "</tr>\n",
    "<tr>\n",
    "<td style=\"text-align:center\">FDH</td>\n",
    "<td style=\"text-align:center\">Hourly Pattern over days</td>\n",
    "<td style=\"text-align:center\">Identifies if hourly pattern is repeating over days</td>\n",
    "</tr>\n",
    "<tr>\n",
    "<td style=\"text-align:center\">FWH</td>\n",
    "<td style=\"text-align:center\">Hourly Pattern over weeks</td>\n",
    "<td style=\"text-align:center\">Identifies if hourly pattern is repeating over weeks</td>\n",
    "</tr>\n",
    "<tr>\n",
    "<td style=\"text-align:center\">FWD</td>\n",
    "<td style=\"text-align:center\">Daily Pattern over Weeks</td>\n",
    "<td style=\"text-align:center\">Identifies if daily pattern is repeating over weeks</td>\n",
    "</tr>\n",
    "</tbody>\n",
    "</table>\n",
    "\n"
   ]
  },
  {
   "cell_type": "markdown",
   "metadata": {},
   "source": [
    "### Metadata"
   ]
  },
  {
   "cell_type": "code",
   "execution_count": 11,
   "metadata": {
    "ExecuteTime": {
     "end_time": "2020-09-22T11:04:44.067295Z",
     "start_time": "2020-09-22T11:04:44.056701Z"
    }
   },
   "outputs": [],
   "source": [
    "\n",
    "MOOC = {\n",
    "    '2017':{\n",
    "        'Start': '2017-10-16',\n",
    "        'Start_ts': time.mktime(date(2017, 10, 16).timetuple()),\n",
    "        'End':  '2018-01-28',\n",
    "        'Exam': '2018-01-22',\n",
    "        'Weekly_video_count': [2,3,2,2,4,3,2,3,3,1,2,2,2,3], #number of videos per week\n",
    "        'Flipped_weeks': 5 #5 #Number of weeks during which the class was flipped\n",
    "    },\n",
    "    '2018':{\n",
    "        'Start': '2018-09-17',\n",
    "        'Start_ts': time.mktime(date(2018, 9, 17).timetuple()),\n",
    "        'End': '2019-01-28',\n",
    "        'Flipped_weeks': 14 #10 \n",
    "    }\n",
    "}"
   ]
  },
  {
   "cell_type": "markdown",
   "metadata": {},
   "source": [
    "### Helper functions"
   ]
  },
  {
   "cell_type": "code",
   "execution_count": 91,
   "metadata": {
    "ExecuteTime": {
     "end_time": "2020-09-22T11:28:27.872842Z",
     "start_time": "2020-09-22T11:28:27.860742Z"
    }
   },
   "outputs": [],
   "source": [
    "\n",
    "#Timestamp to datetime object\n",
    "def convert_to_date(ts):\n",
    "    return datetime.fromtimestamp(ts)\n",
    "\n",
    "def normalize(v):\n",
    "    s = v.sum()\n",
    "    if s == 0: return v\n",
    "    return v / s\n",
    "\n",
    "def get_rand_student(X):\n",
    "    rand_id = list(X[StudentID].sample(1))[0] # , random_state=12903\n",
    "    print(rand_id)\n",
    "    return X[X[StudentID] == rand_id]\n",
    "\n",
    "def get_student_by_id(X,student_id):\n",
    "    return X[X[StudentID] == student_id]\n",
    "\n",
    "#Get the list of timestamps indicating when the student was active \n",
    "#Student is a table containing all the rows of `student`\n",
    "def get_time(student):\n",
    "    year = list(student[Year])[0]\n",
    "    T = student['TimeStamp'].sort_values()\n",
    "    T = T - MOOC[year]['Start_ts']\n",
    "    T = np.where(T < 0, 0, T)\n",
    "    return list(T), MOOC[year]['Flipped_weeks']\n",
    "\n"
   ]
  },
  {
   "cell_type": "markdown",
   "metadata": {},
   "source": [
    "### Peaks in Hourly/Daily Activity (PDH/PWD)\n",
    "\n",
    "Here are the functions and Regularity paper's expressions equivalence table:\n",
    "\n",
    "| Code | Expression |\n",
    "| --- | --- | \n",
    "| `student_activity` | $F_W(x)$ |\n",
    "| `activity_at_hour` | $D(h)$ |\n",
    "| `activity_at_day` | $W(d)$ |\n",
    "| `entropy` | $E_D$ or $E_W$ |\n",
    "\n",
    "\n"
   ]
  },
  {
   "cell_type": "code",
   "execution_count": 13,
   "metadata": {
    "ExecuteTime": {
     "end_time": "2020-09-22T11:04:44.097058Z",
     "start_time": "2020-09-22T11:04:44.084961Z"
    }
   },
   "outputs": [],
   "source": [
    "from scipy.special import entr #entropy\n",
    "\n",
    "def student_activity(W, T, x):\n",
    "    T = np.floor_divide(T, W)\n",
    "    return int(x in T)\n",
    "\n",
    "def daily_activity(Ld, T):\n",
    "    def activity_at_hour(h):\n",
    "        res = 0\n",
    "        for i in range(Ld):\n",
    "            res += student_activity(60*60, T, 24*i + h)\n",
    "        return res\n",
    "    hist = list(range(24))\n",
    "    return list(map(activity_at_hour, hist))\n",
    "\n",
    "def weekly_activity(Lw, T):\n",
    "    def activity_at_day(d):\n",
    "        res = 0\n",
    "        for i in range(Lw):\n",
    "            res += student_activity(24*60*60, T, 7*i + d)\n",
    "        return res\n",
    "    hist = list(range(7))\n",
    "    return list(map(activity_at_day, hist))\n",
    "\n",
    "def PDH(Lw, T):\n",
    "    activity = np.array(daily_activity(Lw * 7, T))\n",
    "    normalized_activity = normalize(activity)\n",
    "    entropy = entr(normalized_activity).sum()\n",
    "    return (np.log2(24) - entropy) * np.max(activity)\n",
    "\n",
    "def PWD(Lw, T):\n",
    "    activity = np.array(weekly_activity(Lw, T))\n",
    "    normalized_activity = normalize(activity)\n",
    "    entropy = entr(normalized_activity).sum()\n",
    "    return (np.log2(7) - entropy) * np.max(activity)\n",
    "\n",
    "\n"
   ]
  },
  {
   "cell_type": "code",
   "execution_count": 14,
   "metadata": {
    "ExecuteTime": {
     "end_time": "2020-09-22T11:04:44.110521Z",
     "start_time": "2020-09-22T11:04:44.100682Z"
    }
   },
   "outputs": [],
   "source": [
    "def plot_hourly_activity(X):\n",
    "    student = get_rand_student(X)\n",
    "    T, Lw = get_time(student)\n",
    "    PDHs = \"{:.2f}\".format(PDH(Lw, T))\n",
    "#     grade = list(student['Final.Grade'])[0]\n",
    "    \n",
    "    plt.bar(np.arange(1, 25), daily_activity(Lw*7, T))\n",
    "    plt.title(\"Student Activity per Hour, PDH = \" + PDHs) #+ \" Grade = \" + str(grade))\n",
    "    \n",
    "def plot_weekly_activity(X):\n",
    "    student = get_rand_student(X)\n",
    "    T, Lw = get_time(student)\n",
    "    PWDs = \"{:.2f}\".format(PWD(Lw, T))\n",
    "#     grade = list(student['Final.Grade'])[0]\n",
    "    \n",
    "    plt.bar(np.arange(1, 8), weekly_activity(Lw, T))\n",
    "    plt.title(\"Student Activity per Week, PWD = \" + PWDs ) #+ \" Grade = \" + str(grade))"
   ]
  },
  {
   "cell_type": "code",
   "execution_count": 15,
   "metadata": {
    "ExecuteTime": {
     "end_time": "2020-09-22T11:04:46.784876Z",
     "start_time": "2020-09-22T11:04:44.112986Z"
    },
    "scrolled": true
   },
   "outputs": [
    {
     "data": {
      "image/png": "[encoded data removed]",
      "text/plain": [
       "<Figure size 432x288 with 1 Axes>"
      ]
     },
     "metadata": {
      "needs_background": "light"
     },
     "output_type": "display_data"
    }
   ],
   "source": [
    "plot_hourly_activity(df_clean)"
   ]
  },
  {
   "cell_type": "code",
   "execution_count": 16,
   "metadata": {
    "ExecuteTime": {
     "end_time": "2020-09-22T11:04:47.211343Z",
     "start_time": "2020-09-22T11:04:46.788650Z"
    }
   },
   "outputs": [
    {
     "data": {
      "image/png": "[encoded data removed]",
      "text/plain": [
       "<Figure size 432x288 with 1 Axes>"
      ]
     },
     "metadata": {
      "needs_background": "light"
     },
     "output_type": "display_data"
    }
   ],
   "source": [
    "plot_weekly_activity(df_clean)"
   ]
  },
  {
   "cell_type": "markdown",
   "metadata": {},
   "source": [
    "### Weekly similarities (WS1/WS2/WS3)\n",
    "\n",
    "**WS1:** Measures how much the student works on the same weekdays\n",
    "\n",
    "**WS2:** Measures if there is a similar distribution of workload among weekdays\n",
    "\n",
    "**WS3:** Measures if there is a similar time spent working among weekdays. WS3 also depends on the absolute time while WS2 only depends on the distribution.\n"
   ]
  },
  {
   "cell_type": "code",
   "execution_count": 17,
   "metadata": {
    "ExecuteTime": {
     "end_time": "2020-09-22T11:04:47.239212Z",
     "start_time": "2020-09-22T11:04:47.215804Z"
    }
   },
   "outputs": [],
   "source": [
    "from scipy.spatial.distance import jensenshannon\n",
    "\n",
    "# global constants\n",
    "HOUR_TO_SECOND = 60 * 60\n",
    "DAY_TO_SECOND = 24 * HOUR_TO_SECOND\n",
    "WEEK_TO_SECOND = 7 * DAY_TO_SECOND\n",
    "\n",
    "def similarity_days(wi, wj):\n",
    "    m1 = np.where(wi == 1)[0]\n",
    "    m2 = np.where(wj == 1)[0]\n",
    "    if len(m1) == 0 or len(m2) == 0: \n",
    "        return 0\n",
    "    \n",
    "    return len(np.intersect1d(m1, m2)) / max(len(m1), len(m2))\n",
    "\n",
    "def aggregate_activity(W, T, Ls):\n",
    "    res = []\n",
    "    for x_i in range(Ls // W):\n",
    "        res.append(student_activity(W, T, x_i))\n",
    "    return np.array(res)\n",
    "\n",
    "def days_active(Lw, T):    \n",
    "    X = aggregate_activity(DAY_TO_SECOND, T, Lw * WEEK_TO_SECOND)\n",
    "    X = X.reshape([Lw, 7])\n",
    "    return X\n",
    "\n",
    "def activity_profile(Lw, T):\n",
    "    activity = []\n",
    "    X = np.array(aggregate_activity(HOUR_TO_SECOND, T, Lw * WEEK_TO_SECOND))\n",
    "    X = X.reshape([Lw, 7*24])\n",
    "    for week in X:\n",
    "        week = week.reshape([7, 24])\n",
    "        activity.append(week.sum(axis=1))\n",
    "    return activity\n",
    "\n",
    "def chi2_divergence(p1, p2, a1, a2):\n",
    "    a = p1 - p2\n",
    "    b = p1 + p2\n",
    "    frac = np.divide(a, b, out=np.zeros(a.shape, dtype=float), where=b!=0)\n",
    "    m1 = np.where(a1 == 1)[0]\n",
    "    m2 = np.where(a2 == 1)[0]\n",
    "    union = np.union1d(m1, m2)\n",
    "    if (len(union) == 0): return np.nan\n",
    "    return 1 - (1 / len(union)) * np.sum(np.square(frac))\n",
    "\n",
    "def WS1(Lw, T):\n",
    "    hist = days_active(Lw, T)\n",
    "    res = []\n",
    "    for i in range(Lw):\n",
    "        for j in range(i + 1, Lw):\n",
    "            res.append(similarity_days(hist[i], hist[j]))\n",
    "    return np.mean(res)\n",
    "\n",
    "def WS2(Lw, T):\n",
    "    profile = activity_profile(Lw, T)\n",
    "    res = []\n",
    "    for i in range(Lw):\n",
    "        for j in range(i + 1, Lw):\n",
    "            if not profile[i].any() or not profile[j].any(): continue\n",
    "            res.append(1 - jensenshannon(profile[i], profile[j], 2.0))\n",
    "    if len(res) == 0: return np.nan\n",
    "    return np.mean(res)\n",
    "    \n",
    "def WS3(Lw, T):\n",
    "    profile = activity_profile(Lw, T)\n",
    "    hist = days_active(Lw, T)\n",
    "    res = []\n",
    "    for i in range(Lw):\n",
    "        for j in range(i + 1, Lw):\n",
    "            if not profile[i].any() or not profile[j].any(): continue\n",
    "            res.append(chi2_divergence(profile[i], profile[j], hist[i], hist[j]))\n",
    "    if len(res) == 0: return np.nan           \n",
    "    return np.mean(res)\n"
   ]
  },
  {
   "cell_type": "code",
   "execution_count": 111,
   "metadata": {
    "ExecuteTime": {
     "end_time": "2020-09-22T11:34:50.994732Z",
     "start_time": "2020-09-22T11:34:50.981027Z"
    }
   },
   "outputs": [],
   "source": [
    "\n",
    "def day_activity_by_week(Lw, T):\n",
    "    def activity_at_day(w,d):\n",
    "        res = 0\n",
    "        for h in range(24):\n",
    "            res += student_activity(60*60, T, w*7*24 + d*24 + h)\n",
    "        return res\n",
    "    days = np.zeros((Lw, 7))\n",
    "    for w in range(Lw):\n",
    "        for d in range(7):\n",
    "             days[w,d] = activity_at_day(w,d)\n",
    "    return days\n",
    "\n",
    "def plot_WS(X, student_id=0):\n",
    "    if student_id:\n",
    "        student = get_student_by_id(X,str(student_id))\n",
    "    else:\n",
    "        student = get_rand_student(X)\n",
    "    T, Lw = get_time(student)\n",
    "    WS = \"{:.2f}, {:.2f}, {:.2f}\".format(WS1(Lw, T), WS2(Lw, T),WS2(Lw, T))\n",
    "    ax = sns.heatmap(day_activity_by_week(Lw, T), cmap=sns.cubehelix_palette(as_cmap=True))\n",
    "    ax.invert_yaxis()\n",
    "    plt.title(\"Weekly similarities with (WS1, WS2, WS3) = (\" + WS+\")\") \n",
    "    plt.ylabel('Week')\n",
    "    plt.xlabel('Day')\n"
   ]
  },
  {
   "cell_type": "code",
   "execution_count": 171,
   "metadata": {
    "ExecuteTime": {
     "end_time": "2020-09-22T12:54:34.093621Z",
     "start_time": "2020-09-22T12:54:32.853809Z"
    }
   },
   "outputs": [
    {
     "data": {
      "image/png": "[encoded data removed]",
      "text/plain": [
       "<Figure size 432x288 with 2 Axes>"
      ]
     },
     "metadata": {
      "needs_background": "light"
     },
     "output_type": "display_data"
    }
   ],
   "source": [
    "plot_WS(df_clean, 8438)\n",
    "# 44790 (0.34,0.32,0.32)\n",
    "# 8438 WS1 = 0.06\n",
    "# 48774 (0.12,0.3, 0.3)"
   ]
  },
  {
   "cell_type": "markdown",
   "metadata": {},
   "source": [
    "### Frequency patterns (FDH/FWH/FWD)\n",
    "\n",
    "The Fourier analysis measures if there is any periodicity in the time spent watching the videos.\n",
    "\n",
    "**FDH:** Hourly pattern over the day.\n",
    "\n",
    "**FWH:** Hourly pattern over the week.\n",
    "\n",
    "**FWD:** Daily pattern over the week."
   ]
  },
  {
   "cell_type": "code",
   "execution_count": 147,
   "metadata": {
    "ExecuteTime": {
     "end_time": "2020-09-22T12:44:36.832083Z",
     "start_time": "2020-09-22T12:44:36.823244Z"
    }
   },
   "outputs": [],
   "source": [
    "def fourier_transform(Xi, f, n):\n",
    "    M = np.exp(-2j * np.pi * f * n)\n",
    "    return np.dot(M, Xi)\n",
    "\n",
    "def FDH(Lw, T, f = 1/24):\n",
    "    Xi = aggregate_activity(HOUR_TO_SECOND, T, Lw * WEEK_TO_SECOND)\n",
    "    n = np.arange(Lw * WEEK_TO_SECOND // HOUR_TO_SECOND)\n",
    "    return abs(fourier_transform(Xi, f, n))\n",
    "\n",
    "def FWH(Lw, T, f= 1/(7*24)):\n",
    "    Xi = aggregate_activity(HOUR_TO_SECOND, T, Lw * WEEK_TO_SECOND)\n",
    "    n = np.arange(Lw * WEEK_TO_SECOND // HOUR_TO_SECOND)\n",
    "    return abs(fourier_transform(Xi, f, n))\n",
    "\n",
    "def FWD(Lw, T, f = 1/7):\n",
    "    Xi = aggregate_activity(DAY_TO_SECOND, T, Lw * WEEK_TO_SECOND)\n",
    "    n = np.arange(Lw * WEEK_TO_SECOND // DAY_TO_SECOND)\n",
    "    return abs(fourier_transform(Xi, f, n))"
   ]
  },
  {
   "cell_type": "code",
   "execution_count": 249,
   "metadata": {
    "ExecuteTime": {
     "end_time": "2020-09-22T13:57:12.204129Z",
     "start_time": "2020-09-22T13:57:12.187046Z"
    }
   },
   "outputs": [],
   "source": [
    "def plot_Fourier(X, student_id=0):\n",
    "    if student_id:\n",
    "        student = get_student_by_id(X,str(student_id))\n",
    "    else:\n",
    "        student = get_rand_student(X)\n",
    "    T, Lw = get_time(student)\n",
    "    FWD_value = FWD(Lw, T)\n",
    "    fourier_values = \"{:.2f}, {:.2f}, {:.2f}\".format(FDH(Lw, T), FWH(Lw, T),FWD_value)\n",
    "    print(\"FDH, FWH, FWD = \"+fourier_values)\n",
    "    \n",
    "\n",
    "    fig, axes = plt.subplots(nrows=2, ncols=1, figsize=(15,10))\n",
    "    \n",
    "    activity = aggregate_activity(DAY_TO_SECOND, T, Lw * WEEK_TO_SECOND)\n",
    "    days = np.arange(len(activity))\n",
    "    line1 = sns.lineplot(ax = axes[0], x = np.arange(len(activity)), y = activity)\n",
    "    for week in range(7, days[-1], 7):\n",
    "        if week == 7:\n",
    "            axes[0].axvline(x=week, c='gray', ls='--', label=\"Weeks\")\n",
    "        else:\n",
    "            axes[0].axvline(x=week, c='gray', ls='--')\n",
    "    line1.set_title(\"Student activity over the days\") \n",
    "    line1.set_ylabel('Active or not')\n",
    "    line1.set_xlabel('Day')\n",
    "    axes[0].legend()\n",
    "    \n",
    "    freq = np.arange(0.1,0.5,0.01)\n",
    "    spectrum = [FWD(Lw, T, f) for f in freq]\n",
    "    line2 = sns.lineplot(ax = axes[1], x = freq, y = spectrum)\n",
    "    axes[1].axvline(x=1/7, label=\"1 / 7\",c='red', ls='--')\n",
    "    line2.set_title(\"Frequency with FWD = {:.2f}\".format(FWD_value)) \n",
    "    line2.set_ylabel('Spectrum')\n",
    "    line2.set_xlabel('Frequency')\n",
    "    axes[1].legend()\n",
    "    \n"
   ]
  },
  {
   "cell_type": "code",
   "execution_count": 250,
   "metadata": {
    "ExecuteTime": {
     "end_time": "2020-09-22T13:57:18.077882Z",
     "start_time": "2020-09-22T13:57:12.339939Z"
    }
   },
   "outputs": [
    {
     "name": "stdout",
     "output_type": "stream",
     "text": [
      "FDH, FWH, FWD = 47.20, 28.37, 10.37\n"
     ]
    },
    {
     "data": {
      "image/png": "[encoded data removed]",
      "text/plain": [
       "<Figure size 1080x720 with 2 Axes>"
      ]
     },
     "metadata": {
      "needs_background": "light"
     },
     "output_type": "display_data"
    }
   ],
   "source": [
    "plot_Fourier(df_clean, 44514)\n",
    "# 46674 46.00, 9.23, 9.80\n",
    "# 44514 47, 28, 10\n",
    "# 43044 40, 25.3, 5.8"
   ]
  },
  {
   "cell_type": "code",
   "execution_count": null,
   "metadata": {},
   "outputs": [],
   "source": []
  }
 ],
 "metadata": {
  "kernelspec": {
   "display_name": "Python 3",
   "language": "python",
   "name": "python3"
  },
  "language_info": {
   "codemirror_mode": {
    "name": "ipython",
    "version": 3
   },
   "file_extension": ".py",
   "mimetype": "text/x-python",
   "name": "python",
   "nbconvert_exporter": "python",
   "pygments_lexer": "ipython3",
   "version": "3.7.1"
  },
  "toc": {
   "base_numbering": 1,
   "nav_menu": {},
   "number_sections": true,
   "sideBar": true,
   "skip_h1_title": false,
   "title_cell": "Table of Contents",
   "title_sidebar": "Contents",
   "toc_cell": false,
   "toc_position": {},
   "toc_section_display": true,
   "toc_window_display": false
  }
 },
 "nbformat": 4,
 "nbformat_minor": 2
}
