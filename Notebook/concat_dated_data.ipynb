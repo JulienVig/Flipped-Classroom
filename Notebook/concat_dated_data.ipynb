{
 "cells": [
  {
   "cell_type": "code",
   "execution_count": 2,
   "metadata": {
    "ExecuteTime": {
     "end_time": "2020-09-29T13:54:50.864516Z",
     "start_time": "2020-09-29T13:54:50.179918Z"
    }
   },
   "outputs": [],
   "source": [
    "import os.path\n",
    "import pandas as pd"
   ]
  },
  {
   "cell_type": "code",
   "execution_count": 15,
   "metadata": {
    "ExecuteTime": {
     "end_time": "2020-09-29T14:03:02.848999Z",
     "start_time": "2020-09-29T14:03:02.841768Z"
    }
   },
   "outputs": [],
   "source": [
    "years = ['2017', '2018', '2019']\n"
   ]
  },
  {
   "cell_type": "code",
   "execution_count": 53,
   "metadata": {
    "ExecuteTime": {
     "end_time": "2020-09-29T14:25:46.352583Z",
     "start_time": "2020-09-29T14:25:46.335928Z"
    }
   },
   "outputs": [],
   "source": [
    "def concat_files(video=True, output_suffix=\"concat_\"):\n",
    "    \"\"\"\n",
    "    :param video: True to concatenate videos csv, False to concat problems csv \n",
    "    \"\"\"\n",
    "    \n",
    "    concatenated_files =[]\n",
    "    file_sizes = []\n",
    "    if video:\n",
    "        cols =['Chapter', 'Subchapter', 'VideoID','Source','Due_date']\n",
    "    else:\n",
    "        cols =['Chapter', 'Subchapter', 'ProblemID','Due_date']\n",
    "    concat_df = pd.DataFrame(columns=cols)\n",
    "    \n",
    "    for year in years:\n",
    "        filename = \"dated_\" + (\"videos\" if(video) else \"problems\") + \"_\" + year +\".csv\"\n",
    "        path = '../MOOC/' + year + '/Data/' + filename\n",
    "        if os.path.isfile(path):\n",
    "            concatenated_files.append(filename)\n",
    "            curr_df = pd.read_csv(path, index_col=0)\n",
    "            file_sizes.append(str(len(curr_df)))\n",
    "            concat_df = pd.concat([concat_df, curr_df])\n",
    "        \n",
    "    #reset the indices since they are not unique anymore\n",
    "    concat_df.reset_index(drop=True, inplace=True)\n",
    "        \n",
    "    print(\"Concatenated files: {}\".format(\", \".join(concatenated_files)))\n",
    "    print(\"Total length: {} rows, from file sizes: {}\".format(len(concat_df), \", \".join(file_sizes)))\n",
    "    \n",
    "\n",
    "\n",
    "    output = output_suffix + (\"videos\" if(video) else \"problems\") + \".csv\"\n",
    "    concat_df.to_csv(output)"
   ]
  },
  {
   "cell_type": "code",
   "execution_count": 55,
   "metadata": {
    "ExecuteTime": {
     "end_time": "2020-09-29T14:42:25.549021Z",
     "start_time": "2020-09-29T14:42:25.499620Z"
    }
   },
   "outputs": [
    {
     "name": "stdout",
     "output_type": "stream",
     "text": [
      "Concatenated files: dated_videos_2017.csv, dated_videos_2018.csv\n",
      "Total length: 123 rows, from file sizes: 40, 83\n",
      "Concatenated files: dated_problems_2017.csv, dated_problems_2018.csv\n",
      "Total length: 218 rows, from file sizes: 77, 141\n"
     ]
    }
   ],
   "source": [
    "concat_files(video=True)\n",
    "concat_files(video=False)"
   ]
  },
  {
   "cell_type": "code",
   "execution_count": null,
   "metadata": {},
   "outputs": [],
   "source": []
  }
 ],
 "metadata": {
  "kernelspec": {
   "display_name": "Python 3",
   "language": "python",
   "name": "python3"
  },
  "language_info": {
   "codemirror_mode": {
    "name": "ipython",
    "version": 3
   },
   "file_extension": ".py",
   "mimetype": "text/x-python",
   "name": "python",
   "nbconvert_exporter": "python",
   "pygments_lexer": "ipython3",
   "version": "3.7.1"
  },
  "toc": {
   "base_numbering": 1,
   "nav_menu": {},
   "number_sections": true,
   "sideBar": true,
   "skip_h1_title": false,
   "title_cell": "Table of Contents",
   "title_sidebar": "Contents",
   "toc_cell": false,
   "toc_position": {},
   "toc_section_display": true,
   "toc_window_display": false
  }
 },
 "nbformat": 4,
 "nbformat_minor": 2
}
