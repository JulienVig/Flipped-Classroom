{
 "cells": [
  {
   "cell_type": "code",
   "execution_count": 2,
   "metadata": {
    "ExecuteTime": {
     "end_time": "2020-11-13T17:22:17.112773Z",
     "start_time": "2020-11-13T17:22:15.528679Z"
    }
   },
   "outputs": [],
   "source": [
    "import numpy as np\n",
    "import pandas as pd\n",
    "import matplotlib.pyplot as plt\n",
    "import seaborn as sns\n",
    "sns.set_style(\"darkgrid\")\n",
    "from datetime import datetime, timedelta, date\n",
    "import time\n",
    "import os\n",
    "import sys\n",
    "import json\n",
    "sys.path.append(os.path.abspath(os.path.join('..')))"
   ]
  },
  {
   "cell_type": "code",
   "execution_count": 3,
   "metadata": {
    "ExecuteTime": {
     "end_time": "2020-11-13T17:40:25.366725Z",
     "start_time": "2020-11-13T17:40:25.115775Z"
    }
   },
   "outputs": [
    {
     "name": "stdout",
     "output_type": "stream",
     "text": [
      "The autoreload extension is already loaded. To reload it, use:\n",
      "  %reload_ext autoreload\n"
     ]
    }
   ],
   "source": [
    "%load_ext autoreload\n",
    "%autoreload 2\n",
    "\n",
    "from helpers.db_query import *"
   ]
  },
  {
   "cell_type": "markdown",
   "metadata": {},
   "source": [
    "# Weekly video count"
   ]
  },
  {
   "cell_type": "code",
   "execution_count": 4,
   "metadata": {
    "ExecuteTime": {
     "end_time": "2020-11-13T17:22:21.855837Z",
     "start_time": "2020-11-13T17:22:20.958456Z"
    }
   },
   "outputs": [],
   "source": [
    "video_dates = pd.read_csv('../data/lin_alg_moodle/videos.csv', index_col=0)\n",
    "video_dates['Due_date'] = pd.to_datetime(video_dates.Due_date)"
   ]
  },
  {
   "cell_type": "code",
   "execution_count": 5,
   "metadata": {
    "ExecuteTime": {
     "end_time": "2020-11-13T17:22:22.408595Z",
     "start_time": "2020-11-13T17:22:21.859195Z"
    }
   },
   "outputs": [],
   "source": [
    "def select_by_year(video_dates, year):\n",
    "    return video_dates.loc[video_dates.Due_date.dt.year == year]\n",
    "\n",
    "video_dates_2017, video_dates_2018, video_dates_2019 = [select_by_year(video_dates, year) for year in [2017,2018, 2019]]"
   ]
  },
  {
   "cell_type": "code",
   "execution_count": 6,
   "metadata": {
    "ExecuteTime": {
     "end_time": "2020-11-13T17:22:22.585803Z",
     "start_time": "2020-11-13T17:22:22.414473Z"
    },
    "scrolled": false
   },
   "outputs": [
    {
     "name": "stdout",
     "output_type": "stream",
     "text": [
      "2017 [ 6  9  6 12  7]\n",
      "2018 [ 7 10 10  6 13  7  8  7  9  6]\n",
      "2019 [ 5  4  8  7  7 10 11 13  7  8  6  9  6]\n"
     ]
    }
   ],
   "source": [
    "def weekly_count(video_dates):\n",
    "    return video_dates.groupby(pd.Grouper(key='Due_date',freq='W-THU')).size().values\n",
    "\n",
    "count_2017, count_2018, count_2019 = [weekly_count(dates) for dates in [video_dates_2017, video_dates_2018,video_dates_2019]]\n",
    "print(\"2017\", count_2017)\n",
    "print(\"2018\", count_2018)\n",
    "print(\"2019\", count_2019)"
   ]
  },
  {
   "cell_type": "markdown",
   "metadata": {},
   "source": [
    "# Features\n",
    "## Video views"
   ]
  },
  {
   "cell_type": "code",
   "execution_count": 195,
   "metadata": {
    "ExecuteTime": {
     "end_time": "2020-11-13T17:28:13.326078Z",
     "start_time": "2020-11-13T17:22:22.602147Z"
    }
   },
   "outputs": [],
   "source": [
    "raw_events = getVideoEvents(mode='all')"
   ]
  },
  {
   "cell_type": "code",
   "execution_count": 197,
   "metadata": {},
   "outputs": [
    {
     "name": "stdout",
     "output_type": "stream",
     "text": [
      "122\n"
     ]
    }
   ],
   "source": [
    "inactives = getUnactiveStudentsIDs(raw_events)\n",
    "print(len(inactives))"
   ]
  },
  {
   "cell_type": "code",
   "execution_count": 198,
   "metadata": {},
   "outputs": [
    {
     "name": "stdout",
     "output_type": "stream",
     "text": [
      "(856427, 13) (750003, 13)\n"
     ]
    }
   ],
   "source": [
    "events = raw_events[~raw_events.AccountUserID.isin(inactives)]\n",
    "print(raw_events.shape, events.shape)"
   ]
  },
  {
   "cell_type": "code",
   "execution_count": 208,
   "metadata": {
    "ExecuteTime": {
     "end_time": "2020-11-13T17:28:14.616056Z",
     "start_time": "2020-11-13T17:28:13.333490Z"
    },
    "scrolled": true
   },
   "outputs": [
    {
     "data": {
      "text/html": [
       "<div>\n",
       "<style scoped>\n",
       "    .dataframe tbody tr th:only-of-type {\n",
       "        vertical-align: middle;\n",
       "    }\n",
       "\n",
       "    .dataframe tbody tr th {\n",
       "        vertical-align: top;\n",
       "    }\n",
       "\n",
       "    .dataframe thead th {\n",
       "        text-align: right;\n",
       "    }\n",
       "</style>\n",
       "<table border=\"1\" class=\"dataframe\">\n",
       "  <thead>\n",
       "    <tr style=\"text-align: right;\">\n",
       "      <th></th>\n",
       "      <th>DataPackageID</th>\n",
       "      <th>AccountUserID</th>\n",
       "      <th>VideoID</th>\n",
       "      <th>TimeStamp</th>\n",
       "      <th>EventType</th>\n",
       "      <th>SeekType</th>\n",
       "      <th>OldTime</th>\n",
       "      <th>CurrentTime</th>\n",
       "      <th>NewTime</th>\n",
       "      <th>OldSpeed</th>\n",
       "      <th>NewSpeed</th>\n",
       "      <th>Date</th>\n",
       "      <th>Year</th>\n",
       "    </tr>\n",
       "  </thead>\n",
       "  <tbody>\n",
       "    <tr>\n",
       "      <th>686909</th>\n",
       "      <td>EPFL-AlgebreLineaire-2019</td>\n",
       "      <td>100402</td>\n",
       "      <td>4a8019a55618419f9d97494e8deb46c1</td>\n",
       "      <td>1571652846</td>\n",
       "      <td>Video.Stop</td>\n",
       "      <td>None</td>\n",
       "      <td>NaN</td>\n",
       "      <td>725.563</td>\n",
       "      <td>NaN</td>\n",
       "      <td>NaN</td>\n",
       "      <td>NaN</td>\n",
       "      <td>2019-10-21 10:14:06</td>\n",
       "      <td>2019</td>\n",
       "    </tr>\n",
       "  </tbody>\n",
       "</table>\n",
       "</div>"
      ],
      "text/plain": [
       "                    DataPackageID AccountUserID  \\\n",
       "686909  EPFL-AlgebreLineaire-2019        100402   \n",
       "\n",
       "                                 VideoID   TimeStamp   EventType SeekType  \\\n",
       "686909  4a8019a55618419f9d97494e8deb46c1  1571652846  Video.Stop     None   \n",
       "\n",
       "        OldTime  CurrentTime  NewTime  OldSpeed  NewSpeed                Date  \\\n",
       "686909      NaN      725.563      NaN       NaN       NaN 2019-10-21 10:14:06   \n",
       "\n",
       "        Year  \n",
       "686909  2019  "
      ]
     },
     "execution_count": 208,
     "metadata": {},
     "output_type": "execute_result"
    }
   ],
   "source": [
    "events.sample()"
   ]
  },
  {
   "cell_type": "code",
   "execution_count": 202,
   "metadata": {
    "ExecuteTime": {
     "end_time": "2020-11-13T17:28:14.841554Z",
     "start_time": "2020-11-13T17:28:14.619092Z"
    }
   },
   "outputs": [],
   "source": [
    "user_events = events.loc[events.AccountUserID == '18422']"
   ]
  },
  {
   "cell_type": "markdown",
   "metadata": {},
   "source": [
    "### Total views"
   ]
  },
  {
   "cell_type": "code",
   "execution_count": 182,
   "metadata": {
    "ExecuteTime": {
     "end_time": "2020-11-13T17:28:14.931646Z",
     "start_time": "2020-11-13T17:28:14.849570Z"
    }
   },
   "outputs": [
    {
     "name": "stdout",
     "output_type": "stream",
     "text": [
      "Total number of videos watched 4\n"
     ]
    }
   ],
   "source": [
    "def total_views(df):\n",
    "    \"\"\" \n",
    "    Counts the total of videos views (rewatch included)\n",
    "    Assumption: consider that a video is watched at most once per day\n",
    "    \"\"\"\n",
    "    copy = df.copy()\n",
    "    copy['Day'] = df.Date.dt.date\n",
    "    #From the assumption the video view is a unique pair (video id, day)\n",
    "    return len(copy.drop_duplicates(subset=['VideoID','Day'])) \n",
    "print(\"Total number of videos watched\",total_views(user_events))"
   ]
  },
  {
   "cell_type": "markdown",
   "metadata": {},
   "source": [
    "### Proportion of videos watched/rewateched/interrutped"
   ]
  },
  {
   "cell_type": "code",
   "execution_count": 160,
   "metadata": {},
   "outputs": [],
   "source": [
    "PATH = '../data/lin_alg_moodle/video_with_durations.csv'\n",
    "original_dated_videos = pd.read_csv(PATH, index_col=0)"
   ]
  },
  {
   "cell_type": "code",
   "execution_count": 203,
   "metadata": {
    "ExecuteTime": {
     "end_time": "2020-11-13T18:36:51.085148Z",
     "start_time": "2020-11-13T18:36:51.042913Z"
    }
   },
   "outputs": [],
   "source": [
    "def week_video_total(year):\n",
    "    \"\"\"\n",
    "    Returns a Series with week numbers as index and the number of videos to watch per week\n",
    "    \"\"\"\n",
    "    with open('../config/linear_algebra.json') as f:\n",
    "        config = json.load(f)\n",
    "    year = str(year)\n",
    "    weekly_count = config[year][\"WeeklyVideoCount\"]\n",
    "    flipped_weeks = len(config[year][\"FlippedWeeks\"])\n",
    "    start_week = int(datetime.strptime(config[year][\"StartFlipped\"], '%Y-%m-%d').strftime(\"%V\")) #Get the 1st week number\n",
    "    weeks = list(range(start_week, start_week + flipped_weeks))\n",
    "    return pd.DataFrame(index=weeks, data=weekly_count, columns=[\"Total\"])\n",
    "\n",
    "def get_dated_videos():\n",
    "    #PATH = '../data/lin_alg_moodle/video_with_durations.csv'\n",
    "    #dated_videos = pd.read_csv(PATH, index_col=0)\n",
    "    dated_videos = original_dated_videos\n",
    "    dated_videos['Due_date'] = pd.to_datetime(dated_videos['Due_date']) #Convert String to datetime\n",
    "    dated_videos['Year'] = dated_videos.Due_date.dt.year #Add year column\n",
    "    return dated_videos\n",
    "\n",
    "def videos_watched_on_right_week(user_events):\n",
    "    dated_videos = get_dated_videos()\n",
    "    first_views = user_events.merge(dated_videos, on=['VideoID', 'Year'])\n",
    "    first_views['From_date'] = first_views.Due_date - timedelta(weeks=1)\n",
    "    return first_views[(first_views.Date >= first_views.From_date) & (first_views.Date <= first_views.Due_date)]\n",
    "\n",
    "def weekly_prop(user_events):\n",
    "    \"\"\"Compute the ratio of video events in the dataframe over the videos assigned weekly the user_events\n",
    "    may only contained only the first viewings, only rewatched videos or only interrupted videos.\"\"\"\n",
    "    if len(user_events) == 0:\n",
    "        return [0]\n",
    "    first_views = videos_watched_on_right_week(user_events)\n",
    "    #Freq Weekly starting on Thursday since the last due date is on Thursday\n",
    "    weekly_count = first_views.groupby(pd.Grouper(key=\"Date\", freq=\"W-THU\")).size().to_frame(name=\"Count\")\n",
    "    #Convert dates to week number\n",
    "    weekly_count.index = [int(week) for week in weekly_count.index.strftime(\"%V\")]\n",
    "    #Number of assigned videos per week\n",
    "    weekly_total = week_video_total(user_events.Year.iloc[0])\n",
    "    #Merge and compute the ratio of watched\n",
    "    weekly_prop = weekly_total.merge(weekly_count, left_index=True, right_index=True, how='left')\n",
    "    weekly_prop['Count'] = weekly_prop.Count.fillna(0)\n",
    "    return np.clip((weekly_prop.Count / weekly_prop.Total).values,0,1)"
   ]
  },
  {
   "cell_type": "markdown",
   "metadata": {},
   "source": [
    "#### Videos watched"
   ]
  },
  {
   "cell_type": "code",
   "execution_count": 204,
   "metadata": {
    "ExecuteTime": {
     "end_time": "2020-11-13T17:28:17.117876Z",
     "start_time": "2020-11-13T17:28:15.018648Z"
    }
   },
   "outputs": [
    {
     "name": "stdout",
     "output_type": "stream",
     "text": [
      "Videos watched\n",
      "Average 0.6972405372405373\n",
      "SG 0.37290747472253855\n"
     ]
    }
   ],
   "source": [
    "# Average and SD of the proportion of videos watched per week\n",
    "def weekly_prop_watched(user_events):\n",
    "    \"\"\"Compute the proportion of videos watched (nb of videos watched / nb of videos assigned)\"\"\"\n",
    "    first_views = user_events.drop_duplicates(subset=[\"VideoID\"]) #Only keep the first views per video\n",
    "    return weekly_prop(first_views)\n",
    "\n",
    "def avg_weekly_prop_watched(df): \n",
    "    return weekly_prop_watched(df).mean()\n",
    "\n",
    "def std_weekly_prop_watched(df):\n",
    "    return weekly_prop_watched(df).std()\n",
    "\n",
    "print(\"Videos watched\")\n",
    "print(\"Average\",avg_weekly_prop_watched(user_events))\n",
    "print(\"SG\",std_weekly_prop_watched(user_events))"
   ]
  },
  {
   "cell_type": "markdown",
   "metadata": {},
   "source": [
    "#### Videos rewatched"
   ]
  },
  {
   "cell_type": "code",
   "execution_count": 205,
   "metadata": {
    "ExecuteTime": {
     "end_time": "2020-11-13T17:28:18.693520Z",
     "start_time": "2020-11-13T17:28:17.120772Z"
    },
    "scrolled": true
   },
   "outputs": [
    {
     "name": "stdout",
     "output_type": "stream",
     "text": [
      "Videos replayed\n",
      "Average 0.08987484737484737\n",
      "SG 0.09161292670783444\n"
     ]
    }
   ],
   "source": [
    "# Average and SD of the proportion of videos replayed per week\n",
    "def weekly_prop_replayed(user_events):\n",
    "    \"\"\"Compute the proportion of videos replayed (nb of videos replayed / nb of videos assigned)\"\"\"\n",
    "    # We assume that a student watches a video at most once per day (cannot have multiple replays in one day)\n",
    "    replayed_events = user_events.copy()\n",
    "    replayed_events['Day'] = replayed_events.Date.dt.date #Create column with the date but not the time\n",
    "    replayed_events.drop_duplicates(subset=['VideoID', 'Day'], inplace=True) #Only keep on event per video per day\n",
    "    replayed_events = replayed_events[replayed_events.duplicated(subset=['VideoID'])] # Keep the replayed videos\n",
    "    return weekly_prop(replayed_events)\n",
    "\n",
    "def avg_weekly_prop_replayed(df): \n",
    "    return weekly_prop_replayed(df).mean()\n",
    "\n",
    "def std_weekly_prop_replayed(df):\n",
    "    return weekly_prop_replayed(df).std()\n",
    "\n",
    "print(\"Videos replayed\")\n",
    "print(\"Average\",avg_weekly_prop_replayed(user_events))\n",
    "print(\"SG\",std_weekly_prop_replayed(user_events))"
   ]
  },
  {
   "cell_type": "markdown",
   "metadata": {},
   "source": [
    "#### Videos interrupted"
   ]
  },
  {
   "cell_type": "code",
   "execution_count": 89,
   "metadata": {
    "ExecuteTime": {
     "end_time": "2020-11-13T18:36:53.948653Z",
     "start_time": "2020-11-13T18:36:52.755216Z"
    }
   },
   "outputs": [
    {
     "name": "stdout",
     "output_type": "stream",
     "text": [
      "Videos replayed\n",
      "Average 0.0\n",
      "SG 0.0\n"
     ]
    }
   ],
   "source": [
    "def weekly_prop_interrupted(user_events):\n",
    "    STOP_EVENTS = ['Video.Pause', 'Video.Stop', 'Video.Load']\n",
    "    df = user_events.copy() #Sort in descreasing order\n",
    "    video_durations = get_dated_videos().drop_duplicates(subset=['VideoID'])[['VideoID', 'Duration']]\n",
    "    df = df.merge(video_durations)\n",
    "    df.sort_values(by=\"TimeStamp\", inplace=True)\n",
    "    df['Diff'] = abs(df.TimeStamp.diff(-1))\n",
    "    df['NextVideoID'] = df.VideoID.shift(-1)\n",
    "    \n",
    "    df = df[(df.Duration - df.CurrentTime > 60)] #Remove events in the last minute\n",
    "    # Interruption when\n",
    "    #   * a break is too long\n",
    "    #   * a break (not in the last minute) is followed by an event in another video (the user left the video)\n",
    "    #   * an event occurs in another video before the end of the current video\n",
    "    break_too_long = (df.EventType.isin(STOP_EVENTS)) & (df.Diff > 3600)\n",
    "    break_then_other_video = (df.EventType.isin(STOP_EVENTS)) &  (df.VideoID != df.NextVideoID)\n",
    "    event_other_video = (df.VideoID != df.NextVideoID) & ((df.Duration - df.CurrentTime) > (df.Diff))\n",
    "    interrup_conditions = break_too_long | break_then_other_video | event_other_video\n",
    "    df = df[interrup_conditions]\n",
    "    return weekly_prop(df)\n",
    "\n",
    "def avg_weekly_prop_interrupted(df): \n",
    "    return weekly_prop_interrupted(df).mean()\n",
    "\n",
    "def std_weekly_prop_interrupted(df):\n",
    "    return weekly_prop_interrupted(df).std()\n",
    "\n",
    "print(\"Videos replayed\")\n",
    "print(\"Average\",avg_weekly_prop_interrupted(user_events))\n",
    "print(\"SG\",std_weekly_prop_interrupted(user_events))"
   ]
  },
  {
   "cell_type": "markdown",
   "metadata": {},
   "source": [
    "#### Interruption exploration\n",
    "\n",
    "There is no interruption event. In fact there exists an event called `Video.Stop` but it consists of the union of event types causing an interruption of the video, for instance `Video.Pause` or `Video.Load`. However I noticed that some events occurred at the same time as the end of the video: **is there a \"closing event\" that always occur at the end of the video?**\n",
    "\n",
    "In order to test that, the `interruption` function returns the video events occurring in the `time_threshold` last seconds. By computing the proportion of videos where an event occurred in the last seconds and the total number of unique videos watched, we can have a approximative idea of how often an \"interruption event\" occurs."
   ]
  },
  {
   "cell_type": "code",
   "execution_count": 13,
   "metadata": {
    "ExecuteTime": {
     "end_time": "2020-11-13T17:28:19.122596Z",
     "start_time": "2020-11-13T17:28:18.697631Z"
    }
   },
   "outputs": [
    {
     "name": "stdout",
     "output_type": "stream",
     "text": [
      "Number of videos containing an closing event: 70\n",
      "Total number of distinct videos watched: 85\n"
     ]
    }
   ],
   "source": [
    "def interruption(df, time_threshold=60):\n",
    "    \"\"\"Returns events occurring in the last time_threshold seconds (max one event per video) \"\"\"\n",
    "    user_event = df.copy()\n",
    "    user_event['Day'] = user_event.Date.dt.date #Create column with the date but not the time\n",
    "    dated_videos = get_dated_videos()\n",
    "    user_event = user_event.merge(dated_videos, on=['VideoID', 'Year'])\n",
    "    return user_event[abs(user_event.CurrentTime - user_event.Duration) <= time_threshold]\\\n",
    "                                                                    .drop_duplicates(subset=['VideoID'])\n",
    "\n",
    "print(\"Number of videos containing an closing event:\",len(interruption(user_events)))\n",
    "print(\"Total number of distinct videos watched:\", len(user_events.drop_duplicates(subset=['VideoID'])))"
   ]
  },
  {
   "cell_type": "code",
   "execution_count": 14,
   "metadata": {
    "ExecuteTime": {
     "end_time": "2020-11-13T17:28:19.183703Z",
     "start_time": "2020-11-13T17:28:19.125648Z"
    }
   },
   "outputs": [
    {
     "data": {
      "text/html": [
       "<div>\n",
       "<style scoped>\n",
       "    .dataframe tbody tr th:only-of-type {\n",
       "        vertical-align: middle;\n",
       "    }\n",
       "\n",
       "    .dataframe tbody tr th {\n",
       "        vertical-align: top;\n",
       "    }\n",
       "\n",
       "    .dataframe thead th {\n",
       "        text-align: right;\n",
       "    }\n",
       "</style>\n",
       "<table border=\"1\" class=\"dataframe\">\n",
       "  <thead>\n",
       "    <tr style=\"text-align: right;\">\n",
       "      <th></th>\n",
       "      <th>DataPackageID</th>\n",
       "      <th>AccountUserID</th>\n",
       "      <th>VideoID</th>\n",
       "      <th>TimeStamp</th>\n",
       "      <th>EventType</th>\n",
       "      <th>SeekType</th>\n",
       "      <th>OldTime</th>\n",
       "      <th>CurrentTime</th>\n",
       "      <th>NewTime</th>\n",
       "      <th>OldSpeed</th>\n",
       "      <th>NewSpeed</th>\n",
       "      <th>Date</th>\n",
       "      <th>Year</th>\n",
       "    </tr>\n",
       "  </thead>\n",
       "  <tbody>\n",
       "    <tr>\n",
       "      <th>780862</th>\n",
       "      <td>EPFL-AlgebreLineaire-2018</td>\n",
       "      <td>47670</td>\n",
       "      <td>eaee610676f34fb9b729f3c5ba62499b</td>\n",
       "      <td>1541949476</td>\n",
       "      <td>Video.Seek</td>\n",
       "      <td>onSlideSeek</td>\n",
       "      <td>3.09653</td>\n",
       "      <td>NaN</td>\n",
       "      <td>544.0</td>\n",
       "      <td>NaN</td>\n",
       "      <td>NaN</td>\n",
       "      <td>2018-11-11 15:17:56</td>\n",
       "      <td>2018</td>\n",
       "    </tr>\n",
       "    <tr>\n",
       "      <th>780863</th>\n",
       "      <td>EPFL-AlgebreLineaire-2018</td>\n",
       "      <td>47670</td>\n",
       "      <td>5bc0ff2e9d6f4418927029a091383450</td>\n",
       "      <td>1545057343</td>\n",
       "      <td>Video.Play</td>\n",
       "      <td>None</td>\n",
       "      <td>NaN</td>\n",
       "      <td>599.2590</td>\n",
       "      <td>NaN</td>\n",
       "      <td>NaN</td>\n",
       "      <td>NaN</td>\n",
       "      <td>2018-12-17 14:35:43</td>\n",
       "      <td>2018</td>\n",
       "    </tr>\n",
       "    <tr>\n",
       "      <th>780864</th>\n",
       "      <td>EPFL-AlgebreLineaire-2018</td>\n",
       "      <td>47670</td>\n",
       "      <td>f63f35d6e527434cac3c8c8872f88270</td>\n",
       "      <td>1543843911</td>\n",
       "      <td>Video.Play</td>\n",
       "      <td>None</td>\n",
       "      <td>NaN</td>\n",
       "      <td>1148.8400</td>\n",
       "      <td>NaN</td>\n",
       "      <td>NaN</td>\n",
       "      <td>NaN</td>\n",
       "      <td>2018-12-03 13:31:51</td>\n",
       "      <td>2018</td>\n",
       "    </tr>\n",
       "    <tr>\n",
       "      <th>780865</th>\n",
       "      <td>EPFL-AlgebreLineaire-2018</td>\n",
       "      <td>47670</td>\n",
       "      <td>5513f6dfd7314224853327ea7b4e2dfc</td>\n",
       "      <td>1542028768</td>\n",
       "      <td>Video.Play</td>\n",
       "      <td>None</td>\n",
       "      <td>NaN</td>\n",
       "      <td>624.0000</td>\n",
       "      <td>NaN</td>\n",
       "      <td>NaN</td>\n",
       "      <td>NaN</td>\n",
       "      <td>2018-11-12 13:19:28</td>\n",
       "      <td>2018</td>\n",
       "    </tr>\n",
       "    <tr>\n",
       "      <th>780866</th>\n",
       "      <td>EPFL-AlgebreLineaire-2018</td>\n",
       "      <td>47670</td>\n",
       "      <td>4a3f41d9f86f4e7da9ebdc6e3a0173f7</td>\n",
       "      <td>1542287493</td>\n",
       "      <td>Video.Play</td>\n",
       "      <td>None</td>\n",
       "      <td>NaN</td>\n",
       "      <td>78.9593</td>\n",
       "      <td>NaN</td>\n",
       "      <td>NaN</td>\n",
       "      <td>NaN</td>\n",
       "      <td>2018-11-15 13:11:33</td>\n",
       "      <td>2018</td>\n",
       "    </tr>\n",
       "    <tr>\n",
       "      <th>...</th>\n",
       "      <td>...</td>\n",
       "      <td>...</td>\n",
       "      <td>...</td>\n",
       "      <td>...</td>\n",
       "      <td>...</td>\n",
       "      <td>...</td>\n",
       "      <td>...</td>\n",
       "      <td>...</td>\n",
       "      <td>...</td>\n",
       "      <td>...</td>\n",
       "      <td>...</td>\n",
       "      <td>...</td>\n",
       "      <td>...</td>\n",
       "    </tr>\n",
       "    <tr>\n",
       "      <th>783596</th>\n",
       "      <td>EPFL-AlgebreLineaire-2018</td>\n",
       "      <td>47670</td>\n",
       "      <td>6f7c4414324047a4b9d12a1d87d5875e</td>\n",
       "      <td>1542464281</td>\n",
       "      <td>Video.Seek</td>\n",
       "      <td>onSlideSeek</td>\n",
       "      <td>255.95500</td>\n",
       "      <td>NaN</td>\n",
       "      <td>80.0</td>\n",
       "      <td>NaN</td>\n",
       "      <td>NaN</td>\n",
       "      <td>2018-11-17 14:18:01</td>\n",
       "      <td>2018</td>\n",
       "    </tr>\n",
       "    <tr>\n",
       "      <th>783597</th>\n",
       "      <td>EPFL-AlgebreLineaire-2018</td>\n",
       "      <td>47670</td>\n",
       "      <td>8cf6c396f2114e0fa21a6309cf6626e1</td>\n",
       "      <td>1543335525</td>\n",
       "      <td>Video.Play</td>\n",
       "      <td>None</td>\n",
       "      <td>NaN</td>\n",
       "      <td>519.2020</td>\n",
       "      <td>NaN</td>\n",
       "      <td>NaN</td>\n",
       "      <td>NaN</td>\n",
       "      <td>2018-11-27 16:18:45</td>\n",
       "      <td>2018</td>\n",
       "    </tr>\n",
       "    <tr>\n",
       "      <th>783598</th>\n",
       "      <td>EPFL-AlgebreLineaire-2018</td>\n",
       "      <td>47670</td>\n",
       "      <td>ad4b668b3098404da342c8931fe1b2ea</td>\n",
       "      <td>1545065335</td>\n",
       "      <td>Video.Play</td>\n",
       "      <td>None</td>\n",
       "      <td>NaN</td>\n",
       "      <td>361.1310</td>\n",
       "      <td>NaN</td>\n",
       "      <td>NaN</td>\n",
       "      <td>NaN</td>\n",
       "      <td>2018-12-17 16:48:55</td>\n",
       "      <td>2018</td>\n",
       "    </tr>\n",
       "    <tr>\n",
       "      <th>783599</th>\n",
       "      <td>EPFL-AlgebreLineaire-2018</td>\n",
       "      <td>47670</td>\n",
       "      <td>251c616b45df417f97072346ffeeecb8</td>\n",
       "      <td>1544445677</td>\n",
       "      <td>Video.Transcript.Hide</td>\n",
       "      <td>None</td>\n",
       "      <td>NaN</td>\n",
       "      <td>NaN</td>\n",
       "      <td>NaN</td>\n",
       "      <td>NaN</td>\n",
       "      <td>NaN</td>\n",
       "      <td>2018-12-10 12:41:17</td>\n",
       "      <td>2018</td>\n",
       "    </tr>\n",
       "    <tr>\n",
       "      <th>783600</th>\n",
       "      <td>EPFL-AlgebreLineaire-2018</td>\n",
       "      <td>47670</td>\n",
       "      <td>50cb0704de674518b328a8255029430f</td>\n",
       "      <td>1542112626</td>\n",
       "      <td>Video.Load</td>\n",
       "      <td>None</td>\n",
       "      <td>NaN</td>\n",
       "      <td>NaN</td>\n",
       "      <td>NaN</td>\n",
       "      <td>NaN</td>\n",
       "      <td>NaN</td>\n",
       "      <td>2018-11-13 12:37:06</td>\n",
       "      <td>2018</td>\n",
       "    </tr>\n",
       "  </tbody>\n",
       "</table>\n",
       "<p>2739 rows × 13 columns</p>\n",
       "</div>"
      ],
      "text/plain": [
       "                    DataPackageID AccountUserID  \\\n",
       "780862  EPFL-AlgebreLineaire-2018         47670   \n",
       "780863  EPFL-AlgebreLineaire-2018         47670   \n",
       "780864  EPFL-AlgebreLineaire-2018         47670   \n",
       "780865  EPFL-AlgebreLineaire-2018         47670   \n",
       "780866  EPFL-AlgebreLineaire-2018         47670   \n",
       "...                           ...           ...   \n",
       "783596  EPFL-AlgebreLineaire-2018         47670   \n",
       "783597  EPFL-AlgebreLineaire-2018         47670   \n",
       "783598  EPFL-AlgebreLineaire-2018         47670   \n",
       "783599  EPFL-AlgebreLineaire-2018         47670   \n",
       "783600  EPFL-AlgebreLineaire-2018         47670   \n",
       "\n",
       "                                 VideoID   TimeStamp              EventType  \\\n",
       "780862  eaee610676f34fb9b729f3c5ba62499b  1541949476             Video.Seek   \n",
       "780863  5bc0ff2e9d6f4418927029a091383450  1545057343             Video.Play   \n",
       "780864  f63f35d6e527434cac3c8c8872f88270  1543843911             Video.Play   \n",
       "780865  5513f6dfd7314224853327ea7b4e2dfc  1542028768             Video.Play   \n",
       "780866  4a3f41d9f86f4e7da9ebdc6e3a0173f7  1542287493             Video.Play   \n",
       "...                                  ...         ...                    ...   \n",
       "783596  6f7c4414324047a4b9d12a1d87d5875e  1542464281             Video.Seek   \n",
       "783597  8cf6c396f2114e0fa21a6309cf6626e1  1543335525             Video.Play   \n",
       "783598  ad4b668b3098404da342c8931fe1b2ea  1545065335             Video.Play   \n",
       "783599  251c616b45df417f97072346ffeeecb8  1544445677  Video.Transcript.Hide   \n",
       "783600  50cb0704de674518b328a8255029430f  1542112626             Video.Load   \n",
       "\n",
       "           SeekType    OldTime  CurrentTime  NewTime  OldSpeed  NewSpeed  \\\n",
       "780862  onSlideSeek    3.09653          NaN    544.0       NaN       NaN   \n",
       "780863         None        NaN     599.2590      NaN       NaN       NaN   \n",
       "780864         None        NaN    1148.8400      NaN       NaN       NaN   \n",
       "780865         None        NaN     624.0000      NaN       NaN       NaN   \n",
       "780866         None        NaN      78.9593      NaN       NaN       NaN   \n",
       "...             ...        ...          ...      ...       ...       ...   \n",
       "783596  onSlideSeek  255.95500          NaN     80.0       NaN       NaN   \n",
       "783597         None        NaN     519.2020      NaN       NaN       NaN   \n",
       "783598         None        NaN     361.1310      NaN       NaN       NaN   \n",
       "783599         None        NaN          NaN      NaN       NaN       NaN   \n",
       "783600         None        NaN          NaN      NaN       NaN       NaN   \n",
       "\n",
       "                      Date  Year  \n",
       "780862 2018-11-11 15:17:56  2018  \n",
       "780863 2018-12-17 14:35:43  2018  \n",
       "780864 2018-12-03 13:31:51  2018  \n",
       "780865 2018-11-12 13:19:28  2018  \n",
       "780866 2018-11-15 13:11:33  2018  \n",
       "...                    ...   ...  \n",
       "783596 2018-11-17 14:18:01  2018  \n",
       "783597 2018-11-27 16:18:45  2018  \n",
       "783598 2018-12-17 16:48:55  2018  \n",
       "783599 2018-12-10 12:41:17  2018  \n",
       "783600 2018-11-13 12:37:06  2018  \n",
       "\n",
       "[2739 rows x 13 columns]"
      ]
     },
     "execution_count": 14,
     "metadata": {},
     "output_type": "execute_result"
    }
   ],
   "source": [
    "user_events"
   ]
  },
  {
   "cell_type": "code",
   "execution_count": 15,
   "metadata": {
    "ExecuteTime": {
     "end_time": "2020-11-13T17:28:19.243597Z",
     "start_time": "2020-11-13T17:28:19.186507Z"
    },
    "scrolled": true
   },
   "outputs": [],
   "source": [
    "from tqdm import tqdm\n",
    "\n",
    "def compute_closing_prop():\n",
    "    \"\"\"Compute the proportion of videos containing an closing event for each user\"\"\"\n",
    "    till_end_prop = []\n",
    "    for userId in tqdm(events.AccountUserID.unique()):\n",
    "        user_events = events.loc[events.AccountUserID == userId]\n",
    "        total = len(user_events.drop_duplicates(subset=['VideoID']))\n",
    "        if total != 0:\n",
    "            till_end_prop.append(len(interruption(user_events)) / total)\n",
    "    return np.array(till_end_prop)\n",
    "if False:\n",
    "    till_end_prop = compute_closing_prop()\n",
    "    print(\"Average proportion of videos with closing event:\",till_end_prop.mean())\n",
    "    print(\"SD of the proportion of videos with closing event:\",till_end_prop.std())"
   ]
  },
  {
   "cell_type": "markdown",
   "metadata": {},
   "source": [
    "We can see that in average 60% ($\\pm$ 25%) of the videos end with an event occurring in the last minute."
   ]
  },
  {
   "cell_type": "markdown",
   "metadata": {},
   "source": [
    "## Actions"
   ]
  },
  {
   "cell_type": "code",
   "execution_count": 27,
   "metadata": {
    "ExecuteTime": {
     "end_time": "2020-11-13T17:28:19.281903Z",
     "start_time": "2020-11-13T17:28:19.246045Z"
    }
   },
   "outputs": [],
   "source": [
    "ACTIONS = ['Video.Play', 'Video.Pause', 'Video.SeekBackward', \n",
    "           'Video.SeekForward', 'Video.SpeedChange', 'Video.Stop']"
   ]
  },
  {
   "cell_type": "markdown",
   "metadata": {},
   "source": [
    "### Total number of actions"
   ]
  },
  {
   "cell_type": "code",
   "execution_count": 28,
   "metadata": {
    "ExecuteTime": {
     "end_time": "2020-11-13T17:28:19.322766Z",
     "start_time": "2020-11-13T17:28:19.285285Z"
    }
   },
   "outputs": [
    {
     "name": "stdout",
     "output_type": "stream",
     "text": [
      "Total number of actions: 3685\n"
     ]
    }
   ],
   "source": [
    "def total_actions(user_events):\n",
    "    \"\"\"Counts the total number of actions performed across every videos\"\"\"\n",
    "    return len(user_events)\n",
    "\n",
    "print(\"Total number of actions:\", total_actions(user_events))"
   ]
  },
  {
   "cell_type": "markdown",
   "metadata": {},
   "source": [
    "### Frequency of all actions"
   ]
  },
  {
   "cell_type": "code",
   "execution_count": 29,
   "metadata": {
    "ExecuteTime": {
     "end_time": "2020-11-13T17:28:19.659689Z",
     "start_time": "2020-11-13T17:28:19.325719Z"
    }
   },
   "outputs": [
    {
     "name": "stdout",
     "output_type": "stream",
     "text": [
      "4.667828951403065 actions / hour\n"
     ]
    }
   ],
   "source": [
    "def frequency_all_actions(user_events):\n",
    "    \"\"\"Compute the frequency of actions performed per hour spent watching videos\"\"\"\n",
    "    user_events = user_events.copy()\n",
    "    user_events.loc[:,'Day'] = user_events.loc[:,'Date'].dt.date #Create column with the date but not the time\n",
    "    user_events.drop_duplicates(subset=['VideoID', 'Day'], inplace=True) #Only keep on event per video per day\n",
    "    durations = get_dated_videos()\n",
    "    user_events = user_events.merge(durations, on = [\"VideoID\", \"Year\"])\n",
    "    watching_time = user_events.Duration.sum() / 3600 # hours\n",
    "    return total_actions(user_events) / watching_time if watching_time != 0 else 0\n",
    "\n",
    "print(frequency_all_actions(user_events),\"actions / hour\")"
   ]
  },
  {
   "cell_type": "markdown",
   "metadata": {},
   "source": [
    "### Frequency of each action"
   ]
  },
  {
   "cell_type": "code",
   "execution_count": 30,
   "metadata": {
    "ExecuteTime": {
     "end_time": "2020-11-13T17:28:19.720762Z",
     "start_time": "2020-11-13T17:28:19.664239Z"
    }
   },
   "outputs": [
    {
     "name": "stdout",
     "output_type": "stream",
     "text": [
      "play 0.3913161465400271\n",
      "pause 0.36797829036635005\n",
      "seek_backward 0.020895522388059702\n",
      "seek_forward 0.0016282225237449117\n",
      "speed_change 0.07381275440976934\n",
      "stop 0.032021709633649934\n",
      "Total proportition: 0.8876526458616011\n"
     ]
    }
   ],
   "source": [
    "def count_actions(user_events, action):\n",
    "    \"\"\"Count the total number of events with type `action`\"\"\"\n",
    "    if 'Backward' in action:\n",
    "        user_events = user_events[(user_events.EventType == 'Video.Seek') & \n",
    "                                  (user_events.OldTime < user_events.NewTime)]\n",
    "    elif 'Forward' in action:\n",
    "        user_events = user_events[(user_events.EventType == 'Video.Seek') & \n",
    "                                  (user_events.OldTime > user_events.NewTime)]\n",
    "    else:\n",
    "        user_events = user_events[user_events.EventType == action]        \n",
    "    return len(user_events)\n",
    "\n",
    "def freq_play(user_events):\n",
    "    return count_actions(user_events,'Video.Play') / total_actions(user_events)\n",
    "\n",
    "def freq_pause(user_events):\n",
    "    return count_actions(user_events,'Video.Pause') / total_actions(user_events)\n",
    "\n",
    "def freq_seek_backward(user_events):\n",
    "    return count_actions(user_events,'Video.SeekBackward') / total_actions(user_events)\n",
    "\n",
    "def freq_seek_forward(user_events):\n",
    "    return count_actions(user_events,'Video.SeekForward') / total_actions(user_events)\n",
    "\n",
    "def freq_speed_change(user_events):\n",
    "    return count_actions(user_events,'Video.SpeedChange') / total_actions(user_events)\n",
    "\n",
    "def freq_stop(user_events):\n",
    "    return count_actions(user_events,'Video.Stop') / total_actions(user_events)\n",
    "\n",
    "total_sum = 0\n",
    "for action in [freq_play,freq_pause, freq_seek_backward, freq_seek_forward, freq_speed_change, freq_stop]:\n",
    "    freq = action(user_events)\n",
    "    total_sum += freq\n",
    "    print(action.__name__[5:], freq)\n",
    "    \n",
    "print(\"Total proportition:\", total_sum)\n"
   ]
  },
  {
   "cell_type": "markdown",
   "metadata": {
    "ExecuteTime": {
     "end_time": "2020-11-10T19:27:21.840880Z",
     "start_time": "2020-11-10T19:27:21.396917Z"
    }
   },
   "source": [
    "Missing events: `Video.Transcript.Translate.EN`, `Video.Load`"
   ]
  },
  {
   "cell_type": "markdown",
   "metadata": {},
   "source": [
    "### Pause durations"
   ]
  },
  {
   "cell_type": "code",
   "execution_count": 52,
   "metadata": {
    "ExecuteTime": {
     "end_time": "2020-11-13T17:28:19.802228Z",
     "start_time": "2020-11-13T17:28:19.723504Z"
    },
    "scrolled": true
   },
   "outputs": [
    {
     "name": "stdout",
     "output_type": "stream",
     "text": [
      "Pause durations\n",
      "Average 38.10592885375494\n",
      "SG 60.45418220989243\n",
      "Proportion of pauses included in the threshold: 0.9328908554572272\n"
     ]
    }
   ],
   "source": [
    "def pause_duration(user_events, max_duration=500):\n",
    "    \"\"\"Compute the time interval between each pause event and the next play event`\n",
    "    Only pause durataions smaller than `max_duration` are taken into account. \n",
    "    Default threshold to 10 min\"\"\"\n",
    "    \n",
    "    pause_events = user_events[user_events.EventType.isin([\"Video.Pause\", \"Video.Play\"])].copy()\n",
    "    pause_events = pause_events.sort_values(by=\"TimeStamp\")\n",
    "    pause_events['PrevEvent'] = pause_events['EventType'].shift(1)\n",
    "    pause_events['Diff'] = pause_events.TimeStamp.diff().dropna()\n",
    "    pause_events = pause_events[pause_events.PrevEvent == 'Video.Pause']\n",
    "    nb_pause = len(pause_events)\n",
    "    pause_events = pause_events[pause_events.Diff < max_duration]\n",
    "    return pause_events.Diff.values, len(pause_events.Diff.values) / nb_pause\n",
    "\n",
    "def avg_pause_duration(user_events):\n",
    "    return pause_duration(user_events)[0].mean()\n",
    "\n",
    "def std_pause_duration(user_events):\n",
    "    return pause_duration(user_events)[0].std()\n",
    "\n",
    "print(\"Pause durations\")\n",
    "print(\"Average\",avg_pause_duration(user_events))\n",
    "print(\"SG\",std_pause_duration(user_events))\n",
    "print(\"Proportion of pauses included in the threshold:\", pause_duration(user_events)[1])"
   ]
  },
  {
   "cell_type": "code",
   "execution_count": 21,
   "metadata": {
    "ExecuteTime": {
     "end_time": "2020-11-13T17:28:20.299277Z",
     "start_time": "2020-11-13T17:28:19.804534Z"
    },
    "scrolled": true
   },
   "outputs": [
    {
     "data": {
      "image/png": "[encoded data removed]",
      "text/plain": [
       "<Figure size 432x288 with 1 Axes>"
      ]
     },
     "metadata": {},
     "output_type": "display_data"
    }
   ],
   "source": [
    "pauses = pause_duration(user_events, 500)\n",
    "sns.histplot(pauses[0])\n",
    "plt.xlabel(\"Pause durations (seconds)\")\n",
    "plt.title(\"Pause durations distribution, contains {:.0f}% of all the pause\".format(pauses[1] * 100));"
   ]
  },
  {
   "cell_type": "markdown",
   "metadata": {},
   "source": [
    "From the above histogram, 500 seconds (around 8 minutes) seems to be a reasonable threshold as 90% of all the pause durations are below this threshold and that as the duration increase the count tends to 0."
   ]
  },
  {
   "cell_type": "markdown",
   "metadata": {},
   "source": [
    "### Seek Length"
   ]
  },
  {
   "cell_type": "code",
   "execution_count": 32,
   "metadata": {
    "ExecuteTime": {
     "end_time": "2020-11-13T17:28:20.347367Z",
     "start_time": "2020-11-13T17:28:20.304089Z"
    }
   },
   "outputs": [
    {
     "name": "stdout",
     "output_type": "stream",
     "text": [
      "Seek length\n",
      "Average 61.65760840963855\n",
      "SG 206.35484738063911\n"
     ]
    }
   ],
   "source": [
    "def seek_length(user_events):\n",
    "    user_events = user_events[user_events.EventType == 'Video.Seek']\n",
    "    return abs(user_events.OldTime - user_events.NewTime).values\n",
    "\n",
    "def avg_seek_length(user_events):\n",
    "    return seek_length(user_events).mean()\n",
    "\n",
    "def std_seek_length(user_events):\n",
    "    return seek_length(user_events).std()\n",
    "\n",
    "print(\"Seek length\")\n",
    "print(\"Average\",avg_seek_length(user_events))\n",
    "print(\"SG\",std_seek_length(user_events))"
   ]
  },
  {
   "cell_type": "markdown",
   "metadata": {},
   "source": [
    "### Time speeding-up video"
   ]
  },
  {
   "cell_type": "code",
   "execution_count": 33,
   "metadata": {
    "ExecuteTime": {
     "end_time": "2020-11-13T17:28:21.052146Z",
     "start_time": "2020-11-13T17:28:20.359419Z"
    }
   },
   "outputs": [
    {
     "data": {
      "text/html": [
       "<div>\n",
       "<style scoped>\n",
       "    .dataframe tbody tr th:only-of-type {\n",
       "        vertical-align: middle;\n",
       "    }\n",
       "\n",
       "    .dataframe tbody tr th {\n",
       "        vertical-align: top;\n",
       "    }\n",
       "\n",
       "    .dataframe thead th {\n",
       "        text-align: right;\n",
       "    }\n",
       "</style>\n",
       "<table border=\"1\" class=\"dataframe\">\n",
       "  <thead>\n",
       "    <tr style=\"text-align: right;\">\n",
       "      <th></th>\n",
       "      <th>DataPackageID</th>\n",
       "      <th>VideoID</th>\n",
       "      <th>TimeStamp</th>\n",
       "      <th>EventType</th>\n",
       "      <th>CurrentTime</th>\n",
       "      <th>OldSpeed</th>\n",
       "      <th>NewSpeed</th>\n",
       "      <th>Duration</th>\n",
       "    </tr>\n",
       "  </thead>\n",
       "  <tbody>\n",
       "    <tr>\n",
       "      <th>0</th>\n",
       "      <td>EPFL-AlgebreLineaire-2019</td>\n",
       "      <td>4fe3df7b0c064bf2b68d7bcbe2663743</td>\n",
       "      <td>1568987487</td>\n",
       "      <td>Video.SpeedChange</td>\n",
       "      <td>2.045042</td>\n",
       "      <td>1.5</td>\n",
       "      <td>1.0</td>\n",
       "      <td>542.0</td>\n",
       "    </tr>\n",
       "    <tr>\n",
       "      <th>1</th>\n",
       "      <td>EPFL-AlgebreLineaire-2019</td>\n",
       "      <td>1aa440de3b5540b8a81b349455c2bc0b</td>\n",
       "      <td>1568989172</td>\n",
       "      <td>Video.SpeedChange</td>\n",
       "      <td>0.021385</td>\n",
       "      <td>1.5</td>\n",
       "      <td>1.0</td>\n",
       "      <td>782.0</td>\n",
       "    </tr>\n",
       "    <tr>\n",
       "      <th>2</th>\n",
       "      <td>EPFL-AlgebreLineaire-2019</td>\n",
       "      <td>1aa440de3b5540b8a81b349455c2bc0b</td>\n",
       "      <td>1568989173</td>\n",
       "      <td>Video.SpeedChange</td>\n",
       "      <td>1.021385</td>\n",
       "      <td>1.0</td>\n",
       "      <td>1.5</td>\n",
       "      <td>782.0</td>\n",
       "    </tr>\n",
       "    <tr>\n",
       "      <th>3</th>\n",
       "      <td>EPFL-AlgebreLineaire-2019</td>\n",
       "      <td>8298affd57ae43d6a46c3c2a60777fba</td>\n",
       "      <td>1569073415</td>\n",
       "      <td>Video.SpeedChange</td>\n",
       "      <td>0.026094</td>\n",
       "      <td>1.0</td>\n",
       "      <td>1.5</td>\n",
       "      <td>707.0</td>\n",
       "    </tr>\n",
       "    <tr>\n",
       "      <th>4</th>\n",
       "      <td>EPFL-AlgebreLineaire-2019</td>\n",
       "      <td>ab810821cd8943ea8a0173e900af8417</td>\n",
       "      <td>1569182759</td>\n",
       "      <td>Video.SpeedChange</td>\n",
       "      <td>197.437000</td>\n",
       "      <td>1.0</td>\n",
       "      <td>2.0</td>\n",
       "      <td>1079.0</td>\n",
       "    </tr>\n",
       "    <tr>\n",
       "      <th>...</th>\n",
       "      <td>...</td>\n",
       "      <td>...</td>\n",
       "      <td>...</td>\n",
       "      <td>...</td>\n",
       "      <td>...</td>\n",
       "      <td>...</td>\n",
       "      <td>...</td>\n",
       "      <td>...</td>\n",
       "    </tr>\n",
       "    <tr>\n",
       "      <th>65</th>\n",
       "      <td>EPFL-AlgebreLineaire-2019</td>\n",
       "      <td>31917c7dcfc24176afbe761dfce79796</td>\n",
       "      <td>1575115316</td>\n",
       "      <td>Video.SpeedChange</td>\n",
       "      <td>0.012831</td>\n",
       "      <td>1.5</td>\n",
       "      <td>1.0</td>\n",
       "      <td>1053.0</td>\n",
       "    </tr>\n",
       "    <tr>\n",
       "      <th>66</th>\n",
       "      <td>EPFL-AlgebreLineaire-2019</td>\n",
       "      <td>1b0f66ea185d4fa5a1d77f4fc5aec779</td>\n",
       "      <td>1575816096</td>\n",
       "      <td>Video.SpeedChange</td>\n",
       "      <td>3.054867</td>\n",
       "      <td>1.0</td>\n",
       "      <td>1.0</td>\n",
       "      <td>1002.0</td>\n",
       "    </tr>\n",
       "    <tr>\n",
       "      <th>67</th>\n",
       "      <td>EPFL-AlgebreLineaire-2019</td>\n",
       "      <td>1b0f66ea185d4fa5a1d77f4fc5aec779</td>\n",
       "      <td>1575816100</td>\n",
       "      <td>Video.SpeedChange</td>\n",
       "      <td>1.054867</td>\n",
       "      <td>1.0</td>\n",
       "      <td>1.5</td>\n",
       "      <td>1002.0</td>\n",
       "    </tr>\n",
       "    <tr>\n",
       "      <th>68</th>\n",
       "      <td>EPFL-AlgebreLineaire-2019</td>\n",
       "      <td>17fd9f65c51d4298942167d3cc64ada0</td>\n",
       "      <td>1575821081</td>\n",
       "      <td>Video.SpeedChange</td>\n",
       "      <td>1.038582</td>\n",
       "      <td>1.5</td>\n",
       "      <td>1.0</td>\n",
       "      <td>618.0</td>\n",
       "    </tr>\n",
       "    <tr>\n",
       "      <th>69</th>\n",
       "      <td>EPFL-AlgebreLineaire-2019</td>\n",
       "      <td>17fd9f65c51d4298942167d3cc64ada0</td>\n",
       "      <td>1575821082</td>\n",
       "      <td>Video.SpeedChange</td>\n",
       "      <td>0.038582</td>\n",
       "      <td>1.0</td>\n",
       "      <td>1.5</td>\n",
       "      <td>618.0</td>\n",
       "    </tr>\n",
       "  </tbody>\n",
       "</table>\n",
       "<p>67 rows × 8 columns</p>\n",
       "</div>"
      ],
      "text/plain": [
       "                DataPackageID                           VideoID   TimeStamp  \\\n",
       "0   EPFL-AlgebreLineaire-2019  4fe3df7b0c064bf2b68d7bcbe2663743  1568987487   \n",
       "1   EPFL-AlgebreLineaire-2019  1aa440de3b5540b8a81b349455c2bc0b  1568989172   \n",
       "2   EPFL-AlgebreLineaire-2019  1aa440de3b5540b8a81b349455c2bc0b  1568989173   \n",
       "3   EPFL-AlgebreLineaire-2019  8298affd57ae43d6a46c3c2a60777fba  1569073415   \n",
       "4   EPFL-AlgebreLineaire-2019  ab810821cd8943ea8a0173e900af8417  1569182759   \n",
       "..                        ...                               ...         ...   \n",
       "65  EPFL-AlgebreLineaire-2019  31917c7dcfc24176afbe761dfce79796  1575115316   \n",
       "66  EPFL-AlgebreLineaire-2019  1b0f66ea185d4fa5a1d77f4fc5aec779  1575816096   \n",
       "67  EPFL-AlgebreLineaire-2019  1b0f66ea185d4fa5a1d77f4fc5aec779  1575816100   \n",
       "68  EPFL-AlgebreLineaire-2019  17fd9f65c51d4298942167d3cc64ada0  1575821081   \n",
       "69  EPFL-AlgebreLineaire-2019  17fd9f65c51d4298942167d3cc64ada0  1575821082   \n",
       "\n",
       "            EventType  CurrentTime  OldSpeed  NewSpeed  Duration  \n",
       "0   Video.SpeedChange     2.045042       1.5       1.0     542.0  \n",
       "1   Video.SpeedChange     0.021385       1.5       1.0     782.0  \n",
       "2   Video.SpeedChange     1.021385       1.0       1.5     782.0  \n",
       "3   Video.SpeedChange     0.026094       1.0       1.5     707.0  \n",
       "4   Video.SpeedChange   197.437000       1.0       2.0    1079.0  \n",
       "..                ...          ...       ...       ...       ...  \n",
       "65  Video.SpeedChange     0.012831       1.5       1.0    1053.0  \n",
       "66  Video.SpeedChange     3.054867       1.0       1.0    1002.0  \n",
       "67  Video.SpeedChange     1.054867       1.0       1.5    1002.0  \n",
       "68  Video.SpeedChange     1.038582       1.5       1.0     618.0  \n",
       "69  Video.SpeedChange     0.038582       1.0       1.5     618.0  \n",
       "\n",
       "[67 rows x 8 columns]"
      ]
     },
     "execution_count": 33,
     "metadata": {},
     "output_type": "execute_result"
    }
   ],
   "source": [
    "def compute_speedchange_current_time(user_events):\n",
    "    \"\"\"Compute the CurrentTime of the SpeedChange event as it is not logged in the db\n",
    "    For that we find the closest event (in the same video and day) with a non null CurrentTime\n",
    "    Then we compute the SpeedChange CurrentTime with the delta time between the 2 events\"\"\"\n",
    "\n",
    "    #Keep only SpeedChange events and events with non null CurrentTime\n",
    "    df = user_events[(user_events.EventType == 'Video.SpeedChange') | (~user_events.CurrentTime.isna())]\n",
    "    #Compute the deltatime between the previous events\n",
    "    df = df.sort_values(by=\"TimeStamp\", ascending=True)\n",
    "    df['NextDiff'] = abs(df.TimeStamp.diff())\n",
    "    df['PrevDiff'] = abs(df.TimeStamp.diff(-1))\n",
    "\n",
    "    ### Define the closest event information: VideoID, TimeStamp and CurrentTime ###\n",
    "    df['NextVideoID'] = df.VideoID.shift()\n",
    "    df['NextTimeStamp'] = df.TimeStamp.shift()\n",
    "    df['NextCurrentTime'] = df.CurrentTime.shift()\n",
    "    df['PrevVideoID'] = df.VideoID.shift(-1)\n",
    "    df['PrevTimeStamp'] = df.TimeStamp.shift(-1)\n",
    "    df['PrevCurrentTime'] = df.CurrentTime.shift(-1)\n",
    "\n",
    "    df['ClosestVideoID'] = np.nan\n",
    "    df['ClosestTimeStamp'] = np.nan\n",
    "    df['ClosestCurrentTime'] = np.nan\n",
    "    #If the next event is the closest\n",
    "    df.loc[df.NextDiff <= df.PrevDiff, 'ClosestVideoID'] = df[df.NextDiff <= df.PrevDiff].NextVideoID\n",
    "    df.loc[df.NextDiff <= df.PrevDiff, 'ClosestTimeStamp'] = df[df.NextDiff <= df.PrevDiff].NextTimeStamp\n",
    "    df.loc[df.NextDiff <= df.PrevDiff, 'ClosestCurrentTime'] = df[df.NextDiff <= df.PrevDiff].NextCurrentTime\n",
    "    #If the previous event is the closest\n",
    "    df.loc[df.NextDiff > df.PrevDiff, 'ClosestVideoID'] = df[df.NextDiff > df.PrevDiff].PrevVideoID\n",
    "    df.loc[df.NextDiff > df.PrevDiff, 'ClosestTimeStamp'] = df[df.NextDiff > df.PrevDiff].PrevTimeStamp\n",
    "    df.loc[df.NextDiff > df.PrevDiff, 'ClosestCurrentTime'] = df[df.NextDiff > df.PrevDiff].PrevCurrentTime\n",
    "\n",
    "    #Filter the SpeedChange events\n",
    "    df = df[(df.EventType == 'Video.SpeedChange') & (df.VideoID == df.ClosestVideoID) &\n",
    "               (~df.ClosestCurrentTime.isna())]\n",
    "    df.drop(columns=['NextDiff', 'NextVideoID','NextTimeStamp',\"NextCurrentTime\",'PrevDiff', \"PrevVideoID\", \n",
    "                       \"PrevTimeStamp\", \"PrevCurrentTime\", \"ClosestVideoID\", 'SeekType', 'OldTime',\n",
    "                       'NewTime', 'AccountUserID', 'Date', 'Year'],inplace=True)\n",
    "    df['CurrentTime'] = df.ClosestCurrentTime + abs(df.TimeStamp - df.ClosestTimeStamp)\n",
    "\n",
    "    #Duration are the same through the year, we can simply keep the first VideoID\n",
    "    video_durations = get_dated_videos().drop_duplicates(subset=['VideoID']) \n",
    "    df = df.merge(video_durations, on=['VideoID'])\n",
    "    df = df[df.CurrentTime < df.Duration]\n",
    "    \n",
    "    df.drop(columns=['ClosestTimeStamp', 'ClosestCurrentTime', 'Chapter', 'Subchapter', 'Source', \n",
    "                   'Due_date', 'Year'],inplace=True)\n",
    "    return df\n",
    "\n",
    "compute_speedchange_current_time(user_events)"
   ]
  },
  {
   "cell_type": "code",
   "execution_count": 50,
   "metadata": {
    "ExecuteTime": {
     "end_time": "2020-11-13T17:33:37.932230Z",
     "start_time": "2020-11-13T17:33:36.249175Z"
    }
   },
   "outputs": [
    {
     "name": "stdout",
     "output_type": "stream",
     "text": [
      "Time speeding up\n",
      "Average 903.4878039215686\n",
      "SG 650.7587703954882\n"
     ]
    }
   ],
   "source": [
    "def compute_time_speeding_up(user_events):\n",
    "    \"\"\"Compute the time spent with a high spedd (> 1) for each video\"\"\"\n",
    "    df = user_events.copy()\n",
    "    sc = compute_speedchange_current_time(user_events)[['TimeStamp', 'EventType', 'CurrentTime']]\n",
    "    df = df.merge(sc, on=['TimeStamp', 'EventType'], how='left')\n",
    "    df['CurrentTime'] = np.where(df.CurrentTime_y.isna(), df.CurrentTime_x, df.CurrentTime_y)\n",
    "    df.drop(columns=['CurrentTime_x', 'CurrentTime_y'], inplace=True)\n",
    "    df = df.sort_values(by='TimeStamp')\n",
    "\n",
    "    def label_speed(row, speed):\n",
    "        newSpeed = speed['value'] if np.isnan(row) else row\n",
    "        speed['value'] = newSpeed\n",
    "        return newSpeed\n",
    "\n",
    "    speed = {\"value\": 1} # Create a mutable object instead of a simple integer in order to modify its value in the label_speed function\n",
    "    df['Speed'] = df.NewSpeed.apply(lambda row: label_speed(row, speed))\n",
    "    df['NextVideoID'] = df.VideoID.shift(-1)\n",
    "\n",
    "    video_durations = get_dated_videos().drop_duplicates(subset=['VideoID'])[['VideoID', 'Duration']]\n",
    "    df = df.merge(video_durations)\n",
    "\n",
    "    df['SpeedUpTime'] = abs(df.TimeStamp.diff(-1))\n",
    "\n",
    "    #If the SpeedUpTime is Nan (last elem of DataFrame) or if the next events is in another video\n",
    "    #then the time speeding up is until the end of the video\n",
    "    conditions = (df.SpeedUpTime.isna()) | (df.VideoID != df.NextVideoID)\n",
    "    df['SpeedUpTime'] = np.where(conditions, df.Duration - df.CurrentTime, df.SpeedUpTime)\n",
    "\n",
    "    #When the speed is switched back to normal or slower then we stop counting\n",
    "    conditions = (df.Speed <= 1) | (df.EventType.isin(['Video.Stop', 'Video.Pause'])) | \\\n",
    "                (df.SpeedUpTime > 3600)\n",
    "    df['SpeedUpTime'] = np.where(conditions, 0, df.SpeedUpTime)\n",
    "    return df.groupby('VideoID').SpeedUpTime.sum().values\n",
    "\n",
    "def avg_time_speeding_up(user_events):\n",
    "    return compute_time_speeding_up(user_events).mean()\n",
    "\n",
    "def std_time_speeding_up(user_events):\n",
    "    return compute_time_speeding_up(user_events).std()\n",
    "\n",
    "speed = 1\n",
    "print(\"Time speeding up\")\n",
    "print(\"Average\",avg_time_speeding_up(user_events))\n",
    "print(\"SG\",std_time_speeding_up(user_events))"
   ]
  },
  {
   "cell_type": "markdown",
   "metadata": {},
   "source": [
    "## Grade - feature correlation"
   ]
  },
  {
   "cell_type": "code",
   "execution_count": 54,
   "metadata": {},
   "outputs": [],
   "source": [
    "aied_features = [total_views, avg_weekly_prop_watched, std_weekly_prop_watched, avg_weekly_prop_replayed,\n",
    "    std_weekly_prop_replayed, avg_weekly_prop_interrupted, std_weekly_prop_interrupted, total_actions,\n",
    "    frequency_all_actions, freq_play, freq_pause, freq_seek_backward, freq_seek_forward,freq_speed_change,\n",
    "    freq_stop, avg_pause_duration, std_pause_duration, avg_seek_length, std_seek_length, avg_time_speeding_up, std_time_speeding_up]"
   ]
  },
  {
   "cell_type": "code",
   "execution_count": 178,
   "metadata": {},
   "outputs": [],
   "source": [
    "from tqdm import tqdm_notebook, tnrange\n",
    "from time import sleep\n",
    "\n",
    "def compute_feature_vector(video_events, userId, aied_features):\n",
    "    user_events = video_events.loc[video_events.AccountUserID == userId]\n",
    "    features_vector = [userId]\n",
    "    for feat_func in tqdm_notebook(aied_features, desc=\"Feature loop\", leave=False):\n",
    "        features_vector.append(feat_func(user_events))\n",
    "        sleep(0.01)\n",
    "    return features_vector\n",
    "\n",
    "# Compute the features for every students\n",
    "def compute_features_df(video_events, aied_features):\n",
    "    users = video_events.AccountUserID.unique()\n",
    "    features_array = []\n",
    "    for user in tqdm_notebook(users, desc=\"User loop\", leave=False):\n",
    "        features_array.append(compute_feature_vector(video_events, user, aied_features))\n",
    "    columns = [\"AccountUserID\"] + list(map(lambda func: func.__name__, aied_features))\n",
    "    return pd.DataFrame(features_array, columns=columns)"
   ]
  },
  {
   "cell_type": "code",
   "execution_count": 207,
   "metadata": {},
   "outputs": [
    {
     "data": {
      "application/vnd.jupyter.widget-view+json": {
       "model_id": "53189cbcb10b4fdd86592d6e9292e02d",
       "version_major": 2,
       "version_minor": 0
      },
      "text/plain": [
       "HBox(children=(HTML(value='Feature loop'), FloatProgress(value=0.0, max=21.0), HTML(value='')))"
      ]
     },
     "metadata": {},
     "output_type": "display_data"
    },
    {
     "data": {
      "text/plain": [
       "['18422',\n",
       " 131,\n",
       " 0.6972405372405373,\n",
       " 0.37290747472253855,\n",
       " 0.08987484737484737,\n",
       " 0.09161292670783444,\n",
       " 0.1345848595848596,\n",
       " 0.13206607167995404,\n",
       " 4065,\n",
       " 4.6784199298727405,\n",
       " 0.43739237392373925,\n",
       " 0.4150061500615006,\n",
       " 0.012054120541205412,\n",
       " 0.009102091020910209,\n",
       " 0.005412054120541206,\n",
       " 0.02779827798277983,\n",
       " 47.85451197053407,\n",
       " 80.07571048872693,\n",
       " 173.77237999999997,\n",
       " 230.00152378749962,\n",
       " 500.79916326315794,\n",
       " 424.2872197254752]"
      ]
     },
     "execution_count": 207,
     "metadata": {},
     "output_type": "execute_result"
    }
   ],
   "source": [
    "compute_feature_vector(events, \"18422\", aied_features)"
   ]
  },
  {
   "cell_type": "code",
   "execution_count": 209,
   "metadata": {},
   "outputs": [
    {
     "data": {
      "application/vnd.jupyter.widget-view+json": {
       "model_id": "0a9ea12624554d479ad5e5a8aa4be1dc",
       "version_major": 2,
       "version_minor": 0
      },
      "text/plain": [
       "HBox(children=(HTML(value='Feature loop'), FloatProgress(value=0.0, max=21.0), HTML(value='')))"
      ]
     },
     "metadata": {},
     "output_type": "display_data"
    },
    {
     "data": {
      "text/plain": [
       "['100402',\n",
       " 99,\n",
       " 0.8102564102564103,\n",
       " 0.3562349688859857,\n",
       " 0.01952662721893491,\n",
       " 0.04699580982642552,\n",
       " 0.044378698224852076,\n",
       " 0.10752962548260876,\n",
       " 1405,\n",
       " 4.6219963780847095,\n",
       " 0.3302491103202847,\n",
       " 0.07473309608540925,\n",
       " 0.22633451957295372,\n",
       " 0.022775800711743774,\n",
       " 0.12740213523131672,\n",
       " 0.04412811387900356,\n",
       " 82.98936170212765,\n",
       " 89.54785891221961,\n",
       " 44.90929303977273,\n",
       " 49.21778945794014,\n",
       " 334.5920517934782,\n",
       " 229.13687670695322]"
      ]
     },
     "execution_count": 209,
     "metadata": {},
     "output_type": "execute_result"
    }
   ],
   "source": [
    "compute_feature_vector(events, \"100402\", aied_features)"
   ]
  },
  {
   "cell_type": "code",
   "execution_count": 210,
   "metadata": {},
   "outputs": [
    {
     "data": {
      "application/vnd.jupyter.widget-view+json": {
       "model_id": "c2219935304347068812e8e9c5134ff8",
       "version_major": 2,
       "version_minor": 0
      },
      "text/plain": [
       "HBox(children=(HTML(value='User loop'), FloatProgress(value=0.0, max=285.0), HTML(value='')))"
      ]
     },
     "metadata": {},
     "output_type": "display_data"
    },
    {
     "data": {
      "application/vnd.jupyter.widget-view+json": {
       "model_id": "ea83944ffb584aa4bce68df09b1a1d9f",
       "version_major": 2,
       "version_minor": 0
      },
      "text/plain": [
       "HBox(children=(HTML(value='Feature loop'), FloatProgress(value=0.0, max=21.0), HTML(value='')))"
      ]
     },
     "metadata": {},
     "output_type": "display_data"
    },
    {
     "data": {
      "application/vnd.jupyter.widget-view+json": {
       "model_id": "c958f94400e845cfa3775c9e3fafaf3f",
       "version_major": 2,
       "version_minor": 0
      },
      "text/plain": [
       "HBox(children=(HTML(value='Feature loop'), FloatProgress(value=0.0, max=21.0), HTML(value='')))"
      ]
     },
     "metadata": {},
     "output_type": "display_data"
    },
    {
     "data": {
      "application/vnd.jupyter.widget-view+json": {
       "model_id": "0132cc71f2cd4a43acd7738b67acf711",
       "version_major": 2,
       "version_minor": 0
      },
      "text/plain": [
       "HBox(children=(HTML(value='Feature loop'), FloatProgress(value=0.0, max=21.0), HTML(value='')))"
      ]
     },
     "metadata": {},
     "output_type": "display_data"
    },
    {
     "data": {
      "application/vnd.jupyter.widget-view+json": {
       "model_id": "ff96d4bd4d544eb198343be11a371783",
       "version_major": 2,
       "version_minor": 0
      },
      "text/plain": [
       "HBox(children=(HTML(value='Feature loop'), FloatProgress(value=0.0, max=21.0), HTML(value='')))"
      ]
     },
     "metadata": {},
     "output_type": "display_data"
    },
    {
     "data": {
      "application/vnd.jupyter.widget-view+json": {
       "model_id": "bdfc622bc4b34a5a8eba7102901b323e",
       "version_major": 2,
       "version_minor": 0
      },
      "text/plain": [
       "HBox(children=(HTML(value='Feature loop'), FloatProgress(value=0.0, max=21.0), HTML(value='')))"
      ]
     },
     "metadata": {},
     "output_type": "display_data"
    },
    {
     "data": {
      "application/vnd.jupyter.widget-view+json": {
       "model_id": "887817d68b3f41ceacf494ae41bb035e",
       "version_major": 2,
       "version_minor": 0
      },
      "text/plain": [
       "HBox(children=(HTML(value='Feature loop'), FloatProgress(value=0.0, max=21.0), HTML(value='')))"
      ]
     },
     "metadata": {},
     "output_type": "display_data"
    },
    {
     "data": {
      "application/vnd.jupyter.widget-view+json": {
       "model_id": "826837d69fad41fca0b88a3754788308",
       "version_major": 2,
       "version_minor": 0
      },
      "text/plain": [
       "HBox(children=(HTML(value='Feature loop'), FloatProgress(value=0.0, max=21.0), HTML(value='')))"
      ]
     },
     "metadata": {},
     "output_type": "display_data"
    },
    {
     "data": {
      "application/vnd.jupyter.widget-view+json": {
       "model_id": "f9722821472b4a7ea2b29b24a00a0b26",
       "version_major": 2,
       "version_minor": 0
      },
      "text/plain": [
       "HBox(children=(HTML(value='Feature loop'), FloatProgress(value=0.0, max=21.0), HTML(value='')))"
      ]
     },
     "metadata": {},
     "output_type": "display_data"
    },
    {
     "data": {
      "application/vnd.jupyter.widget-view+json": {
       "model_id": "843cc42b9449403d88b92e52f6ee2fdd",
       "version_major": 2,
       "version_minor": 0
      },
      "text/plain": [
       "HBox(children=(HTML(value='Feature loop'), FloatProgress(value=0.0, max=21.0), HTML(value='')))"
      ]
     },
     "metadata": {},
     "output_type": "display_data"
    },
    {
     "data": {
      "application/vnd.jupyter.widget-view+json": {
       "model_id": "72e95b8615a049afb78c2fd108257774",
       "version_major": 2,
       "version_minor": 0
      },
      "text/plain": [
       "HBox(children=(HTML(value='Feature loop'), FloatProgress(value=0.0, max=21.0), HTML(value='')))"
      ]
     },
     "metadata": {},
     "output_type": "display_data"
    },
    {
     "data": {
      "application/vnd.jupyter.widget-view+json": {
       "model_id": "c140c11eca674e8fba9047852cf3e4e7",
       "version_major": 2,
       "version_minor": 0
      },
      "text/plain": [
       "HBox(children=(HTML(value='Feature loop'), FloatProgress(value=0.0, max=21.0), HTML(value='')))"
      ]
     },
     "metadata": {},
     "output_type": "display_data"
    },
    {
     "data": {
      "application/vnd.jupyter.widget-view+json": {
       "model_id": "b0fe937d4464425b95fe77088290c0cc",
       "version_major": 2,
       "version_minor": 0
      },
      "text/plain": [
       "HBox(children=(HTML(value='Feature loop'), FloatProgress(value=0.0, max=21.0), HTML(value='')))"
      ]
     },
     "metadata": {},
     "output_type": "display_data"
    },
    {
     "data": {
      "application/vnd.jupyter.widget-view+json": {
       "model_id": "45593a5b39ba48839f3f6292c50c6312",
       "version_major": 2,
       "version_minor": 0
      },
      "text/plain": [
       "HBox(children=(HTML(value='Feature loop'), FloatProgress(value=0.0, max=21.0), HTML(value='')))"
      ]
     },
     "metadata": {},
     "output_type": "display_data"
    },
    {
     "data": {
      "application/vnd.jupyter.widget-view+json": {
       "model_id": "2e6aa6b96da64975a47c1d341e6f8543",
       "version_major": 2,
       "version_minor": 0
      },
      "text/plain": [
       "HBox(children=(HTML(value='Feature loop'), FloatProgress(value=0.0, max=21.0), HTML(value='')))"
      ]
     },
     "metadata": {},
     "output_type": "display_data"
    },
    {
     "data": {
      "application/vnd.jupyter.widget-view+json": {
       "model_id": "ea0f95d9b77c466393855e8c60a3a290",
       "version_major": 2,
       "version_minor": 0
      },
      "text/plain": [
       "HBox(children=(HTML(value='Feature loop'), FloatProgress(value=0.0, max=21.0), HTML(value='')))"
      ]
     },
     "metadata": {},
     "output_type": "display_data"
    },
    {
     "data": {
      "application/vnd.jupyter.widget-view+json": {
       "model_id": "77b06f5aa51d402c841719db7b7ec958",
       "version_major": 2,
       "version_minor": 0
      },
      "text/plain": [
       "HBox(children=(HTML(value='Feature loop'), FloatProgress(value=0.0, max=21.0), HTML(value='')))"
      ]
     },
     "metadata": {},
     "output_type": "display_data"
    },
    {
     "data": {
      "application/vnd.jupyter.widget-view+json": {
       "model_id": "2c1494b09c3b4c70919b47625bee4d3a",
       "version_major": 2,
       "version_minor": 0
      },
      "text/plain": [
       "HBox(children=(HTML(value='Feature loop'), FloatProgress(value=0.0, max=21.0), HTML(value='')))"
      ]
     },
     "metadata": {},
     "output_type": "display_data"
    },
    {
     "data": {
      "application/vnd.jupyter.widget-view+json": {
       "model_id": "02c3d6f97a21462299e05e36bccca8dc",
       "version_major": 2,
       "version_minor": 0
      },
      "text/plain": [
       "HBox(children=(HTML(value='Feature loop'), FloatProgress(value=0.0, max=21.0), HTML(value='')))"
      ]
     },
     "metadata": {},
     "output_type": "display_data"
    },
    {
     "data": {
      "application/vnd.jupyter.widget-view+json": {
       "model_id": "619b624b100d4551a70a38787037e537",
       "version_major": 2,
       "version_minor": 0
      },
      "text/plain": [
       "HBox(children=(HTML(value='Feature loop'), FloatProgress(value=0.0, max=21.0), HTML(value='')))"
      ]
     },
     "metadata": {},
     "output_type": "display_data"
    },
    {
     "data": {
      "application/vnd.jupyter.widget-view+json": {
       "model_id": "6cfff13d28994553b4f59582a1c1e472",
       "version_major": 2,
       "version_minor": 0
      },
      "text/plain": [
       "HBox(children=(HTML(value='Feature loop'), FloatProgress(value=0.0, max=21.0), HTML(value='')))"
      ]
     },
     "metadata": {},
     "output_type": "display_data"
    },
    {
     "data": {
      "application/vnd.jupyter.widget-view+json": {
       "model_id": "78df978a00c3485ab70c41556248551f",
       "version_major": 2,
       "version_minor": 0
      },
      "text/plain": [
       "HBox(children=(HTML(value='Feature loop'), FloatProgress(value=0.0, max=21.0), HTML(value='')))"
      ]
     },
     "metadata": {},
     "output_type": "display_data"
    },
    {
     "data": {
      "application/vnd.jupyter.widget-view+json": {
       "model_id": "28e910f1b68645c099c5ac9d1ca6c0af",
       "version_major": 2,
       "version_minor": 0
      },
      "text/plain": [
       "HBox(children=(HTML(value='Feature loop'), FloatProgress(value=0.0, max=21.0), HTML(value='')))"
      ]
     },
     "metadata": {},
     "output_type": "display_data"
    },
    {
     "data": {
      "application/vnd.jupyter.widget-view+json": {
       "model_id": "df135b4c63b34c20afe09e7a372e9e4e",
       "version_major": 2,
       "version_minor": 0
      },
      "text/plain": [
       "HBox(children=(HTML(value='Feature loop'), FloatProgress(value=0.0, max=21.0), HTML(value='')))"
      ]
     },
     "metadata": {},
     "output_type": "display_data"
    },
    {
     "data": {
      "application/vnd.jupyter.widget-view+json": {
       "model_id": "df3b61ddd1734b8a9c1f0e1950f2c88b",
       "version_major": 2,
       "version_minor": 0
      },
      "text/plain": [
       "HBox(children=(HTML(value='Feature loop'), FloatProgress(value=0.0, max=21.0), HTML(value='')))"
      ]
     },
     "metadata": {},
     "output_type": "display_data"
    },
    {
     "data": {
      "application/vnd.jupyter.widget-view+json": {
       "model_id": "6884e5bd0b6c4c7da4f7faebf389df44",
       "version_major": 2,
       "version_minor": 0
      },
      "text/plain": [
       "HBox(children=(HTML(value='Feature loop'), FloatProgress(value=0.0, max=21.0), HTML(value='')))"
      ]
     },
     "metadata": {},
     "output_type": "display_data"
    },
    {
     "data": {
      "application/vnd.jupyter.widget-view+json": {
       "model_id": "022a23b736634bc3a1ee502f921a9de4",
       "version_major": 2,
       "version_minor": 0
      },
      "text/plain": [
       "HBox(children=(HTML(value='Feature loop'), FloatProgress(value=0.0, max=21.0), HTML(value='')))"
      ]
     },
     "metadata": {},
     "output_type": "display_data"
    },
    {
     "data": {
      "application/vnd.jupyter.widget-view+json": {
       "model_id": "4993551c58d74389afc1f2a1beeabd68",
       "version_major": 2,
       "version_minor": 0
      },
      "text/plain": [
       "HBox(children=(HTML(value='Feature loop'), FloatProgress(value=0.0, max=21.0), HTML(value='')))"
      ]
     },
     "metadata": {},
     "output_type": "display_data"
    },
    {
     "data": {
      "application/vnd.jupyter.widget-view+json": {
       "model_id": "5eb29150dbf24741bbbfb1a71b85aa6e",
       "version_major": 2,
       "version_minor": 0
      },
      "text/plain": [
       "HBox(children=(HTML(value='Feature loop'), FloatProgress(value=0.0, max=21.0), HTML(value='')))"
      ]
     },
     "metadata": {},
     "output_type": "display_data"
    },
    {
     "data": {
      "application/vnd.jupyter.widget-view+json": {
       "model_id": "35affff24816484bbf799be187111c86",
       "version_major": 2,
       "version_minor": 0
      },
      "text/plain": [
       "HBox(children=(HTML(value='Feature loop'), FloatProgress(value=0.0, max=21.0), HTML(value='')))"
      ]
     },
     "metadata": {},
     "output_type": "display_data"
    },
    {
     "data": {
      "application/vnd.jupyter.widget-view+json": {
       "model_id": "268a0b8ff4dd40c09435da892afde34e",
       "version_major": 2,
       "version_minor": 0
      },
      "text/plain": [
       "HBox(children=(HTML(value='Feature loop'), FloatProgress(value=0.0, max=21.0), HTML(value='')))"
      ]
     },
     "metadata": {},
     "output_type": "display_data"
    },
    {
     "data": {
      "application/vnd.jupyter.widget-view+json": {
       "model_id": "72ea8f27884c4a87a0463b1009f7ae93",
       "version_major": 2,
       "version_minor": 0
      },
      "text/plain": [
       "HBox(children=(HTML(value='Feature loop'), FloatProgress(value=0.0, max=21.0), HTML(value='')))"
      ]
     },
     "metadata": {},
     "output_type": "display_data"
    },
    {
     "data": {
      "application/vnd.jupyter.widget-view+json": {
       "model_id": "1b4e43ffbe56464090a8920be66499a8",
       "version_major": 2,
       "version_minor": 0
      },
      "text/plain": [
       "HBox(children=(HTML(value='Feature loop'), FloatProgress(value=0.0, max=21.0), HTML(value='')))"
      ]
     },
     "metadata": {},
     "output_type": "display_data"
    },
    {
     "data": {
      "application/vnd.jupyter.widget-view+json": {
       "model_id": "ca5d47100821409c97b6b69cb842999e",
       "version_major": 2,
       "version_minor": 0
      },
      "text/plain": [
       "HBox(children=(HTML(value='Feature loop'), FloatProgress(value=0.0, max=21.0), HTML(value='')))"
      ]
     },
     "metadata": {},
     "output_type": "display_data"
    },
    {
     "data": {
      "application/vnd.jupyter.widget-view+json": {
       "model_id": "8329a596e4534c5da1623aa787aa9895",
       "version_major": 2,
       "version_minor": 0
      },
      "text/plain": [
       "HBox(children=(HTML(value='Feature loop'), FloatProgress(value=0.0, max=21.0), HTML(value='')))"
      ]
     },
     "metadata": {},
     "output_type": "display_data"
    },
    {
     "data": {
      "application/vnd.jupyter.widget-view+json": {
       "model_id": "7107d0520669409ea1912dfd21389f74",
       "version_major": 2,
       "version_minor": 0
      },
      "text/plain": [
       "HBox(children=(HTML(value='Feature loop'), FloatProgress(value=0.0, max=21.0), HTML(value='')))"
      ]
     },
     "metadata": {},
     "output_type": "display_data"
    },
    {
     "data": {
      "application/vnd.jupyter.widget-view+json": {
       "model_id": "7ca09ac0164641c3b67975ba21df4fe6",
       "version_major": 2,
       "version_minor": 0
      },
      "text/plain": [
       "HBox(children=(HTML(value='Feature loop'), FloatProgress(value=0.0, max=21.0), HTML(value='')))"
      ]
     },
     "metadata": {},
     "output_type": "display_data"
    },
    {
     "data": {
      "application/vnd.jupyter.widget-view+json": {
       "model_id": "180ea8516c8f4bc085ad00596d9c4284",
       "version_major": 2,
       "version_minor": 0
      },
      "text/plain": [
       "HBox(children=(HTML(value='Feature loop'), FloatProgress(value=0.0, max=21.0), HTML(value='')))"
      ]
     },
     "metadata": {},
     "output_type": "display_data"
    },
    {
     "data": {
      "application/vnd.jupyter.widget-view+json": {
       "model_id": "edb894beabfa4733b72508b52331226e",
       "version_major": 2,
       "version_minor": 0
      },
      "text/plain": [
       "HBox(children=(HTML(value='Feature loop'), FloatProgress(value=0.0, max=21.0), HTML(value='')))"
      ]
     },
     "metadata": {},
     "output_type": "display_data"
    },
    {
     "data": {
      "application/vnd.jupyter.widget-view+json": {
       "model_id": "a6a91a161041498bbed28123f3f3e009",
       "version_major": 2,
       "version_minor": 0
      },
      "text/plain": [
       "HBox(children=(HTML(value='Feature loop'), FloatProgress(value=0.0, max=21.0), HTML(value='')))"
      ]
     },
     "metadata": {},
     "output_type": "display_data"
    },
    {
     "data": {
      "application/vnd.jupyter.widget-view+json": {
       "model_id": "59dbcf4517164a9db8d90ad93b713d7d",
       "version_major": 2,
       "version_minor": 0
      },
      "text/plain": [
       "HBox(children=(HTML(value='Feature loop'), FloatProgress(value=0.0, max=21.0), HTML(value='')))"
      ]
     },
     "metadata": {},
     "output_type": "display_data"
    },
    {
     "data": {
      "application/vnd.jupyter.widget-view+json": {
       "model_id": "ec98677d308742338e34f00fa588da93",
       "version_major": 2,
       "version_minor": 0
      },
      "text/plain": [
       "HBox(children=(HTML(value='Feature loop'), FloatProgress(value=0.0, max=21.0), HTML(value='')))"
      ]
     },
     "metadata": {},
     "output_type": "display_data"
    },
    {
     "data": {
      "application/vnd.jupyter.widget-view+json": {
       "model_id": "a66f8d1a0ec04ae780d87c428f73c6c4",
       "version_major": 2,
       "version_minor": 0
      },
      "text/plain": [
       "HBox(children=(HTML(value='Feature loop'), FloatProgress(value=0.0, max=21.0), HTML(value='')))"
      ]
     },
     "metadata": {},
     "output_type": "display_data"
    },
    {
     "data": {
      "application/vnd.jupyter.widget-view+json": {
       "model_id": "cc7a9335374c4948b45ccdffd42dbafa",
       "version_major": 2,
       "version_minor": 0
      },
      "text/plain": [
       "HBox(children=(HTML(value='Feature loop'), FloatProgress(value=0.0, max=21.0), HTML(value='')))"
      ]
     },
     "metadata": {},
     "output_type": "display_data"
    },
    {
     "data": {
      "application/vnd.jupyter.widget-view+json": {
       "model_id": "2fe6f4b8952d4811bb1bc3cfae32e3b7",
       "version_major": 2,
       "version_minor": 0
      },
      "text/plain": [
       "HBox(children=(HTML(value='Feature loop'), FloatProgress(value=0.0, max=21.0), HTML(value='')))"
      ]
     },
     "metadata": {},
     "output_type": "display_data"
    },
    {
     "data": {
      "application/vnd.jupyter.widget-view+json": {
       "model_id": "584623f357c042b281483c8963547995",
       "version_major": 2,
       "version_minor": 0
      },
      "text/plain": [
       "HBox(children=(HTML(value='Feature loop'), FloatProgress(value=0.0, max=21.0), HTML(value='')))"
      ]
     },
     "metadata": {},
     "output_type": "display_data"
    },
    {
     "data": {
      "application/vnd.jupyter.widget-view+json": {
       "model_id": "eaa5eec866cc4e449241771af44ca8d5",
       "version_major": 2,
       "version_minor": 0
      },
      "text/plain": [
       "HBox(children=(HTML(value='Feature loop'), FloatProgress(value=0.0, max=21.0), HTML(value='')))"
      ]
     },
     "metadata": {},
     "output_type": "display_data"
    },
    {
     "data": {
      "application/vnd.jupyter.widget-view+json": {
       "model_id": "f4e5b92a7fe2452a9917c82d073a2a58",
       "version_major": 2,
       "version_minor": 0
      },
      "text/plain": [
       "HBox(children=(HTML(value='Feature loop'), FloatProgress(value=0.0, max=21.0), HTML(value='')))"
      ]
     },
     "metadata": {},
     "output_type": "display_data"
    },
    {
     "data": {
      "application/vnd.jupyter.widget-view+json": {
       "model_id": "f72584208a164519ad2931b575d78fb4",
       "version_major": 2,
       "version_minor": 0
      },
      "text/plain": [
       "HBox(children=(HTML(value='Feature loop'), FloatProgress(value=0.0, max=21.0), HTML(value='')))"
      ]
     },
     "metadata": {},
     "output_type": "display_data"
    },
    {
     "data": {
      "application/vnd.jupyter.widget-view+json": {
       "model_id": "28b65cedc3b94a87b6cc10602fc9d485",
       "version_major": 2,
       "version_minor": 0
      },
      "text/plain": [
       "HBox(children=(HTML(value='Feature loop'), FloatProgress(value=0.0, max=21.0), HTML(value='')))"
      ]
     },
     "metadata": {},
     "output_type": "display_data"
    },
    {
     "data": {
      "application/vnd.jupyter.widget-view+json": {
       "model_id": "b78a4245021b473ea7425bddeca9c820",
       "version_major": 2,
       "version_minor": 0
      },
      "text/plain": [
       "HBox(children=(HTML(value='Feature loop'), FloatProgress(value=0.0, max=21.0), HTML(value='')))"
      ]
     },
     "metadata": {},
     "output_type": "display_data"
    },
    {
     "data": {
      "application/vnd.jupyter.widget-view+json": {
       "model_id": "85e1152296fc4db5951573ce57341a58",
       "version_major": 2,
       "version_minor": 0
      },
      "text/plain": [
       "HBox(children=(HTML(value='Feature loop'), FloatProgress(value=0.0, max=21.0), HTML(value='')))"
      ]
     },
     "metadata": {},
     "output_type": "display_data"
    },
    {
     "data": {
      "application/vnd.jupyter.widget-view+json": {
       "model_id": "81598fac41d2408780ff0f16c3068998",
       "version_major": 2,
       "version_minor": 0
      },
      "text/plain": [
       "HBox(children=(HTML(value='Feature loop'), FloatProgress(value=0.0, max=21.0), HTML(value='')))"
      ]
     },
     "metadata": {},
     "output_type": "display_data"
    },
    {
     "data": {
      "application/vnd.jupyter.widget-view+json": {
       "model_id": "afb2bc6768cf4133ad9d327d386b89b2",
       "version_major": 2,
       "version_minor": 0
      },
      "text/plain": [
       "HBox(children=(HTML(value='Feature loop'), FloatProgress(value=0.0, max=21.0), HTML(value='')))"
      ]
     },
     "metadata": {},
     "output_type": "display_data"
    },
    {
     "data": {
      "application/vnd.jupyter.widget-view+json": {
       "model_id": "0d3f9b0eaae74d85965ee62b2cfda518",
       "version_major": 2,
       "version_minor": 0
      },
      "text/plain": [
       "HBox(children=(HTML(value='Feature loop'), FloatProgress(value=0.0, max=21.0), HTML(value='')))"
      ]
     },
     "metadata": {},
     "output_type": "display_data"
    },
    {
     "data": {
      "application/vnd.jupyter.widget-view+json": {
       "model_id": "ad07b94df6af4232bf65e5eb8b2c20f5",
       "version_major": 2,
       "version_minor": 0
      },
      "text/plain": [
       "HBox(children=(HTML(value='Feature loop'), FloatProgress(value=0.0, max=21.0), HTML(value='')))"
      ]
     },
     "metadata": {},
     "output_type": "display_data"
    },
    {
     "data": {
      "application/vnd.jupyter.widget-view+json": {
       "model_id": "deab54f453fe4c73a5e0c626480a0f88",
       "version_major": 2,
       "version_minor": 0
      },
      "text/plain": [
       "HBox(children=(HTML(value='Feature loop'), FloatProgress(value=0.0, max=21.0), HTML(value='')))"
      ]
     },
     "metadata": {},
     "output_type": "display_data"
    },
    {
     "data": {
      "application/vnd.jupyter.widget-view+json": {
       "model_id": "1486c5e79a114d70976b7497f7279b41",
       "version_major": 2,
       "version_minor": 0
      },
      "text/plain": [
       "HBox(children=(HTML(value='Feature loop'), FloatProgress(value=0.0, max=21.0), HTML(value='')))"
      ]
     },
     "metadata": {},
     "output_type": "display_data"
    },
    {
     "data": {
      "application/vnd.jupyter.widget-view+json": {
       "model_id": "a90b29053eb24ca380860d204f9b18f2",
       "version_major": 2,
       "version_minor": 0
      },
      "text/plain": [
       "HBox(children=(HTML(value='Feature loop'), FloatProgress(value=0.0, max=21.0), HTML(value='')))"
      ]
     },
     "metadata": {},
     "output_type": "display_data"
    },
    {
     "data": {
      "application/vnd.jupyter.widget-view+json": {
       "model_id": "f4cd72e00c47434b9cb2b757431d2c74",
       "version_major": 2,
       "version_minor": 0
      },
      "text/plain": [
       "HBox(children=(HTML(value='Feature loop'), FloatProgress(value=0.0, max=21.0), HTML(value='')))"
      ]
     },
     "metadata": {},
     "output_type": "display_data"
    },
    {
     "data": {
      "application/vnd.jupyter.widget-view+json": {
       "model_id": "5765b6de022543c2a5f886568770b2d3",
       "version_major": 2,
       "version_minor": 0
      },
      "text/plain": [
       "HBox(children=(HTML(value='Feature loop'), FloatProgress(value=0.0, max=21.0), HTML(value='')))"
      ]
     },
     "metadata": {},
     "output_type": "display_data"
    },
    {
     "data": {
      "application/vnd.jupyter.widget-view+json": {
       "model_id": "3bc95564cfba45d2983d3dca0c7c8f17",
       "version_major": 2,
       "version_minor": 0
      },
      "text/plain": [
       "HBox(children=(HTML(value='Feature loop'), FloatProgress(value=0.0, max=21.0), HTML(value='')))"
      ]
     },
     "metadata": {},
     "output_type": "display_data"
    },
    {
     "data": {
      "application/vnd.jupyter.widget-view+json": {
       "model_id": "627125eefeb64c34b0d868809afa9a87",
       "version_major": 2,
       "version_minor": 0
      },
      "text/plain": [
       "HBox(children=(HTML(value='Feature loop'), FloatProgress(value=0.0, max=21.0), HTML(value='')))"
      ]
     },
     "metadata": {},
     "output_type": "display_data"
    },
    {
     "data": {
      "application/vnd.jupyter.widget-view+json": {
       "model_id": "6a6da1b99d544c8ab605e7a34f74f340",
       "version_major": 2,
       "version_minor": 0
      },
      "text/plain": [
       "HBox(children=(HTML(value='Feature loop'), FloatProgress(value=0.0, max=21.0), HTML(value='')))"
      ]
     },
     "metadata": {},
     "output_type": "display_data"
    },
    {
     "data": {
      "application/vnd.jupyter.widget-view+json": {
       "model_id": "6d2f9b787d464336be3297be9a9dc8d1",
       "version_major": 2,
       "version_minor": 0
      },
      "text/plain": [
       "HBox(children=(HTML(value='Feature loop'), FloatProgress(value=0.0, max=21.0), HTML(value='')))"
      ]
     },
     "metadata": {},
     "output_type": "display_data"
    },
    {
     "data": {
      "application/vnd.jupyter.widget-view+json": {
       "model_id": "65a59af121a04a1298175096d3711964",
       "version_major": 2,
       "version_minor": 0
      },
      "text/plain": [
       "HBox(children=(HTML(value='Feature loop'), FloatProgress(value=0.0, max=21.0), HTML(value='')))"
      ]
     },
     "metadata": {},
     "output_type": "display_data"
    },
    {
     "data": {
      "application/vnd.jupyter.widget-view+json": {
       "model_id": "4797f42ab27d43f981c9f4ea96e8af9a",
       "version_major": 2,
       "version_minor": 0
      },
      "text/plain": [
       "HBox(children=(HTML(value='Feature loop'), FloatProgress(value=0.0, max=21.0), HTML(value='')))"
      ]
     },
     "metadata": {},
     "output_type": "display_data"
    },
    {
     "data": {
      "application/vnd.jupyter.widget-view+json": {
       "model_id": "d75acadfccde4f7b850e95cffa880121",
       "version_major": 2,
       "version_minor": 0
      },
      "text/plain": [
       "HBox(children=(HTML(value='Feature loop'), FloatProgress(value=0.0, max=21.0), HTML(value='')))"
      ]
     },
     "metadata": {},
     "output_type": "display_data"
    },
    {
     "data": {
      "application/vnd.jupyter.widget-view+json": {
       "model_id": "d73173a21a9c4e6daba02a41b67462f0",
       "version_major": 2,
       "version_minor": 0
      },
      "text/plain": [
       "HBox(children=(HTML(value='Feature loop'), FloatProgress(value=0.0, max=21.0), HTML(value='')))"
      ]
     },
     "metadata": {},
     "output_type": "display_data"
    },
    {
     "data": {
      "application/vnd.jupyter.widget-view+json": {
       "model_id": "41ddb236014b458491113dc141b71346",
       "version_major": 2,
       "version_minor": 0
      },
      "text/plain": [
       "HBox(children=(HTML(value='Feature loop'), FloatProgress(value=0.0, max=21.0), HTML(value='')))"
      ]
     },
     "metadata": {},
     "output_type": "display_data"
    },
    {
     "data": {
      "application/vnd.jupyter.widget-view+json": {
       "model_id": "7288fafdaec24ef1a5a1e1b5f91c2577",
       "version_major": 2,
       "version_minor": 0
      },
      "text/plain": [
       "HBox(children=(HTML(value='Feature loop'), FloatProgress(value=0.0, max=21.0), HTML(value='')))"
      ]
     },
     "metadata": {},
     "output_type": "display_data"
    },
    {
     "data": {
      "application/vnd.jupyter.widget-view+json": {
       "model_id": "8801d75a258f4b1b90269662574362df",
       "version_major": 2,
       "version_minor": 0
      },
      "text/plain": [
       "HBox(children=(HTML(value='Feature loop'), FloatProgress(value=0.0, max=21.0), HTML(value='')))"
      ]
     },
     "metadata": {},
     "output_type": "display_data"
    },
    {
     "data": {
      "application/vnd.jupyter.widget-view+json": {
       "model_id": "5b3207a57c9c4d298a9b7386db6c5c5d",
       "version_major": 2,
       "version_minor": 0
      },
      "text/plain": [
       "HBox(children=(HTML(value='Feature loop'), FloatProgress(value=0.0, max=21.0), HTML(value='')))"
      ]
     },
     "metadata": {},
     "output_type": "display_data"
    },
    {
     "data": {
      "application/vnd.jupyter.widget-view+json": {
       "model_id": "969be30ee5e144b49a4c54148688e6a9",
       "version_major": 2,
       "version_minor": 0
      },
      "text/plain": [
       "HBox(children=(HTML(value='Feature loop'), FloatProgress(value=0.0, max=21.0), HTML(value='')))"
      ]
     },
     "metadata": {},
     "output_type": "display_data"
    },
    {
     "data": {
      "application/vnd.jupyter.widget-view+json": {
       "model_id": "d5c269e072af4026b8578beefb1b15dd",
       "version_major": 2,
       "version_minor": 0
      },
      "text/plain": [
       "HBox(children=(HTML(value='Feature loop'), FloatProgress(value=0.0, max=21.0), HTML(value='')))"
      ]
     },
     "metadata": {},
     "output_type": "display_data"
    },
    {
     "data": {
      "application/vnd.jupyter.widget-view+json": {
       "model_id": "5f1a538920a84835b6f4470498fef159",
       "version_major": 2,
       "version_minor": 0
      },
      "text/plain": [
       "HBox(children=(HTML(value='Feature loop'), FloatProgress(value=0.0, max=21.0), HTML(value='')))"
      ]
     },
     "metadata": {},
     "output_type": "display_data"
    },
    {
     "data": {
      "application/vnd.jupyter.widget-view+json": {
       "model_id": "63ec33f77a7344ff9867a20e7385e7f5",
       "version_major": 2,
       "version_minor": 0
      },
      "text/plain": [
       "HBox(children=(HTML(value='Feature loop'), FloatProgress(value=0.0, max=21.0), HTML(value='')))"
      ]
     },
     "metadata": {},
     "output_type": "display_data"
    },
    {
     "data": {
      "application/vnd.jupyter.widget-view+json": {
       "model_id": "0027fa7cc15845e78b2872a052262e35",
       "version_major": 2,
       "version_minor": 0
      },
      "text/plain": [
       "HBox(children=(HTML(value='Feature loop'), FloatProgress(value=0.0, max=21.0), HTML(value='')))"
      ]
     },
     "metadata": {},
     "output_type": "display_data"
    },
    {
     "data": {
      "application/vnd.jupyter.widget-view+json": {
       "model_id": "4d9bd565ccbe46c6b85e14044bfb991b",
       "version_major": 2,
       "version_minor": 0
      },
      "text/plain": [
       "HBox(children=(HTML(value='Feature loop'), FloatProgress(value=0.0, max=21.0), HTML(value='')))"
      ]
     },
     "metadata": {},
     "output_type": "display_data"
    },
    {
     "data": {
      "application/vnd.jupyter.widget-view+json": {
       "model_id": "19d28e42dffd419fbd5e4dba32f3a896",
       "version_major": 2,
       "version_minor": 0
      },
      "text/plain": [
       "HBox(children=(HTML(value='Feature loop'), FloatProgress(value=0.0, max=21.0), HTML(value='')))"
      ]
     },
     "metadata": {},
     "output_type": "display_data"
    },
    {
     "data": {
      "application/vnd.jupyter.widget-view+json": {
       "model_id": "7f916d8152bb432aa1f9b6937c857b09",
       "version_major": 2,
       "version_minor": 0
      },
      "text/plain": [
       "HBox(children=(HTML(value='Feature loop'), FloatProgress(value=0.0, max=21.0), HTML(value='')))"
      ]
     },
     "metadata": {},
     "output_type": "display_data"
    },
    {
     "data": {
      "application/vnd.jupyter.widget-view+json": {
       "model_id": "e48afa82261341e0b579feb459f6c91d",
       "version_major": 2,
       "version_minor": 0
      },
      "text/plain": [
       "HBox(children=(HTML(value='Feature loop'), FloatProgress(value=0.0, max=21.0), HTML(value='')))"
      ]
     },
     "metadata": {},
     "output_type": "display_data"
    },
    {
     "data": {
      "application/vnd.jupyter.widget-view+json": {
       "model_id": "3445fcd90ebc48eab8fe47153b54bbbb",
       "version_major": 2,
       "version_minor": 0
      },
      "text/plain": [
       "HBox(children=(HTML(value='Feature loop'), FloatProgress(value=0.0, max=21.0), HTML(value='')))"
      ]
     },
     "metadata": {},
     "output_type": "display_data"
    },
    {
     "data": {
      "application/vnd.jupyter.widget-view+json": {
       "model_id": "e4f14e0cbd754749ac38071aa67680e5",
       "version_major": 2,
       "version_minor": 0
      },
      "text/plain": [
       "HBox(children=(HTML(value='Feature loop'), FloatProgress(value=0.0, max=21.0), HTML(value='')))"
      ]
     },
     "metadata": {},
     "output_type": "display_data"
    },
    {
     "data": {
      "application/vnd.jupyter.widget-view+json": {
       "model_id": "2a5d10f1d38448eb9d6a280b13db1ff8",
       "version_major": 2,
       "version_minor": 0
      },
      "text/plain": [
       "HBox(children=(HTML(value='Feature loop'), FloatProgress(value=0.0, max=21.0), HTML(value='')))"
      ]
     },
     "metadata": {},
     "output_type": "display_data"
    },
    {
     "data": {
      "application/vnd.jupyter.widget-view+json": {
       "model_id": "d4380520979d4a919b45be72012e5da2",
       "version_major": 2,
       "version_minor": 0
      },
      "text/plain": [
       "HBox(children=(HTML(value='Feature loop'), FloatProgress(value=0.0, max=21.0), HTML(value='')))"
      ]
     },
     "metadata": {},
     "output_type": "display_data"
    },
    {
     "data": {
      "application/vnd.jupyter.widget-view+json": {
       "model_id": "b8d4668c82e7403280c40e6d278e39bc",
       "version_major": 2,
       "version_minor": 0
      },
      "text/plain": [
       "HBox(children=(HTML(value='Feature loop'), FloatProgress(value=0.0, max=21.0), HTML(value='')))"
      ]
     },
     "metadata": {},
     "output_type": "display_data"
    },
    {
     "data": {
      "application/vnd.jupyter.widget-view+json": {
       "model_id": "c51e19ac02d94de3829f557732e65ec2",
       "version_major": 2,
       "version_minor": 0
      },
      "text/plain": [
       "HBox(children=(HTML(value='Feature loop'), FloatProgress(value=0.0, max=21.0), HTML(value='')))"
      ]
     },
     "metadata": {},
     "output_type": "display_data"
    },
    {
     "data": {
      "application/vnd.jupyter.widget-view+json": {
       "model_id": "fd817ec1679048e6a269c182a8b61c86",
       "version_major": 2,
       "version_minor": 0
      },
      "text/plain": [
       "HBox(children=(HTML(value='Feature loop'), FloatProgress(value=0.0, max=21.0), HTML(value='')))"
      ]
     },
     "metadata": {},
     "output_type": "display_data"
    },
    {
     "data": {
      "application/vnd.jupyter.widget-view+json": {
       "model_id": "545ef62e7d19425d826bcd9579398acd",
       "version_major": 2,
       "version_minor": 0
      },
      "text/plain": [
       "HBox(children=(HTML(value='Feature loop'), FloatProgress(value=0.0, max=21.0), HTML(value='')))"
      ]
     },
     "metadata": {},
     "output_type": "display_data"
    },
    {
     "data": {
      "application/vnd.jupyter.widget-view+json": {
       "model_id": "05db29b8ae8e451ea07ffaf3c7d421e0",
       "version_major": 2,
       "version_minor": 0
      },
      "text/plain": [
       "HBox(children=(HTML(value='Feature loop'), FloatProgress(value=0.0, max=21.0), HTML(value='')))"
      ]
     },
     "metadata": {},
     "output_type": "display_data"
    },
    {
     "data": {
      "application/vnd.jupyter.widget-view+json": {
       "model_id": "7d116c015ffa4badbf0a87bc621ad943",
       "version_major": 2,
       "version_minor": 0
      },
      "text/plain": [
       "HBox(children=(HTML(value='Feature loop'), FloatProgress(value=0.0, max=21.0), HTML(value='')))"
      ]
     },
     "metadata": {},
     "output_type": "display_data"
    },
    {
     "data": {
      "application/vnd.jupyter.widget-view+json": {
       "model_id": "6640cb16bf1f4ece91356a02c39301bf",
       "version_major": 2,
       "version_minor": 0
      },
      "text/plain": [
       "HBox(children=(HTML(value='Feature loop'), FloatProgress(value=0.0, max=21.0), HTML(value='')))"
      ]
     },
     "metadata": {},
     "output_type": "display_data"
    },
    {
     "data": {
      "application/vnd.jupyter.widget-view+json": {
       "model_id": "98314613dc98401d99d5878bff8b866b",
       "version_major": 2,
       "version_minor": 0
      },
      "text/plain": [
       "HBox(children=(HTML(value='Feature loop'), FloatProgress(value=0.0, max=21.0), HTML(value='')))"
      ]
     },
     "metadata": {},
     "output_type": "display_data"
    },
    {
     "data": {
      "application/vnd.jupyter.widget-view+json": {
       "model_id": "0b5d2d3a56f4431a828adb9ce6ec00c9",
       "version_major": 2,
       "version_minor": 0
      },
      "text/plain": [
       "HBox(children=(HTML(value='Feature loop'), FloatProgress(value=0.0, max=21.0), HTML(value='')))"
      ]
     },
     "metadata": {},
     "output_type": "display_data"
    },
    {
     "data": {
      "application/vnd.jupyter.widget-view+json": {
       "model_id": "4c7c891967204066abad6614d987d040",
       "version_major": 2,
       "version_minor": 0
      },
      "text/plain": [
       "HBox(children=(HTML(value='Feature loop'), FloatProgress(value=0.0, max=21.0), HTML(value='')))"
      ]
     },
     "metadata": {},
     "output_type": "display_data"
    },
    {
     "data": {
      "application/vnd.jupyter.widget-view+json": {
       "model_id": "37c4ecde710a41b49f922a454b629b8d",
       "version_major": 2,
       "version_minor": 0
      },
      "text/plain": [
       "HBox(children=(HTML(value='Feature loop'), FloatProgress(value=0.0, max=21.0), HTML(value='')))"
      ]
     },
     "metadata": {},
     "output_type": "display_data"
    },
    {
     "data": {
      "application/vnd.jupyter.widget-view+json": {
       "model_id": "a50918cd30b842c89d590142a5ef3a09",
       "version_major": 2,
       "version_minor": 0
      },
      "text/plain": [
       "HBox(children=(HTML(value='Feature loop'), FloatProgress(value=0.0, max=21.0), HTML(value='')))"
      ]
     },
     "metadata": {},
     "output_type": "display_data"
    },
    {
     "data": {
      "application/vnd.jupyter.widget-view+json": {
       "model_id": "baad1a7140c041feb13fcceea8d9bf5c",
       "version_major": 2,
       "version_minor": 0
      },
      "text/plain": [
       "HBox(children=(HTML(value='Feature loop'), FloatProgress(value=0.0, max=21.0), HTML(value='')))"
      ]
     },
     "metadata": {},
     "output_type": "display_data"
    },
    {
     "data": {
      "application/vnd.jupyter.widget-view+json": {
       "model_id": "75301bfc4aed4246ae9c4ca1dd61b652",
       "version_major": 2,
       "version_minor": 0
      },
      "text/plain": [
       "HBox(children=(HTML(value='Feature loop'), FloatProgress(value=0.0, max=21.0), HTML(value='')))"
      ]
     },
     "metadata": {},
     "output_type": "display_data"
    },
    {
     "data": {
      "application/vnd.jupyter.widget-view+json": {
       "model_id": "1c0c7b926118477199a99ff7e098ca73",
       "version_major": 2,
       "version_minor": 0
      },
      "text/plain": [
       "HBox(children=(HTML(value='Feature loop'), FloatProgress(value=0.0, max=21.0), HTML(value='')))"
      ]
     },
     "metadata": {},
     "output_type": "display_data"
    },
    {
     "data": {
      "application/vnd.jupyter.widget-view+json": {
       "model_id": "bfe47f4c0efd43b58c7cf11dc95645fa",
       "version_major": 2,
       "version_minor": 0
      },
      "text/plain": [
       "HBox(children=(HTML(value='Feature loop'), FloatProgress(value=0.0, max=21.0), HTML(value='')))"
      ]
     },
     "metadata": {},
     "output_type": "display_data"
    },
    {
     "data": {
      "application/vnd.jupyter.widget-view+json": {
       "model_id": "043b3f9e318a4ce0a4fc6c8154282def",
       "version_major": 2,
       "version_minor": 0
      },
      "text/plain": [
       "HBox(children=(HTML(value='Feature loop'), FloatProgress(value=0.0, max=21.0), HTML(value='')))"
      ]
     },
     "metadata": {},
     "output_type": "display_data"
    },
    {
     "data": {
      "application/vnd.jupyter.widget-view+json": {
       "model_id": "7c6ccc5216cb4d06af090f217849e23f",
       "version_major": 2,
       "version_minor": 0
      },
      "text/plain": [
       "HBox(children=(HTML(value='Feature loop'), FloatProgress(value=0.0, max=21.0), HTML(value='')))"
      ]
     },
     "metadata": {},
     "output_type": "display_data"
    },
    {
     "data": {
      "application/vnd.jupyter.widget-view+json": {
       "model_id": "cd1b045f084f47329f45a3131cc234a3",
       "version_major": 2,
       "version_minor": 0
      },
      "text/plain": [
       "HBox(children=(HTML(value='Feature loop'), FloatProgress(value=0.0, max=21.0), HTML(value='')))"
      ]
     },
     "metadata": {},
     "output_type": "display_data"
    },
    {
     "data": {
      "application/vnd.jupyter.widget-view+json": {
       "model_id": "e780933eb03e495080c389ca3581fc8e",
       "version_major": 2,
       "version_minor": 0
      },
      "text/plain": [
       "HBox(children=(HTML(value='Feature loop'), FloatProgress(value=0.0, max=21.0), HTML(value='')))"
      ]
     },
     "metadata": {},
     "output_type": "display_data"
    },
    {
     "data": {
      "application/vnd.jupyter.widget-view+json": {
       "model_id": "e4ff13ec530049afaa465979f09dc648",
       "version_major": 2,
       "version_minor": 0
      },
      "text/plain": [
       "HBox(children=(HTML(value='Feature loop'), FloatProgress(value=0.0, max=21.0), HTML(value='')))"
      ]
     },
     "metadata": {},
     "output_type": "display_data"
    },
    {
     "data": {
      "application/vnd.jupyter.widget-view+json": {
       "model_id": "f919de64ab4543b389656d2917b92c79",
       "version_major": 2,
       "version_minor": 0
      },
      "text/plain": [
       "HBox(children=(HTML(value='Feature loop'), FloatProgress(value=0.0, max=21.0), HTML(value='')))"
      ]
     },
     "metadata": {},
     "output_type": "display_data"
    },
    {
     "data": {
      "application/vnd.jupyter.widget-view+json": {
       "model_id": "47c5cb2103084964a5afc98773dc5210",
       "version_major": 2,
       "version_minor": 0
      },
      "text/plain": [
       "HBox(children=(HTML(value='Feature loop'), FloatProgress(value=0.0, max=21.0), HTML(value='')))"
      ]
     },
     "metadata": {},
     "output_type": "display_data"
    },
    {
     "data": {
      "application/vnd.jupyter.widget-view+json": {
       "model_id": "ea4d89dacfca49e3a6b7c31c1fec8437",
       "version_major": 2,
       "version_minor": 0
      },
      "text/plain": [
       "HBox(children=(HTML(value='Feature loop'), FloatProgress(value=0.0, max=21.0), HTML(value='')))"
      ]
     },
     "metadata": {},
     "output_type": "display_data"
    },
    {
     "data": {
      "application/vnd.jupyter.widget-view+json": {
       "model_id": "1fa23dc5456b4e7ca1172466ddb50ab3",
       "version_major": 2,
       "version_minor": 0
      },
      "text/plain": [
       "HBox(children=(HTML(value='Feature loop'), FloatProgress(value=0.0, max=21.0), HTML(value='')))"
      ]
     },
     "metadata": {},
     "output_type": "display_data"
    },
    {
     "data": {
      "application/vnd.jupyter.widget-view+json": {
       "model_id": "e4e350de818e4daabcd357fb33fbc122",
       "version_major": 2,
       "version_minor": 0
      },
      "text/plain": [
       "HBox(children=(HTML(value='Feature loop'), FloatProgress(value=0.0, max=21.0), HTML(value='')))"
      ]
     },
     "metadata": {},
     "output_type": "display_data"
    },
    {
     "data": {
      "application/vnd.jupyter.widget-view+json": {
       "model_id": "294575dd837b406085bb85fa551a71e6",
       "version_major": 2,
       "version_minor": 0
      },
      "text/plain": [
       "HBox(children=(HTML(value='Feature loop'), FloatProgress(value=0.0, max=21.0), HTML(value='')))"
      ]
     },
     "metadata": {},
     "output_type": "display_data"
    },
    {
     "data": {
      "application/vnd.jupyter.widget-view+json": {
       "model_id": "de57b2e68a954f9cbde027544e5047c8",
       "version_major": 2,
       "version_minor": 0
      },
      "text/plain": [
       "HBox(children=(HTML(value='Feature loop'), FloatProgress(value=0.0, max=21.0), HTML(value='')))"
      ]
     },
     "metadata": {},
     "output_type": "display_data"
    },
    {
     "data": {
      "application/vnd.jupyter.widget-view+json": {
       "model_id": "198586a1caa2444aa539b9d9ec4c74bf",
       "version_major": 2,
       "version_minor": 0
      },
      "text/plain": [
       "HBox(children=(HTML(value='Feature loop'), FloatProgress(value=0.0, max=21.0), HTML(value='')))"
      ]
     },
     "metadata": {},
     "output_type": "display_data"
    },
    {
     "data": {
      "application/vnd.jupyter.widget-view+json": {
       "model_id": "74d643f679394448a3bc502c71ea5380",
       "version_major": 2,
       "version_minor": 0
      },
      "text/plain": [
       "HBox(children=(HTML(value='Feature loop'), FloatProgress(value=0.0, max=21.0), HTML(value='')))"
      ]
     },
     "metadata": {},
     "output_type": "display_data"
    },
    {
     "data": {
      "application/vnd.jupyter.widget-view+json": {
       "model_id": "aa61a1fdc3884b9c998c1c619b23be60",
       "version_major": 2,
       "version_minor": 0
      },
      "text/plain": [
       "HBox(children=(HTML(value='Feature loop'), FloatProgress(value=0.0, max=21.0), HTML(value='')))"
      ]
     },
     "metadata": {},
     "output_type": "display_data"
    },
    {
     "data": {
      "application/vnd.jupyter.widget-view+json": {
       "model_id": "9f5c1b98af4e43578455a38fa579c955",
       "version_major": 2,
       "version_minor": 0
      },
      "text/plain": [
       "HBox(children=(HTML(value='Feature loop'), FloatProgress(value=0.0, max=21.0), HTML(value='')))"
      ]
     },
     "metadata": {},
     "output_type": "display_data"
    },
    {
     "data": {
      "application/vnd.jupyter.widget-view+json": {
       "model_id": "6932cf7a5b1b4bd9ad7bb19cd3526db6",
       "version_major": 2,
       "version_minor": 0
      },
      "text/plain": [
       "HBox(children=(HTML(value='Feature loop'), FloatProgress(value=0.0, max=21.0), HTML(value='')))"
      ]
     },
     "metadata": {},
     "output_type": "display_data"
    },
    {
     "data": {
      "application/vnd.jupyter.widget-view+json": {
       "model_id": "f90a530fe45a41ec84969eea163a38ea",
       "version_major": 2,
       "version_minor": 0
      },
      "text/plain": [
       "HBox(children=(HTML(value='Feature loop'), FloatProgress(value=0.0, max=21.0), HTML(value='')))"
      ]
     },
     "metadata": {},
     "output_type": "display_data"
    },
    {
     "data": {
      "application/vnd.jupyter.widget-view+json": {
       "model_id": "d4175de8a1674131b3f1e3dcb97b8beb",
       "version_major": 2,
       "version_minor": 0
      },
      "text/plain": [
       "HBox(children=(HTML(value='Feature loop'), FloatProgress(value=0.0, max=21.0), HTML(value='')))"
      ]
     },
     "metadata": {},
     "output_type": "display_data"
    },
    {
     "data": {
      "application/vnd.jupyter.widget-view+json": {
       "model_id": "7c1a9c69f34a4a2c853b34cedef14d0b",
       "version_major": 2,
       "version_minor": 0
      },
      "text/plain": [
       "HBox(children=(HTML(value='Feature loop'), FloatProgress(value=0.0, max=21.0), HTML(value='')))"
      ]
     },
     "metadata": {},
     "output_type": "display_data"
    },
    {
     "data": {
      "application/vnd.jupyter.widget-view+json": {
       "model_id": "26b8a8574adf46139a43524f372fa1f1",
       "version_major": 2,
       "version_minor": 0
      },
      "text/plain": [
       "HBox(children=(HTML(value='Feature loop'), FloatProgress(value=0.0, max=21.0), HTML(value='')))"
      ]
     },
     "metadata": {},
     "output_type": "display_data"
    },
    {
     "data": {
      "application/vnd.jupyter.widget-view+json": {
       "model_id": "03ce762311b24dbc96d544b0fb98d28a",
       "version_major": 2,
       "version_minor": 0
      },
      "text/plain": [
       "HBox(children=(HTML(value='Feature loop'), FloatProgress(value=0.0, max=21.0), HTML(value='')))"
      ]
     },
     "metadata": {},
     "output_type": "display_data"
    },
    {
     "data": {
      "application/vnd.jupyter.widget-view+json": {
       "model_id": "cdb7319eb8a449b1ac1d746ef1a87538",
       "version_major": 2,
       "version_minor": 0
      },
      "text/plain": [
       "HBox(children=(HTML(value='Feature loop'), FloatProgress(value=0.0, max=21.0), HTML(value='')))"
      ]
     },
     "metadata": {},
     "output_type": "display_data"
    },
    {
     "data": {
      "application/vnd.jupyter.widget-view+json": {
       "model_id": "4a71fb5baf4b401b8fb8b4880684f55b",
       "version_major": 2,
       "version_minor": 0
      },
      "text/plain": [
       "HBox(children=(HTML(value='Feature loop'), FloatProgress(value=0.0, max=21.0), HTML(value='')))"
      ]
     },
     "metadata": {},
     "output_type": "display_data"
    },
    {
     "data": {
      "application/vnd.jupyter.widget-view+json": {
       "model_id": "bd920d6b38c944c3a5f870525c1ea4f4",
       "version_major": 2,
       "version_minor": 0
      },
      "text/plain": [
       "HBox(children=(HTML(value='Feature loop'), FloatProgress(value=0.0, max=21.0), HTML(value='')))"
      ]
     },
     "metadata": {},
     "output_type": "display_data"
    },
    {
     "data": {
      "application/vnd.jupyter.widget-view+json": {
       "model_id": "9673885ba78b4c0eb410453b3279fe02",
       "version_major": 2,
       "version_minor": 0
      },
      "text/plain": [
       "HBox(children=(HTML(value='Feature loop'), FloatProgress(value=0.0, max=21.0), HTML(value='')))"
      ]
     },
     "metadata": {},
     "output_type": "display_data"
    },
    {
     "data": {
      "application/vnd.jupyter.widget-view+json": {
       "model_id": "6fa4acad8b614f868d6cbfc9662c9084",
       "version_major": 2,
       "version_minor": 0
      },
      "text/plain": [
       "HBox(children=(HTML(value='Feature loop'), FloatProgress(value=0.0, max=21.0), HTML(value='')))"
      ]
     },
     "metadata": {},
     "output_type": "display_data"
    },
    {
     "data": {
      "application/vnd.jupyter.widget-view+json": {
       "model_id": "db8d79133ec24c8d99d13b3440356020",
       "version_major": 2,
       "version_minor": 0
      },
      "text/plain": [
       "HBox(children=(HTML(value='Feature loop'), FloatProgress(value=0.0, max=21.0), HTML(value='')))"
      ]
     },
     "metadata": {},
     "output_type": "display_data"
    },
    {
     "data": {
      "application/vnd.jupyter.widget-view+json": {
       "model_id": "2a55ed99b6db4411a2a6176878bd6eec",
       "version_major": 2,
       "version_minor": 0
      },
      "text/plain": [
       "HBox(children=(HTML(value='Feature loop'), FloatProgress(value=0.0, max=21.0), HTML(value='')))"
      ]
     },
     "metadata": {},
     "output_type": "display_data"
    },
    {
     "data": {
      "application/vnd.jupyter.widget-view+json": {
       "model_id": "e2526870dc03467081dfbffc40f4ded1",
       "version_major": 2,
       "version_minor": 0
      },
      "text/plain": [
       "HBox(children=(HTML(value='Feature loop'), FloatProgress(value=0.0, max=21.0), HTML(value='')))"
      ]
     },
     "metadata": {},
     "output_type": "display_data"
    },
    {
     "data": {
      "application/vnd.jupyter.widget-view+json": {
       "model_id": "17d9b0fdc71a45c392cb5b7db691d7ac",
       "version_major": 2,
       "version_minor": 0
      },
      "text/plain": [
       "HBox(children=(HTML(value='Feature loop'), FloatProgress(value=0.0, max=21.0), HTML(value='')))"
      ]
     },
     "metadata": {},
     "output_type": "display_data"
    },
    {
     "data": {
      "application/vnd.jupyter.widget-view+json": {
       "model_id": "2f4ded786f424dfa895f7f7e84aa433b",
       "version_major": 2,
       "version_minor": 0
      },
      "text/plain": [
       "HBox(children=(HTML(value='Feature loop'), FloatProgress(value=0.0, max=21.0), HTML(value='')))"
      ]
     },
     "metadata": {},
     "output_type": "display_data"
    },
    {
     "data": {
      "application/vnd.jupyter.widget-view+json": {
       "model_id": "4f9405c8b50340158a04a7872c915454",
       "version_major": 2,
       "version_minor": 0
      },
      "text/plain": [
       "HBox(children=(HTML(value='Feature loop'), FloatProgress(value=0.0, max=21.0), HTML(value='')))"
      ]
     },
     "metadata": {},
     "output_type": "display_data"
    },
    {
     "data": {
      "application/vnd.jupyter.widget-view+json": {
       "model_id": "dbc24f9dd822447cbe6f9adf866219b1",
       "version_major": 2,
       "version_minor": 0
      },
      "text/plain": [
       "HBox(children=(HTML(value='Feature loop'), FloatProgress(value=0.0, max=21.0), HTML(value='')))"
      ]
     },
     "metadata": {},
     "output_type": "display_data"
    },
    {
     "data": {
      "application/vnd.jupyter.widget-view+json": {
       "model_id": "f337a82b68e4451497609b2bf0ad4c2e",
       "version_major": 2,
       "version_minor": 0
      },
      "text/plain": [
       "HBox(children=(HTML(value='Feature loop'), FloatProgress(value=0.0, max=21.0), HTML(value='')))"
      ]
     },
     "metadata": {},
     "output_type": "display_data"
    },
    {
     "data": {
      "application/vnd.jupyter.widget-view+json": {
       "model_id": "e1617eda176d47cabb4e6d688c6912de",
       "version_major": 2,
       "version_minor": 0
      },
      "text/plain": [
       "HBox(children=(HTML(value='Feature loop'), FloatProgress(value=0.0, max=21.0), HTML(value='')))"
      ]
     },
     "metadata": {},
     "output_type": "display_data"
    },
    {
     "data": {
      "application/vnd.jupyter.widget-view+json": {
       "model_id": "82ab0c5da1a245a789b5459e145ead99",
       "version_major": 2,
       "version_minor": 0
      },
      "text/plain": [
       "HBox(children=(HTML(value='Feature loop'), FloatProgress(value=0.0, max=21.0), HTML(value='')))"
      ]
     },
     "metadata": {},
     "output_type": "display_data"
    },
    {
     "data": {
      "application/vnd.jupyter.widget-view+json": {
       "model_id": "1fad7a0e6e374edf96a7f9f967b607f0",
       "version_major": 2,
       "version_minor": 0
      },
      "text/plain": [
       "HBox(children=(HTML(value='Feature loop'), FloatProgress(value=0.0, max=21.0), HTML(value='')))"
      ]
     },
     "metadata": {},
     "output_type": "display_data"
    },
    {
     "data": {
      "application/vnd.jupyter.widget-view+json": {
       "model_id": "4adc7df945da4a7982b3cf690de087bd",
       "version_major": 2,
       "version_minor": 0
      },
      "text/plain": [
       "HBox(children=(HTML(value='Feature loop'), FloatProgress(value=0.0, max=21.0), HTML(value='')))"
      ]
     },
     "metadata": {},
     "output_type": "display_data"
    },
    {
     "data": {
      "application/vnd.jupyter.widget-view+json": {
       "model_id": "2a62930961a94b92a940abcd1bd4a34d",
       "version_major": 2,
       "version_minor": 0
      },
      "text/plain": [
       "HBox(children=(HTML(value='Feature loop'), FloatProgress(value=0.0, max=21.0), HTML(value='')))"
      ]
     },
     "metadata": {},
     "output_type": "display_data"
    },
    {
     "data": {
      "application/vnd.jupyter.widget-view+json": {
       "model_id": "2e20177f10094f78ae97631554da3b54",
       "version_major": 2,
       "version_minor": 0
      },
      "text/plain": [
       "HBox(children=(HTML(value='Feature loop'), FloatProgress(value=0.0, max=21.0), HTML(value='')))"
      ]
     },
     "metadata": {},
     "output_type": "display_data"
    },
    {
     "data": {
      "application/vnd.jupyter.widget-view+json": {
       "model_id": "6129c1e60939444ebc815166e034e869",
       "version_major": 2,
       "version_minor": 0
      },
      "text/plain": [
       "HBox(children=(HTML(value='Feature loop'), FloatProgress(value=0.0, max=21.0), HTML(value='')))"
      ]
     },
     "metadata": {},
     "output_type": "display_data"
    },
    {
     "data": {
      "application/vnd.jupyter.widget-view+json": {
       "model_id": "13a31644c2ca49b4b039139cc6277aee",
       "version_major": 2,
       "version_minor": 0
      },
      "text/plain": [
       "HBox(children=(HTML(value='Feature loop'), FloatProgress(value=0.0, max=21.0), HTML(value='')))"
      ]
     },
     "metadata": {},
     "output_type": "display_data"
    },
    {
     "data": {
      "application/vnd.jupyter.widget-view+json": {
       "model_id": "6897cb6e2f35494ba7e730336329fb13",
       "version_major": 2,
       "version_minor": 0
      },
      "text/plain": [
       "HBox(children=(HTML(value='Feature loop'), FloatProgress(value=0.0, max=21.0), HTML(value='')))"
      ]
     },
     "metadata": {},
     "output_type": "display_data"
    },
    {
     "data": {
      "application/vnd.jupyter.widget-view+json": {
       "model_id": "c9a87e0b51864c18b8bac7a9259f9122",
       "version_major": 2,
       "version_minor": 0
      },
      "text/plain": [
       "HBox(children=(HTML(value='Feature loop'), FloatProgress(value=0.0, max=21.0), HTML(value='')))"
      ]
     },
     "metadata": {},
     "output_type": "display_data"
    },
    {
     "data": {
      "application/vnd.jupyter.widget-view+json": {
       "model_id": "2ed2886f97aa4d24a6612d209a2314cf",
       "version_major": 2,
       "version_minor": 0
      },
      "text/plain": [
       "HBox(children=(HTML(value='Feature loop'), FloatProgress(value=0.0, max=21.0), HTML(value='')))"
      ]
     },
     "metadata": {},
     "output_type": "display_data"
    },
    {
     "data": {
      "application/vnd.jupyter.widget-view+json": {
       "model_id": "f861854fb4a7435e8ba961ec0c920f13",
       "version_major": 2,
       "version_minor": 0
      },
      "text/plain": [
       "HBox(children=(HTML(value='Feature loop'), FloatProgress(value=0.0, max=21.0), HTML(value='')))"
      ]
     },
     "metadata": {},
     "output_type": "display_data"
    },
    {
     "data": {
      "application/vnd.jupyter.widget-view+json": {
       "model_id": "b2afce9ff5b14b568187c0a65d80e1d3",
       "version_major": 2,
       "version_minor": 0
      },
      "text/plain": [
       "HBox(children=(HTML(value='Feature loop'), FloatProgress(value=0.0, max=21.0), HTML(value='')))"
      ]
     },
     "metadata": {},
     "output_type": "display_data"
    },
    {
     "data": {
      "application/vnd.jupyter.widget-view+json": {
       "model_id": "470a53eaf79a4f1abcc37c27c7562691",
       "version_major": 2,
       "version_minor": 0
      },
      "text/plain": [
       "HBox(children=(HTML(value='Feature loop'), FloatProgress(value=0.0, max=21.0), HTML(value='')))"
      ]
     },
     "metadata": {},
     "output_type": "display_data"
    },
    {
     "data": {
      "application/vnd.jupyter.widget-view+json": {
       "model_id": "0c69c2fb5c304ef0b20fe3a731ac0b34",
       "version_major": 2,
       "version_minor": 0
      },
      "text/plain": [
       "HBox(children=(HTML(value='Feature loop'), FloatProgress(value=0.0, max=21.0), HTML(value='')))"
      ]
     },
     "metadata": {},
     "output_type": "display_data"
    },
    {
     "data": {
      "application/vnd.jupyter.widget-view+json": {
       "model_id": "cb2c4b39c0fb44b4a16161f6a146930c",
       "version_major": 2,
       "version_minor": 0
      },
      "text/plain": [
       "HBox(children=(HTML(value='Feature loop'), FloatProgress(value=0.0, max=21.0), HTML(value='')))"
      ]
     },
     "metadata": {},
     "output_type": "display_data"
    },
    {
     "data": {
      "application/vnd.jupyter.widget-view+json": {
       "model_id": "7d31ecd83eb24bbd9672da0ccc631ec0",
       "version_major": 2,
       "version_minor": 0
      },
      "text/plain": [
       "HBox(children=(HTML(value='Feature loop'), FloatProgress(value=0.0, max=21.0), HTML(value='')))"
      ]
     },
     "metadata": {},
     "output_type": "display_data"
    },
    {
     "data": {
      "application/vnd.jupyter.widget-view+json": {
       "model_id": "6d53fbeb44064e11b04e90a29f7ff33b",
       "version_major": 2,
       "version_minor": 0
      },
      "text/plain": [
       "HBox(children=(HTML(value='Feature loop'), FloatProgress(value=0.0, max=21.0), HTML(value='')))"
      ]
     },
     "metadata": {},
     "output_type": "display_data"
    },
    {
     "data": {
      "application/vnd.jupyter.widget-view+json": {
       "model_id": "dd6a9ab406e649a0a01313e420877ffb",
       "version_major": 2,
       "version_minor": 0
      },
      "text/plain": [
       "HBox(children=(HTML(value='Feature loop'), FloatProgress(value=0.0, max=21.0), HTML(value='')))"
      ]
     },
     "metadata": {},
     "output_type": "display_data"
    },
    {
     "data": {
      "application/vnd.jupyter.widget-view+json": {
       "model_id": "b89c2ea674724e468abf2ab53566bd93",
       "version_major": 2,
       "version_minor": 0
      },
      "text/plain": [
       "HBox(children=(HTML(value='Feature loop'), FloatProgress(value=0.0, max=21.0), HTML(value='')))"
      ]
     },
     "metadata": {},
     "output_type": "display_data"
    },
    {
     "data": {
      "application/vnd.jupyter.widget-view+json": {
       "model_id": "2361b242523243919cd8524fa5f5077c",
       "version_major": 2,
       "version_minor": 0
      },
      "text/plain": [
       "HBox(children=(HTML(value='Feature loop'), FloatProgress(value=0.0, max=21.0), HTML(value='')))"
      ]
     },
     "metadata": {},
     "output_type": "display_data"
    },
    {
     "data": {
      "application/vnd.jupyter.widget-view+json": {
       "model_id": "43b16e8de6de43d5bd7788dc03ae7de2",
       "version_major": 2,
       "version_minor": 0
      },
      "text/plain": [
       "HBox(children=(HTML(value='Feature loop'), FloatProgress(value=0.0, max=21.0), HTML(value='')))"
      ]
     },
     "metadata": {},
     "output_type": "display_data"
    },
    {
     "data": {
      "application/vnd.jupyter.widget-view+json": {
       "model_id": "03bd3df4182142d49f5423ce7260c693",
       "version_major": 2,
       "version_minor": 0
      },
      "text/plain": [
       "HBox(children=(HTML(value='Feature loop'), FloatProgress(value=0.0, max=21.0), HTML(value='')))"
      ]
     },
     "metadata": {},
     "output_type": "display_data"
    },
    {
     "data": {
      "application/vnd.jupyter.widget-view+json": {
       "model_id": "560511c98db44c91ab8aee7d57782134",
       "version_major": 2,
       "version_minor": 0
      },
      "text/plain": [
       "HBox(children=(HTML(value='Feature loop'), FloatProgress(value=0.0, max=21.0), HTML(value='')))"
      ]
     },
     "metadata": {},
     "output_type": "display_data"
    },
    {
     "data": {
      "application/vnd.jupyter.widget-view+json": {
       "model_id": "04fd749524b34f2da1f4d717524d6c0d",
       "version_major": 2,
       "version_minor": 0
      },
      "text/plain": [
       "HBox(children=(HTML(value='Feature loop'), FloatProgress(value=0.0, max=21.0), HTML(value='')))"
      ]
     },
     "metadata": {},
     "output_type": "display_data"
    },
    {
     "data": {
      "application/vnd.jupyter.widget-view+json": {
       "model_id": "2455822ea4794439aa9a868e69fe94e8",
       "version_major": 2,
       "version_minor": 0
      },
      "text/plain": [
       "HBox(children=(HTML(value='Feature loop'), FloatProgress(value=0.0, max=21.0), HTML(value='')))"
      ]
     },
     "metadata": {},
     "output_type": "display_data"
    },
    {
     "data": {
      "application/vnd.jupyter.widget-view+json": {
       "model_id": "0d30c79fb5344b11ba196bde7d92d76c",
       "version_major": 2,
       "version_minor": 0
      },
      "text/plain": [
       "HBox(children=(HTML(value='Feature loop'), FloatProgress(value=0.0, max=21.0), HTML(value='')))"
      ]
     },
     "metadata": {},
     "output_type": "display_data"
    },
    {
     "data": {
      "application/vnd.jupyter.widget-view+json": {
       "model_id": "add1b2960dd14f94b6c15b8bc857de3b",
       "version_major": 2,
       "version_minor": 0
      },
      "text/plain": [
       "HBox(children=(HTML(value='Feature loop'), FloatProgress(value=0.0, max=21.0), HTML(value='')))"
      ]
     },
     "metadata": {},
     "output_type": "display_data"
    },
    {
     "data": {
      "application/vnd.jupyter.widget-view+json": {
       "model_id": "80029c041e6a49d98886363c8412127d",
       "version_major": 2,
       "version_minor": 0
      },
      "text/plain": [
       "HBox(children=(HTML(value='Feature loop'), FloatProgress(value=0.0, max=21.0), HTML(value='')))"
      ]
     },
     "metadata": {},
     "output_type": "display_data"
    },
    {
     "data": {
      "application/vnd.jupyter.widget-view+json": {
       "model_id": "7025292fbfcb4bb4a89092d1e3407a22",
       "version_major": 2,
       "version_minor": 0
      },
      "text/plain": [
       "HBox(children=(HTML(value='Feature loop'), FloatProgress(value=0.0, max=21.0), HTML(value='')))"
      ]
     },
     "metadata": {},
     "output_type": "display_data"
    },
    {
     "data": {
      "application/vnd.jupyter.widget-view+json": {
       "model_id": "dea62ae36fcd4da7ac1b24b118419aac",
       "version_major": 2,
       "version_minor": 0
      },
      "text/plain": [
       "HBox(children=(HTML(value='Feature loop'), FloatProgress(value=0.0, max=21.0), HTML(value='')))"
      ]
     },
     "metadata": {},
     "output_type": "display_data"
    },
    {
     "data": {
      "application/vnd.jupyter.widget-view+json": {
       "model_id": "04dc68293ee74a61a764ea1064c098f8",
       "version_major": 2,
       "version_minor": 0
      },
      "text/plain": [
       "HBox(children=(HTML(value='Feature loop'), FloatProgress(value=0.0, max=21.0), HTML(value='')))"
      ]
     },
     "metadata": {},
     "output_type": "display_data"
    },
    {
     "data": {
      "application/vnd.jupyter.widget-view+json": {
       "model_id": "9221b926efe04629b0a590f9cfb82141",
       "version_major": 2,
       "version_minor": 0
      },
      "text/plain": [
       "HBox(children=(HTML(value='Feature loop'), FloatProgress(value=0.0, max=21.0), HTML(value='')))"
      ]
     },
     "metadata": {},
     "output_type": "display_data"
    },
    {
     "data": {
      "application/vnd.jupyter.widget-view+json": {
       "model_id": "094d4a3013a24d2c94229c85754b73c6",
       "version_major": 2,
       "version_minor": 0
      },
      "text/plain": [
       "HBox(children=(HTML(value='Feature loop'), FloatProgress(value=0.0, max=21.0), HTML(value='')))"
      ]
     },
     "metadata": {},
     "output_type": "display_data"
    },
    {
     "data": {
      "application/vnd.jupyter.widget-view+json": {
       "model_id": "bd7cb165d4c14ecda52cdea2b341a39e",
       "version_major": 2,
       "version_minor": 0
      },
      "text/plain": [
       "HBox(children=(HTML(value='Feature loop'), FloatProgress(value=0.0, max=21.0), HTML(value='')))"
      ]
     },
     "metadata": {},
     "output_type": "display_data"
    },
    {
     "data": {
      "application/vnd.jupyter.widget-view+json": {
       "model_id": "ea249fa4dd3f4a439a091225b3b93ad4",
       "version_major": 2,
       "version_minor": 0
      },
      "text/plain": [
       "HBox(children=(HTML(value='Feature loop'), FloatProgress(value=0.0, max=21.0), HTML(value='')))"
      ]
     },
     "metadata": {},
     "output_type": "display_data"
    },
    {
     "data": {
      "application/vnd.jupyter.widget-view+json": {
       "model_id": "eea270ba50dd4802ae6972931a684fd0",
       "version_major": 2,
       "version_minor": 0
      },
      "text/plain": [
       "HBox(children=(HTML(value='Feature loop'), FloatProgress(value=0.0, max=21.0), HTML(value='')))"
      ]
     },
     "metadata": {},
     "output_type": "display_data"
    },
    {
     "data": {
      "application/vnd.jupyter.widget-view+json": {
       "model_id": "db8bfb1586d04ccfb9b1a30bcc6cdee1",
       "version_major": 2,
       "version_minor": 0
      },
      "text/plain": [
       "HBox(children=(HTML(value='Feature loop'), FloatProgress(value=0.0, max=21.0), HTML(value='')))"
      ]
     },
     "metadata": {},
     "output_type": "display_data"
    },
    {
     "data": {
      "application/vnd.jupyter.widget-view+json": {
       "model_id": "df7ed0a80cd94805b70e85bac61930d3",
       "version_major": 2,
       "version_minor": 0
      },
      "text/plain": [
       "HBox(children=(HTML(value='Feature loop'), FloatProgress(value=0.0, max=21.0), HTML(value='')))"
      ]
     },
     "metadata": {},
     "output_type": "display_data"
    },
    {
     "data": {
      "application/vnd.jupyter.widget-view+json": {
       "model_id": "627f432c69af4e43bedd7310414abd37",
       "version_major": 2,
       "version_minor": 0
      },
      "text/plain": [
       "HBox(children=(HTML(value='Feature loop'), FloatProgress(value=0.0, max=21.0), HTML(value='')))"
      ]
     },
     "metadata": {},
     "output_type": "display_data"
    },
    {
     "data": {
      "application/vnd.jupyter.widget-view+json": {
       "model_id": "e3ff64f33c3a42a4b9ae655009fe9929",
       "version_major": 2,
       "version_minor": 0
      },
      "text/plain": [
       "HBox(children=(HTML(value='Feature loop'), FloatProgress(value=0.0, max=21.0), HTML(value='')))"
      ]
     },
     "metadata": {},
     "output_type": "display_data"
    },
    {
     "data": {
      "application/vnd.jupyter.widget-view+json": {
       "model_id": "4aeb618c53e2423cb7178335ac9ee273",
       "version_major": 2,
       "version_minor": 0
      },
      "text/plain": [
       "HBox(children=(HTML(value='Feature loop'), FloatProgress(value=0.0, max=21.0), HTML(value='')))"
      ]
     },
     "metadata": {},
     "output_type": "display_data"
    },
    {
     "data": {
      "application/vnd.jupyter.widget-view+json": {
       "model_id": "5e3d8eeb63e841a6b938b37862066fca",
       "version_major": 2,
       "version_minor": 0
      },
      "text/plain": [
       "HBox(children=(HTML(value='Feature loop'), FloatProgress(value=0.0, max=21.0), HTML(value='')))"
      ]
     },
     "metadata": {},
     "output_type": "display_data"
    },
    {
     "data": {
      "application/vnd.jupyter.widget-view+json": {
       "model_id": "6b6c559770834eeb90d6ee9b03809c78",
       "version_major": 2,
       "version_minor": 0
      },
      "text/plain": [
       "HBox(children=(HTML(value='Feature loop'), FloatProgress(value=0.0, max=21.0), HTML(value='')))"
      ]
     },
     "metadata": {},
     "output_type": "display_data"
    },
    {
     "data": {
      "application/vnd.jupyter.widget-view+json": {
       "model_id": "3ccf4f19f76748e0b5a237ae82e5c7b1",
       "version_major": 2,
       "version_minor": 0
      },
      "text/plain": [
       "HBox(children=(HTML(value='Feature loop'), FloatProgress(value=0.0, max=21.0), HTML(value='')))"
      ]
     },
     "metadata": {},
     "output_type": "display_data"
    },
    {
     "data": {
      "application/vnd.jupyter.widget-view+json": {
       "model_id": "880129c1dafa43ec92a41778ba02a3a0",
       "version_major": 2,
       "version_minor": 0
      },
      "text/plain": [
       "HBox(children=(HTML(value='Feature loop'), FloatProgress(value=0.0, max=21.0), HTML(value='')))"
      ]
     },
     "metadata": {},
     "output_type": "display_data"
    },
    {
     "data": {
      "application/vnd.jupyter.widget-view+json": {
       "model_id": "ee801cdf7c944046bf03d1f48f0f4c11",
       "version_major": 2,
       "version_minor": 0
      },
      "text/plain": [
       "HBox(children=(HTML(value='Feature loop'), FloatProgress(value=0.0, max=21.0), HTML(value='')))"
      ]
     },
     "metadata": {},
     "output_type": "display_data"
    },
    {
     "data": {
      "application/vnd.jupyter.widget-view+json": {
       "model_id": "7b8b366a7d394eadad04309306e56aa5",
       "version_major": 2,
       "version_minor": 0
      },
      "text/plain": [
       "HBox(children=(HTML(value='Feature loop'), FloatProgress(value=0.0, max=21.0), HTML(value='')))"
      ]
     },
     "metadata": {},
     "output_type": "display_data"
    },
    {
     "data": {
      "application/vnd.jupyter.widget-view+json": {
       "model_id": "2b5def073dce47fe8fb0d432d585c0ff",
       "version_major": 2,
       "version_minor": 0
      },
      "text/plain": [
       "HBox(children=(HTML(value='Feature loop'), FloatProgress(value=0.0, max=21.0), HTML(value='')))"
      ]
     },
     "metadata": {},
     "output_type": "display_data"
    },
    {
     "data": {
      "application/vnd.jupyter.widget-view+json": {
       "model_id": "5f934e06275749aeb2a8e2e0144563e8",
       "version_major": 2,
       "version_minor": 0
      },
      "text/plain": [
       "HBox(children=(HTML(value='Feature loop'), FloatProgress(value=0.0, max=21.0), HTML(value='')))"
      ]
     },
     "metadata": {},
     "output_type": "display_data"
    },
    {
     "data": {
      "application/vnd.jupyter.widget-view+json": {
       "model_id": "0a59f54a044f415eaaad9514fce9dc8d",
       "version_major": 2,
       "version_minor": 0
      },
      "text/plain": [
       "HBox(children=(HTML(value='Feature loop'), FloatProgress(value=0.0, max=21.0), HTML(value='')))"
      ]
     },
     "metadata": {},
     "output_type": "display_data"
    },
    {
     "data": {
      "application/vnd.jupyter.widget-view+json": {
       "model_id": "7914bf5b957b4044b92db930e56a3534",
       "version_major": 2,
       "version_minor": 0
      },
      "text/plain": [
       "HBox(children=(HTML(value='Feature loop'), FloatProgress(value=0.0, max=21.0), HTML(value='')))"
      ]
     },
     "metadata": {},
     "output_type": "display_data"
    },
    {
     "data": {
      "application/vnd.jupyter.widget-view+json": {
       "model_id": "0e517d0a159f4a8daa979f4fe54a7b6c",
       "version_major": 2,
       "version_minor": 0
      },
      "text/plain": [
       "HBox(children=(HTML(value='Feature loop'), FloatProgress(value=0.0, max=21.0), HTML(value='')))"
      ]
     },
     "metadata": {},
     "output_type": "display_data"
    },
    {
     "data": {
      "application/vnd.jupyter.widget-view+json": {
       "model_id": "6194418d683546639f140cde675b133b",
       "version_major": 2,
       "version_minor": 0
      },
      "text/plain": [
       "HBox(children=(HTML(value='Feature loop'), FloatProgress(value=0.0, max=21.0), HTML(value='')))"
      ]
     },
     "metadata": {},
     "output_type": "display_data"
    },
    {
     "data": {
      "application/vnd.jupyter.widget-view+json": {
       "model_id": "54fd3119473f47dbab38355002ef791a",
       "version_major": 2,
       "version_minor": 0
      },
      "text/plain": [
       "HBox(children=(HTML(value='Feature loop'), FloatProgress(value=0.0, max=21.0), HTML(value='')))"
      ]
     },
     "metadata": {},
     "output_type": "display_data"
    },
    {
     "data": {
      "application/vnd.jupyter.widget-view+json": {
       "model_id": "629b5815fe4e40ca98118889242aad34",
       "version_major": 2,
       "version_minor": 0
      },
      "text/plain": [
       "HBox(children=(HTML(value='Feature loop'), FloatProgress(value=0.0, max=21.0), HTML(value='')))"
      ]
     },
     "metadata": {},
     "output_type": "display_data"
    },
    {
     "data": {
      "application/vnd.jupyter.widget-view+json": {
       "model_id": "c48f76c03c714c49a7310ae5ee1636d3",
       "version_major": 2,
       "version_minor": 0
      },
      "text/plain": [
       "HBox(children=(HTML(value='Feature loop'), FloatProgress(value=0.0, max=21.0), HTML(value='')))"
      ]
     },
     "metadata": {},
     "output_type": "display_data"
    },
    {
     "data": {
      "application/vnd.jupyter.widget-view+json": {
       "model_id": "55740f976eca468f9513199dddfed4cd",
       "version_major": 2,
       "version_minor": 0
      },
      "text/plain": [
       "HBox(children=(HTML(value='Feature loop'), FloatProgress(value=0.0, max=21.0), HTML(value='')))"
      ]
     },
     "metadata": {},
     "output_type": "display_data"
    },
    {
     "data": {
      "application/vnd.jupyter.widget-view+json": {
       "model_id": "36ef83f95abf4a2b8dd2291e0d4d8cd1",
       "version_major": 2,
       "version_minor": 0
      },
      "text/plain": [
       "HBox(children=(HTML(value='Feature loop'), FloatProgress(value=0.0, max=21.0), HTML(value='')))"
      ]
     },
     "metadata": {},
     "output_type": "display_data"
    },
    {
     "data": {
      "application/vnd.jupyter.widget-view+json": {
       "model_id": "b19ea2dc4bfa42cb8b8033e3b5e300b2",
       "version_major": 2,
       "version_minor": 0
      },
      "text/plain": [
       "HBox(children=(HTML(value='Feature loop'), FloatProgress(value=0.0, max=21.0), HTML(value='')))"
      ]
     },
     "metadata": {},
     "output_type": "display_data"
    },
    {
     "data": {
      "application/vnd.jupyter.widget-view+json": {
       "model_id": "f737fce837a148f191f414dfb584d4df",
       "version_major": 2,
       "version_minor": 0
      },
      "text/plain": [
       "HBox(children=(HTML(value='Feature loop'), FloatProgress(value=0.0, max=21.0), HTML(value='')))"
      ]
     },
     "metadata": {},
     "output_type": "display_data"
    },
    {
     "data": {
      "application/vnd.jupyter.widget-view+json": {
       "model_id": "f3c973541097451f9d3fa398adb9f6f5",
       "version_major": 2,
       "version_minor": 0
      },
      "text/plain": [
       "HBox(children=(HTML(value='Feature loop'), FloatProgress(value=0.0, max=21.0), HTML(value='')))"
      ]
     },
     "metadata": {},
     "output_type": "display_data"
    },
    {
     "data": {
      "application/vnd.jupyter.widget-view+json": {
       "model_id": "1ccb7a59213b4c7dbcbfce2084306586",
       "version_major": 2,
       "version_minor": 0
      },
      "text/plain": [
       "HBox(children=(HTML(value='Feature loop'), FloatProgress(value=0.0, max=21.0), HTML(value='')))"
      ]
     },
     "metadata": {},
     "output_type": "display_data"
    },
    {
     "data": {
      "application/vnd.jupyter.widget-view+json": {
       "model_id": "e5d897441eb344029f6eb74da8d5b2b2",
       "version_major": 2,
       "version_minor": 0
      },
      "text/plain": [
       "HBox(children=(HTML(value='Feature loop'), FloatProgress(value=0.0, max=21.0), HTML(value='')))"
      ]
     },
     "metadata": {},
     "output_type": "display_data"
    },
    {
     "data": {
      "application/vnd.jupyter.widget-view+json": {
       "model_id": "cdc8b995e5f1416ea25ebf034654c70a",
       "version_major": 2,
       "version_minor": 0
      },
      "text/plain": [
       "HBox(children=(HTML(value='Feature loop'), FloatProgress(value=0.0, max=21.0), HTML(value='')))"
      ]
     },
     "metadata": {},
     "output_type": "display_data"
    },
    {
     "data": {
      "application/vnd.jupyter.widget-view+json": {
       "model_id": "8f712d67894e4fca84d190942c76babf",
       "version_major": 2,
       "version_minor": 0
      },
      "text/plain": [
       "HBox(children=(HTML(value='Feature loop'), FloatProgress(value=0.0, max=21.0), HTML(value='')))"
      ]
     },
     "metadata": {},
     "output_type": "display_data"
    },
    {
     "data": {
      "application/vnd.jupyter.widget-view+json": {
       "model_id": "63115dd28ae44b9fbcc9b04b0c0e4c47",
       "version_major": 2,
       "version_minor": 0
      },
      "text/plain": [
       "HBox(children=(HTML(value='Feature loop'), FloatProgress(value=0.0, max=21.0), HTML(value='')))"
      ]
     },
     "metadata": {},
     "output_type": "display_data"
    },
    {
     "data": {
      "application/vnd.jupyter.widget-view+json": {
       "model_id": "036ffd26641a4963a492c10bc0797a69",
       "version_major": 2,
       "version_minor": 0
      },
      "text/plain": [
       "HBox(children=(HTML(value='Feature loop'), FloatProgress(value=0.0, max=21.0), HTML(value='')))"
      ]
     },
     "metadata": {},
     "output_type": "display_data"
    },
    {
     "data": {
      "application/vnd.jupyter.widget-view+json": {
       "model_id": "c4cec6c584a84059a092b7abef17972f",
       "version_major": 2,
       "version_minor": 0
      },
      "text/plain": [
       "HBox(children=(HTML(value='Feature loop'), FloatProgress(value=0.0, max=21.0), HTML(value='')))"
      ]
     },
     "metadata": {},
     "output_type": "display_data"
    },
    {
     "data": {
      "application/vnd.jupyter.widget-view+json": {
       "model_id": "ce59b19292214775a8c6bda1db5c507d",
       "version_major": 2,
       "version_minor": 0
      },
      "text/plain": [
       "HBox(children=(HTML(value='Feature loop'), FloatProgress(value=0.0, max=21.0), HTML(value='')))"
      ]
     },
     "metadata": {},
     "output_type": "display_data"
    },
    {
     "data": {
      "application/vnd.jupyter.widget-view+json": {
       "model_id": "06fc7cdcb41c4df598ef0dc3c869baca",
       "version_major": 2,
       "version_minor": 0
      },
      "text/plain": [
       "HBox(children=(HTML(value='Feature loop'), FloatProgress(value=0.0, max=21.0), HTML(value='')))"
      ]
     },
     "metadata": {},
     "output_type": "display_data"
    },
    {
     "data": {
      "application/vnd.jupyter.widget-view+json": {
       "model_id": "6ab6b91b6c8c4e6aac84a79b2d85d38b",
       "version_major": 2,
       "version_minor": 0
      },
      "text/plain": [
       "HBox(children=(HTML(value='Feature loop'), FloatProgress(value=0.0, max=21.0), HTML(value='')))"
      ]
     },
     "metadata": {},
     "output_type": "display_data"
    },
    {
     "data": {
      "application/vnd.jupyter.widget-view+json": {
       "model_id": "ecd00b4304ce45aeabcc867b6ea7e4c2",
       "version_major": 2,
       "version_minor": 0
      },
      "text/plain": [
       "HBox(children=(HTML(value='Feature loop'), FloatProgress(value=0.0, max=21.0), HTML(value='')))"
      ]
     },
     "metadata": {},
     "output_type": "display_data"
    },
    {
     "data": {
      "application/vnd.jupyter.widget-view+json": {
       "model_id": "93425b6e869e414ca5adb36e3c8f82ce",
       "version_major": 2,
       "version_minor": 0
      },
      "text/plain": [
       "HBox(children=(HTML(value='Feature loop'), FloatProgress(value=0.0, max=21.0), HTML(value='')))"
      ]
     },
     "metadata": {},
     "output_type": "display_data"
    },
    {
     "data": {
      "application/vnd.jupyter.widget-view+json": {
       "model_id": "ab19cb458329451e80de3db51c2e3783",
       "version_major": 2,
       "version_minor": 0
      },
      "text/plain": [
       "HBox(children=(HTML(value='Feature loop'), FloatProgress(value=0.0, max=21.0), HTML(value='')))"
      ]
     },
     "metadata": {},
     "output_type": "display_data"
    },
    {
     "data": {
      "application/vnd.jupyter.widget-view+json": {
       "model_id": "843a6727f5b6414384497ffcdaba42d0",
       "version_major": 2,
       "version_minor": 0
      },
      "text/plain": [
       "HBox(children=(HTML(value='Feature loop'), FloatProgress(value=0.0, max=21.0), HTML(value='')))"
      ]
     },
     "metadata": {},
     "output_type": "display_data"
    },
    {
     "data": {
      "application/vnd.jupyter.widget-view+json": {
       "model_id": "bf778ed929eb4575871ec6b971040de3",
       "version_major": 2,
       "version_minor": 0
      },
      "text/plain": [
       "HBox(children=(HTML(value='Feature loop'), FloatProgress(value=0.0, max=21.0), HTML(value='')))"
      ]
     },
     "metadata": {},
     "output_type": "display_data"
    },
    {
     "data": {
      "application/vnd.jupyter.widget-view+json": {
       "model_id": "aff0d94afb5d4015a79e7840edc0013b",
       "version_major": 2,
       "version_minor": 0
      },
      "text/plain": [
       "HBox(children=(HTML(value='Feature loop'), FloatProgress(value=0.0, max=21.0), HTML(value='')))"
      ]
     },
     "metadata": {},
     "output_type": "display_data"
    },
    {
     "data": {
      "application/vnd.jupyter.widget-view+json": {
       "model_id": "9584c5985c8645e5b78f848fee49c616",
       "version_major": 2,
       "version_minor": 0
      },
      "text/plain": [
       "HBox(children=(HTML(value='Feature loop'), FloatProgress(value=0.0, max=21.0), HTML(value='')))"
      ]
     },
     "metadata": {},
     "output_type": "display_data"
    },
    {
     "data": {
      "application/vnd.jupyter.widget-view+json": {
       "model_id": "b41fa1f5c7c64d95b60c8819171c7c5a",
       "version_major": 2,
       "version_minor": 0
      },
      "text/plain": [
       "HBox(children=(HTML(value='Feature loop'), FloatProgress(value=0.0, max=21.0), HTML(value='')))"
      ]
     },
     "metadata": {},
     "output_type": "display_data"
    },
    {
     "data": {
      "application/vnd.jupyter.widget-view+json": {
       "model_id": "8605c0d2cb824cf5849fee75d5191ca4",
       "version_major": 2,
       "version_minor": 0
      },
      "text/plain": [
       "HBox(children=(HTML(value='Feature loop'), FloatProgress(value=0.0, max=21.0), HTML(value='')))"
      ]
     },
     "metadata": {},
     "output_type": "display_data"
    },
    {
     "data": {
      "application/vnd.jupyter.widget-view+json": {
       "model_id": "f1152a959bc848a0a9639909936786e3",
       "version_major": 2,
       "version_minor": 0
      },
      "text/plain": [
       "HBox(children=(HTML(value='Feature loop'), FloatProgress(value=0.0, max=21.0), HTML(value='')))"
      ]
     },
     "metadata": {},
     "output_type": "display_data"
    },
    {
     "data": {
      "application/vnd.jupyter.widget-view+json": {
       "model_id": "ab9743db4eab4ab686ad20bf53ce1da8",
       "version_major": 2,
       "version_minor": 0
      },
      "text/plain": [
       "HBox(children=(HTML(value='Feature loop'), FloatProgress(value=0.0, max=21.0), HTML(value='')))"
      ]
     },
     "metadata": {},
     "output_type": "display_data"
    },
    {
     "data": {
      "application/vnd.jupyter.widget-view+json": {
       "model_id": "8b42d602668b47b68ff0aa98d1b54a95",
       "version_major": 2,
       "version_minor": 0
      },
      "text/plain": [
       "HBox(children=(HTML(value='Feature loop'), FloatProgress(value=0.0, max=21.0), HTML(value='')))"
      ]
     },
     "metadata": {},
     "output_type": "display_data"
    },
    {
     "data": {
      "application/vnd.jupyter.widget-view+json": {
       "model_id": "d28756b2ee9e4978bb15581af235bedf",
       "version_major": 2,
       "version_minor": 0
      },
      "text/plain": [
       "HBox(children=(HTML(value='Feature loop'), FloatProgress(value=0.0, max=21.0), HTML(value='')))"
      ]
     },
     "metadata": {},
     "output_type": "display_data"
    },
    {
     "data": {
      "application/vnd.jupyter.widget-view+json": {
       "model_id": "73cbde65f9024989915fef234fe52ae6",
       "version_major": 2,
       "version_minor": 0
      },
      "text/plain": [
       "HBox(children=(HTML(value='Feature loop'), FloatProgress(value=0.0, max=21.0), HTML(value='')))"
      ]
     },
     "metadata": {},
     "output_type": "display_data"
    },
    {
     "data": {
      "application/vnd.jupyter.widget-view+json": {
       "model_id": "97ac97b4026a4c8e99e088f207b2366a",
       "version_major": 2,
       "version_minor": 0
      },
      "text/plain": [
       "HBox(children=(HTML(value='Feature loop'), FloatProgress(value=0.0, max=21.0), HTML(value='')))"
      ]
     },
     "metadata": {},
     "output_type": "display_data"
    },
    {
     "data": {
      "application/vnd.jupyter.widget-view+json": {
       "model_id": "c58035d03ec44f71851d40e2cb375bef",
       "version_major": 2,
       "version_minor": 0
      },
      "text/plain": [
       "HBox(children=(HTML(value='Feature loop'), FloatProgress(value=0.0, max=21.0), HTML(value='')))"
      ]
     },
     "metadata": {},
     "output_type": "display_data"
    },
    {
     "data": {
      "application/vnd.jupyter.widget-view+json": {
       "model_id": "f54c1233abf0480ea3b7c6fa227978c7",
       "version_major": 2,
       "version_minor": 0
      },
      "text/plain": [
       "HBox(children=(HTML(value='Feature loop'), FloatProgress(value=0.0, max=21.0), HTML(value='')))"
      ]
     },
     "metadata": {},
     "output_type": "display_data"
    },
    {
     "data": {
      "application/vnd.jupyter.widget-view+json": {
       "model_id": "2f1f1f04f3c14b3cbc8c93d294653988",
       "version_major": 2,
       "version_minor": 0
      },
      "text/plain": [
       "HBox(children=(HTML(value='Feature loop'), FloatProgress(value=0.0, max=21.0), HTML(value='')))"
      ]
     },
     "metadata": {},
     "output_type": "display_data"
    },
    {
     "data": {
      "application/vnd.jupyter.widget-view+json": {
       "model_id": "2a7c24165efa45dc8c0b762d003c8e17",
       "version_major": 2,
       "version_minor": 0
      },
      "text/plain": [
       "HBox(children=(HTML(value='Feature loop'), FloatProgress(value=0.0, max=21.0), HTML(value='')))"
      ]
     },
     "metadata": {},
     "output_type": "display_data"
    },
    {
     "data": {
      "application/vnd.jupyter.widget-view+json": {
       "model_id": "de70d7e4939e417d8249e6b025c0a9c3",
       "version_major": 2,
       "version_minor": 0
      },
      "text/plain": [
       "HBox(children=(HTML(value='Feature loop'), FloatProgress(value=0.0, max=21.0), HTML(value='')))"
      ]
     },
     "metadata": {},
     "output_type": "display_data"
    },
    {
     "data": {
      "application/vnd.jupyter.widget-view+json": {
       "model_id": "4b94909dbd6f4275887763c2d886d28c",
       "version_major": 2,
       "version_minor": 0
      },
      "text/plain": [
       "HBox(children=(HTML(value='Feature loop'), FloatProgress(value=0.0, max=21.0), HTML(value='')))"
      ]
     },
     "metadata": {},
     "output_type": "display_data"
    },
    {
     "data": {
      "application/vnd.jupyter.widget-view+json": {
       "model_id": "22149ca55af94575aade3e375c242bba",
       "version_major": 2,
       "version_minor": 0
      },
      "text/plain": [
       "HBox(children=(HTML(value='Feature loop'), FloatProgress(value=0.0, max=21.0), HTML(value='')))"
      ]
     },
     "metadata": {},
     "output_type": "display_data"
    },
    {
     "data": {
      "application/vnd.jupyter.widget-view+json": {
       "model_id": "074a3cc0acd04a4e9c5b7117ad01015c",
       "version_major": 2,
       "version_minor": 0
      },
      "text/plain": [
       "HBox(children=(HTML(value='Feature loop'), FloatProgress(value=0.0, max=21.0), HTML(value='')))"
      ]
     },
     "metadata": {},
     "output_type": "display_data"
    },
    {
     "data": {
      "application/vnd.jupyter.widget-view+json": {
       "model_id": "53554f5ddb4c476085d5279bcc09e44b",
       "version_major": 2,
       "version_minor": 0
      },
      "text/plain": [
       "HBox(children=(HTML(value='Feature loop'), FloatProgress(value=0.0, max=21.0), HTML(value='')))"
      ]
     },
     "metadata": {},
     "output_type": "display_data"
    },
    {
     "data": {
      "application/vnd.jupyter.widget-view+json": {
       "model_id": "f79623d58c8049f9836f31605579befe",
       "version_major": 2,
       "version_minor": 0
      },
      "text/plain": [
       "HBox(children=(HTML(value='Feature loop'), FloatProgress(value=0.0, max=21.0), HTML(value='')))"
      ]
     },
     "metadata": {},
     "output_type": "display_data"
    },
    {
     "data": {
      "application/vnd.jupyter.widget-view+json": {
       "model_id": "c1172348e7824999bfa06787d5ca0ca5",
       "version_major": 2,
       "version_minor": 0
      },
      "text/plain": [
       "HBox(children=(HTML(value='Feature loop'), FloatProgress(value=0.0, max=21.0), HTML(value='')))"
      ]
     },
     "metadata": {},
     "output_type": "display_data"
    },
    {
     "data": {
      "application/vnd.jupyter.widget-view+json": {
       "model_id": "a597e0a6562a453d8ca0b745cbfef920",
       "version_major": 2,
       "version_minor": 0
      },
      "text/plain": [
       "HBox(children=(HTML(value='Feature loop'), FloatProgress(value=0.0, max=21.0), HTML(value='')))"
      ]
     },
     "metadata": {},
     "output_type": "display_data"
    },
    {
     "data": {
      "application/vnd.jupyter.widget-view+json": {
       "model_id": "b5c664beb29f4bdd8e4ebf99e97dd1b3",
       "version_major": 2,
       "version_minor": 0
      },
      "text/plain": [
       "HBox(children=(HTML(value='Feature loop'), FloatProgress(value=0.0, max=21.0), HTML(value='')))"
      ]
     },
     "metadata": {},
     "output_type": "display_data"
    },
    {
     "data": {
      "application/vnd.jupyter.widget-view+json": {
       "model_id": "1820bdb5b9bc4cd09cc213ecec282016",
       "version_major": 2,
       "version_minor": 0
      },
      "text/plain": [
       "HBox(children=(HTML(value='Feature loop'), FloatProgress(value=0.0, max=21.0), HTML(value='')))"
      ]
     },
     "metadata": {},
     "output_type": "display_data"
    },
    {
     "data": {
      "application/vnd.jupyter.widget-view+json": {
       "model_id": "1ab03a20510e4438830e21baff2c7432",
       "version_major": 2,
       "version_minor": 0
      },
      "text/plain": [
       "HBox(children=(HTML(value='Feature loop'), FloatProgress(value=0.0, max=21.0), HTML(value='')))"
      ]
     },
     "metadata": {},
     "output_type": "display_data"
    },
    {
     "data": {
      "application/vnd.jupyter.widget-view+json": {
       "model_id": "d06e87a8d0774707acaf2b869fc7d647",
       "version_major": 2,
       "version_minor": 0
      },
      "text/plain": [
       "HBox(children=(HTML(value='Feature loop'), FloatProgress(value=0.0, max=21.0), HTML(value='')))"
      ]
     },
     "metadata": {},
     "output_type": "display_data"
    },
    {
     "data": {
      "application/vnd.jupyter.widget-view+json": {
       "model_id": "123af0e8355f448f9f243b828b6b9ea6",
       "version_major": 2,
       "version_minor": 0
      },
      "text/plain": [
       "HBox(children=(HTML(value='Feature loop'), FloatProgress(value=0.0, max=21.0), HTML(value='')))"
      ]
     },
     "metadata": {},
     "output_type": "display_data"
    },
    {
     "data": {
      "application/vnd.jupyter.widget-view+json": {
       "model_id": "9a5a528be9ee4d1995b2f6219e3c5039",
       "version_major": 2,
       "version_minor": 0
      },
      "text/plain": [
       "HBox(children=(HTML(value='Feature loop'), FloatProgress(value=0.0, max=21.0), HTML(value='')))"
      ]
     },
     "metadata": {},
     "output_type": "display_data"
    },
    {
     "data": {
      "application/vnd.jupyter.widget-view+json": {
       "model_id": "b762ab14b577428f8e2c2cb4abc5d217",
       "version_major": 2,
       "version_minor": 0
      },
      "text/plain": [
       "HBox(children=(HTML(value='Feature loop'), FloatProgress(value=0.0, max=21.0), HTML(value='')))"
      ]
     },
     "metadata": {},
     "output_type": "display_data"
    },
    {
     "data": {
      "application/vnd.jupyter.widget-view+json": {
       "model_id": "62c2aa0b903f42218aa4e321a390f381",
       "version_major": 2,
       "version_minor": 0
      },
      "text/plain": [
       "HBox(children=(HTML(value='Feature loop'), FloatProgress(value=0.0, max=21.0), HTML(value='')))"
      ]
     },
     "metadata": {},
     "output_type": "display_data"
    },
    {
     "data": {
      "application/vnd.jupyter.widget-view+json": {
       "model_id": "5fb91584ec014ed380e46ee7f5e40391",
       "version_major": 2,
       "version_minor": 0
      },
      "text/plain": [
       "HBox(children=(HTML(value='Feature loop'), FloatProgress(value=0.0, max=21.0), HTML(value='')))"
      ]
     },
     "metadata": {},
     "output_type": "display_data"
    },
    {
     "data": {
      "application/vnd.jupyter.widget-view+json": {
       "model_id": "3dd56f45f1a446849433fd1afae2f2af",
       "version_major": 2,
       "version_minor": 0
      },
      "text/plain": [
       "HBox(children=(HTML(value='Feature loop'), FloatProgress(value=0.0, max=21.0), HTML(value='')))"
      ]
     },
     "metadata": {},
     "output_type": "display_data"
    },
    {
     "data": {
      "application/vnd.jupyter.widget-view+json": {
       "model_id": "9ea617daa8844fcd86eb9927f356adcf",
       "version_major": 2,
       "version_minor": 0
      },
      "text/plain": [
       "HBox(children=(HTML(value='Feature loop'), FloatProgress(value=0.0, max=21.0), HTML(value='')))"
      ]
     },
     "metadata": {},
     "output_type": "display_data"
    },
    {
     "data": {
      "application/vnd.jupyter.widget-view+json": {
       "model_id": "29f3c1e526f94f239b1d35953e7de130",
       "version_major": 2,
       "version_minor": 0
      },
      "text/plain": [
       "HBox(children=(HTML(value='Feature loop'), FloatProgress(value=0.0, max=21.0), HTML(value='')))"
      ]
     },
     "metadata": {},
     "output_type": "display_data"
    },
    {
     "data": {
      "application/vnd.jupyter.widget-view+json": {
       "model_id": "95be3148c73947cfa2f525d8e2fdc795",
       "version_major": 2,
       "version_minor": 0
      },
      "text/plain": [
       "HBox(children=(HTML(value='Feature loop'), FloatProgress(value=0.0, max=21.0), HTML(value='')))"
      ]
     },
     "metadata": {},
     "output_type": "display_data"
    },
    {
     "data": {
      "application/vnd.jupyter.widget-view+json": {
       "model_id": "a2ec17b0e1344ff3abc6222d7350a592",
       "version_major": 2,
       "version_minor": 0
      },
      "text/plain": [
       "HBox(children=(HTML(value='Feature loop'), FloatProgress(value=0.0, max=21.0), HTML(value='')))"
      ]
     },
     "metadata": {},
     "output_type": "display_data"
    },
    {
     "data": {
      "application/vnd.jupyter.widget-view+json": {
       "model_id": "7a76e6708ab84e3abf1443bde99699bc",
       "version_major": 2,
       "version_minor": 0
      },
      "text/plain": [
       "HBox(children=(HTML(value='Feature loop'), FloatProgress(value=0.0, max=21.0), HTML(value='')))"
      ]
     },
     "metadata": {},
     "output_type": "display_data"
    },
    {
     "data": {
      "application/vnd.jupyter.widget-view+json": {
       "model_id": "ff3ff016304a431bb8b55df0a1ed2dce",
       "version_major": 2,
       "version_minor": 0
      },
      "text/plain": [
       "HBox(children=(HTML(value='Feature loop'), FloatProgress(value=0.0, max=21.0), HTML(value='')))"
      ]
     },
     "metadata": {},
     "output_type": "display_data"
    },
    {
     "data": {
      "application/vnd.jupyter.widget-view+json": {
       "model_id": "c10f7ac18dac4755875ff58887e38ca9",
       "version_major": 2,
       "version_minor": 0
      },
      "text/plain": [
       "HBox(children=(HTML(value='Feature loop'), FloatProgress(value=0.0, max=21.0), HTML(value='')))"
      ]
     },
     "metadata": {},
     "output_type": "display_data"
    },
    {
     "data": {
      "application/vnd.jupyter.widget-view+json": {
       "model_id": "33f784a4f87245e9940c25b446c813bf",
       "version_major": 2,
       "version_minor": 0
      },
      "text/plain": [
       "HBox(children=(HTML(value='Feature loop'), FloatProgress(value=0.0, max=21.0), HTML(value='')))"
      ]
     },
     "metadata": {},
     "output_type": "display_data"
    },
    {
     "data": {
      "application/vnd.jupyter.widget-view+json": {
       "model_id": "d042ed402d0a4c1ab74f007b80ca00a8",
       "version_major": 2,
       "version_minor": 0
      },
      "text/plain": [
       "HBox(children=(HTML(value='Feature loop'), FloatProgress(value=0.0, max=21.0), HTML(value='')))"
      ]
     },
     "metadata": {},
     "output_type": "display_data"
    },
    {
     "data": {
      "application/vnd.jupyter.widget-view+json": {
       "model_id": "6f5d3f50dbba4e94b1e097bf929f819c",
       "version_major": 2,
       "version_minor": 0
      },
      "text/plain": [
       "HBox(children=(HTML(value='Feature loop'), FloatProgress(value=0.0, max=21.0), HTML(value='')))"
      ]
     },
     "metadata": {},
     "output_type": "display_data"
    },
    {
     "data": {
      "application/vnd.jupyter.widget-view+json": {
       "model_id": "90ec3fc618ed4d0caa1fd96b850cd37f",
       "version_major": 2,
       "version_minor": 0
      },
      "text/plain": [
       "HBox(children=(HTML(value='Feature loop'), FloatProgress(value=0.0, max=21.0), HTML(value='')))"
      ]
     },
     "metadata": {},
     "output_type": "display_data"
    },
    {
     "data": {
      "application/vnd.jupyter.widget-view+json": {
       "model_id": "caa4863644194f25a319e583c01f878d",
       "version_major": 2,
       "version_minor": 0
      },
      "text/plain": [
       "HBox(children=(HTML(value='Feature loop'), FloatProgress(value=0.0, max=21.0), HTML(value='')))"
      ]
     },
     "metadata": {},
     "output_type": "display_data"
    },
    {
     "data": {
      "application/vnd.jupyter.widget-view+json": {
       "model_id": "10b312ae3596458dba1be4367691acde",
       "version_major": 2,
       "version_minor": 0
      },
      "text/plain": [
       "HBox(children=(HTML(value='Feature loop'), FloatProgress(value=0.0, max=21.0), HTML(value='')))"
      ]
     },
     "metadata": {},
     "output_type": "display_data"
    },
    {
     "data": {
      "application/vnd.jupyter.widget-view+json": {
       "model_id": "08f44fe0306f4bd88774c871856f963d",
       "version_major": 2,
       "version_minor": 0
      },
      "text/plain": [
       "HBox(children=(HTML(value='Feature loop'), FloatProgress(value=0.0, max=21.0), HTML(value='')))"
      ]
     },
     "metadata": {},
     "output_type": "display_data"
    },
    {
     "data": {
      "application/vnd.jupyter.widget-view+json": {
       "model_id": "d03bad4baec2434798551e7d19dbef51",
       "version_major": 2,
       "version_minor": 0
      },
      "text/plain": [
       "HBox(children=(HTML(value='Feature loop'), FloatProgress(value=0.0, max=21.0), HTML(value='')))"
      ]
     },
     "metadata": {},
     "output_type": "display_data"
    },
    {
     "data": {
      "application/vnd.jupyter.widget-view+json": {
       "model_id": "f44adb888603435ba44e35a5a6862b7f",
       "version_major": 2,
       "version_minor": 0
      },
      "text/plain": [
       "HBox(children=(HTML(value='Feature loop'), FloatProgress(value=0.0, max=21.0), HTML(value='')))"
      ]
     },
     "metadata": {},
     "output_type": "display_data"
    },
    {
     "data": {
      "application/vnd.jupyter.widget-view+json": {
       "model_id": "aebfd3e77297482385aeaad276f16a2f",
       "version_major": 2,
       "version_minor": 0
      },
      "text/plain": [
       "HBox(children=(HTML(value='Feature loop'), FloatProgress(value=0.0, max=21.0), HTML(value='')))"
      ]
     },
     "metadata": {},
     "output_type": "display_data"
    },
    {
     "data": {
      "application/vnd.jupyter.widget-view+json": {
       "model_id": "3dfddc61c38b4e11bc9208ff98016b6f",
       "version_major": 2,
       "version_minor": 0
      },
      "text/plain": [
       "HBox(children=(HTML(value='Feature loop'), FloatProgress(value=0.0, max=21.0), HTML(value='')))"
      ]
     },
     "metadata": {},
     "output_type": "display_data"
    },
    {
     "data": {
      "application/vnd.jupyter.widget-view+json": {
       "model_id": "9aecf201ceef4f6d91e944d37327b9a3",
       "version_major": 2,
       "version_minor": 0
      },
      "text/plain": [
       "HBox(children=(HTML(value='Feature loop'), FloatProgress(value=0.0, max=21.0), HTML(value='')))"
      ]
     },
     "metadata": {},
     "output_type": "display_data"
    },
    {
     "data": {
      "application/vnd.jupyter.widget-view+json": {
       "model_id": "55ba8a98fcf642f4a69cb53182e53ddc",
       "version_major": 2,
       "version_minor": 0
      },
      "text/plain": [
       "HBox(children=(HTML(value='Feature loop'), FloatProgress(value=0.0, max=21.0), HTML(value='')))"
      ]
     },
     "metadata": {},
     "output_type": "display_data"
    },
    {
     "data": {
      "application/vnd.jupyter.widget-view+json": {
       "model_id": "61d635b7eb3842f5867c864a3009e5a8",
       "version_major": 2,
       "version_minor": 0
      },
      "text/plain": [
       "HBox(children=(HTML(value='Feature loop'), FloatProgress(value=0.0, max=21.0), HTML(value='')))"
      ]
     },
     "metadata": {},
     "output_type": "display_data"
    },
    {
     "data": {
      "application/vnd.jupyter.widget-view+json": {
       "model_id": "e0bd19234d7643fda3555f7e9a9d94f7",
       "version_major": 2,
       "version_minor": 0
      },
      "text/plain": [
       "HBox(children=(HTML(value='Feature loop'), FloatProgress(value=0.0, max=21.0), HTML(value='')))"
      ]
     },
     "metadata": {},
     "output_type": "display_data"
    },
    {
     "data": {
      "application/vnd.jupyter.widget-view+json": {
       "model_id": "9b2ac8ec17d24458b595970fa7fd87dd",
       "version_major": 2,
       "version_minor": 0
      },
      "text/plain": [
       "HBox(children=(HTML(value='Feature loop'), FloatProgress(value=0.0, max=21.0), HTML(value='')))"
      ]
     },
     "metadata": {},
     "output_type": "display_data"
    },
    {
     "data": {
      "application/vnd.jupyter.widget-view+json": {
       "model_id": "b9759bbb63b6458b91b28b93a11246f2",
       "version_major": 2,
       "version_minor": 0
      },
      "text/plain": [
       "HBox(children=(HTML(value='Feature loop'), FloatProgress(value=0.0, max=21.0), HTML(value='')))"
      ]
     },
     "metadata": {},
     "output_type": "display_data"
    },
    {
     "data": {
      "application/vnd.jupyter.widget-view+json": {
       "model_id": "368a4a185a1d4d31b58316b9a197bb77",
       "version_major": 2,
       "version_minor": 0
      },
      "text/plain": [
       "HBox(children=(HTML(value='Feature loop'), FloatProgress(value=0.0, max=21.0), HTML(value='')))"
      ]
     },
     "metadata": {},
     "output_type": "display_data"
    },
    {
     "data": {
      "application/vnd.jupyter.widget-view+json": {
       "model_id": "34c08e1fe2c446e18a5066d405bf6e83",
       "version_major": 2,
       "version_minor": 0
      },
      "text/plain": [
       "HBox(children=(HTML(value='Feature loop'), FloatProgress(value=0.0, max=21.0), HTML(value='')))"
      ]
     },
     "metadata": {},
     "output_type": "display_data"
    },
    {
     "data": {
      "application/vnd.jupyter.widget-view+json": {
       "model_id": "4372f14205ca4b25816f241ce5e894a7",
       "version_major": 2,
       "version_minor": 0
      },
      "text/plain": [
       "HBox(children=(HTML(value='Feature loop'), FloatProgress(value=0.0, max=21.0), HTML(value='')))"
      ]
     },
     "metadata": {},
     "output_type": "display_data"
    },
    {
     "data": {
      "application/vnd.jupyter.widget-view+json": {
       "model_id": "86d1217ba965454998bc5f7f43a8723f",
       "version_major": 2,
       "version_minor": 0
      },
      "text/plain": [
       "HBox(children=(HTML(value='Feature loop'), FloatProgress(value=0.0, max=21.0), HTML(value='')))"
      ]
     },
     "metadata": {},
     "output_type": "display_data"
    },
    {
     "data": {
      "application/vnd.jupyter.widget-view+json": {
       "model_id": "79aeade59a7b4b08bce427ab449c5f00",
       "version_major": 2,
       "version_minor": 0
      },
      "text/plain": [
       "HBox(children=(HTML(value='Feature loop'), FloatProgress(value=0.0, max=21.0), HTML(value='')))"
      ]
     },
     "metadata": {},
     "output_type": "display_data"
    },
    {
     "data": {
      "application/vnd.jupyter.widget-view+json": {
       "model_id": "64051323ce2f4fdba13fa8925f892a8a",
       "version_major": 2,
       "version_minor": 0
      },
      "text/plain": [
       "HBox(children=(HTML(value='Feature loop'), FloatProgress(value=0.0, max=21.0), HTML(value='')))"
      ]
     },
     "metadata": {},
     "output_type": "display_data"
    },
    {
     "data": {
      "application/vnd.jupyter.widget-view+json": {
       "model_id": "055a4ff770ff4cf59f0d006129f1f1fb",
       "version_major": 2,
       "version_minor": 0
      },
      "text/plain": [
       "HBox(children=(HTML(value='Feature loop'), FloatProgress(value=0.0, max=21.0), HTML(value='')))"
      ]
     },
     "metadata": {},
     "output_type": "display_data"
    },
    {
     "data": {
      "application/vnd.jupyter.widget-view+json": {
       "model_id": "285c6556621342c5a7cd27e7db805471",
       "version_major": 2,
       "version_minor": 0
      },
      "text/plain": [
       "HBox(children=(HTML(value='Feature loop'), FloatProgress(value=0.0, max=21.0), HTML(value='')))"
      ]
     },
     "metadata": {},
     "output_type": "display_data"
    },
    {
     "data": {
      "application/vnd.jupyter.widget-view+json": {
       "model_id": "b0b9df07db2a4fdab0982628d92825b7",
       "version_major": 2,
       "version_minor": 0
      },
      "text/plain": [
       "HBox(children=(HTML(value='Feature loop'), FloatProgress(value=0.0, max=21.0), HTML(value='')))"
      ]
     },
     "metadata": {},
     "output_type": "display_data"
    },
    {
     "data": {
      "application/vnd.jupyter.widget-view+json": {
       "model_id": "2342534d376c4bb38902fb279f2eff43",
       "version_major": 2,
       "version_minor": 0
      },
      "text/plain": [
       "HBox(children=(HTML(value='Feature loop'), FloatProgress(value=0.0, max=21.0), HTML(value='')))"
      ]
     },
     "metadata": {},
     "output_type": "display_data"
    },
    {
     "data": {
      "application/vnd.jupyter.widget-view+json": {
       "model_id": "0b094751e23443579c41db4291f3254c",
       "version_major": 2,
       "version_minor": 0
      },
      "text/plain": [
       "HBox(children=(HTML(value='Feature loop'), FloatProgress(value=0.0, max=21.0), HTML(value='')))"
      ]
     },
     "metadata": {},
     "output_type": "display_data"
    },
    {
     "data": {
      "application/vnd.jupyter.widget-view+json": {
       "model_id": "fc0b10e62c8c41129d9f5850481259b3",
       "version_major": 2,
       "version_minor": 0
      },
      "text/plain": [
       "HBox(children=(HTML(value='Feature loop'), FloatProgress(value=0.0, max=21.0), HTML(value='')))"
      ]
     },
     "metadata": {},
     "output_type": "display_data"
    },
    {
     "data": {
      "application/vnd.jupyter.widget-view+json": {
       "model_id": "299c36339c4e40d1a4d7b551c39fafae",
       "version_major": 2,
       "version_minor": 0
      },
      "text/plain": [
       "HBox(children=(HTML(value='Feature loop'), FloatProgress(value=0.0, max=21.0), HTML(value='')))"
      ]
     },
     "metadata": {},
     "output_type": "display_data"
    },
    {
     "data": {
      "application/vnd.jupyter.widget-view+json": {
       "model_id": "4874afd5dbd24b49951ecd3f5f333e50",
       "version_major": 2,
       "version_minor": 0
      },
      "text/plain": [
       "HBox(children=(HTML(value='Feature loop'), FloatProgress(value=0.0, max=21.0), HTML(value='')))"
      ]
     },
     "metadata": {},
     "output_type": "display_data"
    },
    {
     "data": {
      "application/vnd.jupyter.widget-view+json": {
       "model_id": "149671d12467438c99202fd2e126b74d",
       "version_major": 2,
       "version_minor": 0
      },
      "text/plain": [
       "HBox(children=(HTML(value='Feature loop'), FloatProgress(value=0.0, max=21.0), HTML(value='')))"
      ]
     },
     "metadata": {},
     "output_type": "display_data"
    },
    {
     "data": {
      "application/vnd.jupyter.widget-view+json": {
       "model_id": "41d463d287c446e2a45ed6e91cadc761",
       "version_major": 2,
       "version_minor": 0
      },
      "text/plain": [
       "HBox(children=(HTML(value='Feature loop'), FloatProgress(value=0.0, max=21.0), HTML(value='')))"
      ]
     },
     "metadata": {},
     "output_type": "display_data"
    }
   ],
   "source": [
    "features_df = compute_features_df(events, aied_features)"
   ]
  },
  {
   "cell_type": "code",
   "execution_count": 112,
   "metadata": {},
   "outputs": [
    {
     "data": {
      "text/html": [
       "<div>\n",
       "<style scoped>\n",
       "    .dataframe tbody tr th:only-of-type {\n",
       "        vertical-align: middle;\n",
       "    }\n",
       "\n",
       "    .dataframe tbody tr th {\n",
       "        vertical-align: top;\n",
       "    }\n",
       "\n",
       "    .dataframe thead th {\n",
       "        text-align: right;\n",
       "    }\n",
       "</style>\n",
       "<table border=\"1\" class=\"dataframe\">\n",
       "  <thead>\n",
       "    <tr style=\"text-align: right;\">\n",
       "      <th></th>\n",
       "      <th>AccountUserID</th>\n",
       "      <th>total_views</th>\n",
       "      <th>avg_weekly_prop_watched</th>\n",
       "      <th>std_weekly_prop_watched</th>\n",
       "      <th>avg_weekly_prop_replayed</th>\n",
       "      <th>std_weekly_prop_replayed</th>\n",
       "      <th>avg_weekly_prop_interrupted</th>\n",
       "      <th>std_weekly_prop_interrupted</th>\n",
       "      <th>total_actions</th>\n",
       "      <th>frequency_all_actions</th>\n",
       "      <th>...</th>\n",
       "      <th>freq_seek_backward</th>\n",
       "      <th>freq_seek_forward</th>\n",
       "      <th>freq_speed_change</th>\n",
       "      <th>freq_stop</th>\n",
       "      <th>avg_pause_duration</th>\n",
       "      <th>std_pause_duration</th>\n",
       "      <th>avg_seek_length</th>\n",
       "      <th>std_seek_length</th>\n",
       "      <th>avg_time_speeding_up</th>\n",
       "      <th>std_time_speeding_up</th>\n",
       "    </tr>\n",
       "  </thead>\n",
       "  <tbody>\n",
       "    <tr>\n",
       "      <th>0</th>\n",
       "      <td>95017</td>\n",
       "      <td>158</td>\n",
       "      <td>0.849976</td>\n",
       "      <td>0.171214</td>\n",
       "      <td>0.219494</td>\n",
       "      <td>0.294374</td>\n",
       "      <td>0.163091</td>\n",
       "      <td>0.231592</td>\n",
       "      <td>5312</td>\n",
       "      <td>4.578708</td>\n",
       "      <td>...</td>\n",
       "      <td>0.066642</td>\n",
       "      <td>0.063253</td>\n",
       "      <td>0.026355</td>\n",
       "      <td>0.020143</td>\n",
       "      <td>39.831468</td>\n",
       "      <td>71.550800</td>\n",
       "      <td>76.318266</td>\n",
       "      <td>160.562579</td>\n",
       "      <td>398.989059</td>\n",
       "      <td>453.446221</td>\n",
       "    </tr>\n",
       "    <tr>\n",
       "      <th>1</th>\n",
       "      <td>99055</td>\n",
       "      <td>133</td>\n",
       "      <td>0.335491</td>\n",
       "      <td>0.312886</td>\n",
       "      <td>0.202470</td>\n",
       "      <td>0.210832</td>\n",
       "      <td>0.112013</td>\n",
       "      <td>0.138063</td>\n",
       "      <td>8901</td>\n",
       "      <td>5.115166</td>\n",
       "      <td>...</td>\n",
       "      <td>0.032244</td>\n",
       "      <td>0.034266</td>\n",
       "      <td>0.018874</td>\n",
       "      <td>0.005168</td>\n",
       "      <td>19.589356</td>\n",
       "      <td>53.933786</td>\n",
       "      <td>80.550911</td>\n",
       "      <td>187.876661</td>\n",
       "      <td>909.970808</td>\n",
       "      <td>809.211040</td>\n",
       "    </tr>\n",
       "    <tr>\n",
       "      <th>2</th>\n",
       "      <td>47274</td>\n",
       "      <td>271</td>\n",
       "      <td>0.359114</td>\n",
       "      <td>0.315056</td>\n",
       "      <td>0.529855</td>\n",
       "      <td>0.331175</td>\n",
       "      <td>0.142456</td>\n",
       "      <td>0.131952</td>\n",
       "      <td>8589</td>\n",
       "      <td>4.731550</td>\n",
       "      <td>...</td>\n",
       "      <td>0.088602</td>\n",
       "      <td>0.090465</td>\n",
       "      <td>0.011759</td>\n",
       "      <td>0.012807</td>\n",
       "      <td>71.462028</td>\n",
       "      <td>94.137362</td>\n",
       "      <td>43.633599</td>\n",
       "      <td>96.109135</td>\n",
       "      <td>1368.563139</td>\n",
       "      <td>878.900976</td>\n",
       "    </tr>\n",
       "  </tbody>\n",
       "</table>\n",
       "<p>3 rows × 22 columns</p>\n",
       "</div>"
      ],
      "text/plain": [
       "  AccountUserID  total_views  avg_weekly_prop_watched  \\\n",
       "0         95017          158                 0.849976   \n",
       "1         99055          133                 0.335491   \n",
       "2         47274          271                 0.359114   \n",
       "\n",
       "   std_weekly_prop_watched  avg_weekly_prop_replayed  \\\n",
       "0                 0.171214                  0.219494   \n",
       "1                 0.312886                  0.202470   \n",
       "2                 0.315056                  0.529855   \n",
       "\n",
       "   std_weekly_prop_replayed  avg_weekly_prop_interrupted  \\\n",
       "0                  0.294374                     0.163091   \n",
       "1                  0.210832                     0.112013   \n",
       "2                  0.331175                     0.142456   \n",
       "\n",
       "   std_weekly_prop_interrupted  total_actions  frequency_all_actions  ...  \\\n",
       "0                     0.231592           5312               4.578708  ...   \n",
       "1                     0.138063           8901               5.115166  ...   \n",
       "2                     0.131952           8589               4.731550  ...   \n",
       "\n",
       "   freq_seek_backward  freq_seek_forward  freq_speed_change  freq_stop  \\\n",
       "0            0.066642           0.063253           0.026355   0.020143   \n",
       "1            0.032244           0.034266           0.018874   0.005168   \n",
       "2            0.088602           0.090465           0.011759   0.012807   \n",
       "\n",
       "   avg_pause_duration  std_pause_duration  avg_seek_length  std_seek_length  \\\n",
       "0           39.831468           71.550800        76.318266       160.562579   \n",
       "1           19.589356           53.933786        80.550911       187.876661   \n",
       "2           71.462028           94.137362        43.633599        96.109135   \n",
       "\n",
       "   avg_time_speeding_up  std_time_speeding_up  \n",
       "0            398.989059            453.446221  \n",
       "1            909.970808            809.211040  \n",
       "2           1368.563139            878.900976  \n",
       "\n",
       "[3 rows x 22 columns]"
      ]
     },
     "execution_count": 112,
     "metadata": {},
     "output_type": "execute_result"
    }
   ],
   "source": [
    "features_df.head()"
   ]
  },
  {
   "cell_type": "code",
   "execution_count": 148,
   "metadata": {},
   "outputs": [
    {
     "data": {
      "text/html": [
       "<div>\n",
       "<style scoped>\n",
       "    .dataframe tbody tr th:only-of-type {\n",
       "        vertical-align: middle;\n",
       "    }\n",
       "\n",
       "    .dataframe tbody tr th {\n",
       "        vertical-align: top;\n",
       "    }\n",
       "\n",
       "    .dataframe thead th {\n",
       "        text-align: right;\n",
       "    }\n",
       "</style>\n",
       "<table border=\"1\" class=\"dataframe\">\n",
       "  <thead>\n",
       "    <tr style=\"text-align: right;\">\n",
       "      <th></th>\n",
       "      <th>AccountUserID</th>\n",
       "      <th>total_views</th>\n",
       "      <th>avg_weekly_prop_watched</th>\n",
       "      <th>std_weekly_prop_watched</th>\n",
       "      <th>avg_weekly_prop_replayed</th>\n",
       "      <th>std_weekly_prop_replayed</th>\n",
       "      <th>avg_weekly_prop_interrupted</th>\n",
       "      <th>std_weekly_prop_interrupted</th>\n",
       "      <th>total_actions</th>\n",
       "      <th>frequency_all_actions</th>\n",
       "      <th>...</th>\n",
       "      <th>freq_seek_forward</th>\n",
       "      <th>freq_speed_change</th>\n",
       "      <th>freq_stop</th>\n",
       "      <th>avg_pause_duration</th>\n",
       "      <th>std_pause_duration</th>\n",
       "      <th>avg_seek_length</th>\n",
       "      <th>std_seek_length</th>\n",
       "      <th>avg_time_speeding_up</th>\n",
       "      <th>std_time_speeding_up</th>\n",
       "      <th>Grade</th>\n",
       "    </tr>\n",
       "  </thead>\n",
       "  <tbody>\n",
       "    <tr>\n",
       "      <th>0</th>\n",
       "      <td>95017</td>\n",
       "      <td>158</td>\n",
       "      <td>0.849976</td>\n",
       "      <td>0.171214</td>\n",
       "      <td>0.219494</td>\n",
       "      <td>0.294374</td>\n",
       "      <td>0.163091</td>\n",
       "      <td>0.231592</td>\n",
       "      <td>5312</td>\n",
       "      <td>4.578708</td>\n",
       "      <td>...</td>\n",
       "      <td>0.063253</td>\n",
       "      <td>0.026355</td>\n",
       "      <td>0.020143</td>\n",
       "      <td>39.831468</td>\n",
       "      <td>71.550800</td>\n",
       "      <td>76.318266</td>\n",
       "      <td>160.562579</td>\n",
       "      <td>398.989059</td>\n",
       "      <td>453.446221</td>\n",
       "      <td>5.25</td>\n",
       "    </tr>\n",
       "    <tr>\n",
       "      <th>1</th>\n",
       "      <td>99055</td>\n",
       "      <td>133</td>\n",
       "      <td>0.335491</td>\n",
       "      <td>0.312886</td>\n",
       "      <td>0.202470</td>\n",
       "      <td>0.210832</td>\n",
       "      <td>0.112013</td>\n",
       "      <td>0.138063</td>\n",
       "      <td>8901</td>\n",
       "      <td>5.115166</td>\n",
       "      <td>...</td>\n",
       "      <td>0.034266</td>\n",
       "      <td>0.018874</td>\n",
       "      <td>0.005168</td>\n",
       "      <td>19.589356</td>\n",
       "      <td>53.933786</td>\n",
       "      <td>80.550911</td>\n",
       "      <td>187.876661</td>\n",
       "      <td>909.970808</td>\n",
       "      <td>809.211040</td>\n",
       "      <td>2.00</td>\n",
       "    </tr>\n",
       "    <tr>\n",
       "      <th>2</th>\n",
       "      <td>47274</td>\n",
       "      <td>271</td>\n",
       "      <td>0.359114</td>\n",
       "      <td>0.315056</td>\n",
       "      <td>0.529855</td>\n",
       "      <td>0.331175</td>\n",
       "      <td>0.142456</td>\n",
       "      <td>0.131952</td>\n",
       "      <td>8589</td>\n",
       "      <td>4.731550</td>\n",
       "      <td>...</td>\n",
       "      <td>0.090465</td>\n",
       "      <td>0.011759</td>\n",
       "      <td>0.012807</td>\n",
       "      <td>71.462028</td>\n",
       "      <td>94.137362</td>\n",
       "      <td>43.633599</td>\n",
       "      <td>96.109135</td>\n",
       "      <td>1368.563139</td>\n",
       "      <td>878.900976</td>\n",
       "      <td>3.50</td>\n",
       "    </tr>\n",
       "  </tbody>\n",
       "</table>\n",
       "<p>3 rows × 23 columns</p>\n",
       "</div>"
      ],
      "text/plain": [
       "  AccountUserID  total_views  avg_weekly_prop_watched  \\\n",
       "0         95017          158                 0.849976   \n",
       "1         99055          133                 0.335491   \n",
       "2         47274          271                 0.359114   \n",
       "\n",
       "   std_weekly_prop_watched  avg_weekly_prop_replayed  \\\n",
       "0                 0.171214                  0.219494   \n",
       "1                 0.312886                  0.202470   \n",
       "2                 0.315056                  0.529855   \n",
       "\n",
       "   std_weekly_prop_replayed  avg_weekly_prop_interrupted  \\\n",
       "0                  0.294374                     0.163091   \n",
       "1                  0.210832                     0.112013   \n",
       "2                  0.331175                     0.142456   \n",
       "\n",
       "   std_weekly_prop_interrupted  total_actions  frequency_all_actions  ...  \\\n",
       "0                     0.231592           5312               4.578708  ...   \n",
       "1                     0.138063           8901               5.115166  ...   \n",
       "2                     0.131952           8589               4.731550  ...   \n",
       "\n",
       "   freq_seek_forward  freq_speed_change  freq_stop  avg_pause_duration  \\\n",
       "0           0.063253           0.026355   0.020143           39.831468   \n",
       "1           0.034266           0.018874   0.005168           19.589356   \n",
       "2           0.090465           0.011759   0.012807           71.462028   \n",
       "\n",
       "   std_pause_duration  avg_seek_length  std_seek_length  avg_time_speeding_up  \\\n",
       "0           71.550800        76.318266       160.562579            398.989059   \n",
       "1           53.933786        80.550911       187.876661            909.970808   \n",
       "2           94.137362        43.633599        96.109135           1368.563139   \n",
       "\n",
       "   std_time_speeding_up  Grade  \n",
       "0            453.446221   5.25  \n",
       "1            809.211040   2.00  \n",
       "2            878.900976   3.50  \n",
       "\n",
       "[3 rows x 23 columns]"
      ]
     },
     "execution_count": 148,
     "metadata": {},
     "output_type": "execute_result"
    }
   ],
   "source": [
    "grades = getFlippedGrades(False)[['AccountUserID', 'Grade']]\n",
    "graded_features = features_df.merge(grades)\n",
    "graded_features"
   ]
  },
  {
   "cell_type": "code",
   "execution_count": 159,
   "metadata": {},
   "outputs": [
    {
     "name": "stdout",
     "output_type": "stream",
     "text": [
      "total_views                    0.1261\n",
      "avg_weekly_prop_watched        0.9054\n",
      "std_weekly_prop_watched        -0.8812\n",
      "avg_weekly_prop_replayed       0.0018\n",
      "std_weekly_prop_replayed       0.6441\n",
      "avg_weekly_prop_interrupted    0.9880\n",
      "std_weekly_prop_interrupted    0.8608\n",
      "total_actions                  -0.9208\n",
      "frequency_all_actions          -0.9589\n",
      "freq_play                      -0.7756\n",
      "freq_pause                     -0.7183\n",
      "freq_seek_backward             0.5695\n",
      "freq_seek_forward              0.4772\n",
      "freq_speed_change              0.5501\n",
      "freq_stop                      0.9984\n",
      "avg_pause_duration             0.3458\n",
      "std_pause_duration             0.3967\n",
      "avg_seek_length                -0.0605\n",
      "std_seek_length                -0.2471\n",
      "avg_time_speeding_up           -0.5640\n",
      "std_time_speeding_up           -0.8065\n"
     ]
    }
   ],
   "source": [
    "def compute_corr(df):\n",
    "    feature_cols = list(df.columns)\n",
    "    feature_cols.remove('AccountUserID')\n",
    "    feature_cols.remove('Grade')\n",
    "\n",
    "    correlations = []\n",
    "    for col in feature_cols:\n",
    "        nor_corr = np.corrcoef(df[col], df[\"Grade\"])[0][1]\n",
    "        correlations.append(nor_corr)\n",
    "        print(\"{:30s} {:.4f}\".format(col, nor_corr))\n",
    "    return correlations\n",
    "compute_corr(graded_features);"
   ]
  },
  {
   "cell_type": "code",
   "execution_count": null,
   "metadata": {},
   "outputs": [],
   "source": []
  }
 ],
 "metadata": {
  "kernelspec": {
   "display_name": "Python 3",
   "language": "python",
   "name": "python3"
  },
  "language_info": {
   "codemirror_mode": {
    "name": "ipython",
    "version": 3
   },
   "file_extension": ".py",
   "mimetype": "text/x-python",
   "name": "python",
   "nbconvert_exporter": "python",
   "pygments_lexer": "ipython3",
   "version": "3.6.8"
  },
  "toc": {
   "base_numbering": 1,
   "nav_menu": {},
   "number_sections": true,
   "sideBar": true,
   "skip_h1_title": false,
   "title_cell": "Table of Contents",
   "title_sidebar": "Contents",
   "toc_cell": false,
   "toc_position": {
    "height": "calc(100% - 180px)",
    "left": "10px",
    "top": "150px",
    "width": "512px"
   },
   "toc_section_display": true,
   "toc_window_display": true
  }
 },
 "nbformat": 4,
 "nbformat_minor": 4
}
