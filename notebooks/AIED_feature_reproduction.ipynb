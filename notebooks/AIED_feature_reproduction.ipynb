{
 "cells": [
  {
   "cell_type": "code",
   "execution_count": 71,
   "metadata": {
    "ExecuteTime": {
     "end_time": "2020-11-06T16:54:22.054265Z",
     "start_time": "2020-11-06T16:54:22.011238Z"
    }
   },
   "outputs": [],
   "source": [
    "import numpy as np\n",
    "import pandas as pd\n",
    "import matplotlib.pyplot as plt\n",
    "import seaborn as sns\n",
    "sns.set_style(\"darkgrid\")\n",
    "from datetime import datetime, timedelta, date\n",
    "import time\n",
    "import os\n",
    "import sys\n",
    "import json\n",
    "sys.path.append(os.path.abspath(os.path.join('..')))"
   ]
  },
  {
   "cell_type": "code",
   "execution_count": 4,
   "metadata": {
    "ExecuteTime": {
     "end_time": "2020-11-06T14:52:22.157878Z",
     "start_time": "2020-11-06T14:52:21.278345Z"
    }
   },
   "outputs": [
    {
     "name": "stdout",
     "output_type": "stream",
     "text": [
      "The autoreload extension is already loaded. To reload it, use:\n",
      "  %reload_ext autoreload\n"
     ]
    }
   ],
   "source": [
    "%load_ext autoreload\n",
    "%autoreload 2\n",
    "\n",
    "from helpers.db_query import *"
   ]
  },
  {
   "cell_type": "markdown",
   "metadata": {},
   "source": [
    "# Weekly video count"
   ]
  },
  {
   "cell_type": "code",
   "execution_count": 63,
   "metadata": {
    "ExecuteTime": {
     "end_time": "2020-11-06T16:45:21.988333Z",
     "start_time": "2020-11-06T16:45:21.793150Z"
    }
   },
   "outputs": [],
   "source": [
    "video_dates = pd.read_csv('../data/lin_alg_moodle/videos.csv', index_col=0)\n",
    "video_dates['Due_date'] = pd.to_datetime(video_dates.Due_date)"
   ]
  },
  {
   "cell_type": "code",
   "execution_count": 64,
   "metadata": {
    "ExecuteTime": {
     "end_time": "2020-11-06T16:45:22.517417Z",
     "start_time": "2020-11-06T16:45:22.472543Z"
    }
   },
   "outputs": [],
   "source": [
    "def select_by_year(video_dates, year):\n",
    "    return video_dates.loc[video_dates.Due_date.dt.year == year]\n",
    "\n",
    "video_dates_2017, video_dates_2018, video_dates_2019 = [select_by_year(video_dates, year) for year in [2017,2018, 2019]]"
   ]
  },
  {
   "cell_type": "code",
   "execution_count": 76,
   "metadata": {
    "ExecuteTime": {
     "end_time": "2020-11-06T17:01:15.886335Z",
     "start_time": "2020-11-06T17:01:15.792251Z"
    },
    "scrolled": false
   },
   "outputs": [
    {
     "name": "stdout",
     "output_type": "stream",
     "text": [
      "2017 [ 6  9  6 12  7]\n",
      "2018 [ 7 10 10  6 13  7  8  7  9  6]\n",
      "2019 [ 5  4  8  7  7 10 11 13  7  8  6  9  6]\n"
     ]
    }
   ],
   "source": [
    "def weekly_count(video_dates):\n",
    "    return video_dates.groupby(pd.Grouper(key='Due_date',freq='W-THU')).size().values\n",
    "\n",
    "count_2017, count_2018, count_2019 = [weekly_count(dates) for dates in [video_dates_2017, video_dates_2018,video_dates_2019]]\n",
    "print(\"2017\", count_2017)\n",
    "print(\"2018\", count_2018)\n",
    "print(\"2019\", count_2019)"
   ]
  },
  {
   "cell_type": "markdown",
   "metadata": {},
   "source": [
    "# Features"
   ]
  },
  {
   "cell_type": "code",
   "execution_count": 5,
   "metadata": {
    "ExecuteTime": {
     "end_time": "2020-11-06T14:53:37.587093Z",
     "start_time": "2020-11-06T14:53:07.538129Z"
    }
   },
   "outputs": [],
   "source": [
    "events = getVideoEvents(mode='all')"
   ]
  },
  {
   "cell_type": "code",
   "execution_count": 150,
   "metadata": {
    "ExecuteTime": {
     "end_time": "2020-11-06T17:44:46.701421Z",
     "start_time": "2020-11-06T17:44:46.596318Z"
    }
   },
   "outputs": [
    {
     "data": {
      "text/html": [
       "<div>\n",
       "<style scoped>\n",
       "    .dataframe tbody tr th:only-of-type {\n",
       "        vertical-align: middle;\n",
       "    }\n",
       "\n",
       "    .dataframe tbody tr th {\n",
       "        vertical-align: top;\n",
       "    }\n",
       "\n",
       "    .dataframe thead th {\n",
       "        text-align: right;\n",
       "    }\n",
       "</style>\n",
       "<table border=\"1\" class=\"dataframe\">\n",
       "  <thead>\n",
       "    <tr style=\"text-align: right;\">\n",
       "      <th></th>\n",
       "      <th>DataPackageID</th>\n",
       "      <th>AccountUserID</th>\n",
       "      <th>VideoID</th>\n",
       "      <th>TimeStamp</th>\n",
       "      <th>EventType</th>\n",
       "      <th>SeekType</th>\n",
       "      <th>OldTime</th>\n",
       "      <th>CurrentTime</th>\n",
       "      <th>NewTime</th>\n",
       "      <th>OldSpeed</th>\n",
       "      <th>NewSpeed</th>\n",
       "      <th>Date</th>\n",
       "      <th>Year</th>\n",
       "    </tr>\n",
       "  </thead>\n",
       "  <tbody>\n",
       "    <tr>\n",
       "      <th>133248</th>\n",
       "      <td>EPFL-AlgebreLineaire-2019</td>\n",
       "      <td>94660</td>\n",
       "      <td>7201a7b5bf5c451786a44481cba36cfd</td>\n",
       "      <td>1569706274</td>\n",
       "      <td>Video.Pause</td>\n",
       "      <td>None</td>\n",
       "      <td>NaN</td>\n",
       "      <td>436.475</td>\n",
       "      <td>NaN</td>\n",
       "      <td>NaN</td>\n",
       "      <td>NaN</td>\n",
       "      <td>2019-09-28 21:31:14</td>\n",
       "      <td>2019</td>\n",
       "    </tr>\n",
       "  </tbody>\n",
       "</table>\n",
       "</div>"
      ],
      "text/plain": [
       "                    DataPackageID AccountUserID  \\\n",
       "133248  EPFL-AlgebreLineaire-2019         94660   \n",
       "\n",
       "                                 VideoID   TimeStamp    EventType SeekType  \\\n",
       "133248  7201a7b5bf5c451786a44481cba36cfd  1569706274  Video.Pause     None   \n",
       "\n",
       "        OldTime  CurrentTime  NewTime  OldSpeed  NewSpeed                Date  \\\n",
       "133248      NaN      436.475      NaN       NaN       NaN 2019-09-28 21:31:14   \n",
       "\n",
       "        Year  \n",
       "133248  2019  "
      ]
     },
     "execution_count": 150,
     "metadata": {},
     "output_type": "execute_result"
    }
   ],
   "source": [
    "events.sample()"
   ]
  },
  {
   "cell_type": "code",
   "execution_count": 151,
   "metadata": {
    "ExecuteTime": {
     "end_time": "2020-11-06T17:44:50.873186Z",
     "start_time": "2020-11-06T17:44:50.659342Z"
    }
   },
   "outputs": [],
   "source": [
    "user_events = events.loc[events.AccountUserID == '94660']"
   ]
  },
  {
   "cell_type": "code",
   "execution_count": 28,
   "metadata": {
    "ExecuteTime": {
     "end_time": "2020-11-06T15:05:48.002336Z",
     "start_time": "2020-11-06T15:05:47.841434Z"
    }
   },
   "outputs": [],
   "source": [
    "def total_views(df):\n",
    "    \"\"\" \n",
    "    Counts the total of videos views (rewatch included)\n",
    "    Assumption: consider that a video is watched at most once per day\n",
    "    \"\"\"\n",
    "    copy = df.copy()\n",
    "    copy['Day'] = df.Date.dt.date\n",
    "    #From the assumption the video view is a unique pair (video id, day)\n",
    "    return len(copy.drop_duplicates(subset=['VideoID','Day'])) "
   ]
  },
  {
   "cell_type": "code",
   "execution_count": 152,
   "metadata": {
    "ExecuteTime": {
     "end_time": "2020-11-06T17:44:52.289020Z",
     "start_time": "2020-11-06T17:44:52.235428Z"
    },
    "scrolled": true
   },
   "outputs": [
    {
     "data": {
      "text/plain": [
       "133"
      ]
     },
     "execution_count": 152,
     "metadata": {},
     "output_type": "execute_result"
    }
   ],
   "source": [
    "total_views(user_events)"
   ]
  },
  {
   "cell_type": "code",
   "execution_count": 164,
   "metadata": {
    "ExecuteTime": {
     "end_time": "2020-11-06T17:50:37.289920Z",
     "start_time": "2020-11-06T17:50:37.174982Z"
    }
   },
   "outputs": [],
   "source": [
    "def week_video_total(year):\n",
    "    \"\"\"\n",
    "    Returns a Series with week numbers as index and the number of videos to watch per week\n",
    "    \"\"\"\n",
    "    with open('../config/linear_algebra.json') as f:\n",
    "        config = json.load(f)\n",
    "    year = str(year)\n",
    "    weekly_count = config[year][\"WeeklyVideoCount\"]\n",
    "    flipped_weeks = len(config[year][\"FlippedWeeks\"])\n",
    "    start_week = int(datetime.strptime(config[year][\"StartFlipped\"], '%Y-%m-%d').strftime(\"%V\")) #Get the 1st week number\n",
    "    weeks = list(range(start_week, start_week + flipped_weeks))\n",
    "    return pd.DataFrame(index=weeks, data=weekly_count, columns=[\"Total\"])\n",
    "\n",
    "def weekly_prop_watched(df):\n",
    "    \"\"\"\n",
    "    Compute the proportion of videos watched (nb of videos watched / nb of videos assigned)\n",
    "    Problem: we are counting videos that are assigned on other weeks. That makes proportion \n",
    "    greater than 1 possible so we have to clip. Therefore if the student watches with delay or\n",
    "    advance some information may be lost. \n",
    "    \"\"\"\n",
    "    first_views = user_events.drop_duplicates(subset=[\"VideoID\"]) #Only keep the first views per video\n",
    "    #Freq Weekly starting on Thursday since the last due date is on Thursday\n",
    "    weekly_count = first_views.groupby(pd.Grouper(key=\"Date\", freq=\"W-THU\")).size().to_frame(name=\"Count\")\n",
    "    #Convert dates to week number\n",
    "    weekly_count.index = [int(week) for week in weekly_count.index.strftime(\"%V\")]\n",
    "    weekly_total = week_video_total(user_events.Year.iloc[0])\n",
    "    \n",
    "    week_prop = weekly_total.merge(weekly_count, left_index=True, right_index=True)\n",
    "    return np.clip((week_prop.Count / week_prop.Total).values,0,1)\n",
    "\n",
    "def avg_weekly_prop_watched(df):\n",
    "    return weekly_prop_watched(df).mean()\n",
    "\n",
    "def std_weekly_prop_watched(df):\n",
    "    return weekly_prop_watched(df).std()"
   ]
  },
  {
   "cell_type": "code",
   "execution_count": 166,
   "metadata": {
    "ExecuteTime": {
     "end_time": "2020-11-06T17:50:41.522689Z",
     "start_time": "2020-11-06T17:50:41.367312Z"
    }
   },
   "outputs": [
    {
     "data": {
      "text/plain": [
       "0.3642773230544097"
      ]
     },
     "execution_count": 166,
     "metadata": {},
     "output_type": "execute_result"
    }
   ],
   "source": [
    "std_weekly_prop_watched(user_events)"
   ]
  },
  {
   "cell_type": "code",
   "execution_count": null,
   "metadata": {},
   "outputs": [],
   "source": []
  }
 ],
 "metadata": {
  "kernelspec": {
   "display_name": "Python 3",
   "language": "python",
   "name": "python3"
  },
  "language_info": {
   "codemirror_mode": {
    "name": "ipython",
    "version": 3
   },
   "file_extension": ".py",
   "mimetype": "text/x-python",
   "name": "python",
   "nbconvert_exporter": "python",
   "pygments_lexer": "ipython3",
   "version": "3.7.1"
  },
  "toc": {
   "base_numbering": 1,
   "nav_menu": {},
   "number_sections": true,
   "sideBar": true,
   "skip_h1_title": false,
   "title_cell": "Table of Contents",
   "title_sidebar": "Contents",
   "toc_cell": false,
   "toc_position": {},
   "toc_section_display": true,
   "toc_window_display": false
  }
 },
 "nbformat": 4,
 "nbformat_minor": 4
}
