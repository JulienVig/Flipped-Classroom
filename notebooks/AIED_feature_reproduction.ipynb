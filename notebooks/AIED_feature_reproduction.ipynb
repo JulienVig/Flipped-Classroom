{
 "cells": [
  {
   "cell_type": "code",
   "execution_count": 1,
   "metadata": {
    "ExecuteTime": {
     "end_time": "2020-11-13T17:22:17.112773Z",
     "start_time": "2020-11-13T17:22:15.528679Z"
    }
   },
   "outputs": [
    {
     "name": "stderr",
     "output_type": "stream",
     "text": [
      "/Applications/anaconda3/lib/python3.7/site-packages/statsmodels/tools/_testing.py:19: FutureWarning: pandas.util.testing is deprecated. Use the functions in the public API at pandas.testing instead.\n",
      "  import pandas.util.testing as tm\n"
     ]
    }
   ],
   "source": [
    "import numpy as np\n",
    "import pandas as pd\n",
    "import matplotlib.pyplot as plt\n",
    "import seaborn as sns\n",
    "sns.set_style(\"darkgrid\")\n",
    "from datetime import datetime, timedelta, date\n",
    "import time\n",
    "import os\n",
    "import sys\n",
    "import json\n",
    "sys.path.append(os.path.abspath(os.path.join('..')))"
   ]
  },
  {
   "cell_type": "code",
   "execution_count": 32,
   "metadata": {
    "ExecuteTime": {
     "end_time": "2020-11-13T17:40:25.366725Z",
     "start_time": "2020-11-13T17:40:25.115775Z"
    }
   },
   "outputs": [
    {
     "name": "stdout",
     "output_type": "stream",
     "text": [
      "The autoreload extension is already loaded. To reload it, use:\n",
      "  %reload_ext autoreload\n"
     ]
    }
   ],
   "source": [
    "%load_ext autoreload\n",
    "%autoreload 2\n",
    "\n",
    "from helpers.db_query import *"
   ]
  },
  {
   "cell_type": "markdown",
   "metadata": {},
   "source": [
    "# Weekly video count"
   ]
  },
  {
   "cell_type": "code",
   "execution_count": 3,
   "metadata": {
    "ExecuteTime": {
     "end_time": "2020-11-13T17:22:21.855837Z",
     "start_time": "2020-11-13T17:22:20.958456Z"
    }
   },
   "outputs": [],
   "source": [
    "video_dates = pd.read_csv('../data/lin_alg_moodle/videos.csv', index_col=0)\n",
    "video_dates['Due_date'] = pd.to_datetime(video_dates.Due_date)"
   ]
  },
  {
   "cell_type": "code",
   "execution_count": 4,
   "metadata": {
    "ExecuteTime": {
     "end_time": "2020-11-13T17:22:22.408595Z",
     "start_time": "2020-11-13T17:22:21.859195Z"
    }
   },
   "outputs": [],
   "source": [
    "def select_by_year(video_dates, year):\n",
    "    return video_dates.loc[video_dates.Due_date.dt.year == year]\n",
    "\n",
    "video_dates_2017, video_dates_2018, video_dates_2019 = [select_by_year(video_dates, year) for year in [2017,2018, 2019]]"
   ]
  },
  {
   "cell_type": "code",
   "execution_count": 5,
   "metadata": {
    "ExecuteTime": {
     "end_time": "2020-11-13T17:22:22.585803Z",
     "start_time": "2020-11-13T17:22:22.414473Z"
    },
    "scrolled": false
   },
   "outputs": [
    {
     "name": "stdout",
     "output_type": "stream",
     "text": [
      "2017 [ 6  9  6 12  7]\n",
      "2018 [ 7 10 10  6 13  7  8  7  9  6]\n",
      "2019 [ 5  4  8  7  7 10 11 13  7  8  6  9  6]\n"
     ]
    }
   ],
   "source": [
    "def weekly_count(video_dates):\n",
    "    return video_dates.groupby(pd.Grouper(key='Due_date',freq='W-THU')).size().values\n",
    "\n",
    "count_2017, count_2018, count_2019 = [weekly_count(dates) for dates in [video_dates_2017, video_dates_2018,video_dates_2019]]\n",
    "print(\"2017\", count_2017)\n",
    "print(\"2018\", count_2018)\n",
    "print(\"2019\", count_2019)"
   ]
  },
  {
   "cell_type": "markdown",
   "metadata": {},
   "source": [
    "# Features\n",
    "## Video views"
   ]
  },
  {
   "cell_type": "code",
   "execution_count": 6,
   "metadata": {
    "ExecuteTime": {
     "end_time": "2020-11-13T17:28:13.326078Z",
     "start_time": "2020-11-13T17:22:22.602147Z"
    }
   },
   "outputs": [],
   "source": [
    "events = getVideoEvents(mode='all')"
   ]
  },
  {
   "cell_type": "code",
   "execution_count": 7,
   "metadata": {
    "ExecuteTime": {
     "end_time": "2020-11-13T17:28:14.616056Z",
     "start_time": "2020-11-13T17:28:13.333490Z"
    },
    "scrolled": true
   },
   "outputs": [
    {
     "data": {
      "text/html": [
       "<div>\n",
       "<style scoped>\n",
       "    .dataframe tbody tr th:only-of-type {\n",
       "        vertical-align: middle;\n",
       "    }\n",
       "\n",
       "    .dataframe tbody tr th {\n",
       "        vertical-align: top;\n",
       "    }\n",
       "\n",
       "    .dataframe thead th {\n",
       "        text-align: right;\n",
       "    }\n",
       "</style>\n",
       "<table border=\"1\" class=\"dataframe\">\n",
       "  <thead>\n",
       "    <tr style=\"text-align: right;\">\n",
       "      <th></th>\n",
       "      <th>DataPackageID</th>\n",
       "      <th>AccountUserID</th>\n",
       "      <th>VideoID</th>\n",
       "      <th>TimeStamp</th>\n",
       "      <th>EventType</th>\n",
       "      <th>SeekType</th>\n",
       "      <th>OldTime</th>\n",
       "      <th>CurrentTime</th>\n",
       "      <th>NewTime</th>\n",
       "      <th>OldSpeed</th>\n",
       "      <th>NewSpeed</th>\n",
       "      <th>Date</th>\n",
       "      <th>Year</th>\n",
       "    </tr>\n",
       "  </thead>\n",
       "  <tbody>\n",
       "    <tr>\n",
       "      <th>404641</th>\n",
       "      <td>EPFL-AlgebreLineaire-2019</td>\n",
       "      <td>95491</td>\n",
       "      <td>2578fb61055d4ddbba9cc09ab8d5f260</td>\n",
       "      <td>1570096583</td>\n",
       "      <td>Video.Pause</td>\n",
       "      <td>None</td>\n",
       "      <td>NaN</td>\n",
       "      <td>142.275</td>\n",
       "      <td>NaN</td>\n",
       "      <td>NaN</td>\n",
       "      <td>NaN</td>\n",
       "      <td>2019-10-03 09:56:23</td>\n",
       "      <td>2019</td>\n",
       "    </tr>\n",
       "  </tbody>\n",
       "</table>\n",
       "</div>"
      ],
      "text/plain": [
       "                    DataPackageID AccountUserID  \\\n",
       "404641  EPFL-AlgebreLineaire-2019         95491   \n",
       "\n",
       "                                 VideoID   TimeStamp    EventType SeekType  \\\n",
       "404641  2578fb61055d4ddbba9cc09ab8d5f260  1570096583  Video.Pause     None   \n",
       "\n",
       "        OldTime  CurrentTime  NewTime  OldSpeed  NewSpeed                Date  \\\n",
       "404641      NaN      142.275      NaN       NaN       NaN 2019-10-03 09:56:23   \n",
       "\n",
       "        Year  \n",
       "404641  2019  "
      ]
     },
     "execution_count": 7,
     "metadata": {},
     "output_type": "execute_result"
    }
   ],
   "source": [
    "events.sample()"
   ]
  },
  {
   "cell_type": "code",
   "execution_count": 8,
   "metadata": {
    "ExecuteTime": {
     "end_time": "2020-11-13T17:28:14.841554Z",
     "start_time": "2020-11-13T17:28:14.619092Z"
    }
   },
   "outputs": [],
   "source": [
    "user_events = events.loc[events.AccountUserID == '47670']"
   ]
  },
  {
   "cell_type": "markdown",
   "metadata": {},
   "source": [
    "### Total views"
   ]
  },
  {
   "cell_type": "code",
   "execution_count": 9,
   "metadata": {
    "ExecuteTime": {
     "end_time": "2020-11-13T17:28:14.931646Z",
     "start_time": "2020-11-13T17:28:14.849570Z"
    }
   },
   "outputs": [
    {
     "name": "stdout",
     "output_type": "stream",
     "text": [
      "Total number of videos watched 106\n"
     ]
    }
   ],
   "source": [
    "def total_views(df):\n",
    "    \"\"\" \n",
    "    Counts the total of videos views (rewatch included)\n",
    "    Assumption: consider that a video is watched at most once per day\n",
    "    \"\"\"\n",
    "    copy = df.copy()\n",
    "    copy['Day'] = df.Date.dt.date\n",
    "    #From the assumption the video view is a unique pair (video id, day)\n",
    "    return len(copy.drop_duplicates(subset=['VideoID','Day'])) \n",
    "print(\"Total number of videos watched\",total_views(user_events))"
   ]
  },
  {
   "cell_type": "markdown",
   "metadata": {},
   "source": [
    "### Weekly proportion (watched/replayed/interrupted)"
   ]
  },
  {
   "cell_type": "code",
   "execution_count": 77,
   "metadata": {
    "ExecuteTime": {
     "end_time": "2020-11-13T18:36:51.085148Z",
     "start_time": "2020-11-13T18:36:51.042913Z"
    }
   },
   "outputs": [],
   "source": [
    "def week_video_total(year):\n",
    "    \"\"\"\n",
    "    Returns a Series with week numbers as index and the number of videos to watch per week\n",
    "    \"\"\"\n",
    "    with open('../config/linear_algebra.json') as f:\n",
    "        config = json.load(f)\n",
    "    year = str(year)\n",
    "    weekly_count = config[year][\"WeeklyVideoCount\"]\n",
    "    flipped_weeks = len(config[year][\"FlippedWeeks\"])\n",
    "    start_week = int(datetime.strptime(config[year][\"StartFlipped\"], '%Y-%m-%d').strftime(\"%V\")) #Get the 1st week number\n",
    "    weeks = list(range(start_week, start_week + flipped_weeks))\n",
    "    return pd.DataFrame(index=weeks, data=weekly_count, columns=[\"Total\"])\n",
    "\n",
    "def get_dated_videos():\n",
    "    PATH = '../data/lin_alg_moodle/video_with_durations.csv'\n",
    "    dated_videos = pd.read_csv(PATH, index_col=0)\n",
    "    dated_videos['Due_date'] = pd.to_datetime(dated_videos['Due_date']) #Convert String to datetime\n",
    "    dated_videos['Year'] = dated_videos.Due_date.dt.year #Add year column\n",
    "    return dated_videos\n",
    "\n",
    "def videos_watched_on_right_week(user_events):\n",
    "    dated_videos = get_dated_videos()\n",
    "    first_views = user_events.merge(dated_videos, on=['VideoID', 'Year'])\n",
    "    first_views['From_date'] = first_views.Due_date - timedelta(weeks=1)\n",
    "    return first_views[(first_views.Date >= first_views.From_date) & (first_views.Date <= first_views.Due_date)]\n",
    "\n",
    "def weekly_prop(user_events):\n",
    "    \"\"\"Compute the ratio of video events in the dataframe over the videos assigned weekly the user_events\n",
    "    may only contained only the first viewings, only rewatched videos or only interrupted videos.\"\"\"\n",
    "    first_views = videos_watched_on_right_week(user_events)\n",
    "    #Freq Weekly starting on Thursday since the last due date is on Thursday\n",
    "    weekly_count = first_views.groupby(pd.Grouper(key=\"Date\", freq=\"W-THU\")).size().to_frame(name=\"Count\")\n",
    "    #Convert dates to week number\n",
    "    weekly_count.index = [int(week) for week in weekly_count.index.strftime(\"%V\")]\n",
    "    #Number of assigned videos per week\n",
    "    weekly_total = week_video_total(user_events.Year.iloc[0])\n",
    "    #Merge and compute the ratio of watched\n",
    "    weekly_prop = weekly_total.merge(weekly_count, left_index=True, right_index=True)\n",
    "    return np.clip((weekly_prop.Count / weekly_prop.Total).values,0,1)"
   ]
  },
  {
   "cell_type": "code",
   "execution_count": 11,
   "metadata": {
    "ExecuteTime": {
     "end_time": "2020-11-13T17:28:17.117876Z",
     "start_time": "2020-11-13T17:28:15.018648Z"
    }
   },
   "outputs": [
    {
     "name": "stdout",
     "output_type": "stream",
     "text": [
      "Videos watched\n",
      "Average 0.360827664399093\n",
      "SG 0.2744136024538823\n"
     ]
    }
   ],
   "source": [
    "# Average and SD of the proportion of videos watched per week\n",
    "def weekly_prop_watched(user_events):\n",
    "    \"\"\"Compute the proportion of videos watched (nb of videos watched / nb of videos assigned)\"\"\"\n",
    "    first_views = user_events.drop_duplicates(subset=[\"VideoID\"]) #Only keep the first views per video\n",
    "    return weekly_prop(first_views)\n",
    "\n",
    "def avg_weekly_prop_watched(df): \n",
    "    return weekly_prop_watched(df).mean()\n",
    "\n",
    "def std_weekly_prop_watched(df):\n",
    "    return weekly_prop_watched(df).std()\n",
    "\n",
    "print(\"Videos watched\")\n",
    "print(\"Average\",avg_weekly_prop_watched(user_events))\n",
    "print(\"SG\",std_weekly_prop_watched(user_events))"
   ]
  },
  {
   "cell_type": "code",
   "execution_count": 12,
   "metadata": {
    "ExecuteTime": {
     "end_time": "2020-11-13T17:28:18.693520Z",
     "start_time": "2020-11-13T17:28:17.120772Z"
    },
    "scrolled": true
   },
   "outputs": [
    {
     "name": "stdout",
     "output_type": "stream",
     "text": [
      "Videos replayed\n",
      "Average 0.10912698412698411\n",
      "SG 0.05764221843783314\n"
     ]
    }
   ],
   "source": [
    "# Average and SD of the proportion of videos replayed per week\n",
    "def weekly_prop_replayed(user_events):\n",
    "    \"\"\"Compute the proportion of videos replayed (nb of videos replayed / nb of videos assigned)\"\"\"\n",
    "    # We assume that a student watches a video at most once per day (cannot have multiple replays in one day)\n",
    "    replayed_events = user_events.copy()\n",
    "    replayed_events['Day'] = replayed_events.Date.dt.date #Create column with the date but not the time\n",
    "    replayed_events.drop_duplicates(subset=['VideoID', 'Day'], inplace=True) #Only keep on event per video per day\n",
    "    replayed_events = replayed_events[replayed_events.duplicated(subset=['VideoID'])] # Keep the replayed videos\n",
    "    return weekly_prop(replayed_events)\n",
    "\n",
    "def avg_weekly_prop_replayed(df): \n",
    "    return weekly_prop_replayed(df).mean()\n",
    "\n",
    "def std_weekly_prop_replayed(df):\n",
    "    return weekly_prop_replayed(df).std()\n",
    "\n",
    "print(\"Videos replayed\")\n",
    "print(\"Average\",avg_weekly_prop_replayed(user_events))\n",
    "print(\"SG\",std_weekly_prop_replayed(user_events))"
   ]
  },
  {
   "cell_type": "code",
   "execution_count": 78,
   "metadata": {
    "ExecuteTime": {
     "end_time": "2020-11-13T18:36:53.948653Z",
     "start_time": "2020-11-13T18:36:52.755216Z"
    }
   },
   "outputs": [
    {
     "data": {
      "text/plain": [
       "array([0.33333333, 0.        , 0.        , 0.        , 0.        ,\n",
       "       0.33333333])"
      ]
     },
     "execution_count": 78,
     "metadata": {},
     "output_type": "execute_result"
    }
   ],
   "source": [
    "def weekly_prop_interrupted(user_events):\n",
    "    STOP_EVENTS = ['Video.Pause', 'Video.Stop', 'Video.Load']\n",
    "    df = user_events.copy() #Sort in descreasing order\n",
    "    video_durations = get_dated_videos().drop_duplicates(subset=['VideoID'])[['VideoID', 'Duration']]\n",
    "    df = df.merge(video_durations)\n",
    "    df.sort_values(by=\"TimeStamp\", inplace=True)\n",
    "    df['Diff'] = abs(df.TimeStamp.diff(-1))\n",
    "    df['NextVideoID'] = df.VideoID.shift(-1)\n",
    "    \n",
    "    df = df[(df.Duration - df.CurrentTime > 60)] #Remove events in the last minute\n",
    "    # Interruption when\n",
    "    #   * a break is too long\n",
    "    #   * a break (not in the last minute) is followed by an event in another video (the user left the video)\n",
    "    #   * an event occurs in another video before the end of the current video\n",
    "    break_too_long = (df.EventType.isin(STOP_EVENTS)) & (df.Diff > 3600)\n",
    "    break_then_other_video = (df.EventType.isin(STOP_EVENTS)) &  (df.VideoID != df.NextVideoID)\n",
    "    event_other_video = (df.VideoID != df.NextVideoID) & ((df.Duration - df.CurrentTime) > (df.Diff))\n",
    "    interrup_conditions = break_too_long | break_then_other_video | event_other_video\n",
    "    df = df[interrup_conditions]\n",
    "    return weekly_prop(df)\n",
    "\n",
    "interrup = weekly_prop_interrupted(user_events)    \n",
    "interrup"
   ]
  },
  {
   "cell_type": "code",
   "execution_count": 69,
   "metadata": {
    "ExecuteTime": {
     "end_time": "2020-11-13T18:34:12.706415Z",
     "start_time": "2020-11-13T18:34:12.650725Z"
    }
   },
   "outputs": [
    {
     "data": {
      "text/html": [
       "<div>\n",
       "<style scoped>\n",
       "    .dataframe tbody tr th:only-of-type {\n",
       "        vertical-align: middle;\n",
       "    }\n",
       "\n",
       "    .dataframe tbody tr th {\n",
       "        vertical-align: top;\n",
       "    }\n",
       "\n",
       "    .dataframe thead th {\n",
       "        text-align: right;\n",
       "    }\n",
       "</style>\n",
       "<table border=\"1\" class=\"dataframe\">\n",
       "  <thead>\n",
       "    <tr style=\"text-align: right;\">\n",
       "      <th></th>\n",
       "      <th>DataPackageID</th>\n",
       "      <th>AccountUserID</th>\n",
       "      <th>VideoID</th>\n",
       "      <th>TimeStamp</th>\n",
       "      <th>EventType</th>\n",
       "      <th>SeekType</th>\n",
       "      <th>OldTime</th>\n",
       "      <th>CurrentTime</th>\n",
       "      <th>NewTime</th>\n",
       "      <th>OldSpeed</th>\n",
       "      <th>NewSpeed</th>\n",
       "      <th>Date</th>\n",
       "      <th>Year</th>\n",
       "      <th>Chapter</th>\n",
       "      <th>Subchapter</th>\n",
       "      <th>Source</th>\n",
       "      <th>Due_date</th>\n",
       "      <th>Duration</th>\n",
       "      <th>Diff</th>\n",
       "      <th>NextVideoID</th>\n",
       "    </tr>\n",
       "  </thead>\n",
       "  <tbody>\n",
       "    <tr>\n",
       "      <th>425</th>\n",
       "      <td>EPFL-AlgebreLineaire-2018</td>\n",
       "      <td>47670</td>\n",
       "      <td>260ca300105d450c8b7b60076cae50ee</td>\n",
       "      <td>1540818669</td>\n",
       "      <td>Video.Pause</td>\n",
       "      <td>None</td>\n",
       "      <td>NaN</td>\n",
       "      <td>0.654004</td>\n",
       "      <td>NaN</td>\n",
       "      <td>NaN</td>\n",
       "      <td>NaN</td>\n",
       "      <td>2018-10-29 13:11:09</td>\n",
       "      <td>2018</td>\n",
       "      <td>3</td>\n",
       "      <td>3.60</td>\n",
       "      <td>https://www.youtube.com/watch?v=so5M6k21vq8</td>\n",
       "      <td>2018-10-16</td>\n",
       "      <td>377.0</td>\n",
       "      <td>10934.0</td>\n",
       "      <td>260ca300105d450c8b7b60076cae50ee</td>\n",
       "    </tr>\n",
       "    <tr>\n",
       "      <th>626</th>\n",
       "      <td>EPFL-AlgebreLineaire-2018</td>\n",
       "      <td>47670</td>\n",
       "      <td>a09c2b7d3b6a42b0a20fd8d0ec2c2ab8</td>\n",
       "      <td>1542312576</td>\n",
       "      <td>Video.Pause</td>\n",
       "      <td>None</td>\n",
       "      <td>NaN</td>\n",
       "      <td>432.174000</td>\n",
       "      <td>NaN</td>\n",
       "      <td>NaN</td>\n",
       "      <td>NaN</td>\n",
       "      <td>2018-11-15 20:09:36</td>\n",
       "      <td>2018</td>\n",
       "      <td>4</td>\n",
       "      <td>4.20</td>\n",
       "      <td>https://www.youtube.com/watch?v=utLWjCCWjv8</td>\n",
       "      <td>2018-10-23</td>\n",
       "      <td>1037.0</td>\n",
       "      <td>240665.0</td>\n",
       "      <td>a8f03261648f427590022f6a46290d28</td>\n",
       "    </tr>\n",
       "    <tr>\n",
       "      <th>1195</th>\n",
       "      <td>EPFL-AlgebreLineaire-2018</td>\n",
       "      <td>47670</td>\n",
       "      <td>251c616b45df417f97072346ffeeecb8</td>\n",
       "      <td>1544452662</td>\n",
       "      <td>Video.Pause</td>\n",
       "      <td>None</td>\n",
       "      <td>NaN</td>\n",
       "      <td>519.688000</td>\n",
       "      <td>NaN</td>\n",
       "      <td>NaN</td>\n",
       "      <td>NaN</td>\n",
       "      <td>2018-12-10 14:37:42</td>\n",
       "      <td>2018</td>\n",
       "      <td>9</td>\n",
       "      <td>9.50</td>\n",
       "      <td>https://www.youtube.com/watch?v=1_TRBbZgpRA</td>\n",
       "      <td>2018-12-11</td>\n",
       "      <td>769.0</td>\n",
       "      <td>7923.0</td>\n",
       "      <td>b65d9dcb1a4241fe80f289f7ee37da32</td>\n",
       "    </tr>\n",
       "    <tr>\n",
       "      <th>1033</th>\n",
       "      <td>EPFL-AlgebreLineaire-2018</td>\n",
       "      <td>47670</td>\n",
       "      <td>97b12bced6d649a2bca7465b246a1b0f</td>\n",
       "      <td>1544466483</td>\n",
       "      <td>Video.Pause</td>\n",
       "      <td>None</td>\n",
       "      <td>NaN</td>\n",
       "      <td>568.060000</td>\n",
       "      <td>NaN</td>\n",
       "      <td>NaN</td>\n",
       "      <td>NaN</td>\n",
       "      <td>2018-12-10 18:28:03</td>\n",
       "      <td>2018</td>\n",
       "      <td>9</td>\n",
       "      <td>9.70</td>\n",
       "      <td>https://www.youtube.com/watch?v=h8nu5K9Dl0Y</td>\n",
       "      <td>2018-12-11</td>\n",
       "      <td>1306.0</td>\n",
       "      <td>53901.0</td>\n",
       "      <td>97b12bced6d649a2bca7465b246a1b0f</td>\n",
       "    </tr>\n",
       "    <tr>\n",
       "      <th>295</th>\n",
       "      <td>EPFL-AlgebreLineaire-2018</td>\n",
       "      <td>47670</td>\n",
       "      <td>f968886ba37f48e983945ded95f07c27</td>\n",
       "      <td>1544523624</td>\n",
       "      <td>Video.Pause</td>\n",
       "      <td>None</td>\n",
       "      <td>NaN</td>\n",
       "      <td>398.759000</td>\n",
       "      <td>NaN</td>\n",
       "      <td>NaN</td>\n",
       "      <td>NaN</td>\n",
       "      <td>2018-12-11 10:20:24</td>\n",
       "      <td>2018</td>\n",
       "      <td>9</td>\n",
       "      <td>9.80</td>\n",
       "      <td>https://www.youtube.com/watch?v=3VNdwb0DT7o</td>\n",
       "      <td>2018-12-13</td>\n",
       "      <td>988.0</td>\n",
       "      <td>84178.0</td>\n",
       "      <td>69c0a7659b0e4e6cbbf15630ab84c771</td>\n",
       "    </tr>\n",
       "    <tr>\n",
       "      <th>1128</th>\n",
       "      <td>EPFL-AlgebreLineaire-2018</td>\n",
       "      <td>47670</td>\n",
       "      <td>5a9926d290ee41b79db5a8d233b2f561</td>\n",
       "      <td>1545060662</td>\n",
       "      <td>Video.Pause</td>\n",
       "      <td>None</td>\n",
       "      <td>NaN</td>\n",
       "      <td>873.218000</td>\n",
       "      <td>NaN</td>\n",
       "      <td>NaN</td>\n",
       "      <td>NaN</td>\n",
       "      <td>2018-12-17 15:31:02</td>\n",
       "      <td>2018</td>\n",
       "      <td>9</td>\n",
       "      <td>9.12</td>\n",
       "      <td>https://www.youtube.com/watch?v=CxkCZ2Lcq40</td>\n",
       "      <td>2018-12-13</td>\n",
       "      <td>1246.0</td>\n",
       "      <td>3983.0</td>\n",
       "      <td>ad4b668b3098404da342c8931fe1b2ea</td>\n",
       "    </tr>\n",
       "  </tbody>\n",
       "</table>\n",
       "</div>"
      ],
      "text/plain": [
       "                  DataPackageID AccountUserID  \\\n",
       "425   EPFL-AlgebreLineaire-2018         47670   \n",
       "626   EPFL-AlgebreLineaire-2018         47670   \n",
       "1195  EPFL-AlgebreLineaire-2018         47670   \n",
       "1033  EPFL-AlgebreLineaire-2018         47670   \n",
       "295   EPFL-AlgebreLineaire-2018         47670   \n",
       "1128  EPFL-AlgebreLineaire-2018         47670   \n",
       "\n",
       "                               VideoID   TimeStamp    EventType SeekType  \\\n",
       "425   260ca300105d450c8b7b60076cae50ee  1540818669  Video.Pause     None   \n",
       "626   a09c2b7d3b6a42b0a20fd8d0ec2c2ab8  1542312576  Video.Pause     None   \n",
       "1195  251c616b45df417f97072346ffeeecb8  1544452662  Video.Pause     None   \n",
       "1033  97b12bced6d649a2bca7465b246a1b0f  1544466483  Video.Pause     None   \n",
       "295   f968886ba37f48e983945ded95f07c27  1544523624  Video.Pause     None   \n",
       "1128  5a9926d290ee41b79db5a8d233b2f561  1545060662  Video.Pause     None   \n",
       "\n",
       "      OldTime  CurrentTime  NewTime  OldSpeed  NewSpeed                Date  \\\n",
       "425       NaN     0.654004      NaN       NaN       NaN 2018-10-29 13:11:09   \n",
       "626       NaN   432.174000      NaN       NaN       NaN 2018-11-15 20:09:36   \n",
       "1195      NaN   519.688000      NaN       NaN       NaN 2018-12-10 14:37:42   \n",
       "1033      NaN   568.060000      NaN       NaN       NaN 2018-12-10 18:28:03   \n",
       "295       NaN   398.759000      NaN       NaN       NaN 2018-12-11 10:20:24   \n",
       "1128      NaN   873.218000      NaN       NaN       NaN 2018-12-17 15:31:02   \n",
       "\n",
       "      Year  Chapter  Subchapter                                       Source  \\\n",
       "425   2018        3        3.60  https://www.youtube.com/watch?v=so5M6k21vq8   \n",
       "626   2018        4        4.20  https://www.youtube.com/watch?v=utLWjCCWjv8   \n",
       "1195  2018        9        9.50  https://www.youtube.com/watch?v=1_TRBbZgpRA   \n",
       "1033  2018        9        9.70  https://www.youtube.com/watch?v=h8nu5K9Dl0Y   \n",
       "295   2018        9        9.80  https://www.youtube.com/watch?v=3VNdwb0DT7o   \n",
       "1128  2018        9        9.12  https://www.youtube.com/watch?v=CxkCZ2Lcq40   \n",
       "\n",
       "       Due_date  Duration      Diff                       NextVideoID  \n",
       "425  2018-10-16     377.0   10934.0  260ca300105d450c8b7b60076cae50ee  \n",
       "626  2018-10-23    1037.0  240665.0  a8f03261648f427590022f6a46290d28  \n",
       "1195 2018-12-11     769.0    7923.0  b65d9dcb1a4241fe80f289f7ee37da32  \n",
       "1033 2018-12-11    1306.0   53901.0  97b12bced6d649a2bca7465b246a1b0f  \n",
       "295  2018-12-13     988.0   84178.0  69c0a7659b0e4e6cbbf15630ab84c771  \n",
       "1128 2018-12-13    1246.0    3983.0  ad4b668b3098404da342c8931fe1b2ea  "
      ]
     },
     "execution_count": 69,
     "metadata": {},
     "output_type": "execute_result"
    }
   ],
   "source": [
    "interrup"
   ]
  },
  {
   "cell_type": "markdown",
   "metadata": {},
   "source": [
    "#### Interruption exploration\n",
    "\n",
    "There is no interruption event. In fact there exists an event called `Video.Stop` but it consists of the union of event types causing an interruption of the video, for instance `Video.Pause` or `Video.Load`. However I noticed that some events occurred at the same time as the end of the video: **is there a \"closing event\" that always occur at the end of the video?**\n",
    "\n",
    "In order to test that, the `interruption` function returns the video events occurring in the `time_threshold` last seconds. By computing the proportion of videos where an event occurred in the last seconds and the total number of unique videos watched, we can have a approximative idea of how often an \"interruption event\" occurs."
   ]
  },
  {
   "cell_type": "code",
   "execution_count": 13,
   "metadata": {
    "ExecuteTime": {
     "end_time": "2020-11-13T17:28:19.122596Z",
     "start_time": "2020-11-13T17:28:18.697631Z"
    }
   },
   "outputs": [
    {
     "name": "stdout",
     "output_type": "stream",
     "text": [
      "Number of videos containing an closing event: 70\n",
      "Total number of distinct videos watched: 85\n"
     ]
    }
   ],
   "source": [
    "def interruption(df, time_threshold=60):\n",
    "    \"\"\"Returns events occurring in the last time_threshold seconds (max one event per video) \"\"\"\n",
    "    user_event = df.copy()\n",
    "    user_event['Day'] = user_event.Date.dt.date #Create column with the date but not the time\n",
    "    dated_videos = get_dated_videos()\n",
    "    user_event = user_event.merge(dated_videos, on=['VideoID', 'Year'])\n",
    "    return user_event[abs(user_event.CurrentTime - user_event.Duration) <= time_threshold]\\\n",
    "                                                                    .drop_duplicates(subset=['VideoID'])\n",
    "\n",
    "print(\"Number of videos containing an closing event:\",len(interruption(user_events)))\n",
    "print(\"Total number of distinct videos watched:\", len(user_events.drop_duplicates(subset=['VideoID'])))"
   ]
  },
  {
   "cell_type": "code",
   "execution_count": 14,
   "metadata": {
    "ExecuteTime": {
     "end_time": "2020-11-13T17:28:19.183703Z",
     "start_time": "2020-11-13T17:28:19.125648Z"
    }
   },
   "outputs": [
    {
     "data": {
      "text/html": [
       "<div>\n",
       "<style scoped>\n",
       "    .dataframe tbody tr th:only-of-type {\n",
       "        vertical-align: middle;\n",
       "    }\n",
       "\n",
       "    .dataframe tbody tr th {\n",
       "        vertical-align: top;\n",
       "    }\n",
       "\n",
       "    .dataframe thead th {\n",
       "        text-align: right;\n",
       "    }\n",
       "</style>\n",
       "<table border=\"1\" class=\"dataframe\">\n",
       "  <thead>\n",
       "    <tr style=\"text-align: right;\">\n",
       "      <th></th>\n",
       "      <th>DataPackageID</th>\n",
       "      <th>AccountUserID</th>\n",
       "      <th>VideoID</th>\n",
       "      <th>TimeStamp</th>\n",
       "      <th>EventType</th>\n",
       "      <th>SeekType</th>\n",
       "      <th>OldTime</th>\n",
       "      <th>CurrentTime</th>\n",
       "      <th>NewTime</th>\n",
       "      <th>OldSpeed</th>\n",
       "      <th>NewSpeed</th>\n",
       "      <th>Date</th>\n",
       "      <th>Year</th>\n",
       "    </tr>\n",
       "  </thead>\n",
       "  <tbody>\n",
       "    <tr>\n",
       "      <th>780862</th>\n",
       "      <td>EPFL-AlgebreLineaire-2018</td>\n",
       "      <td>47670</td>\n",
       "      <td>eaee610676f34fb9b729f3c5ba62499b</td>\n",
       "      <td>1541949476</td>\n",
       "      <td>Video.Seek</td>\n",
       "      <td>onSlideSeek</td>\n",
       "      <td>3.09653</td>\n",
       "      <td>NaN</td>\n",
       "      <td>544.0</td>\n",
       "      <td>NaN</td>\n",
       "      <td>NaN</td>\n",
       "      <td>2018-11-11 15:17:56</td>\n",
       "      <td>2018</td>\n",
       "    </tr>\n",
       "    <tr>\n",
       "      <th>780863</th>\n",
       "      <td>EPFL-AlgebreLineaire-2018</td>\n",
       "      <td>47670</td>\n",
       "      <td>5bc0ff2e9d6f4418927029a091383450</td>\n",
       "      <td>1545057343</td>\n",
       "      <td>Video.Play</td>\n",
       "      <td>None</td>\n",
       "      <td>NaN</td>\n",
       "      <td>599.2590</td>\n",
       "      <td>NaN</td>\n",
       "      <td>NaN</td>\n",
       "      <td>NaN</td>\n",
       "      <td>2018-12-17 14:35:43</td>\n",
       "      <td>2018</td>\n",
       "    </tr>\n",
       "    <tr>\n",
       "      <th>780864</th>\n",
       "      <td>EPFL-AlgebreLineaire-2018</td>\n",
       "      <td>47670</td>\n",
       "      <td>f63f35d6e527434cac3c8c8872f88270</td>\n",
       "      <td>1543843911</td>\n",
       "      <td>Video.Play</td>\n",
       "      <td>None</td>\n",
       "      <td>NaN</td>\n",
       "      <td>1148.8400</td>\n",
       "      <td>NaN</td>\n",
       "      <td>NaN</td>\n",
       "      <td>NaN</td>\n",
       "      <td>2018-12-03 13:31:51</td>\n",
       "      <td>2018</td>\n",
       "    </tr>\n",
       "    <tr>\n",
       "      <th>780865</th>\n",
       "      <td>EPFL-AlgebreLineaire-2018</td>\n",
       "      <td>47670</td>\n",
       "      <td>5513f6dfd7314224853327ea7b4e2dfc</td>\n",
       "      <td>1542028768</td>\n",
       "      <td>Video.Play</td>\n",
       "      <td>None</td>\n",
       "      <td>NaN</td>\n",
       "      <td>624.0000</td>\n",
       "      <td>NaN</td>\n",
       "      <td>NaN</td>\n",
       "      <td>NaN</td>\n",
       "      <td>2018-11-12 13:19:28</td>\n",
       "      <td>2018</td>\n",
       "    </tr>\n",
       "    <tr>\n",
       "      <th>780866</th>\n",
       "      <td>EPFL-AlgebreLineaire-2018</td>\n",
       "      <td>47670</td>\n",
       "      <td>4a3f41d9f86f4e7da9ebdc6e3a0173f7</td>\n",
       "      <td>1542287493</td>\n",
       "      <td>Video.Play</td>\n",
       "      <td>None</td>\n",
       "      <td>NaN</td>\n",
       "      <td>78.9593</td>\n",
       "      <td>NaN</td>\n",
       "      <td>NaN</td>\n",
       "      <td>NaN</td>\n",
       "      <td>2018-11-15 13:11:33</td>\n",
       "      <td>2018</td>\n",
       "    </tr>\n",
       "    <tr>\n",
       "      <th>...</th>\n",
       "      <td>...</td>\n",
       "      <td>...</td>\n",
       "      <td>...</td>\n",
       "      <td>...</td>\n",
       "      <td>...</td>\n",
       "      <td>...</td>\n",
       "      <td>...</td>\n",
       "      <td>...</td>\n",
       "      <td>...</td>\n",
       "      <td>...</td>\n",
       "      <td>...</td>\n",
       "      <td>...</td>\n",
       "      <td>...</td>\n",
       "    </tr>\n",
       "    <tr>\n",
       "      <th>783596</th>\n",
       "      <td>EPFL-AlgebreLineaire-2018</td>\n",
       "      <td>47670</td>\n",
       "      <td>6f7c4414324047a4b9d12a1d87d5875e</td>\n",
       "      <td>1542464281</td>\n",
       "      <td>Video.Seek</td>\n",
       "      <td>onSlideSeek</td>\n",
       "      <td>255.95500</td>\n",
       "      <td>NaN</td>\n",
       "      <td>80.0</td>\n",
       "      <td>NaN</td>\n",
       "      <td>NaN</td>\n",
       "      <td>2018-11-17 14:18:01</td>\n",
       "      <td>2018</td>\n",
       "    </tr>\n",
       "    <tr>\n",
       "      <th>783597</th>\n",
       "      <td>EPFL-AlgebreLineaire-2018</td>\n",
       "      <td>47670</td>\n",
       "      <td>8cf6c396f2114e0fa21a6309cf6626e1</td>\n",
       "      <td>1543335525</td>\n",
       "      <td>Video.Play</td>\n",
       "      <td>None</td>\n",
       "      <td>NaN</td>\n",
       "      <td>519.2020</td>\n",
       "      <td>NaN</td>\n",
       "      <td>NaN</td>\n",
       "      <td>NaN</td>\n",
       "      <td>2018-11-27 16:18:45</td>\n",
       "      <td>2018</td>\n",
       "    </tr>\n",
       "    <tr>\n",
       "      <th>783598</th>\n",
       "      <td>EPFL-AlgebreLineaire-2018</td>\n",
       "      <td>47670</td>\n",
       "      <td>ad4b668b3098404da342c8931fe1b2ea</td>\n",
       "      <td>1545065335</td>\n",
       "      <td>Video.Play</td>\n",
       "      <td>None</td>\n",
       "      <td>NaN</td>\n",
       "      <td>361.1310</td>\n",
       "      <td>NaN</td>\n",
       "      <td>NaN</td>\n",
       "      <td>NaN</td>\n",
       "      <td>2018-12-17 16:48:55</td>\n",
       "      <td>2018</td>\n",
       "    </tr>\n",
       "    <tr>\n",
       "      <th>783599</th>\n",
       "      <td>EPFL-AlgebreLineaire-2018</td>\n",
       "      <td>47670</td>\n",
       "      <td>251c616b45df417f97072346ffeeecb8</td>\n",
       "      <td>1544445677</td>\n",
       "      <td>Video.Transcript.Hide</td>\n",
       "      <td>None</td>\n",
       "      <td>NaN</td>\n",
       "      <td>NaN</td>\n",
       "      <td>NaN</td>\n",
       "      <td>NaN</td>\n",
       "      <td>NaN</td>\n",
       "      <td>2018-12-10 12:41:17</td>\n",
       "      <td>2018</td>\n",
       "    </tr>\n",
       "    <tr>\n",
       "      <th>783600</th>\n",
       "      <td>EPFL-AlgebreLineaire-2018</td>\n",
       "      <td>47670</td>\n",
       "      <td>50cb0704de674518b328a8255029430f</td>\n",
       "      <td>1542112626</td>\n",
       "      <td>Video.Load</td>\n",
       "      <td>None</td>\n",
       "      <td>NaN</td>\n",
       "      <td>NaN</td>\n",
       "      <td>NaN</td>\n",
       "      <td>NaN</td>\n",
       "      <td>NaN</td>\n",
       "      <td>2018-11-13 12:37:06</td>\n",
       "      <td>2018</td>\n",
       "    </tr>\n",
       "  </tbody>\n",
       "</table>\n",
       "<p>2739 rows × 13 columns</p>\n",
       "</div>"
      ],
      "text/plain": [
       "                    DataPackageID AccountUserID  \\\n",
       "780862  EPFL-AlgebreLineaire-2018         47670   \n",
       "780863  EPFL-AlgebreLineaire-2018         47670   \n",
       "780864  EPFL-AlgebreLineaire-2018         47670   \n",
       "780865  EPFL-AlgebreLineaire-2018         47670   \n",
       "780866  EPFL-AlgebreLineaire-2018         47670   \n",
       "...                           ...           ...   \n",
       "783596  EPFL-AlgebreLineaire-2018         47670   \n",
       "783597  EPFL-AlgebreLineaire-2018         47670   \n",
       "783598  EPFL-AlgebreLineaire-2018         47670   \n",
       "783599  EPFL-AlgebreLineaire-2018         47670   \n",
       "783600  EPFL-AlgebreLineaire-2018         47670   \n",
       "\n",
       "                                 VideoID   TimeStamp              EventType  \\\n",
       "780862  eaee610676f34fb9b729f3c5ba62499b  1541949476             Video.Seek   \n",
       "780863  5bc0ff2e9d6f4418927029a091383450  1545057343             Video.Play   \n",
       "780864  f63f35d6e527434cac3c8c8872f88270  1543843911             Video.Play   \n",
       "780865  5513f6dfd7314224853327ea7b4e2dfc  1542028768             Video.Play   \n",
       "780866  4a3f41d9f86f4e7da9ebdc6e3a0173f7  1542287493             Video.Play   \n",
       "...                                  ...         ...                    ...   \n",
       "783596  6f7c4414324047a4b9d12a1d87d5875e  1542464281             Video.Seek   \n",
       "783597  8cf6c396f2114e0fa21a6309cf6626e1  1543335525             Video.Play   \n",
       "783598  ad4b668b3098404da342c8931fe1b2ea  1545065335             Video.Play   \n",
       "783599  251c616b45df417f97072346ffeeecb8  1544445677  Video.Transcript.Hide   \n",
       "783600  50cb0704de674518b328a8255029430f  1542112626             Video.Load   \n",
       "\n",
       "           SeekType    OldTime  CurrentTime  NewTime  OldSpeed  NewSpeed  \\\n",
       "780862  onSlideSeek    3.09653          NaN    544.0       NaN       NaN   \n",
       "780863         None        NaN     599.2590      NaN       NaN       NaN   \n",
       "780864         None        NaN    1148.8400      NaN       NaN       NaN   \n",
       "780865         None        NaN     624.0000      NaN       NaN       NaN   \n",
       "780866         None        NaN      78.9593      NaN       NaN       NaN   \n",
       "...             ...        ...          ...      ...       ...       ...   \n",
       "783596  onSlideSeek  255.95500          NaN     80.0       NaN       NaN   \n",
       "783597         None        NaN     519.2020      NaN       NaN       NaN   \n",
       "783598         None        NaN     361.1310      NaN       NaN       NaN   \n",
       "783599         None        NaN          NaN      NaN       NaN       NaN   \n",
       "783600         None        NaN          NaN      NaN       NaN       NaN   \n",
       "\n",
       "                      Date  Year  \n",
       "780862 2018-11-11 15:17:56  2018  \n",
       "780863 2018-12-17 14:35:43  2018  \n",
       "780864 2018-12-03 13:31:51  2018  \n",
       "780865 2018-11-12 13:19:28  2018  \n",
       "780866 2018-11-15 13:11:33  2018  \n",
       "...                    ...   ...  \n",
       "783596 2018-11-17 14:18:01  2018  \n",
       "783597 2018-11-27 16:18:45  2018  \n",
       "783598 2018-12-17 16:48:55  2018  \n",
       "783599 2018-12-10 12:41:17  2018  \n",
       "783600 2018-11-13 12:37:06  2018  \n",
       "\n",
       "[2739 rows x 13 columns]"
      ]
     },
     "execution_count": 14,
     "metadata": {},
     "output_type": "execute_result"
    }
   ],
   "source": [
    "user_events"
   ]
  },
  {
   "cell_type": "code",
   "execution_count": 15,
   "metadata": {
    "ExecuteTime": {
     "end_time": "2020-11-13T17:28:19.243597Z",
     "start_time": "2020-11-13T17:28:19.186507Z"
    },
    "scrolled": true
   },
   "outputs": [],
   "source": [
    "from tqdm import tqdm\n",
    "\n",
    "def compute_closing_prop():\n",
    "    \"\"\"Compute the proportion of videos containing an closing event for each user\"\"\"\n",
    "    till_end_prop = []\n",
    "    for userId in tqdm(events.AccountUserID.unique()):\n",
    "        user_events = events.loc[events.AccountUserID == userId]\n",
    "        total = len(user_events.drop_duplicates(subset=['VideoID']))\n",
    "        if total != 0:\n",
    "            till_end_prop.append(len(interruption(user_events)) / total)\n",
    "    return np.array(till_end_prop)\n",
    "if False:\n",
    "    till_end_prop = compute_closing_prop()\n",
    "    print(\"Average proportion of videos with closing event:\",till_end_prop.mean())\n",
    "    print(\"SD of the proportion of videos with closing event:\",till_end_prop.std())"
   ]
  },
  {
   "cell_type": "markdown",
   "metadata": {},
   "source": [
    "We can see that in average 60% ($\\pm$ 25%) of the videos end with an event occurring in the last minute."
   ]
  },
  {
   "cell_type": "markdown",
   "metadata": {},
   "source": [
    "## Actions"
   ]
  },
  {
   "cell_type": "code",
   "execution_count": 16,
   "metadata": {
    "ExecuteTime": {
     "end_time": "2020-11-13T17:28:19.281903Z",
     "start_time": "2020-11-13T17:28:19.246045Z"
    }
   },
   "outputs": [],
   "source": [
    "ACTIONS = ['Video.Play', 'Video.Pause', 'Video.SeekBackward', \n",
    "           'Video.SeekForward', 'Video.SpeedChange', 'Video.Stop']"
   ]
  },
  {
   "cell_type": "markdown",
   "metadata": {},
   "source": [
    "### Total number of actions"
   ]
  },
  {
   "cell_type": "code",
   "execution_count": 17,
   "metadata": {
    "ExecuteTime": {
     "end_time": "2020-11-13T17:28:19.322766Z",
     "start_time": "2020-11-13T17:28:19.285285Z"
    }
   },
   "outputs": [
    {
     "name": "stdout",
     "output_type": "stream",
     "text": [
      "Total number of actions: 2739\n"
     ]
    }
   ],
   "source": [
    "def total_actions(user_events):\n",
    "    \"\"\"Counts the total number of actions performed across every videos\"\"\"\n",
    "    return len(user_events)\n",
    "\n",
    "print(\"Total number of actions:\", total_actions(user_events))"
   ]
  },
  {
   "cell_type": "markdown",
   "metadata": {},
   "source": [
    "### Frequency of all actions"
   ]
  },
  {
   "cell_type": "code",
   "execution_count": 18,
   "metadata": {
    "ExecuteTime": {
     "end_time": "2020-11-13T17:28:19.659689Z",
     "start_time": "2020-11-13T17:28:19.325719Z"
    }
   },
   "outputs": [
    {
     "name": "stdout",
     "output_type": "stream",
     "text": [
      "4.72589533563976 actions / hour\n"
     ]
    }
   ],
   "source": [
    "def frequency_all_actions(user_events):\n",
    "    \"\"\"Compute the frequency of actions performed per hour spent watching videos\"\"\"\n",
    "    user_events = user_events.copy()\n",
    "    user_events.loc[:,'Day'] = user_events.loc[:,'Date'].dt.date #Create column with the date but not the time\n",
    "    user_events.drop_duplicates(subset=['VideoID', 'Day'], inplace=True) #Only keep on event per video per day\n",
    "    durations = get_dated_videos()\n",
    "    user_events = user_events.merge(durations, on = [\"VideoID\", \"Year\"])\n",
    "    watching_time = user_events.Duration.sum() / 3600 # hours\n",
    "    return total_actions(user_events) / watching_time if watching_time != 0 else 0\n",
    "\n",
    "print(frequency_all_actions(user_events),\"actions / hour\")"
   ]
  },
  {
   "cell_type": "markdown",
   "metadata": {},
   "source": [
    "### Frequency of each action"
   ]
  },
  {
   "cell_type": "code",
   "execution_count": 19,
   "metadata": {
    "ExecuteTime": {
     "end_time": "2020-11-13T17:28:19.720762Z",
     "start_time": "2020-11-13T17:28:19.664239Z"
    }
   },
   "outputs": [
    {
     "name": "stdout",
     "output_type": "stream",
     "text": [
      "play 0.40525739320920046\n",
      "pause 0.38663745892661555\n",
      "seek_backward 0.013143483023001095\n",
      "seek_forward 0.03906535231836437\n",
      "speed_change 0.004016064257028112\n",
      "stop 0.038335158817086525\n",
      "Total proportition: 0.8864549105512961\n"
     ]
    }
   ],
   "source": [
    "def count_actions(user_events, action):\n",
    "    \"\"\"Count the total number of events with type `action`\"\"\"\n",
    "    if 'Backward' in action:\n",
    "        user_events = user_events[(user_events.EventType == 'Video.Seek') & \n",
    "                                  (user_events.OldTime < user_events.NewTime)]\n",
    "    elif 'Forward' in action:\n",
    "        user_events = user_events[(user_events.EventType == 'Video.Seek') & \n",
    "                                  (user_events.OldTime > user_events.NewTime)]\n",
    "    else:\n",
    "        user_events = user_events[user_events.EventType == action]        \n",
    "    return len(user_events)\n",
    "\n",
    "def freq_play(user_events):\n",
    "    return count_actions(user_events,'Video.Play') / total_actions(user_events)\n",
    "\n",
    "def freq_pause(user_events):\n",
    "    return count_actions(user_events,'Video.Pause') / total_actions(user_events)\n",
    "\n",
    "def freq_seek_backward(user_events):\n",
    "    return count_actions(user_events,'Video.SeekBackward') / total_actions(user_events)\n",
    "\n",
    "def freq_seek_forward(user_events):\n",
    "    return count_actions(user_events,'Video.SeekForward') / total_actions(user_events)\n",
    "\n",
    "def freq_speed_change(user_events):\n",
    "    return count_actions(user_events,'Video.SpeedChange') / total_actions(user_events)\n",
    "\n",
    "def freq_stop(user_events):\n",
    "    return count_actions(user_events,'Video.Stop') / total_actions(user_events)\n",
    "\n",
    "total_sum = 0\n",
    "for action in [freq_play,freq_pause, freq_seek_backward, freq_seek_forward, freq_speed_change, freq_stop]:\n",
    "    freq = action(user_events)\n",
    "    total_sum += freq\n",
    "    print(action.__name__[5:], freq)\n",
    "    \n",
    "print(\"Total proportition:\", total_sum)\n"
   ]
  },
  {
   "cell_type": "markdown",
   "metadata": {
    "ExecuteTime": {
     "end_time": "2020-11-10T19:27:21.840880Z",
     "start_time": "2020-11-10T19:27:21.396917Z"
    }
   },
   "source": [
    "Missing events: `Video.Transcript.Translate.EN`, `Video.Load`"
   ]
  },
  {
   "cell_type": "markdown",
   "metadata": {},
   "source": [
    "### Pause durations"
   ]
  },
  {
   "cell_type": "code",
   "execution_count": 20,
   "metadata": {
    "ExecuteTime": {
     "end_time": "2020-11-13T17:28:19.802228Z",
     "start_time": "2020-11-13T17:28:19.723504Z"
    },
    "scrolled": true
   },
   "outputs": [
    {
     "name": "stdout",
     "output_type": "stream",
     "text": [
      "Pause durations\n",
      "Average 74.6760710553814\n",
      "SG 107.29078244629652\n",
      "Proportion of pauses included in the threshold: 0.9045368620037807\n"
     ]
    }
   ],
   "source": [
    "def pause_duration(user_events, max_duration=500):\n",
    "    \"\"\"Compute the time interval between each pause event and the next play event`\n",
    "    Only pause durataions smaller than `max_duration` are taken into account. \n",
    "    Default threshold to 10 min\"\"\"\n",
    "    \n",
    "    pause_events = user_events[user_events.EventType.isin([\"Video.Pause\", \"Video.Play\"])].copy()\n",
    "    pause_events = pause_events.sort_values(by=\"TimeStamp\")\n",
    "    pause_events['PrevEvent'] = pause_events['EventType'].shift(1)\n",
    "    pause_events['Diff'] = pause_events.TimeStamp.diff().dropna()\n",
    "    pause_events = pause_events[pause_events.PrevEvent == 'Video.Pause']\n",
    "    nb_pause = len(pause_events)\n",
    "    pause_events = pause_events[pause_events.Diff < max_duration]\n",
    "    return pause_events.Diff.values, len(pause_events.Diff.values) / nb_pause\n",
    "\n",
    "def avg_pause_duration(user_events):\n",
    "    return pause_duration(user_events)[0].mean()\n",
    "\n",
    "def std_pause_duration(user_events):\n",
    "    return pause_duration(user_events)[0].std()\n",
    "\n",
    "print(\"Pause durations\")\n",
    "print(\"Average\",avg_pause_duration(user_events))\n",
    "print(\"SG\",std_pause_duration(user_events))\n",
    "print(\"Proportion of pauses included in the threshold:\", pause_duration(user_events)[1])"
   ]
  },
  {
   "cell_type": "code",
   "execution_count": 21,
   "metadata": {
    "ExecuteTime": {
     "end_time": "2020-11-13T17:28:20.299277Z",
     "start_time": "2020-11-13T17:28:19.804534Z"
    },
    "scrolled": true
   },
   "outputs": [
    {
     "data": {
      "image/png": "[encoded data removed]",
      "text/plain": [
       "<Figure size 432x288 with 1 Axes>"
      ]
     },
     "metadata": {},
     "output_type": "display_data"
    }
   ],
   "source": [
    "pauses = pause_duration(user_events, 500)\n",
    "sns.histplot(pauses[0])\n",
    "plt.xlabel(\"Pause durations (seconds)\")\n",
    "plt.title(\"Pause durations distribution, contains {:.0f}% of all the pause\".format(pauses[1] * 100));"
   ]
  },
  {
   "cell_type": "markdown",
   "metadata": {},
   "source": [
    "From the above histgram, 500 seconds (around 8 minutes) seems to be a reasonable threshold as 90% of all the pause durations are below this threshold and that as the duration increase the count tends to 0."
   ]
  },
  {
   "cell_type": "markdown",
   "metadata": {},
   "source": [
    "### Seek Length"
   ]
  },
  {
   "cell_type": "code",
   "execution_count": 22,
   "metadata": {
    "ExecuteTime": {
     "end_time": "2020-11-13T17:28:20.347367Z",
     "start_time": "2020-11-13T17:28:20.304089Z"
    }
   },
   "outputs": [
    {
     "name": "stdout",
     "output_type": "stream",
     "text": [
      "Seek length\n",
      "Average 102.10219379166668\n",
      "SG 181.15720351499434\n"
     ]
    }
   ],
   "source": [
    "def seek_length(user_events):\n",
    "    user_events = user_events[user_events.EventType == 'Video.Seek']\n",
    "    return abs(user_events.OldTime - user_events.NewTime).values\n",
    "\n",
    "def avg_seek_length(user_events):\n",
    "    return seek_length(user_events).mean()\n",
    "\n",
    "def std_seek_length(user_events):\n",
    "    return seek_length(user_events).std()\n",
    "\n",
    "print(\"Seek length\")\n",
    "print(\"Average\",avg_seek_length(user_events))\n",
    "print(\"SG\",std_seek_length(user_events))"
   ]
  },
  {
   "cell_type": "markdown",
   "metadata": {},
   "source": [
    "### Time speeding-up video"
   ]
  },
  {
   "cell_type": "code",
   "execution_count": 23,
   "metadata": {
    "ExecuteTime": {
     "end_time": "2020-11-13T17:28:21.052146Z",
     "start_time": "2020-11-13T17:28:20.359419Z"
    }
   },
   "outputs": [
    {
     "data": {
      "text/html": [
       "<div>\n",
       "<style scoped>\n",
       "    .dataframe tbody tr th:only-of-type {\n",
       "        vertical-align: middle;\n",
       "    }\n",
       "\n",
       "    .dataframe tbody tr th {\n",
       "        vertical-align: top;\n",
       "    }\n",
       "\n",
       "    .dataframe thead th {\n",
       "        text-align: right;\n",
       "    }\n",
       "</style>\n",
       "<table border=\"1\" class=\"dataframe\">\n",
       "  <thead>\n",
       "    <tr style=\"text-align: right;\">\n",
       "      <th></th>\n",
       "      <th>DataPackageID</th>\n",
       "      <th>VideoID</th>\n",
       "      <th>TimeStamp</th>\n",
       "      <th>EventType</th>\n",
       "      <th>CurrentTime</th>\n",
       "      <th>OldSpeed</th>\n",
       "      <th>NewSpeed</th>\n",
       "      <th>Duration</th>\n",
       "    </tr>\n",
       "  </thead>\n",
       "  <tbody>\n",
       "    <tr>\n",
       "      <th>0</th>\n",
       "      <td>EPFL-AlgebreLineaire-2018</td>\n",
       "      <td>84e4c0085f724d5ca97e1724ce636238</td>\n",
       "      <td>1539695978</td>\n",
       "      <td>Video.SpeedChange</td>\n",
       "      <td>3.061238</td>\n",
       "      <td>1.00</td>\n",
       "      <td>1.50</td>\n",
       "      <td>1426.0</td>\n",
       "    </tr>\n",
       "    <tr>\n",
       "      <th>1</th>\n",
       "      <td>EPFL-AlgebreLineaire-2018</td>\n",
       "      <td>84e4c0085f724d5ca97e1724ce636238</td>\n",
       "      <td>1539697421</td>\n",
       "      <td>Video.SpeedChange</td>\n",
       "      <td>1008.860000</td>\n",
       "      <td>1.50</td>\n",
       "      <td>1.00</td>\n",
       "      <td>1426.0</td>\n",
       "    </tr>\n",
       "    <tr>\n",
       "      <th>2</th>\n",
       "      <td>EPFL-AlgebreLineaire-2018</td>\n",
       "      <td>54ac00d607ef49e68dfa9579b7ad43f0</td>\n",
       "      <td>1540207529</td>\n",
       "      <td>Video.SpeedChange</td>\n",
       "      <td>3.099860</td>\n",
       "      <td>1.00</td>\n",
       "      <td>1.25</td>\n",
       "      <td>1023.0</td>\n",
       "    </tr>\n",
       "    <tr>\n",
       "      <th>3</th>\n",
       "      <td>EPFL-AlgebreLineaire-2018</td>\n",
       "      <td>54ac00d607ef49e68dfa9579b7ad43f0</td>\n",
       "      <td>1540207572</td>\n",
       "      <td>Video.SpeedChange</td>\n",
       "      <td>38.734670</td>\n",
       "      <td>1.25</td>\n",
       "      <td>1.50</td>\n",
       "      <td>1023.0</td>\n",
       "    </tr>\n",
       "    <tr>\n",
       "      <th>4</th>\n",
       "      <td>EPFL-AlgebreLineaire-2018</td>\n",
       "      <td>c8b2017357a74a889c2db24746fa95e8</td>\n",
       "      <td>1540212375</td>\n",
       "      <td>Video.SpeedChange</td>\n",
       "      <td>682.687000</td>\n",
       "      <td>1.25</td>\n",
       "      <td>1.00</td>\n",
       "      <td>1093.0</td>\n",
       "    </tr>\n",
       "    <tr>\n",
       "      <th>5</th>\n",
       "      <td>EPFL-AlgebreLineaire-2018</td>\n",
       "      <td>6009306465a74cce84717e07e4e22bdf</td>\n",
       "      <td>1540466790</td>\n",
       "      <td>Video.SpeedChange</td>\n",
       "      <td>2.090587</td>\n",
       "      <td>1.00</td>\n",
       "      <td>1.25</td>\n",
       "      <td>411.0</td>\n",
       "    </tr>\n",
       "    <tr>\n",
       "      <th>6</th>\n",
       "      <td>EPFL-AlgebreLineaire-2018</td>\n",
       "      <td>6009306465a74cce84717e07e4e22bdf</td>\n",
       "      <td>1540466932</td>\n",
       "      <td>Video.SpeedChange</td>\n",
       "      <td>31.675700</td>\n",
       "      <td>1.25</td>\n",
       "      <td>1.00</td>\n",
       "      <td>411.0</td>\n",
       "    </tr>\n",
       "    <tr>\n",
       "      <th>7</th>\n",
       "      <td>EPFL-AlgebreLineaire-2018</td>\n",
       "      <td>260ca300105d450c8b7b60076cae50ee</td>\n",
       "      <td>1540832028</td>\n",
       "      <td>Video.SpeedChange</td>\n",
       "      <td>203.753000</td>\n",
       "      <td>1.00</td>\n",
       "      <td>1.25</td>\n",
       "      <td>377.0</td>\n",
       "    </tr>\n",
       "    <tr>\n",
       "      <th>8</th>\n",
       "      <td>EPFL-AlgebreLineaire-2018</td>\n",
       "      <td>73f3f756e43047c0b161c9ea29fb08a2</td>\n",
       "      <td>1541431369</td>\n",
       "      <td>Video.SpeedChange</td>\n",
       "      <td>5.194430</td>\n",
       "      <td>1.25</td>\n",
       "      <td>1.00</td>\n",
       "      <td>726.0</td>\n",
       "    </tr>\n",
       "    <tr>\n",
       "      <th>9</th>\n",
       "      <td>EPFL-AlgebreLineaire-2018</td>\n",
       "      <td>a09c2b7d3b6a42b0a20fd8d0ec2c2ab8</td>\n",
       "      <td>1541608715</td>\n",
       "      <td>Video.SpeedChange</td>\n",
       "      <td>3.036278</td>\n",
       "      <td>1.00</td>\n",
       "      <td>1.25</td>\n",
       "      <td>1037.0</td>\n",
       "    </tr>\n",
       "  </tbody>\n",
       "</table>\n",
       "</div>"
      ],
      "text/plain": [
       "               DataPackageID                           VideoID   TimeStamp  \\\n",
       "0  EPFL-AlgebreLineaire-2018  84e4c0085f724d5ca97e1724ce636238  1539695978   \n",
       "1  EPFL-AlgebreLineaire-2018  84e4c0085f724d5ca97e1724ce636238  1539697421   \n",
       "2  EPFL-AlgebreLineaire-2018  54ac00d607ef49e68dfa9579b7ad43f0  1540207529   \n",
       "3  EPFL-AlgebreLineaire-2018  54ac00d607ef49e68dfa9579b7ad43f0  1540207572   \n",
       "4  EPFL-AlgebreLineaire-2018  c8b2017357a74a889c2db24746fa95e8  1540212375   \n",
       "5  EPFL-AlgebreLineaire-2018  6009306465a74cce84717e07e4e22bdf  1540466790   \n",
       "6  EPFL-AlgebreLineaire-2018  6009306465a74cce84717e07e4e22bdf  1540466932   \n",
       "7  EPFL-AlgebreLineaire-2018  260ca300105d450c8b7b60076cae50ee  1540832028   \n",
       "8  EPFL-AlgebreLineaire-2018  73f3f756e43047c0b161c9ea29fb08a2  1541431369   \n",
       "9  EPFL-AlgebreLineaire-2018  a09c2b7d3b6a42b0a20fd8d0ec2c2ab8  1541608715   \n",
       "\n",
       "           EventType  CurrentTime  OldSpeed  NewSpeed  Duration  \n",
       "0  Video.SpeedChange     3.061238      1.00      1.50    1426.0  \n",
       "1  Video.SpeedChange  1008.860000      1.50      1.00    1426.0  \n",
       "2  Video.SpeedChange     3.099860      1.00      1.25    1023.0  \n",
       "3  Video.SpeedChange    38.734670      1.25      1.50    1023.0  \n",
       "4  Video.SpeedChange   682.687000      1.25      1.00    1093.0  \n",
       "5  Video.SpeedChange     2.090587      1.00      1.25     411.0  \n",
       "6  Video.SpeedChange    31.675700      1.25      1.00     411.0  \n",
       "7  Video.SpeedChange   203.753000      1.00      1.25     377.0  \n",
       "8  Video.SpeedChange     5.194430      1.25      1.00     726.0  \n",
       "9  Video.SpeedChange     3.036278      1.00      1.25    1037.0  "
      ]
     },
     "execution_count": 23,
     "metadata": {},
     "output_type": "execute_result"
    }
   ],
   "source": [
    "def compute_speedchange_current_time(user_events):\n",
    "    #Compute the CurrentTime of the SpeedChange event as it is not logged in the db\n",
    "    #For that we find the closest event (in the same video and day) with a non null CurrentTime\n",
    "    #Then we compute the SpeedChange CurrentTime with the delta time between the 2 events\n",
    "\n",
    "    #Keep only SpeedChange events and events with non null CurrentTime\n",
    "    df = user_events[(user_events.EventType == 'Video.SpeedChange') | (~user_events.CurrentTime.isna())]\n",
    "    #Compute the deltatime between the previous events\n",
    "    df = df.sort_values(by=\"TimeStamp\", ascending=True)\n",
    "    df['NextDiff'] = abs(df.TimeStamp.diff())\n",
    "    df['PrevDiff'] = abs(df.TimeStamp.diff(-1))\n",
    "\n",
    "    ### Define the closest event information: VideoID, TimeStamp and CurrentTime ###\n",
    "    df['NextVideoID'] = df.VideoID.shift()\n",
    "    df['NextTimeStamp'] = df.TimeStamp.shift()\n",
    "    df['NextCurrentTime'] = df.CurrentTime.shift()\n",
    "    df['PrevVideoID'] = df.VideoID.shift(-1)\n",
    "    df['PrevTimeStamp'] = df.TimeStamp.shift(-1)\n",
    "    df['PrevCurrentTime'] = df.CurrentTime.shift(-1)\n",
    "\n",
    "    df['ClosestVideoID'] = np.nan\n",
    "    df['ClosestTimeStamp'] = np.nan\n",
    "    df['ClosestCurrentTime'] = np.nan\n",
    "    #If the next event is the closest\n",
    "    df.loc[df.NextDiff <= df.PrevDiff, 'ClosestVideoID'] = df[df.NextDiff <= df.PrevDiff].NextVideoID\n",
    "    df.loc[df.NextDiff <= df.PrevDiff, 'ClosestTimeStamp'] = df[df.NextDiff <= df.PrevDiff].NextTimeStamp\n",
    "    df.loc[df.NextDiff <= df.PrevDiff, 'ClosestCurrentTime'] = df[df.NextDiff <= df.PrevDiff].NextCurrentTime\n",
    "    #If the previous event is the closest\n",
    "    df.loc[df.NextDiff > df.PrevDiff, 'ClosestVideoID'] = df[df.NextDiff > df.PrevDiff].PrevVideoID\n",
    "    df.loc[df.NextDiff > df.PrevDiff, 'ClosestTimeStamp'] = df[df.NextDiff > df.PrevDiff].PrevTimeStamp\n",
    "    df.loc[df.NextDiff > df.PrevDiff, 'ClosestCurrentTime'] = df[df.NextDiff > df.PrevDiff].PrevCurrentTime\n",
    "\n",
    "    #Filter the SpeedChange events\n",
    "    df = df[(df.EventType == 'Video.SpeedChange') & (df.VideoID == df.ClosestVideoID) &\n",
    "               (~df.ClosestCurrentTime.isna())]\n",
    "    df.drop(columns=['NextDiff', 'NextVideoID','NextTimeStamp',\"NextCurrentTime\",'PrevDiff', \"PrevVideoID\", \n",
    "                       \"PrevTimeStamp\", \"PrevCurrentTime\", \"ClosestVideoID\", 'SeekType', 'OldTime',\n",
    "                       'NewTime', 'AccountUserID', 'Date', 'Year'],inplace=True)\n",
    "    df['CurrentTime'] = df.ClosestCurrentTime + abs(df.TimeStamp - df.ClosestTimeStamp)\n",
    "\n",
    "    #Duration are the same through the year, we can simply keep the first VideoID\n",
    "    video_durations = get_dated_videos().drop_duplicates(subset=['VideoID']) \n",
    "    df = df.merge(video_durations, on=['VideoID'])\n",
    "    df = df[df.CurrentTime < df.Duration]\n",
    "    \n",
    "    df.drop(columns=['ClosestTimeStamp', 'ClosestCurrentTime', 'Chapter', 'Subchapter', 'Source', \n",
    "                   'Due_date', 'Year'],inplace=True)\n",
    "    return df\n",
    "\n",
    "compute_speedchange_current_time(user_events)"
   ]
  },
  {
   "cell_type": "code",
   "execution_count": 29,
   "metadata": {
    "ExecuteTime": {
     "end_time": "2020-11-13T17:33:37.932230Z",
     "start_time": "2020-11-13T17:33:36.249175Z"
    }
   },
   "outputs": [
    {
     "name": "stdout",
     "output_type": "stream",
     "text": [
      "Time speeding up\n",
      "Average 793.5551505185185\n",
      "SG 557.4589334981438\n"
     ]
    }
   ],
   "source": [
    "def compute_time_speeding_up(user_events):\n",
    "    \"\"\"Compute the time spent with a high spedd (> 1) for each video\"\"\"\n",
    "    df = user_events.copy()\n",
    "    sc = compute_speedchange_current_time(user_events)[['TimeStamp', 'EventType', 'CurrentTime']]\n",
    "    df = df.merge(sc, on=['TimeStamp', 'EventType'], how='left')\n",
    "    df['CurrentTime'] = np.where(df.CurrentTime_y.isna(), df.CurrentTime_x, df.CurrentTime_y)\n",
    "    df.drop(columns=['CurrentTime_x', 'CurrentTime_y'], inplace=True)\n",
    "    df = df.sort_values(by='TimeStamp')\n",
    "\n",
    "    def label_speed(row):\n",
    "        global speed\n",
    "        newSpeed = speed if np.isnan(row) else row\n",
    "        speed = newSpeed\n",
    "        return newSpeed\n",
    "\n",
    "    speed = 1\n",
    "\n",
    "    df['Speed'] = df.NewSpeed.apply(lambda row: label_speed(row))\n",
    "    df['NextVideoID'] = df.VideoID.shift(-1)\n",
    "\n",
    "    video_durations = get_dated_videos().drop_duplicates(subset=['VideoID'])[['VideoID', 'Duration']]\n",
    "    df = df.merge(video_durations)\n",
    "\n",
    "    df['SpeedUpTime'] = abs(df.TimeStamp.diff(-1))\n",
    "\n",
    "    #If the SpeedUpTime is Nan (last elem of DataFrame) or if the next events is in another video\n",
    "    #then the time speeding up is until the end of the video\n",
    "    conditions = (df.SpeedUpTime.isna()) | (df.VideoID != df.NextVideoID)\n",
    "    df['SpeedUpTime'] = np.where(conditions, df.Duration - df.CurrentTime, df.SpeedUpTime)\n",
    "\n",
    "    #When the speed is switched back to normal or slower then we stop counting\n",
    "    conditions = (df.Speed <= 1) | (df.EventType.isin(['Video.Stop', 'Video.Pause'])) | \\\n",
    "                (df.SpeedUpTime > 3600)\n",
    "    df['SpeedUpTime'] = np.where(conditions, 0, df.SpeedUpTime)\n",
    "    return df.groupby('VideoID').SpeedUpTime.sum().values\n",
    "\n",
    "def avg_time_speeding_up(user_events):\n",
    "    return compute_time_speeding_up(user_events).mean()\n",
    "\n",
    "def std_time_speeding_up(user_events):\n",
    "    return compute_time_speeding_up(user_events).std()\n",
    "\n",
    "print(\"Time speeding up\")\n",
    "print(\"Average\",avg_time_speeding_up(user_events))\n",
    "print(\"SG\",std_time_speeding_up(user_events))"
   ]
  },
  {
   "cell_type": "code",
   "execution_count": 38,
   "metadata": {
    "ExecuteTime": {
     "end_time": "2020-11-13T18:04:35.116424Z",
     "start_time": "2020-11-13T17:58:46.579615Z"
    }
   },
   "outputs": [],
   "source": [
    "video_info = getVideoEventsInfo()"
   ]
  },
  {
   "cell_type": "code",
   "execution_count": 44,
   "metadata": {
    "ExecuteTime": {
     "end_time": "2020-11-13T18:16:42.160150Z",
     "start_time": "2020-11-13T18:12:30.895006Z"
    }
   },
   "outputs": [
    {
     "ename": "MergeError",
     "evalue": "No common columns to perform merge on. Merge options: left_on=None, right_on=None, left_index=False, right_index=False",
     "output_type": "error",
     "traceback": [
      "\u001b[0;31m---------------------------------------------------------------------------\u001b[0m",
      "\u001b[0;31mMergeError\u001b[0m                                Traceback (most recent call last)",
      "\u001b[0;32m<ipython-input-44-6171cf4e647e>\u001b[0m in \u001b[0;36m<module>\u001b[0;34m\u001b[0m\n\u001b[0;32m----> 1\u001b[0;31m \u001b[0mproblem_info\u001b[0m \u001b[0;34m=\u001b[0m \u001b[0mgetProblemEventsInfo\u001b[0m\u001b[0;34m(\u001b[0m\u001b[0;34m)\u001b[0m\u001b[0;34m\u001b[0m\u001b[0;34m\u001b[0m\u001b[0m\n\u001b[0m",
      "\u001b[0;32m/Volumes/D-VET/Projects/FlippedClassroom/helpers/db_query.py\u001b[0m in \u001b[0;36mgetProblemEventsInfo\u001b[0;34m()\u001b[0m\n\u001b[1;32m    128\u001b[0m     \u001b[0mchapters\u001b[0m \u001b[0;34m=\u001b[0m \u001b[0mgetProblemChapters\u001b[0m\u001b[0;34m(\u001b[0m\u001b[0;34m)\u001b[0m\u001b[0;34m[\u001b[0m\u001b[0;34m[\u001b[0m\u001b[0;34m'ProblemID'\u001b[0m\u001b[0;34m,\u001b[0m \u001b[0;34m'Subchapter'\u001b[0m\u001b[0;34m]\u001b[0m\u001b[0;34m]\u001b[0m \u001b[0;31m#Video chapters\u001b[0m\u001b[0;34m\u001b[0m\u001b[0;34m\u001b[0m\u001b[0m\n\u001b[1;32m    129\u001b[0m \u001b[0;34m\u001b[0m\u001b[0m\n\u001b[0;32m--> 130\u001b[0;31m     \u001b[0mevents_df\u001b[0m \u001b[0;34m=\u001b[0m \u001b[0mevents_df\u001b[0m\u001b[0;34m.\u001b[0m\u001b[0mmerge\u001b[0m\u001b[0;34m(\u001b[0m\u001b[0muser_df\u001b[0m\u001b[0;34m)\u001b[0m\u001b[0;34m.\u001b[0m\u001b[0mmerge\u001b[0m\u001b[0;34m(\u001b[0m\u001b[0mchapters\u001b[0m\u001b[0;34m)\u001b[0m\u001b[0;34m\u001b[0m\u001b[0;34m\u001b[0m\u001b[0m\n\u001b[0m\u001b[1;32m    131\u001b[0m     \u001b[0mevents_df\u001b[0m\u001b[0;34m.\u001b[0m\u001b[0mdrop\u001b[0m\u001b[0;34m(\u001b[0m\u001b[0mcolumns\u001b[0m\u001b[0;34m=\u001b[0m\u001b[0;34m[\u001b[0m\u001b[0;34m\"SCIPER\"\u001b[0m\u001b[0;34m]\u001b[0m\u001b[0;34m,\u001b[0m \u001b[0minplace\u001b[0m\u001b[0;34m=\u001b[0m\u001b[0;32mTrue\u001b[0m\u001b[0;34m)\u001b[0m\u001b[0;34m\u001b[0m\u001b[0;34m\u001b[0m\u001b[0m\n\u001b[1;32m    132\u001b[0m     \u001b[0;32mreturn\u001b[0m \u001b[0mevents_df\u001b[0m\u001b[0;34m\u001b[0m\u001b[0;34m\u001b[0m\u001b[0m\n",
      "\u001b[0;32m/Applications/anaconda3/lib/python3.7/site-packages/pandas/core/frame.py\u001b[0m in \u001b[0;36mmerge\u001b[0;34m(self, right, how, on, left_on, right_on, left_index, right_index, sort, suffixes, copy, indicator, validate)\u001b[0m\n\u001b[1;32m   7957\u001b[0m             \u001b[0mcopy\u001b[0m\u001b[0;34m=\u001b[0m\u001b[0mcopy\u001b[0m\u001b[0;34m,\u001b[0m\u001b[0;34m\u001b[0m\u001b[0;34m\u001b[0m\u001b[0m\n\u001b[1;32m   7958\u001b[0m             \u001b[0mindicator\u001b[0m\u001b[0;34m=\u001b[0m\u001b[0mindicator\u001b[0m\u001b[0;34m,\u001b[0m\u001b[0;34m\u001b[0m\u001b[0;34m\u001b[0m\u001b[0m\n\u001b[0;32m-> 7959\u001b[0;31m             \u001b[0mvalidate\u001b[0m\u001b[0;34m=\u001b[0m\u001b[0mvalidate\u001b[0m\u001b[0;34m,\u001b[0m\u001b[0;34m\u001b[0m\u001b[0;34m\u001b[0m\u001b[0m\n\u001b[0m\u001b[1;32m   7960\u001b[0m         )\n\u001b[1;32m   7961\u001b[0m \u001b[0;34m\u001b[0m\u001b[0m\n",
      "\u001b[0;32m/Applications/anaconda3/lib/python3.7/site-packages/pandas/core/reshape/merge.py\u001b[0m in \u001b[0;36mmerge\u001b[0;34m(left, right, how, on, left_on, right_on, left_index, right_index, sort, suffixes, copy, indicator, validate)\u001b[0m\n\u001b[1;32m     85\u001b[0m         \u001b[0mcopy\u001b[0m\u001b[0;34m=\u001b[0m\u001b[0mcopy\u001b[0m\u001b[0;34m,\u001b[0m\u001b[0;34m\u001b[0m\u001b[0;34m\u001b[0m\u001b[0m\n\u001b[1;32m     86\u001b[0m         \u001b[0mindicator\u001b[0m\u001b[0;34m=\u001b[0m\u001b[0mindicator\u001b[0m\u001b[0;34m,\u001b[0m\u001b[0;34m\u001b[0m\u001b[0;34m\u001b[0m\u001b[0m\n\u001b[0;32m---> 87\u001b[0;31m         \u001b[0mvalidate\u001b[0m\u001b[0;34m=\u001b[0m\u001b[0mvalidate\u001b[0m\u001b[0;34m,\u001b[0m\u001b[0;34m\u001b[0m\u001b[0;34m\u001b[0m\u001b[0m\n\u001b[0m\u001b[1;32m     88\u001b[0m     )\n\u001b[1;32m     89\u001b[0m     \u001b[0;32mreturn\u001b[0m \u001b[0mop\u001b[0m\u001b[0;34m.\u001b[0m\u001b[0mget_result\u001b[0m\u001b[0;34m(\u001b[0m\u001b[0;34m)\u001b[0m\u001b[0;34m\u001b[0m\u001b[0;34m\u001b[0m\u001b[0m\n",
      "\u001b[0;32m/Applications/anaconda3/lib/python3.7/site-packages/pandas/core/reshape/merge.py\u001b[0m in \u001b[0;36m__init__\u001b[0;34m(self, left, right, how, on, left_on, right_on, axis, left_index, right_index, sort, suffixes, copy, indicator, validate)\u001b[0m\n\u001b[1;32m    643\u001b[0m             \u001b[0mwarnings\u001b[0m\u001b[0;34m.\u001b[0m\u001b[0mwarn\u001b[0m\u001b[0;34m(\u001b[0m\u001b[0mmsg\u001b[0m\u001b[0;34m,\u001b[0m \u001b[0mUserWarning\u001b[0m\u001b[0;34m)\u001b[0m\u001b[0;34m\u001b[0m\u001b[0;34m\u001b[0m\u001b[0m\n\u001b[1;32m    644\u001b[0m \u001b[0;34m\u001b[0m\u001b[0m\n\u001b[0;32m--> 645\u001b[0;31m         \u001b[0mself\u001b[0m\u001b[0;34m.\u001b[0m\u001b[0m_validate_specification\u001b[0m\u001b[0;34m(\u001b[0m\u001b[0;34m)\u001b[0m\u001b[0;34m\u001b[0m\u001b[0;34m\u001b[0m\u001b[0m\n\u001b[0m\u001b[1;32m    646\u001b[0m \u001b[0;34m\u001b[0m\u001b[0m\n\u001b[1;32m    647\u001b[0m         \u001b[0;31m# note this function has side effects\u001b[0m\u001b[0;34m\u001b[0m\u001b[0;34m\u001b[0m\u001b[0;34m\u001b[0m\u001b[0m\n",
      "\u001b[0;32m/Applications/anaconda3/lib/python3.7/site-packages/pandas/core/reshape/merge.py\u001b[0m in \u001b[0;36m_validate_specification\u001b[0;34m(self)\u001b[0m\n\u001b[1;32m   1213\u001b[0m                 \u001b[0;32mif\u001b[0m \u001b[0mlen\u001b[0m\u001b[0;34m(\u001b[0m\u001b[0mcommon_cols\u001b[0m\u001b[0;34m)\u001b[0m \u001b[0;34m==\u001b[0m \u001b[0;36m0\u001b[0m\u001b[0;34m:\u001b[0m\u001b[0;34m\u001b[0m\u001b[0;34m\u001b[0m\u001b[0m\n\u001b[1;32m   1214\u001b[0m                     raise MergeError(\n\u001b[0;32m-> 1215\u001b[0;31m                         \u001b[0;34m\"No common columns to perform merge on. \"\u001b[0m\u001b[0;34m\u001b[0m\u001b[0;34m\u001b[0m\u001b[0m\n\u001b[0m\u001b[1;32m   1216\u001b[0m                         \u001b[0;34mf\"Merge options: left_on={self.left_on}, \"\u001b[0m\u001b[0;34m\u001b[0m\u001b[0;34m\u001b[0m\u001b[0m\n\u001b[1;32m   1217\u001b[0m                         \u001b[0;34mf\"right_on={self.right_on}, \"\u001b[0m\u001b[0;34m\u001b[0m\u001b[0;34m\u001b[0m\u001b[0m\n",
      "\u001b[0;31mMergeError\u001b[0m: No common columns to perform merge on. Merge options: left_on=None, right_on=None, left_index=False, right_index=False"
     ]
    }
   ],
   "source": [
    "problem_info = getProblemEventsInfo()"
   ]
  },
  {
   "cell_type": "code",
   "execution_count": null,
   "metadata": {
    "ExecuteTime": {
     "end_time": "2020-11-13T18:16:42.213677Z",
     "start_time": "2020-11-13T18:12:31.711Z"
    }
   },
   "outputs": [],
   "source": [
    "problem_info"
   ]
  },
  {
   "cell_type": "code",
   "execution_count": null,
   "metadata": {},
   "outputs": [],
   "source": []
  }
 ],
 "metadata": {
  "kernelspec": {
   "display_name": "Python 3",
   "language": "python",
   "name": "python3"
  },
  "language_info": {
   "codemirror_mode": {
    "name": "ipython",
    "version": 3
   },
   "file_extension": ".py",
   "mimetype": "text/x-python",
   "name": "python",
   "nbconvert_exporter": "python",
   "pygments_lexer": "ipython3",
   "version": "3.7.1"
  },
  "toc": {
   "base_numbering": 1,
   "nav_menu": {},
   "number_sections": true,
   "sideBar": true,
   "skip_h1_title": false,
   "title_cell": "Table of Contents",
   "title_sidebar": "Contents",
   "toc_cell": false,
   "toc_position": {
    "height": "calc(100% - 180px)",
    "left": "10px",
    "top": "150px",
    "width": "512px"
   },
   "toc_section_display": true,
   "toc_window_display": true
  }
 },
 "nbformat": 4,
 "nbformat_minor": 4
}
