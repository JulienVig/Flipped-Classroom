{
 "cells": [
  {
   "cell_type": "code",
   "execution_count": 24,
   "metadata": {
    "ExecuteTime": {
     "end_time": "2020-10-20T15:47:49.727294Z",
     "start_time": "2020-10-20T15:47:49.665230Z"
    }
   },
   "outputs": [],
   "source": [
    "from datetime import datetime, timedelta\n",
    "import seaborn as sns\n",
    "import pandas as pd\n",
    "import numpy as np\n",
    "import time\n",
    "import sys\n",
    "import os"
   ]
  },
  {
   "cell_type": "code",
   "execution_count": 2,
   "metadata": {
    "ExecuteTime": {
     "end_time": "2020-10-20T15:34:02.839508Z",
     "start_time": "2020-10-20T15:34:02.831005Z"
    }
   },
   "outputs": [],
   "source": [
    "sys.path.append(os.path.abspath(os.path.join('..')))"
   ]
  },
  {
   "cell_type": "code",
   "execution_count": 18,
   "metadata": {
    "ExecuteTime": {
     "end_time": "2020-10-20T15:45:00.189285Z",
     "start_time": "2020-10-20T15:45:00.124544Z"
    }
   },
   "outputs": [],
   "source": [
    "%load_ext autoreload\n",
    "%autoreload 2\n",
    "\n",
    "from helpers.data_process import *\n",
    "from helpers.plotting import *\n",
    "from helpers.db_query import *\n",
    "from helpers.feature_extraction import *"
   ]
  },
  {
   "cell_type": "markdown",
   "metadata": {},
   "source": [
    "# Data processing"
   ]
  },
  {
   "cell_type": "code",
   "execution_count": 4,
   "metadata": {
    "ExecuteTime": {
     "end_time": "2020-10-20T15:34:34.039083Z",
     "start_time": "2020-10-20T15:34:19.569371Z"
    }
   },
   "outputs": [
    {
     "name": "stdout",
     "output_type": "stream",
     "text": [
      "CPU times: user 9.76 s, sys: 878 ms, total: 10.6 s\n",
      "Wall time: 14.5 s\n"
     ]
    }
   ],
   "source": [
    "%time video_events = getVideoEvents(isa_only=True)"
   ]
  },
  {
   "cell_type": "code",
   "execution_count": 5,
   "metadata": {
    "ExecuteTime": {
     "end_time": "2020-10-20T15:34:55.056794Z",
     "start_time": "2020-10-20T15:34:37.265735Z"
    }
   },
   "outputs": [
    {
     "name": "stdout",
     "output_type": "stream",
     "text": [
      "CPU times: user 17.2 s, sys: 172 ms, total: 17.4 s\n",
      "Wall time: 17.8 s\n"
     ]
    }
   ],
   "source": [
    "%time video_events = delRepentants(video_events)"
   ]
  },
  {
   "cell_type": "code",
   "execution_count": 6,
   "metadata": {
    "ExecuteTime": {
     "end_time": "2020-10-20T15:34:56.829829Z",
     "start_time": "2020-10-20T15:34:55.060357Z"
    }
   },
   "outputs": [
    {
     "name": "stdout",
     "output_type": "stream",
     "text": [
      "CPU times: user 2.02 s, sys: 104 ms, total: 2.12 s\n",
      "Wall time: 1.76 s\n"
     ]
    }
   ],
   "source": [
    "%time video_events = delLessActive(video_events)"
   ]
  },
  {
   "cell_type": "code",
   "execution_count": 9,
   "metadata": {
    "ExecuteTime": {
     "end_time": "2020-10-20T15:35:38.831251Z",
     "start_time": "2020-10-20T15:35:38.803162Z"
    }
   },
   "outputs": [
    {
     "name": "stdout",
     "output_type": "stream",
     "text": [
      "350093\n"
     ]
    },
    {
     "data": {
      "text/html": [
       "<div>\n",
       "<style scoped>\n",
       "    .dataframe tbody tr th:only-of-type {\n",
       "        vertical-align: middle;\n",
       "    }\n",
       "\n",
       "    .dataframe tbody tr th {\n",
       "        vertical-align: top;\n",
       "    }\n",
       "\n",
       "    .dataframe thead th {\n",
       "        text-align: right;\n",
       "    }\n",
       "</style>\n",
       "<table border=\"1\" class=\"dataframe\">\n",
       "  <thead>\n",
       "    <tr style=\"text-align: right;\">\n",
       "      <th></th>\n",
       "      <th>AccountUserID</th>\n",
       "      <th>Count</th>\n",
       "      <th>DataPackageID</th>\n",
       "      <th>VideoID</th>\n",
       "      <th>TimeStamp</th>\n",
       "      <th>EventType</th>\n",
       "      <th>Year</th>\n",
       "    </tr>\n",
       "  </thead>\n",
       "  <tbody>\n",
       "    <tr>\n",
       "      <th>0</th>\n",
       "      <td>10094</td>\n",
       "      <td>98</td>\n",
       "      <td>EPFL-AlgebreLineaire-2017_T3</td>\n",
       "      <td>bd22143ef4524edfb0dbab0fbb275ca7</td>\n",
       "      <td>1513259282</td>\n",
       "      <td>Video.Play</td>\n",
       "      <td>2017</td>\n",
       "    </tr>\n",
       "    <tr>\n",
       "      <th>1</th>\n",
       "      <td>10094</td>\n",
       "      <td>98</td>\n",
       "      <td>EPFL-AlgebreLineaire-2017_T3</td>\n",
       "      <td>6f7c4414324047a4b9d12a1d87d5875e</td>\n",
       "      <td>1510064721</td>\n",
       "      <td>Video.Load</td>\n",
       "      <td>2017</td>\n",
       "    </tr>\n",
       "    <tr>\n",
       "      <th>2</th>\n",
       "      <td>10094</td>\n",
       "      <td>98</td>\n",
       "      <td>EPFL-AlgebreLineaire-2017_T3</td>\n",
       "      <td>97b12bced6d649a2bca7465b246a1b0f</td>\n",
       "      <td>1513088547</td>\n",
       "      <td>Video.Pause</td>\n",
       "      <td>2017</td>\n",
       "    </tr>\n",
       "    <tr>\n",
       "      <th>3</th>\n",
       "      <td>10094</td>\n",
       "      <td>98</td>\n",
       "      <td>EPFL-AlgebreLineaire-2017_T3</td>\n",
       "      <td>73f3f756e43047c0b161c9ea29fb08a2</td>\n",
       "      <td>1508761566</td>\n",
       "      <td>Video.Seek</td>\n",
       "      <td>2017</td>\n",
       "    </tr>\n",
       "    <tr>\n",
       "      <th>4</th>\n",
       "      <td>10094</td>\n",
       "      <td>98</td>\n",
       "      <td>EPFL-AlgebreLineaire-2017_T3</td>\n",
       "      <td>227d5967cb02415ca694728f475146e0</td>\n",
       "      <td>1510148759</td>\n",
       "      <td>Video.Play</td>\n",
       "      <td>2017</td>\n",
       "    </tr>\n",
       "  </tbody>\n",
       "</table>\n",
       "</div>"
      ],
      "text/plain": [
       "  AccountUserID  Count                 DataPackageID  \\\n",
       "0         10094     98  EPFL-AlgebreLineaire-2017_T3   \n",
       "1         10094     98  EPFL-AlgebreLineaire-2017_T3   \n",
       "2         10094     98  EPFL-AlgebreLineaire-2017_T3   \n",
       "3         10094     98  EPFL-AlgebreLineaire-2017_T3   \n",
       "4         10094     98  EPFL-AlgebreLineaire-2017_T3   \n",
       "\n",
       "                            VideoID   TimeStamp    EventType  Year  \n",
       "0  bd22143ef4524edfb0dbab0fbb275ca7  1513259282   Video.Play  2017  \n",
       "1  6f7c4414324047a4b9d12a1d87d5875e  1510064721   Video.Load  2017  \n",
       "2  97b12bced6d649a2bca7465b246a1b0f  1513088547  Video.Pause  2017  \n",
       "3  73f3f756e43047c0b161c9ea29fb08a2  1508761566   Video.Seek  2017  \n",
       "4  227d5967cb02415ca694728f475146e0  1510148759   Video.Play  2017  "
      ]
     },
     "execution_count": 9,
     "metadata": {},
     "output_type": "execute_result"
    }
   ],
   "source": [
    "print(len(video_events))\n",
    "video_events.head()"
   ]
  },
  {
   "cell_type": "code",
   "execution_count": 8,
   "metadata": {
    "ExecuteTime": {
     "end_time": "2020-10-20T15:35:14.034807Z",
     "start_time": "2020-10-20T15:35:07.103123Z"
    }
   },
   "outputs": [
    {
     "name": "stdout",
     "output_type": "stream",
     "text": [
      "CPU times: user 4.61 s, sys: 386 ms, total: 5 s\n",
      "Wall time: 6.93 s\n"
     ]
    }
   ],
   "source": [
    "%time problem_events = getProblemEvents(isa_only=True)"
   ]
  },
  {
   "cell_type": "code",
   "execution_count": 10,
   "metadata": {
    "ExecuteTime": {
     "end_time": "2020-10-20T15:35:57.504403Z",
     "start_time": "2020-10-20T15:35:57.480166Z"
    }
   },
   "outputs": [
    {
     "data": {
      "text/html": [
       "<div>\n",
       "<style scoped>\n",
       "    .dataframe tbody tr th:only-of-type {\n",
       "        vertical-align: middle;\n",
       "    }\n",
       "\n",
       "    .dataframe tbody tr th {\n",
       "        vertical-align: top;\n",
       "    }\n",
       "\n",
       "    .dataframe thead th {\n",
       "        text-align: right;\n",
       "    }\n",
       "</style>\n",
       "<table border=\"1\" class=\"dataframe\">\n",
       "  <thead>\n",
       "    <tr style=\"text-align: right;\">\n",
       "      <th></th>\n",
       "      <th>AccountUserID</th>\n",
       "      <th>DataPackageID</th>\n",
       "      <th>ProblemID</th>\n",
       "      <th>TimeStamp</th>\n",
       "      <th>EventType</th>\n",
       "      <th>ProblemType</th>\n",
       "      <th>Year</th>\n",
       "    </tr>\n",
       "  </thead>\n",
       "  <tbody>\n",
       "    <tr>\n",
       "      <th>0</th>\n",
       "      <td>46461</td>\n",
       "      <td>EPFL-AlgebreLineaire-2018</td>\n",
       "      <td>44c46d58e2eb440b9308893be55aae3c</td>\n",
       "      <td>1543677480</td>\n",
       "      <td>Problem.Check</td>\n",
       "      <td>Quiz</td>\n",
       "      <td>2018</td>\n",
       "    </tr>\n",
       "    <tr>\n",
       "      <th>1</th>\n",
       "      <td>46461</td>\n",
       "      <td>EPFL-AlgebreLineaire-2018</td>\n",
       "      <td>ca64971b751847c798f5ff753e3eddfe</td>\n",
       "      <td>1547885100</td>\n",
       "      <td>Problem.Check</td>\n",
       "      <td>Quiz</td>\n",
       "      <td>2018</td>\n",
       "    </tr>\n",
       "    <tr>\n",
       "      <th>2</th>\n",
       "      <td>46461</td>\n",
       "      <td>EPFL-AlgebreLineaire-2018</td>\n",
       "      <td>b31684ee6a684d12ba0f4afc51fe0ca4</td>\n",
       "      <td>1544256079</td>\n",
       "      <td>Problem.Check</td>\n",
       "      <td>Quiz</td>\n",
       "      <td>2018</td>\n",
       "    </tr>\n",
       "    <tr>\n",
       "      <th>3</th>\n",
       "      <td>46461</td>\n",
       "      <td>EPFL-AlgebreLineaire-2018</td>\n",
       "      <td>6983ed426ef14e41900f72b155f3444e</td>\n",
       "      <td>1541263833</td>\n",
       "      <td>Problem.Check</td>\n",
       "      <td>Quiz</td>\n",
       "      <td>2018</td>\n",
       "    </tr>\n",
       "    <tr>\n",
       "      <th>4</th>\n",
       "      <td>46461</td>\n",
       "      <td>EPFL-AlgebreLineaire-2018</td>\n",
       "      <td>1d5df58214374b80974bf8776313e3fc</td>\n",
       "      <td>1540406407</td>\n",
       "      <td>Problem.Check</td>\n",
       "      <td>Quiz</td>\n",
       "      <td>2018</td>\n",
       "    </tr>\n",
       "  </tbody>\n",
       "</table>\n",
       "</div>"
      ],
      "text/plain": [
       "  AccountUserID              DataPackageID                         ProblemID  \\\n",
       "0         46461  EPFL-AlgebreLineaire-2018  44c46d58e2eb440b9308893be55aae3c   \n",
       "1         46461  EPFL-AlgebreLineaire-2018  ca64971b751847c798f5ff753e3eddfe   \n",
       "2         46461  EPFL-AlgebreLineaire-2018  b31684ee6a684d12ba0f4afc51fe0ca4   \n",
       "3         46461  EPFL-AlgebreLineaire-2018  6983ed426ef14e41900f72b155f3444e   \n",
       "4         46461  EPFL-AlgebreLineaire-2018  1d5df58214374b80974bf8776313e3fc   \n",
       "\n",
       "    TimeStamp      EventType ProblemType  Year  \n",
       "0  1543677480  Problem.Check        Quiz  2018  \n",
       "1  1547885100  Problem.Check        Quiz  2018  \n",
       "2  1544256079  Problem.Check        Quiz  2018  \n",
       "3  1541263833  Problem.Check        Quiz  2018  \n",
       "4  1540406407  Problem.Check        Quiz  2018  "
      ]
     },
     "execution_count": 10,
     "metadata": {},
     "output_type": "execute_result"
    }
   ],
   "source": [
    "problem_events.head()"
   ]
  },
  {
   "cell_type": "markdown",
   "metadata": {},
   "source": [
    "# Weekly feature engineering\n",
    "| Measure | Meaning | Description | Source | \n",
    "| --- | --- | --- | --- |\n",
    "| PDH | Peak on day hour | Identifies if a student's activities are centred around a particular hour of the day | [1] |\n",
    "| PWD | Peak on week day | Identifies if a student's activities are centred around a particular day of the week | [1] |\n",
    "| WS1 | Weekly Similarities in daily activity | Identifies if student works on same weekdays | [1] | \n",
    "| WS2 | Weekly Similarities in daily activity | Identifies if there is a similar distribution of workload among weekdays | [1] | \n",
    "| WS3 | Weekly Similarities in daily activity | Identifies if there is a similar time repartition of workload among weekdays | [1] | \n",
    "| FDH | Hourly Pattern over days | Identifies if hourly pattern is repeating over days | [1] | \n",
    "| FWH | Hourly Pattern over weeks | Identifies if hourly pattern is repeating over weeks| [1] | \n",
    "| FWD | Daily Pattern over Weeks | Identifies if daily pattern is repeating over weeks | [1] |\n",
    "| NQZ | Number of quiz |Counts the total number of quiz completed by a student over the semester | - |\n",
    "| PQZ | Percentage of quiz | Counts the percentage of quiz completed by a student over the flipped period| - |"
   ]
  },
  {
   "cell_type": "code",
   "execution_count": 13,
   "metadata": {
    "ExecuteTime": {
     "end_time": "2020-10-20T15:40:42.771400Z",
     "start_time": "2020-10-20T15:40:42.764784Z"
    }
   },
   "outputs": [],
   "source": [
    "def get_rand_id(X):\n",
    "    studentID =  list(X[\"AccountUserID\"].sample(1))[0]\n",
    "    print(\"Random ID: {}\".format(studentID))\n",
    "    return studentID"
   ]
  },
  {
   "cell_type": "code",
   "execution_count": 16,
   "metadata": {
    "ExecuteTime": {
     "end_time": "2020-10-20T15:40:59.184522Z",
     "start_time": "2020-10-20T15:40:59.122386Z"
    }
   },
   "outputs": [
    {
     "name": "stdout",
     "output_type": "stream",
     "text": [
      "Random ID: 43044\n"
     ]
    }
   ],
   "source": [
    "sid, T, Lw = getStudentTimeStamps(video_events, get_rand_id(video_events))"
   ]
  },
  {
   "cell_type": "code",
   "execution_count": 84,
   "metadata": {
    "ExecuteTime": {
     "end_time": "2020-10-20T16:11:33.256638Z",
     "start_time": "2020-10-20T16:11:33.209855Z"
    }
   },
   "outputs": [],
   "source": [
    "def weekly_feature(Lw, T, feature):\n",
    "    \"\"\"\n",
    "    Compute the feature over each week, delimited by start_ts and end_ts.\n",
    "    \"\"\"\n",
    "    T = np.array(T)\n",
    "    deltatime = np.array([timedelta(seconds=t) for t in T]) #Convert timestamps to timedelta for ease of use\n",
    "    weekly_values = []\n",
    "    start_ts, end_ts = timedelta(seconds=0), timedelta(weeks=1)\n",
    "    max_ts = deltatime[-1]\n",
    "    \n",
    "    while start_ts < max_ts:\n",
    "        week_idx = np.where((deltatime >= start_ts) & (deltatime <= end_ts))[0]\n",
    "        week_T = T[week_idx]\n",
    "        weekly_values.append(feature(Lw, week_T))\n",
    "        start_ts += timedelta(weeks=1)\n",
    "        end_ts += timedelta(weeks=1)\n",
    "    return weekly_values"
   ]
  },
  {
   "cell_type": "code",
   "execution_count": 94,
   "metadata": {
    "ExecuteTime": {
     "end_time": "2020-10-20T16:12:41.899711Z",
     "start_time": "2020-10-20T16:12:41.825718Z"
    }
   },
   "outputs": [
    {
     "data": {
      "text/plain": [
       "[1.414213562373095,\n",
       " 1.414213562373095,\n",
       " 0.5549581320873711,\n",
       " 1.2469796037174667,\n",
       " 0.4450418679126288,\n",
       " 0.8019377358048384,\n",
       " 1.4142135623730947,\n",
       " 1.4142135623730951,\n",
       " 1.8019377358048387]"
      ]
     },
     "execution_count": 94,
     "metadata": {},
     "output_type": "execute_result"
    }
   ],
   "source": [
    "weekly_feature(Lw, T, FWD)"
   ]
  },
  {
   "cell_type": "code",
   "execution_count": null,
   "metadata": {},
   "outputs": [],
   "source": []
  }
 ],
 "metadata": {
  "kernelspec": {
   "display_name": "Python 3",
   "language": "python",
   "name": "python3"
  },
  "language_info": {
   "codemirror_mode": {
    "name": "ipython",
    "version": 3
   },
   "file_extension": ".py",
   "mimetype": "text/x-python",
   "name": "python",
   "nbconvert_exporter": "python",
   "pygments_lexer": "ipython3",
   "version": "3.7.1"
  },
  "toc": {
   "base_numbering": 1,
   "nav_menu": {},
   "number_sections": true,
   "sideBar": true,
   "skip_h1_title": false,
   "title_cell": "Table of Contents",
   "title_sidebar": "Contents",
   "toc_cell": false,
   "toc_position": {},
   "toc_section_display": true,
   "toc_window_display": false
  }
 },
 "nbformat": 4,
 "nbformat_minor": 2
}
