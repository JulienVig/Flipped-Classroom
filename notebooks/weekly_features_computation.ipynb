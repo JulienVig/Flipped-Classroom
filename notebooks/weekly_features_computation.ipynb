{
 "cells": [
  {
   "cell_type": "code",
   "execution_count": 1,
   "metadata": {
    "ExecuteTime": {
     "end_time": "2020-10-23T10:58:48.550144Z",
     "start_time": "2020-10-23T10:58:47.258175Z"
    },
    "scrolled": true
   },
   "outputs": [
    {
     "name": "stderr",
     "output_type": "stream",
     "text": [
      "/Applications/anaconda3/lib/python3.7/site-packages/statsmodels/tools/_testing.py:19: FutureWarning: pandas.util.testing is deprecated. Use the functions in the public API at pandas.testing instead.\n",
      "  import pandas.util.testing as tm\n"
     ]
    }
   ],
   "source": [
    "from datetime import datetime, timedelta\n",
    "import seaborn as sns\n",
    "import pandas as pd\n",
    "import numpy as np\n",
    "import time\n",
    "import sys\n",
    "import os"
   ]
  },
  {
   "cell_type": "code",
   "execution_count": 2,
   "metadata": {
    "ExecuteTime": {
     "end_time": "2020-10-23T10:58:48.570696Z",
     "start_time": "2020-10-23T10:58:48.558928Z"
    }
   },
   "outputs": [],
   "source": [
    "sys.path.append(os.path.abspath(os.path.join('..')))"
   ]
  },
  {
   "cell_type": "code",
   "execution_count": 3,
   "metadata": {
    "ExecuteTime": {
     "end_time": "2020-10-23T10:58:49.179914Z",
     "start_time": "2020-10-23T10:58:48.575278Z"
    }
   },
   "outputs": [],
   "source": [
    "%load_ext autoreload\n",
    "%autoreload 2\n",
    "\n",
    "from helpers.data_process import *\n",
    "from helpers.plotting import *\n",
    "from helpers.db_query import *\n",
    "from helpers.feature_extraction import *"
   ]
  },
  {
   "cell_type": "markdown",
   "metadata": {},
   "source": [
    "# Data processing"
   ]
  },
  {
   "cell_type": "code",
   "execution_count": 4,
   "metadata": {
    "ExecuteTime": {
     "end_time": "2020-10-23T10:59:26.245195Z",
     "start_time": "2020-10-23T10:58:49.185569Z"
    }
   },
   "outputs": [
    {
     "name": "stdout",
     "output_type": "stream",
     "text": [
      "CPU times: user 29.6 s, sys: 2.3 s, total: 31.9 s\n",
      "Wall time: 37 s\n"
     ]
    }
   ],
   "source": [
    "%time video_events = getVideoEvents(isa_only=True)"
   ]
  },
  {
   "cell_type": "code",
   "execution_count": 5,
   "metadata": {
    "ExecuteTime": {
     "end_time": "2020-10-23T10:59:26.366712Z",
     "start_time": "2020-10-23T10:59:26.255761Z"
    }
   },
   "outputs": [
    {
     "name": "stdout",
     "output_type": "stream",
     "text": [
      "897942\n"
     ]
    },
    {
     "data": {
      "text/html": [
       "<div>\n",
       "<style scoped>\n",
       "    .dataframe tbody tr th:only-of-type {\n",
       "        vertical-align: middle;\n",
       "    }\n",
       "\n",
       "    .dataframe tbody tr th {\n",
       "        vertical-align: top;\n",
       "    }\n",
       "\n",
       "    .dataframe thead th {\n",
       "        text-align: right;\n",
       "    }\n",
       "</style>\n",
       "<table border=\"1\" class=\"dataframe\">\n",
       "  <thead>\n",
       "    <tr style=\"text-align: right;\">\n",
       "      <th></th>\n",
       "      <th>DataPackageID</th>\n",
       "      <th>AccountUserID</th>\n",
       "      <th>VideoID</th>\n",
       "      <th>TimeStamp</th>\n",
       "      <th>EventType</th>\n",
       "      <th>Year</th>\n",
       "    </tr>\n",
       "  </thead>\n",
       "  <tbody>\n",
       "    <tr>\n",
       "      <th>0</th>\n",
       "      <td>EPFL-AlgebreLineaire-2019</td>\n",
       "      <td>95017</td>\n",
       "      <td>ca2fa02b0daa43f295e76da61e53de2a</td>\n",
       "      <td>2019-10-06 09:55:25</td>\n",
       "      <td>Video.Play</td>\n",
       "      <td>2019</td>\n",
       "    </tr>\n",
       "    <tr>\n",
       "      <th>1</th>\n",
       "      <td>EPFL-AlgebreLineaire-2019</td>\n",
       "      <td>99055</td>\n",
       "      <td>ff000e7ca278461e86a87a39248c5e76</td>\n",
       "      <td>2019-10-16 19:36:49</td>\n",
       "      <td>Video.Play</td>\n",
       "      <td>2019</td>\n",
       "    </tr>\n",
       "    <tr>\n",
       "      <th>2</th>\n",
       "      <td>EPFL-AlgebreLineaire-2018</td>\n",
       "      <td>47274</td>\n",
       "      <td>0ad048c708e944a1899ad2b552703b58</td>\n",
       "      <td>2018-11-13 13:41:11</td>\n",
       "      <td>Video.Play</td>\n",
       "      <td>2018</td>\n",
       "    </tr>\n",
       "    <tr>\n",
       "      <th>3</th>\n",
       "      <td>EPFL-AlgebreLineaire-2018</td>\n",
       "      <td>51498</td>\n",
       "      <td>639779353a1849199d151d3caaca5004</td>\n",
       "      <td>2018-12-05 16:43:39</td>\n",
       "      <td>Video.Seek</td>\n",
       "      <td>2018</td>\n",
       "    </tr>\n",
       "    <tr>\n",
       "      <th>4</th>\n",
       "      <td>EPFL-AlgebreLineaire-2019</td>\n",
       "      <td>95017</td>\n",
       "      <td>ab810821cd8943ea8a0173e900af8417</td>\n",
       "      <td>2019-09-21 16:27:10</td>\n",
       "      <td>Video.Pause</td>\n",
       "      <td>2019</td>\n",
       "    </tr>\n",
       "  </tbody>\n",
       "</table>\n",
       "</div>"
      ],
      "text/plain": [
       "               DataPackageID AccountUserID                           VideoID  \\\n",
       "0  EPFL-AlgebreLineaire-2019         95017  ca2fa02b0daa43f295e76da61e53de2a   \n",
       "1  EPFL-AlgebreLineaire-2019         99055  ff000e7ca278461e86a87a39248c5e76   \n",
       "2  EPFL-AlgebreLineaire-2018         47274  0ad048c708e944a1899ad2b552703b58   \n",
       "3  EPFL-AlgebreLineaire-2018         51498  639779353a1849199d151d3caaca5004   \n",
       "4  EPFL-AlgebreLineaire-2019         95017  ab810821cd8943ea8a0173e900af8417   \n",
       "\n",
       "            TimeStamp    EventType  Year  \n",
       "0 2019-10-06 09:55:25   Video.Play  2019  \n",
       "1 2019-10-16 19:36:49   Video.Play  2019  \n",
       "2 2018-11-13 13:41:11   Video.Play  2018  \n",
       "3 2018-12-05 16:43:39   Video.Seek  2018  \n",
       "4 2019-09-21 16:27:10  Video.Pause  2019  "
      ]
     },
     "execution_count": 5,
     "metadata": {},
     "output_type": "execute_result"
    }
   ],
   "source": [
    "print(len(video_events))\n",
    "video_events.head()"
   ]
  },
  {
   "cell_type": "code",
   "execution_count": 6,
   "metadata": {
    "ExecuteTime": {
     "end_time": "2020-10-23T10:59:42.219509Z",
     "start_time": "2020-10-23T10:59:26.373402Z"
    }
   },
   "outputs": [
    {
     "name": "stdout",
     "output_type": "stream",
     "text": [
      "CPU times: user 13.4 s, sys: 932 ms, total: 14.4 s\n",
      "Wall time: 15.5 s\n"
     ]
    }
   ],
   "source": [
    "%time problem_events = getProblemEvents(isa_only=True)"
   ]
  },
  {
   "cell_type": "code",
   "execution_count": 7,
   "metadata": {
    "ExecuteTime": {
     "end_time": "2020-10-23T10:59:42.291851Z",
     "start_time": "2020-10-23T10:59:42.226547Z"
    }
   },
   "outputs": [
    {
     "name": "stdout",
     "output_type": "stream",
     "text": [
      "440695\n"
     ]
    },
    {
     "data": {
      "text/html": [
       "<div>\n",
       "<style scoped>\n",
       "    .dataframe tbody tr th:only-of-type {\n",
       "        vertical-align: middle;\n",
       "    }\n",
       "\n",
       "    .dataframe tbody tr th {\n",
       "        vertical-align: top;\n",
       "    }\n",
       "\n",
       "    .dataframe thead th {\n",
       "        text-align: right;\n",
       "    }\n",
       "</style>\n",
       "<table border=\"1\" class=\"dataframe\">\n",
       "  <thead>\n",
       "    <tr style=\"text-align: right;\">\n",
       "      <th></th>\n",
       "      <th>DataPackageID</th>\n",
       "      <th>AccountUserID</th>\n",
       "      <th>ProblemID</th>\n",
       "      <th>TimeStamp</th>\n",
       "      <th>EventType</th>\n",
       "    </tr>\n",
       "  </thead>\n",
       "  <tbody>\n",
       "    <tr>\n",
       "      <th>0</th>\n",
       "      <td>EPFL-AlgebreLineaire-2018</td>\n",
       "      <td>46461</td>\n",
       "      <td>44c46d58e2eb440b9308893be55aae3c</td>\n",
       "      <td>2018-12-01 15:18:00</td>\n",
       "      <td>Problem.Check</td>\n",
       "    </tr>\n",
       "    <tr>\n",
       "      <th>1</th>\n",
       "      <td>EPFL-AlgebreLineaire-2019</td>\n",
       "      <td>96442</td>\n",
       "      <td>eee03e5d86f04216a006f2995a6251cf</td>\n",
       "      <td>2019-12-05 19:28:36</td>\n",
       "      <td>Problem.Graded</td>\n",
       "    </tr>\n",
       "    <tr>\n",
       "      <th>2</th>\n",
       "      <td>EPFL-AlgebreLineaire-2018</td>\n",
       "      <td>11951</td>\n",
       "      <td>9066a9a110cc41fda2ac2ef9fb4fcd57</td>\n",
       "      <td>2018-10-28 14:01:30</td>\n",
       "      <td>Problem.Graded</td>\n",
       "    </tr>\n",
       "    <tr>\n",
       "      <th>3</th>\n",
       "      <td>EPFL-AlgebreLineaire-2019</td>\n",
       "      <td>91007</td>\n",
       "      <td>2ae6c4de2fbd4d5c8267795a5d572b6e</td>\n",
       "      <td>2019-09-22 09:32:37</td>\n",
       "      <td>Problem.Check</td>\n",
       "    </tr>\n",
       "    <tr>\n",
       "      <th>4</th>\n",
       "      <td>EPFL-AlgebreLineaire-2018</td>\n",
       "      <td>47544</td>\n",
       "      <td>156c7a9ac95047f59e1f524a2f3bd074</td>\n",
       "      <td>2018-10-09 10:45:29</td>\n",
       "      <td>Problem.Show</td>\n",
       "    </tr>\n",
       "  </tbody>\n",
       "</table>\n",
       "</div>"
      ],
      "text/plain": [
       "               DataPackageID AccountUserID                         ProblemID  \\\n",
       "0  EPFL-AlgebreLineaire-2018         46461  44c46d58e2eb440b9308893be55aae3c   \n",
       "1  EPFL-AlgebreLineaire-2019         96442  eee03e5d86f04216a006f2995a6251cf   \n",
       "2  EPFL-AlgebreLineaire-2018         11951  9066a9a110cc41fda2ac2ef9fb4fcd57   \n",
       "3  EPFL-AlgebreLineaire-2019         91007  2ae6c4de2fbd4d5c8267795a5d572b6e   \n",
       "4  EPFL-AlgebreLineaire-2018         47544  156c7a9ac95047f59e1f524a2f3bd074   \n",
       "\n",
       "            TimeStamp       EventType  \n",
       "0 2018-12-01 15:18:00   Problem.Check  \n",
       "1 2019-12-05 19:28:36  Problem.Graded  \n",
       "2 2018-10-28 14:01:30  Problem.Graded  \n",
       "3 2019-09-22 09:32:37   Problem.Check  \n",
       "4 2018-10-09 10:45:29    Problem.Show  "
      ]
     },
     "execution_count": 7,
     "metadata": {},
     "output_type": "execute_result"
    }
   ],
   "source": [
    "print(len(problem_events))\n",
    "problem_events.head()"
   ]
  },
  {
   "cell_type": "markdown",
   "metadata": {},
   "source": [
    "# Weekly feature engineering\n",
    "| Measure | Meaning | Description | Source | \n",
    "| --- | --- | --- | --- |\n",
    "| PDH | Peak on day hour | Identifies if a student's activities are centred around a particular hour of the day | [1] |\n",
    "| PWD | Peak on week day | Identifies if a student's activities are centred around a particular day of the week | [1] |\n",
    "| WS1 | Weekly Similarities in daily activity | Identifies if student works on same weekdays | [1] | \n",
    "| WS2 | Weekly Similarities in daily activity | Identifies if there is a similar distribution of workload among weekdays | [1] | \n",
    "| WS3 | Weekly Similarities in daily activity | Identifies if there is a similar time repartition of workload among weekdays | [1] | \n",
    "| FDH | Hourly Pattern over days | Identifies if hourly pattern is repeating over days | [1] | \n",
    "| FWH | Hourly Pattern over weeks | Identifies if hourly pattern is repeating over weeks| [1] | \n",
    "| FWD | Daily Pattern over Weeks | Identifies if daily pattern is repeating over weeks | [1] |\n",
    "| NQZ | Number of quiz |Counts the total number of quiz completed by a student over the semester | - |\n",
    "| PQZ | Percentage of quiz | Counts the percentage of quiz completed by a student over the flipped period| - |"
   ]
  },
  {
   "cell_type": "code",
   "execution_count": 8,
   "metadata": {
    "ExecuteTime": {
     "end_time": "2020-10-23T10:59:42.857548Z",
     "start_time": "2020-10-23T10:59:42.296010Z"
    }
   },
   "outputs": [
    {
     "data": {
      "text/plain": [
       "[0.0, 0.4450418679126289, 0.0, 0.0, 0.44504186791262856]"
      ]
     },
     "execution_count": 8,
     "metadata": {},
     "output_type": "execute_result"
    }
   ],
   "source": [
    "def weekly_feature(df, feature, id=0):\n",
    "    \"\"\"\n",
    "    Compute the feature over each week, delimited by start_ts and end_ts.\n",
    "    \"\"\"\n",
    "    sid, T, Lw = getStudentTimeStamps(df, id=id)\n",
    "    T = np.array(T)\n",
    "    deltatime = np.array([timedelta(seconds=t) for t in T]) #Convert timestamps to timedelta for ease of use\n",
    "    weekly_values = []\n",
    "    start_ts, end_ts = timedelta(seconds=0), timedelta(weeks=1)\n",
    "    max_ts = deltatime[-1]\n",
    "    \n",
    "    for week in range(Lw):\n",
    "        start_ts = timedelta(weeks = week)\n",
    "        end_ts = timedelta(weeks = week + 1)\n",
    "        week_idx = np.where((deltatime >= start_ts) & (deltatime <= end_ts))[0]\n",
    "        week_T = T[week_idx]\n",
    "        weekly_values.append(feature(Lw, week_T))\n",
    "        \n",
    "    return weekly_values\n",
    "\n",
    "weekly_feature(video_events, FWD)"
   ]
  },
  {
   "cell_type": "code",
   "execution_count": 9,
   "metadata": {
    "ExecuteTime": {
     "end_time": "2020-10-23T10:59:42.946036Z",
     "start_time": "2020-10-23T10:59:42.863537Z"
    }
   },
   "outputs": [],
   "source": [
    "def get_rand_id(X, year=None):\n",
    "    if year:\n",
    "        studentID =  list(X.loc[X.Year == year][\"AccountUserID\"].sample(1))[0]\n",
    "    else:\n",
    "        studentID =  list(X[\"AccountUserID\"].sample(1))[0]\n",
    "    return str(studentID)\n",
    "\n",
    "def get_users(nb_user=10, year=2019):\n",
    "     return [get_rand_id(video_events, year=year) for i in range(nb_user)]"
   ]
  },
  {
   "cell_type": "code",
   "execution_count": 10,
   "metadata": {
    "ExecuteTime": {
     "end_time": "2020-10-23T10:59:43.134991Z",
     "start_time": "2020-10-23T10:59:42.966050Z"
    }
   },
   "outputs": [],
   "source": [
    "def plot_weekly_feature(df, feature, nb_user=10, year=2019, users=None):\n",
    "    users = get_users(nb_user, year) if not users else users\n",
    "    weekly_val = np.array(list(map(lambda sid: weekly_feature(df, feature, sid), users)))\n",
    "    xlabels = [\"Week \" + str(i) for i in range(weekly_val.shape[1])]\n",
    "    ylabels = [\"User \" + str(i)  for i in range(weekly_val.shape[0])]\n",
    "    sns.heatmap(weekly_val, xticklabels=xlabels, yticklabels=ylabels);"
   ]
  },
  {
   "cell_type": "code",
   "execution_count": 151,
   "metadata": {
    "ExecuteTime": {
     "end_time": "2020-10-23T09:51:14.468131Z",
     "start_time": "2020-10-23T09:50:47.889597Z"
    }
   },
   "outputs": [
    {
     "data": {
      "image/png": "[encoded data removed]",
      "text/plain": [
       "<Figure size 432x288 with 2 Axes>"
      ]
     },
     "metadata": {
      "needs_background": "light"
     },
     "output_type": "display_data"
    },
    {
     "data": {
      "image/png": "[encoded data removed]",
      "text/plain": [
       "<Figure size 432x288 with 2 Axes>"
      ]
     },
     "metadata": {
      "needs_background": "light"
     },
     "output_type": "display_data"
    },
    {
     "data": {
      "image/png": "[encoded data removed]",
      "text/plain": [
       "<Figure size 432x288 with 2 Axes>"
      ]
     },
     "metadata": {
      "needs_background": "light"
     },
     "output_type": "display_data"
    },
    {
     "data": {
      "image/png": "[encoded data removed]",
      "text/plain": [
       "<Figure size 432x288 with 2 Axes>"
      ]
     },
     "metadata": {
      "needs_background": "light"
     },
     "output_type": "display_data"
    },
    {
     "data": {
      "image/png": "[encoded data removed]",
      "text/plain": [
       "<Figure size 432x288 with 2 Axes>"
      ]
     },
     "metadata": {
      "needs_background": "light"
     },
     "output_type": "display_data"
    }
   ],
   "source": [
    "features = [PDH, PWD, FDH, FWH, FWD]\n",
    "users = get_users(10, 2019)\n",
    "\n",
    "for i, feature in enumerate(features):\n",
    "    plot_weekly_feature(video_events, feature, users=users)\n",
    "    plt.title(feature.__name__)\n",
    "    plt.show()"
   ]
  },
  {
   "cell_type": "code",
   "execution_count": null,
   "metadata": {},
   "outputs": [],
   "source": []
  }
 ],
 "metadata": {
  "kernelspec": {
   "display_name": "Python 3",
   "language": "python",
   "name": "python3"
  },
  "language_info": {
   "codemirror_mode": {
    "name": "ipython",
    "version": 3
   },
   "file_extension": ".py",
   "mimetype": "text/x-python",
   "name": "python",
   "nbconvert_exporter": "python",
   "pygments_lexer": "ipython3",
   "version": "3.7.1"
  },
  "toc": {
   "base_numbering": 1,
   "nav_menu": {},
   "number_sections": true,
   "sideBar": true,
   "skip_h1_title": false,
   "title_cell": "Table of Contents",
   "title_sidebar": "Contents",
   "toc_cell": false,
   "toc_position": {},
   "toc_section_display": true,
   "toc_window_display": false
  }
 },
 "nbformat": 4,
 "nbformat_minor": 2
}
