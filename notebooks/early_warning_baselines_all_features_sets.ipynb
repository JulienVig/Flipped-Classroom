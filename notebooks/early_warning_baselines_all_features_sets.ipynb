{
 "cells": [
  {
   "cell_type": "markdown",
   "metadata": {},
   "source": [
    "# Exploratory study on existing early warning systems"
   ]
  },
  {
   "cell_type": "markdown",
   "metadata": {},
   "source": [
    "## * Setup of the working environment *"
   ]
  },
  {
   "cell_type": "markdown",
   "metadata": {},
   "source": [
    "### Import traditional Python packages"
   ]
  },
  {
   "cell_type": "code",
   "execution_count": 10,
   "metadata": {
    "ExecuteTime": {
     "end_time": "2020-12-08T08:14:03.731248Z",
     "start_time": "2020-12-08T08:14:03.687776Z"
    }
   },
   "outputs": [],
   "source": [
    "from sklearn.metrics import accuracy_score, precision_score, recall_score, f1_score\n",
    "from datetime import datetime as dt, timedelta, date\n",
    "\n",
    "import matplotlib.pyplot as plt\n",
    "import seaborn as sns\n",
    "\n",
    "import pandas as pd\n",
    "import numpy as np\n",
    "import time\n",
    "import math\n",
    "import json\n",
    "import sys\n",
    "import os"
   ]
  },
  {
   "cell_type": "code",
   "execution_count": 11,
   "metadata": {
    "ExecuteTime": {
     "end_time": "2020-12-08T08:14:03.843401Z",
     "start_time": "2020-12-08T08:14:03.801322Z"
    }
   },
   "outputs": [],
   "source": [
    "from sklearn.ensemble import RandomForestClassifier, AdaBoostClassifier\n",
    "from sklearn.linear_model import LogisticRegression, Lasso\n",
    "from sklearn.neighbors import KNeighborsClassifier\n",
    "from sklearn.neural_network import MLPClassifier\n",
    "from sklearn.tree import DecisionTreeClassifier\n",
    "from sklearn.naive_bayes import GaussianNB\n",
    "from sklearn.svm import SVC"
   ]
  },
  {
   "cell_type": "code",
   "execution_count": 12,
   "metadata": {
    "ExecuteTime": {
     "end_time": "2020-12-08T08:14:04.342250Z",
     "start_time": "2020-12-08T08:14:04.302340Z"
    }
   },
   "outputs": [],
   "source": [
    "import warnings\n",
    "warnings.filterwarnings('ignore')"
   ]
  },
  {
   "cell_type": "markdown",
   "metadata": {},
   "source": [
    "### Import custom Python modules"
   ]
  },
  {
   "cell_type": "code",
   "execution_count": 13,
   "metadata": {
    "ExecuteTime": {
     "end_time": "2020-12-08T08:14:04.509883Z",
     "start_time": "2020-12-08T08:14:04.468464Z"
    }
   },
   "outputs": [],
   "source": [
    "sys.path.append(os.path.abspath(os.path.join('..')))"
   ]
  },
  {
   "cell_type": "code",
   "execution_count": 14,
   "metadata": {
    "ExecuteTime": {
     "end_time": "2020-12-08T08:14:04.600745Z",
     "start_time": "2020-12-08T08:14:04.552232Z"
    }
   },
   "outputs": [
    {
     "name": "stdout",
     "output_type": "stream",
     "text": [
      "The autoreload extension is already loaded. To reload it, use:\n",
      "  %reload_ext autoreload\n"
     ]
    }
   ],
   "source": [
    "%load_ext autoreload\n",
    "%autoreload 2"
   ]
  },
  {
   "cell_type": "code",
   "execution_count": 15,
   "metadata": {
    "ExecuteTime": {
     "end_time": "2020-12-08T08:14:04.703356Z",
     "start_time": "2020-12-08T08:14:04.651729Z"
    }
   },
   "outputs": [],
   "source": [
    "from helpers.db_connector import MySQLConnector\n",
    "from helpers.db_query import *\n",
    "\n",
    "from helpers.data_process import *\n",
    "from helpers.feature_extraction import *\n",
    "\n",
    "from extractors.akpinar_et_al import AkpinarEtAl\n",
    "from extractors.boroujeni_et_al import BoroujeniEtAl\n",
    "from extractors.chen_cui import ChenCui\n",
    "from extractors.he_et_al import HeEtAl\n",
    "from extractors.lalle_conati import LalleConati\n",
    "from extractors.lemay_doleck import LemayDoleck\n",
    "from extractors.mbouzao_et_al import MbouzaoEtAl\n",
    "from extractors.mubarak_et_al import MubarakEtAl\n",
    "from extractors.wan_et_al import WanEtAl\n",
    "\n",
    "from helpers.ml_utils import *\n",
    "\n",
    "from helpers.time import *"
   ]
  },
  {
   "cell_type": "markdown",
   "metadata": {},
   "source": [
    "## * Load the clickstream data *\n",
    "\n",
    "Since Fall 2017, the stream of the EPFL's Linear Algebra course has been taught in a flipped format. The implementation of the flipped classroom was carried out in an incremental manner, as described below:\n",
    "\n",
    "- **Year 2017-2018**: traditional manner (weeks 1-13) - flipped manner (week 14).\n",
    "- **Year 2018-2019**: traditional manner (weeks 1-4, 10-14) - flipped manner (weeks 5-9).\n",
    "- **Year 2019-2020**: traditional manner (weeks 1-4) - flipped manner (weeks 5-14)."
   ]
  },
  {
   "cell_type": "code",
   "execution_count": 16,
   "metadata": {
    "ExecuteTime": {
     "end_time": "2020-12-08T08:14:04.844772Z",
     "start_time": "2020-12-08T08:14:04.802870Z"
    }
   },
   "outputs": [],
   "source": [
    "rounds = ['Y2-2018-19', 'Y3-2019-20']"
   ]
  },
  {
   "cell_type": "markdown",
   "metadata": {},
   "source": [
    "### Identifying Students\n",
    "\n",
    "\n",
    "The flipped course was offered only to volunteering students. The volunteers were collectively assigned into either the experimental and the control group. A stratified random sampling based on gender and the prior background (secondary educational level) of students were used."
   ]
  },
  {
   "cell_type": "code",
   "execution_count": 17,
   "metadata": {
    "ExecuteTime": {
     "end_time": "2020-12-08T08:15:18.089479Z",
     "start_time": "2020-12-08T08:14:04.970453Z"
    }
   },
   "outputs": [
    {
     "name": "stdout",
     "output_type": "stream",
     "text": [
      "CPU times: user 54.2 s, sys: 2.17 s, total: 56.4 s\n",
      "Wall time: 1min 13s\n"
     ]
    }
   ],
   "source": [
    "%time userData = getUserInfo(prior_knowledge=True)"
   ]
  },
  {
   "cell_type": "markdown",
   "metadata": {},
   "source": [
    "The initial data of volunteers was cleaned, and some participants were removed before we analyzed the data:\n",
    "- The volunteering students who have not been graded were removed. \n",
    "- The repeating students were filtered out, where repeating students are those accessing videos in two different years. \n",
    "- The less active students, i.e., those who have provided less 60 interactions in the platform, were removed. "
   ]
  },
  {
   "cell_type": "markdown",
   "metadata": {},
   "source": [
    "Given that the Y1-2017-2018 round included only one week in a flipped classroom setting, we will remove the students of that round.  "
   ]
  },
  {
   "cell_type": "code",
   "execution_count": 18,
   "metadata": {
    "ExecuteTime": {
     "end_time": "2020-12-08T08:15:18.226952Z",
     "start_time": "2020-12-08T08:15:18.094461Z"
    }
   },
   "outputs": [],
   "source": [
    "userData = userData[userData['Round'].isin(rounds)]"
   ]
  },
  {
   "cell_type": "markdown",
   "metadata": {},
   "source": [
    "Some of the statistics on the user data are provided below. "
   ]
  },
  {
   "cell_type": "code",
   "execution_count": 19,
   "metadata": {
    "ExecuteTime": {
     "end_time": "2020-12-08T08:15:18.279231Z",
     "start_time": "2020-12-08T08:15:18.229921Z"
    },
    "scrolled": true
   },
   "outputs": [
    {
     "data": {
      "text/plain": [
       "('Number of students:', 214)"
      ]
     },
     "execution_count": 19,
     "metadata": {},
     "output_type": "execute_result"
    }
   ],
   "source": [
    "\"Number of students:\", len(userData)"
   ]
  },
  {
   "cell_type": "code",
   "execution_count": 20,
   "metadata": {
    "ExecuteTime": {
     "end_time": "2020-12-08T08:15:18.565159Z",
     "start_time": "2020-12-08T08:15:18.288279Z"
    }
   },
   "outputs": [
    {
     "data": {
      "image/png": "[encoded data removed]",
      "text/plain": [
       "<Figure size 360x360 with 1 Axes>"
      ]
     },
     "metadata": {
      "needs_background": "light"
     },
     "output_type": "display_data"
    }
   ],
   "source": [
    "sns.displot(userData, x='Round')\n",
    "plt.ylabel('Number of Students')\n",
    "plt.show()"
   ]
  },
  {
   "cell_type": "code",
   "execution_count": 21,
   "metadata": {
    "ExecuteTime": {
     "end_time": "2020-12-08T08:15:18.840342Z",
     "start_time": "2020-12-08T08:15:18.570301Z"
    }
   },
   "outputs": [
    {
     "data": {
      "image/png": "[encoded data removed]",
      "text/plain": [
       "<Figure size 360x360 with 1 Axes>"
      ]
     },
     "metadata": {
      "needs_background": "light"
     },
     "output_type": "display_data"
    }
   ],
   "source": [
    "sns.displot(userData, x='Gender')\n",
    "plt.ylabel('Number of Students')\n",
    "plt.show()"
   ]
  },
  {
   "cell_type": "code",
   "execution_count": 22,
   "metadata": {
    "ExecuteTime": {
     "end_time": "2020-12-08T08:15:19.101705Z",
     "start_time": "2020-12-08T08:15:18.843224Z"
    }
   },
   "outputs": [
    {
     "data": {
      "image/png": "[encoded data removed]",
      "text/plain": [
       "<Figure size 360x360 with 1 Axes>"
      ]
     },
     "metadata": {
      "needs_background": "light"
     },
     "output_type": "display_data"
    }
   ],
   "source": [
    "sns.displot(userData, x='Category')\n",
    "plt.ylabel('Number of Students')\n",
    "plt.xticks(rotation=45)\n",
    "plt.show()"
   ]
  },
  {
   "cell_type": "markdown",
   "metadata": {},
   "source": [
    "### Getting Students' Records\n",
    "\n",
    "#### Video Clickstream Records"
   ]
  },
  {
   "cell_type": "code",
   "execution_count": 23,
   "metadata": {
    "ExecuteTime": {
     "end_time": "2020-12-08T08:15:19.147033Z",
     "start_time": "2020-12-08T08:15:19.104866Z"
    },
    "scrolled": true
   },
   "outputs": [],
   "source": [
    "# %time videoData = getVideoEventsInfo(mode='all')"
   ]
  },
  {
   "cell_type": "code",
   "execution_count": 24,
   "metadata": {
    "ExecuteTime": {
     "end_time": "2020-12-08T08:15:19.189726Z",
     "start_time": "2020-12-08T08:15:19.152418Z"
    }
   },
   "outputs": [],
   "source": [
    "# videoData = videoData[videoData['Round'].isin(rounds)]"
   ]
  },
  {
   "cell_type": "code",
   "execution_count": 25,
   "metadata": {
    "ExecuteTime": {
     "end_time": "2020-12-08T08:15:19.232904Z",
     "start_time": "2020-12-08T08:15:19.193810Z"
    }
   },
   "outputs": [],
   "source": [
    "# \"Number of video events:\", len(videoData)"
   ]
  },
  {
   "cell_type": "markdown",
   "metadata": {},
   "source": [
    "#### Problem Clickstream Records"
   ]
  },
  {
   "cell_type": "code",
   "execution_count": 26,
   "metadata": {
    "ExecuteTime": {
     "end_time": "2020-12-08T08:15:19.273110Z",
     "start_time": "2020-12-08T08:15:19.235327Z"
    }
   },
   "outputs": [],
   "source": [
    "# %time problemData = getProblemEventsInfo()"
   ]
  },
  {
   "cell_type": "code",
   "execution_count": 27,
   "metadata": {
    "ExecuteTime": {
     "end_time": "2020-12-08T08:15:19.316461Z",
     "start_time": "2020-12-08T08:15:19.275301Z"
    }
   },
   "outputs": [],
   "source": [
    "# problemData = problemData[problemData['Round'].isin(rounds)]"
   ]
  },
  {
   "cell_type": "code",
   "execution_count": 28,
   "metadata": {
    "ExecuteTime": {
     "end_time": "2020-12-08T08:15:19.360031Z",
     "start_time": "2020-12-08T08:15:19.319328Z"
    }
   },
   "outputs": [],
   "source": [
    "# \"Number of problem events:\", len(problemData)"
   ]
  },
  {
   "cell_type": "markdown",
   "metadata": {},
   "source": [
    "#### Exam Records"
   ]
  },
  {
   "cell_type": "code",
   "execution_count": 29,
   "metadata": {
    "ExecuteTime": {
     "end_time": "2020-12-08T08:16:36.949511Z",
     "start_time": "2020-12-08T08:15:19.362649Z"
    }
   },
   "outputs": [
    {
     "name": "stdout",
     "output_type": "stream",
     "text": [
      "CPU times: user 55.2 s, sys: 2.09 s, total: 57.3 s\n",
      "Wall time: 1min 17s\n"
     ]
    }
   ],
   "source": [
    "%time examData = getExamInfo()"
   ]
  },
  {
   "cell_type": "code",
   "execution_count": 30,
   "metadata": {
    "ExecuteTime": {
     "end_time": "2020-12-08T08:16:37.022766Z",
     "start_time": "2020-12-08T08:16:36.957220Z"
    }
   },
   "outputs": [],
   "source": [
    "examData = examData[examData['Round'].isin(rounds)]"
   ]
  },
  {
   "cell_type": "code",
   "execution_count": 31,
   "metadata": {
    "ExecuteTime": {
     "end_time": "2020-12-08T08:16:37.073891Z",
     "start_time": "2020-12-08T08:16:37.025837Z"
    }
   },
   "outputs": [],
   "source": [
    "examData = examData[examData['AccountUserID'].isin(userData['AccountUserID'])]"
   ]
  },
  {
   "cell_type": "code",
   "execution_count": 32,
   "metadata": {
    "ExecuteTime": {
     "end_time": "2020-12-08T08:16:37.126358Z",
     "start_time": "2020-12-08T08:16:37.076360Z"
    }
   },
   "outputs": [
    {
     "data": {
      "text/plain": [
       "('Number of graded students:', 214)"
      ]
     },
     "execution_count": 32,
     "metadata": {},
     "output_type": "execute_result"
    }
   ],
   "source": [
    "\"Number of graded students:\", len(examData)"
   ]
  },
  {
   "cell_type": "markdown",
   "metadata": {},
   "source": [
    "#### Event Records"
   ]
  },
  {
   "cell_type": "code",
   "execution_count": 33,
   "metadata": {
    "ExecuteTime": {
     "end_time": "2020-12-08T08:16:37.181670Z",
     "start_time": "2020-12-08T08:16:37.129252Z"
    }
   },
   "outputs": [],
   "source": [
    "# eventData = videoData.append(problemData)"
   ]
  },
  {
   "cell_type": "code",
   "execution_count": 34,
   "metadata": {
    "ExecuteTime": {
     "end_time": "2020-12-08T08:16:37.240028Z",
     "start_time": "2020-12-08T08:16:37.187124Z"
    }
   },
   "outputs": [],
   "source": [
    "# eventData['Year'] = eventData['Round'].apply(lambda x: int(x.split('-')[1]))"
   ]
  },
  {
   "cell_type": "markdown",
   "metadata": {},
   "source": [
    "#### Course Week Column"
   ]
  },
  {
   "cell_type": "markdown",
   "metadata": {},
   "source": [
    "We get the configuration file (e.g, start and end date) for each round of the course. "
   ]
  },
  {
   "cell_type": "code",
   "execution_count": 35,
   "metadata": {
    "ExecuteTime": {
     "end_time": "2020-12-08T08:16:37.284676Z",
     "start_time": "2020-12-08T08:16:37.242514Z"
    }
   },
   "outputs": [],
   "source": [
    "# with open('../config/linear_algebra.json') as f:\n",
    "#     config = json.load(f)"
   ]
  },
  {
   "cell_type": "markdown",
   "metadata": {},
   "source": [
    "We assign each video interaction to a specific week of the course, with the first week of the course round having id 0. "
   ]
  },
  {
   "cell_type": "code",
   "execution_count": 36,
   "metadata": {
    "ExecuteTime": {
     "end_time": "2020-12-08T08:16:37.337463Z",
     "start_time": "2020-12-08T08:16:37.287007Z"
    }
   },
   "outputs": [],
   "source": [
    "# eventData['Date'] = eventData['TimeStamp'].apply(lambda x:string2Datetime(dt.utcfromtimestamp(x).strftime('%Y-%m-%d %H:%M:%S')))"
   ]
  },
  {
   "cell_type": "code",
   "execution_count": 37,
   "metadata": {
    "ExecuteTime": {
     "end_time": "2020-12-08T08:16:37.382739Z",
     "start_time": "2020-12-08T08:16:37.341777Z"
    }
   },
   "outputs": [],
   "source": [
    "# tmp_events = []\n",
    "# for r in rounds:\n",
    "#     round_events = eventData[eventData['Round'] == r]\n",
    "#     tmp_events.append(processWeek(round_events, 'Date', config[r.split('-')[-2]]['Start']))\n",
    "# eventData = pd.concat(tmp_events).copy()"
   ]
  },
  {
   "cell_type": "code",
   "execution_count": 38,
   "metadata": {
    "ExecuteTime": {
     "end_time": "2020-12-08T08:16:37.426913Z",
     "start_time": "2020-12-08T08:16:37.385280Z"
    }
   },
   "outputs": [],
   "source": [
    "# eventData['Week'] = eventData['Week'].apply(lambda x: int(x))"
   ]
  },
  {
   "cell_type": "markdown",
   "metadata": {},
   "source": [
    "Then, we filter only the first *noCourseWeeks* course weeks. "
   ]
  },
  {
   "cell_type": "code",
   "execution_count": 39,
   "metadata": {
    "ExecuteTime": {
     "end_time": "2020-12-08T08:16:37.478356Z",
     "start_time": "2020-12-08T08:16:37.434370Z"
    }
   },
   "outputs": [],
   "source": [
    "# eventData = eventData[eventData['Week'].isin(range(20))]"
   ]
  },
  {
   "cell_type": "markdown",
   "metadata": {},
   "source": [
    "## * Cross validation of early warning systems *"
   ]
  },
  {
   "cell_type": "markdown",
   "metadata": {},
   "source": [
    "#### Parameters"
   ]
  },
  {
   "cell_type": "code",
   "execution_count": 40,
   "metadata": {
    "ExecuteTime": {
     "end_time": "2020-12-08T08:16:37.529934Z",
     "start_time": "2020-12-08T08:16:37.481544Z"
    }
   },
   "outputs": [],
   "source": [
    "mode = 'random'\n",
    "task = 'binary'\n",
    "ratio = 80\n",
    "start, end, step = 5, 15, 1\n",
    "iterations = 3"
   ]
  },
  {
   "cell_type": "code",
   "execution_count": 41,
   "metadata": {
    "ExecuteTime": {
     "end_time": "2020-12-08T08:16:37.581220Z",
     "start_time": "2020-12-08T08:16:37.532603Z"
    }
   },
   "outputs": [],
   "source": [
    "weeks = np.arange(start + 1, end, step)"
   ]
  },
  {
   "cell_type": "markdown",
   "metadata": {},
   "source": [
    "#### Feature Sets"
   ]
  },
  {
   "cell_type": "code",
   "execution_count": 42,
   "metadata": {
    "ExecuteTime": {
     "end_time": "2020-12-08T08:16:37.631317Z",
     "start_time": "2020-12-08T08:16:37.584009Z"
    }
   },
   "outputs": [],
   "source": [
    "# featureLabels = [AkpinarEtAl(), BoroujeniEtAl(), ChenCui(), HeEtAl(), LalleConati(), LemayDoleck()]"
   ]
  },
  {
   "cell_type": "code",
   "execution_count": 43,
   "metadata": {
    "ExecuteTime": {
     "end_time": "2020-12-08T08:16:37.796357Z",
     "start_time": "2020-12-08T08:16:37.633935Z"
    }
   },
   "outputs": [
    {
     "name": "stdout",
     "output_type": "stream",
     "text": [
      "> Found features for this experimental setting in ../data/feature_sets/feature_sets_random_binary_80_5-15-1.pkl\n"
     ]
    }
   ],
   "source": [
    "featureSets = loadFeatureSets(mode, task, ratio, start, end, step)"
   ]
  },
  {
   "cell_type": "code",
   "execution_count": 44,
   "metadata": {
    "ExecuteTime": {
     "end_time": "2020-12-08T08:16:37.847573Z",
     "start_time": "2020-12-08T08:16:37.799327Z"
    }
   },
   "outputs": [],
   "source": [
    "# featureSets = computeFeatures(eventData, examData, featureLabels, featureSets, start, weeks)"
   ]
  },
  {
   "cell_type": "code",
   "execution_count": 45,
   "metadata": {
    "ExecuteTime": {
     "end_time": "2020-12-08T08:16:37.897752Z",
     "start_time": "2020-12-08T08:16:37.850242Z"
    }
   },
   "outputs": [],
   "source": [
    "# saveFeatureSets(featureSets, mode, task, ratio, start, end, step)"
   ]
  },
  {
   "cell_type": "code",
   "execution_count": 46,
   "metadata": {
    "ExecuteTime": {
     "end_time": "2020-12-08T08:16:37.948307Z",
     "start_time": "2020-12-08T08:16:37.900432Z"
    }
   },
   "outputs": [],
   "source": [
    "def concat_features(featureSets):\n",
    "    #Concatenate feature vectors from different papers into a single one\n",
    "    features = {}\n",
    "    dump_name = 'all'\n",
    "    features[dump_name] = {}\n",
    "    for wid in weeks:\n",
    "        concat = []\n",
    "        for flabel in featureSets.keys():\n",
    "            concat.append(featureSets[flabel][wid])\n",
    "        features[dump_name][wid] = np.hstack(concat)\n",
    "    print(\"Number of features:\",features[dump_name][wid].shape[1])\n",
    "    return features"
   ]
  },
  {
   "cell_type": "code",
   "execution_count": 47,
   "metadata": {
    "ExecuteTime": {
     "end_time": "2020-12-08T08:16:38.032126Z",
     "start_time": "2020-12-08T08:16:37.950788Z"
    }
   },
   "outputs": [
    {
     "name": "stdout",
     "output_type": "stream",
     "text": [
      "Number of features: 4157\n"
     ]
    }
   ],
   "source": [
    "all_featureSets = concat_features(featureSets)"
   ]
  },
  {
   "cell_type": "markdown",
   "metadata": {},
   "source": [
    "#### Models and Metrics"
   ]
  },
  {
   "cell_type": "code",
   "execution_count": 27,
   "metadata": {
    "ExecuteTime": {
     "end_time": "2020-12-04T17:52:16.840577Z",
     "start_time": "2020-12-04T17:52:14.696148Z"
    }
   },
   "outputs": [
    {
     "name": "stdout",
     "output_type": "stream",
     "text": [
      "> Found models for this experimental setting in ../data/trained_models/trained_models_random_binary_80_5-15-1.pkl\n"
     ]
    }
   ],
   "source": [
    "# individuallyTrainedModels = loadTrainedModels(mode, task, ratio, start, end, step)"
   ]
  },
  {
   "cell_type": "code",
   "execution_count": 48,
   "metadata": {
    "ExecuteTime": {
     "end_time": "2020-12-08T08:25:27.456035Z",
     "start_time": "2020-12-08T08:25:27.387369Z"
    }
   },
   "outputs": [
    {
     "name": "stdout",
     "output_type": "stream",
     "text": [
      "> Found models for this experimental setting in ../data/trained_models/trained_models_lasso_vs_lr_binary_80_5-15-1.pkl\n"
     ]
    }
   ],
   "source": [
    "lasTrainedModels = loadTrainedModels(\"lasso_vs_lr\", task, ratio, start, end, step)"
   ]
  },
  {
   "cell_type": "code",
   "execution_count": 47,
   "metadata": {
    "ExecuteTime": {
     "end_time": "2020-12-04T18:03:57.607234Z",
     "start_time": "2020-12-04T18:03:57.498341Z"
    }
   },
   "outputs": [
    {
     "name": "stdout",
     "output_type": "stream",
     "text": [
      "> Binarizing student grades: [(0, 134), (1, 80)]\n",
      "> Spitting the whole student population randomly: Train 171 [(0, 107), (1, 64)] - Test 43 [(0, 27), (1, 16)]\n"
     ]
    }
   ],
   "source": [
    "xTrain, xTest, yTrain, yTest = getTrainTestData(examData, mode, task, ratio / 100.0)"
   ]
  },
  {
   "cell_type": "code",
   "execution_count": 56,
   "metadata": {
    "ExecuteTime": {
     "end_time": "2020-12-04T18:08:24.530148Z",
     "start_time": "2020-12-04T18:08:24.470719Z"
    }
   },
   "outputs": [],
   "source": [
    "from tqdm import tqdm\n",
    "evaluation_metrics = {\n",
    "    'acc': accuracy_score,\n",
    "    'f1': f1_score,\n",
    "    'p': precision_score, \n",
    "    'r': recall_score,\n",
    "    'tp': tp,\n",
    "    'tn': tn,\n",
    "    'fp': fp,\n",
    "    'fn': fn\n",
    "}\n",
    "\n",
    "def fit_lasso(features, xTrain, xTest, yTrain, yTest):\n",
    "    metrics = []\n",
    "    coefs = []\n",
    "    for wid in weeks:\n",
    "        for reg in tqdm(np.linspace(0.001, 1, 5)):\n",
    "            lasso = LogisticRegression(penalty='l1',solver='liblinear', C=reg)\n",
    "            lasso.fit(features['all'][wid][xTrain], yTrain)\n",
    "            curr = [wid, reg]\n",
    "            for emid, mfunc in evaluation_metrics.items():\n",
    "                val = mfunc(lasso.predict(features['all'][wid][xTest]), yTest)\n",
    "                curr.append(val)\n",
    "            curr.append(np.sum(abs(lasso.coef_) > 0))\n",
    "            metrics.append(curr)\n",
    "            coefs.append(list(lasso.coef_[0]))\n",
    "            cols = ['week', 'regularization'] + list(evaluation_metrics.keys()) + ['nb_coef_used']\n",
    "    return pd.DataFrame(metrics, columns=cols), coefs"
   ]
  },
  {
   "cell_type": "code",
   "execution_count": 58,
   "metadata": {
    "ExecuteTime": {
     "end_time": "2020-12-04T18:27:41.683258Z",
     "start_time": "2020-12-04T18:19:33.313173Z"
    },
    "scrolled": false
   },
   "outputs": [
    {
     "name": "stderr",
     "output_type": "stream",
     "text": [
      "100%|██████████| 5/5 [00:30<00:00,  6.19s/it]\n",
      "100%|██████████| 5/5 [01:04<00:00, 12.90s/it]\n",
      "100%|██████████| 5/5 [01:09<00:00, 13.96s/it]\n",
      "100%|██████████| 5/5 [00:28<00:00,  5.63s/it]\n",
      "100%|██████████| 5/5 [01:01<00:00, 12.39s/it]\n",
      "100%|██████████| 5/5 [00:57<00:00, 11.59s/it]\n",
      "100%|██████████| 5/5 [00:57<00:00, 11.58s/it]\n",
      "100%|██████████| 5/5 [00:58<00:00, 11.61s/it]\n",
      "100%|██████████| 5/5 [00:58<00:00, 11.79s/it]\n"
     ]
    }
   ],
   "source": [
    "metrics, coefs = fit_lasso(all_featureSets, xTrain, xTest, yTrain, yTest)"
   ]
  },
  {
   "cell_type": "code",
   "execution_count": 81,
   "metadata": {
    "ExecuteTime": {
     "end_time": "2020-12-04T18:54:42.353597Z",
     "start_time": "2020-12-04T18:54:42.188829Z"
    },
    "scrolled": false
   },
   "outputs": [
    {
     "data": {
      "text/html": [
       "<div>\n",
       "<style scoped>\n",
       "    .dataframe tbody tr th:only-of-type {\n",
       "        vertical-align: middle;\n",
       "    }\n",
       "\n",
       "    .dataframe tbody tr th {\n",
       "        vertical-align: top;\n",
       "    }\n",
       "\n",
       "    .dataframe thead th {\n",
       "        text-align: right;\n",
       "    }\n",
       "</style>\n",
       "<table border=\"1\" class=\"dataframe\">\n",
       "  <thead>\n",
       "    <tr style=\"text-align: right;\">\n",
       "      <th></th>\n",
       "      <th>week</th>\n",
       "      <th>regularization</th>\n",
       "      <th>acc</th>\n",
       "      <th>f1</th>\n",
       "      <th>p</th>\n",
       "      <th>r</th>\n",
       "      <th>tp</th>\n",
       "      <th>tn</th>\n",
       "      <th>fp</th>\n",
       "      <th>fn</th>\n",
       "      <th>nb_coef_used</th>\n",
       "    </tr>\n",
       "  </thead>\n",
       "  <tbody>\n",
       "    <tr>\n",
       "      <th>40</th>\n",
       "      <td>14</td>\n",
       "      <td>0.00100</td>\n",
       "      <td>0.651163</td>\n",
       "      <td>0.4</td>\n",
       "      <td>0.3125</td>\n",
       "      <td>0.555556</td>\n",
       "      <td>5</td>\n",
       "      <td>23</td>\n",
       "      <td>11</td>\n",
       "      <td>4</td>\n",
       "      <td>12</td>\n",
       "    </tr>\n",
       "    <tr>\n",
       "      <th>41</th>\n",
       "      <td>14</td>\n",
       "      <td>0.25075</td>\n",
       "      <td>0.627907</td>\n",
       "      <td>0.5</td>\n",
       "      <td>0.5000</td>\n",
       "      <td>0.500000</td>\n",
       "      <td>8</td>\n",
       "      <td>19</td>\n",
       "      <td>8</td>\n",
       "      <td>8</td>\n",
       "      <td>71</td>\n",
       "    </tr>\n",
       "    <tr>\n",
       "      <th>42</th>\n",
       "      <td>14</td>\n",
       "      <td>0.50050</td>\n",
       "      <td>0.627907</td>\n",
       "      <td>0.5</td>\n",
       "      <td>0.5000</td>\n",
       "      <td>0.500000</td>\n",
       "      <td>8</td>\n",
       "      <td>19</td>\n",
       "      <td>8</td>\n",
       "      <td>8</td>\n",
       "      <td>77</td>\n",
       "    </tr>\n",
       "    <tr>\n",
       "      <th>43</th>\n",
       "      <td>14</td>\n",
       "      <td>0.75025</td>\n",
       "      <td>0.627907</td>\n",
       "      <td>0.5</td>\n",
       "      <td>0.5000</td>\n",
       "      <td>0.500000</td>\n",
       "      <td>8</td>\n",
       "      <td>19</td>\n",
       "      <td>8</td>\n",
       "      <td>8</td>\n",
       "      <td>85</td>\n",
       "    </tr>\n",
       "    <tr>\n",
       "      <th>44</th>\n",
       "      <td>14</td>\n",
       "      <td>1.00000</td>\n",
       "      <td>0.627907</td>\n",
       "      <td>0.5</td>\n",
       "      <td>0.5000</td>\n",
       "      <td>0.500000</td>\n",
       "      <td>8</td>\n",
       "      <td>19</td>\n",
       "      <td>8</td>\n",
       "      <td>8</td>\n",
       "      <td>88</td>\n",
       "    </tr>\n",
       "  </tbody>\n",
       "</table>\n",
       "</div>"
      ],
      "text/plain": [
       "    week  regularization       acc   f1       p         r  tp  tn  fp  fn  \\\n",
       "40    14         0.00100  0.651163  0.4  0.3125  0.555556   5  23  11   4   \n",
       "41    14         0.25075  0.627907  0.5  0.5000  0.500000   8  19   8   8   \n",
       "42    14         0.50050  0.627907  0.5  0.5000  0.500000   8  19   8   8   \n",
       "43    14         0.75025  0.627907  0.5  0.5000  0.500000   8  19   8   8   \n",
       "44    14         1.00000  0.627907  0.5  0.5000  0.500000   8  19   8   8   \n",
       "\n",
       "    nb_coef_used  \n",
       "40            12  \n",
       "41            71  \n",
       "42            77  \n",
       "43            85  \n",
       "44            88  "
      ]
     },
     "execution_count": 81,
     "metadata": {},
     "output_type": "execute_result"
    }
   ],
   "source": [
    "metrics[metrics.week == 14]"
   ]
  },
  {
   "cell_type": "code",
   "execution_count": 90,
   "metadata": {
    "ExecuteTime": {
     "end_time": "2020-12-04T19:12:29.318841Z",
     "start_time": "2020-12-04T19:12:29.244703Z"
    }
   },
   "outputs": [
    {
     "data": {
      "text/plain": [
       "dict_keys(['all'])"
      ]
     },
     "execution_count": 90,
     "metadata": {},
     "output_type": "execute_result"
    }
   ],
   "source": [
    "all_featureSets.keys()"
   ]
  },
  {
   "cell_type": "code",
   "execution_count": 104,
   "metadata": {
    "ExecuteTime": {
     "end_time": "2020-12-04T20:57:15.786326Z",
     "start_time": "2020-12-04T19:24:46.414463Z"
    }
   },
   "outputs": [
    {
     "name": "stdout",
     "output_type": "stream",
     "text": [
      "Iteration 0\n",
      "> Binarizing student grades: [(0, 134), (1, 80)]\n",
      "> Splitting the whole student population randomly: Train 171 [(0, 107), (1, 64)] - Test 43 [(0, 27), (1, 16)]\n",
      "> Training on Set: all ( 001 001 ) - Week: 006 ( 001 009 ) - Algorithm: las ( 002 002 )64\n",
      "> Training on Set: all ( 001 001 ) - Week: 007 ( 002 009 ) - Algorithm: las ( 002 002 )10\n",
      "> Training on Set: all ( 001 001 ) - Week: 008 ( 003 009 ) - Algorithm: las ( 002 002 )54\n",
      "> Training on Set: all ( 001 001 ) - Week: 009 ( 004 009 ) - Algorithm: las ( 002 002 )107\n",
      "> Training on Set: all ( 001 001 ) - Week: 010 ( 005 009 ) - Algorithm: las ( 002 002 )83\n",
      "> Training on Set: all ( 001 001 ) - Week: 011 ( 006 009 ) - Algorithm: las ( 002 002 )87\n",
      "> Training on Set: all ( 001 001 ) - Week: 012 ( 007 009 ) - Algorithm: las ( 002 002 )87\n",
      "> Training on Set: all ( 001 001 ) - Week: 013 ( 008 009 ) - Algorithm: las ( 002 002 )83\n",
      "> Training on Set: all ( 001 001 ) - Week: 014 ( 009 009 ) - Algorithm: las ( 002 002 )108\n",
      "\n",
      "> Evaluated last iteration models\n",
      "Iteration 1\n",
      "> Binarizing student grades: [(0, 134), (1, 80)]\n",
      "> Splitting the whole student population randomly: Train 171 [(0, 107), (1, 64)] - Test 43 [(0, 27), (1, 16)]\n",
      "> Training on Set: all ( 001 001 ) - Week: 006 ( 001 009 ) - Algorithm: las ( 002 002 )9\n",
      "> Training on Set: all ( 001 001 ) - Week: 007 ( 002 009 ) - Algorithm: las ( 002 002 )11\n",
      "> Training on Set: all ( 001 001 ) - Week: 008 ( 003 009 ) - Algorithm: las ( 002 002 )79\n",
      "> Training on Set: all ( 001 001 ) - Week: 009 ( 004 009 ) - Algorithm: las ( 002 002 )30\n",
      "> Training on Set: all ( 001 001 ) - Week: 010 ( 005 009 ) - Algorithm: las ( 002 002 )56\n",
      "> Training on Set: all ( 001 001 ) - Week: 011 ( 006 009 ) - Algorithm: las ( 002 002 )81\n",
      "> Training on Set: all ( 001 001 ) - Week: 012 ( 007 009 ) - Algorithm: las ( 002 002 )104\n",
      "> Training on Set: all ( 001 001 ) - Week: 013 ( 008 009 ) - Algorithm: las ( 002 002 )40\n",
      "> Training on Set: all ( 001 001 ) - Week: 014 ( 009 009 ) - Algorithm: las ( 002 002 )101\n",
      "\n",
      "> Evaluated last iteration models\n",
      "Iteration 2\n",
      "> Binarizing student grades: [(0, 134), (1, 80)]\n",
      "> Splitting the whole student population randomly: Train 171 [(0, 107), (1, 64)] - Test 43 [(0, 27), (1, 16)]\n",
      "> Training on Set: all ( 001 001 ) - Week: 006 ( 001 009 ) - Algorithm: las ( 002 002 )74\n",
      "> Training on Set: all ( 001 001 ) - Week: 007 ( 002 009 ) - Algorithm: las ( 002 002 )53\n",
      "> Training on Set: all ( 001 001 ) - Week: 008 ( 003 009 ) - Algorithm: las ( 002 002 )42\n",
      "> Training on Set: all ( 001 001 ) - Week: 009 ( 004 009 ) - Algorithm: las ( 002 002 )56\n",
      "> Training on Set: all ( 001 001 ) - Week: 010 ( 005 009 ) - Algorithm: las ( 002 002 )47\n",
      "> Training on Set: all ( 001 001 ) - Week: 011 ( 006 009 ) - Algorithm: las ( 002 002 )48\n",
      "> Training on Set: all ( 001 001 ) - Week: 012 ( 007 009 ) - Algorithm: las ( 002 002 )62\n",
      "> Training on Set: all ( 001 001 ) - Week: 013 ( 008 009 ) - Algorithm: las ( 002 002 )97\n",
      "> Training on Set: all ( 001 001 ) - Week: 014 ( 009 009 ) - Algorithm: las ( 002 002 )86\n",
      "\n",
      "> Evaluated last iteration models\n"
     ]
    }
   ],
   "source": [
    "evaluationScores = {}\n",
    "for i in range(iterations):\n",
    "    print('Iteration', i)\n",
    "    xTrain, xTest, yTrain, yTest = getTrainTestData(examData, mode, task, ratio / 100.0)\n",
    "    \n",
    "    classifiersTypes = {\n",
    "#                         'ada': AdaBoostClassifier(), \n",
    "#                         'dt': DecisionTreeClassifier(), \n",
    "#                         'gnb': GaussianNB(), \n",
    "                        'lr': LogisticRegression(), \n",
    "                        'las': LogisticRegression(),\n",
    "#                         'mlp': MLPClassifier(), \n",
    "#                         'knn': KNeighborsClassifier(), \n",
    "#                         'rf': RandomForestClassifier(), \n",
    "#                         'svm': SVC()\n",
    "                       }\n",
    "    classifiersParams = {\n",
    "#                          'ada': {'n_estimators': [25, 50, 100, 200], 'algorithm': ('SAMME', 'SAMME.R'), 'learning_rate': [0.1, 1]},\n",
    "#                          'dt': {'criterion': ('gini', 'entropy'), 'splitter': ('best', 'random'), 'max_features': ('auto', 'sqrt', 'log2')}, \n",
    "#                          'gnb': {'var_smoothing': [1e-9, 1e-7, 1e-5, 1e-3, 1e-1]}, \n",
    "                         'lr': {'penalty': ('l2', 'elasticnet', 'none'), 'tol': [1e-4, 1e-5], 'C': [1.0, 0.5], 'solver': ('newton-cg', 'lbfgs', 'sag', 'saga'), 'multi_class': ('auto', 'ovr', 'multinomial')}, \n",
    "                         'las': {'penalty': ['l1'], 'tol': [1e-4, 1e-5],  'C': np.linspace(0.001, 2, 50), 'solver': ['liblinear']}, \n",
    "#                          'mlp': {'activation': ('identity', 'logistic', 'tanh', 'relu'), 'solver': ('lbfgs', 'sgd', 'adam'), 'hidden_layer_sizes': [(8,), (16, 8), (32, 16, 8)]},\n",
    "#                          'knn': {'n_neighbors': [5, 10, 50, 100], 'weights': ('uniform', 'distance'), 'algorithm': ('auto', 'ball_tree', 'kd_tree', 'brute')}, \n",
    "#                          'rf': {'n_estimators': [25, 50, 100, 200], 'criterion': ('gini', 'entropy'), 'max_features': ('auto', 'sqrt', 'log2')}, \n",
    "#                          'svm': {'C': [1.0, 0.5], 'kernel': ('linear', 'poly', 'rbf', 'sigmoid'), 'gamma': ('scale', 'auto'), 'shrinking': (True, False)}\n",
    "                        }\n",
    "    \n",
    "    trainedModels, scaler, lasso_params, lasso_coefs = trainModels(all_featureSets, xTrain, yTrain, weeks, classifiersTypes, classifiersParams, {}, lasso=True)\n",
    "    \n",
    "    evaluationMetrics = {'Acc': accuracy_score, 'F1': f1_score, 'P': precision_score, 'R': recall_score, 'TP': tp, 'FN': fn, 'TN': tn, 'FP': fp, 'TPR': tpr, 'TNR': tnr, 'FPR': fpr, 'FNR': fnr, 'EER': eer }\n",
    "    evaluationScores = computeMetrics(scaler, all_featureSets, trainedModels, xTest, yTest, evaluationMetrics, {})\n",
    "    "
   ]
  },
  {
   "cell_type": "code",
   "execution_count": 105,
   "metadata": {
    "ExecuteTime": {
     "end_time": "2020-12-04T20:57:16.073526Z",
     "start_time": "2020-12-04T20:57:15.795324Z"
    }
   },
   "outputs": [
    {
     "name": "stdout",
     "output_type": "stream",
     "text": [
      "> Saved models for this experimental setting in ../data/trained_models/trained_models_lasso_vs_lr_binary_80_5-15-1.pkl\n"
     ]
    }
   ],
   "source": [
    "saveTrainedModels(trainedModels, \"lasso_vs_lr\", task, ratio, start, end, step)"
   ]
  },
  {
   "cell_type": "markdown",
   "metadata": {},
   "source": [
    "## * Show and discuss the results *"
   ]
  },
  {
   "cell_type": "code",
   "execution_count": 106,
   "metadata": {
    "ExecuteTime": {
     "end_time": "2020-12-04T20:58:19.036425Z",
     "start_time": "2020-12-04T20:58:18.955238Z"
    }
   },
   "outputs": [],
   "source": [
    "lst_data = []\n",
    "lst_name = []\n",
    "for flabel in evaluationScores.keys():\n",
    "    for wid in evaluationScores[flabel].keys():\n",
    "        for mid in evaluationScores[flabel][wid].keys():\n",
    "            lst_data.append([wid, flabel, mid] + [np.mean(value) if i <=3 or i >=8 else np.around(np.mean(value)) for i, value in enumerate(evaluationScores[flabel][wid][mid].values())])  \n",
    "            lst_name = ['week', 'set', 'clf'] + [emid for emid, _ in evaluationScores[flabel][wid][mid].items()]"
   ]
  },
  {
   "cell_type": "code",
   "execution_count": 107,
   "metadata": {
    "ExecuteTime": {
     "end_time": "2020-12-04T20:58:19.595842Z",
     "start_time": "2020-12-04T20:58:19.514612Z"
    }
   },
   "outputs": [],
   "source": [
    "df_results = pd.DataFrame(lst_data, columns = lst_name)"
   ]
  },
  {
   "cell_type": "code",
   "execution_count": 110,
   "metadata": {
    "ExecuteTime": {
     "end_time": "2020-12-04T20:58:57.679161Z",
     "start_time": "2020-12-04T20:58:57.590392Z"
    }
   },
   "outputs": [
    {
     "data": {
      "text/html": [
       "<div>\n",
       "<style scoped>\n",
       "    .dataframe tbody tr th:only-of-type {\n",
       "        vertical-align: middle;\n",
       "    }\n",
       "\n",
       "    .dataframe tbody tr th {\n",
       "        vertical-align: top;\n",
       "    }\n",
       "\n",
       "    .dataframe thead th {\n",
       "        text-align: right;\n",
       "    }\n",
       "</style>\n",
       "<table border=\"1\" class=\"dataframe\">\n",
       "  <thead>\n",
       "    <tr style=\"text-align: right;\">\n",
       "      <th></th>\n",
       "      <th></th>\n",
       "      <th></th>\n",
       "      <th>Acc</th>\n",
       "      <th>F1</th>\n",
       "      <th>P</th>\n",
       "      <th>R</th>\n",
       "      <th>TP</th>\n",
       "      <th>FN</th>\n",
       "      <th>TN</th>\n",
       "      <th>FP</th>\n",
       "      <th>TPR</th>\n",
       "      <th>TNR</th>\n",
       "      <th>FPR</th>\n",
       "      <th>FNR</th>\n",
       "      <th>EER</th>\n",
       "    </tr>\n",
       "    <tr>\n",
       "      <th>week</th>\n",
       "      <th>set</th>\n",
       "      <th>clf</th>\n",
       "      <th></th>\n",
       "      <th></th>\n",
       "      <th></th>\n",
       "      <th></th>\n",
       "      <th></th>\n",
       "      <th></th>\n",
       "      <th></th>\n",
       "      <th></th>\n",
       "      <th></th>\n",
       "      <th></th>\n",
       "      <th></th>\n",
       "      <th></th>\n",
       "      <th></th>\n",
       "    </tr>\n",
       "  </thead>\n",
       "  <tbody>\n",
       "    <tr>\n",
       "      <th>11</th>\n",
       "      <th>all</th>\n",
       "      <th>las</th>\n",
       "      <td>0.534884</td>\n",
       "      <td>0.375</td>\n",
       "      <td>0.375</td>\n",
       "      <td>0.375</td>\n",
       "      <td>6.0</td>\n",
       "      <td>10.0</td>\n",
       "      <td>17.0</td>\n",
       "      <td>10.0</td>\n",
       "      <td>0.375</td>\n",
       "      <td>0.62963</td>\n",
       "      <td>0.37037</td>\n",
       "      <td>0.625</td>\n",
       "      <td>0.497685</td>\n",
       "    </tr>\n",
       "  </tbody>\n",
       "</table>\n",
       "</div>"
      ],
      "text/plain": [
       "                   Acc     F1      P      R   TP    FN    TN    FP    TPR  \\\n",
       "week set clf                                                                \n",
       "11   all las  0.534884  0.375  0.375  0.375  6.0  10.0  17.0  10.0  0.375   \n",
       "\n",
       "                  TNR      FPR    FNR       EER  \n",
       "week set clf                                     \n",
       "11   all las  0.62963  0.37037  0.625  0.497685  "
      ]
     },
     "execution_count": 110,
     "metadata": {},
     "output_type": "execute_result"
    }
   ],
   "source": [
    "df_results[(df_results['week'] == 11) & (df_results['clf'] == 'las')].set_index(['week', 'set', 'clf'])"
   ]
  },
  {
   "cell_type": "code",
   "execution_count": 111,
   "metadata": {
    "ExecuteTime": {
     "end_time": "2020-12-04T20:58:58.421778Z",
     "start_time": "2020-12-04T20:58:58.333882Z"
    }
   },
   "outputs": [],
   "source": [
    "def plot_metrics_per_model(df_results, weeks, emid, clf):\n",
    "\n",
    "    plt.figure(num=None, figsize=(20, 6), dpi=80, facecolor='w', edgecolor='k')\n",
    "    \n",
    "    plt.title(clf)\n",
    "    colors = [plt.cm.rainbow(x) for x in np.linspace(0, 1, 8)]\n",
    "    \n",
    "    for i, flabel in enumerate(np.unique(df_results['set'])):    \n",
    "        df_features = df_results[df_results['set'] == flabel]\n",
    "        \n",
    "        for j, mid in enumerate(np.unique(df_features['clf'])): \n",
    "            if mid == clf:\n",
    "                df_classifiers = df_features[df_features['clf'] == mid]\n",
    "                plt.plot(weeks, df_classifiers[emid].values, lw=1, color=colors[i], label=flabel)\n",
    "            \n",
    "    plt.ylim([0.5, 0.75])\n",
    "    plt.xlim([weeks[0], weeks[-1]])\n",
    "    plt.xlabel('Course week')\n",
    "    plt.ylabel(emid)\n",
    "    plt.grid(axis='y')\n",
    "    plt.legend(loc='upper left')"
   ]
  },
  {
   "cell_type": "code",
   "execution_count": 112,
   "metadata": {
    "ExecuteTime": {
     "end_time": "2020-12-04T20:58:59.494215Z",
     "start_time": "2020-12-04T20:58:59.401299Z"
    }
   },
   "outputs": [],
   "source": [
    "def plot_metrics_per_feature(df_results, weeks, emid, flabel):\n",
    "\n",
    "    plt.figure(num=None, figsize=(20, 6), dpi=80, facecolor='w', edgecolor='k')\n",
    "    \n",
    "    df_features = df_results[df_results['set'] == flabel]\n",
    "\n",
    "    plt.title(flabel)\n",
    "    colors = [plt.cm.rainbow(x) for x in np.linspace(0, 1, 10)]\n",
    "\n",
    "    for j, mid in enumerate(np.unique(df_features['clf'])): \n",
    "        df_classifiers = df_features[df_features['clf'] == mid]\n",
    "        plt.plot(weeks, df_classifiers[emid].values, lw=1, color=colors[j], label=mid)\n",
    "\n",
    "    plt.axhline(y=.62, xmin=6, xmax=14, linestyle='--', color='red')    \n",
    "        \n",
    "    plt.ylim([0.5, 0.75])\n",
    "    plt.xlim([weeks[0], weeks[-1]])\n",
    "    plt.xlabel('Course week')\n",
    "    plt.ylabel(emid)\n",
    "    plt.grid(axis='y')\n",
    "    plt.legend(loc='upper left')"
   ]
  },
  {
   "cell_type": "code",
   "execution_count": 115,
   "metadata": {
    "ExecuteTime": {
     "end_time": "2020-12-04T20:59:27.559794Z",
     "start_time": "2020-12-04T20:59:27.111180Z"
    }
   },
   "outputs": [
    {
     "data": {
      "image/png": "[encoded data removed]",
      "text/plain": [
       "<Figure size 1600x480 with 1 Axes>"
      ]
     },
     "metadata": {},
     "output_type": "display_data"
    }
   ],
   "source": [
    "plot_metrics_per_model(df_results, weeks, 'Acc', 'lr')"
   ]
  },
  {
   "cell_type": "code",
   "execution_count": 113,
   "metadata": {
    "ExecuteTime": {
     "end_time": "2020-12-04T20:59:04.882357Z",
     "start_time": "2020-12-04T20:59:04.263469Z"
    }
   },
   "outputs": [
    {
     "data": {
      "image/png": "[encoded data removed]",
      "text/plain": [
       "<Figure size 1600x480 with 1 Axes>"
      ]
     },
     "metadata": {},
     "output_type": "display_data"
    }
   ],
   "source": [
    "plot_metrics_per_feature(df_results, weeks, 'Acc', 'all')"
   ]
  },
  {
   "cell_type": "code",
   "execution_count": null,
   "metadata": {},
   "outputs": [],
   "source": []
  }
 ],
 "metadata": {
  "kernelspec": {
   "display_name": "Python 3",
   "language": "python",
   "name": "python3"
  },
  "language_info": {
   "codemirror_mode": {
    "name": "ipython",
    "version": 3
   },
   "file_extension": ".py",
   "mimetype": "text/x-python",
   "name": "python",
   "nbconvert_exporter": "python",
   "pygments_lexer": "ipython3",
   "version": "3.7.1"
  },
  "toc": {
   "base_numbering": 1,
   "nav_menu": {},
   "number_sections": true,
   "sideBar": true,
   "skip_h1_title": false,
   "title_cell": "Table of Contents",
   "title_sidebar": "Contents",
   "toc_cell": false,
   "toc_position": {},
   "toc_section_display": true,
   "toc_window_display": false
  }
 },
 "nbformat": 4,
 "nbformat_minor": 1
}
