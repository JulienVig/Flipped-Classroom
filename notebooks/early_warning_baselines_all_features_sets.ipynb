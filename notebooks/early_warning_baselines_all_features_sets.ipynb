{
 "cells": [
  {
   "cell_type": "markdown",
   "metadata": {},
   "source": [
    "# Exploratory study on existing early warning systems"
   ]
  },
  {
   "cell_type": "markdown",
   "metadata": {},
   "source": [
    "## * Setup of the working environment *"
   ]
  },
  {
   "cell_type": "markdown",
   "metadata": {},
   "source": [
    "### Import traditional Python packages"
   ]
  },
  {
   "cell_type": "code",
   "execution_count": 10,
   "metadata": {
    "ExecuteTime": {
     "end_time": "2020-12-08T08:14:03.731248Z",
     "start_time": "2020-12-08T08:14:03.687776Z"
    }
   },
   "outputs": [],
   "source": [
    "from sklearn.metrics import accuracy_score, precision_score, recall_score, f1_score\n",
    "from datetime import datetime as dt, timedelta, date\n",
    "\n",
    "import matplotlib.pyplot as plt\n",
    "import seaborn as sns\n",
    "\n",
    "import pandas as pd\n",
    "import numpy as np\n",
    "import time\n",
    "import math\n",
    "import json\n",
    "import sys\n",
    "import os"
   ]
  },
  {
   "cell_type": "code",
   "execution_count": 11,
   "metadata": {
    "ExecuteTime": {
     "end_time": "2020-12-08T08:14:03.843401Z",
     "start_time": "2020-12-08T08:14:03.801322Z"
    }
   },
   "outputs": [],
   "source": [
    "from sklearn.ensemble import RandomForestClassifier, AdaBoostClassifier\n",
    "from sklearn.linear_model import LogisticRegression, Lasso\n",
    "from sklearn.neighbors import KNeighborsClassifier\n",
    "from sklearn.neural_network import MLPClassifier\n",
    "from sklearn.tree import DecisionTreeClassifier\n",
    "from sklearn.naive_bayes import GaussianNB\n",
    "from sklearn.svm import SVC"
   ]
  },
  {
   "cell_type": "code",
   "execution_count": 12,
   "metadata": {
    "ExecuteTime": {
     "end_time": "2020-12-08T08:14:04.342250Z",
     "start_time": "2020-12-08T08:14:04.302340Z"
    }
   },
   "outputs": [],
   "source": [
    "import warnings\n",
    "warnings.filterwarnings('ignore')"
   ]
  },
  {
   "cell_type": "markdown",
   "metadata": {},
   "source": [
    "### Import custom Python modules"
   ]
  },
  {
   "cell_type": "code",
   "execution_count": 13,
   "metadata": {
    "ExecuteTime": {
     "end_time": "2020-12-08T08:14:04.509883Z",
     "start_time": "2020-12-08T08:14:04.468464Z"
    }
   },
   "outputs": [],
   "source": [
    "sys.path.append(os.path.abspath(os.path.join('..')))"
   ]
  },
  {
   "cell_type": "code",
   "execution_count": 14,
   "metadata": {
    "ExecuteTime": {
     "end_time": "2020-12-08T08:14:04.600745Z",
     "start_time": "2020-12-08T08:14:04.552232Z"
    }
   },
   "outputs": [
    {
     "name": "stdout",
     "output_type": "stream",
     "text": [
      "The autoreload extension is already loaded. To reload it, use:\n",
      "  %reload_ext autoreload\n"
     ]
    }
   ],
   "source": [
    "%load_ext autoreload\n",
    "%autoreload 2"
   ]
  },
  {
   "cell_type": "code",
   "execution_count": 15,
   "metadata": {
    "ExecuteTime": {
     "end_time": "2020-12-08T08:14:04.703356Z",
     "start_time": "2020-12-08T08:14:04.651729Z"
    }
   },
   "outputs": [],
   "source": [
    "from helpers.db_connector import MySQLConnector\n",
    "from helpers.db_query import *\n",
    "\n",
    "from helpers.data_process import *\n",
    "from helpers.feature_extraction import *\n",
    "\n",
    "from extractors.akpinar_et_al import AkpinarEtAl\n",
    "from extractors.boroujeni_et_al import BoroujeniEtAl\n",
    "from extractors.chen_cui import ChenCui\n",
    "from extractors.he_et_al import HeEtAl\n",
    "from extractors.lalle_conati import LalleConati\n",
    "from extractors.lemay_doleck import LemayDoleck\n",
    "from extractors.mbouzao_et_al import MbouzaoEtAl\n",
    "from extractors.mubarak_et_al import MubarakEtAl\n",
    "from extractors.wan_et_al import WanEtAl\n",
    "\n",
    "from helpers.ml_utils import *\n",
    "\n",
    "from helpers.time import *"
   ]
  },
  {
   "cell_type": "markdown",
   "metadata": {},
   "source": [
    "## * Load the clickstream data *\n",
    "\n",
    "Since Fall 2017, the stream of the EPFL's Linear Algebra course has been taught in a flipped format. The implementation of the flipped classroom was carried out in an incremental manner, as described below:\n",
    "\n",
    "- **Year 2017-2018**: traditional manner (weeks 1-13) - flipped manner (week 14).\n",
    "- **Year 2018-2019**: traditional manner (weeks 1-4, 10-14) - flipped manner (weeks 5-9).\n",
    "- **Year 2019-2020**: traditional manner (weeks 1-4) - flipped manner (weeks 5-14)."
   ]
  },
  {
   "cell_type": "code",
   "execution_count": 16,
   "metadata": {
    "ExecuteTime": {
     "end_time": "2020-12-08T08:14:04.844772Z",
     "start_time": "2020-12-08T08:14:04.802870Z"
    }
   },
   "outputs": [],
   "source": [
    "rounds = ['Y2-2018-19', 'Y3-2019-20']"
   ]
  },
  {
   "cell_type": "markdown",
   "metadata": {},
   "source": [
    "### Identifying Students\n",
    "\n",
    "\n",
    "The flipped course was offered only to volunteering students. The volunteers were collectively assigned into either the experimental and the control group. A stratified random sampling based on gender and the prior background (secondary educational level) of students were used."
   ]
  },
  {
   "cell_type": "code",
   "execution_count": 17,
   "metadata": {
    "ExecuteTime": {
     "end_time": "2020-12-08T08:15:18.089479Z",
     "start_time": "2020-12-08T08:14:04.970453Z"
    }
   },
   "outputs": [
    {
     "name": "stdout",
     "output_type": "stream",
     "text": [
      "CPU times: user 54.2 s, sys: 2.17 s, total: 56.4 s\n",
      "Wall time: 1min 13s\n"
     ]
    }
   ],
   "source": [
    "%time userData = getUserInfo(prior_knowledge=True)"
   ]
  },
  {
   "cell_type": "markdown",
   "metadata": {},
   "source": [
    "Given that the Y1-2017-2018 round included only one week in a flipped classroom setting, we will remove the students of that round.  "
   ]
  },
  {
   "cell_type": "code",
   "execution_count": 18,
   "metadata": {
    "ExecuteTime": {
     "end_time": "2020-12-08T08:15:18.226952Z",
     "start_time": "2020-12-08T08:15:18.094461Z"
    }
   },
   "outputs": [],
   "source": [
    "userData = userData[userData['Round'].isin(rounds)]"
   ]
  },
  {
   "cell_type": "markdown",
   "metadata": {},
   "source": [
    "Some of the statistics on the user data are provided below. "
   ]
  },
  {
   "cell_type": "code",
   "execution_count": 19,
   "metadata": {
    "ExecuteTime": {
     "end_time": "2020-12-08T08:15:18.279231Z",
     "start_time": "2020-12-08T08:15:18.229921Z"
    },
    "scrolled": true
   },
   "outputs": [
    {
     "data": {
      "text/plain": [
       "('Number of students:', 214)"
      ]
     },
     "execution_count": 19,
     "metadata": {},
     "output_type": "execute_result"
    }
   ],
   "source": [
    "\"Number of students:\", len(userData)"
   ]
  },
  {
   "cell_type": "markdown",
   "metadata": {},
   "source": [
    "### Getting Students' Records"
   ]
  },
  {
   "cell_type": "markdown",
   "metadata": {},
   "source": [
    "#### Exam Records"
   ]
  },
  {
   "cell_type": "code",
   "execution_count": 29,
   "metadata": {
    "ExecuteTime": {
     "end_time": "2020-12-08T08:16:36.949511Z",
     "start_time": "2020-12-08T08:15:19.362649Z"
    }
   },
   "outputs": [
    {
     "name": "stdout",
     "output_type": "stream",
     "text": [
      "CPU times: user 55.2 s, sys: 2.09 s, total: 57.3 s\n",
      "Wall time: 1min 17s\n"
     ]
    }
   ],
   "source": [
    "%time examData = getExamInfo()"
   ]
  },
  {
   "cell_type": "code",
   "execution_count": 30,
   "metadata": {
    "ExecuteTime": {
     "end_time": "2020-12-08T08:16:37.022766Z",
     "start_time": "2020-12-08T08:16:36.957220Z"
    }
   },
   "outputs": [],
   "source": [
    "examData = examData[examData['Round'].isin(rounds)]"
   ]
  },
  {
   "cell_type": "code",
   "execution_count": 31,
   "metadata": {
    "ExecuteTime": {
     "end_time": "2020-12-08T08:16:37.073891Z",
     "start_time": "2020-12-08T08:16:37.025837Z"
    }
   },
   "outputs": [],
   "source": [
    "examData = examData[examData['AccountUserID'].isin(userData['AccountUserID'])]"
   ]
  },
  {
   "cell_type": "code",
   "execution_count": 32,
   "metadata": {
    "ExecuteTime": {
     "end_time": "2020-12-08T08:16:37.126358Z",
     "start_time": "2020-12-08T08:16:37.076360Z"
    }
   },
   "outputs": [
    {
     "data": {
      "text/plain": [
       "('Number of graded students:', 214)"
      ]
     },
     "execution_count": 32,
     "metadata": {},
     "output_type": "execute_result"
    }
   ],
   "source": [
    "\"Number of graded students:\", len(examData)"
   ]
  },
  {
   "cell_type": "markdown",
   "metadata": {},
   "source": [
    "## * Cross validation of early warning systems *"
   ]
  },
  {
   "cell_type": "markdown",
   "metadata": {},
   "source": [
    "#### Parameters"
   ]
  },
  {
   "cell_type": "code",
   "execution_count": 40,
   "metadata": {
    "ExecuteTime": {
     "end_time": "2020-12-08T08:16:37.529934Z",
     "start_time": "2020-12-08T08:16:37.481544Z"
    }
   },
   "outputs": [],
   "source": [
    "mode = 'random'\n",
    "task = 'binary'\n",
    "ratio = 80\n",
    "start, end, step = 5, 15, 1\n",
    "iterations = 3"
   ]
  },
  {
   "cell_type": "code",
   "execution_count": 41,
   "metadata": {
    "ExecuteTime": {
     "end_time": "2020-12-08T08:16:37.581220Z",
     "start_time": "2020-12-08T08:16:37.532603Z"
    }
   },
   "outputs": [],
   "source": [
    "weeks = np.arange(start + 1, end, step)"
   ]
  },
  {
   "cell_type": "markdown",
   "metadata": {},
   "source": [
    "#### Feature Sets"
   ]
  },
  {
   "cell_type": "code",
   "execution_count": 43,
   "metadata": {
    "ExecuteTime": {
     "end_time": "2020-12-08T08:16:37.796357Z",
     "start_time": "2020-12-08T08:16:37.633935Z"
    }
   },
   "outputs": [
    {
     "name": "stdout",
     "output_type": "stream",
     "text": [
      "> Found features for this experimental setting in ../data/feature_sets/feature_sets_random_binary_80_5-15-1.pkl\n"
     ]
    }
   ],
   "source": [
    "featureSets = loadFeatureSets(mode, task, ratio, start, end, step)"
   ]
  },
  {
   "cell_type": "code",
   "execution_count": 46,
   "metadata": {
    "ExecuteTime": {
     "end_time": "2020-12-08T08:16:37.948307Z",
     "start_time": "2020-12-08T08:16:37.900432Z"
    }
   },
   "outputs": [],
   "source": [
    "def concat_features(featureSets):\n",
    "    \"\"\"Concatenate feature vectors from different papers into a single one\"\"\"\n",
    "    features = {}\n",
    "    dump_name = 'all'\n",
    "    features[dump_name] = {}\n",
    "    for wid in weeks:\n",
    "        concat = []\n",
    "        for flabel in featureSets.keys():\n",
    "            concat.append(featureSets[flabel][wid])\n",
    "        features[dump_name][wid] = np.hstack(concat)\n",
    "    print(\"Number of features:\",features[dump_name][wid].shape[1])\n",
    "    return features"
   ]
  },
  {
   "cell_type": "code",
   "execution_count": 47,
   "metadata": {
    "ExecuteTime": {
     "end_time": "2020-12-08T08:16:38.032126Z",
     "start_time": "2020-12-08T08:16:37.950788Z"
    }
   },
   "outputs": [
    {
     "name": "stdout",
     "output_type": "stream",
     "text": [
      "Number of features: 4157\n"
     ]
    }
   ],
   "source": [
    "all_featureSets = concat_features(featureSets)"
   ]
  },
  {
   "cell_type": "code",
   "execution_count": 874,
   "metadata": {
    "ExecuteTime": {
     "end_time": "2020-12-10T16:31:53.675578Z",
     "start_time": "2020-12-10T16:31:53.630218Z"
    }
   },
   "outputs": [
    {
     "name": "stdout",
     "output_type": "stream",
     "text": [
      "akpinar_et_al\n",
      "(214, 4100)\n",
      "boroujeni_et_al\n",
      "(214, 12)\n",
      "chen_cui\n",
      "(214, 11)\n",
      "he_et_al\n",
      "(214, 3)\n",
      "lalle_conati\n",
      "(214, 21)\n",
      "lemay_doleck\n",
      "(214, 10)\n"
     ]
    }
   ],
   "source": [
    "for flabel in featureSets.keys():\n",
    "    print(flabel)\n",
    "    print(featureSets[flabel][14].shape)"
   ]
  },
  {
   "cell_type": "markdown",
   "metadata": {},
   "source": [
    "#### Models and Metrics"
   ]
  },
  {
   "cell_type": "code",
   "execution_count": 1030,
   "metadata": {
    "ExecuteTime": {
     "end_time": "2020-12-10T18:46:46.689929Z",
     "start_time": "2020-12-10T18:46:46.551995Z"
    }
   },
   "outputs": [],
   "source": [
    "LOAD_MODEL = True\n",
    "SAVE_MODEL = False"
   ]
  },
  {
   "cell_type": "code",
   "execution_count": 1031,
   "metadata": {
    "ExecuteTime": {
     "end_time": "2020-12-10T18:46:50.120369Z",
     "start_time": "2020-12-10T18:46:49.841412Z"
    },
    "scrolled": true
   },
   "outputs": [
    {
     "name": "stdout",
     "output_type": "stream",
     "text": [
      "> Found models for this experimental setting in ../data/trained_models/trained_models_5_lasso_vs_lr_binary_80_5-15-1.pkl\n",
      "> Binarizing student grades: [(0, 134), (1, 80)]\n",
      "> Splitting the whole student population randomly: Train 171 [(0, 107), (1, 64)] - Test 43 [(0, 27), (1, 16)]\n",
      "> Evaluated last iteration models\n"
     ]
    }
   ],
   "source": [
    "if LOAD_MODEL:\n",
    "    trainedModels, scaler, SEED = loadTrainedModels(\"5_lasso_vs_lr\", task, ratio, start, end, step)\n",
    "    x_train, x_test, y_train, y_test = getTrainTestData(examData, mode, task, ratio / 100.0, random_state=SEED)\n",
    "    evaluationMetrics = {'Acc': accuracy_score, 'F1': f1_score, 'P': precision_score, 'R': recall_score, 'TP': tp, 'FN': fn, 'TN': tn, 'FP': fp }\n",
    "    evaluationScores = computeMetrics(scaler, all_featureSets, trainedModels, x_test, y_test, evaluationMetrics, {})"
   ]
  },
  {
   "cell_type": "code",
   "execution_count": 831,
   "metadata": {
    "ExecuteTime": {
     "end_time": "2020-12-08T22:13:15.801056Z",
     "start_time": "2020-12-08T22:13:15.747945Z"
    },
    "scrolled": true
   },
   "outputs": [],
   "source": [
    "if not LOAD_MODEL:\n",
    "    x_train, x_test, y_train, y_test = getTrainTestData(examData, mode, task, ratio / 100.0)\n",
    "    scaler = StandardScaler()\n",
    "    clf = GridSearchCV(LogisticRegression(),{'penalty': ['l1'], 'C': np.logspace(-5, 6, 20), 'solver': ['liblinear']})\n",
    "    clf.fit(scaler.fit_transform(all_featureSets['all'][14][x_train]), y_train)\n",
    "\n",
    "\n",
    "    data_train = scaler.transform(all_featureSets['all'][14][x_train])\n",
    "    data_test = scaler.transform(all_featureSets['all'][14][x_test])\n",
    "    print(\"Acc {:.2f}\".format(accuracy_score(y_test, clf.predict(data_test))), end= ' ')\n",
    "    print(\"F1 {:.2f}\".format(f1_score(y_test, clf.predict(data_test))), end= ' ')\n",
    "    print(\"CV best {:.2f}\".format(clf.best_score_))"
   ]
  },
  {
   "cell_type": "code",
   "execution_count": 832,
   "metadata": {
    "ExecuteTime": {
     "end_time": "2020-12-08T22:13:17.373150Z",
     "start_time": "2020-12-08T22:13:17.319780Z"
    },
    "scrolled": false
   },
   "outputs": [],
   "source": [
    "if not LOAD_MODEL:\n",
    "    evaluationScores = {}\n",
    "    trainedModels={}\n",
    "    SEED = np.random.randint(0, 1e5)\n",
    "\n",
    "    x_train, x_test, y_train, y_test = getTrainTestData(examData, mode, task, ratio / 100.0, random_state=SEED)\n",
    "    classifiersTypes = {\n",
    "#                         'lr': LogisticRegression(), \n",
    "#                         'las': LogisticRegression(),\n",
    "                        'rf': RandomForestClassifier(), \n",
    "                       }\n",
    "    classifiersParams = {\n",
    "                         'rf': {'n_estimators': [25, 50, 100, 200], 'criterion': ('gini', 'entropy'), 'max_features': ('auto', 'sqrt', 'log2')}, \n",
    "#                         'lr': {'penalty': ['l1'], 'C': [1e6], 'solver': ['liblinear']}, \n",
    "#                         'las': {'penalty': ['l1'], 'C': np.logspace(-5, 6, 20), 'solver': ['liblinear']}, \n",
    "                        }\n",
    "\n",
    "    trainedModels, scaler = trainModels(all_featureSets, x_train, y_train, weeks, classifiersTypes, classifiersParams, trainedModels, True, True, x_test, y_test)\n",
    "\n",
    "    evaluationMetrics = {'Acc': accuracy_score, 'F1': f1_score, 'P': precision_score, 'R': recall_score, 'TP': tp, 'FN': fn, 'TN': tn, 'FP': fp }\n",
    "    evaluationScores = computeMetrics(scaler, all_featureSets, trainedModels, x_test, y_test, evaluationMetrics, evaluationScores)"
   ]
  },
  {
   "cell_type": "code",
   "execution_count": 834,
   "metadata": {
    "ExecuteTime": {
     "end_time": "2020-12-08T22:13:24.432963Z",
     "start_time": "2020-12-08T22:13:24.385234Z"
    },
    "scrolled": false
   },
   "outputs": [],
   "source": [
    "# showBestParams(trainedModels)"
   ]
  },
  {
   "cell_type": "code",
   "execution_count": 835,
   "metadata": {
    "ExecuteTime": {
     "end_time": "2020-12-08T22:13:26.710150Z",
     "start_time": "2020-12-08T22:13:26.667759Z"
    }
   },
   "outputs": [],
   "source": [
    "if SAVE_MODEL:\n",
    "    saveTrainedModels(trainedModels, \"2_weekly_rf\", task, ratio, start, end, step, scaler, SEED)"
   ]
  },
  {
   "cell_type": "markdown",
   "metadata": {},
   "source": [
    "## Visualize performance"
   ]
  },
  {
   "cell_type": "code",
   "execution_count": 843,
   "metadata": {
    "ExecuteTime": {
     "end_time": "2020-12-08T22:16:02.773990Z",
     "start_time": "2020-12-08T22:16:02.696882Z"
    },
    "scrolled": false
   },
   "outputs": [
    {
     "data": {
      "text/html": [
       "<div>\n",
       "<style scoped>\n",
       "    .dataframe tbody tr th:only-of-type {\n",
       "        vertical-align: middle;\n",
       "    }\n",
       "\n",
       "    .dataframe tbody tr th {\n",
       "        vertical-align: top;\n",
       "    }\n",
       "\n",
       "    .dataframe thead th {\n",
       "        text-align: right;\n",
       "    }\n",
       "</style>\n",
       "<table border=\"1\" class=\"dataframe\">\n",
       "  <thead>\n",
       "    <tr style=\"text-align: right;\">\n",
       "      <th></th>\n",
       "      <th></th>\n",
       "      <th>Acc</th>\n",
       "      <th>F1</th>\n",
       "      <th>P</th>\n",
       "      <th>R</th>\n",
       "      <th>TP</th>\n",
       "      <th>FN</th>\n",
       "      <th>TN</th>\n",
       "      <th>FP</th>\n",
       "      <th>Nb coef</th>\n",
       "    </tr>\n",
       "    <tr>\n",
       "      <th>week</th>\n",
       "      <th>clf</th>\n",
       "      <th></th>\n",
       "      <th></th>\n",
       "      <th></th>\n",
       "      <th></th>\n",
       "      <th></th>\n",
       "      <th></th>\n",
       "      <th></th>\n",
       "      <th></th>\n",
       "      <th></th>\n",
       "    </tr>\n",
       "  </thead>\n",
       "  <tbody>\n",
       "    <tr>\n",
       "      <th>6</th>\n",
       "      <th>las</th>\n",
       "      <td>0.558140</td>\n",
       "      <td>0.387097</td>\n",
       "      <td>0.400000</td>\n",
       "      <td>0.3750</td>\n",
       "      <td>6.0</td>\n",
       "      <td>10.0</td>\n",
       "      <td>18.0</td>\n",
       "      <td>9.0</td>\n",
       "      <td>307</td>\n",
       "    </tr>\n",
       "    <tr>\n",
       "      <th>7</th>\n",
       "      <th>las</th>\n",
       "      <td>0.488372</td>\n",
       "      <td>0.388889</td>\n",
       "      <td>0.350000</td>\n",
       "      <td>0.4375</td>\n",
       "      <td>7.0</td>\n",
       "      <td>9.0</td>\n",
       "      <td>14.0</td>\n",
       "      <td>13.0</td>\n",
       "      <td>347</td>\n",
       "    </tr>\n",
       "    <tr>\n",
       "      <th>8</th>\n",
       "      <th>las</th>\n",
       "      <td>0.558140</td>\n",
       "      <td>0.457143</td>\n",
       "      <td>0.421053</td>\n",
       "      <td>0.5000</td>\n",
       "      <td>8.0</td>\n",
       "      <td>8.0</td>\n",
       "      <td>16.0</td>\n",
       "      <td>11.0</td>\n",
       "      <td>368</td>\n",
       "    </tr>\n",
       "    <tr>\n",
       "      <th>9</th>\n",
       "      <th>las</th>\n",
       "      <td>0.604651</td>\n",
       "      <td>0.451613</td>\n",
       "      <td>0.466667</td>\n",
       "      <td>0.4375</td>\n",
       "      <td>7.0</td>\n",
       "      <td>9.0</td>\n",
       "      <td>19.0</td>\n",
       "      <td>8.0</td>\n",
       "      <td>266</td>\n",
       "    </tr>\n",
       "    <tr>\n",
       "      <th>10</th>\n",
       "      <th>las</th>\n",
       "      <td>0.674419</td>\n",
       "      <td>0.500000</td>\n",
       "      <td>0.583333</td>\n",
       "      <td>0.4375</td>\n",
       "      <td>7.0</td>\n",
       "      <td>9.0</td>\n",
       "      <td>22.0</td>\n",
       "      <td>5.0</td>\n",
       "      <td>332</td>\n",
       "    </tr>\n",
       "    <tr>\n",
       "      <th>11</th>\n",
       "      <th>las</th>\n",
       "      <td>0.651163</td>\n",
       "      <td>0.571429</td>\n",
       "      <td>0.526316</td>\n",
       "      <td>0.6250</td>\n",
       "      <td>10.0</td>\n",
       "      <td>6.0</td>\n",
       "      <td>18.0</td>\n",
       "      <td>9.0</td>\n",
       "      <td>338</td>\n",
       "    </tr>\n",
       "    <tr>\n",
       "      <th>12</th>\n",
       "      <th>las</th>\n",
       "      <td>0.674419</td>\n",
       "      <td>0.588235</td>\n",
       "      <td>0.555556</td>\n",
       "      <td>0.6250</td>\n",
       "      <td>10.0</td>\n",
       "      <td>6.0</td>\n",
       "      <td>19.0</td>\n",
       "      <td>8.0</td>\n",
       "      <td>101</td>\n",
       "    </tr>\n",
       "    <tr>\n",
       "      <th>13</th>\n",
       "      <th>las</th>\n",
       "      <td>0.674419</td>\n",
       "      <td>0.562500</td>\n",
       "      <td>0.562500</td>\n",
       "      <td>0.5625</td>\n",
       "      <td>9.0</td>\n",
       "      <td>7.0</td>\n",
       "      <td>20.0</td>\n",
       "      <td>7.0</td>\n",
       "      <td>104</td>\n",
       "    </tr>\n",
       "    <tr>\n",
       "      <th>14</th>\n",
       "      <th>las</th>\n",
       "      <td>0.744186</td>\n",
       "      <td>0.685714</td>\n",
       "      <td>0.631579</td>\n",
       "      <td>0.7500</td>\n",
       "      <td>12.0</td>\n",
       "      <td>4.0</td>\n",
       "      <td>20.0</td>\n",
       "      <td>7.0</td>\n",
       "      <td>101</td>\n",
       "    </tr>\n",
       "  </tbody>\n",
       "</table>\n",
       "</div>"
      ],
      "text/plain": [
       "               Acc        F1         P       R    TP    FN    TN    FP  \\\n",
       "week clf                                                                 \n",
       "6    las  0.558140  0.387097  0.400000  0.3750   6.0  10.0  18.0   9.0   \n",
       "7    las  0.488372  0.388889  0.350000  0.4375   7.0   9.0  14.0  13.0   \n",
       "8    las  0.558140  0.457143  0.421053  0.5000   8.0   8.0  16.0  11.0   \n",
       "9    las  0.604651  0.451613  0.466667  0.4375   7.0   9.0  19.0   8.0   \n",
       "10   las  0.674419  0.500000  0.583333  0.4375   7.0   9.0  22.0   5.0   \n",
       "11   las  0.651163  0.571429  0.526316  0.6250  10.0   6.0  18.0   9.0   \n",
       "12   las  0.674419  0.588235  0.555556  0.6250  10.0   6.0  19.0   8.0   \n",
       "13   las  0.674419  0.562500  0.562500  0.5625   9.0   7.0  20.0   7.0   \n",
       "14   las  0.744186  0.685714  0.631579  0.7500  12.0   4.0  20.0   7.0   \n",
       "\n",
       "          Nb coef  \n",
       "week clf           \n",
       "6    las      307  \n",
       "7    las      347  \n",
       "8    las      368  \n",
       "9    las      266  \n",
       "10   las      332  \n",
       "11   las      338  \n",
       "12   las      101  \n",
       "13   las      104  \n",
       "14   las      101  "
      ]
     },
     "execution_count": 843,
     "metadata": {},
     "output_type": "execute_result"
    }
   ],
   "source": [
    "lst_data = []\n",
    "lst_name = []\n",
    "for flabel in evaluationScores.keys():\n",
    "    for wid in evaluationScores[flabel].keys():\n",
    "        for mid in evaluationScores[flabel][wid].keys():\n",
    "            lst_data.append([wid, mid] + [np.mean(value) if i <=3 or i >=8 else np.around(np.mean(value)) for i, value in enumerate(evaluationScores[flabel][wid][mid].values())])  \n",
    "            lst_name = ['week', 'clf'] + [emid for emid, _ in evaluationScores[flabel][wid][mid].items()]\n",
    "            lst_name.append('Nb coef')\n",
    "            lst_data[-1].append((trainedModels[flabel][wid][mid][0].best_estimator_.coef_[0] != 0).sum())\n",
    "            \n",
    "df_results = pd.DataFrame(lst_data, columns = lst_name)\n",
    "df_results[(df_results['clf'] == 'las')].set_index(['week', 'clf'])\n",
    "#[(df_results['week'] == 14) & (df_results['clf'] == 'lr')]"
   ]
  },
  {
   "cell_type": "code",
   "execution_count": 805,
   "metadata": {
    "ExecuteTime": {
     "end_time": "2020-12-08T21:59:20.086106Z",
     "start_time": "2020-12-08T21:59:20.018747Z"
    }
   },
   "outputs": [],
   "source": [
    "def plot_metrics_per_feature(df_results, weeks, emid, flabel):\n",
    "\n",
    "    plt.figure(num=None, figsize=(20, 6), dpi=80, facecolor='w', edgecolor='k')\n",
    "    \n",
    "    df_features = df_results[df_results['set'] == flabel]\n",
    "\n",
    "    plt.title(flabel)\n",
    "    colors = [plt.cm.rainbow(x) for x in np.linspace(0, 1, 10)]\n",
    "\n",
    "    for j, mid in enumerate(np.unique(df_features['clf'])): \n",
    "        df_classifiers = df_features[df_features['clf'] == mid]\n",
    "        plt.plot(weeks, df_classifiers[emid].values, lw=1, color=colors[j], label=mid)\n",
    "\n",
    "    plt.axhline(y=.62, xmin=6, xmax=14, linestyle='--', color='red')    \n",
    "        \n",
    "#     plt.ylim([0.5, 0.75])\n",
    "    plt.xlim([weeks[0], weeks[-1]])\n",
    "    plt.xlabel('Course week')\n",
    "    plt.ylabel(emid)\n",
    "    plt.grid(axis='y')\n",
    "    plt.legend(loc='upper left')"
   ]
  },
  {
   "cell_type": "code",
   "execution_count": 806,
   "metadata": {
    "ExecuteTime": {
     "end_time": "2020-12-08T21:59:20.607011Z",
     "start_time": "2020-12-08T21:59:20.252920Z"
    },
    "scrolled": true
   },
   "outputs": [
    {
     "data": {
      "image/png": "[encoded data removed]",
      "text/plain": [
       "<Figure size 1600x480 with 1 Axes>"
      ]
     },
     "metadata": {},
     "output_type": "display_data"
    }
   ],
   "source": [
    "plot_metrics_per_feature(df_results, weeks, 'Acc', 'all')"
   ]
  },
  {
   "cell_type": "markdown",
   "metadata": {},
   "source": [
    "## Coefficient analysis"
   ]
  },
  {
   "cell_type": "markdown",
   "metadata": {},
   "source": [
    "### Density by paper"
   ]
  },
  {
   "cell_type": "code",
   "execution_count": 1034,
   "metadata": {
    "ExecuteTime": {
     "end_time": "2020-12-10T18:49:31.685506Z",
     "start_time": "2020-12-10T18:49:31.638713Z"
    }
   },
   "outputs": [],
   "source": [
    "nb_students, nb_features = all_featureSets['all'][6].shape\n",
    "\n",
    "coef_abs_sum = np.zeros(nb_features)\n",
    "coef_sum = np.zeros(nb_features)\n",
    "for windex, wid in enumerate(weeks):\n",
    "    weekly_coefs = trainedModels['all'][wid]['las'][0].best_estimator_.coef_[0]\n",
    "    coef_abs_sum += np.abs(weekly_coefs)\n",
    "    coef_sum += weekly_coefs"
   ]
  },
  {
   "cell_type": "code",
   "execution_count": 867,
   "metadata": {
    "ExecuteTime": {
     "end_time": "2020-12-10T13:47:44.143798Z",
     "start_time": "2020-12-10T13:42:42.487892Z"
    }
   },
   "outputs": [],
   "source": [
    "akpinar = AkpinarEtAl()\n",
    "boroujeni = BoroujeniEtAl()\n",
    "chen_cui = ChenCui()\n",
    "he = HeEtAl()\n",
    "lalle_conati = LalleConati()\n",
    "lemay_doleck = LemayDoleck()"
   ]
  },
  {
   "cell_type": "code",
   "execution_count": 900,
   "metadata": {
    "ExecuteTime": {
     "end_time": "2020-12-10T17:26:53.226603Z",
     "start_time": "2020-12-10T17:26:53.184795Z"
    }
   },
   "outputs": [],
   "source": [
    "papers = [akpinar, boroujeni, chen_cui, he, lalle_conati, lemay_doleck]\n",
    "paper_names = list(map(lambda x: x.__class__.__name__, papers))"
   ]
  },
  {
   "cell_type": "code",
   "execution_count": 1024,
   "metadata": {
    "ExecuteTime": {
     "end_time": "2020-12-10T18:43:45.998328Z",
     "start_time": "2020-12-10T18:43:45.944285Z"
    },
    "scrolled": false
   },
   "outputs": [
    {
     "data": {
      "text/html": [
       "<div>\n",
       "<style scoped>\n",
       "    .dataframe tbody tr th:only-of-type {\n",
       "        vertical-align: middle;\n",
       "    }\n",
       "\n",
       "    .dataframe tbody tr th {\n",
       "        vertical-align: top;\n",
       "    }\n",
       "\n",
       "    .dataframe thead th {\n",
       "        text-align: right;\n",
       "    }\n",
       "</style>\n",
       "<table border=\"1\" class=\"dataframe\">\n",
       "  <thead>\n",
       "    <tr style=\"text-align: right;\">\n",
       "      <th></th>\n",
       "      <th>AkpinarEtAl</th>\n",
       "      <th>BoroujeniEtAl</th>\n",
       "      <th>ChenCui</th>\n",
       "      <th>HeEtAl</th>\n",
       "      <th>LalleConati</th>\n",
       "      <th>LemayDoleck</th>\n",
       "    </tr>\n",
       "  </thead>\n",
       "  <tbody>\n",
       "    <tr>\n",
       "      <th>Absolute sum of coefficients</th>\n",
       "      <td>1296.564121</td>\n",
       "      <td>34.263405</td>\n",
       "      <td>41.132628</td>\n",
       "      <td>14.67024</td>\n",
       "      <td>88.291644</td>\n",
       "      <td>27.628480</td>\n",
       "    </tr>\n",
       "    <tr>\n",
       "      <th>Coef contribution over nb of features</th>\n",
       "      <td>0.316235</td>\n",
       "      <td>2.855284</td>\n",
       "      <td>3.739330</td>\n",
       "      <td>4.89008</td>\n",
       "      <td>4.204364</td>\n",
       "      <td>2.762848</td>\n",
       "    </tr>\n",
       "  </tbody>\n",
       "</table>\n",
       "</div>"
      ],
      "text/plain": [
       "                                       AkpinarEtAl  BoroujeniEtAl    ChenCui  \\\n",
       "Absolute sum of coefficients           1296.564121      34.263405  41.132628   \n",
       "Coef contribution over nb of features     0.316235       2.855284   3.739330   \n",
       "\n",
       "                                         HeEtAl  LalleConati  LemayDoleck  \n",
       "Absolute sum of coefficients           14.67024    88.291644    27.628480  \n",
       "Coef contribution over nb of features   4.89008     4.204364     2.762848  "
      ]
     },
     "execution_count": 1024,
     "metadata": {},
     "output_type": "execute_result"
    }
   ],
   "source": [
    "paper_partition = [0]\n",
    "abs_sum = []\n",
    "prop = []\n",
    "last_idx = 0\n",
    "\n",
    "for paper in papers:\n",
    "    nb_features = paper.getNbFeatures()\n",
    "    paper_partition.append(last_idx + nb_features)\n",
    "    paper_coefs = coef_abs_sum[last_idx: last_idx + nb_features].sum()\n",
    "    abs_sum.append(paper_coefs)\n",
    "    prop.append(paper_coefs / nb_features)\n",
    "    last_idx += nb_features\n",
    "\n",
    "pd.DataFrame(data = [abs_sum, prop], columns= paper_names, index=['Absolute sum of coefficients', 'Coef contribution over nb of features'])"
   ]
  },
  {
   "cell_type": "code",
   "execution_count": 1025,
   "metadata": {
    "ExecuteTime": {
     "end_time": "2020-12-10T18:43:50.656718Z",
     "start_time": "2020-12-10T18:43:50.207647Z"
    }
   },
   "outputs": [
    {
     "data": {
      "image/png": "[encoded data removed]",
      "text/plain": [
       "<Figure size 1080x360 with 1 Axes>"
      ]
     },
     "metadata": {
      "needs_background": "light"
     },
     "output_type": "display_data"
    }
   ],
   "source": [
    "plt.figure(figsize=(15,5))\n",
    "plt.title(\"Coefficient contributions by paper\", fontSize=14)\n",
    "plt.ylabel(\"Absolute sum of paper coefficients\", fontSize=14)\n",
    "sns.barplot(x=paper_names, y=abs_sum);"
   ]
  },
  {
   "cell_type": "code",
   "execution_count": 1026,
   "metadata": {
    "ExecuteTime": {
     "end_time": "2020-12-10T18:43:50.934081Z",
     "start_time": "2020-12-10T18:43:50.661769Z"
    },
    "scrolled": false
   },
   "outputs": [
    {
     "data": {
      "image/png": "[encoded data removed]",
      "text/plain": [
       "<Figure size 1080x360 with 1 Axes>"
      ]
     },
     "metadata": {
      "needs_background": "light"
     },
     "output_type": "display_data"
    }
   ],
   "source": [
    "plt.figure(figsize=(15,5))\n",
    "plt.title(\"Coefficient contributions over the number of features\", fontSize=14)\n",
    "plt.ylabel(\"Absolute sum of coefficient over the number of features\")\n",
    "sns.barplot(x=paper_names, y=prop);"
   ]
  },
  {
   "cell_type": "markdown",
   "metadata": {},
   "source": [
    "### Best coefficients\n",
    "\n",
    "Let's find which coefficients has the most contributions among all the features."
   ]
  },
  {
   "cell_type": "code",
   "execution_count": 1036,
   "metadata": {
    "ExecuteTime": {
     "end_time": "2020-12-10T18:50:11.867998Z",
     "start_time": "2020-12-10T18:50:11.825318Z"
    },
    "scrolled": true
   },
   "outputs": [],
   "source": [
    "nb_best_coef = 10 #Number of coefficient we want\n",
    "\n",
    "#Select the specified coef\n",
    "best_idx = (-coef_abs_sum).argsort()\n",
    "top_idx = best_idx[:nb_best_coef]\n",
    "top_coef = coef_abs_sum[top_idx]\n",
    "top_mean_coef = coef_sum[top_idx] / nb_students"
   ]
  },
  {
   "cell_type": "code",
   "execution_count": 1028,
   "metadata": {
    "ExecuteTime": {
     "end_time": "2020-12-10T18:43:58.642462Z",
     "start_time": "2020-12-10T18:43:58.588481Z"
    }
   },
   "outputs": [],
   "source": [
    "#Associate each coef with the corresponding paper and feature\n",
    "paper_attribution = np.digitize(top_idx, paper_partition)\n",
    "paper_feature_idx = []\n",
    "for i, coef_idx in enumerate(top_idx):\n",
    "        paper_feature_idx.append(coef_idx - paper_partition[paper_attribution[i] - 1])\n",
    "        \n",
    "best_coef_paper = np.array(papers)[paper_attribution - 1]\n",
    "best_coef_paper_names = np.array(paper_names)[paper_attribution - 1]\n",
    "couple_paper_idx = list(zip( best_coef_paper, best_coef_paper_names, paper_feature_idx))"
   ]
  },
  {
   "cell_type": "code",
   "execution_count": 1042,
   "metadata": {
    "ExecuteTime": {
     "end_time": "2020-12-10T18:52:28.229190Z",
     "start_time": "2020-12-10T18:52:28.165873Z"
    },
    "scrolled": false
   },
   "outputs": [
    {
     "data": {
      "text/html": [
       "<div>\n",
       "<style scoped>\n",
       "    .dataframe tbody tr th:only-of-type {\n",
       "        vertical-align: middle;\n",
       "    }\n",
       "\n",
       "    .dataframe tbody tr th {\n",
       "        vertical-align: top;\n",
       "    }\n",
       "\n",
       "    .dataframe thead th {\n",
       "        text-align: right;\n",
       "    }\n",
       "</style>\n",
       "<table border=\"1\" class=\"dataframe\">\n",
       "  <thead>\n",
       "    <tr style=\"text-align: right;\">\n",
       "      <th></th>\n",
       "      <th>Paper</th>\n",
       "      <th>Absolute coef sum</th>\n",
       "      <th>Mean value</th>\n",
       "    </tr>\n",
       "    <tr>\n",
       "      <th>Feature</th>\n",
       "      <th></th>\n",
       "      <th></th>\n",
       "      <th></th>\n",
       "    </tr>\n",
       "  </thead>\n",
       "  <tbody>\n",
       "    <tr>\n",
       "      <th>avgWeeklyPropReplayed</th>\n",
       "      <td>LalleConati</td>\n",
       "      <td>15.617391</td>\n",
       "      <td>-0.072978</td>\n",
       "    </tr>\n",
       "    <tr>\n",
       "      <th>(Video.Play, Video.Load, Video.Seek)</th>\n",
       "      <td>AkpinarEtAl</td>\n",
       "      <td>14.416458</td>\n",
       "      <td>0.067367</td>\n",
       "    </tr>\n",
       "    <tr>\n",
       "      <th>(Problem.Graded, Problem.Check, Problem.Reset)</th>\n",
       "      <td>AkpinarEtAl</td>\n",
       "      <td>14.078774</td>\n",
       "      <td>0.065789</td>\n",
       "    </tr>\n",
       "    <tr>\n",
       "      <th>(Video.Pause, Video.Pause, Problem.Reset)</th>\n",
       "      <td>AkpinarEtAl</td>\n",
       "      <td>13.959073</td>\n",
       "      <td>0.065229</td>\n",
       "    </tr>\n",
       "    <tr>\n",
       "      <th>(Problem.Check, Problem.Graded, Problem.Reset)</th>\n",
       "      <td>AkpinarEtAl</td>\n",
       "      <td>13.029472</td>\n",
       "      <td>0.050059</td>\n",
       "    </tr>\n",
       "    <tr>\n",
       "      <th>(Video.Play, Video.Play, Problem.Check)</th>\n",
       "      <td>AkpinarEtAl</td>\n",
       "      <td>11.820441</td>\n",
       "      <td>-0.055236</td>\n",
       "    </tr>\n",
       "    <tr>\n",
       "      <th>stdWeeklyPropReplayed</th>\n",
       "      <td>LalleConati</td>\n",
       "      <td>11.696945</td>\n",
       "      <td>-0.054659</td>\n",
       "    </tr>\n",
       "    <tr>\n",
       "      <th>(Video.Load, Video.Load, Video.Load)</th>\n",
       "      <td>AkpinarEtAl</td>\n",
       "      <td>11.555708</td>\n",
       "      <td>0.048676</td>\n",
       "    </tr>\n",
       "    <tr>\n",
       "      <th>attendanceVideos</th>\n",
       "      <td>AkpinarEtAl</td>\n",
       "      <td>11.511359</td>\n",
       "      <td>0.049599</td>\n",
       "    </tr>\n",
       "    <tr>\n",
       "      <th>(Video.Pause, Problem.Check, Problem.Graded)</th>\n",
       "      <td>AkpinarEtAl</td>\n",
       "      <td>10.566664</td>\n",
       "      <td>0.001246</td>\n",
       "    </tr>\n",
       "  </tbody>\n",
       "</table>\n",
       "</div>"
      ],
      "text/plain": [
       "                                                      Paper  \\\n",
       "Feature                                                       \n",
       "avgWeeklyPropReplayed                           LalleConati   \n",
       "(Video.Play, Video.Load, Video.Seek)            AkpinarEtAl   \n",
       "(Problem.Graded, Problem.Check, Problem.Reset)  AkpinarEtAl   \n",
       "(Video.Pause, Video.Pause, Problem.Reset)       AkpinarEtAl   \n",
       "(Problem.Check, Problem.Graded, Problem.Reset)  AkpinarEtAl   \n",
       "(Video.Play, Video.Play, Problem.Check)         AkpinarEtAl   \n",
       "stdWeeklyPropReplayed                           LalleConati   \n",
       "(Video.Load, Video.Load, Video.Load)            AkpinarEtAl   \n",
       "attendanceVideos                                AkpinarEtAl   \n",
       "(Video.Pause, Problem.Check, Problem.Graded)    AkpinarEtAl   \n",
       "\n",
       "                                                Absolute coef sum  Mean value  \n",
       "Feature                                                                        \n",
       "avgWeeklyPropReplayed                                   15.617391   -0.072978  \n",
       "(Video.Play, Video.Load, Video.Seek)                    14.416458    0.067367  \n",
       "(Problem.Graded, Problem.Check, Problem.Reset)          14.078774    0.065789  \n",
       "(Video.Pause, Video.Pause, Problem.Reset)               13.959073    0.065229  \n",
       "(Problem.Check, Problem.Graded, Problem.Reset)          13.029472    0.050059  \n",
       "(Video.Play, Video.Play, Problem.Check)                 11.820441   -0.055236  \n",
       "stdWeeklyPropReplayed                                   11.696945   -0.054659  \n",
       "(Video.Load, Video.Load, Video.Load)                    11.555708    0.048676  \n",
       "attendanceVideos                                        11.511359    0.049599  \n",
       "(Video.Pause, Problem.Check, Problem.Graded)            10.566664    0.001246  "
      ]
     },
     "execution_count": 1042,
     "metadata": {},
     "output_type": "execute_result"
    }
   ],
   "source": [
    "#Display values\n",
    "feat_array = []\n",
    "for i, (paper, paper_name,feat_idx) in enumerate(couple_paper_idx):\n",
    "    feat_array.append([paper.getFeatureNames()[feat_idx], paper_name, top_coef[i], top_mean_coef[i]])\n",
    "pd.DataFrame(data=feat_array, columns=['Feature','Paper', 'Absolute coef sum', 'Mean value']).set_index(\"Feature\")"
   ]
  },
  {
   "cell_type": "markdown",
   "metadata": {},
   "source": [
    "### Weekly analysis"
   ]
  },
  {
   "cell_type": "code",
   "execution_count": null,
   "metadata": {},
   "outputs": [],
   "source": []
  }
 ],
 "metadata": {
  "kernelspec": {
   "display_name": "Python 3",
   "language": "python",
   "name": "python3"
  },
  "language_info": {
   "codemirror_mode": {
    "name": "ipython",
    "version": 3
   },
   "file_extension": ".py",
   "mimetype": "text/x-python",
   "name": "python",
   "nbconvert_exporter": "python",
   "pygments_lexer": "ipython3",
   "version": "3.7.1"
  },
  "toc": {
   "base_numbering": 1,
   "nav_menu": {},
   "number_sections": true,
   "sideBar": true,
   "skip_h1_title": false,
   "title_cell": "Table of Contents",
   "title_sidebar": "Contents",
   "toc_cell": false,
   "toc_position": {},
   "toc_section_display": true,
   "toc_window_display": false
  }
 },
 "nbformat": 4,
 "nbformat_minor": 1
}
