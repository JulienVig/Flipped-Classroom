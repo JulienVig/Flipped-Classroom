{
 "cells": [
  {
   "cell_type": "code",
   "execution_count": 1,
   "metadata": {
    "ExecuteTime": {
     "end_time": "2020-11-06T13:35:02.236431Z",
     "start_time": "2020-11-06T13:34:50.138957Z"
    }
   },
   "outputs": [
    {
     "name": "stderr",
     "output_type": "stream",
     "text": [
      "/Applications/anaconda3/lib/python3.7/site-packages/statsmodels/tools/_testing.py:19: FutureWarning: pandas.util.testing is deprecated. Use the functions in the public API at pandas.testing instead.\n",
      "  import pandas.util.testing as tm\n"
     ]
    }
   ],
   "source": [
    "#Library imports\n",
    "\n",
    "import numpy as np\n",
    "import pandas as pd\n",
    "import matplotlib.pyplot as plt\n",
    "import seaborn as sns\n",
    "sns.set_style(\"darkgrid\")\n",
    "from datetime import datetime, timedelta"
   ]
  },
  {
   "cell_type": "code",
   "execution_count": 3,
   "metadata": {
    "ExecuteTime": {
     "end_time": "2020-11-06T13:35:31.492555Z",
     "start_time": "2020-11-06T13:35:30.148121Z"
    }
   },
   "outputs": [],
   "source": [
    "#Import local database interface \n",
    "import os\n",
    "import sys\n",
    "module_path = sys.path.append(os.path.abspath(os.path.join('..')))\n",
    "%load_ext autoreload\n",
    "%autoreload 2\n",
    "from helpers.db_query import *\n",
    "from helpers.data_process import *\n"
   ]
  },
  {
   "cell_type": "code",
   "execution_count": 3,
   "metadata": {
    "ExecuteTime": {
     "end_time": "2020-10-02T07:27:16.469960Z",
     "start_time": "2020-10-02T07:27:16.442156Z"
    }
   },
   "outputs": [],
   "source": [
    "#Wrapper function for the database interface\n",
    "\n",
    "def queryDB(query, labels):\n",
    "    db = MySQLConnector()\n",
    "    out = db.execute(query)\n",
    "    db.close()\n",
    "    return pd.DataFrame.from_records(out, columns=labels)\n",
    "\n",
    "COURSES_ID = \"('EPFL-AlgebreLineaire-2017_T3', 'EPFL-AlgebreLineaire-2018')\""
   ]
  },
  {
   "cell_type": "code",
   "execution_count": 4,
   "metadata": {
    "ExecuteTime": {
     "end_time": "2020-10-02T07:27:16.495839Z",
     "start_time": "2020-10-02T07:27:16.477711Z"
    }
   },
   "outputs": [],
   "source": [
    "# Helper function used to select columns from a table\n",
    "# Without it, it is needed to duplicate the column names for the MySQL query\n",
    "# and the from_records columns argument\n",
    "\n",
    "def selectColumns(columns, table, *args):\n",
    "    query = \"SELECT \"\n",
    "    for col in columns:\n",
    "        query += col + \", \"\n",
    "    query = query[:-2] # remove last comma\n",
    "    query += \" FROM ca_courseware.\" + table +\" \"\n",
    "    if(args):\n",
    "        query += \"LIMIT \" + str(args[0])\n",
    "\n",
    "    db = MySQLConnector()\n",
    "    out = db.execute(query)\n",
    "    db.close()\n",
    "    if \"*\" in columns:\n",
    "        return pd.DataFrame.from_records(out)\n",
    "    else:\n",
    "        return pd.DataFrame.from_records(out, columns=columns)"
   ]
  },
  {
   "cell_type": "markdown",
   "metadata": {},
   "source": [
    "## User Location\n",
    "\n",
    "Let's start by analyzing the different countries from which the MOOC has been watched over 2018 and 2019."
   ]
  },
  {
   "cell_type": "code",
   "execution_count": 5,
   "metadata": {
    "ExecuteTime": {
     "end_time": "2020-10-02T07:27:16.734940Z",
     "start_time": "2020-10-02T07:27:16.507814Z"
    },
    "scrolled": true
   },
   "outputs": [
    {
     "name": "stdout",
     "output_type": "stream",
     "text": [
      "Number of distinct countries: 72\n"
     ]
    }
   ],
   "source": [
    "query = \"\"\"\n",
    "SELECT Country, count(AccountUserID) as NumberOfUser\n",
    "FROM ca_courseware.User_Location Location\n",
    "WHERE DataPackageID in {}\n",
    "GROUP BY Country\n",
    "ORDER BY NumberOfUser DESC;\n",
    "\"\"\".format(COURSES_ID)\n",
    "\n",
    "df = queryDB(query,[\"Country\", \"Number of User\"])\n",
    "print(\"Number of distinct countries: \"+str(df.size))\n"
   ]
  },
  {
   "cell_type": "code",
   "execution_count": 6,
   "metadata": {
    "ExecuteTime": {
     "end_time": "2020-10-02T07:27:16.770067Z",
     "start_time": "2020-10-02T07:27:16.738983Z"
    },
    "scrolled": false
   },
   "outputs": [
    {
     "data": {
      "text/html": [
       "<div>\n",
       "<style scoped>\n",
       "    .dataframe tbody tr th:only-of-type {\n",
       "        vertical-align: middle;\n",
       "    }\n",
       "\n",
       "    .dataframe tbody tr th {\n",
       "        vertical-align: top;\n",
       "    }\n",
       "\n",
       "    .dataframe thead th {\n",
       "        text-align: right;\n",
       "    }\n",
       "</style>\n",
       "<table border=\"1\" class=\"dataframe\">\n",
       "  <thead>\n",
       "    <tr style=\"text-align: right;\">\n",
       "      <th></th>\n",
       "      <th>Country</th>\n",
       "      <th>Number of User</th>\n",
       "    </tr>\n",
       "  </thead>\n",
       "  <tbody>\n",
       "    <tr>\n",
       "      <th>0</th>\n",
       "      <td>Switzerland</td>\n",
       "      <td>808</td>\n",
       "    </tr>\n",
       "    <tr>\n",
       "      <th>1</th>\n",
       "      <td>France</td>\n",
       "      <td>128</td>\n",
       "    </tr>\n",
       "    <tr>\n",
       "      <th>2</th>\n",
       "      <td>Netherlands</td>\n",
       "      <td>60</td>\n",
       "    </tr>\n",
       "    <tr>\n",
       "      <th>3</th>\n",
       "      <td>United States</td>\n",
       "      <td>24</td>\n",
       "    </tr>\n",
       "    <tr>\n",
       "      <th>4</th>\n",
       "      <td>Mauritius</td>\n",
       "      <td>21</td>\n",
       "    </tr>\n",
       "    <tr>\n",
       "      <th>5</th>\n",
       "      <td>Morocco</td>\n",
       "      <td>12</td>\n",
       "    </tr>\n",
       "    <tr>\n",
       "      <th>6</th>\n",
       "      <td>United Kingdom</td>\n",
       "      <td>8</td>\n",
       "    </tr>\n",
       "    <tr>\n",
       "      <th>7</th>\n",
       "      <td>Algeria</td>\n",
       "      <td>8</td>\n",
       "    </tr>\n",
       "    <tr>\n",
       "      <th>8</th>\n",
       "      <td>Spain</td>\n",
       "      <td>5</td>\n",
       "    </tr>\n",
       "    <tr>\n",
       "      <th>9</th>\n",
       "      <td>Tunisia</td>\n",
       "      <td>5</td>\n",
       "    </tr>\n",
       "  </tbody>\n",
       "</table>\n",
       "</div>"
      ],
      "text/plain": [
       "          Country  Number of User\n",
       "0     Switzerland             808\n",
       "1          France             128\n",
       "2     Netherlands              60\n",
       "3   United States              24\n",
       "4       Mauritius              21\n",
       "5         Morocco              12\n",
       "6  United Kingdom               8\n",
       "7         Algeria               8\n",
       "8           Spain               5\n",
       "9         Tunisia               5"
      ]
     },
     "execution_count": 6,
     "metadata": {},
     "output_type": "execute_result"
    }
   ],
   "source": [
    "df.head(10)"
   ]
  },
  {
   "cell_type": "code",
   "execution_count": 7,
   "metadata": {
    "ExecuteTime": {
     "end_time": "2020-10-02T07:27:17.242687Z",
     "start_time": "2020-10-02T07:27:16.775311Z"
    }
   },
   "outputs": [
    {
     "data": {
      "text/plain": [
       "<matplotlib.axes._subplots.AxesSubplot at 0x11d9003c8>"
      ]
     },
     "execution_count": 7,
     "metadata": {},
     "output_type": "execute_result"
    },
    {
     "data": {
      "image/png": "[encoded data removed]",
      "text/plain": [
       "<Figure size 432x288 with 1 Axes>"
      ]
     },
     "metadata": {
      "needs_background": "light"
     },
     "output_type": "display_data"
    }
   ],
   "source": [
    "df.head().plot(x = \"Country\", kind = \"bar\")"
   ]
  },
  {
   "cell_type": "markdown",
   "metadata": {},
   "source": [
    "As expected, most of the users are located in Switzerland, where EPFL is located, and in French speaking countries.\n",
    "Note that a single user can have multiple locations if he watches the MOOC from different countries.\n",
    "\n",
    "Let's now zoom out to the continent scale."
   ]
  },
  {
   "cell_type": "code",
   "execution_count": 8,
   "metadata": {
    "ExecuteTime": {
     "end_time": "2020-10-02T07:27:17.306001Z",
     "start_time": "2020-10-02T07:27:17.249172Z"
    }
   },
   "outputs": [
    {
     "data": {
      "text/html": [
       "<div>\n",
       "<style scoped>\n",
       "    .dataframe tbody tr th:only-of-type {\n",
       "        vertical-align: middle;\n",
       "    }\n",
       "\n",
       "    .dataframe tbody tr th {\n",
       "        vertical-align: top;\n",
       "    }\n",
       "\n",
       "    .dataframe thead th {\n",
       "        text-align: right;\n",
       "    }\n",
       "</style>\n",
       "<table border=\"1\" class=\"dataframe\">\n",
       "  <thead>\n",
       "    <tr style=\"text-align: right;\">\n",
       "      <th></th>\n",
       "      <th>Continent</th>\n",
       "      <th>Number of user</th>\n",
       "    </tr>\n",
       "  </thead>\n",
       "  <tbody>\n",
       "    <tr>\n",
       "      <th>0</th>\n",
       "      <td>Europe</td>\n",
       "      <td>1028</td>\n",
       "    </tr>\n",
       "    <tr>\n",
       "      <th>1</th>\n",
       "      <td>Africa</td>\n",
       "      <td>61</td>\n",
       "    </tr>\n",
       "    <tr>\n",
       "      <th>2</th>\n",
       "      <td>Americas</td>\n",
       "      <td>28</td>\n",
       "    </tr>\n",
       "    <tr>\n",
       "      <th>3</th>\n",
       "      <td>Asia</td>\n",
       "      <td>8</td>\n",
       "    </tr>\n",
       "  </tbody>\n",
       "</table>\n",
       "</div>"
      ],
      "text/plain": [
       "  Continent  Number of user\n",
       "0    Europe            1028\n",
       "1    Africa              61\n",
       "2  Americas              28\n",
       "3      Asia               8"
      ]
     },
     "execution_count": 8,
     "metadata": {},
     "output_type": "execute_result"
    }
   ],
   "source": [
    "query = \"\"\"\n",
    "SELECT Continent, count(AccountUserID) as NumberOfUser\n",
    "FROM ca_courseware.User_Location Location\n",
    "WHERE DataPackageID in {}\n",
    "GROUP BY Continent\n",
    "ORDER BY NumberOfUser DESC;\n",
    "\"\"\".format(COURSES_ID)\n",
    "\n",
    "df = queryDB(query, [\"Continent\", \"Number of user\"])\n",
    "df"
   ]
  },
  {
   "cell_type": "code",
   "execution_count": 9,
   "metadata": {
    "ExecuteTime": {
     "end_time": "2020-10-02T07:27:17.642902Z",
     "start_time": "2020-10-02T07:27:17.311087Z"
    },
    "scrolled": true
   },
   "outputs": [
    {
     "data": {
      "text/plain": [
       "<matplotlib.axes._subplots.AxesSubplot at 0x11dca0da0>"
      ]
     },
     "execution_count": 9,
     "metadata": {},
     "output_type": "execute_result"
    },
    {
     "data": {
      "image/png": "[encoded data removed]",
      "text/plain": [
       "<Figure size 432x288 with 1 Axes>"
      ]
     },
     "metadata": {
      "needs_background": "light"
     },
     "output_type": "display_data"
    }
   ],
   "source": [
    "df.plot(x=\"Continent\", kind=\"bar\")"
   ]
  },
  {
   "cell_type": "markdown",
   "metadata": {},
   "source": [
    "Not surprisingly Europe is still first. Let's notice that the African continent comes second even if the first non-european country is the United States. \n",
    "Some possible explanations:\n",
    "* Africa contains more countries\n",
    "* Africa contains more french speaking countries\n",
    "* Even if the United States is the first non-european country, it is followed closely by Morocco."
   ]
  },
  {
   "cell_type": "markdown",
   "metadata": {
    "ExecuteTime": {
     "end_time": "2020-09-04T09:58:32.211303Z",
     "start_time": "2020-09-04T09:58:32.201657Z"
    }
   },
   "source": [
    "## Video Events\n",
    "\n",
    "Let's now check the different events recorded during the videos."
   ]
  },
  {
   "cell_type": "code",
   "execution_count": 10,
   "metadata": {
    "ExecuteTime": {
     "end_time": "2020-10-02T07:27:26.461083Z",
     "start_time": "2020-10-02T07:27:17.650905Z"
    }
   },
   "outputs": [
    {
     "data": {
      "text/html": [
       "<div>\n",
       "<style scoped>\n",
       "    .dataframe tbody tr th:only-of-type {\n",
       "        vertical-align: middle;\n",
       "    }\n",
       "\n",
       "    .dataframe tbody tr th {\n",
       "        vertical-align: top;\n",
       "    }\n",
       "\n",
       "    .dataframe thead th {\n",
       "        text-align: right;\n",
       "    }\n",
       "</style>\n",
       "<table border=\"1\" class=\"dataframe\">\n",
       "  <thead>\n",
       "    <tr style=\"text-align: right;\">\n",
       "      <th></th>\n",
       "      <th>Events</th>\n",
       "      <th>Occurences</th>\n",
       "    </tr>\n",
       "  </thead>\n",
       "  <tbody>\n",
       "    <tr>\n",
       "      <th>0</th>\n",
       "      <td>Video.Play</td>\n",
       "      <td>183821</td>\n",
       "    </tr>\n",
       "    <tr>\n",
       "      <th>1</th>\n",
       "      <td>Video.Pause</td>\n",
       "      <td>134412</td>\n",
       "    </tr>\n",
       "    <tr>\n",
       "      <th>2</th>\n",
       "      <td>Video.Seek</td>\n",
       "      <td>64068</td>\n",
       "    </tr>\n",
       "    <tr>\n",
       "      <th>3</th>\n",
       "      <td>Video.Transcript.Translate.EN</td>\n",
       "      <td>33554</td>\n",
       "    </tr>\n",
       "    <tr>\n",
       "      <th>4</th>\n",
       "      <td>Video.Load</td>\n",
       "      <td>32105</td>\n",
       "    </tr>\n",
       "    <tr>\n",
       "      <th>5</th>\n",
       "      <td>Video.Stop</td>\n",
       "      <td>12990</td>\n",
       "    </tr>\n",
       "    <tr>\n",
       "      <th>6</th>\n",
       "      <td>Video.SpeedChange</td>\n",
       "      <td>4974</td>\n",
       "    </tr>\n",
       "    <tr>\n",
       "      <th>7</th>\n",
       "      <td>Video.Transcript.Hide</td>\n",
       "      <td>667</td>\n",
       "    </tr>\n",
       "    <tr>\n",
       "      <th>8</th>\n",
       "      <td>Video.Transcript.Show</td>\n",
       "      <td>379</td>\n",
       "    </tr>\n",
       "    <tr>\n",
       "      <th>9</th>\n",
       "      <td>Video.Transcript.Download</td>\n",
       "      <td>185</td>\n",
       "    </tr>\n",
       "  </tbody>\n",
       "</table>\n",
       "</div>"
      ],
      "text/plain": [
       "                          Events  Occurences\n",
       "0                     Video.Play      183821\n",
       "1                    Video.Pause      134412\n",
       "2                     Video.Seek       64068\n",
       "3  Video.Transcript.Translate.EN       33554\n",
       "4                     Video.Load       32105\n",
       "5                     Video.Stop       12990\n",
       "6              Video.SpeedChange        4974\n",
       "7          Video.Transcript.Hide         667\n",
       "8          Video.Transcript.Show         379\n",
       "9      Video.Transcript.Download         185"
      ]
     },
     "execution_count": 10,
     "metadata": {},
     "output_type": "execute_result"
    }
   ],
   "source": [
    "query =\"\"\"\n",
    "SELECT DISTINCT EventType, count(*) AS Occurences FROM ca_courseware.Video_Events\n",
    "WHERE DataPackageID in {}\n",
    "GROUP BY EventType\n",
    "ORDER BY OCCURENCES DESC\n",
    "\"\"\".format(COURSES_ID)\n",
    "df = queryDB(query, [\"Events\", \"Occurences\"])\n",
    "df"
   ]
  },
  {
   "cell_type": "markdown",
   "metadata": {},
   "source": [
    "\n",
    "Some interesting facts to look into:\n",
    "* The most usual speed change amount, do people with high grades usually slow down or speed up the video?\n",
    "* Does using the transcript helps getting better performance? Or is it the opposite?\n",
    "* Correlation between the number of times a student watched the videos and performance?\n",
    "* Does \"Pause to ponder\" help?\n",
    "\n",
    "For now let's just plot the available facts: the speed change amount, the replay amount and the process the \"pause to ponder\" event."
   ]
  },
  {
   "cell_type": "markdown",
   "metadata": {},
   "source": [
    "### Speed Change "
   ]
  },
  {
   "cell_type": "code",
   "execution_count": 11,
   "metadata": {
    "ExecuteTime": {
     "end_time": "2020-10-02T07:27:33.798330Z",
     "start_time": "2020-10-02T07:27:26.465307Z"
    }
   },
   "outputs": [
    {
     "data": {
      "text/html": [
       "<div>\n",
       "<style scoped>\n",
       "    .dataframe tbody tr th:only-of-type {\n",
       "        vertical-align: middle;\n",
       "    }\n",
       "\n",
       "    .dataframe tbody tr th {\n",
       "        vertical-align: top;\n",
       "    }\n",
       "\n",
       "    .dataframe thead th {\n",
       "        text-align: right;\n",
       "    }\n",
       "</style>\n",
       "<table border=\"1\" class=\"dataframe\">\n",
       "  <thead>\n",
       "    <tr style=\"text-align: right;\">\n",
       "      <th></th>\n",
       "      <th>SpeedChange</th>\n",
       "      <th>Occurences</th>\n",
       "      <th>OldSpeed</th>\n",
       "      <th>NewSpeed</th>\n",
       "    </tr>\n",
       "  </thead>\n",
       "  <tbody>\n",
       "    <tr>\n",
       "      <th>0</th>\n",
       "      <td>1.50</td>\n",
       "      <td>22</td>\n",
       "      <td>0.50</td>\n",
       "      <td>2.00</td>\n",
       "    </tr>\n",
       "    <tr>\n",
       "      <th>1</th>\n",
       "      <td>1.25</td>\n",
       "      <td>7</td>\n",
       "      <td>0.75</td>\n",
       "      <td>2.00</td>\n",
       "    </tr>\n",
       "    <tr>\n",
       "      <th>2</th>\n",
       "      <td>1.00</td>\n",
       "      <td>226</td>\n",
       "      <td>1.00</td>\n",
       "      <td>2.00</td>\n",
       "    </tr>\n",
       "    <tr>\n",
       "      <th>3</th>\n",
       "      <td>0.75</td>\n",
       "      <td>184</td>\n",
       "      <td>1.25</td>\n",
       "      <td>2.00</td>\n",
       "    </tr>\n",
       "    <tr>\n",
       "      <th>4</th>\n",
       "      <td>0.50</td>\n",
       "      <td>1024</td>\n",
       "      <td>0.50</td>\n",
       "      <td>1.00</td>\n",
       "    </tr>\n",
       "    <tr>\n",
       "      <th>5</th>\n",
       "      <td>0.25</td>\n",
       "      <td>1254</td>\n",
       "      <td>1.25</td>\n",
       "      <td>1.50</td>\n",
       "    </tr>\n",
       "    <tr>\n",
       "      <th>6</th>\n",
       "      <td>-0.25</td>\n",
       "      <td>924</td>\n",
       "      <td>1.25</td>\n",
       "      <td>1.00</td>\n",
       "    </tr>\n",
       "    <tr>\n",
       "      <th>7</th>\n",
       "      <td>-0.50</td>\n",
       "      <td>843</td>\n",
       "      <td>2.00</td>\n",
       "      <td>1.50</td>\n",
       "    </tr>\n",
       "    <tr>\n",
       "      <th>8</th>\n",
       "      <td>-0.75</td>\n",
       "      <td>206</td>\n",
       "      <td>2.00</td>\n",
       "      <td>1.25</td>\n",
       "    </tr>\n",
       "    <tr>\n",
       "      <th>9</th>\n",
       "      <td>-1.00</td>\n",
       "      <td>250</td>\n",
       "      <td>2.00</td>\n",
       "      <td>1.00</td>\n",
       "    </tr>\n",
       "    <tr>\n",
       "      <th>10</th>\n",
       "      <td>-1.25</td>\n",
       "      <td>8</td>\n",
       "      <td>2.00</td>\n",
       "      <td>0.75</td>\n",
       "    </tr>\n",
       "    <tr>\n",
       "      <th>11</th>\n",
       "      <td>-1.50</td>\n",
       "      <td>26</td>\n",
       "      <td>2.00</td>\n",
       "      <td>0.50</td>\n",
       "    </tr>\n",
       "  </tbody>\n",
       "</table>\n",
       "</div>"
      ],
      "text/plain": [
       "    SpeedChange  Occurences  OldSpeed  NewSpeed\n",
       "0          1.50          22      0.50      2.00\n",
       "1          1.25           7      0.75      2.00\n",
       "2          1.00         226      1.00      2.00\n",
       "3          0.75         184      1.25      2.00\n",
       "4          0.50        1024      0.50      1.00\n",
       "5          0.25        1254      1.25      1.50\n",
       "6         -0.25         924      1.25      1.00\n",
       "7         -0.50         843      2.00      1.50\n",
       "8         -0.75         206      2.00      1.25\n",
       "9         -1.00         250      2.00      1.00\n",
       "10        -1.25           8      2.00      0.75\n",
       "11        -1.50          26      2.00      0.50"
      ]
     },
     "execution_count": 11,
     "metadata": {},
     "output_type": "execute_result"
    }
   ],
   "source": [
    "query =\"\"\"\n",
    "SELECT (NewSpeed - OldSpeed) AS SpeedChange, count(*) AS Occurences, OldSpeed, NewSpeed FROM ca_courseware.Video_Events\n",
    "WHERE DataPackageID in {}\n",
    "AND OldSpeed is not null AND NewSpeed is not null\n",
    "AND OldSpeed != NewSpeed\n",
    "GROUP BY SpeedChange\n",
    "ORDER BY SpeedChange DESC\n",
    "\"\"\".format(COURSES_ID)\n",
    "df = queryDB(query, [\"SpeedChange\", \"Occurences\",\"OldSpeed\", \"NewSpeed\"])\n",
    "df"
   ]
  },
  {
   "cell_type": "code",
   "execution_count": 12,
   "metadata": {
    "ExecuteTime": {
     "end_time": "2020-10-02T07:27:34.413479Z",
     "start_time": "2020-10-02T07:27:33.803137Z"
    }
   },
   "outputs": [
    {
     "data": {
      "text/plain": [
       "<matplotlib.axes._subplots.AxesSubplot at 0x11ddb5a58>"
      ]
     },
     "execution_count": 12,
     "metadata": {},
     "output_type": "execute_result"
    },
    {
     "data": {
      "image/png": "[encoded data removed]",
      "text/plain": [
       "<Figure size 432x288 with 1 Axes>"
      ]
     },
     "metadata": {
      "needs_background": "light"
     },
     "output_type": "display_data"
    }
   ],
   "source": [
    "df.plot(x=\"SpeedChange\", kind=\"bar\")"
   ]
  },
  {
   "cell_type": "markdown",
   "metadata": {},
   "source": [
    "### Number of videos watched and replay average\n",
    "Let's see the how many videos a student usually watch during the MOOC."
   ]
  },
  {
   "cell_type": "code",
   "execution_count": 13,
   "metadata": {
    "ExecuteTime": {
     "end_time": "2020-10-02T07:27:44.364998Z",
     "start_time": "2020-10-02T07:27:34.419554Z"
    }
   },
   "outputs": [],
   "source": [
    "query =\"\"\"\n",
    "SELECT AccountUserID, VideoID, DataPackageID, from_unixtime(TimeStamp, '%Y-%m-%d') FROM ca_courseware.Video_Events\n",
    "WHERE DataPackageID in {}\n",
    "\"\"\".format(COURSES_ID)\n",
    "df = queryDB(query, [\"AccountUserID\", \"VideoID\", \"DataPackageID\", \"TimeStamp\"])\n"
   ]
  },
  {
   "cell_type": "markdown",
   "metadata": {},
   "source": [
    "#### How many videos did each student watch?"
   ]
  },
  {
   "cell_type": "code",
   "execution_count": 14,
   "metadata": {
    "ExecuteTime": {
     "end_time": "2020-10-02T07:27:45.742259Z",
     "start_time": "2020-10-02T07:27:44.369428Z"
    },
    "scrolled": true
   },
   "outputs": [
    {
     "data": {
      "image/png": "[encoded data removed]",
      "text/plain": [
       "<Figure size 1080x360 with 2 Axes>"
      ]
     },
     "metadata": {
      "needs_background": "light"
     },
     "output_type": "display_data"
    }
   ],
   "source": [
    "fig, axes = plt.subplots(nrows=1, ncols=2, figsize=(15,5))\n",
    "\n",
    "for i in range(2):\n",
    "    year = '2017_T3' if i == 0 else '2018'\n",
    "    video_df = df[df[\"DataPackageID\"] == 'EPFL-AlgebreLineaire-{}'.format(year)][['AccountUserID', 'VideoID']].drop_duplicates()\n",
    "    hist = video_df.groupby('AccountUserID').count()\\\n",
    "        .plot(ax=axes[i], kind='hist', bins=[0, 20, 40, 60, 80, 100, 120, 140], \\\n",
    "          rwidth=0.8, title=\"How many videos did each student watch in {}?\".format(year))\n",
    "    \n",
    "    hist.axhline(video_df.VideoID.nunique(),color='r', label=\"Number of videos\",linestyle='dashed')\n",
    "    hist.set_xlabel(\"Nb of students\")\n",
    "    hist.set_ylabel(\"Videos watched\")\n",
    "    hist.legend()\n"
   ]
  },
  {
   "cell_type": "markdown",
   "metadata": {},
   "source": [
    "We can see here the repartition of students who watched a certain amount of videos in 2018 and 2019. We are counting only distinct videos, thus watching multiple times the same video doesn't increase the count.\n",
    "\n",
    "**Q:** How is possible that no student watched every video?\n",
    "\n",
    "A possible answer could be a mistake in the data interpretation"
   ]
  },
  {
   "cell_type": "markdown",
   "metadata": {},
   "source": [
    "#### How many times a video is usually replayed?"
   ]
  },
  {
   "cell_type": "code",
   "execution_count": 15,
   "metadata": {
    "ExecuteTime": {
     "end_time": "2020-10-02T07:27:45.963239Z",
     "start_time": "2020-10-02T07:27:45.749053Z"
    },
    "scrolled": true
   },
   "outputs": [
    {
     "name": "stdout",
     "output_type": "stream",
     "text": [
      "In average, a video is watched 1.35 times by students.\n"
     ]
    }
   ],
   "source": [
    "\n",
    "rewatch_count = df.drop_duplicates().pivot_table(index=['AccountUserID','VideoID'], aggfunc='size')\n",
    "print(\"In average, a video is watched {:.2f} times by students.\".format(rewatch_count.mean()))\n"
   ]
  },
  {
   "cell_type": "markdown",
   "metadata": {},
   "source": [
    "### Pause to ponder\n",
    "\n",
    "Let's call \"pause to ponder\" when a student pauses the video for a relatively small amount of time to think and ponder about the material. Let's try to find a rational time range.\n"
   ]
  },
  {
   "cell_type": "code",
   "execution_count": 16,
   "metadata": {
    "ExecuteTime": {
     "end_time": "2020-10-02T07:27:54.736963Z",
     "start_time": "2020-10-02T07:27:45.968959Z"
    }
   },
   "outputs": [],
   "source": [
    "query =\"\"\"\n",
    "SELECT AccountUserID, VideoID, from_unixtime(TimeStamp, '%Y-%m-%d %H:%i:%S'),EventType, CurrentTime FROM ca_courseware.Video_Events\n",
    "WHERE DataPackageID in {}\n",
    "AND EventType in ('Video.Play', 'Video.Pause')\n",
    "\"\"\".format(COURSES_ID)\n",
    "df = queryDB(query, [\"AccountUserID\", \"VideoID\", \"TimeStamp\", \"EventType\",\"CurrentTime\"])\n"
   ]
  },
  {
   "cell_type": "code",
   "execution_count": 17,
   "metadata": {
    "ExecuteTime": {
     "end_time": "2020-10-02T07:27:54.763546Z",
     "start_time": "2020-10-02T07:27:54.739139Z"
    },
    "scrolled": true
   },
   "outputs": [
    {
     "data": {
      "text/html": [
       "<div>\n",
       "<style scoped>\n",
       "    .dataframe tbody tr th:only-of-type {\n",
       "        vertical-align: middle;\n",
       "    }\n",
       "\n",
       "    .dataframe tbody tr th {\n",
       "        vertical-align: top;\n",
       "    }\n",
       "\n",
       "    .dataframe thead th {\n",
       "        text-align: right;\n",
       "    }\n",
       "</style>\n",
       "<table border=\"1\" class=\"dataframe\">\n",
       "  <thead>\n",
       "    <tr style=\"text-align: right;\">\n",
       "      <th></th>\n",
       "      <th>AccountUserID</th>\n",
       "      <th>VideoID</th>\n",
       "      <th>TimeStamp</th>\n",
       "      <th>EventType</th>\n",
       "      <th>CurrentTime</th>\n",
       "    </tr>\n",
       "  </thead>\n",
       "  <tbody>\n",
       "    <tr>\n",
       "      <th>0</th>\n",
       "      <td>9893</td>\n",
       "      <td>4d31551afe0e437e9efb0de334c8267c</td>\n",
       "      <td>2017-11-01 17:52:03</td>\n",
       "      <td>Video.Play</td>\n",
       "      <td>184.694</td>\n",
       "    </tr>\n",
       "    <tr>\n",
       "      <th>1</th>\n",
       "      <td>9914</td>\n",
       "      <td>a48d8f0bbac04689a88f8b06cf53154e</td>\n",
       "      <td>2017-10-23 16:44:50</td>\n",
       "      <td>Video.Play</td>\n",
       "      <td>603.000</td>\n",
       "    </tr>\n",
       "    <tr>\n",
       "      <th>2</th>\n",
       "      <td>12494</td>\n",
       "      <td>7ad7b082ef9149f280e3d7b9be2aa348</td>\n",
       "      <td>2017-11-10 16:51:42</td>\n",
       "      <td>Video.Play</td>\n",
       "      <td>202.526</td>\n",
       "    </tr>\n",
       "    <tr>\n",
       "      <th>3</th>\n",
       "      <td>9923</td>\n",
       "      <td>cea9957b2f57401bbb75e15230dfaadc</td>\n",
       "      <td>2017-11-14 18:59:06</td>\n",
       "      <td>Video.Play</td>\n",
       "      <td>613.206</td>\n",
       "    </tr>\n",
       "    <tr>\n",
       "      <th>4</th>\n",
       "      <td>9950</td>\n",
       "      <td>eea23d4f240749cab1f65b449e21df1e</td>\n",
       "      <td>2017-11-30 18:38:24</td>\n",
       "      <td>Video.Play</td>\n",
       "      <td>331.000</td>\n",
       "    </tr>\n",
       "  </tbody>\n",
       "</table>\n",
       "</div>"
      ],
      "text/plain": [
       "  AccountUserID                           VideoID            TimeStamp  \\\n",
       "0          9893  4d31551afe0e437e9efb0de334c8267c  2017-11-01 17:52:03   \n",
       "1          9914  a48d8f0bbac04689a88f8b06cf53154e  2017-10-23 16:44:50   \n",
       "2         12494  7ad7b082ef9149f280e3d7b9be2aa348  2017-11-10 16:51:42   \n",
       "3          9923  cea9957b2f57401bbb75e15230dfaadc  2017-11-14 18:59:06   \n",
       "4          9950  eea23d4f240749cab1f65b449e21df1e  2017-11-30 18:38:24   \n",
       "\n",
       "    EventType  CurrentTime  \n",
       "0  Video.Play      184.694  \n",
       "1  Video.Play      603.000  \n",
       "2  Video.Play      202.526  \n",
       "3  Video.Play      613.206  \n",
       "4  Video.Play      331.000  "
      ]
     },
     "execution_count": 17,
     "metadata": {},
     "output_type": "execute_result"
    }
   ],
   "source": [
    "df.head()"
   ]
  },
  {
   "cell_type": "markdown",
   "metadata": {},
   "source": [
    "Let's convert string dates to datetime objects to make date comparison easier:"
   ]
  },
  {
   "cell_type": "code",
   "execution_count": 18,
   "metadata": {
    "ExecuteTime": {
     "end_time": "2020-10-02T07:27:59.535722Z",
     "start_time": "2020-10-02T07:27:54.780939Z"
    }
   },
   "outputs": [],
   "source": [
    "\n",
    "pause_df = df.copy()\n",
    "pause_df['TimeStamp'] = pause_df['TimeStamp'].apply(lambda date: datetime.strptime(date, \"%Y-%m-%d %H:%M:%S\")) \n",
    "pause_df = pause_df.sort_values(by=\"TimeStamp\", ascending=False)\n"
   ]
  },
  {
   "cell_type": "code",
   "execution_count": 19,
   "metadata": {
    "ExecuteTime": {
     "end_time": "2020-10-02T07:27:59.583942Z",
     "start_time": "2020-10-02T07:27:59.545081Z"
    }
   },
   "outputs": [
    {
     "data": {
      "text/html": [
       "<div>\n",
       "<style scoped>\n",
       "    .dataframe tbody tr th:only-of-type {\n",
       "        vertical-align: middle;\n",
       "    }\n",
       "\n",
       "    .dataframe tbody tr th {\n",
       "        vertical-align: top;\n",
       "    }\n",
       "\n",
       "    .dataframe thead th {\n",
       "        text-align: right;\n",
       "    }\n",
       "</style>\n",
       "<table border=\"1\" class=\"dataframe\">\n",
       "  <thead>\n",
       "    <tr style=\"text-align: right;\">\n",
       "      <th></th>\n",
       "      <th>AccountUserID</th>\n",
       "      <th>VideoID</th>\n",
       "      <th>TimeStamp</th>\n",
       "      <th>EventType</th>\n",
       "      <th>CurrentTime</th>\n",
       "    </tr>\n",
       "  </thead>\n",
       "  <tbody>\n",
       "    <tr>\n",
       "      <th>284798</th>\n",
       "      <td>46440</td>\n",
       "      <td>8a949761e19248f7b4fcd08d136b0a53</td>\n",
       "      <td>2020-02-15 12:37:01</td>\n",
       "      <td>Video.Play</td>\n",
       "      <td>755.535</td>\n",
       "    </tr>\n",
       "    <tr>\n",
       "      <th>152559</th>\n",
       "      <td>46440</td>\n",
       "      <td>8a949761e19248f7b4fcd08d136b0a53</td>\n",
       "      <td>2020-02-15 12:34:13</td>\n",
       "      <td>Video.Pause</td>\n",
       "      <td>755.471</td>\n",
       "    </tr>\n",
       "    <tr>\n",
       "      <th>300766</th>\n",
       "      <td>46440</td>\n",
       "      <td>8a949761e19248f7b4fcd08d136b0a53</td>\n",
       "      <td>2020-02-15 12:34:09</td>\n",
       "      <td>Video.Play</td>\n",
       "      <td>751.018</td>\n",
       "    </tr>\n",
       "    <tr>\n",
       "      <th>201398</th>\n",
       "      <td>46440</td>\n",
       "      <td>8a949761e19248f7b4fcd08d136b0a53</td>\n",
       "      <td>2020-02-14 16:58:55</td>\n",
       "      <td>Video.Pause</td>\n",
       "      <td>750.990</td>\n",
       "    </tr>\n",
       "    <tr>\n",
       "      <th>173737</th>\n",
       "      <td>46440</td>\n",
       "      <td>8a949761e19248f7b4fcd08d136b0a53</td>\n",
       "      <td>2020-02-14 16:58:14</td>\n",
       "      <td>Video.Play</td>\n",
       "      <td>710.556</td>\n",
       "    </tr>\n",
       "    <tr>\n",
       "      <th>123525</th>\n",
       "      <td>46440</td>\n",
       "      <td>8a949761e19248f7b4fcd08d136b0a53</td>\n",
       "      <td>2020-02-14 16:57:27</td>\n",
       "      <td>Video.Pause</td>\n",
       "      <td>710.529</td>\n",
       "    </tr>\n",
       "    <tr>\n",
       "      <th>288413</th>\n",
       "      <td>46440</td>\n",
       "      <td>8a949761e19248f7b4fcd08d136b0a53</td>\n",
       "      <td>2020-02-14 16:55:07</td>\n",
       "      <td>Video.Play</td>\n",
       "      <td>571.720</td>\n",
       "    </tr>\n",
       "    <tr>\n",
       "      <th>138827</th>\n",
       "      <td>46440</td>\n",
       "      <td>8a949761e19248f7b4fcd08d136b0a53</td>\n",
       "      <td>2020-02-14 16:55:01</td>\n",
       "      <td>Video.Pause</td>\n",
       "      <td>571.817</td>\n",
       "    </tr>\n",
       "    <tr>\n",
       "      <th>268193</th>\n",
       "      <td>46440</td>\n",
       "      <td>8a949761e19248f7b4fcd08d136b0a53</td>\n",
       "      <td>2020-02-14 16:54:30</td>\n",
       "      <td>Video.Play</td>\n",
       "      <td>540.907</td>\n",
       "    </tr>\n",
       "    <tr>\n",
       "      <th>140445</th>\n",
       "      <td>46440</td>\n",
       "      <td>8a949761e19248f7b4fcd08d136b0a53</td>\n",
       "      <td>2020-02-14 16:54:15</td>\n",
       "      <td>Video.Pause</td>\n",
       "      <td>540.868</td>\n",
       "    </tr>\n",
       "  </tbody>\n",
       "</table>\n",
       "</div>"
      ],
      "text/plain": [
       "       AccountUserID                           VideoID           TimeStamp  \\\n",
       "284798         46440  8a949761e19248f7b4fcd08d136b0a53 2020-02-15 12:37:01   \n",
       "152559         46440  8a949761e19248f7b4fcd08d136b0a53 2020-02-15 12:34:13   \n",
       "300766         46440  8a949761e19248f7b4fcd08d136b0a53 2020-02-15 12:34:09   \n",
       "201398         46440  8a949761e19248f7b4fcd08d136b0a53 2020-02-14 16:58:55   \n",
       "173737         46440  8a949761e19248f7b4fcd08d136b0a53 2020-02-14 16:58:14   \n",
       "123525         46440  8a949761e19248f7b4fcd08d136b0a53 2020-02-14 16:57:27   \n",
       "288413         46440  8a949761e19248f7b4fcd08d136b0a53 2020-02-14 16:55:07   \n",
       "138827         46440  8a949761e19248f7b4fcd08d136b0a53 2020-02-14 16:55:01   \n",
       "268193         46440  8a949761e19248f7b4fcd08d136b0a53 2020-02-14 16:54:30   \n",
       "140445         46440  8a949761e19248f7b4fcd08d136b0a53 2020-02-14 16:54:15   \n",
       "\n",
       "          EventType  CurrentTime  \n",
       "284798   Video.Play      755.535  \n",
       "152559  Video.Pause      755.471  \n",
       "300766   Video.Play      751.018  \n",
       "201398  Video.Pause      750.990  \n",
       "173737   Video.Play      710.556  \n",
       "123525  Video.Pause      710.529  \n",
       "288413   Video.Play      571.720  \n",
       "138827  Video.Pause      571.817  \n",
       "268193   Video.Play      540.907  \n",
       "140445  Video.Pause      540.868  "
      ]
     },
     "execution_count": 19,
     "metadata": {},
     "output_type": "execute_result"
    }
   ],
   "source": [
    "pause_df.head(10)"
   ]
  },
  {
   "cell_type": "markdown",
   "metadata": {},
   "source": [
    "We now have to create a new column with the time duration of the pause for each Pause event. We know that a pause event is followed by a play event. By sorting the events in a descending order (opposite of chronological), we know that a play is always followed by a pause. Thus, we can compute the pause duration: previous play timestamp - current pause timestamp."
   ]
  },
  {
   "cell_type": "code",
   "execution_count": 20,
   "metadata": {
    "ExecuteTime": {
     "end_time": "2020-10-02T07:27:59.597495Z",
     "start_time": "2020-10-02T07:27:59.587627Z"
    }
   },
   "outputs": [
    {
     "name": "stdout",
     "output_type": "stream",
     "text": [
      "The initial value of prev_ts is 2020-02-15 12:37:01\n"
     ]
    }
   ],
   "source": [
    "# The previous play timestamp is saved in the global variable prev_ts\n",
    "# The function computes the time difference between the current pause event \n",
    "# and the previously saved play timestamp\n",
    "# If the event is a play, we save its timestamp and return NaN\n",
    "# otherwise it is a pause and we compute the pause duration\n",
    "def compute_duration(event, ts):\n",
    "    global prev_ts\n",
    "    temp = prev_ts\n",
    "\n",
    "    if event  == 'Video.Play':\n",
    "        prev_ts = ts\n",
    "        return np.nan\n",
    "    else : \n",
    "        return temp - ts\n",
    "#The initial value of prev_ts is the first value of the sorted table \n",
    "# so that in case the table it starts with a Pause event (i.e. the user left the video during a pause)\n",
    "# the pause duration is 0\n",
    "prev_ts = pause_df.iloc[0,2]\n",
    "print(\"The initial value of prev_ts is {}\".format(prev_ts))"
   ]
  },
  {
   "cell_type": "code",
   "execution_count": 21,
   "metadata": {
    "ExecuteTime": {
     "end_time": "2020-10-02T07:28:08.887859Z",
     "start_time": "2020-10-02T07:27:59.600979Z"
    },
    "scrolled": false
   },
   "outputs": [],
   "source": [
    "\n",
    "#Create the column PauseDuration by applying the compute_duration function on each row\n",
    "pause_df['PauseDuration'] = pause_df.apply(lambda x:compute_duration(x['EventType'],x['TimeStamp']), axis=1)\n",
    "#Filter out NaT values, i.e Play events\n",
    "pause_df.dropna(subset=['PauseDuration'], inplace=True) \n",
    "#Only keep pause duration time ranging from 0 to 20 minutes to exclude the actual breaks or when the user leave the video on pause\n",
    "pause_df = pause_df[(pause_df['PauseDuration'] > timedelta(seconds=0)) &(pause_df['PauseDuration'] < timedelta(minutes=20))]\n"
   ]
  },
  {
   "cell_type": "code",
   "execution_count": 22,
   "metadata": {
    "ExecuteTime": {
     "end_time": "2020-10-02T07:28:08.916502Z",
     "start_time": "2020-10-02T07:28:08.889940Z"
    },
    "scrolled": true
   },
   "outputs": [
    {
     "data": {
      "text/html": [
       "<div>\n",
       "<style scoped>\n",
       "    .dataframe tbody tr th:only-of-type {\n",
       "        vertical-align: middle;\n",
       "    }\n",
       "\n",
       "    .dataframe tbody tr th {\n",
       "        vertical-align: top;\n",
       "    }\n",
       "\n",
       "    .dataframe thead th {\n",
       "        text-align: right;\n",
       "    }\n",
       "</style>\n",
       "<table border=\"1\" class=\"dataframe\">\n",
       "  <thead>\n",
       "    <tr style=\"text-align: right;\">\n",
       "      <th></th>\n",
       "      <th>AccountUserID</th>\n",
       "      <th>VideoID</th>\n",
       "      <th>TimeStamp</th>\n",
       "      <th>EventType</th>\n",
       "      <th>CurrentTime</th>\n",
       "      <th>PauseDuration</th>\n",
       "    </tr>\n",
       "  </thead>\n",
       "  <tbody>\n",
       "    <tr>\n",
       "      <th>152559</th>\n",
       "      <td>46440</td>\n",
       "      <td>8a949761e19248f7b4fcd08d136b0a53</td>\n",
       "      <td>2020-02-15 12:34:13</td>\n",
       "      <td>Video.Pause</td>\n",
       "      <td>755.471</td>\n",
       "      <td>0 days 00:02:48</td>\n",
       "    </tr>\n",
       "    <tr>\n",
       "      <th>123525</th>\n",
       "      <td>46440</td>\n",
       "      <td>8a949761e19248f7b4fcd08d136b0a53</td>\n",
       "      <td>2020-02-14 16:57:27</td>\n",
       "      <td>Video.Pause</td>\n",
       "      <td>710.529</td>\n",
       "      <td>0 days 00:00:47</td>\n",
       "    </tr>\n",
       "    <tr>\n",
       "      <th>138827</th>\n",
       "      <td>46440</td>\n",
       "      <td>8a949761e19248f7b4fcd08d136b0a53</td>\n",
       "      <td>2020-02-14 16:55:01</td>\n",
       "      <td>Video.Pause</td>\n",
       "      <td>571.817</td>\n",
       "      <td>0 days 00:00:06</td>\n",
       "    </tr>\n",
       "    <tr>\n",
       "      <th>140445</th>\n",
       "      <td>46440</td>\n",
       "      <td>8a949761e19248f7b4fcd08d136b0a53</td>\n",
       "      <td>2020-02-14 16:54:15</td>\n",
       "      <td>Video.Pause</td>\n",
       "      <td>540.868</td>\n",
       "      <td>0 days 00:00:15</td>\n",
       "    </tr>\n",
       "    <tr>\n",
       "      <th>112046</th>\n",
       "      <td>46440</td>\n",
       "      <td>8a949761e19248f7b4fcd08d136b0a53</td>\n",
       "      <td>2020-02-14 16:53:20</td>\n",
       "      <td>Video.Pause</td>\n",
       "      <td>522.781</td>\n",
       "      <td>0 days 00:00:36</td>\n",
       "    </tr>\n",
       "  </tbody>\n",
       "</table>\n",
       "</div>"
      ],
      "text/plain": [
       "       AccountUserID                           VideoID           TimeStamp  \\\n",
       "152559         46440  8a949761e19248f7b4fcd08d136b0a53 2020-02-15 12:34:13   \n",
       "123525         46440  8a949761e19248f7b4fcd08d136b0a53 2020-02-14 16:57:27   \n",
       "138827         46440  8a949761e19248f7b4fcd08d136b0a53 2020-02-14 16:55:01   \n",
       "140445         46440  8a949761e19248f7b4fcd08d136b0a53 2020-02-14 16:54:15   \n",
       "112046         46440  8a949761e19248f7b4fcd08d136b0a53 2020-02-14 16:53:20   \n",
       "\n",
       "          EventType  CurrentTime   PauseDuration  \n",
       "152559  Video.Pause      755.471 0 days 00:02:48  \n",
       "123525  Video.Pause      710.529 0 days 00:00:47  \n",
       "138827  Video.Pause      571.817 0 days 00:00:06  \n",
       "140445  Video.Pause      540.868 0 days 00:00:15  \n",
       "112046  Video.Pause      522.781 0 days 00:00:36  "
      ]
     },
     "execution_count": 22,
     "metadata": {},
     "output_type": "execute_result"
    }
   ],
   "source": [
    "pause_df.head()"
   ]
  },
  {
   "cell_type": "code",
   "execution_count": 23,
   "metadata": {
    "ExecuteTime": {
     "end_time": "2020-10-02T07:28:11.035540Z",
     "start_time": "2020-10-02T07:28:08.922062Z"
    },
    "scrolled": false
   },
   "outputs": [
    {
     "data": {
      "text/plain": [
       "count    125595.000000\n",
       "mean          0.590362\n",
       "std           1.405603\n",
       "min           0.016667\n",
       "25%           0.083333\n",
       "50%           0.216667\n",
       "75%           0.533333\n",
       "max          19.966667\n",
       "Name: PauseDuration, dtype: float64"
      ]
     },
     "execution_count": 23,
     "metadata": {},
     "output_type": "execute_result"
    },
    {
     "data": {
      "image/png": "[encoded data removed]",
      "text/plain": [
       "<Figure size 432x288 with 1 Axes>"
      ]
     },
     "metadata": {
      "needs_background": "light"
     },
     "output_type": "display_data"
    }
   ],
   "source": [
    "#Convert timedelta to int\n",
    "hist_df = pause_df['PauseDuration'].apply(lambda x: x.seconds/60)\n",
    "hist = hist_df.groupby(pause_df['PauseDuration']).count().plot( kind='hist', bins=[0, 2.5, 5,7.5,10,12.5,15,17.5,20], rwidth=0.8, title=\"Repartition of pause durations\")\n",
    "hist.set_xlabel(\"Duration in minutes\")\n",
    "hist.set_ylabel(\"Number of pause\");\n",
    "hist_df.describe()"
   ]
  },
  {
   "cell_type": "markdown",
   "metadata": {},
   "source": [
    "### Pause counts\n",
    "\n",
    "Counting the number of pauses made by a student while watching a video is a feature of their behavior. A large amount of pauses may be associated with attention or difficulties to understand the material while little pauses may illustrate ease or poor attention."
   ]
  },
  {
   "cell_type": "markdown",
   "metadata": {},
   "source": [
    "## Stop events"
   ]
  },
  {
   "cell_type": "code",
   "execution_count": 5,
   "metadata": {
    "ExecuteTime": {
     "end_time": "2020-11-06T13:38:10.154805Z",
     "start_time": "2020-11-06T13:37:41.508152Z"
    }
   },
   "outputs": [],
   "source": [
    "video_events = getVideoEvents()"
   ]
  },
  {
   "cell_type": "code",
   "execution_count": 18,
   "metadata": {
    "ExecuteTime": {
     "end_time": "2020-11-06T13:49:43.584966Z",
     "start_time": "2020-11-06T13:49:43.368573Z"
    }
   },
   "outputs": [],
   "source": [
    "stop_events = video_events.loc[video_events.EventType == 'Video.Stop']"
   ]
  },
  {
   "cell_type": "code",
   "execution_count": 16,
   "metadata": {
    "ExecuteTime": {
     "end_time": "2020-11-06T13:49:18.877883Z",
     "start_time": "2020-11-06T13:49:18.816318Z"
    }
   },
   "outputs": [
    {
     "data": {
      "text/html": [
       "<div>\n",
       "<style scoped>\n",
       "    .dataframe tbody tr th:only-of-type {\n",
       "        vertical-align: middle;\n",
       "    }\n",
       "\n",
       "    .dataframe tbody tr th {\n",
       "        vertical-align: top;\n",
       "    }\n",
       "\n",
       "    .dataframe thead th {\n",
       "        text-align: right;\n",
       "    }\n",
       "</style>\n",
       "<table border=\"1\" class=\"dataframe\">\n",
       "  <thead>\n",
       "    <tr style=\"text-align: right;\">\n",
       "      <th></th>\n",
       "      <th>DataPackageID</th>\n",
       "      <th>AccountUserID</th>\n",
       "      <th>VideoID</th>\n",
       "      <th>TimeStamp</th>\n",
       "      <th>EventType</th>\n",
       "      <th>Date</th>\n",
       "      <th>Year</th>\n",
       "      <th>PrevEvent</th>\n",
       "    </tr>\n",
       "  </thead>\n",
       "  <tbody>\n",
       "    <tr>\n",
       "      <th>124</th>\n",
       "      <td>EPFL-AlgebreLineaire-2019</td>\n",
       "      <td>95017</td>\n",
       "      <td>779d38bd34de493eb6b271d914f619ca</td>\n",
       "      <td>1572372557</td>\n",
       "      <td>Video.Stop</td>\n",
       "      <td>2019-10-29 18:09:17</td>\n",
       "      <td>2019</td>\n",
       "      <td>NaN</td>\n",
       "    </tr>\n",
       "    <tr>\n",
       "      <th>125</th>\n",
       "      <td>EPFL-AlgebreLineaire-2019</td>\n",
       "      <td>95017</td>\n",
       "      <td>b3b3943d538b4282b1608fbe3a8619d8</td>\n",
       "      <td>1572696190</td>\n",
       "      <td>Video.Stop</td>\n",
       "      <td>2019-11-02 12:03:10</td>\n",
       "      <td>2019</td>\n",
       "      <td>Video.Stop</td>\n",
       "    </tr>\n",
       "    <tr>\n",
       "      <th>128</th>\n",
       "      <td>EPFL-AlgebreLineaire-2019</td>\n",
       "      <td>95017</td>\n",
       "      <td>1aa440de3b5540b8a81b349455c2bc0b</td>\n",
       "      <td>1568898516</td>\n",
       "      <td>Video.Stop</td>\n",
       "      <td>2019-09-19 13:08:36</td>\n",
       "      <td>2019</td>\n",
       "      <td>Video.Stop</td>\n",
       "    </tr>\n",
       "    <tr>\n",
       "      <th>264</th>\n",
       "      <td>EPFL-AlgebreLineaire-2019</td>\n",
       "      <td>95017</td>\n",
       "      <td>fe21c0cd446c45d4816d1f2edf4019c9</td>\n",
       "      <td>1573313596</td>\n",
       "      <td>Video.Stop</td>\n",
       "      <td>2019-11-09 15:33:16</td>\n",
       "      <td>2019</td>\n",
       "      <td>Video.Stop</td>\n",
       "    </tr>\n",
       "    <tr>\n",
       "      <th>341</th>\n",
       "      <td>EPFL-AlgebreLineaire-2019</td>\n",
       "      <td>95017</td>\n",
       "      <td>a09c2b7d3b6a42b0a20fd8d0ec2c2ab8</td>\n",
       "      <td>1572099847</td>\n",
       "      <td>Video.Stop</td>\n",
       "      <td>2019-10-26 14:24:07</td>\n",
       "      <td>2019</td>\n",
       "      <td>Video.Stop</td>\n",
       "    </tr>\n",
       "    <tr>\n",
       "      <th>...</th>\n",
       "      <td>...</td>\n",
       "      <td>...</td>\n",
       "      <td>...</td>\n",
       "      <td>...</td>\n",
       "      <td>...</td>\n",
       "      <td>...</td>\n",
       "      <td>...</td>\n",
       "      <td>...</td>\n",
       "    </tr>\n",
       "    <tr>\n",
       "      <th>856337</th>\n",
       "      <td>EPFL-AlgebreLineaire-2019</td>\n",
       "      <td>54930</td>\n",
       "      <td>a87b57840c91406abd91eb7c145e79fc</td>\n",
       "      <td>1577635448</td>\n",
       "      <td>Video.Stop</td>\n",
       "      <td>2019-12-29 16:04:08</td>\n",
       "      <td>2019</td>\n",
       "      <td>Video.Stop</td>\n",
       "    </tr>\n",
       "    <tr>\n",
       "      <th>856343</th>\n",
       "      <td>EPFL-AlgebreLineaire-2019</td>\n",
       "      <td>54930</td>\n",
       "      <td>ad7f8769784c4d7da4171be768994b08</td>\n",
       "      <td>1577637758</td>\n",
       "      <td>Video.Stop</td>\n",
       "      <td>2019-12-29 16:42:38</td>\n",
       "      <td>2019</td>\n",
       "      <td>Video.Stop</td>\n",
       "    </tr>\n",
       "    <tr>\n",
       "      <th>856354</th>\n",
       "      <td>EPFL-AlgebreLineaire-2019</td>\n",
       "      <td>54930</td>\n",
       "      <td>75126c6f182641ff9a095459a2785bb4</td>\n",
       "      <td>1577636558</td>\n",
       "      <td>Video.Stop</td>\n",
       "      <td>2019-12-29 16:22:38</td>\n",
       "      <td>2019</td>\n",
       "      <td>Video.Stop</td>\n",
       "    </tr>\n",
       "    <tr>\n",
       "      <th>856356</th>\n",
       "      <td>EPFL-AlgebreLineaire-2019</td>\n",
       "      <td>54930</td>\n",
       "      <td>084ebce83ea4429ba97c08e09bb22adf</td>\n",
       "      <td>1577638721</td>\n",
       "      <td>Video.Stop</td>\n",
       "      <td>2019-12-29 16:58:41</td>\n",
       "      <td>2019</td>\n",
       "      <td>Video.Stop</td>\n",
       "    </tr>\n",
       "    <tr>\n",
       "      <th>856381</th>\n",
       "      <td>EPFL-AlgebreLineaire-2019</td>\n",
       "      <td>59526</td>\n",
       "      <td>5e2bb5cb3fba44f49282938b3d5f6a39</td>\n",
       "      <td>1578173906</td>\n",
       "      <td>Video.Stop</td>\n",
       "      <td>2020-01-04 21:38:26</td>\n",
       "      <td>2019</td>\n",
       "      <td>Video.Stop</td>\n",
       "    </tr>\n",
       "  </tbody>\n",
       "</table>\n",
       "<p>23167 rows × 8 columns</p>\n",
       "</div>"
      ],
      "text/plain": [
       "                    DataPackageID AccountUserID  \\\n",
       "124     EPFL-AlgebreLineaire-2019         95017   \n",
       "125     EPFL-AlgebreLineaire-2019         95017   \n",
       "128     EPFL-AlgebreLineaire-2019         95017   \n",
       "264     EPFL-AlgebreLineaire-2019         95017   \n",
       "341     EPFL-AlgebreLineaire-2019         95017   \n",
       "...                           ...           ...   \n",
       "856337  EPFL-AlgebreLineaire-2019         54930   \n",
       "856343  EPFL-AlgebreLineaire-2019         54930   \n",
       "856354  EPFL-AlgebreLineaire-2019         54930   \n",
       "856356  EPFL-AlgebreLineaire-2019         54930   \n",
       "856381  EPFL-AlgebreLineaire-2019         59526   \n",
       "\n",
       "                                 VideoID   TimeStamp   EventType  \\\n",
       "124     779d38bd34de493eb6b271d914f619ca  1572372557  Video.Stop   \n",
       "125     b3b3943d538b4282b1608fbe3a8619d8  1572696190  Video.Stop   \n",
       "128     1aa440de3b5540b8a81b349455c2bc0b  1568898516  Video.Stop   \n",
       "264     fe21c0cd446c45d4816d1f2edf4019c9  1573313596  Video.Stop   \n",
       "341     a09c2b7d3b6a42b0a20fd8d0ec2c2ab8  1572099847  Video.Stop   \n",
       "...                                  ...         ...         ...   \n",
       "856337  a87b57840c91406abd91eb7c145e79fc  1577635448  Video.Stop   \n",
       "856343  ad7f8769784c4d7da4171be768994b08  1577637758  Video.Stop   \n",
       "856354  75126c6f182641ff9a095459a2785bb4  1577636558  Video.Stop   \n",
       "856356  084ebce83ea4429ba97c08e09bb22adf  1577638721  Video.Stop   \n",
       "856381  5e2bb5cb3fba44f49282938b3d5f6a39  1578173906  Video.Stop   \n",
       "\n",
       "                      Date  Year   PrevEvent  \n",
       "124    2019-10-29 18:09:17  2019         NaN  \n",
       "125    2019-11-02 12:03:10  2019  Video.Stop  \n",
       "128    2019-09-19 13:08:36  2019  Video.Stop  \n",
       "264    2019-11-09 15:33:16  2019  Video.Stop  \n",
       "341    2019-10-26 14:24:07  2019  Video.Stop  \n",
       "...                    ...   ...         ...  \n",
       "856337 2019-12-29 16:04:08  2019  Video.Stop  \n",
       "856343 2019-12-29 16:42:38  2019  Video.Stop  \n",
       "856354 2019-12-29 16:22:38  2019  Video.Stop  \n",
       "856356 2019-12-29 16:58:41  2019  Video.Stop  \n",
       "856381 2020-01-04 21:38:26  2019  Video.Stop  \n",
       "\n",
       "[23167 rows x 8 columns]"
      ]
     },
     "execution_count": 16,
     "metadata": {},
     "output_type": "execute_result"
    }
   ],
   "source": [
    "stop_events"
   ]
  },
  {
   "cell_type": "code",
   "execution_count": 19,
   "metadata": {
    "ExecuteTime": {
     "end_time": "2020-11-06T13:50:11.066851Z",
     "start_time": "2020-11-06T13:50:10.772344Z"
    }
   },
   "outputs": [],
   "source": [
    "user_event = video_events[(video_events.AccountUserID == '95017')].sort_values(by=\"TimeStamp\")"
   ]
  },
  {
   "cell_type": "code",
   "execution_count": 24,
   "metadata": {
    "ExecuteTime": {
     "end_time": "2020-11-06T13:53:01.184836Z",
     "start_time": "2020-11-06T13:53:01.070606Z"
    }
   },
   "outputs": [],
   "source": [
    "user_event['NextEvent'] = user_event['EventType'].shift(-1)"
   ]
  },
  {
   "cell_type": "code",
   "execution_count": 31,
   "metadata": {
    "ExecuteTime": {
     "end_time": "2020-11-06T13:57:14.984259Z",
     "start_time": "2020-11-06T13:57:14.853850Z"
    }
   },
   "outputs": [
    {
     "data": {
      "text/html": [
       "<div>\n",
       "<style scoped>\n",
       "    .dataframe tbody tr th:only-of-type {\n",
       "        vertical-align: middle;\n",
       "    }\n",
       "\n",
       "    .dataframe tbody tr th {\n",
       "        vertical-align: top;\n",
       "    }\n",
       "\n",
       "    .dataframe thead th {\n",
       "        text-align: right;\n",
       "    }\n",
       "</style>\n",
       "<table border=\"1\" class=\"dataframe\">\n",
       "  <thead>\n",
       "    <tr style=\"text-align: right;\">\n",
       "      <th></th>\n",
       "      <th>DataPackageID</th>\n",
       "      <th>AccountUserID</th>\n",
       "      <th>VideoID</th>\n",
       "      <th>TimeStamp</th>\n",
       "      <th>EventType</th>\n",
       "      <th>Date</th>\n",
       "      <th>Year</th>\n",
       "      <th>PrevEvent</th>\n",
       "      <th>NextEvent</th>\n",
       "      <th>Diff</th>\n",
       "    </tr>\n",
       "  </thead>\n",
       "  <tbody>\n",
       "    <tr>\n",
       "      <th>1015</th>\n",
       "      <td>EPFL-AlgebreLineaire-2019</td>\n",
       "      <td>95017</td>\n",
       "      <td>4fe3df7b0c064bf2b68d7bcbe2663743</td>\n",
       "      <td>1568746888</td>\n",
       "      <td>Video.Transcript.Translate.EN</td>\n",
       "      <td>2019-09-17 19:01:28</td>\n",
       "      <td>2019</td>\n",
       "      <td>Video.Stop</td>\n",
       "      <td>Video.Load</td>\n",
       "      <td>744.0</td>\n",
       "    </tr>\n",
       "    <tr>\n",
       "      <th>3842</th>\n",
       "      <td>EPFL-AlgebreLineaire-2019</td>\n",
       "      <td>95017</td>\n",
       "      <td>4fe3df7b0c064bf2b68d7bcbe2663743</td>\n",
       "      <td>1568748036</td>\n",
       "      <td>Video.Pause</td>\n",
       "      <td>2019-09-17 19:20:36</td>\n",
       "      <td>2019</td>\n",
       "      <td>Video.Stop</td>\n",
       "      <td>Video.Seek</td>\n",
       "      <td>0.0</td>\n",
       "    </tr>\n",
       "    <tr>\n",
       "      <th>3321</th>\n",
       "      <td>EPFL-AlgebreLineaire-2019</td>\n",
       "      <td>95017</td>\n",
       "      <td>4fe3df7b0c064bf2b68d7bcbe2663743</td>\n",
       "      <td>1568748054</td>\n",
       "      <td>Video.Seek</td>\n",
       "      <td>2019-09-17 19:20:54</td>\n",
       "      <td>2019</td>\n",
       "      <td>Video.Stop</td>\n",
       "      <td>Video.Play</td>\n",
       "      <td>3.0</td>\n",
       "    </tr>\n",
       "    <tr>\n",
       "      <th>4462</th>\n",
       "      <td>EPFL-AlgebreLineaire-2019</td>\n",
       "      <td>95017</td>\n",
       "      <td>4fe3df7b0c064bf2b68d7bcbe2663743</td>\n",
       "      <td>1568748204</td>\n",
       "      <td>Video.Play</td>\n",
       "      <td>2019-09-17 19:23:24</td>\n",
       "      <td>2019</td>\n",
       "      <td>Video.Stop</td>\n",
       "      <td>Video.Seek</td>\n",
       "      <td>13.0</td>\n",
       "    </tr>\n",
       "    <tr>\n",
       "      <th>534</th>\n",
       "      <td>EPFL-AlgebreLineaire-2019</td>\n",
       "      <td>95017</td>\n",
       "      <td>1aa440de3b5540b8a81b349455c2bc0b</td>\n",
       "      <td>1568748613</td>\n",
       "      <td>Video.Transcript.Translate.EN</td>\n",
       "      <td>2019-09-17 19:30:13</td>\n",
       "      <td>2019</td>\n",
       "      <td>Video.Stop</td>\n",
       "      <td>Video.Load</td>\n",
       "      <td>400.0</td>\n",
       "    </tr>\n",
       "    <tr>\n",
       "      <th>...</th>\n",
       "      <td>...</td>\n",
       "      <td>...</td>\n",
       "      <td>...</td>\n",
       "      <td>...</td>\n",
       "      <td>...</td>\n",
       "      <td>...</td>\n",
       "      <td>...</td>\n",
       "      <td>...</td>\n",
       "      <td>...</td>\n",
       "      <td>...</td>\n",
       "    </tr>\n",
       "    <tr>\n",
       "      <th>1747</th>\n",
       "      <td>EPFL-AlgebreLineaire-2019</td>\n",
       "      <td>95017</td>\n",
       "      <td>17fd9f65c51d4298942167d3cc64ada0</td>\n",
       "      <td>1575660572</td>\n",
       "      <td>Video.Pause</td>\n",
       "      <td>2019-12-06 19:29:32</td>\n",
       "      <td>2019</td>\n",
       "      <td>Video.Stop</td>\n",
       "      <td>Video.Transcript.Translate.EN</td>\n",
       "      <td>0.0</td>\n",
       "    </tr>\n",
       "    <tr>\n",
       "      <th>4006</th>\n",
       "      <td>EPFL-AlgebreLineaire-2019</td>\n",
       "      <td>95017</td>\n",
       "      <td>4c31530dbe9c4385b53cfad8aaad2b75</td>\n",
       "      <td>1575709723</td>\n",
       "      <td>Video.Pause</td>\n",
       "      <td>2019-12-07 09:08:43</td>\n",
       "      <td>2019</td>\n",
       "      <td>Video.Stop</td>\n",
       "      <td>Video.Load</td>\n",
       "      <td>0.0</td>\n",
       "    </tr>\n",
       "    <tr>\n",
       "      <th>3492</th>\n",
       "      <td>EPFL-AlgebreLineaire-2019</td>\n",
       "      <td>95017</td>\n",
       "      <td>ad7f8769784c4d7da4171be768994b08</td>\n",
       "      <td>1578310013</td>\n",
       "      <td>Video.Seek</td>\n",
       "      <td>2020-01-06 11:26:53</td>\n",
       "      <td>2019</td>\n",
       "      <td>Video.Stop</td>\n",
       "      <td>Video.Play</td>\n",
       "      <td>7.0</td>\n",
       "    </tr>\n",
       "    <tr>\n",
       "      <th>2866</th>\n",
       "      <td>EPFL-AlgebreLineaire-2019</td>\n",
       "      <td>95017</td>\n",
       "      <td>3c58d781f84f414d858d5b5767941c01</td>\n",
       "      <td>1578312830</td>\n",
       "      <td>Video.Pause</td>\n",
       "      <td>2020-01-06 12:13:50</td>\n",
       "      <td>2019</td>\n",
       "      <td>Video.Stop</td>\n",
       "      <td>Video.Play</td>\n",
       "      <td>1.0</td>\n",
       "    </tr>\n",
       "    <tr>\n",
       "      <th>4032</th>\n",
       "      <td>EPFL-AlgebreLineaire-2019</td>\n",
       "      <td>95017</td>\n",
       "      <td>15b1364f3db04c898d8c7687e2e9b6f3</td>\n",
       "      <td>1579283148</td>\n",
       "      <td>Video.Transcript.Translate.EN</td>\n",
       "      <td>2020-01-17 17:45:48</td>\n",
       "      <td>2019</td>\n",
       "      <td>Video.Stop</td>\n",
       "      <td>Video.Load</td>\n",
       "      <td>970318.0</td>\n",
       "    </tr>\n",
       "  </tbody>\n",
       "</table>\n",
       "<p>107 rows × 10 columns</p>\n",
       "</div>"
      ],
      "text/plain": [
       "                  DataPackageID AccountUserID  \\\n",
       "1015  EPFL-AlgebreLineaire-2019         95017   \n",
       "3842  EPFL-AlgebreLineaire-2019         95017   \n",
       "3321  EPFL-AlgebreLineaire-2019         95017   \n",
       "4462  EPFL-AlgebreLineaire-2019         95017   \n",
       "534   EPFL-AlgebreLineaire-2019         95017   \n",
       "...                         ...           ...   \n",
       "1747  EPFL-AlgebreLineaire-2019         95017   \n",
       "4006  EPFL-AlgebreLineaire-2019         95017   \n",
       "3492  EPFL-AlgebreLineaire-2019         95017   \n",
       "2866  EPFL-AlgebreLineaire-2019         95017   \n",
       "4032  EPFL-AlgebreLineaire-2019         95017   \n",
       "\n",
       "                               VideoID   TimeStamp  \\\n",
       "1015  4fe3df7b0c064bf2b68d7bcbe2663743  1568746888   \n",
       "3842  4fe3df7b0c064bf2b68d7bcbe2663743  1568748036   \n",
       "3321  4fe3df7b0c064bf2b68d7bcbe2663743  1568748054   \n",
       "4462  4fe3df7b0c064bf2b68d7bcbe2663743  1568748204   \n",
       "534   1aa440de3b5540b8a81b349455c2bc0b  1568748613   \n",
       "...                                ...         ...   \n",
       "1747  17fd9f65c51d4298942167d3cc64ada0  1575660572   \n",
       "4006  4c31530dbe9c4385b53cfad8aaad2b75  1575709723   \n",
       "3492  ad7f8769784c4d7da4171be768994b08  1578310013   \n",
       "2866  3c58d781f84f414d858d5b5767941c01  1578312830   \n",
       "4032  15b1364f3db04c898d8c7687e2e9b6f3  1579283148   \n",
       "\n",
       "                          EventType                Date  Year   PrevEvent  \\\n",
       "1015  Video.Transcript.Translate.EN 2019-09-17 19:01:28  2019  Video.Stop   \n",
       "3842                    Video.Pause 2019-09-17 19:20:36  2019  Video.Stop   \n",
       "3321                     Video.Seek 2019-09-17 19:20:54  2019  Video.Stop   \n",
       "4462                     Video.Play 2019-09-17 19:23:24  2019  Video.Stop   \n",
       "534   Video.Transcript.Translate.EN 2019-09-17 19:30:13  2019  Video.Stop   \n",
       "...                             ...                 ...   ...         ...   \n",
       "1747                    Video.Pause 2019-12-06 19:29:32  2019  Video.Stop   \n",
       "4006                    Video.Pause 2019-12-07 09:08:43  2019  Video.Stop   \n",
       "3492                     Video.Seek 2020-01-06 11:26:53  2019  Video.Stop   \n",
       "2866                    Video.Pause 2020-01-06 12:13:50  2019  Video.Stop   \n",
       "4032  Video.Transcript.Translate.EN 2020-01-17 17:45:48  2019  Video.Stop   \n",
       "\n",
       "                          NextEvent      Diff  \n",
       "1015                     Video.Load     744.0  \n",
       "3842                     Video.Seek       0.0  \n",
       "3321                     Video.Play       3.0  \n",
       "4462                     Video.Seek      13.0  \n",
       "534                      Video.Load     400.0  \n",
       "...                             ...       ...  \n",
       "1747  Video.Transcript.Translate.EN       0.0  \n",
       "4006                     Video.Load       0.0  \n",
       "3492                     Video.Play       7.0  \n",
       "2866                     Video.Play       1.0  \n",
       "4032                     Video.Load  970318.0  \n",
       "\n",
       "[107 rows x 10 columns]"
      ]
     },
     "execution_count": 31,
     "metadata": {},
     "output_type": "execute_result"
    }
   ],
   "source": [
    "user_event.loc[(user_event.PrevEvent == 'Video.Stop') ]"
   ]
  },
  {
   "cell_type": "code",
   "execution_count": 27,
   "metadata": {
    "ExecuteTime": {
     "end_time": "2020-11-06T13:55:55.591782Z",
     "start_time": "2020-11-06T13:55:55.452932Z"
    }
   },
   "outputs": [],
   "source": [
    "user_event['Diff'] = user_event.TimeStamp.diff()"
   ]
  },
  {
   "cell_type": "code",
   "execution_count": 28,
   "metadata": {
    "ExecuteTime": {
     "end_time": "2020-11-06T13:56:02.150629Z",
     "start_time": "2020-11-06T13:56:02.083943Z"
    }
   },
   "outputs": [
    {
     "data": {
      "text/html": [
       "<div>\n",
       "<style scoped>\n",
       "    .dataframe tbody tr th:only-of-type {\n",
       "        vertical-align: middle;\n",
       "    }\n",
       "\n",
       "    .dataframe tbody tr th {\n",
       "        vertical-align: top;\n",
       "    }\n",
       "\n",
       "    .dataframe thead th {\n",
       "        text-align: right;\n",
       "    }\n",
       "</style>\n",
       "<table border=\"1\" class=\"dataframe\">\n",
       "  <thead>\n",
       "    <tr style=\"text-align: right;\">\n",
       "      <th></th>\n",
       "      <th>DataPackageID</th>\n",
       "      <th>AccountUserID</th>\n",
       "      <th>VideoID</th>\n",
       "      <th>TimeStamp</th>\n",
       "      <th>EventType</th>\n",
       "      <th>Date</th>\n",
       "      <th>Year</th>\n",
       "      <th>PrevEvent</th>\n",
       "      <th>NextEvent</th>\n",
       "      <th>Diff</th>\n",
       "    </tr>\n",
       "  </thead>\n",
       "  <tbody>\n",
       "    <tr>\n",
       "      <th>3549</th>\n",
       "      <td>EPFL-AlgebreLineaire-2019</td>\n",
       "      <td>95017</td>\n",
       "      <td>07df6f849eee47659a13908de0732387</td>\n",
       "      <td>1567446056</td>\n",
       "      <td>Video.Load</td>\n",
       "      <td>2019-09-02 17:40:56</td>\n",
       "      <td>2019</td>\n",
       "      <td>NaN</td>\n",
       "      <td>Video.Transcript.Translate.EN</td>\n",
       "      <td>NaN</td>\n",
       "    </tr>\n",
       "    <tr>\n",
       "      <th>3639</th>\n",
       "      <td>EPFL-AlgebreLineaire-2019</td>\n",
       "      <td>95017</td>\n",
       "      <td>07df6f849eee47659a13908de0732387</td>\n",
       "      <td>1567446056</td>\n",
       "      <td>Video.Transcript.Translate.EN</td>\n",
       "      <td>2019-09-02 17:40:56</td>\n",
       "      <td>2019</td>\n",
       "      <td>Video.Load</td>\n",
       "      <td>Video.Transcript.Translate.EN</td>\n",
       "      <td>0.0</td>\n",
       "    </tr>\n",
       "    <tr>\n",
       "      <th>934</th>\n",
       "      <td>EPFL-AlgebreLineaire-2019</td>\n",
       "      <td>95017</td>\n",
       "      <td>22c2895963d24114b16c3511befa35d6</td>\n",
       "      <td>1568533999</td>\n",
       "      <td>Video.Transcript.Translate.EN</td>\n",
       "      <td>2019-09-15 07:53:19</td>\n",
       "      <td>2019</td>\n",
       "      <td>Video.Transcript.Translate.EN</td>\n",
       "      <td>Video.Load</td>\n",
       "      <td>1087943.0</td>\n",
       "    </tr>\n",
       "    <tr>\n",
       "      <th>4892</th>\n",
       "      <td>EPFL-AlgebreLineaire-2019</td>\n",
       "      <td>95017</td>\n",
       "      <td>22c2895963d24114b16c3511befa35d6</td>\n",
       "      <td>1568534001</td>\n",
       "      <td>Video.Load</td>\n",
       "      <td>2019-09-15 07:53:21</td>\n",
       "      <td>2019</td>\n",
       "      <td>Video.Transcript.Translate.EN</td>\n",
       "      <td>Video.Play</td>\n",
       "      <td>2.0</td>\n",
       "    </tr>\n",
       "    <tr>\n",
       "      <th>1212</th>\n",
       "      <td>EPFL-AlgebreLineaire-2019</td>\n",
       "      <td>95017</td>\n",
       "      <td>22c2895963d24114b16c3511befa35d6</td>\n",
       "      <td>1568534010</td>\n",
       "      <td>Video.Play</td>\n",
       "      <td>2019-09-15 07:53:30</td>\n",
       "      <td>2019</td>\n",
       "      <td>Video.Load</td>\n",
       "      <td>Video.Pause</td>\n",
       "      <td>9.0</td>\n",
       "    </tr>\n",
       "    <tr>\n",
       "      <th>...</th>\n",
       "      <td>...</td>\n",
       "      <td>...</td>\n",
       "      <td>...</td>\n",
       "      <td>...</td>\n",
       "      <td>...</td>\n",
       "      <td>...</td>\n",
       "      <td>...</td>\n",
       "      <td>...</td>\n",
       "      <td>...</td>\n",
       "      <td>...</td>\n",
       "    </tr>\n",
       "    <tr>\n",
       "      <th>5145</th>\n",
       "      <td>EPFL-AlgebreLineaire-2019</td>\n",
       "      <td>95017</td>\n",
       "      <td>6f7c4414324047a4b9d12a1d87d5875e</td>\n",
       "      <td>1579366086</td>\n",
       "      <td>Video.Load</td>\n",
       "      <td>2020-01-18 16:48:06</td>\n",
       "      <td>2019</td>\n",
       "      <td>Video.Transcript.Translate.EN</td>\n",
       "      <td>Video.Play</td>\n",
       "      <td>1.0</td>\n",
       "    </tr>\n",
       "    <tr>\n",
       "      <th>1722</th>\n",
       "      <td>EPFL-AlgebreLineaire-2019</td>\n",
       "      <td>95017</td>\n",
       "      <td>6f7c4414324047a4b9d12a1d87d5875e</td>\n",
       "      <td>1579366091</td>\n",
       "      <td>Video.Play</td>\n",
       "      <td>2020-01-18 16:48:11</td>\n",
       "      <td>2019</td>\n",
       "      <td>Video.Load</td>\n",
       "      <td>Video.Seek</td>\n",
       "      <td>5.0</td>\n",
       "    </tr>\n",
       "    <tr>\n",
       "      <th>3910</th>\n",
       "      <td>EPFL-AlgebreLineaire-2019</td>\n",
       "      <td>95017</td>\n",
       "      <td>6f7c4414324047a4b9d12a1d87d5875e</td>\n",
       "      <td>1579366102</td>\n",
       "      <td>Video.Seek</td>\n",
       "      <td>2020-01-18 16:48:22</td>\n",
       "      <td>2019</td>\n",
       "      <td>Video.Play</td>\n",
       "      <td>Video.Play</td>\n",
       "      <td>11.0</td>\n",
       "    </tr>\n",
       "    <tr>\n",
       "      <th>3025</th>\n",
       "      <td>EPFL-AlgebreLineaire-2019</td>\n",
       "      <td>95017</td>\n",
       "      <td>6f7c4414324047a4b9d12a1d87d5875e</td>\n",
       "      <td>1579366104</td>\n",
       "      <td>Video.Play</td>\n",
       "      <td>2020-01-18 16:48:24</td>\n",
       "      <td>2019</td>\n",
       "      <td>Video.Seek</td>\n",
       "      <td>Video.Pause</td>\n",
       "      <td>2.0</td>\n",
       "    </tr>\n",
       "    <tr>\n",
       "      <th>3011</th>\n",
       "      <td>EPFL-AlgebreLineaire-2019</td>\n",
       "      <td>95017</td>\n",
       "      <td>6f7c4414324047a4b9d12a1d87d5875e</td>\n",
       "      <td>1579366137</td>\n",
       "      <td>Video.Pause</td>\n",
       "      <td>2020-01-18 16:48:57</td>\n",
       "      <td>2019</td>\n",
       "      <td>Video.Play</td>\n",
       "      <td>NaN</td>\n",
       "      <td>33.0</td>\n",
       "    </tr>\n",
       "  </tbody>\n",
       "</table>\n",
       "<p>5312 rows × 10 columns</p>\n",
       "</div>"
      ],
      "text/plain": [
       "                  DataPackageID AccountUserID  \\\n",
       "3549  EPFL-AlgebreLineaire-2019         95017   \n",
       "3639  EPFL-AlgebreLineaire-2019         95017   \n",
       "934   EPFL-AlgebreLineaire-2019         95017   \n",
       "4892  EPFL-AlgebreLineaire-2019         95017   \n",
       "1212  EPFL-AlgebreLineaire-2019         95017   \n",
       "...                         ...           ...   \n",
       "5145  EPFL-AlgebreLineaire-2019         95017   \n",
       "1722  EPFL-AlgebreLineaire-2019         95017   \n",
       "3910  EPFL-AlgebreLineaire-2019         95017   \n",
       "3025  EPFL-AlgebreLineaire-2019         95017   \n",
       "3011  EPFL-AlgebreLineaire-2019         95017   \n",
       "\n",
       "                               VideoID   TimeStamp  \\\n",
       "3549  07df6f849eee47659a13908de0732387  1567446056   \n",
       "3639  07df6f849eee47659a13908de0732387  1567446056   \n",
       "934   22c2895963d24114b16c3511befa35d6  1568533999   \n",
       "4892  22c2895963d24114b16c3511befa35d6  1568534001   \n",
       "1212  22c2895963d24114b16c3511befa35d6  1568534010   \n",
       "...                                ...         ...   \n",
       "5145  6f7c4414324047a4b9d12a1d87d5875e  1579366086   \n",
       "1722  6f7c4414324047a4b9d12a1d87d5875e  1579366091   \n",
       "3910  6f7c4414324047a4b9d12a1d87d5875e  1579366102   \n",
       "3025  6f7c4414324047a4b9d12a1d87d5875e  1579366104   \n",
       "3011  6f7c4414324047a4b9d12a1d87d5875e  1579366137   \n",
       "\n",
       "                          EventType                Date  Year  \\\n",
       "3549                     Video.Load 2019-09-02 17:40:56  2019   \n",
       "3639  Video.Transcript.Translate.EN 2019-09-02 17:40:56  2019   \n",
       "934   Video.Transcript.Translate.EN 2019-09-15 07:53:19  2019   \n",
       "4892                     Video.Load 2019-09-15 07:53:21  2019   \n",
       "1212                     Video.Play 2019-09-15 07:53:30  2019   \n",
       "...                             ...                 ...   ...   \n",
       "5145                     Video.Load 2020-01-18 16:48:06  2019   \n",
       "1722                     Video.Play 2020-01-18 16:48:11  2019   \n",
       "3910                     Video.Seek 2020-01-18 16:48:22  2019   \n",
       "3025                     Video.Play 2020-01-18 16:48:24  2019   \n",
       "3011                    Video.Pause 2020-01-18 16:48:57  2019   \n",
       "\n",
       "                          PrevEvent                      NextEvent       Diff  \n",
       "3549                            NaN  Video.Transcript.Translate.EN        NaN  \n",
       "3639                     Video.Load  Video.Transcript.Translate.EN        0.0  \n",
       "934   Video.Transcript.Translate.EN                     Video.Load  1087943.0  \n",
       "4892  Video.Transcript.Translate.EN                     Video.Play        2.0  \n",
       "1212                     Video.Load                    Video.Pause        9.0  \n",
       "...                             ...                            ...        ...  \n",
       "5145  Video.Transcript.Translate.EN                     Video.Play        1.0  \n",
       "1722                     Video.Load                     Video.Seek        5.0  \n",
       "3910                     Video.Play                     Video.Play       11.0  \n",
       "3025                     Video.Seek                    Video.Pause        2.0  \n",
       "3011                     Video.Play                            NaN       33.0  \n",
       "\n",
       "[5312 rows x 10 columns]"
      ]
     },
     "execution_count": 28,
     "metadata": {},
     "output_type": "execute_result"
    }
   ],
   "source": [
    "user_event"
   ]
  },
  {
   "cell_type": "code",
   "execution_count": null,
   "metadata": {},
   "outputs": [],
   "source": []
  },
  {
   "cell_type": "markdown",
   "metadata": {},
   "source": [
    "## Regularity\n",
    "\n",
    "Let's focus on the regularity with which the students watch the MOOC. From a week, day and hour perspectives, when do the students usually watch the videos? Are there any pattern linked to performance?\n",
    "\n",
    "Reference: <a href=\"https://rdcu.be/b6VLF\">How to Quantify Student's Regularity?</a>\n"
   ]
  },
  {
   "cell_type": "code",
   "execution_count": 24,
   "metadata": {
    "ExecuteTime": {
     "end_time": "2020-10-02T07:28:18.849864Z",
     "start_time": "2020-10-02T07:28:11.039833Z"
    }
   },
   "outputs": [],
   "source": [
    "\n",
    "query =\"\"\"\n",
    "SELECT AccountUserID, VideoID, from_unixtime(TimeStamp, '%Y-%m-%d') as Day, from_unixtime(TimeStamp, '%H') as Hour \n",
    "FROM ca_courseware.Video_Events\n",
    "WHERE DataPackageID in {}\n",
    "AND EventType='Video.Play'\n",
    "AND CurrentTime < 1\n",
    "GROUP BY AccountUserID, VideoID, Day\n",
    "\"\"\".format(COURSES_ID)\n",
    "df = queryDB(query, [\"AccountUserID\", \"VideoID\", \"Day\", \"Hour\"])\n",
    "\n"
   ]
  },
  {
   "cell_type": "markdown",
   "metadata": {},
   "source": [
    "Before diving into the features recommended by Boroujeni et al. let's explore the time repartition of the viewings over the week and the day. Let's define a video viewing as the event Video.Play occurring before the first second of the video. Only one viewing per day is taken into account.\n",
    "\n",
    "### Week repartition"
   ]
  },
  {
   "cell_type": "code",
   "execution_count": 25,
   "metadata": {
    "ExecuteTime": {
     "end_time": "2020-10-02T07:28:18.867623Z",
     "start_time": "2020-10-02T07:28:18.852854Z"
    }
   },
   "outputs": [],
   "source": [
    "MOOC = {\n",
    "    '2017':{\n",
    "        'start_date': '2017-09-18',\n",
    "        'end_date':  '2018-01-28',\n",
    "        'exam_date': '2018-01-22',\n",
    "        'weekly_video_count': [2,3,2,2,4,3,2,3,3,1,2,2,2,3],\n",
    "        'mooc_weeks': 14 #Number of weeks where videos have been published, different from end_date - start_date\n",
    "    },\n",
    "    '2018':{\n",
    "        'start_date': '2018-09-17',\n",
    "        'end_date': '2019-01-28',\n",
    "    }\n",
    "}"
   ]
  },
  {
   "cell_type": "code",
   "execution_count": 26,
   "metadata": {
    "ExecuteTime": {
     "end_time": "2020-10-02T07:28:18.886552Z",
     "start_time": "2020-10-02T07:28:18.875871Z"
    }
   },
   "outputs": [],
   "source": [
    "# Converts a date string to a datetim object\n",
    "def string2Datetime(ts):\n",
    "    return datetime.strptime(ts, '%Y-%m-%d')\n",
    "\n",
    "# Converts a datetime object to the week number (as a string)\n",
    "def datetime2Week(dt):\n",
    "    return dt.strftime('%W')\n",
    "\n",
    "# Drop the rows containing a date outside of the given dates\n",
    "def dropDateOutsiders(series, start_date, end_date):\n",
    "    start_dt = string2Datetime(start_date)\n",
    "    end_dt = string2Datetime(end_date)\n",
    "    return series[(series >= start_dt) & (series <= end_dt)]\n",
    "\n",
    "# Reorder the week numbers such that 0 it the starting week of the mooc (and not the first week of January)\n",
    "def orderWeek(series, start_date):\n",
    "    start_week = int(datetime2Week(string2Datetime(start_date)))\n",
    "    nb_week = int(series.max())\n",
    "    return series.apply(lambda w: str((int(w) - start_week) % nb_week))\n",
    "\n",
    "# Removes the viewings outside of the Mooc duration, around 15 weeks\n",
    "# and labels the week by number and ordered\n",
    "def processYear(series, start_date, end_date):\n",
    "    series = series.apply(string2Datetime)\n",
    "    series = dropDateOutsiders(series, start_date, end_date)\n",
    "    series = series.apply(datetime2Week)\n",
    "    return orderWeek(series,start_date)\n",
    "    "
   ]
  },
  {
   "cell_type": "code",
   "execution_count": 27,
   "metadata": {
    "ExecuteTime": {
     "end_time": "2020-10-02T07:28:20.542473Z",
     "start_time": "2020-10-02T07:28:18.893096Z"
    },
    "scrolled": true
   },
   "outputs": [
    {
     "data": {
      "image/png": "[encoded data removed]",
      "text/plain": [
       "<Figure size 1080x360 with 2 Axes>"
      ]
     },
     "metadata": {
      "needs_background": "light"
     },
     "output_type": "display_data"
    }
   ],
   "source": [
    "fig, axes = plt.subplots(nrows=1, ncols=2, figsize=(15,5))\n",
    "\n",
    "for i in range(2):\n",
    "    year = '2017' if(i==0) else '2018'\n",
    "    course_df = df[['Day','AccountUserID']].copy()\n",
    "    course_df['Week'] = processYear(course_df['Day'], MOOC[year]['start_date'],  MOOC[year]['end_date'])\n",
    "    course_df = course_df.dropna().sort_values(by=\"Day\");\n",
    "    chart = sns.histplot(ax=axes[i], data=course_df,x=\"Week\", kde=True);\n",
    "    chart.set_title(\"Number of video viewings per week during \"+year)"
   ]
  },
  {
   "cell_type": "code",
   "execution_count": 28,
   "metadata": {
    "ExecuteTime": {
     "end_time": "2020-10-02T07:28:21.063239Z",
     "start_time": "2020-10-02T07:28:20.551940Z"
    }
   },
   "outputs": [
    {
     "data": {
      "image/png": "[encoded data removed]",
      "text/plain": [
       "<Figure size 432x288 with 1 Axes>"
      ]
     },
     "metadata": {
      "needs_background": "light"
     },
     "output_type": "display_data"
    }
   ],
   "source": [
    "year = '2017'\n",
    "\n",
    "# # Number the weeks as numbers starting from start_date, e.g. [14,15,16,17,...]\n",
    "# week_dates = [datetime2Week(string2Datetime(MOOC[year]['start_date']))]\n",
    "# for i in range(1, MOOC[year]['mooc_weeks']):\n",
    "#     week_dates.append(str(int(week_dates[i - 1]) + 1))\n",
    "mooc_df = []\n",
    "for i in range(MOOC[year]['mooc_weeks']):\n",
    "    mooc_df.append([i, MOOC[year]['weekly_video_count'][i]])\n",
    "\n",
    "    \n",
    "mooc_df= pd.DataFrame(mooc_df, columns=[\"Week\", \"Count\"])\n",
    "# mooc_df['Week'] = orderWeek(mooc_df['Week'], MOOC[year]['start_date'])\n",
    "mooc_df\n",
    "sns.barplot(x=\"Week\",y=\"Count\",palette=\"crest\", data=mooc_df);"
   ]
  },
  {
   "cell_type": "markdown",
   "metadata": {},
   "source": [
    "### Weekdays repartition\n"
   ]
  },
  {
   "cell_type": "code",
   "execution_count": 29,
   "metadata": {
    "ExecuteTime": {
     "end_time": "2020-10-02T07:28:21.433044Z",
     "start_time": "2020-10-02T07:28:21.067795Z"
    }
   },
   "outputs": [],
   "source": [
    "#Converts a string date to the corresponding day of the week\n",
    "def string_to_day(ts):\n",
    "    return datetime.strptime(ts, '%Y-%m-%d').strftime('%A')\n",
    "\n",
    "week_df = df[['Day','AccountUserID']].copy()\n",
    "week_df[\"Day\"] = week_df['Day'].apply(string_to_day)\n"
   ]
  },
  {
   "cell_type": "code",
   "execution_count": 30,
   "metadata": {
    "ExecuteTime": {
     "end_time": "2020-10-02T07:28:21.758390Z",
     "start_time": "2020-10-02T07:28:21.435238Z"
    },
    "scrolled": false
   },
   "outputs": [
    {
     "data": {
      "image/png": "[encoded data removed]",
      "text/plain": [
       "<Figure size 432x288 with 1 Axes>"
      ]
     },
     "metadata": {
      "needs_background": "light"
     },
     "output_type": "display_data"
    }
   ],
   "source": [
    "days = ['Monday', 'Tuesday', 'Wednesday', 'Thursday', 'Friday', 'Saturday', 'Sunday']\n",
    "\n",
    "chart = sns.countplot(data=week_df, x=\"Day\", order=days, palette=\"crest\");\n",
    "chart.set_xticklabels(chart.get_xticklabels(), rotation=45, horizontalalignment='right', fontweight='light', fontsize='x-large');"
   ]
  },
  {
   "cell_type": "markdown",
   "metadata": {},
   "source": [
    "**Comment:** The peak days are Monday and the weekend. The latter is not surprising since it is when the students have the most time to dedicate. An hypothesis for the large amount of viewings on Monday is that the videos are released on Monday or that come quiz takes place around that day. The peak can also be due to a great amount of free time on Monday in the students' schedule."
   ]
  },
  {
   "cell_type": "markdown",
   "metadata": {},
   "source": [
    "### Hours repartition"
   ]
  },
  {
   "cell_type": "code",
   "execution_count": 31,
   "metadata": {
    "ExecuteTime": {
     "end_time": "2020-10-02T07:28:22.539981Z",
     "start_time": "2020-10-02T07:28:21.762313Z"
    },
    "scrolled": true
   },
   "outputs": [
    {
     "data": {
      "image/png": "[encoded data removed]",
      "text/plain": [
       "<Figure size 432x288 with 1 Axes>"
      ]
     },
     "metadata": {
      "needs_background": "light"
     },
     "output_type": "display_data"
    }
   ],
   "source": [
    "\n",
    "sns.histplot(data=df[['Hour', 'AccountUserID']].sort_values(by=\"Hour\"),x=\"Hour\", kde=True);"
   ]
  },
  {
   "cell_type": "markdown",
   "metadata": {},
   "source": [
    "## Quizzes"
   ]
  },
  {
   "cell_type": "code",
   "execution_count": 32,
   "metadata": {
    "ExecuteTime": {
     "end_time": "2020-10-02T07:28:26.297651Z",
     "start_time": "2020-10-02T07:28:22.550118Z"
    }
   },
   "outputs": [],
   "source": [
    "columns = [\"AccountUserID\", \"DataPackageID\",\"ProblemID\", \"TimeStamp\", \"EventType\", \"ProblemType\"]\n",
    "\n",
    "# Selecting rows with unique (AccountUserID, ProblemID) pair\n",
    "# Foreach AccountUserId, the subquery assignes an incrementing row number rn for each ProblemId\n",
    "# And the top query only keeps the first one, i.e rn = 1\n",
    "query = \"\"\"\n",
    "SELECT {columns}\n",
    "FROM (\n",
    "    SELECT {columns}, ROW_NUMBER() OVER(PARTITION BY AccountUserID, ProblemID) rn\n",
    "    FROM ca_courseware.Problem_Events_with_Info\n",
    "    WHERE DataPackageID in {courses}) t\n",
    "WHERE rn = 1;\n",
    "\"\"\".format(columns=\", \".join(columns), courses=COURSES_ID)\n",
    "quiz_df = queryDB(query, columns)"
   ]
  },
  {
   "cell_type": "code",
   "execution_count": 33,
   "metadata": {
    "ExecuteTime": {
     "end_time": "2020-10-02T07:28:26.644890Z",
     "start_time": "2020-10-02T07:28:26.299853Z"
    }
   },
   "outputs": [
    {
     "data": {
      "image/png": "[encoded data removed]",
      "text/plain": [
       "<Figure size 432x288 with 1 Axes>"
      ]
     },
     "metadata": {
      "needs_background": "light"
     },
     "output_type": "display_data"
    }
   ],
   "source": [
    "hist = quiz_df[[\"AccountUserID\",\"ProblemID\"]].groupby(\"AccountUserID\").count()\\\n",
    "    .plot(kind='hist', bins=range(0,340,20), rwidth=0.8, title=\"How many quizzes do student complete?\", legend=False);\n",
    "hist.set_ylabel(\"Number of students\");\n",
    "hist.set_xlabel(\"Number of quiz completed\");"
   ]
  },
  {
   "cell_type": "markdown",
   "metadata": {},
   "source": [
    "## Information functions"
   ]
  },
  {
   "cell_type": "markdown",
   "metadata": {},
   "source": [
    "### User Info"
   ]
  },
  {
   "cell_type": "markdown",
   "metadata": {},
   "source": [
    "df with columns `AccountUserID`\t`Sciper`\t`Round` already removed repeating students, students with no grades, and students with only a few video interactions"
   ]
  },
  {
   "cell_type": "code",
   "execution_count": 24,
   "metadata": {
    "ExecuteTime": {
     "end_time": "2020-10-27T15:01:23.726819Z",
     "start_time": "2020-10-27T15:01:23.710755Z"
    }
   },
   "outputs": [],
   "source": [
    "def _getUserInfo():\n",
    "    course_names = ['\\'EPFL-AlgebreLineaire-2017_T3\\'', '\\'EPFL-AlgebreLineaire-2018\\'', '\\'EPFL-AlgebreLineaire-2019\\'']\n",
    "    columns = ['AccountUserID']\n",
    "    query = \"\"\" SELECT {} FROM ca_courseware.User_Account_Info WHERE DataPackageID in ({}) \"\"\".format(\", \".join(columns), \", \".join(course_names))\n",
    "    \n",
    "    user_df = queryDB(query, columns) #User info\n",
    "    video_df = getVideoEvents(isa_only=False)#Video events to filter inactive users\n",
    "    mapping_df = getMapping() #AccountUserID - Sciper mapping\n",
    "    condition_df = getStudentCondition() #Flipped/Control condition\n",
    "    grades_df = getGrades()\n",
    "\n",
    "    user_df = user_df.merge(mapping_df).merge(condition_df).rename(columns={\"Course.Year: Round\"})\n",
    "    \n",
    "    user_df = user_df[~user_df['AccountUserID'].isin(getRepeatingStudentsIDs(video_df))] #Remove repeaters\n",
    "    user_df = user_df[~user_df['AccountUserID'].isin(getUnactiveStudentsIDs(video_df))] #Remove inactives\n",
    "    user_df = user_df[user_df['SCIPER'].isin(getGrades().StudentSCIPER)] #Remove students without grade\n",
    "    \n",
    "    return user_df"
   ]
  },
  {
   "cell_type": "code",
   "execution_count": 84,
   "metadata": {
    "ExecuteTime": {
     "end_time": "2020-10-27T15:31:06.573903Z",
     "start_time": "2020-10-27T15:29:58.762651Z"
    }
   },
   "outputs": [],
   "source": [
    "a = getUserInfo()"
   ]
  },
  {
   "cell_type": "code",
   "execution_count": 98,
   "metadata": {
    "ExecuteTime": {
     "end_time": "2020-10-27T15:35:34.531100Z",
     "start_time": "2020-10-27T15:35:34.492088Z"
    },
    "scrolled": false
   },
   "outputs": [
    {
     "data": {
      "text/html": [
       "<div>\n",
       "<style scoped>\n",
       "    .dataframe tbody tr th:only-of-type {\n",
       "        vertical-align: middle;\n",
       "    }\n",
       "\n",
       "    .dataframe tbody tr th {\n",
       "        vertical-align: top;\n",
       "    }\n",
       "\n",
       "    .dataframe thead th {\n",
       "        text-align: right;\n",
       "    }\n",
       "</style>\n",
       "<table border=\"1\" class=\"dataframe\">\n",
       "  <thead>\n",
       "    <tr style=\"text-align: right;\">\n",
       "      <th></th>\n",
       "      <th>AccountUserID</th>\n",
       "      <th>SCIPER</th>\n",
       "      <th>Round</th>\n",
       "    </tr>\n",
       "  </thead>\n",
       "  <tbody>\n",
       "    <tr>\n",
       "      <th>0</th>\n",
       "      <td>10547</td>\n",
       "      <td>284707</td>\n",
       "      <td>Y1-2017-18</td>\n",
       "    </tr>\n",
       "    <tr>\n",
       "      <th>1</th>\n",
       "      <td>10031</td>\n",
       "      <td>288415</td>\n",
       "      <td>Y1-2017-18</td>\n",
       "    </tr>\n",
       "    <tr>\n",
       "      <th>2</th>\n",
       "      <td>9734</td>\n",
       "      <td>288078</td>\n",
       "      <td>Y1-2017-18</td>\n",
       "    </tr>\n",
       "    <tr>\n",
       "      <th>3</th>\n",
       "      <td>10615</td>\n",
       "      <td>283672</td>\n",
       "      <td>Y1-2017-18</td>\n",
       "    </tr>\n",
       "    <tr>\n",
       "      <th>5</th>\n",
       "      <td>9893</td>\n",
       "      <td>287261</td>\n",
       "      <td>Y1-2017-18</td>\n",
       "    </tr>\n",
       "  </tbody>\n",
       "</table>\n",
       "</div>"
      ],
      "text/plain": [
       "  AccountUserID  SCIPER       Round\n",
       "0         10547  284707  Y1-2017-18\n",
       "1         10031  288415  Y1-2017-18\n",
       "2          9734  288078  Y1-2017-18\n",
       "3         10615  283672  Y1-2017-18\n",
       "5          9893  287261  Y1-2017-18"
      ]
     },
     "execution_count": 98,
     "metadata": {},
     "output_type": "execute_result"
    }
   ],
   "source": [
    "a.head()"
   ]
  },
  {
   "cell_type": "markdown",
   "metadata": {},
   "source": [
    "### Video events Info"
   ]
  },
  {
   "cell_type": "markdown",
   "metadata": {},
   "source": [
    "video_data = getVideoInfo()\n",
    "df with columns AccountUserID\tRound\tEventType\tTimeStamp\tTitle\tSource\n",
    "already with only students present in user_data"
   ]
  },
  {
   "cell_type": "code",
   "execution_count": 87,
   "metadata": {
    "ExecuteTime": {
     "end_time": "2020-10-27T15:31:33.467020Z",
     "start_time": "2020-10-27T15:31:33.162454Z"
    }
   },
   "outputs": [],
   "source": [
    "def _getVideoEventsInfo():\n",
    "    course_names = ['\\'EPFL-AlgebreLineaire-2017_T3\\'', '\\'EPFL-AlgebreLineaire-2018\\'','\\'EPFL-AlgebreLineaire-2019\\'']\n",
    "    columns = ['AccountUserID', 'EventType', 'TimeStamp', \"VideoID\"]\n",
    "    query = \"\"\" SELECT {} FROM ca_courseware.Video_Events WHERE DataPackageID in ({}) \"\"\".format(\", \".join(columns), \", \".join(course_names))\n",
    "    events_df = queryDB(query, columns) #Video events\n",
    "    info_df = getVideoInfo() # Video informations\n",
    "    user_df = getUserInfo() # User in the flipped group\n",
    "    \n",
    "    events_df = events_df.merge(user_df).merge(info_df)\n",
    "    events_df.drop(columns=[\"SCIPER\", \"VideoID\", \"DataPackageID\"], inplace=True)\n",
    "    return events_df"
   ]
  },
  {
   "cell_type": "code",
   "execution_count": 94,
   "metadata": {
    "ExecuteTime": {
     "end_time": "2020-10-27T15:35:12.328873Z",
     "start_time": "2020-10-27T15:33:47.876051Z"
    },
    "scrolled": true
   },
   "outputs": [
    {
     "name": "stdout",
     "output_type": "stream",
     "text": [
      "asd\n"
     ]
    }
   ],
   "source": [
    "b = getVideoEventsInfo()"
   ]
  },
  {
   "cell_type": "code",
   "execution_count": 102,
   "metadata": {
    "ExecuteTime": {
     "end_time": "2020-10-27T15:42:04.204618Z",
     "start_time": "2020-10-27T15:42:04.162185Z"
    }
   },
   "outputs": [
    {
     "data": {
      "text/html": [
       "<div>\n",
       "<style scoped>\n",
       "    .dataframe tbody tr th:only-of-type {\n",
       "        vertical-align: middle;\n",
       "    }\n",
       "\n",
       "    .dataframe tbody tr th {\n",
       "        vertical-align: top;\n",
       "    }\n",
       "\n",
       "    .dataframe thead th {\n",
       "        text-align: right;\n",
       "    }\n",
       "</style>\n",
       "<table border=\"1\" class=\"dataframe\">\n",
       "  <thead>\n",
       "    <tr style=\"text-align: right;\">\n",
       "      <th></th>\n",
       "      <th>AccountUserID</th>\n",
       "      <th>EventType</th>\n",
       "      <th>TimeStamp</th>\n",
       "      <th>Round</th>\n",
       "      <th>Title</th>\n",
       "      <th>Source</th>\n",
       "    </tr>\n",
       "  </thead>\n",
       "  <tbody>\n",
       "    <tr>\n",
       "      <th>0</th>\n",
       "      <td>95017</td>\n",
       "      <td>Video.Play</td>\n",
       "      <td>1570355725</td>\n",
       "      <td>Y3-2019-20</td>\n",
       "      <td>Leçon</td>\n",
       "      <td>https://www.youtube.com/watch?v=AFtb4KxwYGY</td>\n",
       "    </tr>\n",
       "    <tr>\n",
       "      <th>1</th>\n",
       "      <td>95017</td>\n",
       "      <td>Video.Play</td>\n",
       "      <td>1570355725</td>\n",
       "      <td>Y3-2019-20</td>\n",
       "      <td>Leçon</td>\n",
       "      <td>https://www.youtube.com/watch?v=AFtb4KxwYGY</td>\n",
       "    </tr>\n",
       "    <tr>\n",
       "      <th>2</th>\n",
       "      <td>95017</td>\n",
       "      <td>Video.Play</td>\n",
       "      <td>1570355725</td>\n",
       "      <td>Y3-2019-20</td>\n",
       "      <td>Leçon</td>\n",
       "      <td>https://www.youtube.com/watch?v=AFtb4KxwYGY</td>\n",
       "    </tr>\n",
       "    <tr>\n",
       "      <th>3</th>\n",
       "      <td>95017</td>\n",
       "      <td>Video.Play</td>\n",
       "      <td>1570355899</td>\n",
       "      <td>Y3-2019-20</td>\n",
       "      <td>Leçon</td>\n",
       "      <td>https://www.youtube.com/watch?v=AFtb4KxwYGY</td>\n",
       "    </tr>\n",
       "    <tr>\n",
       "      <th>4</th>\n",
       "      <td>95017</td>\n",
       "      <td>Video.Play</td>\n",
       "      <td>1570355899</td>\n",
       "      <td>Y3-2019-20</td>\n",
       "      <td>Leçon</td>\n",
       "      <td>https://www.youtube.com/watch?v=AFtb4KxwYGY</td>\n",
       "    </tr>\n",
       "  </tbody>\n",
       "</table>\n",
       "</div>"
      ],
      "text/plain": [
       "  AccountUserID   EventType   TimeStamp       Round  Title  \\\n",
       "0         95017  Video.Play  1570355725  Y3-2019-20  Leçon   \n",
       "1         95017  Video.Play  1570355725  Y3-2019-20  Leçon   \n",
       "2         95017  Video.Play  1570355725  Y3-2019-20  Leçon   \n",
       "3         95017  Video.Play  1570355899  Y3-2019-20  Leçon   \n",
       "4         95017  Video.Play  1570355899  Y3-2019-20  Leçon   \n",
       "\n",
       "                                        Source  \n",
       "0  https://www.youtube.com/watch?v=AFtb4KxwYGY  \n",
       "1  https://www.youtube.com/watch?v=AFtb4KxwYGY  \n",
       "2  https://www.youtube.com/watch?v=AFtb4KxwYGY  \n",
       "3  https://www.youtube.com/watch?v=AFtb4KxwYGY  \n",
       "4  https://www.youtube.com/watch?v=AFtb4KxwYGY  "
      ]
     },
     "execution_count": 102,
     "metadata": {},
     "output_type": "execute_result"
    }
   ],
   "source": [
    "b.head()"
   ]
  },
  {
   "cell_type": "markdown",
   "metadata": {},
   "source": [
    "### Problem events info"
   ]
  },
  {
   "cell_type": "markdown",
   "metadata": {},
   "source": [
    "df with columns `AccountUserID`\t`Round` `EventType`\t`TimeStamp`\t`ProblemType`\t`MaximumSubmissions`\n",
    "already with only students present in user_data"
   ]
  },
  {
   "cell_type": "code",
   "execution_count": null,
   "metadata": {},
   "outputs": [],
   "source": [
    " def dataPackage_to_year(dataPackage):\n",
    "        if \"2017\" in dataPackage:\n",
    "            return 'Y1-2017-18'\n",
    "        elif \"2018\" in dataPackage:\n",
    "            return 'Y2-2018-19'\n",
    "        elif \"2019\" in dataPackage:\n",
    "            return 'Y3-2019-20'\n",
    "        else:\n",
    "            return None"
   ]
  },
  {
   "cell_type": "code",
   "execution_count": 110,
   "metadata": {
    "ExecuteTime": {
     "end_time": "2020-10-27T15:46:59.410205Z",
     "start_time": "2020-10-27T15:46:59.327422Z"
    }
   },
   "outputs": [],
   "source": [
    "def _getProblemEventsInfo():\n",
    "    course_names = ['\\'EPFL-AlgebreLineaire-2017_T3\\'', '\\'EPFL-AlgebreLineaire-2018\\'','\\'EPFL-AlgebreLineaire-2019\\'']\n",
    "    columns = ['AccountUserID', 'EventType', 'TimeStamp', 'ProblemType', \"MaximumSubmissions\"]\n",
    "    query = \"\"\" SELECT {} FROM ca_courseware.Problem_Events_with_Info WHERE DataPackageID in ({}) \"\"\".format(\", \".join(columns), \", \".join(course_names))\n",
    "    events_df = queryDB(query, columns)\n",
    "    user_df = getUserInfo()\n",
    "    \n",
    "    events_df = events_df.merge(user_df)\n",
    "    events_df.drop(columns=[\"SCIPER\"], inplace=True)\n",
    "    return events_df"
   ]
  },
  {
   "cell_type": "code",
   "execution_count": 121,
   "metadata": {
    "ExecuteTime": {
     "end_time": "2020-10-27T15:57:44.983336Z",
     "start_time": "2020-10-27T15:56:35.637055Z"
    }
   },
   "outputs": [
    {
     "name": "stdout",
     "output_type": "stream",
     "text": [
      "asd\n"
     ]
    }
   ],
   "source": [
    "c = getProblemEventsInfo()"
   ]
  },
  {
   "cell_type": "code",
   "execution_count": 122,
   "metadata": {
    "ExecuteTime": {
     "end_time": "2020-10-27T15:57:45.426013Z",
     "start_time": "2020-10-27T15:57:44.986498Z"
    }
   },
   "outputs": [
    {
     "data": {
      "text/html": [
       "<div>\n",
       "<style scoped>\n",
       "    .dataframe tbody tr th:only-of-type {\n",
       "        vertical-align: middle;\n",
       "    }\n",
       "\n",
       "    .dataframe tbody tr th {\n",
       "        vertical-align: top;\n",
       "    }\n",
       "\n",
       "    .dataframe thead th {\n",
       "        text-align: right;\n",
       "    }\n",
       "</style>\n",
       "<table border=\"1\" class=\"dataframe\">\n",
       "  <thead>\n",
       "    <tr style=\"text-align: right;\">\n",
       "      <th></th>\n",
       "      <th>AccountUserID</th>\n",
       "      <th>EventType</th>\n",
       "      <th>TimeStamp</th>\n",
       "      <th>ProblemType</th>\n",
       "      <th>MaximumSubmissions</th>\n",
       "      <th>Round</th>\n",
       "    </tr>\n",
       "  </thead>\n",
       "  <tbody>\n",
       "    <tr>\n",
       "      <th>0</th>\n",
       "      <td>46461</td>\n",
       "      <td>Problem.Check</td>\n",
       "      <td>1543677480</td>\n",
       "      <td>Quiz</td>\n",
       "      <td>1.0</td>\n",
       "      <td>Y2-2018-19</td>\n",
       "    </tr>\n",
       "    <tr>\n",
       "      <th>1</th>\n",
       "      <td>46461</td>\n",
       "      <td>Problem.Check</td>\n",
       "      <td>1547885100</td>\n",
       "      <td>Quiz</td>\n",
       "      <td>NaN</td>\n",
       "      <td>Y2-2018-19</td>\n",
       "    </tr>\n",
       "    <tr>\n",
       "      <th>2</th>\n",
       "      <td>46461</td>\n",
       "      <td>Problem.Check</td>\n",
       "      <td>1544256079</td>\n",
       "      <td>Quiz</td>\n",
       "      <td>NaN</td>\n",
       "      <td>Y2-2018-19</td>\n",
       "    </tr>\n",
       "    <tr>\n",
       "      <th>3</th>\n",
       "      <td>46461</td>\n",
       "      <td>Problem.Check</td>\n",
       "      <td>1541263833</td>\n",
       "      <td>Quiz</td>\n",
       "      <td>1.0</td>\n",
       "      <td>Y2-2018-19</td>\n",
       "    </tr>\n",
       "    <tr>\n",
       "      <th>4</th>\n",
       "      <td>46461</td>\n",
       "      <td>Problem.Check</td>\n",
       "      <td>1540406407</td>\n",
       "      <td>Quiz</td>\n",
       "      <td>NaN</td>\n",
       "      <td>Y2-2018-19</td>\n",
       "    </tr>\n",
       "    <tr>\n",
       "      <th>...</th>\n",
       "      <td>...</td>\n",
       "      <td>...</td>\n",
       "      <td>...</td>\n",
       "      <td>...</td>\n",
       "      <td>...</td>\n",
       "      <td>...</td>\n",
       "    </tr>\n",
       "    <tr>\n",
       "      <th>411448</th>\n",
       "      <td>46944</td>\n",
       "      <td>Problem.Show</td>\n",
       "      <td>1539697228</td>\n",
       "      <td>Quiz</td>\n",
       "      <td>1.0</td>\n",
       "      <td>Y2-2018-19</td>\n",
       "    </tr>\n",
       "    <tr>\n",
       "      <th>411449</th>\n",
       "      <td>46944</td>\n",
       "      <td>Problem.Check</td>\n",
       "      <td>1539697221</td>\n",
       "      <td>Quiz</td>\n",
       "      <td>1.0</td>\n",
       "      <td>Y2-2018-19</td>\n",
       "    </tr>\n",
       "    <tr>\n",
       "      <th>411450</th>\n",
       "      <td>46944</td>\n",
       "      <td>Problem.Graded</td>\n",
       "      <td>1539698208</td>\n",
       "      <td>Quiz</td>\n",
       "      <td>1.0</td>\n",
       "      <td>Y2-2018-19</td>\n",
       "    </tr>\n",
       "    <tr>\n",
       "      <th>411451</th>\n",
       "      <td>46944</td>\n",
       "      <td>Problem.Check</td>\n",
       "      <td>1539698208</td>\n",
       "      <td>Quiz</td>\n",
       "      <td>1.0</td>\n",
       "      <td>Y2-2018-19</td>\n",
       "    </tr>\n",
       "    <tr>\n",
       "      <th>411452</th>\n",
       "      <td>46944</td>\n",
       "      <td>Problem.Show</td>\n",
       "      <td>1539697228</td>\n",
       "      <td>Quiz</td>\n",
       "      <td>1.0</td>\n",
       "      <td>Y2-2018-19</td>\n",
       "    </tr>\n",
       "  </tbody>\n",
       "</table>\n",
       "<p>411453 rows × 6 columns</p>\n",
       "</div>"
      ],
      "text/plain": [
       "       AccountUserID       EventType   TimeStamp ProblemType  \\\n",
       "0              46461   Problem.Check  1543677480        Quiz   \n",
       "1              46461   Problem.Check  1547885100        Quiz   \n",
       "2              46461   Problem.Check  1544256079        Quiz   \n",
       "3              46461   Problem.Check  1541263833        Quiz   \n",
       "4              46461   Problem.Check  1540406407        Quiz   \n",
       "...              ...             ...         ...         ...   \n",
       "411448         46944    Problem.Show  1539697228        Quiz   \n",
       "411449         46944   Problem.Check  1539697221        Quiz   \n",
       "411450         46944  Problem.Graded  1539698208        Quiz   \n",
       "411451         46944   Problem.Check  1539698208        Quiz   \n",
       "411452         46944    Problem.Show  1539697228        Quiz   \n",
       "\n",
       "        MaximumSubmissions       Round  \n",
       "0                      1.0  Y2-2018-19  \n",
       "1                      NaN  Y2-2018-19  \n",
       "2                      NaN  Y2-2018-19  \n",
       "3                      1.0  Y2-2018-19  \n",
       "4                      NaN  Y2-2018-19  \n",
       "...                    ...         ...  \n",
       "411448                 1.0  Y2-2018-19  \n",
       "411449                 1.0  Y2-2018-19  \n",
       "411450                 1.0  Y2-2018-19  \n",
       "411451                 1.0  Y2-2018-19  \n",
       "411452                 1.0  Y2-2018-19  \n",
       "\n",
       "[411453 rows x 6 columns]"
      ]
     },
     "execution_count": 122,
     "metadata": {},
     "output_type": "execute_result"
    }
   ],
   "source": [
    "c"
   ]
  },
  {
   "cell_type": "markdown",
   "metadata": {},
   "source": [
    "# Exam info "
   ]
  },
  {
   "cell_type": "markdown",
   "metadata": {},
   "source": [
    "df with columns `AccountUserID`\t`Round`\t`Grade`\t`GradeDate`\n",
    "already with only students present in user_data"
   ]
  },
  {
   "cell_type": "code",
   "execution_count": 138,
   "metadata": {
    "ExecuteTime": {
     "end_time": "2020-10-27T16:05:47.718790Z",
     "start_time": "2020-10-27T16:05:47.016011Z"
    },
    "scrolled": true
   },
   "outputs": [],
   "source": [
    "d = getExamInfo()"
   ]
  },
  {
   "cell_type": "code",
   "execution_count": 139,
   "metadata": {
    "ExecuteTime": {
     "end_time": "2020-10-27T16:05:47.769943Z",
     "start_time": "2020-10-27T16:05:47.721711Z"
    }
   },
   "outputs": [
    {
     "data": {
      "text/html": [
       "<div>\n",
       "<style scoped>\n",
       "    .dataframe tbody tr th:only-of-type {\n",
       "        vertical-align: middle;\n",
       "    }\n",
       "\n",
       "    .dataframe tbody tr th {\n",
       "        vertical-align: top;\n",
       "    }\n",
       "\n",
       "    .dataframe thead th {\n",
       "        text-align: right;\n",
       "    }\n",
       "</style>\n",
       "<table border=\"1\" class=\"dataframe\">\n",
       "  <thead>\n",
       "    <tr style=\"text-align: right;\">\n",
       "      <th></th>\n",
       "      <th>Grade</th>\n",
       "      <th>GradeDate</th>\n",
       "      <th>Round</th>\n",
       "      <th>AccountUserID</th>\n",
       "    </tr>\n",
       "  </thead>\n",
       "  <tbody>\n",
       "    <tr>\n",
       "      <th>0</th>\n",
       "      <td>5.00</td>\n",
       "      <td>02.2019</td>\n",
       "      <td>Y2-2018-19</td>\n",
       "      <td>46938</td>\n",
       "    </tr>\n",
       "    <tr>\n",
       "      <th>1</th>\n",
       "      <td>4.25</td>\n",
       "      <td>02.2018</td>\n",
       "      <td>Y1-2017-18</td>\n",
       "      <td>8402</td>\n",
       "    </tr>\n",
       "    <tr>\n",
       "      <th>2</th>\n",
       "      <td>3.25</td>\n",
       "      <td>02.2018</td>\n",
       "      <td>Y1-2017-18</td>\n",
       "      <td>9866</td>\n",
       "    </tr>\n",
       "    <tr>\n",
       "      <th>3</th>\n",
       "      <td>5.50</td>\n",
       "      <td>02.2019</td>\n",
       "      <td>Y2-2018-19</td>\n",
       "      <td>49638</td>\n",
       "    </tr>\n",
       "    <tr>\n",
       "      <th>4</th>\n",
       "      <td>3.75</td>\n",
       "      <td>02.2018</td>\n",
       "      <td>Y1-2017-18</td>\n",
       "      <td>11354</td>\n",
       "    </tr>\n",
       "    <tr>\n",
       "      <th>...</th>\n",
       "      <td>...</td>\n",
       "      <td>...</td>\n",
       "      <td>...</td>\n",
       "      <td>...</td>\n",
       "    </tr>\n",
       "    <tr>\n",
       "      <th>424</th>\n",
       "      <td>2.00</td>\n",
       "      <td>02.2020</td>\n",
       "      <td>Y3-2019-20</td>\n",
       "      <td>100588</td>\n",
       "    </tr>\n",
       "    <tr>\n",
       "      <th>425</th>\n",
       "      <td>4.00</td>\n",
       "      <td>02.2020</td>\n",
       "      <td>Y3-2019-20</td>\n",
       "      <td>94639</td>\n",
       "    </tr>\n",
       "    <tr>\n",
       "      <th>426</th>\n",
       "      <td>5.50</td>\n",
       "      <td>02.2020</td>\n",
       "      <td>Y3-2019-20</td>\n",
       "      <td>91406</td>\n",
       "    </tr>\n",
       "    <tr>\n",
       "      <th>427</th>\n",
       "      <td>4.25</td>\n",
       "      <td>02.2020</td>\n",
       "      <td>Y3-2019-20</td>\n",
       "      <td>100873</td>\n",
       "    </tr>\n",
       "    <tr>\n",
       "      <th>428</th>\n",
       "      <td>4.75</td>\n",
       "      <td>02.2020</td>\n",
       "      <td>Y3-2019-20</td>\n",
       "      <td>95119</td>\n",
       "    </tr>\n",
       "  </tbody>\n",
       "</table>\n",
       "<p>408 rows × 4 columns</p>\n",
       "</div>"
      ],
      "text/plain": [
       "     Grade GradeDate       Round AccountUserID\n",
       "0     5.00   02.2019  Y2-2018-19         46938\n",
       "1     4.25   02.2018  Y1-2017-18          8402\n",
       "2     3.25   02.2018  Y1-2017-18          9866\n",
       "3     5.50   02.2019  Y2-2018-19         49638\n",
       "4     3.75   02.2018  Y1-2017-18         11354\n",
       "..     ...       ...         ...           ...\n",
       "424   2.00   02.2020  Y3-2019-20        100588\n",
       "425   4.00   02.2020  Y3-2019-20         94639\n",
       "426   5.50   02.2020  Y3-2019-20         91406\n",
       "427   4.25   02.2020  Y3-2019-20        100873\n",
       "428   4.75   02.2020  Y3-2019-20         95119\n",
       "\n",
       "[408 rows x 4 columns]"
      ]
     },
     "execution_count": 139,
     "metadata": {},
     "output_type": "execute_result"
    }
   ],
   "source": [
    "d"
   ]
  },
  {
   "cell_type": "code",
   "execution_count": null,
   "metadata": {},
   "outputs": [],
   "source": []
  }
 ],
 "metadata": {
  "kernelspec": {
   "display_name": "Python 3",
   "language": "python",
   "name": "python3"
  },
  "language_info": {
   "codemirror_mode": {
    "name": "ipython",
    "version": 3
   },
   "file_extension": ".py",
   "mimetype": "text/x-python",
   "name": "python",
   "nbconvert_exporter": "python",
   "pygments_lexer": "ipython3",
   "version": "3.7.1"
  },
  "toc": {
   "base_numbering": 1,
   "nav_menu": {},
   "number_sections": true,
   "sideBar": true,
   "skip_h1_title": false,
   "title_cell": "Table of Contents",
   "title_sidebar": "Contents",
   "toc_cell": false,
   "toc_position": {
    "height": "calc(100% - 180px)",
    "left": "10px",
    "top": "150px",
    "width": "512px"
   },
   "toc_section_display": true,
   "toc_window_display": true
  }
 },
 "nbformat": 4,
 "nbformat_minor": 2
}
