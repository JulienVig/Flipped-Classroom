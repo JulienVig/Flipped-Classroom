{
 "cells": [
  {
   "cell_type": "markdown",
   "metadata": {},
   "source": [
    "# Exploratory study on existing early warning systems"
   ]
  },
  {
   "cell_type": "markdown",
   "metadata": {},
   "source": [
    "## * Setup of the working environment *"
   ]
  },
  {
   "cell_type": "markdown",
   "metadata": {},
   "source": [
    "### Import traditional Python packages"
   ]
  },
  {
   "cell_type": "code",
   "execution_count": 1,
   "metadata": {
    "ExecuteTime": {
     "end_time": "2020-11-27T16:15:01.491133Z",
     "start_time": "2020-11-27T16:14:59.368164Z"
    }
   },
   "outputs": [
    {
     "name": "stderr",
     "output_type": "stream",
     "text": [
      "/Applications/anaconda3/lib/python3.7/site-packages/statsmodels/tools/_testing.py:19: FutureWarning: pandas.util.testing is deprecated. Use the functions in the public API at pandas.testing instead.\n",
      "  import pandas.util.testing as tm\n"
     ]
    }
   ],
   "source": [
    "from sklearn.metrics import accuracy_score, precision_score, recall_score, f1_score\n",
    "from datetime import datetime as dt, timedelta, date\n",
    "\n",
    "import matplotlib.pyplot as plt\n",
    "import seaborn as sns\n",
    "\n",
    "import pandas as pd\n",
    "import numpy as np\n",
    "import time\n",
    "import math\n",
    "import json\n",
    "import sys\n",
    "import os"
   ]
  },
  {
   "cell_type": "code",
   "execution_count": 2,
   "metadata": {
    "ExecuteTime": {
     "end_time": "2020-11-27T16:15:01.630796Z",
     "start_time": "2020-11-27T16:15:01.494575Z"
    }
   },
   "outputs": [],
   "source": [
    "from sklearn.ensemble import RandomForestClassifier, AdaBoostClassifier\n",
    "from sklearn.linear_model import LogisticRegression, Lasso\n",
    "from sklearn.neighbors import KNeighborsClassifier\n",
    "from sklearn.neural_network import MLPClassifier\n",
    "from sklearn.tree import DecisionTreeClassifier\n",
    "from sklearn.naive_bayes import GaussianNB\n",
    "from sklearn.svm import SVC"
   ]
  },
  {
   "cell_type": "code",
   "execution_count": 3,
   "metadata": {
    "ExecuteTime": {
     "end_time": "2020-11-27T16:15:01.638759Z",
     "start_time": "2020-11-27T16:15:01.633647Z"
    }
   },
   "outputs": [],
   "source": [
    "import warnings\n",
    "warnings.filterwarnings('ignore')"
   ]
  },
  {
   "cell_type": "markdown",
   "metadata": {},
   "source": [
    "### Import custom Python modules"
   ]
  },
  {
   "cell_type": "code",
   "execution_count": 4,
   "metadata": {
    "ExecuteTime": {
     "end_time": "2020-11-27T16:15:02.098752Z",
     "start_time": "2020-11-27T16:15:02.093470Z"
    }
   },
   "outputs": [],
   "source": [
    "sys.path.append(os.path.abspath(os.path.join('..')))"
   ]
  },
  {
   "cell_type": "code",
   "execution_count": 5,
   "metadata": {
    "ExecuteTime": {
     "end_time": "2020-11-27T16:15:02.312138Z",
     "start_time": "2020-11-27T16:15:02.267067Z"
    }
   },
   "outputs": [],
   "source": [
    "%load_ext autoreload\n",
    "%autoreload 2"
   ]
  },
  {
   "cell_type": "code",
   "execution_count": 6,
   "metadata": {
    "ExecuteTime": {
     "end_time": "2020-11-27T16:15:02.586278Z",
     "start_time": "2020-11-27T16:15:02.451693Z"
    }
   },
   "outputs": [],
   "source": [
    "from helpers.db_connector import MySQLConnector\n",
    "from helpers.db_query import *\n",
    "\n",
    "from helpers.data_process import *\n",
    "from helpers.feature_extraction import *\n",
    "\n",
    "from extractors.akpinar_et_al import AkpinarEtAl\n",
    "from extractors.boroujeni_et_al import BoroujeniEtAl\n",
    "from extractors.chen_cui import ChenCui\n",
    "from extractors.he_et_al import HeEtAl\n",
    "from extractors.lalle_conati import LalleConati\n",
    "from extractors.lemay_doleck import LemayDoleck\n",
    "from extractors.mbouzao_et_al import MbouzaoEtAl\n",
    "from extractors.mubarak_et_al import MubarakEtAl\n",
    "from extractors.wan_et_al import WanEtAl\n",
    "\n",
    "from helpers.ml_utils import *\n",
    "\n",
    "from helpers.time import *"
   ]
  },
  {
   "cell_type": "markdown",
   "metadata": {},
   "source": [
    "## * Load the clickstream data *\n",
    "\n",
    "Since Fall 2017, the stream of the EPFL's Linear Algebra course has been taught in a flipped format. The implementation of the flipped classroom was carried out in an incremental manner, as described below:\n",
    "\n",
    "- **Year 2017-2018**: traditional manner (weeks 1-13) - flipped manner (week 14).\n",
    "- **Year 2018-2019**: traditional manner (weeks 1-4, 10-14) - flipped manner (weeks 5-9).\n",
    "- **Year 2019-2020**: traditional manner (weeks 1-4) - flipped manner (weeks 5-14)."
   ]
  },
  {
   "cell_type": "code",
   "execution_count": 7,
   "metadata": {
    "ExecuteTime": {
     "end_time": "2020-11-27T16:15:04.912790Z",
     "start_time": "2020-11-27T16:15:04.862173Z"
    }
   },
   "outputs": [],
   "source": [
    "rounds = ['Y2-2018-19', 'Y3-2019-20']"
   ]
  },
  {
   "cell_type": "markdown",
   "metadata": {},
   "source": [
    "### Identifying Students\n",
    "\n",
    "\n",
    "The flipped course was offered only to volunteering students. The volunteers were collectively assigned into either the experimental and the control group. A stratified random sampling based on gender and the prior background (secondary educational level) of students were used."
   ]
  },
  {
   "cell_type": "code",
   "execution_count": 13,
   "metadata": {
    "ExecuteTime": {
     "end_time": "2020-11-27T16:20:16.332291Z",
     "start_time": "2020-11-27T16:17:47.427102Z"
    }
   },
   "outputs": [
    {
     "name": "stdout",
     "output_type": "stream",
     "text": [
      "CPU times: user 57.1 s, sys: 2.58 s, total: 59.7 s\n",
      "Wall time: 2min 28s\n"
     ]
    }
   ],
   "source": [
    "%time userData = getUserInfo(prior_knowledge=True)"
   ]
  },
  {
   "cell_type": "markdown",
   "metadata": {},
   "source": [
    "The initial data of volunteers was cleaned, and some participants were removed before we analyzed the data:\n",
    "- The volunteering students who have not been graded were removed. \n",
    "- The repeating students were filtered out, where repeating students are those accessing videos in two different years. \n",
    "- The less active students, i.e., those who have provided less 60 interactions in the platform, were removed. "
   ]
  },
  {
   "cell_type": "markdown",
   "metadata": {},
   "source": [
    "Given that the Y1-2017-2018 round included only one week in a flipped classroom setting, we will remove the students of that round.  "
   ]
  },
  {
   "cell_type": "code",
   "execution_count": 14,
   "metadata": {
    "ExecuteTime": {
     "end_time": "2020-11-27T16:20:16.392274Z",
     "start_time": "2020-11-27T16:20:16.336115Z"
    }
   },
   "outputs": [],
   "source": [
    "userData = userData[userData['Round'].isin(rounds)]"
   ]
  },
  {
   "cell_type": "markdown",
   "metadata": {},
   "source": [
    "Some of the statistics on the user data are provided below. "
   ]
  },
  {
   "cell_type": "code",
   "execution_count": 15,
   "metadata": {
    "ExecuteTime": {
     "end_time": "2020-11-27T16:20:16.436097Z",
     "start_time": "2020-11-27T16:20:16.395437Z"
    },
    "scrolled": true
   },
   "outputs": [
    {
     "data": {
      "text/plain": [
       "('Number of students:', 214)"
      ]
     },
     "execution_count": 15,
     "metadata": {},
     "output_type": "execute_result"
    }
   ],
   "source": [
    "\"Number of students:\", len(userData)"
   ]
  },
  {
   "cell_type": "markdown",
   "metadata": {},
   "source": [
    "#### Exam Records"
   ]
  },
  {
   "cell_type": "code",
   "execution_count": 8,
   "metadata": {
    "ExecuteTime": {
     "end_time": "2020-11-27T16:17:10.453943Z",
     "start_time": "2020-11-27T16:15:13.214513Z"
    }
   },
   "outputs": [
    {
     "name": "stdout",
     "output_type": "stream",
     "text": [
      "CPU times: user 58 s, sys: 2.85 s, total: 1min\n",
      "Wall time: 1min 57s\n"
     ]
    }
   ],
   "source": [
    "%time examData = getExamInfo()"
   ]
  },
  {
   "cell_type": "code",
   "execution_count": 9,
   "metadata": {
    "ExecuteTime": {
     "end_time": "2020-11-27T16:17:10.536803Z",
     "start_time": "2020-11-27T16:17:10.457559Z"
    }
   },
   "outputs": [],
   "source": [
    "examData = examData[examData['Round'].isin(rounds)]"
   ]
  },
  {
   "cell_type": "code",
   "execution_count": 19,
   "metadata": {
    "ExecuteTime": {
     "end_time": "2020-11-27T16:20:17.206991Z",
     "start_time": "2020-11-27T16:20:17.168931Z"
    }
   },
   "outputs": [],
   "source": [
    "examData = examData[examData['AccountUserID'].isin(userData['AccountUserID'])]"
   ]
  },
  {
   "cell_type": "code",
   "execution_count": 20,
   "metadata": {
    "ExecuteTime": {
     "end_time": "2020-11-27T16:20:17.248857Z",
     "start_time": "2020-11-27T16:20:17.211641Z"
    },
    "scrolled": true
   },
   "outputs": [
    {
     "data": {
      "text/plain": [
       "('Number of graded students:', 214)"
      ]
     },
     "execution_count": 20,
     "metadata": {},
     "output_type": "execute_result"
    }
   ],
   "source": [
    "\"Number of graded students:\", len(examData)"
   ]
  },
  {
   "cell_type": "markdown",
   "metadata": {},
   "source": [
    "## * Cross validation of early warning systems *"
   ]
  },
  {
   "cell_type": "markdown",
   "metadata": {},
   "source": [
    "#### Parameters"
   ]
  },
  {
   "cell_type": "code",
   "execution_count": 22,
   "metadata": {
    "ExecuteTime": {
     "end_time": "2020-11-27T16:21:01.449833Z",
     "start_time": "2020-11-27T16:21:01.402572Z"
    }
   },
   "outputs": [],
   "source": [
    "mode = 'random'\n",
    "task = 'binary'\n",
    "ratio = 80\n",
    "start, end, step = 5, 15, 1\n",
    "iterations = 3"
   ]
  },
  {
   "cell_type": "code",
   "execution_count": 23,
   "metadata": {
    "ExecuteTime": {
     "end_time": "2020-11-27T16:21:01.795836Z",
     "start_time": "2020-11-27T16:21:01.749698Z"
    }
   },
   "outputs": [],
   "source": [
    "weeks = np.arange(start + 1, end, step)"
   ]
  },
  {
   "cell_type": "markdown",
   "metadata": {},
   "source": [
    "#### Feature Sets"
   ]
  },
  {
   "cell_type": "code",
   "execution_count": null,
   "metadata": {
    "ExecuteTime": {
     "end_time": "2020-11-27T15:03:43.551890Z",
     "start_time": "2020-11-27T15:03:22.325085Z"
    },
    "scrolled": true
   },
   "outputs": [],
   "source": [
    "featureLabels = [AkpinarEtAl(), BoroujeniEtAl(), ChenCui(), HeEtAl(), LalleConati(), LemayDoleck()]"
   ]
  },
  {
   "cell_type": "code",
   "execution_count": 24,
   "metadata": {
    "ExecuteTime": {
     "end_time": "2020-11-27T16:21:05.379596Z",
     "start_time": "2020-11-27T16:21:05.162142Z"
    },
    "scrolled": true
   },
   "outputs": [
    {
     "name": "stdout",
     "output_type": "stream",
     "text": [
      "> Found features for this experimental setting in ../data/feature_sets/feature_sets_random_binary_80_5-15-1.pkl\n"
     ]
    }
   ],
   "source": [
    "featureSets = loadFeatureSets(mode, task, ratio, start, end, step)"
   ]
  },
  {
   "cell_type": "markdown",
   "metadata": {},
   "source": [
    "#### Models and Metrics"
   ]
  },
  {
   "cell_type": "code",
   "execution_count": 49,
   "metadata": {
    "ExecuteTime": {
     "end_time": "2020-11-27T16:42:24.081791Z",
     "start_time": "2020-11-27T16:42:24.024596Z"
    }
   },
   "outputs": [],
   "source": [
    "evaluation_metrics = {\n",
    "    'acc': accuracy_score,\n",
    "    'f1': f1_score,\n",
    "    'p': precision_score, \n",
    "    'r': recall_score,\n",
    "    'tp': tp,\n",
    "    'tn': tn,\n",
    "    'fp': fp,\n",
    "    'fn': fn\n",
    "}"
   ]
  },
  {
   "cell_type": "code",
   "execution_count": 25,
   "metadata": {
    "ExecuteTime": {
     "end_time": "2020-11-27T16:21:15.465136Z",
     "start_time": "2020-11-27T16:21:12.943895Z"
    },
    "scrolled": true
   },
   "outputs": [
    {
     "name": "stdout",
     "output_type": "stream",
     "text": [
      "> Found models for this experimental setting in ../data/trained_models/trained_models_random_binary_80_5-15-1.pkl\n"
     ]
    }
   ],
   "source": [
    "trainedModels = loadTrainedModels(mode, task, ratio, start, end, step)"
   ]
  },
  {
   "cell_type": "code",
   "execution_count": 47,
   "metadata": {
    "ExecuteTime": {
     "end_time": "2020-11-27T16:41:17.108827Z",
     "start_time": "2020-11-27T16:41:17.049917Z"
    },
    "scrolled": true
   },
   "outputs": [
    {
     "name": "stdout",
     "output_type": "stream",
     "text": [
      "> Binarizing student grades: [(0, 80), (1, 134)]\n",
      "> Spitting the whole student population randomly: Train 171 [(0, 64), (1, 107)] - Test 43 [(0, 16), (1, 27)]\n"
     ]
    }
   ],
   "source": [
    "x_train_idx, x_test_idx, y_train, y_test = getTrainTestData(examData, mode, task, ratio / 100.0)"
   ]
  },
  {
   "cell_type": "code",
   "execution_count": 119,
   "metadata": {
    "ExecuteTime": {
     "end_time": "2020-11-27T17:27:48.325664Z",
     "start_time": "2020-11-27T17:27:48.283048Z"
    }
   },
   "outputs": [],
   "source": [
    "feature_labels = ['lalle_conati', 'boroujeni_et_al']\n",
    "boroujeni_labels = [\"peakDayHour\", \"peakWeekDay\", \"weeklySimilarity1\", \"weeklySimilarity2\", \n",
    "                    \"weeklySimilarity3\", \"freqDayHour\", \"freqWeekDay\", \"freqWeekHour\", \"nbQuiz\", \n",
    "                    \"propQuiz\", \"intervalVideoQuiz\", \"semesterRepartitionQuiz\"]\n",
    "lalle_conati_labels = [\"totalViews\", \"avgWeeklyPropWatched\", \"stdWeeklyPropWatched\", \"avgWeeklyPropReplayed\", \n",
    "                       \"stdWeeklyPropReplayed\", \"avgWeeklyPropInterrupted\", \"stdWeeklyPropInterrupted\", \n",
    "                       \"totalActions\", \"freqAllActions\", \"freqPlay\", \"freqPause\", \"freqSeekBackward\",\n",
    "                       \"freqSeekForward\", \"freqSpeedChange\", \"freqStop\", \"avgPauseDuration\", \"stdPauseDuration\",\n",
    "                       \"avgSeekLength\", \"stdSeekLength\", \"avgTimeSpeedingUp\", \"stdTimeSpeedingUp\"]\n",
    "feature_names = lalle_conati_labels + boroujeni_labels"
   ]
  },
  {
   "cell_type": "code",
   "execution_count": 236,
   "metadata": {
    "ExecuteTime": {
     "end_time": "2020-11-27T18:17:43.290654Z",
     "start_time": "2020-11-27T18:17:43.243199Z"
    }
   },
   "outputs": [],
   "source": [
    "def concat_features(featureSets, train_idx, test_idx):\n",
    "    #Concatenate feature vectors from different papers into a single one\n",
    "    features = {}\n",
    "    for wid in weeks:\n",
    "        features[wid] = {}\n",
    "        features[wid]['Train'] = np.hstack([featureSets[ffunc][wid][train_idx]  for ffunc in feature_labels])\n",
    "        features[wid]['Test'] = np.hstack([featureSets[ffunc][wid][test_idx]  for ffunc in feature_labels])\n",
    "    print(\"Number of features:\",features[wid]['Train'].shape[1])\n",
    "    return features"
   ]
  },
  {
   "cell_type": "code",
   "execution_count": 237,
   "metadata": {
    "ExecuteTime": {
     "end_time": "2020-11-27T18:17:44.582695Z",
     "start_time": "2020-11-27T18:17:44.537080Z"
    },
    "scrolled": false
   },
   "outputs": [
    {
     "name": "stdout",
     "output_type": "stream",
     "text": [
      "Number of features: 33\n"
     ]
    }
   ],
   "source": [
    "features = concat_features(featureSets, x_train_idx, x_test_idx)"
   ]
  },
  {
   "cell_type": "code",
   "execution_count": 219,
   "metadata": {
    "ExecuteTime": {
     "end_time": "2020-11-27T18:06:14.912163Z",
     "start_time": "2020-11-27T18:06:14.867263Z"
    }
   },
   "outputs": [],
   "source": [
    "def fit_lasso(features, y_train, y_test):\n",
    "    metrics = []\n",
    "    coefs = []\n",
    "    for wid in weeks:\n",
    "        x_train = features[wid]['Train']\n",
    "        x_test = features[wid]['Test']\n",
    "        for reg in np.linspace(0.001, 0.2, 20):\n",
    "            lasso = LogisticRegression(penalty='l1',solver='liblinear', C=reg)\n",
    "            lasso.fit(x_train, y_train)\n",
    "            curr = [wid, reg]\n",
    "            for emid, mfunc in evaluation_metrics.items():\n",
    "                val = mfunc(lasso.predict(x_test), y_test)\n",
    "                curr.append(val)\n",
    "            curr.append(np.sum(abs(lasso.coef_) > 0))\n",
    "            metrics.append(curr)\n",
    "            coefs.append(list(lasso.coef_[0]))\n",
    "            cols = ['week', 'regularization'] + list(evaluation_metrics.keys()) + ['nb_coef_used']\n",
    "    return pd.DataFrame(metrics, columns=cols), coefs"
   ]
  },
  {
   "cell_type": "markdown",
   "metadata": {},
   "source": [
    "### Metrics of each week for different regularizations"
   ]
  },
  {
   "cell_type": "code",
   "execution_count": 220,
   "metadata": {
    "ExecuteTime": {
     "end_time": "2020-11-27T18:06:17.444236Z",
     "start_time": "2020-11-27T18:06:16.127873Z"
    }
   },
   "outputs": [
    {
     "data": {
      "text/html": [
       "<div>\n",
       "<style scoped>\n",
       "    .dataframe tbody tr th:only-of-type {\n",
       "        vertical-align: middle;\n",
       "    }\n",
       "\n",
       "    .dataframe tbody tr th {\n",
       "        vertical-align: top;\n",
       "    }\n",
       "\n",
       "    .dataframe thead th {\n",
       "        text-align: right;\n",
       "    }\n",
       "</style>\n",
       "<table border=\"1\" class=\"dataframe\">\n",
       "  <thead>\n",
       "    <tr style=\"text-align: right;\">\n",
       "      <th></th>\n",
       "      <th>week</th>\n",
       "      <th>regularization</th>\n",
       "      <th>acc</th>\n",
       "      <th>f1</th>\n",
       "      <th>p</th>\n",
       "      <th>r</th>\n",
       "      <th>tp</th>\n",
       "      <th>tn</th>\n",
       "      <th>fp</th>\n",
       "      <th>fn</th>\n",
       "      <th>nb_coef_used</th>\n",
       "    </tr>\n",
       "  </thead>\n",
       "  <tbody>\n",
       "    <tr>\n",
       "      <th>40</th>\n",
       "      <td>8</td>\n",
       "      <td>0.001000</td>\n",
       "      <td>0.627907</td>\n",
       "      <td>0.771429</td>\n",
       "      <td>1.000000</td>\n",
       "      <td>0.627907</td>\n",
       "      <td>27</td>\n",
       "      <td>0</td>\n",
       "      <td>0</td>\n",
       "      <td>16</td>\n",
       "      <td>2</td>\n",
       "    </tr>\n",
       "    <tr>\n",
       "      <th>41</th>\n",
       "      <td>8</td>\n",
       "      <td>0.011474</td>\n",
       "      <td>0.651163</td>\n",
       "      <td>0.782609</td>\n",
       "      <td>1.000000</td>\n",
       "      <td>0.642857</td>\n",
       "      <td>27</td>\n",
       "      <td>1</td>\n",
       "      <td>0</td>\n",
       "      <td>15</td>\n",
       "      <td>6</td>\n",
       "    </tr>\n",
       "    <tr>\n",
       "      <th>42</th>\n",
       "      <td>8</td>\n",
       "      <td>0.021947</td>\n",
       "      <td>0.651163</td>\n",
       "      <td>0.782609</td>\n",
       "      <td>1.000000</td>\n",
       "      <td>0.642857</td>\n",
       "      <td>27</td>\n",
       "      <td>1</td>\n",
       "      <td>0</td>\n",
       "      <td>15</td>\n",
       "      <td>11</td>\n",
       "    </tr>\n",
       "    <tr>\n",
       "      <th>43</th>\n",
       "      <td>8</td>\n",
       "      <td>0.032421</td>\n",
       "      <td>0.674419</td>\n",
       "      <td>0.787879</td>\n",
       "      <td>0.962963</td>\n",
       "      <td>0.666667</td>\n",
       "      <td>26</td>\n",
       "      <td>3</td>\n",
       "      <td>1</td>\n",
       "      <td>13</td>\n",
       "      <td>11</td>\n",
       "    </tr>\n",
       "    <tr>\n",
       "      <th>44</th>\n",
       "      <td>8</td>\n",
       "      <td>0.042895</td>\n",
       "      <td>0.674419</td>\n",
       "      <td>0.787879</td>\n",
       "      <td>0.962963</td>\n",
       "      <td>0.666667</td>\n",
       "      <td>26</td>\n",
       "      <td>3</td>\n",
       "      <td>1</td>\n",
       "      <td>13</td>\n",
       "      <td>11</td>\n",
       "    </tr>\n",
       "    <tr>\n",
       "      <th>45</th>\n",
       "      <td>8</td>\n",
       "      <td>0.053368</td>\n",
       "      <td>0.697674</td>\n",
       "      <td>0.800000</td>\n",
       "      <td>0.962963</td>\n",
       "      <td>0.684211</td>\n",
       "      <td>26</td>\n",
       "      <td>4</td>\n",
       "      <td>1</td>\n",
       "      <td>12</td>\n",
       "      <td>11</td>\n",
       "    </tr>\n",
       "    <tr>\n",
       "      <th>46</th>\n",
       "      <td>8</td>\n",
       "      <td>0.063842</td>\n",
       "      <td>0.651163</td>\n",
       "      <td>0.761905</td>\n",
       "      <td>0.888889</td>\n",
       "      <td>0.666667</td>\n",
       "      <td>24</td>\n",
       "      <td>4</td>\n",
       "      <td>3</td>\n",
       "      <td>12</td>\n",
       "      <td>12</td>\n",
       "    </tr>\n",
       "    <tr>\n",
       "      <th>47</th>\n",
       "      <td>8</td>\n",
       "      <td>0.074316</td>\n",
       "      <td>0.651163</td>\n",
       "      <td>0.761905</td>\n",
       "      <td>0.888889</td>\n",
       "      <td>0.666667</td>\n",
       "      <td>24</td>\n",
       "      <td>4</td>\n",
       "      <td>3</td>\n",
       "      <td>12</td>\n",
       "      <td>11</td>\n",
       "    </tr>\n",
       "    <tr>\n",
       "      <th>48</th>\n",
       "      <td>8</td>\n",
       "      <td>0.084789</td>\n",
       "      <td>0.651163</td>\n",
       "      <td>0.761905</td>\n",
       "      <td>0.888889</td>\n",
       "      <td>0.666667</td>\n",
       "      <td>24</td>\n",
       "      <td>4</td>\n",
       "      <td>3</td>\n",
       "      <td>12</td>\n",
       "      <td>11</td>\n",
       "    </tr>\n",
       "    <tr>\n",
       "      <th>49</th>\n",
       "      <td>8</td>\n",
       "      <td>0.095263</td>\n",
       "      <td>0.651163</td>\n",
       "      <td>0.761905</td>\n",
       "      <td>0.888889</td>\n",
       "      <td>0.666667</td>\n",
       "      <td>24</td>\n",
       "      <td>4</td>\n",
       "      <td>3</td>\n",
       "      <td>12</td>\n",
       "      <td>11</td>\n",
       "    </tr>\n",
       "    <tr>\n",
       "      <th>50</th>\n",
       "      <td>8</td>\n",
       "      <td>0.105737</td>\n",
       "      <td>0.651163</td>\n",
       "      <td>0.761905</td>\n",
       "      <td>0.888889</td>\n",
       "      <td>0.666667</td>\n",
       "      <td>24</td>\n",
       "      <td>4</td>\n",
       "      <td>3</td>\n",
       "      <td>12</td>\n",
       "      <td>12</td>\n",
       "    </tr>\n",
       "    <tr>\n",
       "      <th>51</th>\n",
       "      <td>8</td>\n",
       "      <td>0.116211</td>\n",
       "      <td>0.651163</td>\n",
       "      <td>0.761905</td>\n",
       "      <td>0.888889</td>\n",
       "      <td>0.666667</td>\n",
       "      <td>24</td>\n",
       "      <td>4</td>\n",
       "      <td>3</td>\n",
       "      <td>12</td>\n",
       "      <td>12</td>\n",
       "    </tr>\n",
       "    <tr>\n",
       "      <th>52</th>\n",
       "      <td>8</td>\n",
       "      <td>0.126684</td>\n",
       "      <td>0.651163</td>\n",
       "      <td>0.761905</td>\n",
       "      <td>0.888889</td>\n",
       "      <td>0.666667</td>\n",
       "      <td>24</td>\n",
       "      <td>4</td>\n",
       "      <td>3</td>\n",
       "      <td>12</td>\n",
       "      <td>12</td>\n",
       "    </tr>\n",
       "    <tr>\n",
       "      <th>53</th>\n",
       "      <td>8</td>\n",
       "      <td>0.137158</td>\n",
       "      <td>0.651163</td>\n",
       "      <td>0.761905</td>\n",
       "      <td>0.888889</td>\n",
       "      <td>0.666667</td>\n",
       "      <td>24</td>\n",
       "      <td>4</td>\n",
       "      <td>3</td>\n",
       "      <td>12</td>\n",
       "      <td>12</td>\n",
       "    </tr>\n",
       "    <tr>\n",
       "      <th>54</th>\n",
       "      <td>8</td>\n",
       "      <td>0.147632</td>\n",
       "      <td>0.627907</td>\n",
       "      <td>0.741935</td>\n",
       "      <td>0.851852</td>\n",
       "      <td>0.657143</td>\n",
       "      <td>23</td>\n",
       "      <td>4</td>\n",
       "      <td>4</td>\n",
       "      <td>12</td>\n",
       "      <td>12</td>\n",
       "    </tr>\n",
       "    <tr>\n",
       "      <th>55</th>\n",
       "      <td>8</td>\n",
       "      <td>0.158105</td>\n",
       "      <td>0.604651</td>\n",
       "      <td>0.721311</td>\n",
       "      <td>0.814815</td>\n",
       "      <td>0.647059</td>\n",
       "      <td>22</td>\n",
       "      <td>4</td>\n",
       "      <td>5</td>\n",
       "      <td>12</td>\n",
       "      <td>12</td>\n",
       "    </tr>\n",
       "    <tr>\n",
       "      <th>56</th>\n",
       "      <td>8</td>\n",
       "      <td>0.168579</td>\n",
       "      <td>0.604651</td>\n",
       "      <td>0.721311</td>\n",
       "      <td>0.814815</td>\n",
       "      <td>0.647059</td>\n",
       "      <td>22</td>\n",
       "      <td>4</td>\n",
       "      <td>5</td>\n",
       "      <td>12</td>\n",
       "      <td>13</td>\n",
       "    </tr>\n",
       "    <tr>\n",
       "      <th>57</th>\n",
       "      <td>8</td>\n",
       "      <td>0.179053</td>\n",
       "      <td>0.604651</td>\n",
       "      <td>0.721311</td>\n",
       "      <td>0.814815</td>\n",
       "      <td>0.647059</td>\n",
       "      <td>22</td>\n",
       "      <td>4</td>\n",
       "      <td>5</td>\n",
       "      <td>12</td>\n",
       "      <td>15</td>\n",
       "    </tr>\n",
       "    <tr>\n",
       "      <th>58</th>\n",
       "      <td>8</td>\n",
       "      <td>0.189526</td>\n",
       "      <td>0.604651</td>\n",
       "      <td>0.721311</td>\n",
       "      <td>0.814815</td>\n",
       "      <td>0.647059</td>\n",
       "      <td>22</td>\n",
       "      <td>4</td>\n",
       "      <td>5</td>\n",
       "      <td>12</td>\n",
       "      <td>15</td>\n",
       "    </tr>\n",
       "    <tr>\n",
       "      <th>59</th>\n",
       "      <td>8</td>\n",
       "      <td>0.200000</td>\n",
       "      <td>0.604651</td>\n",
       "      <td>0.721311</td>\n",
       "      <td>0.814815</td>\n",
       "      <td>0.647059</td>\n",
       "      <td>22</td>\n",
       "      <td>4</td>\n",
       "      <td>5</td>\n",
       "      <td>12</td>\n",
       "      <td>14</td>\n",
       "    </tr>\n",
       "  </tbody>\n",
       "</table>\n",
       "</div>"
      ],
      "text/plain": [
       "    week  regularization       acc        f1         p         r  tp  tn  fp  \\\n",
       "40     8        0.001000  0.627907  0.771429  1.000000  0.627907  27   0   0   \n",
       "41     8        0.011474  0.651163  0.782609  1.000000  0.642857  27   1   0   \n",
       "42     8        0.021947  0.651163  0.782609  1.000000  0.642857  27   1   0   \n",
       "43     8        0.032421  0.674419  0.787879  0.962963  0.666667  26   3   1   \n",
       "44     8        0.042895  0.674419  0.787879  0.962963  0.666667  26   3   1   \n",
       "45     8        0.053368  0.697674  0.800000  0.962963  0.684211  26   4   1   \n",
       "46     8        0.063842  0.651163  0.761905  0.888889  0.666667  24   4   3   \n",
       "47     8        0.074316  0.651163  0.761905  0.888889  0.666667  24   4   3   \n",
       "48     8        0.084789  0.651163  0.761905  0.888889  0.666667  24   4   3   \n",
       "49     8        0.095263  0.651163  0.761905  0.888889  0.666667  24   4   3   \n",
       "50     8        0.105737  0.651163  0.761905  0.888889  0.666667  24   4   3   \n",
       "51     8        0.116211  0.651163  0.761905  0.888889  0.666667  24   4   3   \n",
       "52     8        0.126684  0.651163  0.761905  0.888889  0.666667  24   4   3   \n",
       "53     8        0.137158  0.651163  0.761905  0.888889  0.666667  24   4   3   \n",
       "54     8        0.147632  0.627907  0.741935  0.851852  0.657143  23   4   4   \n",
       "55     8        0.158105  0.604651  0.721311  0.814815  0.647059  22   4   5   \n",
       "56     8        0.168579  0.604651  0.721311  0.814815  0.647059  22   4   5   \n",
       "57     8        0.179053  0.604651  0.721311  0.814815  0.647059  22   4   5   \n",
       "58     8        0.189526  0.604651  0.721311  0.814815  0.647059  22   4   5   \n",
       "59     8        0.200000  0.604651  0.721311  0.814815  0.647059  22   4   5   \n",
       "\n",
       "    fn  nb_coef_used  \n",
       "40  16             2  \n",
       "41  15             6  \n",
       "42  15            11  \n",
       "43  13            11  \n",
       "44  13            11  \n",
       "45  12            11  \n",
       "46  12            12  \n",
       "47  12            11  \n",
       "48  12            11  \n",
       "49  12            11  \n",
       "50  12            12  \n",
       "51  12            12  \n",
       "52  12            12  \n",
       "53  12            12  \n",
       "54  12            12  \n",
       "55  12            12  \n",
       "56  12            13  \n",
       "57  12            15  \n",
       "58  12            15  \n",
       "59  12            14  "
      ]
     },
     "execution_count": 220,
     "metadata": {},
     "output_type": "execute_result"
    }
   ],
   "source": [
    "metrics, coefs = fit_lasso(features, y_train, y_test)\n",
    "metrics[metrics.week == 8]"
   ]
  },
  {
   "cell_type": "markdown",
   "metadata": {},
   "source": [
    "### Best metrics per week"
   ]
  },
  {
   "cell_type": "code",
   "execution_count": 221,
   "metadata": {
    "ExecuteTime": {
     "end_time": "2020-11-27T18:06:17.502807Z",
     "start_time": "2020-11-27T18:06:17.448044Z"
    },
    "scrolled": false
   },
   "outputs": [
    {
     "data": {
      "text/html": [
       "<div>\n",
       "<style scoped>\n",
       "    .dataframe tbody tr th:only-of-type {\n",
       "        vertical-align: middle;\n",
       "    }\n",
       "\n",
       "    .dataframe tbody tr th {\n",
       "        vertical-align: top;\n",
       "    }\n",
       "\n",
       "    .dataframe thead th {\n",
       "        text-align: right;\n",
       "    }\n",
       "</style>\n",
       "<table border=\"1\" class=\"dataframe\">\n",
       "  <thead>\n",
       "    <tr style=\"text-align: right;\">\n",
       "      <th></th>\n",
       "      <th>week</th>\n",
       "      <th>regularization</th>\n",
       "      <th>acc</th>\n",
       "      <th>f1</th>\n",
       "      <th>p</th>\n",
       "      <th>r</th>\n",
       "      <th>tp</th>\n",
       "      <th>tn</th>\n",
       "      <th>fp</th>\n",
       "      <th>fn</th>\n",
       "      <th>nb_coef_used</th>\n",
       "    </tr>\n",
       "  </thead>\n",
       "  <tbody>\n",
       "    <tr>\n",
       "      <th>1</th>\n",
       "      <td>6</td>\n",
       "      <td>0.011474</td>\n",
       "      <td>0.674419</td>\n",
       "      <td>0.794118</td>\n",
       "      <td>1.000000</td>\n",
       "      <td>0.658537</td>\n",
       "      <td>27</td>\n",
       "      <td>2</td>\n",
       "      <td>0</td>\n",
       "      <td>14</td>\n",
       "      <td>7</td>\n",
       "    </tr>\n",
       "    <tr>\n",
       "      <th>22</th>\n",
       "      <td>7</td>\n",
       "      <td>0.021947</td>\n",
       "      <td>0.651163</td>\n",
       "      <td>0.782609</td>\n",
       "      <td>1.000000</td>\n",
       "      <td>0.642857</td>\n",
       "      <td>27</td>\n",
       "      <td>1</td>\n",
       "      <td>0</td>\n",
       "      <td>15</td>\n",
       "      <td>8</td>\n",
       "    </tr>\n",
       "    <tr>\n",
       "      <th>45</th>\n",
       "      <td>8</td>\n",
       "      <td>0.053368</td>\n",
       "      <td>0.697674</td>\n",
       "      <td>0.800000</td>\n",
       "      <td>0.962963</td>\n",
       "      <td>0.684211</td>\n",
       "      <td>26</td>\n",
       "      <td>4</td>\n",
       "      <td>1</td>\n",
       "      <td>12</td>\n",
       "      <td>11</td>\n",
       "    </tr>\n",
       "    <tr>\n",
       "      <th>62</th>\n",
       "      <td>9</td>\n",
       "      <td>0.021947</td>\n",
       "      <td>0.627907</td>\n",
       "      <td>0.771429</td>\n",
       "      <td>1.000000</td>\n",
       "      <td>0.627907</td>\n",
       "      <td>27</td>\n",
       "      <td>0</td>\n",
       "      <td>0</td>\n",
       "      <td>16</td>\n",
       "      <td>9</td>\n",
       "    </tr>\n",
       "    <tr>\n",
       "      <th>91</th>\n",
       "      <td>10</td>\n",
       "      <td>0.116211</td>\n",
       "      <td>0.651163</td>\n",
       "      <td>0.776119</td>\n",
       "      <td>0.962963</td>\n",
       "      <td>0.650000</td>\n",
       "      <td>26</td>\n",
       "      <td>2</td>\n",
       "      <td>1</td>\n",
       "      <td>14</td>\n",
       "      <td>14</td>\n",
       "    </tr>\n",
       "    <tr>\n",
       "      <th>106</th>\n",
       "      <td>11</td>\n",
       "      <td>0.063842</td>\n",
       "      <td>0.674419</td>\n",
       "      <td>0.794118</td>\n",
       "      <td>1.000000</td>\n",
       "      <td>0.658537</td>\n",
       "      <td>27</td>\n",
       "      <td>2</td>\n",
       "      <td>0</td>\n",
       "      <td>14</td>\n",
       "      <td>11</td>\n",
       "    </tr>\n",
       "    <tr>\n",
       "      <th>124</th>\n",
       "      <td>12</td>\n",
       "      <td>0.042895</td>\n",
       "      <td>0.674419</td>\n",
       "      <td>0.787879</td>\n",
       "      <td>0.962963</td>\n",
       "      <td>0.666667</td>\n",
       "      <td>26</td>\n",
       "      <td>3</td>\n",
       "      <td>1</td>\n",
       "      <td>13</td>\n",
       "      <td>10</td>\n",
       "    </tr>\n",
       "    <tr>\n",
       "      <th>142</th>\n",
       "      <td>13</td>\n",
       "      <td>0.021947</td>\n",
       "      <td>0.627907</td>\n",
       "      <td>0.771429</td>\n",
       "      <td>1.000000</td>\n",
       "      <td>0.627907</td>\n",
       "      <td>27</td>\n",
       "      <td>0</td>\n",
       "      <td>0</td>\n",
       "      <td>16</td>\n",
       "      <td>9</td>\n",
       "    </tr>\n",
       "    <tr>\n",
       "      <th>160</th>\n",
       "      <td>14</td>\n",
       "      <td>0.001000</td>\n",
       "      <td>0.627907</td>\n",
       "      <td>0.771429</td>\n",
       "      <td>1.000000</td>\n",
       "      <td>0.627907</td>\n",
       "      <td>27</td>\n",
       "      <td>0</td>\n",
       "      <td>0</td>\n",
       "      <td>16</td>\n",
       "      <td>2</td>\n",
       "    </tr>\n",
       "  </tbody>\n",
       "</table>\n",
       "</div>"
      ],
      "text/plain": [
       "     week  regularization       acc        f1         p         r  tp  tn  fp  \\\n",
       "1       6        0.011474  0.674419  0.794118  1.000000  0.658537  27   2   0   \n",
       "22      7        0.021947  0.651163  0.782609  1.000000  0.642857  27   1   0   \n",
       "45      8        0.053368  0.697674  0.800000  0.962963  0.684211  26   4   1   \n",
       "62      9        0.021947  0.627907  0.771429  1.000000  0.627907  27   0   0   \n",
       "91     10        0.116211  0.651163  0.776119  0.962963  0.650000  26   2   1   \n",
       "106    11        0.063842  0.674419  0.794118  1.000000  0.658537  27   2   0   \n",
       "124    12        0.042895  0.674419  0.787879  0.962963  0.666667  26   3   1   \n",
       "142    13        0.021947  0.627907  0.771429  1.000000  0.627907  27   0   0   \n",
       "160    14        0.001000  0.627907  0.771429  1.000000  0.627907  27   0   0   \n",
       "\n",
       "     fn  nb_coef_used  \n",
       "1    14             7  \n",
       "22   15             8  \n",
       "45   12            11  \n",
       "62   16             9  \n",
       "91   14            14  \n",
       "106  14            11  \n",
       "124  13            10  \n",
       "142  16             9  \n",
       "160  16             2  "
      ]
     },
     "execution_count": 221,
     "metadata": {},
     "output_type": "execute_result"
    }
   ],
   "source": [
    "best_metrics_per_week = metrics.sort_values(by='f1', ascending=False).drop_duplicates(subset=['week'])\\\n",
    "                                .sort_values(by='week')\n",
    "best_metrics_per_week"
   ]
  },
  {
   "cell_type": "code",
   "execution_count": 222,
   "metadata": {
    "ExecuteTime": {
     "end_time": "2020-11-27T18:06:18.390977Z",
     "start_time": "2020-11-27T18:06:18.342801Z"
    }
   },
   "outputs": [],
   "source": [
    "def best_coefs(best_metrics, coefs):\n",
    "    named_coefs = pd.DataFrame(coefs, columns=lalle_conati_labels + boroujeni_labels)\n",
    "    best_coefs = best_metrics.merge(named_coefs, left_index=True, right_index=True)[feature_names]\n",
    "    best_coefs.index = weeks\n",
    "    best_coefs = best_coefs.transpose()\n",
    "    best_coefs['abs_sum'] = abs(best_coefs).sum(axis=1)\n",
    "    best_coefs = best_coefs[best_coefs.abs_sum > 0] #Only keep features with non null coefs\n",
    "    return best_coefs.sort_values(by=\"abs_sum\", ascending=False)"
   ]
  },
  {
   "cell_type": "markdown",
   "metadata": {},
   "source": [
    "### Features ordered by their contribution \n",
    "\n",
    "We can notice that even though the first is PDH, its main weight contribution comes from a single week, the 8-th week."
   ]
  },
  {
   "cell_type": "code",
   "execution_count": 223,
   "metadata": {
    "ExecuteTime": {
     "end_time": "2020-11-27T18:06:19.262810Z",
     "start_time": "2020-11-27T18:06:19.198653Z"
    },
    "scrolled": false
   },
   "outputs": [
    {
     "data": {
      "text/html": [
       "<div>\n",
       "<style scoped>\n",
       "    .dataframe tbody tr th:only-of-type {\n",
       "        vertical-align: middle;\n",
       "    }\n",
       "\n",
       "    .dataframe tbody tr th {\n",
       "        vertical-align: top;\n",
       "    }\n",
       "\n",
       "    .dataframe thead th {\n",
       "        text-align: right;\n",
       "    }\n",
       "</style>\n",
       "<table border=\"1\" class=\"dataframe\">\n",
       "  <thead>\n",
       "    <tr style=\"text-align: right;\">\n",
       "      <th></th>\n",
       "      <th>6</th>\n",
       "      <th>7</th>\n",
       "      <th>8</th>\n",
       "      <th>9</th>\n",
       "      <th>10</th>\n",
       "      <th>11</th>\n",
       "      <th>12</th>\n",
       "      <th>13</th>\n",
       "      <th>14</th>\n",
       "      <th>abs_sum</th>\n",
       "    </tr>\n",
       "  </thead>\n",
       "  <tbody>\n",
       "    <tr>\n",
       "      <th>peakDayHour</th>\n",
       "      <td>0.000000</td>\n",
       "      <td>0.000000</td>\n",
       "      <td>0.142401</td>\n",
       "      <td>0.000000</td>\n",
       "      <td>0.067109</td>\n",
       "      <td>0.034226</td>\n",
       "      <td>0.000000</td>\n",
       "      <td>0.000000</td>\n",
       "      <td>0.000000</td>\n",
       "      <td>0.243737</td>\n",
       "    </tr>\n",
       "    <tr>\n",
       "      <th>totalViews</th>\n",
       "      <td>0.013448</td>\n",
       "      <td>0.045551</td>\n",
       "      <td>0.024939</td>\n",
       "      <td>0.022044</td>\n",
       "      <td>0.021684</td>\n",
       "      <td>0.020188</td>\n",
       "      <td>0.023339</td>\n",
       "      <td>0.014935</td>\n",
       "      <td>0.000000</td>\n",
       "      <td>0.186128</td>\n",
       "    </tr>\n",
       "    <tr>\n",
       "      <th>avgPauseDuration</th>\n",
       "      <td>-0.004170</td>\n",
       "      <td>-0.005361</td>\n",
       "      <td>-0.024538</td>\n",
       "      <td>-0.006219</td>\n",
       "      <td>-0.011886</td>\n",
       "      <td>-0.008696</td>\n",
       "      <td>-0.009895</td>\n",
       "      <td>0.000000</td>\n",
       "      <td>0.000000</td>\n",
       "      <td>0.070765</td>\n",
       "    </tr>\n",
       "    <tr>\n",
       "      <th>freqDayHour</th>\n",
       "      <td>0.000000</td>\n",
       "      <td>0.000000</td>\n",
       "      <td>0.000000</td>\n",
       "      <td>0.007427</td>\n",
       "      <td>0.005753</td>\n",
       "      <td>0.012294</td>\n",
       "      <td>0.021752</td>\n",
       "      <td>0.013850</td>\n",
       "      <td>0.000000</td>\n",
       "      <td>0.061076</td>\n",
       "    </tr>\n",
       "    <tr>\n",
       "      <th>freqWeekDay</th>\n",
       "      <td>0.000000</td>\n",
       "      <td>0.000000</td>\n",
       "      <td>0.000000</td>\n",
       "      <td>0.000000</td>\n",
       "      <td>-0.053774</td>\n",
       "      <td>0.000000</td>\n",
       "      <td>0.000000</td>\n",
       "      <td>0.000000</td>\n",
       "      <td>0.000000</td>\n",
       "      <td>0.053774</td>\n",
       "    </tr>\n",
       "    <tr>\n",
       "      <th>nbQuiz</th>\n",
       "      <td>0.000000</td>\n",
       "      <td>-0.006222</td>\n",
       "      <td>-0.005036</td>\n",
       "      <td>-0.004788</td>\n",
       "      <td>-0.003129</td>\n",
       "      <td>-0.005209</td>\n",
       "      <td>-0.005815</td>\n",
       "      <td>-0.006798</td>\n",
       "      <td>0.000000</td>\n",
       "      <td>0.036997</td>\n",
       "    </tr>\n",
       "    <tr>\n",
       "      <th>semesterRepartitionQuiz</th>\n",
       "      <td>0.004241</td>\n",
       "      <td>0.000000</td>\n",
       "      <td>-0.006631</td>\n",
       "      <td>0.000000</td>\n",
       "      <td>-0.000646</td>\n",
       "      <td>-0.008706</td>\n",
       "      <td>-0.006956</td>\n",
       "      <td>-0.008168</td>\n",
       "      <td>0.000000</td>\n",
       "      <td>0.035348</td>\n",
       "    </tr>\n",
       "    <tr>\n",
       "      <th>stdSeekLength</th>\n",
       "      <td>-0.001628</td>\n",
       "      <td>0.000000</td>\n",
       "      <td>0.003238</td>\n",
       "      <td>0.001801</td>\n",
       "      <td>-0.000180</td>\n",
       "      <td>0.002477</td>\n",
       "      <td>0.002616</td>\n",
       "      <td>0.004015</td>\n",
       "      <td>0.000000</td>\n",
       "      <td>0.015955</td>\n",
       "    </tr>\n",
       "    <tr>\n",
       "      <th>avgSeekLength</th>\n",
       "      <td>0.000000</td>\n",
       "      <td>-0.000133</td>\n",
       "      <td>-0.004239</td>\n",
       "      <td>-0.002714</td>\n",
       "      <td>0.000000</td>\n",
       "      <td>-0.002757</td>\n",
       "      <td>-0.003118</td>\n",
       "      <td>-0.001543</td>\n",
       "      <td>0.000000</td>\n",
       "      <td>0.014505</td>\n",
       "    </tr>\n",
       "    <tr>\n",
       "      <th>stdPauseDuration</th>\n",
       "      <td>0.004070</td>\n",
       "      <td>0.000704</td>\n",
       "      <td>-0.003065</td>\n",
       "      <td>0.000000</td>\n",
       "      <td>-0.003437</td>\n",
       "      <td>0.000000</td>\n",
       "      <td>-0.002906</td>\n",
       "      <td>0.000000</td>\n",
       "      <td>0.000000</td>\n",
       "      <td>0.014182</td>\n",
       "    </tr>\n",
       "    <tr>\n",
       "      <th>intervalVideoQuiz</th>\n",
       "      <td>0.000000</td>\n",
       "      <td>0.000000</td>\n",
       "      <td>0.000000</td>\n",
       "      <td>0.000000</td>\n",
       "      <td>0.012635</td>\n",
       "      <td>0.000000</td>\n",
       "      <td>0.000000</td>\n",
       "      <td>0.000000</td>\n",
       "      <td>0.000000</td>\n",
       "      <td>0.012635</td>\n",
       "    </tr>\n",
       "    <tr>\n",
       "      <th>stdTimeSpeedingUp</th>\n",
       "      <td>0.000000</td>\n",
       "      <td>-0.001359</td>\n",
       "      <td>0.000063</td>\n",
       "      <td>-0.000874</td>\n",
       "      <td>0.000203</td>\n",
       "      <td>0.000045</td>\n",
       "      <td>0.000041</td>\n",
       "      <td>0.000012</td>\n",
       "      <td>0.000501</td>\n",
       "      <td>0.003099</td>\n",
       "    </tr>\n",
       "    <tr>\n",
       "      <th>avgTimeSpeedingUp</th>\n",
       "      <td>0.000173</td>\n",
       "      <td>0.001149</td>\n",
       "      <td>0.000307</td>\n",
       "      <td>0.000706</td>\n",
       "      <td>-0.000026</td>\n",
       "      <td>-0.000159</td>\n",
       "      <td>0.000000</td>\n",
       "      <td>0.000025</td>\n",
       "      <td>0.000000</td>\n",
       "      <td>0.002546</td>\n",
       "    </tr>\n",
       "    <tr>\n",
       "      <th>totalActions</th>\n",
       "      <td>0.000074</td>\n",
       "      <td>-0.000292</td>\n",
       "      <td>-0.000290</td>\n",
       "      <td>-0.000119</td>\n",
       "      <td>-0.000218</td>\n",
       "      <td>-0.000192</td>\n",
       "      <td>-0.000194</td>\n",
       "      <td>-0.000130</td>\n",
       "      <td>0.000046</td>\n",
       "      <td>0.001555</td>\n",
       "    </tr>\n",
       "    <tr>\n",
       "      <th>freqWeekHour</th>\n",
       "      <td>0.000000</td>\n",
       "      <td>0.000000</td>\n",
       "      <td>0.000000</td>\n",
       "      <td>0.000000</td>\n",
       "      <td>0.001255</td>\n",
       "      <td>0.000000</td>\n",
       "      <td>0.000000</td>\n",
       "      <td>0.000000</td>\n",
       "      <td>0.000000</td>\n",
       "      <td>0.001255</td>\n",
       "    </tr>\n",
       "  </tbody>\n",
       "</table>\n",
       "</div>"
      ],
      "text/plain": [
       "                                6         7         8         9        10  \\\n",
       "peakDayHour              0.000000  0.000000  0.142401  0.000000  0.067109   \n",
       "totalViews               0.013448  0.045551  0.024939  0.022044  0.021684   \n",
       "avgPauseDuration        -0.004170 -0.005361 -0.024538 -0.006219 -0.011886   \n",
       "freqDayHour              0.000000  0.000000  0.000000  0.007427  0.005753   \n",
       "freqWeekDay              0.000000  0.000000  0.000000  0.000000 -0.053774   \n",
       "nbQuiz                   0.000000 -0.006222 -0.005036 -0.004788 -0.003129   \n",
       "semesterRepartitionQuiz  0.004241  0.000000 -0.006631  0.000000 -0.000646   \n",
       "stdSeekLength           -0.001628  0.000000  0.003238  0.001801 -0.000180   \n",
       "avgSeekLength            0.000000 -0.000133 -0.004239 -0.002714  0.000000   \n",
       "stdPauseDuration         0.004070  0.000704 -0.003065  0.000000 -0.003437   \n",
       "intervalVideoQuiz        0.000000  0.000000  0.000000  0.000000  0.012635   \n",
       "stdTimeSpeedingUp        0.000000 -0.001359  0.000063 -0.000874  0.000203   \n",
       "avgTimeSpeedingUp        0.000173  0.001149  0.000307  0.000706 -0.000026   \n",
       "totalActions             0.000074 -0.000292 -0.000290 -0.000119 -0.000218   \n",
       "freqWeekHour             0.000000  0.000000  0.000000  0.000000  0.001255   \n",
       "\n",
       "                               11        12        13        14   abs_sum  \n",
       "peakDayHour              0.034226  0.000000  0.000000  0.000000  0.243737  \n",
       "totalViews               0.020188  0.023339  0.014935  0.000000  0.186128  \n",
       "avgPauseDuration        -0.008696 -0.009895  0.000000  0.000000  0.070765  \n",
       "freqDayHour              0.012294  0.021752  0.013850  0.000000  0.061076  \n",
       "freqWeekDay              0.000000  0.000000  0.000000  0.000000  0.053774  \n",
       "nbQuiz                  -0.005209 -0.005815 -0.006798  0.000000  0.036997  \n",
       "semesterRepartitionQuiz -0.008706 -0.006956 -0.008168  0.000000  0.035348  \n",
       "stdSeekLength            0.002477  0.002616  0.004015  0.000000  0.015955  \n",
       "avgSeekLength           -0.002757 -0.003118 -0.001543  0.000000  0.014505  \n",
       "stdPauseDuration         0.000000 -0.002906  0.000000  0.000000  0.014182  \n",
       "intervalVideoQuiz        0.000000  0.000000  0.000000  0.000000  0.012635  \n",
       "stdTimeSpeedingUp        0.000045  0.000041  0.000012  0.000501  0.003099  \n",
       "avgTimeSpeedingUp       -0.000159  0.000000  0.000025  0.000000  0.002546  \n",
       "totalActions            -0.000192 -0.000194 -0.000130  0.000046  0.001555  \n",
       "freqWeekHour             0.000000  0.000000  0.000000  0.000000  0.001255  "
      ]
     },
     "execution_count": 223,
     "metadata": {},
     "output_type": "execute_result"
    }
   ],
   "source": [
    "best_coefs_per_week = best_coefs(best_metrics_per_week, coefs)\n",
    "best_coefs_per_week"
   ]
  },
  {
   "cell_type": "markdown",
   "metadata": {},
   "source": [
    "## Visualizations"
   ]
  },
  {
   "cell_type": "code",
   "execution_count": 245,
   "metadata": {
    "ExecuteTime": {
     "end_time": "2020-11-27T18:20:57.634809Z",
     "start_time": "2020-11-27T18:20:57.343948Z"
    }
   },
   "outputs": [
    {
     "data": {
      "image/png": "[encoded data removed]",
      "text/plain": [
       "<Figure size 1080x360 with 1 Axes>"
      ]
     },
     "metadata": {
      "needs_background": "light"
     },
     "output_type": "display_data"
    }
   ],
   "source": [
    "plt.figure(figsize=(15,5))\n",
    "plt.plot(best_metrics_per_week.week,best_metrics_per_week.acc, label=\"Accuracy\");\n",
    "plt.plot(best_metrics_per_week.week, best_metrics_per_week.f1, label=\"F1\");\n",
    "plt.plot(best_metrics_per_week.week, best_metrics_per_week.regularization, label=\"Regularization\");\n",
    "plt.legend()\n",
    "plt.title(\"Best metric values throughout the weeks\", fontSize=16)\n",
    "plt.xlabel(\"Weeks\")\n",
    "plt.ylabel(\"Scores\");\n"
   ]
  },
  {
   "cell_type": "code",
   "execution_count": 246,
   "metadata": {
    "ExecuteTime": {
     "end_time": "2020-11-27T18:22:58.595300Z",
     "start_time": "2020-11-27T18:22:58.306070Z"
    },
    "scrolled": false
   },
   "outputs": [
    {
     "data": {
      "image/png": "[encoded data removed]",
      "text/plain": [
       "<Figure size 1080x360 with 1 Axes>"
      ]
     },
     "metadata": {
      "needs_background": "light"
     },
     "output_type": "display_data"
    }
   ],
   "source": [
    "plt.figure(figsize=(15,5))\n",
    "sns.lineplot(x=best_metrics_per_week.week, y=best_metrics_per_week.nb_coef_used);\n",
    "plt.title(\"\"\"Number of nonzero coefficient throughout the weeks,\n",
    "          over a total of 33 features\"\"\", fontSize=16)\n",
    "plt.xlabel(\"Weeks\")\n",
    "plt.ylabel(\"Number of nonzero coefficient\");"
   ]
  },
  {
   "cell_type": "code",
   "execution_count": 257,
   "metadata": {
    "ExecuteTime": {
     "end_time": "2020-11-27T18:35:48.744430Z",
     "start_time": "2020-11-27T18:35:48.430261Z"
    },
    "scrolled": false
   },
   "outputs": [
    {
     "data": {
      "image/png": "[encoded data removed]",
      "text/plain": [
       "<Figure size 1080x360 with 1 Axes>"
      ]
     },
     "metadata": {
      "needs_background": "light"
     },
     "output_type": "display_data"
    }
   ],
   "source": [
    "fig = plt.figure(figsize=(15,5))\n",
    "plt.bar(best_coefs_per_week.index, best_coefs_per_week.abs_sum)\n",
    "plt.xticks(fontSize=12)\n",
    "fig.autofmt_xdate(rotation=45)\n",
    "plt.title(\"\"\"Features with greatest contributions\"\"\", fontSize=16)\n",
    "plt.xlabel(\"Features\")\n",
    "plt.ylabel(\"Features contribution\");"
   ]
  },
  {
   "cell_type": "code",
   "execution_count": null,
   "metadata": {},
   "outputs": [],
   "source": []
  }
 ],
 "metadata": {
  "kernelspec": {
   "display_name": "Python 3",
   "language": "python",
   "name": "python3"
  },
  "language_info": {
   "codemirror_mode": {
    "name": "ipython",
    "version": 3
   },
   "file_extension": ".py",
   "mimetype": "text/x-python",
   "name": "python",
   "nbconvert_exporter": "python",
   "pygments_lexer": "ipython3",
   "version": "3.7.1"
  },
  "toc": {
   "base_numbering": 1,
   "nav_menu": {},
   "number_sections": true,
   "sideBar": true,
   "skip_h1_title": false,
   "title_cell": "Table of Contents",
   "title_sidebar": "Contents",
   "toc_cell": false,
   "toc_position": {
    "height": "calc(100% - 180px)",
    "left": "10px",
    "top": "150px",
    "width": "341px"
   },
   "toc_section_display": true,
   "toc_window_display": true
  }
 },
 "nbformat": 4,
 "nbformat_minor": 1
}
