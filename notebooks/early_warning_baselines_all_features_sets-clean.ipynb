{
 "cells": [
  {
   "cell_type": "markdown",
   "metadata": {},
   "source": [
    "# Exploratory study on existing early warning systems"
   ]
  },
  {
   "cell_type": "markdown",
   "metadata": {},
   "source": [
    "## * Setup of the working environment *"
   ]
  },
  {
   "cell_type": "markdown",
   "metadata": {},
   "source": [
    "### Import traditional Python packages"
   ]
  },
  {
   "cell_type": "code",
   "execution_count": 1,
   "metadata": {
    "ExecuteTime": {
     "end_time": "2020-12-10T18:53:53.978786Z",
     "start_time": "2020-12-10T18:53:39.493755Z"
    }
   },
   "outputs": [
    {
     "name": "stderr",
     "output_type": "stream",
     "text": [
      "/Applications/anaconda3/lib/python3.7/site-packages/statsmodels/tools/_testing.py:19: FutureWarning: pandas.util.testing is deprecated. Use the functions in the public API at pandas.testing instead.\n",
      "  import pandas.util.testing as tm\n"
     ]
    }
   ],
   "source": [
    "from sklearn.metrics import accuracy_score, precision_score, recall_score, f1_score\n",
    "from datetime import datetime as dt, timedelta, date\n",
    "\n",
    "import matplotlib.pyplot as plt\n",
    "import seaborn as sns\n",
    "\n",
    "import pandas as pd\n",
    "import numpy as np\n",
    "import time\n",
    "import math\n",
    "import json\n",
    "import sys\n",
    "import os"
   ]
  },
  {
   "cell_type": "code",
   "execution_count": 2,
   "metadata": {
    "ExecuteTime": {
     "end_time": "2020-12-10T18:53:55.209346Z",
     "start_time": "2020-12-10T18:53:53.982279Z"
    }
   },
   "outputs": [],
   "source": [
    "from sklearn.ensemble import RandomForestClassifier, AdaBoostClassifier\n",
    "from sklearn.linear_model import LogisticRegression, Lasso\n",
    "from sklearn.neighbors import KNeighborsClassifier\n",
    "from sklearn.neural_network import MLPClassifier\n",
    "from sklearn.tree import DecisionTreeClassifier\n",
    "from sklearn.naive_bayes import GaussianNB\n",
    "from sklearn.svm import SVC"
   ]
  },
  {
   "cell_type": "code",
   "execution_count": 3,
   "metadata": {
    "ExecuteTime": {
     "end_time": "2020-12-10T18:53:55.217981Z",
     "start_time": "2020-12-10T18:53:55.213233Z"
    }
   },
   "outputs": [],
   "source": [
    "import warnings\n",
    "warnings.filterwarnings('ignore')"
   ]
  },
  {
   "cell_type": "markdown",
   "metadata": {},
   "source": [
    "### Import custom Python modules"
   ]
  },
  {
   "cell_type": "code",
   "execution_count": 4,
   "metadata": {
    "ExecuteTime": {
     "end_time": "2020-12-10T18:53:55.229818Z",
     "start_time": "2020-12-10T18:53:55.224530Z"
    }
   },
   "outputs": [],
   "source": [
    "sys.path.append(os.path.abspath(os.path.join('..')))"
   ]
  },
  {
   "cell_type": "code",
   "execution_count": 5,
   "metadata": {
    "ExecuteTime": {
     "end_time": "2020-12-10T18:53:55.298954Z",
     "start_time": "2020-12-10T18:53:55.239189Z"
    }
   },
   "outputs": [],
   "source": [
    "%load_ext autoreload\n",
    "%autoreload 2"
   ]
  },
  {
   "cell_type": "code",
   "execution_count": 6,
   "metadata": {
    "ExecuteTime": {
     "end_time": "2020-12-10T18:53:55.724782Z",
     "start_time": "2020-12-10T18:53:55.301232Z"
    }
   },
   "outputs": [],
   "source": [
    "from helpers.db_connector import MySQLConnector\n",
    "from helpers.db_query import *\n",
    "\n",
    "from helpers.data_process import *\n",
    "from helpers.feature_extraction import *\n",
    "\n",
    "from extractors.akpinar_et_al import AkpinarEtAl\n",
    "from extractors.boroujeni_et_al import BoroujeniEtAl\n",
    "from extractors.chen_cui import ChenCui\n",
    "from extractors.he_et_al import HeEtAl\n",
    "from extractors.lalle_conati import LalleConati\n",
    "from extractors.lemay_doleck import LemayDoleck\n",
    "from extractors.mbouzao_et_al import MbouzaoEtAl\n",
    "from extractors.mubarak_et_al import MubarakEtAl\n",
    "from extractors.wan_et_al import WanEtAl\n",
    "\n",
    "from helpers.ml_utils import *\n",
    "\n",
    "from helpers.time import *"
   ]
  },
  {
   "cell_type": "markdown",
   "metadata": {},
   "source": [
    "## * Load the clickstream data *\n",
    "\n",
    "Since Fall 2017, the stream of the EPFL's Linear Algebra course has been taught in a flipped format. The implementation of the flipped classroom was carried out in an incremental manner, as described below:\n",
    "\n",
    "- **Year 2017-2018**: traditional manner (weeks 1-13) - flipped manner (week 14).\n",
    "- **Year 2018-2019**: traditional manner (weeks 1-4, 10-14) - flipped manner (weeks 5-9).\n",
    "- **Year 2019-2020**: traditional manner (weeks 1-4) - flipped manner (weeks 5-14)."
   ]
  },
  {
   "cell_type": "code",
   "execution_count": 7,
   "metadata": {
    "ExecuteTime": {
     "end_time": "2020-12-10T18:53:55.772235Z",
     "start_time": "2020-12-10T18:53:55.727098Z"
    }
   },
   "outputs": [],
   "source": [
    "rounds = ['Y2-2018-19', 'Y3-2019-20']"
   ]
  },
  {
   "cell_type": "markdown",
   "metadata": {},
   "source": [
    "### Identifying Students\n",
    "\n",
    "\n",
    "The flipped course was offered only to volunteering students. The volunteers were collectively assigned into either the experimental and the control group. A stratified random sampling based on gender and the prior background (secondary educational level) of students were used."
   ]
  },
  {
   "cell_type": "code",
   "execution_count": 8,
   "metadata": {
    "ExecuteTime": {
     "end_time": "2020-12-10T18:55:26.099378Z",
     "start_time": "2020-12-10T18:53:55.781170Z"
    }
   },
   "outputs": [
    {
     "name": "stdout",
     "output_type": "stream",
     "text": [
      "CPU times: user 54.3 s, sys: 2.36 s, total: 56.6 s\n",
      "Wall time: 1min 30s\n"
     ]
    }
   ],
   "source": [
    "%time userData = getUserInfo(prior_knowledge=True)"
   ]
  },
  {
   "cell_type": "markdown",
   "metadata": {},
   "source": [
    "Given that the Y1-2017-2018 round included only one week in a flipped classroom setting, we will remove the students of that round.  "
   ]
  },
  {
   "cell_type": "code",
   "execution_count": 9,
   "metadata": {
    "ExecuteTime": {
     "end_time": "2020-12-10T18:55:26.278569Z",
     "start_time": "2020-12-10T18:55:26.103773Z"
    }
   },
   "outputs": [],
   "source": [
    "userData = userData[userData['Round'].isin(rounds)]"
   ]
  },
  {
   "cell_type": "markdown",
   "metadata": {},
   "source": [
    "Some of the statistics on the user data are provided below. "
   ]
  },
  {
   "cell_type": "code",
   "execution_count": 10,
   "metadata": {
    "ExecuteTime": {
     "end_time": "2020-12-10T18:55:26.360619Z",
     "start_time": "2020-12-10T18:55:26.282680Z"
    },
    "scrolled": true
   },
   "outputs": [
    {
     "data": {
      "text/plain": [
       "('Number of students:', 214)"
      ]
     },
     "execution_count": 10,
     "metadata": {},
     "output_type": "execute_result"
    }
   ],
   "source": [
    "\"Number of students:\", len(userData)"
   ]
  },
  {
   "cell_type": "markdown",
   "metadata": {},
   "source": [
    "### Getting Students' Records"
   ]
  },
  {
   "cell_type": "markdown",
   "metadata": {},
   "source": [
    "#### Exam Records"
   ]
  },
  {
   "cell_type": "code",
   "execution_count": 11,
   "metadata": {
    "ExecuteTime": {
     "end_time": "2020-12-10T18:56:43.523887Z",
     "start_time": "2020-12-10T18:55:26.371602Z"
    }
   },
   "outputs": [
    {
     "name": "stdout",
     "output_type": "stream",
     "text": [
      "CPU times: user 52.3 s, sys: 1.93 s, total: 54.3 s\n",
      "Wall time: 1min 17s\n"
     ]
    }
   ],
   "source": [
    "%time examData = getExamInfo()"
   ]
  },
  {
   "cell_type": "code",
   "execution_count": 12,
   "metadata": {
    "ExecuteTime": {
     "end_time": "2020-12-10T18:56:43.586970Z",
     "start_time": "2020-12-10T18:56:43.527123Z"
    }
   },
   "outputs": [],
   "source": [
    "examData = examData[examData['Round'].isin(rounds)]"
   ]
  },
  {
   "cell_type": "code",
   "execution_count": 13,
   "metadata": {
    "ExecuteTime": {
     "end_time": "2020-12-10T18:56:43.637181Z",
     "start_time": "2020-12-10T18:56:43.589224Z"
    }
   },
   "outputs": [],
   "source": [
    "examData = examData[examData['AccountUserID'].isin(userData['AccountUserID'])]"
   ]
  },
  {
   "cell_type": "code",
   "execution_count": 14,
   "metadata": {
    "ExecuteTime": {
     "end_time": "2020-12-10T18:56:43.687080Z",
     "start_time": "2020-12-10T18:56:43.639599Z"
    }
   },
   "outputs": [
    {
     "data": {
      "text/plain": [
       "('Number of graded students:', 214)"
      ]
     },
     "execution_count": 14,
     "metadata": {},
     "output_type": "execute_result"
    }
   ],
   "source": [
    "\"Number of graded students:\", len(examData)"
   ]
  },
  {
   "cell_type": "markdown",
   "metadata": {},
   "source": [
    "## * Cross validation of early warning systems *"
   ]
  },
  {
   "cell_type": "markdown",
   "metadata": {},
   "source": [
    "#### Parameters"
   ]
  },
  {
   "cell_type": "code",
   "execution_count": 15,
   "metadata": {
    "ExecuteTime": {
     "end_time": "2020-12-10T18:56:43.740201Z",
     "start_time": "2020-12-10T18:56:43.690263Z"
    }
   },
   "outputs": [],
   "source": [
    "mode = 'random'\n",
    "task = 'binary'\n",
    "ratio = 80\n",
    "start, end, step = 5, 15, 1\n",
    "iterations = 3"
   ]
  },
  {
   "cell_type": "code",
   "execution_count": 16,
   "metadata": {
    "ExecuteTime": {
     "end_time": "2020-12-10T18:56:43.784445Z",
     "start_time": "2020-12-10T18:56:43.742674Z"
    }
   },
   "outputs": [],
   "source": [
    "weeks = np.arange(start + 1, end, step)"
   ]
  },
  {
   "cell_type": "markdown",
   "metadata": {},
   "source": [
    "#### Feature Sets"
   ]
  },
  {
   "cell_type": "code",
   "execution_count": 17,
   "metadata": {
    "ExecuteTime": {
     "end_time": "2020-12-10T18:56:43.948734Z",
     "start_time": "2020-12-10T18:56:43.787032Z"
    }
   },
   "outputs": [
    {
     "name": "stdout",
     "output_type": "stream",
     "text": [
      "> Found features for this experimental setting in ../data/feature_sets/feature_sets_random_binary_80_5-15-1.pkl\n"
     ]
    }
   ],
   "source": [
    "featureSets = loadFeatureSets(mode, task, ratio, start, end, step)"
   ]
  },
  {
   "cell_type": "code",
   "execution_count": 18,
   "metadata": {
    "ExecuteTime": {
     "end_time": "2020-12-10T18:56:43.993961Z",
     "start_time": "2020-12-10T18:56:43.951582Z"
    }
   },
   "outputs": [],
   "source": [
    "def concat_features(featureSets):\n",
    "    \"\"\"Concatenate feature vectors from different papers into a single one\"\"\"\n",
    "    features = {}\n",
    "    dump_name = 'all'\n",
    "    features[dump_name] = {}\n",
    "    for wid in weeks:\n",
    "        concat = []\n",
    "        for flabel in featureSets.keys():\n",
    "            concat.append(featureSets[flabel][wid])\n",
    "        features[dump_name][wid] = np.hstack(concat)\n",
    "    print(\"Number of features:\",features[dump_name][wid].shape[1])\n",
    "    return features"
   ]
  },
  {
   "cell_type": "code",
   "execution_count": 19,
   "metadata": {
    "ExecuteTime": {
     "end_time": "2020-12-10T18:56:44.075890Z",
     "start_time": "2020-12-10T18:56:43.996536Z"
    }
   },
   "outputs": [
    {
     "name": "stdout",
     "output_type": "stream",
     "text": [
      "Number of features: 4157\n"
     ]
    }
   ],
   "source": [
    "all_featureSets = concat_features(featureSets)"
   ]
  },
  {
   "cell_type": "code",
   "execution_count": 20,
   "metadata": {
    "ExecuteTime": {
     "end_time": "2020-12-10T18:56:44.119792Z",
     "start_time": "2020-12-10T18:56:44.078398Z"
    }
   },
   "outputs": [
    {
     "name": "stdout",
     "output_type": "stream",
     "text": [
      "akpinar_et_al\n",
      "(214, 4100)\n",
      "boroujeni_et_al\n",
      "(214, 12)\n",
      "chen_cui\n",
      "(214, 11)\n",
      "he_et_al\n",
      "(214, 3)\n",
      "lalle_conati\n",
      "(214, 21)\n",
      "lemay_doleck\n",
      "(214, 10)\n"
     ]
    }
   ],
   "source": [
    "for flabel in featureSets.keys():\n",
    "    print(flabel)\n",
    "    print(featureSets[flabel][14].shape)"
   ]
  },
  {
   "cell_type": "markdown",
   "metadata": {},
   "source": [
    "#### Models and Metrics"
   ]
  },
  {
   "cell_type": "code",
   "execution_count": 247,
   "metadata": {
    "ExecuteTime": {
     "end_time": "2020-12-11T19:05:05.005886Z",
     "start_time": "2020-12-11T19:05:04.962429Z"
    }
   },
   "outputs": [],
   "source": [
    "LOAD_MODEL = False\n",
    "SAVE_MODEL = True\n",
    "MODEL_NAME = 'split_cv_lasso'\n",
    "\n",
    "evaluationMetrics = {'Acc': accuracy_score, 'F1': f1_score, 'P': precision_score, \n",
    "                             'R': recall_score, 'TP': tp, 'FN': fn, 'TN': tn, 'FP': fp }"
   ]
  },
  {
   "cell_type": "code",
   "execution_count": 256,
   "metadata": {
    "ExecuteTime": {
     "end_time": "2020-12-11T19:34:37.652337Z",
     "start_time": "2020-12-11T19:34:37.610484Z"
    },
    "scrolled": false
   },
   "outputs": [],
   "source": [
    "if LOAD_MODEL:\n",
    "    tunedModels, scaler, SEED = loadTrainedModels(MODEL_NAME, mode, task, ratio, start, end, step)\n",
    "    x_train, x_test, y_train, y_test = getTrainTestData(examData, mode, task, ratio / 100.0, random_state=SEED)\n",
    "    evaluationScores = computeMetrics(scaler, all_featureSets, tunedModels, x_test, y_test, evaluationMetrics, {})"
   ]
  },
  {
   "cell_type": "code",
   "execution_count": 249,
   "metadata": {
    "ExecuteTime": {
     "end_time": "2020-12-11T19:06:14.089904Z",
     "start_time": "2020-12-11T19:05:12.397735Z"
    },
    "scrolled": false
   },
   "outputs": [
    {
     "name": "stdout",
     "output_type": "stream",
     "text": [
      "> Binarizing student grades: [(0, 134), (1, 80)]\n",
      "> Splitting the whole student population randomly: Train 171 [(0, 107), (1, 64)] - Test 43 [(0, 27), (1, 16)]\n",
      "\n",
      "Iteration 0\n",
      "\n",
      "Week: 006 - Algorithm: lr  Training: 0.99 CV best: 0.44 \n",
      "Week: 006 - Algorithm: las Training: 0.99 CV best: 0.52 297\n",
      "Week: 007 - Algorithm: lr  Training: 0.99 CV best: 0.45 \n",
      "Week: 007 - Algorithm: las Training: 0.99 CV best: 0.51 361\n",
      "Week: 008 - Algorithm: lr  Training: 1.00 CV best: 0.52 \n",
      "Week: 008 - Algorithm: las Training: 1.00 CV best: 0.55 364\n",
      "Week: 009 - Algorithm: lr  Training: 1.00 CV best: 0.48 \n",
      "Week: 009 - Algorithm: las Training: 1.00 CV best: 0.55 365\n",
      "Week: 010 - Algorithm: lr  Training: 1.00 CV best: 0.51 \n",
      "Week: 010 - Algorithm: las Training: 1.00 CV best: 0.54 184\n",
      "Week: 011 - Algorithm: lr  Training: 1.00 CV best: 0.53 \n",
      "Week: 011 - Algorithm: las Training: 1.00 CV best: 0.50 323\n",
      "Week: 012 - Algorithm: lr  Training: 1.00 CV best: 0.53 \n",
      "Week: 012 - Algorithm: las Training: 1.00 CV best: 0.57 370\n",
      "Week: 013 - Algorithm: lr  Training: 1.00 CV best: 0.52 \n",
      "Week: 013 - Algorithm: las Training: 0.96 CV best: 0.54 82\n",
      "Week: 014 - Algorithm: lr  Training: 1.00 CV best: 0.52 \n",
      "Week: 014 - Algorithm: las Training: 1.00 CV best: 0.56 104\n",
      "\n",
      "\n",
      "Iteration 1\n",
      "\n",
      "Week: 006 - Algorithm: lr  Training: 0.99 CV best: 0.53 \n",
      "Week: 006 - Algorithm: las Training: 0.99 CV best: 0.49 334\n",
      "Week: 007 - Algorithm: lr  Training: 0.99 CV best: 0.46 \n",
      "Week: 007 - Algorithm: las Training: 0.99 CV best: 0.49 361\n",
      "Week: 008 - Algorithm: lr  Training: 1.00 CV best: 0.52 \n",
      "Week: 008 - Algorithm: las Training: 0.78 CV best: 0.56 26\n",
      "Week: 009 - Algorithm: lr  Training: 1.00 CV best: 0.50 \n",
      "Week: 009 - Algorithm: las Training: 1.00 CV best: 0.51 372\n",
      "Week: 010 - Algorithm: lr  Training: 1.00 CV best: 0.55 \n",
      "Week: 010 - Algorithm: las Training: 1.00 CV best: 0.56 267\n",
      "Week: 011 - Algorithm: lr  Training: 1.00 CV best: 0.43 \n",
      "Week: 011 - Algorithm: las Training: 0.97 CV best: 0.51 80\n",
      "Week: 012 - Algorithm: lr  Training: 1.00 CV best: 0.55 \n",
      "Week: 012 - Algorithm: las Training: 1.00 CV best: 0.57 382\n",
      "Week: 013 - Algorithm: lr  Training: 1.00 CV best: 0.55 \n",
      "Week: 013 - Algorithm: las Training: 1.00 CV best: 0.52 348\n",
      "Week: 014 - Algorithm: lr  Training: 1.00 CV best: 0.49 \n",
      "Week: 014 - Algorithm: las Training: 0.97 CV best: 0.54 83\n",
      "\n",
      "\n",
      "Iteration 2\n",
      "\n",
      "Week: 006 - Algorithm: lr  Training: 0.99 CV best: 0.44 \n",
      "Week: 006 - Algorithm: las Training: 0.99 CV best: 0.51 183\n",
      "Week: 007 - Algorithm: lr  Training: 0.99 CV best: 0.44 \n",
      "Week: 007 - Algorithm: las Training: 0.99 CV best: 0.49 200\n",
      "Week: 008 - Algorithm: lr  Training: 1.00 CV best: 0.51 \n",
      "Week: 008 - Algorithm: las Training: 1.00 CV best: 0.52 366\n",
      "Week: 009 - Algorithm: lr  Training: 1.00 CV best: 0.50 \n",
      "Week: 009 - Algorithm: las Training: 1.00 CV best: 0.54 114\n",
      "Week: 010 - Algorithm: lr  Training: 1.00 CV best: 0.58 \n",
      "Week: 010 - Algorithm: las Training: 1.00 CV best: 0.56 358\n",
      "Week: 011 - Algorithm: lr  Training: 1.00 CV best: 0.47 \n",
      "Week: 011 - Algorithm: las Training: 0.81 CV best: 0.51 27\n",
      "Week: 012 - Algorithm: lr  Training: 1.00 CV best: 0.58 \n",
      "Week: 012 - Algorithm: las Training: 1.00 CV best: 0.57 379\n",
      "Week: 013 - Algorithm: lr  Training: 1.00 CV best: 0.49 \n",
      "Week: 013 - Algorithm: las Training: 1.00 CV best: 0.52 347\n",
      "Week: 014 - Algorithm: lr  Training: 1.00 CV best: 0.55 \n",
      "Week: 014 - Algorithm: las Training: 1.00 CV best: 0.59 107\n",
      "\n",
      "> Evaluated last iteration models\n"
     ]
    }
   ],
   "source": [
    "if not LOAD_MODEL:\n",
    "    \n",
    "    evaluationScores = {}\n",
    "    trainedModels={}\n",
    "#     SEED = np.random.randint(0, 1e5)\n",
    "#     np.random.seed(SEED)\n",
    "    ITERATIONS = 3\n",
    "    \n",
    "    x_train, x_test, y_train, y_test = getTrainTestData(examData, mode, task, ratio / 100.0, random_state=SEED)\n",
    "    \n",
    "    for i in range(ITERATIONS):\n",
    "        print(f\"\\nIteration {i}\\n\")\n",
    "\n",
    "        classifiersTypes = {\n",
    "                            'lr': LogisticRegression(), \n",
    "                            'las': LogisticRegression(),\n",
    "                           }\n",
    "        classifiersParams = {\n",
    "                            'lr': {'penalty': ['none'], 'C': [1e6], 'solver': ['lbfgs']}, \n",
    "                            'las': {'penalty': ['l1'], 'C': np.logspace(-5, 6, 20), 'solver': ['lbfgs', 'liblinear']}, \n",
    "                            }\n",
    "        \n",
    "        #Shuffle training data in order to create different folds during the cross validation\n",
    "        train_data = list(zip(x_train, y_train))\n",
    "        np.random.shuffle(train_data)\n",
    "        x_train, y_train = map(list, zip(*train_data))\n",
    "\n",
    "        trainedModels, scaler = trainModels(all_featureSets, x_train, y_train, weeks, classifiersTypes, \n",
    "                                            classifiersParams, trainedModels, isScaled=True)\n",
    "\n",
    "    tunedModels = fitWithBestHyperparamters(trainedModels, scaler, all_featureSets, x_train, y_train)\n",
    "    \n",
    "    evaluationScores = computeMetrics(scaler, all_featureSets, tunedModels, \n",
    "                                      x_test, y_test, evaluationMetrics, evaluationScores)"
   ]
  },
  {
   "cell_type": "code",
   "execution_count": 219,
   "metadata": {
    "ExecuteTime": {
     "end_time": "2020-12-11T18:57:06.651635Z",
     "start_time": "2020-12-11T18:57:06.604420Z"
    },
    "scrolled": false
   },
   "outputs": [],
   "source": [
    "# showBestParams(trainedModels)"
   ]
  },
  {
   "cell_type": "code",
   "execution_count": 245,
   "metadata": {
    "ExecuteTime": {
     "end_time": "2020-12-11T19:04:27.602733Z",
     "start_time": "2020-12-11T19:04:27.543765Z"
    },
    "collapsed": true
   },
   "outputs": [
    {
     "ename": "UnboundLocalError",
     "evalue": "local variable 'model' referenced before assignment",
     "output_type": "error",
     "traceback": [
      "\u001b[0;31m---------------------------------------------------------------------------\u001b[0m",
      "\u001b[0;31mUnboundLocalError\u001b[0m                         Traceback (most recent call last)",
      "\u001b[0;32m<ipython-input-245-5455f289bc60>\u001b[0m in \u001b[0;36m<module>\u001b[0;34m\u001b[0m\n\u001b[0;32m----> 1\u001b[0;31m \u001b[0mtunedModels\u001b[0m \u001b[0;34m=\u001b[0m \u001b[0mfitWithBestHyperparamters\u001b[0m\u001b[0;34m(\u001b[0m\u001b[0mtrainedModels\u001b[0m\u001b[0;34m,\u001b[0m \u001b[0mscaler\u001b[0m\u001b[0;34m,\u001b[0m \u001b[0mall_featureSets\u001b[0m\u001b[0;34m,\u001b[0m \u001b[0mx_train\u001b[0m\u001b[0;34m,\u001b[0m \u001b[0my_train\u001b[0m\u001b[0;34m)\u001b[0m\u001b[0;34m\u001b[0m\u001b[0;34m\u001b[0m\u001b[0m\n\u001b[0m\u001b[1;32m      2\u001b[0m \u001b[0;34m\u001b[0m\u001b[0m\n\u001b[1;32m      3\u001b[0m \u001b[0mevaluationScores\u001b[0m \u001b[0;34m=\u001b[0m \u001b[0;34m{\u001b[0m\u001b[0;34m}\u001b[0m\u001b[0;34m\u001b[0m\u001b[0;34m\u001b[0m\u001b[0m\n\u001b[1;32m      4\u001b[0m \u001b[0mevaluationScores\u001b[0m \u001b[0;34m=\u001b[0m \u001b[0mcomputeMetrics\u001b[0m\u001b[0;34m(\u001b[0m\u001b[0mscaler\u001b[0m\u001b[0;34m,\u001b[0m \u001b[0mall_featureSets\u001b[0m\u001b[0;34m,\u001b[0m \u001b[0mtunedModels\u001b[0m\u001b[0;34m,\u001b[0m \u001b[0mx_test\u001b[0m\u001b[0;34m,\u001b[0m \u001b[0my_test\u001b[0m\u001b[0;34m,\u001b[0m \u001b[0mevaluationMetrics\u001b[0m\u001b[0;34m,\u001b[0m \u001b[0mevaluationScores\u001b[0m\u001b[0;34m)\u001b[0m\u001b[0;34m\u001b[0m\u001b[0;34m\u001b[0m\u001b[0m\n",
      "\u001b[0;32m<ipython-input-222-30c1abeb1468>\u001b[0m in \u001b[0;36mfitWithBestHyperparamters\u001b[0;34m(trainedModels, scaler, featureSets, x_train, y_train)\u001b[0m\n\u001b[1;32m     26\u001b[0m \u001b[0;34m\u001b[0m\u001b[0m\n\u001b[1;32m     27\u001b[0m                 \u001b[0;31m#Select the best hyperparameter combination in average\u001b[0m\u001b[0;34m\u001b[0m\u001b[0;34m\u001b[0m\u001b[0;34m\u001b[0m\u001b[0m\n\u001b[0;32m---> 28\u001b[0;31m                 \u001b[0mhyperparameters\u001b[0m \u001b[0;34m=\u001b[0m \u001b[0mmodel\u001b[0m\u001b[0;34m.\u001b[0m\u001b[0mcv_results_\u001b[0m\u001b[0;34m[\u001b[0m\u001b[0;34m'params'\u001b[0m\u001b[0;34m]\u001b[0m\u001b[0;34m[\u001b[0m\u001b[0mnp\u001b[0m\u001b[0;34m.\u001b[0m\u001b[0mnanargmax\u001b[0m\u001b[0;34m(\u001b[0m\u001b[0mscores\u001b[0m\u001b[0;34m)\u001b[0m\u001b[0;34m]\u001b[0m\u001b[0;34m\u001b[0m\u001b[0;34m\u001b[0m\u001b[0m\n\u001b[0m\u001b[1;32m     29\u001b[0m \u001b[0;34m\u001b[0m\u001b[0m\n\u001b[1;32m     30\u001b[0m                 \u001b[0;31m#Initialize and fit a new model with the selected hyperparameters\u001b[0m\u001b[0;34m\u001b[0m\u001b[0;34m\u001b[0m\u001b[0;34m\u001b[0m\u001b[0m\n",
      "\u001b[0;31mUnboundLocalError\u001b[0m: local variable 'model' referenced before assignment"
     ]
    }
   ],
   "source": [
    "# tunedModels = fitWithBestHyperparamters(trainedModels, scaler, all_featureSets, x_train, y_train)\n",
    "\n",
    "# evaluationScores = {}\n",
    "# evaluationScores = computeMetrics(scaler, all_featureSets, tunedModels, x_test, y_test, evaluationMetrics, evaluationScores)"
   ]
  },
  {
   "cell_type": "code",
   "execution_count": 222,
   "metadata": {
    "ExecuteTime": {
     "end_time": "2020-12-11T18:57:28.745822Z",
     "start_time": "2020-12-11T18:57:28.689873Z"
    },
    "scrolled": false
   },
   "outputs": [],
   "source": [
    "def fitWithBestHyperparamters(trainedModels, scaler, featureSets, x_train, y_train):\n",
    "    \"\"\"\n",
    "    Compare scores over different training-test splits in order to \n",
    "    select the right hyperparamter combination for each week.\n",
    "    \"\"\"\n",
    "    bestModels = {}\n",
    "    for flabel in trainedModels.keys():\n",
    "        bestModels[flabel] = {}\n",
    "        \n",
    "        for windex, wid in enumerate(trainedModels[flabel].keys()):\n",
    "            bestModels[flabel][wid] = {}\n",
    "            \n",
    "            for mindex, mid in enumerate(trainedModels[flabel][wid].keys()):\n",
    "                #List of different models trained with different splits\n",
    "                models = trainedModels[flabel][wid][mid] \n",
    "\n",
    "                #Sum the scores for each hyperparameter combinations (mean_test_score is the list \n",
    "                #of average split scores during the trainModel cross validation)\n",
    "                #I.e., the CV performed in trainModel is not used to select the best hyperparamters \n",
    "                #but to compute scores for each hyperparamters combinations that are then averaged\n",
    "                #over different train/test split\n",
    "\n",
    "                scores = models[0].cv_results_['mean_test_score'] \n",
    "                for model in models[1:]: #Each model has been fitted on a different train/test split\n",
    "                    scores += model.cv_results_['mean_test_score'] \n",
    "                \n",
    "                #Select the best hyperparameter combination in average\n",
    "                hyperparameters = model.cv_results_['params'][np.nanargmax(scores)]\n",
    "                \n",
    "                #Initialize and fit a new model with the selected hyperparameters\n",
    "                clf = model.estimator.__class__().set_params(**hyperparameters)\n",
    "                \n",
    "                data_train = scaler[flabel][wid].transform(featureSets[flabel][wid][x_train])\n",
    "                bestModels[flabel][wid][mid] = clf.fit(data_train, y_train)\n",
    "    return bestModels"
   ]
  },
  {
   "cell_type": "code",
   "execution_count": 250,
   "metadata": {
    "ExecuteTime": {
     "end_time": "2020-12-11T19:06:14.140520Z",
     "start_time": "2020-12-11T19:06:14.092454Z"
    }
   },
   "outputs": [
    {
     "name": "stdout",
     "output_type": "stream",
     "text": [
      "> Saved models for this experimental setting in ../data/trained_models/trained_models_split_cv_lasso_random_binary_80_5-15-1.pkl\n"
     ]
    }
   ],
   "source": [
    "if SAVE_MODEL:\n",
    "    saveTrainedModels(tunedModels, MODEL_NAME, mode, task, ratio, start, end, step, scaler, SEED)"
   ]
  },
  {
   "cell_type": "markdown",
   "metadata": {},
   "source": [
    "## Visualize performance"
   ]
  },
  {
   "cell_type": "code",
   "execution_count": 257,
   "metadata": {
    "ExecuteTime": {
     "end_time": "2020-12-11T19:34:42.130676Z",
     "start_time": "2020-12-11T19:34:42.065056Z"
    },
    "scrolled": false
   },
   "outputs": [
    {
     "data": {
      "text/html": [
       "<div>\n",
       "<style scoped>\n",
       "    .dataframe tbody tr th:only-of-type {\n",
       "        vertical-align: middle;\n",
       "    }\n",
       "\n",
       "    .dataframe tbody tr th {\n",
       "        vertical-align: top;\n",
       "    }\n",
       "\n",
       "    .dataframe thead th {\n",
       "        text-align: right;\n",
       "    }\n",
       "</style>\n",
       "<table border=\"1\" class=\"dataframe\">\n",
       "  <thead>\n",
       "    <tr style=\"text-align: right;\">\n",
       "      <th></th>\n",
       "      <th></th>\n",
       "      <th></th>\n",
       "      <th>Acc</th>\n",
       "      <th>F1</th>\n",
       "      <th>P</th>\n",
       "      <th>R</th>\n",
       "      <th>TP</th>\n",
       "      <th>FN</th>\n",
       "      <th>TN</th>\n",
       "      <th>FP</th>\n",
       "    </tr>\n",
       "    <tr>\n",
       "      <th>week</th>\n",
       "      <th>set</th>\n",
       "      <th>clf</th>\n",
       "      <th></th>\n",
       "      <th></th>\n",
       "      <th></th>\n",
       "      <th></th>\n",
       "      <th></th>\n",
       "      <th></th>\n",
       "      <th></th>\n",
       "      <th></th>\n",
       "    </tr>\n",
       "  </thead>\n",
       "  <tbody>\n",
       "    <tr>\n",
       "      <th>6</th>\n",
       "      <th>all</th>\n",
       "      <th>las</th>\n",
       "      <td>0.488372</td>\n",
       "      <td>0.450000</td>\n",
       "      <td>0.375000</td>\n",
       "      <td>0.5625</td>\n",
       "      <td>9.0</td>\n",
       "      <td>7.0</td>\n",
       "      <td>12.0</td>\n",
       "      <td>15.0</td>\n",
       "    </tr>\n",
       "    <tr>\n",
       "      <th>7</th>\n",
       "      <th>all</th>\n",
       "      <th>las</th>\n",
       "      <td>0.558140</td>\n",
       "      <td>0.457143</td>\n",
       "      <td>0.421053</td>\n",
       "      <td>0.5000</td>\n",
       "      <td>8.0</td>\n",
       "      <td>8.0</td>\n",
       "      <td>16.0</td>\n",
       "      <td>11.0</td>\n",
       "    </tr>\n",
       "    <tr>\n",
       "      <th>8</th>\n",
       "      <th>all</th>\n",
       "      <th>las</th>\n",
       "      <td>0.697674</td>\n",
       "      <td>0.648649</td>\n",
       "      <td>0.571429</td>\n",
       "      <td>0.7500</td>\n",
       "      <td>12.0</td>\n",
       "      <td>4.0</td>\n",
       "      <td>18.0</td>\n",
       "      <td>9.0</td>\n",
       "    </tr>\n",
       "    <tr>\n",
       "      <th>9</th>\n",
       "      <th>all</th>\n",
       "      <th>las</th>\n",
       "      <td>0.558140</td>\n",
       "      <td>0.486486</td>\n",
       "      <td>0.428571</td>\n",
       "      <td>0.5625</td>\n",
       "      <td>9.0</td>\n",
       "      <td>7.0</td>\n",
       "      <td>15.0</td>\n",
       "      <td>12.0</td>\n",
       "    </tr>\n",
       "    <tr>\n",
       "      <th>10</th>\n",
       "      <th>all</th>\n",
       "      <th>las</th>\n",
       "      <td>0.674419</td>\n",
       "      <td>0.611111</td>\n",
       "      <td>0.550000</td>\n",
       "      <td>0.6875</td>\n",
       "      <td>11.0</td>\n",
       "      <td>5.0</td>\n",
       "      <td>18.0</td>\n",
       "      <td>9.0</td>\n",
       "    </tr>\n",
       "    <tr>\n",
       "      <th>11</th>\n",
       "      <th>all</th>\n",
       "      <th>las</th>\n",
       "      <td>0.581395</td>\n",
       "      <td>0.437500</td>\n",
       "      <td>0.437500</td>\n",
       "      <td>0.4375</td>\n",
       "      <td>7.0</td>\n",
       "      <td>9.0</td>\n",
       "      <td>18.0</td>\n",
       "      <td>9.0</td>\n",
       "    </tr>\n",
       "    <tr>\n",
       "      <th>12</th>\n",
       "      <th>all</th>\n",
       "      <th>las</th>\n",
       "      <td>0.627907</td>\n",
       "      <td>0.555556</td>\n",
       "      <td>0.500000</td>\n",
       "      <td>0.6250</td>\n",
       "      <td>10.0</td>\n",
       "      <td>6.0</td>\n",
       "      <td>17.0</td>\n",
       "      <td>10.0</td>\n",
       "    </tr>\n",
       "    <tr>\n",
       "      <th>13</th>\n",
       "      <th>all</th>\n",
       "      <th>las</th>\n",
       "      <td>0.558140</td>\n",
       "      <td>0.387097</td>\n",
       "      <td>0.400000</td>\n",
       "      <td>0.3750</td>\n",
       "      <td>6.0</td>\n",
       "      <td>10.0</td>\n",
       "      <td>18.0</td>\n",
       "      <td>9.0</td>\n",
       "    </tr>\n",
       "    <tr>\n",
       "      <th>14</th>\n",
       "      <th>all</th>\n",
       "      <th>las</th>\n",
       "      <td>0.697674</td>\n",
       "      <td>0.518519</td>\n",
       "      <td>0.636364</td>\n",
       "      <td>0.4375</td>\n",
       "      <td>7.0</td>\n",
       "      <td>9.0</td>\n",
       "      <td>23.0</td>\n",
       "      <td>4.0</td>\n",
       "    </tr>\n",
       "  </tbody>\n",
       "</table>\n",
       "</div>"
      ],
      "text/plain": [
       "                   Acc        F1         P       R    TP    FN    TN    FP\n",
       "week set clf                                                              \n",
       "6    all las  0.488372  0.450000  0.375000  0.5625   9.0   7.0  12.0  15.0\n",
       "7    all las  0.558140  0.457143  0.421053  0.5000   8.0   8.0  16.0  11.0\n",
       "8    all las  0.697674  0.648649  0.571429  0.7500  12.0   4.0  18.0   9.0\n",
       "9    all las  0.558140  0.486486  0.428571  0.5625   9.0   7.0  15.0  12.0\n",
       "10   all las  0.674419  0.611111  0.550000  0.6875  11.0   5.0  18.0   9.0\n",
       "11   all las  0.581395  0.437500  0.437500  0.4375   7.0   9.0  18.0   9.0\n",
       "12   all las  0.627907  0.555556  0.500000  0.6250  10.0   6.0  17.0  10.0\n",
       "13   all las  0.558140  0.387097  0.400000  0.3750   6.0  10.0  18.0   9.0\n",
       "14   all las  0.697674  0.518519  0.636364  0.4375   7.0   9.0  23.0   4.0"
      ]
     },
     "execution_count": 257,
     "metadata": {},
     "output_type": "execute_result"
    }
   ],
   "source": [
    "lst_data = []\n",
    "lst_name = []\n",
    "for flabel in evaluationScores.keys():\n",
    "    for wid in evaluationScores[flabel].keys():\n",
    "        for mid in evaluationScores[flabel][wid].keys():\n",
    "            lst_data.append([wid, flabel, mid] + [np.mean(value) if i <=3 or i >=8 else np.around(np.mean(value)) for i, value in enumerate(evaluationScores[flabel][wid][mid].values())])  \n",
    "            lst_name = ['week', 'set','clf'] + [emid for emid, _ in evaluationScores[flabel][wid][mid].items()]\n",
    "#             lst_name.append('Nb coef')\n",
    "#             lst_data[-1].append((trainedModels[flabel][wid][mid][-1].best_estimator_.coef_[0] != 0).sum())\n",
    "            \n",
    "df_results = pd.DataFrame(lst_data, columns = lst_name)\n",
    "df_results[(df_results['clf'] == 'las')].set_index(['week', 'set','clf'])\n",
    "#[(df_results['week'] == 14) & (df_results['clf'] == 'lr')]"
   ]
  },
  {
   "cell_type": "code",
   "execution_count": 258,
   "metadata": {
    "ExecuteTime": {
     "end_time": "2020-12-11T19:34:43.809559Z",
     "start_time": "2020-12-11T19:34:43.750227Z"
    }
   },
   "outputs": [],
   "source": [
    "def plot_metrics_per_feature(df_results, weeks, emid, flabel):\n",
    "\n",
    "    plt.figure(num=None, figsize=(20, 6), dpi=80, facecolor='w', edgecolor='k')\n",
    "    \n",
    "    df_features = df_results\n",
    "\n",
    "    plt.title(flabel)\n",
    "    colors = [plt.cm.rainbow(x) for x in np.linspace(0, 1, 10)]\n",
    "\n",
    "    for j, mid in enumerate(np.unique(df_features['clf'])): \n",
    "        df_classifiers = df_features[df_features['clf'] == mid]\n",
    "        plt.plot(weeks, df_classifiers[emid].values, lw=1, color=colors[j], label=mid)\n",
    "\n",
    "    plt.axhline(y=.62, xmin=6, xmax=14, linestyle='--', color='red')    \n",
    "        \n",
    "#     plt.ylim([0.5, 0.75])\n",
    "    plt.xlim([weeks[0], weeks[-1]])\n",
    "    plt.xlabel('Course week')\n",
    "    plt.ylabel(emid)\n",
    "    plt.grid(axis='y')\n",
    "    plt.legend(loc='upper left')"
   ]
  },
  {
   "cell_type": "code",
   "execution_count": 259,
   "metadata": {
    "ExecuteTime": {
     "end_time": "2020-12-11T19:34:45.042730Z",
     "start_time": "2020-12-11T19:34:44.731117Z"
    },
    "scrolled": false
   },
   "outputs": [
    {
     "data": {
      "image/png": "[encoded data removed]",
      "text/plain": [
       "<Figure size 1600x480 with 1 Axes>"
      ]
     },
     "metadata": {},
     "output_type": "display_data"
    }
   ],
   "source": [
    "plot_metrics_per_feature(df_results, weeks, 'Acc', 'all')"
   ]
  },
  {
   "cell_type": "markdown",
   "metadata": {},
   "source": [
    "## Coefficient analysis"
   ]
  },
  {
   "cell_type": "markdown",
   "metadata": {},
   "source": [
    "### Density by paper"
   ]
  },
  {
   "cell_type": "code",
   "execution_count": 228,
   "metadata": {
    "ExecuteTime": {
     "end_time": "2020-12-11T18:58:42.225890Z",
     "start_time": "2020-12-11T18:58:42.164113Z"
    }
   },
   "outputs": [],
   "source": [
    "nb_students, nb_features = all_featureSets['all'][6].shape\n",
    "\n",
    "coef_abs_sum = np.zeros(nb_features)\n",
    "coef_sum = np.zeros(nb_features)\n",
    "for windex, wid in enumerate(weeks):\n",
    "    weekly_coefs = trainedModels['all'][wid]['las'][0].best_estimator_.coef_[0]\n",
    "    coef_abs_sum += np.abs(weekly_coefs)\n",
    "    coef_sum += weekly_coefs"
   ]
  },
  {
   "cell_type": "code",
   "execution_count": 229,
   "metadata": {
    "ExecuteTime": {
     "end_time": "2020-12-11T18:58:45.208198Z",
     "start_time": "2020-12-11T18:58:42.456301Z"
    },
    "scrolled": true
   },
   "outputs": [
    {
     "ename": "KeyboardInterrupt",
     "evalue": "",
     "output_type": "error",
     "traceback": [
      "\u001b[0;31m---------------------------------------------------------------------------\u001b[0m",
      "\u001b[0;31mKeyboardInterrupt\u001b[0m                         Traceback (most recent call last)",
      "\u001b[0;32m<ipython-input-229-07d97f75b631>\u001b[0m in \u001b[0;36m<module>\u001b[0;34m\u001b[0m\n\u001b[0;32m----> 1\u001b[0;31m \u001b[0makpinar\u001b[0m \u001b[0;34m=\u001b[0m \u001b[0mAkpinarEtAl\u001b[0m\u001b[0;34m(\u001b[0m\u001b[0;34m)\u001b[0m\u001b[0;34m\u001b[0m\u001b[0;34m\u001b[0m\u001b[0m\n\u001b[0m\u001b[1;32m      2\u001b[0m \u001b[0mboroujeni\u001b[0m \u001b[0;34m=\u001b[0m \u001b[0mBoroujeniEtAl\u001b[0m\u001b[0;34m(\u001b[0m\u001b[0;34m)\u001b[0m\u001b[0;34m\u001b[0m\u001b[0;34m\u001b[0m\u001b[0m\n\u001b[1;32m      3\u001b[0m \u001b[0mchen_cui\u001b[0m \u001b[0;34m=\u001b[0m \u001b[0mChenCui\u001b[0m\u001b[0;34m(\u001b[0m\u001b[0;34m)\u001b[0m\u001b[0;34m\u001b[0m\u001b[0;34m\u001b[0m\u001b[0m\n\u001b[1;32m      4\u001b[0m \u001b[0mhe\u001b[0m \u001b[0;34m=\u001b[0m \u001b[0mHeEtAl\u001b[0m\u001b[0;34m(\u001b[0m\u001b[0;34m)\u001b[0m\u001b[0;34m\u001b[0m\u001b[0;34m\u001b[0m\u001b[0m\n\u001b[1;32m      5\u001b[0m \u001b[0mlalle_conati\u001b[0m \u001b[0;34m=\u001b[0m \u001b[0mLalleConati\u001b[0m\u001b[0;34m(\u001b[0m\u001b[0;34m)\u001b[0m\u001b[0;34m\u001b[0m\u001b[0;34m\u001b[0m\u001b[0m\n",
      "\u001b[0;32m~/Documents/Cours/DVET/flipped-classroom/extractors/akpinar_et_al.py\u001b[0m in \u001b[0;36m__init__\u001b[0;34m(self, name, ngram)\u001b[0m\n\u001b[1;32m     21\u001b[0m         \u001b[0msuper\u001b[0m\u001b[0;34m(\u001b[0m\u001b[0;34m)\u001b[0m\u001b[0;34m.\u001b[0m\u001b[0m__init__\u001b[0m\u001b[0;34m(\u001b[0m\u001b[0;34m'akpinar_et_al'\u001b[0m\u001b[0;34m)\u001b[0m\u001b[0;34m\u001b[0m\u001b[0;34m\u001b[0m\u001b[0m\n\u001b[1;32m     22\u001b[0m         \u001b[0mself\u001b[0m\u001b[0;34m.\u001b[0m\u001b[0mngram\u001b[0m \u001b[0;34m=\u001b[0m \u001b[0mngram\u001b[0m\u001b[0;34m\u001b[0m\u001b[0;34m\u001b[0m\u001b[0m\n\u001b[0;32m---> 23\u001b[0;31m         \u001b[0mutypes\u001b[0m \u001b[0;34m=\u001b[0m \u001b[0mlist\u001b[0m\u001b[0;34m(\u001b[0m\u001b[0mnp\u001b[0m\u001b[0;34m.\u001b[0m\u001b[0munique\u001b[0m\u001b[0;34m(\u001b[0m\u001b[0mgetVideoEventsInfo\u001b[0m\u001b[0;34m(\u001b[0m\u001b[0;34m)\u001b[0m\u001b[0;34m[\u001b[0m\u001b[0;34m'EventType'\u001b[0m\u001b[0;34m]\u001b[0m\u001b[0;34m)\u001b[0m\u001b[0;34m)\u001b[0m\u001b[0;34m\u001b[0m\u001b[0;34m\u001b[0m\u001b[0m\n\u001b[0m\u001b[1;32m     24\u001b[0m         \u001b[0mutypes\u001b[0m \u001b[0;34m+=\u001b[0m \u001b[0mlist\u001b[0m\u001b[0;34m(\u001b[0m\u001b[0mnp\u001b[0m\u001b[0;34m.\u001b[0m\u001b[0munique\u001b[0m\u001b[0;34m(\u001b[0m\u001b[0mgetProblemEventsInfo\u001b[0m\u001b[0;34m(\u001b[0m\u001b[0;34m)\u001b[0m\u001b[0;34m[\u001b[0m\u001b[0;34m'EventType'\u001b[0m\u001b[0;34m]\u001b[0m\u001b[0;34m)\u001b[0m\u001b[0;34m)\u001b[0m\u001b[0;34m\u001b[0m\u001b[0;34m\u001b[0m\u001b[0m\n\u001b[1;32m     25\u001b[0m         \u001b[0mself\u001b[0m\u001b[0;34m.\u001b[0m\u001b[0mperms\u001b[0m \u001b[0;34m=\u001b[0m \u001b[0mlist\u001b[0m\u001b[0;34m(\u001b[0m\u001b[0mproduct\u001b[0m\u001b[0;34m(\u001b[0m\u001b[0mutypes\u001b[0m\u001b[0;34m,\u001b[0m \u001b[0mrepeat\u001b[0m\u001b[0;34m=\u001b[0m\u001b[0mngram\u001b[0m\u001b[0;34m)\u001b[0m\u001b[0;34m)\u001b[0m\u001b[0;34m\u001b[0m\u001b[0;34m\u001b[0m\u001b[0m\n",
      "\u001b[0;32m~/Documents/Cours/DVET/flipped-classroom/helpers/db_query.py\u001b[0m in \u001b[0;36mgetVideoEventsInfo\u001b[0;34m(mode)\u001b[0m\n\u001b[1;32m     66\u001b[0m     \u001b[0mcolumns\u001b[0m \u001b[0;34m+=\u001b[0m  \u001b[0;34m[\u001b[0m\u001b[0;34m]\u001b[0m \u001b[0;32mif\u001b[0m \u001b[0mmode\u001b[0m \u001b[0;34m==\u001b[0m \u001b[0;34m'base'\u001b[0m \u001b[0;32melse\u001b[0m \u001b[0;34m[\u001b[0m\u001b[0;34m'SeekType'\u001b[0m\u001b[0;34m,\u001b[0m \u001b[0;34m'OldTime'\u001b[0m\u001b[0;34m,\u001b[0m \u001b[0;34m'CurrentTime'\u001b[0m\u001b[0;34m,\u001b[0m \u001b[0;34m'NewTime'\u001b[0m\u001b[0;34m,\u001b[0m \u001b[0;34m'OldSpeed'\u001b[0m\u001b[0;34m,\u001b[0m \u001b[0;34m'NewSpeed'\u001b[0m\u001b[0;34m]\u001b[0m\u001b[0;34m\u001b[0m\u001b[0;34m\u001b[0m\u001b[0m\n\u001b[1;32m     67\u001b[0m     \u001b[0mquery\u001b[0m \u001b[0;34m=\u001b[0m \u001b[0;34m\"\"\" SELECT {} FROM ca_courseware.Video_Events WHERE DataPackageID in ({}) \"\"\"\u001b[0m\u001b[0;34m.\u001b[0m\u001b[0mformat\u001b[0m\u001b[0;34m(\u001b[0m\u001b[0;34m\", \"\u001b[0m\u001b[0;34m.\u001b[0m\u001b[0mjoin\u001b[0m\u001b[0;34m(\u001b[0m\u001b[0mcolumns\u001b[0m\u001b[0;34m)\u001b[0m\u001b[0;34m,\u001b[0m \u001b[0;34m\", \"\u001b[0m\u001b[0;34m.\u001b[0m\u001b[0mjoin\u001b[0m\u001b[0;34m(\u001b[0m\u001b[0mcourse_names\u001b[0m\u001b[0;34m)\u001b[0m\u001b[0;34m)\u001b[0m\u001b[0;34m\u001b[0m\u001b[0;34m\u001b[0m\u001b[0m\n\u001b[0;32m---> 68\u001b[0;31m     \u001b[0mevents_df\u001b[0m \u001b[0;34m=\u001b[0m \u001b[0mqueryDB\u001b[0m\u001b[0;34m(\u001b[0m\u001b[0mquery\u001b[0m\u001b[0;34m,\u001b[0m \u001b[0mcolumns\u001b[0m\u001b[0;34m)\u001b[0m \u001b[0;31m# Raw video events\u001b[0m\u001b[0;34m\u001b[0m\u001b[0;34m\u001b[0m\u001b[0m\n\u001b[0m\u001b[1;32m     69\u001b[0m     \u001b[0minfo_df\u001b[0m \u001b[0;34m=\u001b[0m \u001b[0mgetVideoInfo\u001b[0m\u001b[0;34m(\u001b[0m\u001b[0;34m)\u001b[0m\u001b[0;34m\u001b[0m\u001b[0;34m\u001b[0m\u001b[0m\n\u001b[1;32m     70\u001b[0m     \u001b[0muser_df\u001b[0m \u001b[0;34m=\u001b[0m \u001b[0mgetUserInfo\u001b[0m\u001b[0;34m(\u001b[0m\u001b[0;34m)\u001b[0m \u001b[0;31m# User in the flipped group\u001b[0m\u001b[0;34m\u001b[0m\u001b[0;34m\u001b[0m\u001b[0m\n",
      "\u001b[0;32m~/Documents/Cours/DVET/flipped-classroom/helpers/db_query.py\u001b[0m in \u001b[0;36mqueryDB\u001b[0;34m(query, labels)\u001b[0m\n\u001b[1;32m      8\u001b[0m \u001b[0;34m\u001b[0m\u001b[0m\n\u001b[1;32m      9\u001b[0m \u001b[0;32mdef\u001b[0m \u001b[0mqueryDB\u001b[0m\u001b[0;34m(\u001b[0m\u001b[0mquery\u001b[0m\u001b[0;34m,\u001b[0m \u001b[0mlabels\u001b[0m\u001b[0;34m)\u001b[0m\u001b[0;34m:\u001b[0m\u001b[0;34m\u001b[0m\u001b[0;34m\u001b[0m\u001b[0m\n\u001b[0;32m---> 10\u001b[0;31m     \u001b[0mdb\u001b[0m \u001b[0;34m=\u001b[0m \u001b[0mMySQLConnector\u001b[0m\u001b[0;34m(\u001b[0m\u001b[0;34m)\u001b[0m\u001b[0;34m\u001b[0m\u001b[0;34m\u001b[0m\u001b[0m\n\u001b[0m\u001b[1;32m     11\u001b[0m     \u001b[0mout\u001b[0m \u001b[0;34m=\u001b[0m \u001b[0mdb\u001b[0m\u001b[0;34m.\u001b[0m\u001b[0mexecute\u001b[0m\u001b[0;34m(\u001b[0m\u001b[0mquery\u001b[0m\u001b[0;34m)\u001b[0m\u001b[0;34m\u001b[0m\u001b[0;34m\u001b[0m\u001b[0m\n\u001b[1;32m     12\u001b[0m     \u001b[0mdb\u001b[0m\u001b[0;34m.\u001b[0m\u001b[0mclose\u001b[0m\u001b[0;34m(\u001b[0m\u001b[0;34m)\u001b[0m\u001b[0;34m\u001b[0m\u001b[0;34m\u001b[0m\u001b[0m\n",
      "\u001b[0;32m~/Documents/Cours/DVET/flipped-classroom/helpers/db_connector.py\u001b[0m in \u001b[0;36m__init__\u001b[0;34m(self)\u001b[0m\n\u001b[1;32m     17\u001b[0m         \u001b[0;32mdef\u001b[0m \u001b[0m__init__\u001b[0m\u001b[0;34m(\u001b[0m\u001b[0mself\u001b[0m\u001b[0;34m)\u001b[0m\u001b[0;34m:\u001b[0m\u001b[0;34m\u001b[0m\u001b[0;34m\u001b[0m\u001b[0m\n\u001b[1;32m     18\u001b[0m                 \u001b[0mself\u001b[0m\u001b[0;34m.\u001b[0m\u001b[0mReturnedRows\u001b[0m \u001b[0;34m=\u001b[0m \u001b[0;34m[\u001b[0m\u001b[0;34m]\u001b[0m\u001b[0;34m\u001b[0m\u001b[0;34m\u001b[0m\u001b[0m\n\u001b[0;32m---> 19\u001b[0;31m                 \u001b[0mself\u001b[0m\u001b[0;34m.\u001b[0m\u001b[0mConnector\u001b[0m \u001b[0;34m=\u001b[0m \u001b[0mpymysql\u001b[0m\u001b[0;34m.\u001b[0m\u001b[0mconnect\u001b[0m\u001b[0;34m(\u001b[0m\u001b[0muser\u001b[0m\u001b[0;34m=\u001b[0m\u001b[0mUsername\u001b[0m\u001b[0;34m,\u001b[0m \u001b[0mpassword\u001b[0m\u001b[0;34m=\u001b[0m\u001b[0mbase64\u001b[0m\u001b[0;34m.\u001b[0m\u001b[0mb64decode\u001b[0m\u001b[0;34m(\u001b[0m\u001b[0mPassword\u001b[0m\u001b[0;34m)\u001b[0m\u001b[0;34m.\u001b[0m\u001b[0mdecode\u001b[0m\u001b[0;34m(\u001b[0m\u001b[0;34m'ascii'\u001b[0m\u001b[0;34m)\u001b[0m\u001b[0;34m,\u001b[0m \u001b[0mhost\u001b[0m\u001b[0;34m=\u001b[0m\u001b[0mHostAddress\u001b[0m\u001b[0;34m,\u001b[0m \u001b[0mcharset\u001b[0m\u001b[0;34m=\u001b[0m\u001b[0;34m'utf8mb4'\u001b[0m\u001b[0;34m,\u001b[0m \u001b[0muse_unicode\u001b[0m\u001b[0;34m=\u001b[0m\u001b[0;32mTrue\u001b[0m\u001b[0;34m)\u001b[0m\u001b[0;34m\u001b[0m\u001b[0;34m\u001b[0m\u001b[0m\n\u001b[0m\u001b[1;32m     20\u001b[0m \u001b[0;34m\u001b[0m\u001b[0m\n\u001b[1;32m     21\u001b[0m         \u001b[0;31m# Destructor\u001b[0m\u001b[0;34m\u001b[0m\u001b[0;34m\u001b[0m\u001b[0;34m\u001b[0m\u001b[0m\n",
      "\u001b[0;32m/Applications/anaconda3/lib/python3.7/site-packages/pymysql/__init__.py\u001b[0m in \u001b[0;36mConnect\u001b[0;34m(*args, **kwargs)\u001b[0m\n\u001b[1;32m     92\u001b[0m     \"\"\"\n\u001b[1;32m     93\u001b[0m     \u001b[0;32mfrom\u001b[0m \u001b[0;34m.\u001b[0m\u001b[0mconnections\u001b[0m \u001b[0;32mimport\u001b[0m \u001b[0mConnection\u001b[0m\u001b[0;34m\u001b[0m\u001b[0;34m\u001b[0m\u001b[0m\n\u001b[0;32m---> 94\u001b[0;31m     \u001b[0;32mreturn\u001b[0m \u001b[0mConnection\u001b[0m\u001b[0;34m(\u001b[0m\u001b[0;34m*\u001b[0m\u001b[0margs\u001b[0m\u001b[0;34m,\u001b[0m \u001b[0;34m**\u001b[0m\u001b[0mkwargs\u001b[0m\u001b[0;34m)\u001b[0m\u001b[0;34m\u001b[0m\u001b[0;34m\u001b[0m\u001b[0m\n\u001b[0m\u001b[1;32m     95\u001b[0m \u001b[0;34m\u001b[0m\u001b[0m\n\u001b[1;32m     96\u001b[0m \u001b[0;32mfrom\u001b[0m \u001b[0;34m.\u001b[0m \u001b[0;32mimport\u001b[0m \u001b[0mconnections\u001b[0m \u001b[0;32mas\u001b[0m \u001b[0m_orig_conn\u001b[0m\u001b[0;34m\u001b[0m\u001b[0;34m\u001b[0m\u001b[0m\n",
      "\u001b[0;32m/Applications/anaconda3/lib/python3.7/site-packages/pymysql/connections.py\u001b[0m in \u001b[0;36m__init__\u001b[0;34m(self, host, user, password, database, port, unix_socket, charset, sql_mode, read_default_file, conv, use_unicode, client_flag, cursorclass, init_command, connect_timeout, ssl, read_default_group, compress, named_pipe, autocommit, db, passwd, local_infile, max_allowed_packet, defer_connect, auth_plugin_map, read_timeout, write_timeout, bind_address, binary_prefix, program_name, server_public_key)\u001b[0m\n\u001b[1;32m    325\u001b[0m             \u001b[0mself\u001b[0m\u001b[0;34m.\u001b[0m\u001b[0m_sock\u001b[0m \u001b[0;34m=\u001b[0m \u001b[0;32mNone\u001b[0m\u001b[0;34m\u001b[0m\u001b[0;34m\u001b[0m\u001b[0m\n\u001b[1;32m    326\u001b[0m         \u001b[0;32melse\u001b[0m\u001b[0;34m:\u001b[0m\u001b[0;34m\u001b[0m\u001b[0;34m\u001b[0m\u001b[0m\n\u001b[0;32m--> 327\u001b[0;31m             \u001b[0mself\u001b[0m\u001b[0;34m.\u001b[0m\u001b[0mconnect\u001b[0m\u001b[0;34m(\u001b[0m\u001b[0;34m)\u001b[0m\u001b[0;34m\u001b[0m\u001b[0;34m\u001b[0m\u001b[0m\n\u001b[0m\u001b[1;32m    328\u001b[0m \u001b[0;34m\u001b[0m\u001b[0m\n\u001b[1;32m    329\u001b[0m     \u001b[0;32mdef\u001b[0m \u001b[0m_create_ssl_ctx\u001b[0m\u001b[0;34m(\u001b[0m\u001b[0mself\u001b[0m\u001b[0;34m,\u001b[0m \u001b[0msslp\u001b[0m\u001b[0;34m)\u001b[0m\u001b[0;34m:\u001b[0m\u001b[0;34m\u001b[0m\u001b[0;34m\u001b[0m\u001b[0m\n",
      "\u001b[0;32m/Applications/anaconda3/lib/python3.7/site-packages/pymysql/connections.py\u001b[0m in \u001b[0;36mconnect\u001b[0;34m(self, sock)\u001b[0m\n\u001b[1;32m    569\u001b[0m                             sock = socket.create_connection(\n\u001b[1;32m    570\u001b[0m                                 \u001b[0;34m(\u001b[0m\u001b[0mself\u001b[0m\u001b[0;34m.\u001b[0m\u001b[0mhost\u001b[0m\u001b[0;34m,\u001b[0m \u001b[0mself\u001b[0m\u001b[0;34m.\u001b[0m\u001b[0mport\u001b[0m\u001b[0;34m)\u001b[0m\u001b[0;34m,\u001b[0m \u001b[0mself\u001b[0m\u001b[0;34m.\u001b[0m\u001b[0mconnect_timeout\u001b[0m\u001b[0;34m,\u001b[0m\u001b[0;34m\u001b[0m\u001b[0;34m\u001b[0m\u001b[0m\n\u001b[0;32m--> 571\u001b[0;31m                                 **kwargs)\n\u001b[0m\u001b[1;32m    572\u001b[0m                             \u001b[0;32mbreak\u001b[0m\u001b[0;34m\u001b[0m\u001b[0;34m\u001b[0m\u001b[0m\n\u001b[1;32m    573\u001b[0m                         \u001b[0;32mexcept\u001b[0m \u001b[0;34m(\u001b[0m\u001b[0mOSError\u001b[0m\u001b[0;34m,\u001b[0m \u001b[0mIOError\u001b[0m\u001b[0;34m)\u001b[0m \u001b[0;32mas\u001b[0m \u001b[0me\u001b[0m\u001b[0;34m:\u001b[0m\u001b[0;34m\u001b[0m\u001b[0;34m\u001b[0m\u001b[0m\n",
      "\u001b[0;32m/Applications/anaconda3/lib/python3.7/socket.py\u001b[0m in \u001b[0;36mcreate_connection\u001b[0;34m(address, timeout, source_address)\u001b[0m\n\u001b[1;32m    714\u001b[0m             \u001b[0;32mif\u001b[0m \u001b[0msource_address\u001b[0m\u001b[0;34m:\u001b[0m\u001b[0;34m\u001b[0m\u001b[0;34m\u001b[0m\u001b[0m\n\u001b[1;32m    715\u001b[0m                 \u001b[0msock\u001b[0m\u001b[0;34m.\u001b[0m\u001b[0mbind\u001b[0m\u001b[0;34m(\u001b[0m\u001b[0msource_address\u001b[0m\u001b[0;34m)\u001b[0m\u001b[0;34m\u001b[0m\u001b[0;34m\u001b[0m\u001b[0m\n\u001b[0;32m--> 716\u001b[0;31m             \u001b[0msock\u001b[0m\u001b[0;34m.\u001b[0m\u001b[0mconnect\u001b[0m\u001b[0;34m(\u001b[0m\u001b[0msa\u001b[0m\u001b[0;34m)\u001b[0m\u001b[0;34m\u001b[0m\u001b[0;34m\u001b[0m\u001b[0m\n\u001b[0m\u001b[1;32m    717\u001b[0m             \u001b[0;31m# Break explicitly a reference cycle\u001b[0m\u001b[0;34m\u001b[0m\u001b[0;34m\u001b[0m\u001b[0;34m\u001b[0m\u001b[0m\n\u001b[1;32m    718\u001b[0m             \u001b[0merr\u001b[0m \u001b[0;34m=\u001b[0m \u001b[0;32mNone\u001b[0m\u001b[0;34m\u001b[0m\u001b[0;34m\u001b[0m\u001b[0m\n",
      "\u001b[0;31mKeyboardInterrupt\u001b[0m: "
     ]
    }
   ],
   "source": [
    "akpinar = AkpinarEtAl()\n",
    "boroujeni = BoroujeniEtAl()\n",
    "chen_cui = ChenCui()\n",
    "he = HeEtAl()\n",
    "lalle_conati = LalleConati()\n",
    "lemay_doleck = LemayDoleck()"
   ]
  },
  {
   "cell_type": "code",
   "execution_count": 230,
   "metadata": {
    "ExecuteTime": {
     "end_time": "2020-12-11T18:58:50.186723Z",
     "start_time": "2020-12-11T18:58:50.118763Z"
    }
   },
   "outputs": [
    {
     "data": {
      "text/plain": [
       "4100"
      ]
     },
     "execution_count": 230,
     "metadata": {},
     "output_type": "execute_result"
    }
   ],
   "source": [
    "akpinar.getNbFeatures()"
   ]
  },
  {
   "cell_type": "code",
   "execution_count": 231,
   "metadata": {
    "ExecuteTime": {
     "end_time": "2020-12-11T18:58:52.333500Z",
     "start_time": "2020-12-11T18:58:52.288951Z"
    }
   },
   "outputs": [],
   "source": [
    "papers = [akpinar, boroujeni, chen_cui, he, lalle_conati, lemay_doleck]\n",
    "paper_names = list(map(lambda x: x.__class__.__name__, papers))"
   ]
  },
  {
   "cell_type": "code",
   "execution_count": 232,
   "metadata": {
    "ExecuteTime": {
     "end_time": "2020-12-11T18:58:52.801019Z",
     "start_time": "2020-12-11T18:58:52.751019Z"
    },
    "scrolled": false
   },
   "outputs": [
    {
     "data": {
      "text/html": [
       "<div>\n",
       "<style scoped>\n",
       "    .dataframe tbody tr th:only-of-type {\n",
       "        vertical-align: middle;\n",
       "    }\n",
       "\n",
       "    .dataframe tbody tr th {\n",
       "        vertical-align: top;\n",
       "    }\n",
       "\n",
       "    .dataframe thead th {\n",
       "        text-align: right;\n",
       "    }\n",
       "</style>\n",
       "<table border=\"1\" class=\"dataframe\">\n",
       "  <thead>\n",
       "    <tr style=\"text-align: right;\">\n",
       "      <th></th>\n",
       "      <th>AkpinarEtAl</th>\n",
       "      <th>BoroujeniEtAl</th>\n",
       "      <th>ChenCui</th>\n",
       "      <th>HeEtAl</th>\n",
       "      <th>LalleConati</th>\n",
       "      <th>LemayDoleck</th>\n",
       "    </tr>\n",
       "  </thead>\n",
       "  <tbody>\n",
       "    <tr>\n",
       "      <th>Absolute sum of coefficients</th>\n",
       "      <td>1188.709781</td>\n",
       "      <td>37.256540</td>\n",
       "      <td>25.126593</td>\n",
       "      <td>11.341359</td>\n",
       "      <td>81.265705</td>\n",
       "      <td>31.727523</td>\n",
       "    </tr>\n",
       "    <tr>\n",
       "      <th>Coef contribution over nb of features</th>\n",
       "      <td>0.289929</td>\n",
       "      <td>3.104712</td>\n",
       "      <td>2.284236</td>\n",
       "      <td>3.780453</td>\n",
       "      <td>3.869795</td>\n",
       "      <td>3.172752</td>\n",
       "    </tr>\n",
       "  </tbody>\n",
       "</table>\n",
       "</div>"
      ],
      "text/plain": [
       "                                       AkpinarEtAl  BoroujeniEtAl    ChenCui  \\\n",
       "Absolute sum of coefficients           1188.709781      37.256540  25.126593   \n",
       "Coef contribution over nb of features     0.289929       3.104712   2.284236   \n",
       "\n",
       "                                          HeEtAl  LalleConati  LemayDoleck  \n",
       "Absolute sum of coefficients           11.341359    81.265705    31.727523  \n",
       "Coef contribution over nb of features   3.780453     3.869795     3.172752  "
      ]
     },
     "execution_count": 232,
     "metadata": {},
     "output_type": "execute_result"
    }
   ],
   "source": [
    "paper_partition = [0]\n",
    "abs_sum = []\n",
    "prop = []\n",
    "last_idx = 0\n",
    "\n",
    "for paper in papers:\n",
    "    nb_features = paper.getNbFeatures()\n",
    "    paper_partition.append(last_idx + nb_features)\n",
    "    paper_coefs = coef_abs_sum[last_idx: last_idx + nb_features].sum()\n",
    "    abs_sum.append(paper_coefs)\n",
    "    prop.append(paper_coefs / nb_features)\n",
    "    last_idx += nb_features\n",
    "\n",
    "pd.DataFrame(data = [abs_sum, prop], columns= paper_names, index=['Absolute sum of coefficients', 'Coef contribution over nb of features'])"
   ]
  },
  {
   "cell_type": "code",
   "execution_count": 233,
   "metadata": {
    "ExecuteTime": {
     "end_time": "2020-12-11T18:58:53.448560Z",
     "start_time": "2020-12-11T18:58:53.181583Z"
    }
   },
   "outputs": [
    {
     "data": {
      "image/png": "[encoded data removed]",
      "text/plain": [
       "<Figure size 1080x360 with 1 Axes>"
      ]
     },
     "metadata": {
      "needs_background": "light"
     },
     "output_type": "display_data"
    }
   ],
   "source": [
    "plt.figure(figsize=(15,5))\n",
    "plt.title(\"Coefficient contributions by paper\", fontSize=14)\n",
    "plt.ylabel(\"Absolute sum of paper coefficients\", fontSize=14)\n",
    "sns.barplot(x=paper_names, y=abs_sum);"
   ]
  },
  {
   "cell_type": "code",
   "execution_count": 234,
   "metadata": {
    "ExecuteTime": {
     "end_time": "2020-12-11T18:58:55.646668Z",
     "start_time": "2020-12-11T18:58:55.398886Z"
    },
    "scrolled": false
   },
   "outputs": [
    {
     "data": {
      "image/png": "[encoded data removed]",
      "text/plain": [
       "<Figure size 1080x360 with 1 Axes>"
      ]
     },
     "metadata": {
      "needs_background": "light"
     },
     "output_type": "display_data"
    }
   ],
   "source": [
    "plt.figure(figsize=(15,5))\n",
    "plt.title(\"Coefficient contributions over the number of features\", fontSize=14)\n",
    "plt.ylabel(\"Absolute sum of coefficient over the number of features\")\n",
    "sns.barplot(x=paper_names, y=prop);"
   ]
  },
  {
   "cell_type": "markdown",
   "metadata": {},
   "source": [
    "### Best coefficients\n",
    "\n",
    "Let's find which coefficients has the most contributions among all the features."
   ]
  },
  {
   "cell_type": "code",
   "execution_count": 38,
   "metadata": {
    "ExecuteTime": {
     "end_time": "2020-12-10T19:05:03.740350Z",
     "start_time": "2020-12-10T19:05:03.694296Z"
    },
    "scrolled": true
   },
   "outputs": [],
   "source": [
    "nb_best_coef = 10 #Number of coefficient we want\n",
    "\n",
    "#Select the specified coef\n",
    "best_idx = (-coef_abs_sum).argsort()\n",
    "top_idx = best_idx[:nb_best_coef]\n",
    "top_coef = coef_abs_sum[top_idx]\n",
    "top_mean_coef = coef_sum[top_idx] / nb_students"
   ]
  },
  {
   "cell_type": "code",
   "execution_count": 39,
   "metadata": {
    "ExecuteTime": {
     "end_time": "2020-12-10T19:05:03.791149Z",
     "start_time": "2020-12-10T19:05:03.743891Z"
    }
   },
   "outputs": [],
   "source": [
    "#Associate each coef with the corresponding paper and feature\n",
    "paper_attribution = np.digitize(top_idx, paper_partition)\n",
    "paper_feature_idx = []\n",
    "for i, coef_idx in enumerate(top_idx):\n",
    "        paper_feature_idx.append(coef_idx - paper_partition[paper_attribution[i] - 1])\n",
    "        \n",
    "best_coef_paper = np.array(papers)[paper_attribution - 1]\n",
    "best_coef_paper_names = np.array(paper_names)[paper_attribution - 1]\n",
    "couple_paper_idx = list(zip( best_coef_paper, best_coef_paper_names, paper_feature_idx))"
   ]
  },
  {
   "cell_type": "code",
   "execution_count": 40,
   "metadata": {
    "ExecuteTime": {
     "end_time": "2020-12-10T19:05:03.865390Z",
     "start_time": "2020-12-10T19:05:03.796102Z"
    },
    "scrolled": false
   },
   "outputs": [
    {
     "data": {
      "text/html": [
       "<div>\n",
       "<style scoped>\n",
       "    .dataframe tbody tr th:only-of-type {\n",
       "        vertical-align: middle;\n",
       "    }\n",
       "\n",
       "    .dataframe tbody tr th {\n",
       "        vertical-align: top;\n",
       "    }\n",
       "\n",
       "    .dataframe thead th {\n",
       "        text-align: right;\n",
       "    }\n",
       "</style>\n",
       "<table border=\"1\" class=\"dataframe\">\n",
       "  <thead>\n",
       "    <tr style=\"text-align: right;\">\n",
       "      <th></th>\n",
       "      <th>Paper</th>\n",
       "      <th>Absolute coef sum</th>\n",
       "      <th>Mean value</th>\n",
       "    </tr>\n",
       "    <tr>\n",
       "      <th>Feature</th>\n",
       "      <th></th>\n",
       "      <th></th>\n",
       "      <th></th>\n",
       "    </tr>\n",
       "  </thead>\n",
       "  <tbody>\n",
       "    <tr>\n",
       "      <th>avgWeeklyPropReplayed</th>\n",
       "      <td>LalleConati</td>\n",
       "      <td>15.617391</td>\n",
       "      <td>-0.072978</td>\n",
       "    </tr>\n",
       "    <tr>\n",
       "      <th>(Video.Play, Video.Load, Video.Seek)</th>\n",
       "      <td>AkpinarEtAl</td>\n",
       "      <td>14.416458</td>\n",
       "      <td>0.067367</td>\n",
       "    </tr>\n",
       "    <tr>\n",
       "      <th>(Problem.Graded, Problem.Check, Problem.Reset)</th>\n",
       "      <td>AkpinarEtAl</td>\n",
       "      <td>14.078774</td>\n",
       "      <td>0.065789</td>\n",
       "    </tr>\n",
       "    <tr>\n",
       "      <th>(Video.Pause, Video.Pause, Problem.Reset)</th>\n",
       "      <td>AkpinarEtAl</td>\n",
       "      <td>13.959073</td>\n",
       "      <td>0.065229</td>\n",
       "    </tr>\n",
       "    <tr>\n",
       "      <th>(Problem.Check, Problem.Graded, Problem.Reset)</th>\n",
       "      <td>AkpinarEtAl</td>\n",
       "      <td>13.029472</td>\n",
       "      <td>0.050059</td>\n",
       "    </tr>\n",
       "    <tr>\n",
       "      <th>(Video.Play, Video.Play, Problem.Check)</th>\n",
       "      <td>AkpinarEtAl</td>\n",
       "      <td>11.820441</td>\n",
       "      <td>-0.055236</td>\n",
       "    </tr>\n",
       "    <tr>\n",
       "      <th>stdWeeklyPropReplayed</th>\n",
       "      <td>LalleConati</td>\n",
       "      <td>11.696945</td>\n",
       "      <td>-0.054659</td>\n",
       "    </tr>\n",
       "    <tr>\n",
       "      <th>(Video.Load, Video.Load, Video.Load)</th>\n",
       "      <td>AkpinarEtAl</td>\n",
       "      <td>11.555708</td>\n",
       "      <td>0.048676</td>\n",
       "    </tr>\n",
       "    <tr>\n",
       "      <th>attendanceVideos</th>\n",
       "      <td>AkpinarEtAl</td>\n",
       "      <td>11.511359</td>\n",
       "      <td>0.049599</td>\n",
       "    </tr>\n",
       "    <tr>\n",
       "      <th>(Video.Pause, Problem.Check, Problem.Graded)</th>\n",
       "      <td>AkpinarEtAl</td>\n",
       "      <td>10.566664</td>\n",
       "      <td>0.001246</td>\n",
       "    </tr>\n",
       "  </tbody>\n",
       "</table>\n",
       "</div>"
      ],
      "text/plain": [
       "                                                      Paper  \\\n",
       "Feature                                                       \n",
       "avgWeeklyPropReplayed                           LalleConati   \n",
       "(Video.Play, Video.Load, Video.Seek)            AkpinarEtAl   \n",
       "(Problem.Graded, Problem.Check, Problem.Reset)  AkpinarEtAl   \n",
       "(Video.Pause, Video.Pause, Problem.Reset)       AkpinarEtAl   \n",
       "(Problem.Check, Problem.Graded, Problem.Reset)  AkpinarEtAl   \n",
       "(Video.Play, Video.Play, Problem.Check)         AkpinarEtAl   \n",
       "stdWeeklyPropReplayed                           LalleConati   \n",
       "(Video.Load, Video.Load, Video.Load)            AkpinarEtAl   \n",
       "attendanceVideos                                AkpinarEtAl   \n",
       "(Video.Pause, Problem.Check, Problem.Graded)    AkpinarEtAl   \n",
       "\n",
       "                                                Absolute coef sum  Mean value  \n",
       "Feature                                                                        \n",
       "avgWeeklyPropReplayed                                   15.617391   -0.072978  \n",
       "(Video.Play, Video.Load, Video.Seek)                    14.416458    0.067367  \n",
       "(Problem.Graded, Problem.Check, Problem.Reset)          14.078774    0.065789  \n",
       "(Video.Pause, Video.Pause, Problem.Reset)               13.959073    0.065229  \n",
       "(Problem.Check, Problem.Graded, Problem.Reset)          13.029472    0.050059  \n",
       "(Video.Play, Video.Play, Problem.Check)                 11.820441   -0.055236  \n",
       "stdWeeklyPropReplayed                                   11.696945   -0.054659  \n",
       "(Video.Load, Video.Load, Video.Load)                    11.555708    0.048676  \n",
       "attendanceVideos                                        11.511359    0.049599  \n",
       "(Video.Pause, Problem.Check, Problem.Graded)            10.566664    0.001246  "
      ]
     },
     "execution_count": 40,
     "metadata": {},
     "output_type": "execute_result"
    }
   ],
   "source": [
    "#Display values\n",
    "feat_array = []\n",
    "for i, (paper, paper_name,feat_idx) in enumerate(couple_paper_idx):\n",
    "    feat_array.append([paper.getFeatureNames()[feat_idx], paper_name, top_coef[i], top_mean_coef[i]])\n",
    "pd.DataFrame(data=feat_array, columns=['Feature','Paper', 'Absolute coef sum', 'Mean value']).set_index(\"Feature\")"
   ]
  }
 ],
 "metadata": {
  "kernelspec": {
   "display_name": "Python 3",
   "language": "python",
   "name": "python3"
  },
  "language_info": {
   "codemirror_mode": {
    "name": "ipython",
    "version": 3
   },
   "file_extension": ".py",
   "mimetype": "text/x-python",
   "name": "python",
   "nbconvert_exporter": "python",
   "pygments_lexer": "ipython3",
   "version": "3.7.1"
  },
  "toc": {
   "base_numbering": 1,
   "nav_menu": {},
   "number_sections": true,
   "sideBar": true,
   "skip_h1_title": false,
   "title_cell": "Table of Contents",
   "title_sidebar": "Contents",
   "toc_cell": false,
   "toc_position": {},
   "toc_section_display": true,
   "toc_window_display": false
  }
 },
 "nbformat": 4,
 "nbformat_minor": 1
}
