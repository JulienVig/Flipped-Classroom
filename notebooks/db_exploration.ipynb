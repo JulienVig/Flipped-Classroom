{
 "cells": [
  {
   "cell_type": "markdown",
   "metadata": {},
   "source": [
    "# Database exploration: forum, textbook and quiz events"
   ]
  },
  {
   "cell_type": "code",
   "execution_count": 1,
   "metadata": {
    "ExecuteTime": {
     "end_time": "2020-10-16T09:33:33.599275Z",
     "start_time": "2020-10-16T09:33:31.974083Z"
    }
   },
   "outputs": [
    {
     "name": "stderr",
     "output_type": "stream",
     "text": [
      "/Applications/anaconda3/lib/python3.7/site-packages/statsmodels/tools/_testing.py:19: FutureWarning: pandas.util.testing is deprecated. Use the functions in the public API at pandas.testing instead.\n",
      "  import pandas.util.testing as tm\n"
     ]
    }
   ],
   "source": [
    "#Library imports\n",
    "\n",
    "import numpy as np\n",
    "import pandas as pd\n",
    "import matplotlib.pyplot as plt\n",
    "import seaborn as sns\n",
    "sns.set_style(\"darkgrid\")\n",
    "from datetime import datetime, timedelta, date\n",
    "import time\n",
    "import sys\n",
    "import os"
   ]
  },
  {
   "cell_type": "code",
   "execution_count": 2,
   "metadata": {
    "ExecuteTime": {
     "end_time": "2020-10-16T09:33:33.612417Z",
     "start_time": "2020-10-16T09:33:33.603141Z"
    }
   },
   "outputs": [],
   "source": [
    "sys.path.append(os.path.abspath(os.path.join('..')))"
   ]
  },
  {
   "cell_type": "code",
   "execution_count": 10,
   "metadata": {
    "ExecuteTime": {
     "end_time": "2020-10-16T09:37:00.606273Z",
     "start_time": "2020-10-16T09:37:00.532320Z"
    }
   },
   "outputs": [],
   "source": [
    "%load_ext autoreload\n",
    "%autoreload 2"
   ]
  },
  {
   "cell_type": "code",
   "execution_count": 14,
   "metadata": {
    "ExecuteTime": {
     "end_time": "2020-10-16T09:38:20.391486Z",
     "start_time": "2020-10-16T09:38:20.343940Z"
    }
   },
   "outputs": [],
   "source": [
    "from helpers.db_connector import MySQLConnector\n",
    "from helpers.data_process import *\n",
    "from helpers.plotting import *\n",
    "from helpers.db_query import *\n"
   ]
  },
  {
   "cell_type": "code",
   "execution_count": 145,
   "metadata": {
    "ExecuteTime": {
     "end_time": "2020-10-16T13:16:29.660097Z",
     "start_time": "2020-10-16T13:16:11.362749Z"
    }
   },
   "outputs": [
    {
     "name": "stdout",
     "output_type": "stream",
     "text": [
      "CPU times: user 14.6 s, sys: 1.08 s, total: 15.7 s\n",
      "Wall time: 18.3 s\n"
     ]
    }
   ],
   "source": [
    "%time video_events = getVideoEvents(with_2019=True)"
   ]
  },
  {
   "cell_type": "markdown",
   "metadata": {},
   "source": [
    "## Textbook Events"
   ]
  },
  {
   "cell_type": "code",
   "execution_count": 65,
   "metadata": {
    "ExecuteTime": {
     "end_time": "2020-10-16T12:17:02.404574Z",
     "start_time": "2020-10-16T12:17:02.209144Z"
    }
   },
   "outputs": [
    {
     "name": "stdout",
     "output_type": "stream",
     "text": [
      "CPU times: user 11.3 ms, sys: 2.48 ms, total: 13.8 ms\n",
      "Wall time: 41.9 ms\n"
     ]
    }
   ],
   "source": [
    "%time textbook_events = getTextbookEvents()"
   ]
  },
  {
   "cell_type": "code",
   "execution_count": 66,
   "metadata": {
    "ExecuteTime": {
     "end_time": "2020-10-16T12:17:04.137104Z",
     "start_time": "2020-10-16T12:17:04.076506Z"
    }
   },
   "outputs": [
    {
     "data": {
      "text/html": [
       "<div>\n",
       "<style scoped>\n",
       "    .dataframe tbody tr th:only-of-type {\n",
       "        vertical-align: middle;\n",
       "    }\n",
       "\n",
       "    .dataframe tbody tr th {\n",
       "        vertical-align: top;\n",
       "    }\n",
       "\n",
       "    .dataframe thead th {\n",
       "        text-align: right;\n",
       "    }\n",
       "</style>\n",
       "<table border=\"1\" class=\"dataframe\">\n",
       "  <thead>\n",
       "    <tr style=\"text-align: right;\">\n",
       "      <th></th>\n",
       "      <th>AccountUserID</th>\n",
       "      <th>DataPackageID</th>\n",
       "      <th>TimeStamp</th>\n",
       "      <th>EventType</th>\n",
       "      <th>Year</th>\n",
       "      <th>Date</th>\n",
       "    </tr>\n",
       "  </thead>\n",
       "  <tbody>\n",
       "    <tr>\n",
       "      <th>168</th>\n",
       "      <td>96550</td>\n",
       "      <td>EPFL-AlgebreLineaire-2019</td>\n",
       "      <td>1577890690</td>\n",
       "      <td>TextBook.Seek</td>\n",
       "      <td>2019</td>\n",
       "      <td>2020-01-01 15:58:10</td>\n",
       "    </tr>\n",
       "    <tr>\n",
       "      <th>173</th>\n",
       "      <td>96550</td>\n",
       "      <td>EPFL-AlgebreLineaire-2019</td>\n",
       "      <td>1577891981</td>\n",
       "      <td>TextBook.Bookmark.Accessed</td>\n",
       "      <td>2019</td>\n",
       "      <td>2020-01-01 16:19:41</td>\n",
       "    </tr>\n",
       "    <tr>\n",
       "      <th>90</th>\n",
       "      <td>96550</td>\n",
       "      <td>EPFL-AlgebreLineaire-2019</td>\n",
       "      <td>1577962927</td>\n",
       "      <td>TextBook.Bookmark.Accessed</td>\n",
       "      <td>2019</td>\n",
       "      <td>2020-01-02 12:02:07</td>\n",
       "    </tr>\n",
       "    <tr>\n",
       "      <th>102</th>\n",
       "      <td>14648</td>\n",
       "      <td>EPFL-AlgebreLineaire-2018</td>\n",
       "      <td>1540670362</td>\n",
       "      <td>TextBook.Seek</td>\n",
       "      <td>2018</td>\n",
       "      <td>2018-10-27 21:59:22</td>\n",
       "    </tr>\n",
       "    <tr>\n",
       "      <th>35</th>\n",
       "      <td>10235</td>\n",
       "      <td>EPFL-AlgebreLineaire-2017_T3</td>\n",
       "      <td>1508064111</td>\n",
       "      <td>TextBook.Seek</td>\n",
       "      <td>2017</td>\n",
       "      <td>2017-10-15 12:41:51</td>\n",
       "    </tr>\n",
       "  </tbody>\n",
       "</table>\n",
       "</div>"
      ],
      "text/plain": [
       "    AccountUserID                 DataPackageID   TimeStamp  \\\n",
       "168         96550     EPFL-AlgebreLineaire-2019  1577890690   \n",
       "173         96550     EPFL-AlgebreLineaire-2019  1577891981   \n",
       "90          96550     EPFL-AlgebreLineaire-2019  1577962927   \n",
       "102         14648     EPFL-AlgebreLineaire-2018  1540670362   \n",
       "35          10235  EPFL-AlgebreLineaire-2017_T3  1508064111   \n",
       "\n",
       "                      EventType  Year                Date  \n",
       "168               TextBook.Seek  2019 2020-01-01 15:58:10  \n",
       "173  TextBook.Bookmark.Accessed  2019 2020-01-01 16:19:41  \n",
       "90   TextBook.Bookmark.Accessed  2019 2020-01-02 12:02:07  \n",
       "102               TextBook.Seek  2018 2018-10-27 21:59:22  \n",
       "35                TextBook.Seek  2017 2017-10-15 12:41:51  "
      ]
     },
     "execution_count": 66,
     "metadata": {},
     "output_type": "execute_result"
    }
   ],
   "source": [
    "textbook_events.sample(5)"
   ]
  },
  {
   "cell_type": "code",
   "execution_count": 45,
   "metadata": {
    "ExecuteTime": {
     "end_time": "2020-10-16T09:53:35.217398Z",
     "start_time": "2020-10-16T09:53:35.165169Z"
    },
    "scrolled": true
   },
   "outputs": [
    {
     "name": "stdout",
     "output_type": "stream",
     "text": [
      "Total number of events:  317\n"
     ]
    },
    {
     "data": {
      "text/html": [
       "<div>\n",
       "<style scoped>\n",
       "    .dataframe tbody tr th:only-of-type {\n",
       "        vertical-align: middle;\n",
       "    }\n",
       "\n",
       "    .dataframe tbody tr th {\n",
       "        vertical-align: top;\n",
       "    }\n",
       "\n",
       "    .dataframe thead th {\n",
       "        text-align: right;\n",
       "    }\n",
       "</style>\n",
       "<table border=\"1\" class=\"dataframe\">\n",
       "  <thead>\n",
       "    <tr style=\"text-align: right;\">\n",
       "      <th></th>\n",
       "      <th>Number of events</th>\n",
       "    </tr>\n",
       "    <tr>\n",
       "      <th>Year</th>\n",
       "      <th></th>\n",
       "    </tr>\n",
       "  </thead>\n",
       "  <tbody>\n",
       "    <tr>\n",
       "      <th>2017</th>\n",
       "      <td>32</td>\n",
       "    </tr>\n",
       "    <tr>\n",
       "      <th>2018</th>\n",
       "      <td>159</td>\n",
       "    </tr>\n",
       "    <tr>\n",
       "      <th>2019</th>\n",
       "      <td>126</td>\n",
       "    </tr>\n",
       "  </tbody>\n",
       "</table>\n",
       "</div>"
      ],
      "text/plain": [
       "      Number of events\n",
       "Year                  \n",
       "2017                32\n",
       "2018               159\n",
       "2019               126"
      ]
     },
     "execution_count": 45,
     "metadata": {},
     "output_type": "execute_result"
    }
   ],
   "source": [
    "print(\"Total number of events: \",len(textbook_events))\n",
    "textbook_events.groupby(\"Year\").size().to_frame(name=\"Number of events\")"
   ]
  },
  {
   "cell_type": "code",
   "execution_count": 150,
   "metadata": {
    "ExecuteTime": {
     "end_time": "2020-10-16T13:20:47.813569Z",
     "start_time": "2020-10-16T13:20:47.622771Z"
    },
    "scrolled": true
   },
   "outputs": [
    {
     "name": "stdout",
     "output_type": "stream",
     "text": [
      "Total number of unique users:  60\n",
      "Proportion of users watching the videos: 0.12\n"
     ]
    },
    {
     "data": {
      "text/html": [
       "<div>\n",
       "<style scoped>\n",
       "    .dataframe tbody tr th:only-of-type {\n",
       "        vertical-align: middle;\n",
       "    }\n",
       "\n",
       "    .dataframe tbody tr th {\n",
       "        vertical-align: top;\n",
       "    }\n",
       "\n",
       "    .dataframe thead th {\n",
       "        text-align: right;\n",
       "    }\n",
       "</style>\n",
       "<table border=\"1\" class=\"dataframe\">\n",
       "  <thead>\n",
       "    <tr style=\"text-align: right;\">\n",
       "      <th></th>\n",
       "      <th>Number of users</th>\n",
       "    </tr>\n",
       "    <tr>\n",
       "      <th>Year</th>\n",
       "      <th></th>\n",
       "    </tr>\n",
       "  </thead>\n",
       "  <tbody>\n",
       "    <tr>\n",
       "      <th>2017</th>\n",
       "      <td>25</td>\n",
       "    </tr>\n",
       "    <tr>\n",
       "      <th>2018</th>\n",
       "      <td>20</td>\n",
       "    </tr>\n",
       "    <tr>\n",
       "      <th>2019</th>\n",
       "      <td>16</td>\n",
       "    </tr>\n",
       "  </tbody>\n",
       "</table>\n",
       "</div>"
      ],
      "text/plain": [
       "      Number of users\n",
       "Year                 \n",
       "2017               25\n",
       "2018               20\n",
       "2019               16"
      ]
     },
     "execution_count": 150,
     "metadata": {},
     "output_type": "execute_result"
    }
   ],
   "source": [
    "print(\"Total number of unique users: \",textbook_events.AccountUserID.nunique())\n",
    "print(\"Proportion of users watching the videos: {:.2f}\".format(textbook_events.AccountUserID.nunique() / video_events.AccountUserID.nunique()))\n",
    "textbook_events.groupby(\"Year\").AccountUserID.nunique().to_frame(name=\"Number of users\")"
   ]
  },
  {
   "cell_type": "code",
   "execution_count": 130,
   "metadata": {
    "ExecuteTime": {
     "end_time": "2020-10-16T12:56:58.364705Z",
     "start_time": "2020-10-16T12:56:58.307958Z"
    },
    "scrolled": true
   },
   "outputs": [
    {
     "name": "stdout",
     "output_type": "stream",
     "text": [
      "Two different events: TextBook.Seek, TextBook.Bookmark.Accessed\n"
     ]
    },
    {
     "data": {
      "text/html": [
       "<div>\n",
       "<style scoped>\n",
       "    .dataframe tbody tr th:only-of-type {\n",
       "        vertical-align: middle;\n",
       "    }\n",
       "\n",
       "    .dataframe tbody tr th {\n",
       "        vertical-align: top;\n",
       "    }\n",
       "\n",
       "    .dataframe thead th {\n",
       "        text-align: right;\n",
       "    }\n",
       "</style>\n",
       "<table border=\"1\" class=\"dataframe\">\n",
       "  <thead>\n",
       "    <tr style=\"text-align: right;\">\n",
       "      <th></th>\n",
       "      <th>Number of events</th>\n",
       "    </tr>\n",
       "    <tr>\n",
       "      <th>EventType</th>\n",
       "      <th></th>\n",
       "    </tr>\n",
       "  </thead>\n",
       "  <tbody>\n",
       "    <tr>\n",
       "      <th>TextBook.Bookmark.Accessed</th>\n",
       "      <td>168</td>\n",
       "    </tr>\n",
       "    <tr>\n",
       "      <th>TextBook.Seek</th>\n",
       "      <td>149</td>\n",
       "    </tr>\n",
       "  </tbody>\n",
       "</table>\n",
       "</div>"
      ],
      "text/plain": [
       "                            Number of events\n",
       "EventType                                   \n",
       "TextBook.Bookmark.Accessed               168\n",
       "TextBook.Seek                            149"
      ]
     },
     "execution_count": 130,
     "metadata": {},
     "output_type": "execute_result"
    }
   ],
   "source": [
    "print(\"Two different events: {}\".format(\", \".join(textbook_events.EventType.unique())))\n",
    "textbook_events.groupby(\"EventType\").size().to_frame(name=\"Number of events\")"
   ]
  },
  {
   "cell_type": "code",
   "execution_count": 229,
   "metadata": {
    "ExecuteTime": {
     "end_time": "2020-10-16T13:57:37.710510Z",
     "start_time": "2020-10-16T13:57:37.666502Z"
    }
   },
   "outputs": [],
   "source": [
    "def plot_events(df, ax, year=None):\n",
    "    if year:\n",
    "        #Count the number of events by day\n",
    "        data = df.groupby(df.Date.dt.floor('d')).size() \n",
    "        sns.lineplot(data=data, ax=ax)\n",
    "        ax.set_title(\"Events during {}\".format(year))\n",
    "        ax.set_xlim(datetime(year,9,1), datetime(year + 1,1,10)) #Filter the right period\n",
    "        \n",
    "        with open('../config/cf_mooc.json') as f:\n",
    "            config = json.load(f)\n",
    "        midterm = datetime.strptime(config[str(year)][\"Midterm\"], '%Y-%m-%d')\n",
    "        ax.axvline(midterm, c='lightcoral', label=\"Midterm\")\n",
    "        ax.legend()"
   ]
  },
  {
   "cell_type": "code",
   "execution_count": 230,
   "metadata": {
    "ExecuteTime": {
     "end_time": "2020-10-16T13:57:39.697365Z",
     "start_time": "2020-10-16T13:57:37.834121Z"
    },
    "scrolled": false
   },
   "outputs": [
    {
     "data": {
      "image/png": "[encoded data removed]",
      "text/plain": [
       "<Figure size 1080x720 with 3 Axes>"
      ]
     },
     "metadata": {
      "needs_background": "light"
     },
     "output_type": "display_data"
    }
   ],
   "source": [
    "fig, axes = plt.subplots(3,1, figsize=((15,10)))\n",
    "for i, year in enumerate([2017,2018,2019]):\n",
    "    plot_events(textbook_events, axes[i], year = year)\n",
    "fig.tight_layout()"
   ]
  },
  {
   "cell_type": "markdown",
   "metadata": {},
   "source": [
    "**Interpretation:** We cannot see effect of the midterm on the textbook activity. However the trend increases at the end of the semester for 2018 and 2019. We can guess that students start going back on the course material and therefore start making use of the bookmarks."
   ]
  },
  {
   "cell_type": "markdown",
   "metadata": {},
   "source": [
    "## Forum Activity"
   ]
  },
  {
   "cell_type": "code",
   "execution_count": 180,
   "metadata": {
    "ExecuteTime": {
     "end_time": "2020-10-16T13:37:49.293207Z",
     "start_time": "2020-10-16T13:37:49.137444Z"
    }
   },
   "outputs": [
    {
     "name": "stdout",
     "output_type": "stream",
     "text": [
      "CPU times: user 36.7 ms, sys: 4.85 ms, total: 41.5 ms\n",
      "Wall time: 55.7 ms\n"
     ]
    }
   ],
   "source": [
    "%time forum_events = getForumEvents()"
   ]
  },
  {
   "cell_type": "code",
   "execution_count": 182,
   "metadata": {
    "ExecuteTime": {
     "end_time": "2020-10-16T13:37:53.317774Z",
     "start_time": "2020-10-16T13:37:53.234752Z"
    },
    "scrolled": false
   },
   "outputs": [
    {
     "data": {
      "text/html": [
       "<div>\n",
       "<style scoped>\n",
       "    .dataframe tbody tr th:only-of-type {\n",
       "        vertical-align: middle;\n",
       "    }\n",
       "\n",
       "    .dataframe tbody tr th {\n",
       "        vertical-align: top;\n",
       "    }\n",
       "\n",
       "    .dataframe thead th {\n",
       "        text-align: right;\n",
       "    }\n",
       "</style>\n",
       "<table border=\"1\" class=\"dataframe\">\n",
       "  <thead>\n",
       "    <tr style=\"text-align: right;\">\n",
       "      <th></th>\n",
       "      <th>AccountUserID</th>\n",
       "      <th>DataPackageID</th>\n",
       "      <th>TimeStamp</th>\n",
       "      <th>EventType</th>\n",
       "      <th>PostType</th>\n",
       "      <th>PostID</th>\n",
       "      <th>Year</th>\n",
       "      <th>Date</th>\n",
       "    </tr>\n",
       "  </thead>\n",
       "  <tbody>\n",
       "    <tr>\n",
       "      <th>1570</th>\n",
       "      <td>95011</td>\n",
       "      <td>EPFL-AlgebreLineaire-2019</td>\n",
       "      <td>1575966907</td>\n",
       "      <td>Forum.Unknown</td>\n",
       "      <td>Forum</td>\n",
       "      <td>None</td>\n",
       "      <td>2019</td>\n",
       "      <td>2019-12-10 09:35:07</td>\n",
       "    </tr>\n",
       "    <tr>\n",
       "      <th>1405</th>\n",
       "      <td>96844</td>\n",
       "      <td>EPFL-AlgebreLineaire-2019</td>\n",
       "      <td>1570360560</td>\n",
       "      <td>Forum.Load</td>\n",
       "      <td>Forum</td>\n",
       "      <td>None</td>\n",
       "      <td>2019</td>\n",
       "      <td>2019-10-06 13:16:00</td>\n",
       "    </tr>\n",
       "    <tr>\n",
       "      <th>273</th>\n",
       "      <td>12272</td>\n",
       "      <td>EPFL-AlgebreLineaire-2017_T3</td>\n",
       "      <td>1510564079</td>\n",
       "      <td>Forum.Thread.View</td>\n",
       "      <td>Thread</td>\n",
       "      <td>5a03695361678c47d0000000</td>\n",
       "      <td>2017</td>\n",
       "      <td>2017-11-13 10:07:59</td>\n",
       "    </tr>\n",
       "    <tr>\n",
       "      <th>5</th>\n",
       "      <td>4708</td>\n",
       "      <td>EPFL-AlgebreLineaire-2017_T3</td>\n",
       "      <td>1508400354</td>\n",
       "      <td>Forum.Load</td>\n",
       "      <td>Forum</td>\n",
       "      <td>None</td>\n",
       "      <td>2017</td>\n",
       "      <td>2017-10-19 10:05:54</td>\n",
       "    </tr>\n",
       "    <tr>\n",
       "      <th>701</th>\n",
       "      <td>8085</td>\n",
       "      <td>EPFL-AlgebreLineaire-2017_T3</td>\n",
       "      <td>1508404206</td>\n",
       "      <td>Forum.Load</td>\n",
       "      <td>Forum</td>\n",
       "      <td>None</td>\n",
       "      <td>2017</td>\n",
       "      <td>2017-10-19 11:10:06</td>\n",
       "    </tr>\n",
       "  </tbody>\n",
       "</table>\n",
       "</div>"
      ],
      "text/plain": [
       "     AccountUserID                 DataPackageID   TimeStamp  \\\n",
       "1570         95011     EPFL-AlgebreLineaire-2019  1575966907   \n",
       "1405         96844     EPFL-AlgebreLineaire-2019  1570360560   \n",
       "273          12272  EPFL-AlgebreLineaire-2017_T3  1510564079   \n",
       "5             4708  EPFL-AlgebreLineaire-2017_T3  1508400354   \n",
       "701           8085  EPFL-AlgebreLineaire-2017_T3  1508404206   \n",
       "\n",
       "              EventType PostType                    PostID  Year  \\\n",
       "1570      Forum.Unknown    Forum                      None  2019   \n",
       "1405         Forum.Load    Forum                      None  2019   \n",
       "273   Forum.Thread.View   Thread  5a03695361678c47d0000000  2017   \n",
       "5            Forum.Load    Forum                      None  2017   \n",
       "701          Forum.Load    Forum                      None  2017   \n",
       "\n",
       "                    Date  \n",
       "1570 2019-12-10 09:35:07  \n",
       "1405 2019-10-06 13:16:00  \n",
       "273  2017-11-13 10:07:59  \n",
       "5    2017-10-19 10:05:54  \n",
       "701  2017-10-19 11:10:06  "
      ]
     },
     "execution_count": 182,
     "metadata": {},
     "output_type": "execute_result"
    }
   ],
   "source": [
    "forum_events.sample(5)"
   ]
  },
  {
   "cell_type": "code",
   "execution_count": 183,
   "metadata": {
    "ExecuteTime": {
     "end_time": "2020-10-16T13:37:55.267759Z",
     "start_time": "2020-10-16T13:37:55.224603Z"
    }
   },
   "outputs": [
    {
     "name": "stdout",
     "output_type": "stream",
     "text": [
      "Different forum events: \n",
      "\tForum.Load\n",
      "\tForum.Thread.View\n",
      "\tForum.Unknown\n",
      "\tForum.Thread.Launch\n",
      "\tForum.Post.Delete\n",
      "\tForum.Thread.Delete\n",
      "\tForum.Thread.PostOn\n",
      "\tForum.User.View\n",
      "\tForum.Thread.Upvote\n",
      "\tForum.Post.Update\n",
      "\tForum.Search\n",
      "\tForum.Thread.Update\n",
      "\tForum.Thread.Unfollow\n",
      "\tForum.Thread.Follow\n"
     ]
    }
   ],
   "source": [
    "print(\"Different forum events: \\n\\t{}\".format(\"\\n\\t\".join(forum_events.EventType.unique())))"
   ]
  },
  {
   "cell_type": "code",
   "execution_count": 235,
   "metadata": {
    "ExecuteTime": {
     "end_time": "2020-10-16T16:46:49.148182Z",
     "start_time": "2020-10-16T16:46:49.059549Z"
    }
   },
   "outputs": [
    {
     "data": {
      "text/plain": [
       "EventType\n",
       "Forum.Load               1026\n",
       "Forum.Post.Delete           1\n",
       "Forum.Post.Update           1\n",
       "Forum.Search                5\n",
       "Forum.Thread.Delete         3\n",
       "Forum.Thread.Follow         1\n",
       "Forum.Thread.Launch        12\n",
       "Forum.Thread.PostOn         7\n",
       "Forum.Thread.Unfollow       1\n",
       "Forum.Thread.Update         2\n",
       "Forum.Thread.Upvote         1\n",
       "Forum.Thread.View         408\n",
       "Forum.Unknown             193\n",
       "Forum.User.View             5\n",
       "dtype: int64"
      ]
     },
     "execution_count": 235,
     "metadata": {},
     "output_type": "execute_result"
    }
   ],
   "source": [
    "forum_events.groupby(\"EventType\").size()"
   ]
  },
  {
   "cell_type": "code",
   "execution_count": 184,
   "metadata": {
    "ExecuteTime": {
     "end_time": "2020-10-16T13:37:58.545476Z",
     "start_time": "2020-10-16T13:37:58.491726Z"
    }
   },
   "outputs": [
    {
     "name": "stdout",
     "output_type": "stream",
     "text": [
      "Total number of events: 1666\n"
     ]
    },
    {
     "data": {
      "text/html": [
       "<div>\n",
       "<style scoped>\n",
       "    .dataframe tbody tr th:only-of-type {\n",
       "        vertical-align: middle;\n",
       "    }\n",
       "\n",
       "    .dataframe tbody tr th {\n",
       "        vertical-align: top;\n",
       "    }\n",
       "\n",
       "    .dataframe thead th {\n",
       "        text-align: right;\n",
       "    }\n",
       "</style>\n",
       "<table border=\"1\" class=\"dataframe\">\n",
       "  <thead>\n",
       "    <tr style=\"text-align: right;\">\n",
       "      <th></th>\n",
       "      <th>Number of events</th>\n",
       "    </tr>\n",
       "    <tr>\n",
       "      <th>Year</th>\n",
       "      <th></th>\n",
       "    </tr>\n",
       "  </thead>\n",
       "  <tbody>\n",
       "    <tr>\n",
       "      <th>2017</th>\n",
       "      <td>819</td>\n",
       "    </tr>\n",
       "    <tr>\n",
       "      <th>2018</th>\n",
       "      <td>370</td>\n",
       "    </tr>\n",
       "    <tr>\n",
       "      <th>2019</th>\n",
       "      <td>477</td>\n",
       "    </tr>\n",
       "  </tbody>\n",
       "</table>\n",
       "</div>"
      ],
      "text/plain": [
       "      Number of events\n",
       "Year                  \n",
       "2017               819\n",
       "2018               370\n",
       "2019               477"
      ]
     },
     "execution_count": 184,
     "metadata": {},
     "output_type": "execute_result"
    }
   ],
   "source": [
    "print(\"Total number of events: {}\".format(len(forum_events)))\n",
    "forum_events.groupby(\"Year\").size().to_frame(name=\"Number of events\")"
   ]
  },
  {
   "cell_type": "code",
   "execution_count": 185,
   "metadata": {
    "ExecuteTime": {
     "end_time": "2020-10-16T13:38:00.653672Z",
     "start_time": "2020-10-16T13:38:00.468907Z"
    }
   },
   "outputs": [
    {
     "name": "stdout",
     "output_type": "stream",
     "text": [
      "Total number of users: 278\n",
      "Proportion of users watching the videos: 0.56\n"
     ]
    },
    {
     "data": {
      "text/html": [
       "<div>\n",
       "<style scoped>\n",
       "    .dataframe tbody tr th:only-of-type {\n",
       "        vertical-align: middle;\n",
       "    }\n",
       "\n",
       "    .dataframe tbody tr th {\n",
       "        vertical-align: top;\n",
       "    }\n",
       "\n",
       "    .dataframe thead th {\n",
       "        text-align: right;\n",
       "    }\n",
       "</style>\n",
       "<table border=\"1\" class=\"dataframe\">\n",
       "  <thead>\n",
       "    <tr style=\"text-align: right;\">\n",
       "      <th></th>\n",
       "      <th>Number of users</th>\n",
       "    </tr>\n",
       "    <tr>\n",
       "      <th>Year</th>\n",
       "      <th></th>\n",
       "    </tr>\n",
       "  </thead>\n",
       "  <tbody>\n",
       "    <tr>\n",
       "      <th>2017</th>\n",
       "      <td>71</td>\n",
       "    </tr>\n",
       "    <tr>\n",
       "      <th>2018</th>\n",
       "      <td>102</td>\n",
       "    </tr>\n",
       "    <tr>\n",
       "      <th>2019</th>\n",
       "      <td>109</td>\n",
       "    </tr>\n",
       "  </tbody>\n",
       "</table>\n",
       "</div>"
      ],
      "text/plain": [
       "      Number of users\n",
       "Year                 \n",
       "2017               71\n",
       "2018              102\n",
       "2019              109"
      ]
     },
     "execution_count": 185,
     "metadata": {},
     "output_type": "execute_result"
    }
   ],
   "source": [
    "print(\"Total number of users: {}\".format(forum_events.AccountUserID.nunique()))\n",
    "print(\"Proportion of users watching the videos: {:.2f}\".format(forum_events.AccountUserID.nunique() / video_events.AccountUserID.nunique()))\n",
    "forum_events.groupby(\"Year\").AccountUserID.nunique().to_frame(name=\"Number of users\")"
   ]
  },
  {
   "cell_type": "code",
   "execution_count": 189,
   "metadata": {
    "ExecuteTime": {
     "end_time": "2020-10-16T13:38:41.041080Z",
     "start_time": "2020-10-16T13:38:40.980694Z"
    }
   },
   "outputs": [
    {
     "name": "stdout",
     "output_type": "stream",
     "text": [
      "Total number of posts: 23\n"
     ]
    },
    {
     "data": {
      "text/html": [
       "<div>\n",
       "<style scoped>\n",
       "    .dataframe tbody tr th:only-of-type {\n",
       "        vertical-align: middle;\n",
       "    }\n",
       "\n",
       "    .dataframe tbody tr th {\n",
       "        vertical-align: top;\n",
       "    }\n",
       "\n",
       "    .dataframe thead th {\n",
       "        text-align: right;\n",
       "    }\n",
       "</style>\n",
       "<table border=\"1\" class=\"dataframe\">\n",
       "  <thead>\n",
       "    <tr style=\"text-align: right;\">\n",
       "      <th></th>\n",
       "      <th>Number of posts</th>\n",
       "    </tr>\n",
       "    <tr>\n",
       "      <th>Year</th>\n",
       "      <th></th>\n",
       "    </tr>\n",
       "  </thead>\n",
       "  <tbody>\n",
       "    <tr>\n",
       "      <th>2017</th>\n",
       "      <td>16</td>\n",
       "    </tr>\n",
       "    <tr>\n",
       "      <th>2018</th>\n",
       "      <td>3</td>\n",
       "    </tr>\n",
       "    <tr>\n",
       "      <th>2019</th>\n",
       "      <td>4</td>\n",
       "    </tr>\n",
       "  </tbody>\n",
       "</table>\n",
       "</div>"
      ],
      "text/plain": [
       "      Number of posts\n",
       "Year                 \n",
       "2017               16\n",
       "2018                3\n",
       "2019                4"
      ]
     },
     "execution_count": 189,
     "metadata": {},
     "output_type": "execute_result"
    }
   ],
   "source": [
    "print(\"Total number of posts: {}\".format(forum_events.PostID.nunique()))\n",
    "forum_events.groupby(\"Year\").PostID.nunique().to_frame(name=\"Number of posts\")"
   ]
  },
  {
   "cell_type": "code",
   "execution_count": 231,
   "metadata": {
    "ExecuteTime": {
     "end_time": "2020-10-16T13:58:10.079982Z",
     "start_time": "2020-10-16T13:58:08.334254Z"
    },
    "scrolled": false
   },
   "outputs": [
    {
     "data": {
      "image/png": "[encoded data removed]",
      "text/plain": [
       "<Figure size 1080x720 with 3 Axes>"
      ]
     },
     "metadata": {
      "needs_background": "light"
     },
     "output_type": "display_data"
    }
   ],
   "source": [
    "fig, axes = plt.subplots(3,1, figsize=((15,10)))\n",
    "for i, year in enumerate([2017,2018,2019]):\n",
    "    plot_events(forum_events, axes[i], year = year)\n",
    "fig.tight_layout()"
   ]
  },
  {
   "cell_type": "markdown",
   "metadata": {},
   "source": [
    "**Interpretation:** Comparing across the years we can notice a decrease of activity between 2017 and the following years. During 2017 we can see a distinct peak of activity right before the midterm, while there isn't any trend during 2018 and 2019."
   ]
  },
  {
   "cell_type": "code",
   "execution_count": null,
   "metadata": {},
   "outputs": [],
   "source": []
  }
 ],
 "metadata": {
  "kernelspec": {
   "display_name": "Python 3",
   "language": "python",
   "name": "python3"
  },
  "language_info": {
   "codemirror_mode": {
    "name": "ipython",
    "version": 3
   },
   "file_extension": ".py",
   "mimetype": "text/x-python",
   "name": "python",
   "nbconvert_exporter": "python",
   "pygments_lexer": "ipython3",
   "version": "3.7.1"
  },
  "toc": {
   "base_numbering": 1,
   "nav_menu": {},
   "number_sections": true,
   "sideBar": true,
   "skip_h1_title": false,
   "title_cell": "Table of Contents",
   "title_sidebar": "Contents",
   "toc_cell": false,
   "toc_position": {},
   "toc_section_display": true,
   "toc_window_display": false
  }
 },
 "nbformat": 4,
 "nbformat_minor": 2
}
