{
 "cells": [
  {
   "cell_type": "code",
   "execution_count": 1,
   "metadata": {
    "ExecuteTime": {
     "end_time": "2020-10-27T12:52:58.916073Z",
     "start_time": "2020-10-27T12:52:56.828637Z"
    }
   },
   "outputs": [
    {
     "name": "stderr",
     "output_type": "stream",
     "text": [
      "/Applications/anaconda3/lib/python3.7/site-packages/statsmodels/tools/_testing.py:19: FutureWarning: pandas.util.testing is deprecated. Use the functions in the public API at pandas.testing instead.\n",
      "  import pandas.util.testing as tm\n"
     ]
    }
   ],
   "source": [
    "#Library imports\n",
    "\n",
    "import numpy as np\n",
    "import pandas as pd\n",
    "import matplotlib.pyplot as plt\n",
    "import seaborn as sns\n",
    "sns.set_style(\"darkgrid\")\n",
    "from datetime import datetime, timedelta, date\n",
    "import time\n",
    "import sys\n",
    "import os"
   ]
  },
  {
   "cell_type": "code",
   "execution_count": 2,
   "metadata": {
    "ExecuteTime": {
     "end_time": "2020-10-27T12:52:58.933680Z",
     "start_time": "2020-10-27T12:52:58.922570Z"
    }
   },
   "outputs": [],
   "source": [
    "sys.path.append(os.path.abspath(os.path.join('..')))"
   ]
  },
  {
   "cell_type": "code",
   "execution_count": 3,
   "metadata": {
    "ExecuteTime": {
     "end_time": "2020-10-27T12:52:59.590787Z",
     "start_time": "2020-10-27T12:52:58.940007Z"
    }
   },
   "outputs": [],
   "source": [
    "%load_ext autoreload\n",
    "%autoreload 2\n",
    "\n",
    "from helpers.db_query import *"
   ]
  },
  {
   "cell_type": "markdown",
   "metadata": {},
   "source": [
    "# Flipped grades"
   ]
  },
  {
   "cell_type": "code",
   "execution_count": 4,
   "metadata": {
    "ExecuteTime": {
     "end_time": "2020-10-27T12:53:00.178191Z",
     "start_time": "2020-10-27T12:52:59.596567Z"
    },
    "scrolled": false
   },
   "outputs": [
    {
     "name": "stdout",
     "output_type": "stream",
     "text": [
      "CPU times: user 58.8 ms, sys: 9.22 ms, total: 68.1 ms\n",
      "Wall time: 481 ms\n"
     ]
    }
   ],
   "source": [
    "%time grades_df = getFlippedGrades()"
   ]
  },
  {
   "cell_type": "code",
   "execution_count": 5,
   "metadata": {
    "ExecuteTime": {
     "end_time": "2020-10-27T12:53:00.266638Z",
     "start_time": "2020-10-27T12:53:00.198255Z"
    }
   },
   "outputs": [
    {
     "name": "stdout",
     "output_type": "stream",
     "text": [
      "(419, 6)\n"
     ]
    },
    {
     "data": {
      "text/html": [
       "<div>\n",
       "<style scoped>\n",
       "    .dataframe tbody tr th:only-of-type {\n",
       "        vertical-align: middle;\n",
       "    }\n",
       "\n",
       "    .dataframe tbody tr th {\n",
       "        vertical-align: top;\n",
       "    }\n",
       "\n",
       "    .dataframe thead th {\n",
       "        text-align: right;\n",
       "    }\n",
       "</style>\n",
       "<table border=\"1\" class=\"dataframe\">\n",
       "  <thead>\n",
       "    <tr style=\"text-align: right;\">\n",
       "      <th></th>\n",
       "      <th>AcademicYear</th>\n",
       "      <th>Grade</th>\n",
       "      <th>PlanSection</th>\n",
       "      <th>PlanCursus</th>\n",
       "      <th>AccountUserID</th>\n",
       "      <th>Repentant</th>\n",
       "    </tr>\n",
       "  </thead>\n",
       "  <tbody>\n",
       "    <tr>\n",
       "      <th>0</th>\n",
       "      <td>2018-2019</td>\n",
       "      <td>5.00</td>\n",
       "      <td>Informatique</td>\n",
       "      <td>IN - Bachelor 2018</td>\n",
       "      <td>46938</td>\n",
       "      <td>0</td>\n",
       "    </tr>\n",
       "    <tr>\n",
       "      <th>1</th>\n",
       "      <td>2017-2018</td>\n",
       "      <td>4.25</td>\n",
       "      <td>Génie mécanique</td>\n",
       "      <td>GM - Bachelor 2017</td>\n",
       "      <td>8402</td>\n",
       "      <td>0</td>\n",
       "    </tr>\n",
       "    <tr>\n",
       "      <th>2</th>\n",
       "      <td>2017-2018</td>\n",
       "      <td>3.25</td>\n",
       "      <td>Génie électrique et électronique</td>\n",
       "      <td>EL - Bachelor 2017</td>\n",
       "      <td>9866</td>\n",
       "      <td>0</td>\n",
       "    </tr>\n",
       "    <tr>\n",
       "      <th>3</th>\n",
       "      <td>2018-2019</td>\n",
       "      <td>5.50</td>\n",
       "      <td>Informatique</td>\n",
       "      <td>IN - Bachelor 2018</td>\n",
       "      <td>49638</td>\n",
       "      <td>0</td>\n",
       "    </tr>\n",
       "    <tr>\n",
       "      <th>4</th>\n",
       "      <td>2017-2018</td>\n",
       "      <td>3.75</td>\n",
       "      <td>Génie mécanique</td>\n",
       "      <td>GM - Bachelor 2017</td>\n",
       "      <td>11354</td>\n",
       "      <td>0</td>\n",
       "    </tr>\n",
       "  </tbody>\n",
       "</table>\n",
       "</div>"
      ],
      "text/plain": [
       "  AcademicYear  Grade                       PlanSection          PlanCursus  \\\n",
       "0    2018-2019   5.00                      Informatique  IN - Bachelor 2018   \n",
       "1    2017-2018   4.25                   Génie mécanique  GM - Bachelor 2017   \n",
       "2    2017-2018   3.25  Génie électrique et électronique  EL - Bachelor 2017   \n",
       "3    2018-2019   5.50                      Informatique  IN - Bachelor 2018   \n",
       "4    2017-2018   3.75                   Génie mécanique  GM - Bachelor 2017   \n",
       "\n",
       "  AccountUserID  Repentant  \n",
       "0         46938          0  \n",
       "1          8402          0  \n",
       "2          9866          0  \n",
       "3         49638          0  \n",
       "4         11354          0  "
      ]
     },
     "execution_count": 5,
     "metadata": {},
     "output_type": "execute_result"
    }
   ],
   "source": [
    "print(grades_df.shape)\n",
    "grades_df.head()"
   ]
  },
  {
   "cell_type": "code",
   "execution_count": 6,
   "metadata": {
    "ExecuteTime": {
     "end_time": "2020-10-27T12:53:00.331971Z",
     "start_time": "2020-10-27T12:53:00.280873Z"
    }
   },
   "outputs": [
    {
     "data": {
      "text/plain": [
       "AcademicYear\n",
       "2017-2018     92\n",
       "2018-2019    162\n",
       "2019-2020    165\n",
       "dtype: int64"
      ]
     },
     "execution_count": 6,
     "metadata": {},
     "output_type": "execute_result"
    }
   ],
   "source": [
    "grades_df.groupby(\"AcademicYear\").size()"
   ]
  },
  {
   "cell_type": "code",
   "execution_count": 7,
   "metadata": {
    "ExecuteTime": {
     "end_time": "2020-10-27T12:53:00.405398Z",
     "start_time": "2020-10-27T12:53:00.337259Z"
    }
   },
   "outputs": [
    {
     "data": {
      "text/plain": [
       "count    419.000000\n",
       "mean       3.983294\n",
       "std        1.192463\n",
       "min        1.000000\n",
       "25%        3.250000\n",
       "50%        4.250000\n",
       "75%        5.000000\n",
       "max        6.000000\n",
       "Name: Grade, dtype: float64"
      ]
     },
     "execution_count": 7,
     "metadata": {},
     "output_type": "execute_result"
    }
   ],
   "source": [
    "grades_df.Grade.describe()"
   ]
  },
  {
   "cell_type": "code",
   "execution_count": 8,
   "metadata": {
    "ExecuteTime": {
     "end_time": "2020-10-27T12:53:00.926714Z",
     "start_time": "2020-10-27T12:53:00.410125Z"
    },
    "scrolled": true
   },
   "outputs": [
    {
     "data": {
      "image/png": "[encoded data removed]",
      "text/plain": [
       "<Figure size 432x288 with 1 Axes>"
      ]
     },
     "metadata": {
      "needs_background": "light"
     },
     "output_type": "display_data"
    }
   ],
   "source": [
    "sns.histplot(grades_df.Grade);"
   ]
  },
  {
   "cell_type": "code",
   "execution_count": 9,
   "metadata": {
    "ExecuteTime": {
     "end_time": "2020-10-27T12:53:02.207616Z",
     "start_time": "2020-10-27T12:53:00.931148Z"
    }
   },
   "outputs": [
    {
     "data": {
      "image/png": "[encoded data removed]",
      "text/plain": [
       "<Figure size 1080x360 with 3 Axes>"
      ]
     },
     "metadata": {
      "needs_background": "light"
     },
     "output_type": "display_data"
    }
   ],
   "source": [
    "fig, axes = plt.subplots(1,3,figsize=(15,5))\n",
    "for i, year in enumerate(grades_df.AcademicYear.unique()):\n",
    "    sns.histplot(grades_df.loc[grades_df.AcademicYear == year].Grade, ax=axes[i])"
   ]
  },
  {
   "cell_type": "markdown",
   "metadata": {},
   "source": [
    "# Control grades"
   ]
  },
  {
   "cell_type": "code",
   "execution_count": 10,
   "metadata": {
    "ExecuteTime": {
     "end_time": "2020-10-27T12:53:02.656774Z",
     "start_time": "2020-10-27T12:53:02.212994Z"
    }
   },
   "outputs": [
    {
     "name": "stdout",
     "output_type": "stream",
     "text": [
      "CPU times: user 52.7 ms, sys: 5.87 ms, total: 58.6 ms\n",
      "Wall time: 396 ms\n"
     ]
    }
   ],
   "source": [
    "%time control_grades_df = getControlGrades()"
   ]
  },
  {
   "cell_type": "code",
   "execution_count": 11,
   "metadata": {
    "ExecuteTime": {
     "end_time": "2020-10-27T12:53:02.796821Z",
     "start_time": "2020-10-27T12:53:02.662348Z"
    }
   },
   "outputs": [
    {
     "name": "stdout",
     "output_type": "stream",
     "text": [
      "(981, 5)\n"
     ]
    },
    {
     "data": {
      "text/html": [
       "<div>\n",
       "<style scoped>\n",
       "    .dataframe tbody tr th:only-of-type {\n",
       "        vertical-align: middle;\n",
       "    }\n",
       "\n",
       "    .dataframe tbody tr th {\n",
       "        vertical-align: top;\n",
       "    }\n",
       "\n",
       "    .dataframe thead th {\n",
       "        text-align: right;\n",
       "    }\n",
       "</style>\n",
       "<table border=\"1\" class=\"dataframe\">\n",
       "  <thead>\n",
       "    <tr style=\"text-align: right;\">\n",
       "      <th></th>\n",
       "      <th>AcademicYear</th>\n",
       "      <th>Grade</th>\n",
       "      <th>PlanSection</th>\n",
       "      <th>PlanCursus</th>\n",
       "      <th>Repentant</th>\n",
       "    </tr>\n",
       "  </thead>\n",
       "  <tbody>\n",
       "    <tr>\n",
       "      <th>0</th>\n",
       "      <td>2018-2019</td>\n",
       "      <td>4.25</td>\n",
       "      <td>Génie mécanique</td>\n",
       "      <td>GM - Bachelor 2018</td>\n",
       "      <td>1</td>\n",
       "    </tr>\n",
       "    <tr>\n",
       "      <th>1</th>\n",
       "      <td>2017-2018</td>\n",
       "      <td>3.25</td>\n",
       "      <td>Génie mécanique</td>\n",
       "      <td>GM - Bachelor 2017</td>\n",
       "      <td>0</td>\n",
       "    </tr>\n",
       "    <tr>\n",
       "      <th>2</th>\n",
       "      <td>2018-2019</td>\n",
       "      <td>5.75</td>\n",
       "      <td>Informatique</td>\n",
       "      <td>IN - Bachelor 2018</td>\n",
       "      <td>1</td>\n",
       "    </tr>\n",
       "    <tr>\n",
       "      <th>3</th>\n",
       "      <td>2017-2018</td>\n",
       "      <td>3.50</td>\n",
       "      <td>Informatique</td>\n",
       "      <td>IN - Bachelor 2017</td>\n",
       "      <td>0</td>\n",
       "    </tr>\n",
       "    <tr>\n",
       "      <th>4</th>\n",
       "      <td>2018-2019</td>\n",
       "      <td>4.50</td>\n",
       "      <td>Sciences et technologies du vivant</td>\n",
       "      <td>SV - Bachelor 2018</td>\n",
       "      <td>1</td>\n",
       "    </tr>\n",
       "  </tbody>\n",
       "</table>\n",
       "</div>"
      ],
      "text/plain": [
       "  AcademicYear  Grade                         PlanSection          PlanCursus  \\\n",
       "0    2018-2019   4.25                     Génie mécanique  GM - Bachelor 2018   \n",
       "1    2017-2018   3.25                     Génie mécanique  GM - Bachelor 2017   \n",
       "2    2018-2019   5.75                        Informatique  IN - Bachelor 2018   \n",
       "3    2017-2018   3.50                        Informatique  IN - Bachelor 2017   \n",
       "4    2018-2019   4.50  Sciences et technologies du vivant  SV - Bachelor 2018   \n",
       "\n",
       "   Repentant  \n",
       "0          1  \n",
       "1          0  \n",
       "2          1  \n",
       "3          0  \n",
       "4          1  "
      ]
     },
     "execution_count": 11,
     "metadata": {},
     "output_type": "execute_result"
    }
   ],
   "source": [
    "print(control_grades_df.shape)\n",
    "control_grades_df.head()"
   ]
  },
  {
   "cell_type": "code",
   "execution_count": 12,
   "metadata": {
    "ExecuteTime": {
     "end_time": "2020-10-27T12:53:02.845766Z",
     "start_time": "2020-10-27T12:53:02.803113Z"
    },
    "scrolled": true
   },
   "outputs": [
    {
     "data": {
      "text/plain": [
       "AcademicYear\n",
       "2015-2016      1\n",
       "2016-2017     63\n",
       "2017-2018    364\n",
       "2018-2019    262\n",
       "2019-2020    291\n",
       "dtype: int64"
      ]
     },
     "execution_count": 12,
     "metadata": {},
     "output_type": "execute_result"
    }
   ],
   "source": [
    "control_grades_df.groupby(\"AcademicYear\").size()"
   ]
  },
  {
   "cell_type": "code",
   "execution_count": 13,
   "metadata": {
    "ExecuteTime": {
     "end_time": "2020-10-27T12:53:02.928903Z",
     "start_time": "2020-10-27T12:53:02.848414Z"
    }
   },
   "outputs": [
    {
     "data": {
      "text/plain": [
       "count    981.000000\n",
       "mean       3.873089\n",
       "std        1.161873\n",
       "min        1.000000\n",
       "25%        3.000000\n",
       "50%        4.000000\n",
       "75%        4.750000\n",
       "max        6.000000\n",
       "Name: Grade, dtype: float64"
      ]
     },
     "execution_count": 13,
     "metadata": {},
     "output_type": "execute_result"
    }
   ],
   "source": [
    "control_grades_df.Grade.describe()"
   ]
  },
  {
   "cell_type": "code",
   "execution_count": 14,
   "metadata": {
    "ExecuteTime": {
     "end_time": "2020-10-27T12:53:03.645276Z",
     "start_time": "2020-10-27T12:53:02.934662Z"
    },
    "scrolled": true
   },
   "outputs": [
    {
     "data": {
      "image/png": "[encoded data removed]",
      "text/plain": [
       "<Figure size 432x288 with 1 Axes>"
      ]
     },
     "metadata": {
      "needs_background": "light"
     },
     "output_type": "display_data"
    }
   ],
   "source": [
    "sns.histplot(control_grades_df.Grade);"
   ]
  },
  {
   "cell_type": "code",
   "execution_count": 15,
   "metadata": {
    "ExecuteTime": {
     "end_time": "2020-10-27T12:53:06.002367Z",
     "start_time": "2020-10-27T12:53:03.649015Z"
    }
   },
   "outputs": [
    {
     "data": {
      "image/png": "[encoded data removed]",
      "text/plain": [
       "<Figure size 1080x360 with 5 Axes>"
      ]
     },
     "metadata": {
      "needs_background": "light"
     },
     "output_type": "display_data"
    }
   ],
   "source": [
    "fig, axes = plt.subplots(1,control_grades_df.AcademicYear.nunique(),figsize=(15,5))\n",
    "for i, year in enumerate(sorted(control_grades_df.AcademicYear.unique())):\n",
    "    sns.histplot(control_grades_df.loc[control_grades_df.AcademicYear == year].Grade, ax=axes[i])\n",
    "    axes[i].set_title(year)\n",
    "fig.tight_layout()"
   ]
  },
  {
   "cell_type": "markdown",
   "metadata": {},
   "source": [
    "# Integrate only students registered on isa"
   ]
  },
  {
   "cell_type": "markdown",
   "metadata": {},
   "source": [
    "## Videos"
   ]
  },
  {
   "cell_type": "code",
   "execution_count": 33,
   "metadata": {
    "ExecuteTime": {
     "end_time": "2020-10-27T13:54:25.392195Z",
     "start_time": "2020-10-27T13:53:59.649224Z"
    },
    "scrolled": true
   },
   "outputs": [
    {
     "name": "stdout",
     "output_type": "stream",
     "text": [
      "CPU times: user 21.5 s, sys: 1.9 s, total: 23.4 s\n",
      "Wall time: 25.5 s\n"
     ]
    }
   ],
   "source": [
    "%time videos_df = getVideoEvents(isa_only=False)"
   ]
  },
  {
   "cell_type": "code",
   "execution_count": 34,
   "metadata": {
    "ExecuteTime": {
     "end_time": "2020-10-27T13:54:53.426402Z",
     "start_time": "2020-10-27T13:54:25.397498Z"
    },
    "scrolled": true
   },
   "outputs": [
    {
     "name": "stdout",
     "output_type": "stream",
     "text": [
      "CPU times: user 24.5 s, sys: 1.54 s, total: 26 s\n",
      "Wall time: 27.9 s\n"
     ]
    }
   ],
   "source": [
    "%time isa_videos_df = getVideoEvents()"
   ]
  },
  {
   "cell_type": "code",
   "execution_count": 35,
   "metadata": {
    "ExecuteTime": {
     "end_time": "2020-10-27T13:54:53.814743Z",
     "start_time": "2020-10-27T13:54:53.433932Z"
    }
   },
   "outputs": [
    {
     "name": "stdout",
     "output_type": "stream",
     "text": [
      "Filtering removed 37758 events and 89 users\n"
     ]
    }
   ],
   "source": [
    "event_diff = len(videos_df) - len(isa_videos_df)\n",
    "user_diff = videos_df.AccountUserID.nunique() - isa_videos_df.AccountUserID.nunique()\n",
    "print(\"Filtering removed {} events and {} users\".format(event_diff, user_diff))"
   ]
  },
  {
   "cell_type": "code",
   "execution_count": 36,
   "metadata": {
    "ExecuteTime": {
     "end_time": "2020-10-27T13:54:55.219194Z",
     "start_time": "2020-10-27T13:54:53.823946Z"
    },
    "scrolled": true
   },
   "outputs": [
    {
     "data": {
      "text/plain": [
       "Year\n",
       "2017     91\n",
       "2018    161\n",
       "2019    159\n",
       "dtype: int64"
      ]
     },
     "execution_count": 36,
     "metadata": {},
     "output_type": "execute_result"
    }
   ],
   "source": [
    "isa_videos_df.drop_duplicates(\"AccountUserID\").groupby(\"Year\").size()"
   ]
  },
  {
   "cell_type": "markdown",
   "metadata": {},
   "source": [
    "## Problems"
   ]
  },
  {
   "cell_type": "code",
   "execution_count": 37,
   "metadata": {
    "ExecuteTime": {
     "end_time": "2020-10-27T13:55:11.211118Z",
     "start_time": "2020-10-27T13:54:55.225747Z"
    }
   },
   "outputs": [
    {
     "name": "stdout",
     "output_type": "stream",
     "text": [
      "CPU times: user 12.3 s, sys: 894 ms, total: 13.2 s\n",
      "Wall time: 15.9 s\n"
     ]
    }
   ],
   "source": [
    "%time problems_df = getProblemEvents(isa_only=False)"
   ]
  },
  {
   "cell_type": "code",
   "execution_count": 38,
   "metadata": {
    "ExecuteTime": {
     "end_time": "2020-10-27T13:55:26.347194Z",
     "start_time": "2020-10-27T13:55:11.214489Z"
    }
   },
   "outputs": [
    {
     "name": "stdout",
     "output_type": "stream",
     "text": [
      "CPU times: user 11.9 s, sys: 812 ms, total: 12.7 s\n",
      "Wall time: 15.1 s\n"
     ]
    }
   ],
   "source": [
    "%time isa_problems_df = getProblemEvents()"
   ]
  },
  {
   "cell_type": "code",
   "execution_count": 39,
   "metadata": {
    "ExecuteTime": {
     "end_time": "2020-10-27T13:55:26.564625Z",
     "start_time": "2020-10-27T13:55:26.353868Z"
    }
   },
   "outputs": [
    {
     "name": "stdout",
     "output_type": "stream",
     "text": [
      "Filtering removed 13917 events and 50 users\n"
     ]
    }
   ],
   "source": [
    "event_diff = len(problems_df) - len(isa_problems_df)\n",
    "user_diff = problems_df.AccountUserID.nunique() - isa_problems_df.AccountUserID.nunique()\n",
    "print(\"Filtering removed {} events and {} users\".format(event_diff, user_diff))"
   ]
  },
  {
   "cell_type": "markdown",
   "metadata": {},
   "source": [
    "# Missing data inspection"
   ]
  },
  {
   "cell_type": "code",
   "execution_count": 43,
   "metadata": {
    "ExecuteTime": {
     "end_time": "2020-10-27T13:59:10.606602Z",
     "start_time": "2020-10-27T13:59:10.533214Z"
    }
   },
   "outputs": [],
   "source": [
    "def _getGrades(flipped = True):\n",
    "    columns = ['StudentSCIPER', 'AcademicYear', 'Grade', 'PlanSection', 'PlanCursus']\n",
    "    query = \"\"\" SELECT distinct {} FROM project_himanshu.Bachelor_Master_Results\n",
    "            \"\"\".format(\", \".join(columns))\n",
    "    if flipped:\n",
    "        query += \"WHERE TeacherSCIPER = 121157 AND SubjectName = 'Algèbre linéaire (classe inversée)'\"\n",
    "    else:\n",
    "        query += \"WHERE SubjectName = 'Algèbre linéaire'\"\n",
    "    sciper_df = queryDB(query, columns)\n",
    "    print(\"Raw grades\", len(sciper_df))\n",
    "   \n",
    "    \n",
    "    print(\"\\tNb of null grades\", pd.isna(sciper_df.Grade).sum())\n",
    "    sciper_df = sciper_df[~pd.isna(sciper_df).any(axis=1)] # Drop NaN\n",
    "    \n",
    "    print(\"\\tNb of STATUT_NOTE_NA\", (sciper_df.Grade == \"STATUT_NOTE_NA\").sum())\n",
    "    sciper_df = sciper_df[sciper_df.Grade != \"STATUT_NOTE_NA\"] # Drop grade NA\n",
    "    \n",
    "    print(\"\\tNb of STATUT_NOTE_M\", (sciper_df.Grade == \"STATUT_NOTE_M\").sum())\n",
    "    sciper_df = sciper_df[sciper_df.Grade != \"STATUT_NOTE_M\"] # Drop grade M\n",
    "    \n",
    "    print(\"\\tNb of repeater\", sciper_df.duplicated([\"StudentSCIPER\"]).sum(axis=0))\n",
    "    sciper_df.Grade = pd.to_numeric(sciper_df.Grade) # Convert grades to Float\n",
    "    \n",
    "    return sciper_df\n",
    "\n",
    "def _getMapping():\n",
    "    columns = ['AccountUserID', 'SCIPER']\n",
    "    query = \"\"\" SELECT {} FROM project_himanshu.MOOC_ISA_Person_Mapping\"\"\".format(\", \".join(columns))\n",
    "    mapping = queryDB(query, columns)\n",
    "    return mapping\n",
    "\n",
    "def _getStudentCondition(flipped=True):\n",
    "    CONDITION_MAPPING_PATH = '../data/lin_alg_moodle/Volunteer-Flipped-Proj.csv'\n",
    "    conditions_df = pd.read_csv(CONDITION_MAPPING_PATH, index_col=0)\n",
    "    # Return either the flipped or the control group\n",
    "    conditions_df = conditions_df.loc[conditions_df.Condition == (\"Flipped\" if flipped else \"Control\")]\n",
    "    # Remove useless columns and remove duplicates (since a student can take the course during different years)\n",
    "    conditions_df = conditions_df.drop(columns=[\"Course.Year\", \"Condition\"]).drop_duplicates()\n",
    "    return conditions_df\n",
    "\n",
    "def _labelRepeaters(df):\n",
    "    df[\"Repeater\"] = 0\n",
    "    #Sort by academic year so that only second year is labeled repeater\n",
    "    df.loc[df.sort_values(by=\"AcademicYear\").duplicated(\"StudentSCIPER\"),\"Repeater\"] = 1\n",
    "    return df"
   ]
  },
  {
   "cell_type": "code",
   "execution_count": 46,
   "metadata": {
    "ExecuteTime": {
     "end_time": "2020-10-27T13:59:37.426104Z",
     "start_time": "2020-10-27T13:59:37.363282Z"
    }
   },
   "outputs": [],
   "source": [
    "def _getFlippedGrades():\n",
    "    conditions_df = _getStudentCondition() # 504\n",
    "    print(\"Nb students in flipped group\",len(conditions_df))\n",
    "    \n",
    "    sciper_df = _getGrades() # 420\n",
    "    print(\"Filtered grades (with repeater)\",len(sciper_df))\n",
    "    \n",
    "    sciper_df = sciper_df.merge(conditions_df, left_on='StudentSCIPER', right_on=\"SCIPER\") #420\n",
    "    mapping = _getMapping() #1123\n",
    "    userID_df = sciper_df.merge(mapping) #419\n",
    "    print(\"Student not included in mapping:\", len(sciper_df.SCIPER[~sciper_df.SCIPER.isin(mapping.SCIPER)].dropna(how = 'all')))\n",
    "    print(\"Final number of flipped grades\", len(userID_df))\n",
    "    \n",
    "    userID_df = _labelRepeaters(userID_df)\n",
    "    userID_df.drop(columns=['StudentSCIPER', 'SCIPER'], inplace=True)  \n",
    "    return userID_df"
   ]
  },
  {
   "cell_type": "code",
   "execution_count": 47,
   "metadata": {
    "ExecuteTime": {
     "end_time": "2020-10-27T13:59:38.044991Z",
     "start_time": "2020-10-27T13:59:37.610019Z"
    }
   },
   "outputs": [
    {
     "name": "stdout",
     "output_type": "stream",
     "text": [
      "Nb students in flipped group 504\n",
      "Raw grades 446\n",
      "\tNb of null grades 9\n",
      "\tNb of STATUT_NOTE_NA 15\n",
      "\tNb of STATUT_NOTE_M 2\n",
      "\tNb of repeater 7\n",
      "Filtered grades (with repeater) 420\n",
      "Student not included in mapping: 1\n",
      "Final number of flipped grades 419\n"
     ]
    }
   ],
   "source": [
    "_getFlippedGrades();"
   ]
  },
  {
   "cell_type": "code",
   "execution_count": 48,
   "metadata": {
    "ExecuteTime": {
     "end_time": "2020-10-27T13:59:40.018161Z",
     "start_time": "2020-10-27T13:59:39.968853Z"
    }
   },
   "outputs": [],
   "source": [
    "def _getControlGrades():\n",
    "    conditions_df = _getStudentCondition(flipped=False) # Get the Control group list of SCIPER\n",
    "    print(\"Nb students in control group\",len(conditions_df))\n",
    "    sciper_df = _getGrades(flipped=False) # Get the grades by SCIPER\n",
    "    print(\"Filtered grades (keeping repeaters)\", len(sciper_df))\n",
    "    # Keep only Control students\n",
    "    print(\"Student not included in the control group:\", len(sciper_df.StudentSCIPER[~sciper_df.StudentSCIPER.isin(conditions_df.SCIPER)].dropna(how = 'all')))\n",
    "    sciper_df = sciper_df.merge(conditions_df, left_on='StudentSCIPER', right_on=\"SCIPER\")\n",
    "    sciper_df = labelRepeaters(sciper_df)\n",
    "    sciper_df.drop(columns=['StudentSCIPER', 'SCIPER'], inplace=True)\n",
    "    print(\"Final number of control grades\", len(sciper_df))\n",
    "    return sciper_df"
   ]
  },
  {
   "cell_type": "code",
   "execution_count": 49,
   "metadata": {
    "ExecuteTime": {
     "end_time": "2020-10-27T13:59:41.878911Z",
     "start_time": "2020-10-27T13:59:41.383592Z"
    },
    "scrolled": true
   },
   "outputs": [
    {
     "name": "stdout",
     "output_type": "stream",
     "text": [
      "Nb students in control group 896\n",
      "Raw grades 1195\n",
      "\tNb of null grades 12\n",
      "\tNb of STATUT_NOTE_NA 15\n",
      "\tNb of STATUT_NOTE_M 9\n",
      "\tNb of repeater 221\n",
      "Filtered grades (keeping repeaters) 1159\n",
      "Student not included in the control group: 178\n",
      "Final number of control grades 981\n"
     ]
    }
   ],
   "source": [
    "grades = _getControlGrades();"
   ]
  },
  {
   "cell_type": "markdown",
   "metadata": {},
   "source": [
    "# Repeater grades mapping between ISA and Courseware"
   ]
  },
  {
   "cell_type": "code",
   "execution_count": 50,
   "metadata": {
    "ExecuteTime": {
     "end_time": "2020-10-27T13:59:43.447637Z",
     "start_time": "2020-10-27T13:59:42.693090Z"
    }
   },
   "outputs": [
    {
     "data": {
      "text/html": [
       "<div>\n",
       "<style scoped>\n",
       "    .dataframe tbody tr th:only-of-type {\n",
       "        vertical-align: middle;\n",
       "    }\n",
       "\n",
       "    .dataframe tbody tr th {\n",
       "        vertical-align: top;\n",
       "    }\n",
       "\n",
       "    .dataframe thead th {\n",
       "        text-align: right;\n",
       "    }\n",
       "</style>\n",
       "<table border=\"1\" class=\"dataframe\">\n",
       "  <thead>\n",
       "    <tr style=\"text-align: right;\">\n",
       "      <th></th>\n",
       "      <th>AccountUserID</th>\n",
       "      <th>Timestamp</th>\n",
       "      <th>Year</th>\n",
       "      <th>Week</th>\n",
       "      <th>Weekday</th>\n",
       "    </tr>\n",
       "  </thead>\n",
       "  <tbody>\n",
       "    <tr>\n",
       "      <th>32</th>\n",
       "      <td>10391</td>\n",
       "      <td>1505077076</td>\n",
       "      <td>2017</td>\n",
       "      <td>36</td>\n",
       "      <td>07</td>\n",
       "    </tr>\n",
       "    <tr>\n",
       "      <th>33</th>\n",
       "      <td>10391</td>\n",
       "      <td>1536245224</td>\n",
       "      <td>2018</td>\n",
       "      <td>36</td>\n",
       "      <td>04</td>\n",
       "    </tr>\n",
       "    <tr>\n",
       "      <th>144</th>\n",
       "      <td>45162</td>\n",
       "      <td>1536245228</td>\n",
       "      <td>2018</td>\n",
       "      <td>36</td>\n",
       "      <td>04</td>\n",
       "    </tr>\n",
       "    <tr>\n",
       "      <th>145</th>\n",
       "      <td>45162</td>\n",
       "      <td>1567423917</td>\n",
       "      <td>2019</td>\n",
       "      <td>36</td>\n",
       "      <td>01</td>\n",
       "    </tr>\n",
       "    <tr>\n",
       "      <th>221</th>\n",
       "      <td>45327</td>\n",
       "      <td>1536245222</td>\n",
       "      <td>2018</td>\n",
       "      <td>36</td>\n",
       "      <td>04</td>\n",
       "    </tr>\n",
       "    <tr>\n",
       "      <th>222</th>\n",
       "      <td>45327</td>\n",
       "      <td>1567423935</td>\n",
       "      <td>2019</td>\n",
       "      <td>36</td>\n",
       "      <td>01</td>\n",
       "    </tr>\n",
       "    <tr>\n",
       "      <th>131</th>\n",
       "      <td>45459</td>\n",
       "      <td>1536245225</td>\n",
       "      <td>2018</td>\n",
       "      <td>36</td>\n",
       "      <td>04</td>\n",
       "    </tr>\n",
       "    <tr>\n",
       "      <th>132</th>\n",
       "      <td>45459</td>\n",
       "      <td>1567423915</td>\n",
       "      <td>2019</td>\n",
       "      <td>36</td>\n",
       "      <td>01</td>\n",
       "    </tr>\n",
       "    <tr>\n",
       "      <th>103</th>\n",
       "      <td>45954</td>\n",
       "      <td>1536245224</td>\n",
       "      <td>2018</td>\n",
       "      <td>36</td>\n",
       "      <td>04</td>\n",
       "    </tr>\n",
       "    <tr>\n",
       "      <th>104</th>\n",
       "      <td>45954</td>\n",
       "      <td>1567423936</td>\n",
       "      <td>2019</td>\n",
       "      <td>36</td>\n",
       "      <td>01</td>\n",
       "    </tr>\n",
       "    <tr>\n",
       "      <th>118</th>\n",
       "      <td>47274</td>\n",
       "      <td>1536438320</td>\n",
       "      <td>2018</td>\n",
       "      <td>36</td>\n",
       "      <td>06</td>\n",
       "    </tr>\n",
       "    <tr>\n",
       "      <th>119</th>\n",
       "      <td>47274</td>\n",
       "      <td>1567423938</td>\n",
       "      <td>2019</td>\n",
       "      <td>36</td>\n",
       "      <td>01</td>\n",
       "    </tr>\n",
       "    <tr>\n",
       "      <th>191</th>\n",
       "      <td>47979</td>\n",
       "      <td>1536700151</td>\n",
       "      <td>2018</td>\n",
       "      <td>37</td>\n",
       "      <td>02</td>\n",
       "    </tr>\n",
       "    <tr>\n",
       "      <th>192</th>\n",
       "      <td>47979</td>\n",
       "      <td>1567423918</td>\n",
       "      <td>2019</td>\n",
       "      <td>36</td>\n",
       "      <td>01</td>\n",
       "    </tr>\n",
       "    <tr>\n",
       "      <th>164</th>\n",
       "      <td>52524</td>\n",
       "      <td>1539155598</td>\n",
       "      <td>2018</td>\n",
       "      <td>41</td>\n",
       "      <td>03</td>\n",
       "    </tr>\n",
       "    <tr>\n",
       "      <th>165</th>\n",
       "      <td>52524</td>\n",
       "      <td>1567423915</td>\n",
       "      <td>2019</td>\n",
       "      <td>36</td>\n",
       "      <td>01</td>\n",
       "    </tr>\n",
       "  </tbody>\n",
       "</table>\n",
       "</div>"
      ],
      "text/plain": [
       "    AccountUserID   Timestamp  Year Week Weekday\n",
       "32          10391  1505077076  2017   36      07\n",
       "33          10391  1536245224  2018   36      04\n",
       "144         45162  1536245228  2018   36      04\n",
       "145         45162  1567423917  2019   36      01\n",
       "221         45327  1536245222  2018   36      04\n",
       "222         45327  1567423935  2019   36      01\n",
       "131         45459  1536245225  2018   36      04\n",
       "132         45459  1567423915  2019   36      01\n",
       "103         45954  1536245224  2018   36      04\n",
       "104         45954  1567423936  2019   36      01\n",
       "118         47274  1536438320  2018   36      06\n",
       "119         47274  1567423938  2019   36      01\n",
       "191         47979  1536700151  2018   37      02\n",
       "192         47979  1567423918  2019   36      01\n",
       "164         52524  1539155598  2018   41      03\n",
       "165         52524  1567423915  2019   36      01"
      ]
     },
     "execution_count": 50,
     "metadata": {},
     "output_type": "execute_result"
    }
   ],
   "source": [
    "user_info = getUserInfo()\n",
    "cw_repeaters = user_info[user_info.duplicated(\"AccountUserID\")].AccountUserID.values\n",
    "cw_repeaters = user_info.loc[user_info.AccountUserID.isin(cw_repeaters)].sort_values(by=[\"AccountUserID\",\"Year\"])\n",
    "cw_repeaters"
   ]
  },
  {
   "cell_type": "code",
   "execution_count": 51,
   "metadata": {
    "ExecuteTime": {
     "end_time": "2020-10-27T13:59:44.635526Z",
     "start_time": "2020-10-27T13:59:43.458646Z"
    }
   },
   "outputs": [
    {
     "data": {
      "text/html": [
       "<div>\n",
       "<style scoped>\n",
       "    .dataframe tbody tr th:only-of-type {\n",
       "        vertical-align: middle;\n",
       "    }\n",
       "\n",
       "    .dataframe tbody tr th {\n",
       "        vertical-align: top;\n",
       "    }\n",
       "\n",
       "    .dataframe thead th {\n",
       "        text-align: right;\n",
       "    }\n",
       "</style>\n",
       "<table border=\"1\" class=\"dataframe\">\n",
       "  <thead>\n",
       "    <tr style=\"text-align: right;\">\n",
       "      <th></th>\n",
       "      <th>AcademicYear</th>\n",
       "      <th>Grade</th>\n",
       "      <th>PlanSection</th>\n",
       "      <th>PlanCursus</th>\n",
       "      <th>AccountUserID</th>\n",
       "      <th>Repeater</th>\n",
       "    </tr>\n",
       "  </thead>\n",
       "  <tbody>\n",
       "    <tr>\n",
       "      <th>111</th>\n",
       "      <td>2017-2018</td>\n",
       "      <td>3.25</td>\n",
       "      <td>Sciences et technologies du vivant</td>\n",
       "      <td>SV - Bachelor 2017</td>\n",
       "      <td>10391</td>\n",
       "      <td>0</td>\n",
       "    </tr>\n",
       "    <tr>\n",
       "      <th>112</th>\n",
       "      <td>2018-2019</td>\n",
       "      <td>4.50</td>\n",
       "      <td>Sciences et technologies du vivant</td>\n",
       "      <td>SV - Bachelor 2018</td>\n",
       "      <td>10391</td>\n",
       "      <td>1</td>\n",
       "    </tr>\n",
       "    <tr>\n",
       "      <th>176</th>\n",
       "      <td>2018-2019</td>\n",
       "      <td>3.00</td>\n",
       "      <td>Informatique</td>\n",
       "      <td>IN - Bachelor 2018</td>\n",
       "      <td>45162</td>\n",
       "      <td>0</td>\n",
       "    </tr>\n",
       "    <tr>\n",
       "      <th>177</th>\n",
       "      <td>2019-2020</td>\n",
       "      <td>4.00</td>\n",
       "      <td>Informatique</td>\n",
       "      <td>IN - Bachelor 2019</td>\n",
       "      <td>45162</td>\n",
       "      <td>1</td>\n",
       "    </tr>\n",
       "    <tr>\n",
       "      <th>194</th>\n",
       "      <td>2018-2019</td>\n",
       "      <td>2.50</td>\n",
       "      <td>Sciences et technologies du vivant</td>\n",
       "      <td>SV - Bachelor 2018</td>\n",
       "      <td>45327</td>\n",
       "      <td>0</td>\n",
       "    </tr>\n",
       "    <tr>\n",
       "      <th>195</th>\n",
       "      <td>2019-2020</td>\n",
       "      <td>5.00</td>\n",
       "      <td>Ingénierie des sciences du vivant</td>\n",
       "      <td>SV - Bachelor 2019</td>\n",
       "      <td>45327</td>\n",
       "      <td>1</td>\n",
       "    </tr>\n",
       "    <tr>\n",
       "      <th>243</th>\n",
       "      <td>2018-2019</td>\n",
       "      <td>3.00</td>\n",
       "      <td>Microtechnique</td>\n",
       "      <td>MT - Bachelor 2018</td>\n",
       "      <td>45459</td>\n",
       "      <td>0</td>\n",
       "    </tr>\n",
       "    <tr>\n",
       "      <th>244</th>\n",
       "      <td>2019-2020</td>\n",
       "      <td>4.75</td>\n",
       "      <td>Microtechnique</td>\n",
       "      <td>MT - Bachelor 2019</td>\n",
       "      <td>45459</td>\n",
       "      <td>1</td>\n",
       "    </tr>\n",
       "    <tr>\n",
       "      <th>263</th>\n",
       "      <td>2018-2019</td>\n",
       "      <td>2.25</td>\n",
       "      <td>Microtechnique</td>\n",
       "      <td>MT - Bachelor 2018</td>\n",
       "      <td>45954</td>\n",
       "      <td>0</td>\n",
       "    </tr>\n",
       "    <tr>\n",
       "      <th>264</th>\n",
       "      <td>2019-2020</td>\n",
       "      <td>4.00</td>\n",
       "      <td>Microtechnique</td>\n",
       "      <td>MT - Bachelor 2019</td>\n",
       "      <td>45954</td>\n",
       "      <td>1</td>\n",
       "    </tr>\n",
       "    <tr>\n",
       "      <th>275</th>\n",
       "      <td>2018-2019</td>\n",
       "      <td>3.50</td>\n",
       "      <td>Microtechnique</td>\n",
       "      <td>MT - Bachelor 2018</td>\n",
       "      <td>47274</td>\n",
       "      <td>0</td>\n",
       "    </tr>\n",
       "    <tr>\n",
       "      <th>276</th>\n",
       "      <td>2019-2020</td>\n",
       "      <td>5.25</td>\n",
       "      <td>Microtechnique</td>\n",
       "      <td>MT - Bachelor 2019</td>\n",
       "      <td>47274</td>\n",
       "      <td>1</td>\n",
       "    </tr>\n",
       "    <tr>\n",
       "      <th>269</th>\n",
       "      <td>2018-2019</td>\n",
       "      <td>3.00</td>\n",
       "      <td>Microtechnique</td>\n",
       "      <td>MT - Bachelor 2018</td>\n",
       "      <td>47979</td>\n",
       "      <td>0</td>\n",
       "    </tr>\n",
       "    <tr>\n",
       "      <th>270</th>\n",
       "      <td>2019-2020</td>\n",
       "      <td>5.75</td>\n",
       "      <td>Microtechnique</td>\n",
       "      <td>MT - Bachelor 2019</td>\n",
       "      <td>47979</td>\n",
       "      <td>1</td>\n",
       "    </tr>\n",
       "  </tbody>\n",
       "</table>\n",
       "</div>"
      ],
      "text/plain": [
       "    AcademicYear  Grade                         PlanSection  \\\n",
       "111    2017-2018   3.25  Sciences et technologies du vivant   \n",
       "112    2018-2019   4.50  Sciences et technologies du vivant   \n",
       "176    2018-2019   3.00                        Informatique   \n",
       "177    2019-2020   4.00                        Informatique   \n",
       "194    2018-2019   2.50  Sciences et technologies du vivant   \n",
       "195    2019-2020   5.00   Ingénierie des sciences du vivant   \n",
       "243    2018-2019   3.00                      Microtechnique   \n",
       "244    2019-2020   4.75                      Microtechnique   \n",
       "263    2018-2019   2.25                      Microtechnique   \n",
       "264    2019-2020   4.00                      Microtechnique   \n",
       "275    2018-2019   3.50                      Microtechnique   \n",
       "276    2019-2020   5.25                      Microtechnique   \n",
       "269    2018-2019   3.00                      Microtechnique   \n",
       "270    2019-2020   5.75                      Microtechnique   \n",
       "\n",
       "             PlanCursus AccountUserID  Repeater  \n",
       "111  SV - Bachelor 2017         10391         0  \n",
       "112  SV - Bachelor 2018         10391         1  \n",
       "176  IN - Bachelor 2018         45162         0  \n",
       "177  IN - Bachelor 2019         45162         1  \n",
       "194  SV - Bachelor 2018         45327         0  \n",
       "195  SV - Bachelor 2019         45327         1  \n",
       "243  MT - Bachelor 2018         45459         0  \n",
       "244  MT - Bachelor 2019         45459         1  \n",
       "263  MT - Bachelor 2018         45954         0  \n",
       "264  MT - Bachelor 2019         45954         1  \n",
       "275  MT - Bachelor 2018         47274         0  \n",
       "276  MT - Bachelor 2019         47274         1  \n",
       "269  MT - Bachelor 2018         47979         0  \n",
       "270  MT - Bachelor 2019         47979         1  "
      ]
     },
     "execution_count": 51,
     "metadata": {},
     "output_type": "execute_result"
    }
   ],
   "source": [
    "grades = getFlippedGrades()\n",
    "isa_repeaters = grades[grades.duplicated(\"AccountUserID\")].AccountUserID.values\n",
    "isa_repeaters = grades.loc[grades.AccountUserID.isin(isa_repeaters)].sort_values(by=[\"AccountUserID\",\"AcademicYear\"])\n",
    "isa_repeaters"
   ]
  },
  {
   "cell_type": "code",
   "execution_count": null,
   "metadata": {},
   "outputs": [],
   "source": []
  }
 ],
 "metadata": {
  "kernelspec": {
   "display_name": "Python 3",
   "language": "python",
   "name": "python3"
  },
  "language_info": {
   "codemirror_mode": {
    "name": "ipython",
    "version": 3
   },
   "file_extension": ".py",
   "mimetype": "text/x-python",
   "name": "python",
   "nbconvert_exporter": "python",
   "pygments_lexer": "ipython3",
   "version": "3.7.1"
  },
  "toc": {
   "base_numbering": 1,
   "nav_menu": {},
   "number_sections": true,
   "sideBar": true,
   "skip_h1_title": false,
   "title_cell": "Table of Contents",
   "title_sidebar": "Contents",
   "toc_cell": false,
   "toc_position": {},
   "toc_section_display": true,
   "toc_window_display": false
  }
 },
 "nbformat": 4,
 "nbformat_minor": 2
}
