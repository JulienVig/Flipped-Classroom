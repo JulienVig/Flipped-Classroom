{
 "cells": [
  {
   "cell_type": "markdown",
   "metadata": {
    "ExecuteTime": {
     "end_time": "2020-10-02T07:27:16.279419Z",
     "start_time": "2020-10-02T07:27:06.260336Z"
    }
   },
   "source": [
    "# Data Clustering and Classification "
   ]
  },
  {
   "cell_type": "markdown",
   "metadata": {},
   "source": [
    "Load packages and configuration modules"
   ]
  },
  {
   "cell_type": "code",
   "execution_count": 101,
   "metadata": {},
   "outputs": [],
   "source": [
    "from sklearn.metrics import accuracy_score, precision_score, recall_score\n",
    "from sklearn.model_selection import train_test_split\n",
    "from sklearn.metrics import plot_confusion_matrix\n",
    "from sklearn.preprocessing import StandardScaler\n",
    "from datetime import datetime, timedelta, date\n",
    "from sklearn.metrics import silhouette_score\n",
    "from sklearn.metrics import confusion_matrix\n",
    "from sklearn.decomposition import PCA\n",
    "from sklearn.cluster import KMeans\n",
    "from sklearn import svm\n",
    "from tqdm import tqdm\n",
    "import seaborn as sns\n",
    "import pandas as pd\n",
    "import numpy as np\n",
    "import time\n",
    "import sys\n",
    "import os"
   ]
  },
  {
   "cell_type": "code",
   "execution_count": 2,
   "metadata": {},
   "outputs": [],
   "source": [
    "sys.path.append(os.path.abspath(os.path.join('..')))"
   ]
  },
  {
   "cell_type": "code",
   "execution_count": 3,
   "metadata": {
    "ExecuteTime": {
     "end_time": "2020-10-02T07:27:16.439430Z",
     "start_time": "2020-10-02T07:27:16.283638Z"
    }
   },
   "outputs": [],
   "source": [
    "from helpers.db_connector import MySQLConnector\n",
    "from helpers.data_process import *\n",
    "from helpers.plotting import *\n",
    "from helpers.db_query import *"
   ]
  },
  {
   "cell_type": "markdown",
   "metadata": {},
   "source": [
    "## Data Preprocessing"
   ]
  },
  {
   "cell_type": "code",
   "execution_count": 4,
   "metadata": {},
   "outputs": [
    {
     "name": "stdout",
     "output_type": "stream",
     "text": [
      "Wall time: 10.8 s\n"
     ]
    }
   ],
   "source": [
    "%time video_events = getVideoEvents(mode='base')"
   ]
  },
  {
   "cell_type": "code",
   "execution_count": 5,
   "metadata": {},
   "outputs": [
    {
     "name": "stdout",
     "output_type": "stream",
     "text": [
      "Wall time: 10.1 s\n"
     ]
    }
   ],
   "source": [
    "%time video_events = delRepentants(video_events)"
   ]
  },
  {
   "cell_type": "code",
   "execution_count": 6,
   "metadata": {},
   "outputs": [
    {
     "name": "stdout",
     "output_type": "stream",
     "text": [
      "Wall time: 1.26 s\n"
     ]
    }
   ],
   "source": [
    "%time video_events = delLessActive(video_events)"
   ]
  },
  {
   "cell_type": "code",
   "execution_count": 7,
   "metadata": {},
   "outputs": [
    {
     "data": {
      "text/html": [
       "<div>\n",
       "<style scoped>\n",
       "    .dataframe tbody tr th:only-of-type {\n",
       "        vertical-align: middle;\n",
       "    }\n",
       "\n",
       "    .dataframe tbody tr th {\n",
       "        vertical-align: top;\n",
       "    }\n",
       "\n",
       "    .dataframe thead th {\n",
       "        text-align: right;\n",
       "    }\n",
       "</style>\n",
       "<table border=\"1\" class=\"dataframe\">\n",
       "  <thead>\n",
       "    <tr style=\"text-align: right;\">\n",
       "      <th></th>\n",
       "      <th>AccountUserID</th>\n",
       "      <th>Count</th>\n",
       "      <th>DataPackageID</th>\n",
       "      <th>VideoID</th>\n",
       "      <th>TimeStamp</th>\n",
       "      <th>EventType</th>\n",
       "      <th>Year</th>\n",
       "    </tr>\n",
       "  </thead>\n",
       "  <tbody>\n",
       "    <tr>\n",
       "      <th>0</th>\n",
       "      <td>10094</td>\n",
       "      <td>98</td>\n",
       "      <td>EPFL-AlgebreLineaire-2017_T3</td>\n",
       "      <td>bd22143ef4524edfb0dbab0fbb275ca7</td>\n",
       "      <td>1513259282</td>\n",
       "      <td>Video.Play</td>\n",
       "      <td>2017</td>\n",
       "    </tr>\n",
       "    <tr>\n",
       "      <th>1</th>\n",
       "      <td>10094</td>\n",
       "      <td>98</td>\n",
       "      <td>EPFL-AlgebreLineaire-2017_T3</td>\n",
       "      <td>6f7c4414324047a4b9d12a1d87d5875e</td>\n",
       "      <td>1510064721</td>\n",
       "      <td>Video.Load</td>\n",
       "      <td>2017</td>\n",
       "    </tr>\n",
       "    <tr>\n",
       "      <th>2</th>\n",
       "      <td>10094</td>\n",
       "      <td>98</td>\n",
       "      <td>EPFL-AlgebreLineaire-2017_T3</td>\n",
       "      <td>97b12bced6d649a2bca7465b246a1b0f</td>\n",
       "      <td>1513088547</td>\n",
       "      <td>Video.Pause</td>\n",
       "      <td>2017</td>\n",
       "    </tr>\n",
       "    <tr>\n",
       "      <th>3</th>\n",
       "      <td>10094</td>\n",
       "      <td>98</td>\n",
       "      <td>EPFL-AlgebreLineaire-2017_T3</td>\n",
       "      <td>73f3f756e43047c0b161c9ea29fb08a2</td>\n",
       "      <td>1508761566</td>\n",
       "      <td>Video.Seek</td>\n",
       "      <td>2017</td>\n",
       "    </tr>\n",
       "    <tr>\n",
       "      <th>4</th>\n",
       "      <td>10094</td>\n",
       "      <td>98</td>\n",
       "      <td>EPFL-AlgebreLineaire-2017_T3</td>\n",
       "      <td>227d5967cb02415ca694728f475146e0</td>\n",
       "      <td>1510148759</td>\n",
       "      <td>Video.Play</td>\n",
       "      <td>2017</td>\n",
       "    </tr>\n",
       "  </tbody>\n",
       "</table>\n",
       "</div>"
      ],
      "text/plain": [
       "  AccountUserID  Count                 DataPackageID  \\\n",
       "0         10094     98  EPFL-AlgebreLineaire-2017_T3   \n",
       "1         10094     98  EPFL-AlgebreLineaire-2017_T3   \n",
       "2         10094     98  EPFL-AlgebreLineaire-2017_T3   \n",
       "3         10094     98  EPFL-AlgebreLineaire-2017_T3   \n",
       "4         10094     98  EPFL-AlgebreLineaire-2017_T3   \n",
       "\n",
       "                            VideoID   TimeStamp    EventType  Year  \n",
       "0  bd22143ef4524edfb0dbab0fbb275ca7  1513259282   Video.Play  2017  \n",
       "1  6f7c4414324047a4b9d12a1d87d5875e  1510064721   Video.Load  2017  \n",
       "2  97b12bced6d649a2bca7465b246a1b0f  1513088547  Video.Pause  2017  \n",
       "3  73f3f756e43047c0b161c9ea29fb08a2  1508761566   Video.Seek  2017  \n",
       "4  227d5967cb02415ca694728f475146e0  1510148759   Video.Play  2017  "
      ]
     },
     "execution_count": 7,
     "metadata": {},
     "output_type": "execute_result"
    }
   ],
   "source": [
    "video_events.head()"
   ]
  },
  {
   "cell_type": "code",
   "execution_count": 8,
   "metadata": {},
   "outputs": [
    {
     "name": "stdout",
     "output_type": "stream",
     "text": [
      "Wall time: 4.01 s\n"
     ]
    }
   ],
   "source": [
    "%time problem_events = getProblemEvents()"
   ]
  },
  {
   "cell_type": "code",
   "execution_count": 9,
   "metadata": {},
   "outputs": [
    {
     "data": {
      "text/html": [
       "<div>\n",
       "<style scoped>\n",
       "    .dataframe tbody tr th:only-of-type {\n",
       "        vertical-align: middle;\n",
       "    }\n",
       "\n",
       "    .dataframe tbody tr th {\n",
       "        vertical-align: top;\n",
       "    }\n",
       "\n",
       "    .dataframe thead th {\n",
       "        text-align: right;\n",
       "    }\n",
       "</style>\n",
       "<table border=\"1\" class=\"dataframe\">\n",
       "  <thead>\n",
       "    <tr style=\"text-align: right;\">\n",
       "      <th></th>\n",
       "      <th>AccountUserID</th>\n",
       "      <th>DataPackageID</th>\n",
       "      <th>ProblemID</th>\n",
       "      <th>TimeStamp</th>\n",
       "      <th>EventType</th>\n",
       "      <th>ProblemType</th>\n",
       "      <th>Year</th>\n",
       "    </tr>\n",
       "  </thead>\n",
       "  <tbody>\n",
       "    <tr>\n",
       "      <th>0</th>\n",
       "      <td>46461</td>\n",
       "      <td>EPFL-AlgebreLineaire-2018</td>\n",
       "      <td>44c46d58e2eb440b9308893be55aae3c</td>\n",
       "      <td>1543677480</td>\n",
       "      <td>Problem.Check</td>\n",
       "      <td>Quiz</td>\n",
       "      <td>2018</td>\n",
       "    </tr>\n",
       "    <tr>\n",
       "      <th>1</th>\n",
       "      <td>11951</td>\n",
       "      <td>EPFL-AlgebreLineaire-2018</td>\n",
       "      <td>9066a9a110cc41fda2ac2ef9fb4fcd57</td>\n",
       "      <td>1540735290</td>\n",
       "      <td>Problem.Graded</td>\n",
       "      <td>Quiz</td>\n",
       "      <td>2018</td>\n",
       "    </tr>\n",
       "    <tr>\n",
       "      <th>2</th>\n",
       "      <td>47544</td>\n",
       "      <td>EPFL-AlgebreLineaire-2018</td>\n",
       "      <td>156c7a9ac95047f59e1f524a2f3bd074</td>\n",
       "      <td>1539081929</td>\n",
       "      <td>Problem.Show</td>\n",
       "      <td>Quiz</td>\n",
       "      <td>2018</td>\n",
       "    </tr>\n",
       "    <tr>\n",
       "      <th>3</th>\n",
       "      <td>47226</td>\n",
       "      <td>EPFL-AlgebreLineaire-2018</td>\n",
       "      <td>60c00d7ca5dc4ad7a123a37b8cf7d694</td>\n",
       "      <td>1540208569</td>\n",
       "      <td>Problem.Graded</td>\n",
       "      <td>Quiz</td>\n",
       "      <td>2018</td>\n",
       "    </tr>\n",
       "    <tr>\n",
       "      <th>4</th>\n",
       "      <td>9710</td>\n",
       "      <td>EPFL-AlgebreLineaire-2017_T3</td>\n",
       "      <td>60c00d7ca5dc4ad7a123a37b8cf7d694</td>\n",
       "      <td>1508256577</td>\n",
       "      <td>Problem.Check</td>\n",
       "      <td>Quiz</td>\n",
       "      <td>2017</td>\n",
       "    </tr>\n",
       "  </tbody>\n",
       "</table>\n",
       "</div>"
      ],
      "text/plain": [
       "  AccountUserID                 DataPackageID  \\\n",
       "0         46461     EPFL-AlgebreLineaire-2018   \n",
       "1         11951     EPFL-AlgebreLineaire-2018   \n",
       "2         47544     EPFL-AlgebreLineaire-2018   \n",
       "3         47226     EPFL-AlgebreLineaire-2018   \n",
       "4          9710  EPFL-AlgebreLineaire-2017_T3   \n",
       "\n",
       "                          ProblemID   TimeStamp       EventType ProblemType  \\\n",
       "0  44c46d58e2eb440b9308893be55aae3c  1543677480   Problem.Check        Quiz   \n",
       "1  9066a9a110cc41fda2ac2ef9fb4fcd57  1540735290  Problem.Graded        Quiz   \n",
       "2  156c7a9ac95047f59e1f524a2f3bd074  1539081929    Problem.Show        Quiz   \n",
       "3  60c00d7ca5dc4ad7a123a37b8cf7d694  1540208569  Problem.Graded        Quiz   \n",
       "4  60c00d7ca5dc4ad7a123a37b8cf7d694  1508256577   Problem.Check        Quiz   \n",
       "\n",
       "   Year  \n",
       "0  2018  \n",
       "1  2018  \n",
       "2  2018  \n",
       "3  2018  \n",
       "4  2017  "
      ]
     },
     "execution_count": 9,
     "metadata": {},
     "output_type": "execute_result"
    }
   ],
   "source": [
    "problem_events.head()"
   ]
  },
  {
   "cell_type": "markdown",
   "metadata": {},
   "source": [
    "## Feature Extraction\n",
    "\n",
    "| Measure | Meaning | Description | Source | \n",
    "| --- | --- | --- | --- |\n",
    "| PDH | Peak on day hour | Identifies if a student's activities are centred around a particular hour of the day | [1] |\n",
    "| PWD | Peak on week day | Identifies if a student's activities are centred around a particular day of the week | [1] |\n",
    "| WS1 | Weekly Similarities in daily activity | Identifies if student works on same weekdays | [1] | \n",
    "| WS2 | Weekly Similarities in daily activity | Identifies if there is a similar distribution of workload among weekdays | [1] | \n",
    "| WS3 | Weekly Similarities in daily activity | Identifies if there is a similar time repartition of workload among weekdays | [1] | \n",
    "| FDH | Hourly Pattern over days | Identifies if hourly pattern is repeating over days | [1] | \n",
    "| FWH | Hourly Pattern over weeks | Identifies if hourly pattern is repeating over weeks| [1] | \n",
    "| FWD | Daily Pattern over Weeks | Identifies if daily pattern is repeating over weeks | [1] |\n",
    "| NQZ | Number of quiz |Counts the total number of quiz completed by a student over the semester | - |\n",
    "| PQZ | Percentage of quiz | Counts the percentage of quiz completed by a student over the flipped period| - |"
   ]
  },
  {
   "cell_type": "markdown",
   "metadata": {},
   "source": [
    "### Video Events"
   ]
  },
  {
   "cell_type": "code",
   "execution_count": 1,
   "metadata": {
    "ExecuteTime": {
     "end_time": "2020-10-02T08:28:36.676097Z",
     "start_time": "2020-10-02T08:28:36.618295Z"
    }
   },
   "outputs": [
    {
     "ename": "NameError",
     "evalue": "name 'PDH' is not defined",
     "output_type": "error",
     "traceback": [
      "\u001b[1;31m---------------------------------------------------------------------------\u001b[0m",
      "\u001b[1;31mNameError\u001b[0m                                 Traceback (most recent call last)",
      "\u001b[1;32m<ipython-input-1-71934b45b136>\u001b[0m in \u001b[0;36m<module>\u001b[1;34m\u001b[0m\n\u001b[1;32m----> 1\u001b[1;33m \u001b[0mvideo_events_feature_types\u001b[0m \u001b[1;33m=\u001b[0m \u001b[1;33m[\u001b[0m\u001b[0mPDH\u001b[0m\u001b[1;33m,\u001b[0m \u001b[0mPWD\u001b[0m\u001b[1;33m,\u001b[0m \u001b[0mWS1\u001b[0m\u001b[1;33m,\u001b[0m \u001b[0mWS2\u001b[0m\u001b[1;33m,\u001b[0m \u001b[0mWS3\u001b[0m\u001b[1;33m,\u001b[0m \u001b[0mFDH\u001b[0m\u001b[1;33m,\u001b[0m \u001b[0mFWH\u001b[0m\u001b[1;33m,\u001b[0m \u001b[0mFWD\u001b[0m\u001b[1;33m]\u001b[0m\u001b[1;33m\u001b[0m\u001b[1;33m\u001b[0m\u001b[0m\n\u001b[0m",
      "\u001b[1;31mNameError\u001b[0m: name 'PDH' is not defined"
     ]
    }
   ],
   "source": [
    "video_events_feature_types = [PDH, PWD, WS1, WS2, WS3, FDH, FWH, FWD]"
   ]
  },
  {
   "cell_type": "code",
   "execution_count": 14,
   "metadata": {},
   "outputs": [
    {
     "name": "stderr",
     "output_type": "stream",
     "text": [
      "100%|██████████| 157/157 [05:38<00:00,  2.15s/it]\n"
     ]
    }
   ],
   "source": [
    "video_events_feature_vectors = {}\n",
    "for studentID in tqdm(set(video_events['AccountUserID'])):\n",
    "    sid, T, Lw = getStudentTimeStamps(video_events, studentID)\n",
    "    video_events_feature_vectors[studentID] = []\n",
    "    for ffunc in video_events_feature_types:\n",
    "        video_events_feature_vectors[studentID].append(ffunc(Lw, T))"
   ]
  },
  {
   "cell_type": "code",
   "execution_count": 15,
   "metadata": {},
   "outputs": [
    {
     "data": {
      "text/plain": [
       "[9.441258895553373,\n",
       " 6.700590744958262,\n",
       " 0.2648148148148148,\n",
       " 0.24207367134386126,\n",
       " 0.24654527011421853,\n",
       " 17.65414197625225,\n",
       " 18.989650748013233,\n",
       " 7.095618238594135]"
      ]
     },
     "execution_count": 15,
     "metadata": {},
     "output_type": "execute_result"
    }
   ],
   "source": [
    "video_events_feature_vectors[studentID]"
   ]
  },
  {
   "cell_type": "markdown",
   "metadata": {},
   "source": [
    "### Problem Events"
   ]
  },
  {
   "cell_type": "code",
   "execution_count": 10,
   "metadata": {},
   "outputs": [],
   "source": [
    "problem_events_feature_types = [NQZ, PQZ]"
   ]
  },
  {
   "cell_type": "code",
   "execution_count": 11,
   "metadata": {},
   "outputs": [
    {
     "name": "stderr",
     "output_type": "stream",
     "text": [
      "100%|██████████| 157/157 [04:33<00:00,  1.74s/it]\n"
     ]
    }
   ],
   "source": [
    "problem_events_feature_vectors = {}\n",
    "for studentID in tqdm(set(video_events['AccountUserID'])):\n",
    "    problem_events_feature_vectors[studentID] = []\n",
    "    for ffunc in problem_events_feature_types:\n",
    "        problem_events_feature_vectors[studentID].append(ffunc(problem_events, studentID))"
   ]
  },
  {
   "cell_type": "code",
   "execution_count": 12,
   "metadata": {},
   "outputs": [
    {
     "data": {
      "text/plain": [
       "[1517, 4.397101449275362]"
      ]
     },
     "execution_count": 12,
     "metadata": {},
     "output_type": "execute_result"
    }
   ],
   "source": [
    "problem_events_feature_vectors[studentID]"
   ]
  },
  {
   "cell_type": "markdown",
   "metadata": {},
   "source": [
    "## Clustering"
   ]
  },
  {
   "cell_type": "code",
   "execution_count": 23,
   "metadata": {},
   "outputs": [],
   "source": [
    "user_ids, user_vectors = list(video_events_feature_vectors.keys()), np.array(list(video_events_feature_vectors.values()))"
   ]
  },
  {
   "cell_type": "code",
   "execution_count": 24,
   "metadata": {},
   "outputs": [
    {
     "data": {
      "text/plain": [
       "(157, 8)"
      ]
     },
     "execution_count": 24,
     "metadata": {},
     "output_type": "execute_result"
    }
   ],
   "source": [
    "user_vectors.shape"
   ]
  },
  {
   "cell_type": "markdown",
   "metadata": {},
   "source": [
    "Scale the feature vectors"
   ]
  },
  {
   "cell_type": "code",
   "execution_count": 31,
   "metadata": {},
   "outputs": [],
   "source": [
    "scaled_user_vectors = StandardScaler().fit_transform(user_vectors)"
   ]
  },
  {
   "cell_type": "markdown",
   "metadata": {},
   "source": [
    "Determine the number of clusters"
   ]
  },
  {
   "cell_type": "code",
   "execution_count": 35,
   "metadata": {},
   "outputs": [],
   "source": [
    "kmeans_kwargs = {'init':'random', 'n_init':10, 'max_iter':300, 'random_state':42}"
   ]
  },
  {
   "cell_type": "code",
   "execution_count": 54,
   "metadata": {},
   "outputs": [],
   "source": [
    "silhouette_coefficients = []\n",
    "for k in range(2, 11):\n",
    "    kmeans = KMeans(n_clusters=k, **kmeans_kwargs)\n",
    "    kmeans.fit(scaled_user_vectors)\n",
    "    score = silhouette_score(scaled_user_vectors, kmeans.labels_)\n",
    "    silhouette_coefficients.append(score)"
   ]
  },
  {
   "cell_type": "code",
   "execution_count": 59,
   "metadata": {},
   "outputs": [
    {
     "data": {
      "image/png": "[encoded data removed]",
      "text/plain": [
       "<Figure size 432x288 with 1 Axes>"
      ]
     },
     "metadata": {},
     "output_type": "display_data"
    }
   ],
   "source": [
    "plotSilhouette(silhouette_coefficients)"
   ]
  },
  {
   "cell_type": "markdown",
   "metadata": {},
   "source": [
    "Inspect the identified clusters"
   ]
  },
  {
   "cell_type": "code",
   "execution_count": 63,
   "metadata": {},
   "outputs": [],
   "source": [
    "kmeans = KMeans(n_clusters=2, **kmeans_kwargs).fit(scaled_user_vectors)"
   ]
  },
  {
   "cell_type": "code",
   "execution_count": 64,
   "metadata": {},
   "outputs": [
    {
     "data": {
      "text/plain": [
       "array([[ 0.61802292,  0.76199792,  0.71267289,  0.70982636,  0.69635694,\n",
       "         0.4613704 ,  0.62474794,  0.76168496],\n",
       "       [-0.51022822, -0.6290913 , -0.58836948, -0.58601944, -0.57489934,\n",
       "        -0.38089882, -0.51578028, -0.62883294]])"
      ]
     },
     "execution_count": 64,
     "metadata": {},
     "output_type": "execute_result"
    }
   ],
   "source": [
    "kmeans.cluster_centers_"
   ]
  },
  {
   "cell_type": "code",
   "execution_count": 67,
   "metadata": {},
   "outputs": [],
   "source": [
    "pca = PCA(n_components=2).fit(scaled_user_vectors).transform(scaled_user_vectors)"
   ]
  },
  {
   "cell_type": "code",
   "execution_count": 68,
   "metadata": {},
   "outputs": [
    {
     "data": {
      "text/plain": [
       "(157, 2)"
      ]
     },
     "execution_count": 68,
     "metadata": {},
     "output_type": "execute_result"
    }
   ],
   "source": [
    "pca.shape"
   ]
  },
  {
   "cell_type": "code",
   "execution_count": 79,
   "metadata": {},
   "outputs": [
    {
     "data": {
      "image/png": "[encoded data removed]",
      "text/plain": [
       "<Figure size 576x576 with 1 Axes>"
      ]
     },
     "metadata": {},
     "output_type": "display_data"
    }
   ],
   "source": [
    "plt.figure(figsize=(8, 8))\n",
    "for label in set(kmeans.labels_):\n",
    "    indexes = np.array((kmeans.labels_==label).nonzero())\n",
    "    plt.scatter(pca[indexes,0], pca[indexes,1], label=label)\n",
    "plt.xlabel('Component_1')\n",
    "plt.ylabel('Component 2')\n",
    "plt.legend()\n",
    "plt.show()"
   ]
  },
  {
   "cell_type": "code",
   "execution_count": 89,
   "metadata": {},
   "outputs": [
    {
     "data": {
      "text/html": [
       "<div>\n",
       "<style scoped>\n",
       "    .dataframe tbody tr th:only-of-type {\n",
       "        vertical-align: middle;\n",
       "    }\n",
       "\n",
       "    .dataframe tbody tr th {\n",
       "        vertical-align: top;\n",
       "    }\n",
       "\n",
       "    .dataframe thead th {\n",
       "        text-align: right;\n",
       "    }\n",
       "</style>\n",
       "<table border=\"1\" class=\"dataframe\">\n",
       "  <thead>\n",
       "    <tr style=\"text-align: right;\">\n",
       "      <th></th>\n",
       "      <th>PDH</th>\n",
       "      <th>PWD</th>\n",
       "      <th>WS1</th>\n",
       "      <th>WS2</th>\n",
       "      <th>WS3</th>\n",
       "      <th>FDH</th>\n",
       "      <th>FWH</th>\n",
       "      <th>FWD</th>\n",
       "    </tr>\n",
       "  </thead>\n",
       "  <tbody>\n",
       "    <tr>\n",
       "      <th>0</th>\n",
       "      <td>0.618023</td>\n",
       "      <td>0.761998</td>\n",
       "      <td>0.712673</td>\n",
       "      <td>0.709826</td>\n",
       "      <td>0.696357</td>\n",
       "      <td>0.461370</td>\n",
       "      <td>0.624748</td>\n",
       "      <td>0.761685</td>\n",
       "    </tr>\n",
       "    <tr>\n",
       "      <th>1</th>\n",
       "      <td>-0.510228</td>\n",
       "      <td>-0.629091</td>\n",
       "      <td>-0.588369</td>\n",
       "      <td>-0.586019</td>\n",
       "      <td>-0.574899</td>\n",
       "      <td>-0.380899</td>\n",
       "      <td>-0.515780</td>\n",
       "      <td>-0.628833</td>\n",
       "    </tr>\n",
       "  </tbody>\n",
       "</table>\n",
       "</div>"
      ],
      "text/plain": [
       "        PDH       PWD       WS1       WS2       WS3       FDH       FWH  \\\n",
       "0  0.618023  0.761998  0.712673  0.709826  0.696357  0.461370  0.624748   \n",
       "1 -0.510228 -0.629091 -0.588369 -0.586019 -0.574899 -0.380899 -0.515780   \n",
       "\n",
       "        FWD  \n",
       "0  0.761685  \n",
       "1 -0.628833  "
      ]
     },
     "execution_count": 89,
     "metadata": {},
     "output_type": "execute_result"
    }
   ],
   "source": [
    "pd.DataFrame(kmeans.cluster_centers_, columns=[str(f).split('at')[0][-4:-1] for f in video_events_feature_types])"
   ]
  },
  {
   "cell_type": "markdown",
   "metadata": {},
   "source": [
    "## Classification"
   ]
  },
  {
   "cell_type": "code",
   "execution_count": 92,
   "metadata": {},
   "outputs": [],
   "source": [
    "X, y = scaled_user_vectors, kmeans.labels_"
   ]
  },
  {
   "cell_type": "code",
   "execution_count": 93,
   "metadata": {},
   "outputs": [],
   "source": [
    "X_train, X_test, y_train, y_test = train_test_split(X, y, test_size=0.25, random_state=42)"
   ]
  },
  {
   "cell_type": "code",
   "execution_count": 94,
   "metadata": {},
   "outputs": [],
   "source": [
    "clf = svm.SVC(decision_function_shape='ovo').fit(X_train, y_train)"
   ]
  },
  {
   "cell_type": "code",
   "execution_count": 95,
   "metadata": {},
   "outputs": [],
   "source": [
    "y_pred = clf.predict(X_test)"
   ]
  },
  {
   "cell_type": "code",
   "execution_count": 98,
   "metadata": {},
   "outputs": [
    {
     "data": {
      "text/plain": [
       "('Acc', 0.975, 'Prec', 0.975, 'Rec', 0.975)"
      ]
     },
     "execution_count": 98,
     "metadata": {},
     "output_type": "execute_result"
    }
   ],
   "source": [
    "'Acc', accuracy_score(y_test, y_pred), 'Prec', accuracy_score(y_test, y_pred), 'Rec', accuracy_score(y_test, y_pred)"
   ]
  },
  {
   "cell_type": "code",
   "execution_count": 103,
   "metadata": {},
   "outputs": [
    {
     "data": {
      "text/plain": [
       "<sklearn.metrics._plot.confusion_matrix.ConfusionMatrixDisplay at 0x16e8ed87e48>"
      ]
     },
     "execution_count": 103,
     "metadata": {},
     "output_type": "execute_result"
    },
    {
     "data": {
      "image/png": "[encoded data removed]",
      "text/plain": [
       "<Figure size 432x288 with 2 Axes>"
      ]
     },
     "metadata": {},
     "output_type": "display_data"
    }
   ],
   "source": [
    "plot_confusion_matrix(clf, X_test, y_test, display_labels=['0','1'], cmap=plt.cm.Blues)"
   ]
  },
  {
   "cell_type": "markdown",
   "metadata": {},
   "source": [
    "## References\n",
    "\n",
    "1. Boroujeni M.S., Sharma K., Kidziński Ł., Lucignano L., Dillenbourg P. (2016) How to Quantify Student’s Regularity?. In: Verbert K., Sharples M., Klobučar T. (eds) Adaptive and Adaptable Learning. EC-TEL 2016. Lecture Notes in Computer Science, vol 9891. Springer, Cham. https://doi.org/10.1007/978-3-319-45153-4_21"
   ]
  },
  {
   "cell_type": "markdown",
   "metadata": {},
   "source": [
    "## Todo\n",
    "\n",
    "- Create new features based on the available metadata\n",
    "- Identify which features are the most discriminative\n",
    "- Exploring the characteristics of the identified clusters\n",
    "- Test classification using a temporal subset for the test set\n",
    "- Link the score of success to possible hints to provide to students, i.e., which feature should I change to increase success \n",
    "- Think about possible applications, e.g., providing a score of success, providing hints to increase it\n",
    "- Embed logic to determine what the student should do next to increase the probability of success, with explanations"
   ]
  },
  {
   "cell_type": "code",
   "execution_count": null,
   "metadata": {},
   "outputs": [],
   "source": []
  }
 ],
 "metadata": {
  "kernelspec": {
   "display_name": "Python 3",
   "language": "python",
   "name": "python3"
  },
  "language_info": {
   "codemirror_mode": {
    "name": "ipython",
    "version": 3
   },
   "file_extension": ".py",
   "mimetype": "text/x-python",
   "name": "python",
   "nbconvert_exporter": "python",
   "pygments_lexer": "ipython3",
   "version": "3.6.8"
  },
  "toc": {
   "base_numbering": 1,
   "nav_menu": {},
   "number_sections": true,
   "sideBar": true,
   "skip_h1_title": false,
   "title_cell": "Table of Contents",
   "title_sidebar": "Contents",
   "toc_cell": false,
   "toc_position": {
    "height": "calc(100% - 180px)",
    "left": "10px",
    "top": "150px",
    "width": "256px"
   },
   "toc_section_display": true,
   "toc_window_display": true
  }
 },
 "nbformat": 4,
 "nbformat_minor": 1
}
