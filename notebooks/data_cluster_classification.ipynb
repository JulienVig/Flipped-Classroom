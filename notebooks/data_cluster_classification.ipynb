{
 "cells": [
  {
   "cell_type": "markdown",
   "metadata": {
    "ExecuteTime": {
     "end_time": "2020-10-02T07:27:16.279419Z",
     "start_time": "2020-10-02T07:27:06.260336Z"
    }
   },
   "source": [
    "# Data Clustering and Classification "
   ]
  },
  {
   "cell_type": "markdown",
   "metadata": {},
   "source": [
    "Load packages and configuration modules"
   ]
  },
  {
   "cell_type": "code",
   "execution_count": 1,
   "metadata": {
    "ExecuteTime": {
     "end_time": "2020-10-20T15:12:46.436261Z",
     "start_time": "2020-10-20T15:12:41.978784Z"
    }
   },
   "outputs": [
    {
     "name": "stderr",
     "output_type": "stream",
     "text": [
      "/Applications/anaconda3/lib/python3.7/site-packages/statsmodels/tools/_testing.py:19: FutureWarning: pandas.util.testing is deprecated. Use the functions in the public API at pandas.testing instead.\n",
      "  import pandas.util.testing as tm\n"
     ]
    }
   ],
   "source": [
    "from sklearn.metrics import accuracy_score, precision_score, recall_score\n",
    "from sklearn.model_selection import train_test_split\n",
    "from sklearn.metrics import plot_confusion_matrix\n",
    "from sklearn.preprocessing import StandardScaler\n",
    "from datetime import datetime, timedelta, date\n",
    "from sklearn.metrics import silhouette_score\n",
    "from sklearn.metrics import confusion_matrix\n",
    "from sklearn.decomposition import PCA\n",
    "from sklearn.cluster import KMeans\n",
    "from sklearn import svm\n",
    "from tqdm import tqdm\n",
    "import seaborn as sns\n",
    "import pandas as pd\n",
    "import numpy as np\n",
    "import time\n",
    "import sys\n",
    "import os"
   ]
  },
  {
   "cell_type": "code",
   "execution_count": 2,
   "metadata": {
    "ExecuteTime": {
     "end_time": "2020-10-20T15:12:46.449546Z",
     "start_time": "2020-10-20T15:12:46.440783Z"
    }
   },
   "outputs": [],
   "source": [
    "sys.path.append(os.path.abspath(os.path.join('..')))"
   ]
  },
  {
   "cell_type": "code",
   "execution_count": 3,
   "metadata": {
    "ExecuteTime": {
     "end_time": "2020-10-20T15:12:46.659946Z",
     "start_time": "2020-10-20T15:12:46.455890Z"
    }
   },
   "outputs": [],
   "source": [
    "from helpers.db_connector import MySQLConnector\n",
    "from helpers.data_process import *\n",
    "from helpers.plotting import *\n",
    "from helpers.db_query import *"
   ]
  },
  {
   "cell_type": "markdown",
   "metadata": {},
   "source": [
    "## Data Preprocessing"
   ]
  },
  {
   "cell_type": "code",
   "execution_count": 4,
   "metadata": {
    "ExecuteTime": {
     "end_time": "2020-10-20T15:13:00.418242Z",
     "start_time": "2020-10-20T15:12:46.668173Z"
    }
   },
   "outputs": [
    {
     "name": "stdout",
     "output_type": "stream",
     "text": [
      "CPU times: user 8.61 s, sys: 815 ms, total: 9.43 s\n",
      "Wall time: 13.7 s\n"
     ]
    }
   ],
   "source": [
    "%time video_events = getVideoEvents(mode='base')"
   ]
  },
  {
   "cell_type": "code",
   "execution_count": 5,
   "metadata": {
    "ExecuteTime": {
     "end_time": "2020-10-20T15:13:10.563777Z",
     "start_time": "2020-10-20T15:13:00.431845Z"
    }
   },
   "outputs": [
    {
     "name": "stdout",
     "output_type": "stream",
     "text": [
      "CPU times: user 10.3 s, sys: 64.5 ms, total: 10.3 s\n",
      "Wall time: 10.1 s\n"
     ]
    }
   ],
   "source": [
    "%time video_events = delRepentants(video_events)"
   ]
  },
  {
   "cell_type": "code",
   "execution_count": 6,
   "metadata": {
    "ExecuteTime": {
     "end_time": "2020-10-20T15:13:11.967690Z",
     "start_time": "2020-10-20T15:13:10.566385Z"
    }
   },
   "outputs": [
    {
     "name": "stdout",
     "output_type": "stream",
     "text": [
      "CPU times: user 1.85 s, sys: 92.5 ms, total: 1.94 s\n",
      "Wall time: 1.4 s\n"
     ]
    }
   ],
   "source": [
    "%time video_events = delLessActive(video_events)"
   ]
  },
  {
   "cell_type": "code",
   "execution_count": 7,
   "metadata": {
    "ExecuteTime": {
     "end_time": "2020-10-20T15:13:11.989914Z",
     "start_time": "2020-10-20T15:13:11.970772Z"
    }
   },
   "outputs": [
    {
     "data": {
      "text/html": [
       "<div>\n",
       "<style scoped>\n",
       "    .dataframe tbody tr th:only-of-type {\n",
       "        vertical-align: middle;\n",
       "    }\n",
       "\n",
       "    .dataframe tbody tr th {\n",
       "        vertical-align: top;\n",
       "    }\n",
       "\n",
       "    .dataframe thead th {\n",
       "        text-align: right;\n",
       "    }\n",
       "</style>\n",
       "<table border=\"1\" class=\"dataframe\">\n",
       "  <thead>\n",
       "    <tr style=\"text-align: right;\">\n",
       "      <th></th>\n",
       "      <th>AccountUserID</th>\n",
       "      <th>Count</th>\n",
       "      <th>DataPackageID</th>\n",
       "      <th>VideoID</th>\n",
       "      <th>TimeStamp</th>\n",
       "      <th>EventType</th>\n",
       "      <th>Year</th>\n",
       "    </tr>\n",
       "  </thead>\n",
       "  <tbody>\n",
       "    <tr>\n",
       "      <th>0</th>\n",
       "      <td>10094</td>\n",
       "      <td>98</td>\n",
       "      <td>EPFL-AlgebreLineaire-2017_T3</td>\n",
       "      <td>bd22143ef4524edfb0dbab0fbb275ca7</td>\n",
       "      <td>1513259282</td>\n",
       "      <td>Video.Play</td>\n",
       "      <td>2017</td>\n",
       "    </tr>\n",
       "    <tr>\n",
       "      <th>1</th>\n",
       "      <td>10094</td>\n",
       "      <td>98</td>\n",
       "      <td>EPFL-AlgebreLineaire-2017_T3</td>\n",
       "      <td>6f7c4414324047a4b9d12a1d87d5875e</td>\n",
       "      <td>1510064721</td>\n",
       "      <td>Video.Load</td>\n",
       "      <td>2017</td>\n",
       "    </tr>\n",
       "    <tr>\n",
       "      <th>2</th>\n",
       "      <td>10094</td>\n",
       "      <td>98</td>\n",
       "      <td>EPFL-AlgebreLineaire-2017_T3</td>\n",
       "      <td>97b12bced6d649a2bca7465b246a1b0f</td>\n",
       "      <td>1513088547</td>\n",
       "      <td>Video.Pause</td>\n",
       "      <td>2017</td>\n",
       "    </tr>\n",
       "    <tr>\n",
       "      <th>3</th>\n",
       "      <td>10094</td>\n",
       "      <td>98</td>\n",
       "      <td>EPFL-AlgebreLineaire-2017_T3</td>\n",
       "      <td>73f3f756e43047c0b161c9ea29fb08a2</td>\n",
       "      <td>1508761566</td>\n",
       "      <td>Video.Seek</td>\n",
       "      <td>2017</td>\n",
       "    </tr>\n",
       "    <tr>\n",
       "      <th>4</th>\n",
       "      <td>10094</td>\n",
       "      <td>98</td>\n",
       "      <td>EPFL-AlgebreLineaire-2017_T3</td>\n",
       "      <td>227d5967cb02415ca694728f475146e0</td>\n",
       "      <td>1510148759</td>\n",
       "      <td>Video.Play</td>\n",
       "      <td>2017</td>\n",
       "    </tr>\n",
       "  </tbody>\n",
       "</table>\n",
       "</div>"
      ],
      "text/plain": [
       "  AccountUserID  Count                 DataPackageID  \\\n",
       "0         10094     98  EPFL-AlgebreLineaire-2017_T3   \n",
       "1         10094     98  EPFL-AlgebreLineaire-2017_T3   \n",
       "2         10094     98  EPFL-AlgebreLineaire-2017_T3   \n",
       "3         10094     98  EPFL-AlgebreLineaire-2017_T3   \n",
       "4         10094     98  EPFL-AlgebreLineaire-2017_T3   \n",
       "\n",
       "                            VideoID   TimeStamp    EventType  Year  \n",
       "0  bd22143ef4524edfb0dbab0fbb275ca7  1513259282   Video.Play  2017  \n",
       "1  6f7c4414324047a4b9d12a1d87d5875e  1510064721   Video.Load  2017  \n",
       "2  97b12bced6d649a2bca7465b246a1b0f  1513088547  Video.Pause  2017  \n",
       "3  73f3f756e43047c0b161c9ea29fb08a2  1508761566   Video.Seek  2017  \n",
       "4  227d5967cb02415ca694728f475146e0  1510148759   Video.Play  2017  "
      ]
     },
     "execution_count": 7,
     "metadata": {},
     "output_type": "execute_result"
    }
   ],
   "source": [
    "video_events.head()"
   ]
  },
  {
   "cell_type": "code",
   "execution_count": 8,
   "metadata": {
    "ExecuteTime": {
     "end_time": "2020-10-20T15:13:17.596903Z",
     "start_time": "2020-10-20T15:13:11.993512Z"
    }
   },
   "outputs": [
    {
     "name": "stdout",
     "output_type": "stream",
     "text": [
      "CPU times: user 4.2 s, sys: 299 ms, total: 4.5 s\n",
      "Wall time: 5.6 s\n"
     ]
    }
   ],
   "source": [
    "%time problem_events = getProblemEvents()"
   ]
  },
  {
   "cell_type": "code",
   "execution_count": 9,
   "metadata": {
    "ExecuteTime": {
     "end_time": "2020-10-20T15:13:17.612159Z",
     "start_time": "2020-10-20T15:13:17.599844Z"
    }
   },
   "outputs": [
    {
     "data": {
      "text/html": [
       "<div>\n",
       "<style scoped>\n",
       "    .dataframe tbody tr th:only-of-type {\n",
       "        vertical-align: middle;\n",
       "    }\n",
       "\n",
       "    .dataframe tbody tr th {\n",
       "        vertical-align: top;\n",
       "    }\n",
       "\n",
       "    .dataframe thead th {\n",
       "        text-align: right;\n",
       "    }\n",
       "</style>\n",
       "<table border=\"1\" class=\"dataframe\">\n",
       "  <thead>\n",
       "    <tr style=\"text-align: right;\">\n",
       "      <th></th>\n",
       "      <th>AccountUserID</th>\n",
       "      <th>DataPackageID</th>\n",
       "      <th>ProblemID</th>\n",
       "      <th>TimeStamp</th>\n",
       "      <th>EventType</th>\n",
       "      <th>ProblemType</th>\n",
       "      <th>Year</th>\n",
       "    </tr>\n",
       "  </thead>\n",
       "  <tbody>\n",
       "    <tr>\n",
       "      <th>0</th>\n",
       "      <td>46461</td>\n",
       "      <td>EPFL-AlgebreLineaire-2018</td>\n",
       "      <td>44c46d58e2eb440b9308893be55aae3c</td>\n",
       "      <td>1543677480</td>\n",
       "      <td>Problem.Check</td>\n",
       "      <td>Quiz</td>\n",
       "      <td>2018</td>\n",
       "    </tr>\n",
       "    <tr>\n",
       "      <th>1</th>\n",
       "      <td>11951</td>\n",
       "      <td>EPFL-AlgebreLineaire-2018</td>\n",
       "      <td>9066a9a110cc41fda2ac2ef9fb4fcd57</td>\n",
       "      <td>1540735290</td>\n",
       "      <td>Problem.Graded</td>\n",
       "      <td>Quiz</td>\n",
       "      <td>2018</td>\n",
       "    </tr>\n",
       "    <tr>\n",
       "      <th>2</th>\n",
       "      <td>47544</td>\n",
       "      <td>EPFL-AlgebreLineaire-2018</td>\n",
       "      <td>156c7a9ac95047f59e1f524a2f3bd074</td>\n",
       "      <td>1539081929</td>\n",
       "      <td>Problem.Show</td>\n",
       "      <td>Quiz</td>\n",
       "      <td>2018</td>\n",
       "    </tr>\n",
       "    <tr>\n",
       "      <th>3</th>\n",
       "      <td>47226</td>\n",
       "      <td>EPFL-AlgebreLineaire-2018</td>\n",
       "      <td>60c00d7ca5dc4ad7a123a37b8cf7d694</td>\n",
       "      <td>1540208569</td>\n",
       "      <td>Problem.Graded</td>\n",
       "      <td>Quiz</td>\n",
       "      <td>2018</td>\n",
       "    </tr>\n",
       "    <tr>\n",
       "      <th>4</th>\n",
       "      <td>9710</td>\n",
       "      <td>EPFL-AlgebreLineaire-2017_T3</td>\n",
       "      <td>60c00d7ca5dc4ad7a123a37b8cf7d694</td>\n",
       "      <td>1508256577</td>\n",
       "      <td>Problem.Check</td>\n",
       "      <td>Quiz</td>\n",
       "      <td>2017</td>\n",
       "    </tr>\n",
       "  </tbody>\n",
       "</table>\n",
       "</div>"
      ],
      "text/plain": [
       "  AccountUserID                 DataPackageID  \\\n",
       "0         46461     EPFL-AlgebreLineaire-2018   \n",
       "1         11951     EPFL-AlgebreLineaire-2018   \n",
       "2         47544     EPFL-AlgebreLineaire-2018   \n",
       "3         47226     EPFL-AlgebreLineaire-2018   \n",
       "4          9710  EPFL-AlgebreLineaire-2017_T3   \n",
       "\n",
       "                          ProblemID   TimeStamp       EventType ProblemType  \\\n",
       "0  44c46d58e2eb440b9308893be55aae3c  1543677480   Problem.Check        Quiz   \n",
       "1  9066a9a110cc41fda2ac2ef9fb4fcd57  1540735290  Problem.Graded        Quiz   \n",
       "2  156c7a9ac95047f59e1f524a2f3bd074  1539081929    Problem.Show        Quiz   \n",
       "3  60c00d7ca5dc4ad7a123a37b8cf7d694  1540208569  Problem.Graded        Quiz   \n",
       "4  60c00d7ca5dc4ad7a123a37b8cf7d694  1508256577   Problem.Check        Quiz   \n",
       "\n",
       "   Year  \n",
       "0  2018  \n",
       "1  2018  \n",
       "2  2018  \n",
       "3  2018  \n",
       "4  2017  "
      ]
     },
     "execution_count": 9,
     "metadata": {},
     "output_type": "execute_result"
    }
   ],
   "source": [
    "problem_events.head()"
   ]
  },
  {
   "cell_type": "markdown",
   "metadata": {},
   "source": [
    "## Feature Extraction\n",
    "\n",
    "| Measure | Meaning | Description | Source | \n",
    "| --- | --- | --- | --- |\n",
    "| PDH | Peak on day hour | Identifies if a student's activities are centred around a particular hour of the day | [1] |\n",
    "| PWD | Peak on week day | Identifies if a student's activities are centred around a particular day of the week | [1] |\n",
    "| WS1 | Weekly Similarities in daily activity | Identifies if student works on same weekdays | [1] | \n",
    "| WS2 | Weekly Similarities in daily activity | Identifies if there is a similar distribution of workload among weekdays | [1] | \n",
    "| WS3 | Weekly Similarities in daily activity | Identifies if there is a similar time repartition of workload among weekdays | [1] | \n",
    "| FDH | Hourly Pattern over days | Identifies if hourly pattern is repeating over days | [1] | \n",
    "| FWH | Hourly Pattern over weeks | Identifies if hourly pattern is repeating over weeks| [1] | \n",
    "| FWD | Daily Pattern over Weeks | Identifies if daily pattern is repeating over weeks | [1] |\n",
    "| NQZ | Number of quiz |Counts the total number of quiz completed by a student over the semester | - |\n",
    "| PQZ | Percentage of quiz | Counts the percentage of quiz completed by a student over the flipped period| - |"
   ]
  },
  {
   "cell_type": "markdown",
   "metadata": {},
   "source": [
    "### Video Events"
   ]
  },
  {
   "cell_type": "code",
   "execution_count": 10,
   "metadata": {
    "ExecuteTime": {
     "end_time": "2020-10-20T15:13:17.626491Z",
     "start_time": "2020-10-20T15:13:17.615493Z"
    }
   },
   "outputs": [],
   "source": [
    "video_events_feature_types = [PDH, PWD, WS1, WS2, WS3, FDH, FWH, FWD]"
   ]
  },
  {
   "cell_type": "code",
   "execution_count": 11,
   "metadata": {
    "ExecuteTime": {
     "end_time": "2020-10-20T15:18:42.286661Z",
     "start_time": "2020-10-20T15:13:17.629257Z"
    }
   },
   "outputs": [
    {
     "name": "stderr",
     "output_type": "stream",
     "text": [
      "100%|██████████| 157/157 [05:24<00:00,  2.07s/it]\n"
     ]
    }
   ],
   "source": [
    "video_events_feature_vectors = {}\n",
    "for studentID in tqdm(set(video_events['AccountUserID'])):\n",
    "    sid, T, Lw = getStudentTimeStamps(video_events, studentID)\n",
    "    video_events_feature_vectors[studentID] = []\n",
    "    for ffunc in video_events_feature_types:\n",
    "        video_events_feature_vectors[studentID].append(ffunc(Lw, T))"
   ]
  },
  {
   "cell_type": "code",
   "execution_count": 12,
   "metadata": {
    "ExecuteTime": {
     "end_time": "2020-10-20T15:18:42.299693Z",
     "start_time": "2020-10-20T15:18:42.291106Z"
    }
   },
   "outputs": [
    {
     "data": {
      "text/plain": [
       "[18.06877151193394,\n",
       " 7.842913647406346,\n",
       " 0.4166666666666667,\n",
       " 0.2481997216810943,\n",
       " 0.305270541138266,\n",
       " 39.4389014181037,\n",
       " 19.852377419349445,\n",
       " 10.104471517093359]"
      ]
     },
     "execution_count": 12,
     "metadata": {},
     "output_type": "execute_result"
    }
   ],
   "source": [
    "video_events_feature_vectors[studentID]"
   ]
  },
  {
   "cell_type": "markdown",
   "metadata": {},
   "source": [
    "### Problem Events"
   ]
  },
  {
   "cell_type": "code",
   "execution_count": 13,
   "metadata": {
    "ExecuteTime": {
     "end_time": "2020-10-20T15:18:42.312343Z",
     "start_time": "2020-10-20T15:18:42.304798Z"
    }
   },
   "outputs": [],
   "source": [
    "problem_events_feature_types = [NQZ, PQZ]"
   ]
  },
  {
   "cell_type": "code",
   "execution_count": 14,
   "metadata": {
    "ExecuteTime": {
     "end_time": "2020-10-20T15:25:47.419150Z",
     "start_time": "2020-10-20T15:18:42.314768Z"
    }
   },
   "outputs": [
    {
     "name": "stderr",
     "output_type": "stream",
     "text": [
      "100%|██████████| 157/157 [07:05<00:00,  2.71s/it]\n"
     ]
    }
   ],
   "source": [
    "problem_events_feature_vectors = {}\n",
    "for studentID in tqdm(set(video_events['AccountUserID'])):\n",
    "    problem_events_feature_vectors[studentID] = []\n",
    "    for ffunc in problem_events_feature_types:\n",
    "        problem_events_feature_vectors[studentID].append(ffunc(problem_events, studentID))"
   ]
  },
  {
   "cell_type": "code",
   "execution_count": 15,
   "metadata": {
    "ExecuteTime": {
     "end_time": "2020-10-20T15:25:47.460242Z",
     "start_time": "2020-10-20T15:25:47.437508Z"
    }
   },
   "outputs": [
    {
     "data": {
      "text/plain": [
       "[155, 0.4492753623188406]"
      ]
     },
     "execution_count": 15,
     "metadata": {},
     "output_type": "execute_result"
    }
   ],
   "source": [
    "problem_events_feature_vectors[studentID]"
   ]
  },
  {
   "cell_type": "markdown",
   "metadata": {},
   "source": [
    "## Clustering"
   ]
  },
  {
   "cell_type": "code",
   "execution_count": 16,
   "metadata": {
    "ExecuteTime": {
     "end_time": "2020-10-20T15:25:47.495392Z",
     "start_time": "2020-10-20T15:25:47.464540Z"
    }
   },
   "outputs": [],
   "source": [
    "user_ids, user_vectors = list(video_events_feature_vectors.keys()), np.array(list(video_events_feature_vectors.values()))"
   ]
  },
  {
   "cell_type": "code",
   "execution_count": 17,
   "metadata": {
    "ExecuteTime": {
     "end_time": "2020-10-20T15:25:47.515809Z",
     "start_time": "2020-10-20T15:25:47.503358Z"
    }
   },
   "outputs": [
    {
     "data": {
      "text/plain": [
       "(157, 8)"
      ]
     },
     "execution_count": 17,
     "metadata": {},
     "output_type": "execute_result"
    }
   ],
   "source": [
    "user_vectors.shape"
   ]
  },
  {
   "cell_type": "markdown",
   "metadata": {},
   "source": [
    "Scale the feature vectors"
   ]
  },
  {
   "cell_type": "code",
   "execution_count": 18,
   "metadata": {
    "ExecuteTime": {
     "end_time": "2020-10-20T15:25:47.643957Z",
     "start_time": "2020-10-20T15:25:47.619618Z"
    }
   },
   "outputs": [],
   "source": [
    "scaled_user_vectors = StandardScaler().fit_transform(user_vectors)"
   ]
  },
  {
   "cell_type": "markdown",
   "metadata": {},
   "source": [
    "Determine the number of clusters"
   ]
  },
  {
   "cell_type": "code",
   "execution_count": 19,
   "metadata": {
    "ExecuteTime": {
     "end_time": "2020-10-20T15:25:47.687564Z",
     "start_time": "2020-10-20T15:25:47.665636Z"
    }
   },
   "outputs": [],
   "source": [
    "kmeans_kwargs = {'init':'random', 'n_init':10, 'max_iter':300, 'random_state':42}"
   ]
  },
  {
   "cell_type": "code",
   "execution_count": 20,
   "metadata": {
    "ExecuteTime": {
     "end_time": "2020-10-20T15:25:48.296314Z",
     "start_time": "2020-10-20T15:25:47.699243Z"
    }
   },
   "outputs": [],
   "source": [
    "silhouette_coefficients = []\n",
    "for k in range(2, 11):\n",
    "    kmeans = KMeans(n_clusters=k, **kmeans_kwargs)\n",
    "    kmeans.fit(scaled_user_vectors)\n",
    "    score = silhouette_score(scaled_user_vectors, kmeans.labels_)\n",
    "    silhouette_coefficients.append(score)"
   ]
  },
  {
   "cell_type": "code",
   "execution_count": 21,
   "metadata": {
    "ExecuteTime": {
     "end_time": "2020-10-20T15:25:48.515610Z",
     "start_time": "2020-10-20T15:25:48.298445Z"
    }
   },
   "outputs": [
    {
     "data": {
      "image/png": "[encoded data removed]",
      "text/plain": [
       "<Figure size 432x288 with 1 Axes>"
      ]
     },
     "metadata": {},
     "output_type": "display_data"
    }
   ],
   "source": [
    "plotSilhouette(silhouette_coefficients)"
   ]
  },
  {
   "cell_type": "markdown",
   "metadata": {},
   "source": [
    "Inspect the identified clusters"
   ]
  },
  {
   "cell_type": "code",
   "execution_count": 22,
   "metadata": {
    "ExecuteTime": {
     "end_time": "2020-10-20T15:25:48.563563Z",
     "start_time": "2020-10-20T15:25:48.518539Z"
    }
   },
   "outputs": [],
   "source": [
    "kmeans = KMeans(n_clusters=2, **kmeans_kwargs).fit(scaled_user_vectors)"
   ]
  },
  {
   "cell_type": "code",
   "execution_count": 23,
   "metadata": {
    "ExecuteTime": {
     "end_time": "2020-10-20T15:25:48.572291Z",
     "start_time": "2020-10-20T15:25:48.566108Z"
    }
   },
   "outputs": [
    {
     "data": {
      "text/plain": [
       "array([[-0.51022822, -0.6290913 , -0.58836948, -0.58601944, -0.57489934,\n",
       "        -0.38089882, -0.51578028, -0.62883294],\n",
       "       [ 0.61802292,  0.76199792,  0.71267289,  0.70982636,  0.69635694,\n",
       "         0.4613704 ,  0.62474794,  0.76168496]])"
      ]
     },
     "execution_count": 23,
     "metadata": {},
     "output_type": "execute_result"
    }
   ],
   "source": [
    "kmeans.cluster_centers_"
   ]
  },
  {
   "cell_type": "code",
   "execution_count": 24,
   "metadata": {
    "ExecuteTime": {
     "end_time": "2020-10-20T15:25:48.594390Z",
     "start_time": "2020-10-20T15:25:48.576376Z"
    }
   },
   "outputs": [],
   "source": [
    "pca = PCA(n_components=2).fit(scaled_user_vectors).transform(scaled_user_vectors)"
   ]
  },
  {
   "cell_type": "code",
   "execution_count": 25,
   "metadata": {
    "ExecuteTime": {
     "end_time": "2020-10-20T15:25:48.606002Z",
     "start_time": "2020-10-20T15:25:48.599950Z"
    }
   },
   "outputs": [
    {
     "data": {
      "text/plain": [
       "(157, 2)"
      ]
     },
     "execution_count": 25,
     "metadata": {},
     "output_type": "execute_result"
    }
   ],
   "source": [
    "pca.shape"
   ]
  },
  {
   "cell_type": "code",
   "execution_count": 26,
   "metadata": {
    "ExecuteTime": {
     "end_time": "2020-10-20T15:25:48.828217Z",
     "start_time": "2020-10-20T15:25:48.610118Z"
    }
   },
   "outputs": [
    {
     "data": {
      "image/png": "[encoded data removed]",
      "text/plain": [
       "<Figure size 576x576 with 1 Axes>"
      ]
     },
     "metadata": {},
     "output_type": "display_data"
    }
   ],
   "source": [
    "plt.figure(figsize=(8, 8))\n",
    "for label in set(kmeans.labels_):\n",
    "    indexes = np.array((kmeans.labels_==label).nonzero())\n",
    "    plt.scatter(pca[indexes,0], pca[indexes,1], label=label)\n",
    "plt.xlabel('Component_1')\n",
    "plt.ylabel('Component 2')\n",
    "plt.legend()\n",
    "plt.show()"
   ]
  },
  {
   "cell_type": "code",
   "execution_count": 27,
   "metadata": {
    "ExecuteTime": {
     "end_time": "2020-10-20T15:25:48.849950Z",
     "start_time": "2020-10-20T15:25:48.831945Z"
    }
   },
   "outputs": [
    {
     "data": {
      "text/html": [
       "<div>\n",
       "<style scoped>\n",
       "    .dataframe tbody tr th:only-of-type {\n",
       "        vertical-align: middle;\n",
       "    }\n",
       "\n",
       "    .dataframe tbody tr th {\n",
       "        vertical-align: top;\n",
       "    }\n",
       "\n",
       "    .dataframe thead th {\n",
       "        text-align: right;\n",
       "    }\n",
       "</style>\n",
       "<table border=\"1\" class=\"dataframe\">\n",
       "  <thead>\n",
       "    <tr style=\"text-align: right;\">\n",
       "      <th></th>\n",
       "      <th>PDH</th>\n",
       "      <th>PWD</th>\n",
       "      <th>WS1</th>\n",
       "      <th>WS2</th>\n",
       "      <th>WS3</th>\n",
       "      <th>FDH</th>\n",
       "      <th>FWH</th>\n",
       "      <th>FWD</th>\n",
       "    </tr>\n",
       "  </thead>\n",
       "  <tbody>\n",
       "    <tr>\n",
       "      <th>0</th>\n",
       "      <td>-0.510228</td>\n",
       "      <td>-0.629091</td>\n",
       "      <td>-0.588369</td>\n",
       "      <td>-0.586019</td>\n",
       "      <td>-0.574899</td>\n",
       "      <td>-0.380899</td>\n",
       "      <td>-0.515780</td>\n",
       "      <td>-0.628833</td>\n",
       "    </tr>\n",
       "    <tr>\n",
       "      <th>1</th>\n",
       "      <td>0.618023</td>\n",
       "      <td>0.761998</td>\n",
       "      <td>0.712673</td>\n",
       "      <td>0.709826</td>\n",
       "      <td>0.696357</td>\n",
       "      <td>0.461370</td>\n",
       "      <td>0.624748</td>\n",
       "      <td>0.761685</td>\n",
       "    </tr>\n",
       "  </tbody>\n",
       "</table>\n",
       "</div>"
      ],
      "text/plain": [
       "        PDH       PWD       WS1       WS2       WS3       FDH       FWH  \\\n",
       "0 -0.510228 -0.629091 -0.588369 -0.586019 -0.574899 -0.380899 -0.515780   \n",
       "1  0.618023  0.761998  0.712673  0.709826  0.696357  0.461370  0.624748   \n",
       "\n",
       "        FWD  \n",
       "0 -0.628833  \n",
       "1  0.761685  "
      ]
     },
     "execution_count": 27,
     "metadata": {},
     "output_type": "execute_result"
    }
   ],
   "source": [
    "pd.DataFrame(kmeans.cluster_centers_, columns=[str(f).split('at')[0][-4:-1] for f in video_events_feature_types])"
   ]
  },
  {
   "cell_type": "markdown",
   "metadata": {},
   "source": [
    "## Classification"
   ]
  },
  {
   "cell_type": "code",
   "execution_count": 28,
   "metadata": {
    "ExecuteTime": {
     "end_time": "2020-10-20T15:25:48.861027Z",
     "start_time": "2020-10-20T15:25:48.853496Z"
    }
   },
   "outputs": [],
   "source": [
    "X, y = scaled_user_vectors, kmeans.labels_"
   ]
  },
  {
   "cell_type": "code",
   "execution_count": 29,
   "metadata": {
    "ExecuteTime": {
     "end_time": "2020-10-20T15:25:48.873890Z",
     "start_time": "2020-10-20T15:25:48.865277Z"
    }
   },
   "outputs": [],
   "source": [
    "X_train, X_test, y_train, y_test = train_test_split(X, y, test_size=0.25, random_state=42)"
   ]
  },
  {
   "cell_type": "code",
   "execution_count": 30,
   "metadata": {
    "ExecuteTime": {
     "end_time": "2020-10-20T15:25:48.886592Z",
     "start_time": "2020-10-20T15:25:48.877316Z"
    }
   },
   "outputs": [],
   "source": [
    "clf = svm.SVC(decision_function_shape='ovo').fit(X_train, y_train)"
   ]
  },
  {
   "cell_type": "code",
   "execution_count": 31,
   "metadata": {
    "ExecuteTime": {
     "end_time": "2020-10-20T15:25:48.897131Z",
     "start_time": "2020-10-20T15:25:48.889950Z"
    }
   },
   "outputs": [],
   "source": [
    "y_pred = clf.predict(X_test)"
   ]
  },
  {
   "cell_type": "code",
   "execution_count": 32,
   "metadata": {
    "ExecuteTime": {
     "end_time": "2020-10-20T15:25:48.910559Z",
     "start_time": "2020-10-20T15:25:48.900234Z"
    }
   },
   "outputs": [
    {
     "data": {
      "text/plain": [
       "('Acc', 1.0, 'Prec', 1.0, 'Rec', 1.0)"
      ]
     },
     "execution_count": 32,
     "metadata": {},
     "output_type": "execute_result"
    }
   ],
   "source": [
    "'Acc', accuracy_score(y_test, y_pred), 'Prec', accuracy_score(y_test, y_pred), 'Rec', accuracy_score(y_test, y_pred)"
   ]
  },
  {
   "cell_type": "code",
   "execution_count": 33,
   "metadata": {
    "ExecuteTime": {
     "end_time": "2020-10-20T15:25:49.141766Z",
     "start_time": "2020-10-20T15:25:48.914008Z"
    }
   },
   "outputs": [
    {
     "data": {
      "text/plain": [
       "<sklearn.metrics._plot.confusion_matrix.ConfusionMatrixDisplay at 0x12606d048>"
      ]
     },
     "execution_count": 33,
     "metadata": {},
     "output_type": "execute_result"
    },
    {
     "data": {
      "image/png": "[encoded data removed]",
      "text/plain": [
       "<Figure size 432x288 with 2 Axes>"
      ]
     },
     "metadata": {},
     "output_type": "display_data"
    }
   ],
   "source": [
    "plot_confusion_matrix(clf, X_test, y_test, display_labels=['0','1'], cmap=plt.cm.Blues)"
   ]
  },
  {
   "cell_type": "markdown",
   "metadata": {},
   "source": [
    "## References\n",
    "\n",
    "1. Boroujeni M.S., Sharma K., Kidziński Ł., Lucignano L., Dillenbourg P. (2016) How to Quantify Student’s Regularity?. In: Verbert K., Sharples M., Klobučar T. (eds) Adaptive and Adaptable Learning. EC-TEL 2016. Lecture Notes in Computer Science, vol 9891. Springer, Cham. https://doi.org/10.1007/978-3-319-45153-4_21"
   ]
  },
  {
   "cell_type": "markdown",
   "metadata": {},
   "source": [
    "## Todo\n",
    "\n",
    "- Create new features based on the available metadata\n",
    "- Identify which features are the most discriminative\n",
    "- Exploring the characteristics of the identified clusters\n",
    "- Test classification using a temporal subset for the test set\n",
    "- Link the score of success to possible hints to provide to students, i.e., which feature should I change to increase success \n",
    "- Think about possible applications, e.g., providing a score of success, providing hints to increase it\n",
    "- Embed logic to determine what the student should do next to increase the probability of success, with explanations"
   ]
  },
  {
   "cell_type": "code",
   "execution_count": null,
   "metadata": {},
   "outputs": [],
   "source": []
  }
 ],
 "metadata": {
  "kernelspec": {
   "display_name": "Python 3",
   "language": "python",
   "name": "python3"
  },
  "language_info": {
   "codemirror_mode": {
    "name": "ipython",
    "version": 3
   },
   "file_extension": ".py",
   "mimetype": "text/x-python",
   "name": "python",
   "nbconvert_exporter": "python",
   "pygments_lexer": "ipython3",
   "version": "3.7.1"
  },
  "toc": {
   "base_numbering": 1,
   "nav_menu": {},
   "number_sections": true,
   "sideBar": true,
   "skip_h1_title": false,
   "title_cell": "Table of Contents",
   "title_sidebar": "Contents",
   "toc_cell": false,
   "toc_position": {
    "height": "calc(100% - 180px)",
    "left": "10px",
    "top": "150px",
    "width": "256px"
   },
   "toc_section_display": true,
   "toc_window_display": true
  }
 },
 "nbformat": 4,
 "nbformat_minor": 1
}
