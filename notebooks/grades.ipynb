{
 "cells": [
  {
   "cell_type": "code",
   "execution_count": 247,
   "metadata": {
    "ExecuteTime": {
     "end_time": "2020-10-20T13:39:48.609866Z",
     "start_time": "2020-10-20T13:39:48.569340Z"
    }
   },
   "outputs": [],
   "source": [
    "#Library imports\n",
    "\n",
    "import numpy as np\n",
    "import pandas as pd\n",
    "import matplotlib.pyplot as plt\n",
    "import seaborn as sns\n",
    "sns.set_style(\"darkgrid\")\n",
    "from datetime import datetime, timedelta, date\n",
    "import time\n",
    "import sys\n",
    "import os"
   ]
  },
  {
   "cell_type": "code",
   "execution_count": 2,
   "metadata": {
    "ExecuteTime": {
     "end_time": "2020-10-20T11:24:47.383993Z",
     "start_time": "2020-10-20T11:24:47.371016Z"
    }
   },
   "outputs": [],
   "source": [
    "sys.path.append(os.path.abspath(os.path.join('..')))"
   ]
  },
  {
   "cell_type": "code",
   "execution_count": 230,
   "metadata": {
    "ExecuteTime": {
     "end_time": "2020-10-20T13:33:32.159760Z",
     "start_time": "2020-10-20T13:33:32.112802Z"
    }
   },
   "outputs": [
    {
     "name": "stdout",
     "output_type": "stream",
     "text": [
      "The autoreload extension is already loaded. To reload it, use:\n",
      "  %reload_ext autoreload\n"
     ]
    }
   ],
   "source": [
    "%load_ext autoreload\n",
    "%autoreload 2\n",
    "\n",
    "from helpers.db_query import *"
   ]
  },
  {
   "cell_type": "markdown",
   "metadata": {},
   "source": [
    "# Flipped grades"
   ]
  },
  {
   "cell_type": "code",
   "execution_count": 203,
   "metadata": {
    "ExecuteTime": {
     "end_time": "2020-10-20T13:13:52.053600Z",
     "start_time": "2020-10-20T13:13:51.407045Z"
    },
    "scrolled": false
   },
   "outputs": [
    {
     "name": "stdout",
     "output_type": "stream",
     "text": [
      "CPU times: user 40.6 ms, sys: 6.88 ms, total: 47.5 ms\n",
      "Wall time: 538 ms\n"
     ]
    }
   ],
   "source": [
    "%time grades_df = getFlippedGrades()"
   ]
  },
  {
   "cell_type": "code",
   "execution_count": 304,
   "metadata": {
    "ExecuteTime": {
     "end_time": "2020-10-20T15:02:01.992835Z",
     "start_time": "2020-10-20T15:02:01.934151Z"
    }
   },
   "outputs": [
    {
     "name": "stdout",
     "output_type": "stream",
     "text": [
      "(419, 5)\n"
     ]
    },
    {
     "data": {
      "text/html": [
       "<div>\n",
       "<style scoped>\n",
       "    .dataframe tbody tr th:only-of-type {\n",
       "        vertical-align: middle;\n",
       "    }\n",
       "\n",
       "    .dataframe tbody tr th {\n",
       "        vertical-align: top;\n",
       "    }\n",
       "\n",
       "    .dataframe thead th {\n",
       "        text-align: right;\n",
       "    }\n",
       "</style>\n",
       "<table border=\"1\" class=\"dataframe\">\n",
       "  <thead>\n",
       "    <tr style=\"text-align: right;\">\n",
       "      <th></th>\n",
       "      <th>AcademicYear</th>\n",
       "      <th>Grade</th>\n",
       "      <th>PlanSection</th>\n",
       "      <th>PlanCursus</th>\n",
       "      <th>AccountUserID</th>\n",
       "    </tr>\n",
       "  </thead>\n",
       "  <tbody>\n",
       "    <tr>\n",
       "      <th>0</th>\n",
       "      <td>2018-2019</td>\n",
       "      <td>5.00</td>\n",
       "      <td>Informatique</td>\n",
       "      <td>IN - Bachelor 2018</td>\n",
       "      <td>46938</td>\n",
       "    </tr>\n",
       "    <tr>\n",
       "      <th>1</th>\n",
       "      <td>2017-2018</td>\n",
       "      <td>4.25</td>\n",
       "      <td>Génie mécanique</td>\n",
       "      <td>GM - Bachelor 2017</td>\n",
       "      <td>8402</td>\n",
       "    </tr>\n",
       "    <tr>\n",
       "      <th>2</th>\n",
       "      <td>2017-2018</td>\n",
       "      <td>3.25</td>\n",
       "      <td>Génie électrique et électronique</td>\n",
       "      <td>EL - Bachelor 2017</td>\n",
       "      <td>9866</td>\n",
       "    </tr>\n",
       "    <tr>\n",
       "      <th>3</th>\n",
       "      <td>2018-2019</td>\n",
       "      <td>5.50</td>\n",
       "      <td>Informatique</td>\n",
       "      <td>IN - Bachelor 2018</td>\n",
       "      <td>49638</td>\n",
       "    </tr>\n",
       "    <tr>\n",
       "      <th>4</th>\n",
       "      <td>2017-2018</td>\n",
       "      <td>3.75</td>\n",
       "      <td>Génie mécanique</td>\n",
       "      <td>GM - Bachelor 2017</td>\n",
       "      <td>11354</td>\n",
       "    </tr>\n",
       "  </tbody>\n",
       "</table>\n",
       "</div>"
      ],
      "text/plain": [
       "  AcademicYear  Grade                       PlanSection          PlanCursus  \\\n",
       "0    2018-2019   5.00                      Informatique  IN - Bachelor 2018   \n",
       "1    2017-2018   4.25                   Génie mécanique  GM - Bachelor 2017   \n",
       "2    2017-2018   3.25  Génie électrique et électronique  EL - Bachelor 2017   \n",
       "3    2018-2019   5.50                      Informatique  IN - Bachelor 2018   \n",
       "4    2017-2018   3.75                   Génie mécanique  GM - Bachelor 2017   \n",
       "\n",
       "  AccountUserID  \n",
       "0         46938  \n",
       "1          8402  \n",
       "2          9866  \n",
       "3         49638  \n",
       "4         11354  "
      ]
     },
     "execution_count": 304,
     "metadata": {},
     "output_type": "execute_result"
    }
   ],
   "source": [
    "print(grades_df.shape)\n",
    "grades_df.head()"
   ]
  },
  {
   "cell_type": "code",
   "execution_count": 207,
   "metadata": {
    "ExecuteTime": {
     "end_time": "2020-10-20T13:14:38.915884Z",
     "start_time": "2020-10-20T13:14:38.869652Z"
    }
   },
   "outputs": [
    {
     "data": {
      "text/plain": [
       "AcademicYear\n",
       "2017-2018     92\n",
       "2018-2019    162\n",
       "2019-2020    165\n",
       "dtype: int64"
      ]
     },
     "execution_count": 207,
     "metadata": {},
     "output_type": "execute_result"
    }
   ],
   "source": [
    "grades_df.groupby(\"AcademicYear\").size()"
   ]
  },
  {
   "cell_type": "code",
   "execution_count": 258,
   "metadata": {
    "ExecuteTime": {
     "end_time": "2020-10-20T13:42:34.423839Z",
     "start_time": "2020-10-20T13:42:34.377130Z"
    }
   },
   "outputs": [
    {
     "data": {
      "text/plain": [
       "count    419.000000\n",
       "mean       3.983294\n",
       "std        1.192463\n",
       "min        1.000000\n",
       "25%        3.250000\n",
       "50%        4.250000\n",
       "75%        5.000000\n",
       "max        6.000000\n",
       "Name: Grade, dtype: float64"
      ]
     },
     "execution_count": 258,
     "metadata": {},
     "output_type": "execute_result"
    }
   ],
   "source": [
    "grades_df.Grade.describe()"
   ]
  },
  {
   "cell_type": "code",
   "execution_count": 210,
   "metadata": {
    "ExecuteTime": {
     "end_time": "2020-10-20T13:15:23.387957Z",
     "start_time": "2020-10-20T13:15:23.017872Z"
    },
    "scrolled": true
   },
   "outputs": [
    {
     "data": {
      "image/png": "[encoded data removed]",
      "text/plain": [
       "<Figure size 432x288 with 1 Axes>"
      ]
     },
     "metadata": {
      "needs_background": "light"
     },
     "output_type": "display_data"
    }
   ],
   "source": [
    "sns.histplot(grades_df.Grade);"
   ]
  },
  {
   "cell_type": "code",
   "execution_count": 251,
   "metadata": {
    "ExecuteTime": {
     "end_time": "2020-10-20T13:40:14.297286Z",
     "start_time": "2020-10-20T13:40:12.637831Z"
    }
   },
   "outputs": [
    {
     "data": {
      "image/png": "[encoded data removed]",
      "text/plain": [
       "<Figure size 1080x360 with 3 Axes>"
      ]
     },
     "metadata": {},
     "output_type": "display_data"
    }
   ],
   "source": [
    "fig, axes = plt.subplots(1,3,figsize=(15,5))\n",
    "for i, year in enumerate(grades_df.AcademicYear.unique()):\n",
    "    sns.histplot(grades_df.loc[grades_df.AcademicYear == year].Grade, ax=axes[i])"
   ]
  },
  {
   "cell_type": "markdown",
   "metadata": {},
   "source": [
    "# Control grades"
   ]
  },
  {
   "cell_type": "code",
   "execution_count": 219,
   "metadata": {
    "ExecuteTime": {
     "end_time": "2020-10-20T13:18:10.022000Z",
     "start_time": "2020-10-20T13:18:09.585306Z"
    }
   },
   "outputs": [
    {
     "name": "stdout",
     "output_type": "stream",
     "text": [
      "CPU times: user 35.5 ms, sys: 5.22 ms, total: 40.7 ms\n",
      "Wall time: 378 ms\n"
     ]
    }
   ],
   "source": [
    "%time control_grades_df = getControlGrades()"
   ]
  },
  {
   "cell_type": "code",
   "execution_count": 220,
   "metadata": {
    "ExecuteTime": {
     "end_time": "2020-10-20T13:18:11.143369Z",
     "start_time": "2020-10-20T13:18:11.093369Z"
    }
   },
   "outputs": [
    {
     "name": "stdout",
     "output_type": "stream",
     "text": [
      "(981, 4)\n"
     ]
    },
    {
     "data": {
      "text/html": [
       "<div>\n",
       "<style scoped>\n",
       "    .dataframe tbody tr th:only-of-type {\n",
       "        vertical-align: middle;\n",
       "    }\n",
       "\n",
       "    .dataframe tbody tr th {\n",
       "        vertical-align: top;\n",
       "    }\n",
       "\n",
       "    .dataframe thead th {\n",
       "        text-align: right;\n",
       "    }\n",
       "</style>\n",
       "<table border=\"1\" class=\"dataframe\">\n",
       "  <thead>\n",
       "    <tr style=\"text-align: right;\">\n",
       "      <th></th>\n",
       "      <th>AcademicYear</th>\n",
       "      <th>Grade</th>\n",
       "      <th>PlanSection</th>\n",
       "      <th>PlanCursus</th>\n",
       "    </tr>\n",
       "  </thead>\n",
       "  <tbody>\n",
       "    <tr>\n",
       "      <th>0</th>\n",
       "      <td>2018-2019</td>\n",
       "      <td>4.25</td>\n",
       "      <td>Génie mécanique</td>\n",
       "      <td>GM - Bachelor 2018</td>\n",
       "    </tr>\n",
       "    <tr>\n",
       "      <th>1</th>\n",
       "      <td>2017-2018</td>\n",
       "      <td>3.25</td>\n",
       "      <td>Génie mécanique</td>\n",
       "      <td>GM - Bachelor 2017</td>\n",
       "    </tr>\n",
       "    <tr>\n",
       "      <th>2</th>\n",
       "      <td>2018-2019</td>\n",
       "      <td>5.75</td>\n",
       "      <td>Informatique</td>\n",
       "      <td>IN - Bachelor 2018</td>\n",
       "    </tr>\n",
       "    <tr>\n",
       "      <th>3</th>\n",
       "      <td>2017-2018</td>\n",
       "      <td>3.50</td>\n",
       "      <td>Informatique</td>\n",
       "      <td>IN - Bachelor 2017</td>\n",
       "    </tr>\n",
       "    <tr>\n",
       "      <th>4</th>\n",
       "      <td>2018-2019</td>\n",
       "      <td>4.50</td>\n",
       "      <td>Sciences et technologies du vivant</td>\n",
       "      <td>SV - Bachelor 2018</td>\n",
       "    </tr>\n",
       "  </tbody>\n",
       "</table>\n",
       "</div>"
      ],
      "text/plain": [
       "  AcademicYear  Grade                         PlanSection          PlanCursus\n",
       "0    2018-2019   4.25                     Génie mécanique  GM - Bachelor 2018\n",
       "1    2017-2018   3.25                     Génie mécanique  GM - Bachelor 2017\n",
       "2    2018-2019   5.75                        Informatique  IN - Bachelor 2018\n",
       "3    2017-2018   3.50                        Informatique  IN - Bachelor 2017\n",
       "4    2018-2019   4.50  Sciences et technologies du vivant  SV - Bachelor 2018"
      ]
     },
     "execution_count": 220,
     "metadata": {},
     "output_type": "execute_result"
    }
   ],
   "source": [
    "print(control_grades_df.shape)\n",
    "control_grades_df.head()"
   ]
  },
  {
   "cell_type": "code",
   "execution_count": 221,
   "metadata": {
    "ExecuteTime": {
     "end_time": "2020-10-20T13:18:15.568987Z",
     "start_time": "2020-10-20T13:18:15.504748Z"
    },
    "scrolled": true
   },
   "outputs": [
    {
     "data": {
      "text/plain": [
       "AcademicYear\n",
       "2015-2016      1\n",
       "2016-2017     63\n",
       "2017-2018    364\n",
       "2018-2019    262\n",
       "2019-2020    291\n",
       "dtype: int64"
      ]
     },
     "execution_count": 221,
     "metadata": {},
     "output_type": "execute_result"
    }
   ],
   "source": [
    "control_grades_df.groupby(\"AcademicYear\").size()"
   ]
  },
  {
   "cell_type": "code",
   "execution_count": 256,
   "metadata": {
    "ExecuteTime": {
     "end_time": "2020-10-20T13:42:21.935695Z",
     "start_time": "2020-10-20T13:42:21.878214Z"
    }
   },
   "outputs": [
    {
     "data": {
      "text/plain": [
       "count    981.000000\n",
       "mean       3.873089\n",
       "std        1.161873\n",
       "min        1.000000\n",
       "25%        3.000000\n",
       "50%        4.000000\n",
       "75%        4.750000\n",
       "max        6.000000\n",
       "Name: Grade, dtype: float64"
      ]
     },
     "execution_count": 256,
     "metadata": {},
     "output_type": "execute_result"
    }
   ],
   "source": [
    "control_grades_df.Grade.describe()"
   ]
  },
  {
   "cell_type": "code",
   "execution_count": 228,
   "metadata": {
    "ExecuteTime": {
     "end_time": "2020-10-20T13:19:48.457299Z",
     "start_time": "2020-10-20T13:19:48.069937Z"
    },
    "scrolled": true
   },
   "outputs": [
    {
     "data": {
      "image/png": "[encoded data removed]",
      "text/plain": [
       "<Figure size 432x288 with 1 Axes>"
      ]
     },
     "metadata": {
      "needs_background": "light"
     },
     "output_type": "display_data"
    }
   ],
   "source": [
    "sns.histplot(control_grades_df.Grade);"
   ]
  },
  {
   "cell_type": "code",
   "execution_count": 253,
   "metadata": {
    "ExecuteTime": {
     "end_time": "2020-10-20T13:40:56.269852Z",
     "start_time": "2020-10-20T13:40:54.878126Z"
    }
   },
   "outputs": [
    {
     "data": {
      "image/png": "[encoded data removed]",
      "text/plain": [
       "<Figure size 1080x360 with 5 Axes>"
      ]
     },
     "metadata": {},
     "output_type": "display_data"
    }
   ],
   "source": [
    "fig, axes = plt.subplots(1,control_grades_df.AcademicYear.nunique(),figsize=(15,5))\n",
    "for i, year in enumerate(control_grades_df.AcademicYear.unique()):\n",
    "    sns.histplot(control_grades_df.loc[control_grades_df.AcademicYear == year].Grade, ax=axes[i])"
   ]
  },
  {
   "cell_type": "markdown",
   "metadata": {},
   "source": [
    "# Integrate only students registered on isa"
   ]
  },
  {
   "cell_type": "code",
   "execution_count": 308,
   "metadata": {
    "ExecuteTime": {
     "end_time": "2020-10-20T15:07:25.524443Z",
     "start_time": "2020-10-20T15:07:25.003824Z"
    },
    "scrolled": true
   },
   "outputs": [
    {
     "name": "stdout",
     "output_type": "stream",
     "text": [
      "412\n"
     ]
    },
    {
     "data": {
      "text/plain": [
       "0    46938\n",
       "1     8402\n",
       "2     9866\n",
       "3    49638\n",
       "4    11354\n",
       "Name: AccountUserID, dtype: object"
      ]
     },
     "execution_count": 308,
     "metadata": {},
     "output_type": "execute_result"
    }
   ],
   "source": [
    "user_id = getFlippedAccountUserID()\n",
    "print(len(user_id))\n",
    "user_id.head()"
   ]
  },
  {
   "cell_type": "markdown",
   "metadata": {},
   "source": [
    "## Videos"
   ]
  },
  {
   "cell_type": "code",
   "execution_count": 259,
   "metadata": {
    "ExecuteTime": {
     "end_time": "2020-10-20T13:48:39.884266Z",
     "start_time": "2020-10-20T13:48:20.310218Z"
    }
   },
   "outputs": [
    {
     "name": "stdout",
     "output_type": "stream",
     "text": [
      "CPU times: user 15 s, sys: 1.27 s, total: 16.2 s\n",
      "Wall time: 19.5 s\n"
     ]
    }
   ],
   "source": [
    "%time videos_df = getVideoEvents(with_2019=True)"
   ]
  },
  {
   "cell_type": "code",
   "execution_count": 293,
   "metadata": {
    "ExecuteTime": {
     "end_time": "2020-10-20T14:16:46.740626Z",
     "start_time": "2020-10-20T14:16:27.755499Z"
    },
    "scrolled": true
   },
   "outputs": [
    {
     "name": "stdout",
     "output_type": "stream",
     "text": [
      "CPU times: user 16.5 s, sys: 1.26 s, total: 17.8 s\n",
      "Wall time: 18.9 s\n"
     ]
    }
   ],
   "source": [
    "%time isa_videos_df = getVideoEvents(with_2019=True, isa_only=True)"
   ]
  },
  {
   "cell_type": "code",
   "execution_count": 294,
   "metadata": {
    "ExecuteTime": {
     "end_time": "2020-10-20T14:16:50.396376Z",
     "start_time": "2020-10-20T14:16:50.038903Z"
    }
   },
   "outputs": [
    {
     "name": "stdout",
     "output_type": "stream",
     "text": [
      "Filtering removed 37758 events and 89 users\n"
     ]
    }
   ],
   "source": [
    "event_diff = len(videos_df) - len(isa_videos_df)\n",
    "user_diff = videos_df.AccountUserID.nunique() - isa_videos_df.AccountUserID.nunique()\n",
    "print(\"Filtering removed {} events and {} users\".format(event_diff, user_diff))"
   ]
  },
  {
   "cell_type": "code",
   "execution_count": 301,
   "metadata": {
    "ExecuteTime": {
     "end_time": "2020-10-20T14:58:16.218282Z",
     "start_time": "2020-10-20T14:58:14.477240Z"
    },
    "scrolled": true
   },
   "outputs": [
    {
     "data": {
      "text/plain": [
       "Year\n",
       "2017     91\n",
       "2018    161\n",
       "2019    159\n",
       "dtype: int64"
      ]
     },
     "execution_count": 301,
     "metadata": {},
     "output_type": "execute_result"
    }
   ],
   "source": [
    "isa_videos_df.drop_duplicates(\"AccountUserID\").groupby(\"Year\").size()"
   ]
  },
  {
   "cell_type": "markdown",
   "metadata": {},
   "source": [
    "## Problems"
   ]
  },
  {
   "cell_type": "code",
   "execution_count": 282,
   "metadata": {
    "ExecuteTime": {
     "end_time": "2020-10-20T14:12:35.670790Z",
     "start_time": "2020-10-20T14:12:30.014196Z"
    }
   },
   "outputs": [
    {
     "name": "stdout",
     "output_type": "stream",
     "text": [
      "CPU times: user 4.2 s, sys: 322 ms, total: 4.52 s\n",
      "Wall time: 5.52 s\n"
     ]
    }
   ],
   "source": [
    "%time problems_df = getProblemEvents()"
   ]
  },
  {
   "cell_type": "code",
   "execution_count": 295,
   "metadata": {
    "ExecuteTime": {
     "end_time": "2020-10-20T14:17:07.449453Z",
     "start_time": "2020-10-20T14:17:00.917637Z"
    }
   },
   "outputs": [
    {
     "name": "stdout",
     "output_type": "stream",
     "text": [
      "CPU times: user 4.45 s, sys: 314 ms, total: 4.77 s\n",
      "Wall time: 6.48 s\n"
     ]
    }
   ],
   "source": [
    "%time isa_problems_df = getProblemEvents(isa_only=True)"
   ]
  },
  {
   "cell_type": "code",
   "execution_count": 296,
   "metadata": {
    "ExecuteTime": {
     "end_time": "2020-10-20T14:17:07.611440Z",
     "start_time": "2020-10-20T14:17:07.455738Z"
    }
   },
   "outputs": [
    {
     "name": "stdout",
     "output_type": "stream",
     "text": [
      "Filtering removed 8431 events and 28 users\n"
     ]
    }
   ],
   "source": [
    "event_diff = len(problems_df) - len(isa_problems_df)\n",
    "user_diff = problems_df.AccountUserID.nunique() - isa_problems_df.AccountUserID.nunique()\n",
    "print(\"Filtering removed {} events and {} users\".format(event_diff, user_diff))"
   ]
  },
  {
   "cell_type": "code",
   "execution_count": null,
   "metadata": {},
   "outputs": [],
   "source": []
  }
 ],
 "metadata": {
  "kernelspec": {
   "display_name": "Python 3",
   "language": "python",
   "name": "python3"
  },
  "language_info": {
   "codemirror_mode": {
    "name": "ipython",
    "version": 3
   },
   "file_extension": ".py",
   "mimetype": "text/x-python",
   "name": "python",
   "nbconvert_exporter": "python",
   "pygments_lexer": "ipython3",
   "version": "3.7.1"
  },
  "toc": {
   "base_numbering": 1,
   "nav_menu": {},
   "number_sections": true,
   "sideBar": true,
   "skip_h1_title": false,
   "title_cell": "Table of Contents",
   "title_sidebar": "Contents",
   "toc_cell": false,
   "toc_position": {},
   "toc_section_display": true,
   "toc_window_display": false
  }
 },
 "nbformat": 4,
 "nbformat_minor": 2
}
