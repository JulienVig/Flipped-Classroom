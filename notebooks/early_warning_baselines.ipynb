{
 "cells": [
  {
   "cell_type": "markdown",
   "metadata": {},
   "source": [
    "# Exploratory study on existing early warning systems"
   ]
  },
  {
   "cell_type": "markdown",
   "metadata": {},
   "source": [
    "## * Setup of the working environment *"
   ]
  },
  {
   "cell_type": "markdown",
   "metadata": {},
   "source": [
    "### Import traditional Python packages"
   ]
  },
  {
   "cell_type": "code",
   "execution_count": 1,
   "metadata": {
    "ExecuteTime": {
     "end_time": "2020-11-20T22:24:36.486315Z",
     "start_time": "2020-11-20T22:24:20.515516Z"
    }
   },
   "outputs": [],
   "source": [
    "from sklearn.metrics import accuracy_score, precision_score, recall_score, f1_score\n",
    "from datetime import datetime as dt, timedelta, date\n",
    "\n",
    "import matplotlib.pyplot as plt\n",
    "import seaborn as sns\n",
    "\n",
    "import pandas as pd\n",
    "import numpy as np\n",
    "import time\n",
    "import math\n",
    "import json\n",
    "import sys\n",
    "import os"
   ]
  },
  {
   "cell_type": "code",
   "execution_count": 2,
   "metadata": {
    "ExecuteTime": {
     "end_time": "2020-11-20T22:24:36.662994Z",
     "start_time": "2020-11-20T22:24:36.490177Z"
    }
   },
   "outputs": [],
   "source": [
    "from sklearn.ensemble import RandomForestClassifier, AdaBoostClassifier\n",
    "from sklearn.linear_model import LogisticRegression, Lasso\n",
    "from sklearn.neighbors import KNeighborsClassifier\n",
    "from sklearn.neural_network import MLPClassifier\n",
    "from sklearn.tree import DecisionTreeClassifier\n",
    "from sklearn.naive_bayes import GaussianNB\n",
    "from sklearn.svm import SVC"
   ]
  },
  {
   "cell_type": "code",
   "execution_count": 3,
   "metadata": {},
   "outputs": [],
   "source": [
    "import warnings\n",
    "warnings.filterwarnings('ignore')"
   ]
  },
  {
   "cell_type": "markdown",
   "metadata": {},
   "source": [
    "### Import custom Python modules"
   ]
  },
  {
   "cell_type": "code",
   "execution_count": 4,
   "metadata": {
    "ExecuteTime": {
     "end_time": "2020-11-20T22:24:36.675278Z",
     "start_time": "2020-11-20T22:24:36.667631Z"
    }
   },
   "outputs": [],
   "source": [
    "sys.path.append(os.path.abspath(os.path.join('..')))"
   ]
  },
  {
   "cell_type": "code",
   "execution_count": 5,
   "metadata": {
    "ExecuteTime": {
     "end_time": "2020-11-20T22:24:36.766743Z",
     "start_time": "2020-11-20T22:24:36.680313Z"
    }
   },
   "outputs": [],
   "source": [
    "%load_ext autoreload\n",
    "%autoreload 2"
   ]
  },
  {
   "cell_type": "code",
   "execution_count": 6,
   "metadata": {
    "ExecuteTime": {
     "end_time": "2020-11-20T22:24:42.328383Z",
     "start_time": "2020-11-20T22:24:36.771236Z"
    }
   },
   "outputs": [],
   "source": [
    "from helpers.db_connector import MySQLConnector\n",
    "from helpers.db_query import *\n",
    "\n",
    "from helpers.data_process import *\n",
    "from helpers.feature_extraction import *\n",
    "\n",
    "from extractors.akpinar_et_al import AkpinarEtAl\n",
    "from extractors.boroujeni_et_al import BoroujeniEtAl\n",
    "from extractors.chen_cui import ChenCui\n",
    "from extractors.he_et_al import HeEtAl\n",
    "from extractors.lalle_conati import LalleConati\n",
    "from extractors.lemay_doleck import LemayDoleck\n",
    "from extractors.mbouzao_et_al import MbouzaoEtAl\n",
    "from extractors.mubarak_et_al import MubarakEtAl\n",
    "from extractors.wan_et_al import WanEtAl\n",
    "\n",
    "from helpers.ml_utils import *\n",
    "\n",
    "from helpers.time import *"
   ]
  },
  {
   "cell_type": "markdown",
   "metadata": {},
   "source": [
    "## * Load the clickstream data *\n",
    "\n",
    "Since Fall 2017, the stream of the EPFL's Linear Algebra course has been taught in a flipped format. The implementation of the flipped classroom was carried out in an incremental manner, as described below:\n",
    "\n",
    "- **Year 2017-2018**: traditional manner (weeks 1-13) - flipped manner (week 14).\n",
    "- **Year 2018-2019**: traditional manner (weeks 1-4, 10-14) - flipped manner (weeks 5-9).\n",
    "- **Year 2019-2020**: traditional manner (weeks 1-4) - flipped manner (weeks 5-14)."
   ]
  },
  {
   "cell_type": "code",
   "execution_count": 7,
   "metadata": {
    "ExecuteTime": {
     "end_time": "2020-11-20T22:24:46.218522Z",
     "start_time": "2020-11-20T22:24:46.129465Z"
    }
   },
   "outputs": [],
   "source": [
    "rounds = ['Y2-2018-19', 'Y3-2019-20']"
   ]
  },
  {
   "cell_type": "markdown",
   "metadata": {},
   "source": [
    "### Identifying Students\n",
    "\n",
    "\n",
    "The flipped course was offered only to volunteering students. The volunteers were collectively assigned into either the experimental and the control group. A stratified random sampling based on gender and the prior background (secondary educational level) of students were used."
   ]
  },
  {
   "cell_type": "code",
   "execution_count": 8,
   "metadata": {
    "ExecuteTime": {
     "end_time": "2020-11-20T22:26:03.826891Z",
     "start_time": "2020-11-20T22:24:46.229101Z"
    }
   },
   "outputs": [
    {
     "name": "stdout",
     "output_type": "stream",
     "text": [
      "Wall time: 1min\n"
     ]
    }
   ],
   "source": [
    "%time userData = getUserInfo(prior_knowledge=True)"
   ]
  },
  {
   "cell_type": "markdown",
   "metadata": {},
   "source": [
    "The initial data of volunteers was cleaned, and some participants were removed before we analyzed the data:\n",
    "- The volunteering students who have not been graded were removed. \n",
    "- The repeating students were filtered out, where repeating students are those accessing videos in two different years. \n",
    "- The less active students, i.e., those who have provided less 60 interactions in the platform, were removed. "
   ]
  },
  {
   "cell_type": "markdown",
   "metadata": {},
   "source": [
    "Given that the Y1-2017-2018 round included only one week in a flipped classroom setting, we will remove the students of that round.  "
   ]
  },
  {
   "cell_type": "code",
   "execution_count": 9,
   "metadata": {
    "ExecuteTime": {
     "end_time": "2020-11-20T22:26:06.424585Z",
     "start_time": "2020-11-20T22:26:06.371873Z"
    }
   },
   "outputs": [],
   "source": [
    "userData = userData[userData['Round'].isin(rounds)]"
   ]
  },
  {
   "cell_type": "markdown",
   "metadata": {},
   "source": [
    "Some of the statistics on the user data are provided below. "
   ]
  },
  {
   "cell_type": "code",
   "execution_count": 10,
   "metadata": {
    "ExecuteTime": {
     "end_time": "2020-11-20T22:26:06.857994Z",
     "start_time": "2020-11-20T22:26:06.801193Z"
    },
    "scrolled": true
   },
   "outputs": [
    {
     "data": {
      "text/plain": [
       "('Number of students:', 214)"
      ]
     },
     "execution_count": 10,
     "metadata": {},
     "output_type": "execute_result"
    }
   ],
   "source": [
    "\"Number of students:\", len(userData)"
   ]
  },
  {
   "cell_type": "code",
   "execution_count": 11,
   "metadata": {
    "ExecuteTime": {
     "end_time": "2020-11-20T22:26:06.368620Z",
     "start_time": "2020-11-20T22:26:03.830848Z"
    }
   },
   "outputs": [
    {
     "data": {
      "image/png": "[encoded data removed]",
      "text/plain": [
       "<Figure size 360x360 with 1 Axes>"
      ]
     },
     "metadata": {
      "needs_background": "light"
     },
     "output_type": "display_data"
    }
   ],
   "source": [
    "sns.displot(userData, x='Round')\n",
    "plt.ylabel('Number of Students')\n",
    "plt.show()"
   ]
  },
  {
   "cell_type": "code",
   "execution_count": 12,
   "metadata": {
    "ExecuteTime": {
     "end_time": "2020-11-20T22:26:06.706025Z",
     "start_time": "2020-11-20T22:26:06.426968Z"
    }
   },
   "outputs": [
    {
     "data": {
      "image/png": "[encoded data removed]",
      "text/plain": [
       "<Figure size 360x360 with 1 Axes>"
      ]
     },
     "metadata": {
      "needs_background": "light"
     },
     "output_type": "display_data"
    }
   ],
   "source": [
    "sns.displot(userData, x='Gender')\n",
    "plt.ylabel('Number of Students')\n",
    "plt.show()"
   ]
  },
  {
   "cell_type": "code",
   "execution_count": 13,
   "metadata": {},
   "outputs": [
    {
     "data": {
      "image/png": "[encoded data removed]",
      "text/plain": [
       "<Figure size 360x360 with 1 Axes>"
      ]
     },
     "metadata": {
      "needs_background": "light"
     },
     "output_type": "display_data"
    }
   ],
   "source": [
    "sns.displot(userData, x='Category')\n",
    "plt.ylabel('Number of Students')\n",
    "plt.xticks(rotation=45)\n",
    "plt.show()"
   ]
  },
  {
   "cell_type": "markdown",
   "metadata": {},
   "source": [
    "### Getting Students' Records\n",
    "\n",
    "#### Video Clickstream Records"
   ]
  },
  {
   "cell_type": "code",
   "execution_count": 14,
   "metadata": {
    "ExecuteTime": {
     "end_time": "2020-11-20T22:28:37.180870Z",
     "start_time": "2020-11-20T22:26:06.860876Z"
    },
    "scrolled": true
   },
   "outputs": [
    {
     "name": "stdout",
     "output_type": "stream",
     "text": [
      "Wall time: 1min 39s\n"
     ]
    }
   ],
   "source": [
    "%time videoData = getVideoEventsInfo(mode='all')"
   ]
  },
  {
   "cell_type": "code",
   "execution_count": 15,
   "metadata": {
    "ExecuteTime": {
     "end_time": "2020-11-20T22:28:39.434522Z",
     "start_time": "2020-11-20T22:28:37.184371Z"
    }
   },
   "outputs": [],
   "source": [
    "videoData = videoData[videoData['Round'].isin(rounds)]"
   ]
  },
  {
   "cell_type": "code",
   "execution_count": 16,
   "metadata": {
    "ExecuteTime": {
     "end_time": "2020-11-20T22:28:39.562891Z",
     "start_time": "2020-11-20T22:28:39.505581Z"
    }
   },
   "outputs": [
    {
     "data": {
      "text/plain": [
       "('Number of video events:', 1416106)"
      ]
     },
     "execution_count": 16,
     "metadata": {},
     "output_type": "execute_result"
    }
   ],
   "source": [
    "\"Number of video events:\", len(videoData)"
   ]
  },
  {
   "cell_type": "markdown",
   "metadata": {},
   "source": [
    "#### Problem Clickstream Records"
   ]
  },
  {
   "cell_type": "code",
   "execution_count": 17,
   "metadata": {
    "ExecuteTime": {
     "end_time": "2020-11-20T22:30:22.052434Z",
     "start_time": "2020-11-20T22:28:39.565728Z"
    }
   },
   "outputs": [
    {
     "name": "stdout",
     "output_type": "stream",
     "text": [
      "Wall time: 1min 8s\n"
     ]
    }
   ],
   "source": [
    "%time problemData = getProblemEventsInfo()"
   ]
  },
  {
   "cell_type": "code",
   "execution_count": 18,
   "metadata": {
    "ExecuteTime": {
     "end_time": "2020-11-20T22:30:23.854203Z",
     "start_time": "2020-11-20T22:30:22.055613Z"
    }
   },
   "outputs": [],
   "source": [
    "problemData = problemData[problemData['Round'].isin(rounds)]"
   ]
  },
  {
   "cell_type": "code",
   "execution_count": 19,
   "metadata": {
    "ExecuteTime": {
     "end_time": "2020-11-20T22:30:23.989042Z",
     "start_time": "2020-11-20T22:30:23.934426Z"
    }
   },
   "outputs": [
    {
     "data": {
      "text/plain": [
       "('Number of problem events:', 473924)"
      ]
     },
     "execution_count": 19,
     "metadata": {},
     "output_type": "execute_result"
    }
   ],
   "source": [
    "\"Number of problem events:\", len(problemData)"
   ]
  },
  {
   "cell_type": "markdown",
   "metadata": {},
   "source": [
    "#### Exam Records"
   ]
  },
  {
   "cell_type": "code",
   "execution_count": 20,
   "metadata": {
    "ExecuteTime": {
     "end_time": "2020-11-20T22:32:32.026480Z",
     "start_time": "2020-11-20T22:30:24.000607Z"
    }
   },
   "outputs": [
    {
     "name": "stdout",
     "output_type": "stream",
     "text": [
      "Wall time: 1min 6s\n"
     ]
    }
   ],
   "source": [
    "%time examData = getExamInfo()"
   ]
  },
  {
   "cell_type": "code",
   "execution_count": 21,
   "metadata": {
    "ExecuteTime": {
     "end_time": "2020-11-20T22:32:33.693844Z",
     "start_time": "2020-11-20T22:32:32.032005Z"
    }
   },
   "outputs": [],
   "source": [
    "examData = examData[examData['Round'].isin(rounds)]"
   ]
  },
  {
   "cell_type": "code",
   "execution_count": 22,
   "metadata": {},
   "outputs": [],
   "source": [
    "examData = examData[examData['AccountUserID'].isin(userData['AccountUserID'])]"
   ]
  },
  {
   "cell_type": "code",
   "execution_count": 23,
   "metadata": {},
   "outputs": [
    {
     "data": {
      "text/plain": [
       "('Number of graded students:', 214)"
      ]
     },
     "execution_count": 23,
     "metadata": {},
     "output_type": "execute_result"
    }
   ],
   "source": [
    "\"Number of graded students:\", len(examData)"
   ]
  },
  {
   "cell_type": "markdown",
   "metadata": {},
   "source": [
    "#### Event Records"
   ]
  },
  {
   "cell_type": "code",
   "execution_count": 24,
   "metadata": {
    "ExecuteTime": {
     "end_time": "2020-11-20T22:32:34.954381Z",
     "start_time": "2020-11-20T22:32:33.759316Z"
    }
   },
   "outputs": [],
   "source": [
    "eventData = videoData.append(problemData)"
   ]
  },
  {
   "cell_type": "code",
   "execution_count": 25,
   "metadata": {
    "ExecuteTime": {
     "end_time": "2020-11-20T22:32:36.518802Z",
     "start_time": "2020-11-20T22:32:34.957614Z"
    }
   },
   "outputs": [],
   "source": [
    "eventData['Year'] = eventData['Round'].apply(lambda x: int(x.split('-')[1]))"
   ]
  },
  {
   "cell_type": "markdown",
   "metadata": {},
   "source": [
    "#### Course Week Column"
   ]
  },
  {
   "cell_type": "markdown",
   "metadata": {},
   "source": [
    "We get the configuration file (e.g, start and end date) for each round of the course. "
   ]
  },
  {
   "cell_type": "code",
   "execution_count": 26,
   "metadata": {
    "ExecuteTime": {
     "end_time": "2020-11-20T22:32:37.565867Z",
     "start_time": "2020-11-20T22:32:36.662707Z"
    }
   },
   "outputs": [],
   "source": [
    "with open('../config/linear_algebra.json') as f:\n",
    "    config = json.load(f)"
   ]
  },
  {
   "cell_type": "markdown",
   "metadata": {},
   "source": [
    "We assign each video interaction to a specific week of the course, with the first week of the course round having id 0. "
   ]
  },
  {
   "cell_type": "code",
   "execution_count": 27,
   "metadata": {
    "ExecuteTime": {
     "start_time": "2020-11-20T22:24:29.785Z"
    }
   },
   "outputs": [],
   "source": [
    "eventData['Date'] = eventData['TimeStamp'].apply(lambda x:string2Datetime(dt.utcfromtimestamp(x).strftime('%Y-%m-%d %H:%M:%S')))"
   ]
  },
  {
   "cell_type": "code",
   "execution_count": 28,
   "metadata": {
    "ExecuteTime": {
     "start_time": "2020-11-20T22:24:29.976Z"
    }
   },
   "outputs": [],
   "source": [
    "tmp_events = []\n",
    "for r in rounds:\n",
    "    round_events = eventData[eventData['Round'] == r]\n",
    "    tmp_events.append(processWeek(round_events, 'Date', config[r.split('-')[-2]]['Start']))\n",
    "eventData = pd.concat(tmp_events).copy()"
   ]
  },
  {
   "cell_type": "code",
   "execution_count": 29,
   "metadata": {
    "ExecuteTime": {
     "start_time": "2020-11-20T22:24:30.154Z"
    }
   },
   "outputs": [],
   "source": [
    "eventData['Week'] = eventData['Week'].apply(lambda x: int(x))"
   ]
  },
  {
   "cell_type": "markdown",
   "metadata": {},
   "source": [
    "Then, we filter only the first *noCourseWeeks* course weeks. "
   ]
  },
  {
   "cell_type": "code",
   "execution_count": 30,
   "metadata": {
    "ExecuteTime": {
     "start_time": "2020-11-20T22:24:30.492Z"
    }
   },
   "outputs": [],
   "source": [
    "eventData = eventData[eventData['Week'].isin(range(20))]"
   ]
  },
  {
   "cell_type": "markdown",
   "metadata": {},
   "source": [
    "## * Cross validation of early warning systems *"
   ]
  },
  {
   "cell_type": "markdown",
   "metadata": {},
   "source": [
    "#### Parameters"
   ]
  },
  {
   "cell_type": "code",
   "execution_count": 31,
   "metadata": {},
   "outputs": [],
   "source": [
    "mode = 'random'\n",
    "task = 'binary'\n",
    "ratio = 80\n",
    "start, end, step = 5, 15, 1\n",
    "iterations = 3"
   ]
  },
  {
   "cell_type": "code",
   "execution_count": 32,
   "metadata": {},
   "outputs": [],
   "source": [
    "weeks = np.arange(start + 1, end, step)"
   ]
  },
  {
   "cell_type": "markdown",
   "metadata": {},
   "source": [
    "#### Feature Sets"
   ]
  },
  {
   "cell_type": "code",
   "execution_count": null,
   "metadata": {},
   "outputs": [],
   "source": [
    "featureLabels = [AkpinarEtAl(), BoroujeniEtAl(), ChenCui(), HeEtAl(), LalleConati(), LemayDoleck()]"
   ]
  },
  {
   "cell_type": "code",
   "execution_count": 125,
   "metadata": {},
   "outputs": [
    {
     "name": "stdout",
     "output_type": "stream",
     "text": [
      "> Found features for this experimental setting in ../data/feature_sets/feature_sets_random_binary_80_5-15-1.pkl\n"
     ]
    }
   ],
   "source": [
    "featureSets = loadFeatureSets(mode, task, ratio, start, end, step)"
   ]
  },
  {
   "cell_type": "code",
   "execution_count": 52,
   "metadata": {},
   "outputs": [
    {
     "name": "stdout",
     "output_type": "stream",
     "text": [
      "> Set from week 5 : mbouzao_et_al ( 007 007 ) - Week: 14 ( 009 009 ) - User: 214 21414\n"
     ]
    }
   ],
   "source": [
    "featureSets = computeFeatures(eventData, examData, featureLabels, featureSets, start, weeks)"
   ]
  },
  {
   "cell_type": "code",
   "execution_count": 73,
   "metadata": {},
   "outputs": [
    {
     "name": "stdout",
     "output_type": "stream",
     "text": [
      "> Saved features for this experimental setting in ../data/feature_sets/feature_sets_random_binary_80_5-15-1.pkl\n"
     ]
    }
   ],
   "source": [
    "saveFeatureSets(featureSets, mode, task, ratio, start, end, step)"
   ]
  },
  {
   "cell_type": "markdown",
   "metadata": {},
   "source": [
    "#### Models and Metrics"
   ]
  },
  {
   "cell_type": "code",
   "execution_count": 126,
   "metadata": {},
   "outputs": [
    {
     "name": "stdout",
     "output_type": "stream",
     "text": [
      "> Initialized models for this experimental setting in ../data/trained_models/trained_models_random_binary_80_5-15-1.pkl\n"
     ]
    }
   ],
   "source": [
    "trainedModels = loadTrainedModels(mode, task, ratio, start, end, step)"
   ]
  },
  {
   "cell_type": "code",
   "execution_count": 127,
   "metadata": {},
   "outputs": [
    {
     "name": "stdout",
     "output_type": "stream",
     "text": [
      "Iteration 0\n",
      "> Binarizing student grades: [(0, 80), (1, 134)]\n",
      "> Spitting the whole student population randomly: Train 171 [(0, 64), (1, 107)] - Test 43 [(0, 16), (1, 27)]\n",
      "> Training on Set: lemay_doleck ( 006 006 ) - Week: 014 ( 009 009 ) - Algorithm: svm ( 009 009 )9 ) 004 009 ) he_et_al ( 004 006 ) - Week: 007 ( 002 009 ) - Algorithm: lr  ( 004 009 ) he_et_al ( 004 006 ) - Week: 010 ( 005 009 ) - Algorithm: lr  ( 004 009 ) he_et_al ( 004 006 ) - Week: 012 ( 007 009 ) - Algorithm: lr  ( 004 009 ) he_et_al ( 004 006 ) - Week: 013 ( 008 009 ) - Algorithm: lr  ( 004 009 ) lemay_doleck ( 006 006 ) - Week: 007 ( 002 009 ) - Algorithm: mlp ( 006 009 ) lemay_doleck ( 006 006 ) - Week: 008 ( 003 009 ) - Algorithm: gnb ( 003 009 )004 009 )\n",
      "> Evaluated last iteration models\n",
      "Iteration 1\n",
      "> Binarizing student grades: [(0, 80), (1, 134)]\n",
      "> Spitting the whole student population randomly: Train 171 [(0, 64), (1, 107)] - Test 43 [(0, 16), (1, 27)]\n",
      "> Training on Set: lemay_doleck ( 006 006 ) - Week: 014 ( 009 009 ) - Algorithm: svm ( 009 009 )9 ) lalle_conati ( 005 006 ) - Week: 011 ( 006 009 ) - Algorithm: lr  ( 004 009 )\n",
      "> Evaluated last iteration models\n",
      "Iteration 2\n",
      "> Binarizing student grades: [(0, 80), (1, 134)]\n",
      "> Spitting the whole student population randomly: Train 171 [(0, 64), (1, 107)] - Test 43 [(0, 16), (1, 27)]\n",
      "> Training on Set: lemay_doleck ( 006 006 ) - Week: 014 ( 009 009 ) - Algorithm: svm ( 009 009 )9 ) ) - Week: 010 ( 005 009 ) - Algorithm: gnb ( 003 009 ) he_et_al ( 004 006 ) - Week: 014 ( 009 009 ) - Algorithm: lr  ( 004 009 )\n",
      "> Evaluated last iteration models\n"
     ]
    }
   ],
   "source": [
    "evaluationScores = {}\n",
    "for i in range(iterations):\n",
    "    print('Iteration', i)\n",
    "    xTrain, xTest, yTrain, yTest = getTrainTestData(examData, mode, task, ratio / 100.0)\n",
    "    \n",
    "    classifiersTypes = {'ada': AdaBoostClassifier(), 'dt': DecisionTreeClassifier(), 'gnb': GaussianNB(), 'lr': LogisticRegression(), 'las': Lasso(), 'mlp': MLPClassifier(), 'knn': KNeighborsClassifier(), 'rf': RandomForestClassifier(), 'svm': SVC()}\n",
    "    classifiersParams = {'ada': {'n_estimators': [25, 50, 100, 200], 'algorithm': ('SAMME', 'SAMME.R'), 'learning_rate': [0.1, 1]}, 'dt': {'criterion': ('gini', 'entropy'), 'splitter': ('best', 'random'), 'max_features': ('auto', 'sqrt', 'log2')}, 'gnb': {'var_smoothing': [1e-9, 1e-7, 1e-5, 1e-3, 1e-1]}, 'lr': {'penalty': ('l1', 'l2', 'elasticnet', 'none'), 'tol': [1e-4, 1e-5], 'C': [1.0, 0.5], 'solver': ('newton-cg', 'lbfgs', 'liblinear', 'sag', 'saga'), 'multi_class': ('auto', 'ovr', 'multinomial')}, 'las': {'selection': ('cyclic', 'random'), 'tol': [1e-4, 1e-5], 'alpha': [0.5, 1.0, 1.5]}, 'mlp': {'activation': ('identity', 'logistic', 'tanh', 'relu'), 'solver': ('lbfgs', 'sgd', 'adam'), 'hidden_layer_sizes': [(8,), (16, 8), (32, 16, 8)]}, 'knn': {'n_neighbors': [5, 10, 50, 100], 'weights': ('uniform', 'distance'), 'algorithm': ('auto', 'ball_tree', 'kd_tree', 'brute')}, 'rf': {'n_estimators': [25, 50, 100, 200], 'criterion': ('gini', 'entropy'), 'max_features': ('auto', 'sqrt', 'log2')}, 'svm': {'C': [1.0, 0.5], 'kernel': ('linear', 'poly', 'rbf', 'sigmoid'), 'gamma': ('scale', 'auto'), 'shrinking': (True, False)} }\n",
    "    trainedModels, scaler = trainModels(featureSets, xTrain, yTrain, weeks, classifiersTypes, classifiersParams, trainedModels)\n",
    "    \n",
    "    evaluationMetrics = {'Acc': accuracy_score, 'F1': f1_score, 'P': precision_score, 'R': recall_score, 'TP': tp, 'FN': fn, 'TN': tn, 'FP': fp, 'TPR': tpr, 'TNR': tnr, 'FPR': fpr, 'FNR': fnr, 'EER': eer }\n",
    "    evaluationScores = computeMetrics(scaler, featureSets, trainedModels, xTest, yTest, evaluationMetrics, evaluationScores)"
   ]
  },
  {
   "cell_type": "code",
   "execution_count": 128,
   "metadata": {},
   "outputs": [
    {
     "name": "stdout",
     "output_type": "stream",
     "text": [
      "> Saved models for this experimental setting in ../data/trained_models/trained_models_random_binary_80_5-15-1.pkl\n"
     ]
    }
   ],
   "source": [
    "saveTrainedModels(trainedModels, mode, task, ratio, start, end, step)"
   ]
  },
  {
   "cell_type": "markdown",
   "metadata": {},
   "source": [
    "## * Show and discuss the results *"
   ]
  },
  {
   "cell_type": "code",
   "execution_count": 129,
   "metadata": {
    "ExecuteTime": {
     "start_time": "2020-11-20T22:24:37.288Z"
    }
   },
   "outputs": [],
   "source": [
    "lst_data = []\n",
    "lst_name = []\n",
    "for flabel in evaluationScores.keys():\n",
    "    for wid in evaluationScores[flabel].keys():\n",
    "        for mid in evaluationScores[flabel][wid].keys():\n",
    "            lst_data.append([wid, flabel, mid] + [np.mean(value) if i <=3 or i >=8 else np.around(np.mean(value)) for i, value in enumerate(evaluationScores[flabel][wid][mid].values())])  \n",
    "            lst_name = ['week', 'set', 'clf'] + [emid for emid, _ in evaluationScores[flabel][wid][mid].items()]"
   ]
  },
  {
   "cell_type": "code",
   "execution_count": 130,
   "metadata": {
    "ExecuteTime": {
     "start_time": "2020-11-20T22:24:37.372Z"
    }
   },
   "outputs": [],
   "source": [
    "df_results = pd.DataFrame(lst_data, columns = lst_name)"
   ]
  },
  {
   "cell_type": "code",
   "execution_count": 142,
   "metadata": {
    "ExecuteTime": {
     "start_time": "2020-11-20T22:24:37.456Z"
    }
   },
   "outputs": [
    {
     "data": {
      "text/html": [
       "<div>\n",
       "<style scoped>\n",
       "    .dataframe tbody tr th:only-of-type {\n",
       "        vertical-align: middle;\n",
       "    }\n",
       "\n",
       "    .dataframe tbody tr th {\n",
       "        vertical-align: top;\n",
       "    }\n",
       "\n",
       "    .dataframe thead th {\n",
       "        text-align: right;\n",
       "    }\n",
       "</style>\n",
       "<table border=\"1\" class=\"dataframe\">\n",
       "  <thead>\n",
       "    <tr style=\"text-align: right;\">\n",
       "      <th></th>\n",
       "      <th></th>\n",
       "      <th></th>\n",
       "      <th>Acc</th>\n",
       "      <th>F1</th>\n",
       "      <th>P</th>\n",
       "      <th>R</th>\n",
       "      <th>TP</th>\n",
       "      <th>FN</th>\n",
       "      <th>TN</th>\n",
       "      <th>FP</th>\n",
       "      <th>TPR</th>\n",
       "      <th>TNR</th>\n",
       "      <th>FPR</th>\n",
       "      <th>FNR</th>\n",
       "      <th>EER</th>\n",
       "    </tr>\n",
       "    <tr>\n",
       "      <th>week</th>\n",
       "      <th>set</th>\n",
       "      <th>clf</th>\n",
       "      <th></th>\n",
       "      <th></th>\n",
       "      <th></th>\n",
       "      <th></th>\n",
       "      <th></th>\n",
       "      <th></th>\n",
       "      <th></th>\n",
       "      <th></th>\n",
       "      <th></th>\n",
       "      <th></th>\n",
       "      <th></th>\n",
       "      <th></th>\n",
       "      <th></th>\n",
       "    </tr>\n",
       "  </thead>\n",
       "  <tbody>\n",
       "    <tr>\n",
       "      <th rowspan=\"6\" valign=\"top\">14</th>\n",
       "      <th>akpinar_et_al</th>\n",
       "      <th>mlp</th>\n",
       "      <td>0.581395</td>\n",
       "      <td>0.639250</td>\n",
       "      <td>0.693651</td>\n",
       "      <td>0.617284</td>\n",
       "      <td>17.0</td>\n",
       "      <td>10.0</td>\n",
       "      <td>8.0</td>\n",
       "      <td>8.0</td>\n",
       "      <td>0.617284</td>\n",
       "      <td>0.520833</td>\n",
       "      <td>0.479167</td>\n",
       "      <td>0.382716</td>\n",
       "      <td>0.430941</td>\n",
       "    </tr>\n",
       "    <tr>\n",
       "      <th>boroujeni_et_al</th>\n",
       "      <th>mlp</th>\n",
       "      <td>0.635659</td>\n",
       "      <td>0.736830</td>\n",
       "      <td>0.667398</td>\n",
       "      <td>0.827160</td>\n",
       "      <td>22.0</td>\n",
       "      <td>5.0</td>\n",
       "      <td>5.0</td>\n",
       "      <td>11.0</td>\n",
       "      <td>0.827160</td>\n",
       "      <td>0.312500</td>\n",
       "      <td>0.687500</td>\n",
       "      <td>0.172840</td>\n",
       "      <td>0.430170</td>\n",
       "    </tr>\n",
       "    <tr>\n",
       "      <th>chen_cui</th>\n",
       "      <th>mlp</th>\n",
       "      <td>0.651163</td>\n",
       "      <td>0.771333</td>\n",
       "      <td>0.655105</td>\n",
       "      <td>0.938272</td>\n",
       "      <td>25.0</td>\n",
       "      <td>2.0</td>\n",
       "      <td>3.0</td>\n",
       "      <td>13.0</td>\n",
       "      <td>0.938272</td>\n",
       "      <td>0.166667</td>\n",
       "      <td>0.833333</td>\n",
       "      <td>0.061728</td>\n",
       "      <td>0.447531</td>\n",
       "    </tr>\n",
       "    <tr>\n",
       "      <th>he_et_al</th>\n",
       "      <th>mlp</th>\n",
       "      <td>0.612403</td>\n",
       "      <td>0.735977</td>\n",
       "      <td>0.639363</td>\n",
       "      <td>0.876543</td>\n",
       "      <td>24.0</td>\n",
       "      <td>3.0</td>\n",
       "      <td>3.0</td>\n",
       "      <td>13.0</td>\n",
       "      <td>0.876543</td>\n",
       "      <td>0.166667</td>\n",
       "      <td>0.833333</td>\n",
       "      <td>0.123457</td>\n",
       "      <td>0.478395</td>\n",
       "    </tr>\n",
       "    <tr>\n",
       "      <th>lalle_conati</th>\n",
       "      <th>mlp</th>\n",
       "      <td>0.651163</td>\n",
       "      <td>0.766987</td>\n",
       "      <td>0.660977</td>\n",
       "      <td>0.913580</td>\n",
       "      <td>25.0</td>\n",
       "      <td>2.0</td>\n",
       "      <td>3.0</td>\n",
       "      <td>13.0</td>\n",
       "      <td>0.913580</td>\n",
       "      <td>0.208333</td>\n",
       "      <td>0.791667</td>\n",
       "      <td>0.086420</td>\n",
       "      <td>0.439043</td>\n",
       "    </tr>\n",
       "    <tr>\n",
       "      <th>lemay_doleck</th>\n",
       "      <th>mlp</th>\n",
       "      <td>0.643411</td>\n",
       "      <td>0.774423</td>\n",
       "      <td>0.642886</td>\n",
       "      <td>0.975309</td>\n",
       "      <td>26.0</td>\n",
       "      <td>1.0</td>\n",
       "      <td>1.0</td>\n",
       "      <td>15.0</td>\n",
       "      <td>0.975309</td>\n",
       "      <td>0.083333</td>\n",
       "      <td>0.916667</td>\n",
       "      <td>0.024691</td>\n",
       "      <td>0.470679</td>\n",
       "    </tr>\n",
       "  </tbody>\n",
       "</table>\n",
       "</div>"
      ],
      "text/plain": [
       "                               Acc        F1         P         R    TP    FN  \\\n",
       "week set             clf                                                       \n",
       "14   akpinar_et_al   mlp  0.581395  0.639250  0.693651  0.617284  17.0  10.0   \n",
       "     boroujeni_et_al mlp  0.635659  0.736830  0.667398  0.827160  22.0   5.0   \n",
       "     chen_cui        mlp  0.651163  0.771333  0.655105  0.938272  25.0   2.0   \n",
       "     he_et_al        mlp  0.612403  0.735977  0.639363  0.876543  24.0   3.0   \n",
       "     lalle_conati    mlp  0.651163  0.766987  0.660977  0.913580  25.0   2.0   \n",
       "     lemay_doleck    mlp  0.643411  0.774423  0.642886  0.975309  26.0   1.0   \n",
       "\n",
       "                           TN    FP       TPR       TNR       FPR       FNR  \\\n",
       "week set             clf                                                      \n",
       "14   akpinar_et_al   mlp  8.0   8.0  0.617284  0.520833  0.479167  0.382716   \n",
       "     boroujeni_et_al mlp  5.0  11.0  0.827160  0.312500  0.687500  0.172840   \n",
       "     chen_cui        mlp  3.0  13.0  0.938272  0.166667  0.833333  0.061728   \n",
       "     he_et_al        mlp  3.0  13.0  0.876543  0.166667  0.833333  0.123457   \n",
       "     lalle_conati    mlp  3.0  13.0  0.913580  0.208333  0.791667  0.086420   \n",
       "     lemay_doleck    mlp  1.0  15.0  0.975309  0.083333  0.916667  0.024691   \n",
       "\n",
       "                               EER  \n",
       "week set             clf            \n",
       "14   akpinar_et_al   mlp  0.430941  \n",
       "     boroujeni_et_al mlp  0.430170  \n",
       "     chen_cui        mlp  0.447531  \n",
       "     he_et_al        mlp  0.478395  \n",
       "     lalle_conati    mlp  0.439043  \n",
       "     lemay_doleck    mlp  0.470679  "
      ]
     },
     "execution_count": 142,
     "metadata": {},
     "output_type": "execute_result"
    }
   ],
   "source": [
    "df_results[(df_results['week'] == 14) & (df_results['clf'] == 'mlp')].set_index(['week', 'set', 'clf'])"
   ]
  },
  {
   "cell_type": "code",
   "execution_count": 177,
   "metadata": {},
   "outputs": [],
   "source": [
    "def plot_metrics_per_model(df_results, weeks, emid, clf):\n",
    "\n",
    "    plt.figure(num=None, figsize=(20, 6), dpi=80, facecolor='w', edgecolor='k')\n",
    "    \n",
    "    plt.title(clf)\n",
    "    colors = [plt.cm.rainbow(x) for x in np.linspace(0, 1, 8)]\n",
    "    \n",
    "    for i, flabel in enumerate(np.unique(df_results['set'])):    \n",
    "        df_features = df_results[df_results['set'] == flabel]\n",
    "        \n",
    "        for j, mid in enumerate(np.unique(df_features['clf'])): \n",
    "            if mid == clf:\n",
    "                df_classifiers = df_features[df_features['clf'] == mid]\n",
    "                plt.plot(weeks, df_classifiers[emid].values, lw=1, color=colors[i], label=flabel)\n",
    "            \n",
    "    plt.ylim([0.5, 0.75])\n",
    "    plt.xlim([weeks[0], weeks[-1]])\n",
    "    plt.xlabel('Course week')\n",
    "    plt.ylabel(emid)\n",
    "    plt.grid(axis='y')\n",
    "    plt.legend(loc='upper left')"
   ]
  },
  {
   "cell_type": "code",
   "execution_count": 187,
   "metadata": {},
   "outputs": [],
   "source": [
    "def plot_metrics_per_feature(df_results, weeks, emid, flabel):\n",
    "\n",
    "    plt.figure(num=None, figsize=(20, 6), dpi=80, facecolor='w', edgecolor='k')\n",
    "    \n",
    "    df_features = df_results[df_results['set'] == flabel]\n",
    "\n",
    "    plt.title(flabel)\n",
    "    colors = [plt.cm.rainbow(x) for x in np.linspace(0, 1, 10)]\n",
    "\n",
    "    for j, mid in enumerate(np.unique(df_features['clf'])): \n",
    "        df_classifiers = df_features[df_features['clf'] == mid]\n",
    "        plt.plot(weeks, df_classifiers[emid].values, lw=1, color=colors[j], label=mid)\n",
    "\n",
    "    plt.axhline(y=.62, xmin=6, xmax=14, linestyle='--', color='red')    \n",
    "        \n",
    "    plt.ylim([0.5, 0.75])\n",
    "    plt.xlim([weeks[0], weeks[-1]])\n",
    "    plt.xlabel('Course week')\n",
    "    plt.ylabel(emid)\n",
    "    plt.grid(axis='y')\n",
    "    plt.legend(loc='upper left')"
   ]
  },
  {
   "cell_type": "code",
   "execution_count": 189,
   "metadata": {},
   "outputs": [
    {
     "data": {
      "image/png": "[encoded data removed]",
      "text/plain": [
       "<Figure size 1600x480 with 1 Axes>"
      ]
     },
     "metadata": {},
     "output_type": "display_data"
    }
   ],
   "source": [
    "plot_metrics_per_model(df_results, weeks, 'Acc', 'lr')"
   ]
  },
  {
   "cell_type": "code",
   "execution_count": 182,
   "metadata": {},
   "outputs": [
    {
     "data": {
      "image/png": "[encoded data removed]",
      "text/plain": [
       "<Figure size 1600x480 with 1 Axes>"
      ]
     },
     "metadata": {},
     "output_type": "display_data"
    }
   ],
   "source": [
    "plot_metrics_per_feature(df_results, weeks, 'Acc', 'chen_cui')"
   ]
  },
  {
   "cell_type": "code",
   "execution_count": null,
   "metadata": {},
   "outputs": [],
   "source": []
  }
 ],
 "metadata": {
  "kernelspec": {
   "display_name": "Python 3",
   "language": "python",
   "name": "python3"
  },
  "language_info": {
   "codemirror_mode": {
    "name": "ipython",
    "version": 3
   },
   "file_extension": ".py",
   "mimetype": "text/x-python",
   "name": "python",
   "nbconvert_exporter": "python",
   "pygments_lexer": "ipython3",
   "version": "3.6.8"
  },
  "toc": {
   "base_numbering": 1,
   "nav_menu": {},
   "number_sections": true,
   "sideBar": true,
   "skip_h1_title": false,
   "title_cell": "Table of Contents",
   "title_sidebar": "Contents",
   "toc_cell": false,
   "toc_position": {},
   "toc_section_display": true,
   "toc_window_display": false
  }
 },
 "nbformat": 4,
 "nbformat_minor": 1
}
