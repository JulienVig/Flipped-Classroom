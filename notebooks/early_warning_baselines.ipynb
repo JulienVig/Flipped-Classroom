{
 "cells": [
  {
   "cell_type": "markdown",
   "metadata": {},
   "source": [
    "# Baseline algorithms for early warning systems"
   ]
  },
  {
   "cell_type": "code",
   "execution_count": 1,
   "metadata": {},
   "outputs": [],
   "source": [
    "from tslearn.clustering import TimeSeriesKMeans, silhouette_score\n",
    "from sklearn.metrics import silhouette_score, confusion_matrix\n",
    "from sklearn.cluster import AgglomerativeClustering, KMeans\n",
    "from sklearn.model_selection import train_test_split\n",
    "from sklearn.metrics import plot_confusion_matrix\n",
    "from sklearn.preprocessing import StandardScaler\n",
    "from datetime import datetime, timedelta, date\n",
    "from scipy.cluster.hierarchy import dendrogram\n",
    "from sklearn.metrics import confusion_matrix\n",
    "from sklearn.decomposition import PCA\n",
    "from scipy.stats import mannwhitneyu\n",
    "from sklearn.cluster import KMeans\n",
    "import matplotlib.pyplot as plt\n",
    "from datetime import datetime\n",
    "from tqdm import tqdm\n",
    "import seaborn as sns\n",
    "import pandas as pd\n",
    "import numpy as np\n",
    "import calplot\n",
    "import time\n",
    "import math\n",
    "import json\n",
    "import sys\n",
    "import os"
   ]
  },
  {
   "cell_type": "code",
   "execution_count": 2,
   "metadata": {},
   "outputs": [],
   "source": [
    "from sklearn.metrics import accuracy_score, precision_score, recall_score, f1_score, confusion_matrix\n",
    "from sklearn.model_selection import train_test_split\n",
    "from sklearn.ensemble import RandomForestClassifier\n",
    "from sklearn.linear_model import LogisticRegression\n",
    "from sklearn.neighbors import KNeighborsClassifier\n",
    "from sklearn.preprocessing import StandardScaler\n",
    "from sklearn.neural_network import MLPClassifier\n",
    "from sklearn.tree import DecisionTreeClassifier\n",
    "from sklearn.ensemble import AdaBoostClassifier\n",
    "from sklearn.naive_bayes import GaussianNB\n",
    "from sklearn.svm import SVC"
   ]
  },
  {
   "cell_type": "code",
   "execution_count": 3,
   "metadata": {},
   "outputs": [],
   "source": [
    "sys.path.append(os.path.abspath(os.path.join('..')))"
   ]
  },
  {
   "cell_type": "code",
   "execution_count": 4,
   "metadata": {},
   "outputs": [],
   "source": [
    "from helpers.db_connector import MySQLConnector\n",
    "from helpers.feature_extraction import *\n",
    "from helpers.data_process import *\n",
    "from helpers.db_query import *\n",
    "from helpers.time import *"
   ]
  },
  {
   "cell_type": "markdown",
   "metadata": {},
   "source": [
    "## Linear Algebra Dataset from Coursaware\n",
    "\n",
    "Since Fall 2017, the stream of the EPFL's Linear Algebra course has been taught in a flipped format. The implementation of the flipped classroom was carried out in an incremental manner, as described below:\n",
    "\n",
    "- **Year 2017-2018**: traditional manner (weeks 1-13) - flipped manner (week 14).\n",
    "- **Year 2017-2018**: traditional manner (weeks 1-4, 10-14) - flipped manner (weeks 5-9).\n",
    "- **Year 2019-2020**: traditional manner (weeks 1-4) - flipped manner (weeks 5-14)."
   ]
  },
  {
   "cell_type": "markdown",
   "metadata": {},
   "source": [
    "### Identifying Students\n",
    "\n",
    "\n",
    "The flipped course was offered only to volunteering students. The volunteers were collectively assigned into either the experimental and the control group. A stratified random sampling based on gender and the prior background (secondary educational level) of students were used."
   ]
  },
  {
   "cell_type": "code",
   "execution_count": 5,
   "metadata": {},
   "outputs": [
    {
     "name": "stdout",
     "output_type": "stream",
     "text": [
      "Wall time: 1min 19s\n"
     ]
    }
   ],
   "source": [
    "%time user_data = getUserInfo()"
   ]
  },
  {
   "cell_type": "markdown",
   "metadata": {},
   "source": [
    "The initial data of volunteers was cleaned, and some participants were removed before we analyzed the data:\n",
    "- The volunteering students who have not been graded were removed. \n",
    "- The repeating students were filtered out, where repeating students are those accessing videos in two different years. \n",
    "- The less active students, i.e., those who have provided less 60 interactions in the platform, were removed. "
   ]
  },
  {
   "cell_type": "code",
   "execution_count": 6,
   "metadata": {},
   "outputs": [
    {
     "data": {
      "image/png": "[encoded data removed]",
      "text/plain": [
       "<Figure size 360x360 with 1 Axes>"
      ]
     },
     "metadata": {
      "needs_background": "light"
     },
     "output_type": "display_data"
    }
   ],
   "source": [
    "sns.displot(user_data, x='Round')\n",
    "plt.ylabel('Number of Students')\n",
    "plt.show()"
   ]
  },
  {
   "cell_type": "code",
   "execution_count": 7,
   "metadata": {},
   "outputs": [
    {
     "data": {
      "text/html": [
       "<div>\n",
       "<style scoped>\n",
       "    .dataframe tbody tr th:only-of-type {\n",
       "        vertical-align: middle;\n",
       "    }\n",
       "\n",
       "    .dataframe tbody tr th {\n",
       "        vertical-align: top;\n",
       "    }\n",
       "\n",
       "    .dataframe thead th {\n",
       "        text-align: right;\n",
       "    }\n",
       "</style>\n",
       "<table border=\"1\" class=\"dataframe\">\n",
       "  <thead>\n",
       "    <tr style=\"text-align: right;\">\n",
       "      <th></th>\n",
       "      <th>AccountUserID</th>\n",
       "      <th>SCIPER</th>\n",
       "      <th>Round</th>\n",
       "    </tr>\n",
       "  </thead>\n",
       "  <tbody>\n",
       "    <tr>\n",
       "      <th>0</th>\n",
       "      <td>10547</td>\n",
       "      <td>284707</td>\n",
       "      <td>Y1-2017-18</td>\n",
       "    </tr>\n",
       "    <tr>\n",
       "      <th>1</th>\n",
       "      <td>10031</td>\n",
       "      <td>288415</td>\n",
       "      <td>Y1-2017-18</td>\n",
       "    </tr>\n",
       "    <tr>\n",
       "      <th>2</th>\n",
       "      <td>9734</td>\n",
       "      <td>288078</td>\n",
       "      <td>Y1-2017-18</td>\n",
       "    </tr>\n",
       "    <tr>\n",
       "      <th>3</th>\n",
       "      <td>10615</td>\n",
       "      <td>283672</td>\n",
       "      <td>Y1-2017-18</td>\n",
       "    </tr>\n",
       "    <tr>\n",
       "      <th>5</th>\n",
       "      <td>9893</td>\n",
       "      <td>287261</td>\n",
       "      <td>Y1-2017-18</td>\n",
       "    </tr>\n",
       "  </tbody>\n",
       "</table>\n",
       "</div>"
      ],
      "text/plain": [
       "  AccountUserID  SCIPER       Round\n",
       "0         10547  284707  Y1-2017-18\n",
       "1         10031  288415  Y1-2017-18\n",
       "2          9734  288078  Y1-2017-18\n",
       "3         10615  283672  Y1-2017-18\n",
       "5          9893  287261  Y1-2017-18"
      ]
     },
     "execution_count": 7,
     "metadata": {},
     "output_type": "execute_result"
    }
   ],
   "source": [
    "user_data.head()"
   ]
  },
  {
   "cell_type": "markdown",
   "metadata": {},
   "source": [
    "**N.B.** We are missing a range of important demographic attributes, such as the gender, the age, and the prior knowledge."
   ]
  },
  {
   "cell_type": "markdown",
   "metadata": {},
   "source": [
    "### Getting Students' Records\n",
    "\n",
    "#### Video Clickstream Records"
   ]
  },
  {
   "cell_type": "code",
   "execution_count": 8,
   "metadata": {},
   "outputs": [
    {
     "name": "stdout",
     "output_type": "stream",
     "text": [
      "Wall time: 2min 7s\n"
     ]
    }
   ],
   "source": [
    "%time video_data = getVideoEventsInfo().drop_duplicates(keep='first').reset_index(drop=True)"
   ]
  },
  {
   "cell_type": "code",
   "execution_count": 18,
   "metadata": {},
   "outputs": [
    {
     "data": {
      "text/html": [
       "<div>\n",
       "<style scoped>\n",
       "    .dataframe tbody tr th:only-of-type {\n",
       "        vertical-align: middle;\n",
       "    }\n",
       "\n",
       "    .dataframe tbody tr th {\n",
       "        vertical-align: top;\n",
       "    }\n",
       "\n",
       "    .dataframe thead th {\n",
       "        text-align: right;\n",
       "    }\n",
       "</style>\n",
       "<table border=\"1\" class=\"dataframe\">\n",
       "  <thead>\n",
       "    <tr style=\"text-align: right;\">\n",
       "      <th></th>\n",
       "      <th>AccountUserID</th>\n",
       "      <th>ElementID</th>\n",
       "      <th>EventType</th>\n",
       "      <th>TimeStamp</th>\n",
       "      <th>Round</th>\n",
       "      <th>Title</th>\n",
       "      <th>Source</th>\n",
       "    </tr>\n",
       "  </thead>\n",
       "  <tbody>\n",
       "    <tr>\n",
       "      <th>0</th>\n",
       "      <td>95017</td>\n",
       "      <td>ca2fa02b0daa43f295e76da61e53de2a</td>\n",
       "      <td>Video.Play</td>\n",
       "      <td>1570355725</td>\n",
       "      <td>Y3-2019-20</td>\n",
       "      <td>Leçon</td>\n",
       "      <td>https://www.youtube.com/watch?v=AFtb4KxwYGY</td>\n",
       "    </tr>\n",
       "    <tr>\n",
       "      <th>1</th>\n",
       "      <td>95017</td>\n",
       "      <td>ca2fa02b0daa43f295e76da61e53de2a</td>\n",
       "      <td>Video.Play</td>\n",
       "      <td>1570355899</td>\n",
       "      <td>Y3-2019-20</td>\n",
       "      <td>Leçon</td>\n",
       "      <td>https://www.youtube.com/watch?v=AFtb4KxwYGY</td>\n",
       "    </tr>\n",
       "    <tr>\n",
       "      <th>2</th>\n",
       "      <td>95017</td>\n",
       "      <td>ca2fa02b0daa43f295e76da61e53de2a</td>\n",
       "      <td>Video.Play</td>\n",
       "      <td>1570355940</td>\n",
       "      <td>Y3-2019-20</td>\n",
       "      <td>Leçon</td>\n",
       "      <td>https://www.youtube.com/watch?v=AFtb4KxwYGY</td>\n",
       "    </tr>\n",
       "    <tr>\n",
       "      <th>3</th>\n",
       "      <td>95017</td>\n",
       "      <td>ca2fa02b0daa43f295e76da61e53de2a</td>\n",
       "      <td>Video.Pause</td>\n",
       "      <td>1570355694</td>\n",
       "      <td>Y3-2019-20</td>\n",
       "      <td>Leçon</td>\n",
       "      <td>https://www.youtube.com/watch?v=AFtb4KxwYGY</td>\n",
       "    </tr>\n",
       "    <tr>\n",
       "      <th>4</th>\n",
       "      <td>95017</td>\n",
       "      <td>ca2fa02b0daa43f295e76da61e53de2a</td>\n",
       "      <td>Video.Pause</td>\n",
       "      <td>1570355760</td>\n",
       "      <td>Y3-2019-20</td>\n",
       "      <td>Leçon</td>\n",
       "      <td>https://www.youtube.com/watch?v=AFtb4KxwYGY</td>\n",
       "    </tr>\n",
       "  </tbody>\n",
       "</table>\n",
       "</div>"
      ],
      "text/plain": [
       "  AccountUserID                         ElementID    EventType   TimeStamp  \\\n",
       "0         95017  ca2fa02b0daa43f295e76da61e53de2a   Video.Play  1570355725   \n",
       "1         95017  ca2fa02b0daa43f295e76da61e53de2a   Video.Play  1570355899   \n",
       "2         95017  ca2fa02b0daa43f295e76da61e53de2a   Video.Play  1570355940   \n",
       "3         95017  ca2fa02b0daa43f295e76da61e53de2a  Video.Pause  1570355694   \n",
       "4         95017  ca2fa02b0daa43f295e76da61e53de2a  Video.Pause  1570355760   \n",
       "\n",
       "        Round  Title                                       Source  \n",
       "0  Y3-2019-20  Leçon  https://www.youtube.com/watch?v=AFtb4KxwYGY  \n",
       "1  Y3-2019-20  Leçon  https://www.youtube.com/watch?v=AFtb4KxwYGY  \n",
       "2  Y3-2019-20  Leçon  https://www.youtube.com/watch?v=AFtb4KxwYGY  \n",
       "3  Y3-2019-20  Leçon  https://www.youtube.com/watch?v=AFtb4KxwYGY  \n",
       "4  Y3-2019-20  Leçon  https://www.youtube.com/watch?v=AFtb4KxwYGY  "
      ]
     },
     "execution_count": 18,
     "metadata": {},
     "output_type": "execute_result"
    }
   ],
   "source": [
    "video_data.head()"
   ]
  },
  {
   "cell_type": "markdown",
   "metadata": {},
   "source": [
    "#### Problem Clickstream Records"
   ]
  },
  {
   "cell_type": "code",
   "execution_count": 10,
   "metadata": {},
   "outputs": [
    {
     "name": "stdout",
     "output_type": "stream",
     "text": [
      "Wall time: 1min 17s\n"
     ]
    }
   ],
   "source": [
    "%time problem_data = getProblemEventsInfo()"
   ]
  },
  {
   "cell_type": "code",
   "execution_count": 17,
   "metadata": {},
   "outputs": [
    {
     "data": {
      "text/html": [
       "<div>\n",
       "<style scoped>\n",
       "    .dataframe tbody tr th:only-of-type {\n",
       "        vertical-align: middle;\n",
       "    }\n",
       "\n",
       "    .dataframe tbody tr th {\n",
       "        vertical-align: top;\n",
       "    }\n",
       "\n",
       "    .dataframe thead th {\n",
       "        text-align: right;\n",
       "    }\n",
       "</style>\n",
       "<table border=\"1\" class=\"dataframe\">\n",
       "  <thead>\n",
       "    <tr style=\"text-align: right;\">\n",
       "      <th></th>\n",
       "      <th>AccountUserID</th>\n",
       "      <th>ElementID</th>\n",
       "      <th>EventType</th>\n",
       "      <th>TimeStamp</th>\n",
       "      <th>ProblemType</th>\n",
       "      <th>MaximumSubmissions</th>\n",
       "      <th>Round</th>\n",
       "    </tr>\n",
       "  </thead>\n",
       "  <tbody>\n",
       "    <tr>\n",
       "      <th>0</th>\n",
       "      <td>46461</td>\n",
       "      <td>44c46d58e2eb440b9308893be55aae3c</td>\n",
       "      <td>Problem.Check</td>\n",
       "      <td>1543677480</td>\n",
       "      <td>Quiz</td>\n",
       "      <td>1.0</td>\n",
       "      <td>Y2-2018-19</td>\n",
       "    </tr>\n",
       "    <tr>\n",
       "      <th>1</th>\n",
       "      <td>46461</td>\n",
       "      <td>ca64971b751847c798f5ff753e3eddfe</td>\n",
       "      <td>Problem.Check</td>\n",
       "      <td>1547885100</td>\n",
       "      <td>Quiz</td>\n",
       "      <td>NaN</td>\n",
       "      <td>Y2-2018-19</td>\n",
       "    </tr>\n",
       "    <tr>\n",
       "      <th>2</th>\n",
       "      <td>46461</td>\n",
       "      <td>b31684ee6a684d12ba0f4afc51fe0ca4</td>\n",
       "      <td>Problem.Check</td>\n",
       "      <td>1544256079</td>\n",
       "      <td>Quiz</td>\n",
       "      <td>NaN</td>\n",
       "      <td>Y2-2018-19</td>\n",
       "    </tr>\n",
       "    <tr>\n",
       "      <th>3</th>\n",
       "      <td>46461</td>\n",
       "      <td>6983ed426ef14e41900f72b155f3444e</td>\n",
       "      <td>Problem.Check</td>\n",
       "      <td>1541263833</td>\n",
       "      <td>Quiz</td>\n",
       "      <td>1.0</td>\n",
       "      <td>Y2-2018-19</td>\n",
       "    </tr>\n",
       "    <tr>\n",
       "      <th>4</th>\n",
       "      <td>46461</td>\n",
       "      <td>1d5df58214374b80974bf8776313e3fc</td>\n",
       "      <td>Problem.Check</td>\n",
       "      <td>1540406407</td>\n",
       "      <td>Quiz</td>\n",
       "      <td>NaN</td>\n",
       "      <td>Y2-2018-19</td>\n",
       "    </tr>\n",
       "  </tbody>\n",
       "</table>\n",
       "</div>"
      ],
      "text/plain": [
       "  AccountUserID                         ElementID      EventType   TimeStamp  \\\n",
       "0         46461  44c46d58e2eb440b9308893be55aae3c  Problem.Check  1543677480   \n",
       "1         46461  ca64971b751847c798f5ff753e3eddfe  Problem.Check  1547885100   \n",
       "2         46461  b31684ee6a684d12ba0f4afc51fe0ca4  Problem.Check  1544256079   \n",
       "3         46461  6983ed426ef14e41900f72b155f3444e  Problem.Check  1541263833   \n",
       "4         46461  1d5df58214374b80974bf8776313e3fc  Problem.Check  1540406407   \n",
       "\n",
       "  ProblemType  MaximumSubmissions       Round  \n",
       "0        Quiz                 1.0  Y2-2018-19  \n",
       "1        Quiz                 NaN  Y2-2018-19  \n",
       "2        Quiz                 NaN  Y2-2018-19  \n",
       "3        Quiz                 1.0  Y2-2018-19  \n",
       "4        Quiz                 NaN  Y2-2018-19  "
      ]
     },
     "execution_count": 17,
     "metadata": {},
     "output_type": "execute_result"
    }
   ],
   "source": [
    "problem_data.head()"
   ]
  },
  {
   "cell_type": "markdown",
   "metadata": {},
   "source": [
    "#### Exam Records"
   ]
  },
  {
   "cell_type": "code",
   "execution_count": 19,
   "metadata": {},
   "outputs": [
    {
     "name": "stdout",
     "output_type": "stream",
     "text": [
      "Wall time: 599 ms\n"
     ]
    }
   ],
   "source": [
    "%time exam_data = getExamInfo()"
   ]
  },
  {
   "cell_type": "markdown",
   "metadata": {},
   "source": [
    "We filter the exam records of students who have not participated into the study"
   ]
  },
  {
   "cell_type": "code",
   "execution_count": 20,
   "metadata": {},
   "outputs": [],
   "source": [
    "exam_data = exam_data[exam_data['AccountUserID'].isin(user_data['AccountUserID'])]"
   ]
  },
  {
   "cell_type": "code",
   "execution_count": 21,
   "metadata": {},
   "outputs": [
    {
     "data": {
      "text/html": [
       "<div>\n",
       "<style scoped>\n",
       "    .dataframe tbody tr th:only-of-type {\n",
       "        vertical-align: middle;\n",
       "    }\n",
       "\n",
       "    .dataframe tbody tr th {\n",
       "        vertical-align: top;\n",
       "    }\n",
       "\n",
       "    .dataframe thead th {\n",
       "        text-align: right;\n",
       "    }\n",
       "</style>\n",
       "<table border=\"1\" class=\"dataframe\">\n",
       "  <thead>\n",
       "    <tr style=\"text-align: right;\">\n",
       "      <th></th>\n",
       "      <th>Grade</th>\n",
       "      <th>GradeDate</th>\n",
       "      <th>Round</th>\n",
       "      <th>AccountUserID</th>\n",
       "    </tr>\n",
       "  </thead>\n",
       "  <tbody>\n",
       "    <tr>\n",
       "      <th>0</th>\n",
       "      <td>5.00</td>\n",
       "      <td>02.2019</td>\n",
       "      <td>Y2-2018-19</td>\n",
       "      <td>46938</td>\n",
       "    </tr>\n",
       "    <tr>\n",
       "      <th>1</th>\n",
       "      <td>4.25</td>\n",
       "      <td>02.2018</td>\n",
       "      <td>Y1-2017-18</td>\n",
       "      <td>8402</td>\n",
       "    </tr>\n",
       "    <tr>\n",
       "      <th>2</th>\n",
       "      <td>3.25</td>\n",
       "      <td>02.2018</td>\n",
       "      <td>Y1-2017-18</td>\n",
       "      <td>9866</td>\n",
       "    </tr>\n",
       "    <tr>\n",
       "      <th>3</th>\n",
       "      <td>5.50</td>\n",
       "      <td>02.2019</td>\n",
       "      <td>Y2-2018-19</td>\n",
       "      <td>49638</td>\n",
       "    </tr>\n",
       "    <tr>\n",
       "      <th>4</th>\n",
       "      <td>3.75</td>\n",
       "      <td>02.2018</td>\n",
       "      <td>Y1-2017-18</td>\n",
       "      <td>11354</td>\n",
       "    </tr>\n",
       "  </tbody>\n",
       "</table>\n",
       "</div>"
      ],
      "text/plain": [
       "   Grade GradeDate       Round AccountUserID\n",
       "0   5.00   02.2019  Y2-2018-19         46938\n",
       "1   4.25   02.2018  Y1-2017-18          8402\n",
       "2   3.25   02.2018  Y1-2017-18          9866\n",
       "3   5.50   02.2019  Y2-2018-19         49638\n",
       "4   3.75   02.2018  Y1-2017-18         11354"
      ]
     },
     "execution_count": 21,
     "metadata": {},
     "output_type": "execute_result"
    }
   ],
   "source": [
    "exam_data.head()"
   ]
  },
  {
   "cell_type": "markdown",
   "metadata": {},
   "source": [
    "#### Identify Target Round Data"
   ]
  },
  {
   "cell_type": "code",
   "execution_count": 165,
   "metadata": {},
   "outputs": [],
   "source": [
    "with open('../config/linear_algebra.json') as f:\n",
    "    config = json.load(f)"
   ]
  },
  {
   "cell_type": "code",
   "execution_count": 166,
   "metadata": {},
   "outputs": [],
   "source": [
    "tround = 'Y3-2019-20'"
   ]
  },
  {
   "cell_type": "code",
   "execution_count": 167,
   "metadata": {},
   "outputs": [],
   "source": [
    "user_data_round = user_data[user_data['Round'] == tround]"
   ]
  },
  {
   "cell_type": "code",
   "execution_count": 168,
   "metadata": {},
   "outputs": [],
   "source": [
    "video_data_round = video_data[video_data['Round'] == tround]"
   ]
  },
  {
   "cell_type": "code",
   "execution_count": 169,
   "metadata": {},
   "outputs": [],
   "source": [
    "problem_data_round = problem_data[problem_data['Round'] == tround]"
   ]
  },
  {
   "cell_type": "code",
   "execution_count": 170,
   "metadata": {},
   "outputs": [],
   "source": [
    "exam_data_round = exam_data[exam_data['Round'] == tround]"
   ]
  },
  {
   "cell_type": "markdown",
   "metadata": {},
   "source": [
    "#### Event Records"
   ]
  },
  {
   "cell_type": "code",
   "execution_count": 171,
   "metadata": {},
   "outputs": [],
   "source": [
    "d1 = video_data_round[['AccountUserID', 'ElementID', 'TimeStamp', 'EventType', 'Round']]\n",
    "d2 = problem_data_round[['AccountUserID', 'ElementID', 'TimeStamp', 'EventType', 'Round']]\n",
    "\n",
    "data = d1.append(d2)"
   ]
  },
  {
   "cell_type": "markdown",
   "metadata": {},
   "source": [
    "Drop outsiders not between start and end date"
   ]
  },
  {
   "cell_type": "code",
   "execution_count": 172,
   "metadata": {},
   "outputs": [],
   "source": [
    "data['Date'] = data['TimeStamp'].apply(lambda x:string2Datetime(datetime.utcfromtimestamp(x).strftime('%Y-%m-%d %H:%M:%S')))"
   ]
  },
  {
   "cell_type": "code",
   "execution_count": 173,
   "metadata": {},
   "outputs": [],
   "source": [
    "data = dropDateOutsiders(data, 'Date', config[tround]['Start'], config[tround]['End'])"
   ]
  },
  {
   "cell_type": "code",
   "execution_count": 174,
   "metadata": {},
   "outputs": [
    {
     "data": {
      "text/html": [
       "<div>\n",
       "<style scoped>\n",
       "    .dataframe tbody tr th:only-of-type {\n",
       "        vertical-align: middle;\n",
       "    }\n",
       "\n",
       "    .dataframe tbody tr th {\n",
       "        vertical-align: top;\n",
       "    }\n",
       "\n",
       "    .dataframe thead th {\n",
       "        text-align: right;\n",
       "    }\n",
       "</style>\n",
       "<table border=\"1\" class=\"dataframe\">\n",
       "  <thead>\n",
       "    <tr style=\"text-align: right;\">\n",
       "      <th></th>\n",
       "      <th>AccountUserID</th>\n",
       "      <th>ElementID</th>\n",
       "      <th>TimeStamp</th>\n",
       "      <th>EventType</th>\n",
       "      <th>Round</th>\n",
       "      <th>Date</th>\n",
       "    </tr>\n",
       "  </thead>\n",
       "  <tbody>\n",
       "    <tr>\n",
       "      <th>0</th>\n",
       "      <td>95017</td>\n",
       "      <td>ca2fa02b0daa43f295e76da61e53de2a</td>\n",
       "      <td>1570355725</td>\n",
       "      <td>Video.Play</td>\n",
       "      <td>Y3-2019-20</td>\n",
       "      <td>2019-10-06 09:55:25</td>\n",
       "    </tr>\n",
       "    <tr>\n",
       "      <th>1</th>\n",
       "      <td>95017</td>\n",
       "      <td>ca2fa02b0daa43f295e76da61e53de2a</td>\n",
       "      <td>1570355899</td>\n",
       "      <td>Video.Play</td>\n",
       "      <td>Y3-2019-20</td>\n",
       "      <td>2019-10-06 09:58:19</td>\n",
       "    </tr>\n",
       "    <tr>\n",
       "      <th>2</th>\n",
       "      <td>95017</td>\n",
       "      <td>ca2fa02b0daa43f295e76da61e53de2a</td>\n",
       "      <td>1570355940</td>\n",
       "      <td>Video.Play</td>\n",
       "      <td>Y3-2019-20</td>\n",
       "      <td>2019-10-06 09:59:00</td>\n",
       "    </tr>\n",
       "    <tr>\n",
       "      <th>3</th>\n",
       "      <td>95017</td>\n",
       "      <td>ca2fa02b0daa43f295e76da61e53de2a</td>\n",
       "      <td>1570355694</td>\n",
       "      <td>Video.Pause</td>\n",
       "      <td>Y3-2019-20</td>\n",
       "      <td>2019-10-06 09:54:54</td>\n",
       "    </tr>\n",
       "    <tr>\n",
       "      <th>4</th>\n",
       "      <td>95017</td>\n",
       "      <td>ca2fa02b0daa43f295e76da61e53de2a</td>\n",
       "      <td>1570355760</td>\n",
       "      <td>Video.Pause</td>\n",
       "      <td>Y3-2019-20</td>\n",
       "      <td>2019-10-06 09:56:00</td>\n",
       "    </tr>\n",
       "  </tbody>\n",
       "</table>\n",
       "</div>"
      ],
      "text/plain": [
       "  AccountUserID                         ElementID   TimeStamp    EventType  \\\n",
       "0         95017  ca2fa02b0daa43f295e76da61e53de2a  1570355725   Video.Play   \n",
       "1         95017  ca2fa02b0daa43f295e76da61e53de2a  1570355899   Video.Play   \n",
       "2         95017  ca2fa02b0daa43f295e76da61e53de2a  1570355940   Video.Play   \n",
       "3         95017  ca2fa02b0daa43f295e76da61e53de2a  1570355694  Video.Pause   \n",
       "4         95017  ca2fa02b0daa43f295e76da61e53de2a  1570355760  Video.Pause   \n",
       "\n",
       "        Round                Date  \n",
       "0  Y3-2019-20 2019-10-06 09:55:25  \n",
       "1  Y3-2019-20 2019-10-06 09:58:19  \n",
       "2  Y3-2019-20 2019-10-06 09:59:00  \n",
       "3  Y3-2019-20 2019-10-06 09:54:54  \n",
       "4  Y3-2019-20 2019-10-06 09:56:00  "
      ]
     },
     "execution_count": 174,
     "metadata": {},
     "output_type": "execute_result"
    }
   ],
   "source": [
    "data.head()"
   ]
  },
  {
   "cell_type": "markdown",
   "metadata": {},
   "source": [
    "#### Identify Week"
   ]
  },
  {
   "cell_type": "code",
   "execution_count": 175,
   "metadata": {},
   "outputs": [],
   "source": [
    "data = processWeek(data, 'Date', config[tround]['Start'])"
   ]
  },
  {
   "cell_type": "code",
   "execution_count": 176,
   "metadata": {},
   "outputs": [],
   "source": [
    "data['Week'] = data['Week'].apply(lambda x: int(x))"
   ]
  },
  {
   "cell_type": "code",
   "execution_count": 177,
   "metadata": {},
   "outputs": [
    {
     "data": {
      "text/html": [
       "<div>\n",
       "<style scoped>\n",
       "    .dataframe tbody tr th:only-of-type {\n",
       "        vertical-align: middle;\n",
       "    }\n",
       "\n",
       "    .dataframe tbody tr th {\n",
       "        vertical-align: top;\n",
       "    }\n",
       "\n",
       "    .dataframe thead th {\n",
       "        text-align: right;\n",
       "    }\n",
       "</style>\n",
       "<table border=\"1\" class=\"dataframe\">\n",
       "  <thead>\n",
       "    <tr style=\"text-align: right;\">\n",
       "      <th></th>\n",
       "      <th>AccountUserID</th>\n",
       "      <th>ElementID</th>\n",
       "      <th>TimeStamp</th>\n",
       "      <th>EventType</th>\n",
       "      <th>Round</th>\n",
       "      <th>Date</th>\n",
       "      <th>Week</th>\n",
       "    </tr>\n",
       "  </thead>\n",
       "  <tbody>\n",
       "    <tr>\n",
       "      <th>77062</th>\n",
       "      <td>90044</td>\n",
       "      <td>4fe3df7b0c064bf2b68d7bcbe2663743</td>\n",
       "      <td>1568612745</td>\n",
       "      <td>Video.Transcript.Translate.EN</td>\n",
       "      <td>Y3-2019-20</td>\n",
       "      <td>2019-09-16 05:45:45</td>\n",
       "      <td>0</td>\n",
       "    </tr>\n",
       "    <tr>\n",
       "      <th>77064</th>\n",
       "      <td>90044</td>\n",
       "      <td>4fe3df7b0c064bf2b68d7bcbe2663743</td>\n",
       "      <td>1568612746</td>\n",
       "      <td>Video.Load</td>\n",
       "      <td>Y3-2019-20</td>\n",
       "      <td>2019-09-16 05:45:46</td>\n",
       "      <td>0</td>\n",
       "    </tr>\n",
       "    <tr>\n",
       "      <th>250835</th>\n",
       "      <td>90044</td>\n",
       "      <td>2ae6c4de2fbd4d5c8267795a5d572b6e</td>\n",
       "      <td>1568612869</td>\n",
       "      <td>Problem.Reset</td>\n",
       "      <td>Y3-2019-20</td>\n",
       "      <td>2019-09-16 05:47:49</td>\n",
       "      <td>0</td>\n",
       "    </tr>\n",
       "    <tr>\n",
       "      <th>251275</th>\n",
       "      <td>90044</td>\n",
       "      <td>2ae6c4de2fbd4d5c8267795a5d572b6e</td>\n",
       "      <td>1568612869</td>\n",
       "      <td>Problem.Reset</td>\n",
       "      <td>Y3-2019-20</td>\n",
       "      <td>2019-09-16 05:47:49</td>\n",
       "      <td>0</td>\n",
       "    </tr>\n",
       "    <tr>\n",
       "      <th>251504</th>\n",
       "      <td>90044</td>\n",
       "      <td>2ae6c4de2fbd4d5c8267795a5d572b6e</td>\n",
       "      <td>1568612869</td>\n",
       "      <td>Problem.Reset</td>\n",
       "      <td>Y3-2019-20</td>\n",
       "      <td>2019-09-16 05:47:49</td>\n",
       "      <td>0</td>\n",
       "    </tr>\n",
       "  </tbody>\n",
       "</table>\n",
       "</div>"
      ],
      "text/plain": [
       "       AccountUserID                         ElementID   TimeStamp  \\\n",
       "77062          90044  4fe3df7b0c064bf2b68d7bcbe2663743  1568612745   \n",
       "77064          90044  4fe3df7b0c064bf2b68d7bcbe2663743  1568612746   \n",
       "250835         90044  2ae6c4de2fbd4d5c8267795a5d572b6e  1568612869   \n",
       "251275         90044  2ae6c4de2fbd4d5c8267795a5d572b6e  1568612869   \n",
       "251504         90044  2ae6c4de2fbd4d5c8267795a5d572b6e  1568612869   \n",
       "\n",
       "                            EventType       Round                Date  Week  \n",
       "77062   Video.Transcript.Translate.EN  Y3-2019-20 2019-09-16 05:45:45     0  \n",
       "77064                      Video.Load  Y3-2019-20 2019-09-16 05:45:46     0  \n",
       "250835                  Problem.Reset  Y3-2019-20 2019-09-16 05:47:49     0  \n",
       "251275                  Problem.Reset  Y3-2019-20 2019-09-16 05:47:49     0  \n",
       "251504                  Problem.Reset  Y3-2019-20 2019-09-16 05:47:49     0  "
      ]
     },
     "execution_count": 177,
     "metadata": {},
     "output_type": "execute_result"
    }
   ],
   "source": [
    "data.head()"
   ]
  },
  {
   "cell_type": "markdown",
   "metadata": {},
   "source": [
    "## Train-Test Data Split"
   ]
  },
  {
   "cell_type": "code",
   "execution_count": 220,
   "metadata": {},
   "outputs": [],
   "source": [
    "x = exam_data_round['AccountUserID'].values\n",
    "y = [(1 if grade >= 4.0 else 0) for grade in exam_data_round['Grade']]"
   ]
  },
  {
   "cell_type": "code",
   "execution_count": 221,
   "metadata": {},
   "outputs": [
    {
     "data": {
      "text/plain": [
       "('Pass', 103, 'Fail', 55)"
      ]
     },
     "execution_count": 221,
     "metadata": {},
     "output_type": "execute_result"
    }
   ],
   "source": [
    "'Pass', y.count(1), 'Fail', y.count(0)"
   ]
  },
  {
   "cell_type": "code",
   "execution_count": 222,
   "metadata": {},
   "outputs": [],
   "source": [
    "x_train, x_test, y_train, y_test = train_test_split(x, y, stratify=y, test_size=0.30)"
   ]
  },
  {
   "cell_type": "code",
   "execution_count": 223,
   "metadata": {},
   "outputs": [
    {
     "data": {
      "text/plain": [
       "('Train Pass', 72, 'Test Pass', 31, 'Train Fail', 38, 'Test Fail', 17)"
      ]
     },
     "execution_count": 223,
     "metadata": {},
     "output_type": "execute_result"
    }
   ],
   "source": [
    "'Train Pass', y_train.count(1), 'Test Pass', y_test.count(1), 'Train Fail', y_train.count(0), 'Test Fail', y_test.count(0)"
   ]
  },
  {
   "cell_type": "markdown",
   "metadata": {},
   "source": [
    "## Baseline Feature Extractors"
   ]
  },
  {
   "cell_type": "code",
   "execution_count": 224,
   "metadata": {},
   "outputs": [],
   "source": [
    "class Extractor():   \n",
    "    \n",
    "    def __init__(self, name='base'):\n",
    "        self.name = name\n",
    "    \n",
    "    def getName(self):\n",
    "        return self.name\n",
    "    \n",
    "    def getTotalEvent(self, udata, event_type, unique=False):\n",
    "        edata = udata[udata['EventType'] == event_type]\n",
    "        return len(edata) if not unique else len(edata.drop_duplicates(subset=['ElementID'], keep='first'))\n",
    "\n",
    "class LemayDoleck(Extractor):\n",
    "    \n",
    "    def __init__(self):\n",
    "        super().__init__('lamay_doleck')\n",
    "        \n",
    "    def getUserFeatures(self, udata):\n",
    "        return [\n",
    "            self.getTotalEvent(udata, 'Video.Play', unique=True),\n",
    "            self.getTotalEvent(udata, 'Video.Pause'),\n",
    "            self.getTotalEvent(udata, 'Video.Seek'),\n",
    "            self.getTotalEvent(udata, 'Video.SpeedChange'),\n",
    "        ]"
   ]
  },
  {
   "cell_type": "code",
   "execution_count": 225,
   "metadata": {},
   "outputs": [],
   "source": [
    "week_thresholds = np.arange(4, 24, 4)"
   ]
  },
  {
   "cell_type": "code",
   "execution_count": 226,
   "metadata": {},
   "outputs": [],
   "source": [
    "feature_labels = {\n",
    "    LemayDoleck(),\n",
    "}"
   ]
  },
  {
   "cell_type": "code",
   "execution_count": 227,
   "metadata": {},
   "outputs": [
    {
     "name": "stdout",
     "output_type": "stream",
     "text": [
      " Set: lamay_doleck \tWeek: 4 \tMode: train \tProgress: 110 110\n",
      " Set: lamay_doleck \tWeek: 4 \tMode: test \tProgress: 48 48\n",
      " Set: lamay_doleck \tWeek: 8 \tMode: train \tProgress: 110 110\n",
      " Set: lamay_doleck \tWeek: 8 \tMode: test \tProgress: 48 48\n",
      " Set: lamay_doleck \tWeek: 12 \tMode: train \tProgress: 110 110\n",
      " Set: lamay_doleck \tWeek: 12 \tMode: test \tProgress: 48 48\n",
      " Set: lamay_doleck \tWeek: 16 \tMode: train \tProgress: 110 110\n",
      " Set: lamay_doleck \tWeek: 16 \tMode: test \tProgress: 48 48\n",
      " Set: lamay_doleck \tWeek: 20 \tMode: train \tProgress: 110 110\n",
      " Set: lamay_doleck \tWeek: 20 \tMode: test \tProgress: 48 48\n"
     ]
    }
   ],
   "source": [
    "feature_sets = {} \n",
    "for ffunc in feature_labels:\n",
    "    flabel = ffunc.getName()\n",
    "    feature_sets[flabel] = {}\n",
    "    for wid in week_thresholds:\n",
    "        feature_sets[flabel][wid] = {}\n",
    "        feature_sets[flabel][wid]['train'] = []\n",
    "        feature_sets[flabel][wid]['test'] = []\n",
    "        scaler = StandardScaler()\n",
    "        for uindex, uid in enumerate(x_train): \n",
    "            print('\\r', 'Set:', flabel, '\\tWeek:', wid, '\\tMode: train', '\\tProgress:', uindex + 1, len(x_train), end='')\n",
    "            udata = data[(data['AccountUserID'] == uid) & (data['Week'] < wid)]\n",
    "            feature_sets[flabel][wid]['train'].append(ffunc.getUserFeatures(udata))\n",
    "        feature_sets[flabel][wid]['train'] = scaler.fit_transform(np.array(feature_sets[flabel][wid]['train']))\n",
    "        print()\n",
    "        for uindex, uid in enumerate(x_test): \n",
    "            print('\\r', 'Set:', flabel, '\\tWeek:', wid, '\\tMode: test', '\\tProgress:', uindex + 1, len(x_test), end='')\n",
    "            udata = data[(data['AccountUserID'] == uid) & (data['Week'] < wid)]\n",
    "            feature_sets[flabel][wid]['test'].append(ffunc.getUserFeatures(udata))\n",
    "        feature_sets[flabel][wid]['test'] = scaler.fit_transform(np.array(feature_sets[flabel][wid]['test']))\n",
    "        print()"
   ]
  },
  {
   "cell_type": "markdown",
   "metadata": {},
   "source": [
    "## Baseline Predictive Models\n",
    "\n",
    "- Check hyper-parameter\n",
    "- Check number of users 18-19 (check weeks), 19-20"
   ]
  },
  {
   "cell_type": "code",
   "execution_count": 228,
   "metadata": {},
   "outputs": [],
   "source": [
    "classifiers_types = {\n",
    "    'ada': AdaBoostClassifier(),\n",
    "    'dt': DecisionTreeClassifier(max_depth=5),\n",
    "    'gnb': GaussianNB(),\n",
    "    'lr': LogisticRegression(),\n",
    "    'mlp': MLPClassifier(alpha=1, max_iter=1000),\n",
    "    'knn': KNeighborsClassifier(3),\n",
    "    'rf': RandomForestClassifier(max_depth=5, n_estimators=10, max_features=1),\n",
    "    'svm': SVC(gamma=2, C=1)\n",
    "}"
   ]
  },
  {
   "cell_type": "code",
   "execution_count": 229,
   "metadata": {},
   "outputs": [
    {
     "name": "stdout",
     "output_type": "stream",
     "text": [
      "lamay_doleck 4\tada dt gnb lr mlp knn rf svm \n",
      "lamay_doleck 8\tada dt gnb lr mlp knn rf svm \n",
      "lamay_doleck 12\tada dt gnb lr mlp knn rf svm \n",
      "lamay_doleck 16\tada dt gnb lr mlp knn rf svm \n",
      "lamay_doleck 20\tada dt gnb lr mlp knn rf svm \n"
     ]
    }
   ],
   "source": [
    "trained_models = {}\n",
    "for ffunc in feature_labels:\n",
    "    flabel = ffunc.getName()\n",
    "    trained_models[flabel] = {}\n",
    "    for wid in week_thresholds:\n",
    "        trained_models[flabel][wid] = {}\n",
    "        print(flabel, wid, end='\\t')\n",
    "        for mid, clf in classifiers_types.items(): \n",
    "            print(mid, end=' ')\n",
    "            trained_models[flabel][wid][mid] = clf.fit(feature_sets[flabel][wid]['train'], y_train)\n",
    "        print()"
   ]
  },
  {
   "cell_type": "markdown",
   "metadata": {},
   "source": [
    "## Baseline Evaluation Metrics"
   ]
  },
  {
   "cell_type": "code",
   "execution_count": 230,
   "metadata": {},
   "outputs": [],
   "source": [
    "def tn(y_true, y_pred):\n",
    "    return confusion_matrix(y_true, y_pred).ravel()[0]\n",
    "\n",
    "def fp(y_true, y_pred):\n",
    "    return confusion_matrix(y_true, y_pred).ravel()[1]\n",
    "\n",
    "def fn(y_true, y_pred):\n",
    "    return confusion_matrix(y_true, y_pred).ravel()[2]\n",
    "\n",
    "def tp(y_true, y_pred):\n",
    "    return confusion_matrix(y_true, y_pred).ravel()[3]"
   ]
  },
  {
   "cell_type": "code",
   "execution_count": 231,
   "metadata": {},
   "outputs": [],
   "source": [
    "evaluation_metrics = {\n",
    "    'acc': accuracy_score,\n",
    "    'f1': f1_score,\n",
    "    'p': precision_score, \n",
    "    'r': recall_score,\n",
    "    'tp': tp,\n",
    "    'tn': tn,\n",
    "    'fp': fp,\n",
    "    'fn': fn\n",
    "}"
   ]
  },
  {
   "cell_type": "code",
   "execution_count": 232,
   "metadata": {},
   "outputs": [
    {
     "name": "stdout",
     "output_type": "stream",
     "text": [
      "lamay_doleck 4\tada dt gnb lr mlp knn rf svm \n",
      "lamay_doleck 8\tada dt gnb lr mlp knn rf svm \n",
      "lamay_doleck 12\tada dt gnb lr mlp knn rf svm \n",
      "lamay_doleck 16\tada dt gnb lr mlp knn rf svm \n",
      "lamay_doleck 20\tada dt gnb lr mlp knn rf svm \n"
     ]
    }
   ],
   "source": [
    "results = {}\n",
    "for ffunc in feature_labels:\n",
    "    flabel = ffunc.getName()\n",
    "    results[flabel] = {}\n",
    "    for wid in week_thresholds:\n",
    "        print(flabel, wid, end='\\t')\n",
    "        results[flabel][wid] = {}\n",
    "        for mid, clf in classifiers_types.items(): \n",
    "            print(mid, end=' ')\n",
    "            results[flabel][wid][mid] = {}\n",
    "            for emid, mfunc in evaluation_metrics.items():\n",
    "                results[flabel][wid][mid][emid] = mfunc(y_test, clf.predict(feature_sets[flabel][wid]['test']))\n",
    "        print()"
   ]
  },
  {
   "cell_type": "markdown",
   "metadata": {},
   "source": [
    "## Baseline Results Presentation"
   ]
  },
  {
   "cell_type": "code",
   "execution_count": 233,
   "metadata": {},
   "outputs": [],
   "source": [
    "lst_data = []\n",
    "lst_name = []\n",
    "for flabel in results.keys():\n",
    "    for wid in results[flabel].keys():\n",
    "        for mid in results[flabel][wid].keys():\n",
    "            lst_data.append([wid, flabel, mid] + [value for _, value in results[flabel][wid][mid].items()])  \n",
    "            lst_name = ['week', 'set', 'clf'] + [emid for emid, _ in results[flabel][wid][mid].items()]"
   ]
  },
  {
   "cell_type": "code",
   "execution_count": 234,
   "metadata": {},
   "outputs": [],
   "source": [
    "df_results = pd.DataFrame(lst_data, columns = lst_name)"
   ]
  },
  {
   "cell_type": "code",
   "execution_count": 235,
   "metadata": {},
   "outputs": [
    {
     "data": {
      "text/html": [
       "<div>\n",
       "<style scoped>\n",
       "    .dataframe tbody tr th:only-of-type {\n",
       "        vertical-align: middle;\n",
       "    }\n",
       "\n",
       "    .dataframe tbody tr th {\n",
       "        vertical-align: top;\n",
       "    }\n",
       "\n",
       "    .dataframe thead th {\n",
       "        text-align: right;\n",
       "    }\n",
       "</style>\n",
       "<table border=\"1\" class=\"dataframe\">\n",
       "  <thead>\n",
       "    <tr style=\"text-align: right;\">\n",
       "      <th></th>\n",
       "      <th></th>\n",
       "      <th></th>\n",
       "      <th>acc</th>\n",
       "      <th>f1</th>\n",
       "      <th>p</th>\n",
       "      <th>r</th>\n",
       "      <th>tp</th>\n",
       "      <th>tn</th>\n",
       "      <th>fp</th>\n",
       "      <th>fn</th>\n",
       "    </tr>\n",
       "    <tr>\n",
       "      <th>week</th>\n",
       "      <th>set</th>\n",
       "      <th>clf</th>\n",
       "      <th></th>\n",
       "      <th></th>\n",
       "      <th></th>\n",
       "      <th></th>\n",
       "      <th></th>\n",
       "      <th></th>\n",
       "      <th></th>\n",
       "      <th></th>\n",
       "    </tr>\n",
       "  </thead>\n",
       "  <tbody>\n",
       "    <tr>\n",
       "      <th rowspan=\"8\" valign=\"top\">8</th>\n",
       "      <th rowspan=\"8\" valign=\"top\">lamay_doleck</th>\n",
       "      <th>ada</th>\n",
       "      <td>0.625000</td>\n",
       "      <td>0.727273</td>\n",
       "      <td>0.685714</td>\n",
       "      <td>0.774194</td>\n",
       "      <td>24</td>\n",
       "      <td>6</td>\n",
       "      <td>11</td>\n",
       "      <td>7</td>\n",
       "    </tr>\n",
       "    <tr>\n",
       "      <th>dt</th>\n",
       "      <td>0.500000</td>\n",
       "      <td>0.636364</td>\n",
       "      <td>0.600000</td>\n",
       "      <td>0.677419</td>\n",
       "      <td>21</td>\n",
       "      <td>3</td>\n",
       "      <td>14</td>\n",
       "      <td>10</td>\n",
       "    </tr>\n",
       "    <tr>\n",
       "      <th>gnb</th>\n",
       "      <td>0.666667</td>\n",
       "      <td>0.789474</td>\n",
       "      <td>0.666667</td>\n",
       "      <td>0.967742</td>\n",
       "      <td>30</td>\n",
       "      <td>2</td>\n",
       "      <td>15</td>\n",
       "      <td>1</td>\n",
       "    </tr>\n",
       "    <tr>\n",
       "      <th>lr</th>\n",
       "      <td>0.666667</td>\n",
       "      <td>0.794872</td>\n",
       "      <td>0.659574</td>\n",
       "      <td>1.000000</td>\n",
       "      <td>31</td>\n",
       "      <td>1</td>\n",
       "      <td>16</td>\n",
       "      <td>0</td>\n",
       "    </tr>\n",
       "    <tr>\n",
       "      <th>mlp</th>\n",
       "      <td>0.687500</td>\n",
       "      <td>0.800000</td>\n",
       "      <td>0.681818</td>\n",
       "      <td>0.967742</td>\n",
       "      <td>30</td>\n",
       "      <td>3</td>\n",
       "      <td>14</td>\n",
       "      <td>1</td>\n",
       "    </tr>\n",
       "    <tr>\n",
       "      <th>knn</th>\n",
       "      <td>0.479167</td>\n",
       "      <td>0.626866</td>\n",
       "      <td>0.583333</td>\n",
       "      <td>0.677419</td>\n",
       "      <td>21</td>\n",
       "      <td>2</td>\n",
       "      <td>15</td>\n",
       "      <td>10</td>\n",
       "    </tr>\n",
       "    <tr>\n",
       "      <th>rf</th>\n",
       "      <td>0.583333</td>\n",
       "      <td>0.705882</td>\n",
       "      <td>0.648649</td>\n",
       "      <td>0.774194</td>\n",
       "      <td>24</td>\n",
       "      <td>4</td>\n",
       "      <td>13</td>\n",
       "      <td>7</td>\n",
       "    </tr>\n",
       "    <tr>\n",
       "      <th>svm</th>\n",
       "      <td>0.562500</td>\n",
       "      <td>0.704225</td>\n",
       "      <td>0.625000</td>\n",
       "      <td>0.806452</td>\n",
       "      <td>25</td>\n",
       "      <td>2</td>\n",
       "      <td>15</td>\n",
       "      <td>6</td>\n",
       "    </tr>\n",
       "  </tbody>\n",
       "</table>\n",
       "</div>"
      ],
      "text/plain": [
       "                            acc        f1         p         r  tp  tn  fp  fn\n",
       "week set          clf                                                        \n",
       "8    lamay_doleck ada  0.625000  0.727273  0.685714  0.774194  24   6  11   7\n",
       "                  dt   0.500000  0.636364  0.600000  0.677419  21   3  14  10\n",
       "                  gnb  0.666667  0.789474  0.666667  0.967742  30   2  15   1\n",
       "                  lr   0.666667  0.794872  0.659574  1.000000  31   1  16   0\n",
       "                  mlp  0.687500  0.800000  0.681818  0.967742  30   3  14   1\n",
       "                  knn  0.479167  0.626866  0.583333  0.677419  21   2  15  10\n",
       "                  rf   0.583333  0.705882  0.648649  0.774194  24   4  13   7\n",
       "                  svm  0.562500  0.704225  0.625000  0.806452  25   2  15   6"
      ]
     },
     "execution_count": 235,
     "metadata": {},
     "output_type": "execute_result"
    }
   ],
   "source": [
    "df_results[df_results['week'] == 8].set_index(['week', 'set', 'clf'])"
   ]
  },
  {
   "cell_type": "code",
   "execution_count": 236,
   "metadata": {},
   "outputs": [
    {
     "data": {
      "text/html": [
       "<div>\n",
       "<style scoped>\n",
       "    .dataframe tbody tr th:only-of-type {\n",
       "        vertical-align: middle;\n",
       "    }\n",
       "\n",
       "    .dataframe tbody tr th {\n",
       "        vertical-align: top;\n",
       "    }\n",
       "\n",
       "    .dataframe thead th {\n",
       "        text-align: right;\n",
       "    }\n",
       "</style>\n",
       "<table border=\"1\" class=\"dataframe\">\n",
       "  <thead>\n",
       "    <tr style=\"text-align: right;\">\n",
       "      <th></th>\n",
       "      <th></th>\n",
       "      <th></th>\n",
       "      <th>acc</th>\n",
       "      <th>f1</th>\n",
       "      <th>p</th>\n",
       "      <th>r</th>\n",
       "      <th>tp</th>\n",
       "      <th>tn</th>\n",
       "      <th>fp</th>\n",
       "      <th>fn</th>\n",
       "    </tr>\n",
       "    <tr>\n",
       "      <th>week</th>\n",
       "      <th>set</th>\n",
       "      <th>clf</th>\n",
       "      <th></th>\n",
       "      <th></th>\n",
       "      <th></th>\n",
       "      <th></th>\n",
       "      <th></th>\n",
       "      <th></th>\n",
       "      <th></th>\n",
       "      <th></th>\n",
       "    </tr>\n",
       "  </thead>\n",
       "  <tbody>\n",
       "    <tr>\n",
       "      <th rowspan=\"8\" valign=\"top\">16</th>\n",
       "      <th rowspan=\"8\" valign=\"top\">lamay_doleck</th>\n",
       "      <th>ada</th>\n",
       "      <td>0.500000</td>\n",
       "      <td>0.636364</td>\n",
       "      <td>0.600000</td>\n",
       "      <td>0.677419</td>\n",
       "      <td>21</td>\n",
       "      <td>3</td>\n",
       "      <td>14</td>\n",
       "      <td>10</td>\n",
       "    </tr>\n",
       "    <tr>\n",
       "      <th>dt</th>\n",
       "      <td>0.437500</td>\n",
       "      <td>0.571429</td>\n",
       "      <td>0.562500</td>\n",
       "      <td>0.580645</td>\n",
       "      <td>18</td>\n",
       "      <td>3</td>\n",
       "      <td>14</td>\n",
       "      <td>13</td>\n",
       "    </tr>\n",
       "    <tr>\n",
       "      <th>gnb</th>\n",
       "      <td>0.625000</td>\n",
       "      <td>0.763158</td>\n",
       "      <td>0.644444</td>\n",
       "      <td>0.935484</td>\n",
       "      <td>29</td>\n",
       "      <td>1</td>\n",
       "      <td>16</td>\n",
       "      <td>2</td>\n",
       "    </tr>\n",
       "    <tr>\n",
       "      <th>lr</th>\n",
       "      <td>0.625000</td>\n",
       "      <td>0.769231</td>\n",
       "      <td>0.638298</td>\n",
       "      <td>0.967742</td>\n",
       "      <td>30</td>\n",
       "      <td>0</td>\n",
       "      <td>17</td>\n",
       "      <td>1</td>\n",
       "    </tr>\n",
       "    <tr>\n",
       "      <th>mlp</th>\n",
       "      <td>0.645833</td>\n",
       "      <td>0.779221</td>\n",
       "      <td>0.652174</td>\n",
       "      <td>0.967742</td>\n",
       "      <td>30</td>\n",
       "      <td>1</td>\n",
       "      <td>16</td>\n",
       "      <td>1</td>\n",
       "    </tr>\n",
       "    <tr>\n",
       "      <th>knn</th>\n",
       "      <td>0.520833</td>\n",
       "      <td>0.666667</td>\n",
       "      <td>0.605263</td>\n",
       "      <td>0.741935</td>\n",
       "      <td>23</td>\n",
       "      <td>2</td>\n",
       "      <td>15</td>\n",
       "      <td>8</td>\n",
       "    </tr>\n",
       "    <tr>\n",
       "      <th>rf</th>\n",
       "      <td>0.520833</td>\n",
       "      <td>0.666667</td>\n",
       "      <td>0.605263</td>\n",
       "      <td>0.741935</td>\n",
       "      <td>23</td>\n",
       "      <td>2</td>\n",
       "      <td>15</td>\n",
       "      <td>8</td>\n",
       "    </tr>\n",
       "    <tr>\n",
       "      <th>svm</th>\n",
       "      <td>0.562500</td>\n",
       "      <td>0.712329</td>\n",
       "      <td>0.619048</td>\n",
       "      <td>0.838710</td>\n",
       "      <td>26</td>\n",
       "      <td>1</td>\n",
       "      <td>16</td>\n",
       "      <td>5</td>\n",
       "    </tr>\n",
       "  </tbody>\n",
       "</table>\n",
       "</div>"
      ],
      "text/plain": [
       "                            acc        f1         p         r  tp  tn  fp  fn\n",
       "week set          clf                                                        \n",
       "16   lamay_doleck ada  0.500000  0.636364  0.600000  0.677419  21   3  14  10\n",
       "                  dt   0.437500  0.571429  0.562500  0.580645  18   3  14  13\n",
       "                  gnb  0.625000  0.763158  0.644444  0.935484  29   1  16   2\n",
       "                  lr   0.625000  0.769231  0.638298  0.967742  30   0  17   1\n",
       "                  mlp  0.645833  0.779221  0.652174  0.967742  30   1  16   1\n",
       "                  knn  0.520833  0.666667  0.605263  0.741935  23   2  15   8\n",
       "                  rf   0.520833  0.666667  0.605263  0.741935  23   2  15   8\n",
       "                  svm  0.562500  0.712329  0.619048  0.838710  26   1  16   5"
      ]
     },
     "execution_count": 236,
     "metadata": {},
     "output_type": "execute_result"
    }
   ],
   "source": [
    "df_results[df_results['week'] == 16].set_index(['week', 'set', 'clf'])"
   ]
  },
  {
   "cell_type": "code",
   "execution_count": null,
   "metadata": {},
   "outputs": [],
   "source": [
    ""
   ]
  }
 ],
 "metadata": {
  "kernelspec": {
   "display_name": "Python 3",
   "language": "python",
   "name": "python3"
  },
  "language_info": {
   "codemirror_mode": {
    "name": "ipython",
    "version": 3.0
   },
   "file_extension": ".py",
   "mimetype": "text/x-python",
   "name": "python",
   "nbconvert_exporter": "python",
   "pygments_lexer": "ipython3",
   "version": "3.6.8"
  }
 },
 "nbformat": 4,
 "nbformat_minor": 0
}