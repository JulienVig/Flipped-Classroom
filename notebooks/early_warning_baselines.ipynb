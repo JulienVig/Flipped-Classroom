{
 "cells": [
  {
   "cell_type": "markdown",
   "metadata": {},
   "source": [
    "# Baseline algorithms for early warning systems"
   ]
  },
  {
   "cell_type": "code",
   "execution_count": 5,
   "metadata": {
    "ExecuteTime": {
     "end_time": "2020-11-20T10:56:23.715311Z",
     "start_time": "2020-11-20T10:56:10.991791Z"
    }
   },
   "outputs": [
    {
     "name": "stderr",
     "output_type": "stream",
     "text": [
      "/Applications/anaconda3/lib/python3.7/site-packages/sklearn/utils/deprecation.py:143: FutureWarning: The sklearn.cluster.k_means_ module is  deprecated in version 0.22 and will be removed in version 0.24. The corresponding classes / functions should instead be imported from sklearn.cluster. Anything that cannot be imported from sklearn.cluster is now part of the private API.\n",
      "  warnings.warn(message, FutureWarning)\n",
      "/Applications/anaconda3/lib/python3.7/site-packages/statsmodels/tools/_testing.py:19: FutureWarning: pandas.util.testing is deprecated. Use the functions in the public API at pandas.testing instead.\n",
      "  import pandas.util.testing as tm\n"
     ]
    }
   ],
   "source": [
    "from tslearn.clustering import TimeSeriesKMeans, silhouette_score\n",
    "from sklearn.metrics import silhouette_score, confusion_matrix\n",
    "from sklearn.cluster import AgglomerativeClustering, KMeans\n",
    "from sklearn.model_selection import train_test_split\n",
    "from sklearn.metrics import plot_confusion_matrix\n",
    "from sklearn.preprocessing import StandardScaler\n",
    "from datetime import datetime, timedelta, date\n",
    "from scipy.cluster.hierarchy import dendrogram\n",
    "from sklearn.metrics import confusion_matrix\n",
    "from sklearn.decomposition import PCA\n",
    "from scipy.stats import mannwhitneyu\n",
    "from sklearn.cluster import KMeans\n",
    "import matplotlib.pyplot as plt\n",
    "from datetime import datetime as dt\n",
    "from tqdm import tqdm\n",
    "import seaborn as sns\n",
    "import pandas as pd\n",
    "import numpy as np\n",
    "import calplot\n",
    "import time\n",
    "import math\n",
    "import json\n",
    "import sys\n",
    "import os"
   ]
  },
  {
   "cell_type": "code",
   "execution_count": 6,
   "metadata": {
    "ExecuteTime": {
     "end_time": "2020-11-20T10:56:24.927583Z",
     "start_time": "2020-11-20T10:56:24.920570Z"
    }
   },
   "outputs": [],
   "source": [
    "from sklearn.metrics import accuracy_score, precision_score, recall_score, f1_score, confusion_matrix\n",
    "from sklearn.model_selection import train_test_split\n",
    "from sklearn.ensemble import RandomForestClassifier\n",
    "from sklearn.linear_model import LogisticRegression\n",
    "from sklearn.neighbors import KNeighborsClassifier\n",
    "from sklearn.preprocessing import StandardScaler\n",
    "from sklearn.neural_network import MLPClassifier\n",
    "from sklearn.tree import DecisionTreeClassifier\n",
    "from sklearn.ensemble import AdaBoostClassifier\n",
    "from sklearn.naive_bayes import GaussianNB\n",
    "from sklearn.svm import SVC"
   ]
  },
  {
   "cell_type": "code",
   "execution_count": 55,
   "metadata": {
    "ExecuteTime": {
     "end_time": "2020-11-20T11:42:37.569208Z",
     "start_time": "2020-11-20T11:42:37.564681Z"
    }
   },
   "outputs": [],
   "source": [
    "sys.path.append(os.path.abspath(os.path.join('..')))"
   ]
  },
  {
   "cell_type": "code",
   "execution_count": 59,
   "metadata": {
    "ExecuteTime": {
     "end_time": "2020-11-20T11:48:23.360214Z",
     "start_time": "2020-11-20T11:48:21.055787Z"
    }
   },
   "outputs": [],
   "source": [
    "%load_ext autoreload\n",
    "%autoreload 2"
   ]
  },
  {
   "cell_type": "code",
   "execution_count": 60,
   "metadata": {
    "ExecuteTime": {
     "end_time": "2020-11-20T11:48:25.520522Z",
     "start_time": "2020-11-20T11:48:24.903038Z"
    }
   },
   "outputs": [],
   "source": [
    "from helpers.db_connector import MySQLConnector\n",
    "from helpers.feature_extraction import *\n",
    "from helpers.data_process import *\n",
    "from helpers.db_query import *\n",
    "from helpers.time import *"
   ]
  },
  {
   "cell_type": "code",
   "execution_count": 61,
   "metadata": {
    "ExecuteTime": {
     "end_time": "2020-11-20T11:48:33.785712Z",
     "start_time": "2020-11-20T11:48:33.734166Z"
    }
   },
   "outputs": [],
   "source": [
    "from extractors.boroujeni_et_al import BoroujeniEtAl\n",
    "from extractors.lalle_conati import LalleConati\n",
    "from extractors.lemay_doleck import LemayDoleck"
   ]
  },
  {
   "cell_type": "code",
   "execution_count": 62,
   "metadata": {
    "ExecuteTime": {
     "end_time": "2020-11-20T11:48:34.789003Z",
     "start_time": "2020-11-20T11:48:34.735075Z"
    }
   },
   "outputs": [],
   "source": [
    "import warnings\n",
    "warnings.filterwarnings('ignore')"
   ]
  },
  {
   "cell_type": "markdown",
   "metadata": {},
   "source": [
    "## Linear Algebra Dataset from Courseware\n",
    "\n",
    "Since Fall 2017, the stream of the EPFL's Linear Algebra course has been taught in a flipped format. The implementation of the flipped classroom was carried out in an incremental manner, as described below:\n",
    "\n",
    "- **Year 2017-2018**: traditional manner (weeks 1-13) - flipped manner (week 14).\n",
    "- **Year 2018-2019**: traditional manner (weeks 1-4, 10-14) - flipped manner (weeks 5-9).\n",
    "- **Year 2019-2020**: traditional manner (weeks 1-4) - flipped manner (weeks 5-14)."
   ]
  },
  {
   "cell_type": "code",
   "execution_count": 11,
   "metadata": {
    "ExecuteTime": {
     "end_time": "2020-11-20T10:57:08.755526Z",
     "start_time": "2020-11-20T10:57:08.749259Z"
    }
   },
   "outputs": [],
   "source": [
    "rounds = ['Y2-2018-19', 'Y3-2019-20']"
   ]
  },
  {
   "cell_type": "markdown",
   "metadata": {},
   "source": [
    "### Identifying Students\n",
    "\n",
    "\n",
    "The flipped course was offered only to volunteering students. The volunteers were collectively assigned into either the experimental and the control group. A stratified random sampling based on gender and the prior background (secondary educational level) of students were used."
   ]
  },
  {
   "cell_type": "code",
   "execution_count": 16,
   "metadata": {
    "ExecuteTime": {
     "end_time": "2020-11-20T11:06:48.595603Z",
     "start_time": "2020-11-20T11:04:41.660222Z"
    }
   },
   "outputs": [
    {
     "name": "stdout",
     "output_type": "stream",
     "text": [
      "CPU times: user 58 s, sys: 2.59 s, total: 1min\n",
      "Wall time: 2min 6s\n"
     ]
    }
   ],
   "source": [
    "%time user_data = getUserInfo(prior_knowledge=True)"
   ]
  },
  {
   "cell_type": "markdown",
   "metadata": {},
   "source": [
    "The initial data of volunteers was cleaned, and some participants were removed before we analyzed the data:\n",
    "- The volunteering students who have not been graded were removed. \n",
    "- The repeating students were filtered out, where repeating students are those accessing videos in two different years. \n",
    "- The less active students, i.e., those who have provided less 60 interactions in the platform, were removed. "
   ]
  },
  {
   "cell_type": "code",
   "execution_count": 17,
   "metadata": {
    "ExecuteTime": {
     "end_time": "2020-11-20T11:06:48.996488Z",
     "start_time": "2020-11-20T11:06:48.599544Z"
    }
   },
   "outputs": [
    {
     "data": {
      "image/png": "[encoded data removed]",
      "text/plain": [
       "<Figure size 360x360 with 1 Axes>"
      ]
     },
     "metadata": {
      "needs_background": "light"
     },
     "output_type": "display_data"
    }
   ],
   "source": [
    "sns.displot(user_data, x='Round')\n",
    "plt.ylabel('Number of Students')\n",
    "plt.show()"
   ]
  },
  {
   "cell_type": "markdown",
   "metadata": {},
   "source": [
    "Given that the Y1-2017-2018 round included only one week in a flipped classroom setting, we decided to remove the students of that round.  "
   ]
  },
  {
   "cell_type": "code",
   "execution_count": 18,
   "metadata": {
    "ExecuteTime": {
     "end_time": "2020-11-20T11:06:49.009070Z",
     "start_time": "2020-11-20T11:06:49.003265Z"
    }
   },
   "outputs": [],
   "source": [
    "user_data = user_data[user_data['Round'].isin(rounds)]"
   ]
  },
  {
   "cell_type": "code",
   "execution_count": 19,
   "metadata": {
    "ExecuteTime": {
     "end_time": "2020-11-20T11:06:49.523099Z",
     "start_time": "2020-11-20T11:06:49.014700Z"
    }
   },
   "outputs": [
    {
     "data": {
      "image/png": "[encoded data removed]",
      "text/plain": [
       "<Figure size 360x360 with 1 Axes>"
      ]
     },
     "metadata": {
      "needs_background": "light"
     },
     "output_type": "display_data"
    }
   ],
   "source": [
    "sns.displot(user_data, x='Gender')\n",
    "plt.ylabel('Number of Students')\n",
    "plt.show()"
   ]
  },
  {
   "cell_type": "markdown",
   "metadata": {},
   "source": [
    "This is how our user table looks like. "
   ]
  },
  {
   "cell_type": "code",
   "execution_count": 20,
   "metadata": {
    "ExecuteTime": {
     "end_time": "2020-11-20T11:06:49.699663Z",
     "start_time": "2020-11-20T11:06:49.534781Z"
    }
   },
   "outputs": [
    {
     "data": {
      "text/html": [
       "<div>\n",
       "<style scoped>\n",
       "    .dataframe tbody tr th:only-of-type {\n",
       "        vertical-align: middle;\n",
       "    }\n",
       "\n",
       "    .dataframe tbody tr th {\n",
       "        vertical-align: top;\n",
       "    }\n",
       "\n",
       "    .dataframe thead th {\n",
       "        text-align: right;\n",
       "    }\n",
       "</style>\n",
       "<table border=\"1\" class=\"dataframe\">\n",
       "  <thead>\n",
       "    <tr style=\"text-align: right;\">\n",
       "      <th></th>\n",
       "      <th>AccountUserID</th>\n",
       "      <th>SCIPER</th>\n",
       "      <th>Round</th>\n",
       "      <th>Category</th>\n",
       "      <th>Gender</th>\n",
       "    </tr>\n",
       "  </thead>\n",
       "  <tbody>\n",
       "    <tr>\n",
       "      <th>22</th>\n",
       "      <td>46473</td>\n",
       "      <td>302928</td>\n",
       "      <td>Y2-2018-19</td>\n",
       "      <td>France</td>\n",
       "      <td>M</td>\n",
       "    </tr>\n",
       "    <tr>\n",
       "      <th>23</th>\n",
       "      <td>47067</td>\n",
       "      <td>300559</td>\n",
       "      <td>Y2-2018-19</td>\n",
       "      <td>Suisse.PAM</td>\n",
       "      <td>M</td>\n",
       "    </tr>\n",
       "    <tr>\n",
       "      <th>24</th>\n",
       "      <td>46551</td>\n",
       "      <td>301288</td>\n",
       "      <td>Y2-2018-19</td>\n",
       "      <td>Suisse.Autres</td>\n",
       "      <td>M</td>\n",
       "    </tr>\n",
       "    <tr>\n",
       "      <th>25</th>\n",
       "      <td>46485</td>\n",
       "      <td>302150</td>\n",
       "      <td>Y2-2018-19</td>\n",
       "      <td>France</td>\n",
       "      <td>F</td>\n",
       "    </tr>\n",
       "    <tr>\n",
       "      <th>26</th>\n",
       "      <td>49095</td>\n",
       "      <td>299657</td>\n",
       "      <td>Y2-2018-19</td>\n",
       "      <td>France</td>\n",
       "      <td>F</td>\n",
       "    </tr>\n",
       "  </tbody>\n",
       "</table>\n",
       "</div>"
      ],
      "text/plain": [
       "   AccountUserID  SCIPER       Round       Category Gender\n",
       "22         46473  302928  Y2-2018-19         France      M\n",
       "23         47067  300559  Y2-2018-19     Suisse.PAM      M\n",
       "24         46551  301288  Y2-2018-19  Suisse.Autres      M\n",
       "25         46485  302150  Y2-2018-19         France      F\n",
       "26         49095  299657  Y2-2018-19         France      F"
      ]
     },
     "execution_count": 20,
     "metadata": {},
     "output_type": "execute_result"
    }
   ],
   "source": [
    "user_data.head()"
   ]
  },
  {
   "cell_type": "code",
   "execution_count": 21,
   "metadata": {
    "ExecuteTime": {
     "end_time": "2020-11-20T11:06:49.756058Z",
     "start_time": "2020-11-20T11:06:49.721689Z"
    }
   },
   "outputs": [
    {
     "data": {
      "text/plain": [
       "'Hence, we will work with 226 students.'"
      ]
     },
     "execution_count": 21,
     "metadata": {},
     "output_type": "execute_result"
    }
   ],
   "source": [
    "\"Hence, we will work with \" + str(len(user_data)) + \" students.\" "
   ]
  },
  {
   "cell_type": "markdown",
   "metadata": {},
   "source": [
    "### Getting Students' Records\n",
    "\n",
    "#### Video Clickstream Records"
   ]
  },
  {
   "cell_type": "code",
   "execution_count": 363,
   "metadata": {
    "ExecuteTime": {
     "end_time": "2020-11-20T18:53:43.332008Z",
     "start_time": "2020-11-20T18:51:14.213094Z"
    },
    "scrolled": true
   },
   "outputs": [
    {
     "name": "stdout",
     "output_type": "stream",
     "text": [
      "CPU times: user 1min 20s, sys: 5.31 s, total: 1min 25s\n",
      "Wall time: 2min 27s\n"
     ]
    }
   ],
   "source": [
    "%time video_data = getVideoEventsInfo()"
   ]
  },
  {
   "cell_type": "code",
   "execution_count": 364,
   "metadata": {
    "ExecuteTime": {
     "end_time": "2020-11-20T18:53:45.708968Z",
     "start_time": "2020-11-20T18:53:43.336794Z"
    }
   },
   "outputs": [],
   "source": [
    "video_data = video_data[video_data['Round'].isin(rounds)]"
   ]
  },
  {
   "cell_type": "markdown",
   "metadata": {},
   "source": [
    "This is how our video event table looks like."
   ]
  },
  {
   "cell_type": "code",
   "execution_count": 365,
   "metadata": {
    "ExecuteTime": {
     "end_time": "2020-11-20T18:53:45.785137Z",
     "start_time": "2020-11-20T18:53:45.714778Z"
    }
   },
   "outputs": [
    {
     "data": {
      "text/html": [
       "<div>\n",
       "<style scoped>\n",
       "    .dataframe tbody tr th:only-of-type {\n",
       "        vertical-align: middle;\n",
       "    }\n",
       "\n",
       "    .dataframe tbody tr th {\n",
       "        vertical-align: top;\n",
       "    }\n",
       "\n",
       "    .dataframe thead th {\n",
       "        text-align: right;\n",
       "    }\n",
       "</style>\n",
       "<table border=\"1\" class=\"dataframe\">\n",
       "  <thead>\n",
       "    <tr style=\"text-align: right;\">\n",
       "      <th></th>\n",
       "      <th>AccountUserID</th>\n",
       "      <th>EventType</th>\n",
       "      <th>TimeStamp</th>\n",
       "      <th>VideoID</th>\n",
       "      <th>EventID</th>\n",
       "      <th>Round</th>\n",
       "      <th>ID.Anon</th>\n",
       "      <th>Title</th>\n",
       "      <th>Source</th>\n",
       "      <th>Subchapter</th>\n",
       "      <th>Duration</th>\n",
       "    </tr>\n",
       "  </thead>\n",
       "  <tbody>\n",
       "    <tr>\n",
       "      <th>0</th>\n",
       "      <td>95017</td>\n",
       "      <td>Video.Play</td>\n",
       "      <td>1570355725</td>\n",
       "      <td>ca2fa02b0daa43f295e76da61e53de2a</td>\n",
       "      <td>7e86b0cc3b0a72a4a1f1029dffb2abe4</td>\n",
       "      <td>Y3-2019-20</td>\n",
       "      <td>3442T2003</td>\n",
       "      <td>Leçon</td>\n",
       "      <td>https://www.youtube.com/watch?v=AFtb4KxwYGY</td>\n",
       "      <td>3.5</td>\n",
       "      <td>NaN</td>\n",
       "    </tr>\n",
       "    <tr>\n",
       "      <th>1</th>\n",
       "      <td>95017</td>\n",
       "      <td>Video.Play</td>\n",
       "      <td>1570355899</td>\n",
       "      <td>ca2fa02b0daa43f295e76da61e53de2a</td>\n",
       "      <td>ca6e7fd174fdad0f3d87c29a579d4563</td>\n",
       "      <td>Y3-2019-20</td>\n",
       "      <td>3442T2003</td>\n",
       "      <td>Leçon</td>\n",
       "      <td>https://www.youtube.com/watch?v=AFtb4KxwYGY</td>\n",
       "      <td>3.5</td>\n",
       "      <td>NaN</td>\n",
       "    </tr>\n",
       "    <tr>\n",
       "      <th>2</th>\n",
       "      <td>95017</td>\n",
       "      <td>Video.Play</td>\n",
       "      <td>1570355940</td>\n",
       "      <td>ca2fa02b0daa43f295e76da61e53de2a</td>\n",
       "      <td>98a2650f8227bc7dc1350078b0568ef7</td>\n",
       "      <td>Y3-2019-20</td>\n",
       "      <td>3442T2003</td>\n",
       "      <td>Leçon</td>\n",
       "      <td>https://www.youtube.com/watch?v=AFtb4KxwYGY</td>\n",
       "      <td>3.5</td>\n",
       "      <td>NaN</td>\n",
       "    </tr>\n",
       "    <tr>\n",
       "      <th>3</th>\n",
       "      <td>95017</td>\n",
       "      <td>Video.Pause</td>\n",
       "      <td>1570355694</td>\n",
       "      <td>ca2fa02b0daa43f295e76da61e53de2a</td>\n",
       "      <td>1a9f2889bc8e00ad4d0c1ed634adb7d4</td>\n",
       "      <td>Y3-2019-20</td>\n",
       "      <td>3442T2003</td>\n",
       "      <td>Leçon</td>\n",
       "      <td>https://www.youtube.com/watch?v=AFtb4KxwYGY</td>\n",
       "      <td>3.5</td>\n",
       "      <td>NaN</td>\n",
       "    </tr>\n",
       "    <tr>\n",
       "      <th>4</th>\n",
       "      <td>95017</td>\n",
       "      <td>Video.Pause</td>\n",
       "      <td>1570355760</td>\n",
       "      <td>ca2fa02b0daa43f295e76da61e53de2a</td>\n",
       "      <td>cd129eac330b9e3459de4e8e8f7b52dd</td>\n",
       "      <td>Y3-2019-20</td>\n",
       "      <td>3442T2003</td>\n",
       "      <td>Leçon</td>\n",
       "      <td>https://www.youtube.com/watch?v=AFtb4KxwYGY</td>\n",
       "      <td>3.5</td>\n",
       "      <td>NaN</td>\n",
       "    </tr>\n",
       "  </tbody>\n",
       "</table>\n",
       "</div>"
      ],
      "text/plain": [
       "  AccountUserID    EventType   TimeStamp                           VideoID  \\\n",
       "0         95017   Video.Play  1570355725  ca2fa02b0daa43f295e76da61e53de2a   \n",
       "1         95017   Video.Play  1570355899  ca2fa02b0daa43f295e76da61e53de2a   \n",
       "2         95017   Video.Play  1570355940  ca2fa02b0daa43f295e76da61e53de2a   \n",
       "3         95017  Video.Pause  1570355694  ca2fa02b0daa43f295e76da61e53de2a   \n",
       "4         95017  Video.Pause  1570355760  ca2fa02b0daa43f295e76da61e53de2a   \n",
       "\n",
       "                            EventID       Round    ID.Anon  Title  \\\n",
       "0  7e86b0cc3b0a72a4a1f1029dffb2abe4  Y3-2019-20  3442T2003  Leçon   \n",
       "1  ca6e7fd174fdad0f3d87c29a579d4563  Y3-2019-20  3442T2003  Leçon   \n",
       "2  98a2650f8227bc7dc1350078b0568ef7  Y3-2019-20  3442T2003  Leçon   \n",
       "3  1a9f2889bc8e00ad4d0c1ed634adb7d4  Y3-2019-20  3442T2003  Leçon   \n",
       "4  cd129eac330b9e3459de4e8e8f7b52dd  Y3-2019-20  3442T2003  Leçon   \n",
       "\n",
       "                                        Source  Subchapter  Duration  \n",
       "0  https://www.youtube.com/watch?v=AFtb4KxwYGY         3.5       NaN  \n",
       "1  https://www.youtube.com/watch?v=AFtb4KxwYGY         3.5       NaN  \n",
       "2  https://www.youtube.com/watch?v=AFtb4KxwYGY         3.5       NaN  \n",
       "3  https://www.youtube.com/watch?v=AFtb4KxwYGY         3.5       NaN  \n",
       "4  https://www.youtube.com/watch?v=AFtb4KxwYGY         3.5       NaN  "
      ]
     },
     "execution_count": 365,
     "metadata": {},
     "output_type": "execute_result"
    }
   ],
   "source": [
    "video_data.head()"
   ]
  },
  {
   "cell_type": "code",
   "execution_count": 366,
   "metadata": {
    "ExecuteTime": {
     "end_time": "2020-11-20T18:53:45.848509Z",
     "start_time": "2020-11-20T18:53:45.789918Z"
    }
   },
   "outputs": [
    {
     "data": {
      "text/plain": [
       "'Hence, we will work with 1416106 video interactions.'"
      ]
     },
     "execution_count": 366,
     "metadata": {},
     "output_type": "execute_result"
    }
   ],
   "source": [
    "\"Hence, we will work with \" + str(len(video_data)) + \" video interactions.\" "
   ]
  },
  {
   "cell_type": "markdown",
   "metadata": {},
   "source": [
    "#### Problem Clickstream Records"
   ]
  },
  {
   "cell_type": "code",
   "execution_count": 367,
   "metadata": {
    "ExecuteTime": {
     "end_time": "2020-11-20T18:56:10.138980Z",
     "start_time": "2020-11-20T18:53:45.851907Z"
    }
   },
   "outputs": [
    {
     "name": "stdout",
     "output_type": "stream",
     "text": [
      "CPU times: user 1min 12s, sys: 3.79 s, total: 1min 16s\n",
      "Wall time: 2min 24s\n"
     ]
    }
   ],
   "source": [
    "%time problem_data = getProblemEventsInfo()"
   ]
  },
  {
   "cell_type": "code",
   "execution_count": 368,
   "metadata": {
    "ExecuteTime": {
     "end_time": "2020-11-20T18:56:12.185159Z",
     "start_time": "2020-11-20T18:56:10.144721Z"
    }
   },
   "outputs": [],
   "source": [
    "problem_data = problem_data[problem_data['Round'].isin(rounds)]"
   ]
  },
  {
   "cell_type": "markdown",
   "metadata": {},
   "source": [
    "This is how our problem event table looks like."
   ]
  },
  {
   "cell_type": "code",
   "execution_count": 369,
   "metadata": {
    "ExecuteTime": {
     "end_time": "2020-11-20T18:56:12.260841Z",
     "start_time": "2020-11-20T18:56:12.188106Z"
    }
   },
   "outputs": [
    {
     "data": {
      "text/html": [
       "<div>\n",
       "<style scoped>\n",
       "    .dataframe tbody tr th:only-of-type {\n",
       "        vertical-align: middle;\n",
       "    }\n",
       "\n",
       "    .dataframe tbody tr th {\n",
       "        vertical-align: top;\n",
       "    }\n",
       "\n",
       "    .dataframe thead th {\n",
       "        text-align: right;\n",
       "    }\n",
       "</style>\n",
       "<table border=\"1\" class=\"dataframe\">\n",
       "  <thead>\n",
       "    <tr style=\"text-align: right;\">\n",
       "      <th></th>\n",
       "      <th>AccountUserID</th>\n",
       "      <th>ProblemID</th>\n",
       "      <th>EventID</th>\n",
       "      <th>EventType</th>\n",
       "      <th>TimeStamp</th>\n",
       "      <th>ProblemType</th>\n",
       "      <th>MaximumSubmissions</th>\n",
       "      <th>Round</th>\n",
       "      <th>ID.Anon</th>\n",
       "      <th>Subchapter</th>\n",
       "    </tr>\n",
       "  </thead>\n",
       "  <tbody>\n",
       "    <tr>\n",
       "      <th>0</th>\n",
       "      <td>46461</td>\n",
       "      <td>ca64971b751847c798f5ff753e3eddfe</td>\n",
       "      <td>48a1d90b23540db487ffbb6b8234e873</td>\n",
       "      <td>Problem.Check</td>\n",
       "      <td>1547885100</td>\n",
       "      <td>Quiz</td>\n",
       "      <td>NaN</td>\n",
       "      <td>Y2-2018-19</td>\n",
       "      <td>1316T729</td>\n",
       "      <td>3.4</td>\n",
       "    </tr>\n",
       "    <tr>\n",
       "      <th>1</th>\n",
       "      <td>46461</td>\n",
       "      <td>ca64971b751847c798f5ff753e3eddfe</td>\n",
       "      <td>afd03bceafc651e5a3c47b18a02b1ad5</td>\n",
       "      <td>Problem.Check</td>\n",
       "      <td>1547885080</td>\n",
       "      <td>Quiz</td>\n",
       "      <td>NaN</td>\n",
       "      <td>Y2-2018-19</td>\n",
       "      <td>1316T729</td>\n",
       "      <td>3.4</td>\n",
       "    </tr>\n",
       "    <tr>\n",
       "      <th>2</th>\n",
       "      <td>46461</td>\n",
       "      <td>ca64971b751847c798f5ff753e3eddfe</td>\n",
       "      <td>1874f3671ab8ccb7303ec0fb7eaa293e</td>\n",
       "      <td>Problem.Check</td>\n",
       "      <td>1547885072</td>\n",
       "      <td>Quiz</td>\n",
       "      <td>NaN</td>\n",
       "      <td>Y2-2018-19</td>\n",
       "      <td>1316T729</td>\n",
       "      <td>3.4</td>\n",
       "    </tr>\n",
       "    <tr>\n",
       "      <th>3</th>\n",
       "      <td>46461</td>\n",
       "      <td>ca64971b751847c798f5ff753e3eddfe</td>\n",
       "      <td>7d1f8148e15577ec152369346c103935</td>\n",
       "      <td>Problem.Check</td>\n",
       "      <td>1547885090</td>\n",
       "      <td>Quiz</td>\n",
       "      <td>NaN</td>\n",
       "      <td>Y2-2018-19</td>\n",
       "      <td>1316T729</td>\n",
       "      <td>3.4</td>\n",
       "    </tr>\n",
       "    <tr>\n",
       "      <th>4</th>\n",
       "      <td>46461</td>\n",
       "      <td>ca64971b751847c798f5ff753e3eddfe</td>\n",
       "      <td>42d7c21581cd80837ecc61b5ef5370e6</td>\n",
       "      <td>Problem.Check</td>\n",
       "      <td>1547885080</td>\n",
       "      <td>Quiz</td>\n",
       "      <td>NaN</td>\n",
       "      <td>Y2-2018-19</td>\n",
       "      <td>1316T729</td>\n",
       "      <td>3.4</td>\n",
       "    </tr>\n",
       "  </tbody>\n",
       "</table>\n",
       "</div>"
      ],
      "text/plain": [
       "  AccountUserID                         ProblemID  \\\n",
       "0         46461  ca64971b751847c798f5ff753e3eddfe   \n",
       "1         46461  ca64971b751847c798f5ff753e3eddfe   \n",
       "2         46461  ca64971b751847c798f5ff753e3eddfe   \n",
       "3         46461  ca64971b751847c798f5ff753e3eddfe   \n",
       "4         46461  ca64971b751847c798f5ff753e3eddfe   \n",
       "\n",
       "                            EventID      EventType   TimeStamp ProblemType  \\\n",
       "0  48a1d90b23540db487ffbb6b8234e873  Problem.Check  1547885100        Quiz   \n",
       "1  afd03bceafc651e5a3c47b18a02b1ad5  Problem.Check  1547885080        Quiz   \n",
       "2  1874f3671ab8ccb7303ec0fb7eaa293e  Problem.Check  1547885072        Quiz   \n",
       "3  7d1f8148e15577ec152369346c103935  Problem.Check  1547885090        Quiz   \n",
       "4  42d7c21581cd80837ecc61b5ef5370e6  Problem.Check  1547885080        Quiz   \n",
       "\n",
       "   MaximumSubmissions       Round   ID.Anon  Subchapter  \n",
       "0                 NaN  Y2-2018-19  1316T729         3.4  \n",
       "1                 NaN  Y2-2018-19  1316T729         3.4  \n",
       "2                 NaN  Y2-2018-19  1316T729         3.4  \n",
       "3                 NaN  Y2-2018-19  1316T729         3.4  \n",
       "4                 NaN  Y2-2018-19  1316T729         3.4  "
      ]
     },
     "execution_count": 369,
     "metadata": {},
     "output_type": "execute_result"
    }
   ],
   "source": [
    "problem_data.head()"
   ]
  },
  {
   "cell_type": "code",
   "execution_count": 370,
   "metadata": {
    "ExecuteTime": {
     "end_time": "2020-11-20T18:56:12.330408Z",
     "start_time": "2020-11-20T18:56:12.266073Z"
    }
   },
   "outputs": [
    {
     "data": {
      "text/plain": [
       "'Hence, we will work with 473924 problem interactions.'"
      ]
     },
     "execution_count": 370,
     "metadata": {},
     "output_type": "execute_result"
    }
   ],
   "source": [
    "\"Hence, we will work with \" + str(len(problem_data)) + \" problem interactions.\" "
   ]
  },
  {
   "cell_type": "markdown",
   "metadata": {},
   "source": [
    "#### Exam Records"
   ]
  },
  {
   "cell_type": "code",
   "execution_count": 371,
   "metadata": {
    "ExecuteTime": {
     "end_time": "2020-11-20T18:57:57.943658Z",
     "start_time": "2020-11-20T18:56:12.351650Z"
    }
   },
   "outputs": [
    {
     "name": "stdout",
     "output_type": "stream",
     "text": [
      "CPU times: user 1min 7s, sys: 2.73 s, total: 1min 10s\n",
      "Wall time: 1min 45s\n"
     ]
    }
   ],
   "source": [
    "%time exam_data = getExamInfo()"
   ]
  },
  {
   "cell_type": "markdown",
   "metadata": {},
   "source": [
    "We filter the exam records of students who have not participated into the study"
   ]
  },
  {
   "cell_type": "code",
   "execution_count": 372,
   "metadata": {
    "ExecuteTime": {
     "end_time": "2020-11-20T18:58:00.198430Z",
     "start_time": "2020-11-20T18:57:57.948414Z"
    }
   },
   "outputs": [],
   "source": [
    "exam_data = exam_data[exam_data['Round'].isin(rounds)]"
   ]
  },
  {
   "cell_type": "markdown",
   "metadata": {},
   "source": [
    "This is how our exam data looks like. "
   ]
  },
  {
   "cell_type": "code",
   "execution_count": 373,
   "metadata": {
    "ExecuteTime": {
     "end_time": "2020-11-20T18:58:00.272074Z",
     "start_time": "2020-11-20T18:58:00.201490Z"
    }
   },
   "outputs": [
    {
     "data": {
      "text/html": [
       "<div>\n",
       "<style scoped>\n",
       "    .dataframe tbody tr th:only-of-type {\n",
       "        vertical-align: middle;\n",
       "    }\n",
       "\n",
       "    .dataframe tbody tr th {\n",
       "        vertical-align: top;\n",
       "    }\n",
       "\n",
       "    .dataframe thead th {\n",
       "        text-align: right;\n",
       "    }\n",
       "</style>\n",
       "<table border=\"1\" class=\"dataframe\">\n",
       "  <thead>\n",
       "    <tr style=\"text-align: right;\">\n",
       "      <th></th>\n",
       "      <th>Grade</th>\n",
       "      <th>GradeDate</th>\n",
       "      <th>Round</th>\n",
       "      <th>AccountUserID</th>\n",
       "    </tr>\n",
       "  </thead>\n",
       "  <tbody>\n",
       "    <tr>\n",
       "      <th>0</th>\n",
       "      <td>5.00</td>\n",
       "      <td>02.2019</td>\n",
       "      <td>Y2-2018-19</td>\n",
       "      <td>46938</td>\n",
       "    </tr>\n",
       "    <tr>\n",
       "      <th>19</th>\n",
       "      <td>5.00</td>\n",
       "      <td>02.2019</td>\n",
       "      <td>Y2-2018-19</td>\n",
       "      <td>12725</td>\n",
       "    </tr>\n",
       "    <tr>\n",
       "      <th>21</th>\n",
       "      <td>5.50</td>\n",
       "      <td>02.2019</td>\n",
       "      <td>Y2-2018-19</td>\n",
       "      <td>46575</td>\n",
       "    </tr>\n",
       "    <tr>\n",
       "      <th>24</th>\n",
       "      <td>6.00</td>\n",
       "      <td>02.2019</td>\n",
       "      <td>Y2-2018-19</td>\n",
       "      <td>46509</td>\n",
       "    </tr>\n",
       "    <tr>\n",
       "      <th>27</th>\n",
       "      <td>5.25</td>\n",
       "      <td>02.2019</td>\n",
       "      <td>Y2-2018-19</td>\n",
       "      <td>12887</td>\n",
       "    </tr>\n",
       "  </tbody>\n",
       "</table>\n",
       "</div>"
      ],
      "text/plain": [
       "    Grade GradeDate       Round AccountUserID\n",
       "0    5.00   02.2019  Y2-2018-19         46938\n",
       "19   5.00   02.2019  Y2-2018-19         12725\n",
       "21   5.50   02.2019  Y2-2018-19         46575\n",
       "24   6.00   02.2019  Y2-2018-19         46509\n",
       "27   5.25   02.2019  Y2-2018-19         12887"
      ]
     },
     "execution_count": 373,
     "metadata": {},
     "output_type": "execute_result"
    }
   ],
   "source": [
    "exam_data.head()"
   ]
  },
  {
   "cell_type": "markdown",
   "metadata": {},
   "source": [
    "#### Event Records"
   ]
  },
  {
   "cell_type": "code",
   "execution_count": 374,
   "metadata": {
    "ExecuteTime": {
     "end_time": "2020-11-20T18:58:02.452616Z",
     "start_time": "2020-11-20T18:58:00.277643Z"
    }
   },
   "outputs": [],
   "source": [
    "events = video_data.append(problem_data)"
   ]
  },
  {
   "cell_type": "code",
   "execution_count": 375,
   "metadata": {
    "ExecuteTime": {
     "end_time": "2020-11-20T18:58:04.207955Z",
     "start_time": "2020-11-20T18:58:02.455247Z"
    }
   },
   "outputs": [],
   "source": [
    "events['Year'] = events['Round'].apply(lambda x: int(x.split('-')[1]))"
   ]
  },
  {
   "cell_type": "markdown",
   "metadata": {},
   "source": [
    "This is how our join event table looks like."
   ]
  },
  {
   "cell_type": "code",
   "execution_count": 376,
   "metadata": {
    "ExecuteTime": {
     "end_time": "2020-11-20T18:58:04.287399Z",
     "start_time": "2020-11-20T18:58:04.211504Z"
    },
    "scrolled": true
   },
   "outputs": [
    {
     "data": {
      "text/html": [
       "<div>\n",
       "<style scoped>\n",
       "    .dataframe tbody tr th:only-of-type {\n",
       "        vertical-align: middle;\n",
       "    }\n",
       "\n",
       "    .dataframe tbody tr th {\n",
       "        vertical-align: top;\n",
       "    }\n",
       "\n",
       "    .dataframe thead th {\n",
       "        text-align: right;\n",
       "    }\n",
       "</style>\n",
       "<table border=\"1\" class=\"dataframe\">\n",
       "  <thead>\n",
       "    <tr style=\"text-align: right;\">\n",
       "      <th></th>\n",
       "      <th>AccountUserID</th>\n",
       "      <th>EventType</th>\n",
       "      <th>TimeStamp</th>\n",
       "      <th>VideoID</th>\n",
       "      <th>EventID</th>\n",
       "      <th>Round</th>\n",
       "      <th>ID.Anon</th>\n",
       "      <th>Title</th>\n",
       "      <th>Source</th>\n",
       "      <th>Subchapter</th>\n",
       "      <th>Duration</th>\n",
       "      <th>ProblemID</th>\n",
       "      <th>ProblemType</th>\n",
       "      <th>MaximumSubmissions</th>\n",
       "      <th>Year</th>\n",
       "    </tr>\n",
       "  </thead>\n",
       "  <tbody>\n",
       "    <tr>\n",
       "      <th>0</th>\n",
       "      <td>95017</td>\n",
       "      <td>Video.Play</td>\n",
       "      <td>1570355725</td>\n",
       "      <td>ca2fa02b0daa43f295e76da61e53de2a</td>\n",
       "      <td>7e86b0cc3b0a72a4a1f1029dffb2abe4</td>\n",
       "      <td>Y3-2019-20</td>\n",
       "      <td>3442T2003</td>\n",
       "      <td>Leçon</td>\n",
       "      <td>https://www.youtube.com/watch?v=AFtb4KxwYGY</td>\n",
       "      <td>3.5</td>\n",
       "      <td>NaN</td>\n",
       "      <td>NaN</td>\n",
       "      <td>NaN</td>\n",
       "      <td>NaN</td>\n",
       "      <td>2019</td>\n",
       "    </tr>\n",
       "    <tr>\n",
       "      <th>1</th>\n",
       "      <td>95017</td>\n",
       "      <td>Video.Play</td>\n",
       "      <td>1570355899</td>\n",
       "      <td>ca2fa02b0daa43f295e76da61e53de2a</td>\n",
       "      <td>ca6e7fd174fdad0f3d87c29a579d4563</td>\n",
       "      <td>Y3-2019-20</td>\n",
       "      <td>3442T2003</td>\n",
       "      <td>Leçon</td>\n",
       "      <td>https://www.youtube.com/watch?v=AFtb4KxwYGY</td>\n",
       "      <td>3.5</td>\n",
       "      <td>NaN</td>\n",
       "      <td>NaN</td>\n",
       "      <td>NaN</td>\n",
       "      <td>NaN</td>\n",
       "      <td>2019</td>\n",
       "    </tr>\n",
       "    <tr>\n",
       "      <th>2</th>\n",
       "      <td>95017</td>\n",
       "      <td>Video.Play</td>\n",
       "      <td>1570355940</td>\n",
       "      <td>ca2fa02b0daa43f295e76da61e53de2a</td>\n",
       "      <td>98a2650f8227bc7dc1350078b0568ef7</td>\n",
       "      <td>Y3-2019-20</td>\n",
       "      <td>3442T2003</td>\n",
       "      <td>Leçon</td>\n",
       "      <td>https://www.youtube.com/watch?v=AFtb4KxwYGY</td>\n",
       "      <td>3.5</td>\n",
       "      <td>NaN</td>\n",
       "      <td>NaN</td>\n",
       "      <td>NaN</td>\n",
       "      <td>NaN</td>\n",
       "      <td>2019</td>\n",
       "    </tr>\n",
       "    <tr>\n",
       "      <th>3</th>\n",
       "      <td>95017</td>\n",
       "      <td>Video.Pause</td>\n",
       "      <td>1570355694</td>\n",
       "      <td>ca2fa02b0daa43f295e76da61e53de2a</td>\n",
       "      <td>1a9f2889bc8e00ad4d0c1ed634adb7d4</td>\n",
       "      <td>Y3-2019-20</td>\n",
       "      <td>3442T2003</td>\n",
       "      <td>Leçon</td>\n",
       "      <td>https://www.youtube.com/watch?v=AFtb4KxwYGY</td>\n",
       "      <td>3.5</td>\n",
       "      <td>NaN</td>\n",
       "      <td>NaN</td>\n",
       "      <td>NaN</td>\n",
       "      <td>NaN</td>\n",
       "      <td>2019</td>\n",
       "    </tr>\n",
       "    <tr>\n",
       "      <th>4</th>\n",
       "      <td>95017</td>\n",
       "      <td>Video.Pause</td>\n",
       "      <td>1570355760</td>\n",
       "      <td>ca2fa02b0daa43f295e76da61e53de2a</td>\n",
       "      <td>cd129eac330b9e3459de4e8e8f7b52dd</td>\n",
       "      <td>Y3-2019-20</td>\n",
       "      <td>3442T2003</td>\n",
       "      <td>Leçon</td>\n",
       "      <td>https://www.youtube.com/watch?v=AFtb4KxwYGY</td>\n",
       "      <td>3.5</td>\n",
       "      <td>NaN</td>\n",
       "      <td>NaN</td>\n",
       "      <td>NaN</td>\n",
       "      <td>NaN</td>\n",
       "      <td>2019</td>\n",
       "    </tr>\n",
       "  </tbody>\n",
       "</table>\n",
       "</div>"
      ],
      "text/plain": [
       "  AccountUserID    EventType   TimeStamp                           VideoID  \\\n",
       "0         95017   Video.Play  1570355725  ca2fa02b0daa43f295e76da61e53de2a   \n",
       "1         95017   Video.Play  1570355899  ca2fa02b0daa43f295e76da61e53de2a   \n",
       "2         95017   Video.Play  1570355940  ca2fa02b0daa43f295e76da61e53de2a   \n",
       "3         95017  Video.Pause  1570355694  ca2fa02b0daa43f295e76da61e53de2a   \n",
       "4         95017  Video.Pause  1570355760  ca2fa02b0daa43f295e76da61e53de2a   \n",
       "\n",
       "                            EventID       Round    ID.Anon  Title  \\\n",
       "0  7e86b0cc3b0a72a4a1f1029dffb2abe4  Y3-2019-20  3442T2003  Leçon   \n",
       "1  ca6e7fd174fdad0f3d87c29a579d4563  Y3-2019-20  3442T2003  Leçon   \n",
       "2  98a2650f8227bc7dc1350078b0568ef7  Y3-2019-20  3442T2003  Leçon   \n",
       "3  1a9f2889bc8e00ad4d0c1ed634adb7d4  Y3-2019-20  3442T2003  Leçon   \n",
       "4  cd129eac330b9e3459de4e8e8f7b52dd  Y3-2019-20  3442T2003  Leçon   \n",
       "\n",
       "                                        Source  Subchapter  Duration  \\\n",
       "0  https://www.youtube.com/watch?v=AFtb4KxwYGY         3.5       NaN   \n",
       "1  https://www.youtube.com/watch?v=AFtb4KxwYGY         3.5       NaN   \n",
       "2  https://www.youtube.com/watch?v=AFtb4KxwYGY         3.5       NaN   \n",
       "3  https://www.youtube.com/watch?v=AFtb4KxwYGY         3.5       NaN   \n",
       "4  https://www.youtube.com/watch?v=AFtb4KxwYGY         3.5       NaN   \n",
       "\n",
       "  ProblemID ProblemType  MaximumSubmissions  Year  \n",
       "0       NaN         NaN                 NaN  2019  \n",
       "1       NaN         NaN                 NaN  2019  \n",
       "2       NaN         NaN                 NaN  2019  \n",
       "3       NaN         NaN                 NaN  2019  \n",
       "4       NaN         NaN                 NaN  2019  "
      ]
     },
     "execution_count": 376,
     "metadata": {},
     "output_type": "execute_result"
    }
   ],
   "source": [
    "events.head()"
   ]
  },
  {
   "cell_type": "markdown",
   "metadata": {},
   "source": [
    "#### Identify Week"
   ]
  },
  {
   "cell_type": "code",
   "execution_count": 377,
   "metadata": {
    "ExecuteTime": {
     "end_time": "2020-11-20T18:58:04.345884Z",
     "start_time": "2020-11-20T18:58:04.293325Z"
    }
   },
   "outputs": [],
   "source": [
    "noCourseWeeks = 20"
   ]
  },
  {
   "cell_type": "markdown",
   "metadata": {},
   "source": [
    "We get the configuration file (e.g, start and end date) for each round of the course. "
   ]
  },
  {
   "cell_type": "code",
   "execution_count": 378,
   "metadata": {
    "ExecuteTime": {
     "end_time": "2020-11-20T18:58:05.157115Z",
     "start_time": "2020-11-20T18:58:04.348890Z"
    }
   },
   "outputs": [],
   "source": [
    "with open('../config/linear_algebra.json') as f:\n",
    "    config = json.load(f)"
   ]
  },
  {
   "cell_type": "code",
   "execution_count": 379,
   "metadata": {
    "ExecuteTime": {
     "end_time": "2020-11-20T18:58:05.311119Z",
     "start_time": "2020-11-20T18:58:05.160207Z"
    }
   },
   "outputs": [
    {
     "data": {
      "text/plain": [
       "{'Start': '2018-09-17 00:00:00',\n",
       " 'StartFlipped': '2018-10-16 00:00:00',\n",
       " 'End': '2019-01-28 00:00:00',\n",
       " 'Exam': '2019-01-21 00:00:00',\n",
       " 'WeeklyVideoCount': [7, 10, 10, 6, 13, 7, 8, 7, 9, 6],\n",
       " 'FlippedWeeks': [4, 5, 6, 7, 8, 9, 10, 11, 12, 13],\n",
       " 'Midterm': '2018-11-13'}"
      ]
     },
     "execution_count": 379,
     "metadata": {},
     "output_type": "execute_result"
    }
   ],
   "source": [
    "config[rounds[0].split('-')[-2]]"
   ]
  },
  {
   "cell_type": "markdown",
   "metadata": {},
   "source": [
    "We assign each video interaction to a specific week of the course, with the first week of the course round having id 0. "
   ]
  },
  {
   "cell_type": "code",
   "execution_count": 380,
   "metadata": {
    "ExecuteTime": {
     "end_time": "2020-11-20T18:58:49.307514Z",
     "start_time": "2020-11-20T18:58:05.315305Z"
    }
   },
   "outputs": [],
   "source": [
    "events['Date'] = events['TimeStamp'].apply(lambda x:string2Datetime(dt.utcfromtimestamp(x).strftime('%Y-%m-%d %H:%M:%S')))"
   ]
  },
  {
   "cell_type": "code",
   "execution_count": 381,
   "metadata": {
    "ExecuteTime": {
     "end_time": "2020-11-20T18:59:19.767759Z",
     "start_time": "2020-11-20T18:58:49.310848Z"
    }
   },
   "outputs": [],
   "source": [
    "tmp_events = []\n",
    "for r in rounds:\n",
    "    round_events = events[events['Round'] == r]\n",
    "    tmp_events.append(processWeek(round_events, 'Date', config[r.split('-')[-2]]['Start']))\n",
    "events = pd.concat(tmp_events).copy()"
   ]
  },
  {
   "cell_type": "code",
   "execution_count": 382,
   "metadata": {
    "ExecuteTime": {
     "end_time": "2020-11-20T18:59:24.897286Z",
     "start_time": "2020-11-20T18:59:19.772073Z"
    }
   },
   "outputs": [],
   "source": [
    "events['Week'] = events['Week'].apply(lambda x: int(x))"
   ]
  },
  {
   "cell_type": "markdown",
   "metadata": {},
   "source": [
    "Then, we filter only the 14 course weeks. "
   ]
  },
  {
   "cell_type": "code",
   "execution_count": 383,
   "metadata": {
    "ExecuteTime": {
     "end_time": "2020-11-20T18:59:27.181917Z",
     "start_time": "2020-11-20T18:59:24.900835Z"
    }
   },
   "outputs": [],
   "source": [
    "events = events[events['Week'].isin(range(noCourseWeeks))]"
   ]
  },
  {
   "cell_type": "markdown",
   "metadata": {},
   "source": [
    "This is how our event table looks like, after week addition. "
   ]
  },
  {
   "cell_type": "code",
   "execution_count": 384,
   "metadata": {
    "ExecuteTime": {
     "end_time": "2020-11-20T18:59:28.048828Z",
     "start_time": "2020-11-20T18:59:27.184686Z"
    }
   },
   "outputs": [
    {
     "data": {
      "text/html": [
       "<div>\n",
       "<style scoped>\n",
       "    .dataframe tbody tr th:only-of-type {\n",
       "        vertical-align: middle;\n",
       "    }\n",
       "\n",
       "    .dataframe tbody tr th {\n",
       "        vertical-align: top;\n",
       "    }\n",
       "\n",
       "    .dataframe thead th {\n",
       "        text-align: right;\n",
       "    }\n",
       "</style>\n",
       "<table border=\"1\" class=\"dataframe\">\n",
       "  <thead>\n",
       "    <tr style=\"text-align: right;\">\n",
       "      <th></th>\n",
       "      <th>AccountUserID</th>\n",
       "      <th>EventType</th>\n",
       "      <th>TimeStamp</th>\n",
       "      <th>VideoID</th>\n",
       "      <th>EventID</th>\n",
       "      <th>Round</th>\n",
       "      <th>ID.Anon</th>\n",
       "      <th>Title</th>\n",
       "      <th>Source</th>\n",
       "      <th>Subchapter</th>\n",
       "      <th>Duration</th>\n",
       "      <th>ProblemID</th>\n",
       "      <th>ProblemType</th>\n",
       "      <th>MaximumSubmissions</th>\n",
       "      <th>Year</th>\n",
       "      <th>Date</th>\n",
       "      <th>Week</th>\n",
       "    </tr>\n",
       "  </thead>\n",
       "  <tbody>\n",
       "    <tr>\n",
       "      <th>15957</th>\n",
       "      <td>47496</td>\n",
       "      <td>Video.Play</td>\n",
       "      <td>1537174734</td>\n",
       "      <td>22c2895963d24114b16c3511befa35d6</td>\n",
       "      <td>fb642231029482e4c0f5cdcd86e442e6</td>\n",
       "      <td>Y2-2018-19</td>\n",
       "      <td>661T336</td>\n",
       "      <td>Leçon</td>\n",
       "      <td>https://www.youtube.com/watch?v=9AF8x91i8bE</td>\n",
       "      <td>1.1</td>\n",
       "      <td>634.0</td>\n",
       "      <td>NaN</td>\n",
       "      <td>NaN</td>\n",
       "      <td>NaN</td>\n",
       "      <td>2018</td>\n",
       "      <td>2018-09-17 08:58:54</td>\n",
       "      <td>0</td>\n",
       "    </tr>\n",
       "    <tr>\n",
       "      <th>84950</th>\n",
       "      <td>94912</td>\n",
       "      <td>Problem.Check</td>\n",
       "      <td>1568919801</td>\n",
       "      <td>NaN</td>\n",
       "      <td>85a36cc58145efcf674cb905b9a33137</td>\n",
       "      <td>Y3-2019-20</td>\n",
       "      <td>5546T3265</td>\n",
       "      <td>NaN</td>\n",
       "      <td>NaN</td>\n",
       "      <td>1.1</td>\n",
       "      <td>NaN</td>\n",
       "      <td>20960552e61542a9901d6943aec7ece7</td>\n",
       "      <td>Quiz</td>\n",
       "      <td>NaN</td>\n",
       "      <td>2019</td>\n",
       "      <td>2019-09-19 19:03:21</td>\n",
       "      <td>0</td>\n",
       "    </tr>\n",
       "    <tr>\n",
       "      <th>84947</th>\n",
       "      <td>94912</td>\n",
       "      <td>Problem.Check</td>\n",
       "      <td>1568919802</td>\n",
       "      <td>NaN</td>\n",
       "      <td>3cb73e9e24f6404ac3cfa951319cf307</td>\n",
       "      <td>Y3-2019-20</td>\n",
       "      <td>5546T3265</td>\n",
       "      <td>NaN</td>\n",
       "      <td>NaN</td>\n",
       "      <td>1.1</td>\n",
       "      <td>NaN</td>\n",
       "      <td>20960552e61542a9901d6943aec7ece7</td>\n",
       "      <td>Quiz</td>\n",
       "      <td>NaN</td>\n",
       "      <td>2019</td>\n",
       "      <td>2019-09-19 19:03:22</td>\n",
       "      <td>0</td>\n",
       "    </tr>\n",
       "    <tr>\n",
       "      <th>84939</th>\n",
       "      <td>94912</td>\n",
       "      <td>Problem.Graded</td>\n",
       "      <td>1568919802</td>\n",
       "      <td>NaN</td>\n",
       "      <td>6c6a18a0480c954fc2711d9d950a443e</td>\n",
       "      <td>Y3-2019-20</td>\n",
       "      <td>5546T3265</td>\n",
       "      <td>NaN</td>\n",
       "      <td>NaN</td>\n",
       "      <td>1.1</td>\n",
       "      <td>NaN</td>\n",
       "      <td>20960552e61542a9901d6943aec7ece7</td>\n",
       "      <td>Quiz</td>\n",
       "      <td>NaN</td>\n",
       "      <td>2019</td>\n",
       "      <td>2019-09-19 19:03:22</td>\n",
       "      <td>0</td>\n",
       "    </tr>\n",
       "    <tr>\n",
       "      <th>15563</th>\n",
       "      <td>94777</td>\n",
       "      <td>Video.Play</td>\n",
       "      <td>1568919864</td>\n",
       "      <td>22c2895963d24114b16c3511befa35d6</td>\n",
       "      <td>714cd5a3c32dea1ab1866eb765240e2e</td>\n",
       "      <td>Y3-2019-20</td>\n",
       "      <td>1085T589</td>\n",
       "      <td>Leçon</td>\n",
       "      <td>https://www.youtube.com/watch?v=9AF8x91i8bE</td>\n",
       "      <td>1.1</td>\n",
       "      <td>634.0</td>\n",
       "      <td>NaN</td>\n",
       "      <td>NaN</td>\n",
       "      <td>NaN</td>\n",
       "      <td>2019</td>\n",
       "      <td>2019-09-19 19:04:24</td>\n",
       "      <td>0</td>\n",
       "    </tr>\n",
       "    <tr>\n",
       "      <th>...</th>\n",
       "      <td>...</td>\n",
       "      <td>...</td>\n",
       "      <td>...</td>\n",
       "      <td>...</td>\n",
       "      <td>...</td>\n",
       "      <td>...</td>\n",
       "      <td>...</td>\n",
       "      <td>...</td>\n",
       "      <td>...</td>\n",
       "      <td>...</td>\n",
       "      <td>...</td>\n",
       "      <td>...</td>\n",
       "      <td>...</td>\n",
       "      <td>...</td>\n",
       "      <td>...</td>\n",
       "      <td>...</td>\n",
       "      <td>...</td>\n",
       "    </tr>\n",
       "    <tr>\n",
       "      <th>342394</th>\n",
       "      <td>47307</td>\n",
       "      <td>Problem.Check</td>\n",
       "      <td>1548610648</td>\n",
       "      <td>NaN</td>\n",
       "      <td>46345be6f8e590da2d447c87dd2facdd</td>\n",
       "      <td>Y2-2018-19</td>\n",
       "      <td>1659T935</td>\n",
       "      <td>NaN</td>\n",
       "      <td>NaN</td>\n",
       "      <td>1.1</td>\n",
       "      <td>NaN</td>\n",
       "      <td>8d11171de01345bfbc125505b7742937</td>\n",
       "      <td>Quiz</td>\n",
       "      <td>NaN</td>\n",
       "      <td>2018</td>\n",
       "      <td>2019-01-27 17:37:28</td>\n",
       "      <td>18</td>\n",
       "    </tr>\n",
       "    <tr>\n",
       "      <th>342408</th>\n",
       "      <td>47307</td>\n",
       "      <td>Problem.Check</td>\n",
       "      <td>1548610648</td>\n",
       "      <td>NaN</td>\n",
       "      <td>2bd354760ef2661076682d2123291d8e</td>\n",
       "      <td>Y2-2018-19</td>\n",
       "      <td>1659T935</td>\n",
       "      <td>NaN</td>\n",
       "      <td>NaN</td>\n",
       "      <td>1.1</td>\n",
       "      <td>NaN</td>\n",
       "      <td>8d11171de01345bfbc125505b7742937</td>\n",
       "      <td>Quiz</td>\n",
       "      <td>NaN</td>\n",
       "      <td>2018</td>\n",
       "      <td>2019-01-27 17:37:28</td>\n",
       "      <td>18</td>\n",
       "    </tr>\n",
       "    <tr>\n",
       "      <th>342396</th>\n",
       "      <td>47307</td>\n",
       "      <td>Problem.Graded</td>\n",
       "      <td>1548610649</td>\n",
       "      <td>NaN</td>\n",
       "      <td>b5e1342eeecc635150cdacb91a063465</td>\n",
       "      <td>Y2-2018-19</td>\n",
       "      <td>1659T935</td>\n",
       "      <td>NaN</td>\n",
       "      <td>NaN</td>\n",
       "      <td>1.1</td>\n",
       "      <td>NaN</td>\n",
       "      <td>8d11171de01345bfbc125505b7742937</td>\n",
       "      <td>Quiz</td>\n",
       "      <td>NaN</td>\n",
       "      <td>2018</td>\n",
       "      <td>2019-01-27 17:37:29</td>\n",
       "      <td>18</td>\n",
       "    </tr>\n",
       "    <tr>\n",
       "      <th>28827</th>\n",
       "      <td>47307</td>\n",
       "      <td>Problem.Check</td>\n",
       "      <td>1548610615</td>\n",
       "      <td>NaN</td>\n",
       "      <td>1409324ca44285e6bf3b5e84ce3dfd28</td>\n",
       "      <td>Y2-2018-19</td>\n",
       "      <td>1659T935</td>\n",
       "      <td>NaN</td>\n",
       "      <td>NaN</td>\n",
       "      <td>1.1</td>\n",
       "      <td>NaN</td>\n",
       "      <td>ce23cc23797f4314989336131702d506</td>\n",
       "      <td>Quiz</td>\n",
       "      <td>NaN</td>\n",
       "      <td>2018</td>\n",
       "      <td>2019-01-27 17:36:55</td>\n",
       "      <td>18</td>\n",
       "    </tr>\n",
       "    <tr>\n",
       "      <th>1435097</th>\n",
       "      <td>94789</td>\n",
       "      <td>Video.Load</td>\n",
       "      <td>1579537994</td>\n",
       "      <td>62e6340160494e8cbb17de853b93121d</td>\n",
       "      <td>b00495baac455fa4cbd9575cfb792100</td>\n",
       "      <td>Y3-2019-20</td>\n",
       "      <td>3545T2064</td>\n",
       "      <td>Leçon</td>\n",
       "      <td>https://www.youtube.com/watch?v=MrgVhy1cZmo</td>\n",
       "      <td>7.3</td>\n",
       "      <td>526.0</td>\n",
       "      <td>NaN</td>\n",
       "      <td>NaN</td>\n",
       "      <td>NaN</td>\n",
       "      <td>2019</td>\n",
       "      <td>2020-01-20 16:33:14</td>\n",
       "      <td>18</td>\n",
       "    </tr>\n",
       "  </tbody>\n",
       "</table>\n",
       "<p>1882561 rows × 17 columns</p>\n",
       "</div>"
      ],
      "text/plain": [
       "        AccountUserID       EventType   TimeStamp  \\\n",
       "15957           47496      Video.Play  1537174734   \n",
       "84950           94912   Problem.Check  1568919801   \n",
       "84947           94912   Problem.Check  1568919802   \n",
       "84939           94912  Problem.Graded  1568919802   \n",
       "15563           94777      Video.Play  1568919864   \n",
       "...               ...             ...         ...   \n",
       "342394          47307   Problem.Check  1548610648   \n",
       "342408          47307   Problem.Check  1548610648   \n",
       "342396          47307  Problem.Graded  1548610649   \n",
       "28827           47307   Problem.Check  1548610615   \n",
       "1435097         94789      Video.Load  1579537994   \n",
       "\n",
       "                                  VideoID                           EventID  \\\n",
       "15957    22c2895963d24114b16c3511befa35d6  fb642231029482e4c0f5cdcd86e442e6   \n",
       "84950                                 NaN  85a36cc58145efcf674cb905b9a33137   \n",
       "84947                                 NaN  3cb73e9e24f6404ac3cfa951319cf307   \n",
       "84939                                 NaN  6c6a18a0480c954fc2711d9d950a443e   \n",
       "15563    22c2895963d24114b16c3511befa35d6  714cd5a3c32dea1ab1866eb765240e2e   \n",
       "...                                   ...                               ...   \n",
       "342394                                NaN  46345be6f8e590da2d447c87dd2facdd   \n",
       "342408                                NaN  2bd354760ef2661076682d2123291d8e   \n",
       "342396                                NaN  b5e1342eeecc635150cdacb91a063465   \n",
       "28827                                 NaN  1409324ca44285e6bf3b5e84ce3dfd28   \n",
       "1435097  62e6340160494e8cbb17de853b93121d  b00495baac455fa4cbd9575cfb792100   \n",
       "\n",
       "              Round    ID.Anon  Title  \\\n",
       "15957    Y2-2018-19    661T336  Leçon   \n",
       "84950    Y3-2019-20  5546T3265    NaN   \n",
       "84947    Y3-2019-20  5546T3265    NaN   \n",
       "84939    Y3-2019-20  5546T3265    NaN   \n",
       "15563    Y3-2019-20   1085T589  Leçon   \n",
       "...             ...        ...    ...   \n",
       "342394   Y2-2018-19   1659T935    NaN   \n",
       "342408   Y2-2018-19   1659T935    NaN   \n",
       "342396   Y2-2018-19   1659T935    NaN   \n",
       "28827    Y2-2018-19   1659T935    NaN   \n",
       "1435097  Y3-2019-20  3545T2064  Leçon   \n",
       "\n",
       "                                              Source  Subchapter  Duration  \\\n",
       "15957    https://www.youtube.com/watch?v=9AF8x91i8bE         1.1     634.0   \n",
       "84950                                            NaN         1.1       NaN   \n",
       "84947                                            NaN         1.1       NaN   \n",
       "84939                                            NaN         1.1       NaN   \n",
       "15563    https://www.youtube.com/watch?v=9AF8x91i8bE         1.1     634.0   \n",
       "...                                              ...         ...       ...   \n",
       "342394                                           NaN         1.1       NaN   \n",
       "342408                                           NaN         1.1       NaN   \n",
       "342396                                           NaN         1.1       NaN   \n",
       "28827                                            NaN         1.1       NaN   \n",
       "1435097  https://www.youtube.com/watch?v=MrgVhy1cZmo         7.3     526.0   \n",
       "\n",
       "                                ProblemID ProblemType  MaximumSubmissions  \\\n",
       "15957                                 NaN         NaN                 NaN   \n",
       "84950    20960552e61542a9901d6943aec7ece7        Quiz                 NaN   \n",
       "84947    20960552e61542a9901d6943aec7ece7        Quiz                 NaN   \n",
       "84939    20960552e61542a9901d6943aec7ece7        Quiz                 NaN   \n",
       "15563                                 NaN         NaN                 NaN   \n",
       "...                                   ...         ...                 ...   \n",
       "342394   8d11171de01345bfbc125505b7742937        Quiz                 NaN   \n",
       "342408   8d11171de01345bfbc125505b7742937        Quiz                 NaN   \n",
       "342396   8d11171de01345bfbc125505b7742937        Quiz                 NaN   \n",
       "28827    ce23cc23797f4314989336131702d506        Quiz                 NaN   \n",
       "1435097                               NaN         NaN                 NaN   \n",
       "\n",
       "         Year                Date  Week  \n",
       "15957    2018 2018-09-17 08:58:54     0  \n",
       "84950    2019 2019-09-19 19:03:21     0  \n",
       "84947    2019 2019-09-19 19:03:22     0  \n",
       "84939    2019 2019-09-19 19:03:22     0  \n",
       "15563    2019 2019-09-19 19:04:24     0  \n",
       "...       ...                 ...   ...  \n",
       "342394   2018 2019-01-27 17:37:28    18  \n",
       "342408   2018 2019-01-27 17:37:28    18  \n",
       "342396   2018 2019-01-27 17:37:29    18  \n",
       "28827    2018 2019-01-27 17:36:55    18  \n",
       "1435097  2019 2020-01-20 16:33:14    18  \n",
       "\n",
       "[1882561 rows x 17 columns]"
      ]
     },
     "execution_count": 384,
     "metadata": {},
     "output_type": "execute_result"
    }
   ],
   "source": [
    "events.sort_values(by='Week')"
   ]
  },
  {
   "cell_type": "markdown",
   "metadata": {},
   "source": [
    "## Train-Test Data Split"
   ]
  },
  {
   "cell_type": "code",
   "execution_count": 385,
   "metadata": {
    "ExecuteTime": {
     "end_time": "2020-11-20T18:59:28.120156Z",
     "start_time": "2020-11-20T18:59:28.061034Z"
    }
   },
   "outputs": [],
   "source": [
    "mode = 'random' # per-year\n",
    "train_ratio = 0.90\n",
    "task = 'binary' # multi-class, regression"
   ]
  },
  {
   "cell_type": "code",
   "execution_count": 386,
   "metadata": {
    "ExecuteTime": {
     "end_time": "2020-11-20T18:59:28.208630Z",
     "start_time": "2020-11-20T18:59:28.134196Z"
    }
   },
   "outputs": [
    {
     "name": "stdout",
     "output_type": "stream",
     "text": [
      "Binarizing the student grades\n",
      "Pass 159 Fail 96\n"
     ]
    }
   ],
   "source": [
    "x = exam_data['AccountUserID'].values\n",
    "\n",
    "if task == 'binary':\n",
    "    print('Binarizing the student grades')\n",
    "    y = [(1 if grade >= 4.0 else 0) for grade in exam_data['Grade']]\n",
    "    print('Pass', y.count(1), 'Fail', y.count(0))"
   ]
  },
  {
   "cell_type": "code",
   "execution_count": 387,
   "metadata": {
    "ExecuteTime": {
     "end_time": "2020-11-20T18:59:28.276143Z",
     "start_time": "2020-11-20T18:59:28.211873Z"
    }
   },
   "outputs": [
    {
     "name": "stdout",
     "output_type": "stream",
     "text": [
      "Spitting the whole student population randomly\n",
      "Train Pass 143 Test Pass 16 Train Fail 86 Test Fail 10\n"
     ]
    }
   ],
   "source": [
    "if mode == 'random':\n",
    "    print('Spitting the whole student population randomly')\n",
    "    x_train, x_test, y_train, y_test = train_test_split(x, y, stratify=y, test_size=1 - train_ratio)\n",
    "    print('Train Pass', y_train.count(1), 'Test Pass', y_test.count(1), 'Train Fail', y_train.count(0), 'Test Fail', y_test.count(0))"
   ]
  },
  {
   "cell_type": "markdown",
   "metadata": {},
   "source": [
    "## Feature Extractors"
   ]
  },
  {
   "cell_type": "code",
   "execution_count": 388,
   "metadata": {
    "ExecuteTime": {
     "end_time": "2020-11-20T18:59:28.347129Z",
     "start_time": "2020-11-20T18:59:28.282697Z"
    }
   },
   "outputs": [],
   "source": [
    "week_thresholds = np.arange(4, 24, 4)"
   ]
  },
  {
   "cell_type": "code",
   "execution_count": 389,
   "metadata": {
    "ExecuteTime": {
     "end_time": "2020-11-20T18:59:28.458001Z",
     "start_time": "2020-11-20T18:59:28.350535Z"
    }
   },
   "outputs": [],
   "source": [
    "feature_labels = {\n",
    "    BoroujeniEtAl(),\n",
    "    LalleConati(),\n",
    "    LemayDoleck(),\n",
    "}"
   ]
  },
  {
   "cell_type": "code",
   "execution_count": 392,
   "metadata": {
    "ExecuteTime": {
     "end_time": "2020-11-20T19:05:55.136280Z",
     "start_time": "2020-11-20T19:05:53.053524Z"
    }
   },
   "outputs": [],
   "source": [
    "FEATURE_FILE = 'features_sets.npy'\n",
    "features_already_extracted = os.path.exists(FEATURE_FILE)\n",
    "\n",
    "if features_already_extracted:\n",
    "    with open(FEATURE_FILE, 'rb') as f:\n",
    "        feature_sets = np.load(f)"
   ]
  },
  {
   "cell_type": "code",
   "execution_count": null,
   "metadata": {
    "ExecuteTime": {
     "start_time": "2020-11-20T19:06:36.735Z"
    },
    "scrolled": false
   },
   "outputs": [
    {
     "name": "stdout",
     "output_type": "stream",
     "text": [
      " Set: boroujeni_et_al \tWeek: 4 \tMode: train \tProgress: 55 229 \t ID: 947053"
     ]
    }
   ],
   "source": [
    "if not features_already_extracted:\n",
    "    feature_sets = {} \n",
    "    for ffunc in feature_labels:\n",
    "        flabel = ffunc.getName()\n",
    "        feature_sets[flabel] = {}\n",
    "        for wid in week_thresholds:\n",
    "            feature_sets[flabel][wid] = {}\n",
    "            feature_sets[flabel][wid]['train'] = []\n",
    "            feature_sets[flabel][wid]['test'] = []\n",
    "            scaler = StandardScaler()\n",
    "            for uindex, uid in enumerate(x_train[105:]): \n",
    "                print('\\r', 'Set:', flabel, '\\tWeek:', wid, '\\tMode: train', '\\tProgress:', uindex + 1, len(x_train), \"\\t ID:\", uid, end='')\n",
    "                udata = events[(events['AccountUserID'] == uid) & (events['Week'] < wid)]\n",
    "                if len(udata) > 0:\n",
    "                    feature_sets[flabel][wid]['train'].append(ffunc.getUserFeatures(udata))\n",
    "                else:\n",
    "                    feature_sets[flabel][wid]['train'].append([0 for i in range(ffunc.getNbFeatures())])\n",
    "            feature_sets[flabel][wid]['train'] = scaler.fit_transform(np.array(feature_sets[flabel][wid]['train']))\n",
    "\n",
    "            print()\n",
    "            for uindex, uid in enumerate(x_test): \n",
    "                print('\\r', 'Set:', flabel, '\\tWeek:', wid, '\\tMode: test', '\\tProgress:', uindex + 1, len(x_test), end='')\n",
    "                udata = events[(events['AccountUserID'] == uid) & (events['Week'] < wid)]\n",
    "                if len(udata) > 0:\n",
    "                    feature_sets[flabel][wid]['test'].append(ffunc.getUserFeatures(udata))\n",
    "                else:\n",
    "                    feature_sets[flabel][wid]['test'].append([0 for i in range(ffunc.getNbFeatures())])\n",
    "            feature_sets[flabel][wid]['test'] = list(scaler.fit_transform(np.array(feature_sets[flabel][wid]['test'])))\n",
    "            print()\n",
    "            \n",
    "    with open(FEATURE_FILE, 'wb') as f:\n",
    "        np.save(f, feature_sets)"
   ]
  },
  {
   "cell_type": "markdown",
   "metadata": {},
   "source": [
    "## Predictive Models"
   ]
  },
  {
   "cell_type": "code",
   "execution_count": 180,
   "metadata": {
    "ExecuteTime": {
     "end_time": "2020-11-20T16:28:28.071476Z",
     "start_time": "2020-11-20T16:28:18.546679Z"
    }
   },
   "outputs": [],
   "source": [
    "classifiers_types = {\n",
    "    'ada': AdaBoostClassifier(),\n",
    "    'dt': DecisionTreeClassifier(max_depth=5),\n",
    "    'gnb': GaussianNB(),\n",
    "    'lr': LogisticRegression(),\n",
    "    'mlp': MLPClassifier(alpha=1, max_iter=1000),\n",
    "    'knn': KNeighborsClassifier(3),\n",
    "    'rf': RandomForestClassifier(max_depth=5, n_estimators=10, max_features=1),\n",
    "    'svm': SVC(gamma=2, C=1)\n",
    "}"
   ]
  },
  {
   "cell_type": "code",
   "execution_count": 200,
   "metadata": {
    "ExecuteTime": {
     "end_time": "2020-11-20T16:35:57.215335Z",
     "start_time": "2020-11-20T16:35:52.939235Z"
    }
   },
   "outputs": [
    {
     "name": "stdout",
     "output_type": "stream",
     "text": [
      "lalle_conati 4\tada dt gnb lr mlp knn rf svm \n",
      "lalle_conati 8\tada dt gnb lr mlp knn rf svm \n",
      "lalle_conati 12\tada dt gnb lr mlp knn rf svm \n",
      "lalle_conati 16\tada dt gnb lr mlp knn rf svm \n",
      "lalle_conati 20\tada dt gnb lr mlp knn rf svm \n"
     ]
    }
   ],
   "source": [
    "trained_models = {}\n",
    "for ffunc in feature_labels:\n",
    "    flabel = ffunc.getName()\n",
    "    trained_models[flabel] = {}\n",
    "    for wid in week_thresholds:\n",
    "        trained_models[flabel][wid] = {}\n",
    "        print(flabel, wid, end='\\t')\n",
    "        for mid, clf in classifiers_types.items(): \n",
    "            print(mid, end=' ')\n",
    "            trained_models[flabel][wid][mid] = clf.fit(nan_feature_sets[flabel][wid]['train'], y_train)\n",
    "        print()"
   ]
  },
  {
   "cell_type": "markdown",
   "metadata": {},
   "source": [
    "## Evaluation Metrics"
   ]
  },
  {
   "cell_type": "code",
   "execution_count": 201,
   "metadata": {
    "ExecuteTime": {
     "end_time": "2020-11-20T16:35:58.025287Z",
     "start_time": "2020-11-20T16:35:57.967224Z"
    }
   },
   "outputs": [],
   "source": [
    "def tn(y_true, y_pred):\n",
    "    return confusion_matrix(y_true, y_pred).ravel()[0]\n",
    "\n",
    "def fp(y_true, y_pred):\n",
    "    return confusion_matrix(y_true, y_pred).ravel()[1]\n",
    "\n",
    "def fn(y_true, y_pred):\n",
    "    return confusion_matrix(y_true, y_pred).ravel()[2]\n",
    "\n",
    "def tp(y_true, y_pred):\n",
    "    return confusion_matrix(y_true, y_pred).ravel()[3]"
   ]
  },
  {
   "cell_type": "code",
   "execution_count": 202,
   "metadata": {
    "ExecuteTime": {
     "end_time": "2020-11-20T16:35:58.306474Z",
     "start_time": "2020-11-20T16:35:58.249414Z"
    }
   },
   "outputs": [],
   "source": [
    "evaluation_metrics = {\n",
    "    'acc': accuracy_score,\n",
    "    'f1': f1_score,\n",
    "    'p': precision_score, \n",
    "    'r': recall_score,\n",
    "    'tp': tp,\n",
    "    'tn': tn,\n",
    "    'fp': fp,\n",
    "    'fn': fn\n",
    "}"
   ]
  },
  {
   "cell_type": "code",
   "execution_count": 203,
   "metadata": {
    "ExecuteTime": {
     "end_time": "2020-11-20T16:35:59.388439Z",
     "start_time": "2020-11-20T16:35:58.498443Z"
    }
   },
   "outputs": [
    {
     "name": "stdout",
     "output_type": "stream",
     "text": [
      "lalle_conati 4\tada dt gnb lr mlp knn rf svm \n",
      "lalle_conati 8\tada dt gnb lr mlp knn rf svm \n",
      "lalle_conati 12\tada dt gnb lr mlp knn rf svm \n",
      "lalle_conati 16\tada dt gnb lr mlp knn rf svm \n",
      "lalle_conati 20\tada dt gnb lr mlp knn rf svm \n"
     ]
    }
   ],
   "source": [
    "results = {}\n",
    "for ffunc in feature_labels:\n",
    "    flabel = ffunc.getName()\n",
    "    results[flabel] = {}\n",
    "    for wid in week_thresholds:\n",
    "        print(flabel, wid, end='\\t')\n",
    "        results[flabel][wid] = {}\n",
    "        for mid, clf in classifiers_types.items(): \n",
    "            print(mid, end=' ')\n",
    "            results[flabel][wid][mid] = {}\n",
    "            for emid, mfunc in evaluation_metrics.items():\n",
    "                results[flabel][wid][mid][emid] = mfunc(y_test, clf.predict(nan_feature_sets[flabel][wid]['test']))\n",
    "        print()"
   ]
  },
  {
   "cell_type": "markdown",
   "metadata": {},
   "source": [
    "## Results Presentation"
   ]
  },
  {
   "cell_type": "code",
   "execution_count": 204,
   "metadata": {
    "ExecuteTime": {
     "end_time": "2020-11-20T16:36:02.039124Z",
     "start_time": "2020-11-20T16:36:01.962598Z"
    }
   },
   "outputs": [],
   "source": [
    "lst_data = []\n",
    "lst_name = []\n",
    "for flabel in results.keys():\n",
    "    for wid in results[flabel].keys():\n",
    "        for mid in results[flabel][wid].keys():\n",
    "            lst_data.append([wid, flabel, mid] + [value for _, value in results[flabel][wid][mid].items()])  \n",
    "            lst_name = ['week', 'set', 'clf'] + [emid for emid, _ in results[flabel][wid][mid].items()]"
   ]
  },
  {
   "cell_type": "code",
   "execution_count": 205,
   "metadata": {
    "ExecuteTime": {
     "end_time": "2020-11-20T16:36:06.759132Z",
     "start_time": "2020-11-20T16:36:05.975933Z"
    }
   },
   "outputs": [],
   "source": [
    "df_results = pd.DataFrame(lst_data, columns = lst_name)"
   ]
  },
  {
   "cell_type": "code",
   "execution_count": 206,
   "metadata": {
    "ExecuteTime": {
     "end_time": "2020-11-20T16:36:06.841477Z",
     "start_time": "2020-11-20T16:36:06.762496Z"
    }
   },
   "outputs": [
    {
     "data": {
      "text/html": [
       "<div>\n",
       "<style scoped>\n",
       "    .dataframe tbody tr th:only-of-type {\n",
       "        vertical-align: middle;\n",
       "    }\n",
       "\n",
       "    .dataframe tbody tr th {\n",
       "        vertical-align: top;\n",
       "    }\n",
       "\n",
       "    .dataframe thead th {\n",
       "        text-align: right;\n",
       "    }\n",
       "</style>\n",
       "<table border=\"1\" class=\"dataframe\">\n",
       "  <thead>\n",
       "    <tr style=\"text-align: right;\">\n",
       "      <th></th>\n",
       "      <th></th>\n",
       "      <th></th>\n",
       "      <th>acc</th>\n",
       "      <th>f1</th>\n",
       "      <th>p</th>\n",
       "      <th>r</th>\n",
       "      <th>tp</th>\n",
       "      <th>tn</th>\n",
       "      <th>fp</th>\n",
       "      <th>fn</th>\n",
       "    </tr>\n",
       "    <tr>\n",
       "      <th>week</th>\n",
       "      <th>set</th>\n",
       "      <th>clf</th>\n",
       "      <th></th>\n",
       "      <th></th>\n",
       "      <th></th>\n",
       "      <th></th>\n",
       "      <th></th>\n",
       "      <th></th>\n",
       "      <th></th>\n",
       "      <th></th>\n",
       "    </tr>\n",
       "  </thead>\n",
       "  <tbody>\n",
       "    <tr>\n",
       "      <th rowspan=\"8\" valign=\"top\">8</th>\n",
       "      <th rowspan=\"8\" valign=\"top\">lalle_conati</th>\n",
       "      <th>ada</th>\n",
       "      <td>0.423077</td>\n",
       "      <td>0.594595</td>\n",
       "      <td>0.523810</td>\n",
       "      <td>0.6875</td>\n",
       "      <td>11</td>\n",
       "      <td>0</td>\n",
       "      <td>10</td>\n",
       "      <td>5</td>\n",
       "    </tr>\n",
       "    <tr>\n",
       "      <th>dt</th>\n",
       "      <td>0.769231</td>\n",
       "      <td>0.833333</td>\n",
       "      <td>0.750000</td>\n",
       "      <td>0.9375</td>\n",
       "      <td>15</td>\n",
       "      <td>5</td>\n",
       "      <td>5</td>\n",
       "      <td>1</td>\n",
       "    </tr>\n",
       "    <tr>\n",
       "      <th>gnb</th>\n",
       "      <td>0.769231</td>\n",
       "      <td>0.823529</td>\n",
       "      <td>0.777778</td>\n",
       "      <td>0.8750</td>\n",
       "      <td>14</td>\n",
       "      <td>6</td>\n",
       "      <td>4</td>\n",
       "      <td>2</td>\n",
       "    </tr>\n",
       "    <tr>\n",
       "      <th>lr</th>\n",
       "      <td>0.692308</td>\n",
       "      <td>0.777778</td>\n",
       "      <td>0.700000</td>\n",
       "      <td>0.8750</td>\n",
       "      <td>14</td>\n",
       "      <td>4</td>\n",
       "      <td>6</td>\n",
       "      <td>2</td>\n",
       "    </tr>\n",
       "    <tr>\n",
       "      <th>mlp</th>\n",
       "      <td>0.730769</td>\n",
       "      <td>0.800000</td>\n",
       "      <td>0.736842</td>\n",
       "      <td>0.8750</td>\n",
       "      <td>14</td>\n",
       "      <td>5</td>\n",
       "      <td>5</td>\n",
       "      <td>2</td>\n",
       "    </tr>\n",
       "    <tr>\n",
       "      <th>knn</th>\n",
       "      <td>0.615385</td>\n",
       "      <td>0.687500</td>\n",
       "      <td>0.687500</td>\n",
       "      <td>0.6875</td>\n",
       "      <td>11</td>\n",
       "      <td>5</td>\n",
       "      <td>5</td>\n",
       "      <td>5</td>\n",
       "    </tr>\n",
       "    <tr>\n",
       "      <th>rf</th>\n",
       "      <td>0.615385</td>\n",
       "      <td>0.750000</td>\n",
       "      <td>0.625000</td>\n",
       "      <td>0.9375</td>\n",
       "      <td>15</td>\n",
       "      <td>1</td>\n",
       "      <td>9</td>\n",
       "      <td>1</td>\n",
       "    </tr>\n",
       "    <tr>\n",
       "      <th>svm</th>\n",
       "      <td>0.615385</td>\n",
       "      <td>0.761905</td>\n",
       "      <td>0.615385</td>\n",
       "      <td>1.0000</td>\n",
       "      <td>16</td>\n",
       "      <td>0</td>\n",
       "      <td>10</td>\n",
       "      <td>0</td>\n",
       "    </tr>\n",
       "  </tbody>\n",
       "</table>\n",
       "</div>"
      ],
      "text/plain": [
       "                            acc        f1         p       r  tp  tn  fp  fn\n",
       "week set          clf                                                      \n",
       "8    lalle_conati ada  0.423077  0.594595  0.523810  0.6875  11   0  10   5\n",
       "                  dt   0.769231  0.833333  0.750000  0.9375  15   5   5   1\n",
       "                  gnb  0.769231  0.823529  0.777778  0.8750  14   6   4   2\n",
       "                  lr   0.692308  0.777778  0.700000  0.8750  14   4   6   2\n",
       "                  mlp  0.730769  0.800000  0.736842  0.8750  14   5   5   2\n",
       "                  knn  0.615385  0.687500  0.687500  0.6875  11   5   5   5\n",
       "                  rf   0.615385  0.750000  0.625000  0.9375  15   1   9   1\n",
       "                  svm  0.615385  0.761905  0.615385  1.0000  16   0  10   0"
      ]
     },
     "execution_count": 206,
     "metadata": {},
     "output_type": "execute_result"
    }
   ],
   "source": [
    "df_results[df_results['week'] == 8].set_index(['week', 'set', 'clf'])"
   ]
  },
  {
   "cell_type": "code",
   "execution_count": 207,
   "metadata": {
    "ExecuteTime": {
     "end_time": "2020-11-20T16:36:10.782792Z",
     "start_time": "2020-11-20T16:36:10.713226Z"
    },
    "scrolled": true
   },
   "outputs": [
    {
     "data": {
      "text/html": [
       "<div>\n",
       "<style scoped>\n",
       "    .dataframe tbody tr th:only-of-type {\n",
       "        vertical-align: middle;\n",
       "    }\n",
       "\n",
       "    .dataframe tbody tr th {\n",
       "        vertical-align: top;\n",
       "    }\n",
       "\n",
       "    .dataframe thead th {\n",
       "        text-align: right;\n",
       "    }\n",
       "</style>\n",
       "<table border=\"1\" class=\"dataframe\">\n",
       "  <thead>\n",
       "    <tr style=\"text-align: right;\">\n",
       "      <th></th>\n",
       "      <th></th>\n",
       "      <th></th>\n",
       "      <th>acc</th>\n",
       "      <th>f1</th>\n",
       "      <th>p</th>\n",
       "      <th>r</th>\n",
       "      <th>tp</th>\n",
       "      <th>tn</th>\n",
       "      <th>fp</th>\n",
       "      <th>fn</th>\n",
       "    </tr>\n",
       "    <tr>\n",
       "      <th>week</th>\n",
       "      <th>set</th>\n",
       "      <th>clf</th>\n",
       "      <th></th>\n",
       "      <th></th>\n",
       "      <th></th>\n",
       "      <th></th>\n",
       "      <th></th>\n",
       "      <th></th>\n",
       "      <th></th>\n",
       "      <th></th>\n",
       "    </tr>\n",
       "  </thead>\n",
       "  <tbody>\n",
       "    <tr>\n",
       "      <th rowspan=\"8\" valign=\"top\">16</th>\n",
       "      <th rowspan=\"8\" valign=\"top\">lalle_conati</th>\n",
       "      <th>ada</th>\n",
       "      <td>0.615385</td>\n",
       "      <td>0.736842</td>\n",
       "      <td>0.636364</td>\n",
       "      <td>0.8750</td>\n",
       "      <td>14</td>\n",
       "      <td>2</td>\n",
       "      <td>8</td>\n",
       "      <td>2</td>\n",
       "    </tr>\n",
       "    <tr>\n",
       "      <th>dt</th>\n",
       "      <td>0.538462</td>\n",
       "      <td>0.647059</td>\n",
       "      <td>0.611111</td>\n",
       "      <td>0.6875</td>\n",
       "      <td>11</td>\n",
       "      <td>3</td>\n",
       "      <td>7</td>\n",
       "      <td>5</td>\n",
       "    </tr>\n",
       "    <tr>\n",
       "      <th>gnb</th>\n",
       "      <td>0.692308</td>\n",
       "      <td>0.777778</td>\n",
       "      <td>0.700000</td>\n",
       "      <td>0.8750</td>\n",
       "      <td>14</td>\n",
       "      <td>4</td>\n",
       "      <td>6</td>\n",
       "      <td>2</td>\n",
       "    </tr>\n",
       "    <tr>\n",
       "      <th>lr</th>\n",
       "      <td>0.653846</td>\n",
       "      <td>0.756757</td>\n",
       "      <td>0.666667</td>\n",
       "      <td>0.8750</td>\n",
       "      <td>14</td>\n",
       "      <td>3</td>\n",
       "      <td>7</td>\n",
       "      <td>2</td>\n",
       "    </tr>\n",
       "    <tr>\n",
       "      <th>mlp</th>\n",
       "      <td>0.692308</td>\n",
       "      <td>0.750000</td>\n",
       "      <td>0.750000</td>\n",
       "      <td>0.7500</td>\n",
       "      <td>12</td>\n",
       "      <td>6</td>\n",
       "      <td>4</td>\n",
       "      <td>4</td>\n",
       "    </tr>\n",
       "    <tr>\n",
       "      <th>knn</th>\n",
       "      <td>0.692308</td>\n",
       "      <td>0.750000</td>\n",
       "      <td>0.750000</td>\n",
       "      <td>0.7500</td>\n",
       "      <td>12</td>\n",
       "      <td>6</td>\n",
       "      <td>4</td>\n",
       "      <td>4</td>\n",
       "    </tr>\n",
       "    <tr>\n",
       "      <th>rf</th>\n",
       "      <td>0.500000</td>\n",
       "      <td>0.648649</td>\n",
       "      <td>0.571429</td>\n",
       "      <td>0.7500</td>\n",
       "      <td>12</td>\n",
       "      <td>1</td>\n",
       "      <td>9</td>\n",
       "      <td>4</td>\n",
       "    </tr>\n",
       "    <tr>\n",
       "      <th>svm</th>\n",
       "      <td>0.615385</td>\n",
       "      <td>0.761905</td>\n",
       "      <td>0.615385</td>\n",
       "      <td>1.0000</td>\n",
       "      <td>16</td>\n",
       "      <td>0</td>\n",
       "      <td>10</td>\n",
       "      <td>0</td>\n",
       "    </tr>\n",
       "  </tbody>\n",
       "</table>\n",
       "</div>"
      ],
      "text/plain": [
       "                            acc        f1         p       r  tp  tn  fp  fn\n",
       "week set          clf                                                      \n",
       "16   lalle_conati ada  0.615385  0.736842  0.636364  0.8750  14   2   8   2\n",
       "                  dt   0.538462  0.647059  0.611111  0.6875  11   3   7   5\n",
       "                  gnb  0.692308  0.777778  0.700000  0.8750  14   4   6   2\n",
       "                  lr   0.653846  0.756757  0.666667  0.8750  14   3   7   2\n",
       "                  mlp  0.692308  0.750000  0.750000  0.7500  12   6   4   4\n",
       "                  knn  0.692308  0.750000  0.750000  0.7500  12   6   4   4\n",
       "                  rf   0.500000  0.648649  0.571429  0.7500  12   1   9   4\n",
       "                  svm  0.615385  0.761905  0.615385  1.0000  16   0  10   0"
      ]
     },
     "execution_count": 207,
     "metadata": {},
     "output_type": "execute_result"
    }
   ],
   "source": [
    "df_results[df_results['week'] == 16].set_index(['week', 'set', 'clf'])"
   ]
  },
  {
   "cell_type": "code",
   "execution_count": 391,
   "metadata": {
    "ExecuteTime": {
     "end_time": "2020-11-20T19:00:56.169134Z",
     "start_time": "2020-11-20T19:00:53.067754Z"
    }
   },
   "outputs": [
    {
     "data": {
      "text/plain": [
       "(array([1, 2]), array([1, 3]))"
      ]
     },
     "execution_count": 391,
     "metadata": {},
     "output_type": "execute_result"
    }
   ],
   "source": [
    "with open('test.npy', 'rb') as f:\n",
    "    a = np.load(f)\n",
    "    b = np.load(f)\n",
    "a,b"
   ]
  },
  {
   "cell_type": "code",
   "execution_count": null,
   "metadata": {},
   "outputs": [],
   "source": []
  }
 ],
 "metadata": {
  "kernelspec": {
   "display_name": "Python 3",
   "language": "python",
   "name": "python3"
  },
  "language_info": {
   "codemirror_mode": {
    "name": "ipython",
    "version": 3
   },
   "file_extension": ".py",
   "mimetype": "text/x-python",
   "name": "python",
   "nbconvert_exporter": "python",
   "pygments_lexer": "ipython3",
   "version": "3.7.1"
  },
  "toc": {
   "base_numbering": 1,
   "nav_menu": {},
   "number_sections": true,
   "sideBar": true,
   "skip_h1_title": false,
   "title_cell": "Table of Contents",
   "title_sidebar": "Contents",
   "toc_cell": false,
   "toc_position": {},
   "toc_section_display": true,
   "toc_window_display": false
  }
 },
 "nbformat": 4,
 "nbformat_minor": 1
}
