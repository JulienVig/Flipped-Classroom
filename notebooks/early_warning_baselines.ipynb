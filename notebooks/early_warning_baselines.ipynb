{
 "cells": [
  {
   "cell_type": "markdown",
   "metadata": {},
   "source": [
    "# Exploratory study on existing early warning systems"
   ]
  },
  {
   "cell_type": "markdown",
   "metadata": {},
   "source": [
    "## * Setup of the working environment *"
   ]
  },
  {
   "cell_type": "markdown",
   "metadata": {},
   "source": [
    "### Import traditional Python packages"
   ]
  },
  {
   "cell_type": "code",
   "execution_count": 1,
   "metadata": {
    "ExecuteTime": {
     "end_time": "2020-11-20T22:24:36.486315Z",
     "start_time": "2020-11-20T22:24:20.515516Z"
    }
   },
   "outputs": [],
   "source": [
    "from sklearn.metrics import accuracy_score, precision_score, recall_score, f1_score, confusion_matrix\n",
    "from datetime import datetime as dt, timedelta, date\n",
    "from sklearn.preprocessing import StandardScaler\n",
    "from sklearn.decomposition import PCA\n",
    "\n",
    "import matplotlib.pyplot as plt\n",
    "import seaborn as sns\n",
    "\n",
    "import pandas as pd\n",
    "import numpy as np\n",
    "import pickle\n",
    "import time\n",
    "import math\n",
    "import json\n",
    "import sys\n",
    "import os"
   ]
  },
  {
   "cell_type": "code",
   "execution_count": 2,
   "metadata": {
    "ExecuteTime": {
     "end_time": "2020-11-20T22:24:36.662994Z",
     "start_time": "2020-11-20T22:24:36.490177Z"
    }
   },
   "outputs": [],
   "source": [
    "from sklearn.ensemble import RandomForestClassifier, AdaBoostClassifier\n",
    "from sklearn.linear_model import LogisticRegression, Lasso\n",
    "from sklearn.neighbors import KNeighborsClassifier\n",
    "from sklearn.neural_network import MLPClassifier\n",
    "from sklearn.tree import DecisionTreeClassifier\n",
    "from sklearn.naive_bayes import GaussianNB\n",
    "from sklearn.svm import SVC\n",
    "\n",
    "from sklearn.model_selection import GridSearchCV"
   ]
  },
  {
   "cell_type": "code",
   "execution_count": 3,
   "metadata": {},
   "outputs": [],
   "source": [
    "import warnings\n",
    "warnings.filterwarnings('ignore')"
   ]
  },
  {
   "cell_type": "markdown",
   "metadata": {},
   "source": [
    "### Import custom Python modules"
   ]
  },
  {
   "cell_type": "code",
   "execution_count": 4,
   "metadata": {
    "ExecuteTime": {
     "end_time": "2020-11-20T22:24:36.675278Z",
     "start_time": "2020-11-20T22:24:36.667631Z"
    }
   },
   "outputs": [],
   "source": [
    "sys.path.append(os.path.abspath(os.path.join('..')))"
   ]
  },
  {
   "cell_type": "code",
   "execution_count": 5,
   "metadata": {
    "ExecuteTime": {
     "end_time": "2020-11-20T22:24:36.766743Z",
     "start_time": "2020-11-20T22:24:36.680313Z"
    }
   },
   "outputs": [],
   "source": [
    "%load_ext autoreload\n",
    "%autoreload 2"
   ]
  },
  {
   "cell_type": "code",
   "execution_count": 6,
   "metadata": {
    "ExecuteTime": {
     "end_time": "2020-11-20T22:24:42.328383Z",
     "start_time": "2020-11-20T22:24:36.771236Z"
    }
   },
   "outputs": [],
   "source": [
    "from helpers.db_connector import MySQLConnector\n",
    "from helpers.db_query import *\n",
    "\n",
    "from helpers.data_process import *\n",
    "from helpers.feature_extraction import *\n",
    "\n",
    "from extractors.akpinar_et_al import AkpinarEtAl\n",
    "from extractors.boroujeni_et_al import BoroujeniEtAl\n",
    "from extractors.chen_cui import ChenCui\n",
    "from extractors.he_et_al import HeEtAl\n",
    "from extractors.lalle_conati import LalleConati\n",
    "from extractors.lemay_doleck import LemayDoleck\n",
    "from extractors.mbouzao_et_al import MbouzaoEtAl\n",
    "from extractors.mubarak_et_al import MubarakEtAl\n",
    "from extractors.wan_et_al import WanEtAl\n",
    "\n",
    "from helpers.ml_utils import *\n",
    "\n",
    "from helpers.time import *"
   ]
  },
  {
   "cell_type": "markdown",
   "metadata": {},
   "source": [
    "## * Load the clickstream data *\n",
    "\n",
    "Since Fall 2017, the stream of the EPFL's Linear Algebra course has been taught in a flipped format. The implementation of the flipped classroom was carried out in an incremental manner, as described below:\n",
    "\n",
    "- **Year 2017-2018**: traditional manner (weeks 1-13) - flipped manner (week 14).\n",
    "- **Year 2018-2019**: traditional manner (weeks 1-4, 10-14) - flipped manner (weeks 5-9).\n",
    "- **Year 2019-2020**: traditional manner (weeks 1-4) - flipped manner (weeks 5-14)."
   ]
  },
  {
   "cell_type": "code",
   "execution_count": 7,
   "metadata": {
    "ExecuteTime": {
     "end_time": "2020-11-20T22:24:46.218522Z",
     "start_time": "2020-11-20T22:24:46.129465Z"
    }
   },
   "outputs": [],
   "source": [
    "rounds = ['Y2-2018-19', 'Y3-2019-20']"
   ]
  },
  {
   "cell_type": "markdown",
   "metadata": {},
   "source": [
    "### Identifying Students\n",
    "\n",
    "\n",
    "The flipped course was offered only to volunteering students. The volunteers were collectively assigned into either the experimental and the control group. A stratified random sampling based on gender and the prior background (secondary educational level) of students were used."
   ]
  },
  {
   "cell_type": "code",
   "execution_count": 8,
   "metadata": {
    "ExecuteTime": {
     "end_time": "2020-11-20T22:26:03.826891Z",
     "start_time": "2020-11-20T22:24:46.229101Z"
    }
   },
   "outputs": [
    {
     "name": "stdout",
     "output_type": "stream",
     "text": [
      "Wall time: 1min 5s\n"
     ]
    }
   ],
   "source": [
    "%time user_data = getUserInfo(prior_knowledge=True)"
   ]
  },
  {
   "cell_type": "markdown",
   "metadata": {},
   "source": [
    "The initial data of volunteers was cleaned, and some participants were removed before we analyzed the data:\n",
    "- The volunteering students who have not been graded were removed. \n",
    "- The repeating students were filtered out, where repeating students are those accessing videos in two different years. \n",
    "- The less active students, i.e., those who have provided less 60 interactions in the platform, were removed. "
   ]
  },
  {
   "cell_type": "markdown",
   "metadata": {},
   "source": [
    "Given that the Y1-2017-2018 round included only one week in a flipped classroom setting, we will remove the students of that round.  "
   ]
  },
  {
   "cell_type": "code",
   "execution_count": 9,
   "metadata": {
    "ExecuteTime": {
     "end_time": "2020-11-20T22:26:06.424585Z",
     "start_time": "2020-11-20T22:26:06.371873Z"
    }
   },
   "outputs": [],
   "source": [
    "user_data = user_data[user_data['Round'].isin(rounds)]"
   ]
  },
  {
   "cell_type": "markdown",
   "metadata": {},
   "source": [
    "Some of the statistics on the user data are provided below. "
   ]
  },
  {
   "cell_type": "code",
   "execution_count": 10,
   "metadata": {
    "ExecuteTime": {
     "end_time": "2020-11-20T22:26:06.857994Z",
     "start_time": "2020-11-20T22:26:06.801193Z"
    },
    "scrolled": true
   },
   "outputs": [
    {
     "data": {
      "text/plain": [
       "('Number of students:', 214)"
      ]
     },
     "execution_count": 10,
     "metadata": {},
     "output_type": "execute_result"
    }
   ],
   "source": [
    "\"Number of students:\", len(user_data)"
   ]
  },
  {
   "cell_type": "code",
   "execution_count": 11,
   "metadata": {
    "ExecuteTime": {
     "end_time": "2020-11-20T22:26:06.368620Z",
     "start_time": "2020-11-20T22:26:03.830848Z"
    }
   },
   "outputs": [
    {
     "data": {
      "image/png": "[encoded data removed]",
      "text/plain": [
       "<Figure size 360x360 with 1 Axes>"
      ]
     },
     "metadata": {
      "needs_background": "light"
     },
     "output_type": "display_data"
    }
   ],
   "source": [
    "sns.displot(user_data, x='Round')\n",
    "plt.ylabel('Number of Students')\n",
    "plt.show()"
   ]
  },
  {
   "cell_type": "code",
   "execution_count": 12,
   "metadata": {
    "ExecuteTime": {
     "end_time": "2020-11-20T22:26:06.706025Z",
     "start_time": "2020-11-20T22:26:06.426968Z"
    }
   },
   "outputs": [
    {
     "data": {
      "image/png": "[encoded data removed]",
      "text/plain": [
       "<Figure size 360x360 with 1 Axes>"
      ]
     },
     "metadata": {
      "needs_background": "light"
     },
     "output_type": "display_data"
    }
   ],
   "source": [
    "sns.displot(user_data, x='Gender')\n",
    "plt.ylabel('Number of Students')\n",
    "plt.show()"
   ]
  },
  {
   "cell_type": "code",
   "execution_count": 13,
   "metadata": {},
   "outputs": [
    {
     "data": {
      "image/png": "[encoded data removed]",
      "text/plain": [
       "<Figure size 360x360 with 1 Axes>"
      ]
     },
     "metadata": {
      "needs_background": "light"
     },
     "output_type": "display_data"
    }
   ],
   "source": [
    "sns.displot(user_data, x='Category')\n",
    "plt.ylabel('Number of Students')\n",
    "plt.xticks(rotation=45)\n",
    "plt.show()"
   ]
  },
  {
   "cell_type": "markdown",
   "metadata": {},
   "source": [
    "### Getting Students' Records\n",
    "\n",
    "#### Video Clickstream Records"
   ]
  },
  {
   "cell_type": "code",
   "execution_count": 14,
   "metadata": {
    "ExecuteTime": {
     "end_time": "2020-11-20T22:28:37.180870Z",
     "start_time": "2020-11-20T22:26:06.860876Z"
    },
    "scrolled": true
   },
   "outputs": [
    {
     "name": "stdout",
     "output_type": "stream",
     "text": [
      "Wall time: 1min 46s\n"
     ]
    }
   ],
   "source": [
    "%time video_data = getVideoEventsInfo(mode='all')"
   ]
  },
  {
   "cell_type": "code",
   "execution_count": 15,
   "metadata": {
    "ExecuteTime": {
     "end_time": "2020-11-20T22:28:39.434522Z",
     "start_time": "2020-11-20T22:28:37.184371Z"
    }
   },
   "outputs": [],
   "source": [
    "video_data = video_data[video_data['Round'].isin(rounds)]"
   ]
  },
  {
   "cell_type": "code",
   "execution_count": 16,
   "metadata": {
    "ExecuteTime": {
     "end_time": "2020-11-20T22:28:39.562891Z",
     "start_time": "2020-11-20T22:28:39.505581Z"
    }
   },
   "outputs": [
    {
     "data": {
      "text/plain": [
       "('Number of video events:', 1416106)"
      ]
     },
     "execution_count": 16,
     "metadata": {},
     "output_type": "execute_result"
    }
   ],
   "source": [
    "\"Number of video events:\", len(video_data)"
   ]
  },
  {
   "cell_type": "markdown",
   "metadata": {},
   "source": [
    "#### Problem Clickstream Records"
   ]
  },
  {
   "cell_type": "code",
   "execution_count": 17,
   "metadata": {
    "ExecuteTime": {
     "end_time": "2020-11-20T22:30:22.052434Z",
     "start_time": "2020-11-20T22:28:39.565728Z"
    }
   },
   "outputs": [
    {
     "name": "stdout",
     "output_type": "stream",
     "text": [
      "Wall time: 1min 15s\n"
     ]
    }
   ],
   "source": [
    "%time problem_data = getProblemEventsInfo()"
   ]
  },
  {
   "cell_type": "code",
   "execution_count": 18,
   "metadata": {
    "ExecuteTime": {
     "end_time": "2020-11-20T22:30:23.854203Z",
     "start_time": "2020-11-20T22:30:22.055613Z"
    }
   },
   "outputs": [],
   "source": [
    "problem_data = problem_data[problem_data['Round'].isin(rounds)]"
   ]
  },
  {
   "cell_type": "code",
   "execution_count": 19,
   "metadata": {
    "ExecuteTime": {
     "end_time": "2020-11-20T22:30:23.989042Z",
     "start_time": "2020-11-20T22:30:23.934426Z"
    }
   },
   "outputs": [
    {
     "data": {
      "text/plain": [
       "('Number of problem events:', 473924)"
      ]
     },
     "execution_count": 19,
     "metadata": {},
     "output_type": "execute_result"
    }
   ],
   "source": [
    "\"Number of problem events:\", len(problem_data)"
   ]
  },
  {
   "cell_type": "markdown",
   "metadata": {},
   "source": [
    "#### Exam Records"
   ]
  },
  {
   "cell_type": "code",
   "execution_count": 20,
   "metadata": {
    "ExecuteTime": {
     "end_time": "2020-11-20T22:32:32.026480Z",
     "start_time": "2020-11-20T22:30:24.000607Z"
    }
   },
   "outputs": [
    {
     "name": "stdout",
     "output_type": "stream",
     "text": [
      "Wall time: 1min 18s\n"
     ]
    }
   ],
   "source": [
    "%time exam_data = getExamInfo()"
   ]
  },
  {
   "cell_type": "code",
   "execution_count": 21,
   "metadata": {
    "ExecuteTime": {
     "end_time": "2020-11-20T22:32:33.693844Z",
     "start_time": "2020-11-20T22:32:32.032005Z"
    }
   },
   "outputs": [],
   "source": [
    "exam_data = exam_data[exam_data['Round'].isin(rounds)]"
   ]
  },
  {
   "cell_type": "code",
   "execution_count": 22,
   "metadata": {},
   "outputs": [],
   "source": [
    "exam_data = exam_data[exam_data['AccountUserID'].isin(user_data['AccountUserID'])]"
   ]
  },
  {
   "cell_type": "code",
   "execution_count": 23,
   "metadata": {},
   "outputs": [
    {
     "data": {
      "text/plain": [
       "('Number of graded students:', 214)"
      ]
     },
     "execution_count": 23,
     "metadata": {},
     "output_type": "execute_result"
    }
   ],
   "source": [
    "\"Number of graded students:\", len(exam_data)"
   ]
  },
  {
   "cell_type": "markdown",
   "metadata": {},
   "source": [
    "#### Event Records"
   ]
  },
  {
   "cell_type": "code",
   "execution_count": 24,
   "metadata": {
    "ExecuteTime": {
     "end_time": "2020-11-20T22:32:34.954381Z",
     "start_time": "2020-11-20T22:32:33.759316Z"
    }
   },
   "outputs": [],
   "source": [
    "events = video_data.append(problem_data)"
   ]
  },
  {
   "cell_type": "code",
   "execution_count": 25,
   "metadata": {
    "ExecuteTime": {
     "end_time": "2020-11-20T22:32:36.518802Z",
     "start_time": "2020-11-20T22:32:34.957614Z"
    }
   },
   "outputs": [],
   "source": [
    "events['Year'] = events['Round'].apply(lambda x: int(x.split('-')[1]))"
   ]
  },
  {
   "cell_type": "markdown",
   "metadata": {},
   "source": [
    "#### Course Week Column"
   ]
  },
  {
   "cell_type": "markdown",
   "metadata": {},
   "source": [
    "We get the configuration file (e.g, start and end date) for each round of the course. "
   ]
  },
  {
   "cell_type": "code",
   "execution_count": 26,
   "metadata": {
    "ExecuteTime": {
     "end_time": "2020-11-20T22:32:37.565867Z",
     "start_time": "2020-11-20T22:32:36.662707Z"
    }
   },
   "outputs": [],
   "source": [
    "with open('../config/linear_algebra.json') as f:\n",
    "    config = json.load(f)"
   ]
  },
  {
   "cell_type": "markdown",
   "metadata": {},
   "source": [
    "We assign each video interaction to a specific week of the course, with the first week of the course round having id 0. "
   ]
  },
  {
   "cell_type": "code",
   "execution_count": 27,
   "metadata": {
    "ExecuteTime": {
     "start_time": "2020-11-20T22:24:29.785Z"
    }
   },
   "outputs": [],
   "source": [
    "events['Date'] = events['TimeStamp'].apply(lambda x:string2Datetime(dt.utcfromtimestamp(x).strftime('%Y-%m-%d %H:%M:%S')))"
   ]
  },
  {
   "cell_type": "code",
   "execution_count": 28,
   "metadata": {
    "ExecuteTime": {
     "start_time": "2020-11-20T22:24:29.976Z"
    }
   },
   "outputs": [],
   "source": [
    "tmp_events = []\n",
    "for r in rounds:\n",
    "    round_events = events[events['Round'] == r]\n",
    "    tmp_events.append(processWeek(round_events, 'Date', config[r.split('-')[-2]]['Start']))\n",
    "events = pd.concat(tmp_events).copy()"
   ]
  },
  {
   "cell_type": "code",
   "execution_count": 29,
   "metadata": {
    "ExecuteTime": {
     "start_time": "2020-11-20T22:24:30.154Z"
    }
   },
   "outputs": [],
   "source": [
    "events['Week'] = events['Week'].apply(lambda x: int(x))"
   ]
  },
  {
   "cell_type": "markdown",
   "metadata": {},
   "source": [
    "Then, we filter only the first *noCourseWeeks* course weeks. "
   ]
  },
  {
   "cell_type": "code",
   "execution_count": 30,
   "metadata": {
    "ExecuteTime": {
     "start_time": "2020-11-20T22:24:30.492Z"
    }
   },
   "outputs": [],
   "source": [
    "events = events[events['Week'].isin(range(20))]"
   ]
  },
  {
   "cell_type": "markdown",
   "metadata": {},
   "source": [
    "## * Split data in training and test sets *"
   ]
  },
  {
   "cell_type": "code",
   "execution_count": 31,
   "metadata": {},
   "outputs": [],
   "source": [
    "mode = 'random'\n",
    "task = 'binary'\n",
    "ratio = 80\n",
    "start, end, step = 2, 16, 2"
   ]
  },
  {
   "cell_type": "code",
   "execution_count": 32,
   "metadata": {},
   "outputs": [],
   "source": [
    "weeks = np.arange(start, end, step)"
   ]
  },
  {
   "cell_type": "code",
   "execution_count": 33,
   "metadata": {},
   "outputs": [
    {
     "name": "stdout",
     "output_type": "stream",
     "text": [
      "Binarizing student grades\n",
      "> [(0, 80), (1, 134)]\n",
      "Spitting the whole student population randomly\n",
      "> Train 171 [(0, 64), (1, 107)]\n",
      "> Test 43 [(0, 16), (1, 27)]\n"
     ]
    }
   ],
   "source": [
    "x_train, x_test, y_train, y_test = getTrainTestData(exam_data, mode, task, ratio / 100.0)"
   ]
  },
  {
   "cell_type": "markdown",
   "metadata": {},
   "source": [
    "## * Extract and scale features from clickstreams *"
   ]
  },
  {
   "cell_type": "code",
   "execution_count": 34,
   "metadata": {
    "ExecuteTime": {
     "start_time": "2020-11-20T22:24:32.990Z"
    }
   },
   "outputs": [],
   "source": [
    "feature_labels = [\n",
    "    BoroujeniEtAl(),\n",
    "    ChenCui(),\n",
    "    HeEtAl(),\n",
    "    LalleConati(),\n",
    "    LemayDoleck(),\n",
    "    MbouzaoEtAl(),\n",
    "    MubarakEtAl(),\n",
    "    WanEtAl(),\n",
    "]"
   ]
  },
  {
   "cell_type": "markdown",
   "metadata": {},
   "source": [
    "First, we check whether the required feature sets have been already pre-computed. "
   ]
  },
  {
   "cell_type": "code",
   "execution_count": 47,
   "metadata": {
    "ExecuteTime": {
     "start_time": "2020-11-20T22:24:33.238Z"
    }
   },
   "outputs": [],
   "source": [
    "filename = '../data/feature_sets/feature_sets_' + mode + '_' + task + '_' + str(ratio) + '_' + str(start) + '-' + str(end) + '-' + str(step) + '.pkl'\n",
    "\n",
    "if os.path.exists(filename):\n",
    "    print('Found features for this experimental setting in', filename)\n",
    "    with open(filename, 'rb') as f:\n",
    "        feature_sets = pickle.load(f)\n",
    "else:\n",
    "    feature_sets = {}"
   ]
  },
  {
   "cell_type": "markdown",
   "metadata": {},
   "source": [
    "Then, for each feature set not pre-computed, the following snippet populates the corredponsing dictionary keys accordingly. "
   ]
  },
  {
   "cell_type": "code",
   "execution_count": 48,
   "metadata": {
    "ExecuteTime": {
     "start_time": "2020-11-20T22:24:34.408Z"
    },
    "scrolled": false
   },
   "outputs": [
    {
     "name": "stdout",
     "output_type": "stream",
     "text": [
      " Set: boroujeni_et_al - Week: 2 - Mode: train - User: 171 171 - Unactive: 18 - Active: 153\n",
      " Set: boroujeni_et_al - Week: 2 - Mode: test - User: 43 43 - Unactive: 10 - Active: 33\n",
      " Set: boroujeni_et_al - Week: 4 - Mode: train - User: 171 171 - Unactive: 8 - Active: 163\n",
      " Set: boroujeni_et_al - Week: 4 - Mode: test - User: 43 43 - Unactive: 4 - Active: 39\n",
      " Set: boroujeni_et_al - Week: 6 - Mode: train - User: 171 171 - Unactive: 0 - Active: 171\n",
      " Set: boroujeni_et_al - Week: 6 - Mode: test - User: 43 43 - Unactive: 0 - Active: 43\n",
      " Set: boroujeni_et_al - Week: 8 - Mode: train - User: 171 171 - Unactive: 0 - Active: 171\n",
      " Set: boroujeni_et_al - Week: 8 - Mode: test - User: 43 43 - Unactive: 0 - Active: 43\n",
      " Set: boroujeni_et_al - Week: 10 - Mode: train - User: 171 171 - Unactive: 0 - Active: 171\n",
      " Set: boroujeni_et_al - Week: 10 - Mode: test - User: 43 43 - Unactive: 0 - Active: 43\n",
      " Set: boroujeni_et_al - Week: 12 - Mode: train - User: 171 171 - Unactive: 0 - Active: 171\n",
      " Set: boroujeni_et_al - Week: 12 - Mode: test - User: 43 43 - Unactive: 0 - Active: 43\n",
      " Set: boroujeni_et_al - Week: 14 - Mode: train - User: 171 171 - Unactive: 0 - Active: 171\n",
      " Set: boroujeni_et_al - Week: 14 - Mode: test - User: 43 43 - Unactive: 0 - Active: 43\n",
      " Set: lalle_conati - Week: 2 - Mode: train - User: 171 171 4 171 lalle_conati - Week: 2 - Mode: train - User: 83 171  lalle_conati - Week: 2 - Mode: train - User: 101 171  171 - Unactive: 18 - Active: 153\n",
      " Set: lalle_conati - Week: 2 - Mode: test - User: 43 43 - Unactive: 10 - Active: 33\n",
      " Set: lalle_conati - Week: 4 - Mode: train - User: 171 171  User: 29 171 - Unactive: 8 - Active: 163\n",
      " Set: lalle_conati - Week: 4 - Mode: test - User: 43 43 - Unactive: 4 - Active: 39\n",
      " Set: lalle_conati - Week: 6 - Mode: train - User: 171 171 - Unactive: 0 - Active: 171\n",
      " Set: lalle_conati - Week: 6 - Mode: test - User: 43 43 - Unactive: 0 - Active: 43\n",
      " Set: lalle_conati - Week: 8 - Mode: train - User: 171 171 - Unactive: 0 - Active: 171\n",
      " Set: lalle_conati - Week: 8 - Mode: test - User: 43 43 - Unactive: 0 - Active: 43\n",
      " Set: lalle_conati - Week: 10 - Mode: train - User: 171 171 - Unactive: 0 - Active: 171\n",
      " Set: lalle_conati - Week: 10 - Mode: test - User: 43 43 - Unactive: 0 - Active: 43\n",
      " Set: lalle_conati - Week: 12 - Mode: train - User: 171 171 - Unactive: 0 - Active: 171\n",
      " Set: lalle_conati - Week: 12 - Mode: test - User: 43 43 - Unactive: 0 - Active: 43\n",
      " Set: lalle_conati - Week: 14 - Mode: train - User: 171 171 - Unactive: 0 - Active: 171\n",
      " Set: lalle_conati - Week: 14 - Mode: test - User: 43 43 - Unactive: 0 - Active: 43\n"
     ]
    }
   ],
   "source": [
    "for ffunc in feature_labels:\n",
    "    flabel = ffunc.getName()\n",
    "    \n",
    "    if not flabel in feature_sets:\n",
    "        feature_sets[flabel] = {}\n",
    "        \n",
    "        for wid in weeks:\n",
    "            feature_sets[flabel][wid] = {}\n",
    "            feature_sets[flabel][wid]['train'] = []\n",
    "            feature_sets[flabel][wid]['test'] = []\n",
    "            scaler = StandardScaler()\n",
    "            \n",
    "            unactiveTrain = 0\n",
    "            for uindex, uid in enumerate(x_train): \n",
    "                print('\\r', 'Set:', flabel, '- Week:', wid, '- Mode: train', '- User:', uindex + 1, len(x_train), end=' ')\n",
    "                udata = events[(events['AccountUserID'] == uid) & (events['Week'] < wid)]\n",
    "                if len(udata) > 0:\n",
    "                    feature_sets[flabel][wid]['train'].append(ffunc.getUserFeatures(udata))\n",
    "                else:\n",
    "                    unactiveTrain += 1\n",
    "                    feature_sets[flabel][wid]['train'].append([0 for i in range(ffunc.getNbFeatures())])\n",
    "            feature_sets[flabel][wid]['train'] = scaler.fit_transform(np.array(feature_sets[flabel][wid]['train']))\n",
    "\n",
    "            print('- Unactive:', unactiveTrain, '- Active:', len(x_train) - unactiveTrain)\n",
    "            \n",
    "            unactiveTest = 0\n",
    "            for uindex, uid in enumerate(x_test): \n",
    "                print('\\r', 'Set:', flabel, '- Week:', wid, '- Mode: test', '- User:', uindex + 1, len(x_test), end=' ')\n",
    "                udata = events[(events['AccountUserID'] == uid) & (events['Week'] < wid)]\n",
    "                if len(udata) > 0:\n",
    "                    feature_sets[flabel][wid]['test'].append(ffunc.getUserFeatures(udata))\n",
    "                else:\n",
    "                    unactiveTest += 1\n",
    "                    feature_sets[flabel][wid]['test'].append([0 for i in range(ffunc.getNbFeatures())])\n",
    "            feature_sets[flabel][wid]['test'] = scaler.transform(np.array(feature_sets[flabel][wid]['test']))\n",
    "            \n",
    "            print('- Unactive:', unactiveTest, '- Active:', len(x_test) - unactiveTest)"
   ]
  },
  {
   "cell_type": "markdown",
   "metadata": {},
   "source": [
    "For convenience, we save the feature sets computed for the current experimental setting."
   ]
  },
  {
   "cell_type": "code",
   "execution_count": 49,
   "metadata": {},
   "outputs": [],
   "source": [
    "if not os.path.exists(os.path.dirname(filename)):\n",
    "    os.makedirs(os.path.dirname(filename))\n",
    "\n",
    "with open(filename, 'wb') as f:\n",
    "    pickle.dump(feature_sets, f, protocol=pickle.HIGHEST_PROTOCOL)"
   ]
  },
  {
   "cell_type": "markdown",
   "metadata": {},
   "source": [
    "## * Define and train the predictive models *"
   ]
  },
  {
   "cell_type": "markdown",
   "metadata": {},
   "source": [
    "For the prediction stage, we consider traditional shallow learning models optimized via grid search."
   ]
  },
  {
   "cell_type": "code",
   "execution_count": 50,
   "metadata": {
    "ExecuteTime": {
     "start_time": "2020-11-20T22:24:36.706Z"
    }
   },
   "outputs": [],
   "source": [
    "classifiers_types = {\n",
    "    'ada': AdaBoostClassifier(),\n",
    "    'dt': DecisionTreeClassifier(),\n",
    "    'gnb': GaussianNB(),\n",
    "    'lr': LogisticRegression(),\n",
    "    'mlp': MLPClassifier(),\n",
    "    'knn': KNeighborsClassifier(),\n",
    "    'rf': RandomForestClassifier(),\n",
    "    'svm': SVC()\n",
    "}"
   ]
  },
  {
   "cell_type": "code",
   "execution_count": 51,
   "metadata": {},
   "outputs": [],
   "source": [
    "classifiers_params = {\n",
    "    'ada': {'n_estimators': [25, 50, 100, 200], 'algorithm': ('SAMME', 'SAMME.R'), 'learning_rate': [0.1, 1]},\n",
    "    'dt': {'criterion': ('gini', 'entropy'), 'splitter': ('best', 'random'), 'max_features': ('auto', 'sqrt', 'log2')},\n",
    "    'gnb': {'var_smoothing': [1e-9, 1e-7, 1e-5, 1e-3, 1e-1]},\n",
    "    'lr': {'penalty': ('l1', 'l2', 'elasticnet', 'none'), 'tol': [1e-4, 1e-5], 'C': [1.0, 0.5], 'solver': ('newton-cg', 'lbfgs', 'liblinear', 'sag', 'saga'), 'multi_class': ('auto', 'ovr', 'multinomial')},\n",
    "    'mlp': {'activation': ('identity', 'logistic', 'tanh', 'relu'), 'solver': ('lbfgs', 'sgd', 'adam'), 'hidden_layer_sizes': [(8,), (16, 8), (32, 16, 8)]},\n",
    "    'knn': {'n_neighbors': [5, 10, 50, 100], 'weights': ('uniform', 'distance'), 'algorithm': ('auto', 'ball_tree', 'kd_tree', 'brute')},\n",
    "    'rf': {'n_estimators': [25, 50, 100, 200], 'criterion': ('gini', 'entropy'), 'max_features': ('auto', 'sqrt', 'log2')},\n",
    "    'svm': {'C': [1.0, 0.5], 'kernel': ('linear', 'poly', 'rbf', 'sigmoid'), 'gamma': ('scale', 'auto'), 'shrinking': (True, False)}\n",
    "}"
   ]
  },
  {
   "cell_type": "markdown",
   "metadata": {},
   "source": [
    "For convenience, we load the trained models, in case they have been already computed under the same experimental setting. "
   ]
  },
  {
   "cell_type": "code",
   "execution_count": 52,
   "metadata": {},
   "outputs": [],
   "source": [
    "filename = '../data/trained_models/trained_models_' + mode + '_' + task + '_' + str(ratio) + '_' + str(start) + '-' + str(end) + '-' + str(step) + '.pkl'\n",
    "\n",
    "if os.path.exists(filename):\n",
    "    print('Found trained_models for this experimental setting in', filename)\n",
    "    with open(filename, 'rb') as f:\n",
    "        trained_models = pickle.load(f)\n",
    "else:\n",
    "    trained_models = {}"
   ]
  },
  {
   "cell_type": "markdown",
   "metadata": {},
   "source": [
    "Once the prediction stage is well set, we run the training procedure for each of the considered models. "
   ]
  },
  {
   "cell_type": "code",
   "execution_count": 53,
   "metadata": {
    "ExecuteTime": {
     "start_time": "2020-11-20T22:24:36.797Z"
    }
   },
   "outputs": [
    {
     "name": "stdout",
     "output_type": "stream",
     "text": [
      "Model: boroujeni_et_al - Week: 2 - Algorithms: ada dt gnb lr mlp knn rf svm \n",
      "Model: boroujeni_et_al - Week: 4 - Algorithms: ada dt gnb lr mlp knn rf svm \n",
      "Model: boroujeni_et_al - Week: 6 - Algorithms: ada dt gnb lr mlp knn rf svm \n",
      "Model: boroujeni_et_al - Week: 8 - Algorithms: ada dt gnb lr mlp knn rf svm \n",
      "Model: boroujeni_et_al - Week: 10 - Algorithms: ada dt gnb lr mlp knn rf svm \n",
      "Model: boroujeni_et_al - Week: 12 - Algorithms: ada dt gnb lr mlp knn rf svm \n",
      "Model: boroujeni_et_al - Week: 14 - Algorithms: ada dt gnb lr mlp knn rf svm \n",
      "Model: lalle_conati - Week: 2 - Algorithms: ada dt gnb lr mlp knn rf svm \n",
      "Model: lalle_conati - Week: 4 - Algorithms: ada dt gnb lr mlp knn rf svm \n",
      "Model: lalle_conati - Week: 6 - Algorithms: ada dt gnb lr mlp knn rf svm \n",
      "Model: lalle_conati - Week: 8 - Algorithms: ada dt gnb lr mlp knn rf svm \n",
      "Model: lalle_conati - Week: 10 - Algorithms: ada dt gnb lr mlp knn rf svm \n",
      "Model: lalle_conati - Week: 12 - Algorithms: ada dt gnb lr mlp knn rf svm \n",
      "Model: lalle_conati - Week: 14 - Algorithms: ada dt gnb lr mlp knn rf svm \n"
     ]
    }
   ],
   "source": [
    "for ffunc in feature_labels:\n",
    "    flabel = ffunc.getName()\n",
    "    \n",
    "    if not flabel in trained_models:\n",
    "        trained_models[flabel] = {}\n",
    "        \n",
    "        for wid in weeks:\n",
    "            trained_models[flabel][wid] = {}\n",
    "            print('Model:', flabel, '- Week:', wid, '- Algorithms:', end=' ')\n",
    "            \n",
    "            for mid in classifiers_types.keys(): \n",
    "                print(mid, end=' ')\n",
    "                trained_models[flabel][wid][mid] = GridSearchCV(classifiers_types[mid], classifiers_params[mid])\n",
    "                trained_models[flabel][wid][mid].fit(feature_sets[flabel][wid]['train'], y_train)\n",
    "            \n",
    "            print()"
   ]
  },
  {
   "cell_type": "markdown",
   "metadata": {},
   "source": [
    "We list the parameters selected by the grid search procedure, investigating whether they remain stable across weeks. "
   ]
  },
  {
   "cell_type": "code",
   "execution_count": 54,
   "metadata": {},
   "outputs": [
    {
     "name": "stdout",
     "output_type": "stream",
     "text": [
      "Feature set: boroujeni_et_al\n",
      "> Week: 2\n",
      ">> Model: ada - {'algorithm': 'SAMME', 'learning_rate': 0.1, 'n_estimators': 200}\n",
      ">> Model: dt - {'criterion': 'gini', 'max_features': 'log2', 'splitter': 'best'}\n",
      ">> Model: gnb - {'var_smoothing': 1e-09}\n",
      ">> Model: lr - {'C': 0.5, 'multi_class': 'ovr', 'penalty': 'l1', 'solver': 'saga', 'tol': 1e-05}\n",
      ">> Model: mlp - {'activation': 'relu', 'hidden_layer_sizes': (8,), 'solver': 'sgd'}\n",
      ">> Model: knn - {'algorithm': 'auto', 'n_neighbors': 50, 'weights': 'uniform'}\n",
      ">> Model: rf - {'criterion': 'entropy', 'max_features': 'auto', 'n_estimators': 25}\n",
      ">> Model: svm - {'C': 1.0, 'gamma': 'auto', 'kernel': 'rbf', 'shrinking': True}\n",
      "> Week: 4\n",
      ">> Model: ada - {'algorithm': 'SAMME', 'learning_rate': 0.1, 'n_estimators': 25}\n",
      ">> Model: dt - {'criterion': 'entropy', 'max_features': 'auto', 'splitter': 'best'}\n",
      ">> Model: gnb - {'var_smoothing': 1e-09}\n",
      ">> Model: lr - {'C': 0.5, 'multi_class': 'auto', 'penalty': 'l1', 'solver': 'saga', 'tol': 0.0001}\n",
      ">> Model: mlp - {'activation': 'tanh', 'hidden_layer_sizes': (16, 8), 'solver': 'sgd'}\n",
      ">> Model: knn - {'algorithm': 'auto', 'n_neighbors': 100, 'weights': 'distance'}\n",
      ">> Model: rf - {'criterion': 'entropy', 'max_features': 'auto', 'n_estimators': 25}\n",
      ">> Model: svm - {'C': 1.0, 'gamma': 'scale', 'kernel': 'linear', 'shrinking': True}\n",
      "> Week: 6\n",
      ">> Model: ada - {'algorithm': 'SAMME', 'learning_rate': 0.1, 'n_estimators': 100}\n",
      ">> Model: dt - {'criterion': 'gini', 'max_features': 'log2', 'splitter': 'random'}\n",
      ">> Model: gnb - {'var_smoothing': 0.1}\n",
      ">> Model: lr - {'C': 1.0, 'multi_class': 'auto', 'penalty': 'none', 'solver': 'saga', 'tol': 0.0001}\n",
      ">> Model: mlp - {'activation': 'relu', 'hidden_layer_sizes': (16, 8), 'solver': 'sgd'}\n",
      ">> Model: knn - {'algorithm': 'auto', 'n_neighbors': 50, 'weights': 'uniform'}\n",
      ">> Model: rf - {'criterion': 'entropy', 'max_features': 'auto', 'n_estimators': 25}\n",
      ">> Model: svm - {'C': 0.5, 'gamma': 'auto', 'kernel': 'sigmoid', 'shrinking': True}\n",
      "> Week: 8\n",
      ">> Model: ada - {'algorithm': 'SAMME', 'learning_rate': 0.1, 'n_estimators': 50}\n",
      ">> Model: dt - {'criterion': 'gini', 'max_features': 'auto', 'splitter': 'best'}\n",
      ">> Model: gnb - {'var_smoothing': 1e-09}\n",
      ">> Model: lr - {'C': 0.5, 'multi_class': 'auto', 'penalty': 'l1', 'solver': 'liblinear', 'tol': 0.0001}\n",
      ">> Model: mlp - {'activation': 'relu', 'hidden_layer_sizes': (32, 16, 8), 'solver': 'sgd'}\n",
      ">> Model: knn - {'algorithm': 'auto', 'n_neighbors': 50, 'weights': 'uniform'}\n",
      ">> Model: rf - {'criterion': 'gini', 'max_features': 'sqrt', 'n_estimators': 25}\n",
      ">> Model: svm - {'C': 0.5, 'gamma': 'scale', 'kernel': 'poly', 'shrinking': True}\n",
      "> Week: 10\n",
      ">> Model: ada - {'algorithm': 'SAMME', 'learning_rate': 1, 'n_estimators': 200}\n",
      ">> Model: dt - {'criterion': 'gini', 'max_features': 'auto', 'splitter': 'best'}\n",
      ">> Model: gnb - {'var_smoothing': 1e-09}\n",
      ">> Model: lr - {'C': 1.0, 'multi_class': 'auto', 'penalty': 'l1', 'solver': 'saga', 'tol': 0.0001}\n",
      ">> Model: mlp - {'activation': 'identity', 'hidden_layer_sizes': (16, 8), 'solver': 'sgd'}\n",
      ">> Model: knn - {'algorithm': 'auto', 'n_neighbors': 50, 'weights': 'uniform'}\n",
      ">> Model: rf - {'criterion': 'gini', 'max_features': 'auto', 'n_estimators': 100}\n",
      ">> Model: svm - {'C': 0.5, 'gamma': 'scale', 'kernel': 'poly', 'shrinking': True}\n",
      "> Week: 12\n",
      ">> Model: ada - {'algorithm': 'SAMME', 'learning_rate': 0.1, 'n_estimators': 25}\n",
      ">> Model: dt - {'criterion': 'gini', 'max_features': 'log2', 'splitter': 'random'}\n",
      ">> Model: gnb - {'var_smoothing': 0.1}\n",
      ">> Model: lr - {'C': 0.5, 'multi_class': 'multinomial', 'penalty': 'none', 'solver': 'saga', 'tol': 0.0001}\n",
      ">> Model: mlp - {'activation': 'identity', 'hidden_layer_sizes': (8,), 'solver': 'lbfgs'}\n",
      ">> Model: knn - {'algorithm': 'auto', 'n_neighbors': 50, 'weights': 'uniform'}\n",
      ">> Model: rf - {'criterion': 'entropy', 'max_features': 'log2', 'n_estimators': 50}\n",
      ">> Model: svm - {'C': 1.0, 'gamma': 'scale', 'kernel': 'linear', 'shrinking': True}\n",
      "> Week: 14\n",
      ">> Model: ada - {'algorithm': 'SAMME', 'learning_rate': 0.1, 'n_estimators': 50}\n",
      ">> Model: dt - {'criterion': 'entropy', 'max_features': 'auto', 'splitter': 'best'}\n",
      ">> Model: gnb - {'var_smoothing': 0.1}\n",
      ">> Model: lr - {'C': 1.0, 'multi_class': 'auto', 'penalty': 'l1', 'solver': 'saga', 'tol': 0.0001}\n",
      ">> Model: mlp - {'activation': 'identity', 'hidden_layer_sizes': (32, 16, 8), 'solver': 'adam'}\n",
      ">> Model: knn - {'algorithm': 'auto', 'n_neighbors': 50, 'weights': 'uniform'}\n",
      ">> Model: rf - {'criterion': 'entropy', 'max_features': 'log2', 'n_estimators': 25}\n",
      ">> Model: svm - {'C': 0.5, 'gamma': 'scale', 'kernel': 'linear', 'shrinking': True}\n",
      "Feature set: lalle_conati\n",
      "> Week: 2\n",
      ">> Model: ada - {'algorithm': 'SAMME', 'learning_rate': 0.1, 'n_estimators': 25}\n",
      ">> Model: dt - {'criterion': 'entropy', 'max_features': 'log2', 'splitter': 'best'}\n",
      ">> Model: gnb - {'var_smoothing': 1e-09}\n",
      ">> Model: lr - {'C': 0.5, 'multi_class': 'auto', 'penalty': 'l1', 'solver': 'saga', 'tol': 0.0001}\n",
      ">> Model: mlp - {'activation': 'logistic', 'hidden_layer_sizes': (16, 8), 'solver': 'sgd'}\n",
      ">> Model: knn - {'algorithm': 'auto', 'n_neighbors': 100, 'weights': 'uniform'}\n",
      ">> Model: rf - {'criterion': 'gini', 'max_features': 'log2', 'n_estimators': 100}\n",
      ">> Model: svm - {'C': 0.5, 'gamma': 'scale', 'kernel': 'rbf', 'shrinking': True}\n",
      "> Week: 4\n",
      ">> Model: ada - {'algorithm': 'SAMME.R', 'learning_rate': 0.1, 'n_estimators': 25}\n",
      ">> Model: dt - {'criterion': 'entropy', 'max_features': 'sqrt', 'splitter': 'random'}\n",
      ">> Model: gnb - {'var_smoothing': 1e-09}\n",
      ">> Model: lr - {'C': 1.0, 'multi_class': 'auto', 'penalty': 'l1', 'solver': 'saga', 'tol': 0.0001}\n",
      ">> Model: mlp - {'activation': 'logistic', 'hidden_layer_sizes': (16, 8), 'solver': 'adam'}\n",
      ">> Model: knn - {'algorithm': 'auto', 'n_neighbors': 50, 'weights': 'distance'}\n",
      ">> Model: rf - {'criterion': 'entropy', 'max_features': 'sqrt', 'n_estimators': 200}\n",
      ">> Model: svm - {'C': 1.0, 'gamma': 'auto', 'kernel': 'sigmoid', 'shrinking': True}\n",
      "> Week: 6\n",
      ">> Model: ada - {'algorithm': 'SAMME', 'learning_rate': 0.1, 'n_estimators': 25}\n",
      ">> Model: dt - {'criterion': 'gini', 'max_features': 'log2', 'splitter': 'best'}\n",
      ">> Model: gnb - {'var_smoothing': 0.1}\n",
      ">> Model: lr - {'C': 0.5, 'multi_class': 'auto', 'penalty': 'l1', 'solver': 'liblinear', 'tol': 0.0001}\n",
      ">> Model: mlp - {'activation': 'relu', 'hidden_layer_sizes': (32, 16, 8), 'solver': 'sgd'}\n",
      ">> Model: knn - {'algorithm': 'auto', 'n_neighbors': 10, 'weights': 'distance'}\n",
      ">> Model: rf - {'criterion': 'gini', 'max_features': 'sqrt', 'n_estimators': 100}\n",
      ">> Model: svm - {'C': 0.5, 'gamma': 'scale', 'kernel': 'rbf', 'shrinking': True}\n",
      "> Week: 8\n",
      ">> Model: ada - {'algorithm': 'SAMME', 'learning_rate': 0.1, 'n_estimators': 25}\n",
      ">> Model: dt - {'criterion': 'entropy', 'max_features': 'auto', 'splitter': 'random'}\n",
      ">> Model: gnb - {'var_smoothing': 0.1}\n",
      ">> Model: lr - {'C': 0.5, 'multi_class': 'auto', 'penalty': 'l1', 'solver': 'liblinear', 'tol': 0.0001}\n",
      ">> Model: mlp - {'activation': 'relu', 'hidden_layer_sizes': (32, 16, 8), 'solver': 'sgd'}\n",
      ">> Model: knn - {'algorithm': 'auto', 'n_neighbors': 100, 'weights': 'uniform'}\n",
      ">> Model: rf - {'criterion': 'entropy', 'max_features': 'log2', 'n_estimators': 50}\n",
      ">> Model: svm - {'C': 0.5, 'gamma': 'auto', 'kernel': 'sigmoid', 'shrinking': True}\n",
      "> Week: 10\n",
      ">> Model: ada - {'algorithm': 'SAMME.R', 'learning_rate': 0.1, 'n_estimators': 50}\n",
      ">> Model: dt - {'criterion': 'gini', 'max_features': 'auto', 'splitter': 'random'}\n",
      ">> Model: gnb - {'var_smoothing': 0.1}\n",
      ">> Model: lr - {'C': 0.5, 'multi_class': 'auto', 'penalty': 'l1', 'solver': 'liblinear', 'tol': 0.0001}\n",
      ">> Model: mlp - {'activation': 'logistic', 'hidden_layer_sizes': (16, 8), 'solver': 'lbfgs'}\n",
      ">> Model: knn - {'algorithm': 'auto', 'n_neighbors': 10, 'weights': 'distance'}\n",
      ">> Model: rf - {'criterion': 'gini', 'max_features': 'sqrt', 'n_estimators': 50}\n",
      ">> Model: svm - {'C': 1.0, 'gamma': 'scale', 'kernel': 'rbf', 'shrinking': True}\n",
      "> Week: 12\n",
      ">> Model: ada - {'algorithm': 'SAMME', 'learning_rate': 0.1, 'n_estimators': 100}\n",
      ">> Model: dt - {'criterion': 'gini', 'max_features': 'auto', 'splitter': 'best'}\n",
      ">> Model: gnb - {'var_smoothing': 1e-09}\n",
      ">> Model: lr - {'C': 0.5, 'multi_class': 'auto', 'penalty': 'l1', 'solver': 'saga', 'tol': 0.0001}\n",
      ">> Model: mlp - {'activation': 'tanh', 'hidden_layer_sizes': (16, 8), 'solver': 'sgd'}\n",
      ">> Model: knn - {'algorithm': 'auto', 'n_neighbors': 10, 'weights': 'uniform'}\n",
      ">> Model: rf - {'criterion': 'gini', 'max_features': 'auto', 'n_estimators': 200}\n",
      ">> Model: svm - {'C': 0.5, 'gamma': 'scale', 'kernel': 'poly', 'shrinking': True}\n",
      "> Week: 14\n",
      ">> Model: ada - {'algorithm': 'SAMME.R', 'learning_rate': 0.1, 'n_estimators': 25}\n",
      ">> Model: dt - {'criterion': 'entropy', 'max_features': 'auto', 'splitter': 'best'}\n",
      ">> Model: gnb - {'var_smoothing': 1e-09}\n",
      ">> Model: lr - {'C': 1.0, 'multi_class': 'auto', 'penalty': 'l2', 'solver': 'newton-cg', 'tol': 0.0001}\n",
      ">> Model: mlp - {'activation': 'tanh', 'hidden_layer_sizes': (32, 16, 8), 'solver': 'sgd'}\n",
      ">> Model: knn - {'algorithm': 'auto', 'n_neighbors': 5, 'weights': 'uniform'}\n",
      ">> Model: rf - {'criterion': 'gini', 'max_features': 'log2', 'n_estimators': 200}\n",
      ">> Model: svm - {'C': 1.0, 'gamma': 'scale', 'kernel': 'linear', 'shrinking': True}\n"
     ]
    }
   ],
   "source": [
    "for ffunc in feature_labels:\n",
    "    flabel = ffunc.getName()\n",
    "    print('Feature set:', flabel)\n",
    "    for wid in weeks:\n",
    "        print('> Week:', wid)\n",
    "        for mid in classifiers_types.keys():\n",
    "            print('>> Model:', mid, '-', trained_models[flabel][wid][mid].best_params_)"
   ]
  },
  {
   "cell_type": "markdown",
   "metadata": {},
   "source": [
    "For convenience, we save the trained models computed for the current experimental setting."
   ]
  },
  {
   "cell_type": "code",
   "execution_count": 55,
   "metadata": {},
   "outputs": [],
   "source": [
    "if not os.path.exists(os.path.dirname(filename)):\n",
    "    os.makedirs(os.path.dirname(filename))\n",
    "\n",
    "with open(filename, 'wb') as f:\n",
    "    pickle.dump(trained_models, f, protocol=pickle.HIGHEST_PROTOCOL)"
   ]
  },
  {
   "cell_type": "markdown",
   "metadata": {},
   "source": [
    "## * Define and compute the evaluation metrics *"
   ]
  },
  {
   "cell_type": "code",
   "execution_count": 56,
   "metadata": {
    "ExecuteTime": {
     "start_time": "2020-11-20T22:24:36.949Z"
    }
   },
   "outputs": [],
   "source": [
    "def tn(y_true, y_pred):\n",
    "    return confusion_matrix(y_true, y_pred).ravel()[0]\n",
    "\n",
    "def fp(y_true, y_pred):\n",
    "    return confusion_matrix(y_true, y_pred).ravel()[1]\n",
    "\n",
    "def fn(y_true, y_pred):\n",
    "    return confusion_matrix(y_true, y_pred).ravel()[2]\n",
    "\n",
    "def tp(y_true, y_pred):\n",
    "    return confusion_matrix(y_true, y_pred).ravel()[3]\n",
    "\n",
    "def tpr(y_true, y_pred): \n",
    "    return tp(y_true, y_pred) / (tp(y_true, y_pred) + fn(y_true, y_pred))\n",
    "\n",
    "def tnr(y_true, y_pred):\n",
    "    return tn(y_true, y_pred) / (tn(y_true, y_pred) + fp(y_true, y_pred))\n",
    "\n",
    "def fpr(y_true, y_pred): \n",
    "    return fp(y_true, y_pred) / (fp(y_true, y_pred) + tn(y_true, y_pred))\n",
    "\n",
    "def fnr(y_true, y_pred): \n",
    "    return fn(y_true, y_pred) / (tp(y_true, y_pred) + fn(y_true, y_pred))\n",
    "\n",
    "def eer(y_true, y_pred):\n",
    "    return np.mean([fnr(y_true, y_pred), fpr(y_true, y_pred)])"
   ]
  },
  {
   "cell_type": "markdown",
   "metadata": {},
   "source": [
    "Traditional metrics of effectiveness are considered for the prediction stage. Given that early warning systems should take particular care of the false negatives instances, the False Positive Rate will represent an essential measure of effectiveness.   "
   ]
  },
  {
   "cell_type": "code",
   "execution_count": 57,
   "metadata": {
    "ExecuteTime": {
     "start_time": "2020-11-20T22:24:37.035Z"
    }
   },
   "outputs": [],
   "source": [
    "evaluation_metrics = {\n",
    "    'Acc': accuracy_score,\n",
    "    'F1': f1_score,\n",
    "    'P': precision_score, \n",
    "    'R': recall_score,\n",
    "    'TP': tp,\n",
    "    'FN': fn,\n",
    "    'TN': tn,\n",
    "    'FP': fp,\n",
    "    'TPR': tpr,\n",
    "    'TNR': tnr,\n",
    "    'FPR': fpr, \n",
    "    'FNR': fnr,\n",
    "    'EER': eer\n",
    "}"
   ]
  },
  {
   "cell_type": "code",
   "execution_count": 58,
   "metadata": {
    "ExecuteTime": {
     "start_time": "2020-11-20T22:24:37.120Z"
    }
   },
   "outputs": [
    {
     "name": "stdout",
     "output_type": "stream",
     "text": [
      "boroujeni_et_al 2\tada dt gnb lr mlp knn rf svm \n",
      "boroujeni_et_al 4\tada dt gnb lr mlp knn rf svm \n",
      "boroujeni_et_al 6\tada dt gnb lr mlp knn rf svm \n",
      "boroujeni_et_al 8\tada dt gnb lr mlp knn rf svm \n",
      "boroujeni_et_al 10\tada dt gnb lr mlp knn rf svm \n",
      "boroujeni_et_al 12\tada dt gnb lr mlp knn rf svm \n",
      "boroujeni_et_al 14\tada dt gnb lr mlp knn rf svm \n",
      "lalle_conati 2\tada dt gnb lr mlp knn rf svm \n",
      "lalle_conati 4\tada dt gnb lr mlp knn rf svm \n",
      "lalle_conati 6\tada dt gnb lr mlp knn rf svm \n",
      "lalle_conati 8\tada dt gnb lr mlp knn rf svm \n",
      "lalle_conati 10\tada dt gnb lr mlp knn rf svm \n",
      "lalle_conati 12\tada dt gnb lr mlp knn rf svm \n",
      "lalle_conati 14\tada dt gnb lr mlp knn rf svm \n"
     ]
    }
   ],
   "source": [
    "results = {}\n",
    "for ffunc in feature_labels:\n",
    "    flabel = ffunc.getName()\n",
    "    results[flabel] = {}\n",
    "    for wid in weeks:\n",
    "        print(flabel, wid, end='\\t')\n",
    "        results[flabel][wid] = {}\n",
    "        for mid in classifiers_types.keys(): \n",
    "            print(mid, end=' ')\n",
    "            results[flabel][wid][mid] = {}\n",
    "            clf = trained_models[flabel][wid][mid]\n",
    "            for emid, mfunc in evaluation_metrics.items():\n",
    "                results[flabel][wid][mid][emid] = mfunc(y_test, clf.predict(feature_sets[flabel][wid]['test']))\n",
    "        print()"
   ]
  },
  {
   "cell_type": "markdown",
   "metadata": {},
   "source": [
    "## * Show and discuss the results *"
   ]
  },
  {
   "cell_type": "code",
   "execution_count": 59,
   "metadata": {
    "ExecuteTime": {
     "start_time": "2020-11-20T22:24:37.288Z"
    }
   },
   "outputs": [],
   "source": [
    "lst_data = []\n",
    "lst_name = []\n",
    "for flabel in results.keys():\n",
    "    for wid in results[flabel].keys():\n",
    "        for mid in results[flabel][wid].keys():\n",
    "            lst_data.append([wid, flabel, mid] + [value for _, value in results[flabel][wid][mid].items()])  \n",
    "            lst_name = ['week', 'set', 'clf'] + [emid for emid, _ in results[flabel][wid][mid].items()]"
   ]
  },
  {
   "cell_type": "code",
   "execution_count": 60,
   "metadata": {
    "ExecuteTime": {
     "start_time": "2020-11-20T22:24:37.372Z"
    }
   },
   "outputs": [],
   "source": [
    "df_results = pd.DataFrame(lst_data, columns = lst_name)"
   ]
  },
  {
   "cell_type": "code",
   "execution_count": 61,
   "metadata": {
    "ExecuteTime": {
     "start_time": "2020-11-20T22:24:37.456Z"
    }
   },
   "outputs": [
    {
     "data": {
      "text/html": [
       "<div>\n",
       "<style scoped>\n",
       "    .dataframe tbody tr th:only-of-type {\n",
       "        vertical-align: middle;\n",
       "    }\n",
       "\n",
       "    .dataframe tbody tr th {\n",
       "        vertical-align: top;\n",
       "    }\n",
       "\n",
       "    .dataframe thead th {\n",
       "        text-align: right;\n",
       "    }\n",
       "</style>\n",
       "<table border=\"1\" class=\"dataframe\">\n",
       "  <thead>\n",
       "    <tr style=\"text-align: right;\">\n",
       "      <th></th>\n",
       "      <th></th>\n",
       "      <th></th>\n",
       "      <th>Acc</th>\n",
       "      <th>F1</th>\n",
       "      <th>P</th>\n",
       "      <th>R</th>\n",
       "      <th>TP</th>\n",
       "      <th>FN</th>\n",
       "      <th>TN</th>\n",
       "      <th>FP</th>\n",
       "      <th>TPR</th>\n",
       "      <th>TNR</th>\n",
       "      <th>FPR</th>\n",
       "      <th>FNR</th>\n",
       "      <th>EER</th>\n",
       "    </tr>\n",
       "    <tr>\n",
       "      <th>week</th>\n",
       "      <th>set</th>\n",
       "      <th>clf</th>\n",
       "      <th></th>\n",
       "      <th></th>\n",
       "      <th></th>\n",
       "      <th></th>\n",
       "      <th></th>\n",
       "      <th></th>\n",
       "      <th></th>\n",
       "      <th></th>\n",
       "      <th></th>\n",
       "      <th></th>\n",
       "      <th></th>\n",
       "      <th></th>\n",
       "      <th></th>\n",
       "    </tr>\n",
       "  </thead>\n",
       "  <tbody>\n",
       "    <tr>\n",
       "      <th rowspan=\"16\" valign=\"top\">2</th>\n",
       "      <th rowspan=\"8\" valign=\"top\">boroujeni_et_al</th>\n",
       "      <th>ada</th>\n",
       "      <td>0.581395</td>\n",
       "      <td>0.735294</td>\n",
       "      <td>0.609756</td>\n",
       "      <td>0.925926</td>\n",
       "      <td>25</td>\n",
       "      <td>2</td>\n",
       "      <td>0</td>\n",
       "      <td>16</td>\n",
       "      <td>0.925926</td>\n",
       "      <td>0.0000</td>\n",
       "      <td>1.0000</td>\n",
       "      <td>0.074074</td>\n",
       "      <td>0.537037</td>\n",
       "    </tr>\n",
       "    <tr>\n",
       "      <th>dt</th>\n",
       "      <td>0.511628</td>\n",
       "      <td>0.553191</td>\n",
       "      <td>0.650000</td>\n",
       "      <td>0.481481</td>\n",
       "      <td>13</td>\n",
       "      <td>14</td>\n",
       "      <td>9</td>\n",
       "      <td>7</td>\n",
       "      <td>0.481481</td>\n",
       "      <td>0.5625</td>\n",
       "      <td>0.4375</td>\n",
       "      <td>0.518519</td>\n",
       "      <td>0.478009</td>\n",
       "    </tr>\n",
       "    <tr>\n",
       "      <th>gnb</th>\n",
       "      <td>0.558140</td>\n",
       "      <td>0.716418</td>\n",
       "      <td>0.600000</td>\n",
       "      <td>0.888889</td>\n",
       "      <td>24</td>\n",
       "      <td>3</td>\n",
       "      <td>0</td>\n",
       "      <td>16</td>\n",
       "      <td>0.888889</td>\n",
       "      <td>0.0000</td>\n",
       "      <td>1.0000</td>\n",
       "      <td>0.111111</td>\n",
       "      <td>0.555556</td>\n",
       "    </tr>\n",
       "    <tr>\n",
       "      <th>lr</th>\n",
       "      <td>0.511628</td>\n",
       "      <td>0.676923</td>\n",
       "      <td>0.578947</td>\n",
       "      <td>0.814815</td>\n",
       "      <td>22</td>\n",
       "      <td>5</td>\n",
       "      <td>0</td>\n",
       "      <td>16</td>\n",
       "      <td>0.814815</td>\n",
       "      <td>0.0000</td>\n",
       "      <td>1.0000</td>\n",
       "      <td>0.185185</td>\n",
       "      <td>0.592593</td>\n",
       "    </tr>\n",
       "    <tr>\n",
       "      <th>mlp</th>\n",
       "      <td>0.558140</td>\n",
       "      <td>0.536585</td>\n",
       "      <td>0.785714</td>\n",
       "      <td>0.407407</td>\n",
       "      <td>11</td>\n",
       "      <td>16</td>\n",
       "      <td>13</td>\n",
       "      <td>3</td>\n",
       "      <td>0.407407</td>\n",
       "      <td>0.8125</td>\n",
       "      <td>0.1875</td>\n",
       "      <td>0.592593</td>\n",
       "      <td>0.390046</td>\n",
       "    </tr>\n",
       "    <tr>\n",
       "      <th>knn</th>\n",
       "      <td>0.604651</td>\n",
       "      <td>0.753623</td>\n",
       "      <td>0.619048</td>\n",
       "      <td>0.962963</td>\n",
       "      <td>26</td>\n",
       "      <td>1</td>\n",
       "      <td>0</td>\n",
       "      <td>16</td>\n",
       "      <td>0.962963</td>\n",
       "      <td>0.0000</td>\n",
       "      <td>1.0000</td>\n",
       "      <td>0.037037</td>\n",
       "      <td>0.518519</td>\n",
       "    </tr>\n",
       "    <tr>\n",
       "      <th>rf</th>\n",
       "      <td>0.418605</td>\n",
       "      <td>0.489796</td>\n",
       "      <td>0.545455</td>\n",
       "      <td>0.444444</td>\n",
       "      <td>12</td>\n",
       "      <td>15</td>\n",
       "      <td>6</td>\n",
       "      <td>10</td>\n",
       "      <td>0.444444</td>\n",
       "      <td>0.3750</td>\n",
       "      <td>0.6250</td>\n",
       "      <td>0.555556</td>\n",
       "      <td>0.590278</td>\n",
       "    </tr>\n",
       "    <tr>\n",
       "      <th>svm</th>\n",
       "      <td>0.511628</td>\n",
       "      <td>0.676923</td>\n",
       "      <td>0.578947</td>\n",
       "      <td>0.814815</td>\n",
       "      <td>22</td>\n",
       "      <td>5</td>\n",
       "      <td>0</td>\n",
       "      <td>16</td>\n",
       "      <td>0.814815</td>\n",
       "      <td>0.0000</td>\n",
       "      <td>1.0000</td>\n",
       "      <td>0.185185</td>\n",
       "      <td>0.592593</td>\n",
       "    </tr>\n",
       "    <tr>\n",
       "      <th rowspan=\"8\" valign=\"top\">lalle_conati</th>\n",
       "      <th>ada</th>\n",
       "      <td>0.627907</td>\n",
       "      <td>0.771429</td>\n",
       "      <td>0.627907</td>\n",
       "      <td>1.000000</td>\n",
       "      <td>27</td>\n",
       "      <td>0</td>\n",
       "      <td>0</td>\n",
       "      <td>16</td>\n",
       "      <td>1.000000</td>\n",
       "      <td>0.0000</td>\n",
       "      <td>1.0000</td>\n",
       "      <td>0.000000</td>\n",
       "      <td>0.500000</td>\n",
       "    </tr>\n",
       "    <tr>\n",
       "      <th>dt</th>\n",
       "      <td>0.441860</td>\n",
       "      <td>0.454545</td>\n",
       "      <td>0.588235</td>\n",
       "      <td>0.370370</td>\n",
       "      <td>10</td>\n",
       "      <td>17</td>\n",
       "      <td>9</td>\n",
       "      <td>7</td>\n",
       "      <td>0.370370</td>\n",
       "      <td>0.5625</td>\n",
       "      <td>0.4375</td>\n",
       "      <td>0.629630</td>\n",
       "      <td>0.533565</td>\n",
       "    </tr>\n",
       "    <tr>\n",
       "      <th>gnb</th>\n",
       "      <td>0.558140</td>\n",
       "      <td>0.595745</td>\n",
       "      <td>0.700000</td>\n",
       "      <td>0.518519</td>\n",
       "      <td>14</td>\n",
       "      <td>13</td>\n",
       "      <td>10</td>\n",
       "      <td>6</td>\n",
       "      <td>0.518519</td>\n",
       "      <td>0.6250</td>\n",
       "      <td>0.3750</td>\n",
       "      <td>0.481481</td>\n",
       "      <td>0.428241</td>\n",
       "    </tr>\n",
       "    <tr>\n",
       "      <th>lr</th>\n",
       "      <td>0.627907</td>\n",
       "      <td>0.703704</td>\n",
       "      <td>0.703704</td>\n",
       "      <td>0.703704</td>\n",
       "      <td>19</td>\n",
       "      <td>8</td>\n",
       "      <td>8</td>\n",
       "      <td>8</td>\n",
       "      <td>0.703704</td>\n",
       "      <td>0.5000</td>\n",
       "      <td>0.5000</td>\n",
       "      <td>0.296296</td>\n",
       "      <td>0.398148</td>\n",
       "    </tr>\n",
       "    <tr>\n",
       "      <th>mlp</th>\n",
       "      <td>0.627907</td>\n",
       "      <td>0.771429</td>\n",
       "      <td>0.627907</td>\n",
       "      <td>1.000000</td>\n",
       "      <td>27</td>\n",
       "      <td>0</td>\n",
       "      <td>0</td>\n",
       "      <td>16</td>\n",
       "      <td>1.000000</td>\n",
       "      <td>0.0000</td>\n",
       "      <td>1.0000</td>\n",
       "      <td>0.000000</td>\n",
       "      <td>0.500000</td>\n",
       "    </tr>\n",
       "    <tr>\n",
       "      <th>knn</th>\n",
       "      <td>0.627907</td>\n",
       "      <td>0.771429</td>\n",
       "      <td>0.627907</td>\n",
       "      <td>1.000000</td>\n",
       "      <td>27</td>\n",
       "      <td>0</td>\n",
       "      <td>0</td>\n",
       "      <td>16</td>\n",
       "      <td>1.000000</td>\n",
       "      <td>0.0000</td>\n",
       "      <td>1.0000</td>\n",
       "      <td>0.000000</td>\n",
       "      <td>0.500000</td>\n",
       "    </tr>\n",
       "    <tr>\n",
       "      <th>rf</th>\n",
       "      <td>0.720930</td>\n",
       "      <td>0.812500</td>\n",
       "      <td>0.702703</td>\n",
       "      <td>0.962963</td>\n",
       "      <td>26</td>\n",
       "      <td>1</td>\n",
       "      <td>5</td>\n",
       "      <td>11</td>\n",
       "      <td>0.962963</td>\n",
       "      <td>0.3125</td>\n",
       "      <td>0.6875</td>\n",
       "      <td>0.037037</td>\n",
       "      <td>0.362269</td>\n",
       "    </tr>\n",
       "    <tr>\n",
       "      <th>svm</th>\n",
       "      <td>0.627907</td>\n",
       "      <td>0.771429</td>\n",
       "      <td>0.627907</td>\n",
       "      <td>1.000000</td>\n",
       "      <td>27</td>\n",
       "      <td>0</td>\n",
       "      <td>0</td>\n",
       "      <td>16</td>\n",
       "      <td>1.000000</td>\n",
       "      <td>0.0000</td>\n",
       "      <td>1.0000</td>\n",
       "      <td>0.000000</td>\n",
       "      <td>0.500000</td>\n",
       "    </tr>\n",
       "  </tbody>\n",
       "</table>\n",
       "</div>"
      ],
      "text/plain": [
       "                               Acc        F1         P         R  TP  FN  TN  \\\n",
       "week set             clf                                                       \n",
       "2    boroujeni_et_al ada  0.581395  0.735294  0.609756  0.925926  25   2   0   \n",
       "                     dt   0.511628  0.553191  0.650000  0.481481  13  14   9   \n",
       "                     gnb  0.558140  0.716418  0.600000  0.888889  24   3   0   \n",
       "                     lr   0.511628  0.676923  0.578947  0.814815  22   5   0   \n",
       "                     mlp  0.558140  0.536585  0.785714  0.407407  11  16  13   \n",
       "                     knn  0.604651  0.753623  0.619048  0.962963  26   1   0   \n",
       "                     rf   0.418605  0.489796  0.545455  0.444444  12  15   6   \n",
       "                     svm  0.511628  0.676923  0.578947  0.814815  22   5   0   \n",
       "     lalle_conati    ada  0.627907  0.771429  0.627907  1.000000  27   0   0   \n",
       "                     dt   0.441860  0.454545  0.588235  0.370370  10  17   9   \n",
       "                     gnb  0.558140  0.595745  0.700000  0.518519  14  13  10   \n",
       "                     lr   0.627907  0.703704  0.703704  0.703704  19   8   8   \n",
       "                     mlp  0.627907  0.771429  0.627907  1.000000  27   0   0   \n",
       "                     knn  0.627907  0.771429  0.627907  1.000000  27   0   0   \n",
       "                     rf   0.720930  0.812500  0.702703  0.962963  26   1   5   \n",
       "                     svm  0.627907  0.771429  0.627907  1.000000  27   0   0   \n",
       "\n",
       "                          FP       TPR     TNR     FPR       FNR       EER  \n",
       "week set             clf                                                    \n",
       "2    boroujeni_et_al ada  16  0.925926  0.0000  1.0000  0.074074  0.537037  \n",
       "                     dt    7  0.481481  0.5625  0.4375  0.518519  0.478009  \n",
       "                     gnb  16  0.888889  0.0000  1.0000  0.111111  0.555556  \n",
       "                     lr   16  0.814815  0.0000  1.0000  0.185185  0.592593  \n",
       "                     mlp   3  0.407407  0.8125  0.1875  0.592593  0.390046  \n",
       "                     knn  16  0.962963  0.0000  1.0000  0.037037  0.518519  \n",
       "                     rf   10  0.444444  0.3750  0.6250  0.555556  0.590278  \n",
       "                     svm  16  0.814815  0.0000  1.0000  0.185185  0.592593  \n",
       "     lalle_conati    ada  16  1.000000  0.0000  1.0000  0.000000  0.500000  \n",
       "                     dt    7  0.370370  0.5625  0.4375  0.629630  0.533565  \n",
       "                     gnb   6  0.518519  0.6250  0.3750  0.481481  0.428241  \n",
       "                     lr    8  0.703704  0.5000  0.5000  0.296296  0.398148  \n",
       "                     mlp  16  1.000000  0.0000  1.0000  0.000000  0.500000  \n",
       "                     knn  16  1.000000  0.0000  1.0000  0.000000  0.500000  \n",
       "                     rf   11  0.962963  0.3125  0.6875  0.037037  0.362269  \n",
       "                     svm  16  1.000000  0.0000  1.0000  0.000000  0.500000  "
      ]
     },
     "execution_count": 61,
     "metadata": {},
     "output_type": "execute_result"
    }
   ],
   "source": [
    "df_results[df_results['week'] == 2].set_index(['week', 'set', 'clf'])"
   ]
  },
  {
   "cell_type": "code",
   "execution_count": 62,
   "metadata": {},
   "outputs": [
    {
     "data": {
      "text/html": [
       "<div>\n",
       "<style scoped>\n",
       "    .dataframe tbody tr th:only-of-type {\n",
       "        vertical-align: middle;\n",
       "    }\n",
       "\n",
       "    .dataframe tbody tr th {\n",
       "        vertical-align: top;\n",
       "    }\n",
       "\n",
       "    .dataframe thead th {\n",
       "        text-align: right;\n",
       "    }\n",
       "</style>\n",
       "<table border=\"1\" class=\"dataframe\">\n",
       "  <thead>\n",
       "    <tr style=\"text-align: right;\">\n",
       "      <th></th>\n",
       "      <th></th>\n",
       "      <th></th>\n",
       "      <th>Acc</th>\n",
       "      <th>F1</th>\n",
       "      <th>P</th>\n",
       "      <th>R</th>\n",
       "      <th>TP</th>\n",
       "      <th>FN</th>\n",
       "      <th>TN</th>\n",
       "      <th>FP</th>\n",
       "      <th>TPR</th>\n",
       "      <th>TNR</th>\n",
       "      <th>FPR</th>\n",
       "      <th>FNR</th>\n",
       "      <th>EER</th>\n",
       "    </tr>\n",
       "    <tr>\n",
       "      <th>week</th>\n",
       "      <th>set</th>\n",
       "      <th>clf</th>\n",
       "      <th></th>\n",
       "      <th></th>\n",
       "      <th></th>\n",
       "      <th></th>\n",
       "      <th></th>\n",
       "      <th></th>\n",
       "      <th></th>\n",
       "      <th></th>\n",
       "      <th></th>\n",
       "      <th></th>\n",
       "      <th></th>\n",
       "      <th></th>\n",
       "      <th></th>\n",
       "    </tr>\n",
       "  </thead>\n",
       "  <tbody>\n",
       "    <tr>\n",
       "      <th rowspan=\"16\" valign=\"top\">14</th>\n",
       "      <th rowspan=\"8\" valign=\"top\">boroujeni_et_al</th>\n",
       "      <th>ada</th>\n",
       "      <td>0.604651</td>\n",
       "      <td>0.753623</td>\n",
       "      <td>0.619048</td>\n",
       "      <td>0.962963</td>\n",
       "      <td>26</td>\n",
       "      <td>1</td>\n",
       "      <td>0</td>\n",
       "      <td>16</td>\n",
       "      <td>0.962963</td>\n",
       "      <td>0.0000</td>\n",
       "      <td>1.0000</td>\n",
       "      <td>0.037037</td>\n",
       "      <td>0.518519</td>\n",
       "    </tr>\n",
       "    <tr>\n",
       "      <th>dt</th>\n",
       "      <td>0.441860</td>\n",
       "      <td>0.538462</td>\n",
       "      <td>0.560000</td>\n",
       "      <td>0.518519</td>\n",
       "      <td>14</td>\n",
       "      <td>13</td>\n",
       "      <td>5</td>\n",
       "      <td>11</td>\n",
       "      <td>0.518519</td>\n",
       "      <td>0.3125</td>\n",
       "      <td>0.6875</td>\n",
       "      <td>0.481481</td>\n",
       "      <td>0.584491</td>\n",
       "    </tr>\n",
       "    <tr>\n",
       "      <th>gnb</th>\n",
       "      <td>0.674419</td>\n",
       "      <td>0.774194</td>\n",
       "      <td>0.685714</td>\n",
       "      <td>0.888889</td>\n",
       "      <td>24</td>\n",
       "      <td>3</td>\n",
       "      <td>5</td>\n",
       "      <td>11</td>\n",
       "      <td>0.888889</td>\n",
       "      <td>0.3125</td>\n",
       "      <td>0.6875</td>\n",
       "      <td>0.111111</td>\n",
       "      <td>0.399306</td>\n",
       "    </tr>\n",
       "    <tr>\n",
       "      <th>lr</th>\n",
       "      <td>0.697674</td>\n",
       "      <td>0.793651</td>\n",
       "      <td>0.694444</td>\n",
       "      <td>0.925926</td>\n",
       "      <td>25</td>\n",
       "      <td>2</td>\n",
       "      <td>5</td>\n",
       "      <td>11</td>\n",
       "      <td>0.925926</td>\n",
       "      <td>0.3125</td>\n",
       "      <td>0.6875</td>\n",
       "      <td>0.074074</td>\n",
       "      <td>0.380787</td>\n",
       "    </tr>\n",
       "    <tr>\n",
       "      <th>mlp</th>\n",
       "      <td>0.674419</td>\n",
       "      <td>0.766667</td>\n",
       "      <td>0.696970</td>\n",
       "      <td>0.851852</td>\n",
       "      <td>23</td>\n",
       "      <td>4</td>\n",
       "      <td>6</td>\n",
       "      <td>10</td>\n",
       "      <td>0.851852</td>\n",
       "      <td>0.3750</td>\n",
       "      <td>0.6250</td>\n",
       "      <td>0.148148</td>\n",
       "      <td>0.386574</td>\n",
       "    </tr>\n",
       "    <tr>\n",
       "      <th>knn</th>\n",
       "      <td>0.627907</td>\n",
       "      <td>0.771429</td>\n",
       "      <td>0.627907</td>\n",
       "      <td>1.000000</td>\n",
       "      <td>27</td>\n",
       "      <td>0</td>\n",
       "      <td>0</td>\n",
       "      <td>16</td>\n",
       "      <td>1.000000</td>\n",
       "      <td>0.0000</td>\n",
       "      <td>1.0000</td>\n",
       "      <td>0.000000</td>\n",
       "      <td>0.500000</td>\n",
       "    </tr>\n",
       "    <tr>\n",
       "      <th>rf</th>\n",
       "      <td>0.674419</td>\n",
       "      <td>0.758621</td>\n",
       "      <td>0.709677</td>\n",
       "      <td>0.814815</td>\n",
       "      <td>22</td>\n",
       "      <td>5</td>\n",
       "      <td>7</td>\n",
       "      <td>9</td>\n",
       "      <td>0.814815</td>\n",
       "      <td>0.4375</td>\n",
       "      <td>0.5625</td>\n",
       "      <td>0.185185</td>\n",
       "      <td>0.373843</td>\n",
       "    </tr>\n",
       "    <tr>\n",
       "      <th>svm</th>\n",
       "      <td>0.674419</td>\n",
       "      <td>0.781250</td>\n",
       "      <td>0.675676</td>\n",
       "      <td>0.925926</td>\n",
       "      <td>25</td>\n",
       "      <td>2</td>\n",
       "      <td>4</td>\n",
       "      <td>12</td>\n",
       "      <td>0.925926</td>\n",
       "      <td>0.2500</td>\n",
       "      <td>0.7500</td>\n",
       "      <td>0.074074</td>\n",
       "      <td>0.412037</td>\n",
       "    </tr>\n",
       "    <tr>\n",
       "      <th rowspan=\"8\" valign=\"top\">lalle_conati</th>\n",
       "      <th>ada</th>\n",
       "      <td>0.697674</td>\n",
       "      <td>0.786885</td>\n",
       "      <td>0.705882</td>\n",
       "      <td>0.888889</td>\n",
       "      <td>24</td>\n",
       "      <td>3</td>\n",
       "      <td>6</td>\n",
       "      <td>10</td>\n",
       "      <td>0.888889</td>\n",
       "      <td>0.3750</td>\n",
       "      <td>0.6250</td>\n",
       "      <td>0.111111</td>\n",
       "      <td>0.368056</td>\n",
       "    </tr>\n",
       "    <tr>\n",
       "      <th>dt</th>\n",
       "      <td>0.697674</td>\n",
       "      <td>0.734694</td>\n",
       "      <td>0.818182</td>\n",
       "      <td>0.666667</td>\n",
       "      <td>18</td>\n",
       "      <td>9</td>\n",
       "      <td>12</td>\n",
       "      <td>4</td>\n",
       "      <td>0.666667</td>\n",
       "      <td>0.7500</td>\n",
       "      <td>0.2500</td>\n",
       "      <td>0.333333</td>\n",
       "      <td>0.291667</td>\n",
       "    </tr>\n",
       "    <tr>\n",
       "      <th>gnb</th>\n",
       "      <td>0.720930</td>\n",
       "      <td>0.769231</td>\n",
       "      <td>0.800000</td>\n",
       "      <td>0.740741</td>\n",
       "      <td>20</td>\n",
       "      <td>7</td>\n",
       "      <td>11</td>\n",
       "      <td>5</td>\n",
       "      <td>0.740741</td>\n",
       "      <td>0.6875</td>\n",
       "      <td>0.3125</td>\n",
       "      <td>0.259259</td>\n",
       "      <td>0.285880</td>\n",
       "    </tr>\n",
       "    <tr>\n",
       "      <th>lr</th>\n",
       "      <td>0.697674</td>\n",
       "      <td>0.779661</td>\n",
       "      <td>0.718750</td>\n",
       "      <td>0.851852</td>\n",
       "      <td>23</td>\n",
       "      <td>4</td>\n",
       "      <td>7</td>\n",
       "      <td>9</td>\n",
       "      <td>0.851852</td>\n",
       "      <td>0.4375</td>\n",
       "      <td>0.5625</td>\n",
       "      <td>0.148148</td>\n",
       "      <td>0.355324</td>\n",
       "    </tr>\n",
       "    <tr>\n",
       "      <th>mlp</th>\n",
       "      <td>0.744186</td>\n",
       "      <td>0.819672</td>\n",
       "      <td>0.735294</td>\n",
       "      <td>0.925926</td>\n",
       "      <td>25</td>\n",
       "      <td>2</td>\n",
       "      <td>7</td>\n",
       "      <td>9</td>\n",
       "      <td>0.925926</td>\n",
       "      <td>0.4375</td>\n",
       "      <td>0.5625</td>\n",
       "      <td>0.074074</td>\n",
       "      <td>0.318287</td>\n",
       "    </tr>\n",
       "    <tr>\n",
       "      <th>knn</th>\n",
       "      <td>0.558140</td>\n",
       "      <td>0.666667</td>\n",
       "      <td>0.633333</td>\n",
       "      <td>0.703704</td>\n",
       "      <td>19</td>\n",
       "      <td>8</td>\n",
       "      <td>5</td>\n",
       "      <td>11</td>\n",
       "      <td>0.703704</td>\n",
       "      <td>0.3125</td>\n",
       "      <td>0.6875</td>\n",
       "      <td>0.296296</td>\n",
       "      <td>0.491898</td>\n",
       "    </tr>\n",
       "    <tr>\n",
       "      <th>rf</th>\n",
       "      <td>0.767442</td>\n",
       "      <td>0.827586</td>\n",
       "      <td>0.774194</td>\n",
       "      <td>0.888889</td>\n",
       "      <td>24</td>\n",
       "      <td>3</td>\n",
       "      <td>9</td>\n",
       "      <td>7</td>\n",
       "      <td>0.888889</td>\n",
       "      <td>0.5625</td>\n",
       "      <td>0.4375</td>\n",
       "      <td>0.111111</td>\n",
       "      <td>0.274306</td>\n",
       "    </tr>\n",
       "    <tr>\n",
       "      <th>svm</th>\n",
       "      <td>0.674419</td>\n",
       "      <td>0.766667</td>\n",
       "      <td>0.696970</td>\n",
       "      <td>0.851852</td>\n",
       "      <td>23</td>\n",
       "      <td>4</td>\n",
       "      <td>6</td>\n",
       "      <td>10</td>\n",
       "      <td>0.851852</td>\n",
       "      <td>0.3750</td>\n",
       "      <td>0.6250</td>\n",
       "      <td>0.148148</td>\n",
       "      <td>0.386574</td>\n",
       "    </tr>\n",
       "  </tbody>\n",
       "</table>\n",
       "</div>"
      ],
      "text/plain": [
       "                               Acc        F1         P         R  TP  FN  TN  \\\n",
       "week set             clf                                                       \n",
       "14   boroujeni_et_al ada  0.604651  0.753623  0.619048  0.962963  26   1   0   \n",
       "                     dt   0.441860  0.538462  0.560000  0.518519  14  13   5   \n",
       "                     gnb  0.674419  0.774194  0.685714  0.888889  24   3   5   \n",
       "                     lr   0.697674  0.793651  0.694444  0.925926  25   2   5   \n",
       "                     mlp  0.674419  0.766667  0.696970  0.851852  23   4   6   \n",
       "                     knn  0.627907  0.771429  0.627907  1.000000  27   0   0   \n",
       "                     rf   0.674419  0.758621  0.709677  0.814815  22   5   7   \n",
       "                     svm  0.674419  0.781250  0.675676  0.925926  25   2   4   \n",
       "     lalle_conati    ada  0.697674  0.786885  0.705882  0.888889  24   3   6   \n",
       "                     dt   0.697674  0.734694  0.818182  0.666667  18   9  12   \n",
       "                     gnb  0.720930  0.769231  0.800000  0.740741  20   7  11   \n",
       "                     lr   0.697674  0.779661  0.718750  0.851852  23   4   7   \n",
       "                     mlp  0.744186  0.819672  0.735294  0.925926  25   2   7   \n",
       "                     knn  0.558140  0.666667  0.633333  0.703704  19   8   5   \n",
       "                     rf   0.767442  0.827586  0.774194  0.888889  24   3   9   \n",
       "                     svm  0.674419  0.766667  0.696970  0.851852  23   4   6   \n",
       "\n",
       "                          FP       TPR     TNR     FPR       FNR       EER  \n",
       "week set             clf                                                    \n",
       "14   boroujeni_et_al ada  16  0.962963  0.0000  1.0000  0.037037  0.518519  \n",
       "                     dt   11  0.518519  0.3125  0.6875  0.481481  0.584491  \n",
       "                     gnb  11  0.888889  0.3125  0.6875  0.111111  0.399306  \n",
       "                     lr   11  0.925926  0.3125  0.6875  0.074074  0.380787  \n",
       "                     mlp  10  0.851852  0.3750  0.6250  0.148148  0.386574  \n",
       "                     knn  16  1.000000  0.0000  1.0000  0.000000  0.500000  \n",
       "                     rf    9  0.814815  0.4375  0.5625  0.185185  0.373843  \n",
       "                     svm  12  0.925926  0.2500  0.7500  0.074074  0.412037  \n",
       "     lalle_conati    ada  10  0.888889  0.3750  0.6250  0.111111  0.368056  \n",
       "                     dt    4  0.666667  0.7500  0.2500  0.333333  0.291667  \n",
       "                     gnb   5  0.740741  0.6875  0.3125  0.259259  0.285880  \n",
       "                     lr    9  0.851852  0.4375  0.5625  0.148148  0.355324  \n",
       "                     mlp   9  0.925926  0.4375  0.5625  0.074074  0.318287  \n",
       "                     knn  11  0.703704  0.3125  0.6875  0.296296  0.491898  \n",
       "                     rf    7  0.888889  0.5625  0.4375  0.111111  0.274306  \n",
       "                     svm  10  0.851852  0.3750  0.6250  0.148148  0.386574  "
      ]
     },
     "execution_count": 62,
     "metadata": {},
     "output_type": "execute_result"
    }
   ],
   "source": [
    "df_results[df_results['week'] == 14].set_index(['week', 'set', 'clf'])"
   ]
  },
  {
   "cell_type": "code",
   "execution_count": 63,
   "metadata": {},
   "outputs": [],
   "source": [
    "def plot_metrics_along_weeks(emid):\n",
    "    tnr_time = {}\n",
    "    for ffunc in feature_labels:\n",
    "        flabel = ffunc.getName()\n",
    "        tnr_time[flabel] = {}\n",
    "        for wid in weeks:\n",
    "            for mid in classifiers_types.keys(): \n",
    "                if not mid in tnr_time[flabel]:\n",
    "                    tnr_time[flabel][mid] = []\n",
    "                tnr_time[flabel][mid].append(results[flabel][wid][mid][emid])\n",
    "\n",
    "    plt.figure(num=None, figsize=(20, 6), dpi=80, facecolor='w', edgecolor='k')\n",
    "    for i, ffunc in enumerate(feature_labels):\n",
    "        flabel = ffunc.getName()\n",
    "        plt.subplot(len(feature_labels) // 2, 2, i + 1)\n",
    "        plt.title(flabel)\n",
    "        colors = [plt.cm.rainbow(x) for x in np.linspace(0, 1, len(classifiers_types))]\n",
    "        for j, mid in enumerate(classifiers_types.keys()): \n",
    "            plt.plot(weeks, tnr_time[flabel][mid], 'o-', lw=1, color=colors[j], label=mid)\n",
    "        plt.ylim([0.2, 0.7])\n",
    "        plt.xlim([weeks[0], weeks[-1]])\n",
    "        plt.xlabel('Course week')\n",
    "        plt.ylabel(emid)\n",
    "        plt.grid(axis='y')\n",
    "        plt.legend(loc='upper left')"
   ]
  },
  {
   "cell_type": "code",
   "execution_count": 64,
   "metadata": {},
   "outputs": [
    {
     "data": {
      "image/png": "[encoded data removed]",
      "text/plain": [
       "<Figure size 1600x480 with 2 Axes>"
      ]
     },
     "metadata": {},
     "output_type": "display_data"
    }
   ],
   "source": [
    "plot_metrics_along_weeks('EER')"
   ]
  },
  {
   "cell_type": "code",
   "execution_count": 68,
   "metadata": {},
   "outputs": [
    {
     "data": {
      "text/html": [
       "<div>\n",
       "<style scoped>\n",
       "    .dataframe tbody tr th:only-of-type {\n",
       "        vertical-align: middle;\n",
       "    }\n",
       "\n",
       "    .dataframe tbody tr th {\n",
       "        vertical-align: top;\n",
       "    }\n",
       "\n",
       "    .dataframe thead th {\n",
       "        text-align: right;\n",
       "    }\n",
       "</style>\n",
       "<table border=\"1\" class=\"dataframe\">\n",
       "  <thead>\n",
       "    <tr style=\"text-align: right;\">\n",
       "      <th></th>\n",
       "      <th>AccountUserID</th>\n",
       "      <th>EventType</th>\n",
       "      <th>TimeStamp</th>\n",
       "      <th>VideoID</th>\n",
       "      <th>EventID</th>\n",
       "      <th>SeekType</th>\n",
       "      <th>OldTime</th>\n",
       "      <th>CurrentTime</th>\n",
       "      <th>NewTime</th>\n",
       "      <th>OldSpeed</th>\n",
       "      <th>...</th>\n",
       "      <th>Title</th>\n",
       "      <th>Source</th>\n",
       "      <th>Subchapter</th>\n",
       "      <th>Duration</th>\n",
       "      <th>ProblemID</th>\n",
       "      <th>ProblemType</th>\n",
       "      <th>MaximumSubmissions</th>\n",
       "      <th>Year</th>\n",
       "      <th>Date</th>\n",
       "      <th>Week</th>\n",
       "    </tr>\n",
       "  </thead>\n",
       "  <tbody>\n",
       "  </tbody>\n",
       "</table>\n",
       "<p>0 rows × 23 columns</p>\n",
       "</div>"
      ],
      "text/plain": [
       "Empty DataFrame\n",
       "Columns: [AccountUserID, EventType, TimeStamp, VideoID, EventID, SeekType, OldTime, CurrentTime, NewTime, OldSpeed, NewSpeed, Round, ID.Anon, Title, Source, Subchapter, Duration, ProblemID, ProblemType, MaximumSubmissions, Year, Date, Week]\n",
       "Index: []\n",
       "\n",
       "[0 rows x 23 columns]"
      ]
     },
     "execution_count": 68,
     "metadata": {},
     "output_type": "execute_result"
    }
   ],
   "source": [
    "events[events['EventType'] == 'Video.SeekBackward']"
   ]
  },
  {
   "cell_type": "code",
   "execution_count": null,
   "metadata": {},
   "outputs": [],
   "source": []
  }
 ],
 "metadata": {
  "kernelspec": {
   "display_name": "Python 3",
   "language": "python",
   "name": "python3"
  },
  "language_info": {
   "codemirror_mode": {
    "name": "ipython",
    "version": 3
   },
   "file_extension": ".py",
   "mimetype": "text/x-python",
   "name": "python",
   "nbconvert_exporter": "python",
   "pygments_lexer": "ipython3",
   "version": "3.6.8"
  },
  "toc": {
   "base_numbering": 1,
   "nav_menu": {},
   "number_sections": true,
   "sideBar": true,
   "skip_h1_title": false,
   "title_cell": "Table of Contents",
   "title_sidebar": "Contents",
   "toc_cell": false,
   "toc_position": {},
   "toc_section_display": true,
   "toc_window_display": false
  }
 },
 "nbformat": 4,
 "nbformat_minor": 1
}
