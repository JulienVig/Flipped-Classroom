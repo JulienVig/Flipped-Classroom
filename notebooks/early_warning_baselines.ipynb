{
 "cells": [
  {
   "cell_type": "markdown",
   "metadata": {},
   "source": [
    "# Baseline algorithms for early warning systems"
   ]
  },
  {
   "cell_type": "code",
   "execution_count": 5,
   "metadata": {
    "ExecuteTime": {
     "end_time": "2020-11-20T10:56:23.715311Z",
     "start_time": "2020-11-20T10:56:10.991791Z"
    }
   },
   "outputs": [
    {
     "name": "stderr",
     "output_type": "stream",
     "text": [
      "/Applications/anaconda3/lib/python3.7/site-packages/sklearn/utils/deprecation.py:143: FutureWarning: The sklearn.cluster.k_means_ module is  deprecated in version 0.22 and will be removed in version 0.24. The corresponding classes / functions should instead be imported from sklearn.cluster. Anything that cannot be imported from sklearn.cluster is now part of the private API.\n",
      "  warnings.warn(message, FutureWarning)\n",
      "/Applications/anaconda3/lib/python3.7/site-packages/statsmodels/tools/_testing.py:19: FutureWarning: pandas.util.testing is deprecated. Use the functions in the public API at pandas.testing instead.\n",
      "  import pandas.util.testing as tm\n"
     ]
    }
   ],
   "source": [
    "from tslearn.clustering import TimeSeriesKMeans, silhouette_score\n",
    "from sklearn.metrics import silhouette_score, confusion_matrix\n",
    "from sklearn.cluster import AgglomerativeClustering, KMeans\n",
    "from sklearn.model_selection import train_test_split\n",
    "from sklearn.metrics import plot_confusion_matrix\n",
    "from sklearn.preprocessing import StandardScaler\n",
    "from datetime import datetime, timedelta, date\n",
    "from scipy.cluster.hierarchy import dendrogram\n",
    "from sklearn.metrics import confusion_matrix\n",
    "from sklearn.decomposition import PCA\n",
    "from scipy.stats import mannwhitneyu\n",
    "from sklearn.cluster import KMeans\n",
    "import matplotlib.pyplot as plt\n",
    "from datetime import datetime as dt\n",
    "from tqdm import tqdm\n",
    "import seaborn as sns\n",
    "import pandas as pd\n",
    "import numpy as np\n",
    "import calplot\n",
    "import time\n",
    "import math\n",
    "import json\n",
    "import sys\n",
    "import os"
   ]
  },
  {
   "cell_type": "code",
   "execution_count": 6,
   "metadata": {
    "ExecuteTime": {
     "end_time": "2020-11-20T10:56:24.927583Z",
     "start_time": "2020-11-20T10:56:24.920570Z"
    }
   },
   "outputs": [],
   "source": [
    "from sklearn.metrics import accuracy_score, precision_score, recall_score, f1_score, confusion_matrix\n",
    "from sklearn.model_selection import train_test_split\n",
    "from sklearn.ensemble import RandomForestClassifier\n",
    "from sklearn.linear_model import LogisticRegression\n",
    "from sklearn.neighbors import KNeighborsClassifier\n",
    "from sklearn.preprocessing import StandardScaler\n",
    "from sklearn.neural_network import MLPClassifier\n",
    "from sklearn.tree import DecisionTreeClassifier\n",
    "from sklearn.ensemble import AdaBoostClassifier\n",
    "from sklearn.naive_bayes import GaussianNB\n",
    "from sklearn.svm import SVC"
   ]
  },
  {
   "cell_type": "code",
   "execution_count": 55,
   "metadata": {
    "ExecuteTime": {
     "end_time": "2020-11-20T11:42:37.569208Z",
     "start_time": "2020-11-20T11:42:37.564681Z"
    }
   },
   "outputs": [],
   "source": [
    "sys.path.append(os.path.abspath(os.path.join('..')))"
   ]
  },
  {
   "cell_type": "code",
   "execution_count": 59,
   "metadata": {
    "ExecuteTime": {
     "end_time": "2020-11-20T11:48:23.360214Z",
     "start_time": "2020-11-20T11:48:21.055787Z"
    }
   },
   "outputs": [],
   "source": [
    "%load_ext autoreload\n",
    "%autoreload 2"
   ]
  },
  {
   "cell_type": "code",
   "execution_count": 60,
   "metadata": {
    "ExecuteTime": {
     "end_time": "2020-11-20T11:48:25.520522Z",
     "start_time": "2020-11-20T11:48:24.903038Z"
    }
   },
   "outputs": [],
   "source": [
    "from helpers.db_connector import MySQLConnector\n",
    "from helpers.feature_extraction import *\n",
    "from helpers.data_process import *\n",
    "from helpers.db_query import *\n",
    "from helpers.time import *"
   ]
  },
  {
   "cell_type": "code",
   "execution_count": 61,
   "metadata": {
    "ExecuteTime": {
     "end_time": "2020-11-20T11:48:33.785712Z",
     "start_time": "2020-11-20T11:48:33.734166Z"
    }
   },
   "outputs": [],
   "source": [
    "from extractors.boroujeni_et_al import BoroujeniEtAl\n",
    "from extractors.lalle_conati import LalleConati\n",
    "from extractors.lemay_doleck import LemayDoleck"
   ]
  },
  {
   "cell_type": "code",
   "execution_count": 62,
   "metadata": {
    "ExecuteTime": {
     "end_time": "2020-11-20T11:48:34.789003Z",
     "start_time": "2020-11-20T11:48:34.735075Z"
    }
   },
   "outputs": [],
   "source": [
    "import warnings\n",
    "warnings.filterwarnings('ignore')"
   ]
  },
  {
   "cell_type": "markdown",
   "metadata": {},
   "source": [
    "## Linear Algebra Dataset from Courseware\n",
    "\n",
    "Since Fall 2017, the stream of the EPFL's Linear Algebra course has been taught in a flipped format. The implementation of the flipped classroom was carried out in an incremental manner, as described below:\n",
    "\n",
    "- **Year 2017-2018**: traditional manner (weeks 1-13) - flipped manner (week 14).\n",
    "- **Year 2018-2019**: traditional manner (weeks 1-4, 10-14) - flipped manner (weeks 5-9).\n",
    "- **Year 2019-2020**: traditional manner (weeks 1-4) - flipped manner (weeks 5-14)."
   ]
  },
  {
   "cell_type": "code",
   "execution_count": 11,
   "metadata": {
    "ExecuteTime": {
     "end_time": "2020-11-20T10:57:08.755526Z",
     "start_time": "2020-11-20T10:57:08.749259Z"
    }
   },
   "outputs": [],
   "source": [
    "rounds = ['Y2-2018-19', 'Y3-2019-20']"
   ]
  },
  {
   "cell_type": "markdown",
   "metadata": {},
   "source": [
    "### Identifying Students\n",
    "\n",
    "\n",
    "The flipped course was offered only to volunteering students. The volunteers were collectively assigned into either the experimental and the control group. A stratified random sampling based on gender and the prior background (secondary educational level) of students were used."
   ]
  },
  {
   "cell_type": "code",
   "execution_count": 16,
   "metadata": {
    "ExecuteTime": {
     "end_time": "2020-11-20T11:06:48.595603Z",
     "start_time": "2020-11-20T11:04:41.660222Z"
    }
   },
   "outputs": [
    {
     "name": "stdout",
     "output_type": "stream",
     "text": [
      "CPU times: user 58 s, sys: 2.59 s, total: 1min\n",
      "Wall time: 2min 6s\n"
     ]
    }
   ],
   "source": [
    "%time user_data = getUserInfo(prior_knowledge=True)"
   ]
  },
  {
   "cell_type": "markdown",
   "metadata": {},
   "source": [
    "The initial data of volunteers was cleaned, and some participants were removed before we analyzed the data:\n",
    "- The volunteering students who have not been graded were removed. \n",
    "- The repeating students were filtered out, where repeating students are those accessing videos in two different years. \n",
    "- The less active students, i.e., those who have provided less 60 interactions in the platform, were removed. "
   ]
  },
  {
   "cell_type": "code",
   "execution_count": 17,
   "metadata": {
    "ExecuteTime": {
     "end_time": "2020-11-20T11:06:48.996488Z",
     "start_time": "2020-11-20T11:06:48.599544Z"
    }
   },
   "outputs": [
    {
     "data": {
      "image/png": "[encoded data removed]",
      "text/plain": [
       "<Figure size 360x360 with 1 Axes>"
      ]
     },
     "metadata": {
      "needs_background": "light"
     },
     "output_type": "display_data"
    }
   ],
   "source": [
    "sns.displot(user_data, x='Round')\n",
    "plt.ylabel('Number of Students')\n",
    "plt.show()"
   ]
  },
  {
   "cell_type": "markdown",
   "metadata": {},
   "source": [
    "Given that the Y1-2017-2018 round included only one week in a flipped classroom setting, we decided to remove the students of that round.  "
   ]
  },
  {
   "cell_type": "code",
   "execution_count": 18,
   "metadata": {
    "ExecuteTime": {
     "end_time": "2020-11-20T11:06:49.009070Z",
     "start_time": "2020-11-20T11:06:49.003265Z"
    }
   },
   "outputs": [],
   "source": [
    "user_data = user_data[user_data['Round'].isin(rounds)]"
   ]
  },
  {
   "cell_type": "code",
   "execution_count": 19,
   "metadata": {
    "ExecuteTime": {
     "end_time": "2020-11-20T11:06:49.523099Z",
     "start_time": "2020-11-20T11:06:49.014700Z"
    }
   },
   "outputs": [
    {
     "data": {
      "image/png": "[encoded data removed]",
      "text/plain": [
       "<Figure size 360x360 with 1 Axes>"
      ]
     },
     "metadata": {
      "needs_background": "light"
     },
     "output_type": "display_data"
    }
   ],
   "source": [
    "sns.displot(user_data, x='Gender')\n",
    "plt.ylabel('Number of Students')\n",
    "plt.show()"
   ]
  },
  {
   "cell_type": "markdown",
   "metadata": {},
   "source": [
    "This is how our user table looks like. "
   ]
  },
  {
   "cell_type": "code",
   "execution_count": 20,
   "metadata": {
    "ExecuteTime": {
     "end_time": "2020-11-20T11:06:49.699663Z",
     "start_time": "2020-11-20T11:06:49.534781Z"
    }
   },
   "outputs": [
    {
     "data": {
      "text/html": [
       "<div>\n",
       "<style scoped>\n",
       "    .dataframe tbody tr th:only-of-type {\n",
       "        vertical-align: middle;\n",
       "    }\n",
       "\n",
       "    .dataframe tbody tr th {\n",
       "        vertical-align: top;\n",
       "    }\n",
       "\n",
       "    .dataframe thead th {\n",
       "        text-align: right;\n",
       "    }\n",
       "</style>\n",
       "<table border=\"1\" class=\"dataframe\">\n",
       "  <thead>\n",
       "    <tr style=\"text-align: right;\">\n",
       "      <th></th>\n",
       "      <th>AccountUserID</th>\n",
       "      <th>SCIPER</th>\n",
       "      <th>Round</th>\n",
       "      <th>Category</th>\n",
       "      <th>Gender</th>\n",
       "    </tr>\n",
       "  </thead>\n",
       "  <tbody>\n",
       "    <tr>\n",
       "      <th>22</th>\n",
       "      <td>46473</td>\n",
       "      <td>302928</td>\n",
       "      <td>Y2-2018-19</td>\n",
       "      <td>France</td>\n",
       "      <td>M</td>\n",
       "    </tr>\n",
       "    <tr>\n",
       "      <th>23</th>\n",
       "      <td>47067</td>\n",
       "      <td>300559</td>\n",
       "      <td>Y2-2018-19</td>\n",
       "      <td>Suisse.PAM</td>\n",
       "      <td>M</td>\n",
       "    </tr>\n",
       "    <tr>\n",
       "      <th>24</th>\n",
       "      <td>46551</td>\n",
       "      <td>301288</td>\n",
       "      <td>Y2-2018-19</td>\n",
       "      <td>Suisse.Autres</td>\n",
       "      <td>M</td>\n",
       "    </tr>\n",
       "    <tr>\n",
       "      <th>25</th>\n",
       "      <td>46485</td>\n",
       "      <td>302150</td>\n",
       "      <td>Y2-2018-19</td>\n",
       "      <td>France</td>\n",
       "      <td>F</td>\n",
       "    </tr>\n",
       "    <tr>\n",
       "      <th>26</th>\n",
       "      <td>49095</td>\n",
       "      <td>299657</td>\n",
       "      <td>Y2-2018-19</td>\n",
       "      <td>France</td>\n",
       "      <td>F</td>\n",
       "    </tr>\n",
       "  </tbody>\n",
       "</table>\n",
       "</div>"
      ],
      "text/plain": [
       "   AccountUserID  SCIPER       Round       Category Gender\n",
       "22         46473  302928  Y2-2018-19         France      M\n",
       "23         47067  300559  Y2-2018-19     Suisse.PAM      M\n",
       "24         46551  301288  Y2-2018-19  Suisse.Autres      M\n",
       "25         46485  302150  Y2-2018-19         France      F\n",
       "26         49095  299657  Y2-2018-19         France      F"
      ]
     },
     "execution_count": 20,
     "metadata": {},
     "output_type": "execute_result"
    }
   ],
   "source": [
    "user_data.head()"
   ]
  },
  {
   "cell_type": "code",
   "execution_count": 21,
   "metadata": {
    "ExecuteTime": {
     "end_time": "2020-11-20T11:06:49.756058Z",
     "start_time": "2020-11-20T11:06:49.721689Z"
    }
   },
   "outputs": [
    {
     "data": {
      "text/plain": [
       "'Hence, we will work with 226 students.'"
      ]
     },
     "execution_count": 21,
     "metadata": {},
     "output_type": "execute_result"
    }
   ],
   "source": [
    "\"Hence, we will work with \" + str(len(user_data)) + \" students.\" "
   ]
  },
  {
   "cell_type": "markdown",
   "metadata": {},
   "source": [
    "### Getting Students' Records\n",
    "\n",
    "#### Video Clickstream Records"
   ]
  },
  {
   "cell_type": "code",
   "execution_count": 24,
   "metadata": {
    "ExecuteTime": {
     "end_time": "2020-11-20T11:23:27.594298Z",
     "start_time": "2020-11-20T11:15:55.854074Z"
    },
    "scrolled": false
   },
   "outputs": [
    {
     "name": "stdout",
     "output_type": "stream",
     "text": [
      "CPU times: user 1min 23s, sys: 6.04 s, total: 1min 29s\n",
      "Wall time: 7min 31s\n"
     ]
    }
   ],
   "source": [
    "%time video_data = getVideoEventsInfo().rename(columns={'VideoID': 'ElementID'})"
   ]
  },
  {
   "cell_type": "code",
   "execution_count": 67,
   "metadata": {
    "ExecuteTime": {
     "end_time": "2020-11-20T11:58:46.351338Z",
     "start_time": "2020-11-20T11:58:46.274200Z"
    }
   },
   "outputs": [
    {
     "data": {
      "text/html": [
       "<div>\n",
       "<style scoped>\n",
       "    .dataframe tbody tr th:only-of-type {\n",
       "        vertical-align: middle;\n",
       "    }\n",
       "\n",
       "    .dataframe tbody tr th {\n",
       "        vertical-align: top;\n",
       "    }\n",
       "\n",
       "    .dataframe thead th {\n",
       "        text-align: right;\n",
       "    }\n",
       "</style>\n",
       "<table border=\"1\" class=\"dataframe\">\n",
       "  <thead>\n",
       "    <tr style=\"text-align: right;\">\n",
       "      <th></th>\n",
       "      <th>AccountUserID</th>\n",
       "      <th>EventType</th>\n",
       "      <th>TimeStamp</th>\n",
       "      <th>ElementID</th>\n",
       "      <th>EventID</th>\n",
       "      <th>SeekType</th>\n",
       "      <th>OldTime</th>\n",
       "      <th>CurrentTime</th>\n",
       "      <th>NewTime</th>\n",
       "      <th>OldSpeed</th>\n",
       "      <th>NewSpeed</th>\n",
       "      <th>Round</th>\n",
       "      <th>ID.Anon</th>\n",
       "      <th>Title</th>\n",
       "      <th>Source</th>\n",
       "      <th>Subchapter</th>\n",
       "      <th>Duration</th>\n",
       "    </tr>\n",
       "  </thead>\n",
       "  <tbody>\n",
       "    <tr>\n",
       "      <th>0</th>\n",
       "      <td>95017</td>\n",
       "      <td>Video.Play</td>\n",
       "      <td>1570355725</td>\n",
       "      <td>ca2fa02b0daa43f295e76da61e53de2a</td>\n",
       "      <td>7e86b0cc3b0a72a4a1f1029dffb2abe4</td>\n",
       "      <td>None</td>\n",
       "      <td>NaN</td>\n",
       "      <td>553.294000</td>\n",
       "      <td>NaN</td>\n",
       "      <td>NaN</td>\n",
       "      <td>NaN</td>\n",
       "      <td>Y3-2019-20</td>\n",
       "      <td>3442T2003</td>\n",
       "      <td>Leçon</td>\n",
       "      <td>https://www.youtube.com/watch?v=AFtb4KxwYGY</td>\n",
       "      <td>3.5</td>\n",
       "      <td>NaN</td>\n",
       "    </tr>\n",
       "    <tr>\n",
       "      <th>1</th>\n",
       "      <td>95017</td>\n",
       "      <td>Video.Play</td>\n",
       "      <td>1570355899</td>\n",
       "      <td>ca2fa02b0daa43f295e76da61e53de2a</td>\n",
       "      <td>ca6e7fd174fdad0f3d87c29a579d4563</td>\n",
       "      <td>None</td>\n",
       "      <td>NaN</td>\n",
       "      <td>566.935000</td>\n",
       "      <td>NaN</td>\n",
       "      <td>NaN</td>\n",
       "      <td>NaN</td>\n",
       "      <td>Y3-2019-20</td>\n",
       "      <td>3442T2003</td>\n",
       "      <td>Leçon</td>\n",
       "      <td>https://www.youtube.com/watch?v=AFtb4KxwYGY</td>\n",
       "      <td>3.5</td>\n",
       "      <td>NaN</td>\n",
       "    </tr>\n",
       "    <tr>\n",
       "      <th>2</th>\n",
       "      <td>95017</td>\n",
       "      <td>Video.Play</td>\n",
       "      <td>1570355940</td>\n",
       "      <td>ca2fa02b0daa43f295e76da61e53de2a</td>\n",
       "      <td>98a2650f8227bc7dc1350078b0568ef7</td>\n",
       "      <td>None</td>\n",
       "      <td>NaN</td>\n",
       "      <td>604.909000</td>\n",
       "      <td>NaN</td>\n",
       "      <td>NaN</td>\n",
       "      <td>NaN</td>\n",
       "      <td>Y3-2019-20</td>\n",
       "      <td>3442T2003</td>\n",
       "      <td>Leçon</td>\n",
       "      <td>https://www.youtube.com/watch?v=AFtb4KxwYGY</td>\n",
       "      <td>3.5</td>\n",
       "      <td>NaN</td>\n",
       "    </tr>\n",
       "    <tr>\n",
       "      <th>3</th>\n",
       "      <td>95017</td>\n",
       "      <td>Video.Pause</td>\n",
       "      <td>1570355694</td>\n",
       "      <td>ca2fa02b0daa43f295e76da61e53de2a</td>\n",
       "      <td>1a9f2889bc8e00ad4d0c1ed634adb7d4</td>\n",
       "      <td>None</td>\n",
       "      <td>NaN</td>\n",
       "      <td>536.849000</td>\n",
       "      <td>NaN</td>\n",
       "      <td>NaN</td>\n",
       "      <td>NaN</td>\n",
       "      <td>Y3-2019-20</td>\n",
       "      <td>3442T2003</td>\n",
       "      <td>Leçon</td>\n",
       "      <td>https://www.youtube.com/watch?v=AFtb4KxwYGY</td>\n",
       "      <td>3.5</td>\n",
       "      <td>NaN</td>\n",
       "    </tr>\n",
       "    <tr>\n",
       "      <th>4</th>\n",
       "      <td>95017</td>\n",
       "      <td>Video.Pause</td>\n",
       "      <td>1570355760</td>\n",
       "      <td>ca2fa02b0daa43f295e76da61e53de2a</td>\n",
       "      <td>cd129eac330b9e3459de4e8e8f7b52dd</td>\n",
       "      <td>None</td>\n",
       "      <td>NaN</td>\n",
       "      <td>580.125000</td>\n",
       "      <td>NaN</td>\n",
       "      <td>NaN</td>\n",
       "      <td>NaN</td>\n",
       "      <td>Y3-2019-20</td>\n",
       "      <td>3442T2003</td>\n",
       "      <td>Leçon</td>\n",
       "      <td>https://www.youtube.com/watch?v=AFtb4KxwYGY</td>\n",
       "      <td>3.5</td>\n",
       "      <td>NaN</td>\n",
       "    </tr>\n",
       "    <tr>\n",
       "      <th>...</th>\n",
       "      <td>...</td>\n",
       "      <td>...</td>\n",
       "      <td>...</td>\n",
       "      <td>...</td>\n",
       "      <td>...</td>\n",
       "      <td>...</td>\n",
       "      <td>...</td>\n",
       "      <td>...</td>\n",
       "      <td>...</td>\n",
       "      <td>...</td>\n",
       "      <td>...</td>\n",
       "      <td>...</td>\n",
       "      <td>...</td>\n",
       "      <td>...</td>\n",
       "      <td>...</td>\n",
       "      <td>...</td>\n",
       "      <td>...</td>\n",
       "    </tr>\n",
       "    <tr>\n",
       "      <th>1525114</th>\n",
       "      <td>9716</td>\n",
       "      <td>Video.Play</td>\n",
       "      <td>1508147668</td>\n",
       "      <td>73f3f756e43047c0b161c9ea29fb08a2</td>\n",
       "      <td>53399faef934e31065a935685be1e011</td>\n",
       "      <td>None</td>\n",
       "      <td>NaN</td>\n",
       "      <td>0.004057</td>\n",
       "      <td>NaN</td>\n",
       "      <td>NaN</td>\n",
       "      <td>NaN</td>\n",
       "      <td>Y1-2017-18</td>\n",
       "      <td>2036T1165</td>\n",
       "      <td>Leçon</td>\n",
       "      <td>https://www.youtube.com/watch?v=cP8XZvDhtZc</td>\n",
       "      <td>3.9</td>\n",
       "      <td>726.0</td>\n",
       "    </tr>\n",
       "    <tr>\n",
       "      <th>1525115</th>\n",
       "      <td>9716</td>\n",
       "      <td>Video.Pause</td>\n",
       "      <td>1508148605</td>\n",
       "      <td>73f3f756e43047c0b161c9ea29fb08a2</td>\n",
       "      <td>a49916e8a0310558f07334b667dd5430</td>\n",
       "      <td>None</td>\n",
       "      <td>NaN</td>\n",
       "      <td>523.776000</td>\n",
       "      <td>NaN</td>\n",
       "      <td>NaN</td>\n",
       "      <td>NaN</td>\n",
       "      <td>Y1-2017-18</td>\n",
       "      <td>2036T1165</td>\n",
       "      <td>Leçon</td>\n",
       "      <td>https://www.youtube.com/watch?v=cP8XZvDhtZc</td>\n",
       "      <td>3.9</td>\n",
       "      <td>726.0</td>\n",
       "    </tr>\n",
       "    <tr>\n",
       "      <th>1525116</th>\n",
       "      <td>9716</td>\n",
       "      <td>Video.Play</td>\n",
       "      <td>1508148959</td>\n",
       "      <td>73f3f756e43047c0b161c9ea29fb08a2</td>\n",
       "      <td>53c8bbab4a8b3b97d5a88a093e6c3210</td>\n",
       "      <td>None</td>\n",
       "      <td>NaN</td>\n",
       "      <td>596.810000</td>\n",
       "      <td>NaN</td>\n",
       "      <td>NaN</td>\n",
       "      <td>NaN</td>\n",
       "      <td>Y1-2017-18</td>\n",
       "      <td>2036T1165</td>\n",
       "      <td>Leçon</td>\n",
       "      <td>https://www.youtube.com/watch?v=cP8XZvDhtZc</td>\n",
       "      <td>3.9</td>\n",
       "      <td>726.0</td>\n",
       "    </tr>\n",
       "    <tr>\n",
       "      <th>1525117</th>\n",
       "      <td>9716</td>\n",
       "      <td>Video.Load</td>\n",
       "      <td>1508147664</td>\n",
       "      <td>73f3f756e43047c0b161c9ea29fb08a2</td>\n",
       "      <td>e752bca5fdcf3b1dbff051578a1429ac</td>\n",
       "      <td>None</td>\n",
       "      <td>NaN</td>\n",
       "      <td>NaN</td>\n",
       "      <td>NaN</td>\n",
       "      <td>NaN</td>\n",
       "      <td>NaN</td>\n",
       "      <td>Y1-2017-18</td>\n",
       "      <td>2036T1165</td>\n",
       "      <td>Leçon</td>\n",
       "      <td>https://www.youtube.com/watch?v=cP8XZvDhtZc</td>\n",
       "      <td>3.9</td>\n",
       "      <td>726.0</td>\n",
       "    </tr>\n",
       "    <tr>\n",
       "      <th>1525118</th>\n",
       "      <td>9716</td>\n",
       "      <td>Video.Play</td>\n",
       "      <td>1508148391</td>\n",
       "      <td>73f3f756e43047c0b161c9ea29fb08a2</td>\n",
       "      <td>28200d60bba868833a974ed330d3867b</td>\n",
       "      <td>None</td>\n",
       "      <td>NaN</td>\n",
       "      <td>284.728000</td>\n",
       "      <td>NaN</td>\n",
       "      <td>NaN</td>\n",
       "      <td>NaN</td>\n",
       "      <td>Y1-2017-18</td>\n",
       "      <td>2036T1165</td>\n",
       "      <td>Leçon</td>\n",
       "      <td>https://www.youtube.com/watch?v=cP8XZvDhtZc</td>\n",
       "      <td>3.9</td>\n",
       "      <td>726.0</td>\n",
       "    </tr>\n",
       "  </tbody>\n",
       "</table>\n",
       "<p>1525119 rows × 17 columns</p>\n",
       "</div>"
      ],
      "text/plain": [
       "        AccountUserID    EventType   TimeStamp  \\\n",
       "0               95017   Video.Play  1570355725   \n",
       "1               95017   Video.Play  1570355899   \n",
       "2               95017   Video.Play  1570355940   \n",
       "3               95017  Video.Pause  1570355694   \n",
       "4               95017  Video.Pause  1570355760   \n",
       "...               ...          ...         ...   \n",
       "1525114          9716   Video.Play  1508147668   \n",
       "1525115          9716  Video.Pause  1508148605   \n",
       "1525116          9716   Video.Play  1508148959   \n",
       "1525117          9716   Video.Load  1508147664   \n",
       "1525118          9716   Video.Play  1508148391   \n",
       "\n",
       "                                ElementID                           EventID  \\\n",
       "0        ca2fa02b0daa43f295e76da61e53de2a  7e86b0cc3b0a72a4a1f1029dffb2abe4   \n",
       "1        ca2fa02b0daa43f295e76da61e53de2a  ca6e7fd174fdad0f3d87c29a579d4563   \n",
       "2        ca2fa02b0daa43f295e76da61e53de2a  98a2650f8227bc7dc1350078b0568ef7   \n",
       "3        ca2fa02b0daa43f295e76da61e53de2a  1a9f2889bc8e00ad4d0c1ed634adb7d4   \n",
       "4        ca2fa02b0daa43f295e76da61e53de2a  cd129eac330b9e3459de4e8e8f7b52dd   \n",
       "...                                   ...                               ...   \n",
       "1525114  73f3f756e43047c0b161c9ea29fb08a2  53399faef934e31065a935685be1e011   \n",
       "1525115  73f3f756e43047c0b161c9ea29fb08a2  a49916e8a0310558f07334b667dd5430   \n",
       "1525116  73f3f756e43047c0b161c9ea29fb08a2  53c8bbab4a8b3b97d5a88a093e6c3210   \n",
       "1525117  73f3f756e43047c0b161c9ea29fb08a2  e752bca5fdcf3b1dbff051578a1429ac   \n",
       "1525118  73f3f756e43047c0b161c9ea29fb08a2  28200d60bba868833a974ed330d3867b   \n",
       "\n",
       "        SeekType  OldTime  CurrentTime  NewTime  OldSpeed  NewSpeed  \\\n",
       "0           None      NaN   553.294000      NaN       NaN       NaN   \n",
       "1           None      NaN   566.935000      NaN       NaN       NaN   \n",
       "2           None      NaN   604.909000      NaN       NaN       NaN   \n",
       "3           None      NaN   536.849000      NaN       NaN       NaN   \n",
       "4           None      NaN   580.125000      NaN       NaN       NaN   \n",
       "...          ...      ...          ...      ...       ...       ...   \n",
       "1525114     None      NaN     0.004057      NaN       NaN       NaN   \n",
       "1525115     None      NaN   523.776000      NaN       NaN       NaN   \n",
       "1525116     None      NaN   596.810000      NaN       NaN       NaN   \n",
       "1525117     None      NaN          NaN      NaN       NaN       NaN   \n",
       "1525118     None      NaN   284.728000      NaN       NaN       NaN   \n",
       "\n",
       "              Round    ID.Anon  Title  \\\n",
       "0        Y3-2019-20  3442T2003  Leçon   \n",
       "1        Y3-2019-20  3442T2003  Leçon   \n",
       "2        Y3-2019-20  3442T2003  Leçon   \n",
       "3        Y3-2019-20  3442T2003  Leçon   \n",
       "4        Y3-2019-20  3442T2003  Leçon   \n",
       "...             ...        ...    ...   \n",
       "1525114  Y1-2017-18  2036T1165  Leçon   \n",
       "1525115  Y1-2017-18  2036T1165  Leçon   \n",
       "1525116  Y1-2017-18  2036T1165  Leçon   \n",
       "1525117  Y1-2017-18  2036T1165  Leçon   \n",
       "1525118  Y1-2017-18  2036T1165  Leçon   \n",
       "\n",
       "                                              Source  Subchapter  Duration  \n",
       "0        https://www.youtube.com/watch?v=AFtb4KxwYGY         3.5       NaN  \n",
       "1        https://www.youtube.com/watch?v=AFtb4KxwYGY         3.5       NaN  \n",
       "2        https://www.youtube.com/watch?v=AFtb4KxwYGY         3.5       NaN  \n",
       "3        https://www.youtube.com/watch?v=AFtb4KxwYGY         3.5       NaN  \n",
       "4        https://www.youtube.com/watch?v=AFtb4KxwYGY         3.5       NaN  \n",
       "...                                              ...         ...       ...  \n",
       "1525114  https://www.youtube.com/watch?v=cP8XZvDhtZc         3.9     726.0  \n",
       "1525115  https://www.youtube.com/watch?v=cP8XZvDhtZc         3.9     726.0  \n",
       "1525116  https://www.youtube.com/watch?v=cP8XZvDhtZc         3.9     726.0  \n",
       "1525117  https://www.youtube.com/watch?v=cP8XZvDhtZc         3.9     726.0  \n",
       "1525118  https://www.youtube.com/watch?v=cP8XZvDhtZc         3.9     726.0  \n",
       "\n",
       "[1525119 rows x 17 columns]"
      ]
     },
     "execution_count": 67,
     "metadata": {},
     "output_type": "execute_result"
    }
   ],
   "source": [
    "all_video_data"
   ]
  },
  {
   "cell_type": "code",
   "execution_count": 25,
   "metadata": {
    "ExecuteTime": {
     "end_time": "2020-11-20T11:23:28.359830Z",
     "start_time": "2020-11-20T11:23:27.606049Z"
    }
   },
   "outputs": [],
   "source": [
    "video_data = video_data[video_data['Round'].isin(rounds)]"
   ]
  },
  {
   "cell_type": "markdown",
   "metadata": {},
   "source": [
    "This is how our video event table looks like."
   ]
  },
  {
   "cell_type": "code",
   "execution_count": 26,
   "metadata": {
    "ExecuteTime": {
     "end_time": "2020-11-20T11:23:28.390138Z",
     "start_time": "2020-11-20T11:23:28.365029Z"
    }
   },
   "outputs": [
    {
     "data": {
      "text/html": [
       "<div>\n",
       "<style scoped>\n",
       "    .dataframe tbody tr th:only-of-type {\n",
       "        vertical-align: middle;\n",
       "    }\n",
       "\n",
       "    .dataframe tbody tr th {\n",
       "        vertical-align: top;\n",
       "    }\n",
       "\n",
       "    .dataframe thead th {\n",
       "        text-align: right;\n",
       "    }\n",
       "</style>\n",
       "<table border=\"1\" class=\"dataframe\">\n",
       "  <thead>\n",
       "    <tr style=\"text-align: right;\">\n",
       "      <th></th>\n",
       "      <th>AccountUserID</th>\n",
       "      <th>EventType</th>\n",
       "      <th>TimeStamp</th>\n",
       "      <th>ElementID</th>\n",
       "      <th>EventID</th>\n",
       "      <th>Round</th>\n",
       "      <th>ID.Anon</th>\n",
       "      <th>Title</th>\n",
       "      <th>Source</th>\n",
       "      <th>Subchapter</th>\n",
       "      <th>Duration</th>\n",
       "    </tr>\n",
       "  </thead>\n",
       "  <tbody>\n",
       "    <tr>\n",
       "      <th>0</th>\n",
       "      <td>95017</td>\n",
       "      <td>Video.Play</td>\n",
       "      <td>1570355725</td>\n",
       "      <td>ca2fa02b0daa43f295e76da61e53de2a</td>\n",
       "      <td>7e86b0cc3b0a72a4a1f1029dffb2abe4</td>\n",
       "      <td>Y3-2019-20</td>\n",
       "      <td>3442T2003</td>\n",
       "      <td>Leçon</td>\n",
       "      <td>https://www.youtube.com/watch?v=AFtb4KxwYGY</td>\n",
       "      <td>3.5</td>\n",
       "      <td>NaN</td>\n",
       "    </tr>\n",
       "    <tr>\n",
       "      <th>1</th>\n",
       "      <td>95017</td>\n",
       "      <td>Video.Play</td>\n",
       "      <td>1570355899</td>\n",
       "      <td>ca2fa02b0daa43f295e76da61e53de2a</td>\n",
       "      <td>ca6e7fd174fdad0f3d87c29a579d4563</td>\n",
       "      <td>Y3-2019-20</td>\n",
       "      <td>3442T2003</td>\n",
       "      <td>Leçon</td>\n",
       "      <td>https://www.youtube.com/watch?v=AFtb4KxwYGY</td>\n",
       "      <td>3.5</td>\n",
       "      <td>NaN</td>\n",
       "    </tr>\n",
       "    <tr>\n",
       "      <th>2</th>\n",
       "      <td>95017</td>\n",
       "      <td>Video.Play</td>\n",
       "      <td>1570355940</td>\n",
       "      <td>ca2fa02b0daa43f295e76da61e53de2a</td>\n",
       "      <td>98a2650f8227bc7dc1350078b0568ef7</td>\n",
       "      <td>Y3-2019-20</td>\n",
       "      <td>3442T2003</td>\n",
       "      <td>Leçon</td>\n",
       "      <td>https://www.youtube.com/watch?v=AFtb4KxwYGY</td>\n",
       "      <td>3.5</td>\n",
       "      <td>NaN</td>\n",
       "    </tr>\n",
       "    <tr>\n",
       "      <th>3</th>\n",
       "      <td>95017</td>\n",
       "      <td>Video.Pause</td>\n",
       "      <td>1570355694</td>\n",
       "      <td>ca2fa02b0daa43f295e76da61e53de2a</td>\n",
       "      <td>1a9f2889bc8e00ad4d0c1ed634adb7d4</td>\n",
       "      <td>Y3-2019-20</td>\n",
       "      <td>3442T2003</td>\n",
       "      <td>Leçon</td>\n",
       "      <td>https://www.youtube.com/watch?v=AFtb4KxwYGY</td>\n",
       "      <td>3.5</td>\n",
       "      <td>NaN</td>\n",
       "    </tr>\n",
       "    <tr>\n",
       "      <th>4</th>\n",
       "      <td>95017</td>\n",
       "      <td>Video.Pause</td>\n",
       "      <td>1570355760</td>\n",
       "      <td>ca2fa02b0daa43f295e76da61e53de2a</td>\n",
       "      <td>cd129eac330b9e3459de4e8e8f7b52dd</td>\n",
       "      <td>Y3-2019-20</td>\n",
       "      <td>3442T2003</td>\n",
       "      <td>Leçon</td>\n",
       "      <td>https://www.youtube.com/watch?v=AFtb4KxwYGY</td>\n",
       "      <td>3.5</td>\n",
       "      <td>NaN</td>\n",
       "    </tr>\n",
       "  </tbody>\n",
       "</table>\n",
       "</div>"
      ],
      "text/plain": [
       "  AccountUserID    EventType   TimeStamp                         ElementID  \\\n",
       "0         95017   Video.Play  1570355725  ca2fa02b0daa43f295e76da61e53de2a   \n",
       "1         95017   Video.Play  1570355899  ca2fa02b0daa43f295e76da61e53de2a   \n",
       "2         95017   Video.Play  1570355940  ca2fa02b0daa43f295e76da61e53de2a   \n",
       "3         95017  Video.Pause  1570355694  ca2fa02b0daa43f295e76da61e53de2a   \n",
       "4         95017  Video.Pause  1570355760  ca2fa02b0daa43f295e76da61e53de2a   \n",
       "\n",
       "                            EventID       Round    ID.Anon  Title  \\\n",
       "0  7e86b0cc3b0a72a4a1f1029dffb2abe4  Y3-2019-20  3442T2003  Leçon   \n",
       "1  ca6e7fd174fdad0f3d87c29a579d4563  Y3-2019-20  3442T2003  Leçon   \n",
       "2  98a2650f8227bc7dc1350078b0568ef7  Y3-2019-20  3442T2003  Leçon   \n",
       "3  1a9f2889bc8e00ad4d0c1ed634adb7d4  Y3-2019-20  3442T2003  Leçon   \n",
       "4  cd129eac330b9e3459de4e8e8f7b52dd  Y3-2019-20  3442T2003  Leçon   \n",
       "\n",
       "                                        Source  Subchapter  Duration  \n",
       "0  https://www.youtube.com/watch?v=AFtb4KxwYGY         3.5       NaN  \n",
       "1  https://www.youtube.com/watch?v=AFtb4KxwYGY         3.5       NaN  \n",
       "2  https://www.youtube.com/watch?v=AFtb4KxwYGY         3.5       NaN  \n",
       "3  https://www.youtube.com/watch?v=AFtb4KxwYGY         3.5       NaN  \n",
       "4  https://www.youtube.com/watch?v=AFtb4KxwYGY         3.5       NaN  "
      ]
     },
     "execution_count": 26,
     "metadata": {},
     "output_type": "execute_result"
    }
   ],
   "source": [
    "video_data.head()"
   ]
  },
  {
   "cell_type": "code",
   "execution_count": 27,
   "metadata": {
    "ExecuteTime": {
     "end_time": "2020-11-20T11:23:28.405445Z",
     "start_time": "2020-11-20T11:23:28.396027Z"
    }
   },
   "outputs": [
    {
     "data": {
      "text/plain": [
       "'Hence, we will work with 1416106 video interactions.'"
      ]
     },
     "execution_count": 27,
     "metadata": {},
     "output_type": "execute_result"
    }
   ],
   "source": [
    "\"Hence, we will work with \" + str(len(video_data)) + \" video interactions.\" "
   ]
  },
  {
   "cell_type": "markdown",
   "metadata": {},
   "source": [
    "#### Problem Clickstream Records"
   ]
  },
  {
   "cell_type": "code",
   "execution_count": 28,
   "metadata": {
    "ExecuteTime": {
     "end_time": "2020-11-20T11:25:28.617283Z",
     "start_time": "2020-11-20T11:23:28.408976Z"
    }
   },
   "outputs": [
    {
     "name": "stdout",
     "output_type": "stream",
     "text": [
      "CPU times: user 1min 6s, sys: 2.75 s, total: 1min 8s\n",
      "Wall time: 2min\n"
     ]
    }
   ],
   "source": [
    "%time problem_data = getProblemEventsInfo().rename(columns={'ProblemID': 'ElementID'})"
   ]
  },
  {
   "cell_type": "code",
   "execution_count": 29,
   "metadata": {
    "ExecuteTime": {
     "end_time": "2020-11-20T11:25:28.805056Z",
     "start_time": "2020-11-20T11:25:28.619947Z"
    }
   },
   "outputs": [],
   "source": [
    "problem_data = problem_data[problem_data['Round'].isin(rounds)]"
   ]
  },
  {
   "cell_type": "markdown",
   "metadata": {},
   "source": [
    "This is how our problem event table looks like."
   ]
  },
  {
   "cell_type": "code",
   "execution_count": 30,
   "metadata": {
    "ExecuteTime": {
     "end_time": "2020-11-20T11:25:28.827721Z",
     "start_time": "2020-11-20T11:25:28.807319Z"
    }
   },
   "outputs": [
    {
     "data": {
      "text/html": [
       "<div>\n",
       "<style scoped>\n",
       "    .dataframe tbody tr th:only-of-type {\n",
       "        vertical-align: middle;\n",
       "    }\n",
       "\n",
       "    .dataframe tbody tr th {\n",
       "        vertical-align: top;\n",
       "    }\n",
       "\n",
       "    .dataframe thead th {\n",
       "        text-align: right;\n",
       "    }\n",
       "</style>\n",
       "<table border=\"1\" class=\"dataframe\">\n",
       "  <thead>\n",
       "    <tr style=\"text-align: right;\">\n",
       "      <th></th>\n",
       "      <th>AccountUserID</th>\n",
       "      <th>ElementID</th>\n",
       "      <th>EventID</th>\n",
       "      <th>EventType</th>\n",
       "      <th>TimeStamp</th>\n",
       "      <th>ProblemType</th>\n",
       "      <th>MaximumSubmissions</th>\n",
       "      <th>Round</th>\n",
       "      <th>ID.Anon</th>\n",
       "      <th>Subchapter</th>\n",
       "    </tr>\n",
       "  </thead>\n",
       "  <tbody>\n",
       "    <tr>\n",
       "      <th>0</th>\n",
       "      <td>46461</td>\n",
       "      <td>ca64971b751847c798f5ff753e3eddfe</td>\n",
       "      <td>48a1d90b23540db487ffbb6b8234e873</td>\n",
       "      <td>Problem.Check</td>\n",
       "      <td>1547885100</td>\n",
       "      <td>Quiz</td>\n",
       "      <td>NaN</td>\n",
       "      <td>Y2-2018-19</td>\n",
       "      <td>1316T729</td>\n",
       "      <td>3.4</td>\n",
       "    </tr>\n",
       "    <tr>\n",
       "      <th>1</th>\n",
       "      <td>46461</td>\n",
       "      <td>ca64971b751847c798f5ff753e3eddfe</td>\n",
       "      <td>afd03bceafc651e5a3c47b18a02b1ad5</td>\n",
       "      <td>Problem.Check</td>\n",
       "      <td>1547885080</td>\n",
       "      <td>Quiz</td>\n",
       "      <td>NaN</td>\n",
       "      <td>Y2-2018-19</td>\n",
       "      <td>1316T729</td>\n",
       "      <td>3.4</td>\n",
       "    </tr>\n",
       "    <tr>\n",
       "      <th>2</th>\n",
       "      <td>46461</td>\n",
       "      <td>ca64971b751847c798f5ff753e3eddfe</td>\n",
       "      <td>1874f3671ab8ccb7303ec0fb7eaa293e</td>\n",
       "      <td>Problem.Check</td>\n",
       "      <td>1547885072</td>\n",
       "      <td>Quiz</td>\n",
       "      <td>NaN</td>\n",
       "      <td>Y2-2018-19</td>\n",
       "      <td>1316T729</td>\n",
       "      <td>3.4</td>\n",
       "    </tr>\n",
       "    <tr>\n",
       "      <th>3</th>\n",
       "      <td>46461</td>\n",
       "      <td>ca64971b751847c798f5ff753e3eddfe</td>\n",
       "      <td>7d1f8148e15577ec152369346c103935</td>\n",
       "      <td>Problem.Check</td>\n",
       "      <td>1547885090</td>\n",
       "      <td>Quiz</td>\n",
       "      <td>NaN</td>\n",
       "      <td>Y2-2018-19</td>\n",
       "      <td>1316T729</td>\n",
       "      <td>3.4</td>\n",
       "    </tr>\n",
       "    <tr>\n",
       "      <th>4</th>\n",
       "      <td>46461</td>\n",
       "      <td>ca64971b751847c798f5ff753e3eddfe</td>\n",
       "      <td>42d7c21581cd80837ecc61b5ef5370e6</td>\n",
       "      <td>Problem.Check</td>\n",
       "      <td>1547885080</td>\n",
       "      <td>Quiz</td>\n",
       "      <td>NaN</td>\n",
       "      <td>Y2-2018-19</td>\n",
       "      <td>1316T729</td>\n",
       "      <td>3.4</td>\n",
       "    </tr>\n",
       "  </tbody>\n",
       "</table>\n",
       "</div>"
      ],
      "text/plain": [
       "  AccountUserID                         ElementID  \\\n",
       "0         46461  ca64971b751847c798f5ff753e3eddfe   \n",
       "1         46461  ca64971b751847c798f5ff753e3eddfe   \n",
       "2         46461  ca64971b751847c798f5ff753e3eddfe   \n",
       "3         46461  ca64971b751847c798f5ff753e3eddfe   \n",
       "4         46461  ca64971b751847c798f5ff753e3eddfe   \n",
       "\n",
       "                            EventID      EventType   TimeStamp ProblemType  \\\n",
       "0  48a1d90b23540db487ffbb6b8234e873  Problem.Check  1547885100        Quiz   \n",
       "1  afd03bceafc651e5a3c47b18a02b1ad5  Problem.Check  1547885080        Quiz   \n",
       "2  1874f3671ab8ccb7303ec0fb7eaa293e  Problem.Check  1547885072        Quiz   \n",
       "3  7d1f8148e15577ec152369346c103935  Problem.Check  1547885090        Quiz   \n",
       "4  42d7c21581cd80837ecc61b5ef5370e6  Problem.Check  1547885080        Quiz   \n",
       "\n",
       "   MaximumSubmissions       Round   ID.Anon  Subchapter  \n",
       "0                 NaN  Y2-2018-19  1316T729         3.4  \n",
       "1                 NaN  Y2-2018-19  1316T729         3.4  \n",
       "2                 NaN  Y2-2018-19  1316T729         3.4  \n",
       "3                 NaN  Y2-2018-19  1316T729         3.4  \n",
       "4                 NaN  Y2-2018-19  1316T729         3.4  "
      ]
     },
     "execution_count": 30,
     "metadata": {},
     "output_type": "execute_result"
    }
   ],
   "source": [
    "problem_data.head()"
   ]
  },
  {
   "cell_type": "code",
   "execution_count": 31,
   "metadata": {
    "ExecuteTime": {
     "end_time": "2020-11-20T11:25:28.838507Z",
     "start_time": "2020-11-20T11:25:28.832748Z"
    }
   },
   "outputs": [
    {
     "data": {
      "text/plain": [
       "'Hence, we will work with 473924 problem interactions.'"
      ]
     },
     "execution_count": 31,
     "metadata": {},
     "output_type": "execute_result"
    }
   ],
   "source": [
    "\"Hence, we will work with \" + str(len(problem_data)) + \" problem interactions.\" "
   ]
  },
  {
   "cell_type": "markdown",
   "metadata": {},
   "source": [
    "#### Exam Records"
   ]
  },
  {
   "cell_type": "code",
   "execution_count": 32,
   "metadata": {
    "ExecuteTime": {
     "end_time": "2020-11-20T11:27:57.814183Z",
     "start_time": "2020-11-20T11:25:28.842045Z"
    }
   },
   "outputs": [
    {
     "name": "stdout",
     "output_type": "stream",
     "text": [
      "CPU times: user 1min 3s, sys: 2.81 s, total: 1min 6s\n",
      "Wall time: 2min 28s\n"
     ]
    }
   ],
   "source": [
    "%time exam_data = getExamInfo()"
   ]
  },
  {
   "cell_type": "markdown",
   "metadata": {},
   "source": [
    "We filter the exam records of students who have not participated into the study"
   ]
  },
  {
   "cell_type": "code",
   "execution_count": 33,
   "metadata": {
    "ExecuteTime": {
     "end_time": "2020-11-20T11:27:57.828789Z",
     "start_time": "2020-11-20T11:27:57.819056Z"
    }
   },
   "outputs": [],
   "source": [
    "exam_data = exam_data[exam_data['Round'].isin(rounds)]"
   ]
  },
  {
   "cell_type": "markdown",
   "metadata": {},
   "source": [
    "This is how our exam data looks like. "
   ]
  },
  {
   "cell_type": "code",
   "execution_count": 34,
   "metadata": {
    "ExecuteTime": {
     "end_time": "2020-11-20T11:27:57.852429Z",
     "start_time": "2020-11-20T11:27:57.834166Z"
    }
   },
   "outputs": [
    {
     "data": {
      "text/html": [
       "<div>\n",
       "<style scoped>\n",
       "    .dataframe tbody tr th:only-of-type {\n",
       "        vertical-align: middle;\n",
       "    }\n",
       "\n",
       "    .dataframe tbody tr th {\n",
       "        vertical-align: top;\n",
       "    }\n",
       "\n",
       "    .dataframe thead th {\n",
       "        text-align: right;\n",
       "    }\n",
       "</style>\n",
       "<table border=\"1\" class=\"dataframe\">\n",
       "  <thead>\n",
       "    <tr style=\"text-align: right;\">\n",
       "      <th></th>\n",
       "      <th>Grade</th>\n",
       "      <th>GradeDate</th>\n",
       "      <th>Round</th>\n",
       "      <th>AccountUserID</th>\n",
       "    </tr>\n",
       "  </thead>\n",
       "  <tbody>\n",
       "    <tr>\n",
       "      <th>0</th>\n",
       "      <td>5.00</td>\n",
       "      <td>02.2019</td>\n",
       "      <td>Y2-2018-19</td>\n",
       "      <td>46938</td>\n",
       "    </tr>\n",
       "    <tr>\n",
       "      <th>19</th>\n",
       "      <td>5.00</td>\n",
       "      <td>02.2019</td>\n",
       "      <td>Y2-2018-19</td>\n",
       "      <td>12725</td>\n",
       "    </tr>\n",
       "    <tr>\n",
       "      <th>21</th>\n",
       "      <td>5.50</td>\n",
       "      <td>02.2019</td>\n",
       "      <td>Y2-2018-19</td>\n",
       "      <td>46575</td>\n",
       "    </tr>\n",
       "    <tr>\n",
       "      <th>24</th>\n",
       "      <td>6.00</td>\n",
       "      <td>02.2019</td>\n",
       "      <td>Y2-2018-19</td>\n",
       "      <td>46509</td>\n",
       "    </tr>\n",
       "    <tr>\n",
       "      <th>27</th>\n",
       "      <td>5.25</td>\n",
       "      <td>02.2019</td>\n",
       "      <td>Y2-2018-19</td>\n",
       "      <td>12887</td>\n",
       "    </tr>\n",
       "  </tbody>\n",
       "</table>\n",
       "</div>"
      ],
      "text/plain": [
       "    Grade GradeDate       Round AccountUserID\n",
       "0    5.00   02.2019  Y2-2018-19         46938\n",
       "19   5.00   02.2019  Y2-2018-19         12725\n",
       "21   5.50   02.2019  Y2-2018-19         46575\n",
       "24   6.00   02.2019  Y2-2018-19         46509\n",
       "27   5.25   02.2019  Y2-2018-19         12887"
      ]
     },
     "execution_count": 34,
     "metadata": {},
     "output_type": "execute_result"
    }
   ],
   "source": [
    "exam_data.head()"
   ]
  },
  {
   "cell_type": "markdown",
   "metadata": {},
   "source": [
    "#### Event Records"
   ]
  },
  {
   "cell_type": "code",
   "execution_count": 35,
   "metadata": {
    "ExecuteTime": {
     "end_time": "2020-11-20T11:31:57.935882Z",
     "start_time": "2020-11-20T11:31:57.035545Z"
    }
   },
   "outputs": [],
   "source": [
    "d1 = video_data[['AccountUserID', 'ElementID', 'TimeStamp', 'EventType', 'Round']]\n",
    "d2 = problem_data[['AccountUserID', 'ElementID', 'TimeStamp', 'EventType', 'Round']]\n",
    "\n",
    "events = d1.append(d2)"
   ]
  },
  {
   "cell_type": "code",
   "execution_count": 65,
   "metadata": {
    "ExecuteTime": {
     "end_time": "2020-11-20T11:53:31.890128Z",
     "start_time": "2020-11-20T11:50:56.633885Z"
    }
   },
   "outputs": [
    {
     "name": "stdout",
     "output_type": "stream",
     "text": [
      "V2\n",
      "CPU times: user 1min 23s, sys: 4.55 s, total: 1min 28s\n",
      "Wall time: 2min 32s\n"
     ]
    }
   ],
   "source": [
    "%time all_video_data = getVideoEventsInfo(mode='all').rename(columns={'VideoID': 'ElementID'})"
   ]
  },
  {
   "cell_type": "code",
   "execution_count": 68,
   "metadata": {
    "ExecuteTime": {
     "end_time": "2020-11-20T12:27:58.428823Z",
     "start_time": "2020-11-20T12:27:55.075801Z"
    }
   },
   "outputs": [],
   "source": [
    "events = all_video_data.rename(columns={'ElementID': 'VideoID'})"
   ]
  },
  {
   "cell_type": "code",
   "execution_count": 87,
   "metadata": {
    "ExecuteTime": {
     "end_time": "2020-11-20T12:38:12.867989Z",
     "start_time": "2020-11-20T12:38:09.970149Z"
    }
   },
   "outputs": [],
   "source": [
    "events['Year'] = events['Round'].apply(lambda x: int(x.split('-')[1]))"
   ]
  },
  {
   "cell_type": "markdown",
   "metadata": {},
   "source": [
    "This is how our join event table looks like."
   ]
  },
  {
   "cell_type": "code",
   "execution_count": 88,
   "metadata": {
    "ExecuteTime": {
     "end_time": "2020-11-20T12:38:14.548514Z",
     "start_time": "2020-11-20T12:38:14.481461Z"
    }
   },
   "outputs": [
    {
     "data": {
      "text/html": [
       "<div>\n",
       "<style scoped>\n",
       "    .dataframe tbody tr th:only-of-type {\n",
       "        vertical-align: middle;\n",
       "    }\n",
       "\n",
       "    .dataframe tbody tr th {\n",
       "        vertical-align: top;\n",
       "    }\n",
       "\n",
       "    .dataframe thead th {\n",
       "        text-align: right;\n",
       "    }\n",
       "</style>\n",
       "<table border=\"1\" class=\"dataframe\">\n",
       "  <thead>\n",
       "    <tr style=\"text-align: right;\">\n",
       "      <th></th>\n",
       "      <th>AccountUserID</th>\n",
       "      <th>EventType</th>\n",
       "      <th>TimeStamp</th>\n",
       "      <th>VideoID</th>\n",
       "      <th>EventID</th>\n",
       "      <th>SeekType</th>\n",
       "      <th>OldTime</th>\n",
       "      <th>CurrentTime</th>\n",
       "      <th>NewTime</th>\n",
       "      <th>OldSpeed</th>\n",
       "      <th>NewSpeed</th>\n",
       "      <th>Round</th>\n",
       "      <th>ID.Anon</th>\n",
       "      <th>Title</th>\n",
       "      <th>Source</th>\n",
       "      <th>Subchapter</th>\n",
       "      <th>Duration</th>\n",
       "      <th>Date</th>\n",
       "      <th>Week</th>\n",
       "      <th>Year</th>\n",
       "    </tr>\n",
       "  </thead>\n",
       "  <tbody>\n",
       "    <tr>\n",
       "      <th>15957</th>\n",
       "      <td>47496</td>\n",
       "      <td>Video.Play</td>\n",
       "      <td>1537174734</td>\n",
       "      <td>22c2895963d24114b16c3511befa35d6</td>\n",
       "      <td>fb642231029482e4c0f5cdcd86e442e6</td>\n",
       "      <td>None</td>\n",
       "      <td>NaN</td>\n",
       "      <td>0.018784</td>\n",
       "      <td>NaN</td>\n",
       "      <td>NaN</td>\n",
       "      <td>NaN</td>\n",
       "      <td>Y2-2018-19</td>\n",
       "      <td>661T336</td>\n",
       "      <td>Leçon</td>\n",
       "      <td>https://www.youtube.com/watch?v=9AF8x91i8bE</td>\n",
       "      <td>1.1</td>\n",
       "      <td>634.0</td>\n",
       "      <td>2018-09-17 08:58:54</td>\n",
       "      <td>0</td>\n",
       "      <td>2018</td>\n",
       "    </tr>\n",
       "    <tr>\n",
       "      <th>15956</th>\n",
       "      <td>47496</td>\n",
       "      <td>Video.SpeedChange</td>\n",
       "      <td>1537174771</td>\n",
       "      <td>22c2895963d24114b16c3511befa35d6</td>\n",
       "      <td>4fbe99eb051156a249df0da330ba080f</td>\n",
       "      <td>None</td>\n",
       "      <td>NaN</td>\n",
       "      <td>NaN</td>\n",
       "      <td>NaN</td>\n",
       "      <td>1.0</td>\n",
       "      <td>1.25</td>\n",
       "      <td>Y2-2018-19</td>\n",
       "      <td>661T336</td>\n",
       "      <td>Leçon</td>\n",
       "      <td>https://www.youtube.com/watch?v=9AF8x91i8bE</td>\n",
       "      <td>1.1</td>\n",
       "      <td>634.0</td>\n",
       "      <td>2018-09-17 08:59:31</td>\n",
       "      <td>0</td>\n",
       "      <td>2018</td>\n",
       "    </tr>\n",
       "    <tr>\n",
       "      <th>15958</th>\n",
       "      <td>47496</td>\n",
       "      <td>Video.Pause</td>\n",
       "      <td>1537174871</td>\n",
       "      <td>22c2895963d24114b16c3511befa35d6</td>\n",
       "      <td>3d97e0cd4b0116bdfdf48d659af7021f</td>\n",
       "      <td>None</td>\n",
       "      <td>NaN</td>\n",
       "      <td>161.958000</td>\n",
       "      <td>NaN</td>\n",
       "      <td>NaN</td>\n",
       "      <td>NaN</td>\n",
       "      <td>Y2-2018-19</td>\n",
       "      <td>661T336</td>\n",
       "      <td>Leçon</td>\n",
       "      <td>https://www.youtube.com/watch?v=9AF8x91i8bE</td>\n",
       "      <td>1.1</td>\n",
       "      <td>634.0</td>\n",
       "      <td>2018-09-17 09:01:11</td>\n",
       "      <td>0</td>\n",
       "      <td>2018</td>\n",
       "    </tr>\n",
       "    <tr>\n",
       "      <th>15959</th>\n",
       "      <td>47496</td>\n",
       "      <td>Video.Play</td>\n",
       "      <td>1537174886</td>\n",
       "      <td>22c2895963d24114b16c3511befa35d6</td>\n",
       "      <td>4280eae45c20325a8b35f8d2826d59cc</td>\n",
       "      <td>None</td>\n",
       "      <td>NaN</td>\n",
       "      <td>162.049000</td>\n",
       "      <td>NaN</td>\n",
       "      <td>NaN</td>\n",
       "      <td>NaN</td>\n",
       "      <td>Y2-2018-19</td>\n",
       "      <td>661T336</td>\n",
       "      <td>Leçon</td>\n",
       "      <td>https://www.youtube.com/watch?v=9AF8x91i8bE</td>\n",
       "      <td>1.1</td>\n",
       "      <td>634.0</td>\n",
       "      <td>2018-09-17 09:01:26</td>\n",
       "      <td>0</td>\n",
       "      <td>2018</td>\n",
       "    </tr>\n",
       "    <tr>\n",
       "      <th>15964</th>\n",
       "      <td>47496</td>\n",
       "      <td>Video.Pause</td>\n",
       "      <td>1537174945</td>\n",
       "      <td>22c2895963d24114b16c3511befa35d6</td>\n",
       "      <td>d38406c7d5828adca48f1e55976f7064</td>\n",
       "      <td>None</td>\n",
       "      <td>NaN</td>\n",
       "      <td>235.094000</td>\n",
       "      <td>NaN</td>\n",
       "      <td>NaN</td>\n",
       "      <td>NaN</td>\n",
       "      <td>Y2-2018-19</td>\n",
       "      <td>661T336</td>\n",
       "      <td>Leçon</td>\n",
       "      <td>https://www.youtube.com/watch?v=9AF8x91i8bE</td>\n",
       "      <td>1.1</td>\n",
       "      <td>634.0</td>\n",
       "      <td>2018-09-17 09:02:25</td>\n",
       "      <td>0</td>\n",
       "      <td>2018</td>\n",
       "    </tr>\n",
       "  </tbody>\n",
       "</table>\n",
       "</div>"
      ],
      "text/plain": [
       "      AccountUserID          EventType   TimeStamp  \\\n",
       "15957         47496         Video.Play  1537174734   \n",
       "15956         47496  Video.SpeedChange  1537174771   \n",
       "15958         47496        Video.Pause  1537174871   \n",
       "15959         47496         Video.Play  1537174886   \n",
       "15964         47496        Video.Pause  1537174945   \n",
       "\n",
       "                                VideoID                           EventID  \\\n",
       "15957  22c2895963d24114b16c3511befa35d6  fb642231029482e4c0f5cdcd86e442e6   \n",
       "15956  22c2895963d24114b16c3511befa35d6  4fbe99eb051156a249df0da330ba080f   \n",
       "15958  22c2895963d24114b16c3511befa35d6  3d97e0cd4b0116bdfdf48d659af7021f   \n",
       "15959  22c2895963d24114b16c3511befa35d6  4280eae45c20325a8b35f8d2826d59cc   \n",
       "15964  22c2895963d24114b16c3511befa35d6  d38406c7d5828adca48f1e55976f7064   \n",
       "\n",
       "      SeekType  OldTime  CurrentTime  NewTime  OldSpeed  NewSpeed       Round  \\\n",
       "15957     None      NaN     0.018784      NaN       NaN       NaN  Y2-2018-19   \n",
       "15956     None      NaN          NaN      NaN       1.0      1.25  Y2-2018-19   \n",
       "15958     None      NaN   161.958000      NaN       NaN       NaN  Y2-2018-19   \n",
       "15959     None      NaN   162.049000      NaN       NaN       NaN  Y2-2018-19   \n",
       "15964     None      NaN   235.094000      NaN       NaN       NaN  Y2-2018-19   \n",
       "\n",
       "       ID.Anon  Title                                       Source  \\\n",
       "15957  661T336  Leçon  https://www.youtube.com/watch?v=9AF8x91i8bE   \n",
       "15956  661T336  Leçon  https://www.youtube.com/watch?v=9AF8x91i8bE   \n",
       "15958  661T336  Leçon  https://www.youtube.com/watch?v=9AF8x91i8bE   \n",
       "15959  661T336  Leçon  https://www.youtube.com/watch?v=9AF8x91i8bE   \n",
       "15964  661T336  Leçon  https://www.youtube.com/watch?v=9AF8x91i8bE   \n",
       "\n",
       "       Subchapter  Duration                Date  Week  Year  \n",
       "15957         1.1     634.0 2018-09-17 08:58:54     0  2018  \n",
       "15956         1.1     634.0 2018-09-17 08:59:31     0  2018  \n",
       "15958         1.1     634.0 2018-09-17 09:01:11     0  2018  \n",
       "15959         1.1     634.0 2018-09-17 09:01:26     0  2018  \n",
       "15964         1.1     634.0 2018-09-17 09:02:25     0  2018  "
      ]
     },
     "execution_count": 88,
     "metadata": {},
     "output_type": "execute_result"
    }
   ],
   "source": [
    "events.head()"
   ]
  },
  {
   "cell_type": "markdown",
   "metadata": {},
   "source": [
    "#### Identify Week"
   ]
  },
  {
   "cell_type": "code",
   "execution_count": 89,
   "metadata": {
    "ExecuteTime": {
     "end_time": "2020-11-20T12:38:20.728302Z",
     "start_time": "2020-11-20T12:38:20.669104Z"
    }
   },
   "outputs": [],
   "source": [
    "noCourseWeeks = 20"
   ]
  },
  {
   "cell_type": "markdown",
   "metadata": {},
   "source": [
    "We get the configuration file (e.g, start and end date) for each round of the course. "
   ]
  },
  {
   "cell_type": "code",
   "execution_count": 90,
   "metadata": {
    "ExecuteTime": {
     "end_time": "2020-11-20T12:38:21.969804Z",
     "start_time": "2020-11-20T12:38:21.128706Z"
    }
   },
   "outputs": [],
   "source": [
    "with open('../config/linear_algebra.json') as f:\n",
    "    config = json.load(f)"
   ]
  },
  {
   "cell_type": "code",
   "execution_count": 91,
   "metadata": {
    "ExecuteTime": {
     "end_time": "2020-11-20T12:38:22.029574Z",
     "start_time": "2020-11-20T12:38:21.973938Z"
    }
   },
   "outputs": [
    {
     "data": {
      "text/plain": [
       "{'Start': '2018-09-17 00:00:00',\n",
       " 'StartFlipped': '2018-10-16 00:00:00',\n",
       " 'End': '2019-01-28 00:00:00',\n",
       " 'Exam': '2019-01-21 00:00:00',\n",
       " 'WeeklyVideoCount': [7, 10, 10, 6, 13, 7, 8, 7, 9, 6],\n",
       " 'FlippedWeeks': [4, 5, 6, 7, 8, 9, 10, 11, 12, 13],\n",
       " 'Midterm': '2018-11-13'}"
      ]
     },
     "execution_count": 91,
     "metadata": {},
     "output_type": "execute_result"
    }
   ],
   "source": [
    "config[rounds[0].split('-')[-2]]"
   ]
  },
  {
   "cell_type": "markdown",
   "metadata": {},
   "source": [
    "We assign each video interaction to a specific week of the course, with the first week of the course round having id 0. "
   ]
  },
  {
   "cell_type": "code",
   "execution_count": 73,
   "metadata": {
    "ExecuteTime": {
     "end_time": "2020-11-20T12:28:43.423058Z",
     "start_time": "2020-11-20T12:28:09.388417Z"
    }
   },
   "outputs": [],
   "source": [
    "events['Date'] = events['TimeStamp'].apply(lambda x:string2Datetime(dt.utcfromtimestamp(x).strftime('%Y-%m-%d %H:%M:%S')))"
   ]
  },
  {
   "cell_type": "code",
   "execution_count": 74,
   "metadata": {
    "ExecuteTime": {
     "end_time": "2020-11-20T12:29:02.722628Z",
     "start_time": "2020-11-20T12:28:43.426298Z"
    }
   },
   "outputs": [],
   "source": [
    "tmp_events = []\n",
    "for r in rounds:\n",
    "    round_events = events[events['Round'] == r]\n",
    "    tmp_events.append(processWeek(round_events, 'Date', config[r.split('-')[-2]]['Start']))\n",
    "events = pd.concat(tmp_events).copy()"
   ]
  },
  {
   "cell_type": "code",
   "execution_count": 75,
   "metadata": {
    "ExecuteTime": {
     "end_time": "2020-11-20T12:29:03.623064Z",
     "start_time": "2020-11-20T12:29:02.726081Z"
    }
   },
   "outputs": [],
   "source": [
    "events['Week'] = events['Week'].apply(lambda x: int(x))"
   ]
  },
  {
   "cell_type": "markdown",
   "metadata": {},
   "source": [
    "Then, we filter only the 14 course weeks. "
   ]
  },
  {
   "cell_type": "code",
   "execution_count": 76,
   "metadata": {
    "ExecuteTime": {
     "end_time": "2020-11-20T12:29:05.288831Z",
     "start_time": "2020-11-20T12:29:03.634553Z"
    }
   },
   "outputs": [],
   "source": [
    "events = events[events['Week'].isin(range(noCourseWeeks))]"
   ]
  },
  {
   "cell_type": "markdown",
   "metadata": {},
   "source": [
    "This is how our event table looks like, after week addition. "
   ]
  },
  {
   "cell_type": "code",
   "execution_count": 77,
   "metadata": {
    "ExecuteTime": {
     "end_time": "2020-11-20T12:29:05.778922Z",
     "start_time": "2020-11-20T12:29:05.291993Z"
    }
   },
   "outputs": [
    {
     "data": {
      "text/html": [
       "<div>\n",
       "<style scoped>\n",
       "    .dataframe tbody tr th:only-of-type {\n",
       "        vertical-align: middle;\n",
       "    }\n",
       "\n",
       "    .dataframe tbody tr th {\n",
       "        vertical-align: top;\n",
       "    }\n",
       "\n",
       "    .dataframe thead th {\n",
       "        text-align: right;\n",
       "    }\n",
       "</style>\n",
       "<table border=\"1\" class=\"dataframe\">\n",
       "  <thead>\n",
       "    <tr style=\"text-align: right;\">\n",
       "      <th></th>\n",
       "      <th>AccountUserID</th>\n",
       "      <th>EventType</th>\n",
       "      <th>TimeStamp</th>\n",
       "      <th>VideoID</th>\n",
       "      <th>EventID</th>\n",
       "      <th>SeekType</th>\n",
       "      <th>OldTime</th>\n",
       "      <th>CurrentTime</th>\n",
       "      <th>NewTime</th>\n",
       "      <th>OldSpeed</th>\n",
       "      <th>NewSpeed</th>\n",
       "      <th>Round</th>\n",
       "      <th>ID.Anon</th>\n",
       "      <th>Title</th>\n",
       "      <th>Source</th>\n",
       "      <th>Subchapter</th>\n",
       "      <th>Duration</th>\n",
       "      <th>Date</th>\n",
       "      <th>Week</th>\n",
       "    </tr>\n",
       "  </thead>\n",
       "  <tbody>\n",
       "    <tr>\n",
       "      <th>15957</th>\n",
       "      <td>47496</td>\n",
       "      <td>Video.Play</td>\n",
       "      <td>1537174734</td>\n",
       "      <td>22c2895963d24114b16c3511befa35d6</td>\n",
       "      <td>fb642231029482e4c0f5cdcd86e442e6</td>\n",
       "      <td>None</td>\n",
       "      <td>NaN</td>\n",
       "      <td>0.018784</td>\n",
       "      <td>NaN</td>\n",
       "      <td>NaN</td>\n",
       "      <td>NaN</td>\n",
       "      <td>Y2-2018-19</td>\n",
       "      <td>661T336</td>\n",
       "      <td>Leçon</td>\n",
       "      <td>https://www.youtube.com/watch?v=9AF8x91i8bE</td>\n",
       "      <td>1.1</td>\n",
       "      <td>634.0</td>\n",
       "      <td>2018-09-17 08:58:54</td>\n",
       "      <td>0</td>\n",
       "    </tr>\n",
       "    <tr>\n",
       "      <th>1221382</th>\n",
       "      <td>94720</td>\n",
       "      <td>Video.Play</td>\n",
       "      <td>1568920360</td>\n",
       "      <td>7918a4133a0143eb883dcf8fe1c90ed7</td>\n",
       "      <td>2013360912478ef4dcae7a82095fff47</td>\n",
       "      <td>None</td>\n",
       "      <td>NaN</td>\n",
       "      <td>54.771400</td>\n",
       "      <td>NaN</td>\n",
       "      <td>NaN</td>\n",
       "      <td>NaN</td>\n",
       "      <td>Y3-2019-20</td>\n",
       "      <td>790T411</td>\n",
       "      <td>Leçon</td>\n",
       "      <td>https://www.youtube.com/watch?v=Msk7s83QB3A</td>\n",
       "      <td>5.4</td>\n",
       "      <td>692.0</td>\n",
       "      <td>2019-09-19 19:12:40</td>\n",
       "      <td>0</td>\n",
       "    </tr>\n",
       "    <tr>\n",
       "      <th>1221348</th>\n",
       "      <td>94720</td>\n",
       "      <td>Video.Pause</td>\n",
       "      <td>1568920351</td>\n",
       "      <td>7918a4133a0143eb883dcf8fe1c90ed7</td>\n",
       "      <td>99b5a74e2a9ed4e44d2f1e16b2a9c116</td>\n",
       "      <td>None</td>\n",
       "      <td>NaN</td>\n",
       "      <td>54.576600</td>\n",
       "      <td>NaN</td>\n",
       "      <td>NaN</td>\n",
       "      <td>NaN</td>\n",
       "      <td>Y3-2019-20</td>\n",
       "      <td>790T411</td>\n",
       "      <td>Leçon</td>\n",
       "      <td>https://www.youtube.com/watch?v=Msk7s83QB3A</td>\n",
       "      <td>2.1</td>\n",
       "      <td>692.0</td>\n",
       "      <td>2019-09-19 19:12:31</td>\n",
       "      <td>0</td>\n",
       "    </tr>\n",
       "    <tr>\n",
       "      <th>1221346</th>\n",
       "      <td>94720</td>\n",
       "      <td>Video.Pause</td>\n",
       "      <td>1568920351</td>\n",
       "      <td>7918a4133a0143eb883dcf8fe1c90ed7</td>\n",
       "      <td>99b5a74e2a9ed4e44d2f1e16b2a9c116</td>\n",
       "      <td>None</td>\n",
       "      <td>NaN</td>\n",
       "      <td>54.576600</td>\n",
       "      <td>NaN</td>\n",
       "      <td>NaN</td>\n",
       "      <td>NaN</td>\n",
       "      <td>Y3-2019-20</td>\n",
       "      <td>790T411</td>\n",
       "      <td>Leçon</td>\n",
       "      <td>https://www.youtube.com/watch?v=Msk7s83QB3A</td>\n",
       "      <td>5.4</td>\n",
       "      <td>692.0</td>\n",
       "      <td>2019-09-19 19:12:31</td>\n",
       "      <td>0</td>\n",
       "    </tr>\n",
       "    <tr>\n",
       "      <th>1221347</th>\n",
       "      <td>94720</td>\n",
       "      <td>Video.Pause</td>\n",
       "      <td>1568920351</td>\n",
       "      <td>7918a4133a0143eb883dcf8fe1c90ed7</td>\n",
       "      <td>99b5a74e2a9ed4e44d2f1e16b2a9c116</td>\n",
       "      <td>None</td>\n",
       "      <td>NaN</td>\n",
       "      <td>54.576600</td>\n",
       "      <td>NaN</td>\n",
       "      <td>NaN</td>\n",
       "      <td>NaN</td>\n",
       "      <td>Y3-2019-20</td>\n",
       "      <td>790T411</td>\n",
       "      <td>Leçon</td>\n",
       "      <td>https://www.youtube.com/watch?v=Msk7s83QB3A</td>\n",
       "      <td>5.4</td>\n",
       "      <td>692.0</td>\n",
       "      <td>2019-09-19 19:12:31</td>\n",
       "      <td>0</td>\n",
       "    </tr>\n",
       "    <tr>\n",
       "      <th>...</th>\n",
       "      <td>...</td>\n",
       "      <td>...</td>\n",
       "      <td>...</td>\n",
       "      <td>...</td>\n",
       "      <td>...</td>\n",
       "      <td>...</td>\n",
       "      <td>...</td>\n",
       "      <td>...</td>\n",
       "      <td>...</td>\n",
       "      <td>...</td>\n",
       "      <td>...</td>\n",
       "      <td>...</td>\n",
       "      <td>...</td>\n",
       "      <td>...</td>\n",
       "      <td>...</td>\n",
       "      <td>...</td>\n",
       "      <td>...</td>\n",
       "      <td>...</td>\n",
       "      <td>...</td>\n",
       "    </tr>\n",
       "    <tr>\n",
       "      <th>1299648</th>\n",
       "      <td>49845</td>\n",
       "      <td>Video.Seek</td>\n",
       "      <td>1548057588</td>\n",
       "      <td>ad4b668b3098404da342c8931fe1b2ea</td>\n",
       "      <td>6d824f0a7badc0f07f748f33fb9fe65c</td>\n",
       "      <td>onSlideSeek</td>\n",
       "      <td>17.8504</td>\n",
       "      <td>NaN</td>\n",
       "      <td>13.0</td>\n",
       "      <td>NaN</td>\n",
       "      <td>NaN</td>\n",
       "      <td>Y2-2018-19</td>\n",
       "      <td>1859T1056</td>\n",
       "      <td>Leçon</td>\n",
       "      <td>https://www.youtube.com/watch?v=RAqP1543eFA</td>\n",
       "      <td>10.1</td>\n",
       "      <td>695.0</td>\n",
       "      <td>2019-01-21 07:59:48</td>\n",
       "      <td>18</td>\n",
       "    </tr>\n",
       "    <tr>\n",
       "      <th>1299647</th>\n",
       "      <td>49845</td>\n",
       "      <td>Video.Seek</td>\n",
       "      <td>1548057588</td>\n",
       "      <td>ad4b668b3098404da342c8931fe1b2ea</td>\n",
       "      <td>6d824f0a7badc0f07f748f33fb9fe65c</td>\n",
       "      <td>onSlideSeek</td>\n",
       "      <td>17.8504</td>\n",
       "      <td>NaN</td>\n",
       "      <td>13.0</td>\n",
       "      <td>NaN</td>\n",
       "      <td>NaN</td>\n",
       "      <td>Y2-2018-19</td>\n",
       "      <td>1859T1056</td>\n",
       "      <td>Leçon</td>\n",
       "      <td>https://www.youtube.com/watch?v=RAqP1543eFA</td>\n",
       "      <td>10.1</td>\n",
       "      <td>695.0</td>\n",
       "      <td>2019-01-21 07:59:48</td>\n",
       "      <td>18</td>\n",
       "    </tr>\n",
       "    <tr>\n",
       "      <th>1299652</th>\n",
       "      <td>49845</td>\n",
       "      <td>Video.Seek</td>\n",
       "      <td>1548057583</td>\n",
       "      <td>ad4b668b3098404da342c8931fe1b2ea</td>\n",
       "      <td>5b65cfba3af48326cc856a4610ef92ab</td>\n",
       "      <td>onSlideSeek</td>\n",
       "      <td>3.0165</td>\n",
       "      <td>NaN</td>\n",
       "      <td>13.0</td>\n",
       "      <td>NaN</td>\n",
       "      <td>NaN</td>\n",
       "      <td>Y2-2018-19</td>\n",
       "      <td>1859T1056</td>\n",
       "      <td>Leçon</td>\n",
       "      <td>https://www.youtube.com/watch?v=RAqP1543eFA</td>\n",
       "      <td>10.1</td>\n",
       "      <td>695.0</td>\n",
       "      <td>2019-01-21 07:59:43</td>\n",
       "      <td>18</td>\n",
       "    </tr>\n",
       "    <tr>\n",
       "      <th>1299599</th>\n",
       "      <td>49845</td>\n",
       "      <td>Video.Play</td>\n",
       "      <td>1548057583</td>\n",
       "      <td>ad4b668b3098404da342c8931fe1b2ea</td>\n",
       "      <td>d6f2c81e4743eff2777a585ac0d474a2</td>\n",
       "      <td>None</td>\n",
       "      <td>NaN</td>\n",
       "      <td>13.000000</td>\n",
       "      <td>NaN</td>\n",
       "      <td>NaN</td>\n",
       "      <td>NaN</td>\n",
       "      <td>Y2-2018-19</td>\n",
       "      <td>1859T1056</td>\n",
       "      <td>Leçon</td>\n",
       "      <td>https://www.youtube.com/watch?v=RAqP1543eFA</td>\n",
       "      <td>10.1</td>\n",
       "      <td>695.0</td>\n",
       "      <td>2019-01-21 07:59:43</td>\n",
       "      <td>18</td>\n",
       "    </tr>\n",
       "    <tr>\n",
       "      <th>1435098</th>\n",
       "      <td>94789</td>\n",
       "      <td>Video.Load</td>\n",
       "      <td>1579537994</td>\n",
       "      <td>62e6340160494e8cbb17de853b93121d</td>\n",
       "      <td>b00495baac455fa4cbd9575cfb792100</td>\n",
       "      <td>None</td>\n",
       "      <td>NaN</td>\n",
       "      <td>NaN</td>\n",
       "      <td>NaN</td>\n",
       "      <td>NaN</td>\n",
       "      <td>NaN</td>\n",
       "      <td>Y3-2019-20</td>\n",
       "      <td>3545T2064</td>\n",
       "      <td>Leçon</td>\n",
       "      <td>https://www.youtube.com/watch?v=MrgVhy1cZmo</td>\n",
       "      <td>7.3</td>\n",
       "      <td>526.0</td>\n",
       "      <td>2020-01-20 16:33:14</td>\n",
       "      <td>18</td>\n",
       "    </tr>\n",
       "  </tbody>\n",
       "</table>\n",
       "<p>1410835 rows × 19 columns</p>\n",
       "</div>"
      ],
      "text/plain": [
       "        AccountUserID    EventType   TimeStamp  \\\n",
       "15957           47496   Video.Play  1537174734   \n",
       "1221382         94720   Video.Play  1568920360   \n",
       "1221348         94720  Video.Pause  1568920351   \n",
       "1221346         94720  Video.Pause  1568920351   \n",
       "1221347         94720  Video.Pause  1568920351   \n",
       "...               ...          ...         ...   \n",
       "1299648         49845   Video.Seek  1548057588   \n",
       "1299647         49845   Video.Seek  1548057588   \n",
       "1299652         49845   Video.Seek  1548057583   \n",
       "1299599         49845   Video.Play  1548057583   \n",
       "1435098         94789   Video.Load  1579537994   \n",
       "\n",
       "                                  VideoID                           EventID  \\\n",
       "15957    22c2895963d24114b16c3511befa35d6  fb642231029482e4c0f5cdcd86e442e6   \n",
       "1221382  7918a4133a0143eb883dcf8fe1c90ed7  2013360912478ef4dcae7a82095fff47   \n",
       "1221348  7918a4133a0143eb883dcf8fe1c90ed7  99b5a74e2a9ed4e44d2f1e16b2a9c116   \n",
       "1221346  7918a4133a0143eb883dcf8fe1c90ed7  99b5a74e2a9ed4e44d2f1e16b2a9c116   \n",
       "1221347  7918a4133a0143eb883dcf8fe1c90ed7  99b5a74e2a9ed4e44d2f1e16b2a9c116   \n",
       "...                                   ...                               ...   \n",
       "1299648  ad4b668b3098404da342c8931fe1b2ea  6d824f0a7badc0f07f748f33fb9fe65c   \n",
       "1299647  ad4b668b3098404da342c8931fe1b2ea  6d824f0a7badc0f07f748f33fb9fe65c   \n",
       "1299652  ad4b668b3098404da342c8931fe1b2ea  5b65cfba3af48326cc856a4610ef92ab   \n",
       "1299599  ad4b668b3098404da342c8931fe1b2ea  d6f2c81e4743eff2777a585ac0d474a2   \n",
       "1435098  62e6340160494e8cbb17de853b93121d  b00495baac455fa4cbd9575cfb792100   \n",
       "\n",
       "            SeekType  OldTime  CurrentTime  NewTime  OldSpeed  NewSpeed  \\\n",
       "15957           None      NaN     0.018784      NaN       NaN       NaN   \n",
       "1221382         None      NaN    54.771400      NaN       NaN       NaN   \n",
       "1221348         None      NaN    54.576600      NaN       NaN       NaN   \n",
       "1221346         None      NaN    54.576600      NaN       NaN       NaN   \n",
       "1221347         None      NaN    54.576600      NaN       NaN       NaN   \n",
       "...              ...      ...          ...      ...       ...       ...   \n",
       "1299648  onSlideSeek  17.8504          NaN     13.0       NaN       NaN   \n",
       "1299647  onSlideSeek  17.8504          NaN     13.0       NaN       NaN   \n",
       "1299652  onSlideSeek   3.0165          NaN     13.0       NaN       NaN   \n",
       "1299599         None      NaN    13.000000      NaN       NaN       NaN   \n",
       "1435098         None      NaN          NaN      NaN       NaN       NaN   \n",
       "\n",
       "              Round    ID.Anon  Title  \\\n",
       "15957    Y2-2018-19    661T336  Leçon   \n",
       "1221382  Y3-2019-20    790T411  Leçon   \n",
       "1221348  Y3-2019-20    790T411  Leçon   \n",
       "1221346  Y3-2019-20    790T411  Leçon   \n",
       "1221347  Y3-2019-20    790T411  Leçon   \n",
       "...             ...        ...    ...   \n",
       "1299648  Y2-2018-19  1859T1056  Leçon   \n",
       "1299647  Y2-2018-19  1859T1056  Leçon   \n",
       "1299652  Y2-2018-19  1859T1056  Leçon   \n",
       "1299599  Y2-2018-19  1859T1056  Leçon   \n",
       "1435098  Y3-2019-20  3545T2064  Leçon   \n",
       "\n",
       "                                              Source  Subchapter  Duration  \\\n",
       "15957    https://www.youtube.com/watch?v=9AF8x91i8bE         1.1     634.0   \n",
       "1221382  https://www.youtube.com/watch?v=Msk7s83QB3A         5.4     692.0   \n",
       "1221348  https://www.youtube.com/watch?v=Msk7s83QB3A         2.1     692.0   \n",
       "1221346  https://www.youtube.com/watch?v=Msk7s83QB3A         5.4     692.0   \n",
       "1221347  https://www.youtube.com/watch?v=Msk7s83QB3A         5.4     692.0   \n",
       "...                                              ...         ...       ...   \n",
       "1299648  https://www.youtube.com/watch?v=RAqP1543eFA        10.1     695.0   \n",
       "1299647  https://www.youtube.com/watch?v=RAqP1543eFA        10.1     695.0   \n",
       "1299652  https://www.youtube.com/watch?v=RAqP1543eFA        10.1     695.0   \n",
       "1299599  https://www.youtube.com/watch?v=RAqP1543eFA        10.1     695.0   \n",
       "1435098  https://www.youtube.com/watch?v=MrgVhy1cZmo         7.3     526.0   \n",
       "\n",
       "                       Date  Week  \n",
       "15957   2018-09-17 08:58:54     0  \n",
       "1221382 2019-09-19 19:12:40     0  \n",
       "1221348 2019-09-19 19:12:31     0  \n",
       "1221346 2019-09-19 19:12:31     0  \n",
       "1221347 2019-09-19 19:12:31     0  \n",
       "...                     ...   ...  \n",
       "1299648 2019-01-21 07:59:48    18  \n",
       "1299647 2019-01-21 07:59:48    18  \n",
       "1299652 2019-01-21 07:59:43    18  \n",
       "1299599 2019-01-21 07:59:43    18  \n",
       "1435098 2020-01-20 16:33:14    18  \n",
       "\n",
       "[1410835 rows x 19 columns]"
      ]
     },
     "execution_count": 77,
     "metadata": {},
     "output_type": "execute_result"
    }
   ],
   "source": [
    "events.sort_values(by='Week')"
   ]
  },
  {
   "cell_type": "markdown",
   "metadata": {},
   "source": [
    "## Train-Test Data Split"
   ]
  },
  {
   "cell_type": "code",
   "execution_count": 78,
   "metadata": {
    "ExecuteTime": {
     "end_time": "2020-11-20T12:29:06.143787Z",
     "start_time": "2020-11-20T12:29:05.782647Z"
    }
   },
   "outputs": [],
   "source": [
    "mode = 'random' # per-year\n",
    "train_ratio = 0.90\n",
    "task = 'binary' # multi-class, regression"
   ]
  },
  {
   "cell_type": "code",
   "execution_count": 127,
   "metadata": {
    "ExecuteTime": {
     "end_time": "2020-11-20T13:10:49.010529Z",
     "start_time": "2020-11-20T13:10:47.107158Z"
    }
   },
   "outputs": [
    {
     "name": "stdout",
     "output_type": "stream",
     "text": [
      "Binarizing the student grades\n",
      "Pass 159 Fail 96\n"
     ]
    }
   ],
   "source": [
    "x = exam_data['AccountUserID'].values\n",
    "\n",
    "if task == 'binary':\n",
    "    print('Binarizing the student grades')\n",
    "    y = [(1 if grade >= 4.0 else 0) for grade in exam_data['Grade']]\n",
    "    print('Pass', y.count(1), 'Fail', y.count(0))"
   ]
  },
  {
   "cell_type": "code",
   "execution_count": 128,
   "metadata": {
    "ExecuteTime": {
     "end_time": "2020-11-20T13:10:50.380130Z",
     "start_time": "2020-11-20T13:10:50.326076Z"
    }
   },
   "outputs": [
    {
     "name": "stdout",
     "output_type": "stream",
     "text": [
      "Spitting the whole student population randomly\n",
      "Train Pass 143 Test Pass 16 Train Fail 86 Test Fail 10\n"
     ]
    }
   ],
   "source": [
    "if mode == 'random':\n",
    "    print('Spitting the whole student population randomly')\n",
    "    x_train, x_test, y_train, y_test = train_test_split(x, y, stratify=y, test_size=1 - train_ratio)\n",
    "    print('Train Pass', y_train.count(1), 'Test Pass', y_test.count(1), 'Train Fail', y_train.count(0), 'Test Fail', y_test.count(0))"
   ]
  },
  {
   "cell_type": "markdown",
   "metadata": {},
   "source": [
    "## Feature Extractors"
   ]
  },
  {
   "cell_type": "code",
   "execution_count": 129,
   "metadata": {
    "ExecuteTime": {
     "end_time": "2020-11-20T13:10:51.668043Z",
     "start_time": "2020-11-20T13:10:51.618519Z"
    }
   },
   "outputs": [],
   "source": [
    "week_thresholds = np.arange(4, 24, 4)"
   ]
  },
  {
   "cell_type": "code",
   "execution_count": 166,
   "metadata": {
    "ExecuteTime": {
     "end_time": "2020-11-20T14:04:07.235445Z",
     "start_time": "2020-11-20T14:04:06.972330Z"
    }
   },
   "outputs": [],
   "source": [
    "feature_labels = {\n",
    "#     BoroujeniEtAl(),\n",
    "    LalleConati(),\n",
    "#     LemayDoleck(),\n",
    "}"
   ]
  },
  {
   "cell_type": "code",
   "execution_count": null,
   "metadata": {
    "ExecuteTime": {
     "start_time": "2020-11-20T14:38:55.974Z"
    }
   },
   "outputs": [
    {
     "name": "stdout",
     "output_type": "stream",
     "text": [
      " Set: lalle_conati \tWeek: 4 \tMode: train \tProgress: 229 229 \t ID: 960643\n",
      " Set: lalle_conati \tWeek: 4 \tMode: test \tProgress: 26 26\n",
      " Set: lalle_conati \tWeek: 8 \tMode: train \tProgress: 226 229 \t ID: 476703"
     ]
    }
   ],
   "source": [
    "feature_sets = {} \n",
    "for ffunc in feature_labels:\n",
    "    flabel = ffunc.getName()\n",
    "    feature_sets[flabel] = {}\n",
    "    for wid in week_thresholds:\n",
    "        feature_sets[flabel][wid] = {}\n",
    "        feature_sets[flabel][wid]['train'] = []\n",
    "        feature_sets[flabel][wid]['test'] = []\n",
    "        scaler = StandardScaler()\n",
    "        for uindex, uid in enumerate(x_train): \n",
    "            print('\\r', 'Set:', flabel, '\\tWeek:', wid, '\\tMode: train', '\\tProgress:', uindex + 1, len(x_train), \"\\t ID:\", uid, end='')\n",
    "            udata = events[(events['AccountUserID'] == uid) & (events['Week'] < wid)]\n",
    "            if len(udata) > 0:\n",
    "                feature_sets[flabel][wid]['train'].append(ffunc.getUserFeatures(udata))\n",
    "            else:\n",
    "                feature_sets[flabel][wid]['train'].append([0 for i in range(ffunc.getNbFeatures())])\n",
    "        feature_sets[flabel][wid]['train'] = scaler.fit_transform(np.array(feature_sets[flabel][wid]['train']))\n",
    "\n",
    "        print()\n",
    "        for uindex, uid in enumerate(x_test): \n",
    "            print('\\r', 'Set:', flabel, '\\tWeek:', wid, '\\tMode: test', '\\tProgress:', uindex + 1, len(x_test), end='')\n",
    "            udata = events[(events['AccountUserID'] == uid) & (events['Week'] < wid)]\n",
    "            if len(udata) > 0:\n",
    "                feature_sets[flabel][wid]['test'].append(ffunc.getUserFeatures(udata))\n",
    "            else:\n",
    "                feature_sets[flabel][wid]['test'].append([0 for i in range(ffunc.getNbFeatures())])\n",
    "        feature_sets[flabel][wid]['test'] = list(scaler.fit_transform(np.array(feature_sets[flabel][wid]['test'])))\n",
    "        print()"
   ]
  },
  {
   "cell_type": "markdown",
   "metadata": {},
   "source": [
    "## Predictive Models"
   ]
  },
  {
   "cell_type": "code",
   "execution_count": 155,
   "metadata": {
    "ExecuteTime": {
     "end_time": "2020-11-20T13:54:20.074380Z",
     "start_time": "2020-11-20T13:54:18.222638Z"
    }
   },
   "outputs": [],
   "source": [
    "classifiers_types = {\n",
    "    'ada': AdaBoostClassifier(),\n",
    "    'dt': DecisionTreeClassifier(max_depth=5),\n",
    "    'gnb': GaussianNB(),\n",
    "    'lr': LogisticRegression(),\n",
    "    'mlp': MLPClassifier(alpha=1, max_iter=1000),\n",
    "    'knn': KNeighborsClassifier(3),\n",
    "    'rf': RandomForestClassifier(max_depth=5, n_estimators=10, max_features=1),\n",
    "    'svm': SVC(gamma=2, C=1)\n",
    "}"
   ]
  },
  {
   "cell_type": "code",
   "execution_count": 156,
   "metadata": {
    "ExecuteTime": {
     "end_time": "2020-11-20T13:54:22.146735Z",
     "start_time": "2020-11-20T13:54:20.082016Z"
    }
   },
   "outputs": [
    {
     "name": "stdout",
     "output_type": "stream",
     "text": [
      "lemay_doleck 4\tada dt gnb lr mlp knn rf svm \n",
      "lemay_doleck 8\tada dt gnb lr mlp knn rf svm \n",
      "lemay_doleck 12\tada dt gnb lr mlp knn rf svm \n",
      "lemay_doleck 16\tada dt gnb lr mlp knn rf svm \n",
      "lemay_doleck 20\tada dt gnb lr mlp knn rf svm \n"
     ]
    }
   ],
   "source": [
    "trained_models = {}\n",
    "for ffunc in feature_labels:\n",
    "    flabel = ffunc.getName()\n",
    "    trained_models[flabel] = {}\n",
    "    for wid in week_thresholds:\n",
    "        trained_models[flabel][wid] = {}\n",
    "        print(flabel, wid, end='\\t')\n",
    "        for mid, clf in classifiers_types.items(): \n",
    "            print(mid, end=' ')\n",
    "            trained_models[flabel][wid][mid] = clf.fit(feature_sets[flabel][wid]['train'], y_train)\n",
    "        print()"
   ]
  },
  {
   "cell_type": "markdown",
   "metadata": {},
   "source": [
    "## Evaluation Metrics"
   ]
  },
  {
   "cell_type": "code",
   "execution_count": 157,
   "metadata": {
    "ExecuteTime": {
     "end_time": "2020-11-20T13:54:23.350780Z",
     "start_time": "2020-11-20T13:54:23.080397Z"
    }
   },
   "outputs": [],
   "source": [
    "def tn(y_true, y_pred):\n",
    "    return confusion_matrix(y_true, y_pred).ravel()[0]\n",
    "\n",
    "def fp(y_true, y_pred):\n",
    "    return confusion_matrix(y_true, y_pred).ravel()[1]\n",
    "\n",
    "def fn(y_true, y_pred):\n",
    "    return confusion_matrix(y_true, y_pred).ravel()[2]\n",
    "\n",
    "def tp(y_true, y_pred):\n",
    "    return confusion_matrix(y_true, y_pred).ravel()[3]"
   ]
  },
  {
   "cell_type": "code",
   "execution_count": 158,
   "metadata": {
    "ExecuteTime": {
     "end_time": "2020-11-20T13:54:23.426400Z",
     "start_time": "2020-11-20T13:54:23.371227Z"
    }
   },
   "outputs": [],
   "source": [
    "evaluation_metrics = {\n",
    "    'acc': accuracy_score,\n",
    "    'f1': f1_score,\n",
    "    'p': precision_score, \n",
    "    'r': recall_score,\n",
    "    'tp': tp,\n",
    "    'tn': tn,\n",
    "    'fp': fp,\n",
    "    'fn': fn\n",
    "}"
   ]
  },
  {
   "cell_type": "code",
   "execution_count": 159,
   "metadata": {
    "ExecuteTime": {
     "end_time": "2020-11-20T13:54:24.932735Z",
     "start_time": "2020-11-20T13:54:24.048117Z"
    }
   },
   "outputs": [
    {
     "name": "stdout",
     "output_type": "stream",
     "text": [
      "lemay_doleck 4\tada dt gnb lr mlp knn rf svm \n",
      "lemay_doleck 8\tada dt gnb lr mlp knn rf svm \n",
      "lemay_doleck 12\tada dt gnb lr mlp knn rf svm \n",
      "lemay_doleck 16\tada dt gnb lr mlp knn rf svm \n",
      "lemay_doleck 20\tada dt gnb lr mlp knn rf svm \n"
     ]
    }
   ],
   "source": [
    "results = {}\n",
    "for ffunc in feature_labels:\n",
    "    flabel = ffunc.getName()\n",
    "    results[flabel] = {}\n",
    "    for wid in week_thresholds:\n",
    "        print(flabel, wid, end='\\t')\n",
    "        results[flabel][wid] = {}\n",
    "        for mid, clf in classifiers_types.items(): \n",
    "            print(mid, end=' ')\n",
    "            results[flabel][wid][mid] = {}\n",
    "            for emid, mfunc in evaluation_metrics.items():\n",
    "                results[flabel][wid][mid][emid] = mfunc(y_test, clf.predict(feature_sets[flabel][wid]['test']))\n",
    "        print()"
   ]
  },
  {
   "cell_type": "markdown",
   "metadata": {},
   "source": [
    "## Results Presentation"
   ]
  },
  {
   "cell_type": "code",
   "execution_count": 160,
   "metadata": {
    "ExecuteTime": {
     "end_time": "2020-11-20T13:54:27.183392Z",
     "start_time": "2020-11-20T13:54:27.129343Z"
    }
   },
   "outputs": [],
   "source": [
    "lst_data = []\n",
    "lst_name = []\n",
    "for flabel in results.keys():\n",
    "    for wid in results[flabel].keys():\n",
    "        for mid in results[flabel][wid].keys():\n",
    "            lst_data.append([wid, flabel, mid] + [value for _, value in results[flabel][wid][mid].items()])  \n",
    "            lst_name = ['week', 'set', 'clf'] + [emid for emid, _ in results[flabel][wid][mid].items()]"
   ]
  },
  {
   "cell_type": "code",
   "execution_count": 161,
   "metadata": {
    "ExecuteTime": {
     "end_time": "2020-11-20T13:54:27.545143Z",
     "start_time": "2020-11-20T13:54:27.491597Z"
    }
   },
   "outputs": [],
   "source": [
    "df_results = pd.DataFrame(lst_data, columns = lst_name)"
   ]
  },
  {
   "cell_type": "code",
   "execution_count": 162,
   "metadata": {
    "ExecuteTime": {
     "end_time": "2020-11-20T13:54:28.003544Z",
     "start_time": "2020-11-20T13:54:27.933092Z"
    }
   },
   "outputs": [
    {
     "data": {
      "text/html": [
       "<div>\n",
       "<style scoped>\n",
       "    .dataframe tbody tr th:only-of-type {\n",
       "        vertical-align: middle;\n",
       "    }\n",
       "\n",
       "    .dataframe tbody tr th {\n",
       "        vertical-align: top;\n",
       "    }\n",
       "\n",
       "    .dataframe thead th {\n",
       "        text-align: right;\n",
       "    }\n",
       "</style>\n",
       "<table border=\"1\" class=\"dataframe\">\n",
       "  <thead>\n",
       "    <tr style=\"text-align: right;\">\n",
       "      <th></th>\n",
       "      <th></th>\n",
       "      <th></th>\n",
       "      <th>acc</th>\n",
       "      <th>f1</th>\n",
       "      <th>p</th>\n",
       "      <th>r</th>\n",
       "      <th>tp</th>\n",
       "      <th>tn</th>\n",
       "      <th>fp</th>\n",
       "      <th>fn</th>\n",
       "    </tr>\n",
       "    <tr>\n",
       "      <th>week</th>\n",
       "      <th>set</th>\n",
       "      <th>clf</th>\n",
       "      <th></th>\n",
       "      <th></th>\n",
       "      <th></th>\n",
       "      <th></th>\n",
       "      <th></th>\n",
       "      <th></th>\n",
       "      <th></th>\n",
       "      <th></th>\n",
       "    </tr>\n",
       "  </thead>\n",
       "  <tbody>\n",
       "    <tr>\n",
       "      <th rowspan=\"8\" valign=\"top\">8</th>\n",
       "      <th rowspan=\"8\" valign=\"top\">lemay_doleck</th>\n",
       "      <th>ada</th>\n",
       "      <td>0.576923</td>\n",
       "      <td>0.666667</td>\n",
       "      <td>0.647059</td>\n",
       "      <td>0.6875</td>\n",
       "      <td>11</td>\n",
       "      <td>4</td>\n",
       "      <td>6</td>\n",
       "      <td>5</td>\n",
       "    </tr>\n",
       "    <tr>\n",
       "      <th>dt</th>\n",
       "      <td>0.576923</td>\n",
       "      <td>0.645161</td>\n",
       "      <td>0.666667</td>\n",
       "      <td>0.6250</td>\n",
       "      <td>10</td>\n",
       "      <td>5</td>\n",
       "      <td>5</td>\n",
       "      <td>6</td>\n",
       "    </tr>\n",
       "    <tr>\n",
       "      <th>gnb</th>\n",
       "      <td>0.615385</td>\n",
       "      <td>0.722222</td>\n",
       "      <td>0.650000</td>\n",
       "      <td>0.8125</td>\n",
       "      <td>13</td>\n",
       "      <td>3</td>\n",
       "      <td>7</td>\n",
       "      <td>3</td>\n",
       "    </tr>\n",
       "    <tr>\n",
       "      <th>lr</th>\n",
       "      <td>0.653846</td>\n",
       "      <td>0.769231</td>\n",
       "      <td>0.652174</td>\n",
       "      <td>0.9375</td>\n",
       "      <td>15</td>\n",
       "      <td>2</td>\n",
       "      <td>8</td>\n",
       "      <td>1</td>\n",
       "    </tr>\n",
       "    <tr>\n",
       "      <th>mlp</th>\n",
       "      <td>0.615385</td>\n",
       "      <td>0.736842</td>\n",
       "      <td>0.636364</td>\n",
       "      <td>0.8750</td>\n",
       "      <td>14</td>\n",
       "      <td>2</td>\n",
       "      <td>8</td>\n",
       "      <td>2</td>\n",
       "    </tr>\n",
       "    <tr>\n",
       "      <th>knn</th>\n",
       "      <td>0.653846</td>\n",
       "      <td>0.742857</td>\n",
       "      <td>0.684211</td>\n",
       "      <td>0.8125</td>\n",
       "      <td>13</td>\n",
       "      <td>4</td>\n",
       "      <td>6</td>\n",
       "      <td>3</td>\n",
       "    </tr>\n",
       "    <tr>\n",
       "      <th>rf</th>\n",
       "      <td>0.615385</td>\n",
       "      <td>0.705882</td>\n",
       "      <td>0.666667</td>\n",
       "      <td>0.7500</td>\n",
       "      <td>12</td>\n",
       "      <td>4</td>\n",
       "      <td>6</td>\n",
       "      <td>4</td>\n",
       "    </tr>\n",
       "    <tr>\n",
       "      <th>svm</th>\n",
       "      <td>0.615385</td>\n",
       "      <td>0.705882</td>\n",
       "      <td>0.666667</td>\n",
       "      <td>0.7500</td>\n",
       "      <td>12</td>\n",
       "      <td>4</td>\n",
       "      <td>6</td>\n",
       "      <td>4</td>\n",
       "    </tr>\n",
       "  </tbody>\n",
       "</table>\n",
       "</div>"
      ],
      "text/plain": [
       "                            acc        f1         p       r  tp  tn  fp  fn\n",
       "week set          clf                                                      \n",
       "8    lemay_doleck ada  0.576923  0.666667  0.647059  0.6875  11   4   6   5\n",
       "                  dt   0.576923  0.645161  0.666667  0.6250  10   5   5   6\n",
       "                  gnb  0.615385  0.722222  0.650000  0.8125  13   3   7   3\n",
       "                  lr   0.653846  0.769231  0.652174  0.9375  15   2   8   1\n",
       "                  mlp  0.615385  0.736842  0.636364  0.8750  14   2   8   2\n",
       "                  knn  0.653846  0.742857  0.684211  0.8125  13   4   6   3\n",
       "                  rf   0.615385  0.705882  0.666667  0.7500  12   4   6   4\n",
       "                  svm  0.615385  0.705882  0.666667  0.7500  12   4   6   4"
      ]
     },
     "execution_count": 162,
     "metadata": {},
     "output_type": "execute_result"
    }
   ],
   "source": [
    "df_results[df_results['week'] == 8].set_index(['week', 'set', 'clf'])"
   ]
  },
  {
   "cell_type": "code",
   "execution_count": 163,
   "metadata": {
    "ExecuteTime": {
     "end_time": "2020-11-20T13:54:28.444224Z",
     "start_time": "2020-11-20T13:54:28.315296Z"
    }
   },
   "outputs": [
    {
     "data": {
      "text/html": [
       "<div>\n",
       "<style scoped>\n",
       "    .dataframe tbody tr th:only-of-type {\n",
       "        vertical-align: middle;\n",
       "    }\n",
       "\n",
       "    .dataframe tbody tr th {\n",
       "        vertical-align: top;\n",
       "    }\n",
       "\n",
       "    .dataframe thead th {\n",
       "        text-align: right;\n",
       "    }\n",
       "</style>\n",
       "<table border=\"1\" class=\"dataframe\">\n",
       "  <thead>\n",
       "    <tr style=\"text-align: right;\">\n",
       "      <th></th>\n",
       "      <th></th>\n",
       "      <th></th>\n",
       "      <th>acc</th>\n",
       "      <th>f1</th>\n",
       "      <th>p</th>\n",
       "      <th>r</th>\n",
       "      <th>tp</th>\n",
       "      <th>tn</th>\n",
       "      <th>fp</th>\n",
       "      <th>fn</th>\n",
       "    </tr>\n",
       "    <tr>\n",
       "      <th>week</th>\n",
       "      <th>set</th>\n",
       "      <th>clf</th>\n",
       "      <th></th>\n",
       "      <th></th>\n",
       "      <th></th>\n",
       "      <th></th>\n",
       "      <th></th>\n",
       "      <th></th>\n",
       "      <th></th>\n",
       "      <th></th>\n",
       "    </tr>\n",
       "  </thead>\n",
       "  <tbody>\n",
       "    <tr>\n",
       "      <th rowspan=\"8\" valign=\"top\">16</th>\n",
       "      <th rowspan=\"8\" valign=\"top\">lemay_doleck</th>\n",
       "      <th>ada</th>\n",
       "      <td>0.692308</td>\n",
       "      <td>0.764706</td>\n",
       "      <td>0.722222</td>\n",
       "      <td>0.8125</td>\n",
       "      <td>13</td>\n",
       "      <td>5</td>\n",
       "      <td>5</td>\n",
       "      <td>3</td>\n",
       "    </tr>\n",
       "    <tr>\n",
       "      <th>dt</th>\n",
       "      <td>0.615385</td>\n",
       "      <td>0.736842</td>\n",
       "      <td>0.636364</td>\n",
       "      <td>0.8750</td>\n",
       "      <td>14</td>\n",
       "      <td>2</td>\n",
       "      <td>8</td>\n",
       "      <td>2</td>\n",
       "    </tr>\n",
       "    <tr>\n",
       "      <th>gnb</th>\n",
       "      <td>0.615385</td>\n",
       "      <td>0.722222</td>\n",
       "      <td>0.650000</td>\n",
       "      <td>0.8125</td>\n",
       "      <td>13</td>\n",
       "      <td>3</td>\n",
       "      <td>7</td>\n",
       "      <td>3</td>\n",
       "    </tr>\n",
       "    <tr>\n",
       "      <th>lr</th>\n",
       "      <td>0.653846</td>\n",
       "      <td>0.769231</td>\n",
       "      <td>0.652174</td>\n",
       "      <td>0.9375</td>\n",
       "      <td>15</td>\n",
       "      <td>2</td>\n",
       "      <td>8</td>\n",
       "      <td>1</td>\n",
       "    </tr>\n",
       "    <tr>\n",
       "      <th>mlp</th>\n",
       "      <td>0.615385</td>\n",
       "      <td>0.750000</td>\n",
       "      <td>0.625000</td>\n",
       "      <td>0.9375</td>\n",
       "      <td>15</td>\n",
       "      <td>1</td>\n",
       "      <td>9</td>\n",
       "      <td>1</td>\n",
       "    </tr>\n",
       "    <tr>\n",
       "      <th>knn</th>\n",
       "      <td>0.461538</td>\n",
       "      <td>0.588235</td>\n",
       "      <td>0.555556</td>\n",
       "      <td>0.6250</td>\n",
       "      <td>10</td>\n",
       "      <td>2</td>\n",
       "      <td>8</td>\n",
       "      <td>6</td>\n",
       "    </tr>\n",
       "    <tr>\n",
       "      <th>rf</th>\n",
       "      <td>0.538462</td>\n",
       "      <td>0.684211</td>\n",
       "      <td>0.590909</td>\n",
       "      <td>0.8125</td>\n",
       "      <td>13</td>\n",
       "      <td>1</td>\n",
       "      <td>9</td>\n",
       "      <td>3</td>\n",
       "    </tr>\n",
       "    <tr>\n",
       "      <th>svm</th>\n",
       "      <td>0.576923</td>\n",
       "      <td>0.702703</td>\n",
       "      <td>0.619048</td>\n",
       "      <td>0.8125</td>\n",
       "      <td>13</td>\n",
       "      <td>2</td>\n",
       "      <td>8</td>\n",
       "      <td>3</td>\n",
       "    </tr>\n",
       "  </tbody>\n",
       "</table>\n",
       "</div>"
      ],
      "text/plain": [
       "                            acc        f1         p       r  tp  tn  fp  fn\n",
       "week set          clf                                                      \n",
       "16   lemay_doleck ada  0.692308  0.764706  0.722222  0.8125  13   5   5   3\n",
       "                  dt   0.615385  0.736842  0.636364  0.8750  14   2   8   2\n",
       "                  gnb  0.615385  0.722222  0.650000  0.8125  13   3   7   3\n",
       "                  lr   0.653846  0.769231  0.652174  0.9375  15   2   8   1\n",
       "                  mlp  0.615385  0.750000  0.625000  0.9375  15   1   9   1\n",
       "                  knn  0.461538  0.588235  0.555556  0.6250  10   2   8   6\n",
       "                  rf   0.538462  0.684211  0.590909  0.8125  13   1   9   3\n",
       "                  svm  0.576923  0.702703  0.619048  0.8125  13   2   8   3"
      ]
     },
     "execution_count": 163,
     "metadata": {},
     "output_type": "execute_result"
    }
   ],
   "source": [
    "df_results[df_results['week'] == 16].set_index(['week', 'set', 'clf'])"
   ]
  },
  {
   "cell_type": "code",
   "execution_count": null,
   "metadata": {},
   "outputs": [],
   "source": []
  }
 ],
 "metadata": {
  "kernelspec": {
   "display_name": "Python 3",
   "language": "python",
   "name": "python3"
  },
  "language_info": {
   "codemirror_mode": {
    "name": "ipython",
    "version": 3
   },
   "file_extension": ".py",
   "mimetype": "text/x-python",
   "name": "python",
   "nbconvert_exporter": "python",
   "pygments_lexer": "ipython3",
   "version": "3.7.1"
  },
  "toc": {
   "base_numbering": 1,
   "nav_menu": {},
   "number_sections": true,
   "sideBar": true,
   "skip_h1_title": false,
   "title_cell": "Table of Contents",
   "title_sidebar": "Contents",
   "toc_cell": false,
   "toc_position": {},
   "toc_section_display": true,
   "toc_window_display": false
  }
 },
 "nbformat": 4,
 "nbformat_minor": 1
}
