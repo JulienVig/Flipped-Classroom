{
 "cells": [
  {
   "cell_type": "markdown",
   "metadata": {},
   "source": [
    "# Baseline algorithms for early warning systems"
   ]
  },
  {
   "cell_type": "code",
   "execution_count": 1,
   "metadata": {
    "ExecuteTime": {
     "end_time": "2020-11-20T22:24:36.486315Z",
     "start_time": "2020-11-20T22:24:20.515516Z"
    }
   },
   "outputs": [
    {
     "name": "stderr",
     "output_type": "stream",
     "text": [
      "/Applications/anaconda3/lib/python3.7/site-packages/sklearn/utils/deprecation.py:143: FutureWarning: The sklearn.cluster.k_means_ module is  deprecated in version 0.22 and will be removed in version 0.24. The corresponding classes / functions should instead be imported from sklearn.cluster. Anything that cannot be imported from sklearn.cluster is now part of the private API.\n",
      "  warnings.warn(message, FutureWarning)\n",
      "/Applications/anaconda3/lib/python3.7/site-packages/statsmodels/tools/_testing.py:19: FutureWarning: pandas.util.testing is deprecated. Use the functions in the public API at pandas.testing instead.\n",
      "  import pandas.util.testing as tm\n"
     ]
    }
   ],
   "source": [
    "from tslearn.clustering import TimeSeriesKMeans, silhouette_score\n",
    "from sklearn.metrics import silhouette_score, confusion_matrix\n",
    "from sklearn.cluster import AgglomerativeClustering, KMeans\n",
    "from sklearn.model_selection import train_test_split\n",
    "from sklearn.metrics import plot_confusion_matrix\n",
    "from sklearn.preprocessing import StandardScaler\n",
    "from datetime import datetime, timedelta, date\n",
    "from scipy.cluster.hierarchy import dendrogram\n",
    "from sklearn.metrics import confusion_matrix\n",
    "from sklearn.decomposition import PCA\n",
    "from scipy.stats import mannwhitneyu\n",
    "from sklearn.cluster import KMeans\n",
    "import matplotlib.pyplot as plt\n",
    "from datetime import datetime as dt\n",
    "from tqdm import tqdm\n",
    "import seaborn as sns\n",
    "import pandas as pd\n",
    "import numpy as np\n",
    "import calplot\n",
    "import time\n",
    "import math\n",
    "import json\n",
    "import sys\n",
    "import os"
   ]
  },
  {
   "cell_type": "code",
   "execution_count": 2,
   "metadata": {
    "ExecuteTime": {
     "end_time": "2020-11-20T22:24:36.662994Z",
     "start_time": "2020-11-20T22:24:36.490177Z"
    }
   },
   "outputs": [],
   "source": [
    "from sklearn.metrics import accuracy_score, precision_score, recall_score, f1_score, confusion_matrix\n",
    "from sklearn.model_selection import train_test_split\n",
    "from sklearn.ensemble import RandomForestClassifier\n",
    "from sklearn.linear_model import LogisticRegression\n",
    "from sklearn.neighbors import KNeighborsClassifier\n",
    "from sklearn.preprocessing import StandardScaler\n",
    "from sklearn.neural_network import MLPClassifier\n",
    "from sklearn.tree import DecisionTreeClassifier\n",
    "from sklearn.ensemble import AdaBoostClassifier\n",
    "from sklearn.naive_bayes import GaussianNB\n",
    "from sklearn.svm import SVC"
   ]
  },
  {
   "cell_type": "code",
   "execution_count": 3,
   "metadata": {
    "ExecuteTime": {
     "end_time": "2020-11-20T22:24:36.675278Z",
     "start_time": "2020-11-20T22:24:36.667631Z"
    }
   },
   "outputs": [],
   "source": [
    "sys.path.append(os.path.abspath(os.path.join('..')))"
   ]
  },
  {
   "cell_type": "code",
   "execution_count": 4,
   "metadata": {
    "ExecuteTime": {
     "end_time": "2020-11-20T22:24:36.766743Z",
     "start_time": "2020-11-20T22:24:36.680313Z"
    }
   },
   "outputs": [],
   "source": [
    "%load_ext autoreload\n",
    "%autoreload 2"
   ]
  },
  {
   "cell_type": "code",
   "execution_count": 5,
   "metadata": {
    "ExecuteTime": {
     "end_time": "2020-11-20T22:24:42.328383Z",
     "start_time": "2020-11-20T22:24:36.771236Z"
    }
   },
   "outputs": [],
   "source": [
    "from helpers.db_connector import MySQLConnector\n",
    "from helpers.feature_extraction import *\n",
    "from helpers.data_process import *\n",
    "from helpers.db_query import *\n",
    "from helpers.time import *"
   ]
  },
  {
   "cell_type": "code",
   "execution_count": 6,
   "metadata": {
    "ExecuteTime": {
     "end_time": "2020-11-20T22:24:46.059024Z",
     "start_time": "2020-11-20T22:24:42.330827Z"
    }
   },
   "outputs": [],
   "source": [
    "from extractors.boroujeni_et_al import BoroujeniEtAl\n",
    "from extractors.lalle_conati import LalleConati\n",
    "from extractors.lemay_doleck import LemayDoleck"
   ]
  },
  {
   "cell_type": "code",
   "execution_count": 7,
   "metadata": {
    "ExecuteTime": {
     "end_time": "2020-11-20T22:24:46.120195Z",
     "start_time": "2020-11-20T22:24:46.061722Z"
    }
   },
   "outputs": [],
   "source": [
    "import warnings\n",
    "warnings.filterwarnings('ignore')"
   ]
  },
  {
   "cell_type": "markdown",
   "metadata": {},
   "source": [
    "## Linear Algebra Dataset from Courseware\n",
    "\n",
    "Since Fall 2017, the stream of the EPFL's Linear Algebra course has been taught in a flipped format. The implementation of the flipped classroom was carried out in an incremental manner, as described below:\n",
    "\n",
    "- **Year 2017-2018**: traditional manner (weeks 1-13) - flipped manner (week 14).\n",
    "- **Year 2018-2019**: traditional manner (weeks 1-4, 10-14) - flipped manner (weeks 5-9).\n",
    "- **Year 2019-2020**: traditional manner (weeks 1-4) - flipped manner (weeks 5-14)."
   ]
  },
  {
   "cell_type": "code",
   "execution_count": 8,
   "metadata": {
    "ExecuteTime": {
     "end_time": "2020-11-20T22:24:46.218522Z",
     "start_time": "2020-11-20T22:24:46.129465Z"
    }
   },
   "outputs": [],
   "source": [
    "rounds = ['Y2-2018-19', 'Y3-2019-20']"
   ]
  },
  {
   "cell_type": "markdown",
   "metadata": {},
   "source": [
    "### Identifying Students\n",
    "\n",
    "\n",
    "The flipped course was offered only to volunteering students. The volunteers were collectively assigned into either the experimental and the control group. A stratified random sampling based on gender and the prior background (secondary educational level) of students were used."
   ]
  },
  {
   "cell_type": "code",
   "execution_count": 9,
   "metadata": {
    "ExecuteTime": {
     "end_time": "2020-11-20T22:26:03.826891Z",
     "start_time": "2020-11-20T22:24:46.229101Z"
    }
   },
   "outputs": [
    {
     "name": "stdout",
     "output_type": "stream",
     "text": [
      "CPU times: user 53.5 s, sys: 1.94 s, total: 55.5 s\n",
      "Wall time: 1min 17s\n"
     ]
    }
   ],
   "source": [
    "%time user_data = getUserInfo(prior_knowledge=True)"
   ]
  },
  {
   "cell_type": "markdown",
   "metadata": {},
   "source": [
    "The initial data of volunteers was cleaned, and some participants were removed before we analyzed the data:\n",
    "- The volunteering students who have not been graded were removed. \n",
    "- The repeating students were filtered out, where repeating students are those accessing videos in two different years. \n",
    "- The less active students, i.e., those who have provided less 60 interactions in the platform, were removed. "
   ]
  },
  {
   "cell_type": "code",
   "execution_count": 10,
   "metadata": {
    "ExecuteTime": {
     "end_time": "2020-11-20T22:26:06.368620Z",
     "start_time": "2020-11-20T22:26:03.830848Z"
    }
   },
   "outputs": [
    {
     "data": {
      "image/png": "[encoded data removed]",
      "text/plain": [
       "<Figure size 360x360 with 1 Axes>"
      ]
     },
     "metadata": {
      "needs_background": "light"
     },
     "output_type": "display_data"
    }
   ],
   "source": [
    "sns.displot(user_data, x='Round')\n",
    "plt.ylabel('Number of Students')\n",
    "plt.show()"
   ]
  },
  {
   "cell_type": "markdown",
   "metadata": {},
   "source": [
    "Given that the Y1-2017-2018 round included only one week in a flipped classroom setting, we decided to remove the students of that round.  "
   ]
  },
  {
   "cell_type": "code",
   "execution_count": 11,
   "metadata": {
    "ExecuteTime": {
     "end_time": "2020-11-20T22:26:06.424585Z",
     "start_time": "2020-11-20T22:26:06.371873Z"
    }
   },
   "outputs": [],
   "source": [
    "user_data = user_data[user_data['Round'].isin(rounds)]"
   ]
  },
  {
   "cell_type": "code",
   "execution_count": 12,
   "metadata": {
    "ExecuteTime": {
     "end_time": "2020-11-20T22:26:06.706025Z",
     "start_time": "2020-11-20T22:26:06.426968Z"
    }
   },
   "outputs": [
    {
     "data": {
      "image/png": "[encoded data removed]",
      "text/plain": [
       "<Figure size 360x360 with 1 Axes>"
      ]
     },
     "metadata": {
      "needs_background": "light"
     },
     "output_type": "display_data"
    }
   ],
   "source": [
    "sns.displot(user_data, x='Gender')\n",
    "plt.ylabel('Number of Students')\n",
    "plt.show()"
   ]
  },
  {
   "cell_type": "markdown",
   "metadata": {},
   "source": [
    "This is how our user table looks like. "
   ]
  },
  {
   "cell_type": "code",
   "execution_count": 13,
   "metadata": {
    "ExecuteTime": {
     "end_time": "2020-11-20T22:26:06.790292Z",
     "start_time": "2020-11-20T22:26:06.714431Z"
    }
   },
   "outputs": [
    {
     "data": {
      "text/html": [
       "<div>\n",
       "<style scoped>\n",
       "    .dataframe tbody tr th:only-of-type {\n",
       "        vertical-align: middle;\n",
       "    }\n",
       "\n",
       "    .dataframe tbody tr th {\n",
       "        vertical-align: top;\n",
       "    }\n",
       "\n",
       "    .dataframe thead th {\n",
       "        text-align: right;\n",
       "    }\n",
       "</style>\n",
       "<table border=\"1\" class=\"dataframe\">\n",
       "  <thead>\n",
       "    <tr style=\"text-align: right;\">\n",
       "      <th></th>\n",
       "      <th>AccountUserID</th>\n",
       "      <th>SCIPER</th>\n",
       "      <th>Round</th>\n",
       "      <th>Category</th>\n",
       "      <th>Gender</th>\n",
       "    </tr>\n",
       "  </thead>\n",
       "  <tbody>\n",
       "    <tr>\n",
       "      <th>22</th>\n",
       "      <td>46473</td>\n",
       "      <td>302928</td>\n",
       "      <td>Y2-2018-19</td>\n",
       "      <td>France</td>\n",
       "      <td>M</td>\n",
       "    </tr>\n",
       "    <tr>\n",
       "      <th>23</th>\n",
       "      <td>47067</td>\n",
       "      <td>300559</td>\n",
       "      <td>Y2-2018-19</td>\n",
       "      <td>Suisse.PAM</td>\n",
       "      <td>M</td>\n",
       "    </tr>\n",
       "    <tr>\n",
       "      <th>24</th>\n",
       "      <td>46551</td>\n",
       "      <td>301288</td>\n",
       "      <td>Y2-2018-19</td>\n",
       "      <td>Suisse.Autres</td>\n",
       "      <td>M</td>\n",
       "    </tr>\n",
       "    <tr>\n",
       "      <th>25</th>\n",
       "      <td>46485</td>\n",
       "      <td>302150</td>\n",
       "      <td>Y2-2018-19</td>\n",
       "      <td>France</td>\n",
       "      <td>F</td>\n",
       "    </tr>\n",
       "    <tr>\n",
       "      <th>26</th>\n",
       "      <td>49095</td>\n",
       "      <td>299657</td>\n",
       "      <td>Y2-2018-19</td>\n",
       "      <td>France</td>\n",
       "      <td>F</td>\n",
       "    </tr>\n",
       "  </tbody>\n",
       "</table>\n",
       "</div>"
      ],
      "text/plain": [
       "   AccountUserID  SCIPER       Round       Category Gender\n",
       "22         46473  302928  Y2-2018-19         France      M\n",
       "23         47067  300559  Y2-2018-19     Suisse.PAM      M\n",
       "24         46551  301288  Y2-2018-19  Suisse.Autres      M\n",
       "25         46485  302150  Y2-2018-19         France      F\n",
       "26         49095  299657  Y2-2018-19         France      F"
      ]
     },
     "execution_count": 13,
     "metadata": {},
     "output_type": "execute_result"
    }
   ],
   "source": [
    "user_data.head()"
   ]
  },
  {
   "cell_type": "code",
   "execution_count": 14,
   "metadata": {
    "ExecuteTime": {
     "end_time": "2020-11-20T22:26:06.857994Z",
     "start_time": "2020-11-20T22:26:06.801193Z"
    },
    "scrolled": true
   },
   "outputs": [
    {
     "data": {
      "text/plain": [
       "'Hence, we will work with 226 students.'"
      ]
     },
     "execution_count": 14,
     "metadata": {},
     "output_type": "execute_result"
    }
   ],
   "source": [
    "\"Hence, we will work with \" + str(len(user_data)) + \" students.\" "
   ]
  },
  {
   "cell_type": "markdown",
   "metadata": {},
   "source": [
    "### Getting Students' Records\n",
    "\n",
    "#### Video Clickstream Records"
   ]
  },
  {
   "cell_type": "code",
   "execution_count": 15,
   "metadata": {
    "ExecuteTime": {
     "end_time": "2020-11-20T22:28:37.180870Z",
     "start_time": "2020-11-20T22:26:06.860876Z"
    },
    "scrolled": true
   },
   "outputs": [
    {
     "name": "stdout",
     "output_type": "stream",
     "text": [
      "CPU times: user 1min 24s, sys: 4.32 s, total: 1min 28s\n",
      "Wall time: 2min 30s\n"
     ]
    }
   ],
   "source": [
    "%time video_data = getVideoEventsInfo(mode='all')"
   ]
  },
  {
   "cell_type": "code",
   "execution_count": 16,
   "metadata": {
    "ExecuteTime": {
     "end_time": "2020-11-20T22:28:39.434522Z",
     "start_time": "2020-11-20T22:28:37.184371Z"
    }
   },
   "outputs": [],
   "source": [
    "video_data = video_data[video_data['Round'].isin(rounds)]"
   ]
  },
  {
   "cell_type": "markdown",
   "metadata": {},
   "source": [
    "This is how our video event table looks like."
   ]
  },
  {
   "cell_type": "code",
   "execution_count": 17,
   "metadata": {
    "ExecuteTime": {
     "end_time": "2020-11-20T22:28:39.501412Z",
     "start_time": "2020-11-20T22:28:39.436666Z"
    }
   },
   "outputs": [
    {
     "data": {
      "text/html": [
       "<div>\n",
       "<style scoped>\n",
       "    .dataframe tbody tr th:only-of-type {\n",
       "        vertical-align: middle;\n",
       "    }\n",
       "\n",
       "    .dataframe tbody tr th {\n",
       "        vertical-align: top;\n",
       "    }\n",
       "\n",
       "    .dataframe thead th {\n",
       "        text-align: right;\n",
       "    }\n",
       "</style>\n",
       "<table border=\"1\" class=\"dataframe\">\n",
       "  <thead>\n",
       "    <tr style=\"text-align: right;\">\n",
       "      <th></th>\n",
       "      <th>AccountUserID</th>\n",
       "      <th>EventType</th>\n",
       "      <th>TimeStamp</th>\n",
       "      <th>VideoID</th>\n",
       "      <th>EventID</th>\n",
       "      <th>SeekType</th>\n",
       "      <th>OldTime</th>\n",
       "      <th>CurrentTime</th>\n",
       "      <th>NewTime</th>\n",
       "      <th>OldSpeed</th>\n",
       "      <th>NewSpeed</th>\n",
       "      <th>Round</th>\n",
       "      <th>ID.Anon</th>\n",
       "      <th>Title</th>\n",
       "      <th>Source</th>\n",
       "      <th>Subchapter</th>\n",
       "      <th>Duration</th>\n",
       "    </tr>\n",
       "  </thead>\n",
       "  <tbody>\n",
       "    <tr>\n",
       "      <th>0</th>\n",
       "      <td>95017</td>\n",
       "      <td>Video.Play</td>\n",
       "      <td>1570355725</td>\n",
       "      <td>ca2fa02b0daa43f295e76da61e53de2a</td>\n",
       "      <td>7e86b0cc3b0a72a4a1f1029dffb2abe4</td>\n",
       "      <td>None</td>\n",
       "      <td>NaN</td>\n",
       "      <td>553.294</td>\n",
       "      <td>NaN</td>\n",
       "      <td>NaN</td>\n",
       "      <td>NaN</td>\n",
       "      <td>Y3-2019-20</td>\n",
       "      <td>3442T2003</td>\n",
       "      <td>Leçon</td>\n",
       "      <td>https://www.youtube.com/watch?v=AFtb4KxwYGY</td>\n",
       "      <td>3.5</td>\n",
       "      <td>NaN</td>\n",
       "    </tr>\n",
       "    <tr>\n",
       "      <th>1</th>\n",
       "      <td>95017</td>\n",
       "      <td>Video.Play</td>\n",
       "      <td>1570355899</td>\n",
       "      <td>ca2fa02b0daa43f295e76da61e53de2a</td>\n",
       "      <td>ca6e7fd174fdad0f3d87c29a579d4563</td>\n",
       "      <td>None</td>\n",
       "      <td>NaN</td>\n",
       "      <td>566.935</td>\n",
       "      <td>NaN</td>\n",
       "      <td>NaN</td>\n",
       "      <td>NaN</td>\n",
       "      <td>Y3-2019-20</td>\n",
       "      <td>3442T2003</td>\n",
       "      <td>Leçon</td>\n",
       "      <td>https://www.youtube.com/watch?v=AFtb4KxwYGY</td>\n",
       "      <td>3.5</td>\n",
       "      <td>NaN</td>\n",
       "    </tr>\n",
       "    <tr>\n",
       "      <th>2</th>\n",
       "      <td>95017</td>\n",
       "      <td>Video.Play</td>\n",
       "      <td>1570355940</td>\n",
       "      <td>ca2fa02b0daa43f295e76da61e53de2a</td>\n",
       "      <td>98a2650f8227bc7dc1350078b0568ef7</td>\n",
       "      <td>None</td>\n",
       "      <td>NaN</td>\n",
       "      <td>604.909</td>\n",
       "      <td>NaN</td>\n",
       "      <td>NaN</td>\n",
       "      <td>NaN</td>\n",
       "      <td>Y3-2019-20</td>\n",
       "      <td>3442T2003</td>\n",
       "      <td>Leçon</td>\n",
       "      <td>https://www.youtube.com/watch?v=AFtb4KxwYGY</td>\n",
       "      <td>3.5</td>\n",
       "      <td>NaN</td>\n",
       "    </tr>\n",
       "    <tr>\n",
       "      <th>3</th>\n",
       "      <td>95017</td>\n",
       "      <td>Video.Pause</td>\n",
       "      <td>1570355694</td>\n",
       "      <td>ca2fa02b0daa43f295e76da61e53de2a</td>\n",
       "      <td>1a9f2889bc8e00ad4d0c1ed634adb7d4</td>\n",
       "      <td>None</td>\n",
       "      <td>NaN</td>\n",
       "      <td>536.849</td>\n",
       "      <td>NaN</td>\n",
       "      <td>NaN</td>\n",
       "      <td>NaN</td>\n",
       "      <td>Y3-2019-20</td>\n",
       "      <td>3442T2003</td>\n",
       "      <td>Leçon</td>\n",
       "      <td>https://www.youtube.com/watch?v=AFtb4KxwYGY</td>\n",
       "      <td>3.5</td>\n",
       "      <td>NaN</td>\n",
       "    </tr>\n",
       "    <tr>\n",
       "      <th>4</th>\n",
       "      <td>95017</td>\n",
       "      <td>Video.Pause</td>\n",
       "      <td>1570355760</td>\n",
       "      <td>ca2fa02b0daa43f295e76da61e53de2a</td>\n",
       "      <td>cd129eac330b9e3459de4e8e8f7b52dd</td>\n",
       "      <td>None</td>\n",
       "      <td>NaN</td>\n",
       "      <td>580.125</td>\n",
       "      <td>NaN</td>\n",
       "      <td>NaN</td>\n",
       "      <td>NaN</td>\n",
       "      <td>Y3-2019-20</td>\n",
       "      <td>3442T2003</td>\n",
       "      <td>Leçon</td>\n",
       "      <td>https://www.youtube.com/watch?v=AFtb4KxwYGY</td>\n",
       "      <td>3.5</td>\n",
       "      <td>NaN</td>\n",
       "    </tr>\n",
       "  </tbody>\n",
       "</table>\n",
       "</div>"
      ],
      "text/plain": [
       "  AccountUserID    EventType   TimeStamp                           VideoID  \\\n",
       "0         95017   Video.Play  1570355725  ca2fa02b0daa43f295e76da61e53de2a   \n",
       "1         95017   Video.Play  1570355899  ca2fa02b0daa43f295e76da61e53de2a   \n",
       "2         95017   Video.Play  1570355940  ca2fa02b0daa43f295e76da61e53de2a   \n",
       "3         95017  Video.Pause  1570355694  ca2fa02b0daa43f295e76da61e53de2a   \n",
       "4         95017  Video.Pause  1570355760  ca2fa02b0daa43f295e76da61e53de2a   \n",
       "\n",
       "                            EventID SeekType  OldTime  CurrentTime  NewTime  \\\n",
       "0  7e86b0cc3b0a72a4a1f1029dffb2abe4     None      NaN      553.294      NaN   \n",
       "1  ca6e7fd174fdad0f3d87c29a579d4563     None      NaN      566.935      NaN   \n",
       "2  98a2650f8227bc7dc1350078b0568ef7     None      NaN      604.909      NaN   \n",
       "3  1a9f2889bc8e00ad4d0c1ed634adb7d4     None      NaN      536.849      NaN   \n",
       "4  cd129eac330b9e3459de4e8e8f7b52dd     None      NaN      580.125      NaN   \n",
       "\n",
       "   OldSpeed  NewSpeed       Round    ID.Anon  Title  \\\n",
       "0       NaN       NaN  Y3-2019-20  3442T2003  Leçon   \n",
       "1       NaN       NaN  Y3-2019-20  3442T2003  Leçon   \n",
       "2       NaN       NaN  Y3-2019-20  3442T2003  Leçon   \n",
       "3       NaN       NaN  Y3-2019-20  3442T2003  Leçon   \n",
       "4       NaN       NaN  Y3-2019-20  3442T2003  Leçon   \n",
       "\n",
       "                                        Source  Subchapter  Duration  \n",
       "0  https://www.youtube.com/watch?v=AFtb4KxwYGY         3.5       NaN  \n",
       "1  https://www.youtube.com/watch?v=AFtb4KxwYGY         3.5       NaN  \n",
       "2  https://www.youtube.com/watch?v=AFtb4KxwYGY         3.5       NaN  \n",
       "3  https://www.youtube.com/watch?v=AFtb4KxwYGY         3.5       NaN  \n",
       "4  https://www.youtube.com/watch?v=AFtb4KxwYGY         3.5       NaN  "
      ]
     },
     "execution_count": 17,
     "metadata": {},
     "output_type": "execute_result"
    }
   ],
   "source": [
    "video_data.head()"
   ]
  },
  {
   "cell_type": "code",
   "execution_count": 18,
   "metadata": {
    "ExecuteTime": {
     "end_time": "2020-11-20T22:28:39.562891Z",
     "start_time": "2020-11-20T22:28:39.505581Z"
    }
   },
   "outputs": [
    {
     "data": {
      "text/plain": [
       "'Hence, we will work with 1416106 video interactions.'"
      ]
     },
     "execution_count": 18,
     "metadata": {},
     "output_type": "execute_result"
    }
   ],
   "source": [
    "\"Hence, we will work with \" + str(len(video_data)) + \" video interactions.\" "
   ]
  },
  {
   "cell_type": "markdown",
   "metadata": {},
   "source": [
    "#### Problem Clickstream Records"
   ]
  },
  {
   "cell_type": "code",
   "execution_count": 19,
   "metadata": {
    "ExecuteTime": {
     "end_time": "2020-11-20T22:30:22.052434Z",
     "start_time": "2020-11-20T22:28:39.565728Z"
    }
   },
   "outputs": [
    {
     "name": "stdout",
     "output_type": "stream",
     "text": [
      "CPU times: user 1min 5s, sys: 2.56 s, total: 1min 7s\n",
      "Wall time: 1min 42s\n"
     ]
    }
   ],
   "source": [
    "%time problem_data = getProblemEventsInfo()"
   ]
  },
  {
   "cell_type": "code",
   "execution_count": 20,
   "metadata": {
    "ExecuteTime": {
     "end_time": "2020-11-20T22:30:23.854203Z",
     "start_time": "2020-11-20T22:30:22.055613Z"
    }
   },
   "outputs": [],
   "source": [
    "problem_data = problem_data[problem_data['Round'].isin(rounds)]"
   ]
  },
  {
   "cell_type": "markdown",
   "metadata": {},
   "source": [
    "This is how our problem event table looks like."
   ]
  },
  {
   "cell_type": "code",
   "execution_count": 21,
   "metadata": {
    "ExecuteTime": {
     "end_time": "2020-11-20T22:30:23.931033Z",
     "start_time": "2020-11-20T22:30:23.856754Z"
    }
   },
   "outputs": [
    {
     "data": {
      "text/html": [
       "<div>\n",
       "<style scoped>\n",
       "    .dataframe tbody tr th:only-of-type {\n",
       "        vertical-align: middle;\n",
       "    }\n",
       "\n",
       "    .dataframe tbody tr th {\n",
       "        vertical-align: top;\n",
       "    }\n",
       "\n",
       "    .dataframe thead th {\n",
       "        text-align: right;\n",
       "    }\n",
       "</style>\n",
       "<table border=\"1\" class=\"dataframe\">\n",
       "  <thead>\n",
       "    <tr style=\"text-align: right;\">\n",
       "      <th></th>\n",
       "      <th>AccountUserID</th>\n",
       "      <th>ProblemID</th>\n",
       "      <th>EventID</th>\n",
       "      <th>EventType</th>\n",
       "      <th>TimeStamp</th>\n",
       "      <th>ProblemType</th>\n",
       "      <th>MaximumSubmissions</th>\n",
       "      <th>Round</th>\n",
       "      <th>ID.Anon</th>\n",
       "      <th>Subchapter</th>\n",
       "    </tr>\n",
       "  </thead>\n",
       "  <tbody>\n",
       "    <tr>\n",
       "      <th>0</th>\n",
       "      <td>46461</td>\n",
       "      <td>ca64971b751847c798f5ff753e3eddfe</td>\n",
       "      <td>48a1d90b23540db487ffbb6b8234e873</td>\n",
       "      <td>Problem.Check</td>\n",
       "      <td>1547885100</td>\n",
       "      <td>Quiz</td>\n",
       "      <td>NaN</td>\n",
       "      <td>Y2-2018-19</td>\n",
       "      <td>1316T729</td>\n",
       "      <td>3.4</td>\n",
       "    </tr>\n",
       "    <tr>\n",
       "      <th>1</th>\n",
       "      <td>46461</td>\n",
       "      <td>ca64971b751847c798f5ff753e3eddfe</td>\n",
       "      <td>afd03bceafc651e5a3c47b18a02b1ad5</td>\n",
       "      <td>Problem.Check</td>\n",
       "      <td>1547885080</td>\n",
       "      <td>Quiz</td>\n",
       "      <td>NaN</td>\n",
       "      <td>Y2-2018-19</td>\n",
       "      <td>1316T729</td>\n",
       "      <td>3.4</td>\n",
       "    </tr>\n",
       "    <tr>\n",
       "      <th>2</th>\n",
       "      <td>46461</td>\n",
       "      <td>ca64971b751847c798f5ff753e3eddfe</td>\n",
       "      <td>1874f3671ab8ccb7303ec0fb7eaa293e</td>\n",
       "      <td>Problem.Check</td>\n",
       "      <td>1547885072</td>\n",
       "      <td>Quiz</td>\n",
       "      <td>NaN</td>\n",
       "      <td>Y2-2018-19</td>\n",
       "      <td>1316T729</td>\n",
       "      <td>3.4</td>\n",
       "    </tr>\n",
       "    <tr>\n",
       "      <th>3</th>\n",
       "      <td>46461</td>\n",
       "      <td>ca64971b751847c798f5ff753e3eddfe</td>\n",
       "      <td>7d1f8148e15577ec152369346c103935</td>\n",
       "      <td>Problem.Check</td>\n",
       "      <td>1547885090</td>\n",
       "      <td>Quiz</td>\n",
       "      <td>NaN</td>\n",
       "      <td>Y2-2018-19</td>\n",
       "      <td>1316T729</td>\n",
       "      <td>3.4</td>\n",
       "    </tr>\n",
       "    <tr>\n",
       "      <th>4</th>\n",
       "      <td>46461</td>\n",
       "      <td>ca64971b751847c798f5ff753e3eddfe</td>\n",
       "      <td>42d7c21581cd80837ecc61b5ef5370e6</td>\n",
       "      <td>Problem.Check</td>\n",
       "      <td>1547885080</td>\n",
       "      <td>Quiz</td>\n",
       "      <td>NaN</td>\n",
       "      <td>Y2-2018-19</td>\n",
       "      <td>1316T729</td>\n",
       "      <td>3.4</td>\n",
       "    </tr>\n",
       "  </tbody>\n",
       "</table>\n",
       "</div>"
      ],
      "text/plain": [
       "  AccountUserID                         ProblemID  \\\n",
       "0         46461  ca64971b751847c798f5ff753e3eddfe   \n",
       "1         46461  ca64971b751847c798f5ff753e3eddfe   \n",
       "2         46461  ca64971b751847c798f5ff753e3eddfe   \n",
       "3         46461  ca64971b751847c798f5ff753e3eddfe   \n",
       "4         46461  ca64971b751847c798f5ff753e3eddfe   \n",
       "\n",
       "                            EventID      EventType   TimeStamp ProblemType  \\\n",
       "0  48a1d90b23540db487ffbb6b8234e873  Problem.Check  1547885100        Quiz   \n",
       "1  afd03bceafc651e5a3c47b18a02b1ad5  Problem.Check  1547885080        Quiz   \n",
       "2  1874f3671ab8ccb7303ec0fb7eaa293e  Problem.Check  1547885072        Quiz   \n",
       "3  7d1f8148e15577ec152369346c103935  Problem.Check  1547885090        Quiz   \n",
       "4  42d7c21581cd80837ecc61b5ef5370e6  Problem.Check  1547885080        Quiz   \n",
       "\n",
       "   MaximumSubmissions       Round   ID.Anon  Subchapter  \n",
       "0                 NaN  Y2-2018-19  1316T729         3.4  \n",
       "1                 NaN  Y2-2018-19  1316T729         3.4  \n",
       "2                 NaN  Y2-2018-19  1316T729         3.4  \n",
       "3                 NaN  Y2-2018-19  1316T729         3.4  \n",
       "4                 NaN  Y2-2018-19  1316T729         3.4  "
      ]
     },
     "execution_count": 21,
     "metadata": {},
     "output_type": "execute_result"
    }
   ],
   "source": [
    "problem_data.head()"
   ]
  },
  {
   "cell_type": "code",
   "execution_count": 22,
   "metadata": {
    "ExecuteTime": {
     "end_time": "2020-11-20T22:30:23.989042Z",
     "start_time": "2020-11-20T22:30:23.934426Z"
    }
   },
   "outputs": [
    {
     "data": {
      "text/plain": [
       "'Hence, we will work with 473924 problem interactions.'"
      ]
     },
     "execution_count": 22,
     "metadata": {},
     "output_type": "execute_result"
    }
   ],
   "source": [
    "\"Hence, we will work with \" + str(len(problem_data)) + \" problem interactions.\" "
   ]
  },
  {
   "cell_type": "markdown",
   "metadata": {},
   "source": [
    "#### Exam Records"
   ]
  },
  {
   "cell_type": "code",
   "execution_count": 23,
   "metadata": {
    "ExecuteTime": {
     "end_time": "2020-11-20T22:32:32.026480Z",
     "start_time": "2020-11-20T22:30:24.000607Z"
    }
   },
   "outputs": [
    {
     "name": "stdout",
     "output_type": "stream",
     "text": [
      "CPU times: user 1min, sys: 1.73 s, total: 1min 2s\n",
      "Wall time: 2min 7s\n"
     ]
    }
   ],
   "source": [
    "%time exam_data = getExamInfo()"
   ]
  },
  {
   "cell_type": "markdown",
   "metadata": {},
   "source": [
    "We filter the exam records of students who have not participated into the study"
   ]
  },
  {
   "cell_type": "code",
   "execution_count": 24,
   "metadata": {
    "ExecuteTime": {
     "end_time": "2020-11-20T22:32:33.693844Z",
     "start_time": "2020-11-20T22:32:32.032005Z"
    }
   },
   "outputs": [],
   "source": [
    "exam_data = exam_data[exam_data['Round'].isin(rounds)]"
   ]
  },
  {
   "cell_type": "markdown",
   "metadata": {},
   "source": [
    "This is how our exam data looks like. "
   ]
  },
  {
   "cell_type": "code",
   "execution_count": 25,
   "metadata": {
    "ExecuteTime": {
     "end_time": "2020-11-20T22:32:33.752628Z",
     "start_time": "2020-11-20T22:32:33.696398Z"
    }
   },
   "outputs": [
    {
     "data": {
      "text/html": [
       "<div>\n",
       "<style scoped>\n",
       "    .dataframe tbody tr th:only-of-type {\n",
       "        vertical-align: middle;\n",
       "    }\n",
       "\n",
       "    .dataframe tbody tr th {\n",
       "        vertical-align: top;\n",
       "    }\n",
       "\n",
       "    .dataframe thead th {\n",
       "        text-align: right;\n",
       "    }\n",
       "</style>\n",
       "<table border=\"1\" class=\"dataframe\">\n",
       "  <thead>\n",
       "    <tr style=\"text-align: right;\">\n",
       "      <th></th>\n",
       "      <th>Grade</th>\n",
       "      <th>GradeDate</th>\n",
       "      <th>Round</th>\n",
       "      <th>AccountUserID</th>\n",
       "    </tr>\n",
       "  </thead>\n",
       "  <tbody>\n",
       "    <tr>\n",
       "      <th>0</th>\n",
       "      <td>5.00</td>\n",
       "      <td>02.2019</td>\n",
       "      <td>Y2-2018-19</td>\n",
       "      <td>46938</td>\n",
       "    </tr>\n",
       "    <tr>\n",
       "      <th>19</th>\n",
       "      <td>5.00</td>\n",
       "      <td>02.2019</td>\n",
       "      <td>Y2-2018-19</td>\n",
       "      <td>12725</td>\n",
       "    </tr>\n",
       "    <tr>\n",
       "      <th>21</th>\n",
       "      <td>5.50</td>\n",
       "      <td>02.2019</td>\n",
       "      <td>Y2-2018-19</td>\n",
       "      <td>46575</td>\n",
       "    </tr>\n",
       "    <tr>\n",
       "      <th>24</th>\n",
       "      <td>6.00</td>\n",
       "      <td>02.2019</td>\n",
       "      <td>Y2-2018-19</td>\n",
       "      <td>46509</td>\n",
       "    </tr>\n",
       "    <tr>\n",
       "      <th>27</th>\n",
       "      <td>5.25</td>\n",
       "      <td>02.2019</td>\n",
       "      <td>Y2-2018-19</td>\n",
       "      <td>12887</td>\n",
       "    </tr>\n",
       "  </tbody>\n",
       "</table>\n",
       "</div>"
      ],
      "text/plain": [
       "    Grade GradeDate       Round AccountUserID\n",
       "0    5.00   02.2019  Y2-2018-19         46938\n",
       "19   5.00   02.2019  Y2-2018-19         12725\n",
       "21   5.50   02.2019  Y2-2018-19         46575\n",
       "24   6.00   02.2019  Y2-2018-19         46509\n",
       "27   5.25   02.2019  Y2-2018-19         12887"
      ]
     },
     "execution_count": 25,
     "metadata": {},
     "output_type": "execute_result"
    }
   ],
   "source": [
    "exam_data.head()"
   ]
  },
  {
   "cell_type": "markdown",
   "metadata": {},
   "source": [
    "#### Event Records"
   ]
  },
  {
   "cell_type": "code",
   "execution_count": 26,
   "metadata": {
    "ExecuteTime": {
     "end_time": "2020-11-20T22:32:34.954381Z",
     "start_time": "2020-11-20T22:32:33.759316Z"
    }
   },
   "outputs": [],
   "source": [
    "events = video_data.append(problem_data)"
   ]
  },
  {
   "cell_type": "code",
   "execution_count": 27,
   "metadata": {
    "ExecuteTime": {
     "end_time": "2020-11-20T22:32:36.518802Z",
     "start_time": "2020-11-20T22:32:34.957614Z"
    }
   },
   "outputs": [],
   "source": [
    "events['Year'] = events['Round'].apply(lambda x: int(x.split('-')[1]))"
   ]
  },
  {
   "cell_type": "markdown",
   "metadata": {},
   "source": [
    "This is how our join event table looks like."
   ]
  },
  {
   "cell_type": "code",
   "execution_count": 28,
   "metadata": {
    "ExecuteTime": {
     "end_time": "2020-11-20T22:32:36.597502Z",
     "start_time": "2020-11-20T22:32:36.521036Z"
    },
    "scrolled": true
   },
   "outputs": [
    {
     "data": {
      "text/html": [
       "<div>\n",
       "<style scoped>\n",
       "    .dataframe tbody tr th:only-of-type {\n",
       "        vertical-align: middle;\n",
       "    }\n",
       "\n",
       "    .dataframe tbody tr th {\n",
       "        vertical-align: top;\n",
       "    }\n",
       "\n",
       "    .dataframe thead th {\n",
       "        text-align: right;\n",
       "    }\n",
       "</style>\n",
       "<table border=\"1\" class=\"dataframe\">\n",
       "  <thead>\n",
       "    <tr style=\"text-align: right;\">\n",
       "      <th></th>\n",
       "      <th>AccountUserID</th>\n",
       "      <th>EventType</th>\n",
       "      <th>TimeStamp</th>\n",
       "      <th>VideoID</th>\n",
       "      <th>EventID</th>\n",
       "      <th>SeekType</th>\n",
       "      <th>OldTime</th>\n",
       "      <th>CurrentTime</th>\n",
       "      <th>NewTime</th>\n",
       "      <th>OldSpeed</th>\n",
       "      <th>...</th>\n",
       "      <th>Round</th>\n",
       "      <th>ID.Anon</th>\n",
       "      <th>Title</th>\n",
       "      <th>Source</th>\n",
       "      <th>Subchapter</th>\n",
       "      <th>Duration</th>\n",
       "      <th>ProblemID</th>\n",
       "      <th>ProblemType</th>\n",
       "      <th>MaximumSubmissions</th>\n",
       "      <th>Year</th>\n",
       "    </tr>\n",
       "  </thead>\n",
       "  <tbody>\n",
       "    <tr>\n",
       "      <th>0</th>\n",
       "      <td>95017</td>\n",
       "      <td>Video.Play</td>\n",
       "      <td>1570355725</td>\n",
       "      <td>ca2fa02b0daa43f295e76da61e53de2a</td>\n",
       "      <td>7e86b0cc3b0a72a4a1f1029dffb2abe4</td>\n",
       "      <td>None</td>\n",
       "      <td>NaN</td>\n",
       "      <td>553.294</td>\n",
       "      <td>NaN</td>\n",
       "      <td>NaN</td>\n",
       "      <td>...</td>\n",
       "      <td>Y3-2019-20</td>\n",
       "      <td>3442T2003</td>\n",
       "      <td>Leçon</td>\n",
       "      <td>https://www.youtube.com/watch?v=AFtb4KxwYGY</td>\n",
       "      <td>3.5</td>\n",
       "      <td>NaN</td>\n",
       "      <td>NaN</td>\n",
       "      <td>NaN</td>\n",
       "      <td>NaN</td>\n",
       "      <td>2019</td>\n",
       "    </tr>\n",
       "    <tr>\n",
       "      <th>1</th>\n",
       "      <td>95017</td>\n",
       "      <td>Video.Play</td>\n",
       "      <td>1570355899</td>\n",
       "      <td>ca2fa02b0daa43f295e76da61e53de2a</td>\n",
       "      <td>ca6e7fd174fdad0f3d87c29a579d4563</td>\n",
       "      <td>None</td>\n",
       "      <td>NaN</td>\n",
       "      <td>566.935</td>\n",
       "      <td>NaN</td>\n",
       "      <td>NaN</td>\n",
       "      <td>...</td>\n",
       "      <td>Y3-2019-20</td>\n",
       "      <td>3442T2003</td>\n",
       "      <td>Leçon</td>\n",
       "      <td>https://www.youtube.com/watch?v=AFtb4KxwYGY</td>\n",
       "      <td>3.5</td>\n",
       "      <td>NaN</td>\n",
       "      <td>NaN</td>\n",
       "      <td>NaN</td>\n",
       "      <td>NaN</td>\n",
       "      <td>2019</td>\n",
       "    </tr>\n",
       "    <tr>\n",
       "      <th>2</th>\n",
       "      <td>95017</td>\n",
       "      <td>Video.Play</td>\n",
       "      <td>1570355940</td>\n",
       "      <td>ca2fa02b0daa43f295e76da61e53de2a</td>\n",
       "      <td>98a2650f8227bc7dc1350078b0568ef7</td>\n",
       "      <td>None</td>\n",
       "      <td>NaN</td>\n",
       "      <td>604.909</td>\n",
       "      <td>NaN</td>\n",
       "      <td>NaN</td>\n",
       "      <td>...</td>\n",
       "      <td>Y3-2019-20</td>\n",
       "      <td>3442T2003</td>\n",
       "      <td>Leçon</td>\n",
       "      <td>https://www.youtube.com/watch?v=AFtb4KxwYGY</td>\n",
       "      <td>3.5</td>\n",
       "      <td>NaN</td>\n",
       "      <td>NaN</td>\n",
       "      <td>NaN</td>\n",
       "      <td>NaN</td>\n",
       "      <td>2019</td>\n",
       "    </tr>\n",
       "    <tr>\n",
       "      <th>3</th>\n",
       "      <td>95017</td>\n",
       "      <td>Video.Pause</td>\n",
       "      <td>1570355694</td>\n",
       "      <td>ca2fa02b0daa43f295e76da61e53de2a</td>\n",
       "      <td>1a9f2889bc8e00ad4d0c1ed634adb7d4</td>\n",
       "      <td>None</td>\n",
       "      <td>NaN</td>\n",
       "      <td>536.849</td>\n",
       "      <td>NaN</td>\n",
       "      <td>NaN</td>\n",
       "      <td>...</td>\n",
       "      <td>Y3-2019-20</td>\n",
       "      <td>3442T2003</td>\n",
       "      <td>Leçon</td>\n",
       "      <td>https://www.youtube.com/watch?v=AFtb4KxwYGY</td>\n",
       "      <td>3.5</td>\n",
       "      <td>NaN</td>\n",
       "      <td>NaN</td>\n",
       "      <td>NaN</td>\n",
       "      <td>NaN</td>\n",
       "      <td>2019</td>\n",
       "    </tr>\n",
       "    <tr>\n",
       "      <th>4</th>\n",
       "      <td>95017</td>\n",
       "      <td>Video.Pause</td>\n",
       "      <td>1570355760</td>\n",
       "      <td>ca2fa02b0daa43f295e76da61e53de2a</td>\n",
       "      <td>cd129eac330b9e3459de4e8e8f7b52dd</td>\n",
       "      <td>None</td>\n",
       "      <td>NaN</td>\n",
       "      <td>580.125</td>\n",
       "      <td>NaN</td>\n",
       "      <td>NaN</td>\n",
       "      <td>...</td>\n",
       "      <td>Y3-2019-20</td>\n",
       "      <td>3442T2003</td>\n",
       "      <td>Leçon</td>\n",
       "      <td>https://www.youtube.com/watch?v=AFtb4KxwYGY</td>\n",
       "      <td>3.5</td>\n",
       "      <td>NaN</td>\n",
       "      <td>NaN</td>\n",
       "      <td>NaN</td>\n",
       "      <td>NaN</td>\n",
       "      <td>2019</td>\n",
       "    </tr>\n",
       "  </tbody>\n",
       "</table>\n",
       "<p>5 rows × 21 columns</p>\n",
       "</div>"
      ],
      "text/plain": [
       "  AccountUserID    EventType   TimeStamp                           VideoID  \\\n",
       "0         95017   Video.Play  1570355725  ca2fa02b0daa43f295e76da61e53de2a   \n",
       "1         95017   Video.Play  1570355899  ca2fa02b0daa43f295e76da61e53de2a   \n",
       "2         95017   Video.Play  1570355940  ca2fa02b0daa43f295e76da61e53de2a   \n",
       "3         95017  Video.Pause  1570355694  ca2fa02b0daa43f295e76da61e53de2a   \n",
       "4         95017  Video.Pause  1570355760  ca2fa02b0daa43f295e76da61e53de2a   \n",
       "\n",
       "                            EventID SeekType  OldTime  CurrentTime  NewTime  \\\n",
       "0  7e86b0cc3b0a72a4a1f1029dffb2abe4     None      NaN      553.294      NaN   \n",
       "1  ca6e7fd174fdad0f3d87c29a579d4563     None      NaN      566.935      NaN   \n",
       "2  98a2650f8227bc7dc1350078b0568ef7     None      NaN      604.909      NaN   \n",
       "3  1a9f2889bc8e00ad4d0c1ed634adb7d4     None      NaN      536.849      NaN   \n",
       "4  cd129eac330b9e3459de4e8e8f7b52dd     None      NaN      580.125      NaN   \n",
       "\n",
       "   OldSpeed  ...       Round    ID.Anon  Title  \\\n",
       "0       NaN  ...  Y3-2019-20  3442T2003  Leçon   \n",
       "1       NaN  ...  Y3-2019-20  3442T2003  Leçon   \n",
       "2       NaN  ...  Y3-2019-20  3442T2003  Leçon   \n",
       "3       NaN  ...  Y3-2019-20  3442T2003  Leçon   \n",
       "4       NaN  ...  Y3-2019-20  3442T2003  Leçon   \n",
       "\n",
       "                                        Source Subchapter  Duration  \\\n",
       "0  https://www.youtube.com/watch?v=AFtb4KxwYGY        3.5       NaN   \n",
       "1  https://www.youtube.com/watch?v=AFtb4KxwYGY        3.5       NaN   \n",
       "2  https://www.youtube.com/watch?v=AFtb4KxwYGY        3.5       NaN   \n",
       "3  https://www.youtube.com/watch?v=AFtb4KxwYGY        3.5       NaN   \n",
       "4  https://www.youtube.com/watch?v=AFtb4KxwYGY        3.5       NaN   \n",
       "\n",
       "   ProblemID ProblemType MaximumSubmissions  Year  \n",
       "0        NaN         NaN                NaN  2019  \n",
       "1        NaN         NaN                NaN  2019  \n",
       "2        NaN         NaN                NaN  2019  \n",
       "3        NaN         NaN                NaN  2019  \n",
       "4        NaN         NaN                NaN  2019  \n",
       "\n",
       "[5 rows x 21 columns]"
      ]
     },
     "execution_count": 28,
     "metadata": {},
     "output_type": "execute_result"
    }
   ],
   "source": [
    "events.head()"
   ]
  },
  {
   "cell_type": "markdown",
   "metadata": {},
   "source": [
    "#### Identify Week"
   ]
  },
  {
   "cell_type": "code",
   "execution_count": 29,
   "metadata": {
    "ExecuteTime": {
     "end_time": "2020-11-20T22:32:36.658059Z",
     "start_time": "2020-11-20T22:32:36.602895Z"
    }
   },
   "outputs": [],
   "source": [
    "noCourseWeeks = 20"
   ]
  },
  {
   "cell_type": "markdown",
   "metadata": {},
   "source": [
    "We get the configuration file (e.g, start and end date) for each round of the course. "
   ]
  },
  {
   "cell_type": "code",
   "execution_count": 30,
   "metadata": {
    "ExecuteTime": {
     "end_time": "2020-11-20T22:32:37.565867Z",
     "start_time": "2020-11-20T22:32:36.662707Z"
    }
   },
   "outputs": [],
   "source": [
    "with open('../config/linear_algebra.json') as f:\n",
    "    config = json.load(f)"
   ]
  },
  {
   "cell_type": "code",
   "execution_count": 31,
   "metadata": {
    "ExecuteTime": {
     "end_time": "2020-11-20T22:32:37.620801Z",
     "start_time": "2020-11-20T22:32:37.568962Z"
    }
   },
   "outputs": [
    {
     "data": {
      "text/plain": [
       "{'Start': '2018-09-17 00:00:00',\n",
       " 'StartFlipped': '2018-10-16 00:00:00',\n",
       " 'End': '2019-01-28 00:00:00',\n",
       " 'Exam': '2019-01-21 00:00:00',\n",
       " 'WeeklyVideoCount': [7, 10, 10, 6, 13, 7, 8, 7, 9, 6],\n",
       " 'FlippedWeeks': [4, 5, 6, 7, 8, 9, 10, 11, 12, 13],\n",
       " 'Midterm': '2018-11-13'}"
      ]
     },
     "execution_count": 31,
     "metadata": {},
     "output_type": "execute_result"
    }
   ],
   "source": [
    "config[rounds[0].split('-')[-2]]"
   ]
  },
  {
   "cell_type": "markdown",
   "metadata": {},
   "source": [
    "We assign each video interaction to a specific week of the course, with the first week of the course round having id 0. "
   ]
  },
  {
   "cell_type": "code",
   "execution_count": null,
   "metadata": {
    "ExecuteTime": {
     "start_time": "2020-11-20T22:24:29.785Z"
    }
   },
   "outputs": [],
   "source": [
    "events['Date'] = events['TimeStamp'].apply(lambda x:string2Datetime(dt.utcfromtimestamp(x).strftime('%Y-%m-%d %H:%M:%S')))"
   ]
  },
  {
   "cell_type": "code",
   "execution_count": null,
   "metadata": {
    "ExecuteTime": {
     "start_time": "2020-11-20T22:24:29.976Z"
    }
   },
   "outputs": [],
   "source": [
    "tmp_events = []\n",
    "for r in rounds:\n",
    "    round_events = events[events['Round'] == r]\n",
    "    tmp_events.append(processWeek(round_events, 'Date', config[r.split('-')[-2]]['Start']))\n",
    "events = pd.concat(tmp_events).copy()"
   ]
  },
  {
   "cell_type": "code",
   "execution_count": null,
   "metadata": {
    "ExecuteTime": {
     "start_time": "2020-11-20T22:24:30.154Z"
    }
   },
   "outputs": [],
   "source": [
    "events['Week'] = events['Week'].apply(lambda x: int(x))"
   ]
  },
  {
   "cell_type": "markdown",
   "metadata": {},
   "source": [
    "Then, we filter only the 14 course weeks. "
   ]
  },
  {
   "cell_type": "code",
   "execution_count": null,
   "metadata": {
    "ExecuteTime": {
     "start_time": "2020-11-20T22:24:30.492Z"
    }
   },
   "outputs": [],
   "source": [
    "events = events[events['Week'].isin(range(noCourseWeeks))]"
   ]
  },
  {
   "cell_type": "markdown",
   "metadata": {},
   "source": [
    "This is how our event table looks like, after week addition. "
   ]
  },
  {
   "cell_type": "code",
   "execution_count": null,
   "metadata": {
    "ExecuteTime": {
     "start_time": "2020-11-20T22:24:30.864Z"
    }
   },
   "outputs": [],
   "source": [
    "events.sort_values(by='Week')"
   ]
  },
  {
   "cell_type": "markdown",
   "metadata": {},
   "source": [
    "## Train-Test Data Split"
   ]
  },
  {
   "cell_type": "code",
   "execution_count": null,
   "metadata": {
    "ExecuteTime": {
     "start_time": "2020-11-20T22:24:31.369Z"
    }
   },
   "outputs": [],
   "source": [
    "mode = 'random' # per-year\n",
    "train_ratio = 0.90\n",
    "task = 'binary' # multi-class, regression"
   ]
  },
  {
   "cell_type": "code",
   "execution_count": null,
   "metadata": {
    "ExecuteTime": {
     "start_time": "2020-11-20T22:24:31.724Z"
    }
   },
   "outputs": [],
   "source": [
    "x = exam_data['AccountUserID'].values\n",
    "\n",
    "if task == 'binary':\n",
    "    print('Binarizing the student grades')\n",
    "    y = [(1 if grade >= 4.0 else 0) for grade in exam_data['Grade']]\n",
    "    print('Pass', y.count(1), 'Fail', y.count(0))"
   ]
  },
  {
   "cell_type": "code",
   "execution_count": null,
   "metadata": {
    "ExecuteTime": {
     "start_time": "2020-11-20T22:24:31.899Z"
    }
   },
   "outputs": [],
   "source": [
    "if mode == 'random':\n",
    "    print('Spitting the whole student population randomly')\n",
    "    x_train, x_test, y_train, y_test = train_test_split(x, y, stratify=y, test_size=1 - train_ratio)\n",
    "    print('Train Pass', y_train.count(1), 'Test Pass', y_test.count(1), 'Train Fail', y_train.count(0), 'Test Fail', y_test.count(0))"
   ]
  },
  {
   "cell_type": "markdown",
   "metadata": {},
   "source": [
    "## Feature Extractors"
   ]
  },
  {
   "cell_type": "code",
   "execution_count": null,
   "metadata": {
    "ExecuteTime": {
     "start_time": "2020-11-20T22:24:32.764Z"
    }
   },
   "outputs": [],
   "source": [
    "week_thresholds = np.arange(4, 24, 4)"
   ]
  },
  {
   "cell_type": "code",
   "execution_count": null,
   "metadata": {
    "ExecuteTime": {
     "start_time": "2020-11-20T22:24:32.990Z"
    }
   },
   "outputs": [],
   "source": [
    "feature_labels = {\n",
    "#     BoroujeniEtAl(),\n",
    "    LalleConati(),\n",
    "#     LemayDoleck(),\n",
    "}"
   ]
  },
  {
   "cell_type": "code",
   "execution_count": null,
   "metadata": {
    "ExecuteTime": {
     "start_time": "2020-11-20T22:24:33.238Z"
    }
   },
   "outputs": [],
   "source": [
    "FEATURE_FILE = 'features_sets.npy'\n",
    "features_already_extracted = os.path.exists(FEATURE_FILE)\n",
    "print(\"Feature already extracted:\", features_already_extracted)\n",
    "if features_already_extracted:\n",
    "    with open(FEATURE_FILE, 'rb') as f:\n",
    "        feature_sets = np.load(f)"
   ]
  },
  {
   "cell_type": "code",
   "execution_count": null,
   "metadata": {
    "ExecuteTime": {
     "start_time": "2020-11-20T22:24:34.408Z"
    },
    "scrolled": false
   },
   "outputs": [],
   "source": [
    "if not features_already_extracted:\n",
    "    feature_sets = {} \n",
    "    for ffunc in feature_labels:\n",
    "        flabel = ffunc.getName()\n",
    "        feature_sets[flabel] = {}\n",
    "        for wid in week_thresholds:\n",
    "            feature_sets[flabel][wid] = {}\n",
    "            feature_sets[flabel][wid]['train'] = []\n",
    "            feature_sets[flabel][wid]['test'] = []\n",
    "            scaler = StandardScaler()\n",
    "            for uindex, uid in enumerate(x_train): \n",
    "                print('\\r', 'Set:', flabel, '\\tWeek:', wid, '\\tMode: train', '\\tProgress:', uindex + 1, len(x_train), \"\\t ID:\", uid, end='')\n",
    "                udata = events[(events['AccountUserID'] == uid) & (events['Week'] < wid)]\n",
    "                if len(udata) > 0:\n",
    "                    feature_sets[flabel][wid]['train'].append(ffunc.getUserFeatures(udata))\n",
    "                else:\n",
    "                    feature_sets[flabel][wid]['train'].append([0 for i in range(ffunc.getNbFeatures())])\n",
    "            feature_sets[flabel][wid]['train'] = scaler.fit_transform(np.array(feature_sets[flabel][wid]['train']))\n",
    "\n",
    "            print()\n",
    "            for uindex, uid in enumerate(x_test): \n",
    "                print('\\r', 'Set:', flabel, '\\tWeek:', wid, '\\tMode: test', '\\tProgress:', uindex + 1, len(x_test), end='')\n",
    "                udata = events[(events['AccountUserID'] == uid) & (events['Week'] < wid)]\n",
    "                if len(udata) > 0:\n",
    "                    feature_sets[flabel][wid]['test'].append(ffunc.getUserFeatures(udata))\n",
    "                else:\n",
    "                    feature_sets[flabel][wid]['test'].append([0 for i in range(ffunc.getNbFeatures())])\n",
    "            feature_sets[flabel][wid]['test'] = list(scaler.fit_transform(np.array(feature_sets[flabel][wid]['test'])))\n",
    "            print()\n",
    "            \n",
    "    with open(FEATURE_FILE, 'wb') as f:\n",
    "        np.save(f, feature_sets)"
   ]
  },
  {
   "cell_type": "markdown",
   "metadata": {},
   "source": [
    "## Predictive Models"
   ]
  },
  {
   "cell_type": "code",
   "execution_count": null,
   "metadata": {
    "ExecuteTime": {
     "start_time": "2020-11-20T22:24:36.706Z"
    }
   },
   "outputs": [],
   "source": [
    "classifiers_types = {\n",
    "    'ada': AdaBoostClassifier(),\n",
    "    'dt': DecisionTreeClassifier(max_depth=5),\n",
    "    'gnb': GaussianNB(),\n",
    "    'lr': LogisticRegression(),\n",
    "    'mlp': MLPClassifier(alpha=1, max_iter=1000),\n",
    "    'knn': KNeighborsClassifier(3),\n",
    "    'rf': RandomForestClassifier(max_depth=5, n_estimators=10, max_features=1),\n",
    "    'svm': SVC(gamma=2, C=1)\n",
    "}"
   ]
  },
  {
   "cell_type": "code",
   "execution_count": null,
   "metadata": {
    "ExecuteTime": {
     "start_time": "2020-11-20T22:24:36.797Z"
    }
   },
   "outputs": [],
   "source": [
    "trained_models = {}\n",
    "for ffunc in feature_labels:\n",
    "    flabel = ffunc.getName()\n",
    "    trained_models[flabel] = {}\n",
    "    for wid in week_thresholds:\n",
    "        trained_models[flabel][wid] = {}\n",
    "        print(flabel, wid, end='\\t')\n",
    "        for mid, clf in classifiers_types.items(): \n",
    "            print(mid, end=' ')\n",
    "            trained_models[flabel][wid][mid] = clf.fit(nan_feature_sets[flabel][wid]['train'], y_train)\n",
    "        print()"
   ]
  },
  {
   "cell_type": "markdown",
   "metadata": {},
   "source": [
    "## Evaluation Metrics"
   ]
  },
  {
   "cell_type": "code",
   "execution_count": null,
   "metadata": {
    "ExecuteTime": {
     "start_time": "2020-11-20T22:24:36.949Z"
    }
   },
   "outputs": [],
   "source": [
    "def tn(y_true, y_pred):\n",
    "    return confusion_matrix(y_true, y_pred).ravel()[0]\n",
    "\n",
    "def fp(y_true, y_pred):\n",
    "    return confusion_matrix(y_true, y_pred).ravel()[1]\n",
    "\n",
    "def fn(y_true, y_pred):\n",
    "    return confusion_matrix(y_true, y_pred).ravel()[2]\n",
    "\n",
    "def tp(y_true, y_pred):\n",
    "    return confusion_matrix(y_true, y_pred).ravel()[3]"
   ]
  },
  {
   "cell_type": "code",
   "execution_count": null,
   "metadata": {
    "ExecuteTime": {
     "start_time": "2020-11-20T22:24:37.035Z"
    }
   },
   "outputs": [],
   "source": [
    "evaluation_metrics = {\n",
    "    'acc': accuracy_score,\n",
    "    'f1': f1_score,\n",
    "    'p': precision_score, \n",
    "    'r': recall_score,\n",
    "    'tp': tp,\n",
    "    'tn': tn,\n",
    "    'fp': fp,\n",
    "    'fn': fn\n",
    "}"
   ]
  },
  {
   "cell_type": "code",
   "execution_count": null,
   "metadata": {
    "ExecuteTime": {
     "start_time": "2020-11-20T22:24:37.120Z"
    }
   },
   "outputs": [],
   "source": [
    "results = {}\n",
    "for ffunc in feature_labels:\n",
    "    flabel = ffunc.getName()\n",
    "    results[flabel] = {}\n",
    "    for wid in week_thresholds:\n",
    "        print(flabel, wid, end='\\t')\n",
    "        results[flabel][wid] = {}\n",
    "        for mid, clf in classifiers_types.items(): \n",
    "            print(mid, end=' ')\n",
    "            results[flabel][wid][mid] = {}\n",
    "            for emid, mfunc in evaluation_metrics.items():\n",
    "                results[flabel][wid][mid][emid] = mfunc(y_test, clf.predict(nan_feature_sets[flabel][wid]['test']))\n",
    "        print()"
   ]
  },
  {
   "cell_type": "markdown",
   "metadata": {},
   "source": [
    "## Results Presentation"
   ]
  },
  {
   "cell_type": "code",
   "execution_count": null,
   "metadata": {
    "ExecuteTime": {
     "start_time": "2020-11-20T22:24:37.288Z"
    }
   },
   "outputs": [],
   "source": [
    "lst_data = []\n",
    "lst_name = []\n",
    "for flabel in results.keys():\n",
    "    for wid in results[flabel].keys():\n",
    "        for mid in results[flabel][wid].keys():\n",
    "            lst_data.append([wid, flabel, mid] + [value for _, value in results[flabel][wid][mid].items()])  \n",
    "            lst_name = ['week', 'set', 'clf'] + [emid for emid, _ in results[flabel][wid][mid].items()]"
   ]
  },
  {
   "cell_type": "code",
   "execution_count": null,
   "metadata": {
    "ExecuteTime": {
     "start_time": "2020-11-20T22:24:37.372Z"
    }
   },
   "outputs": [],
   "source": [
    "df_results = pd.DataFrame(lst_data, columns = lst_name)"
   ]
  },
  {
   "cell_type": "code",
   "execution_count": null,
   "metadata": {
    "ExecuteTime": {
     "start_time": "2020-11-20T22:24:37.456Z"
    }
   },
   "outputs": [],
   "source": [
    "df_results[df_results['week'] == 8].set_index(['week', 'set', 'clf'])"
   ]
  },
  {
   "cell_type": "code",
   "execution_count": null,
   "metadata": {
    "ExecuteTime": {
     "start_time": "2020-11-20T22:24:37.671Z"
    },
    "scrolled": true
   },
   "outputs": [],
   "source": [
    "df_results[df_results['week'] == 16].set_index(['week', 'set', 'clf'])"
   ]
  },
  {
   "cell_type": "code",
   "execution_count": null,
   "metadata": {
    "ExecuteTime": {
     "start_time": "2020-11-20T22:24:37.895Z"
    }
   },
   "outputs": [],
   "source": [
    "with open('test.npy', 'rb') as f:\n",
    "    a = np.load(f)\n",
    "    b = np.load(f)\n",
    "a,b"
   ]
  }
 ],
 "metadata": {
  "kernelspec": {
   "display_name": "Python 3",
   "language": "python",
   "name": "python3"
  },
  "language_info": {
   "codemirror_mode": {
    "name": "ipython",
    "version": 3
   },
   "file_extension": ".py",
   "mimetype": "text/x-python",
   "name": "python",
   "nbconvert_exporter": "python",
   "pygments_lexer": "ipython3",
   "version": "3.7.1"
  },
  "toc": {
   "base_numbering": 1,
   "nav_menu": {},
   "number_sections": true,
   "sideBar": true,
   "skip_h1_title": false,
   "title_cell": "Table of Contents",
   "title_sidebar": "Contents",
   "toc_cell": false,
   "toc_position": {},
   "toc_section_display": true,
   "toc_window_display": false
  }
 },
 "nbformat": 4,
 "nbformat_minor": 1
}
