{
 "cells": [
  {
   "cell_type": "markdown",
   "metadata": {},
   "source": [
    "# Feature Engineering through LSTM Autoencoders"
   ]
  },
  {
   "cell_type": "code",
   "execution_count": 1,
   "metadata": {},
   "outputs": [],
   "source": [
    "import tensorflow as tf\n",
    "import numpy as np"
   ]
  },
  {
   "cell_type": "markdown",
   "metadata": {},
   "source": [
    "## Static Feature Extraction"
   ]
  },
  {
   "cell_type": "code",
   "execution_count": 2,
   "metadata": {},
   "outputs": [],
   "source": [
    "sequence = np.array([[0.1, 0.2, 0.3, 0.4, 0.5, 0.6, 0.7, 0.8, 0.9]]) # reshape input into [samples, timesteps, features]"
   ]
  },
  {
   "cell_type": "code",
   "execution_count": 3,
   "metadata": {},
   "outputs": [],
   "source": [
    "n_features = len(sequence[0])"
   ]
  },
  {
   "cell_type": "code",
   "execution_count": 4,
   "metadata": {},
   "outputs": [],
   "source": [
    "sequence = sequence.reshape((len(sequence), n_features, 1))"
   ]
  },
  {
   "cell_type": "code",
   "execution_count": 5,
   "metadata": {},
   "outputs": [
    {
     "data": {
      "text/plain": [
       "(1, 9, 1)"
      ]
     },
     "execution_count": 5,
     "metadata": {},
     "output_type": "execute_result"
    }
   ],
   "source": [
    "sequence.shape"
   ]
  },
  {
   "cell_type": "markdown",
   "metadata": {},
   "source": [
    "## Encoder-Decoder Definition"
   ]
  },
  {
   "cell_type": "code",
   "execution_count": 7,
   "metadata": {},
   "outputs": [],
   "source": [
    "n_emb = 100"
   ]
  },
  {
   "cell_type": "code",
   "execution_count": 8,
   "metadata": {},
   "outputs": [],
   "source": [
    "x = tf.keras.Input(shape=(n_features, 1,))\n",
    "y = tf.keras.layers.LSTM(n_emb, activation='relu')(x)\n",
    "encoder = tf.keras.models.Model(inputs=[x], outputs=[y], name='encoder')"
   ]
  },
  {
   "cell_type": "code",
   "execution_count": 9,
   "metadata": {},
   "outputs": [
    {
     "name": "stdout",
     "output_type": "stream",
     "text": [
      "Model: \"encoder\"\n",
      "_________________________________________________________________\n",
      "Layer (type)                 Output Shape              Param #   \n",
      "=================================================================\n",
      "input_2 (InputLayer)         [(None, 9, 1)]            0         \n",
      "_________________________________________________________________\n",
      "lstm (LSTM)                  (None, 100)               40800     \n",
      "=================================================================\n",
      "Total params: 40,800\n",
      "Trainable params: 40,800\n",
      "Non-trainable params: 0\n",
      "_________________________________________________________________\n"
     ]
    }
   ],
   "source": [
    "encoder.summary()"
   ]
  },
  {
   "cell_type": "code",
   "execution_count": 11,
   "metadata": {},
   "outputs": [],
   "source": [
    "x = tf.keras.Input(shape=(n_emb,))\n",
    "y = tf.keras.layers.RepeatVector(n_features)(x)\n",
    "y = tf.keras.layers.LSTM(n_emb, activation='relu', return_sequences=True)(y)\n",
    "y = tf.keras.layers.TimeDistributed(tf.keras.layers.Dense(1))(y)\n",
    "decoder = tf.keras.models.Model(inputs=[x], outputs=[y], name='decoder')"
   ]
  },
  {
   "cell_type": "code",
   "execution_count": 12,
   "metadata": {},
   "outputs": [
    {
     "name": "stdout",
     "output_type": "stream",
     "text": [
      "Model: \"decoder\"\n",
      "_________________________________________________________________\n",
      "Layer (type)                 Output Shape              Param #   \n",
      "=================================================================\n",
      "input_4 (InputLayer)         [(None, 100)]             0         \n",
      "_________________________________________________________________\n",
      "repeat_vector (RepeatVector) (None, 9, 100)            0         \n",
      "_________________________________________________________________\n",
      "lstm_1 (LSTM)                (None, 9, 100)            80400     \n",
      "_________________________________________________________________\n",
      "time_distributed (TimeDistri (None, 9, 1)              101       \n",
      "=================================================================\n",
      "Total params: 80,501\n",
      "Trainable params: 80,501\n",
      "Non-trainable params: 0\n",
      "_________________________________________________________________\n"
     ]
    }
   ],
   "source": [
    "decoder.summary()"
   ]
  },
  {
   "cell_type": "code",
   "execution_count": 13,
   "metadata": {},
   "outputs": [],
   "source": [
    "model = tf.keras.models.Model(inputs=[encoder.input], outputs=[decoder(encoder.output)], name='encoder-decoder')"
   ]
  },
  {
   "cell_type": "code",
   "execution_count": 14,
   "metadata": {},
   "outputs": [
    {
     "name": "stdout",
     "output_type": "stream",
     "text": [
      "Model: \"encoder-decoder\"\n",
      "_________________________________________________________________\n",
      "Layer (type)                 Output Shape              Param #   \n",
      "=================================================================\n",
      "input_2 (InputLayer)         [(None, 9, 1)]            0         \n",
      "_________________________________________________________________\n",
      "lstm (LSTM)                  (None, 100)               40800     \n",
      "_________________________________________________________________\n",
      "decoder (Model)              (None, 9, 1)              80501     \n",
      "=================================================================\n",
      "Total params: 121,301\n",
      "Trainable params: 121,301\n",
      "Non-trainable params: 0\n",
      "_________________________________________________________________\n"
     ]
    }
   ],
   "source": [
    "model.summary()"
   ]
  },
  {
   "cell_type": "markdown",
   "metadata": {},
   "source": [
    "## Model Training"
   ]
  },
  {
   "cell_type": "code",
   "execution_count": 16,
   "metadata": {},
   "outputs": [],
   "source": [
    "n_epochs = 300"
   ]
  },
  {
   "cell_type": "code",
   "execution_count": 17,
   "metadata": {},
   "outputs": [],
   "source": [
    "model.compile(optimizer='adam', loss='mse')"
   ]
  },
  {
   "cell_type": "code",
   "execution_count": 18,
   "metadata": {},
   "outputs": [
    {
     "data": {
      "text/plain": [
       "<tensorflow.python.keras.callbacks.History at 0x2b904e689b0>"
      ]
     },
     "execution_count": 18,
     "metadata": {},
     "output_type": "execute_result"
    }
   ],
   "source": [
    "model.fit(sequence, sequence, epochs=n_epochs, verbose=0)"
   ]
  },
  {
   "cell_type": "markdown",
   "metadata": {},
   "source": [
    "## Model Prediction"
   ]
  },
  {
   "cell_type": "code",
   "execution_count": 19,
   "metadata": {},
   "outputs": [],
   "source": [
    "yrec = model.predict(sequence, verbose=0)"
   ]
  },
  {
   "cell_type": "code",
   "execution_count": 20,
   "metadata": {},
   "outputs": [
    {
     "name": "stdout",
     "output_type": "stream",
     "text": [
      "[0.11004128 0.20612499 0.30250552 0.3993719  0.49703354 0.59586954\n",
      " 0.69636166 0.79909474 0.90476537]\n"
     ]
    }
   ],
   "source": [
    "print(yrec[0,:,0])"
   ]
  },
  {
   "cell_type": "markdown",
   "metadata": {},
   "source": [
    "## Example Encoder Usage"
   ]
  },
  {
   "cell_type": "code",
   "execution_count": 21,
   "metadata": {},
   "outputs": [],
   "source": [
    "yemb = encoder.predict(sequence, verbose=0)"
   ]
  },
  {
   "cell_type": "code",
   "execution_count": 22,
   "metadata": {},
   "outputs": [
    {
     "name": "stdout",
     "output_type": "stream",
     "text": [
      "[4.05242480e-02 0.00000000e+00 0.00000000e+00 0.00000000e+00\n",
      " 1.08890153e-01 0.00000000e+00 0.00000000e+00 0.00000000e+00\n",
      " 0.00000000e+00 0.00000000e+00 0.00000000e+00 0.00000000e+00\n",
      " 3.81078832e-02 1.09215647e-01 0.00000000e+00 0.00000000e+00\n",
      " 1.33222342e-01 0.00000000e+00 0.00000000e+00 3.65813039e-02\n",
      " 0.00000000e+00 0.00000000e+00 1.03376940e-01 0.00000000e+00\n",
      " 4.70779603e-03 0.00000000e+00 0.00000000e+00 7.33726174e-02\n",
      " 0.00000000e+00 0.00000000e+00 0.00000000e+00 8.87544975e-02\n",
      " 8.15993920e-02 0.00000000e+00 0.00000000e+00 3.36888507e-02\n",
      " 6.12602532e-02 8.11658055e-02 0.00000000e+00 0.00000000e+00\n",
      " 0.00000000e+00 2.01341640e-02 0.00000000e+00 7.55051970e-02\n",
      " 2.41826512e-02 9.24694240e-02 0.00000000e+00 0.00000000e+00\n",
      " 4.63189408e-02 0.00000000e+00 1.55089656e-04 1.27178490e-01\n",
      " 0.00000000e+00 0.00000000e+00 0.00000000e+00 0.00000000e+00\n",
      " 1.16371885e-01 0.00000000e+00 9.65901744e-03 0.00000000e+00\n",
      " 0.00000000e+00 1.68051049e-02 2.29653828e-02 0.00000000e+00\n",
      " 0.00000000e+00 1.64514214e-01 0.00000000e+00 0.00000000e+00\n",
      " 9.32965428e-02 0.00000000e+00 0.00000000e+00 2.49563437e-02\n",
      " 5.92006091e-03 0.00000000e+00 8.14250410e-02 0.00000000e+00\n",
      " 3.41817439e-02 0.00000000e+00 0.00000000e+00 2.94535188e-04\n",
      " 8.86007771e-02 9.56363156e-02 0.00000000e+00 0.00000000e+00\n",
      " 0.00000000e+00 0.00000000e+00 3.90956774e-02 0.00000000e+00\n",
      " 0.00000000e+00 0.00000000e+00 0.00000000e+00 9.55214053e-02\n",
      " 4.07702290e-02 0.00000000e+00 0.00000000e+00 0.00000000e+00\n",
      " 8.66606385e-02 5.82670160e-02 0.00000000e+00 5.73581718e-02]\n"
     ]
    }
   ],
   "source": [
    "print(yemb[0,:])"
   ]
  },
  {
   "cell_type": "code",
   "execution_count": null,
   "metadata": {},
   "outputs": [],
   "source": []
  }
 ],
 "metadata": {
  "kernelspec": {
   "display_name": "Python 3",
   "language": "python",
   "name": "python3"
  },
  "language_info": {
   "codemirror_mode": {
    "name": "ipython",
    "version": 3
   },
   "file_extension": ".py",
   "mimetype": "text/x-python",
   "name": "python",
   "nbconvert_exporter": "python",
   "pygments_lexer": "ipython3",
   "version": "3.6.8"
  }
 },
 "nbformat": 4,
 "nbformat_minor": 4
}
