{
 "cells": [
  {
   "cell_type": "markdown",
   "metadata": {},
   "source": [
    "# Exploratory study on existing early warning systems"
   ]
  },
  {
   "cell_type": "markdown",
   "metadata": {},
   "source": [
    "## * Setup of the working environment *"
   ]
  },
  {
   "cell_type": "markdown",
   "metadata": {},
   "source": [
    "### Import traditional Python packages"
   ]
  },
  {
   "cell_type": "code",
   "execution_count": 10,
   "metadata": {
    "ExecuteTime": {
     "end_time": "2020-12-08T08:21:51.077453Z",
     "start_time": "2020-12-08T08:21:50.948563Z"
    }
   },
   "outputs": [],
   "source": [
    "from sklearn.metrics import accuracy_score, precision_score, recall_score, f1_score\n",
    "from datetime import datetime as dt, timedelta, date\n",
    "\n",
    "import matplotlib.pyplot as plt\n",
    "import seaborn as sns\n",
    "\n",
    "import pandas as pd\n",
    "import numpy as np\n",
    "import time\n",
    "import math\n",
    "import json\n",
    "import sys\n",
    "import os"
   ]
  },
  {
   "cell_type": "code",
   "execution_count": 11,
   "metadata": {
    "ExecuteTime": {
     "end_time": "2020-12-08T08:21:51.147164Z",
     "start_time": "2020-12-08T08:21:51.097257Z"
    }
   },
   "outputs": [],
   "source": [
    "from sklearn.ensemble import RandomForestClassifier, AdaBoostClassifier\n",
    "from sklearn.linear_model import LogisticRegression, Lasso\n",
    "from sklearn.neighbors import KNeighborsClassifier\n",
    "from sklearn.neural_network import MLPClassifier\n",
    "from sklearn.tree import DecisionTreeClassifier\n",
    "from sklearn.naive_bayes import GaussianNB\n",
    "from sklearn.svm import SVC"
   ]
  },
  {
   "cell_type": "code",
   "execution_count": 12,
   "metadata": {
    "ExecuteTime": {
     "end_time": "2020-12-08T08:21:51.295334Z",
     "start_time": "2020-12-08T08:21:51.247272Z"
    }
   },
   "outputs": [],
   "source": [
    "import warnings\n",
    "warnings.filterwarnings('ignore')"
   ]
  },
  {
   "cell_type": "markdown",
   "metadata": {},
   "source": [
    "### Import custom Python modules"
   ]
  },
  {
   "cell_type": "code",
   "execution_count": 13,
   "metadata": {
    "ExecuteTime": {
     "end_time": "2020-12-08T08:21:51.639781Z",
     "start_time": "2020-12-08T08:21:51.595617Z"
    }
   },
   "outputs": [],
   "source": [
    "sys.path.append(os.path.abspath(os.path.join('..')))"
   ]
  },
  {
   "cell_type": "code",
   "execution_count": 14,
   "metadata": {
    "ExecuteTime": {
     "end_time": "2020-12-08T08:21:51.836312Z",
     "start_time": "2020-12-08T08:21:51.788414Z"
    }
   },
   "outputs": [
    {
     "name": "stdout",
     "output_type": "stream",
     "text": [
      "The autoreload extension is already loaded. To reload it, use:\n",
      "  %reload_ext autoreload\n"
     ]
    }
   ],
   "source": [
    "%load_ext autoreload\n",
    "%autoreload 2"
   ]
  },
  {
   "cell_type": "code",
   "execution_count": 15,
   "metadata": {
    "ExecuteTime": {
     "end_time": "2020-12-08T08:21:52.084786Z",
     "start_time": "2020-12-08T08:21:52.030014Z"
    }
   },
   "outputs": [],
   "source": [
    "from helpers.db_connector import MySQLConnector\n",
    "from helpers.db_query import *\n",
    "\n",
    "from helpers.data_process import *\n",
    "from helpers.feature_extraction import *\n",
    "\n",
    "from extractors.akpinar_et_al import AkpinarEtAl\n",
    "from extractors.boroujeni_et_al import BoroujeniEtAl\n",
    "from extractors.chen_cui import ChenCui\n",
    "from extractors.he_et_al import HeEtAl\n",
    "from extractors.lalle_conati import LalleConati\n",
    "from extractors.lemay_doleck import LemayDoleck\n",
    "from extractors.mbouzao_et_al import MbouzaoEtAl\n",
    "from extractors.mubarak_et_al import MubarakEtAl\n",
    "from extractors.wan_et_al import WanEtAl\n",
    "\n",
    "from helpers.ml_utils import *\n",
    "\n",
    "from helpers.time import *"
   ]
  },
  {
   "cell_type": "markdown",
   "metadata": {},
   "source": [
    "## * Load the clickstream data *\n",
    "\n",
    "Since Fall 2017, the stream of the EPFL's Linear Algebra course has been taught in a flipped format. The implementation of the flipped classroom was carried out in an incremental manner, as described below:\n",
    "\n",
    "- **Year 2017-2018**: traditional manner (weeks 1-13) - flipped manner (week 14).\n",
    "- **Year 2018-2019**: traditional manner (weeks 1-4, 10-14) - flipped manner (weeks 5-9).\n",
    "- **Year 2019-2020**: traditional manner (weeks 1-4) - flipped manner (weeks 5-14)."
   ]
  },
  {
   "cell_type": "code",
   "execution_count": 16,
   "metadata": {
    "ExecuteTime": {
     "end_time": "2020-12-08T08:21:52.655722Z",
     "start_time": "2020-12-08T08:21:52.613853Z"
    }
   },
   "outputs": [],
   "source": [
    "rounds = ['Y2-2018-19', 'Y3-2019-20']"
   ]
  },
  {
   "cell_type": "markdown",
   "metadata": {},
   "source": [
    "### Identifying Students\n",
    "\n",
    "\n",
    "The flipped course was offered only to volunteering students. The volunteers were collectively assigned into either the experimental and the control group. A stratified random sampling based on gender and the prior background (secondary educational level) of students were used."
   ]
  },
  {
   "cell_type": "code",
   "execution_count": 17,
   "metadata": {
    "ExecuteTime": {
     "end_time": "2020-12-08T08:23:07.668437Z",
     "start_time": "2020-12-08T08:21:53.353249Z"
    },
    "scrolled": false
   },
   "outputs": [
    {
     "name": "stdout",
     "output_type": "stream",
     "text": [
      "CPU times: user 52.6 s, sys: 1.98 s, total: 54.6 s\n",
      "Wall time: 1min 14s\n"
     ]
    }
   ],
   "source": [
    "%time userData = getUserInfo(prior_knowledge=True)"
   ]
  },
  {
   "cell_type": "markdown",
   "metadata": {},
   "source": [
    "The initial data of volunteers was cleaned, and some participants were removed before we analyzed the data:\n",
    "- The volunteering students who have not been graded were removed. \n",
    "- The repeating students were filtered out, where repeating students are those accessing videos in two different years. \n",
    "- The less active students, i.e., those who have provided less 60 interactions in the platform, were removed. "
   ]
  },
  {
   "cell_type": "markdown",
   "metadata": {},
   "source": [
    "Given that the Y1-2017-2018 round included only one week in a flipped classroom setting, we will remove the students of that round.  "
   ]
  },
  {
   "cell_type": "code",
   "execution_count": 18,
   "metadata": {
    "ExecuteTime": {
     "end_time": "2020-12-08T08:23:07.715248Z",
     "start_time": "2020-12-08T08:23:07.672470Z"
    }
   },
   "outputs": [],
   "source": [
    "userData = userData[userData['Round'].isin(rounds)]"
   ]
  },
  {
   "cell_type": "markdown",
   "metadata": {},
   "source": [
    "Some of the statistics on the user data are provided below. "
   ]
  },
  {
   "cell_type": "code",
   "execution_count": 19,
   "metadata": {
    "ExecuteTime": {
     "end_time": "2020-12-08T08:23:07.761526Z",
     "start_time": "2020-12-08T08:23:07.719169Z"
    },
    "scrolled": true
   },
   "outputs": [
    {
     "data": {
      "text/plain": [
       "('Number of students:', 214)"
      ]
     },
     "execution_count": 19,
     "metadata": {},
     "output_type": "execute_result"
    }
   ],
   "source": [
    "\"Number of students:\", len(userData)"
   ]
  },
  {
   "cell_type": "code",
   "execution_count": 20,
   "metadata": {
    "ExecuteTime": {
     "end_time": "2020-12-08T08:23:08.052588Z",
     "start_time": "2020-12-08T08:23:07.766205Z"
    }
   },
   "outputs": [
    {
     "data": {
      "image/png": "[encoded data removed]",
      "text/plain": [
       "<Figure size 360x360 with 1 Axes>"
      ]
     },
     "metadata": {
      "needs_background": "light"
     },
     "output_type": "display_data"
    }
   ],
   "source": [
    "sns.displot(userData, x='Round')\n",
    "plt.ylabel('Number of Students')\n",
    "plt.show()"
   ]
  },
  {
   "cell_type": "code",
   "execution_count": 21,
   "metadata": {
    "ExecuteTime": {
     "end_time": "2020-12-08T08:23:08.276636Z",
     "start_time": "2020-12-08T08:23:08.056215Z"
    }
   },
   "outputs": [
    {
     "data": {
      "image/png": "[encoded data removed]",
      "text/plain": [
       "<Figure size 360x360 with 1 Axes>"
      ]
     },
     "metadata": {
      "needs_background": "light"
     },
     "output_type": "display_data"
    }
   ],
   "source": [
    "sns.displot(userData, x='Gender')\n",
    "plt.ylabel('Number of Students')\n",
    "plt.show()"
   ]
  },
  {
   "cell_type": "code",
   "execution_count": 22,
   "metadata": {
    "ExecuteTime": {
     "end_time": "2020-12-08T08:23:08.522784Z",
     "start_time": "2020-12-08T08:23:08.280291Z"
    }
   },
   "outputs": [
    {
     "data": {
      "image/png": "[encoded data removed]",
      "text/plain": [
       "<Figure size 360x360 with 1 Axes>"
      ]
     },
     "metadata": {
      "needs_background": "light"
     },
     "output_type": "display_data"
    }
   ],
   "source": [
    "sns.displot(userData, x='Category')\n",
    "plt.ylabel('Number of Students')\n",
    "plt.xticks(rotation=45)\n",
    "plt.show()"
   ]
  },
  {
   "cell_type": "markdown",
   "metadata": {},
   "source": [
    "### Getting Students' Records\n",
    "\n",
    "#### Video Clickstream Records"
   ]
  },
  {
   "cell_type": "code",
   "execution_count": 23,
   "metadata": {
    "ExecuteTime": {
     "end_time": "2020-12-08T08:23:08.562909Z",
     "start_time": "2020-12-08T08:23:08.526444Z"
    },
    "scrolled": true
   },
   "outputs": [],
   "source": [
    "# %time videoData = getVideoEventsInfo(mode='all')"
   ]
  },
  {
   "cell_type": "code",
   "execution_count": 24,
   "metadata": {
    "ExecuteTime": {
     "end_time": "2020-12-08T08:23:08.604101Z",
     "start_time": "2020-12-08T08:23:08.568443Z"
    }
   },
   "outputs": [],
   "source": [
    "# videoData = videoData[videoData['Round'].isin(rounds)]"
   ]
  },
  {
   "cell_type": "code",
   "execution_count": 25,
   "metadata": {
    "ExecuteTime": {
     "end_time": "2020-12-08T08:23:08.645061Z",
     "start_time": "2020-12-08T08:23:08.607902Z"
    }
   },
   "outputs": [],
   "source": [
    "# \"Number of video events:\", len(videoData)"
   ]
  },
  {
   "cell_type": "markdown",
   "metadata": {},
   "source": [
    "#### Problem Clickstream Records"
   ]
  },
  {
   "cell_type": "code",
   "execution_count": 26,
   "metadata": {
    "ExecuteTime": {
     "end_time": "2020-12-08T08:23:08.688903Z",
     "start_time": "2020-12-08T08:23:08.647601Z"
    }
   },
   "outputs": [],
   "source": [
    "# %time problemData = getProblemEventsInfo()"
   ]
  },
  {
   "cell_type": "code",
   "execution_count": 27,
   "metadata": {
    "ExecuteTime": {
     "end_time": "2020-12-08T08:23:08.729609Z",
     "start_time": "2020-12-08T08:23:08.691259Z"
    }
   },
   "outputs": [],
   "source": [
    "# problemData = problemData[problemData['Round'].isin(rounds)]"
   ]
  },
  {
   "cell_type": "code",
   "execution_count": 28,
   "metadata": {
    "ExecuteTime": {
     "end_time": "2020-12-08T08:23:08.769707Z",
     "start_time": "2020-12-08T08:23:08.731788Z"
    }
   },
   "outputs": [],
   "source": [
    "# \"Number of problem events:\", len(problemData)"
   ]
  },
  {
   "cell_type": "markdown",
   "metadata": {},
   "source": [
    "#### Exam Records"
   ]
  },
  {
   "cell_type": "code",
   "execution_count": 29,
   "metadata": {
    "ExecuteTime": {
     "end_time": "2020-12-08T08:24:32.211801Z",
     "start_time": "2020-12-08T08:23:08.772125Z"
    }
   },
   "outputs": [
    {
     "name": "stdout",
     "output_type": "stream",
     "text": [
      "CPU times: user 54.2 s, sys: 2.09 s, total: 56.3 s\n",
      "Wall time: 1min 23s\n"
     ]
    }
   ],
   "source": [
    "%time examData = getExamInfo()"
   ]
  },
  {
   "cell_type": "code",
   "execution_count": 30,
   "metadata": {
    "ExecuteTime": {
     "end_time": "2020-12-08T08:24:32.257529Z",
     "start_time": "2020-12-08T08:24:32.216053Z"
    }
   },
   "outputs": [],
   "source": [
    "examData = examData[examData['Round'].isin(rounds)]"
   ]
  },
  {
   "cell_type": "code",
   "execution_count": 31,
   "metadata": {
    "ExecuteTime": {
     "end_time": "2020-12-08T08:24:32.298397Z",
     "start_time": "2020-12-08T08:24:32.259864Z"
    }
   },
   "outputs": [],
   "source": [
    "examData = examData[examData['AccountUserID'].isin(userData['AccountUserID'])]"
   ]
  },
  {
   "cell_type": "code",
   "execution_count": 32,
   "metadata": {
    "ExecuteTime": {
     "end_time": "2020-12-08T08:24:32.342513Z",
     "start_time": "2020-12-08T08:24:32.300681Z"
    }
   },
   "outputs": [
    {
     "data": {
      "text/plain": [
       "('Number of graded students:', 214)"
      ]
     },
     "execution_count": 32,
     "metadata": {},
     "output_type": "execute_result"
    }
   ],
   "source": [
    "\"Number of graded students:\", len(examData)"
   ]
  },
  {
   "cell_type": "markdown",
   "metadata": {},
   "source": [
    "#### Event Records"
   ]
  },
  {
   "cell_type": "code",
   "execution_count": 33,
   "metadata": {
    "ExecuteTime": {
     "end_time": "2020-12-08T08:24:32.385178Z",
     "start_time": "2020-12-08T08:24:32.346656Z"
    }
   },
   "outputs": [],
   "source": [
    "# eventData = videoData.append(problemData)"
   ]
  },
  {
   "cell_type": "code",
   "execution_count": 34,
   "metadata": {
    "ExecuteTime": {
     "end_time": "2020-12-08T08:24:32.427216Z",
     "start_time": "2020-12-08T08:24:32.388043Z"
    }
   },
   "outputs": [],
   "source": [
    "# eventData['Year'] = eventData['Round'].apply(lambda x: int(x.split('-')[1]))"
   ]
  },
  {
   "cell_type": "markdown",
   "metadata": {},
   "source": [
    "#### Course Week Column"
   ]
  },
  {
   "cell_type": "markdown",
   "metadata": {},
   "source": [
    "We get the configuration file (e.g, start and end date) for each round of the course. "
   ]
  },
  {
   "cell_type": "code",
   "execution_count": 36,
   "metadata": {
    "ExecuteTime": {
     "end_time": "2020-12-08T08:29:17.203560Z",
     "start_time": "2020-12-08T08:29:17.102129Z"
    }
   },
   "outputs": [],
   "source": [
    "# with open('../config/linear_algebra.json') as f:\n",
    "#     config = json.load(f)"
   ]
  },
  {
   "cell_type": "markdown",
   "metadata": {},
   "source": [
    "We assign each video interaction to a specific week of the course, with the first week of the course round having id 0. "
   ]
  },
  {
   "cell_type": "code",
   "execution_count": 37,
   "metadata": {
    "ExecuteTime": {
     "end_time": "2020-12-08T08:29:18.547448Z",
     "start_time": "2020-12-08T08:29:18.493152Z"
    }
   },
   "outputs": [],
   "source": [
    "# eventData['Date'] = eventData['TimeStamp'].apply(lambda x:string2Datetime(dt.utcfromtimestamp(x).strftime('%Y-%m-%d %H:%M:%S')))"
   ]
  },
  {
   "cell_type": "code",
   "execution_count": 38,
   "metadata": {
    "ExecuteTime": {
     "end_time": "2020-12-08T08:29:18.750049Z",
     "start_time": "2020-12-08T08:29:18.685181Z"
    }
   },
   "outputs": [],
   "source": [
    "# tmp_events = []\n",
    "# for r in rounds:\n",
    "#     round_events = eventData[eventData['Round'] == r]\n",
    "#     tmp_events.append(processWeek(round_events, 'Date', config[r.split('-')[-2]]['Start']))\n",
    "# eventData = pd.concat(tmp_events).copy()"
   ]
  },
  {
   "cell_type": "code",
   "execution_count": 39,
   "metadata": {
    "ExecuteTime": {
     "end_time": "2020-12-08T08:29:18.958361Z",
     "start_time": "2020-12-08T08:29:18.872157Z"
    }
   },
   "outputs": [],
   "source": [
    "# eventData['Week'] = eventData['Week'].apply(lambda x: int(x))"
   ]
  },
  {
   "cell_type": "markdown",
   "metadata": {},
   "source": [
    "Then, we filter only the first *noCourseWeeks* course weeks. "
   ]
  },
  {
   "cell_type": "code",
   "execution_count": 40,
   "metadata": {
    "ExecuteTime": {
     "end_time": "2020-12-08T08:29:19.244415Z",
     "start_time": "2020-12-08T08:29:19.184121Z"
    }
   },
   "outputs": [],
   "source": [
    "# eventData = eventData[eventData['Week'].isin(range(20))]"
   ]
  },
  {
   "cell_type": "markdown",
   "metadata": {},
   "source": [
    "## * Cross validation of early warning systems *"
   ]
  },
  {
   "cell_type": "markdown",
   "metadata": {},
   "source": [
    "#### Parameters"
   ]
  },
  {
   "cell_type": "code",
   "execution_count": 41,
   "metadata": {
    "ExecuteTime": {
     "end_time": "2020-12-08T08:29:19.847500Z",
     "start_time": "2020-12-08T08:29:19.796967Z"
    }
   },
   "outputs": [],
   "source": [
    "mode = 'random'\n",
    "task = 'binary'\n",
    "ratio = 80\n",
    "start, end, step = 5, 15, 1\n",
    "iterations = 3"
   ]
  },
  {
   "cell_type": "code",
   "execution_count": 42,
   "metadata": {
    "ExecuteTime": {
     "end_time": "2020-12-08T08:29:20.186649Z",
     "start_time": "2020-12-08T08:29:20.110217Z"
    }
   },
   "outputs": [],
   "source": [
    "weeks = np.arange(start + 1, end, step)"
   ]
  },
  {
   "cell_type": "markdown",
   "metadata": {},
   "source": [
    "#### Feature Sets"
   ]
  },
  {
   "cell_type": "code",
   "execution_count": 43,
   "metadata": {
    "ExecuteTime": {
     "end_time": "2020-12-08T08:29:21.824258Z",
     "start_time": "2020-12-08T08:29:21.779444Z"
    }
   },
   "outputs": [],
   "source": [
    "# featureLabels = [AkpinarEtAl(), BoroujeniEtAl(), ChenCui(), HeEtAl(), LalleConati(), LemayDoleck()]"
   ]
  },
  {
   "cell_type": "code",
   "execution_count": 44,
   "metadata": {
    "ExecuteTime": {
     "end_time": "2020-12-08T08:29:22.407753Z",
     "start_time": "2020-12-08T08:29:22.195376Z"
    }
   },
   "outputs": [
    {
     "name": "stdout",
     "output_type": "stream",
     "text": [
      "> Found features for this experimental setting in ../data/feature_sets/feature_sets_weekly_binary_80_5-15-1.pkl\n"
     ]
    }
   ],
   "source": [
    "featureSets = loadFeatureSets(\"weekly\", task, ratio, start, end, step)"
   ]
  },
  {
   "cell_type": "code",
   "execution_count": null,
   "metadata": {
    "ExecuteTime": {
     "end_time": "2020-12-08T08:24:32.508841Z",
     "start_time": "2020-12-08T08:22:08.582Z"
    }
   },
   "outputs": [],
   "source": [
    "# featureSets = {}"
   ]
  },
  {
   "cell_type": "code",
   "execution_count": null,
   "metadata": {
    "ExecuteTime": {
     "end_time": "2020-12-08T08:24:32.523973Z",
     "start_time": "2020-12-08T08:22:10.415Z"
    }
   },
   "outputs": [],
   "source": [
    "# featureSets = computeFeatures(eventData, examData, featureLabels, featureSets, start, weeks, weekly=True)"
   ]
  },
  {
   "cell_type": "code",
   "execution_count": null,
   "metadata": {
    "ExecuteTime": {
     "end_time": "2020-12-08T08:24:32.547622Z",
     "start_time": "2020-12-08T08:22:18.540Z"
    }
   },
   "outputs": [],
   "source": [
    "# saveFeatureSets(featureSets, \"weekly\", task, ratio, start, end, step)"
   ]
  },
  {
   "cell_type": "markdown",
   "metadata": {},
   "source": [
    "#### Models and Metrics"
   ]
  },
  {
   "cell_type": "code",
   "execution_count": 49,
   "metadata": {
    "ExecuteTime": {
     "end_time": "2020-12-08T08:31:24.718148Z",
     "start_time": "2020-12-08T08:31:23.619303Z"
    }
   },
   "outputs": [
    {
     "name": "stdout",
     "output_type": "stream",
     "text": [
      "> Found models for this experimental setting in ../data/trained_models/trained_models_weekly_all_binary_80_5-15-1.pkl\n"
     ]
    }
   ],
   "source": [
    "trainedModels = loadTrainedModels(\"weekly_all\", task, ratio, start, end, step)"
   ]
  },
  {
   "cell_type": "code",
   "execution_count": 51,
   "metadata": {
    "ExecuteTime": {
     "end_time": "2020-12-08T08:31:35.710615Z",
     "start_time": "2020-12-08T08:31:35.668577Z"
    }
   },
   "outputs": [
    {
     "data": {
      "text/plain": [
       "dict_keys(['akpinar_et_al', 'boroujeni_et_al', 'chen_cui', 'he_et_al', 'lalle_conati', 'lemay_doleck'])"
      ]
     },
     "execution_count": 51,
     "metadata": {},
     "output_type": "execute_result"
    }
   ],
   "source": [
    "trainedModels.keys()"
   ]
  },
  {
   "cell_type": "code",
   "execution_count": 54,
   "metadata": {
    "ExecuteTime": {
     "end_time": "2020-12-08T12:38:16.579658Z",
     "start_time": "2020-12-08T12:37:44.495897Z"
    }
   },
   "outputs": [
    {
     "name": "stdout",
     "output_type": "stream",
     "text": [
      "> Binarizing student grades: [(0, 134), (1, 80)]\n",
      "> Splitting the whole student population randomly: Train 171 [(0, 107), (1, 64)] - Test 43 [(0, 27), (1, 16)]\n",
      "> Evaluated last iteration models\n"
     ]
    }
   ],
   "source": [
    "xTrain, xTest, yTrain, yTest = getTrainTestData(examData, mode, task, ratio / 100.0)\n",
    "evaluationMetrics = {'Acc': accuracy_score, 'F1': f1_score, 'P': precision_score, 'R': recall_score, 'TP': tp, 'FN': fn, 'TN': tn, 'FP': fp, 'TPR': tpr, 'TNR': tnr, 'FPR': fpr, 'FNR': fnr, 'EER': eer }\n",
    "evaluationScores = computeMetrics(None, featureSets, trainedModels, xTest, yTest, evaluationMetrics, {})"
   ]
  },
  {
   "cell_type": "code",
   "execution_count": 63,
   "metadata": {
    "ExecuteTime": {
     "end_time": "2020-12-08T23:21:50.091562Z",
     "start_time": "2020-12-08T23:21:50.046326Z"
    }
   },
   "outputs": [],
   "source": [
    "LOAD_MODEL = False\n",
    "SAVE_MODEL = True"
   ]
  },
  {
   "cell_type": "code",
   "execution_count": 68,
   "metadata": {
    "ExecuteTime": {
     "end_time": "2020-12-08T23:42:08.430494Z",
     "start_time": "2020-12-08T23:24:49.744251Z"
    },
    "scrolled": false
   },
   "outputs": [
    {
     "name": "stdout",
     "output_type": "stream",
     "text": [
      "> Binarizing student grades: [(0, 134), (1, 80)]\n",
      "> Splitting the whole student population randomly: Train 171 [(0, 107), (1, 64)] - Test 43 [(0, 27), (1, 16)]\n",
      "Week: 006 - Algorithm: rf  Training: 0.99 Test: 0.70 CV best: 0.66 \n",
      "Week: 007 - Algorithm: rf  Training: 0.98 Test: 0.56 CV best: 0.70 \n",
      "Week: 008 - Algorithm: rf  Training: 1.00 Test: 0.60 CV best: 0.67 \n",
      "Week: 009 - Algorithm: rf  Training: 0.98 Test: 0.58 CV best: 0.70 \n",
      "Week: 010 - Algorithm: rf  Training: 0.99 Test: 0.67 CV best: 0.65 \n",
      "Week: 011 - Algorithm: rf  Training: 0.96 Test: 0.72 CV best: 0.65 \n",
      "Week: 012 - Algorithm: rf  Training: 0.98 Test: 0.58 CV best: 0.65 \n",
      "Week: 013 - Algorithm: rf  Training: 0.92 Test: 0.58 CV best: 0.67 \n",
      "Week: 014 - Algorithm: rf  Training: 0.78 Test: 0.65 CV best: 0.66 \n",
      "Week: 006 - Algorithm: rf  Training: 0.99 Test: 0.67 CV best: 0.64 \n",
      "Week: 007 - Algorithm: rf  Training: 0.98 Test: 0.63 CV best: 0.65 \n",
      "Week: 008 - Algorithm: rf  Training: 0.99 Test: 0.56 CV best: 0.67 \n",
      "Week: 009 - Algorithm: rf  Training: 0.96 Test: 0.56 CV best: 0.64 \n",
      "Week: 010 - Algorithm: rf  Training: 0.97 Test: 0.53 CV best: 0.58 \n",
      "Week: 011 - Algorithm: rf  Training: 0.95 Test: 0.72 CV best: 0.56 \n",
      "Week: 012 - Algorithm: rf  Training: 0.95 Test: 0.58 CV best: 0.63 \n",
      "Week: 013 - Algorithm: rf  Training: 0.90 Test: 0.58 CV best: 0.60 \n",
      "Week: 014 - Algorithm: rf  Training: 0.75 Test: 0.60 CV best: 0.65 \n",
      "Week: 006 - Algorithm: rf  Training: 0.99 Test: 0.63 CV best: 0.68 \n",
      "Week: 007 - Algorithm: rf  Training: 0.98 Test: 0.53 CV best: 0.71 \n",
      "Week: 008 - Algorithm: rf  Training: 1.00 Test: 0.56 CV best: 0.60 \n",
      "Week: 009 - Algorithm: rf  Training: 0.98 Test: 0.56 CV best: 0.74 \n",
      "Week: 010 - Algorithm: rf  Training: 0.99 Test: 0.60 CV best: 0.65 \n",
      "Week: 011 - Algorithm: rf  Training: 0.96 Test: 0.70 CV best: 0.66 \n",
      "Week: 012 - Algorithm: rf  Training: 0.98 Test: 0.49 CV best: 0.68 \n",
      "Week: 013 - Algorithm: rf  Training: 0.91 Test: 0.49 CV best: 0.67 \n",
      "Week: 014 - Algorithm: rf  Training: 0.78 Test: 0.67 CV best: 0.68 \n",
      "Week: 006 - Algorithm: rf  Training: 0.99 Test: 0.51 CV best: 0.59 \n",
      "Week: 007 - Algorithm: rf  Training: 0.97 Test: 0.51 CV best: 0.63 \n",
      "Week: 008 - Algorithm: rf  Training: 1.00 Test: 0.53 CV best: 0.58 \n",
      "Week: 009 - Algorithm: rf  Training: 0.97 Test: 0.47 CV best: 0.60 \n",
      "Week: 010 - Algorithm: rf  Training: 0.98 Test: 0.60 CV best: 0.57 \n",
      "Week: 011 - Algorithm: rf  Training: 0.94 Test: 0.56 CV best: 0.60 \n",
      "Week: 012 - Algorithm: rf  Training: 0.95 Test: 0.44 CV best: 0.62 \n",
      "Week: 013 - Algorithm: rf  Training: 0.89 Test: 0.65 CV best: 0.61 \n",
      "Week: 014 - Algorithm: rf  Training: 0.77 Test: 0.67 CV best: 0.67 \n",
      "Week: 006 - Algorithm: rf  Training: 0.99 Test: 0.60 CV best: 0.66 \n",
      "Week: 007 - Algorithm: rf  Training: 0.98 Test: 0.56 CV best: 0.68 \n",
      "Week: 008 - Algorithm: rf  Training: 1.00 Test: 0.58 CV best: 0.75 \n",
      "Week: 009 - Algorithm: rf  Training: 0.98 Test: 0.72 CV best: 0.69 \n",
      "Week: 010 - Algorithm: rf  Training: 0.99 Test: 0.58 CV best: 0.62 \n",
      "Week: 011 - Algorithm: rf  Training: 0.96 Test: 0.70 CV best: 0.65 \n",
      "Week: 012 - Algorithm: rf  Training: 0.98 Test: 0.58 CV best: 0.70 \n",
      "Week: 013 - Algorithm: rf  Training: 0.92 Test: 0.56 CV best: 0.61 \n",
      "Week: 014 - Algorithm: rf  Training: 0.79 Test: 0.65 CV best: 0.59 \n",
      "Week: 006 - Algorithm: rf  Training: 0.99 Test: 0.53 CV best: 0.64 \n",
      "Week: 007 - Algorithm: rf  Training: 0.98 Test: 0.58 CV best: 0.61 \n",
      "Week: 008 - Algorithm: rf  Training: 1.00 Test: 0.60 CV best: 0.63 \n",
      "Week: 009 - Algorithm: rf  Training: 0.97 Test: 0.60 CV best: 0.61 \n",
      "Week: 010 - Algorithm: rf  Training: 0.98 Test: 0.47 CV best: 0.65 \n",
      "Week: 011 - Algorithm: rf  Training: 0.95 Test: 0.58 CV best: 0.60 \n",
      "Week: 012 - Algorithm: rf  Training: 0.96 Test: 0.65 CV best: 0.61 \n",
      "Week: 013 - Algorithm: rf  Training: 0.89 Test: 0.56 CV best: 0.65 \n",
      "Week: 014 - Algorithm: rf  Training: 0.77 Test: 0.65 CV best: 0.66 \n",
      "\n",
      "> Evaluated last iteration models\n"
     ]
    }
   ],
   "source": [
    "if not LOAD_MODEL:\n",
    "    evaluationScores = {}\n",
    "    trainedModels={}\n",
    "    SEED = np.random.randint(0, 1e5)\n",
    "\n",
    "    x_train, x_test, y_train, y_test = getTrainTestData(examData, mode, task, ratio / 100.0, random_state=SEED)\n",
    "    classifiersTypes = {\n",
    "#                         'lr': LogisticRegression(), \n",
    "#                         'las': LogisticRegression(),\n",
    "                        'rf': RandomForestClassifier(), \n",
    "                       }\n",
    "    classifiersParams = {\n",
    "                         'rf': {'n_estimators': [25, 50, 100, 200], 'criterion': ('gini', 'entropy'), 'max_features': ('auto', 'sqrt', 'log2')}, \n",
    "#                         'lr': {'penalty': ['l1'], 'C': [1e6], 'solver': ['liblinear']}, \n",
    "#                         'las': {'penalty': ['l1'], 'C': np.logspace(-5, 6, 20), 'solver': ['liblinear']}, \n",
    "                        }\n",
    "\n",
    "    trainedModels, scaler = trainModels(featureSets, x_train, y_train, weeks, classifiersTypes, classifiersParams, trainedModels, True, True, x_test, y_test)\n",
    "\n",
    "    evaluationMetrics = {'Acc': accuracy_score, 'F1': f1_score, 'P': precision_score, 'R': recall_score, 'TP': tp, 'FN': fn, 'TN': tn, 'FP': fp }\n",
    "    evaluationScores = computeMetrics(scaler, featureSets, trainedModels, x_test, y_test, evaluationMetrics, evaluationScores)"
   ]
  },
  {
   "cell_type": "code",
   "execution_count": 69,
   "metadata": {
    "ExecuteTime": {
     "end_time": "2020-12-08T23:42:08.719291Z",
     "start_time": "2020-12-08T23:42:08.432769Z"
    },
    "scrolled": true
   },
   "outputs": [
    {
     "name": "stdout",
     "output_type": "stream",
     "text": [
      "> Saved models for this experimental setting in ../data/trained_models/trained_models_2_weekly_rf_binary_80_5-15-1.pkl\n"
     ]
    }
   ],
   "source": [
    "if SAVE_MODEL:\n",
    "    saveTrainedModels(trainedModels, \"2_weekly_rf\", task, ratio, start, end, step, scaler, SEED)"
   ]
  },
  {
   "cell_type": "code",
   "execution_count": 70,
   "metadata": {
    "ExecuteTime": {
     "end_time": "2020-12-08T23:59:14.243278Z",
     "start_time": "2020-12-08T23:42:08.722362Z"
    }
   },
   "outputs": [
    {
     "name": "stdout",
     "output_type": "stream",
     "text": [
      "> Binarizing student grades: [(0, 134), (1, 80)]\n",
      "> Splitting the whole student population randomly: Train 171 [(0, 107), (1, 64)] - Test 43 [(0, 27), (1, 16)]\n",
      "Week: 006 - Algorithm: rf  Training: 0.99 Test: 0.63 CV best: 0.37 \n",
      "Week: 007 - Algorithm: rf  Training: 0.98 Test: 0.63 CV best: 0.41 \n",
      "Week: 008 - Algorithm: rf  Training: 1.00 Test: 0.65 CV best: 0.26 \n",
      "Week: 009 - Algorithm: rf  Training: 0.98 Test: 0.72 CV best: 0.35 \n",
      "Week: 010 - Algorithm: rf  Training: 0.99 Test: 0.74 CV best: 0.26 \n",
      "Week: 011 - Algorithm: rf  Training: 0.96 Test: 0.63 CV best: 0.40 \n",
      "Week: 012 - Algorithm: rf  Training: 0.98 Test: 0.58 CV best: 0.47 \n",
      "Week: 013 - Algorithm: rf  Training: 0.89 Test: 0.58 CV best: 0.21 \n",
      "Week: 014 - Algorithm: rf  Training: 0.76 Test: 0.67 CV best: 0.19 \n",
      "Week: 006 - Algorithm: rf  Training: 0.99 Test: 0.60 CV best: 0.45 \n",
      "Week: 007 - Algorithm: rf  Training: 0.98 Test: 0.53 CV best: 0.39 \n",
      "Week: 008 - Algorithm: rf  Training: 0.99 Test: 0.53 CV best: 0.47 \n",
      "Week: 009 - Algorithm: rf  Training: 0.96 Test: 0.67 CV best: 0.39 \n",
      "Week: 010 - Algorithm: rf  Training: 0.97 Test: 0.56 CV best: 0.36 \n",
      "Week: 011 - Algorithm: rf  Training: 0.95 Test: 0.60 CV best: 0.41 \n",
      "Week: 012 - Algorithm: rf  Training: 0.95 Test: 0.44 CV best: 0.51 \n",
      "Week: 013 - Algorithm: rf  Training: 0.89 Test: 0.51 CV best: 0.29 \n",
      "Week: 014 - Algorithm: rf  Training: 0.74 Test: 0.70 CV best: 0.25 \n",
      "Week: 006 - Algorithm: rf  Training: 0.99 Test: 0.56 CV best: 0.45 \n",
      "Week: 007 - Algorithm: rf  Training: 0.98 Test: 0.65 CV best: 0.35 \n",
      "Week: 008 - Algorithm: rf  Training: 1.00 Test: 0.49 CV best: 0.43 \n",
      "Week: 009 - Algorithm: rf  Training: 0.98 Test: 0.74 CV best: 0.44 \n",
      "Week: 010 - Algorithm: rf  Training: 0.99 Test: 0.60 CV best: 0.37 \n",
      "Week: 011 - Algorithm: rf  Training: 0.96 Test: 0.58 CV best: 0.47 \n",
      "Week: 012 - Algorithm: rf  Training: 0.98 Test: 0.60 CV best: 0.47 \n",
      "Week: 013 - Algorithm: rf  Training: 0.91 Test: 0.40 CV best: 0.32 \n",
      "Week: 014 - Algorithm: rf  Training: 0.76 Test: 0.70 CV best: 0.32 \n",
      "Week: 006 - Algorithm: rf  Training: 0.97 Test: 0.60 CV best: 0.30 \n",
      "Week: 007 - Algorithm: rf  Training: 0.98 Test: 0.58 CV best: 0.35 \n",
      "Week: 008 - Algorithm: rf  Training: 1.00 Test: 0.63 CV best: 0.30 \n",
      "Week: 009 - Algorithm: rf  Training: 0.96 Test: 0.65 CV best: 0.29 \n",
      "Week: 010 - Algorithm: rf  Training: 0.96 Test: 0.60 CV best: 0.32 \n",
      "Week: 011 - Algorithm: rf  Training: 0.94 Test: 0.67 CV best: 0.40 \n",
      "Week: 012 - Algorithm: rf  Training: 0.95 Test: 0.58 CV best: 0.41 \n",
      "Week: 013 - Algorithm: rf  Training: 0.89 Test: 0.65 CV best: 0.30 \n",
      "Week: 014 - Algorithm: rf  Training: 0.77 Test: 0.67 CV best: 0.28 \n",
      "Week: 006 - Algorithm: rf  Training: 0.99 Test: 0.53 CV best: 0.28 \n",
      "Week: 007 - Algorithm: rf  Training: 0.98 Test: 0.60 CV best: 0.39 \n",
      "Week: 008 - Algorithm: rf  Training: 1.00 Test: 0.65 CV best: 0.47 \n",
      "Week: 009 - Algorithm: rf  Training: 0.98 Test: 0.74 CV best: 0.43 \n",
      "Week: 010 - Algorithm: rf  Training: 0.99 Test: 0.58 CV best: 0.31 \n",
      "Week: 011 - Algorithm: rf  Training: 0.96 Test: 0.77 CV best: 0.44 \n",
      "Week: 012 - Algorithm: rf  Training: 0.98 Test: 0.60 CV best: 0.48 \n",
      "Week: 013 - Algorithm: rf  Training: 0.91 Test: 0.60 CV best: 0.22 \n",
      "Week: 014 - Algorithm: rf  Training: 0.78 Test: 0.63 CV best: 0.20 \n",
      "Week: 006 - Algorithm: rf  Training: 0.99 Test: 0.74 CV best: 0.29 \n",
      "Week: 007 - Algorithm: rf  Training: 0.98 Test: 0.63 CV best: 0.34 \n",
      "Week: 008 - Algorithm: rf  Training: 1.00 Test: 0.56 CV best: 0.41 \n",
      "Week: 009 - Algorithm: rf  Training: 0.95 Test: 0.49 CV best: 0.32 \n",
      "Week: 010 - Algorithm: rf  Training: 0.96 Test: 0.51 CV best: 0.35 \n",
      "Week: 011 - Algorithm: rf  Training: 0.95 Test: 0.51 CV best: 0.44 \n",
      "Week: 012 - Algorithm: rf  Training: 0.95 Test: 0.56 CV best: 0.50 \n",
      "Week: 013 - Algorithm: rf  Training: 0.88 Test: 0.67 CV best: 0.28 \n",
      "Week: 014 - Algorithm: rf  Training: 0.75 Test: 0.65 CV best: 0.31 \n",
      "\n",
      "> Evaluated last iteration models\n"
     ]
    }
   ],
   "source": [
    "if not LOAD_MODEL:\n",
    "    evaluationScores = {}\n",
    "    trainedModels={}\n",
    "    SEED = np.random.randint(0, 1e5)\n",
    "\n",
    "    x_train, x_test, y_train, y_test = getTrainTestData(examData, mode, task, ratio / 100.0, random_state=SEED)\n",
    "    classifiersTypes = {\n",
    "#                         'lr': LogisticRegression(), \n",
    "#                         'las': LogisticRegression(),\n",
    "                        'rf': RandomForestClassifier(), \n",
    "                       }\n",
    "    classifiersParams = {\n",
    "                         'rf': {'n_estimators': [25, 50, 100, 200], 'criterion': ('gini', 'entropy'), 'max_features': ('auto', 'sqrt', 'log2')}, \n",
    "#                         'lr': {'penalty': ['l1'], 'C': [1e6], 'solver': ['liblinear']}, \n",
    "#                         'las': {'penalty': ['l1'], 'C': np.logspace(-5, 6, 20), 'solver': ['liblinear']}, \n",
    "                        }\n",
    "\n",
    "    trainedModels, scaler = trainModels(featureSets, x_train, y_train, weeks, classifiersTypes, classifiersParams, trainedModels, True, True, x_test, y_test)\n",
    "\n",
    "    evaluationMetrics = {'Acc': accuracy_score, 'F1': f1_score, 'P': precision_score, 'R': recall_score, 'TP': tp, 'FN': fn, 'TN': tn, 'FP': fp }\n",
    "    evaluationScores = computeMetrics(scaler, featureSets, trainedModels, x_test, y_test, evaluationMetrics, evaluationScores)"
   ]
  },
  {
   "cell_type": "code",
   "execution_count": 71,
   "metadata": {
    "ExecuteTime": {
     "end_time": "2020-12-08T23:59:14.477869Z",
     "start_time": "2020-12-08T23:59:14.245791Z"
    },
    "scrolled": true
   },
   "outputs": [
    {
     "name": "stdout",
     "output_type": "stream",
     "text": [
      "> Saved models for this experimental setting in ../data/trained_models/trained_models_f1_weekly_rf_binary_80_5-15-1.pkl\n"
     ]
    }
   ],
   "source": [
    "if SAVE_MODEL:\n",
    "    saveTrainedModels(trainedModels, \"f1_weekly_rf\", task, ratio, start, end, step, scaler, SEED)"
   ]
  },
  {
   "cell_type": "markdown",
   "metadata": {},
   "source": [
    "## * Show and discuss the results *"
   ]
  },
  {
   "cell_type": "code",
   "execution_count": 72,
   "metadata": {
    "ExecuteTime": {
     "end_time": "2020-12-09T12:48:13.781038Z",
     "start_time": "2020-12-09T12:48:13.630916Z"
    }
   },
   "outputs": [],
   "source": [
    "lst_data = []\n",
    "lst_name = []\n",
    "for flabel in evaluationScores.keys():\n",
    "    for wid in evaluationScores[flabel].keys():\n",
    "        for mid in evaluationScores[flabel][wid].keys():\n",
    "            lst_data.append([wid, flabel, mid] + [np.mean(value) if i <=3 or i >=8 else np.around(np.mean(value)) for i, value in enumerate(evaluationScores[flabel][wid][mid].values())])  \n",
    "            lst_name = ['week', 'set', 'clf'] + [emid for emid, _ in evaluationScores[flabel][wid][mid].items()]"
   ]
  },
  {
   "cell_type": "code",
   "execution_count": 73,
   "metadata": {
    "ExecuteTime": {
     "end_time": "2020-12-09T12:48:14.087922Z",
     "start_time": "2020-12-09T12:48:14.029391Z"
    }
   },
   "outputs": [],
   "source": [
    "df_results = pd.DataFrame(lst_data, columns = lst_name)"
   ]
  },
  {
   "cell_type": "code",
   "execution_count": 75,
   "metadata": {
    "ExecuteTime": {
     "end_time": "2020-12-09T12:48:21.896857Z",
     "start_time": "2020-12-09T12:48:21.836924Z"
    }
   },
   "outputs": [
    {
     "data": {
      "text/html": [
       "<div>\n",
       "<style scoped>\n",
       "    .dataframe tbody tr th:only-of-type {\n",
       "        vertical-align: middle;\n",
       "    }\n",
       "\n",
       "    .dataframe tbody tr th {\n",
       "        vertical-align: top;\n",
       "    }\n",
       "\n",
       "    .dataframe thead th {\n",
       "        text-align: right;\n",
       "    }\n",
       "</style>\n",
       "<table border=\"1\" class=\"dataframe\">\n",
       "  <thead>\n",
       "    <tr style=\"text-align: right;\">\n",
       "      <th></th>\n",
       "      <th></th>\n",
       "      <th></th>\n",
       "      <th>Acc</th>\n",
       "      <th>F1</th>\n",
       "      <th>P</th>\n",
       "      <th>R</th>\n",
       "      <th>TP</th>\n",
       "      <th>FN</th>\n",
       "      <th>TN</th>\n",
       "      <th>FP</th>\n",
       "    </tr>\n",
       "    <tr>\n",
       "      <th>week</th>\n",
       "      <th>set</th>\n",
       "      <th>clf</th>\n",
       "      <th></th>\n",
       "      <th></th>\n",
       "      <th></th>\n",
       "      <th></th>\n",
       "      <th></th>\n",
       "      <th></th>\n",
       "      <th></th>\n",
       "      <th></th>\n",
       "    </tr>\n",
       "  </thead>\n",
       "  <tbody>\n",
       "    <tr>\n",
       "      <th rowspan=\"6\" valign=\"top\">14</th>\n",
       "      <th>akpinar_et_al</th>\n",
       "      <th>rf</th>\n",
       "      <td>0.674419</td>\n",
       "      <td>0.222222</td>\n",
       "      <td>1.000000</td>\n",
       "      <td>0.1250</td>\n",
       "      <td>2.0</td>\n",
       "      <td>14.0</td>\n",
       "      <td>27.0</td>\n",
       "      <td>0.0</td>\n",
       "    </tr>\n",
       "    <tr>\n",
       "      <th>boroujeni_et_al</th>\n",
       "      <th>rf</th>\n",
       "      <td>0.697674</td>\n",
       "      <td>0.315789</td>\n",
       "      <td>1.000000</td>\n",
       "      <td>0.1875</td>\n",
       "      <td>3.0</td>\n",
       "      <td>13.0</td>\n",
       "      <td>27.0</td>\n",
       "      <td>0.0</td>\n",
       "    </tr>\n",
       "    <tr>\n",
       "      <th>chen_cui</th>\n",
       "      <th>rf</th>\n",
       "      <td>0.697674</td>\n",
       "      <td>0.380952</td>\n",
       "      <td>0.800000</td>\n",
       "      <td>0.2500</td>\n",
       "      <td>4.0</td>\n",
       "      <td>12.0</td>\n",
       "      <td>26.0</td>\n",
       "      <td>1.0</td>\n",
       "    </tr>\n",
       "    <tr>\n",
       "      <th>he_et_al</th>\n",
       "      <th>rf</th>\n",
       "      <td>0.674419</td>\n",
       "      <td>0.300000</td>\n",
       "      <td>0.750000</td>\n",
       "      <td>0.1875</td>\n",
       "      <td>3.0</td>\n",
       "      <td>13.0</td>\n",
       "      <td>26.0</td>\n",
       "      <td>1.0</td>\n",
       "    </tr>\n",
       "    <tr>\n",
       "      <th>lalle_conati</th>\n",
       "      <th>rf</th>\n",
       "      <td>0.627907</td>\n",
       "      <td>0.200000</td>\n",
       "      <td>0.500000</td>\n",
       "      <td>0.1250</td>\n",
       "      <td>2.0</td>\n",
       "      <td>14.0</td>\n",
       "      <td>25.0</td>\n",
       "      <td>2.0</td>\n",
       "    </tr>\n",
       "    <tr>\n",
       "      <th>lemay_doleck</th>\n",
       "      <th>rf</th>\n",
       "      <td>0.651163</td>\n",
       "      <td>0.210526</td>\n",
       "      <td>0.666667</td>\n",
       "      <td>0.1250</td>\n",
       "      <td>2.0</td>\n",
       "      <td>14.0</td>\n",
       "      <td>26.0</td>\n",
       "      <td>1.0</td>\n",
       "    </tr>\n",
       "  </tbody>\n",
       "</table>\n",
       "</div>"
      ],
      "text/plain": [
       "                               Acc        F1         P       R   TP    FN  \\\n",
       "week set             clf                                                    \n",
       "14   akpinar_et_al   rf   0.674419  0.222222  1.000000  0.1250  2.0  14.0   \n",
       "     boroujeni_et_al rf   0.697674  0.315789  1.000000  0.1875  3.0  13.0   \n",
       "     chen_cui        rf   0.697674  0.380952  0.800000  0.2500  4.0  12.0   \n",
       "     he_et_al        rf   0.674419  0.300000  0.750000  0.1875  3.0  13.0   \n",
       "     lalle_conati    rf   0.627907  0.200000  0.500000  0.1250  2.0  14.0   \n",
       "     lemay_doleck    rf   0.651163  0.210526  0.666667  0.1250  2.0  14.0   \n",
       "\n",
       "                            TN   FP  \n",
       "week set             clf             \n",
       "14   akpinar_et_al   rf   27.0  0.0  \n",
       "     boroujeni_et_al rf   27.0  0.0  \n",
       "     chen_cui        rf   26.0  1.0  \n",
       "     he_et_al        rf   26.0  1.0  \n",
       "     lalle_conati    rf   25.0  2.0  \n",
       "     lemay_doleck    rf   26.0  1.0  "
      ]
     },
     "execution_count": 75,
     "metadata": {},
     "output_type": "execute_result"
    }
   ],
   "source": [
    "df_results[(df_results['week'] == 14) & (df_results['clf'] == 'rf')].set_index(['week', 'set', 'clf'])"
   ]
  },
  {
   "cell_type": "code",
   "execution_count": 80,
   "metadata": {
    "ExecuteTime": {
     "end_time": "2020-12-10T16:18:28.410001Z",
     "start_time": "2020-12-10T16:18:28.185742Z"
    }
   },
   "outputs": [],
   "source": [
    "def plot_metrics_per_model(df_results, weeks, emid, clf):\n",
    "\n",
    "    plt.figure(num=None, figsize=(20, 6), dpi=80, facecolor='w', edgecolor='k')\n",
    "    \n",
    "    plt.title(clf)\n",
    "    colors = [plt.cm.rainbow(x) for x in np.linspace(0, 1, 8)]\n",
    "    \n",
    "    for i, flabel in enumerate(np.unique(df_results['set'])):    \n",
    "        df_features = df_results[df_results['set'] == flabel]\n",
    "        \n",
    "        for j, mid in enumerate(np.unique(df_features['clf'])): \n",
    "            if mid == clf:\n",
    "                df_classifiers = df_features[df_features['clf'] == mid]\n",
    "                plt.plot(weeks, df_classifiers[emid].values, lw=1, color=colors[i], label=flabel)\n",
    "            \n",
    "#     plt.ylim([0.5, 0.75])\n",
    "    plt.xlim([weeks[0], weeks[-1]])\n",
    "    plt.xlabel('Course week')\n",
    "    plt.ylabel(emid)\n",
    "    plt.grid(axis='y')\n",
    "    plt.legend(loc='upper left')"
   ]
  },
  {
   "cell_type": "code",
   "execution_count": 81,
   "metadata": {
    "ExecuteTime": {
     "end_time": "2020-12-10T16:18:29.127315Z",
     "start_time": "2020-12-10T16:18:29.051902Z"
    }
   },
   "outputs": [],
   "source": [
    "def plot_metrics_per_feature(df_results, weeks, emid, flabel):\n",
    "\n",
    "    plt.figure(num=None, figsize=(20, 6), dpi=80, facecolor='w', edgecolor='k')\n",
    "    \n",
    "    df_features = df_results[df_results['set'] == flabel]\n",
    "\n",
    "    plt.title(flabel)\n",
    "    colors = [plt.cm.rainbow(x) for x in np.linspace(0, 1, 10)]\n",
    "\n",
    "    for j, mid in enumerate(np.unique(df_features['clf'])): \n",
    "        df_classifiers = df_features[df_features['clf'] == mid]\n",
    "        plt.plot(weeks, df_classifiers[emid].values, lw=1, color=colors[j], label=mid)\n",
    "\n",
    "    plt.axhline(y=.62, xmin=6, xmax=14, linestyle='--', color='red')    \n",
    "        \n",
    "#     plt.ylim([0.5, 0.75])\n",
    "    plt.xlim([weeks[0], weeks[-1]])\n",
    "    plt.xlabel('Course week')\n",
    "    plt.ylabel(emid)\n",
    "    plt.grid(axis='y')\n",
    "    plt.legend(loc='upper left')"
   ]
  },
  {
   "cell_type": "code",
   "execution_count": 82,
   "metadata": {
    "ExecuteTime": {
     "end_time": "2020-12-10T16:18:30.172738Z",
     "start_time": "2020-12-10T16:18:29.681561Z"
    }
   },
   "outputs": [
    {
     "data": {
      "image/png": "[encoded data removed]",
      "text/plain": [
       "<Figure size 1600x480 with 1 Axes>"
      ]
     },
     "metadata": {},
     "output_type": "display_data"
    }
   ],
   "source": [
    "plot_metrics_per_model(df_results, weeks, 'Acc', 'rf')"
   ]
  },
  {
   "cell_type": "code",
   "execution_count": 83,
   "metadata": {
    "ExecuteTime": {
     "end_time": "2020-12-10T16:18:30.662943Z",
     "start_time": "2020-12-10T16:18:30.262427Z"
    },
    "collapsed": true
   },
   "outputs": [
    {
     "data": {
      "image/png": "[encoded data removed]",
      "text/plain": [
       "<Figure size 1600x480 with 1 Axes>"
      ]
     },
     "metadata": {},
     "output_type": "display_data"
    }
   ],
   "source": [
    "plot_metrics_per_feature(df_results, weeks, 'Acc', 'chen_cui')"
   ]
  },
  {
   "cell_type": "code",
   "execution_count": null,
   "metadata": {},
   "outputs": [],
   "source": []
  }
 ],
 "metadata": {
  "kernelspec": {
   "display_name": "Python 3",
   "language": "python",
   "name": "python3"
  },
  "language_info": {
   "codemirror_mode": {
    "name": "ipython",
    "version": 3
   },
   "file_extension": ".py",
   "mimetype": "text/x-python",
   "name": "python",
   "nbconvert_exporter": "python",
   "pygments_lexer": "ipython3",
   "version": "3.7.1"
  },
  "toc": {
   "base_numbering": 1,
   "nav_menu": {},
   "number_sections": true,
   "sideBar": true,
   "skip_h1_title": false,
   "title_cell": "Table of Contents",
   "title_sidebar": "Contents",
   "toc_cell": false,
   "toc_position": {},
   "toc_section_display": true,
   "toc_window_display": false
  }
 },
 "nbformat": 4,
 "nbformat_minor": 1
}
