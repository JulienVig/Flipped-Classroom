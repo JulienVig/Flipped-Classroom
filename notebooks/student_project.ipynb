{
 "cells": [
  {
   "cell_type": "code",
   "execution_count": 1,
   "metadata": {
    "ExecuteTime": {
     "end_time": "2020-10-30T10:24:23.671250Z",
     "start_time": "2020-10-30T10:24:22.973873Z"
    }
   },
   "outputs": [],
   "source": [
    "import os\n",
    "import sys\n",
    "import numpy as np\n",
    "import pandas as pd\n",
    "import matplotlib.pyplot as plt"
   ]
  },
  {
   "cell_type": "code",
   "execution_count": 2,
   "metadata": {
    "ExecuteTime": {
     "end_time": "2020-10-30T10:24:23.730914Z",
     "start_time": "2020-10-30T10:24:23.674123Z"
    }
   },
   "outputs": [],
   "source": [
    "%load_ext autoreload\n",
    "%autoreload 2"
   ]
  },
  {
   "cell_type": "code",
   "execution_count": 3,
   "metadata": {
    "ExecuteTime": {
     "end_time": "2020-10-30T10:24:24.309850Z",
     "start_time": "2020-10-30T10:24:24.203019Z"
    }
   },
   "outputs": [],
   "source": [
    "module_path = sys.path.append(os.path.abspath(os.path.join('..')))\n",
    "from helpers.db_query import *\n",
    "from helpers.data_process import *"
   ]
  },
  {
   "cell_type": "code",
   "execution_count": 4,
   "metadata": {
    "ExecuteTime": {
     "end_time": "2020-10-30T10:24:57.185494Z",
     "start_time": "2020-10-30T10:24:25.021586Z"
    }
   },
   "outputs": [],
   "source": [
    "video_events_df = getVideoEvents(mode=\"all\")"
   ]
  },
  {
   "cell_type": "code",
   "execution_count": 5,
   "metadata": {
    "ExecuteTime": {
     "end_time": "2020-10-30T10:24:57.462126Z",
     "start_time": "2020-10-30T10:24:57.208500Z"
    }
   },
   "outputs": [],
   "source": [
    "video_info_df = getVideoInfo(mode='all')"
   ]
  },
  {
   "cell_type": "code",
   "execution_count": 6,
   "metadata": {
    "ExecuteTime": {
     "end_time": "2020-10-30T10:24:57.882839Z",
     "start_time": "2020-10-30T10:24:57.467282Z"
    }
   },
   "outputs": [],
   "source": [
    "grades_df = getFlippedGrades(include_repeaters=False)[[\"AccountUserID\", \"Round\", \"Grade\"]]"
   ]
  },
  {
   "cell_type": "code",
   "execution_count": 7,
   "metadata": {
    "ExecuteTime": {
     "end_time": "2020-10-30T10:24:58.133064Z",
     "start_time": "2020-10-30T10:24:57.935398Z"
    }
   },
   "outputs": [],
   "source": [
    "condition_df = getStudentCondition()"
   ]
  },
  {
   "cell_type": "code",
   "execution_count": 38,
   "metadata": {
    "ExecuteTime": {
     "end_time": "2020-10-30T10:41:14.541295Z",
     "start_time": "2020-10-30T10:41:13.239888Z"
    },
    "scrolled": true
   },
   "outputs": [],
   "source": [
    "df = video_events_df.merge(video_info_df)"
   ]
  },
  {
   "cell_type": "code",
   "execution_count": 39,
   "metadata": {
    "ExecuteTime": {
     "end_time": "2020-10-30T10:41:15.282278Z",
     "start_time": "2020-10-30T10:41:14.544215Z"
    }
   },
   "outputs": [],
   "source": [
    "df = df.merge(grades_df)"
   ]
  },
  {
   "cell_type": "code",
   "execution_count": 42,
   "metadata": {
    "ExecuteTime": {
     "end_time": "2020-10-30T10:41:31.473009Z",
     "start_time": "2020-10-30T10:41:31.422379Z"
    }
   },
   "outputs": [
    {
     "data": {
      "text/html": [
       "<div>\n",
       "<style scoped>\n",
       "    .dataframe tbody tr th:only-of-type {\n",
       "        vertical-align: middle;\n",
       "    }\n",
       "\n",
       "    .dataframe tbody tr th {\n",
       "        vertical-align: top;\n",
       "    }\n",
       "\n",
       "    .dataframe thead th {\n",
       "        text-align: right;\n",
       "    }\n",
       "</style>\n",
       "<table border=\"1\" class=\"dataframe\">\n",
       "  <thead>\n",
       "    <tr style=\"text-align: right;\">\n",
       "      <th></th>\n",
       "      <th>ID.Anon</th>\n",
       "      <th>VideoID</th>\n",
       "      <th>TimeStamp</th>\n",
       "      <th>EventType</th>\n",
       "      <th>SeekType</th>\n",
       "      <th>OldTime</th>\n",
       "      <th>CurrentTime</th>\n",
       "      <th>NewTime</th>\n",
       "      <th>OldSpeed</th>\n",
       "      <th>NewSpeed</th>\n",
       "      <th>Title</th>\n",
       "      <th>Source</th>\n",
       "      <th>Length</th>\n",
       "      <th>OpenTime</th>\n",
       "      <th>SoftCloseTime</th>\n",
       "      <th>HardCloseTime</th>\n",
       "      <th>Course.Year</th>\n",
       "      <th>Final.Grade</th>\n",
       "    </tr>\n",
       "  </thead>\n",
       "  <tbody>\n",
       "    <tr>\n",
       "      <th>0</th>\n",
       "      <td>95017</td>\n",
       "      <td>ca2fa02b0daa43f295e76da61e53de2a</td>\n",
       "      <td>1570355725</td>\n",
       "      <td>Video.Play</td>\n",
       "      <td>None</td>\n",
       "      <td>NaN</td>\n",
       "      <td>553.294</td>\n",
       "      <td>NaN</td>\n",
       "      <td>NaN</td>\n",
       "      <td>NaN</td>\n",
       "      <td>Leçon</td>\n",
       "      <td>https://www.youtube.com/watch?v=AFtb4KxwYGY</td>\n",
       "      <td>None</td>\n",
       "      <td>None</td>\n",
       "      <td>None</td>\n",
       "      <td>None</td>\n",
       "      <td>Y3-2019-20</td>\n",
       "      <td>5.25</td>\n",
       "    </tr>\n",
       "    <tr>\n",
       "      <th>1</th>\n",
       "      <td>95017</td>\n",
       "      <td>ca2fa02b0daa43f295e76da61e53de2a</td>\n",
       "      <td>1570355899</td>\n",
       "      <td>Video.Play</td>\n",
       "      <td>None</td>\n",
       "      <td>NaN</td>\n",
       "      <td>566.935</td>\n",
       "      <td>NaN</td>\n",
       "      <td>NaN</td>\n",
       "      <td>NaN</td>\n",
       "      <td>Leçon</td>\n",
       "      <td>https://www.youtube.com/watch?v=AFtb4KxwYGY</td>\n",
       "      <td>None</td>\n",
       "      <td>None</td>\n",
       "      <td>None</td>\n",
       "      <td>None</td>\n",
       "      <td>Y3-2019-20</td>\n",
       "      <td>5.25</td>\n",
       "    </tr>\n",
       "    <tr>\n",
       "      <th>2</th>\n",
       "      <td>95017</td>\n",
       "      <td>ca2fa02b0daa43f295e76da61e53de2a</td>\n",
       "      <td>1570355940</td>\n",
       "      <td>Video.Play</td>\n",
       "      <td>None</td>\n",
       "      <td>NaN</td>\n",
       "      <td>604.909</td>\n",
       "      <td>NaN</td>\n",
       "      <td>NaN</td>\n",
       "      <td>NaN</td>\n",
       "      <td>Leçon</td>\n",
       "      <td>https://www.youtube.com/watch?v=AFtb4KxwYGY</td>\n",
       "      <td>None</td>\n",
       "      <td>None</td>\n",
       "      <td>None</td>\n",
       "      <td>None</td>\n",
       "      <td>Y3-2019-20</td>\n",
       "      <td>5.25</td>\n",
       "    </tr>\n",
       "    <tr>\n",
       "      <th>3</th>\n",
       "      <td>95017</td>\n",
       "      <td>ca2fa02b0daa43f295e76da61e53de2a</td>\n",
       "      <td>1570355694</td>\n",
       "      <td>Video.Pause</td>\n",
       "      <td>None</td>\n",
       "      <td>NaN</td>\n",
       "      <td>536.849</td>\n",
       "      <td>NaN</td>\n",
       "      <td>NaN</td>\n",
       "      <td>NaN</td>\n",
       "      <td>Leçon</td>\n",
       "      <td>https://www.youtube.com/watch?v=AFtb4KxwYGY</td>\n",
       "      <td>None</td>\n",
       "      <td>None</td>\n",
       "      <td>None</td>\n",
       "      <td>None</td>\n",
       "      <td>Y3-2019-20</td>\n",
       "      <td>5.25</td>\n",
       "    </tr>\n",
       "    <tr>\n",
       "      <th>4</th>\n",
       "      <td>95017</td>\n",
       "      <td>ca2fa02b0daa43f295e76da61e53de2a</td>\n",
       "      <td>1570355760</td>\n",
       "      <td>Video.Pause</td>\n",
       "      <td>None</td>\n",
       "      <td>NaN</td>\n",
       "      <td>580.125</td>\n",
       "      <td>NaN</td>\n",
       "      <td>NaN</td>\n",
       "      <td>NaN</td>\n",
       "      <td>Leçon</td>\n",
       "      <td>https://www.youtube.com/watch?v=AFtb4KxwYGY</td>\n",
       "      <td>None</td>\n",
       "      <td>None</td>\n",
       "      <td>None</td>\n",
       "      <td>None</td>\n",
       "      <td>Y3-2019-20</td>\n",
       "      <td>5.25</td>\n",
       "    </tr>\n",
       "  </tbody>\n",
       "</table>\n",
       "</div>"
      ],
      "text/plain": [
       "  ID.Anon                           VideoID   TimeStamp    EventType SeekType  \\\n",
       "0   95017  ca2fa02b0daa43f295e76da61e53de2a  1570355725   Video.Play     None   \n",
       "1   95017  ca2fa02b0daa43f295e76da61e53de2a  1570355899   Video.Play     None   \n",
       "2   95017  ca2fa02b0daa43f295e76da61e53de2a  1570355940   Video.Play     None   \n",
       "3   95017  ca2fa02b0daa43f295e76da61e53de2a  1570355694  Video.Pause     None   \n",
       "4   95017  ca2fa02b0daa43f295e76da61e53de2a  1570355760  Video.Pause     None   \n",
       "\n",
       "   OldTime  CurrentTime  NewTime  OldSpeed  NewSpeed  Title  \\\n",
       "0      NaN      553.294      NaN       NaN       NaN  Leçon   \n",
       "1      NaN      566.935      NaN       NaN       NaN  Leçon   \n",
       "2      NaN      604.909      NaN       NaN       NaN  Leçon   \n",
       "3      NaN      536.849      NaN       NaN       NaN  Leçon   \n",
       "4      NaN      580.125      NaN       NaN       NaN  Leçon   \n",
       "\n",
       "                                        Source Length OpenTime SoftCloseTime  \\\n",
       "0  https://www.youtube.com/watch?v=AFtb4KxwYGY   None     None          None   \n",
       "1  https://www.youtube.com/watch?v=AFtb4KxwYGY   None     None          None   \n",
       "2  https://www.youtube.com/watch?v=AFtb4KxwYGY   None     None          None   \n",
       "3  https://www.youtube.com/watch?v=AFtb4KxwYGY   None     None          None   \n",
       "4  https://www.youtube.com/watch?v=AFtb4KxwYGY   None     None          None   \n",
       "\n",
       "  HardCloseTime Course.Year  Final.Grade  \n",
       "0          None  Y3-2019-20         5.25  \n",
       "1          None  Y3-2019-20         5.25  \n",
       "2          None  Y3-2019-20         5.25  \n",
       "3          None  Y3-2019-20         5.25  \n",
       "4          None  Y3-2019-20         5.25  "
      ]
     },
     "execution_count": 42,
     "metadata": {},
     "output_type": "execute_result"
    }
   ],
   "source": [
    "df.head()"
   ]
  },
  {
   "cell_type": "code",
   "execution_count": 43,
   "metadata": {
    "ExecuteTime": {
     "end_time": "2020-10-30T10:41:36.136895Z",
     "start_time": "2020-10-30T10:41:36.077017Z"
    },
    "scrolled": true
   },
   "outputs": [
    {
     "ename": "KeyError",
     "evalue": "\"['Date' 'Year' 'DataPackageID'] not found in axis\"",
     "output_type": "error",
     "traceback": [
      "\u001b[0;31m---------------------------------------------------------------------------\u001b[0m",
      "\u001b[0;31mKeyError\u001b[0m                                  Traceback (most recent call last)",
      "\u001b[0;32m<ipython-input-43-b8567d23562b>\u001b[0m in \u001b[0;36m<module>\u001b[0;34m\u001b[0m\n\u001b[0;32m----> 1\u001b[0;31m \u001b[0mdf\u001b[0m\u001b[0;34m.\u001b[0m\u001b[0mdrop\u001b[0m\u001b[0;34m(\u001b[0m\u001b[0mcolumns\u001b[0m\u001b[0;34m=\u001b[0m\u001b[0;34m[\u001b[0m\u001b[0;34m\"Date\"\u001b[0m\u001b[0;34m,\u001b[0m \u001b[0;34m\"Year\"\u001b[0m\u001b[0;34m,\u001b[0m \u001b[0;34m\"DataPackageID\"\u001b[0m\u001b[0;34m]\u001b[0m\u001b[0;34m,\u001b[0m \u001b[0minplace\u001b[0m\u001b[0;34m=\u001b[0m\u001b[0;32mTrue\u001b[0m\u001b[0;34m)\u001b[0m\u001b[0;34m,\u001b[0m\u001b[0;34m\u001b[0m\u001b[0;34m\u001b[0m\u001b[0m\n\u001b[0m\u001b[1;32m      2\u001b[0m \u001b[0mdf\u001b[0m\u001b[0;34m.\u001b[0m\u001b[0mrename\u001b[0m\u001b[0;34m(\u001b[0m\u001b[0mcolumns\u001b[0m\u001b[0;34m=\u001b[0m\u001b[0;34m{\u001b[0m\u001b[0;34m\"AccountUserID\"\u001b[0m\u001b[0;34m:\u001b[0m\u001b[0;34m\"ID.Anon\"\u001b[0m\u001b[0;34m,\u001b[0m\u001b[0;34m\"Round\"\u001b[0m\u001b[0;34m:\u001b[0m\u001b[0;34m\"Course.Year\"\u001b[0m\u001b[0;34m,\u001b[0m \u001b[0;34m\"Grade\"\u001b[0m\u001b[0;34m:\u001b[0m\u001b[0;34m\"Final.Grade\"\u001b[0m\u001b[0;34m}\u001b[0m\u001b[0;34m,\u001b[0m \u001b[0minplace\u001b[0m\u001b[0;34m=\u001b[0m\u001b[0;32mTrue\u001b[0m\u001b[0;34m)\u001b[0m\u001b[0;34m\u001b[0m\u001b[0;34m\u001b[0m\u001b[0m\n",
      "\u001b[0;32m/Applications/anaconda3/lib/python3.7/site-packages/pandas/core/frame.py\u001b[0m in \u001b[0;36mdrop\u001b[0;34m(self, labels, axis, index, columns, level, inplace, errors)\u001b[0m\n\u001b[1;32m   4167\u001b[0m             \u001b[0mlevel\u001b[0m\u001b[0;34m=\u001b[0m\u001b[0mlevel\u001b[0m\u001b[0;34m,\u001b[0m\u001b[0;34m\u001b[0m\u001b[0;34m\u001b[0m\u001b[0m\n\u001b[1;32m   4168\u001b[0m             \u001b[0minplace\u001b[0m\u001b[0;34m=\u001b[0m\u001b[0minplace\u001b[0m\u001b[0;34m,\u001b[0m\u001b[0;34m\u001b[0m\u001b[0;34m\u001b[0m\u001b[0m\n\u001b[0;32m-> 4169\u001b[0;31m             \u001b[0merrors\u001b[0m\u001b[0;34m=\u001b[0m\u001b[0merrors\u001b[0m\u001b[0;34m,\u001b[0m\u001b[0;34m\u001b[0m\u001b[0;34m\u001b[0m\u001b[0m\n\u001b[0m\u001b[1;32m   4170\u001b[0m         )\n\u001b[1;32m   4171\u001b[0m \u001b[0;34m\u001b[0m\u001b[0m\n",
      "\u001b[0;32m/Applications/anaconda3/lib/python3.7/site-packages/pandas/core/generic.py\u001b[0m in \u001b[0;36mdrop\u001b[0;34m(self, labels, axis, index, columns, level, inplace, errors)\u001b[0m\n\u001b[1;32m   3882\u001b[0m         \u001b[0;32mfor\u001b[0m \u001b[0maxis\u001b[0m\u001b[0;34m,\u001b[0m \u001b[0mlabels\u001b[0m \u001b[0;32min\u001b[0m \u001b[0maxes\u001b[0m\u001b[0;34m.\u001b[0m\u001b[0mitems\u001b[0m\u001b[0;34m(\u001b[0m\u001b[0;34m)\u001b[0m\u001b[0;34m:\u001b[0m\u001b[0;34m\u001b[0m\u001b[0;34m\u001b[0m\u001b[0m\n\u001b[1;32m   3883\u001b[0m             \u001b[0;32mif\u001b[0m \u001b[0mlabels\u001b[0m \u001b[0;32mis\u001b[0m \u001b[0;32mnot\u001b[0m \u001b[0;32mNone\u001b[0m\u001b[0;34m:\u001b[0m\u001b[0;34m\u001b[0m\u001b[0;34m\u001b[0m\u001b[0m\n\u001b[0;32m-> 3884\u001b[0;31m                 \u001b[0mobj\u001b[0m \u001b[0;34m=\u001b[0m \u001b[0mobj\u001b[0m\u001b[0;34m.\u001b[0m\u001b[0m_drop_axis\u001b[0m\u001b[0;34m(\u001b[0m\u001b[0mlabels\u001b[0m\u001b[0;34m,\u001b[0m \u001b[0maxis\u001b[0m\u001b[0;34m,\u001b[0m \u001b[0mlevel\u001b[0m\u001b[0;34m=\u001b[0m\u001b[0mlevel\u001b[0m\u001b[0;34m,\u001b[0m \u001b[0merrors\u001b[0m\u001b[0;34m=\u001b[0m\u001b[0merrors\u001b[0m\u001b[0;34m)\u001b[0m\u001b[0;34m\u001b[0m\u001b[0;34m\u001b[0m\u001b[0m\n\u001b[0m\u001b[1;32m   3885\u001b[0m \u001b[0;34m\u001b[0m\u001b[0m\n\u001b[1;32m   3886\u001b[0m         \u001b[0;32mif\u001b[0m \u001b[0minplace\u001b[0m\u001b[0;34m:\u001b[0m\u001b[0;34m\u001b[0m\u001b[0;34m\u001b[0m\u001b[0m\n",
      "\u001b[0;32m/Applications/anaconda3/lib/python3.7/site-packages/pandas/core/generic.py\u001b[0m in \u001b[0;36m_drop_axis\u001b[0;34m(self, labels, axis, level, errors)\u001b[0m\n\u001b[1;32m   3916\u001b[0m                 \u001b[0mnew_axis\u001b[0m \u001b[0;34m=\u001b[0m \u001b[0maxis\u001b[0m\u001b[0;34m.\u001b[0m\u001b[0mdrop\u001b[0m\u001b[0;34m(\u001b[0m\u001b[0mlabels\u001b[0m\u001b[0;34m,\u001b[0m \u001b[0mlevel\u001b[0m\u001b[0;34m=\u001b[0m\u001b[0mlevel\u001b[0m\u001b[0;34m,\u001b[0m \u001b[0merrors\u001b[0m\u001b[0;34m=\u001b[0m\u001b[0merrors\u001b[0m\u001b[0;34m)\u001b[0m\u001b[0;34m\u001b[0m\u001b[0;34m\u001b[0m\u001b[0m\n\u001b[1;32m   3917\u001b[0m             \u001b[0;32melse\u001b[0m\u001b[0;34m:\u001b[0m\u001b[0;34m\u001b[0m\u001b[0;34m\u001b[0m\u001b[0m\n\u001b[0;32m-> 3918\u001b[0;31m                 \u001b[0mnew_axis\u001b[0m \u001b[0;34m=\u001b[0m \u001b[0maxis\u001b[0m\u001b[0;34m.\u001b[0m\u001b[0mdrop\u001b[0m\u001b[0;34m(\u001b[0m\u001b[0mlabels\u001b[0m\u001b[0;34m,\u001b[0m \u001b[0merrors\u001b[0m\u001b[0;34m=\u001b[0m\u001b[0merrors\u001b[0m\u001b[0;34m)\u001b[0m\u001b[0;34m\u001b[0m\u001b[0;34m\u001b[0m\u001b[0m\n\u001b[0m\u001b[1;32m   3919\u001b[0m             \u001b[0mresult\u001b[0m \u001b[0;34m=\u001b[0m \u001b[0mself\u001b[0m\u001b[0;34m.\u001b[0m\u001b[0mreindex\u001b[0m\u001b[0;34m(\u001b[0m\u001b[0;34m**\u001b[0m\u001b[0;34m{\u001b[0m\u001b[0maxis_name\u001b[0m\u001b[0;34m:\u001b[0m \u001b[0mnew_axis\u001b[0m\u001b[0;34m}\u001b[0m\u001b[0;34m)\u001b[0m\u001b[0;34m\u001b[0m\u001b[0;34m\u001b[0m\u001b[0m\n\u001b[1;32m   3920\u001b[0m \u001b[0;34m\u001b[0m\u001b[0m\n",
      "\u001b[0;32m/Applications/anaconda3/lib/python3.7/site-packages/pandas/core/indexes/base.py\u001b[0m in \u001b[0;36mdrop\u001b[0;34m(self, labels, errors)\u001b[0m\n\u001b[1;32m   5276\u001b[0m         \u001b[0;32mif\u001b[0m \u001b[0mmask\u001b[0m\u001b[0;34m.\u001b[0m\u001b[0many\u001b[0m\u001b[0;34m(\u001b[0m\u001b[0;34m)\u001b[0m\u001b[0;34m:\u001b[0m\u001b[0;34m\u001b[0m\u001b[0;34m\u001b[0m\u001b[0m\n\u001b[1;32m   5277\u001b[0m             \u001b[0;32mif\u001b[0m \u001b[0merrors\u001b[0m \u001b[0;34m!=\u001b[0m \u001b[0;34m\"ignore\"\u001b[0m\u001b[0;34m:\u001b[0m\u001b[0;34m\u001b[0m\u001b[0;34m\u001b[0m\u001b[0m\n\u001b[0;32m-> 5278\u001b[0;31m                 \u001b[0;32mraise\u001b[0m \u001b[0mKeyError\u001b[0m\u001b[0;34m(\u001b[0m\u001b[0;34mf\"{labels[mask]} not found in axis\"\u001b[0m\u001b[0;34m)\u001b[0m\u001b[0;34m\u001b[0m\u001b[0;34m\u001b[0m\u001b[0m\n\u001b[0m\u001b[1;32m   5279\u001b[0m             \u001b[0mindexer\u001b[0m \u001b[0;34m=\u001b[0m \u001b[0mindexer\u001b[0m\u001b[0;34m[\u001b[0m\u001b[0;34m~\u001b[0m\u001b[0mmask\u001b[0m\u001b[0;34m]\u001b[0m\u001b[0;34m\u001b[0m\u001b[0;34m\u001b[0m\u001b[0m\n\u001b[1;32m   5280\u001b[0m         \u001b[0;32mreturn\u001b[0m \u001b[0mself\u001b[0m\u001b[0;34m.\u001b[0m\u001b[0mdelete\u001b[0m\u001b[0;34m(\u001b[0m\u001b[0mindexer\u001b[0m\u001b[0;34m)\u001b[0m\u001b[0;34m\u001b[0m\u001b[0;34m\u001b[0m\u001b[0m\n",
      "\u001b[0;31mKeyError\u001b[0m: \"['Date' 'Year' 'DataPackageID'] not found in axis\""
     ]
    }
   ],
   "source": [
    "df.drop(columns=[\"Date\", \"Year\", \"DataPackageID\"], inplace=True), \n",
    "df.rename(columns={\"AccountUserID\":\"ID.Anon\",\"Round\":\"Course.Year\", \"Grade\":\"Final.Grade\"}, inplace=True)"
   ]
  },
  {
   "cell_type": "code",
   "execution_count": 45,
   "metadata": {
    "ExecuteTime": {
     "end_time": "2020-10-30T10:41:46.191797Z",
     "start_time": "2020-10-30T10:41:45.902107Z"
    }
   },
   "outputs": [],
   "source": [
    "control_grades_df = getControlGrades(include_repeaters=False)\n",
    "mean = control_grades_df.Grade.mean()\n",
    "std = control_grades_df.Grade.std()"
   ]
  },
  {
   "cell_type": "code",
   "execution_count": 46,
   "metadata": {
    "ExecuteTime": {
     "end_time": "2020-10-30T10:41:46.352650Z",
     "start_time": "2020-10-30T10:41:46.305990Z"
    }
   },
   "outputs": [],
   "source": [
    "df[\"Nor.Score\"] = (df[\"Final.Grade\"] - mean) / std"
   ]
  },
  {
   "cell_type": "code",
   "execution_count": 47,
   "metadata": {
    "ExecuteTime": {
     "end_time": "2020-10-30T10:41:47.196339Z",
     "start_time": "2020-10-30T10:41:47.148219Z"
    }
   },
   "outputs": [
    {
     "data": {
      "text/html": [
       "<div>\n",
       "<style scoped>\n",
       "    .dataframe tbody tr th:only-of-type {\n",
       "        vertical-align: middle;\n",
       "    }\n",
       "\n",
       "    .dataframe tbody tr th {\n",
       "        vertical-align: top;\n",
       "    }\n",
       "\n",
       "    .dataframe thead th {\n",
       "        text-align: right;\n",
       "    }\n",
       "</style>\n",
       "<table border=\"1\" class=\"dataframe\">\n",
       "  <thead>\n",
       "    <tr style=\"text-align: right;\">\n",
       "      <th></th>\n",
       "      <th>ID.Anon</th>\n",
       "      <th>VideoID</th>\n",
       "      <th>TimeStamp</th>\n",
       "      <th>EventType</th>\n",
       "      <th>SeekType</th>\n",
       "      <th>OldTime</th>\n",
       "      <th>CurrentTime</th>\n",
       "      <th>NewTime</th>\n",
       "      <th>OldSpeed</th>\n",
       "      <th>NewSpeed</th>\n",
       "      <th>Title</th>\n",
       "      <th>Source</th>\n",
       "      <th>Length</th>\n",
       "      <th>OpenTime</th>\n",
       "      <th>SoftCloseTime</th>\n",
       "      <th>HardCloseTime</th>\n",
       "      <th>Course.Year</th>\n",
       "      <th>Final.Grade</th>\n",
       "      <th>Nor.Score</th>\n",
       "    </tr>\n",
       "  </thead>\n",
       "  <tbody>\n",
       "    <tr>\n",
       "      <th>0</th>\n",
       "      <td>95017</td>\n",
       "      <td>ca2fa02b0daa43f295e76da61e53de2a</td>\n",
       "      <td>1570355725</td>\n",
       "      <td>Video.Play</td>\n",
       "      <td>None</td>\n",
       "      <td>NaN</td>\n",
       "      <td>553.294</td>\n",
       "      <td>NaN</td>\n",
       "      <td>NaN</td>\n",
       "      <td>NaN</td>\n",
       "      <td>Leçon</td>\n",
       "      <td>https://www.youtube.com/watch?v=AFtb4KxwYGY</td>\n",
       "      <td>None</td>\n",
       "      <td>None</td>\n",
       "      <td>None</td>\n",
       "      <td>None</td>\n",
       "      <td>Y3-2019-20</td>\n",
       "      <td>5.25</td>\n",
       "      <td>1.37769</td>\n",
       "    </tr>\n",
       "    <tr>\n",
       "      <th>1</th>\n",
       "      <td>95017</td>\n",
       "      <td>ca2fa02b0daa43f295e76da61e53de2a</td>\n",
       "      <td>1570355899</td>\n",
       "      <td>Video.Play</td>\n",
       "      <td>None</td>\n",
       "      <td>NaN</td>\n",
       "      <td>566.935</td>\n",
       "      <td>NaN</td>\n",
       "      <td>NaN</td>\n",
       "      <td>NaN</td>\n",
       "      <td>Leçon</td>\n",
       "      <td>https://www.youtube.com/watch?v=AFtb4KxwYGY</td>\n",
       "      <td>None</td>\n",
       "      <td>None</td>\n",
       "      <td>None</td>\n",
       "      <td>None</td>\n",
       "      <td>Y3-2019-20</td>\n",
       "      <td>5.25</td>\n",
       "      <td>1.37769</td>\n",
       "    </tr>\n",
       "    <tr>\n",
       "      <th>2</th>\n",
       "      <td>95017</td>\n",
       "      <td>ca2fa02b0daa43f295e76da61e53de2a</td>\n",
       "      <td>1570355940</td>\n",
       "      <td>Video.Play</td>\n",
       "      <td>None</td>\n",
       "      <td>NaN</td>\n",
       "      <td>604.909</td>\n",
       "      <td>NaN</td>\n",
       "      <td>NaN</td>\n",
       "      <td>NaN</td>\n",
       "      <td>Leçon</td>\n",
       "      <td>https://www.youtube.com/watch?v=AFtb4KxwYGY</td>\n",
       "      <td>None</td>\n",
       "      <td>None</td>\n",
       "      <td>None</td>\n",
       "      <td>None</td>\n",
       "      <td>Y3-2019-20</td>\n",
       "      <td>5.25</td>\n",
       "      <td>1.37769</td>\n",
       "    </tr>\n",
       "    <tr>\n",
       "      <th>3</th>\n",
       "      <td>95017</td>\n",
       "      <td>ca2fa02b0daa43f295e76da61e53de2a</td>\n",
       "      <td>1570355694</td>\n",
       "      <td>Video.Pause</td>\n",
       "      <td>None</td>\n",
       "      <td>NaN</td>\n",
       "      <td>536.849</td>\n",
       "      <td>NaN</td>\n",
       "      <td>NaN</td>\n",
       "      <td>NaN</td>\n",
       "      <td>Leçon</td>\n",
       "      <td>https://www.youtube.com/watch?v=AFtb4KxwYGY</td>\n",
       "      <td>None</td>\n",
       "      <td>None</td>\n",
       "      <td>None</td>\n",
       "      <td>None</td>\n",
       "      <td>Y3-2019-20</td>\n",
       "      <td>5.25</td>\n",
       "      <td>1.37769</td>\n",
       "    </tr>\n",
       "    <tr>\n",
       "      <th>4</th>\n",
       "      <td>95017</td>\n",
       "      <td>ca2fa02b0daa43f295e76da61e53de2a</td>\n",
       "      <td>1570355760</td>\n",
       "      <td>Video.Pause</td>\n",
       "      <td>None</td>\n",
       "      <td>NaN</td>\n",
       "      <td>580.125</td>\n",
       "      <td>NaN</td>\n",
       "      <td>NaN</td>\n",
       "      <td>NaN</td>\n",
       "      <td>Leçon</td>\n",
       "      <td>https://www.youtube.com/watch?v=AFtb4KxwYGY</td>\n",
       "      <td>None</td>\n",
       "      <td>None</td>\n",
       "      <td>None</td>\n",
       "      <td>None</td>\n",
       "      <td>Y3-2019-20</td>\n",
       "      <td>5.25</td>\n",
       "      <td>1.37769</td>\n",
       "    </tr>\n",
       "  </tbody>\n",
       "</table>\n",
       "</div>"
      ],
      "text/plain": [
       "  ID.Anon                           VideoID   TimeStamp    EventType SeekType  \\\n",
       "0   95017  ca2fa02b0daa43f295e76da61e53de2a  1570355725   Video.Play     None   \n",
       "1   95017  ca2fa02b0daa43f295e76da61e53de2a  1570355899   Video.Play     None   \n",
       "2   95017  ca2fa02b0daa43f295e76da61e53de2a  1570355940   Video.Play     None   \n",
       "3   95017  ca2fa02b0daa43f295e76da61e53de2a  1570355694  Video.Pause     None   \n",
       "4   95017  ca2fa02b0daa43f295e76da61e53de2a  1570355760  Video.Pause     None   \n",
       "\n",
       "   OldTime  CurrentTime  NewTime  OldSpeed  NewSpeed  Title  \\\n",
       "0      NaN      553.294      NaN       NaN       NaN  Leçon   \n",
       "1      NaN      566.935      NaN       NaN       NaN  Leçon   \n",
       "2      NaN      604.909      NaN       NaN       NaN  Leçon   \n",
       "3      NaN      536.849      NaN       NaN       NaN  Leçon   \n",
       "4      NaN      580.125      NaN       NaN       NaN  Leçon   \n",
       "\n",
       "                                        Source Length OpenTime SoftCloseTime  \\\n",
       "0  https://www.youtube.com/watch?v=AFtb4KxwYGY   None     None          None   \n",
       "1  https://www.youtube.com/watch?v=AFtb4KxwYGY   None     None          None   \n",
       "2  https://www.youtube.com/watch?v=AFtb4KxwYGY   None     None          None   \n",
       "3  https://www.youtube.com/watch?v=AFtb4KxwYGY   None     None          None   \n",
       "4  https://www.youtube.com/watch?v=AFtb4KxwYGY   None     None          None   \n",
       "\n",
       "  HardCloseTime Course.Year  Final.Grade  Nor.Score  \n",
       "0          None  Y3-2019-20         5.25    1.37769  \n",
       "1          None  Y3-2019-20         5.25    1.37769  \n",
       "2          None  Y3-2019-20         5.25    1.37769  \n",
       "3          None  Y3-2019-20         5.25    1.37769  \n",
       "4          None  Y3-2019-20         5.25    1.37769  "
      ]
     },
     "execution_count": 47,
     "metadata": {},
     "output_type": "execute_result"
    }
   ],
   "source": [
    "df.head()"
   ]
  },
  {
   "cell_type": "markdown",
   "metadata": {},
   "source": [
    "\n",
    "<h2 id=\"MOOC-Exploratory-Analysis\">MOOC Exploratory Analysis<a class=\"anchor-link\" href=\"#MOOC-Exploratory-Analysis\">¶</a></h2><p>In this notebook, we seek to do exploratory analysis with MOOC data from an introductory analysis course at EPFL. We will draw upon exiting research and try to apply it in the context of MOOCs. This notebook will be split into four sections:</p>\n",
    "<ol>\n",
    "<li>Data Exploration</li>\n",
    "<li>Feature Processing</li>\n",
    "<li>Feature Engineering</li>\n",
    "<li>Model Selection and Discussion</li>\n",
    "</ol>\n"
   ]
  },
  {
   "cell_type": "markdown",
   "metadata": {},
   "source": [
    "\n",
    "<h3 id=\"Data-Exploration\">Data Exploration<a class=\"anchor-link\" href=\"#Data-Exploration\">¶</a></h3><p>Let us understand the given MOOC data and preprocess it to allow for more detail analysis</p>\n"
   ]
  },
  {
   "cell_type": "code",
   "execution_count": 48,
   "metadata": {
    "ExecuteTime": {
     "end_time": "2020-10-30T10:41:51.852075Z",
     "start_time": "2020-10-30T10:41:51.805383Z"
    }
   },
   "outputs": [
    {
     "data": {
      "text/html": [
       "<div>\n",
       "<style scoped>\n",
       "    .dataframe tbody tr th:only-of-type {\n",
       "        vertical-align: middle;\n",
       "    }\n",
       "\n",
       "    .dataframe tbody tr th {\n",
       "        vertical-align: top;\n",
       "    }\n",
       "\n",
       "    .dataframe thead th {\n",
       "        text-align: right;\n",
       "    }\n",
       "</style>\n",
       "<table border=\"1\" class=\"dataframe\">\n",
       "  <thead>\n",
       "    <tr style=\"text-align: right;\">\n",
       "      <th></th>\n",
       "      <th>ID.Anon</th>\n",
       "      <th>VideoID</th>\n",
       "      <th>TimeStamp</th>\n",
       "      <th>EventType</th>\n",
       "      <th>SeekType</th>\n",
       "      <th>OldTime</th>\n",
       "      <th>CurrentTime</th>\n",
       "      <th>NewTime</th>\n",
       "      <th>OldSpeed</th>\n",
       "      <th>NewSpeed</th>\n",
       "      <th>Title</th>\n",
       "      <th>Source</th>\n",
       "      <th>Length</th>\n",
       "      <th>OpenTime</th>\n",
       "      <th>SoftCloseTime</th>\n",
       "      <th>HardCloseTime</th>\n",
       "      <th>Course.Year</th>\n",
       "      <th>Final.Grade</th>\n",
       "      <th>Nor.Score</th>\n",
       "    </tr>\n",
       "  </thead>\n",
       "  <tbody>\n",
       "    <tr>\n",
       "      <th>0</th>\n",
       "      <td>95017</td>\n",
       "      <td>ca2fa02b0daa43f295e76da61e53de2a</td>\n",
       "      <td>1570355725</td>\n",
       "      <td>Video.Play</td>\n",
       "      <td>None</td>\n",
       "      <td>NaN</td>\n",
       "      <td>553.294</td>\n",
       "      <td>NaN</td>\n",
       "      <td>NaN</td>\n",
       "      <td>NaN</td>\n",
       "      <td>Leçon</td>\n",
       "      <td>https://www.youtube.com/watch?v=AFtb4KxwYGY</td>\n",
       "      <td>None</td>\n",
       "      <td>None</td>\n",
       "      <td>None</td>\n",
       "      <td>None</td>\n",
       "      <td>Y3-2019-20</td>\n",
       "      <td>5.25</td>\n",
       "      <td>1.37769</td>\n",
       "    </tr>\n",
       "    <tr>\n",
       "      <th>1</th>\n",
       "      <td>95017</td>\n",
       "      <td>ca2fa02b0daa43f295e76da61e53de2a</td>\n",
       "      <td>1570355899</td>\n",
       "      <td>Video.Play</td>\n",
       "      <td>None</td>\n",
       "      <td>NaN</td>\n",
       "      <td>566.935</td>\n",
       "      <td>NaN</td>\n",
       "      <td>NaN</td>\n",
       "      <td>NaN</td>\n",
       "      <td>Leçon</td>\n",
       "      <td>https://www.youtube.com/watch?v=AFtb4KxwYGY</td>\n",
       "      <td>None</td>\n",
       "      <td>None</td>\n",
       "      <td>None</td>\n",
       "      <td>None</td>\n",
       "      <td>Y3-2019-20</td>\n",
       "      <td>5.25</td>\n",
       "      <td>1.37769</td>\n",
       "    </tr>\n",
       "    <tr>\n",
       "      <th>2</th>\n",
       "      <td>95017</td>\n",
       "      <td>ca2fa02b0daa43f295e76da61e53de2a</td>\n",
       "      <td>1570355940</td>\n",
       "      <td>Video.Play</td>\n",
       "      <td>None</td>\n",
       "      <td>NaN</td>\n",
       "      <td>604.909</td>\n",
       "      <td>NaN</td>\n",
       "      <td>NaN</td>\n",
       "      <td>NaN</td>\n",
       "      <td>Leçon</td>\n",
       "      <td>https://www.youtube.com/watch?v=AFtb4KxwYGY</td>\n",
       "      <td>None</td>\n",
       "      <td>None</td>\n",
       "      <td>None</td>\n",
       "      <td>None</td>\n",
       "      <td>Y3-2019-20</td>\n",
       "      <td>5.25</td>\n",
       "      <td>1.37769</td>\n",
       "    </tr>\n",
       "    <tr>\n",
       "      <th>3</th>\n",
       "      <td>95017</td>\n",
       "      <td>ca2fa02b0daa43f295e76da61e53de2a</td>\n",
       "      <td>1570355694</td>\n",
       "      <td>Video.Pause</td>\n",
       "      <td>None</td>\n",
       "      <td>NaN</td>\n",
       "      <td>536.849</td>\n",
       "      <td>NaN</td>\n",
       "      <td>NaN</td>\n",
       "      <td>NaN</td>\n",
       "      <td>Leçon</td>\n",
       "      <td>https://www.youtube.com/watch?v=AFtb4KxwYGY</td>\n",
       "      <td>None</td>\n",
       "      <td>None</td>\n",
       "      <td>None</td>\n",
       "      <td>None</td>\n",
       "      <td>Y3-2019-20</td>\n",
       "      <td>5.25</td>\n",
       "      <td>1.37769</td>\n",
       "    </tr>\n",
       "    <tr>\n",
       "      <th>4</th>\n",
       "      <td>95017</td>\n",
       "      <td>ca2fa02b0daa43f295e76da61e53de2a</td>\n",
       "      <td>1570355760</td>\n",
       "      <td>Video.Pause</td>\n",
       "      <td>None</td>\n",
       "      <td>NaN</td>\n",
       "      <td>580.125</td>\n",
       "      <td>NaN</td>\n",
       "      <td>NaN</td>\n",
       "      <td>NaN</td>\n",
       "      <td>Leçon</td>\n",
       "      <td>https://www.youtube.com/watch?v=AFtb4KxwYGY</td>\n",
       "      <td>None</td>\n",
       "      <td>None</td>\n",
       "      <td>None</td>\n",
       "      <td>None</td>\n",
       "      <td>Y3-2019-20</td>\n",
       "      <td>5.25</td>\n",
       "      <td>1.37769</td>\n",
       "    </tr>\n",
       "  </tbody>\n",
       "</table>\n",
       "</div>"
      ],
      "text/plain": [
       "  ID.Anon                           VideoID   TimeStamp    EventType SeekType  \\\n",
       "0   95017  ca2fa02b0daa43f295e76da61e53de2a  1570355725   Video.Play     None   \n",
       "1   95017  ca2fa02b0daa43f295e76da61e53de2a  1570355899   Video.Play     None   \n",
       "2   95017  ca2fa02b0daa43f295e76da61e53de2a  1570355940   Video.Play     None   \n",
       "3   95017  ca2fa02b0daa43f295e76da61e53de2a  1570355694  Video.Pause     None   \n",
       "4   95017  ca2fa02b0daa43f295e76da61e53de2a  1570355760  Video.Pause     None   \n",
       "\n",
       "   OldTime  CurrentTime  NewTime  OldSpeed  NewSpeed  Title  \\\n",
       "0      NaN      553.294      NaN       NaN       NaN  Leçon   \n",
       "1      NaN      566.935      NaN       NaN       NaN  Leçon   \n",
       "2      NaN      604.909      NaN       NaN       NaN  Leçon   \n",
       "3      NaN      536.849      NaN       NaN       NaN  Leçon   \n",
       "4      NaN      580.125      NaN       NaN       NaN  Leçon   \n",
       "\n",
       "                                        Source Length OpenTime SoftCloseTime  \\\n",
       "0  https://www.youtube.com/watch?v=AFtb4KxwYGY   None     None          None   \n",
       "1  https://www.youtube.com/watch?v=AFtb4KxwYGY   None     None          None   \n",
       "2  https://www.youtube.com/watch?v=AFtb4KxwYGY   None     None          None   \n",
       "3  https://www.youtube.com/watch?v=AFtb4KxwYGY   None     None          None   \n",
       "4  https://www.youtube.com/watch?v=AFtb4KxwYGY   None     None          None   \n",
       "\n",
       "  HardCloseTime Course.Year  Final.Grade  Nor.Score  \n",
       "0          None  Y3-2019-20         5.25    1.37769  \n",
       "1          None  Y3-2019-20         5.25    1.37769  \n",
       "2          None  Y3-2019-20         5.25    1.37769  \n",
       "3          None  Y3-2019-20         5.25    1.37769  \n",
       "4          None  Y3-2019-20         5.25    1.37769  "
      ]
     },
     "execution_count": 48,
     "metadata": {},
     "output_type": "execute_result"
    }
   ],
   "source": [
    "df.head()"
   ]
  },
  {
   "cell_type": "code",
   "execution_count": 49,
   "metadata": {
    "ExecuteTime": {
     "end_time": "2020-10-30T10:41:55.398345Z",
     "start_time": "2020-10-30T10:41:54.362198Z"
    }
   },
   "outputs": [
    {
     "data": {
      "text/plain": [
       "<matplotlib.axes._subplots.AxesSubplot at 0x1210ae9e8>"
      ]
     },
     "execution_count": 49,
     "metadata": {},
     "output_type": "execute_result"
    },
    {
     "data": {
      "image/png": "[encoded data removed]",
      "text/plain": [
       "<Figure size 432x288 with 1 Axes>"
      ]
     },
     "metadata": {
      "needs_background": "light"
     },
     "output_type": "display_data"
    }
   ],
   "source": [
    "## Grade Distribution Plot\n",
    "grade_df = df[['ID.Anon', 'Final.Grade']]\n",
    "grade_df = grade_df.drop_duplicates()\n",
    "grade_df.groupby('Final.Grade').count().plot(kind='bar', title=\"Grade Distribution\")"
   ]
  },
  {
   "cell_type": "code",
   "execution_count": 50,
   "metadata": {
    "ExecuteTime": {
     "end_time": "2020-10-30T10:42:06.095662Z",
     "start_time": "2020-10-30T10:42:05.249398Z"
    }
   },
   "outputs": [
    {
     "data": {
      "text/plain": [
       "<matplotlib.axes._subplots.AxesSubplot at 0x12063a668>"
      ]
     },
     "execution_count": 50,
     "metadata": {},
     "output_type": "execute_result"
    },
    {
     "data": {
      "image/png": "[encoded data removed]",
      "text/plain": [
       "<Figure size 432x288 with 1 Axes>"
      ]
     },
     "metadata": {
      "needs_background": "light"
     },
     "output_type": "display_data"
    }
   ],
   "source": [
    "## Event count\n",
    "df[['EventType', 'ID.Anon']].groupby('EventType').count().plot(kind='bar', title=\"Event Distribution\")"
   ]
  },
  {
   "cell_type": "code",
   "execution_count": 51,
   "metadata": {
    "ExecuteTime": {
     "end_time": "2020-10-30T10:42:21.945734Z",
     "start_time": "2020-10-30T10:42:21.359517Z"
    }
   },
   "outputs": [
    {
     "data": {
      "text/plain": [
       "<matplotlib.axes._subplots.AxesSubplot at 0x12019c2e8>"
      ]
     },
     "execution_count": 51,
     "metadata": {},
     "output_type": "execute_result"
    },
    {
     "data": {
      "image/png": "[encoded data removed]",
      "text/plain": [
       "<Figure size 432x288 with 1 Axes>"
      ]
     },
     "metadata": {
      "needs_background": "light"
     },
     "output_type": "display_data"
    }
   ],
   "source": [
    "## Grade Distribution Plot with Normalised Scores\n",
    "grade_df = df[['ID.Anon', 'Nor.Score']]\n",
    "grade_df = grade_df.drop_duplicates()\n",
    "grade_df.groupby('Nor.Score').count().plot(kind='line', title=\"Grade Distribution (normalised score)\")"
   ]
  },
  {
   "cell_type": "code",
   "execution_count": 52,
   "metadata": {
    "ExecuteTime": {
     "end_time": "2020-10-30T10:42:37.208065Z",
     "start_time": "2020-10-30T10:42:36.502540Z"
    }
   },
   "outputs": [
    {
     "data": {
      "text/plain": [
       "<matplotlib.axes._subplots.AxesSubplot at 0x11efa06a0>"
      ]
     },
     "execution_count": 52,
     "metadata": {},
     "output_type": "execute_result"
    },
    {
     "data": {
      "image/png": "[encoded data removed]",
      "text/plain": [
       "<Figure size 432x288 with 1 Axes>"
      ]
     },
     "metadata": {
      "needs_background": "light"
     },
     "output_type": "display_data"
    }
   ],
   "source": [
    "## How many videos did students watch\n",
    "video_df = df[['ID.Anon', 'Source']].drop_duplicates()\n",
    "video_df.groupby('ID.Anon').count().plot(kind='hist', bins=[0, 20, 40, 60, 80, 100, 120, 140], rwidth=0.8, title=\"How many videos did each student watch?\")"
   ]
  },
  {
   "cell_type": "code",
   "execution_count": 53,
   "metadata": {
    "ExecuteTime": {
     "end_time": "2020-10-30T10:42:49.681317Z",
     "start_time": "2020-10-30T10:42:46.820024Z"
    }
   },
   "outputs": [
    {
     "data": {
      "image/png": "[encoded data removed]",
      "text/plain": [
       "<Figure size 432x288 with 1 Axes>"
      ]
     },
     "metadata": {
      "needs_background": "light"
     },
     "output_type": "display_data"
    }
   ],
   "source": [
    "\n",
    "## Grades against videos\n",
    "b = 0\n",
    "j = 20\n",
    "\n",
    "db = video_df.groupby('ID.Anon').count().reset_index().rename(columns={'Source': 'Count'})\n",
    "t = db[db['Count'].between(0, 20)]\n",
    "\n",
    "df_merge_col = pd.merge(df[['ID.Anon', 'Final.Grade']], t, on='ID.Anon')\n",
    "np.mean(df_merge_col['Final.Grade'])\n",
    "\n",
    "avg_grade = []\n",
    "while b < 140:\n",
    "    subset = db[db['Count'].between(b, b+j)]\n",
    "    df_merge_col = pd.merge(df[['ID.Anon', 'Final.Grade']], subset, on='ID.Anon').drop_duplicates()\n",
    "    avg_grade.append(np.mean(df_merge_col['Final.Grade']))\n",
    "    b += j\n",
    "\n",
    "plt.title(\"Grades based on Videos Watched\")\n",
    "plt.bar(['0-20', '20-40', '40-60', '60-80', '80-100', '100-120', '120-140'], avg_grade)\n",
    "plt.show()\n",
    "\n"
   ]
  },
  {
   "cell_type": "markdown",
   "metadata": {},
   "source": [
    "\n",
    "<p>The data exploration shows that we have a fairly good distribution of final results (from 1.0 to 5.5). However, there is evidently not a good relationship with videos watched. We have students who watched barely any videos with strong grades. We have to preprocess this data further before we can do any form of analysis.</p>\n"
   ]
  },
  {
   "cell_type": "markdown",
   "metadata": {},
   "source": [
    "\n",
    "<h3 id=\"Feature-Processing\">Feature Processing<a class=\"anchor-link\" href=\"#Feature-Processing\">¶</a></h3><p>In here we write the functions to form our feature processing pipeline.</p>\n"
   ]
  },
  {
   "cell_type": "markdown",
   "metadata": {},
   "source": [
    "\n",
    "<ol>\n",
    "<li>Create more events (speed down vs speed up , seek back vs seek forward etc.) and drop events which we dont really need (transcript translation etc.)</li>\n",
    "</ol>\n"
   ]
  },
  {
   "cell_type": "code",
   "execution_count": 54,
   "metadata": {
    "ExecuteTime": {
     "end_time": "2020-10-30T10:43:46.883109Z",
     "start_time": "2020-10-30T10:43:46.806658Z"
    }
   },
   "outputs": [],
   "source": [
    "\n",
    "def drop_and_relabel(df): \n",
    "    X = df.copy()\n",
    "    \n",
    "    # lets relabel seek events into either seek back or seek forward    \n",
    "    X.loc[X[\"OldTime\"] > X[\"NewTime\"], \"EventType\"]  = \"Video.SeekBack\"\n",
    "    X.loc[X[\"OldTime\"] < X[\"NewTime\"], \"EventType\"]  = \"Video.SeekForward\"\n",
    "    X = X.loc[X[\"EventType\"] != \"Video.Seek\"]\n",
    "    \n",
    "    # lets relabel speed change into speedup or speed down\n",
    "    X.loc[X[\"OldSpeed\"] < X[\"NewSpeed\"], \"EventType\"]  = \"Video.SpeedUp\"\n",
    "    X.loc[X[\"OldSpeed\"] > X[\"NewSpeed\"], \"EventType\"]  = \"Video.SpeedDown\"\n",
    "    X = X.loc[X[\"EventType\"] != \"Video.SpeedChange\"]\n",
    "    \n",
    "    # drop unnecessary events\n",
    "    X = X[X['EventType'] != 'Video.Transcript.Translate.EN']\n",
    "    X = X[X['EventType'] != 'Video.Transcript.Download']\n",
    "    X = X[X['EventType'] != 'Video.Transcript.Hide']\n",
    "    X = X[X['EventType'] != 'Video.Transcript.Show']\n",
    "    \n",
    "    return X\n",
    "\n"
   ]
  },
  {
   "cell_type": "markdown",
   "metadata": {},
   "source": [
    "\n",
    "<ol>\n",
    "<li>Drop students who have repeated the course - we consider them outliers as they have engaged with the content once already and watched videos at irregular periods.</li>\n",
    "</ol>\n"
   ]
  },
  {
   "cell_type": "code",
   "execution_count": 66,
   "metadata": {
    "ExecuteTime": {
     "end_time": "2020-10-30T10:48:59.889547Z",
     "start_time": "2020-10-30T10:48:59.834256Z"
    }
   },
   "outputs": [],
   "source": [
    "\n",
    "# remove repeating students\n",
    "def remove_repeat(df):\n",
    "    retook_students = []\n",
    "    for s in set(df['ID.Anon']):\n",
    "        x = df[df['ID.Anon'] == s]\n",
    "        y1 = len(x[x['Course.Year'] == 'Y1-2017-18']) > 0\n",
    "        y2 = len(x[x['Course.Year'] == 'Y2-2018-19']) > 0\n",
    "        y3 = len(x[x['Course.Year'] == 'Y3-2019-20']) > 0\n",
    "        if y1 + y2 + y3 > 1:\n",
    "            retook_students.append(s)\n",
    "\n",
    "    X = df.copy() \n",
    "    for s in retook_students:\n",
    "        mask = (X['ID.Anon'] == s) & ((X['Course.Year'] == 'Y2-2018-19') | (X['Course.Year'] == 'Y3-2019-20'))\n",
    "        X = X[~mask]\n",
    "    \n",
    "    return X\n",
    "\n"
   ]
  },
  {
   "cell_type": "markdown",
   "metadata": {},
   "source": [
    "\n",
    "<ol>\n",
    "<li>Filter students out who have lesser than 60 videos to their names. The student who watched the most videos in our dataset has 139 videos, we try to get the other students to have at least half of this. This means they have engaged with the MOOC platforms and we have something to analyse.</li>\n",
    "</ol>\n"
   ]
  },
  {
   "cell_type": "code",
   "execution_count": 68,
   "metadata": {
    "ExecuteTime": {
     "end_time": "2020-10-30T10:49:14.755904Z",
     "start_time": "2020-10-30T10:49:14.681884Z"
    }
   },
   "outputs": [],
   "source": [
    "\n",
    "# filter out students with less than 60 videos\n",
    "def students_with_activity(df):\n",
    "    vid_df = df[['ID.Anon', 'Source']].drop_duplicates()\n",
    "    vid_cnt = vid_df.groupby('ID.Anon').count().reset_index().rename(columns={'Source': 'Count'})\n",
    "    vid_cnt = vid_cnt[vid_cnt['Count'] > 60]\n",
    "    return pd.merge(left=vid_cnt, right=df, on=\"ID.Anon\").drop_duplicates()\n",
    "\n"
   ]
  },
  {
   "cell_type": "markdown",
   "metadata": {},
   "source": [
    "\n",
    "<p><strong>Pipeline</strong>:</p>\n"
   ]
  },
  {
   "cell_type": "code",
   "execution_count": 69,
   "metadata": {
    "ExecuteTime": {
     "end_time": "2020-10-30T10:49:16.246777Z",
     "start_time": "2020-10-30T10:49:16.210428Z"
    }
   },
   "outputs": [],
   "source": [
    "\n",
    "def preprocess(df):\n",
    "    X = drop_and_relabel(df)\n",
    "    X = remove_repeat(X)\n",
    "    X = students_with_activity(X)\n",
    "    return X\n",
    "\n"
   ]
  },
  {
   "cell_type": "markdown",
   "metadata": {},
   "source": [
    "\n",
    "<h2 id=\"Feature-Engineering\">Feature Engineering<a class=\"anchor-link\" href=\"#Feature-Engineering\">¶</a></h2><p>Now that we have our preprocessing pipeline, we can proceed to engineer some features for analysis! This part will be split into two main sections encompassing different thematic ideas.</p>\n",
    "<ol>\n",
    "<li>Regularity</li>\n",
    "<li>Clickstream Behaviour</li>\n",
    "</ol>\n"
   ]
  },
  {
   "cell_type": "markdown",
   "metadata": {},
   "source": [
    "\n",
    "<h2 id=\"Regularity\">Regularity<a class=\"anchor-link\" href=\"#Regularity\">¶</a></h2><p>Q: How does a student's regularity with the MOOC course affect his final grade?</p>\n",
    "<p>Simply put, regularity can be defined as the number of hours a student engaged with the MOOC videos <strong>during the period in which he or she was supposed to do so</strong>.</p>\n",
    "<p>For the course which we are analysing, the students only had to do a flipped classroom system for a short period within the semester. This is shown below:</p>\n",
    "<p><img alt=\"title\" src=\"img/course.png\"/></p>\n",
    "<p>We understand that the flipped period happened only for a short period in certain years (2017) and may not translate to them necessarily getting good grades. It is also natural for students to have already background or knowledge in the field from other areas.</p>\n",
    "<p>What we want to understand is: <strong>Student who are more regular tend to me more conscientious about their school work and have better time managemenent. This kind of behaviour should translate to them getting a higher average grade than students who are not. Is this true?</strong></p>\n"
   ]
  },
  {
   "cell_type": "markdown",
   "metadata": {},
   "source": [
    "\n",
    "<h3 id=\"How-can-we-measure-regularity?\">How can we measure regularity?<a class=\"anchor-link\" href=\"#How-can-we-measure-regularity?\">¶</a></h3><p>We now have a rough idea of what is regularity but measuring it sounds challenging.</p>\n",
    "<p>In order to do this, we turn to existing research, namely the paper <a href=\"https://link.springer.com/chapter/10.1007/978-3-319-45153-4_21\">\"How to quantify regularity\" by Sharma et al in EPFL CHILI lab</a>. The paper derives different measures for regularities and explains their properties. We will be looking at the same properties (albeit with slight modifications).</p>\n",
    "<p>The measures include:</p>\n",
    "<table>\n",
    "<thead><tr>\n",
    "<th style=\"text-align:center\">Measure</th>\n",
    "<th style=\"text-align:center\">Description</th>\n",
    "<th style=\"text-align:center\">Justification</th>\n",
    "</tr>\n",
    "</thead>\n",
    "<tbody>\n",
    "<tr>\n",
    "<td style=\"text-align:center\">PDH</td>\n",
    "<td style=\"text-align:center\">Peak on day hour</td>\n",
    "<td style=\"text-align:center\">Identifies if a student's activities are centred around a particular hour of the day</td>\n",
    "</tr>\n",
    "<tr>\n",
    "<td style=\"text-align:center\">PWD</td>\n",
    "<td style=\"text-align:center\">Peak on week day</td>\n",
    "<td style=\"text-align:center\">Identifies if a student's activities are centred around a particular day of the week</td>\n",
    "</tr>\n",
    "<tr>\n",
    "<td style=\"text-align:center\">WS1/WS2/WS3</td>\n",
    "<td style=\"text-align:center\">Weekly Similarities in daily activity</td>\n",
    "<td style=\"text-align:center\">Identifies if student's have similar patterns every week</td>\n",
    "</tr>\n",
    "<tr>\n",
    "<td style=\"text-align:center\">FDH</td>\n",
    "<td style=\"text-align:center\">Hourly Pattern over days</td>\n",
    "<td style=\"text-align:center\">Identifies if hourly pattern is repeating over days</td>\n",
    "</tr>\n",
    "<tr>\n",
    "<td style=\"text-align:center\">FWH</td>\n",
    "<td style=\"text-align:center\">Hourly Pattern over weeks</td>\n",
    "<td style=\"text-align:center\">Identifies if hourly pattern is repeating over weeks</td>\n",
    "</tr>\n",
    "<tr>\n",
    "<td style=\"text-align:center\">FWD</td>\n",
    "<td style=\"text-align:center\">Daily Pattern over Weeks</td>\n",
    "<td style=\"text-align:center\">Identifies if daily pattern is repeating over weeks</td>\n",
    "</tr>\n",
    "</tbody>\n",
    "</table>\n"
   ]
  },
  {
   "cell_type": "markdown",
   "metadata": {},
   "source": [
    "\n",
    "<h5 id=\"Metadata-(course-duration)\">Metadata (course duration)<a class=\"anchor-link\" href=\"#Metadata-(course-duration)\">¶</a></h5>\n"
   ]
  },
  {
   "cell_type": "code",
   "execution_count": 70,
   "metadata": {
    "ExecuteTime": {
     "end_time": "2020-10-30T10:49:19.944670Z",
     "start_time": "2020-10-30T10:49:19.897356Z"
    }
   },
   "outputs": [],
   "source": [
    "\n",
    "from datetime import date\n",
    "import time\n",
    "\n",
    "# length of course\n",
    "timing = {\n",
    "    'Y1-2017-18': {\n",
    "        'Lw': 6,\n",
    "        'Start': time.mktime(date(2017, 10, 12).timetuple())\n",
    "    },\n",
    "    \n",
    "    'Y2-2018-19': {\n",
    "        'Lw': 13,\n",
    "        'Start': time.mktime(date(2018, 9, 17).timetuple())\n",
    "    },\n",
    "    'Y3-2019-20': {\n",
    "        'Lw': 14,\n",
    "        'Start': time.mktime(date(2018, 9, 17).timetuple())\n",
    "    },\n",
    "\n",
    "\n",
    "}\n",
    "\n"
   ]
  },
  {
   "cell_type": "markdown",
   "metadata": {},
   "source": [
    "\n",
    "<h5 id=\"Helper-Functions\">Helper Functions<a class=\"anchor-link\" href=\"#Helper-Functions\">¶</a></h5>\n"
   ]
  },
  {
   "cell_type": "code",
   "execution_count": 71,
   "metadata": {
    "ExecuteTime": {
     "end_time": "2020-10-30T10:49:20.829490Z",
     "start_time": "2020-10-30T10:49:20.788952Z"
    }
   },
   "outputs": [],
   "source": [
    "\n",
    "from datetime import datetime\n",
    "\n",
    "\n",
    "def convert_to_date(ts):\n",
    "    return datetime.fromtimestamp(ts)\n",
    "\n",
    "def normalize(v):\n",
    "    s = v.sum()\n",
    "    if s == 0: return v\n",
    "    return v / s\n",
    "\n",
    "def get_rand_student(X):\n",
    "    rand_id = list(X['ID.Anon'].sample(1))[0]\n",
    "    return X[X['ID.Anon'] == rand_id]\n",
    "\n",
    "def get_time(student):\n",
    "    year = list(student['Course.Year'])[0]\n",
    "    T = student['TimeStamp'].sort_values()\n",
    "    T = T - timing[year]['Start']\n",
    "    T = np.where(T < 0, 0, T)\n",
    "    return list(T), timing[year]['Lw']\n",
    "\n"
   ]
  },
  {
   "cell_type": "markdown",
   "metadata": {},
   "source": [
    "\n",
    "<h5 id=\"Peaks-in-Hourly/Daily-Activity:\">Peaks in Hourly/Daily Activity:<a class=\"anchor-link\" href=\"#Peaks-in-Hourly/Daily-Activity:\">¶</a></h5>\n"
   ]
  },
  {
   "cell_type": "code",
   "execution_count": 72,
   "metadata": {
    "ExecuteTime": {
     "end_time": "2020-10-30T10:49:21.496723Z",
     "start_time": "2020-10-30T10:49:21.452108Z"
    }
   },
   "outputs": [],
   "source": [
    "\n",
    "from scipy.special import entr\n",
    "\n",
    "def student_activity(W, T, x):\n",
    "    T = np.floor_divide(T, W)\n",
    "    return int(x in T)\n",
    "\n",
    "def daily_activity(Ld, T):\n",
    "    def activity_at_hour(h):\n",
    "        res = 0\n",
    "        for i in range(Ld):\n",
    "            res += student_activity(60*60, T, 24*i + h)\n",
    "        return res\n",
    "    hist = list(range(24))\n",
    "    return list(map(activity_at_hour, hist))\n",
    "\n",
    "def weekly_activity(Lw, T):\n",
    "    def activity_at_day(d):\n",
    "        res = 0\n",
    "        for i in range(Lw):\n",
    "            res += student_activity(24*60*60, T, 7*i + d)\n",
    "        return res\n",
    "    hist = list(range(7))\n",
    "    return list(map(activity_at_day, hist))\n",
    "\n",
    "def PDH(Lw, T):\n",
    "    activity = np.array(daily_activity(Lw * 7, T))\n",
    "    normalized_activity = normalize(activity)\n",
    "    entropy = entr(normalized_activity).sum()\n",
    "    return (np.log2(24) - entropy) * np.max(activity)\n",
    "\n",
    "def PWD(Lw, T):\n",
    "    activity = np.array(weekly_activity(Lw, T))\n",
    "    normalized_activity = normalize(activity)\n",
    "    entropy = entr(normalized_activity).sum()\n",
    "    return (np.log2(7) - entropy) * np.max(activity)\n",
    "\n"
   ]
  },
  {
   "cell_type": "code",
   "execution_count": 91,
   "metadata": {
    "ExecuteTime": {
     "end_time": "2020-10-30T10:55:41.327568Z",
     "start_time": "2020-10-30T10:55:41.285601Z"
    }
   },
   "outputs": [],
   "source": [
    "\n",
    "def plot_hourly_activity(X):\n",
    "    student = get_rand_student(X)\n",
    "    T, Lw = get_time(student)\n",
    "    PDHs = \"{:.2f}\".format(PDH(Lw*7, T))\n",
    "    grade = list(student['Final.Grade'])[0]\n",
    "    \n",
    "    plt.bar(np.arange(1, 25), daily_activity(Lw * 7, T))\n",
    "    plt.title(\"Student Activity per Hour, PDH = \" + PDHs + \" Grade = \" + str(grade))\n",
    "    \n",
    "def plot_weekly_activity(X):\n",
    "    student = get_rand_student(X)\n",
    "    T, Lw = get_time(student)\n",
    "    PWDs = \"{:.2f}\".format(PDH(Lw*7, T))\n",
    "    grade = list(student['Final.Grade'])[0]\n",
    "    week_activity = weekly_activity(Lw, T)\n",
    "    plt.bar(np.arange(1, 8), week_activity)\n",
    "    plt.title(\"Student Activity per Week, PWD = \" + PWDs + \" Grade = \" + str(grade))\n",
    "\n"
   ]
  },
  {
   "cell_type": "code",
   "execution_count": 75,
   "metadata": {
    "ExecuteTime": {
     "end_time": "2020-10-30T10:51:59.035405Z",
     "start_time": "2020-10-30T10:50:51.457192Z"
    }
   },
   "outputs": [],
   "source": [
    "preprocess_df = preprocess(df)"
   ]
  },
  {
   "cell_type": "code",
   "execution_count": 74,
   "metadata": {
    "ExecuteTime": {
     "end_time": "2020-10-30T10:50:46.166478Z",
     "start_time": "2020-10-30T10:49:23.648050Z"
    }
   },
   "outputs": [
    {
     "data": {
      "image/png": "[encoded data removed]",
      "text/plain": [
       "<Figure size 432x288 with 1 Axes>"
      ]
     },
     "metadata": {
      "needs_background": "light"
     },
     "output_type": "display_data"
    }
   ],
   "source": [
    "\n",
    "plot_hourly_activity(preprocess_df)\n",
    "\n"
   ]
  },
  {
   "cell_type": "code",
   "execution_count": 96,
   "metadata": {
    "ExecuteTime": {
     "end_time": "2020-10-30T10:56:14.664223Z",
     "start_time": "2020-10-30T10:56:12.463919Z"
    }
   },
   "outputs": [
    {
     "data": {
      "image/png": "[encoded data removed]",
      "text/plain": [
       "<Figure size 432x288 with 1 Axes>"
      ]
     },
     "metadata": {
      "needs_background": "light"
     },
     "output_type": "display_data"
    }
   ],
   "source": [
    "\n",
    "plot_weekly_activity(preprocess_df)\n",
    "\n"
   ]
  },
  {
   "cell_type": "markdown",
   "metadata": {},
   "source": [
    "\n",
    "<h5 id=\"Weekly-Similarities:\">Weekly Similarities:<a class=\"anchor-link\" href=\"#Weekly-Similarities:\">¶</a></h5>\n"
   ]
  },
  {
   "cell_type": "code",
   "execution_count": 93,
   "metadata": {
    "ExecuteTime": {
     "end_time": "2020-10-30T10:55:50.969308Z",
     "start_time": "2020-10-30T10:55:50.531336Z"
    }
   },
   "outputs": [],
   "source": [
    "\n",
    "from scipy.spatial.distance import jensenshannon\n",
    "\n",
    "# global constants\n",
    "HOUR_TO_SECOND = 60 * 60\n",
    "DAY_TO_SECOND = 24 * HOUR_TO_SECOND\n",
    "WEEK_TO_SECOND = 7 * DAY_TO_SECOND\n",
    "\n",
    "def similarity_days(wi, wj):\n",
    "    m1 = np.where(wi == 1)[0]\n",
    "    m2 = np.where(wj == 1)[0]\n",
    "    if len(m1) == 0 or len(m2) == 0: \n",
    "        return 0\n",
    "    \n",
    "    return len(np.intersect1d(m1, m2)) / max(len(m1), len(m2))\n",
    "\n",
    "def aggregate_activity(W, T, Ls):\n",
    "    res = []\n",
    "    for x_i in range(Ls // W):\n",
    "        res.append(student_activity(W, T, x_i))\n",
    "    return np.array(res)\n",
    "\n",
    "def days_active(Lw, T):    \n",
    "    X = aggregate_activity(DAY_TO_SECOND, T, Lw * WEEK_TO_SECOND)\n",
    "    X = X.reshape([Lw, 7])\n",
    "    return X\n",
    "\n",
    "def activity_profile(Lw, T):\n",
    "    activity = []\n",
    "    X = np.array(aggregate_activity(HOUR_TO_SECOND, T, Lw * WEEK_TO_SECOND))\n",
    "    X = X.reshape([Lw, 7*24])\n",
    "    for week in X:\n",
    "        week = week.reshape([7, 24])\n",
    "        activity.append(week.sum(axis=1))\n",
    "    return activity\n",
    "\n",
    "def chi2_divergence(p1, p2, a1, a2):\n",
    "    a = p1 - p2\n",
    "    b = p1 + p2\n",
    "    frac = np.divide(a, b, out=np.zeros(a.shape, dtype=float), where=b!=0)\n",
    "    m1 = np.where(a1 == 1)[0]\n",
    "    m2 = np.where(a2 == 1)[0]\n",
    "    union = np.union1d(m1, m2)\n",
    "    if (len(union) == 0): return np.nan\n",
    "    return 1 - (1 / len(union)) * np.sum(np.square(frac))\n",
    "\n",
    "def WS1(Lw, T):\n",
    "    hist = days_active(Lw, T)\n",
    "    res = []\n",
    "    for i in range(Lw):\n",
    "        for j in range(i + 1, Lw):\n",
    "            res.append(similarity_days(hist[i], hist[j]))\n",
    "    return np.mean(res)\n",
    "\n",
    "def WS2(Lw, T):\n",
    "    profile = activity_profile(Lw, T)\n",
    "    res = []\n",
    "    for i in range(Lw):\n",
    "        for j in range(i + 1, Lw):\n",
    "            if not profile[i].any() or not profile[j].any(): continue\n",
    "            res.append(1 - jensenshannon(profile[i], profile[j], 2.0))\n",
    "    if len(res) == 0: return np.nan\n",
    "    return np.mean(res)\n",
    "    \n",
    "def WS3(Lw, T):\n",
    "    profile = activity_profile(Lw, T)\n",
    "    hist = days_active(Lw, T)\n",
    "    res = []\n",
    "    for i in range(Lw):\n",
    "        for j in range(i + 1, Lw):\n",
    "            if not profile[i].any() or not profile[j].any(): continue\n",
    "            res.append(chi2_divergence(profile[i], profile[j], hist[i], hist[j]))\n",
    "    if len(res) == 0: return np.nan           \n",
    "    return np.mean(res)\n",
    "\n"
   ]
  },
  {
   "cell_type": "markdown",
   "metadata": {},
   "source": [
    "\n",
    "<h5 id=\"Frequency-Patterns-(daily/weekly)\">Frequency Patterns (daily/weekly)<a class=\"anchor-link\" href=\"#Frequency-Patterns-(daily/weekly)\">¶</a></h5>\n"
   ]
  },
  {
   "cell_type": "code",
   "execution_count": 94,
   "metadata": {
    "ExecuteTime": {
     "end_time": "2020-10-30T10:55:51.016817Z",
     "start_time": "2020-10-30T10:55:50.972241Z"
    }
   },
   "outputs": [],
   "source": [
    "\n",
    "def fourier_transform(Xi, f, n):\n",
    "    M = np.exp(-2j * np.pi * f * n)\n",
    "    return np.dot(M, Xi)\n",
    "\n",
    "def FDH(Lw, T):\n",
    "    Xi = aggregate_activity(HOUR_TO_SECOND, T, Lw * WEEK_TO_SECOND)\n",
    "    n = np.arange(Lw * WEEK_TO_SECOND // HOUR_TO_SECOND)\n",
    "    return abs(fourier_transform(Xi, 1 / 24, n))\n",
    "\n",
    "def FWH(Lw, T):\n",
    "    Xi = aggregate_activity(HOUR_TO_SECOND, T, Lw * WEEK_TO_SECOND)\n",
    "    n = np.arange(Lw * WEEK_TO_SECOND // HOUR_TO_SECOND)\n",
    "    return abs(fourier_transform(Xi, 1 / 24*7, n))\n",
    "\n",
    "def FWD(Lw, T):\n",
    "    Xi = aggregate_activity(DAY_TO_SECOND, T, Lw * WEEK_TO_SECOND)\n",
    "    n = np.arange(Lw * WEEK_TO_SECOND // DAY_TO_SECOND)\n",
    "    return abs(fourier_transform(Xi, 1 / 7, n))\n",
    "\n"
   ]
  },
  {
   "cell_type": "markdown",
   "metadata": {},
   "source": [
    "\n",
    "<h2 id=\"Clickstream-Behaviour\">Clickstream Behaviour<a class=\"anchor-link\" href=\"#Clickstream-Behaviour\">¶</a></h2><p>Q: Can we use patterns from MOOC clickstream data to understand more about a student's final grade in the module?</p>\n",
    "<p>We have the following data from the student's clickstream:</p>\n",
    "<ol>\n",
    "<li>Pause</li>\n",
    "<li>Skip (seek forward)</li>\n",
    "<li>Replay (seek back)</li>\n",
    "<li>Change of Speed</li>\n",
    "</ol>\n",
    "<p>These events correspond to a specific behavioural pattern for the student. Studies have shown that student's behaviours can be profiled from their clickstream frequency. e.g students who are fast learners/or from background are more likely to skip more often. Students who are feel confused at certain topics may be more likely to replay and rewatch those contents.</p>\n",
    "<p>A student's behaviour can correlate to his final grade provided we have engineered the right features. In this paper, we seek to refer to exisiting research and derive a methodology to make use of the above data to do some form of prediction for the final grade.</p>\n",
    "<p>We understand that the clickstream activity may not be a strong indication of their behaviour. After all, there is noise and unpredictability among the clickstream patterns. We also do not have a large sample of students who watched many videos.</p>\n",
    "<p>What we want to understand is: <strong>Students with a certain learning pattern are more likely to have similar clickstream routine as well. Can we somehow relate this behaviour with their final results?</strong></p>\n"
   ]
  },
  {
   "cell_type": "markdown",
   "metadata": {},
   "source": [
    "\n",
    "<h3 id=\"What-features-should-we-extract?\">What features should we extract?<a class=\"anchor-link\" href=\"#What-features-should-we-extract?\">¶</a></h3><p>There are many features available in the clickstream. However, which features could potentially add the most value to our research?</p>\n",
    "<p>In order to answer this question, we turn to existing research done in the field. There are numerous research being done on MOOC data. The one that we found most useful was <a href=\"https://infoscience.epfl.ch/record/213647?ln=en\">\"Augmenting Learning Activities with Contextual Information Scent\"</a> by Nan Li, a PhD thesis on MOOC research. In the thesis, Nan Li analysis various profiles and derives features based on clickstream activity.</p>\n",
    "<p>The features include:</p>\n",
    "<ol>\n",
    "<li>Pause Profile <ul>\n",
    "<li>How many pauses between 2 to 20min?</li>\n",
    "<li>How long are these pauses?</li>\n",
    "</ul>\n",
    "</li>\n",
    "</ol>\n",
    "<ol>\n",
    "<li>Skip Profile<ul>\n",
    "<li>How many skips and how long?</li>\n",
    "</ul>\n",
    "</li>\n",
    "</ol>\n",
    "<ol>\n",
    "<li>Replay Profile<ul>\n",
    "<li>How many replays and how long?</li>\n",
    "</ul>\n",
    "</li>\n",
    "</ol>\n",
    "<ol>\n",
    "<li>Speeding Profile<ul>\n",
    "<li>How many speed ups / speed downs (in a window of 10s to ignore noise from repeated clicking)</li>\n",
    "</ul>\n",
    "</li>\n",
    "</ol>\n"
   ]
  },
  {
   "cell_type": "markdown",
   "metadata": {},
   "source": [
    "\n",
    "<h5 id=\"Helper-Functions:\">Helper Functions:<a class=\"anchor-link\" href=\"#Helper-Functions:\">¶</a></h5>\n"
   ]
  },
  {
   "cell_type": "code",
   "execution_count": 98,
   "metadata": {
    "ExecuteTime": {
     "end_time": "2020-10-30T10:57:18.805454Z",
     "start_time": "2020-10-30T10:57:16.701339Z"
    }
   },
   "outputs": [],
   "source": [
    "\n",
    "from pygam import LinearGAM, LogisticGAM, s, f\n",
    "\n",
    "def get_labels(X):\n",
    "    y = X[['ID.Anon', 'Nor.Score']].copy()\n",
    "    y['Score'] = y['Nor.Score']\n",
    "    y = y.drop(['Nor.Score'], axis=1).drop_duplicates()\n",
    "    return y\n",
    "\n",
    "def get_training_data(X_n, y):\n",
    "    merged_pd = pd.merge(left=X_n, right=y, on=\"ID.Anon\", how=\"left\").drop_duplicates()\n",
    "    y_n = merged_pd['Score'].copy()\n",
    "    X_n = X_n.drop(['ID.Anon'], axis=1)\n",
    "    return X_n, np.array(y_n)\n",
    "\n",
    "def plot_dependancy_curve(f, X, y, headers, get_summary=False):\n",
    "    X_n, y_n = get_training_data(f(X), y)    \n",
    "    gam = LinearGAM().fit(X_n, y_n)\n",
    "    \n",
    "    if get_summary:\n",
    "        print(gam.summary())\n",
    "    \n",
    "    for i, term in enumerate(gam.terms):\n",
    "        if term.isintercept:\n",
    "            continue\n",
    "\n",
    "        XX = gam.generate_X_grid(term=i)\n",
    "        pdep, confi = gam.partial_dependence(term=i, X=XX, width=0.95)\n",
    "\n",
    "        plt.figure()\n",
    "        plt.plot(XX[:, term.feature], pdep)\n",
    "        plt.plot(XX[:, term.feature], confi, c='r', ls='--')\n",
    "        #plt.title(headers[i])\n",
    "        plt.show()\n",
    "\n"
   ]
  },
  {
   "cell_type": "code",
   "execution_count": 99,
   "metadata": {
    "ExecuteTime": {
     "end_time": "2020-10-30T10:57:27.693110Z",
     "start_time": "2020-10-30T10:57:27.532401Z"
    }
   },
   "outputs": [],
   "source": [
    "\n",
    "# for dependancy plotting below\n",
    "X = preprocess_df\n",
    "y = get_labels(X)\n",
    "\n"
   ]
  },
  {
   "cell_type": "markdown",
   "metadata": {},
   "source": [
    "\n",
    "<h5 id=\"Pause-Profile-:-count-/-duration-of-pauses-between-2s---5min\">Pause Profile : count / duration of pauses between 2s - 5min<a class=\"anchor-link\" href=\"#Pause-Profile-:-count-/-duration-of-pauses-between-2s---5min\">¶</a></h5><p>Similar to Nan Li's approach we fix the duration of pauses to a fixed interval. A 1 second pause is likely to be noise while a &gt;5min pause is probably a coffee break</p>\n"
   ]
  },
  {
   "cell_type": "code",
   "execution_count": 100,
   "metadata": {
    "ExecuteTime": {
     "end_time": "2020-10-30T10:57:30.185170Z",
     "start_time": "2020-10-30T10:57:30.141918Z"
    }
   },
   "outputs": [],
   "source": [
    "\n",
    "def count_pause(X):\n",
    "    v = list(X[['TimeStamp', 'EventType']].values)\n",
    "    pause_prev = False\n",
    "    start_time = 0\n",
    "    MX = 5 * 60\n",
    "    \n",
    "    dur = 0\n",
    "    cnt = 0\n",
    "    skipped = 0\n",
    "    \n",
    "    for data in v:\n",
    "        if pause_prev:\n",
    "            if data[1] == 'Video.Pause':\n",
    "                continue\n",
    "            x = data[0] - start_time\n",
    "            if x < 2 or x > MX:\n",
    "                pause_prev = False\n",
    "                skipped += 1\n",
    "                continue\n",
    "            dur += x\n",
    "            cnt += 1\n",
    "            \n",
    "        pause_prev = data[1] == 'Video.Pause'\n",
    "        start_time = data[0]\n",
    "        \n",
    "    return cnt, dur\n",
    "\n",
    "def pause_profile(X):\n",
    "    res = []\n",
    "    for s in set(X['ID.Anon']):\n",
    "        v1, v2 = count_pause(X[X['ID.Anon'] == s].sort_values(by='TimeStamp'))\n",
    "        res.append([s, v1, v2])\n",
    "    return pd.DataFrame(res, columns=['ID.Anon', 'PauseCnt', 'PauseDuration']) \n",
    "\n"
   ]
  },
  {
   "cell_type": "code",
   "execution_count": 101,
   "metadata": {
    "ExecuteTime": {
     "end_time": "2020-10-30T10:57:44.890081Z",
     "start_time": "2020-10-30T10:57:31.435525Z"
    }
   },
   "outputs": [
    {
     "data": {
      "image/png": "[encoded data removed]",
      "text/plain": [
       "<Figure size 432x288 with 1 Axes>"
      ]
     },
     "metadata": {
      "needs_background": "light"
     },
     "output_type": "display_data"
    },
    {
     "data": {
      "image/png": "[encoded data removed]",
      "text/plain": [
       "<Figure size 432x288 with 1 Axes>"
      ]
     },
     "metadata": {
      "needs_background": "light"
     },
     "output_type": "display_data"
    }
   ],
   "source": [
    "\n",
    "plot_dependancy_curve(pause_profile, X, y, ['Pause Count', 'Pause Duration'])\n",
    "\n"
   ]
  },
  {
   "cell_type": "markdown",
   "metadata": {},
   "source": [
    "\n",
    "<p><strong>Comments</strong>: The GAMM fit shows some non-linear correlation between a student's passing rate at his pause profile. It is not a very weak relationship but students who pause for a longer duration tend to do worse. However, the wide confidence interval suggests that there is a high variance in the dataset and this trend cannot be clearly justified.</p>\n"
   ]
  },
  {
   "cell_type": "markdown",
   "metadata": {},
   "source": [
    "\n",
    "<h5 id=\"Replay-Profile-:-count-/-duration-of-replays-(seek-back)\">Replay Profile : count / duration of replays (seek back)<a class=\"anchor-link\" href=\"#Replay-Profile-:-count-/-duration-of-replays-(seek-back)\">¶</a></h5>\n"
   ]
  },
  {
   "cell_type": "code",
   "execution_count": 102,
   "metadata": {
    "ExecuteTime": {
     "end_time": "2020-10-30T10:58:09.193772Z",
     "start_time": "2020-10-30T10:58:09.146011Z"
    }
   },
   "outputs": [],
   "source": [
    "\n",
    "def count_replay(X):\n",
    "    v = list(X[['TimeStamp', 'EventType', 'OldTime', 'NewTime']].values)\n",
    "    dur = 0\n",
    "    cnt = 0\n",
    "    for data in v:\n",
    "        if data[1] == 'Video.SeekBack':\n",
    "            cnt += 1\n",
    "            dur += data[2] - data[3]\n",
    "    return cnt, dur\n",
    "\n",
    "def replay_profile(X):\n",
    "    res = []\n",
    "    for s in set(X['ID.Anon']):\n",
    "        v1, v2 = count_replay(X[X['ID.Anon'] == s].sort_values(by='TimeStamp'))\n",
    "        res.append([s, v1, v2])\n",
    "    return pd.DataFrame(res, columns=['ID.Anon', 'ReplayCnt', 'ReplayDuration'])  \n",
    "\n"
   ]
  },
  {
   "cell_type": "code",
   "execution_count": 103,
   "metadata": {
    "ExecuteTime": {
     "end_time": "2020-10-30T10:58:23.919206Z",
     "start_time": "2020-10-30T10:58:09.735208Z"
    }
   },
   "outputs": [
    {
     "data": {
      "image/png": "[encoded data removed]",
      "text/plain": [
       "<Figure size 432x288 with 1 Axes>"
      ]
     },
     "metadata": {
      "needs_background": "light"
     },
     "output_type": "display_data"
    },
    {
     "data": {
      "image/png": "[encoded data removed]",
      "text/plain": [
       "<Figure size 432x288 with 1 Axes>"
      ]
     },
     "metadata": {
      "needs_background": "light"
     },
     "output_type": "display_data"
    }
   ],
   "source": [
    "\n",
    "plot_dependancy_curve(replay_profile, X, y, ['Replay Count', 'Replay Duration'])\n",
    "\n"
   ]
  },
  {
   "cell_type": "markdown",
   "metadata": {},
   "source": [
    "\n",
    "<p><strong>Comments</strong>: The replay profile shows a clear trend. It is not a strong linear linear relationship but the curve has a downward slope as both replay duration / replay count approach larger values. Similar to pausing, people who replay more, might be less engaged with the material and find it harder to absorb the material. This could also be because of other factors like their background/education before taking up this course. This is a interesting trend we have!</p>\n"
   ]
  },
  {
   "cell_type": "markdown",
   "metadata": {},
   "source": [
    "\n",
    "<h5 id=\"Skip-Profile-:-count-/-duration-of-skips-(seek-forward)\">Skip Profile : count / duration of skips (seek forward)<a class=\"anchor-link\" href=\"#Skip-Profile-:-count-/-duration-of-skips-(seek-forward)\">¶</a></h5>\n"
   ]
  },
  {
   "cell_type": "code",
   "execution_count": 104,
   "metadata": {
    "ExecuteTime": {
     "end_time": "2020-10-30T10:58:59.809167Z",
     "start_time": "2020-10-30T10:58:59.727143Z"
    }
   },
   "outputs": [],
   "source": [
    "\n",
    "def count_skip(X):\n",
    "    v = list(X[['TimeStamp', 'EventType', 'OldTime', 'NewTime']].values)\n",
    "    dur = 0\n",
    "    cnt = 0\n",
    "    for data in v:\n",
    "        if data[1] == 'Video.SeekForward':\n",
    "            cnt += 1\n",
    "            dur += data[3] - data[2]\n",
    "    return cnt, dur\n",
    "\n",
    "def skip_profile(X):\n",
    "    res = []\n",
    "    for s in set(X['ID.Anon']):\n",
    "        v1, v2 = count_skip(X[X['ID.Anon'] == s].sort_values(by='TimeStamp'))\n",
    "        res.append([s, v1, v2])\n",
    "    return pd.DataFrame(res, columns=['ID.Anon', 'SkipCnt', 'SkipDuration']) \n",
    "\n"
   ]
  },
  {
   "cell_type": "code",
   "execution_count": 105,
   "metadata": {
    "ExecuteTime": {
     "end_time": "2020-10-30T10:59:14.452753Z",
     "start_time": "2020-10-30T10:59:00.048285Z"
    }
   },
   "outputs": [
    {
     "data": {
      "image/png": "[encoded data removed]",
      "text/plain": [
       "<Figure size 432x288 with 1 Axes>"
      ]
     },
     "metadata": {
      "needs_background": "light"
     },
     "output_type": "display_data"
    },
    {
     "data": {
      "image/png": "[encoded data removed]",
      "text/plain": [
       "<Figure size 432x288 with 1 Axes>"
      ]
     },
     "metadata": {
      "needs_background": "light"
     },
     "output_type": "display_data"
    }
   ],
   "source": [
    "\n",
    "plot_dependancy_curve(skip_profile, X, y, ['Skip Count', 'Skip Duration'])\n",
    "\n"
   ]
  },
  {
   "cell_type": "markdown",
   "metadata": {},
   "source": [
    "\n",
    "<p><strong>Comments</strong>: Students who skip more tend to a little better while students who skip longer do worse. Perhaps, students who skip a lot tend to be from stronger background (hence, are already familiar with the content). The duration trend is more clear as it shows that students who tend to skip out more (esp huge periods) tend to miss out on important content and have a higher probablity of failing.</p>\n"
   ]
  },
  {
   "cell_type": "markdown",
   "metadata": {},
   "source": [
    "\n",
    "<h5 id=\"Speeding-Profile-:-count-of-speed-up-or-speed-down-(in-a-10s-window)\">Speeding Profile : count of speed up or speed down (in a 10s window)<a class=\"anchor-link\" href=\"#Speeding-Profile-:-count-of-speed-up-or-speed-down-(in-a-10s-window)\">¶</a></h5><p>The reason for taking a 10s windows is that sometimes people click the speeding buttons more than once as they adjust to a certain speed. It would add more noise to take all the speed ups if the student is just clicking the button without the intention to speed it up. The 10s window helps to reduce this noise!</p>\n"
   ]
  },
  {
   "cell_type": "code",
   "execution_count": 106,
   "metadata": {
    "ExecuteTime": {
     "end_time": "2020-10-30T10:59:48.403420Z",
     "start_time": "2020-10-30T10:59:48.305241Z"
    }
   },
   "outputs": [],
   "source": [
    "\n",
    "def count_speed_change(X):\n",
    "    def get_speed(w_o, w_n):\n",
    "        v1 = 0\n",
    "        v2 = 0\n",
    "        for s in w_o:\n",
    "            if np.isnan(s): continue\n",
    "            v1 = s\n",
    "            break\n",
    "        \n",
    "        if v1 == 0: return -1\n",
    "        \n",
    "        for s in w_n:\n",
    "            if np.isnan(s): continue\n",
    "            v2 = s\n",
    "        return int(v1 > v2)\n",
    "    \n",
    "    v = list(X[['TimeStamp', 'OldSpeed', 'NewSpeed']].values)\n",
    "    curr = v[0][0]\n",
    "    w_o = []\n",
    "    w_n = []\n",
    "    change = [0, 0]\n",
    "    MX = 10\n",
    "    \n",
    "    for data in v:\n",
    "        if data[0] - curr > MX:\n",
    "            x = get_speed(w_o, w_n)\n",
    "            if x != -1: change[x] += 1\n",
    "            w_o = []\n",
    "            w_n = []\n",
    "            curr = data[0]\n",
    "        w_o.append(data[1])\n",
    "        w_n.append(data[2])\n",
    "    \n",
    "    return change[0], change[1]\n",
    "\n",
    "\n",
    "def avg_speed_change(X):\n",
    "    v = list(X[['TimeStamp', 'NewSpeed']].values)\n",
    "    curr = v[0][0]\n",
    "    \n",
    "    change = []\n",
    "    change.append((1.0, 0))\n",
    "    \n",
    "    for data in v:\n",
    "        x = change[-1]\n",
    "        change[-1] = (x[0], x[1] + (data[0] - curr))\n",
    "        if not np.isnan(data[1]):\n",
    "            change.append((data[1], 0))\n",
    "        curr = data[0]\n",
    "    \n",
    "    T = 0\n",
    "    num = 0\n",
    "    for x in change:\n",
    "        num += x[0] * x[1]\n",
    "        T += x[1]\n",
    "\n",
    "    return (num / T) - 1.0\n",
    "\n",
    "def speed_profile(X):\n",
    "    res = []\n",
    "    for s in set(X['ID.Anon']):\n",
    "        Xs = X[X['ID.Anon'] == s].sort_values(by='TimeStamp')\n",
    "        v1, v2 = count_speed_change(Xs)\n",
    "        v3 = avg_speed_change(Xs)\n",
    "        res.append([s, v1, v2, v3])\n",
    "    return pd.DataFrame(res, columns=['ID.Anon', 'SpeedDownCnt', 'SpeedUpCnt', 'AvgSpdChange'])\n",
    "\n"
   ]
  },
  {
   "cell_type": "code",
   "execution_count": 107,
   "metadata": {
    "ExecuteTime": {
     "end_time": "2020-10-30T11:00:09.276130Z",
     "start_time": "2020-10-30T10:59:48.946018Z"
    }
   },
   "outputs": [
    {
     "data": {
      "image/png": "[encoded data removed]",
      "text/plain": [
       "<Figure size 432x288 with 1 Axes>"
      ]
     },
     "metadata": {
      "needs_background": "light"
     },
     "output_type": "display_data"
    },
    {
     "data": {
      "image/png": "[encoded data removed]",
      "text/plain": [
       "<Figure size 432x288 with 1 Axes>"
      ]
     },
     "metadata": {
      "needs_background": "light"
     },
     "output_type": "display_data"
    },
    {
     "data": {
      "image/png": "[encoded data removed]",
      "text/plain": [
       "<Figure size 432x288 with 1 Axes>"
      ]
     },
     "metadata": {
      "needs_background": "light"
     },
     "output_type": "display_data"
    }
   ],
   "source": [
    "\n",
    "plot_dependancy_curve(speed_profile, X, y, ['Speed Up Count', 'Speed Down Count', 'Average Speed Change'])\n",
    "\n"
   ]
  },
  {
   "cell_type": "markdown",
   "metadata": {},
   "source": [
    "\n",
    "<p><strong>Comments</strong>: There is an interesting relationship for speed change. It feels like people who speed down do better while people who speed up tend to do worse! However, what is even more interesting is that there is no student who slowed down below the intial speed (meaning if they sped down, they sped up as well). This goes to show that average speed change is a much more accurate measure to use here.</p>\n",
    "<p>The trend is that between a certain speed change value (0.6 - 0.8) people tend to do better but it goes back down as it increases to 1.0!</p>\n"
   ]
  },
  {
   "cell_type": "markdown",
   "metadata": {},
   "source": [
    "\n",
    "<h2 id=\"Model-Selection-and-Discussion\">Model Selection and Discussion<a class=\"anchor-link\" href=\"#Model-Selection-and-Discussion\">¶</a></h2><p>Now that we have a good set of features, we should try to apply some form of machine learning to draw upon trends in the results. Based on the problem constraints, doing an unsupervised learning approach (clustering) seems to be the best way to go. This way we can group students based on their regularity/clickstream behaviour and look at the proportion of final grades in each cluster.</p>\n"
   ]
  },
  {
   "cell_type": "markdown",
   "metadata": {},
   "source": [
    "\n",
    "<h3 id=\"Why-are-we-not-using-a-supervised-approach?-(predict-final-grades-or-classify-students-as-pass/fail)\">Why are we not using a supervised approach? (predict final grades or classify students as pass/fail)<a class=\"anchor-link\" href=\"#Why-are-we-not-using-a-supervised-approach?-(predict-final-grades-or-classify-students-as-pass/fail)\">¶</a></h3><p>At first glance, this seems like a reasonable way to tackle this problem. There is some form of ground truth in a student's final grades and a professor can definitely benefit from an early warning system where students who are more likely to fail is shown.</p>\n",
    "<p>However, there are some limitations with this approach that makes it almost infeasible:</p>\n",
    "<ol>\n",
    "<li><strong>High Variance</strong>: The smaller sample size we have causes a larger variance among points. This can be shown by the large confidence interval bans we have in our dependancy plots. This means that we are less confident about the trends in our points and it will be hard to do a validate our results even with supervised learning.</li>\n",
    "</ol>\n",
    "<ol>\n",
    "<li><strong>Exams Happen Later/Blended System</strong>: The final exams happen some time after the MOOC period. Also, this is a blended system so students have access to in-person consultations and lecture sessions. This means that MOOC data is not going to paint a clear picture of a student's final exam performance. </li>\n",
    "</ol>\n",
    "<ol>\n",
    "<li><strong>Background</strong>: This is an introductory Linear Algebra course for first year students at EPFL. This means that there will be students from various backgrounds entering in this course. The prior knowledge they have will definitely influence their engagement with the MOOCs and the final grade achieved. We dont have this data.</li>\n",
    "</ol>\n"
   ]
  },
  {
   "cell_type": "markdown",
   "metadata": {},
   "source": [
    "\n",
    "<h3 id=\"Building-the-Feature-Matrix-+-Clustering\">Building the Feature Matrix + Clustering<a class=\"anchor-link\" href=\"#Building-the-Feature-Matrix-+-Clustering\">¶</a></h3><p>Let's build the final matrix we will be using in order to do the clustering later on! This is done by choosing the best features from regularity / clickstream activity. We try to choose points that are not too correlated to each other and have a good relationship to learning outcomes! We do this by looking at the dependancy plots and using heuristics like the pearson correlation coefficient.</p>\n",
    "<p>It is difficult to cluster using both clickstream and regularity together! This is because the units of comparison are a little difficult and it is hard to get good clusters (inertia/silhoutte score/davies_bouldin_score were used to check). The dimensions also increase and clustering algorithms like kmeans dont do too well in higher dimensions.</p>\n"
   ]
  },
  {
   "cell_type": "code",
   "execution_count": 108,
   "metadata": {
    "ExecuteTime": {
     "end_time": "2020-10-30T11:00:24.483754Z",
     "start_time": "2020-10-30T11:00:21.729562Z"
    }
   },
   "outputs": [],
   "source": [
    "\n",
    "from sklearn.cluster import KMeans, AgglomerativeClustering\n",
    "from scipy.cluster.hierarchy import linkage, dendrogram\n",
    "from sklearn.metrics import silhouette_score, davies_bouldin_score\n",
    "\n",
    "## Cluster Libary\n",
    "rand_seed = 777\n",
    "\n",
    "def k_means_elbow(X):\n",
    "    inertia = []\n",
    "    for i in range(1,11):\n",
    "        kmeans = KMeans(n_clusters=i, random_state=rand_seed).fit(X)\n",
    "        inertia.append(kmeans.inertia_)\n",
    "\n",
    "    plt.plot(range(1, 11), inertia)\n",
    "    plt.title('Elbow Method')\n",
    "    plt.xlabel('Number K of clusters')\n",
    "    plt.ylabel('Inertia')\n",
    "    \n",
    "def get_dendograms(X):\n",
    "    merg = linkage(X, method=\"ward\")\n",
    "    dendrogram(merg,leaf_rotation = 90)\n",
    "    plt.xlabel(\"data points\")\n",
    "    plt.ylabel(\"euclidean distance\")\n",
    "    plt.show()\n",
    "    \n",
    "def agglomerative(X, n):\n",
    "    ac = AgglomerativeClustering(n_clusters=n, affinity='euclidean', linkage='ward')\n",
    "    clusters = ac.fit_predict(X)\n",
    "    return clusters\n",
    "\n",
    "def cluster_verification(X, labels):\n",
    "    si = silhouette_score(X, labels)\n",
    "    db = davies_bouldin_score(X, labels)\n",
    "    print(\"Silhouette Score: {0}\".format(si))\n",
    "    print(\"Davies Bouldin Score: {0}\".format(db))\n",
    "\n"
   ]
  },
  {
   "cell_type": "markdown",
   "metadata": {},
   "source": [
    "\n",
    "<h3 id=\"Cluster-Regular-Students\">Cluster Regular Students<a class=\"anchor-link\" href=\"#Cluster-Regular-Students\">¶</a></h3>\n"
   ]
  },
  {
   "cell_type": "code",
   "execution_count": 109,
   "metadata": {
    "ExecuteTime": {
     "end_time": "2020-10-30T11:00:24.566276Z",
     "start_time": "2020-10-30T11:00:24.491646Z"
    }
   },
   "outputs": [],
   "source": [
    "\n",
    "def get_regularity_student(student):\n",
    "    T, Lw = get_time(student)\n",
    "    \n",
    "    PDHx = PDH(Lw, T)\n",
    "    PWDx = PWD(Lw, T)\n",
    "\n",
    "    WS1x = WS1(Lw, T)\n",
    "    WS2x = WS2(Lw, T)\n",
    "    WS3x = WS3(Lw, T)\n",
    "    \n",
    "    FDHx = FDH(Lw, T)\n",
    "    FWHx = FWH(Lw, T)\n",
    "    FWDx = FWD(Lw, T)    \n",
    "\n",
    "    return np.array([PDHx, PWDx, WS1x, WS2x, WS3x, FDHx, FWHx, FWDx])\n",
    "\n",
    "def regularity_df(X):\n",
    "    students = set(X['ID.Anon'])\n",
    "    res = np.zeros([len(students), 8])\n",
    "    for i, s in enumerate(students):\n",
    "        X_s = X[X['ID.Anon'] == s]\n",
    "        res[i, :] = get_regularity_student(X_s)\n",
    "        \n",
    "    features = pd.DataFrame(res, columns=['PDH', 'PWD', 'WS1', 'WS2', 'WS3', 'FDH', 'FWH', 'FWD'])\n",
    "    features.insert(0, 'ID.Anon', list(students))\n",
    "    \n",
    "    # NaN values correspond to students who have <= 1 hr of activity in the required period. Their values would def skew the results and these should be treated as outliers (and dropped)\n",
    "    return features.dropna()  \n",
    "\n"
   ]
  },
  {
   "cell_type": "code",
   "execution_count": 110,
   "metadata": {
    "ExecuteTime": {
     "end_time": "2020-10-30T11:14:27.401030Z",
     "start_time": "2020-10-30T11:00:27.197794Z"
    }
   },
   "outputs": [],
   "source": [
    "\n",
    "XA = regularity_df(X)\n",
    "\n"
   ]
  },
  {
   "cell_type": "code",
   "execution_count": 111,
   "metadata": {
    "ExecuteTime": {
     "end_time": "2020-10-30T11:55:48.351553Z",
     "start_time": "2020-10-30T11:55:48.270821Z"
    }
   },
   "outputs": [
    {
     "data": {
      "text/html": [
       "<div>\n",
       "<style scoped>\n",
       "    .dataframe tbody tr th:only-of-type {\n",
       "        vertical-align: middle;\n",
       "    }\n",
       "\n",
       "    .dataframe tbody tr th {\n",
       "        vertical-align: top;\n",
       "    }\n",
       "\n",
       "    .dataframe thead th {\n",
       "        text-align: right;\n",
       "    }\n",
       "</style>\n",
       "<table border=\"1\" class=\"dataframe\">\n",
       "  <thead>\n",
       "    <tr style=\"text-align: right;\">\n",
       "      <th></th>\n",
       "      <th>ID.Anon</th>\n",
       "      <th>PDH</th>\n",
       "      <th>PWD</th>\n",
       "      <th>WS1</th>\n",
       "      <th>WS2</th>\n",
       "      <th>WS3</th>\n",
       "      <th>FDH</th>\n",
       "      <th>FWH</th>\n",
       "      <th>FWD</th>\n",
       "    </tr>\n",
       "  </thead>\n",
       "  <tbody>\n",
       "    <tr>\n",
       "      <th>0</th>\n",
       "      <td>11444</td>\n",
       "      <td>19.389591</td>\n",
       "      <td>10.725039</td>\n",
       "      <td>0.300214</td>\n",
       "      <td>0.330240</td>\n",
       "      <td>0.359689</td>\n",
       "      <td>39.026242</td>\n",
       "      <td>4.049979</td>\n",
       "      <td>11.320599</td>\n",
       "    </tr>\n",
       "    <tr>\n",
       "      <th>1</th>\n",
       "      <td>49149</td>\n",
       "      <td>15.867226</td>\n",
       "      <td>10.019810</td>\n",
       "      <td>0.307692</td>\n",
       "      <td>0.375002</td>\n",
       "      <td>0.348733</td>\n",
       "      <td>46.555822</td>\n",
       "      <td>5.208874</td>\n",
       "      <td>13.690908</td>\n",
       "    </tr>\n",
       "    <tr>\n",
       "      <th>5</th>\n",
       "      <td>46674</td>\n",
       "      <td>20.327343</td>\n",
       "      <td>7.439237</td>\n",
       "      <td>0.274573</td>\n",
       "      <td>0.206336</td>\n",
       "      <td>0.203405</td>\n",
       "      <td>47.660087</td>\n",
       "      <td>8.814942</td>\n",
       "      <td>9.519021</td>\n",
       "    </tr>\n",
       "    <tr>\n",
       "      <th>6</th>\n",
       "      <td>47418</td>\n",
       "      <td>18.393507</td>\n",
       "      <td>5.897150</td>\n",
       "      <td>0.162393</td>\n",
       "      <td>0.253192</td>\n",
       "      <td>0.272359</td>\n",
       "      <td>33.343499</td>\n",
       "      <td>6.340188</td>\n",
       "      <td>7.123780</td>\n",
       "    </tr>\n",
       "    <tr>\n",
       "      <th>8</th>\n",
       "      <td>52524</td>\n",
       "      <td>30.874312</td>\n",
       "      <td>8.171945</td>\n",
       "      <td>0.163004</td>\n",
       "      <td>0.236265</td>\n",
       "      <td>0.246923</td>\n",
       "      <td>61.436500</td>\n",
       "      <td>10.093298</td>\n",
       "      <td>10.912894</td>\n",
       "    </tr>\n",
       "  </tbody>\n",
       "</table>\n",
       "</div>"
      ],
      "text/plain": [
       "  ID.Anon        PDH        PWD       WS1       WS2       WS3        FDH  \\\n",
       "0   11444  19.389591  10.725039  0.300214  0.330240  0.359689  39.026242   \n",
       "1   49149  15.867226  10.019810  0.307692  0.375002  0.348733  46.555822   \n",
       "5   46674  20.327343   7.439237  0.274573  0.206336  0.203405  47.660087   \n",
       "6   47418  18.393507   5.897150  0.162393  0.253192  0.272359  33.343499   \n",
       "8   52524  30.874312   8.171945  0.163004  0.236265  0.246923  61.436500   \n",
       "\n",
       "         FWH        FWD  \n",
       "0   4.049979  11.320599  \n",
       "1   5.208874  13.690908  \n",
       "5   8.814942   9.519021  \n",
       "6   6.340188   7.123780  \n",
       "8  10.093298  10.912894  "
      ]
     },
     "execution_count": 111,
     "metadata": {},
     "output_type": "execute_result"
    }
   ],
   "source": [
    "XA.head()"
   ]
  },
  {
   "cell_type": "code",
   "execution_count": 112,
   "metadata": {
    "ExecuteTime": {
     "end_time": "2020-10-30T12:03:51.224150Z",
     "start_time": "2020-10-30T12:03:51.150628Z"
    }
   },
   "outputs": [
    {
     "data": {
      "text/html": [
       "<div>\n",
       "<style scoped>\n",
       "    .dataframe tbody tr th:only-of-type {\n",
       "        vertical-align: middle;\n",
       "    }\n",
       "\n",
       "    .dataframe tbody tr th {\n",
       "        vertical-align: top;\n",
       "    }\n",
       "\n",
       "    .dataframe thead th {\n",
       "        text-align: right;\n",
       "    }\n",
       "</style>\n",
       "<table border=\"1\" class=\"dataframe\">\n",
       "  <thead>\n",
       "    <tr style=\"text-align: right;\">\n",
       "      <th></th>\n",
       "      <th>PDH</th>\n",
       "      <th>PWD</th>\n",
       "      <th>WS1</th>\n",
       "      <th>WS2</th>\n",
       "      <th>WS3</th>\n",
       "      <th>FDH</th>\n",
       "      <th>FWH</th>\n",
       "      <th>FWD</th>\n",
       "    </tr>\n",
       "  </thead>\n",
       "  <tbody>\n",
       "    <tr>\n",
       "      <th>PDH</th>\n",
       "      <td>1.000000</td>\n",
       "      <td>0.415242</td>\n",
       "      <td>0.341758</td>\n",
       "      <td>0.342633</td>\n",
       "      <td>0.389993</td>\n",
       "      <td>0.728206</td>\n",
       "      <td>0.435995</td>\n",
       "      <td>0.458545</td>\n",
       "    </tr>\n",
       "    <tr>\n",
       "      <th>PWD</th>\n",
       "      <td>0.415242</td>\n",
       "      <td>1.000000</td>\n",
       "      <td>0.546229</td>\n",
       "      <td>0.789383</td>\n",
       "      <td>0.753253</td>\n",
       "      <td>0.296939</td>\n",
       "      <td>0.243747</td>\n",
       "      <td>0.707539</td>\n",
       "    </tr>\n",
       "    <tr>\n",
       "      <th>WS1</th>\n",
       "      <td>0.341758</td>\n",
       "      <td>0.546229</td>\n",
       "      <td>1.000000</td>\n",
       "      <td>0.664196</td>\n",
       "      <td>0.676872</td>\n",
       "      <td>0.235487</td>\n",
       "      <td>0.213080</td>\n",
       "      <td>0.415771</td>\n",
       "    </tr>\n",
       "    <tr>\n",
       "      <th>WS2</th>\n",
       "      <td>0.342633</td>\n",
       "      <td>0.789383</td>\n",
       "      <td>0.664196</td>\n",
       "      <td>1.000000</td>\n",
       "      <td>0.954993</td>\n",
       "      <td>0.090926</td>\n",
       "      <td>0.204619</td>\n",
       "      <td>0.484338</td>\n",
       "    </tr>\n",
       "    <tr>\n",
       "      <th>WS3</th>\n",
       "      <td>0.389993</td>\n",
       "      <td>0.753253</td>\n",
       "      <td>0.676872</td>\n",
       "      <td>0.954993</td>\n",
       "      <td>1.000000</td>\n",
       "      <td>0.077902</td>\n",
       "      <td>0.240863</td>\n",
       "      <td>0.472597</td>\n",
       "    </tr>\n",
       "    <tr>\n",
       "      <th>FDH</th>\n",
       "      <td>0.728206</td>\n",
       "      <td>0.296939</td>\n",
       "      <td>0.235487</td>\n",
       "      <td>0.090926</td>\n",
       "      <td>0.077902</td>\n",
       "      <td>1.000000</td>\n",
       "      <td>0.299778</td>\n",
       "      <td>0.378969</td>\n",
       "    </tr>\n",
       "    <tr>\n",
       "      <th>FWH</th>\n",
       "      <td>0.435995</td>\n",
       "      <td>0.243747</td>\n",
       "      <td>0.213080</td>\n",
       "      <td>0.204619</td>\n",
       "      <td>0.240863</td>\n",
       "      <td>0.299778</td>\n",
       "      <td>1.000000</td>\n",
       "      <td>0.198840</td>\n",
       "    </tr>\n",
       "    <tr>\n",
       "      <th>FWD</th>\n",
       "      <td>0.458545</td>\n",
       "      <td>0.707539</td>\n",
       "      <td>0.415771</td>\n",
       "      <td>0.484338</td>\n",
       "      <td>0.472597</td>\n",
       "      <td>0.378969</td>\n",
       "      <td>0.198840</td>\n",
       "      <td>1.000000</td>\n",
       "    </tr>\n",
       "  </tbody>\n",
       "</table>\n",
       "</div>"
      ],
      "text/plain": [
       "          PDH       PWD       WS1       WS2       WS3       FDH       FWH  \\\n",
       "PDH  1.000000  0.415242  0.341758  0.342633  0.389993  0.728206  0.435995   \n",
       "PWD  0.415242  1.000000  0.546229  0.789383  0.753253  0.296939  0.243747   \n",
       "WS1  0.341758  0.546229  1.000000  0.664196  0.676872  0.235487  0.213080   \n",
       "WS2  0.342633  0.789383  0.664196  1.000000  0.954993  0.090926  0.204619   \n",
       "WS3  0.389993  0.753253  0.676872  0.954993  1.000000  0.077902  0.240863   \n",
       "FDH  0.728206  0.296939  0.235487  0.090926  0.077902  1.000000  0.299778   \n",
       "FWH  0.435995  0.243747  0.213080  0.204619  0.240863  0.299778  1.000000   \n",
       "FWD  0.458545  0.707539  0.415771  0.484338  0.472597  0.378969  0.198840   \n",
       "\n",
       "          FWD  \n",
       "PDH  0.458545  \n",
       "PWD  0.707539  \n",
       "WS1  0.415771  \n",
       "WS2  0.484338  \n",
       "WS3  0.472597  \n",
       "FDH  0.378969  \n",
       "FWH  0.198840  \n",
       "FWD  1.000000  "
      ]
     },
     "execution_count": 112,
     "metadata": {},
     "output_type": "execute_result"
    }
   ],
   "source": [
    "\n",
    "XA.corr()\n",
    "\n"
   ]
  },
  {
   "cell_type": "code",
   "execution_count": 113,
   "metadata": {
    "ExecuteTime": {
     "end_time": "2020-10-30T12:04:18.154531Z",
     "start_time": "2020-10-30T12:04:18.103808Z"
    }
   },
   "outputs": [
    {
     "data": {
      "text/html": [
       "<div>\n",
       "<style scoped>\n",
       "    .dataframe tbody tr th:only-of-type {\n",
       "        vertical-align: middle;\n",
       "    }\n",
       "\n",
       "    .dataframe tbody tr th {\n",
       "        vertical-align: top;\n",
       "    }\n",
       "\n",
       "    .dataframe thead th {\n",
       "        text-align: right;\n",
       "    }\n",
       "</style>\n",
       "<table border=\"1\" class=\"dataframe\">\n",
       "  <thead>\n",
       "    <tr style=\"text-align: right;\">\n",
       "      <th></th>\n",
       "      <th>PDH</th>\n",
       "      <th>PWD</th>\n",
       "      <th>WS2</th>\n",
       "      <th>FDH</th>\n",
       "      <th>FWH</th>\n",
       "      <th>FWD</th>\n",
       "    </tr>\n",
       "  </thead>\n",
       "  <tbody>\n",
       "    <tr>\n",
       "      <th>0</th>\n",
       "      <td>19.389591</td>\n",
       "      <td>10.725039</td>\n",
       "      <td>0.330240</td>\n",
       "      <td>39.026242</td>\n",
       "      <td>4.049979</td>\n",
       "      <td>11.320599</td>\n",
       "    </tr>\n",
       "    <tr>\n",
       "      <th>1</th>\n",
       "      <td>15.867226</td>\n",
       "      <td>10.019810</td>\n",
       "      <td>0.375002</td>\n",
       "      <td>46.555822</td>\n",
       "      <td>5.208874</td>\n",
       "      <td>13.690908</td>\n",
       "    </tr>\n",
       "    <tr>\n",
       "      <th>5</th>\n",
       "      <td>20.327343</td>\n",
       "      <td>7.439237</td>\n",
       "      <td>0.206336</td>\n",
       "      <td>47.660087</td>\n",
       "      <td>8.814942</td>\n",
       "      <td>9.519021</td>\n",
       "    </tr>\n",
       "    <tr>\n",
       "      <th>6</th>\n",
       "      <td>18.393507</td>\n",
       "      <td>5.897150</td>\n",
       "      <td>0.253192</td>\n",
       "      <td>33.343499</td>\n",
       "      <td>6.340188</td>\n",
       "      <td>7.123780</td>\n",
       "    </tr>\n",
       "    <tr>\n",
       "      <th>8</th>\n",
       "      <td>30.874312</td>\n",
       "      <td>8.171945</td>\n",
       "      <td>0.236265</td>\n",
       "      <td>61.436500</td>\n",
       "      <td>10.093298</td>\n",
       "      <td>10.912894</td>\n",
       "    </tr>\n",
       "  </tbody>\n",
       "</table>\n",
       "</div>"
      ],
      "text/plain": [
       "         PDH        PWD       WS2        FDH        FWH        FWD\n",
       "0  19.389591  10.725039  0.330240  39.026242   4.049979  11.320599\n",
       "1  15.867226  10.019810  0.375002  46.555822   5.208874  13.690908\n",
       "5  20.327343   7.439237  0.206336  47.660087   8.814942   9.519021\n",
       "6  18.393507   5.897150  0.253192  33.343499   6.340188   7.123780\n",
       "8  30.874312   8.171945  0.236265  61.436500  10.093298  10.912894"
      ]
     },
     "execution_count": 113,
     "metadata": {},
     "output_type": "execute_result"
    }
   ],
   "source": [
    "\n",
    "#dropping WS1 and WS3 as they have high correlation with WS2/PWD\n",
    "XAf = XA.drop(['ID.Anon', 'WS1', 'WS3'], axis=1)\n",
    "XAf.head()\n",
    "\n"
   ]
  },
  {
   "cell_type": "markdown",
   "metadata": {},
   "source": [
    "\n",
    "<p><strong>Notes</strong>: We don't scale the values as the magnitude is important in our analysis. We want the peaks in regularity to be visible and shown in our clusters.</p>\n"
   ]
  },
  {
   "cell_type": "markdown",
   "metadata": {},
   "source": [
    "\n",
    "<h4 id=\"I.-K-Means\">I. K-Means<a class=\"anchor-link\" href=\"#I.-K-Means\">¶</a></h4>\n"
   ]
  },
  {
   "cell_type": "code",
   "execution_count": 114,
   "metadata": {
    "ExecuteTime": {
     "end_time": "2020-10-30T12:04:34.969436Z",
     "start_time": "2020-10-30T12:04:34.319409Z"
    }
   },
   "outputs": [
    {
     "data": {
      "image/png": "[encoded data removed]",
      "text/plain": [
       "<Figure size 432x288 with 1 Axes>"
      ]
     },
     "metadata": {
      "needs_background": "light"
     },
     "output_type": "display_data"
    }
   ],
   "source": [
    "\n",
    "k_means_elbow(XAf)\n",
    "\n"
   ]
  },
  {
   "cell_type": "markdown",
   "metadata": {},
   "source": [
    "\n",
    "<p>Elbow Plot shows the optimal number of cluters to be 3.</p>\n"
   ]
  },
  {
   "cell_type": "code",
   "execution_count": 115,
   "metadata": {
    "ExecuteTime": {
     "end_time": "2020-10-30T12:04:40.504264Z",
     "start_time": "2020-10-30T12:04:40.404543Z"
    }
   },
   "outputs": [],
   "source": [
    "\n",
    "kmeans_act = KMeans(n_clusters=3, random_state=rand_seed).fit(XAf)\n",
    "\n"
   ]
  },
  {
   "cell_type": "code",
   "execution_count": 116,
   "metadata": {
    "ExecuteTime": {
     "end_time": "2020-10-30T12:04:50.582610Z",
     "start_time": "2020-10-30T12:04:50.520285Z"
    }
   },
   "outputs": [
    {
     "name": "stdout",
     "output_type": "stream",
     "text": [
      "Silhouette Score: 0.35554262804371944\n",
      "Davies Bouldin Score: 0.917525453189274\n"
     ]
    }
   ],
   "source": [
    "\n",
    "cluster_verification(XAf, kmeans_act.labels_)\n",
    "\n"
   ]
  },
  {
   "cell_type": "markdown",
   "metadata": {},
   "source": [
    "\n",
    "<p>Silhouette Score is not perfect (ideally should be &gt; 0.7) but it is a decent score! Same for Davies Bouldin.</p>\n"
   ]
  },
  {
   "cell_type": "markdown",
   "metadata": {},
   "source": [
    "\n",
    "<h4 id=\"II.-Heirarchical-Clustering\">II. Heirarchical Clustering<a class=\"anchor-link\" href=\"#II.-Heirarchical-Clustering\">¶</a></h4>\n"
   ]
  },
  {
   "cell_type": "code",
   "execution_count": 117,
   "metadata": {
    "ExecuteTime": {
     "end_time": "2020-10-30T12:05:13.375848Z",
     "start_time": "2020-10-30T12:05:09.145172Z"
    }
   },
   "outputs": [
    {
     "data": {
      "image/png": "[encoded data removed]",
      "text/plain": [
       "<Figure size 432x288 with 1 Axes>"
      ]
     },
     "metadata": {
      "needs_background": "light"
     },
     "output_type": "display_data"
    }
   ],
   "source": [
    "\n",
    "get_dendograms(XAf)\n",
    "\n"
   ]
  },
  {
   "cell_type": "code",
   "execution_count": 118,
   "metadata": {
    "ExecuteTime": {
     "end_time": "2020-10-30T12:05:20.182156Z",
     "start_time": "2020-10-30T12:05:20.136447Z"
    }
   },
   "outputs": [],
   "source": [
    "\n",
    "ac_act = agglomerative(XAf, 3)\n",
    "\n"
   ]
  },
  {
   "cell_type": "code",
   "execution_count": 119,
   "metadata": {
    "ExecuteTime": {
     "end_time": "2020-10-30T12:05:21.118229Z",
     "start_time": "2020-10-30T12:05:21.070658Z"
    }
   },
   "outputs": [
    {
     "name": "stdout",
     "output_type": "stream",
     "text": [
      "Silhouette Score: 0.32744581422671376\n",
      "Davies Bouldin Score: 0.9780779323310679\n"
     ]
    }
   ],
   "source": [
    "\n",
    "cluster_verification(XAf, ac_act)\n",
    "\n"
   ]
  },
  {
   "cell_type": "markdown",
   "metadata": {},
   "source": [
    "\n",
    "<p>It looks like agglomerative heirarchical clustering performs the same as kmeans. We will use the kmean groups as it performs slightly better on the silhouette score.</p>\n"
   ]
  },
  {
   "cell_type": "markdown",
   "metadata": {},
   "source": [
    "\n",
    "<h3 id=\"Cluster-Clickstream-Behaviour-among-students\">Cluster Clickstream Behaviour among students<a class=\"anchor-link\" href=\"#Cluster-Clickstream-Behaviour-among-students\">¶</a></h3><p>Let us apply the same approach for our clickstream patterns.</p>\n"
   ]
  },
  {
   "cell_type": "code",
   "execution_count": 120,
   "metadata": {
    "ExecuteTime": {
     "end_time": "2020-10-30T12:05:36.603027Z",
     "start_time": "2020-10-30T12:05:36.562511Z"
    }
   },
   "outputs": [],
   "source": [
    "\n",
    "from functools import reduce\n",
    "\n",
    "def clickstream_df(X):\n",
    "    dfs = []\n",
    "    dfs.append(speed_profile(X))\n",
    "    dfs.append(pause_profile(X))\n",
    "    dfs.append(skip_profile(X))\n",
    "    dfs.append(replay_profile(X))\n",
    "    return reduce(lambda left,right: pd.merge(left,right,on='ID.Anon'), dfs)\n",
    "\n"
   ]
  },
  {
   "cell_type": "code",
   "execution_count": 121,
   "metadata": {
    "ExecuteTime": {
     "end_time": "2020-10-30T12:06:34.862588Z",
     "start_time": "2020-10-30T12:05:37.586589Z"
    }
   },
   "outputs": [],
   "source": [
    "\n",
    "XC = clickstream_df(X)\n",
    "\n"
   ]
  },
  {
   "cell_type": "code",
   "execution_count": 122,
   "metadata": {
    "ExecuteTime": {
     "end_time": "2020-10-30T12:06:37.665264Z",
     "start_time": "2020-10-30T12:06:37.481533Z"
    }
   },
   "outputs": [
    {
     "data": {
      "text/html": [
       "<div>\n",
       "<style scoped>\n",
       "    .dataframe tbody tr th:only-of-type {\n",
       "        vertical-align: middle;\n",
       "    }\n",
       "\n",
       "    .dataframe tbody tr th {\n",
       "        vertical-align: top;\n",
       "    }\n",
       "\n",
       "    .dataframe thead th {\n",
       "        text-align: right;\n",
       "    }\n",
       "</style>\n",
       "<table border=\"1\" class=\"dataframe\">\n",
       "  <thead>\n",
       "    <tr style=\"text-align: right;\">\n",
       "      <th></th>\n",
       "      <th>SpeedDownCnt</th>\n",
       "      <th>SpeedUpCnt</th>\n",
       "      <th>AvgSpdChange</th>\n",
       "      <th>PauseCnt</th>\n",
       "      <th>PauseDuration</th>\n",
       "      <th>SkipCnt</th>\n",
       "      <th>SkipDuration</th>\n",
       "      <th>ReplayCnt</th>\n",
       "      <th>ReplayDuration</th>\n",
       "    </tr>\n",
       "  </thead>\n",
       "  <tbody>\n",
       "    <tr>\n",
       "      <th>SpeedDownCnt</th>\n",
       "      <td>1.000000</td>\n",
       "      <td>0.689453</td>\n",
       "      <td>0.432565</td>\n",
       "      <td>0.135298</td>\n",
       "      <td>0.119029</td>\n",
       "      <td>0.024265</td>\n",
       "      <td>0.086941</td>\n",
       "      <td>0.147756</td>\n",
       "      <td>0.167965</td>\n",
       "    </tr>\n",
       "    <tr>\n",
       "      <th>SpeedUpCnt</th>\n",
       "      <td>0.689453</td>\n",
       "      <td>1.000000</td>\n",
       "      <td>0.333983</td>\n",
       "      <td>0.065432</td>\n",
       "      <td>0.072855</td>\n",
       "      <td>0.052860</td>\n",
       "      <td>0.072790</td>\n",
       "      <td>0.106836</td>\n",
       "      <td>0.137013</td>\n",
       "    </tr>\n",
       "    <tr>\n",
       "      <th>AvgSpdChange</th>\n",
       "      <td>0.432565</td>\n",
       "      <td>0.333983</td>\n",
       "      <td>1.000000</td>\n",
       "      <td>-0.098774</td>\n",
       "      <td>-0.123409</td>\n",
       "      <td>0.021194</td>\n",
       "      <td>0.014612</td>\n",
       "      <td>-0.023124</td>\n",
       "      <td>0.029622</td>\n",
       "    </tr>\n",
       "    <tr>\n",
       "      <th>PauseCnt</th>\n",
       "      <td>0.135298</td>\n",
       "      <td>0.065432</td>\n",
       "      <td>-0.098774</td>\n",
       "      <td>1.000000</td>\n",
       "      <td>0.899779</td>\n",
       "      <td>0.011790</td>\n",
       "      <td>0.130481</td>\n",
       "      <td>0.352099</td>\n",
       "      <td>0.214784</td>\n",
       "    </tr>\n",
       "    <tr>\n",
       "      <th>PauseDuration</th>\n",
       "      <td>0.119029</td>\n",
       "      <td>0.072855</td>\n",
       "      <td>-0.123409</td>\n",
       "      <td>0.899779</td>\n",
       "      <td>1.000000</td>\n",
       "      <td>0.080767</td>\n",
       "      <td>0.185922</td>\n",
       "      <td>0.452429</td>\n",
       "      <td>0.265817</td>\n",
       "    </tr>\n",
       "    <tr>\n",
       "      <th>SkipCnt</th>\n",
       "      <td>0.024265</td>\n",
       "      <td>0.052860</td>\n",
       "      <td>0.021194</td>\n",
       "      <td>0.011790</td>\n",
       "      <td>0.080767</td>\n",
       "      <td>1.000000</td>\n",
       "      <td>0.849663</td>\n",
       "      <td>0.506127</td>\n",
       "      <td>0.660039</td>\n",
       "    </tr>\n",
       "    <tr>\n",
       "      <th>SkipDuration</th>\n",
       "      <td>0.086941</td>\n",
       "      <td>0.072790</td>\n",
       "      <td>0.014612</td>\n",
       "      <td>0.130481</td>\n",
       "      <td>0.185922</td>\n",
       "      <td>0.849663</td>\n",
       "      <td>1.000000</td>\n",
       "      <td>0.576122</td>\n",
       "      <td>0.825253</td>\n",
       "    </tr>\n",
       "    <tr>\n",
       "      <th>ReplayCnt</th>\n",
       "      <td>0.147756</td>\n",
       "      <td>0.106836</td>\n",
       "      <td>-0.023124</td>\n",
       "      <td>0.352099</td>\n",
       "      <td>0.452429</td>\n",
       "      <td>0.506127</td>\n",
       "      <td>0.576122</td>\n",
       "      <td>1.000000</td>\n",
       "      <td>0.680480</td>\n",
       "    </tr>\n",
       "    <tr>\n",
       "      <th>ReplayDuration</th>\n",
       "      <td>0.167965</td>\n",
       "      <td>0.137013</td>\n",
       "      <td>0.029622</td>\n",
       "      <td>0.214784</td>\n",
       "      <td>0.265817</td>\n",
       "      <td>0.660039</td>\n",
       "      <td>0.825253</td>\n",
       "      <td>0.680480</td>\n",
       "      <td>1.000000</td>\n",
       "    </tr>\n",
       "  </tbody>\n",
       "</table>\n",
       "</div>"
      ],
      "text/plain": [
       "                SpeedDownCnt  SpeedUpCnt  AvgSpdChange  PauseCnt  \\\n",
       "SpeedDownCnt        1.000000    0.689453      0.432565  0.135298   \n",
       "SpeedUpCnt          0.689453    1.000000      0.333983  0.065432   \n",
       "AvgSpdChange        0.432565    0.333983      1.000000 -0.098774   \n",
       "PauseCnt            0.135298    0.065432     -0.098774  1.000000   \n",
       "PauseDuration       0.119029    0.072855     -0.123409  0.899779   \n",
       "SkipCnt             0.024265    0.052860      0.021194  0.011790   \n",
       "SkipDuration        0.086941    0.072790      0.014612  0.130481   \n",
       "ReplayCnt           0.147756    0.106836     -0.023124  0.352099   \n",
       "ReplayDuration      0.167965    0.137013      0.029622  0.214784   \n",
       "\n",
       "                PauseDuration   SkipCnt  SkipDuration  ReplayCnt  \\\n",
       "SpeedDownCnt         0.119029  0.024265      0.086941   0.147756   \n",
       "SpeedUpCnt           0.072855  0.052860      0.072790   0.106836   \n",
       "AvgSpdChange        -0.123409  0.021194      0.014612  -0.023124   \n",
       "PauseCnt             0.899779  0.011790      0.130481   0.352099   \n",
       "PauseDuration        1.000000  0.080767      0.185922   0.452429   \n",
       "SkipCnt              0.080767  1.000000      0.849663   0.506127   \n",
       "SkipDuration         0.185922  0.849663      1.000000   0.576122   \n",
       "ReplayCnt            0.452429  0.506127      0.576122   1.000000   \n",
       "ReplayDuration       0.265817  0.660039      0.825253   0.680480   \n",
       "\n",
       "                ReplayDuration  \n",
       "SpeedDownCnt          0.167965  \n",
       "SpeedUpCnt            0.137013  \n",
       "AvgSpdChange          0.029622  \n",
       "PauseCnt              0.214784  \n",
       "PauseDuration         0.265817  \n",
       "SkipCnt               0.660039  \n",
       "SkipDuration          0.825253  \n",
       "ReplayCnt             0.680480  \n",
       "ReplayDuration        1.000000  "
      ]
     },
     "execution_count": 122,
     "metadata": {},
     "output_type": "execute_result"
    }
   ],
   "source": [
    "\n",
    "XC.corr()\n",
    "\n"
   ]
  },
  {
   "cell_type": "code",
   "execution_count": 123,
   "metadata": {
    "ExecuteTime": {
     "end_time": "2020-10-30T12:07:57.209137Z",
     "start_time": "2020-10-30T12:07:57.144639Z"
    }
   },
   "outputs": [
    {
     "data": {
      "text/html": [
       "<div>\n",
       "<style scoped>\n",
       "    .dataframe tbody tr th:only-of-type {\n",
       "        vertical-align: middle;\n",
       "    }\n",
       "\n",
       "    .dataframe tbody tr th {\n",
       "        vertical-align: top;\n",
       "    }\n",
       "\n",
       "    .dataframe thead th {\n",
       "        text-align: right;\n",
       "    }\n",
       "</style>\n",
       "<table border=\"1\" class=\"dataframe\">\n",
       "  <thead>\n",
       "    <tr style=\"text-align: right;\">\n",
       "      <th></th>\n",
       "      <th>AvgSpdChange</th>\n",
       "      <th>SkipDuration</th>\n",
       "      <th>ReplayDuration</th>\n",
       "    </tr>\n",
       "  </thead>\n",
       "  <tbody>\n",
       "    <tr>\n",
       "      <th>0</th>\n",
       "      <td>1.761531e-01</td>\n",
       "      <td>7987.905594</td>\n",
       "      <td>6142.15028</td>\n",
       "    </tr>\n",
       "    <tr>\n",
       "      <th>1</th>\n",
       "      <td>1.813012e-03</td>\n",
       "      <td>8442.056507</td>\n",
       "      <td>2521.11980</td>\n",
       "    </tr>\n",
       "    <tr>\n",
       "      <th>2</th>\n",
       "      <td>-6.202831e-08</td>\n",
       "      <td>2280.069400</td>\n",
       "      <td>746.22620</td>\n",
       "    </tr>\n",
       "    <tr>\n",
       "      <th>3</th>\n",
       "      <td>4.150339e-01</td>\n",
       "      <td>4590.725270</td>\n",
       "      <td>3180.07630</td>\n",
       "    </tr>\n",
       "    <tr>\n",
       "      <th>4</th>\n",
       "      <td>2.091010e-01</td>\n",
       "      <td>21411.683333</td>\n",
       "      <td>17385.89872</td>\n",
       "    </tr>\n",
       "  </tbody>\n",
       "</table>\n",
       "</div>"
      ],
      "text/plain": [
       "   AvgSpdChange  SkipDuration  ReplayDuration\n",
       "0  1.761531e-01   7987.905594      6142.15028\n",
       "1  1.813012e-03   8442.056507      2521.11980\n",
       "2 -6.202831e-08   2280.069400       746.22620\n",
       "3  4.150339e-01   4590.725270      3180.07630\n",
       "4  2.091010e-01  21411.683333     17385.89872"
      ]
     },
     "execution_count": 123,
     "metadata": {},
     "output_type": "execute_result"
    }
   ],
   "source": [
    "\n",
    "#choosing one feature from each profile as they are correlated among each other (pausing is dropped completely due to how uncorrelated it is to results)\n",
    "XCf = XC.drop(['ID.Anon', 'SpeedDownCnt', 'SpeedUpCnt', 'PauseCnt', 'SkipCnt', 'ReplayCnt', 'PauseDuration'], axis=1)\n",
    "XCf.head()\n",
    "\n"
   ]
  },
  {
   "cell_type": "code",
   "execution_count": 124,
   "metadata": {
    "ExecuteTime": {
     "end_time": "2020-10-30T12:08:09.819991Z",
     "start_time": "2020-10-30T12:08:09.765089Z"
    }
   },
   "outputs": [],
   "source": [
    "\n",
    "from sklearn import preprocessing\n",
    "\n",
    "# scale the points as duration has a much bigger range than speed change\n",
    "XCfp = preprocessing.scale(XCf)\n",
    "\n"
   ]
  },
  {
   "cell_type": "markdown",
   "metadata": {},
   "source": [
    "\n",
    "<h4 id=\"I.-K-Means\">I. K-Means<a class=\"anchor-link\" href=\"#I.-K-Means\">¶</a></h4>\n"
   ]
  },
  {
   "cell_type": "code",
   "execution_count": 125,
   "metadata": {
    "ExecuteTime": {
     "end_time": "2020-10-30T12:08:11.971129Z",
     "start_time": "2020-10-30T12:08:11.376322Z"
    }
   },
   "outputs": [
    {
     "data": {
      "image/png": "[encoded data removed]",
      "text/plain": [
       "<Figure size 432x288 with 1 Axes>"
      ]
     },
     "metadata": {
      "needs_background": "light"
     },
     "output_type": "display_data"
    }
   ],
   "source": [
    "\n",
    "k_means_elbow(XCfp)\n",
    "\n"
   ]
  },
  {
   "cell_type": "code",
   "execution_count": 126,
   "metadata": {
    "ExecuteTime": {
     "end_time": "2020-10-30T12:08:39.274385Z",
     "start_time": "2020-10-30T12:08:39.187514Z"
    }
   },
   "outputs": [],
   "source": [
    "\n",
    "kmeans_c = KMeans(n_clusters=3, random_state=rand_seed).fit(XCfp)\n",
    "\n"
   ]
  },
  {
   "cell_type": "code",
   "execution_count": 127,
   "metadata": {
    "ExecuteTime": {
     "end_time": "2020-10-30T12:08:40.473640Z",
     "start_time": "2020-10-30T12:08:40.425068Z"
    }
   },
   "outputs": [
    {
     "name": "stdout",
     "output_type": "stream",
     "text": [
      "Silhouette Score: 0.3655916160429868\n",
      "Davies Bouldin Score: 0.9510821640147826\n"
     ]
    }
   ],
   "source": [
    "\n",
    "cluster_verification(XCfp, kmeans_c.labels_)\n",
    "\n"
   ]
  },
  {
   "cell_type": "markdown",
   "metadata": {},
   "source": [
    "\n",
    "<h4 id=\"II.-Heirarchical-Clustering\">II. Heirarchical Clustering<a class=\"anchor-link\" href=\"#II.-Heirarchical-Clustering\">¶</a></h4>\n"
   ]
  },
  {
   "cell_type": "code",
   "execution_count": 128,
   "metadata": {
    "ExecuteTime": {
     "end_time": "2020-10-30T12:08:53.194902Z",
     "start_time": "2020-10-30T12:08:44.442255Z"
    }
   },
   "outputs": [
    {
     "data": {
      "image/png": "[encoded data removed]",
      "text/plain": [
       "<Figure size 432x288 with 1 Axes>"
      ]
     },
     "metadata": {
      "needs_background": "light"
     },
     "output_type": "display_data"
    }
   ],
   "source": [
    "\n",
    "get_dendograms(XCf)\n",
    "\n"
   ]
  },
  {
   "cell_type": "code",
   "execution_count": 129,
   "metadata": {
    "ExecuteTime": {
     "end_time": "2020-10-30T12:09:19.426760Z",
     "start_time": "2020-10-30T12:09:19.372326Z"
    }
   },
   "outputs": [],
   "source": [
    "\n",
    "ac_c = agglomerative(XCfp, 3)\n",
    "\n"
   ]
  },
  {
   "cell_type": "code",
   "execution_count": 130,
   "metadata": {
    "ExecuteTime": {
     "end_time": "2020-10-30T12:09:19.937784Z",
     "start_time": "2020-10-30T12:09:19.867549Z"
    }
   },
   "outputs": [
    {
     "name": "stdout",
     "output_type": "stream",
     "text": [
      "Silhouette Score: 0.28701134245647225\n",
      "Davies Bouldin Score: 0.9639227426393019\n"
     ]
    }
   ],
   "source": [
    "\n",
    "cluster_verification(XCfp, ac_c)\n",
    "\n"
   ]
  },
  {
   "cell_type": "markdown",
   "metadata": {},
   "source": [
    "\n",
    "<p>This time round the agglomerative hierarchical clustering does better than the kmeans (even though score is not fantastic). We will try to extrapolate from this!</p>\n"
   ]
  },
  {
   "cell_type": "markdown",
   "metadata": {},
   "source": [
    "\n",
    "<h3 id=\"Discussion-from-Clusters\">Discussion from Clusters<a class=\"anchor-link\" href=\"#Discussion-from-Clusters\">¶</a></h3><p>Let us now look at the distribution of our features within the clusters and draw on trends using them!</p>\n"
   ]
  },
  {
   "cell_type": "code",
   "execution_count": 131,
   "metadata": {
    "ExecuteTime": {
     "end_time": "2020-10-30T12:09:55.477182Z",
     "start_time": "2020-10-30T12:09:55.428931Z"
    }
   },
   "outputs": [],
   "source": [
    "\n",
    "def combined_data(X, labels, df):\n",
    "    X[\"Cluster\"] = labels\n",
    "    return pd.merge(left=X, right=df[['ID.Anon', 'Final.Grade', 'Nor.Score']], on=\"ID.Anon\", how=\"left\").drop_duplicates()\n",
    "\n"
   ]
  },
  {
   "cell_type": "code",
   "execution_count": 132,
   "metadata": {
    "ExecuteTime": {
     "end_time": "2020-10-30T12:09:57.498302Z",
     "start_time": "2020-10-30T12:09:56.071955Z"
    }
   },
   "outputs": [],
   "source": [
    "#Regularity features\n",
    "act_res = combined_data(XA, kmeans_act.labels_, df)\n",
    "#Clickstream features\n",
    "c_res = combined_data(XC, ac_c, df)\n",
    "\n"
   ]
  },
  {
   "cell_type": "code",
   "execution_count": 145,
   "metadata": {
    "ExecuteTime": {
     "end_time": "2020-10-30T12:48:02.791348Z",
     "start_time": "2020-10-30T12:48:02.596219Z"
    },
    "scrolled": true
   },
   "outputs": [
    {
     "data": {
      "text/html": [
       "<div>\n",
       "<style scoped>\n",
       "    .dataframe tbody tr th:only-of-type {\n",
       "        vertical-align: middle;\n",
       "    }\n",
       "\n",
       "    .dataframe tbody tr th {\n",
       "        vertical-align: top;\n",
       "    }\n",
       "\n",
       "    .dataframe thead th {\n",
       "        text-align: right;\n",
       "    }\n",
       "</style>\n",
       "<table border=\"1\" class=\"dataframe\">\n",
       "  <thead>\n",
       "    <tr style=\"text-align: right;\">\n",
       "      <th></th>\n",
       "      <th>ID.Anon</th>\n",
       "      <th>PDH</th>\n",
       "      <th>PWD</th>\n",
       "      <th>WS1</th>\n",
       "      <th>WS2</th>\n",
       "      <th>WS3</th>\n",
       "      <th>FDH</th>\n",
       "      <th>FWH</th>\n",
       "      <th>FWD</th>\n",
       "      <th>Cluster</th>\n",
       "      <th>Final.Grade</th>\n",
       "      <th>Nor.Score</th>\n",
       "    </tr>\n",
       "  </thead>\n",
       "  <tbody>\n",
       "    <tr>\n",
       "      <th>0</th>\n",
       "      <td>11444</td>\n",
       "      <td>19.389591</td>\n",
       "      <td>10.725039</td>\n",
       "      <td>0.300214</td>\n",
       "      <td>0.330240</td>\n",
       "      <td>0.359689</td>\n",
       "      <td>39.026242</td>\n",
       "      <td>4.049979</td>\n",
       "      <td>11.320599</td>\n",
       "      <td>2</td>\n",
       "      <td>5.00</td>\n",
       "      <td>1.162165</td>\n",
       "    </tr>\n",
       "    <tr>\n",
       "      <th>2170</th>\n",
       "      <td>49149</td>\n",
       "      <td>15.867226</td>\n",
       "      <td>10.019810</td>\n",
       "      <td>0.307692</td>\n",
       "      <td>0.375002</td>\n",
       "      <td>0.348733</td>\n",
       "      <td>46.555822</td>\n",
       "      <td>5.208874</td>\n",
       "      <td>13.690908</td>\n",
       "      <td>2</td>\n",
       "      <td>4.75</td>\n",
       "      <td>0.946640</td>\n",
       "    </tr>\n",
       "    <tr>\n",
       "      <th>3766</th>\n",
       "      <td>46674</td>\n",
       "      <td>20.327343</td>\n",
       "      <td>7.439237</td>\n",
       "      <td>0.274573</td>\n",
       "      <td>0.206336</td>\n",
       "      <td>0.203405</td>\n",
       "      <td>47.660087</td>\n",
       "      <td>8.814942</td>\n",
       "      <td>9.519021</td>\n",
       "      <td>1</td>\n",
       "      <td>4.00</td>\n",
       "      <td>0.300066</td>\n",
       "    </tr>\n",
       "    <tr>\n",
       "      <th>6818</th>\n",
       "      <td>47418</td>\n",
       "      <td>18.393507</td>\n",
       "      <td>5.897150</td>\n",
       "      <td>0.162393</td>\n",
       "      <td>0.253192</td>\n",
       "      <td>0.272359</td>\n",
       "      <td>33.343499</td>\n",
       "      <td>6.340188</td>\n",
       "      <td>7.123780</td>\n",
       "      <td>2</td>\n",
       "      <td>1.25</td>\n",
       "      <td>-2.070706</td>\n",
       "    </tr>\n",
       "    <tr>\n",
       "      <th>7404</th>\n",
       "      <td>52524</td>\n",
       "      <td>30.874312</td>\n",
       "      <td>8.171945</td>\n",
       "      <td>0.163004</td>\n",
       "      <td>0.236265</td>\n",
       "      <td>0.246923</td>\n",
       "      <td>61.436500</td>\n",
       "      <td>10.093298</td>\n",
       "      <td>10.912894</td>\n",
       "      <td>1</td>\n",
       "      <td>4.50</td>\n",
       "      <td>0.731115</td>\n",
       "    </tr>\n",
       "  </tbody>\n",
       "</table>\n",
       "</div>"
      ],
      "text/plain": [
       "     ID.Anon        PDH        PWD       WS1       WS2       WS3        FDH  \\\n",
       "0      11444  19.389591  10.725039  0.300214  0.330240  0.359689  39.026242   \n",
       "2170   49149  15.867226  10.019810  0.307692  0.375002  0.348733  46.555822   \n",
       "3766   46674  20.327343   7.439237  0.274573  0.206336  0.203405  47.660087   \n",
       "6818   47418  18.393507   5.897150  0.162393  0.253192  0.272359  33.343499   \n",
       "7404   52524  30.874312   8.171945  0.163004  0.236265  0.246923  61.436500   \n",
       "\n",
       "            FWH        FWD  Cluster  Final.Grade  Nor.Score  \n",
       "0      4.049979  11.320599        2         5.00   1.162165  \n",
       "2170   5.208874  13.690908        2         4.75   0.946640  \n",
       "3766   8.814942   9.519021        1         4.00   0.300066  \n",
       "6818   6.340188   7.123780        2         1.25  -2.070706  \n",
       "7404  10.093298  10.912894        1         4.50   0.731115  "
      ]
     },
     "execution_count": 145,
     "metadata": {},
     "output_type": "execute_result"
    }
   ],
   "source": [
    "act_res.head()"
   ]
  },
  {
   "cell_type": "code",
   "execution_count": 146,
   "metadata": {
    "ExecuteTime": {
     "end_time": "2020-10-30T12:48:15.718156Z",
     "start_time": "2020-10-30T12:48:15.661577Z"
    }
   },
   "outputs": [
    {
     "data": {
      "text/html": [
       "<div>\n",
       "<style scoped>\n",
       "    .dataframe tbody tr th:only-of-type {\n",
       "        vertical-align: middle;\n",
       "    }\n",
       "\n",
       "    .dataframe tbody tr th {\n",
       "        vertical-align: top;\n",
       "    }\n",
       "\n",
       "    .dataframe thead th {\n",
       "        text-align: right;\n",
       "    }\n",
       "</style>\n",
       "<table border=\"1\" class=\"dataframe\">\n",
       "  <thead>\n",
       "    <tr style=\"text-align: right;\">\n",
       "      <th></th>\n",
       "      <th>ID.Anon</th>\n",
       "      <th>SpeedDownCnt</th>\n",
       "      <th>SpeedUpCnt</th>\n",
       "      <th>AvgSpdChange</th>\n",
       "      <th>PauseCnt</th>\n",
       "      <th>PauseDuration</th>\n",
       "      <th>SkipCnt</th>\n",
       "      <th>Skip</th>\n",
       "      <th>ReplayCnt</th>\n",
       "      <th>Replay</th>\n",
       "      <th>Cluster</th>\n",
       "      <th>Final.Grade</th>\n",
       "      <th>Nor.Score</th>\n",
       "    </tr>\n",
       "  </thead>\n",
       "  <tbody>\n",
       "    <tr>\n",
       "      <th>0</th>\n",
       "      <td>11444</td>\n",
       "      <td>2</td>\n",
       "      <td>2</td>\n",
       "      <td>1.761531e-01</td>\n",
       "      <td>552</td>\n",
       "      <td>31242</td>\n",
       "      <td>140</td>\n",
       "      <td>7987.905594</td>\n",
       "      <td>104</td>\n",
       "      <td>6142.15028</td>\n",
       "      <td>2</td>\n",
       "      <td>5.00</td>\n",
       "      <td>1.162165</td>\n",
       "    </tr>\n",
       "    <tr>\n",
       "      <th>2170</th>\n",
       "      <td>49149</td>\n",
       "      <td>3</td>\n",
       "      <td>5</td>\n",
       "      <td>1.813012e-03</td>\n",
       "      <td>375</td>\n",
       "      <td>26147</td>\n",
       "      <td>81</td>\n",
       "      <td>8442.056507</td>\n",
       "      <td>43</td>\n",
       "      <td>2521.11980</td>\n",
       "      <td>2</td>\n",
       "      <td>4.75</td>\n",
       "      <td>0.946640</td>\n",
       "    </tr>\n",
       "    <tr>\n",
       "      <th>3766</th>\n",
       "      <td>96064</td>\n",
       "      <td>1</td>\n",
       "      <td>0</td>\n",
       "      <td>-6.202831e-08</td>\n",
       "      <td>1004</td>\n",
       "      <td>35988</td>\n",
       "      <td>12</td>\n",
       "      <td>2280.069400</td>\n",
       "      <td>55</td>\n",
       "      <td>746.22620</td>\n",
       "      <td>2</td>\n",
       "      <td>4.00</td>\n",
       "      <td>0.300066</td>\n",
       "    </tr>\n",
       "    <tr>\n",
       "      <th>6469</th>\n",
       "      <td>60108</td>\n",
       "      <td>81</td>\n",
       "      <td>39</td>\n",
       "      <td>4.150339e-01</td>\n",
       "      <td>595</td>\n",
       "      <td>39417</td>\n",
       "      <td>21</td>\n",
       "      <td>4590.725270</td>\n",
       "      <td>45</td>\n",
       "      <td>3180.07630</td>\n",
       "      <td>0</td>\n",
       "      <td>4.00</td>\n",
       "      <td>0.300066</td>\n",
       "    </tr>\n",
       "    <tr>\n",
       "      <th>9008</th>\n",
       "      <td>92002</td>\n",
       "      <td>3</td>\n",
       "      <td>3</td>\n",
       "      <td>2.091010e-01</td>\n",
       "      <td>759</td>\n",
       "      <td>49274</td>\n",
       "      <td>413</td>\n",
       "      <td>21411.683333</td>\n",
       "      <td>279</td>\n",
       "      <td>17385.89872</td>\n",
       "      <td>1</td>\n",
       "      <td>5.75</td>\n",
       "      <td>1.808739</td>\n",
       "    </tr>\n",
       "  </tbody>\n",
       "</table>\n",
       "</div>"
      ],
      "text/plain": [
       "     ID.Anon  SpeedDownCnt  SpeedUpCnt  AvgSpdChange  PauseCnt  PauseDuration  \\\n",
       "0      11444             2           2  1.761531e-01       552          31242   \n",
       "2170   49149             3           5  1.813012e-03       375          26147   \n",
       "3766   96064             1           0 -6.202831e-08      1004          35988   \n",
       "6469   60108            81          39  4.150339e-01       595          39417   \n",
       "9008   92002             3           3  2.091010e-01       759          49274   \n",
       "\n",
       "      SkipCnt          Skip  ReplayCnt       Replay  Cluster  Final.Grade  \\\n",
       "0         140   7987.905594        104   6142.15028        2         5.00   \n",
       "2170       81   8442.056507         43   2521.11980        2         4.75   \n",
       "3766       12   2280.069400         55    746.22620        2         4.00   \n",
       "6469       21   4590.725270         45   3180.07630        0         4.00   \n",
       "9008      413  21411.683333        279  17385.89872        1         5.75   \n",
       "\n",
       "      Nor.Score  \n",
       "0      1.162165  \n",
       "2170   0.946640  \n",
       "3766   0.300066  \n",
       "6469   0.300066  \n",
       "9008   1.808739  "
      ]
     },
     "execution_count": 146,
     "metadata": {},
     "output_type": "execute_result"
    }
   ],
   "source": [
    "c_res.head()"
   ]
  },
  {
   "cell_type": "code",
   "execution_count": 133,
   "metadata": {
    "ExecuteTime": {
     "end_time": "2020-10-30T12:10:13.283323Z",
     "start_time": "2020-10-30T12:10:13.239323Z"
    }
   },
   "outputs": [],
   "source": [
    "\n",
    "c_res.rename(columns={\"SkipDuration\": \"Skip\", \"ReplayDuration\": \"Replay\"}, inplace=True)\n",
    "\n"
   ]
  },
  {
   "cell_type": "code",
   "execution_count": 134,
   "metadata": {
    "ExecuteTime": {
     "end_time": "2020-10-30T12:10:15.753725Z",
     "start_time": "2020-10-30T12:10:15.702563Z"
    }
   },
   "outputs": [
    {
     "data": {
      "text/html": [
       "<div>\n",
       "<style scoped>\n",
       "    .dataframe tbody tr th:only-of-type {\n",
       "        vertical-align: middle;\n",
       "    }\n",
       "\n",
       "    .dataframe tbody tr th {\n",
       "        vertical-align: top;\n",
       "    }\n",
       "\n",
       "    .dataframe thead th {\n",
       "        text-align: right;\n",
       "    }\n",
       "</style>\n",
       "<table border=\"1\" class=\"dataframe\">\n",
       "  <thead>\n",
       "    <tr style=\"text-align: right;\">\n",
       "      <th></th>\n",
       "      <th>ID.Anon</th>\n",
       "    </tr>\n",
       "    <tr>\n",
       "      <th>Cluster</th>\n",
       "      <th></th>\n",
       "    </tr>\n",
       "  </thead>\n",
       "  <tbody>\n",
       "    <tr>\n",
       "      <th>0</th>\n",
       "      <td>49</td>\n",
       "    </tr>\n",
       "    <tr>\n",
       "      <th>1</th>\n",
       "      <td>31</td>\n",
       "    </tr>\n",
       "    <tr>\n",
       "      <th>2</th>\n",
       "      <td>69</td>\n",
       "    </tr>\n",
       "  </tbody>\n",
       "</table>\n",
       "</div>"
      ],
      "text/plain": [
       "         ID.Anon\n",
       "Cluster         \n",
       "0             49\n",
       "1             31\n",
       "2             69"
      ]
     },
     "execution_count": 134,
     "metadata": {},
     "output_type": "execute_result"
    }
   ],
   "source": [
    "\n",
    "act_res[['Cluster', 'ID.Anon']].groupby('Cluster').count()\n",
    "\n"
   ]
  },
  {
   "cell_type": "code",
   "execution_count": 135,
   "metadata": {
    "ExecuteTime": {
     "end_time": "2020-10-30T12:10:28.500361Z",
     "start_time": "2020-10-30T12:10:28.439835Z"
    }
   },
   "outputs": [
    {
     "data": {
      "text/html": [
       "<div>\n",
       "<style scoped>\n",
       "    .dataframe tbody tr th:only-of-type {\n",
       "        vertical-align: middle;\n",
       "    }\n",
       "\n",
       "    .dataframe tbody tr th {\n",
       "        vertical-align: top;\n",
       "    }\n",
       "\n",
       "    .dataframe thead th {\n",
       "        text-align: right;\n",
       "    }\n",
       "</style>\n",
       "<table border=\"1\" class=\"dataframe\">\n",
       "  <thead>\n",
       "    <tr style=\"text-align: right;\">\n",
       "      <th></th>\n",
       "      <th>ID.Anon</th>\n",
       "    </tr>\n",
       "    <tr>\n",
       "      <th>Cluster</th>\n",
       "      <th></th>\n",
       "    </tr>\n",
       "  </thead>\n",
       "  <tbody>\n",
       "    <tr>\n",
       "      <th>0</th>\n",
       "      <td>171</td>\n",
       "    </tr>\n",
       "    <tr>\n",
       "      <th>1</th>\n",
       "      <td>29</td>\n",
       "    </tr>\n",
       "    <tr>\n",
       "      <th>2</th>\n",
       "      <td>82</td>\n",
       "    </tr>\n",
       "  </tbody>\n",
       "</table>\n",
       "</div>"
      ],
      "text/plain": [
       "         ID.Anon\n",
       "Cluster         \n",
       "0            171\n",
       "1             29\n",
       "2             82"
      ]
     },
     "execution_count": 135,
     "metadata": {},
     "output_type": "execute_result"
    }
   ],
   "source": [
    "\n",
    "c_res[['Cluster', 'ID.Anon']].groupby('Cluster').count()\n",
    "\n"
   ]
  },
  {
   "cell_type": "markdown",
   "metadata": {},
   "source": [
    "\n",
    "<p>For regularily, there are 3 good clusters being formed with a nice proportion of students. \n",
    "For clickstream, it seems most fall into 1 clusters with a small groups in other 2 cluster.</p>\n"
   ]
  },
  {
   "cell_type": "markdown",
   "metadata": {},
   "source": [
    "\n",
    "<p>Let's have a close look at individual features among the clusters:</p>\n"
   ]
  },
  {
   "cell_type": "markdown",
   "metadata": {},
   "source": [
    "\n",
    "<h3 id=\"How-did-the-students-score-in-each-cluster-(both-for-activity/clickstream)-?\">How did the students score in each cluster (both for activity/clickstream) ?<a class=\"anchor-link\" href=\"#How-did-the-students-score-in-each-cluster-(both-for-activity/clickstream)-?\">¶</a></h3>\n"
   ]
  },
  {
   "cell_type": "code",
   "execution_count": 136,
   "metadata": {
    "ExecuteTime": {
     "end_time": "2020-10-30T12:11:21.822018Z",
     "start_time": "2020-10-30T12:11:21.382132Z"
    }
   },
   "outputs": [
    {
     "name": "stderr",
     "output_type": "stream",
     "text": [
      "/Applications/anaconda3/lib/python3.7/site-packages/statsmodels/tools/_testing.py:19: FutureWarning: pandas.util.testing is deprecated. Use the functions in the public API at pandas.testing instead.\n",
      "  import pandas.util.testing as tm\n"
     ]
    }
   ],
   "source": [
    "\n",
    "import seaborn as sns\n",
    "\n",
    "def boxplot(bd, n, title):\n",
    "    f, axes = plt.subplots(1, n, sharex=True, sharey=True)\n",
    "    f.suptitle(title)\n",
    "    for i in range(n):\n",
    "        g0 = pd.melt(bd[bd['Cluster'] == i].drop(['Cluster'], axis=1))\n",
    "        sns.boxplot(x=\"variable\", y=\"value\", data=g0, ax=axes[i])\n",
    "        sns.stripplot(x=\"variable\", y=\"value\", data=g0, jitter=True, marker='o', alpha=0.5, color='black', ax=axes[i])\n",
    "\n"
   ]
  },
  {
   "cell_type": "markdown",
   "metadata": {},
   "source": [
    "\n",
    "<p>For regularily, people in cluster 2 performed much better than the other clusters. Cluster 0 has some who did well and some who did really badly (quite spread out). Cluster 1 most people did pretty badly (fail or just barely pass)</p>\n"
   ]
  },
  {
   "cell_type": "code",
   "execution_count": 137,
   "metadata": {
    "ExecuteTime": {
     "end_time": "2020-10-30T12:11:26.107126Z",
     "start_time": "2020-10-30T12:11:25.701815Z"
    }
   },
   "outputs": [
    {
     "data": {
      "image/png": "[encoded data removed]",
      "text/plain": [
       "<Figure size 432x288 with 3 Axes>"
      ]
     },
     "metadata": {
      "needs_background": "light"
     },
     "output_type": "display_data"
    }
   ],
   "source": [
    "\n",
    "boxplot(act_res[['Nor.Score', 'Cluster']], 3, \"Regularity: Normalized Score for cluster 0, 1, 2 (left to right)\")\n",
    "\n"
   ]
  },
  {
   "cell_type": "markdown",
   "metadata": {},
   "source": [
    "\n",
    "<p>For clickstream, there is a good trend in the results, people from Cluster 2 clearly have done well while people from cluster 1 did badly. Cluster 0 has a pretty even spread with most people doing above average.</p>\n"
   ]
  },
  {
   "cell_type": "code",
   "execution_count": 138,
   "metadata": {
    "ExecuteTime": {
     "end_time": "2020-10-30T12:14:58.586928Z",
     "start_time": "2020-10-30T12:14:58.047759Z"
    }
   },
   "outputs": [
    {
     "data": {
      "image/png": "[encoded data removed]",
      "text/plain": [
       "<Figure size 432x288 with 3 Axes>"
      ]
     },
     "metadata": {
      "needs_background": "light"
     },
     "output_type": "display_data"
    }
   ],
   "source": [
    "\n",
    "boxplot(c_res[['Nor.Score', 'Cluster']], 3, \"Clickstream: Normalized Score for cluster 0, 1, 2 (left to right)\")\n",
    "\n"
   ]
  },
  {
   "cell_type": "markdown",
   "metadata": {},
   "source": [
    "\n",
    "<h3 id=\"Detailed-analysis-of-our-regularity-features-in-the-clusters\">Detailed analysis of our regularity features in the clusters<a class=\"anchor-link\" href=\"#Detailed-analysis-of-our-regularity-features-in-the-clusters\">¶</a></h3>\n"
   ]
  },
  {
   "cell_type": "code",
   "execution_count": 139,
   "metadata": {
    "ExecuteTime": {
     "end_time": "2020-10-30T12:15:13.550093Z",
     "start_time": "2020-10-30T12:15:13.087921Z"
    }
   },
   "outputs": [
    {
     "data": {
      "image/png": "[encoded data removed]",
      "text/plain": [
       "<Figure size 432x288 with 3 Axes>"
      ]
     },
     "metadata": {
      "needs_background": "light"
     },
     "output_type": "display_data"
    }
   ],
   "source": [
    "\n",
    "boxplot(act_res[['PDH', 'PWD', 'Cluster']], 3, \"Regularity: Weekly/Daily Activities for cluster 0, 1, 2 (left to right)\")\n",
    "\n"
   ]
  },
  {
   "cell_type": "code",
   "execution_count": 140,
   "metadata": {
    "ExecuteTime": {
     "end_time": "2020-10-30T12:15:18.202775Z",
     "start_time": "2020-10-30T12:15:17.783632Z"
    }
   },
   "outputs": [
    {
     "data": {
      "image/png": "[encoded data removed]",
      "text/plain": [
       "<Figure size 432x288 with 3 Axes>"
      ]
     },
     "metadata": {
      "needs_background": "light"
     },
     "output_type": "display_data"
    }
   ],
   "source": [
    "\n",
    "boxplot(act_res[['WS2', 'Cluster']], 3, \"Regularity: Weekly Similarities for cluster 0, 1, 2 (left to right)\")\n",
    "\n"
   ]
  },
  {
   "cell_type": "code",
   "execution_count": 141,
   "metadata": {
    "ExecuteTime": {
     "end_time": "2020-10-30T12:15:21.112458Z",
     "start_time": "2020-10-30T12:15:20.639164Z"
    }
   },
   "outputs": [
    {
     "data": {
      "image/png": "[encoded data removed]",
      "text/plain": [
       "<Figure size 432x288 with 3 Axes>"
      ]
     },
     "metadata": {
      "needs_background": "light"
     },
     "output_type": "display_data"
    }
   ],
   "source": [
    "\n",
    "boxplot(act_res[['FWH', 'FWD', 'Cluster']], 3, \"Regularity: Weekly Frequency Patterns for cluster 0, 1, 2 (left to right)\")\n",
    "\n"
   ]
  },
  {
   "cell_type": "code",
   "execution_count": 142,
   "metadata": {
    "ExecuteTime": {
     "end_time": "2020-10-30T12:15:38.206072Z",
     "start_time": "2020-10-30T12:15:37.784685Z"
    }
   },
   "outputs": [
    {
     "data": {
      "image/png": "[encoded data removed]",
      "text/plain": [
       "<Figure size 432x288 with 3 Axes>"
      ]
     },
     "metadata": {
      "needs_background": "light"
     },
     "output_type": "display_data"
    }
   ],
   "source": [
    "\n",
    "boxplot(act_res[['FDH', 'Cluster']], 3, \"Regularity: Daily Frequency Patterns for cluster 0, 1, 2 (left to right)\")\n",
    "\n"
   ]
  },
  {
   "cell_type": "markdown",
   "metadata": {},
   "source": [
    "\n",
    "<h4 id=\"Discussion---Regularity\">Discussion - Regularity<a class=\"anchor-link\" href=\"#Discussion---Regularity\">¶</a></h4><p>Believe it or not, people from cluster 2 did well in their final exams and these people were the least regular. They have no peaks in their daily/weekly activity, have the least weekly similarity and have no repeating frequency of activity over weeks/days. This goes to show that in an introductory course, background/self-study and in-person engagement can hold much more weight than following the syllabus alone. Students definitely managed to get good grades by tuning into the videos at the last minute or irregularly.</p>\n",
    "<p>People in Cluster 1, were undeniable the most regular in the MOOC content. However their resuls fare the worse among the three.</p>\n",
    "<p>Students in Cluster 0 has good regularity (esp for frequency metrics and strong hourly activity over the week). These students fared well in their exams also and have a strong distribution.</p>\n",
    "<p>So, it is not to say that regularity is not important. The majority of the people who are fairly regular (cluster 0) did fairly well in their exam results. It just goes to show that there is more to it than regularity in flipped classroom models.</p>\n"
   ]
  },
  {
   "cell_type": "markdown",
   "metadata": {},
   "source": [
    "\n",
    "<h3 id=\"Detailed-analysis-of-clickstream-activity-in-the-clusters\">Detailed analysis of clickstream activity in the clusters<a class=\"anchor-link\" href=\"#Detailed-analysis-of-clickstream-activity-in-the-clusters\">¶</a></h3>\n"
   ]
  },
  {
   "cell_type": "code",
   "execution_count": 143,
   "metadata": {
    "ExecuteTime": {
     "end_time": "2020-10-30T12:16:05.600203Z",
     "start_time": "2020-10-30T12:16:05.177682Z"
    }
   },
   "outputs": [
    {
     "data": {
      "image/png": "[encoded data removed]",
      "text/plain": [
       "<Figure size 432x288 with 3 Axes>"
      ]
     },
     "metadata": {
      "needs_background": "light"
     },
     "output_type": "display_data"
    }
   ],
   "source": [
    "\n",
    "boxplot(c_res[['AvgSpdChange', 'Cluster']], 3, \"Clickstream: Average Speed Change for cluster 0, 1, 2 (left to right)\")\n",
    "\n"
   ]
  },
  {
   "cell_type": "code",
   "execution_count": 144,
   "metadata": {
    "ExecuteTime": {
     "end_time": "2020-10-30T12:16:06.180928Z",
     "start_time": "2020-10-30T12:16:05.623901Z"
    }
   },
   "outputs": [
    {
     "data": {
      "image/png": "[encoded data removed]",
      "text/plain": [
       "<Figure size 432x288 with 3 Axes>"
      ]
     },
     "metadata": {
      "needs_background": "light"
     },
     "output_type": "display_data"
    }
   ],
   "source": [
    "\n",
    "boxplot(c_res[['Skip', 'Replay', 'Cluster']], 3, \"Clickstream: Skip/Replay duration in seconds for cluster 0, 1, 2 (left to right)\")\n",
    "\n"
   ]
  },
  {
   "cell_type": "markdown",
   "metadata": {},
   "source": [
    "\n",
    "<h4 id=\"Discussion---Clickstream\">Discussion - Clickstream<a class=\"anchor-link\" href=\"#Discussion---Clickstream\">¶</a></h4><p>Even if the people in the students are a little skewed for clickstream, there are some interesting patterns that can be drawn.</p>\n",
    "<p>Cluster 1 had the worse results among the three. It is interesting to note that people from cluster 1 actually skipped or replayed alot more compared to the other two clusters. Skipping can be bad if the student is missing out on important content in a rush to clear the material. Likewise, replaying could be a sign that the student is unsure of the material and needs to hear it again. The fact that they skipped and replayed alot suggests that they were not really engaged with the material of the MOOCs. This could explain the fact that they performed poorly in the end.</p>\n",
    "<p>Both cluster 2 and 0 had fairly strong results with cluster 2 having a slight edge. One notable pattern is that people from cluster 2 tend to watch videos at a higher average speed. The average speed increase is around 1.0 for these people. They may have been familiar with the material already or might find the lecturer too slow at some parts. It is hard to guess the exact reason but we can infer this from how they dont replay too often.</p>\n",
    "<p>Clickstream thus shows us that skipping/replaying at high amounts shows lack of engagement with the material while a small speed change may not be a bad thing!</p>\n"
   ]
  },
  {
   "cell_type": "markdown",
   "metadata": {},
   "source": [
    "\n",
    "<h2 id=\"Conclusion\">Conclusion<a class=\"anchor-link\" href=\"#Conclusion\">¶</a></h2>\n"
   ]
  },
  {
   "cell_type": "markdown",
   "metadata": {},
   "source": [
    "\n",
    "<p>The overarching notion is that MOOCs in a blended learning system are still only a small piece of the puzzle. We can clearly see that other factors are at play from how people who watch videos at completely irregular intervals still come out on top. However, that is not to say this form of analysis is pointless.</p>\n",
    "<p>We can clearly see patterns that could be invaluable to further research down the road.</p>\n",
    "<p>The regularity activity tells us that blended models need to be more tailor made or even personalised to cater to different backgrounds. This is difficult in a traditional classroom setting but using flipped systems it is possible to send out videos twice as fast to students who find the content too easy or give them harder quizes. This way these students can still be regular in the course. One of the pitfalls of MOOC systems is a lack of close monitoring. This is clear from how some of the most regular students still ended up failing the course. There is no way to tell how these students are faring especially if they sit quietly in class and do the MOOCs at their own pace. Some kind of forum assitance or piazza could be done here.</p>\n",
    "<p>The clickstream research shows that some kind of monitoring of event metrics could potentially give insight to student interest levels. If students are found to be replaying/skipping often, this could mean there is a need to either change the material or check in with the student. Perhaps, future research could also look at automatic speed tuning for strong students who increase speed almost always (like our cluster 2).</p>\n"
   ]
  },
  {
   "cell_type": "markdown",
   "metadata": {},
   "source": [
    "## Grade - Feature correlations"
   ]
  },
  {
   "cell_type": "code",
   "execution_count": 175,
   "metadata": {
    "ExecuteTime": {
     "end_time": "2020-10-30T14:49:40.819640Z",
     "start_time": "2020-10-30T14:49:40.776397Z"
    }
   },
   "outputs": [],
   "source": [
    "def compute_corr(df):\n",
    "    reg_corr = df.copy().drop(columns=[\"ID.Anon\", \"Cluster\"])\n",
    "    for i, col in enumerate(reg_corr.columns[:reg_corr.shape[1] - 2]):\n",
    "        nor_corr = np.corrcoef(reg_corr[col], reg_corr[\"Nor.Score\"])[0][1]\n",
    "        print(col,\"{:.4f}\".format(nor_corr))"
   ]
  },
  {
   "cell_type": "code",
   "execution_count": 176,
   "metadata": {
    "ExecuteTime": {
     "end_time": "2020-10-30T14:49:41.175715Z",
     "start_time": "2020-10-30T14:49:41.127365Z"
    }
   },
   "outputs": [
    {
     "name": "stdout",
     "output_type": "stream",
     "text": [
      "PDH 0.0734\n",
      "PWD 0.0999\n",
      "WS1 0.0935\n",
      "WS2 0.0588\n",
      "WS3 0.0540\n",
      "FDH 0.0685\n",
      "FWH 0.0299\n",
      "FWD -0.0020\n"
     ]
    }
   ],
   "source": [
    "compute_corr(act_res)"
   ]
  },
  {
   "cell_type": "code",
   "execution_count": 177,
   "metadata": {
    "ExecuteTime": {
     "end_time": "2020-10-30T14:49:42.082135Z",
     "start_time": "2020-10-30T14:49:42.035106Z"
    },
    "scrolled": true
   },
   "outputs": [
    {
     "name": "stdout",
     "output_type": "stream",
     "text": [
      "SpeedDownCnt 0.0315\n",
      "SpeedUpCnt 0.0470\n",
      "AvgSpdChange 0.0568\n",
      "PauseCnt -0.0330\n",
      "PauseDuration -0.0296\n",
      "SkipCnt -0.0053\n",
      "Skip 0.0183\n",
      "ReplayCnt -0.0199\n",
      "Replay -0.0715\n"
     ]
    }
   ],
   "source": [
    "compute_corr(c_res)"
   ]
  },
  {
   "cell_type": "code",
   "execution_count": 178,
   "metadata": {
    "ExecuteTime": {
     "end_time": "2020-10-30T16:50:55.838260Z",
     "start_time": "2020-10-30T16:50:55.537933Z"
    }
   },
   "outputs": [
    {
     "data": {
      "text/html": [
       "<div>\n",
       "<style scoped>\n",
       "    .dataframe tbody tr th:only-of-type {\n",
       "        vertical-align: middle;\n",
       "    }\n",
       "\n",
       "    .dataframe tbody tr th {\n",
       "        vertical-align: top;\n",
       "    }\n",
       "\n",
       "    .dataframe thead th {\n",
       "        text-align: right;\n",
       "    }\n",
       "</style>\n",
       "<table border=\"1\" class=\"dataframe\">\n",
       "  <thead>\n",
       "    <tr style=\"text-align: right;\">\n",
       "      <th></th>\n",
       "      <th>PDH</th>\n",
       "      <th>PWD</th>\n",
       "      <th>WS1</th>\n",
       "      <th>WS2</th>\n",
       "      <th>WS3</th>\n",
       "      <th>FDH</th>\n",
       "      <th>FWH</th>\n",
       "      <th>FWD</th>\n",
       "      <th>Cluster</th>\n",
       "      <th>Final.Grade</th>\n",
       "      <th>Nor.Score</th>\n",
       "    </tr>\n",
       "  </thead>\n",
       "  <tbody>\n",
       "    <tr>\n",
       "      <th>count</th>\n",
       "      <td>149.000000</td>\n",
       "      <td>149.000000</td>\n",
       "      <td>149.000000</td>\n",
       "      <td>149.000000</td>\n",
       "      <td>149.000000</td>\n",
       "      <td>149.000000</td>\n",
       "      <td>149.000000</td>\n",
       "      <td>149.000000</td>\n",
       "      <td>149.000000</td>\n",
       "      <td>149.000000</td>\n",
       "      <td>149.000000</td>\n",
       "    </tr>\n",
       "    <tr>\n",
       "      <th>mean</th>\n",
       "      <td>17.380307</td>\n",
       "      <td>8.254315</td>\n",
       "      <td>0.254522</td>\n",
       "      <td>0.300245</td>\n",
       "      <td>0.294089</td>\n",
       "      <td>34.559117</td>\n",
       "      <td>5.316612</td>\n",
       "      <td>7.851870</td>\n",
       "      <td>1.134228</td>\n",
       "      <td>3.986577</td>\n",
       "      <td>0.288494</td>\n",
       "    </tr>\n",
       "    <tr>\n",
       "      <th>std</th>\n",
       "      <td>6.923838</td>\n",
       "      <td>3.097663</td>\n",
       "      <td>0.113447</td>\n",
       "      <td>0.100522</td>\n",
       "      <td>0.099893</td>\n",
       "      <td>14.264045</td>\n",
       "      <td>3.095934</td>\n",
       "      <td>3.435483</td>\n",
       "      <td>0.882699</td>\n",
       "      <td>1.135940</td>\n",
       "      <td>0.979292</td>\n",
       "    </tr>\n",
       "    <tr>\n",
       "      <th>min</th>\n",
       "      <td>4.679854</td>\n",
       "      <td>1.841316</td>\n",
       "      <td>0.011905</td>\n",
       "      <td>0.086004</td>\n",
       "      <td>0.069607</td>\n",
       "      <td>6.440166</td>\n",
       "      <td>0.283910</td>\n",
       "      <td>1.181577</td>\n",
       "      <td>0.000000</td>\n",
       "      <td>1.250000</td>\n",
       "      <td>-2.070706</td>\n",
       "    </tr>\n",
       "    <tr>\n",
       "      <th>25%</th>\n",
       "      <td>12.364769</td>\n",
       "      <td>6.312143</td>\n",
       "      <td>0.190171</td>\n",
       "      <td>0.224236</td>\n",
       "      <td>0.222910</td>\n",
       "      <td>24.258934</td>\n",
       "      <td>2.882278</td>\n",
       "      <td>5.570589</td>\n",
       "      <td>0.000000</td>\n",
       "      <td>3.250000</td>\n",
       "      <td>-0.346508</td>\n",
       "    </tr>\n",
       "    <tr>\n",
       "      <th>50%</th>\n",
       "      <td>16.455238</td>\n",
       "      <td>7.960822</td>\n",
       "      <td>0.256410</td>\n",
       "      <td>0.291094</td>\n",
       "      <td>0.286301</td>\n",
       "      <td>33.007166</td>\n",
       "      <td>4.896026</td>\n",
       "      <td>7.551188</td>\n",
       "      <td>1.000000</td>\n",
       "      <td>4.250000</td>\n",
       "      <td>0.515591</td>\n",
       "    </tr>\n",
       "    <tr>\n",
       "      <th>75%</th>\n",
       "      <td>21.440845</td>\n",
       "      <td>10.441166</td>\n",
       "      <td>0.308120</td>\n",
       "      <td>0.353066</td>\n",
       "      <td>0.344651</td>\n",
       "      <td>43.297593</td>\n",
       "      <td>7.289398</td>\n",
       "      <td>10.288674</td>\n",
       "      <td>2.000000</td>\n",
       "      <td>4.750000</td>\n",
       "      <td>0.946640</td>\n",
       "    </tr>\n",
       "    <tr>\n",
       "      <th>max</th>\n",
       "      <td>37.520134</td>\n",
       "      <td>22.412692</td>\n",
       "      <td>0.588889</td>\n",
       "      <td>0.746690</td>\n",
       "      <td>0.720000</td>\n",
       "      <td>80.587942</td>\n",
       "      <td>14.260730</td>\n",
       "      <td>17.379849</td>\n",
       "      <td>2.000000</td>\n",
       "      <td>6.000000</td>\n",
       "      <td>2.024264</td>\n",
       "    </tr>\n",
       "  </tbody>\n",
       "</table>\n",
       "</div>"
      ],
      "text/plain": [
       "              PDH         PWD         WS1         WS2         WS3         FDH  \\\n",
       "count  149.000000  149.000000  149.000000  149.000000  149.000000  149.000000   \n",
       "mean    17.380307    8.254315    0.254522    0.300245    0.294089   34.559117   \n",
       "std      6.923838    3.097663    0.113447    0.100522    0.099893   14.264045   \n",
       "min      4.679854    1.841316    0.011905    0.086004    0.069607    6.440166   \n",
       "25%     12.364769    6.312143    0.190171    0.224236    0.222910   24.258934   \n",
       "50%     16.455238    7.960822    0.256410    0.291094    0.286301   33.007166   \n",
       "75%     21.440845   10.441166    0.308120    0.353066    0.344651   43.297593   \n",
       "max     37.520134   22.412692    0.588889    0.746690    0.720000   80.587942   \n",
       "\n",
       "              FWH         FWD     Cluster  Final.Grade   Nor.Score  \n",
       "count  149.000000  149.000000  149.000000   149.000000  149.000000  \n",
       "mean     5.316612    7.851870    1.134228     3.986577    0.288494  \n",
       "std      3.095934    3.435483    0.882699     1.135940    0.979292  \n",
       "min      0.283910    1.181577    0.000000     1.250000   -2.070706  \n",
       "25%      2.882278    5.570589    0.000000     3.250000   -0.346508  \n",
       "50%      4.896026    7.551188    1.000000     4.250000    0.515591  \n",
       "75%      7.289398   10.288674    2.000000     4.750000    0.946640  \n",
       "max     14.260730   17.379849    2.000000     6.000000    2.024264  "
      ]
     },
     "execution_count": 178,
     "metadata": {},
     "output_type": "execute_result"
    }
   ],
   "source": [
    "act_res.describe()"
   ]
  },
  {
   "cell_type": "code",
   "execution_count": null,
   "metadata": {},
   "outputs": [],
   "source": [
    "reg_corr = act_res.copy().drop(columns=[\"ID.Anon\", \"Cluster\"])\n",
    "for i, col in enumerate(reg_corr.columns):\n",
    "    nor_corr = np.corrcoef(reg_corr[col], reg_corr[\"Nor.Score\"])[0][1]\n",
    "    print(col,\"{:.4f}\".format(nor_corr))"
   ]
  }
 ],
 "metadata": {
  "kernelspec": {
   "display_name": "Python 3",
   "language": "python",
   "name": "python3"
  },
  "language_info": {
   "codemirror_mode": {
    "name": "ipython",
    "version": 3
   },
   "file_extension": ".py",
   "mimetype": "text/x-python",
   "name": "python",
   "nbconvert_exporter": "python",
   "pygments_lexer": "ipython3",
   "version": "3.7.1"
  },
  "toc": {
   "base_numbering": 1,
   "nav_menu": {},
   "number_sections": true,
   "sideBar": true,
   "skip_h1_title": false,
   "title_cell": "Table of Contents",
   "title_sidebar": "Contents",
   "toc_cell": false,
   "toc_position": {},
   "toc_section_display": true,
   "toc_window_display": false
  }
 },
 "nbformat": 4,
 "nbformat_minor": 1
}
