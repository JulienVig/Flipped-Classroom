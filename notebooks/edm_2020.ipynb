{
 "cells": [
  {
   "cell_type": "markdown",
   "metadata": {},
   "source": [
    "# Exploratory study on existing early warning systems"
   ]
  },
  {
   "cell_type": "markdown",
   "metadata": {},
   "source": [
    "## * Setup of the working environment *"
   ]
  },
  {
   "cell_type": "markdown",
   "metadata": {},
   "source": [
    "### Import traditional Python packages"
   ]
  },
  {
   "cell_type": "code",
   "execution_count": null,
   "metadata": {
    "ExecuteTime": {
     "end_time": "2020-11-20T22:24:36.486315Z",
     "start_time": "2020-11-20T22:24:20.515516Z"
    }
   },
   "outputs": [],
   "source": [
    "from sklearn.metrics import accuracy_score, precision_score, recall_score, f1_score\n",
    "from datetime import datetime as dt, timedelta, date\n",
    "\n",
    "from matplotlib.lines import Line2D\n",
    "import matplotlib.pyplot as plt\n",
    "import seaborn as sns\n",
    "from tqdm import tqdm\n",
    "\n",
    "import pandas as pd\n",
    "import numpy as np\n",
    "import time\n",
    "import math\n",
    "import json\n",
    "import sys\n",
    "import os"
   ]
  },
  {
   "cell_type": "code",
   "execution_count": null,
   "metadata": {},
   "outputs": [],
   "source": [
    "import warnings\n",
    "warnings.filterwarnings('ignore')"
   ]
  },
  {
   "cell_type": "markdown",
   "metadata": {},
   "source": [
    "### Import custom Python modules"
   ]
  },
  {
   "cell_type": "code",
   "execution_count": null,
   "metadata": {
    "ExecuteTime": {
     "end_time": "2020-11-20T22:24:36.675278Z",
     "start_time": "2020-11-20T22:24:36.667631Z"
    }
   },
   "outputs": [],
   "source": [
    "sys.path.append(os.path.abspath(os.path.join('..')))"
   ]
  },
  {
   "cell_type": "code",
   "execution_count": null,
   "metadata": {
    "ExecuteTime": {
     "end_time": "2020-11-20T22:24:36.766743Z",
     "start_time": "2020-11-20T22:24:36.680313Z"
    }
   },
   "outputs": [],
   "source": [
    "%load_ext autoreload\n",
    "%autoreload 2"
   ]
  },
  {
   "cell_type": "code",
   "execution_count": null,
   "metadata": {
    "ExecuteTime": {
     "end_time": "2020-11-20T22:24:42.328383Z",
     "start_time": "2020-11-20T22:24:36.771236Z"
    }
   },
   "outputs": [],
   "source": [
    "from helpers.db_connector import MySQLConnector\n",
    "from helpers.db_query import *\n",
    "\n",
    "from helpers.data_process import *\n",
    "from helpers.feature_extraction import *\n",
    "\n",
    "from extractors.akpinar_et_al import AkpinarEtAl\n",
    "from extractors.boroujeni_et_al import BoroujeniEtAl\n",
    "from extractors.chen_cui import ChenCui\n",
    "from extractors.he_et_al import HeEtAl\n",
    "from extractors.lalle_conati import LalleConati\n",
    "from extractors.lemay_doleck import LemayDoleck\n",
    "from extractors.mbouzao_et_al import MbouzaoEtAl\n",
    "from extractors.mubarak_et_al import MubarakEtAl\n",
    "from extractors.wan_et_al import WanEtAl\n",
    "\n",
    "from helpers.ml_utils import *\n",
    "\n",
    "from helpers.time import *"
   ]
  },
  {
   "cell_type": "markdown",
   "metadata": {},
   "source": [
    "## * Load the clickstream data *\n",
    "\n",
    "Since Fall 2017, the stream of the EPFL's Linear Algebra course has been taught in a flipped format. The implementation of the flipped classroom was carried out in an incremental manner, as described below:\n",
    "\n",
    "- **Year 2017-2018**: traditional manner (weeks 1-13) - flipped manner (week 14).\n",
    "- **Year 2018-2019**: traditional manner (weeks 1-4, 10-14) - flipped manner (weeks 5-9).\n",
    "- **Year 2019-2020**: traditional manner (weeks 1-4) - flipped manner (weeks 5-14)."
   ]
  },
  {
   "cell_type": "code",
   "execution_count": null,
   "metadata": {
    "ExecuteTime": {
     "end_time": "2020-11-20T22:24:46.218522Z",
     "start_time": "2020-11-20T22:24:46.129465Z"
    }
   },
   "outputs": [],
   "source": [
    "rounds = ['Y2-2018-19', 'Y3-2019-20']"
   ]
  },
  {
   "cell_type": "markdown",
   "metadata": {},
   "source": [
    "### Identifying Students\n",
    "\n",
    "\n",
    "The flipped course was offered only to volunteering students. The volunteers were collectively assigned into either the experimental and the control group. A stratified random sampling based on gender and the prior background (secondary educational level) of students were used."
   ]
  },
  {
   "cell_type": "code",
   "execution_count": null,
   "metadata": {
    "ExecuteTime": {
     "end_time": "2020-11-20T22:26:03.826891Z",
     "start_time": "2020-11-20T22:24:46.229101Z"
    }
   },
   "outputs": [],
   "source": [
    "%time userData = getUserInfo(prior_knowledge=True)"
   ]
  },
  {
   "cell_type": "markdown",
   "metadata": {},
   "source": [
    "The initial data of volunteers was cleaned, and some participants were removed before we analyzed the data:\n",
    "- The volunteering students who have not been graded were removed. \n",
    "- The repeating students were filtered out, where repeating students are those accessing videos in two different years. \n",
    "- The less active students, i.e., those who have provided less 60 interactions in the platform, were removed. "
   ]
  },
  {
   "cell_type": "markdown",
   "metadata": {},
   "source": [
    "Given that the Y1-2017-2018 round included only one week in a flipped classroom setting, we will remove the students of that round.  "
   ]
  },
  {
   "cell_type": "code",
   "execution_count": null,
   "metadata": {
    "ExecuteTime": {
     "end_time": "2020-11-20T22:26:06.424585Z",
     "start_time": "2020-11-20T22:26:06.371873Z"
    }
   },
   "outputs": [],
   "source": [
    "userData = userData[userData['Round'].isin(rounds)]"
   ]
  },
  {
   "cell_type": "code",
   "execution_count": null,
   "metadata": {},
   "outputs": [],
   "source": [
    "userData.head()"
   ]
  },
  {
   "cell_type": "markdown",
   "metadata": {},
   "source": [
    "Some of the statistics on the user data are provided below. "
   ]
  },
  {
   "cell_type": "code",
   "execution_count": null,
   "metadata": {
    "ExecuteTime": {
     "end_time": "2020-11-20T22:26:06.857994Z",
     "start_time": "2020-11-20T22:26:06.801193Z"
    },
    "scrolled": true
   },
   "outputs": [],
   "source": [
    "\"Number of students:\", len(userData)"
   ]
  },
  {
   "cell_type": "code",
   "execution_count": null,
   "metadata": {
    "ExecuteTime": {
     "end_time": "2020-11-20T22:26:06.368620Z",
     "start_time": "2020-11-20T22:26:03.830848Z"
    }
   },
   "outputs": [],
   "source": [
    "sns.displot(userData, x='Round')\n",
    "plt.ylabel('Number of Students')\n",
    "plt.show()"
   ]
  },
  {
   "cell_type": "code",
   "execution_count": null,
   "metadata": {
    "ExecuteTime": {
     "end_time": "2020-11-20T22:26:06.706025Z",
     "start_time": "2020-11-20T22:26:06.426968Z"
    }
   },
   "outputs": [],
   "source": [
    "sns.displot(userData, x='Gender')\n",
    "plt.ylabel('Number of Students')\n",
    "plt.show()"
   ]
  },
  {
   "cell_type": "code",
   "execution_count": null,
   "metadata": {},
   "outputs": [],
   "source": [
    "sns.displot(userData, x='Category')\n",
    "plt.ylabel('Number of Students')\n",
    "plt.xticks(rotation=45)\n",
    "plt.show()"
   ]
  },
  {
   "cell_type": "markdown",
   "metadata": {},
   "source": [
    "### Getting Students' Records\n",
    "\n",
    "#### Video Clickstream Records"
   ]
  },
  {
   "cell_type": "code",
   "execution_count": null,
   "metadata": {
    "ExecuteTime": {
     "end_time": "2020-11-20T22:28:37.180870Z",
     "start_time": "2020-11-20T22:26:06.860876Z"
    },
    "scrolled": true
   },
   "outputs": [],
   "source": [
    "%time videoData = getVideoEventsInfo(mode='all')"
   ]
  },
  {
   "cell_type": "code",
   "execution_count": null,
   "metadata": {
    "ExecuteTime": {
     "end_time": "2020-11-20T22:28:39.434522Z",
     "start_time": "2020-11-20T22:28:37.184371Z"
    }
   },
   "outputs": [],
   "source": [
    "videoData = videoData[videoData['Round'].isin(rounds)]"
   ]
  },
  {
   "cell_type": "code",
   "execution_count": null,
   "metadata": {},
   "outputs": [],
   "source": [
    "videoData = videoData[videoData['AccountUserID'].isin(userData['AccountUserID'])].rename(columns={'VideoID': 'ElementID'})"
   ]
  },
  {
   "cell_type": "code",
   "execution_count": null,
   "metadata": {
    "ExecuteTime": {
     "end_time": "2020-11-20T22:28:39.562891Z",
     "start_time": "2020-11-20T22:28:39.505581Z"
    }
   },
   "outputs": [],
   "source": [
    "\"Number of video events:\", len(videoData)"
   ]
  },
  {
   "cell_type": "code",
   "execution_count": null,
   "metadata": {},
   "outputs": [],
   "source": [
    "videoData.head()"
   ]
  },
  {
   "cell_type": "markdown",
   "metadata": {},
   "source": [
    "#### Problem Clickstream Records"
   ]
  },
  {
   "cell_type": "code",
   "execution_count": null,
   "metadata": {
    "ExecuteTime": {
     "end_time": "2020-11-20T22:30:22.052434Z",
     "start_time": "2020-11-20T22:28:39.565728Z"
    }
   },
   "outputs": [],
   "source": [
    "%time problemData = getProblemEventsInfo()"
   ]
  },
  {
   "cell_type": "code",
   "execution_count": null,
   "metadata": {
    "ExecuteTime": {
     "end_time": "2020-11-20T22:30:23.854203Z",
     "start_time": "2020-11-20T22:30:22.055613Z"
    }
   },
   "outputs": [],
   "source": [
    "problemData = problemData[problemData['Round'].isin(rounds)].rename(columns={'ProblemID': 'ElementID'})"
   ]
  },
  {
   "cell_type": "code",
   "execution_count": null,
   "metadata": {},
   "outputs": [],
   "source": [
    "problemData = problemData[problemData['AccountUserID'].isin(userData['AccountUserID'])]"
   ]
  },
  {
   "cell_type": "code",
   "execution_count": null,
   "metadata": {
    "ExecuteTime": {
     "end_time": "2020-11-20T22:30:23.989042Z",
     "start_time": "2020-11-20T22:30:23.934426Z"
    }
   },
   "outputs": [],
   "source": [
    "\"Number of problem events:\", len(problemData)"
   ]
  },
  {
   "cell_type": "code",
   "execution_count": null,
   "metadata": {
    "scrolled": true
   },
   "outputs": [],
   "source": [
    "problemData.head()"
   ]
  },
  {
   "cell_type": "markdown",
   "metadata": {},
   "source": [
    "#### Exam Records"
   ]
  },
  {
   "cell_type": "code",
   "execution_count": null,
   "metadata": {
    "ExecuteTime": {
     "end_time": "2020-11-20T22:32:32.026480Z",
     "start_time": "2020-11-20T22:30:24.000607Z"
    }
   },
   "outputs": [],
   "source": [
    "%time examData = getExamInfo()"
   ]
  },
  {
   "cell_type": "code",
   "execution_count": null,
   "metadata": {
    "ExecuteTime": {
     "end_time": "2020-11-20T22:32:33.693844Z",
     "start_time": "2020-11-20T22:32:32.032005Z"
    }
   },
   "outputs": [],
   "source": [
    "examData = examData[examData['Round'].isin(rounds)]"
   ]
  },
  {
   "cell_type": "code",
   "execution_count": null,
   "metadata": {},
   "outputs": [],
   "source": [
    "examData = examData[examData['AccountUserID'].isin(userData['AccountUserID'])]"
   ]
  },
  {
   "cell_type": "code",
   "execution_count": null,
   "metadata": {},
   "outputs": [],
   "source": [
    "\"Number of graded students:\", len(examData)"
   ]
  },
  {
   "cell_type": "code",
   "execution_count": null,
   "metadata": {},
   "outputs": [],
   "source": [
    "examData.head(10)"
   ]
  },
  {
   "cell_type": "markdown",
   "metadata": {},
   "source": [
    "#### Event Records"
   ]
  },
  {
   "cell_type": "code",
   "execution_count": null,
   "metadata": {
    "ExecuteTime": {
     "end_time": "2020-11-20T22:32:34.954381Z",
     "start_time": "2020-11-20T22:32:33.759316Z"
    }
   },
   "outputs": [],
   "source": [
    "d1 = videoData[['AccountUserID', 'ElementID', 'TimeStamp', 'EventType', 'Round']]\n",
    "d2 = problemData[['AccountUserID', 'ElementID', 'TimeStamp', 'EventType', 'Round']]\n",
    "eventData = d1.append(d2)"
   ]
  },
  {
   "cell_type": "markdown",
   "metadata": {},
   "source": [
    "#### Course Week Column"
   ]
  },
  {
   "cell_type": "markdown",
   "metadata": {},
   "source": [
    "We get the configuration file (e.g, start and end date) for each round of the course. "
   ]
  },
  {
   "cell_type": "code",
   "execution_count": null,
   "metadata": {
    "ExecuteTime": {
     "end_time": "2020-11-20T22:32:37.565867Z",
     "start_time": "2020-11-20T22:32:36.662707Z"
    }
   },
   "outputs": [],
   "source": [
    "with open('../config/linear_algebra.json') as f:\n",
    "    config = json.load(f)"
   ]
  },
  {
   "cell_type": "markdown",
   "metadata": {},
   "source": [
    "We assign each video interaction to a specific week of the course, with the first week of the course round having id 0. "
   ]
  },
  {
   "cell_type": "code",
   "execution_count": null,
   "metadata": {
    "ExecuteTime": {
     "start_time": "2020-11-20T22:24:29.785Z"
    }
   },
   "outputs": [],
   "source": [
    "eventData['TimeStamp']=eventData['TimeStamp'].apply(lambda x:string2Datetime(dt.utcfromtimestamp(x).strftime('%Y-%m-%d %H:%M:%S')))"
   ]
  },
  {
   "cell_type": "code",
   "execution_count": null,
   "metadata": {
    "ExecuteTime": {
     "start_time": "2020-11-20T22:24:29.976Z"
    }
   },
   "outputs": [],
   "source": [
    "tmp_events = []\n",
    "for r in rounds:\n",
    "    round_events = eventData[eventData['Round'] == r]\n",
    "    tmp_events.append(processWeek(round_events, 'TimeStamp', config[r.split('-')[-2]]['Start']))\n",
    "eventData = pd.concat(tmp_events).copy()"
   ]
  },
  {
   "cell_type": "code",
   "execution_count": null,
   "metadata": {
    "ExecuteTime": {
     "start_time": "2020-11-20T22:24:30.154Z"
    }
   },
   "outputs": [],
   "source": [
    "eventData['Week'] = eventData['Week'].apply(lambda x: int(x))"
   ]
  },
  {
   "cell_type": "markdown",
   "metadata": {},
   "source": [
    "Then, we filter only the first *noCourseWeeks* course weeks. "
   ]
  },
  {
   "cell_type": "code",
   "execution_count": null,
   "metadata": {
    "ExecuteTime": {
     "start_time": "2020-11-20T22:24:30.492Z"
    }
   },
   "outputs": [],
   "source": [
    "eventData = eventData[eventData['Week'].isin(range(20))]"
   ]
  },
  {
   "cell_type": "code",
   "execution_count": null,
   "metadata": {},
   "outputs": [],
   "source": [
    "eventData['ElementID'] = eventData['ElementID'].astype('category').cat.codes.astype('str')"
   ]
  },
  {
   "cell_type": "code",
   "execution_count": null,
   "metadata": {},
   "outputs": [],
   "source": [
    "eventData['ElementID'] = eventData.apply(lambda x: x['EventType'][0] + x['ElementID'], axis=1)"
   ]
  },
  {
   "cell_type": "code",
   "execution_count": null,
   "metadata": {},
   "outputs": [],
   "source": [
    "eventData['EventType'] = eventData['EventType'].apply(lambda x: x if x != 'Video.Load' else 'Video.Play')"
   ]
  },
  {
   "cell_type": "code",
   "execution_count": null,
   "metadata": {},
   "outputs": [],
   "source": [
    "eventData.head()"
   ]
  },
  {
   "cell_type": "markdown",
   "metadata": {},
   "source": [
    "### Session Explorative Analysis"
   ]
  },
  {
   "cell_type": "code",
   "execution_count": null,
   "metadata": {},
   "outputs": [],
   "source": [
    "def getSeconds(row):\n",
    "    if 'Start' in row and 'End' in row:\n",
    "        return (row['End'] - row['Start'])\n",
    "    return 0.0"
   ]
  },
  {
   "cell_type": "code",
   "execution_count": null,
   "metadata": {},
   "outputs": [],
   "source": [
    "def getInteractions(group):\n",
    "    elements = []\n",
    "    for index, row in group.groupby('SessionID'):\n",
    "        elements.append(np.array([[e1, e2, e3 if i > 0 else 0] for i, (e1, e2, e3) in enumerate(zip(row['ElementID'], row['EventType'], row['Interval']))]))\n",
    "    return np.array(elements)"
   ]
  },
  {
   "cell_type": "code",
   "execution_count": null,
   "metadata": {},
   "outputs": [],
   "source": [
    "def getSessions(df, maxSessionLength=120, minNoActions=3):\n",
    "    sessions = []\n",
    "    for index, group in df.groupby(['AccountUserID']):\n",
    "        group = group[~group['EventType'].str.contains('Transcript')][['ElementID', 'TimeStamp', 'EventType', 'Round', 'Week']].sort_values('TimeStamp')\n",
    "        group['Interval'] = (group['TimeStamp'] - group['TimeStamp'].shift(1))\n",
    "        group['Interval'] = group['Interval'].apply(lambda x: x.total_seconds())\n",
    "        group['Interval'] = group['Interval'].fillna(0)\n",
    "        group['SessionID'] = (group['TimeStamp'] - group['TimeStamp'].shift(1) > pd.Timedelta(maxSessionLength, 'm')).cumsum() + 1\n",
    "        session = group.groupby('SessionID').count()\n",
    "        session['NoEvents'] = session['TimeStamp']\n",
    "        session['Round'] = group.drop_duplicates(subset=['SessionID'], keep='first')['Round'].values\n",
    "        session['Week'] = group.drop_duplicates(subset=['SessionID'], keep='first')['Week'].values\n",
    "        session['Start'] = group.drop_duplicates(subset=['SessionID'], keep='first')['TimeStamp'].values\n",
    "        session['End'] = group.drop_duplicates(subset=['SessionID'], keep='last')['TimeStamp'].values\n",
    "        session['Duration'] = session.apply(lambda row: getSeconds(row), axis=1)\n",
    "        session['AccountUserID'] = index\n",
    "        session['Interactions'] = getInteractions(group)        \n",
    "        session['Elements'] = group.groupby('SessionID')['ElementID'].apply(','.join).values\n",
    "        session['Event'] = group.groupby('SessionID')['EventType'].apply(','.join).values\n",
    "        session['Interval'] = group.groupby('SessionID')['Interval'].apply(lambda x: list(x)[1:]).values\n",
    "        session = session[['AccountUserID', 'Round', 'Week', 'Start', 'End', 'Duration', 'NoEvents', 'Interactions', 'Event', 'Interval', 'Elements']].reset_index()\n",
    "        sessions.append(session)\n",
    "    sessions = pd.concat(sessions, ignore_index=True)\n",
    "    sessions = sessions[sessions['NoEvents'] >= minNoActions]\n",
    "    return sessions"
   ]
  },
  {
   "cell_type": "code",
   "execution_count": null,
   "metadata": {},
   "outputs": [],
   "source": [
    "sessions = getSessions(eventData, maxSessionLength=60, minNoActions=3)"
   ]
  },
  {
   "cell_type": "code",
   "execution_count": null,
   "metadata": {},
   "outputs": [],
   "source": [
    "sessions.head()"
   ]
  },
  {
   "cell_type": "code",
   "execution_count": null,
   "metadata": {},
   "outputs": [],
   "source": [
    "mappingGrade = {e1:(1 if e2 < 4 else 0) for e1, e2 in zip(examData['AccountUserID'], examData['Grade'])}\n",
    "sessions['Grade'] = sessions['AccountUserID'].apply(lambda x: mappingGrade[x])"
   ]
  },
  {
   "cell_type": "code",
   "execution_count": null,
   "metadata": {},
   "outputs": [],
   "source": [
    "mappingKnowledge = {e1:e2 for e1, e2 in zip(userData['AccountUserID'], userData['Category'])}\n",
    "sessions['Knowledge'] = sessions['AccountUserID'].apply(lambda x: mappingKnowledge[x])"
   ]
  },
  {
   "cell_type": "code",
   "execution_count": null,
   "metadata": {},
   "outputs": [],
   "source": [
    "mappingGender = {e1:e2 for e1, e2 in zip(userData['AccountUserID'], userData['Gender'])}\n",
    "sessions['Gender'] = sessions['AccountUserID'].apply(lambda x: mappingGender[x])"
   ]
  },
  {
   "cell_type": "code",
   "execution_count": null,
   "metadata": {},
   "outputs": [],
   "source": [
    "mappingRound = {e1:e2 for e1, e2 in zip(userData['AccountUserID'], userData['Round'])}"
   ]
  },
  {
   "cell_type": "code",
   "execution_count": null,
   "metadata": {},
   "outputs": [],
   "source": [
    "data = []\n",
    "for index, group in sessions.groupby(by='AccountUserID'):\n",
    "    data.append([v[:, 2].astype(float) for i, v in enumerate(group['Interactions'].values)])\n",
    "\n",
    "evt = []\n",
    "for index, group in sessions.groupby(by='AccountUserID'):\n",
    "    evt.append([[a for a in v[:, 1]] for i, v in enumerate(group['Interactions'].values)])\n",
    "\n",
    "els = []\n",
    "for index, group in sessions.groupby(by='AccountUserID'):\n",
    "    els.append([[True] + [v.split(',')[i-1] != v.split(',')[i] for i in range(1, len(v.split(',')))] for i, v in enumerate(group['Elements'].values)])\n",
    "\n",
    "els1 = []\n",
    "for index, group in sessions.groupby(by='AccountUserID'):\n",
    "    els1.append([v.split(',') for i, v in enumerate(group['Elements'].values)])\n",
    "\n",
    "weekers = []\n",
    "for index, group in sessions.groupby(by='AccountUserID'):\n",
    "    weekers.append(group['Week'] - group['Week'].shift(1))\n",
    "    weekers[-1][0] = 0"
   ]
  },
  {
   "cell_type": "code",
   "execution_count": null,
   "metadata": {},
   "outputs": [],
   "source": [
    "fels = []\n",
    "for i, (v, b) in enumerate(zip(els1, els)):\n",
    "    fels.append([[(v2 if b2 else '') for v2, b2 in zip(v1, b1)] for v1, b1 in zip(v, b)])"
   ]
  },
  {
   "cell_type": "code",
   "execution_count": null,
   "metadata": {},
   "outputs": [],
   "source": [
    "eventsSoFar = list(np.sort(np.unique(eventData['EventType'])))[:11]"
   ]
  },
  {
   "cell_type": "code",
   "execution_count": null,
   "metadata": {},
   "outputs": [],
   "source": [
    "colors = ['#522e38','#a8201a','#ef7b45','#ffd166','#fffd82','#fff1d0',\n",
    "          '#5b8e7d','#90a955','#affc41','#1dd3b0','#143642']"
   ]
  },
  {
   "cell_type": "code",
   "execution_count": null,
   "metadata": {},
   "outputs": [],
   "source": [
    "for user_seq, user_id in tqdm(enumerate(np.unique(sessions['AccountUserID']))):\n",
    "    \n",
    "    if user_seq >= 199:\n",
    "    \n",
    "        max_length = np.max([len(x) for x in data[user_seq]])\n",
    "        no_sessions = len(data[user_seq])\n",
    "\n",
    "        plt.figure(num=None, figsize=(20, 10), dpi=80, facecolor='w', edgecolor='k')\n",
    "        width = 0.6\n",
    "\n",
    "        prev = np.zeros(no_sessions)\n",
    "        for i in range(max_length):\n",
    "            line = []\n",
    "            linev = []\n",
    "\n",
    "            for j in range(no_sessions):\n",
    "                line += [np.max([data[user_seq][j][i], 10])] if i < len(data[user_seq][j]) else [0]\n",
    "                linev += [evt[user_seq][j][i]] if i < len(evt[user_seq][j]) else ['']\n",
    "\n",
    "            #for k, v in enumerate(prev):\n",
    "            #    plt.text(k-0.15, v, fels[user_seq][k][i] if i < len(fels[user_seq][k]) else '', color='white')\n",
    "\n",
    "            newprev = []\n",
    "            for k, v in enumerate(prev):\n",
    "                newprev.append((v if fels[user_seq][k][i] == '' else v + 50) if i < len(fels[user_seq][k]) else v)\n",
    "            prev = np.array(newprev)    \n",
    "\n",
    "            if i == 0:\n",
    "                plt.bar(np.arange(no_sessions), np.array(line), width=width)\n",
    "            else:\n",
    "                plt.bar(np.arange(no_sessions), np.array(line), width=width, bottom=np.array(prev), color=[colors[eventsSoFar.index(e)] if e != '' else 'red' for e in linev])\n",
    "\n",
    "            prev = np.array(prev) + np.array(line)\n",
    "\n",
    "        custom_lines = [Line2D([0], [0], color=colors[i], lw=4) for i, _ in enumerate(eventsSoFar)] \n",
    "\n",
    "        count = 0\n",
    "        prev = 0\n",
    "        for i, w in enumerate(weekers[user_seq]):\n",
    "            if i == 0:\n",
    "                w = 0\n",
    "            if w > 0:\n",
    "                plt.text(prev + (i - prev) / 2.0 - (0.50 if count < 10 else 0.65), np.max(prev)-4500, 'W' + str(int(count)), fontsize=12, weight='bold', rotation=90)\n",
    "                plt.axvline(x=i - 0.5, color='gray', linestyle='--')\n",
    "                prev = i\n",
    "            count += w\n",
    "        plt.text(prev + (i + 1 - prev) / 2.0 - (0.70 if count < 10 else 0.65), np.max(prev)-4500, 'W' + str(int(count)), fontsize=12, weight='bold', rotation=90)\n",
    "        plt.axvline(x=i - 0.5, color='gray', linestyle='--')\n",
    "\n",
    "        plt.ylabel('Session Time [s]')\n",
    "        plt.ylim([0, 50000])\n",
    "        plt.xlim([-0.5, no_sessions])\n",
    "        plt.legend(custom_lines, [e for e in eventsSoFar], loc='upper right')\n",
    "        plt.xticks(np.arange(no_sessions))\n",
    "        plt.tight_layout()\n",
    "        plt.savefig('../data/figures/' + str(mappingRound[user_id]) + '-' + ('Fail' if mappingGrade[user_id] == 1 else 'Pass') + '-' + str(mappingGender[user_id]) + '-' + mappingKnowledge[user_id].replace('.', '_') + '-' + str(user_seq) + '-' + str(user_id) + '.png')"
   ]
  },
  {
   "cell_type": "code",
   "execution_count": null,
   "metadata": {},
   "outputs": [],
   "source": [
    ""
   ]
  },
  {
   "cell_type": "code",
   "execution_count": null,
   "metadata": {},
   "outputs": [],
   "source": [
    ""
   ]
  }
 ],
 "metadata": {
  "kernelspec": {
   "display_name": "Python 3",
   "language": "python",
   "name": "python3"
  },
  "language_info": {
   "codemirror_mode": {
    "name": "ipython",
    "version": 3.0
   },
   "file_extension": ".py",
   "mimetype": "text/x-python",
   "name": "python",
   "nbconvert_exporter": "python",
   "pygments_lexer": "ipython3",
   "version": "3.6.8"
  },
  "toc": {
   "base_numbering": 1.0,
   "nav_menu": {},
   "number_sections": true,
   "sideBar": true,
   "skip_h1_title": false,
   "title_cell": "Table of Contents",
   "title_sidebar": "Contents",
   "toc_cell": false,
   "toc_position": {},
   "toc_section_display": true,
   "toc_window_display": false
  }
 },
 "nbformat": 4,
 "nbformat_minor": 0
}