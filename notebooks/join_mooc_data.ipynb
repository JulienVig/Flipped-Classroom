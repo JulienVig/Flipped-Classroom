{
 "cells": [
  {
   "cell_type": "code",
   "execution_count": 1,
   "metadata": {
    "ExecuteTime": {
     "end_time": "2020-09-29T12:32:54.378765Z",
     "start_time": "2020-09-29T12:32:49.804320Z"
    }
   },
   "outputs": [],
   "source": [
    "import pandas as pd\n",
    "import datetime"
   ]
  },
  {
   "cell_type": "code",
   "execution_count": 2,
   "metadata": {
    "ExecuteTime": {
     "end_time": "2020-09-29T12:32:54.390717Z",
     "start_time": "2020-09-29T12:32:54.383801Z"
    }
   },
   "outputs": [],
   "source": [
    "year = \"2017\""
   ]
  },
  {
   "cell_type": "code",
   "execution_count": 11,
   "metadata": {
    "ExecuteTime": {
     "end_time": "2020-09-29T12:34:59.495572Z",
     "start_time": "2020-09-29T12:34:59.468557Z"
    }
   },
   "outputs": [],
   "source": [
    "PATH ='../MOOC/'+year+\"/Data/\"\n",
    "dates_url = PATH + 'due_dates_'+year+\".xlsx\"\n",
    "problems_url = PATH + 'problems_'+year+\".csv\"\n",
    "videos_url = PATH +'videos_'+year+\".csv\"\n",
    "\n",
    "publication_df = pd.read_excel(dates_url,dtype={'Subchapter': str, 'Due_date': \"datetime64\"})\n",
    "problems_df = pd.read_csv(problems_url)\n",
    "videos_df = pd.read_csv(videos_url)\n"
   ]
  },
  {
   "cell_type": "code",
   "execution_count": 12,
   "metadata": {
    "ExecuteTime": {
     "end_time": "2020-09-29T12:35:00.922203Z",
     "start_time": "2020-09-29T12:35:00.913286Z"
    }
   },
   "outputs": [],
   "source": [
    "def merge_and_write(df, suffix):\n",
    "    dated_df = df.merge(publication_df, left_on=\"Subchapter\", right_on=\"Subchapter\")\\\n",
    "                .sort_values(by=\"Subchapter\")\n",
    "    dated_df.to_csv(PATH+suffix)"
   ]
  },
  {
   "cell_type": "code",
   "execution_count": 13,
   "metadata": {
    "ExecuteTime": {
     "end_time": "2020-09-29T12:35:01.249584Z",
     "start_time": "2020-09-29T12:35:01.218202Z"
    }
   },
   "outputs": [],
   "source": [
    "merge_and_write(videos_df,\"dated_videos.csv\")\n",
    "merge_and_write(problems_df,\"dated_problems.csv\")"
   ]
  },
  {
   "cell_type": "code",
   "execution_count": null,
   "metadata": {},
   "outputs": [],
   "source": []
  }
 ],
 "metadata": {
  "kernelspec": {
   "display_name": "Python 3",
   "language": "python",
   "name": "python3"
  },
  "language_info": {
   "codemirror_mode": {
    "name": "ipython",
    "version": 3
   },
   "file_extension": ".py",
   "mimetype": "text/x-python",
   "name": "python",
   "nbconvert_exporter": "python",
   "pygments_lexer": "ipython3",
   "version": "3.7.1"
  },
  "toc": {
   "base_numbering": 1,
   "nav_menu": {},
   "number_sections": true,
   "sideBar": true,
   "skip_h1_title": false,
   "title_cell": "Table of Contents",
   "title_sidebar": "Contents",
   "toc_cell": false,
   "toc_position": {},
   "toc_section_display": true,
   "toc_window_display": false
  }
 },
 "nbformat": 4,
 "nbformat_minor": 2
}
