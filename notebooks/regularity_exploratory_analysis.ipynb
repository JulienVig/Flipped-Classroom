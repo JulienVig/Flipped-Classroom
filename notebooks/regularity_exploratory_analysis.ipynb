{
 "cells": [
  {
   "cell_type": "code",
   "execution_count": 1,
   "metadata": {
    "ExecuteTime": {
     "end_time": "2020-11-03T13:27:07.053095Z",
     "start_time": "2020-11-03T13:26:54.562745Z"
    }
   },
   "outputs": [
    {
     "name": "stderr",
     "output_type": "stream",
     "text": [
      "/Applications/anaconda3/lib/python3.7/site-packages/statsmodels/tools/_testing.py:19: FutureWarning: pandas.util.testing is deprecated. Use the functions in the public API at pandas.testing instead.\n",
      "  import pandas.util.testing as tm\n"
     ]
    }
   ],
   "source": [
    "#Library imports\n",
    "\n",
    "import numpy as np\n",
    "import pandas as pd\n",
    "import matplotlib.pyplot as plt\n",
    "import seaborn as sns\n",
    "sns.set_style(\"darkgrid\")\n",
    "from datetime import datetime, timedelta, date\n",
    "import time\n"
   ]
  },
  {
   "cell_type": "code",
   "execution_count": 2,
   "metadata": {
    "ExecuteTime": {
     "end_time": "2020-11-03T13:27:07.659906Z",
     "start_time": "2020-11-03T13:27:07.055551Z"
    },
    "scrolled": true
   },
   "outputs": [],
   "source": [
    "# #Import local database interface \n",
    "\n",
    "import os\n",
    "import sys\n",
    "sys.path.append(os.path.abspath(os.path.join('..')))\n",
    "from helpers.db_query import queryDB \n",
    "\n"
   ]
  },
  {
   "cell_type": "code",
   "execution_count": 53,
   "metadata": {
    "ExecuteTime": {
     "end_time": "2020-10-30T14:57:27.012453Z",
     "start_time": "2020-10-30T14:57:26.964556Z"
    }
   },
   "outputs": [],
   "source": [
    "# #Wrapper function for the database interface\n",
    "\n",
    "# def queryDB(query, labels):\n",
    "#     db = MySQLConnector()\n",
    "#     out = db.execute(query)\n",
    "#     db.close()\n",
    "#     return pd.DataFrame.from_records(out, columns=labels)\n",
    "\n"
   ]
  },
  {
   "cell_type": "markdown",
   "metadata": {},
   "source": [
    "## Preprocessing"
   ]
  },
  {
   "cell_type": "code",
   "execution_count": 3,
   "metadata": {
    "ExecuteTime": {
     "end_time": "2020-11-03T13:27:07.675861Z",
     "start_time": "2020-11-03T13:27:07.665069Z"
    }
   },
   "outputs": [],
   "source": [
    "#Constants\n",
    "COURSES_ID = \"('EPFL-AlgebreLineaire-2017_T3', 'EPFL-AlgebreLineaire-2018')\"\n",
    "StudentID = 'AccountUserID'\n",
    "Year = 'Year'\n",
    "year1 = '2017'\n",
    "year2= '2018'\n",
    "Source = 'VideoID'"
   ]
  },
  {
   "cell_type": "code",
   "execution_count": 4,
   "metadata": {
    "ExecuteTime": {
     "end_time": "2020-11-03T13:27:33.546220Z",
     "start_time": "2020-11-03T13:27:07.685622Z"
    }
   },
   "outputs": [],
   "source": [
    "columns = [\"AccountUserID\", \"DataPackageID\",\"VideoID\", \"TimeStamp\", \"EventType\", \"SeekType\", \n",
    "             \"OldTime\", \"CurrentTime\", \"NewTime\", \"OldSpeed\", \"NewSpeed\"]\n",
    "query =\"\"\"\n",
    "SELECT {}\n",
    "FROM ca_courseware.Video_Events\n",
    "WHERE DataPackageID in {}\n",
    "\"\"\".format(\", \".join(columns), COURSES_ID)\n",
    "df = queryDB(query, columns)\n"
   ]
  },
  {
   "cell_type": "markdown",
   "metadata": {},
   "source": [
    "### Create year column"
   ]
  },
  {
   "cell_type": "code",
   "execution_count": 5,
   "metadata": {
    "ExecuteTime": {
     "end_time": "2020-11-03T13:27:33.563184Z",
     "start_time": "2020-11-03T13:27:33.550285Z"
    }
   },
   "outputs": [],
   "source": [
    "def addYearColumn(df):\n",
    "    df[Year] = df['DataPackageID'].apply(lambda x: year1 if('2017' in x) else year2)\n",
    "    return df"
   ]
  },
  {
   "cell_type": "code",
   "execution_count": 6,
   "metadata": {
    "ExecuteTime": {
     "end_time": "2020-11-03T13:27:33.772249Z",
     "start_time": "2020-11-03T13:27:33.573459Z"
    }
   },
   "outputs": [
    {
     "data": {
      "text/html": [
       "<div>\n",
       "<style scoped>\n",
       "    .dataframe tbody tr th:only-of-type {\n",
       "        vertical-align: middle;\n",
       "    }\n",
       "\n",
       "    .dataframe tbody tr th {\n",
       "        vertical-align: top;\n",
       "    }\n",
       "\n",
       "    .dataframe thead th {\n",
       "        text-align: right;\n",
       "    }\n",
       "</style>\n",
       "<table border=\"1\" class=\"dataframe\">\n",
       "  <thead>\n",
       "    <tr style=\"text-align: right;\">\n",
       "      <th></th>\n",
       "      <th>AccountUserID</th>\n",
       "      <th>DataPackageID</th>\n",
       "      <th>VideoID</th>\n",
       "      <th>TimeStamp</th>\n",
       "      <th>EventType</th>\n",
       "      <th>SeekType</th>\n",
       "      <th>OldTime</th>\n",
       "      <th>CurrentTime</th>\n",
       "      <th>NewTime</th>\n",
       "      <th>OldSpeed</th>\n",
       "      <th>NewSpeed</th>\n",
       "      <th>Year</th>\n",
       "    </tr>\n",
       "  </thead>\n",
       "  <tbody>\n",
       "    <tr>\n",
       "      <th>0</th>\n",
       "      <td>9893</td>\n",
       "      <td>EPFL-AlgebreLineaire-2017_T3</td>\n",
       "      <td>4d31551afe0e437e9efb0de334c8267c</td>\n",
       "      <td>1509555123</td>\n",
       "      <td>Video.Play</td>\n",
       "      <td>None</td>\n",
       "      <td>NaN</td>\n",
       "      <td>184.694</td>\n",
       "      <td>NaN</td>\n",
       "      <td>NaN</td>\n",
       "      <td>NaN</td>\n",
       "      <td>2017</td>\n",
       "    </tr>\n",
       "    <tr>\n",
       "      <th>1</th>\n",
       "      <td>9914</td>\n",
       "      <td>EPFL-AlgebreLineaire-2017_T3</td>\n",
       "      <td>a48d8f0bbac04689a88f8b06cf53154e</td>\n",
       "      <td>1508769890</td>\n",
       "      <td>Video.Play</td>\n",
       "      <td>None</td>\n",
       "      <td>NaN</td>\n",
       "      <td>603.000</td>\n",
       "      <td>NaN</td>\n",
       "      <td>NaN</td>\n",
       "      <td>NaN</td>\n",
       "      <td>2017</td>\n",
       "    </tr>\n",
       "    <tr>\n",
       "      <th>2</th>\n",
       "      <td>12494</td>\n",
       "      <td>EPFL-AlgebreLineaire-2017_T3</td>\n",
       "      <td>7ad7b082ef9149f280e3d7b9be2aa348</td>\n",
       "      <td>1510329102</td>\n",
       "      <td>Video.Play</td>\n",
       "      <td>None</td>\n",
       "      <td>NaN</td>\n",
       "      <td>202.526</td>\n",
       "      <td>NaN</td>\n",
       "      <td>NaN</td>\n",
       "      <td>NaN</td>\n",
       "      <td>2017</td>\n",
       "    </tr>\n",
       "    <tr>\n",
       "      <th>3</th>\n",
       "      <td>9923</td>\n",
       "      <td>EPFL-AlgebreLineaire-2017_T3</td>\n",
       "      <td>cea9957b2f57401bbb75e15230dfaadc</td>\n",
       "      <td>1510682346</td>\n",
       "      <td>Video.Play</td>\n",
       "      <td>None</td>\n",
       "      <td>NaN</td>\n",
       "      <td>613.206</td>\n",
       "      <td>NaN</td>\n",
       "      <td>NaN</td>\n",
       "      <td>NaN</td>\n",
       "      <td>2017</td>\n",
       "    </tr>\n",
       "    <tr>\n",
       "      <th>4</th>\n",
       "      <td>10787</td>\n",
       "      <td>EPFL-AlgebreLineaire-2017_T3</td>\n",
       "      <td>8298affd57ae43d6a46c3c2a60777fba</td>\n",
       "      <td>1510647821</td>\n",
       "      <td>Video.Stop</td>\n",
       "      <td>None</td>\n",
       "      <td>NaN</td>\n",
       "      <td>706.342</td>\n",
       "      <td>NaN</td>\n",
       "      <td>NaN</td>\n",
       "      <td>NaN</td>\n",
       "      <td>2017</td>\n",
       "    </tr>\n",
       "  </tbody>\n",
       "</table>\n",
       "</div>"
      ],
      "text/plain": [
       "  AccountUserID                 DataPackageID  \\\n",
       "0          9893  EPFL-AlgebreLineaire-2017_T3   \n",
       "1          9914  EPFL-AlgebreLineaire-2017_T3   \n",
       "2         12494  EPFL-AlgebreLineaire-2017_T3   \n",
       "3          9923  EPFL-AlgebreLineaire-2017_T3   \n",
       "4         10787  EPFL-AlgebreLineaire-2017_T3   \n",
       "\n",
       "                            VideoID   TimeStamp   EventType SeekType  OldTime  \\\n",
       "0  4d31551afe0e437e9efb0de334c8267c  1509555123  Video.Play     None      NaN   \n",
       "1  a48d8f0bbac04689a88f8b06cf53154e  1508769890  Video.Play     None      NaN   \n",
       "2  7ad7b082ef9149f280e3d7b9be2aa348  1510329102  Video.Play     None      NaN   \n",
       "3  cea9957b2f57401bbb75e15230dfaadc  1510682346  Video.Play     None      NaN   \n",
       "4  8298affd57ae43d6a46c3c2a60777fba  1510647821  Video.Stop     None      NaN   \n",
       "\n",
       "   CurrentTime  NewTime  OldSpeed  NewSpeed  Year  \n",
       "0      184.694      NaN       NaN       NaN  2017  \n",
       "1      603.000      NaN       NaN       NaN  2017  \n",
       "2      202.526      NaN       NaN       NaN  2017  \n",
       "3      613.206      NaN       NaN       NaN  2017  \n",
       "4      706.342      NaN       NaN       NaN  2017  "
      ]
     },
     "execution_count": 6,
     "metadata": {},
     "output_type": "execute_result"
    }
   ],
   "source": [
    "addYearColumn(df)\n",
    "df.head()\n"
   ]
  },
  {
   "cell_type": "markdown",
   "metadata": {
    "ExecuteTime": {
     "end_time": "2020-09-18T14:28:14.257163Z",
     "start_time": "2020-09-18T14:28:14.252285Z"
    }
   },
   "source": [
    "### Events\n",
    "\n",
    "Create more events (speed down vs speed up , seek back vs seek forward etc.) and drop events which we dont really need (transcript translation etc.)"
   ]
  },
  {
   "cell_type": "code",
   "execution_count": 7,
   "metadata": {
    "ExecuteTime": {
     "end_time": "2020-11-03T13:27:33.792019Z",
     "start_time": "2020-11-03T13:27:33.779430Z"
    }
   },
   "outputs": [],
   "source": [
    "def drop_and_relabel(df): \n",
    "    X = df.copy()\n",
    "    \n",
    "    # lets relabel seek events into either seek back or seek forward    \n",
    "    X.loc[X[\"OldTime\"] > X[\"NewTime\"], \"EventType\"]  = \"Video.SeekBack\"\n",
    "    X.loc[X[\"OldTime\"] < X[\"NewTime\"], \"EventType\"]  = \"Video.SeekForward\"\n",
    "    X = X.loc[X[\"EventType\"] != \"Video.Seek\"]\n",
    "    \n",
    "    # lets relabel speed change into speedup or speed down\n",
    "    X.loc[X[\"OldSpeed\"] < X[\"NewSpeed\"], \"EventType\"]  = \"Video.SpeedUp\"\n",
    "    X.loc[X[\"OldSpeed\"] > X[\"NewSpeed\"], \"EventType\"]  = \"Video.SpeedDown\"\n",
    "    X = X.loc[X[\"EventType\"] != \"Video.SpeedChange\"]\n",
    "    \n",
    "    # drop unnecessary events\n",
    "    X = X[X['EventType'] != 'Video.Transcript.Translate.EN']\n",
    "    X = X[X['EventType'] != 'Video.Transcript.Download']\n",
    "    X = X[X['EventType'] != 'Video.Transcript.Hide']\n",
    "    X = X[X['EventType'] != 'Video.Transcript.Show']\n",
    "    \n",
    "    return X"
   ]
  },
  {
   "cell_type": "markdown",
   "metadata": {},
   "source": [
    "### Drop outliers\n",
    "\n",
    "Drop students who have repeated the course - we consider them outliers as they have engaged with the content once already and watched videos at irregular periods."
   ]
  },
  {
   "cell_type": "code",
   "execution_count": 8,
   "metadata": {
    "ExecuteTime": {
     "end_time": "2020-11-03T13:27:33.817970Z",
     "start_time": "2020-11-03T13:27:33.805685Z"
    }
   },
   "outputs": [],
   "source": [
    "# remove repeating students\n",
    "def remove_repeat(df):\n",
    "    retook_students = []\n",
    "    for s in set(df[StudentID]):\n",
    "        x = df[df[StudentID] == s]\n",
    "        y1 = len(x[x[Year] == year1]) > 0\n",
    "        y2 = len(x[x[Year] == year2]) > 0\n",
    "        if y1 and y2:\n",
    "            retook_students.append(s)\n",
    "\n",
    "    X = df.copy() \n",
    "    for s in retook_students:\n",
    "        mask = (X[StudentID] == s) & (X[Year] == year2)\n",
    "        X = X[~mask]\n",
    "    \n",
    "    return X"
   ]
  },
  {
   "cell_type": "markdown",
   "metadata": {},
   "source": [
    "### Minimum activity\n",
    "\n",
    "Filter students out who have lesser than 60 videos to their names. The student who watched the most videos in our dataset has 139 videos, we try to get the other students to have at least half of this. This means they have engaged with the MOOC platforms and we have something to analyse."
   ]
  },
  {
   "cell_type": "code",
   "execution_count": 9,
   "metadata": {
    "ExecuteTime": {
     "end_time": "2020-11-03T13:27:33.828612Z",
     "start_time": "2020-11-03T13:27:33.821707Z"
    }
   },
   "outputs": [],
   "source": [
    "# filter out students with less than 60 videos\n",
    "def students_with_activity(df):\n",
    "    vid_df = df[[StudentID, Source]].drop_duplicates()\n",
    "    vid_cnt = vid_df.groupby(StudentID).count().reset_index().rename(columns={Source: 'Count'})\n",
    "    vid_cnt = vid_cnt[vid_cnt['Count'] > 60]\n",
    "    return pd.merge(left=vid_cnt, right=df, on=StudentID).drop_duplicates()"
   ]
  },
  {
   "cell_type": "markdown",
   "metadata": {},
   "source": [
    "### Pipeline"
   ]
  },
  {
   "cell_type": "code",
   "execution_count": 10,
   "metadata": {
    "ExecuteTime": {
     "end_time": "2020-11-03T13:27:33.837820Z",
     "start_time": "2020-11-03T13:27:33.832018Z"
    }
   },
   "outputs": [],
   "source": [
    "def preprocess(df):\n",
    "    X = drop_and_relabel(df)\n",
    "    X = remove_repeat(X)\n",
    "    X = students_with_activity(X)\n",
    "    return X"
   ]
  },
  {
   "cell_type": "code",
   "execution_count": 20,
   "metadata": {
    "ExecuteTime": {
     "end_time": "2020-11-03T13:28:18.932177Z",
     "start_time": "2020-11-03T13:27:51.550216Z"
    }
   },
   "outputs": [],
   "source": [
    "df_clean = preprocess(df)"
   ]
  },
  {
   "cell_type": "markdown",
   "metadata": {},
   "source": [
    "## Regularity\n",
    "**Q**: How does a student's regularity with the MOOC course affect his final grade?"
   ]
  },
  {
   "cell_type": "markdown",
   "metadata": {},
   "source": [
    "\n",
    "### How can we measure regularity?\n",
    "<p>In order to measure regularity, we turn to existing research, namely the paper <a href=\"https://link.springer.com/chapter/10.1007/978-3-319-45153-4_21\">\"How to quantify regularity\" by Sharma et al in EPFL CHILI lab</a>. The paper derives different measures for regularities and explains their properties. We will be looking at the same properties (albeit with slight modifications).</p>\n",
    "<p>The measures include:</p>\n",
    "<table>\n",
    "<thead><tr>\n",
    "<th style=\"text-align:center\">Measure</th>\n",
    "<th style=\"text-align:center\">Description</th>\n",
    "<th style=\"text-align:center\">Justification</th>\n",
    "</tr>\n",
    "</thead>\n",
    "<tbody>\n",
    "<tr>\n",
    "<td style=\"text-align:center\">PDH</td>\n",
    "<td style=\"text-align:center\">Peak on day hour</td>\n",
    "<td style=\"text-align:center\">Identifies if a student's activities are centred around a particular hour of the day</td>\n",
    "</tr>\n",
    "<tr>\n",
    "<td style=\"text-align:center\">PWD</td>\n",
    "<td style=\"text-align:center\">Peak on week day</td>\n",
    "<td style=\"text-align:center\">Identifies if a student's activities are centred around a particular day of the week</td>\n",
    "</tr>\n",
    "<tr>\n",
    "<td style=\"text-align:center\">WS1</td>\n",
    "<td style=\"text-align:center\">Weekly Similarities in daily activity</td>\n",
    "<td style=\"text-align:center\">Identifies if student works on same weekdays</td>\n",
    "</tr>\n",
    "    <tr>\n",
    "<td style=\"text-align:center\">WS2</td>\n",
    "<td style=\"text-align:center\">Weekly Similarities in daily activity</td>\n",
    "<td style=\"text-align:center\">Identifies if there is a similar distribution of workload among weekdays</td>\n",
    "</tr>\n",
    "<tr>\n",
    "<td style=\"text-align:center\">WS3</td>\n",
    "<td style=\"text-align:center\">Weekly Similarities in daily activity</td>\n",
    "<td style=\"text-align:center\">Identifies if there is a similar time repartition of workload among weekdays</td>\n",
    "</tr>\n",
    "<tr>\n",
    "<td style=\"text-align:center\">FDH</td>\n",
    "<td style=\"text-align:center\">Hourly Pattern over days</td>\n",
    "<td style=\"text-align:center\">Identifies if hourly pattern is repeating over days</td>\n",
    "</tr>\n",
    "<tr>\n",
    "<td style=\"text-align:center\">FWH</td>\n",
    "<td style=\"text-align:center\">Hourly Pattern over weeks</td>\n",
    "<td style=\"text-align:center\">Identifies if hourly pattern is repeating over weeks</td>\n",
    "</tr>\n",
    "<tr>\n",
    "<td style=\"text-align:center\">FWD</td>\n",
    "<td style=\"text-align:center\">Daily Pattern over Weeks</td>\n",
    "<td style=\"text-align:center\">Identifies if daily pattern is repeating over weeks</td>\n",
    "</tr>\n",
    "</tbody>\n",
    "</table>\n",
    "\n"
   ]
  },
  {
   "cell_type": "markdown",
   "metadata": {},
   "source": [
    "### Metadata"
   ]
  },
  {
   "cell_type": "code",
   "execution_count": 11,
   "metadata": {
    "ExecuteTime": {
     "end_time": "2020-11-03T13:27:33.856004Z",
     "start_time": "2020-11-03T13:27:33.844733Z"
    }
   },
   "outputs": [],
   "source": [
    "\n",
    "MOOC = {\n",
    "    '2017':{\n",
    "        'Start': '2017-10-16', # Start of the flipped period\n",
    "        'Start_ts': time.mktime(date(2017, 10, 16).timetuple()),\n",
    "        'End_ts': None, # Dynamically defined  later in the notebook\n",
    "        'End':  '2018-01-28',\n",
    "        'Exam': '2018-01-22',\n",
    "        'Weekly_video_count': [2,3,2,2,4,3,2,3,3,1,2,2,2,3], #number of videos per week in the semester\n",
    "        'Flipped_weeks': 5, #Number of weeks during which the class was flipped\n",
    "        'Total_quiz': None # Total nuber of quiz in the flipped period, dynamically defined  later in the notebook\n",
    "\n",
    "    },\n",
    "    '2018':{\n",
    "        'Start': '2018-10-16',\n",
    "        'Start_ts': time.mktime(date(2018, 10, 16).timetuple()),\n",
    "        'End': '2019-01-28',\n",
    "        'Exam': '2019-01-21',\n",
    "        'Flipped_weeks': 10 \n",
    "    }\n",
    "}"
   ]
  },
  {
   "cell_type": "markdown",
   "metadata": {},
   "source": [
    "### Helper functions"
   ]
  },
  {
   "cell_type": "code",
   "execution_count": 12,
   "metadata": {
    "ExecuteTime": {
     "end_time": "2020-11-03T13:27:33.869081Z",
     "start_time": "2020-11-03T13:27:33.858539Z"
    }
   },
   "outputs": [],
   "source": [
    "\n",
    "#Timestamp to datetime object\n",
    "def convert_to_date(ts):\n",
    "    return datetime.fromtimestamp(ts)\n",
    "\n",
    "def normalize(v):\n",
    "    s = v.sum()\n",
    "    if s == 0: return v\n",
    "    return v / s\n",
    "\n",
    "def get_rand_id(X):\n",
    "    studentID =  list(X[StudentID].sample(1))[0]\n",
    "    print(\"Random ID: {}\".format(studentID))\n",
    "    return studentID\n",
    "\n",
    "def get_rand_student(X, studentID): # /!\\ studentID != StudentID\n",
    "    if(not studentID):\n",
    "        studentID = get_rand_id(X)\n",
    "    return X[X[StudentID] == str(studentID)]\n",
    "\n",
    "# def get_student_by_id(X,student_id):\n",
    "#     return X[X[StudentID] == student_id]\n",
    "\n",
    "#Get the list of timestamps indicating when the student was active \n",
    "#Student is a table containing all the rows of `student`\n",
    "def get_time(student):\n",
    "    year = list(student[Year])[0]\n",
    "    T = student['TimeStamp'].sort_values()\n",
    "    T = T - MOOC[year]['Start_ts']\n",
    "    T = np.where(T < 0, 0, T)\n",
    "    return list(T), MOOC[year]['Flipped_weeks']\n",
    "\n"
   ]
  },
  {
   "cell_type": "markdown",
   "metadata": {},
   "source": [
    "### Peaks in Hourly/Daily Activity (PDH/PWD)\n",
    "\n",
    "Here are the functions and Regularity paper's expressions equivalence table:\n",
    "\n",
    "| Code | Expression |\n",
    "| --- | --- | \n",
    "| `student_activity` | $F_W(x)$ |\n",
    "| `activity_at_hour` | $D(h)$ |\n",
    "| `activity_at_day` | $W(d)$ |\n",
    "| `entropy` | $E_D$ or $E_W$ |\n",
    "\n",
    "\n"
   ]
  },
  {
   "cell_type": "code",
   "execution_count": 17,
   "metadata": {
    "ExecuteTime": {
     "end_time": "2020-11-03T13:27:42.336956Z",
     "start_time": "2020-11-03T13:27:42.319333Z"
    }
   },
   "outputs": [],
   "source": [
    "from scipy.special import entr #entropy\n",
    "\n",
    "def student_activity(W, T, x):\n",
    "    T = np.floor_divide(T, W)\n",
    "    return int(x in T)\n",
    "\n",
    "def daily_activity(Ld, T):\n",
    "    def activity_at_hour(h):\n",
    "        res = 0\n",
    "        for i in range(Ld):\n",
    "            res += student_activity(60*60, T, 24*i + h)\n",
    "        return res\n",
    "    hist = list(range(24))\n",
    "    return list(map(activity_at_hour, hist))\n",
    "\n",
    "def weekly_activity(Lw, T):\n",
    "    def activity_at_day(d):\n",
    "        res = 0\n",
    "        for i in range(Lw):\n",
    "            res += student_activity(24*60*60, T, 7*i + d)\n",
    "        return res\n",
    "    hist = list(range(7))\n",
    "    return list(map(activity_at_day, hist))\n",
    "\n",
    "def PDH(Lw, T):\n",
    "    activity = np.array(daily_activity(Lw * 7, T))\n",
    "    normalized_activity = normalize(activity)\n",
    "    entropy = entr(normalized_activity).sum()\n",
    "    return (np.log2(24) - entropy) * np.max(activity)\n",
    "\n",
    "def PWD(Lw, T):\n",
    "    activity = np.array(weekly_activity(Lw, T))\n",
    "    normalized_activity = normalize(activity)\n",
    "    entropy = entr(normalized_activity).sum()\n",
    "    return (np.log2(7) - entropy) * np.max(activity)\n",
    "\n",
    "\n"
   ]
  },
  {
   "cell_type": "code",
   "execution_count": 18,
   "metadata": {
    "ExecuteTime": {
     "end_time": "2020-11-03T13:27:42.699870Z",
     "start_time": "2020-11-03T13:27:42.679541Z"
    }
   },
   "outputs": [],
   "source": [
    "def plotHourlyActivity(X, studentID = 0):\n",
    "    student = get_rand_student(X, studentID)\n",
    "    T, Lw = get_time(student)\n",
    "    PDHs = \"{:.2f}\".format(PDH(Lw, T))\n",
    "\n",
    "    plt.bar(np.arange(1, 25), daily_activity(Lw*7, T))\n",
    "#     plt.ylim(0,10)\n",
    "    plt.title(\"Student Activity per Hour, PDH = \" + PDHs) #+ \" Grade = \" + str(grade))\n",
    "    plt.xlabel(\"Hour\")\n",
    "    plt.ylabel(\"PDH\")\n",
    "    \n",
    "def plotWeeklyActivity(X, studentID = 0):\n",
    "    student = get_rand_student(X, studentID)\n",
    "    T, Lw = get_time(student)\n",
    "    PWDs = \"{:.2f}\".format(PWD(Lw, T))\n",
    "    \n",
    "    plt.bar(np.arange(1, 8), weekly_activity(Lw, T))\n",
    "    plt.ylim(0,10)\n",
    "    plt.title(\"Student Activity per Week, PWD = \" + PWDs ) #+ \" Grade = \" + str(grade))\n",
    "    plt.xlabel(\"Day of the week\")\n",
    "    plt.ylabel(\"PDH\")"
   ]
  },
  {
   "cell_type": "code",
   "execution_count": 21,
   "metadata": {
    "ExecuteTime": {
     "end_time": "2020-11-03T13:28:23.677462Z",
     "start_time": "2020-11-03T13:28:18.956806Z"
    },
    "scrolled": false
   },
   "outputs": [
    {
     "data": {
      "image/png": "[encoded data removed]",
      "text/plain": [
       "<Figure size 432x288 with 1 Axes>"
      ]
     },
     "metadata": {},
     "output_type": "display_data"
    }
   ],
   "source": [
    "plotHourlyActivity(df_clean,11609)\n",
    "# 12689 2.02\n",
    "# 9728 8\n",
    "# 11609 20.6\n",
    "# 12887 30"
   ]
  },
  {
   "cell_type": "code",
   "execution_count": 22,
   "metadata": {
    "ExecuteTime": {
     "end_time": "2020-11-03T13:28:23.711237Z",
     "start_time": "2020-11-03T13:28:23.688916Z"
    }
   },
   "outputs": [
    {
     "name": "stdout",
     "output_type": "stream",
     "text": [
      "28.07354922057604 28.07354922057604\n"
     ]
    }
   ],
   "source": [
    "# T = np.arange(24) * 3600\n",
    "Lw = 10\n",
    "T = np.arange(Lw) * 3600 * 24 * 7\n",
    "print(PWD(Lw, T),np.log2(7) * Lw)"
   ]
  },
  {
   "cell_type": "code",
   "execution_count": 23,
   "metadata": {
    "ExecuteTime": {
     "end_time": "2020-11-03T13:28:24.163436Z",
     "start_time": "2020-11-03T13:28:23.721197Z"
    }
   },
   "outputs": [
    {
     "data": {
      "image/png": "[encoded data removed]",
      "text/plain": [
       "<Figure size 432x288 with 1 Axes>"
      ]
     },
     "metadata": {},
     "output_type": "display_data"
    }
   ],
   "source": [
    "plotWeeklyActivity(df_clean, 9749 )\n",
    "# 9950 2\n",
    "#9749 7.5"
   ]
  },
  {
   "cell_type": "markdown",
   "metadata": {},
   "source": [
    "### Weekly similarities (WS1/WS2/WS3)\n",
    "\n",
    "**WS1:** Measures how much the student works on the same weekdays\n",
    "\n",
    "**WS2:** Measures if there is a similar distribution of workload among weekdays\n",
    "\n",
    "**WS3:** Measures if there is a similar time spent working among weekdays. WS3 also depends on the absolute time while WS2 only depends on the distribution.\n"
   ]
  },
  {
   "cell_type": "code",
   "execution_count": 99,
   "metadata": {
    "ExecuteTime": {
     "end_time": "2020-11-03T14:16:55.583280Z",
     "start_time": "2020-11-03T14:16:55.331613Z"
    }
   },
   "outputs": [],
   "source": [
    "from scipy.spatial.distance import jensenshannon\n",
    "\n",
    "# global constants\n",
    "HOUR_TO_SECOND = 60 * 60\n",
    "DAY_TO_SECOND = 24 * HOUR_TO_SECOND\n",
    "WEEK_TO_SECOND = 7 * DAY_TO_SECOND\n",
    "\n",
    "def similarity_days(wi, wj):\n",
    "    m1 = np.where(wi == 1)[0]\n",
    "    m2 = np.where(wj == 1)[0]\n",
    "    if len(m1) == 0 or len(m2) == 0: \n",
    "        return 0\n",
    "    \n",
    "    return len(np.intersect1d(m1, m2)) / max(len(m1), len(m2))\n",
    "\n",
    "def aggregate_activity(W, T, Ls):\n",
    "    res = []\n",
    "    for x_i in range(Ls // W):\n",
    "        res.append(student_activity(W, T, x_i))\n",
    "    return np.array(res)\n",
    "\n",
    "def days_active(Lw, T):    \n",
    "    X = aggregate_activity(DAY_TO_SECOND, T, Lw * WEEK_TO_SECOND)\n",
    "    X = X.reshape([Lw, 7])\n",
    "    return X\n",
    "\n",
    "def activityProfile(Lw, T):\n",
    "    activity = []\n",
    "    X = np.array(aggregate_activity(HOUR_TO_SECOND, T, Lw * WEEK_TO_SECOND))\n",
    "    X = X.reshape([Lw, 7*24])\n",
    "    for week in X:\n",
    "        week = week.reshape([7, 24])\n",
    "        activity.append(week.sum(axis=1))\n",
    "    return activity\n",
    "\n",
    "def chi2_divergence(p1, p2, a1, a2):\n",
    "    a = p1 - p2\n",
    "    b = p1 + p2\n",
    "    frac = np.divide(a, b, out=np.zeros(a.shape, dtype=float), where=b!=0)\n",
    "    m1 = np.where(a1 == 1)[0]\n",
    "    m2 = np.where(a2 == 1)[0]\n",
    "    union = np.union1d(m1, m2)\n",
    "    if (len(union) == 0): return np.nan\n",
    "    return 1 - (1 / len(union)) * np.sum(np.square(frac))\n",
    "\n",
    "def WS1(Lw, T):\n",
    "    hist = days_active(Lw, T)\n",
    "    res = []\n",
    "    for i in range(Lw):\n",
    "        for j in range(i + 1, Lw):\n",
    "            res.append(similarity_days(hist[i], hist[j]))\n",
    "    res = np.clip(np.nan_to_num(res), 0, 1) #Bound values between 0 and 1\n",
    "    return np.mean(res)\n",
    "\n",
    "def WS2(Lw, T):\n",
    "    profile = activityProfile(Lw, T)\n",
    "    res = []\n",
    "    for i in range(Lw):\n",
    "        for j in range(i + 1, Lw):\n",
    "            if not profile[i].any() or not profile[j].any(): continue\n",
    "            res.append(1 - jensenshannon(profile[i], profile[j], 2.0))\n",
    "    if len(res) == 0: return np.nan\n",
    "    res = np.clip(np.nan_to_num(res), 0, 1) #Bound values between 0 and 1\n",
    "    return np.mean(res)\n",
    "    \n",
    "def WS3(Lw, T):\n",
    "    profile = activityProfile(Lw, T)\n",
    "    hist = days_active(Lw, T)\n",
    "    res = []\n",
    "    for i in range(Lw):\n",
    "        for j in range(i + 1, Lw):\n",
    "            if not profile[i].any() or not profile[j].any(): continue\n",
    "            res.append(chi2_divergence(profile[i], profile[j], hist[i], hist[j]))\n",
    "    if len(res) == 0: return np.nan\n",
    "    res = np.clip(np.nan_to_num(res), 0, 1) #Bound values between 0 and 1\n",
    "    return np.mean(res)\n"
   ]
  },
  {
   "cell_type": "code",
   "execution_count": 25,
   "metadata": {
    "ExecuteTime": {
     "end_time": "2020-11-03T13:28:24.389178Z",
     "start_time": "2020-11-03T13:28:24.371944Z"
    }
   },
   "outputs": [],
   "source": [
    "\n",
    "def day_activity_by_week(Lw, T):\n",
    "    def activity_at_day(w,d):\n",
    "        res = 0\n",
    "        for h in range(24):\n",
    "            res += student_activity(60*60, T, w*7*24 + d*24 + h)\n",
    "        return res\n",
    "    days = np.zeros((Lw, 7))\n",
    "    for w in range(Lw):\n",
    "        for d in range(7):\n",
    "             days[w,d] = activity_at_day(w,d)\n",
    "    return days\n",
    "\n",
    "def plotWS(X, studentID=0):\n",
    "    student = get_rand_student(X, studentID)\n",
    "    T, Lw = get_time(student)\n",
    "    WS = \"{:.2f}, {:.2f}, {:.2f}\".format(WS1(Lw, T), WS2(Lw, T), WS3(Lw, T))\n",
    "    ax = sns.heatmap(day_activity_by_week(Lw, T), cmap=sns.cubehelix_palette(as_cmap=True))\n",
    "    ax.invert_yaxis()\n",
    "    plt.title(\"Weekly similarities with (WS1, WS2, WS3) = (\" + WS+\")\") \n",
    "    plt.ylabel('Week')\n",
    "    plt.xlabel('Day')\n"
   ]
  },
  {
   "cell_type": "code",
   "execution_count": 65,
   "metadata": {
    "ExecuteTime": {
     "end_time": "2020-11-03T13:47:45.572725Z",
     "start_time": "2020-11-03T13:47:42.395874Z"
    }
   },
   "outputs": [
    {
     "name": "stdout",
     "output_type": "stream",
     "text": [
      "Random ID: 51969\n",
      "[0.5, 0.5, 0.8796296296296297, 0.28888888888888875, 0.8796296296296297, 0.5697222222222222, 0.43518518518518523, 0.24489795918367352, 0.2962962962962963, 1.0, 0.6533333333333333, 0.1875, 0.5833333333333334, 0.4948979591836735, 0.96875, 0.5925925925925926, 0.48, 0.6533333333333333, 0.1875, 0.5833333333333334, 0.4948979591836735, 0.96875, 0.5925925925925926, 0.48, 0.34104308390022675, 0.8662962962962963, 0.7071201814058956, 0.6325000000000001, 0.4097222222222222, 0.32000000000000006, 0.3155, 0.5874999999999999, 0.1875, 0.16528925619834722, 0.0, 0.5700000000000001, 0.5185185185185186, 0.34467120181405897, 0.2962962962962963, 0.49691358024691357, 0.36977777777777776, 0.2222222222222222, 0.6268748086929905, 0.40816326530612246, 0.25]\n"
     ]
    },
    {
     "data": {
      "image/png": "[encoded data removed]",
      "text/plain": [
       "<Figure size 432x288 with 2 Axes>"
      ]
     },
     "metadata": {},
     "output_type": "display_data"
    }
   ],
   "source": [
    "plotWS(df_clean, 10157)\n",
    "# 47712 all on sundays\n",
    "# 10118 all at the beginning of the week\n",
    "# 49212 a session of 10 hours\n",
    "# 46461 all on weekend"
   ]
  },
  {
   "cell_type": "markdown",
   "metadata": {},
   "source": [
    "### Frequency patterns (FDH/FWH/FWD)\n",
    "\n",
    "The Fourier analysis measures if there is any periodicity in the time spent watching the videos.\n",
    "\n",
    "**FDH:** Hourly pattern over the day.\n",
    "\n",
    "**FWH:** Hourly pattern over the week.\n",
    "\n",
    "**FWD:** Daily pattern over the week."
   ]
  },
  {
   "cell_type": "code",
   "execution_count": 27,
   "metadata": {
    "ExecuteTime": {
     "end_time": "2020-11-03T13:28:27.719135Z",
     "start_time": "2020-11-03T13:28:27.678401Z"
    }
   },
   "outputs": [],
   "source": [
    "def fourierTransform(Xi, f, n):\n",
    "    M = np.exp(-2j * np.pi * f * n)\n",
    "    return np.dot(M, Xi)\n",
    "\n",
    "def FDH(Lw, T, f = 1/24):\n",
    "    Xi = aggregate_activity(HOUR_TO_SECOND, T, Lw * WEEK_TO_SECOND)\n",
    "    n = np.arange(Lw * WEEK_TO_SECOND // HOUR_TO_SECOND)\n",
    "    return abs(fourierTransform(Xi, f, n))\n",
    "\n",
    "def FWH(Lw, T, f= 1/(7*24)):\n",
    "    Xi = aggregate_activity(HOUR_TO_SECOND, T, Lw * WEEK_TO_SECOND)\n",
    "    n = np.arange(Lw * WEEK_TO_SECOND // HOUR_TO_SECOND)\n",
    "    return abs(fourierTransform(Xi, f, n))\n",
    "\n",
    "def FWD(Lw, T, f = 1/7):\n",
    "    Xi = aggregate_activity(DAY_TO_SECOND, T, Lw * WEEK_TO_SECOND)\n",
    "    n = np.arange(Lw * WEEK_TO_SECOND // DAY_TO_SECOND)\n",
    "    return abs(fourierTransform(Xi, f, n))"
   ]
  },
  {
   "cell_type": "code",
   "execution_count": 28,
   "metadata": {
    "ExecuteTime": {
     "end_time": "2020-11-03T13:28:27.767836Z",
     "start_time": "2020-11-03T13:28:27.734632Z"
    }
   },
   "outputs": [],
   "source": [
    "def plotFourier(X, studentID=0):\n",
    "    student = get_rand_student(X, studentID)\n",
    "    T, Lw = get_time(student)\n",
    "    FWD_value = FWD(Lw, T)\n",
    "    fourier_values = \"{:.2f}, {:.2f}, {:.2f}\".format(FDH(Lw, T), FWH(Lw, T),FWD_value)\n",
    "    print(\"FDH, FWH, FWD = \"+fourier_values)\n",
    "    \n",
    "\n",
    "    fig, axes = plt.subplots(nrows=2, ncols=1, figsize=(15,10))\n",
    "    \n",
    "    activity = aggregate_activity(DAY_TO_SECOND, T, Lw * WEEK_TO_SECOND)\n",
    "    days = np.arange(len(activity))\n",
    "    line1 = sns.lineplot(ax = axes[0], x = np.arange(len(activity)), y = activity)\n",
    "    for week in range(7, days[-1], 7):\n",
    "        if week == 7:\n",
    "            axes[0].axvline(x=week, c='gray', ls='--', label=\"Weeks\")\n",
    "        else:\n",
    "            axes[0].axvline(x=week, c='gray', ls='--')\n",
    "    line1.set_title(\"Student activity over the days\") \n",
    "    line1.set_ylabel('Active or not')\n",
    "    line1.set_xlabel('Day')\n",
    "    axes[0].legend()\n",
    "    \n",
    "    freq = np.arange(0.1,0.5,1/70) # step is a multiple of 1/7, the weekly frequency\n",
    "    spectrum = [FWD(Lw, T, f) for f in freq]\n",
    "    line2 = sns.lineplot(ax = axes[1], x = freq, y = spectrum)\n",
    "    axes[1].axvline(x=1/7, label=\"1 / 7\",c='red', ls='--') \n",
    "    line2.set_ylim(0, 15)\n",
    "    line2.set_title(\"Spectrum with FWD = {:.2f}\".format(FWD_value)) \n",
    "    line2.set_ylabel('Spectrum')\n",
    "    line2.set_xlabel('Frequency')\n",
    "    axes[1].legend()\n",
    "    \n"
   ]
  },
  {
   "cell_type": "code",
   "execution_count": 29,
   "metadata": {
    "ExecuteTime": {
     "end_time": "2020-11-03T13:28:34.174806Z",
     "start_time": "2020-11-03T13:28:27.774061Z"
    }
   },
   "outputs": [
    {
     "name": "stdout",
     "output_type": "stream",
     "text": [
      "FDH, FWH, FWD = 38.86, 45.33, 13.09\n"
     ]
    },
    {
     "data": {
      "image/png": "[encoded data removed]",
      "text/plain": [
       "<Figure size 1080x720 with 2 Axes>"
      ]
     },
     "metadata": {},
     "output_type": "display_data"
    }
   ],
   "source": [
    "plotFourier(df_clean,44790)\n",
    "# 44790 13\n",
    "# 11609 4.71"
   ]
  },
  {
   "cell_type": "markdown",
   "metadata": {},
   "source": [
    "### Quizzes\n",
    "\n",
    "Let's first count how many quizzes students complete and then an interesting insight would be to analyze features related to when they complete them."
   ]
  },
  {
   "cell_type": "code",
   "execution_count": 136,
   "metadata": {
    "ExecuteTime": {
     "end_time": "2020-10-30T16:21:07.104226Z",
     "start_time": "2020-10-30T16:21:03.145132Z"
    }
   },
   "outputs": [],
   "source": [
    "columns = [\"AccountUserID\", \"DataPackageID\",\"ProblemID\", \"TimeStamp\", \"EventType\", \"ProblemType\"]\n",
    "\n",
    "# Selecting rows with unique (AccountUserID, ProblemID) pair\n",
    "# Foreach AccountUserId, the subquery assignes an incrementing row number rn for each ProblemId\n",
    "# And the top query only keeps the first one, i.e rn = 1, which is the first event that occured chronologically\n",
    "query = \"\"\"\n",
    "SELECT {columns}\n",
    "FROM (\n",
    "    SELECT {columns}, ROW_NUMBER() OVER(PARTITION BY AccountUserID, ProblemID \n",
    "                                        ORDER BY AccountUserID, ProblemID, TimeStamp) rn\n",
    "    FROM ca_courseware.Problem_Events_with_Info\n",
    "    WHERE DataPackageID in {courses}) t\n",
    "WHERE rn = 1;\n",
    "\"\"\".format(columns=\", \".join(columns), courses=COURSES_ID)\n",
    "quiz_df = addYearColumn(queryDB(query, columns))"
   ]
  },
  {
   "cell_type": "code",
   "execution_count": 61,
   "metadata": {
    "ExecuteTime": {
     "end_time": "2020-10-30T14:58:01.013146Z",
     "start_time": "2020-10-30T14:58:00.966806Z"
    }
   },
   "outputs": [
    {
     "data": {
      "text/html": [
       "<div>\n",
       "<style scoped>\n",
       "    .dataframe tbody tr th:only-of-type {\n",
       "        vertical-align: middle;\n",
       "    }\n",
       "\n",
       "    .dataframe tbody tr th {\n",
       "        vertical-align: top;\n",
       "    }\n",
       "\n",
       "    .dataframe thead th {\n",
       "        text-align: right;\n",
       "    }\n",
       "</style>\n",
       "<table border=\"1\" class=\"dataframe\">\n",
       "  <thead>\n",
       "    <tr style=\"text-align: right;\">\n",
       "      <th></th>\n",
       "      <th>AccountUserID</th>\n",
       "      <th>DataPackageID</th>\n",
       "      <th>ProblemID</th>\n",
       "      <th>TimeStamp</th>\n",
       "      <th>EventType</th>\n",
       "      <th>ProblemType</th>\n",
       "      <th>Year</th>\n",
       "    </tr>\n",
       "  </thead>\n",
       "  <tbody>\n",
       "    <tr>\n",
       "      <th>0</th>\n",
       "      <td>10007</td>\n",
       "      <td>EPFL-AlgebreLineaire-2017_T3</td>\n",
       "      <td>05da88dd254448ffbcd71948d238e620</td>\n",
       "      <td>1510230324</td>\n",
       "      <td>Problem.Check</td>\n",
       "      <td>Quiz</td>\n",
       "      <td>2017</td>\n",
       "    </tr>\n",
       "    <tr>\n",
       "      <th>1</th>\n",
       "      <td>10007</td>\n",
       "      <td>EPFL-AlgebreLineaire-2017_T3</td>\n",
       "      <td>079510d3d45649b0a2e4c8e583bd6d89</td>\n",
       "      <td>1508962827</td>\n",
       "      <td>Problem.Check</td>\n",
       "      <td>Quiz</td>\n",
       "      <td>2017</td>\n",
       "    </tr>\n",
       "    <tr>\n",
       "      <th>2</th>\n",
       "      <td>10007</td>\n",
       "      <td>EPFL-AlgebreLineaire-2017_T3</td>\n",
       "      <td>095186b3538a456aa00261731e4e03f6</td>\n",
       "      <td>1508959141</td>\n",
       "      <td>Problem.Check</td>\n",
       "      <td>Quiz</td>\n",
       "      <td>2017</td>\n",
       "    </tr>\n",
       "    <tr>\n",
       "      <th>3</th>\n",
       "      <td>10007</td>\n",
       "      <td>EPFL-AlgebreLineaire-2017_T3</td>\n",
       "      <td>0aa69a7cb9bd4d729ae369cf3431bcd5</td>\n",
       "      <td>1508961153</td>\n",
       "      <td>Problem.Check</td>\n",
       "      <td>Quiz</td>\n",
       "      <td>2017</td>\n",
       "    </tr>\n",
       "    <tr>\n",
       "      <th>4</th>\n",
       "      <td>10007</td>\n",
       "      <td>EPFL-AlgebreLineaire-2017_T3</td>\n",
       "      <td>0e9e93d7015b4a8bbcb0ce35b3f1fc43</td>\n",
       "      <td>1510173429</td>\n",
       "      <td>Problem.Check</td>\n",
       "      <td>Quiz</td>\n",
       "      <td>2017</td>\n",
       "    </tr>\n",
       "  </tbody>\n",
       "</table>\n",
       "</div>"
      ],
      "text/plain": [
       "  AccountUserID                 DataPackageID  \\\n",
       "0         10007  EPFL-AlgebreLineaire-2017_T3   \n",
       "1         10007  EPFL-AlgebreLineaire-2017_T3   \n",
       "2         10007  EPFL-AlgebreLineaire-2017_T3   \n",
       "3         10007  EPFL-AlgebreLineaire-2017_T3   \n",
       "4         10007  EPFL-AlgebreLineaire-2017_T3   \n",
       "\n",
       "                          ProblemID   TimeStamp      EventType ProblemType  \\\n",
       "0  05da88dd254448ffbcd71948d238e620  1510230324  Problem.Check        Quiz   \n",
       "1  079510d3d45649b0a2e4c8e583bd6d89  1508962827  Problem.Check        Quiz   \n",
       "2  095186b3538a456aa00261731e4e03f6  1508959141  Problem.Check        Quiz   \n",
       "3  0aa69a7cb9bd4d729ae369cf3431bcd5  1508961153  Problem.Check        Quiz   \n",
       "4  0e9e93d7015b4a8bbcb0ce35b3f1fc43  1510173429  Problem.Check        Quiz   \n",
       "\n",
       "   Year  \n",
       "0  2017  \n",
       "1  2017  \n",
       "2  2017  \n",
       "3  2017  \n",
       "4  2017  "
      ]
     },
     "execution_count": 61,
     "metadata": {},
     "output_type": "execute_result"
    }
   ],
   "source": [
    "quiz_df.head()"
   ]
  },
  {
   "cell_type": "markdown",
   "metadata": {},
   "source": [
    "#### Quiz completion\n",
    "\n",
    "\n",
    "| Measure | Meaning | Description |\n",
    "| --- | --- | --- | \n",
    "| NQZ | Number of quiz |Counts the total number of quiz completed by a student over the semester |\n",
    "| PQZ | Percentage of quiz | Counts the percentage of quiz completed by a student over the flipped period|"
   ]
  },
  {
   "cell_type": "markdown",
   "metadata": {},
   "source": [
    "##### NQZ"
   ]
  },
  {
   "cell_type": "markdown",
   "metadata": {},
   "source": [
    "The NQZ feature counts the total number of quiz completed by a student. An issue with this feature is that it takes into account quizzes outside of the flipped period. A better solution would be to assign the percentage of quiz completed (from the flipped period), therefore normalizing the feature at the same time."
   ]
  },
  {
   "cell_type": "code",
   "execution_count": 13,
   "metadata": {
    "ExecuteTime": {
     "end_time": "2020-10-23T10:57:12.094518Z",
     "start_time": "2020-10-23T10:57:12.089739Z"
    },
    "scrolled": false
   },
   "outputs": [],
   "source": [
    "def NQZ(studentID = 0):\n",
    "    if studentID == 0:\n",
    "        studentID = get_rand_id(quiz_df)\n",
    "    return quiz_df[[\"AccountUserID\",\"ProblemID\"]].groupby(\"AccountUserID\").count().loc[str(studentID)][0]"
   ]
  },
  {
   "cell_type": "code",
   "execution_count": 14,
   "metadata": {
    "ExecuteTime": {
     "end_time": "2020-10-23T10:57:12.782720Z",
     "start_time": "2020-10-23T10:57:12.742897Z"
    }
   },
   "outputs": [
    {
     "name": "stdout",
     "output_type": "stream",
     "text": [
      "Random ID: 9701\n",
      "Total number of quiz completed (NQZ) is 156\n"
     ]
    }
   ],
   "source": [
    "print(\"Total number of quiz completed (NQZ) is {}\".format(NQZ()))"
   ]
  },
  {
   "cell_type": "markdown",
   "metadata": {},
   "source": [
    "##### PQZ "
   ]
  },
  {
   "cell_type": "markdown",
   "metadata": {},
   "source": [
    "Define the attributes `End_ts` and `Total_quiz` of the `MOOC` dict "
   ]
  },
  {
   "cell_type": "code",
   "execution_count": 18,
   "metadata": {
    "ExecuteTime": {
     "end_time": "2020-10-23T10:57:33.108486Z",
     "start_time": "2020-10-23T10:57:29.598189Z"
    }
   },
   "outputs": [],
   "source": [
    "# Total number of quizzes included in the flipped period\n",
    "# We assume that every quizzes in the flipped period have been completed \n",
    "# at least once by a student during the flipped period\n",
    "for year in ['2017', '2018']:\n",
    "    \n",
    "    #Compute the end timestamp of the flipped period\n",
    "    start_flipped = MOOC[year]['Start_ts']\n",
    "    end_flipped = start_flipped + timedelta(weeks=MOOC[year]['Flipped_weeks']).total_seconds()\n",
    "    MOOC[year]['End_ts'] = end_flipped\n",
    "    \n",
    "    query = \"\"\"\n",
    "        SELECT COUNT(DISTINCT ProblemID)\n",
    "        FROM ca_courseware.Problem_Events_with_Info\n",
    "        WHERE DataPackageID in {courses}\n",
    "        AND TimeStamp > {start} \n",
    "        AND TimeStamp < {end}\n",
    "    \"\"\".format(courses=COURSES_ID, start= start_flipped, end = end_flipped)\n",
    "    MOOC[year]['Total_quiz'] = queryDB(query, [\"NbProblems\"]).loc[0]['NbProblems']"
   ]
  },
  {
   "cell_type": "code",
   "execution_count": 19,
   "metadata": {
    "ExecuteTime": {
     "end_time": "2020-10-23T10:57:33.992127Z",
     "start_time": "2020-10-23T10:57:33.984938Z"
    },
    "scrolled": false
   },
   "outputs": [],
   "source": [
    "def PQZ(studentID = 0):\n",
    "    if studentID == 0:\n",
    "        studentID = get_rand_id(quiz_df)\n",
    "    temp = list(quiz_df.groupby(by=[\"AccountUserID\", \"Year\"]).count()\\\n",
    "                .loc[str(studentID)].reset_index().iloc[0])\n",
    "    count = temp[1]\n",
    "    year = temp[0]\n",
    "    return  count / MOOC[year]['Total_quiz'], count, MOOC[year]['Total_quiz']"
   ]
  },
  {
   "cell_type": "code",
   "execution_count": 20,
   "metadata": {
    "ExecuteTime": {
     "end_time": "2020-10-23T10:57:35.071947Z",
     "start_time": "2020-10-23T10:57:35.032880Z"
    }
   },
   "outputs": [
    {
     "name": "stdout",
     "output_type": "stream",
     "text": [
      "Random ID: 47496\n",
      "Proportion of quiz completed (PQZ) is 0.66\n",
      "with 228 quizzes completed over 345.\n"
     ]
    }
   ],
   "source": [
    "pqz = PQZ()\n",
    "print(\"\"\"Proportion of quiz completed (PQZ) is {:.2f}\n",
    "with {} quizzes completed over {}.\"\"\".format( pqz[0], pqz[1], pqz[2]))"
   ]
  },
  {
   "cell_type": "markdown",
   "metadata": {},
   "source": [
    "#### Quiz timings\n",
    "\n",
    "| Measure | Meaning | Description |\n",
    "| --- | --- | --- | \n",
    "| IVQ | Interval between Video and Quiz  | Std of time interval between a quiz completion and the corresponding video viewing |\n",
    "| SRQ | Semester Repartition of the Quizzes | Repartition of the quiz completions over the semester |"
   ]
  },
  {
   "cell_type": "markdown",
   "metadata": {},
   "source": [
    "Current issues:\n",
    "* IVQ: \n",
    "    * [x] Consider only the flipped period \n",
    "    * [x] Need to have to chapter of each video and quiz\n",
    "    * [x] Consider only the first video viewing and first quiz completion\n",
    "    * [ ] Analyze the time series\n",
    "\n",
    "* SRQ:\n",
    "    * [x] Consider only the flipped period\n",
    "    * [x] Consider only the first completion of each quiz\n",
    "    * [ ] Analyze the repartition\n"
   ]
  },
  {
   "cell_type": "code",
   "execution_count": 59,
   "metadata": {
    "ExecuteTime": {
     "end_time": "2020-10-30T14:57:52.258707Z",
     "start_time": "2020-10-30T14:57:52.184522Z"
    },
    "scrolled": false
   },
   "outputs": [],
   "source": [
    "PATH_DATED = '../data/lin_alg_moodle/'\n",
    "PATH_DATED_VIDEOS = PATH_DATED + 'videos.csv'\n",
    "PATH_DATED_PROBLEMS = PATH_DATED + 'problems.csv'\n",
    "\n",
    "dated_videos_df = pd.read_csv(PATH_DATED_VIDEOS, index_col=0)\n",
    "dated_problems_df = pd.read_csv(PATH_DATED_PROBLEMS, index_col=0)"
   ]
  },
  {
   "cell_type": "markdown",
   "metadata": {},
   "source": [
    "##### IVQ - Interval between Video and Quiz"
   ]
  },
  {
   "cell_type": "code",
   "execution_count": 111,
   "metadata": {
    "ExecuteTime": {
     "end_time": "2020-10-30T16:05:11.649015Z",
     "start_time": "2020-10-30T16:05:11.554624Z"
    }
   },
   "outputs": [],
   "source": [
    "def getFirstViewings(studentID):\n",
    "    \"\"\"\n",
    "    Filter the video events so that the returned dataframe only contains\n",
    "    the first play event of each different videos viewed by the student with id studentID.\n",
    "    \"\"\"\n",
    "    return df.loc[(df[StudentID] == str(studentID)) & (df.EventType == \"Video.Play\")]\\\n",
    "            .sort_values(by=\"TimeStamp\").drop_duplicates(subset=[\"VideoID\"], keep=\"first\")\\\n",
    "            [[\"AccountUserID\", \"VideoID\", \"Year\", \"TimeStamp\"]]\n",
    "\n",
    "def getFirstCompletions(studentID):\n",
    "    \"\"\"\n",
    "    Filter the problem (=quiz) events so that the returned dataframe only contains\n",
    "    the first completion of each different quizzes done by studentID\n",
    "    \"\"\"\n",
    "    return quiz_df.loc[(quiz_df[StudentID] == str(studentID)) & (quiz_df.EventType == \"Problem.Check\")]\\\n",
    "            .sort_values(by=\"TimeStamp\").drop_duplicates(subset=[\"ProblemID\"], keep=\"first\")\\\n",
    "            [[\"ProblemID\", \"TimeStamp\"]]\n",
    "\n",
    "def mergeOnSubchapter(viewing_df, completion_df):\n",
    "    \"\"\"\n",
    "    Merge the video viewings with the quiz completion for a student.\n",
    "    \"\"\"\n",
    "    # Join on VideoID\n",
    "    return viewing_df.merge(dated_videos_df[[\"VideoID\", \"Subchapter\"]])\\\n",
    "            .merge(dated_problems_df[[\"ProblemID\", \"Subchapter\"]])\\\n",
    "            .rename(columns={\"TimeStamp\":\"TimeStamp_Video\"})\\\n",
    "            .merge(completion_df)\\\n",
    "            .rename(columns={\"TimeStamp\":\"TimeStamp_Quiz\"})\n",
    "\n",
    "def IQR(data):\n",
    "    \"\"\"\n",
    "    Compute the Inter-Quartile Range of an array, that is, the difference between \n",
    "    the third quantile and the first quantile. Thus half the values \n",
    "    are located in this range.\n",
    "    \"\"\"\n",
    "    q3, q1 = np.percentile(data, [75 ,25])\n",
    "    iqr = q3 - q1\n",
    "    return iqr\n",
    "\n",
    "def IVQ(studentID = 0):\n",
    "    \"\"\"\n",
    "    For every completed quiz, compute the time intervals (minutes)\n",
    "    between the first viewing of the video and the quiz completion\n",
    "    and return the interquartile range of the time intervals\n",
    "    \"\"\"\n",
    "    if studentID == 0:\n",
    "        studentID = get_rand_id(quiz_df)\n",
    "    merged_df = mergeOnSubchapter(getFirstViewings(studentID), getFirstCompletions(studentID))\n",
    "    time_intervals = np.array(merged_df.TimeStamp_Quiz - merged_df.TimeStamp_Video)\n",
    "    time_intervals = np.log(time_intervals[time_intervals > 0]) #Only keep positive intervals and convert to minutes\n",
    "    return IQR(time_intervals), time_intervals\n"
   ]
  },
  {
   "cell_type": "code",
   "execution_count": 112,
   "metadata": {
    "ExecuteTime": {
     "end_time": "2020-10-30T16:05:11.839213Z",
     "start_time": "2020-10-30T16:05:11.799081Z"
    }
   },
   "outputs": [],
   "source": [
    "def plot_IVQ(studentID = 0):\n",
    "    ivq, time_intervals = IVQ(studentID)\n",
    "    title = \"\"\"Time intervals with an inter-quartile range of {:.3f} minutes\n",
    "    with {} intervals\n",
    "    \"\"\".format(ivq, len(time_intervals))\n",
    "    sns.boxplot(data=time_intervals)\n",
    "    plt.title(title)\n",
    "    plt.ylabel(\"Time intervals in minutes\")"
   ]
  },
  {
   "cell_type": "code",
   "execution_count": 117,
   "metadata": {
    "ExecuteTime": {
     "end_time": "2020-10-30T16:06:21.049146Z",
     "start_time": "2020-10-30T16:06:20.653496Z"
    }
   },
   "outputs": [
    {
     "data": {
      "image/png": "[encoded data removed]",
      "text/plain": [
       "<Figure size 432x288 with 1 Axes>"
      ]
     },
     "metadata": {},
     "output_type": "display_data"
    }
   ],
   "source": [
    "plot_IVQ(46497)\n",
    "#46497"
   ]
  },
  {
   "cell_type": "code",
   "execution_count": 30,
   "metadata": {
    "ExecuteTime": {
     "end_time": "2020-10-23T10:59:18.528711Z",
     "start_time": "2020-10-23T10:59:18.343894Z"
    },
    "scrolled": false
   },
   "outputs": [
    {
     "data": {
      "text/html": [
       "<div>\n",
       "<style scoped>\n",
       "    .dataframe tbody tr th:only-of-type {\n",
       "        vertical-align: middle;\n",
       "    }\n",
       "\n",
       "    .dataframe tbody tr th {\n",
       "        vertical-align: top;\n",
       "    }\n",
       "\n",
       "    .dataframe thead th {\n",
       "        text-align: right;\n",
       "    }\n",
       "</style>\n",
       "<table border=\"1\" class=\"dataframe\">\n",
       "  <thead>\n",
       "    <tr style=\"text-align: right;\">\n",
       "      <th></th>\n",
       "      <th>0</th>\n",
       "    </tr>\n",
       "  </thead>\n",
       "  <tbody>\n",
       "    <tr>\n",
       "      <th>count</th>\n",
       "      <td>308.000000</td>\n",
       "    </tr>\n",
       "    <tr>\n",
       "      <th>mean</th>\n",
       "      <td>1016.063366</td>\n",
       "    </tr>\n",
       "    <tr>\n",
       "      <th>std</th>\n",
       "      <td>4115.984221</td>\n",
       "    </tr>\n",
       "    <tr>\n",
       "      <th>min</th>\n",
       "      <td>1.783333</td>\n",
       "    </tr>\n",
       "    <tr>\n",
       "      <th>25%</th>\n",
       "      <td>13.916667</td>\n",
       "    </tr>\n",
       "    <tr>\n",
       "      <th>50%</th>\n",
       "      <td>20.850000</td>\n",
       "    </tr>\n",
       "    <tr>\n",
       "      <th>75%</th>\n",
       "      <td>46.816667</td>\n",
       "    </tr>\n",
       "    <tr>\n",
       "      <th>max</th>\n",
       "      <td>32770.916667</td>\n",
       "    </tr>\n",
       "  </tbody>\n",
       "</table>\n",
       "</div>"
      ],
      "text/plain": [
       "                  0\n",
       "count    308.000000\n",
       "mean    1016.063366\n",
       "std     4115.984221\n",
       "min        1.783333\n",
       "25%       13.916667\n",
       "50%       20.850000\n",
       "75%       46.816667\n",
       "max    32770.916667"
      ]
     },
     "execution_count": 30,
     "metadata": {},
     "output_type": "execute_result"
    }
   ],
   "source": [
    "ivq, time_intervals = IVQ(46497)\n",
    "time_intervals.sort()\n",
    "pd.DataFrame(time_intervals).describe()"
   ]
  },
  {
   "cell_type": "markdown",
   "metadata": {},
   "source": [
    "##### SRQ - Semester Repartition of the Quizzes"
   ]
  },
  {
   "cell_type": "code",
   "execution_count": 31,
   "metadata": {
    "ExecuteTime": {
     "end_time": "2020-10-23T10:59:20.580042Z",
     "start_time": "2020-10-23T10:59:20.567736Z"
    }
   },
   "outputs": [],
   "source": [
    "def SRQ(studentID = 0):\n",
    "    \"\"\"\n",
    "    Measures the repartition of the quiz completions. The std (in hours) of the time intervals is computed\n",
    "    aswell as the dates of completions. The smaller the std is, the more regular the student is.\n",
    "    \"\"\"\n",
    "    if studentID == 0:\n",
    "        studentID = get_rand_id(quiz_df)\n",
    "    completion_df = getFirstCompletions(studentID)\n",
    "    completion_df[\"Day\"] = completion_df.TimeStamp.apply(lambda x: convert_to_date(x))\n",
    "    return np.diff(completion_df.TimeStamp.values).std() / 3600, completion_df.Day\n"
   ]
  },
  {
   "cell_type": "code",
   "execution_count": 32,
   "metadata": {
    "ExecuteTime": {
     "end_time": "2020-10-23T10:59:20.915175Z",
     "start_time": "2020-10-23T10:59:20.904992Z"
    }
   },
   "outputs": [],
   "source": [
    "def plot_SRQ(studentID = 0):\n",
    "    if studentID == 0:\n",
    "        studentID = get_rand_id(quiz_df)\n",
    "    year = quiz_df.loc[quiz_df.AccountUserID == str(studentID)].Year.iloc[0]\n",
    "    plt.figure(figsize=(15,5)) \n",
    "    srq, dates = SRQ(studentID)\n",
    "    sns.histplot(data=dates, bins=len(dates))\n",
    "    plt.title(\"First quiz completions with SRQ = {:.2f} hours\".format(srq))\n",
    "    start_date, end_date = convert_to_date(MOOC[year]['Start_ts']), convert_to_date(MOOC[year]['End_ts'])\n",
    "    plt.xlim((start_date, end_date))\n",
    "    "
   ]
  },
  {
   "cell_type": "code",
   "execution_count": 33,
   "metadata": {
    "ExecuteTime": {
     "end_time": "2020-10-23T10:59:22.897351Z",
     "start_time": "2020-10-23T10:59:21.488006Z"
    }
   },
   "outputs": [
    {
     "data": {
      "image/png": "[encoded data removed]",
      "text/plain": [
       "<Figure size 1080x360 with 1 Axes>"
      ]
     },
     "metadata": {
      "needs_background": "light"
     },
     "output_type": "display_data"
    }
   ],
   "source": [
    "studentID = 12275\n",
    "plot_SRQ(studentID)\n",
    "# 47274 early completion\n",
    "# 12275 evenly spread\n",
    "# 10007 2017 example\n",
    "# 46776 30 hours\n",
    "# 47385 56 hours"
   ]
  },
  {
   "cell_type": "markdown",
   "metadata": {},
   "source": [
    "## Wrapper function"
   ]
  },
  {
   "cell_type": "code",
   "execution_count": 71,
   "metadata": {
    "ExecuteTime": {
     "end_time": "2020-11-03T13:53:17.032076Z",
     "start_time": "2020-11-03T13:53:17.021166Z"
    }
   },
   "outputs": [],
   "source": [
    "def compute_feature(feat_func, df, sid = 0):\n",
    "    sid = str(list(df['AccountUserID'].sample(1))[0] if not sid else str(sid))\n",
    "    sdata = df[df['AccountUserID'] == str(sid)]\n",
    "    T = sdata['TimeStamp'].sort_values() - sdata['TimeStamp'].min() #Make timestamps start from 0\n",
    "    # Compute the length (in weeks) of the period covered by the df \n",
    "    # by converting the max timestamp to week since the first timestamp is 0\n",
    "    Lw = T.max() // (3600 * 24 * 7) + 1 \n",
    "    return feat_func(Lw, T) #Compute the feature given in argument"
   ]
  },
  {
   "cell_type": "code",
   "execution_count": 45,
   "metadata": {
    "ExecuteTime": {
     "end_time": "2020-11-03T13:35:53.328181Z",
     "start_time": "2020-11-03T13:35:53.304659Z"
    }
   },
   "outputs": [],
   "source": [
    "wrapper_df = df.loc[(df.TimeStamp > 1509555123) & (df.TimeStamp < 1509555123 + 11 * (3600 * 24 * 7))]"
   ]
  },
  {
   "cell_type": "code",
   "execution_count": 98,
   "metadata": {
    "ExecuteTime": {
     "end_time": "2020-11-03T14:16:00.171772Z",
     "start_time": "2020-11-03T14:15:37.683403Z"
    }
   },
   "outputs": [
    {
     "name": "stdout",
     "output_type": "stream",
     "text": [
      "PDH 32.87657806053738\n",
      "PWD 4.387446768010402\n",
      "FDH 5.940730937535035\n",
      "FWH 7.412258444977648\n",
      "FWD 4.7322015618826185\n",
      "WS1 0.0019305019305019305\n",
      "WS2 0.22012237992683853\n",
      "WS3 0.003141778141778142\n"
     ]
    }
   ],
   "source": [
    "features = [PDH, PWD, FDH, FWH, FWD, WS1, WS2, WS3]\n",
    "for feat in features:\n",
    "    print(feat.__name__, compute_feature(feat, df, 10157))"
   ]
  },
  {
   "cell_type": "code",
   "execution_count": 93,
   "metadata": {
    "ExecuteTime": {
     "end_time": "2020-11-03T14:14:24.206944Z",
     "start_time": "2020-11-03T14:14:18.481805Z"
    }
   },
   "outputs": [
    {
     "data": {
      "text/plain": [
       "0.003141778141778142"
      ]
     },
     "execution_count": 93,
     "metadata": {},
     "output_type": "execute_result"
    }
   ],
   "source": [
    "compute_feature(WS3, df, 10157)"
   ]
  },
  {
   "cell_type": "code",
   "execution_count": 83,
   "metadata": {
    "ExecuteTime": {
     "end_time": "2020-11-03T14:08:54.925274Z",
     "start_time": "2020-11-03T14:08:54.916074Z"
    }
   },
   "outputs": [
    {
     "data": {
      "text/plain": [
       "array([1., 2., 0., 4.])"
      ]
     },
     "execution_count": 83,
     "metadata": {},
     "output_type": "execute_result"
    }
   ],
   "source": [
    "a = [1,2, np.nan, 4]\n",
    "\n",
    "np.nan_to_num(a)"
   ]
  },
  {
   "cell_type": "code",
   "execution_count": 33,
   "metadata": {
    "ExecuteTime": {
     "end_time": "2020-11-03T13:29:18.733655Z",
     "start_time": "2020-11-03T13:29:18.599536Z"
    }
   },
   "outputs": [
    {
     "data": {
      "text/html": [
       "<div>\n",
       "<style scoped>\n",
       "    .dataframe tbody tr th:only-of-type {\n",
       "        vertical-align: middle;\n",
       "    }\n",
       "\n",
       "    .dataframe tbody tr th {\n",
       "        vertical-align: top;\n",
       "    }\n",
       "\n",
       "    .dataframe thead th {\n",
       "        text-align: right;\n",
       "    }\n",
       "</style>\n",
       "<table border=\"1\" class=\"dataframe\">\n",
       "  <thead>\n",
       "    <tr style=\"text-align: right;\">\n",
       "      <th></th>\n",
       "      <th>AccountUserID</th>\n",
       "      <th>DataPackageID</th>\n",
       "      <th>VideoID</th>\n",
       "      <th>TimeStamp</th>\n",
       "      <th>EventType</th>\n",
       "      <th>SeekType</th>\n",
       "      <th>OldTime</th>\n",
       "      <th>CurrentTime</th>\n",
       "      <th>NewTime</th>\n",
       "      <th>OldSpeed</th>\n",
       "      <th>NewSpeed</th>\n",
       "      <th>Year</th>\n",
       "    </tr>\n",
       "  </thead>\n",
       "  <tbody>\n",
       "    <tr>\n",
       "      <th>58628</th>\n",
       "      <td>9893</td>\n",
       "      <td>EPFL-AlgebreLineaire-2017_T3</td>\n",
       "      <td>07df6f849eee47659a13908de0732387</td>\n",
       "      <td>1505394049</td>\n",
       "      <td>Video.Transcript.Translate.EN</td>\n",
       "      <td>None</td>\n",
       "      <td>NaN</td>\n",
       "      <td>NaN</td>\n",
       "      <td>NaN</td>\n",
       "      <td>NaN</td>\n",
       "      <td>NaN</td>\n",
       "      <td>2017</td>\n",
       "    </tr>\n",
       "    <tr>\n",
       "      <th>48666</th>\n",
       "      <td>9893</td>\n",
       "      <td>EPFL-AlgebreLineaire-2017_T3</td>\n",
       "      <td>07df6f849eee47659a13908de0732387</td>\n",
       "      <td>1505394049</td>\n",
       "      <td>Video.Load</td>\n",
       "      <td>None</td>\n",
       "      <td>NaN</td>\n",
       "      <td>NaN</td>\n",
       "      <td>NaN</td>\n",
       "      <td>NaN</td>\n",
       "      <td>NaN</td>\n",
       "      <td>2017</td>\n",
       "    </tr>\n",
       "    <tr>\n",
       "      <th>121159</th>\n",
       "      <td>9893</td>\n",
       "      <td>EPFL-AlgebreLineaire-2017_T3</td>\n",
       "      <td>22c2895963d24114b16c3511befa35d6</td>\n",
       "      <td>1505394600</td>\n",
       "      <td>Video.Load</td>\n",
       "      <td>None</td>\n",
       "      <td>NaN</td>\n",
       "      <td>NaN</td>\n",
       "      <td>NaN</td>\n",
       "      <td>NaN</td>\n",
       "      <td>NaN</td>\n",
       "      <td>2017</td>\n",
       "    </tr>\n",
       "    <tr>\n",
       "      <th>111561</th>\n",
       "      <td>9893</td>\n",
       "      <td>EPFL-AlgebreLineaire-2017_T3</td>\n",
       "      <td>22c2895963d24114b16c3511befa35d6</td>\n",
       "      <td>1505394600</td>\n",
       "      <td>Video.Transcript.Translate.EN</td>\n",
       "      <td>None</td>\n",
       "      <td>NaN</td>\n",
       "      <td>NaN</td>\n",
       "      <td>NaN</td>\n",
       "      <td>NaN</td>\n",
       "      <td>NaN</td>\n",
       "      <td>2017</td>\n",
       "    </tr>\n",
       "    <tr>\n",
       "      <th>84212</th>\n",
       "      <td>9893</td>\n",
       "      <td>EPFL-AlgebreLineaire-2017_T3</td>\n",
       "      <td>22c2895963d24114b16c3511befa35d6</td>\n",
       "      <td>1505394613</td>\n",
       "      <td>Video.Play</td>\n",
       "      <td>None</td>\n",
       "      <td>NaN</td>\n",
       "      <td>0.003</td>\n",
       "      <td>NaN</td>\n",
       "      <td>NaN</td>\n",
       "      <td>NaN</td>\n",
       "      <td>2017</td>\n",
       "    </tr>\n",
       "    <tr>\n",
       "      <th>...</th>\n",
       "      <td>...</td>\n",
       "      <td>...</td>\n",
       "      <td>...</td>\n",
       "      <td>...</td>\n",
       "      <td>...</td>\n",
       "      <td>...</td>\n",
       "      <td>...</td>\n",
       "      <td>...</td>\n",
       "      <td>...</td>\n",
       "      <td>...</td>\n",
       "      <td>...</td>\n",
       "      <td>...</td>\n",
       "    </tr>\n",
       "    <tr>\n",
       "      <th>77516</th>\n",
       "      <td>9893</td>\n",
       "      <td>EPFL-AlgebreLineaire-2017_T3</td>\n",
       "      <td>b8826493ef8c4aaf8dbc6e8380d7233c</td>\n",
       "      <td>1544641173</td>\n",
       "      <td>Video.Stop</td>\n",
       "      <td>None</td>\n",
       "      <td>NaN</td>\n",
       "      <td>1135.900</td>\n",
       "      <td>NaN</td>\n",
       "      <td>NaN</td>\n",
       "      <td>NaN</td>\n",
       "      <td>2017</td>\n",
       "    </tr>\n",
       "    <tr>\n",
       "      <th>38118</th>\n",
       "      <td>9893</td>\n",
       "      <td>EPFL-AlgebreLineaire-2017_T3</td>\n",
       "      <td>4fd37be48f724fedb022617ff08c3817</td>\n",
       "      <td>1544641239</td>\n",
       "      <td>Video.Transcript.Translate.EN</td>\n",
       "      <td>None</td>\n",
       "      <td>NaN</td>\n",
       "      <td>NaN</td>\n",
       "      <td>NaN</td>\n",
       "      <td>NaN</td>\n",
       "      <td>NaN</td>\n",
       "      <td>2017</td>\n",
       "    </tr>\n",
       "    <tr>\n",
       "      <th>21711</th>\n",
       "      <td>9893</td>\n",
       "      <td>EPFL-AlgebreLineaire-2017_T3</td>\n",
       "      <td>4fd37be48f724fedb022617ff08c3817</td>\n",
       "      <td>1544641240</td>\n",
       "      <td>Video.Load</td>\n",
       "      <td>None</td>\n",
       "      <td>NaN</td>\n",
       "      <td>NaN</td>\n",
       "      <td>NaN</td>\n",
       "      <td>NaN</td>\n",
       "      <td>NaN</td>\n",
       "      <td>2017</td>\n",
       "    </tr>\n",
       "    <tr>\n",
       "      <th>11264</th>\n",
       "      <td>9893</td>\n",
       "      <td>EPFL-AlgebreLineaire-2017_T3</td>\n",
       "      <td>4fd37be48f724fedb022617ff08c3817</td>\n",
       "      <td>1544641248</td>\n",
       "      <td>Video.Transcript.Translate.EN</td>\n",
       "      <td>None</td>\n",
       "      <td>NaN</td>\n",
       "      <td>NaN</td>\n",
       "      <td>NaN</td>\n",
       "      <td>NaN</td>\n",
       "      <td>NaN</td>\n",
       "      <td>2017</td>\n",
       "    </tr>\n",
       "    <tr>\n",
       "      <th>93299</th>\n",
       "      <td>9893</td>\n",
       "      <td>EPFL-AlgebreLineaire-2017_T3</td>\n",
       "      <td>4fd37be48f724fedb022617ff08c3817</td>\n",
       "      <td>1544641248</td>\n",
       "      <td>Video.Load</td>\n",
       "      <td>None</td>\n",
       "      <td>NaN</td>\n",
       "      <td>NaN</td>\n",
       "      <td>NaN</td>\n",
       "      <td>NaN</td>\n",
       "      <td>NaN</td>\n",
       "      <td>2017</td>\n",
       "    </tr>\n",
       "  </tbody>\n",
       "</table>\n",
       "<p>3682 rows × 12 columns</p>\n",
       "</div>"
      ],
      "text/plain": [
       "       AccountUserID                 DataPackageID  \\\n",
       "58628           9893  EPFL-AlgebreLineaire-2017_T3   \n",
       "48666           9893  EPFL-AlgebreLineaire-2017_T3   \n",
       "121159          9893  EPFL-AlgebreLineaire-2017_T3   \n",
       "111561          9893  EPFL-AlgebreLineaire-2017_T3   \n",
       "84212           9893  EPFL-AlgebreLineaire-2017_T3   \n",
       "...              ...                           ...   \n",
       "77516           9893  EPFL-AlgebreLineaire-2017_T3   \n",
       "38118           9893  EPFL-AlgebreLineaire-2017_T3   \n",
       "21711           9893  EPFL-AlgebreLineaire-2017_T3   \n",
       "11264           9893  EPFL-AlgebreLineaire-2017_T3   \n",
       "93299           9893  EPFL-AlgebreLineaire-2017_T3   \n",
       "\n",
       "                                 VideoID   TimeStamp  \\\n",
       "58628   07df6f849eee47659a13908de0732387  1505394049   \n",
       "48666   07df6f849eee47659a13908de0732387  1505394049   \n",
       "121159  22c2895963d24114b16c3511befa35d6  1505394600   \n",
       "111561  22c2895963d24114b16c3511befa35d6  1505394600   \n",
       "84212   22c2895963d24114b16c3511befa35d6  1505394613   \n",
       "...                                  ...         ...   \n",
       "77516   b8826493ef8c4aaf8dbc6e8380d7233c  1544641173   \n",
       "38118   4fd37be48f724fedb022617ff08c3817  1544641239   \n",
       "21711   4fd37be48f724fedb022617ff08c3817  1544641240   \n",
       "11264   4fd37be48f724fedb022617ff08c3817  1544641248   \n",
       "93299   4fd37be48f724fedb022617ff08c3817  1544641248   \n",
       "\n",
       "                            EventType SeekType  OldTime  CurrentTime  NewTime  \\\n",
       "58628   Video.Transcript.Translate.EN     None      NaN          NaN      NaN   \n",
       "48666                      Video.Load     None      NaN          NaN      NaN   \n",
       "121159                     Video.Load     None      NaN          NaN      NaN   \n",
       "111561  Video.Transcript.Translate.EN     None      NaN          NaN      NaN   \n",
       "84212                      Video.Play     None      NaN        0.003      NaN   \n",
       "...                               ...      ...      ...          ...      ...   \n",
       "77516                      Video.Stop     None      NaN     1135.900      NaN   \n",
       "38118   Video.Transcript.Translate.EN     None      NaN          NaN      NaN   \n",
       "21711                      Video.Load     None      NaN          NaN      NaN   \n",
       "11264   Video.Transcript.Translate.EN     None      NaN          NaN      NaN   \n",
       "93299                      Video.Load     None      NaN          NaN      NaN   \n",
       "\n",
       "        OldSpeed  NewSpeed  Year  \n",
       "58628        NaN       NaN  2017  \n",
       "48666        NaN       NaN  2017  \n",
       "121159       NaN       NaN  2017  \n",
       "111561       NaN       NaN  2017  \n",
       "84212        NaN       NaN  2017  \n",
       "...          ...       ...   ...  \n",
       "77516        NaN       NaN  2017  \n",
       "38118        NaN       NaN  2017  \n",
       "21711        NaN       NaN  2017  \n",
       "11264        NaN       NaN  2017  \n",
       "93299        NaN       NaN  2017  \n",
       "\n",
       "[3682 rows x 12 columns]"
      ]
     },
     "execution_count": 33,
     "metadata": {},
     "output_type": "execute_result"
    }
   ],
   "source": [
    "df.loc[df.AccountUserID == \"9893\"].sort_values(by=\"TimeStamp\")"
   ]
  },
  {
   "cell_type": "code",
   "execution_count": null,
   "metadata": {},
   "outputs": [],
   "source": []
  },
  {
   "cell_type": "code",
   "execution_count": 34,
   "metadata": {
    "ExecuteTime": {
     "end_time": "2020-11-03T13:29:21.662542Z",
     "start_time": "2020-11-03T13:29:21.650292Z"
    }
   },
   "outputs": [
    {
     "data": {
      "text/plain": [
       "64.89285548941798"
      ]
     },
     "execution_count": 34,
     "metadata": {},
     "output_type": "execute_result"
    }
   ],
   "source": [
    "(1544641248 - 1505394049) / (3600 * 24 * 7)"
   ]
  }
 ],
 "metadata": {
  "kernelspec": {
   "display_name": "Python 3",
   "language": "python",
   "name": "python3"
  },
  "language_info": {
   "codemirror_mode": {
    "name": "ipython",
    "version": 3
   },
   "file_extension": ".py",
   "mimetype": "text/x-python",
   "name": "python",
   "nbconvert_exporter": "python",
   "pygments_lexer": "ipython3",
   "version": "3.7.1"
  },
  "toc": {
   "base_numbering": 1,
   "nav_menu": {},
   "number_sections": true,
   "sideBar": true,
   "skip_h1_title": false,
   "title_cell": "Table of Contents",
   "title_sidebar": "Contents",
   "toc_cell": false,
   "toc_position": {
    "height": "calc(100% - 180px)",
    "left": "10px",
    "top": "150px",
    "width": "255.984375px"
   },
   "toc_section_display": true,
   "toc_window_display": true
  }
 },
 "nbformat": 4,
 "nbformat_minor": 2
}
